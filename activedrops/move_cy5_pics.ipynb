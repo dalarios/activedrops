{
 "cells": [
  {
   "cell_type": "code",
   "execution_count": 3,
   "metadata": {},
   "outputs": [],
   "source": [
    "import os\n",
    "import shutil\n",
    "\n",
    "# Define the source and destination directories\n",
    "source_dir = '../data/012424-kif3_ActiveDROPS-phases/3p5txtl-1p5DNA-1mT_9/Pos2/'  # Replace with the path to your current folder\n",
    "destination_dir = '../data/012424-kif3_ActiveDROPS-phases/3p5txtl-1p5DNA-1mT_9/Pos2-cy5/'  # Replace with the path to the folder where you want to move the files\n",
    "\n",
    "# Check if the destination directory exists, create it if not\n",
    "if not os.path.exists(destination_dir):\n",
    "    os.makedirs(destination_dir)\n",
    "\n",
    "# Iterate over the files in the source directory\n",
    "for filename in os.listdir(source_dir):\n",
    "    # Check if 'cy5' is in the filename\n",
    "    if 'cy5' in filename:\n",
    "        # Construct the full file path\n",
    "        file_path = os.path.join(source_dir, filename)\n",
    "        # Move the file to the destination directory\n",
    "        shutil.move(file_path, destination_dir)\n"
   ]
  },
  {
   "cell_type": "code",
   "execution_count": null,
   "metadata": {},
   "outputs": [],
   "source": []
  }
 ],
 "metadata": {
  "kernelspec": {
   "display_name": "Python 3",
   "language": "python",
   "name": "python3"
  },
  "language_info": {
   "codemirror_mode": {
    "name": "ipython",
    "version": 3
   },
   "file_extension": ".py",
   "mimetype": "text/x-python",
   "name": "python",
   "nbconvert_exporter": "python",
   "pygments_lexer": "ipython3",
   "version": "3.11.5"
  }
 },
 "nbformat": 4,
 "nbformat_minor": 2
}
