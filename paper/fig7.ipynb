{
 "cells": [
  {
   "cell_type": "code",
   "execution_count": 1,
   "metadata": {},
   "outputs": [],
   "source": [
    "## Import relevant libraries\n",
    "import sys\n",
    "import glob\n",
    "\n",
    "sys.path.append('../py_files/')\n",
    "import quadrop2 as qd\n",
    "\n",
    "\n",
    "qd.set_plotting_style()"
   ]
  },
  {
   "cell_type": "markdown",
   "metadata": {},
   "source": [
    "### Data pre-procesing"
   ]
  },
  {
   "cell_type": "code",
   "execution_count": 2,
   "metadata": {},
   "outputs": [],
   "source": [
    "# # Example usage\n",
    "# base_dir = \"../../../Thomson Lab Dropbox/David Larios/activedrops/paper/paper-v2/fig3-assets/\"\n",
    "# qd.consolidate_images(base_dir)"
   ]
  },
  {
   "cell_type": "code",
   "execution_count": 3,
   "metadata": {},
   "outputs": [
    {
     "name": "stdout",
     "output_type": "stream",
     "text": [
      "Warning: ../../../Thomson Lab Dropbox/David Larios/activedrops/paper/figures/fig7-assets/Pos0 does not exist. Skipping.\n",
      "Warning: ../../../Thomson Lab Dropbox/David Larios/activedrops/paper/figures/fig7-assets/Pos1 does not exist. Skipping.\n",
      "Warning: ../../../Thomson Lab Dropbox/David Larios/activedrops/paper/figures/fig7-assets/Pos2 does not exist. Skipping.\n",
      "Conditions: ['K401_Kif3', 'ThTr_K401', 'ThTr_Kif3']\n",
      "Subconditions: ['Rep1']\n"
     ]
    }
   ],
   "source": [
    "# Example usage\n",
    "data_path =  \"../../../Thomson Lab Dropbox/David Larios/activedrops/paper/figures/fig7-assets/\"\n",
    "\n",
    "calibration_curve_paths = sorted(glob.glob(\"../../../Thomson Lab Dropbox/David Larios/activedrops/calibration_curve/***ugml.tif\"))\n",
    "\n",
    "\n",
    "conditions_dict = {\n",
    "    \"K401_Kif3\": \"Pos0\",\n",
    "    \"ThTr_K401\": \"Pos1\",\n",
    "    \"ThTr_Kif3\": \"Pos2\",\n",
    "}\n",
    "\n",
    "# # Organize PosX folders into condition folders\n",
    "qd.organize_conditions(data_path, conditions_dict)\n",
    "\n",
    "# # # Now run the existing functions to reorganize the tiffs and rename the folders\n",
    "conditions, subconditions = qd.prepare_conditions(data_path)\\\n",
    "\n",
    "# conditions = ['K401_MTs', 'Kif3_MTs']\n",
    "\n",
    "time_interval_list = [120, 120, 120]  # time intervals in seconds between frames for each condition\n",
    "\n",
    "print(\"Conditions:\", conditions)\n",
    "print(\"Subconditions:\", subconditions)\n"
   ]
  },
  {
   "cell_type": "code",
   "execution_count": null,
   "metadata": {},
   "outputs": [],
   "source": [
    "qd.reorgTiffsToOriginal(data_path, conditions, subconditions)\n"
   ]
  },
  {
   "cell_type": "markdown",
   "metadata": {},
   "source": [
    "### Generate movies"
   ]
  },
  {
   "cell_type": "code",
   "execution_count": 4,
   "metadata": {},
   "outputs": [
    {
     "name": "stderr",
     "output_type": "stream",
     "text": [
      "Processing K401_Kif3 - Rep1: 100%|██████████| 734/734 [03:02<00:00,  4.02it/s]\n",
      "Processing ThTr_K401 - Rep1: 100%|██████████| 750/750 [02:41<00:00,  4.64it/s]\n",
      "Processing ThTr_Kif3 - Rep1: 100%|██████████| 1107/1107 [03:30<00:00,  5.25it/s]\n"
     ]
    }
   ],
   "source": [
    "\n",
    "qd.fluorescence_heatmap(\n",
    "    data_path,\n",
    "    conditions,\n",
    "    subconditions,\n",
    "    channel=\"cy5\",\n",
    "    time_interval_list=time_interval_list,\n",
    "    vmax=16,\n",
    "    skip_frames=1,\n",
    "    calibration_curve_paths=calibration_curve_paths,\n",
    "    show_scalebar=False,\n",
    ")"
   ]
  },
  {
   "cell_type": "code",
   "execution_count": null,
   "metadata": {},
   "outputs": [],
   "source": [
    "# Example usage\n",
    "qd.create_movies(\n",
    "    data_path, \n",
    "    conditions, \n",
    "    subconditions, \n",
    "    channel='cy5', \n",
    "    frame_rate=90,\n",
    "    skip_frames=1\n",
    "    )\n"
   ]
  },
  {
   "cell_type": "code",
   "execution_count": 6,
   "metadata": {},
   "outputs": [
    {
     "name": "stdout",
     "output_type": "stream",
     "text": [
      "Creating video with duration: 9.22 seconds.\n"
     ]
    },
    {
     "name": "stderr",
     "output_type": "stream",
     "text": [
      "Creating combined frames: 100%|██████████| 1107/1107 [05:37<00:00,  3.28it/s]\n"
     ]
    },
    {
     "name": "stdout",
     "output_type": "stream",
     "text": [
      "Combined video saved to ../../../Thomson Lab Dropbox/David Larios/activedrops/paper/figures/fig7-assets/output_data/movies/combined_heatmap_movie_cy5_120fps_1107frames.avi\n"
     ]
    }
   ],
   "source": [
    "qd.create_combined_heatmap_movie_custom_grid(\n",
    "    data_path, \n",
    "    conditions, \n",
    "    subconditions, \n",
    "    channel='cy5', \n",
    "    grid_rows=3, \n",
    "    grid_cols=1, \n",
    "    frame_rate=120,\n",
    "    batch_size=50\n",
    "    )\n"
   ]
  },
  {
   "cell_type": "code",
   "execution_count": null,
   "metadata": {},
   "outputs": [],
   "source": []
  },
  {
   "cell_type": "markdown",
   "metadata": {},
   "source": []
  }
 ],
 "metadata": {
  "kernelspec": {
   "display_name": "base",
   "language": "python",
   "name": "python3"
  },
  "language_info": {
   "codemirror_mode": {
    "name": "ipython",
    "version": 3
   },
   "file_extension": ".py",
   "mimetype": "text/x-python",
   "name": "python",
   "nbconvert_exporter": "python",
   "pygments_lexer": "ipython3",
   "version": "3.11.5"
  }
 },
 "nbformat": 4,
 "nbformat_minor": 2
}
