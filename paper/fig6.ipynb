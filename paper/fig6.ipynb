{
 "cells": [
  {
   "cell_type": "code",
   "execution_count": 1,
   "metadata": {},
   "outputs": [],
   "source": [
    "## Import relevant libraries\n",
    "import sys\n",
    "import glob\n",
    "\n",
    "sys.path.append('../py_files/')\n",
    "import quadrop2 as qd\n",
    "\n",
    "\n",
    "qd.set_plotting_style()"
   ]
  },
  {
   "cell_type": "markdown",
   "metadata": {},
   "source": [
    "### Data pre-procesing"
   ]
  },
  {
   "cell_type": "code",
   "execution_count": 2,
   "metadata": {},
   "outputs": [],
   "source": [
    "# # Example usage\n",
    "# base_dir = \"../../../Thomson Lab Dropbox/David Larios/activedrops/paper/paper-v2/fig3-assets/\"\n",
    "# qd.consolidate_images(base_dir)"
   ]
  },
  {
   "cell_type": "code",
   "execution_count": 3,
   "metadata": {},
   "outputs": [
    {
     "name": "stdout",
     "output_type": "stream",
     "text": [
      "Warning: ../../../Thomson Lab Dropbox/David Larios/activedrops/paper/figures/fig6-assets/Pos0 does not exist. Skipping.\n",
      "Warning: ../../../Thomson Lab Dropbox/David Larios/activedrops/paper/figures/fig6-assets/Pos1 does not exist. Skipping.\n",
      "Warning: ../../../Thomson Lab Dropbox/David Larios/activedrops/paper/figures/fig6-assets/Pos2 does not exist. Skipping.\n",
      "Warning: ../../../Thomson Lab Dropbox/David Larios/activedrops/paper/figures/fig6-assets/Pos3 does not exist. Skipping.\n",
      "Warning: ../../../Thomson Lab Dropbox/David Larios/activedrops/paper/figures/fig6-assets/Pos4 does not exist. Skipping.\n",
      "Warning: ../../../Thomson Lab Dropbox/David Larios/activedrops/paper/figures/fig6-assets/Pos5 does not exist. Skipping.\n",
      "Warning: ../../../Thomson Lab Dropbox/David Larios/activedrops/paper/figures/fig6-assets/Pos6 does not exist. Skipping.\n",
      "Conditions: ['ThTr', 'ThTr_FtsZ-ZapFtsAT7', 'ThTr_FtsZ-ZapFtsAT7-dapi', 'ThTr_FtsZ-cy5', 'ThTr_FtsZ-dapi', 'ThTr_PRC1', 'ThTr_Tau']\n",
      "Subconditions: ['Rep1']\n"
     ]
    }
   ],
   "source": [
    "# Example usage\n",
    "data_path =  \"../../../Thomson Lab Dropbox/David Larios/activedrops/paper/figures/fig6-assets/\"\n",
    "\n",
    "calibration_curve_paths = sorted(glob.glob(\"../../../Thomson Lab Dropbox/David Larios/activedrops/calibration_curve/***ugml.tif\"))\n",
    "\n",
    "\n",
    "conditions_dict = {\n",
    "    \"ThTr_FtsZ-cy5\": \"Pos0\",\n",
    "    \"ThTr_FtsZ-dapi\": \"Pos1\",\n",
    "    \"ThTr_FtsZ-ZapFtsAT7\": \"Pos2\",\n",
    "    \"ThTr_FtsZ-ZapFtsAT7-dapi\": \"Pos3\",\n",
    "    \"ThTr_PRC1\": \"Pos4\",\n",
    "    \"ThTr\": \"Pos5\",\n",
    "    \"ThTr_Tau\": \"Pos6\"\n",
    "}\n",
    "\n",
    "# # Organize PosX folders into condition folders\n",
    "qd.organize_conditions(data_path, conditions_dict)\n",
    "\n",
    "# # # Now run the existing functions to reorganize the tiffs and rename the folders\n",
    "conditions, subconditions = qd.prepare_conditions(data_path)\\\n",
    "\n",
    "# conditions = ['K401_MTs', 'Kif3_MTs']\n",
    "\n",
    "time_interval_list = [120] * len(conditions)   # time intervals in seconds between frames for each condition\n",
    "\n",
    "print(\"Conditions:\", conditions)\n",
    "print(\"Subconditions:\", subconditions)\n"
   ]
  },
  {
   "cell_type": "code",
   "execution_count": 4,
   "metadata": {},
   "outputs": [
    {
     "name": "stdout",
     "output_type": "stream",
     "text": [
      "Moved .tif files from ../../../Thomson Lab Dropbox/David Larios/activedrops/paper/figures/fig6-assets/ThTr/Rep1 to ../../../Thomson Lab Dropbox/David Larios/activedrops/paper/figures/fig6-assets/ThTr/Rep1/original\n",
      "Moved .tif files from ../../../Thomson Lab Dropbox/David Larios/activedrops/paper/figures/fig6-assets/ThTr_FtsZ-ZapFtsAT7/Rep1 to ../../../Thomson Lab Dropbox/David Larios/activedrops/paper/figures/fig6-assets/ThTr_FtsZ-ZapFtsAT7/Rep1/original\n",
      "Moved .tif files from ../../../Thomson Lab Dropbox/David Larios/activedrops/paper/figures/fig6-assets/ThTr_FtsZ-ZapFtsAT7-dapi/Rep1 to ../../../Thomson Lab Dropbox/David Larios/activedrops/paper/figures/fig6-assets/ThTr_FtsZ-ZapFtsAT7-dapi/Rep1/original\n",
      "Moved .tif files from ../../../Thomson Lab Dropbox/David Larios/activedrops/paper/figures/fig6-assets/ThTr_FtsZ-cy5/Rep1 to ../../../Thomson Lab Dropbox/David Larios/activedrops/paper/figures/fig6-assets/ThTr_FtsZ-cy5/Rep1/original\n",
      "Moved .tif files from ../../../Thomson Lab Dropbox/David Larios/activedrops/paper/figures/fig6-assets/ThTr_FtsZ-dapi/Rep1 to ../../../Thomson Lab Dropbox/David Larios/activedrops/paper/figures/fig6-assets/ThTr_FtsZ-dapi/Rep1/original\n",
      "Moved .tif files from ../../../Thomson Lab Dropbox/David Larios/activedrops/paper/figures/fig6-assets/ThTr_PRC1/Rep1 to ../../../Thomson Lab Dropbox/David Larios/activedrops/paper/figures/fig6-assets/ThTr_PRC1/Rep1/original\n",
      "Moved .tif files from ../../../Thomson Lab Dropbox/David Larios/activedrops/paper/figures/fig6-assets/ThTr_Tau/Rep1 to ../../../Thomson Lab Dropbox/David Larios/activedrops/paper/figures/fig6-assets/ThTr_Tau/Rep1/original\n"
     ]
    }
   ],
   "source": [
    "qd.reorgTiffsToOriginal(data_path, conditions, subconditions)\n"
   ]
  },
  {
   "cell_type": "markdown",
   "metadata": {},
   "source": [
    "### Generate movies"
   ]
  },
  {
   "cell_type": "code",
   "execution_count": null,
   "metadata": {},
   "outputs": [],
   "source": [
    "conditions= [\n",
    "    'ThTr',\n",
    "    'ThTr_FtsZ-ZapFtsAT7',\n",
    "    'ThTr_FtsZ-ZapFtsAT7-dapi',\n",
    "    'ThTr_FtsZ-cy5',\n",
    "    'ThTr_FtsZ-dapi',\n",
    "    'ThTr_PRC1',\n",
    "    'ThTr_Tau'\n",
    " ]"
   ]
  },
  {
   "cell_type": "code",
   "execution_count": null,
   "metadata": {},
   "outputs": [],
   "source": [
    "\n",
    "vmax_list = [16, 10, 175, 10, 175, 18, 12]\n"
   ]
  },
  {
   "cell_type": "code",
   "execution_count": null,
   "metadata": {},
   "outputs": [],
   "source": [
    "# given\n",
    "# conditions = [\"BBB\", \"BBO\", ...]  # 7 items\n",
    "# subconditions = [\"Rep1\"]          # 1 item\n",
    "# vmax_list = [800, 1200, ...]      # 7 items\n",
    "\n",
    "vmax_map = {f\"{cond}:{subconditions[0]}\": vmax for cond, vmax in zip(conditions, vmax_list)}\n",
    "\n",
    "qd.fluorescence_heatmap(\n",
    "    data_path,\n",
    "    conditions,\n",
    "    subconditions,\n",
    "    channel=\"cy5\",\n",
    "    time_interval_list=time_interval_list,\n",
    "    vmax=vmax_map,\n",
    "    skip_frames=2,\n",
    "    calibration_curve_paths=calibration_curve_paths,\n",
    "    show_scalebar=False,\n",
    ")"
   ]
  },
  {
   "cell_type": "code",
   "execution_count": null,
   "metadata": {},
   "outputs": [],
   "source": [
    "# given\n",
    "# conditions = [\"BBB\", \"BBO\", ...]  # 7 items\n",
    "# subconditions = [\"Rep1\"]          # 1 item\n",
    "# vmax_list = [800, 1200, ...]      # 7 items\n",
    "\n",
    "vmax_map = {f\"{cond}:{subconditions[0]}\": vmax for cond, vmax in zip(conditions, vmax_list)}\n",
    "\n",
    "qd.fluorescence_heatmap(\n",
    "    data_path, \n",
    "    conditions, \n",
    "    subconditions,\n",
    "    channel=\"DAPI\",\n",
    "    time_interval_list=time_interval_list,\n",
    "    vmax=170,\n",
    "    skip_frames=2,\n",
    "    calibration_curve_paths=calibration_curve_paths,\n",
    "    show_scalebar=False,\n",
    ")"
   ]
  },
  {
   "cell_type": "code",
   "execution_count": null,
   "metadata": {},
   "outputs": [],
   "source": [
    "conditions"
   ]
  },
  {
   "cell_type": "code",
   "execution_count": null,
   "metadata": {},
   "outputs": [],
   "source": [
    "# Example usage\n",
    "qd.create_movies(\n",
    "    data_path, \n",
    "    conditions, \n",
    "    subconditions, \n",
    "    channel='cy5', \n",
    "    frame_rate=60,\n",
    "    skip_frames=1\n",
    "    )\n"
   ]
  },
  {
   "cell_type": "code",
   "execution_count": null,
   "metadata": {},
   "outputs": [],
   "source": [
    "conditions= [\n",
    "    'ThTr',\n",
    "    'ThTr_FtsZ-ZapFtsAT7',\n",
    "    'ThTr_FtsZ-ZapFtsAT7-dapi',\n",
    "    'ThTr_FtsZ-cy5',\n",
    "    'ThTr_FtsZ-dapi',\n",
    "    'ThTr_PRC1',\n",
    "    'ThTr_Tau'\n",
    " ]"
   ]
  },
  {
   "cell_type": "code",
   "execution_count": 5,
   "metadata": {},
   "outputs": [],
   "source": [
    "conditions= [\n",
    "    'ThTr',\n",
    "    'ThTr_PRC1',\n",
    "    'ThTr_Tau',\n",
    "    'ThTr_FtsZ-cy5',\n",
    "    'ThTr_FtsZ-ZapFtsAT7',\n",
    "    'ThTr_FtsZ-ZapFtsAT7-dapi',\n",
    " ]"
   ]
  },
  {
   "cell_type": "code",
   "execution_count": 7,
   "metadata": {},
   "outputs": [
    {
     "name": "stdout",
     "output_type": "stream",
     "text": [
      "Creating video with duration: 18.47 seconds.\n"
     ]
    },
    {
     "name": "stderr",
     "output_type": "stream",
     "text": [
      "Creating combined frames: 100%|██████████| 554/554 [04:48<00:00,  1.92it/s]\n"
     ]
    },
    {
     "name": "stdout",
     "output_type": "stream",
     "text": [
      "Combined video saved to ../../../Thomson Lab Dropbox/David Larios/activedrops/paper/figures/fig6-assets/output_data/movies/combined_heatmap_movie_cy5_30fps_554frames.avi\n"
     ]
    }
   ],
   "source": [
    "qd.create_combined_heatmap_movie_custom_grid(\n",
    "    data_path, \n",
    "    conditions, \n",
    "    subconditions, \n",
    "    channel='cy5', \n",
    "    grid_rows=2, \n",
    "    grid_cols=3, \n",
    "    frame_rate=30,\n",
    "    batch_size=50\n",
    "    )\n"
   ]
  },
  {
   "cell_type": "code",
   "execution_count": null,
   "metadata": {},
   "outputs": [],
   "source": []
  },
  {
   "cell_type": "markdown",
   "metadata": {},
   "source": []
  }
 ],
 "metadata": {
  "kernelspec": {
   "display_name": "base",
   "language": "python",
   "name": "python3"
  },
  "language_info": {
   "codemirror_mode": {
    "name": "ipython",
    "version": 3
   },
   "file_extension": ".py",
   "mimetype": "text/x-python",
   "name": "python",
   "nbconvert_exporter": "python",
   "pygments_lexer": "ipython3",
   "version": "3.11.5"
  }
 },
 "nbformat": 4,
 "nbformat_minor": 2
}
