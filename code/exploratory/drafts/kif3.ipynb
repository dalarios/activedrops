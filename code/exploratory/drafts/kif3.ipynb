{
 "cells": [
  {
   "cell_type": "code",
   "execution_count": null,
   "metadata": {},
   "outputs": [],
   "source": [
    "## Import relevant libraries\n",
    "import sys\n",
    "sys.path.append('../../activedrops')\n",
    "import pivdrops\n",
    "import viz\n",
    "pivdrops.set_plotting_style()"
   ]
  },
  {
   "cell_type": "code",
   "execution_count": null,
   "metadata": {},
   "outputs": [],
   "source": [
    "# Example usage\n",
    "data_path = \"../../data/kif3_phases_piv/\"\n",
    "conditions = [\"DNA40nM_MT20uM\", \"DNA60nM_MT20uM\", \"DNA80nM_MT20uM\"]\n",
    "subconditions = [\"Pos0\", \"Pos1\", \"Pos2\"]\n",
    "min_frame = 0\n",
    "max_frame = 1399\n",
    "time_interval=3\n",
    "skip_frames=32\n",
    "frame_rate=30\n",
    "\n"
   ]
  },
  {
   "cell_type": "code",
   "execution_count": null,
   "metadata": {},
   "outputs": [],
   "source": [
    "# Call the function with the updated parameters\n",
    "viz.plot_fluorescence_vs_time(\n",
    "    data_path=data_path,\n",
    "    conditions=conditions,\n",
    "    subconditions=subconditions,\n",
    "    channel=\"gfp\",\n",
    "    time_interval=time_interval,  \n",
    "    min_frame=min_frame,\n",
    "    max_frame=max_frame,\n",
    "    skip_frames=skip_frames,\n",
    "    log_scale=False  # Set log_scale to True\n",
    ")\n"
   ]
  },
  {
   "cell_type": "code",
   "execution_count": null,
   "metadata": {},
   "outputs": [],
   "source": [
    "viz.process_all_conditions_and_subconditions(\n",
    "    data_path=data_path,\n",
    "    conditions=conditions,\n",
    "    subconditions=subconditions,\n",
    "    channel=\"gfp\",\n",
    "    movie_type='single',\n",
    "    time_interval=time_interval,  # Adjust as needed\n",
    "    skip_frames=skip_frames,\n",
    "    vmax=1,  # Adjust as needed\n",
    "    frame_rate=frame_rate,  # Adjust as needed\n",
    "    min_frame=0,\n",
    "    max_frame=max_frame,\n",
    ")\n"
   ]
  },
  {
   "cell_type": "code",
   "execution_count": null,
   "metadata": {},
   "outputs": [],
   "source": [
    "viz.grid_heatmaps(data_path, conditions, subconditions, \"gfp\")"
   ]
  },
  {
   "cell_type": "code",
   "execution_count": null,
   "metadata": {},
   "outputs": [],
   "source": [
    "viz.create_movies_grid(data_path, 'gfp', frame_rate)"
   ]
  },
  {
   "cell_type": "code",
   "execution_count": null,
   "metadata": {},
   "outputs": [],
   "source": [
    "m11, p11 = pivdrops.process_piv_data(data_path, conditions[0], subconditions[0], min_frame=min_frame, max_frame=max_frame, plot_autocorrelation=False)\n",
    "m12, p12 = pivdrops.process_piv_data(data_path, conditions[0], subconditions[1], min_frame=min_frame, max_frame=max_frame, plot_autocorrelation=False)\n",
    "m13, p13 = pivdrops.process_piv_data(data_path, conditions[0], subconditions[2], min_frame=min_frame, max_frame=max_frame, plot_autocorrelation=False)\n",
    "\n",
    "m21, p21 = pivdrops.process_piv_data(data_path, conditions[1], subconditions[0], min_frame=min_frame, max_frame=max_frame, plot_autocorrelation=False)\n",
    "m22, p22 = pivdrops.process_piv_data(data_path, conditions[1], subconditions[1], min_frame=min_frame, max_frame=max_frame, plot_autocorrelation=False)\n",
    "m23, p23 = pivdrops.process_piv_data(data_path, conditions[1], subconditions[2], min_frame=min_frame, max_frame=max_frame, plot_autocorrelation=False)\n",
    "\n",
    "m31, p31 = pivdrops.process_piv_data(data_path, conditions[2], subconditions[0], min_frame=min_frame, max_frame=max_frame, plot_autocorrelation=False)\n",
    "m32, p32 = pivdrops.process_piv_data(data_path, conditions[2], subconditions[1], min_frame=min_frame, max_frame=max_frame, plot_autocorrelation=False)\n",
    "m33, p33 = pivdrops.process_piv_data(data_path, conditions[2], subconditions[2], min_frame=min_frame, max_frame=max_frame, plot_autocorrelation=False)\n",
    "\n",
    "\n",
    "import os\n",
    "# Create the directory if it doesn't exist\n",
    "m1 = (m11 + m12 + m13) / 3\n",
    "# save dataframe to data_path / conditions[0] \n",
    "os.makedirs(data_path + conditions[0] + '/averaged', exist_ok=True)\n",
    "m1.to_csv(f\"{data_path}{conditions[0]}/averaged/{conditions[0]}_average.csv\")\n",
    "\n",
    "m2 = (m21 + m22 + m23) / 3\n",
    "# save dataframe to data_path / conditions[1]\n",
    "os.makedirs(data_path + conditions[1] + '/averaged', exist_ok=True)\n",
    "m2.to_csv(f\"{data_path}{conditions[1]}/averaged/{conditions[1]}_average.csv\")\n",
    "\n",
    "m3 = (m31 + m32 + m33) / 3\n",
    "# save dataframe to data_path / conditions[2]\n",
    "os.makedirs(data_path + conditions[2] + '/averaged', exist_ok=True)\n",
    "m3.to_csv(f\"{data_path}{conditions[2]}/averaged/{conditions[2]}_average.csv\")\n",
    "\n",
    "\n",
    "\n",
    "# pivdrops.process_and_average_piv_data(data_path, conditions, subconditions, min_frame, max_frame, plot_autocorrelation=False)\n"
   ]
  },
  {
   "cell_type": "code",
   "execution_count": null,
   "metadata": {},
   "outputs": [],
   "source": [
    "features_pca = [\n",
    "    # \"data type [-]_mean\", \n",
    "    \"vorticity [1/s]_mean\",\t\n",
    "    \"velocity magnitude [um/s]\", \n",
    "    \"divergence [1/s]_mean\", \n",
    "    # \"dcev [1]_mean\", \n",
    "    \"shear [1/s]_mean\", \n",
    "    \"strain [1/s]_mean\", \n",
    "    # \"vector direction [degrees]_mean\", \n",
    "    \"correlation length [um]\", \n",
    "    \"power [W]_mean\",\n",
    "    \"work [J]\", \n",
    "    ]\n",
    "\n",
    "pivdrops.plot_features(\n",
    "    [data_path, data_path, data_path, ], \n",
    "    [conditions[0], conditions[0], conditions[0], ],\n",
    "    [subconditions[0], subconditions[1], subconditions[2],],\n",
    "    features_pca, \n",
    "    time_intervals=[3, 3, 3,], \n",
    "    sigma=10,  \n",
    "    min_frame=0, \n",
    "    max_frame=None,\n",
    "    )\n",
    "\n",
    "pivdrops.plot_features(\n",
    "    [data_path, data_path, data_path, ], \n",
    "    [conditions[1], conditions[1], conditions[1], ],\n",
    "    [subconditions[0], subconditions[1], subconditions[2],],\n",
    "    features_pca, \n",
    "    time_intervals=[3, 3, 3,], \n",
    "    sigma=10,  \n",
    "    min_frame=0, \n",
    "    max_frame=None,\n",
    "    )\n",
    "\n",
    "pivdrops.plot_features(\n",
    "    [data_path, data_path, data_path, ], \n",
    "    [conditions[2], conditions[2], conditions[2], ],\n",
    "    [subconditions[0], subconditions[1], subconditions[2],],\n",
    "    features_pca, \n",
    "    time_intervals=[3, 3, 3,], \n",
    "    sigma=10,  \n",
    "    min_frame=0, \n",
    "    max_frame=None,\n",
    "    )"
   ]
  },
  {
   "cell_type": "code",
   "execution_count": null,
   "metadata": {},
   "outputs": [],
   "source": [
    "features_pca = [\n",
    "    # \"data type [-]_mean\", \n",
    "    \"vorticity [1/s]_mean\",\t\n",
    "    \"velocity magnitude [um/s]\", \n",
    "    \"divergence [1/s]_mean\", \n",
    "    # \"dcev [1]_mean\", \n",
    "    \"shear [1/s]_mean\", \n",
    "    \"strain [1/s]_mean\", \n",
    "    # \"vector direction [degrees]_mean\", \n",
    "    \"correlation length [um]\", \n",
    "    \"power [W]_mean\",\n",
    "    \"work [J]\", \n",
    "    ]\n",
    "\n",
    "pivdrops.plot_features(\n",
    "    [data_path, data_path, data_path, data_path, data_path, data_path, data_path, data_path, data_path], \n",
    "    [conditions[0], conditions[0], conditions[0], conditions[1], conditions[1], conditions[1], conditions[2], conditions[2], conditions[2],],\n",
    "    [subconditions[0], subconditions[1], subconditions[2], subconditions[0], subconditions[1], subconditions[2], subconditions[0], subconditions[1], subconditions[2],],\n",
    "    features_pca, \n",
    "    time_intervals=[3, 3, 3, 3, 3, 3, 3, 3, 3], \n",
    "    sigma=10,  \n",
    "    min_frame=0, \n",
    "    max_frame=None,\n",
    "    )"
   ]
  },
  {
   "cell_type": "code",
   "execution_count": null,
   "metadata": {},
   "outputs": [],
   "source": [
    "features_pca = [\n",
    "    # \"data type [-]_mean\", \n",
    "    \"vorticity [1/s]_mean\",\t\n",
    "    \"velocity magnitude [um/s]\", \n",
    "    \"divergence [1/s]_mean\", \n",
    "    # \"dcev [1]_mean\", \n",
    "    \"shear [1/s]_mean\", \n",
    "    \"strain [1/s]_mean\", \n",
    "    # \"vector direction [degrees]_mean\", \n",
    "    \"correlation length [um]\", \n",
    "    \"power [W]_mean\",\n",
    "    \"work [J]\", \n",
    "    ]\n",
    "\n",
    "pivdrops.plot_features_averages(\n",
    "    [data_path, data_path, data_path], \n",
    "    [conditions[0], conditions[1], conditions[2],],\n",
    "    ['averaged', 'averaged', 'averaged',],\n",
    "    features_pca, \n",
    "    time_intervals=[3, 3, 3, 3, 3, 3, 3, 3, 3], \n",
    "    sigma=10,  \n",
    "    min_frame=0, \n",
    "    max_frame=None,\n",
    "    )"
   ]
  },
  {
   "cell_type": "code",
   "execution_count": null,
   "metadata": {},
   "outputs": [],
   "source": [
    "for condition in conditions:\n",
    "    for subcondition in subconditions:\n",
    "        pivdrops.convert_images(data_path, condition, subcondition, max_frame=max_frame)\n"
   ]
  },
  {
   "cell_type": "code",
   "execution_count": null,
   "metadata": {},
   "outputs": [],
   "source": [
    "v = 2E-6\n",
    "velocity_limits = (0, v)\n",
    "other_limits = (-0.0005, 0.0005)\n",
    "\n",
    "\n",
    "# velocity_limits = (None, None)\n",
    "# other_limits = (None, None)\n",
    "\n",
    "feature_limits = {\n",
    "    'u [m/s]': (-v, v), \n",
    "    'v [m/s]': (-v, v), \n",
    "    'data type [-]': (None, None),\n",
    "    'velocity magnitude [m/s]': velocity_limits,\n",
    "    'vorticity [1/s]': other_limits,\n",
    "    'divergence [1/s]': other_limits,\n",
    "    'dcev [1]': (0, 250),\n",
    "    'shear [1/s]': other_limits,\n",
    "    'strain [1/s]': other_limits,\n",
    "    'vector direction [degrees]': (-180, 180),\n",
    "}\n",
    "\n",
    "\n",
    "pivdrops.piv_heatmap(p11, data_path, conditions[0], subconditions[0], feature_limits, time_interval=3)\n",
    "pivdrops.piv_heatmap(p12, data_path, conditions[0], subconditions[1], feature_limits, time_interval=3)\n",
    "pivdrops.piv_heatmap(p13, data_path, conditions[0], subconditions[2], feature_limits, time_interval=3)\n",
    "\n",
    "pivdrops.piv_heatmap(p21, data_path, conditions[1], subconditions[0], feature_limits, time_interval=3)\n",
    "pivdrops.piv_heatmap(p22, data_path, conditions[1], subconditions[1], feature_limits, time_interval=3)\n",
    "pivdrops.piv_heatmap(p23, data_path, conditions[1], subconditions[2], feature_limits, time_interval=3)\n",
    "\n",
    "pivdrops.piv_heatmap(p31, data_path, conditions[2], subconditions[0], feature_limits, time_interval=3)\n",
    "pivdrops.piv_heatmap(p32, data_path, conditions[2], subconditions[1], feature_limits, time_interval=3)\n",
    "pivdrops.piv_heatmap(p33, data_path, conditions[2], subconditions[2], feature_limits, time_interval=3)\n"
   ]
  },
  {
   "cell_type": "code",
   "execution_count": null,
   "metadata": {},
   "outputs": [],
   "source": [
    "pivdrops.create_heatmap_movies(data_path, conditions[0], subconditions[0], feature_limits)\n",
    "pivdrops.create_heatmap_movies(data_path, conditions[0], subconditions[1], feature_limits)\n",
    "pivdrops.create_heatmap_movies(data_path, conditions[0], subconditions[2], feature_limits)\n",
    "\n",
    "pivdrops.create_heatmap_movies(data_path, conditions[1], subconditions[0], feature_limits)\n",
    "pivdrops.create_heatmap_movies(data_path, conditions[1], subconditions[1], feature_limits)\n",
    "pivdrops.create_heatmap_movies(data_path, conditions[1], subconditions[2], feature_limits)\n",
    "\n",
    "pivdrops.create_heatmap_movies(data_path, conditions[2], subconditions[0], feature_limits)\n",
    "pivdrops.create_heatmap_movies(data_path, conditions[2], subconditions[1], feature_limits)\n",
    "pivdrops.create_heatmap_movies(data_path, conditions[2], subconditions[2], feature_limits)\n",
    "\n"
   ]
  },
  {
   "cell_type": "code",
   "execution_count": null,
   "metadata": {},
   "outputs": [],
   "source": []
  },
  {
   "cell_type": "code",
   "execution_count": null,
   "metadata": {},
   "outputs": [],
   "source": []
  },
  {
   "cell_type": "code",
   "execution_count": null,
   "metadata": {},
   "outputs": [],
   "source": []
  },
  {
   "cell_type": "code",
   "execution_count": null,
   "metadata": {},
   "outputs": [],
   "source": []
  },
  {
   "cell_type": "code",
   "execution_count": null,
   "metadata": {},
   "outputs": [],
   "source": []
  },
  {
   "cell_type": "code",
   "execution_count": null,
   "metadata": {},
   "outputs": [],
   "source": []
  },
  {
   "cell_type": "code",
   "execution_count": null,
   "metadata": {},
   "outputs": [],
   "source": []
  },
  {
   "cell_type": "code",
   "execution_count": null,
   "metadata": {},
   "outputs": [],
   "source": []
  },
  {
   "cell_type": "code",
   "execution_count": null,
   "metadata": {},
   "outputs": [],
   "source": []
  },
  {
   "cell_type": "code",
   "execution_count": null,
   "metadata": {},
   "outputs": [],
   "source": []
  },
  {
   "cell_type": "code",
   "execution_count": null,
   "metadata": {},
   "outputs": [],
   "source": []
  },
  {
   "cell_type": "code",
   "execution_count": null,
   "metadata": {},
   "outputs": [],
   "source": []
  },
  {
   "cell_type": "code",
   "execution_count": null,
   "metadata": {},
   "outputs": [],
   "source": []
  },
  {
   "cell_type": "code",
   "execution_count": null,
   "metadata": {},
   "outputs": [],
   "source": []
  },
  {
   "cell_type": "code",
   "execution_count": null,
   "metadata": {},
   "outputs": [],
   "source": []
  },
  {
   "cell_type": "code",
   "execution_count": null,
   "metadata": {},
   "outputs": [],
   "source": []
  },
  {
   "cell_type": "code",
   "execution_count": null,
   "metadata": {},
   "outputs": [],
   "source": []
  },
  {
   "cell_type": "code",
   "execution_count": null,
   "metadata": {},
   "outputs": [],
   "source": []
  },
  {
   "cell_type": "code",
   "execution_count": null,
   "metadata": {},
   "outputs": [],
   "source": []
  },
  {
   "cell_type": "code",
   "execution_count": null,
   "metadata": {},
   "outputs": [],
   "source": []
  },
  {
   "cell_type": "code",
   "execution_count": null,
   "metadata": {},
   "outputs": [],
   "source": []
  },
  {
   "cell_type": "code",
   "execution_count": null,
   "metadata": {},
   "outputs": [],
   "source": []
  },
  {
   "cell_type": "code",
   "execution_count": null,
   "metadata": {},
   "outputs": [],
   "source": []
  },
  {
   "cell_type": "code",
   "execution_count": null,
   "metadata": {},
   "outputs": [],
   "source": []
  },
  {
   "cell_type": "code",
   "execution_count": null,
   "metadata": {},
   "outputs": [],
   "source": []
  },
  {
   "cell_type": "code",
   "execution_count": null,
   "metadata": {},
   "outputs": [],
   "source": []
  },
  {
   "cell_type": "code",
   "execution_count": null,
   "metadata": {},
   "outputs": [],
   "source": []
  },
  {
   "cell_type": "code",
   "execution_count": null,
   "metadata": {},
   "outputs": [],
   "source": []
  },
  {
   "cell_type": "code",
   "execution_count": null,
   "metadata": {},
   "outputs": [],
   "source": []
  },
  {
   "cell_type": "code",
   "execution_count": null,
   "metadata": {},
   "outputs": [],
   "source": []
  },
  {
   "cell_type": "code",
   "execution_count": null,
   "metadata": {},
   "outputs": [],
   "source": []
  },
  {
   "cell_type": "code",
   "execution_count": null,
   "metadata": {},
   "outputs": [],
   "source": []
  },
  {
   "cell_type": "code",
   "execution_count": null,
   "metadata": {},
   "outputs": [],
   "source": []
  },
  {
   "cell_type": "code",
   "execution_count": null,
   "metadata": {},
   "outputs": [],
   "source": []
  },
  {
   "cell_type": "code",
   "execution_count": null,
   "metadata": {},
   "outputs": [],
   "source": []
  },
  {
   "cell_type": "code",
   "execution_count": null,
   "metadata": {},
   "outputs": [],
   "source": []
  },
  {
   "cell_type": "code",
   "execution_count": null,
   "metadata": {},
   "outputs": [],
   "source": []
  },
  {
   "cell_type": "code",
   "execution_count": null,
   "metadata": {},
   "outputs": [],
   "source": []
  },
  {
   "cell_type": "code",
   "execution_count": null,
   "metadata": {},
   "outputs": [],
   "source": []
  },
  {
   "cell_type": "code",
   "execution_count": null,
   "metadata": {},
   "outputs": [],
   "source": []
  }
 ],
 "metadata": {
  "kernelspec": {
   "display_name": "Python 3",
   "language": "python",
   "name": "python3"
  },
  "language_info": {
   "codemirror_mode": {
    "name": "ipython",
    "version": 3
   },
   "file_extension": ".py",
   "mimetype": "text/x-python",
   "name": "python",
   "nbconvert_exporter": "python",
   "pygments_lexer": "ipython3",
   "version": "3.11.5"
  }
 },
 "nbformat": 4,
 "nbformat_minor": 2
}
