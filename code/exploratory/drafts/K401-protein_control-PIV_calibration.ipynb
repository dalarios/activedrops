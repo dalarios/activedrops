{
 "cells": [
  {
   "cell_type": "code",
   "execution_count": 2,
   "id": "13ecc28f-c296-4f4b-b41a-176e929e183f",
   "metadata": {
    "tags": []
   },
   "outputs": [],
   "source": [
    "import sys\n",
    "sys.path.append('../../activedrops')\n",
    "\n",
    "import os\n",
    "import pandas as pd\n",
    "import viz\n",
    "import pivdrops\n",
    "\n",
    "viz.set_plotting_style()"
   ]
  },
  {
   "cell_type": "code",
   "execution_count": 3,
   "id": "e6736d98",
   "metadata": {},
   "outputs": [],
   "source": [
    "raw_piv_data = \"C:/Users/dalar/OneDrive/Desktop/current_experiment/100223-kbio-500_250_125nM/pos1-250nM/piv-pos1-250nM/txt-250nM-complete_movie/PIVlab_****.txt\"\n",
    "processed_data = \"C:/Users/dalar/OneDrive/Desktop/current_experiment/100223-kbio-500_250_125nM/pos1-250nM/kbio_control-500corr.csv\"\n",
    "\n",
    "## Uncomment to process the raw data\n",
    "pivdrops.process_piv_data(raw_piv_data, time_int=3, µl=2, L=500, save_path=processed_data, vmax=True)\n",
    "df500 = pd.read_csv(processed_data)"
   ]
  },
  {
   "cell_type": "code",
   "execution_count": 4,
   "id": "17d30def",
   "metadata": {},
   "outputs": [
    {
     "ename": "AttributeError",
     "evalue": "'_process_plot_var_args' object has no attribute 'prop_cycler'",
     "output_type": "error",
     "traceback": [
      "\u001b[1;31m---------------------------------------------------------------------------\u001b[0m",
      "\u001b[1;31mAttributeError\u001b[0m                            Traceback (most recent call last)",
      "\u001b[1;32mc:\\Users\\dalar\\git\\activedrops\\code\\exploratory\\K401-protein_control-PIV_calibration.ipynb Cell 3\u001b[0m line \u001b[0;36m1\n\u001b[1;32m----> <a href='vscode-notebook-cell:/c%3A/Users/dalar/git/activedrops/code/exploratory/K401-protein_control-PIV_calibration.ipynb#W2sZmlsZQ%3D%3D?line=0'>1</a>\u001b[0m viz\u001b[39m.\u001b[39;49mvelocity([df500], [\u001b[39m'\u001b[39;49m\u001b[39mK401-biotin-streptavidin\u001b[39;49m\u001b[39m'\u001b[39;49m], x_limits\u001b[39m=\u001b[39;49m(\u001b[39m-\u001b[39;49m\u001b[39m4\u001b[39;49m, \u001b[39m150\u001b[39;49m), y_limits\u001b[39m=\u001b[39;49m(\u001b[39m-\u001b[39;49m\u001b[39m0.25\u001b[39;49m, \u001b[39m6\u001b[39;49m))\n\u001b[0;32m      <a href='vscode-notebook-cell:/c%3A/Users/dalar/git/activedrops/code/exploratory/K401-protein_control-PIV_calibration.ipynb#W2sZmlsZQ%3D%3D?line=1'>2</a>\u001b[0m viz\u001b[39m.\u001b[39mdistance([df500], [\u001b[39m'\u001b[39m\u001b[39mK401-biotin-streptavidin\u001b[39m\u001b[39m'\u001b[39m], x_limits\u001b[39m=\u001b[39m(\u001b[39m-\u001b[39m\u001b[39m4\u001b[39m, \u001b[39m150\u001b[39m), y_limits\u001b[39m=\u001b[39m(\u001b[39m-\u001b[39m\u001b[39m8\u001b[39m, \u001b[39m350\u001b[39m))\n\u001b[0;32m      <a href='vscode-notebook-cell:/c%3A/Users/dalar/git/activedrops/code/exploratory/K401-protein_control-PIV_calibration.ipynb#W2sZmlsZQ%3D%3D?line=2'>3</a>\u001b[0m viz\u001b[39m.\u001b[39mpower([df500], [\u001b[39m'\u001b[39m\u001b[39mK401-biotin-streptavidin\u001b[39m\u001b[39m'\u001b[39m], x_limits\u001b[39m=\u001b[39m(\u001b[39m-\u001b[39m\u001b[39m4\u001b[39m, \u001b[39m150\u001b[39m), y_limits\u001b[39m=\u001b[39m(\u001b[39m-\u001b[39m\u001b[39m0.2E-16\u001b[39m, \u001b[39m5E-16\u001b[39m), logy\u001b[39m=\u001b[39m\u001b[39mTrue\u001b[39;00m)\n",
      "File \u001b[1;32mc:\\Users\\dalar\\git\\activedrops\\code\\exploratory\\../../activedrops\\viz.py:79\u001b[0m, in \u001b[0;36mvelocity\u001b[1;34m(dfs, labels, filename, max_frame, x_limits, y_limits, logy, figsize)\u001b[0m\n\u001b[0;32m     76\u001b[0m df \u001b[39m=\u001b[39m df\u001b[39m.\u001b[39miloc[:max_frame,:]\n\u001b[0;32m     78\u001b[0m \u001b[39m# Choose a color\u001b[39;00m\n\u001b[1;32m---> 79\u001b[0m color \u001b[39m=\u001b[39m \u001b[39mnext\u001b[39m(plt\u001b[39m.\u001b[39;49mgca()\u001b[39m.\u001b[39;49m_get_lines\u001b[39m.\u001b[39;49mprop_cycler)[\u001b[39m'\u001b[39m\u001b[39mcolor\u001b[39m\u001b[39m'\u001b[39m]\n\u001b[0;32m     81\u001b[0m ax\u001b[39m.\u001b[39mplot(df[\u001b[39m'\u001b[39m\u001b[39mtime_min\u001b[39m\u001b[39m'\u001b[39m], df[\u001b[39m'\u001b[39m\u001b[39mv (m/s)\u001b[39m\u001b[39m'\u001b[39m] \u001b[39m*\u001b[39m \u001b[39m1e6\u001b[39m, label\u001b[39m=\u001b[39mlabel, color\u001b[39m=\u001b[39mcolor)\n\u001b[0;32m     82\u001b[0m ax\u001b[39m.\u001b[39mfill_between(df[\u001b[39m'\u001b[39m\u001b[39mtime_min\u001b[39m\u001b[39m'\u001b[39m], df[\u001b[39m'\u001b[39m\u001b[39mv (m/s)\u001b[39m\u001b[39m'\u001b[39m] \u001b[39m*\u001b[39m \u001b[39m1e6\u001b[39m, color\u001b[39m=\u001b[39mcolor, alpha\u001b[39m=\u001b[39m\u001b[39m0.2\u001b[39m)\n",
      "\u001b[1;31mAttributeError\u001b[0m: '_process_plot_var_args' object has no attribute 'prop_cycler'"
     ]
    },
    {
     "data": {
      "image/png": "[encoded data removed]",
      "text/plain": [
       "<Figure size 1000x600 with 1 Axes>"
      ]
     },
     "metadata": {},
     "output_type": "display_data"
    }
   ],
   "source": [
    "viz.velocity([df500], ['K401-biotin-streptavidin'], x_limits=(-4, 150), y_limits=(-0.25, 6))\n",
    "viz.distance([df500], ['K401-biotin-streptavidin'], x_limits=(-4, 150), y_limits=(-8, 350))\n",
    "viz.power([df500], ['K401-biotin-streptavidin'], x_limits=(-4, 150), y_limits=(-0.2E-16, 5E-16), logy=True)\n",
    "viz.divergence([df500], ['K401-biotin-streptavidin'], x_limits=(-4, 150), y_limits=(-0.0004, 0.0006))\n",
    "viz.vorticity([df500], ['K401-biotin-streptavidin'], x_limits=(-4, 150), y_limits=(-0.0008, 0.00085))\n"
   ]
  },
  {
   "cell_type": "code",
   "execution_count": null,
   "id": "844abc94",
   "metadata": {},
   "outputs": [],
   "source": [
    "dir_name = \"C:/Users/dalar/OneDrive/Desktop/current_experiment/100223-kbio-500_250_125nM/pos1-250nM/plots\"\n",
    "label = 'K401-biotin-streptavidin'\n",
    "\n",
    "# viz.generate_image_sequence(df, 'velocity', dir_name, label, x_limits=(-4, 150), y_limits=(-0.25, 6))\n",
    "viz.generate_image_sequence(df, 'distance', dir_name, label, x_limits=(-4, 150), y_limits=(-8, 350))\n",
    "# viz.generate_image_sequence(df, 'power', dir_name, label, x_limits=(-4, 150), y_limits=(-0.1E-16, 3E-16))\n",
    "# viz.generate_image_sequence(df, 'vorticity', dir_name, label, x_limits=(-4, 150), y_limits=(-0.0004, 0.0006))\n",
    "# viz.generate_image_sequence(df, 'divergence', dir_name, label, x_limits=(-4, 150), y_limits=(-0.0008, 0.00085))\n",
    "\n"
   ]
  },
  {
   "cell_type": "markdown",
   "id": "722c9ecb",
   "metadata": {},
   "source": [
    "Let's try other correlation lengths and see how power changes"
   ]
  },
  {
   "cell_type": "code",
   "execution_count": null,
   "id": "57fc5dbf",
   "metadata": {},
   "outputs": [],
   "source": [
    "raw_piv_data = \"C:/Users/dalar/OneDrive/Desktop/current_experiment/100223-kbio-500_250_125nM/pos1-250nM/piv-pos1-250nM/txt-250nM-complete_movie/PIVlab_****.txt\"\n",
    "processed_data2 = \"C:/Users/dalar/OneDrive/Desktop/current_experiment/100223-kbio-500_250_125nM/pos1-250nM/kbio_control-250corr.csv\"\n",
    "\n",
    "pivdrops.process_piv_data(raw_piv_data, time_int=3, µl=2, L=250, save_path=processed_data2, vmax=True)\n",
    "df250 = pd.read_csv(processed_data2)"
   ]
  },
  {
   "cell_type": "code",
   "execution_count": null,
   "id": "d6c9a2e9",
   "metadata": {},
   "outputs": [],
   "source": [
    "viz.power([df500, df250], ['K401-biotin-streptavidin, L=500um', 'K401-biotin-streptavidin, L=250um'], x_limits=(-4, 150), y_limits=(-0.1E-16, 7E-15))\n"
   ]
  },
  {
   "cell_type": "code",
   "execution_count": null,
   "id": "0eca20c2",
   "metadata": {},
   "outputs": [],
   "source": [
    "raw_piv_data = \"C:/Users/dalar/OneDrive/Desktop/current_experiment/100223-kbio-500_250_125nM/pos1-250nM/piv-pos1-250nM/txt-250nM-complete_movie/PIVlab_****.txt\"\n",
    "processed_data3 = \"C:/Users/dalar/OneDrive/Desktop/current_experiment/100223-kbio-500_250_125nM/pos1-250nM/kbio_control-100corr.csv\"\n",
    "\n",
    "\n",
    "pivdrops.process_piv_data(raw_piv_data, time_int=3, µl=2, L=500, save_path=processed_data3, vmax=True)\n",
    "df100 = pd.read_csv(processed_data3)\n"
   ]
  },
  {
   "cell_type": "code",
   "execution_count": null,
   "id": "b598a11d",
   "metadata": {},
   "outputs": [],
   "source": [
    "viz.power([df500, df100], ['K401-biotin-streptavidin, L=500um', 'K401-biotin-streptavidin, L=100um'], x_limits=(-4, 150), y_limits=(-0.1E-16, 7E-15))\n"
   ]
  },
  {
   "cell_type": "code",
   "execution_count": null,
   "id": "ba1c2b92-3c80-45a4-8b6b-8c1d8cf226ae",
   "metadata": {},
   "outputs": [],
   "source": [
    "raw_piv_data = \"C:/Users/dalar/OneDrive/Desktop/current_experiment/100223-kbio-500_250_125nM/pos1-250nM/piv-pos1-250nM/txt-250nM-complete_movie/PIVlab_****.txt\"\n",
    "\n",
    "df1000 = pivdrops.process_piv_data(raw_piv_data, time_int=3, µl=2, L=1000, vmax=True)\n",
    "df500 = pivdrops.process_piv_data(raw_piv_data, time_int=3, µl=2, L=500, vmax=True)\n",
    "df250 = pivdrops.process_piv_data(raw_piv_data, time_int=3, µl=2, L=250, vmax=True)\n",
    "df100 = pivdrops.process_piv_data(raw_piv_data, time_int=3, µl=2, L=100, vmax=True)\n",
    "df50 = pivdrops.process_piv_data(raw_piv_data, time_int=3, µl=2, L=50, vmax=True)\n"
   ]
  },
  {
   "cell_type": "code",
   "execution_count": null,
   "id": "eac2714f",
   "metadata": {},
   "outputs": [],
   "source": [
    "viz.power([\n",
    "    df1000, \n",
    "    df500,\n",
    "    df250,\n",
    "    df100,\n",
    "    df50\n",
    "], [\n",
    "    'K401-biotin-streptavidin, L=1000um', \n",
    "    'K401-biotin-streptavidin, L=500um', \n",
    "    'K401-biotin-streptavidin, L=250um', \n",
    "    'K401-biotin-streptavidin, L=100um',\n",
    "    'K401-biotin-streptavidin, L=50um',\n",
    "], logy=True, x_limits=(-4, 150), y_limits=(10**(-20), 10**(-13)))\n"
   ]
  },
  {
   "cell_type": "code",
   "execution_count": null,
   "id": "a020e48b",
   "metadata": {},
   "outputs": [],
   "source": [
    "# Loop through each frame of df and save a plot\n",
    "for i in range(1, len(df1000) + 1):\n",
    "    viz.power(\n",
    "        [df1000.iloc[:i,:], df500.iloc[:i,:], df250.iloc[:i,:], df100.iloc[:i,:], df50.iloc[:i,:],], \n",
    "        ['K401-biotin-streptavidin, L=1000um',\n",
    "         'K401-biotin-streptavidin, L=500um',\n",
    "         'K401-biotin-streptavidin, L=250um',\n",
    "         'K401-biotin-streptavidin, L=100um',\n",
    "         'K401-biotin-streptavidin, L=50um',], \n",
    "       logy=True, x_limits=(-4, 150), y_limits=(10**(-20), 10**(-13)),\n",
    "        filename=f\"C:/Users/dalar/OneDrive/Desktop/current_experiment/100223-kbio-500_250_125nM/pos1-250nM/plots/multiple_correlation_lengths/plot_{i}.jpg\"\n",
    "    )"
   ]
  },
  {
   "cell_type": "code",
   "execution_count": null,
   "id": "b8304a30",
   "metadata": {},
   "outputs": [],
   "source": []
  }
 ],
 "metadata": {
  "kernelspec": {
   "display_name": "Python 3 (ipykernel)",
   "language": "python",
   "name": "python3"
  },
  "language_info": {
   "codemirror_mode": {
    "name": "ipython",
    "version": 3
   },
   "file_extension": ".py",
   "mimetype": "text/x-python",
   "name": "python",
   "nbconvert_exporter": "python",
   "pygments_lexer": "ipython3",
   "version": "3.11.5"
  }
 },
 "nbformat": 4,
 "nbformat_minor": 5
}
