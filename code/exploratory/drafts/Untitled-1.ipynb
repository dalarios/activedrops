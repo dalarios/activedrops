{
 "cells": [
  {
   "cell_type": "code",
   "execution_count": null,
   "metadata": {},
   "outputs": [],
   "source": []
  },
  {
   "cell_type": "code",
   "execution_count": 1,
   "metadata": {},
   "outputs": [
    {
     "name": "stdout",
     "output_type": "stream",
     "text": [
      "Error: The original directory ../../data/kva-piv/kifva/Rep1/original does not exist.\n",
      "Copied every 4th 'cy5' and 'gfp' file from ../../data/kva-piv/kva/Rep1/original into separate folders.\n"
     ]
    }
   ],
   "source": [
    "import os\n",
    "import shutil\n",
    "from natsort import natsorted\n",
    "\n",
    "def prepare_conditions(data_path, num_reps):\n",
    "    # List conditions while ignoring 'output_data'\n",
    "    conditions = natsorted([\n",
    "        f for f in os.listdir(data_path) \n",
    "        if os.path.isdir(os.path.join(data_path, f)) and f != 'output_data'\n",
    "    ])\n",
    "    \n",
    "    # Generate subconditions list based on num_reps\n",
    "    subconditions = [f\"Rep{x}\" for x in range(1, num_reps + 1)]\n",
    "    \n",
    "    return conditions, subconditions\n",
    "\n",
    "def reorgTiffs_Split_cy5_gfp(data_path, conditions, subconditions, file_interval=None):\n",
    "    \"\"\"\n",
    "    Args:\n",
    "        data_path (str): Path to the data directory.\n",
    "        conditions (list): List of conditions.\n",
    "        subconditions (list): List of subconditions.\n",
    "        file_interval (int or None): Option to copy every nth file. If None, this feature is not used.\n",
    "\n",
    "    This function copies 'cy5' and 'gfp' images from the 'original' folder into\n",
    "    their respective folders ('cy5' and 'gfp'), using the specified interval.\n",
    "    \"\"\"\n",
    "    for condition in conditions:\n",
    "        for subcondition in subconditions:\n",
    "            # Construct the path to the 'original' directory within the subcondition\n",
    "            original_dir_path = os.path.join(data_path, condition, subcondition, \"original\")\n",
    "\n",
    "            if not os.path.exists(original_dir_path):\n",
    "                print(f\"Error: The original directory {original_dir_path} does not exist.\")\n",
    "                continue\n",
    "\n",
    "            # Create separate directories for channels\n",
    "            gfp_dir = os.path.join(data_path, condition, subcondition, \"gfp\")\n",
    "            cy5_dir = os.path.join(data_path, condition, subcondition, \"cy5\")\n",
    "            os.makedirs(gfp_dir, exist_ok=True)\n",
    "            os.makedirs(cy5_dir, exist_ok=True)\n",
    "\n",
    "            # Separate lists for cy5 and gfp files\n",
    "            cy5_files = []\n",
    "            gfp_files = []\n",
    "\n",
    "            # Iterate over all files in the original directory\n",
    "            file_list = sorted(os.listdir(original_dir_path))\n",
    "            for filename in file_list:\n",
    "                # Check if the file is a .tif file\n",
    "                if filename.endswith(\".tif\"):\n",
    "                    if \"cy5\" in filename:\n",
    "                        cy5_files.append(filename)\n",
    "                    elif \"gfp\" in filename:\n",
    "                        gfp_files.append(filename)\n",
    "\n",
    "            # Copy files based on the file_interval for each channel\n",
    "            if file_interval is None:\n",
    "                file_interval = 1  # Copy all files if no interval is set\n",
    "\n",
    "            for idx, filename in enumerate(cy5_files):\n",
    "                if idx % file_interval == 0:\n",
    "                    file_path = os.path.join(original_dir_path, filename)\n",
    "                    shutil.copy(file_path, os.path.join(cy5_dir, filename))\n",
    "\n",
    "            for idx, filename in enumerate(gfp_files):\n",
    "                if idx % file_interval == 0:\n",
    "                    file_path = os.path.join(original_dir_path, filename)\n",
    "                    shutil.copy(file_path, os.path.join(gfp_dir, filename))\n",
    "\n",
    "            print(f\"Copied every {file_interval}th 'cy5' and 'gfp' file from {original_dir_path} into separate folders.\")\n",
    "\n",
    "# Example usage\n",
    "data_path = \"../../data/kva-piv/\"\n",
    "number_reps = 1\n",
    "conditions, subconditions = prepare_conditions(data_path, number_reps)\n",
    "\n",
    "# Set file_interval to a number to copy every nth file\n",
    "reorgTiffs_Split_cy5_gfp(data_path, conditions, subconditions, file_interval=4)\n"
   ]
  },
  {
   "cell_type": "code",
   "execution_count": null,
   "metadata": {},
   "outputs": [],
   "source": []
  }
 ],
 "metadata": {
  "kernelspec": {
   "display_name": "Python 3",
   "language": "python",
   "name": "python3"
  },
  "language_info": {
   "codemirror_mode": {
    "name": "ipython",
    "version": 3
   },
   "file_extension": ".py",
   "mimetype": "text/x-python",
   "name": "python",
   "nbconvert_exporter": "python",
   "pygments_lexer": "ipython3",
   "version": "3.11.9"
  }
 },
 "nbformat": 4,
 "nbformat_minor": 2
}
