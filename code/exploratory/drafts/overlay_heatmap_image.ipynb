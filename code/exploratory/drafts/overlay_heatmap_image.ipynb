{
 "cells": [
  {
   "cell_type": "code",
   "execution_count": 2,
   "metadata": {},
   "outputs": [
    {
     "data": {
      "application/vnd.jupyter.widget-view+json": {
       "model_id": "2bd795b5b6ca405c826d52320122eb53",
       "version_major": 2,
       "version_minor": 0
      },
      "text/plain": [
       "interactive(children=(IntSlider(value=0, continuous_update=False, description='Frame:', max=213), Output()), _…"
      ]
     },
     "metadata": {},
     "output_type": "display_data"
    }
   ],
   "source": [
    "import os\n",
    "import matplotlib.pyplot as plt\n",
    "import ipywidgets as widgets\n",
    "from IPython.display import display\n",
    "from PIL import Image\n",
    "\n",
    "def display_tif_series(folder_path):\n",
    "    # List all .tif files in the folder\n",
    "    tif_files = sorted([f for f in os.listdir(folder_path) if f.endswith('.tif')])\n",
    "\n",
    "    def view_image(frame=0):\n",
    "        # Load and display the image\n",
    "        image_path = os.path.join(folder_path, tif_files[frame])\n",
    "        img = Image.open(image_path)\n",
    "        plt.imshow(img, cmap='gray')\n",
    "        plt.axis('off')\n",
    "        plt.show()\n",
    "\n",
    "    # Create a slider for frame selection\n",
    "    slider = widgets.IntSlider(\n",
    "        value=0,\n",
    "        min=0,\n",
    "        max=len(tif_files) - 1,\n",
    "        step=1,\n",
    "        description='Frame:',\n",
    "        continuous_update=False\n",
    "    )\n",
    "\n",
    "    # Bind the slider to the image display function\n",
    "    widgets.interact(view_image, frame=slider)\n",
    "\n",
    "# Example usage\n",
    "folder_path = '../../data/01-k401-biotin_strep/500nM/2ul/piv_movie_corrected_size/'  # Replace with your folder path\n",
    "display_tif_series(folder_path)\n"
   ]
  },
  {
   "cell_type": "code",
   "execution_count": 4,
   "metadata": {},
   "outputs": [
    {
     "name": "stderr",
     "output_type": "stream",
     "text": [
      "c:\\Users\\dalar\\git\\activedrops\\code\\exploratory\\../../activedrops\\pivdrops.py:290: FutureWarning: The behavior of DataFrame concatenation with empty or all-NA entries is deprecated. In a future version, this will no longer exclude empty or all-NA columns when determining the result dtypes. To retain the old behavior, exclude the relevant entries before the concat operation.\n",
      "  df_ts = pd.concat([df_ts, new_row], ignore_index=True)\n"
     ]
    }
   ],
   "source": [
    "import os\n",
    "import glob\n",
    "import sys\n",
    "sys.path.append('../../activedrops')\n",
    "import pivdrops\n",
    "pivdrops.set_plotting_style()\n",
    "\n",
    "\n",
    "# List of conditions and volumes\n",
    "conditions = ['500nM']\n",
    "volumes = ['2ul']\n",
    "\n",
    "\n",
    "# Base directory for data and plots\n",
    "base_data_dir = \"../../data/01-k401-biotin_strep/\"\n",
    "# image_path = \"../../data/01-k401-biotin_strep/125nM/2ul/original/\"  \n",
    "\n",
    "# Iterate over each condition and volume\n",
    "for condition in conditions:\n",
    "    for volume in volumes:\n",
    "        # Construct the input and output directory paths\n",
    "        input_dir = f\"{base_data_dir}/{condition}/{volume}/piv_data/PIVlab_****.txt\"\n",
    "        output_dir = f\"{base_data_dir}/{condition}/{volume}/plots/\"\n",
    "        image_path = f\"{base_data_dir}/{condition}/{volume}/piv_movie_corrected_size/\"  \n",
    "\n",
    "        # Process the PIV files\n",
    "        dataframes = pivdrops.process_piv_files(input_dir, volume=2, max_frame=10)\n",
    "\n",
    "        # Generate time series\n",
    "        df = pivdrops.piv_time_series(dataframes, time_interval_seconds=3)\n",
    "\n",
    "        # List of feature names to plot\n",
    "        features_to_plot = ['velocity', 'power', 'distance', 'work']\n",
    "\n",
    "        # Plot the time series\n",
    "        for feature in features_to_plot:\n",
    "            pivdrops.plot_time_series(df, feature, output_dir=output_dir, sigma=0.5)\n",
    "\n",
    "        pivdrops.generate_heatmaps(dataframes, 'magnitude [um/s]', vmin=0, vmax=10, output_dir_base=output_dir, image_path=image_path) \n",
    "        pivdrops.generate_heatmaps(dataframes, 'vorticity [1/s]', vmin=-0.03, vmax=0.03, output_dir_base=output_dir, image_path=image_path)\n",
    "        pivdrops.generate_heatmaps(dataframes, 'divergence [1/s]', vmin=-0.03, vmax=0.03, output_dir_base=output_dir, image_path=image_path) \n",
    "        pivdrops.generate_heatmaps(dataframes, 'dcev [1]', vmin=0, vmax=250, output_dir_base=output_dir, image_path=image_path) \n",
    "        pivdrops.generate_heatmaps(dataframes, 'simple shear [1/s]', vmin=-0.03, vmax=0.03, output_dir_base=output_dir, image_path=image_path) \n",
    "        pivdrops.generate_heatmaps(dataframes, 'simple strain [1/s]', vmin=-0.03, vmax=0.03, output_dir_base=output_dir, image_path=image_path) \n",
    "        pivdrops.generate_heatmaps(dataframes, 'vector direction [degrees]', vmin=-180, vmax=180, output_dir_base=output_dir, image_path=image_path) \n"
   ]
  },
  {
   "cell_type": "code",
   "execution_count": null,
   "metadata": {},
   "outputs": [],
   "source": []
  }
 ],
 "metadata": {
  "kernelspec": {
   "display_name": "Python 3",
   "language": "python",
   "name": "python3"
  },
  "language_info": {
   "codemirror_mode": {
    "name": "ipython",
    "version": 3
   },
   "file_extension": ".py",
   "mimetype": "text/x-python",
   "name": "python",
   "nbconvert_exporter": "python",
   "pygments_lexer": "ipython3",
   "version": "3.11.5"
  }
 },
 "nbformat": 4,
 "nbformat_minor": 2
}
