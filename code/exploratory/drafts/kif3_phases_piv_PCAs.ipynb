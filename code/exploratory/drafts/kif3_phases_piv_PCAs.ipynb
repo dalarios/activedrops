{
 "cells": [
  {
   "cell_type": "code",
   "execution_count": 1,
   "metadata": {},
   "outputs": [],
   "source": [
    "## Import relevant libraries\n",
    "import sys\n",
    "sys.path.append('../../activedrops')\n",
    "\n",
    "## Including ourselves\n",
    "import pivdrops\n",
    "pivdrops.set_plotting_style()"
   ]
  },
  {
   "cell_type": "code",
   "execution_count": 2,
   "metadata": {},
   "outputs": [],
   "source": [
    "data_path = \"../../data/kif3_phases_piv/\"\n",
    "\n",
    "condition1 = \"DNA40nM_MT20uM\"\n",
    "condition2 = \"DNA60nM_MT20uM\"\n",
    "condition3 = \"DNA80nM_MT20uM\"\n",
    "\n",
    "\n",
    "subcondition1 = \"Pos0\"\n",
    "subcondition2 = \"Pos1\"\n",
    "subcondition3 = \"Pos2\"\n",
    "\n"
   ]
  },
  {
   "cell_type": "code",
   "execution_count": 3,
   "metadata": {},
   "outputs": [
    {
     "name": "stderr",
     "output_type": "stream",
     "text": [
      "c:\\Users\\dalar\\git\\activedrops\\code\\exploratory\\../../activedrops\\pivdrops.py:446: UserWarning: Creating legend with loc=\"best\" can be slow with large amounts of data.\n",
      "  plt.savefig(output_dir_pca, format='jpg', dpi=250)\n"
     ]
    }
   ],
   "source": [
    "features_pca = [\n",
    "    # \"data type [-]_mean\", \n",
    "    \"vorticity [1/s]_mean\",\t\n",
    "    \"velocity magnitude [um/s]\", \n",
    "    \"divergence [1/s]_mean\", \n",
    "    # \"dcev [1]_mean\", \n",
    "    \"shear [1/s]_mean\", \n",
    "    \"strain [1/s]_mean\", \n",
    "    # \"vector direction [degrees]_mean\", \n",
    "    \"correlation length [um]\", \n",
    "    \"power [W]_mean\",\n",
    "    \"work [J]\", \n",
    "    ]\n",
    "\n",
    "pivdrops.plot_features(\n",
    "    [data_path, data_path, data_path, data_path, data_path, data_path, data_path, data_path, data_path, ], \n",
    "    [condition1, condition1, condition1, condition2, condition2, condition2, condition3, condition3, condition3, ], \n",
    "    [subcondition1, subcondition2, subcondition3, subcondition1, subcondition2, subcondition3, subcondition1, subcondition2, subcondition3, ], \n",
    "    features_pca, time_intervals=[3, 3, 3, 3, 3, 3, 3, 3, 3], \n",
    "    sigma=10,  \n",
    "    min_frame=0, \n",
    "    max_frame=None,\n",
    "    )\n"
   ]
  },
  {
   "cell_type": "code",
   "execution_count": null,
   "metadata": {},
   "outputs": [],
   "source": []
  }
 ],
 "metadata": {
  "kernelspec": {
   "display_name": "Python 3",
   "language": "python",
   "name": "python3"
  },
  "language_info": {
   "codemirror_mode": {
    "name": "ipython",
    "version": 3
   },
   "file_extension": ".py",
   "mimetype": "text/x-python",
   "name": "python",
   "nbconvert_exporter": "python",
   "pygments_lexer": "ipython3",
   "version": "3.11.5"
  }
 },
 "nbformat": 4,
 "nbformat_minor": 2
}
