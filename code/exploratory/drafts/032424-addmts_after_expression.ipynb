{
 "cells": [
  {
   "cell_type": "code",
   "execution_count": 2,
   "metadata": {},
   "outputs": [],
   "source": [
    "## Import relevant libraries\n",
    "import sys\n",
    "import os\n",
    "import shutil\n",
    "from natsort import natsorted  # For natural sorting\n",
    "sys.path.append('../../activedrops')\n",
    "\n",
    "## Including ourselves\n",
    "import quadrop as qd\n",
    "qd.set_plotting_style()\n"
   ]
  },
  {
   "cell_type": "code",
   "execution_count": 3,
   "metadata": {},
   "outputs": [
    {
     "data": {
      "text/plain": [
       "['Pos2', 'Pos3']"
      ]
     },
     "execution_count": 3,
     "metadata": {},
     "output_type": "execute_result"
    }
   ],
   "source": [
    "data_path = \"../../data/032424-addmts_after_expression/kva-kif-adpa-60minincubation_2/\"\n",
    "\n",
    "# let's declare the variable \"conditions\" to the sorted list of subdirectories from data_path\n",
    "conditions = natsorted([f for f in os.listdir(data_path) if os.path.isdir(os.path.join(data_path, f))])[::-1]\n",
    "\n",
    "# let's declare the variable \"subconditions\" to the sorted list of subdirectories from the first condition\n",
    "subconditions = natsorted([f for f in os.listdir(os.path.join(data_path, conditions[0])) if os.path.isdir(os.path.join(data_path, conditions[0], f))])\n",
    "\n",
    "subconditions\n"
   ]
  },
  {
   "cell_type": "code",
   "execution_count": 11,
   "metadata": {},
   "outputs": [
    {
     "name": "stdout",
     "output_type": "stream",
     "text": [
      "Moved .tif files from ../../data/032424-addmts_after_expression/kva-kif-adpa-60minincubation_2/kif3\\Pos2 to ../../data/032424-addmts_after_expression/kva-kif-adpa-60minincubation_2/kif3\\Pos2\\original\n",
      "Moved .tif files from ../../data/032424-addmts_after_expression/kva-kif-adpa-60minincubation_2/kif3\\Pos3 to ../../data/032424-addmts_after_expression/kva-kif-adpa-60minincubation_2/kif3\\Pos3\\original\n",
      "Moved .tif files from ../../data/032424-addmts_after_expression/kva-kif-adpa-60minincubation_2/k401\\Pos2 to ../../data/032424-addmts_after_expression/kva-kif-adpa-60minincubation_2/k401\\Pos2\\original\n",
      "Moved .tif files from ../../data/032424-addmts_after_expression/kva-kif-adpa-60minincubation_2/k401\\Pos3 to ../../data/032424-addmts_after_expression/kva-kif-adpa-60minincubation_2/k401\\Pos3\\original\n",
      "Moved .tif files from ../../data/032424-addmts_after_expression/kva-kif-adpa-60minincubation_2/adpa\\Pos2 to ../../data/032424-addmts_after_expression/kva-kif-adpa-60minincubation_2/adpa\\Pos2\\original\n",
      "Moved .tif files from ../../data/032424-addmts_after_expression/kva-kif-adpa-60minincubation_2/adpa\\Pos3 to ../../data/032424-addmts_after_expression/kva-kif-adpa-60minincubation_2/adpa\\Pos3\\original\n"
     ]
    }
   ],
   "source": [
    "def reorgTiffsToOriginal(data_path, conditions, subconditions):\n",
    "    \"\"\"\n",
    "    Args:\n",
    "        data_path (_type_): _description_\n",
    "        conditions (_type_): _description_\n",
    "        subconditions (_type_): _description_\n",
    "        \n",
    "        \n",
    "    Activate when you have your subconditions inside the conditions folder. \n",
    "    This function renames the subconditions as PosX and moves the raw data do \"original\" folder.\n",
    "    \"\"\"\n",
    "    \n",
    "    \n",
    "    for condition in conditions:\n",
    "        # Get the actual subconditions in the directory\n",
    "        actual_subconditions = [name for name in os.listdir(os.path.join(data_path, condition)) if os.path.isdir(os.path.join(data_path, condition, name))]\n",
    "        \n",
    "        # Rename the actual subconditions to match the subconditions in your list\n",
    "        for i, actual_subcondition in enumerate(sorted(actual_subconditions)):\n",
    "            os.rename(os.path.join(data_path, condition, actual_subcondition), os.path.join(data_path, condition, subconditions[i]))\n",
    "        \n",
    "        for subcondition in subconditions:\n",
    "            # Construct the path to the subcondition directory\n",
    "            subcondition_path = os.path.join(data_path, condition, subcondition)\n",
    "            \n",
    "            # Create the path for the \"original\" directory within the subcondition directory\n",
    "            original_dir_path = os.path.join(subcondition_path, \"original\")\n",
    "            \n",
    "            # Always create the \"original\" directory\n",
    "            os.makedirs(original_dir_path, exist_ok=True)\n",
    "            \n",
    "            # Iterate over all files in the subcondition directory\n",
    "            for filename in os.listdir(subcondition_path):\n",
    "                # Check if the file is a .tif file\n",
    "                if filename.endswith(\".tif\"):\n",
    "                    # Construct the full path to the file\n",
    "                    file_path = os.path.join(subcondition_path, filename)\n",
    "                    \n",
    "                    # Construct the path to move the file to\n",
    "                    destination_path = os.path.join(original_dir_path, filename)\n",
    "                    \n",
    "                    # Move the file to the \"original\" directory\n",
    "                    shutil.move(file_path, destination_path)\n",
    "            print(f\"Moved .tif files from {subcondition_path} to {original_dir_path}\")\n",
    "\n",
    "\n",
    "reorgTiffsToOriginal(data_path, conditions, subconditions)"
   ]
  },
  {
   "cell_type": "code",
   "execution_count": 17,
   "metadata": {},
   "outputs": [
    {
     "name": "stdout",
     "output_type": "stream",
     "text": [
      "Video saved to ../../data/032424-addmts_after_expression/kva-kif-adpa-60minincubation_2/single_movies_cy5\\kif3_Pos2-cy5.avi\n",
      "Video saved to ../../data/032424-addmts_after_expression/kva-kif-adpa-60minincubation_2/single_movies_cy5\\kif3_Pos3-cy5.avi\n",
      "Video saved to ../../data/032424-addmts_after_expression/kva-kif-adpa-60minincubation_2/single_movies_cy5\\k401_Pos2-cy5.avi\n",
      "Video saved to ../../data/032424-addmts_after_expression/kva-kif-adpa-60minincubation_2/single_movies_cy5\\k401_Pos3-cy5.avi\n",
      "Video saved to ../../data/032424-addmts_after_expression/kva-kif-adpa-60minincubation_2/single_movies_cy5\\adpa_Pos2-cy5.avi\n",
      "Video saved to ../../data/032424-addmts_after_expression/kva-kif-adpa-60minincubation_2/single_movies_cy5\\adpa_Pos3-cy5.avi\n"
     ]
    }
   ],
   "source": [
    "# frame info\n",
    "min_frame = 0\n",
    "max_frame = None\n",
    "skip_frames=1\n",
    "frame_rate=30\n",
    "time_intervals = [30] * len(conditions)\n",
    "\n",
    "# channel info\n",
    "channel = \"cy5\"\n",
    "vmax = 0.7\n",
    "\n",
    "qd.single_fluorescence_movies(data_path, conditions, subconditions, channel, time_intervals, min_frame, max_frame, vmax, skip_frames, frame_rate)"
   ]
  },
  {
   "cell_type": "code",
   "execution_count": null,
   "metadata": {},
   "outputs": [],
   "source": []
  }
 ],
 "metadata": {
  "kernelspec": {
   "display_name": "Python 3",
   "language": "python",
   "name": "python3"
  },
  "language_info": {
   "codemirror_mode": {
    "name": "ipython",
    "version": 3
   },
   "file_extension": ".py",
   "mimetype": "text/x-python",
   "name": "python",
   "nbconvert_exporter": "python",
   "pygments_lexer": "ipython3",
   "version": "3.11.5"
  }
 },
 "nbformat": 4,
 "nbformat_minor": 2
}
