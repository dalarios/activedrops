{
 "cells": [
  {
   "cell_type": "code",
   "execution_count": 1,
   "metadata": {},
   "outputs": [],
   "source": [
    "## Import relevant libraries\n",
    "import sys\n",
    "sys.path.append('../../activedrops')\n",
    "\n",
    "## Including ourselves\n",
    "import pivdrops\n",
    "pivdrops.set_plotting_style()"
   ]
  },
  {
   "cell_type": "code",
   "execution_count": 2,
   "metadata": {},
   "outputs": [
    {
     "ename": "KeyError",
     "evalue": "'velocity magnitude [m/s]'",
     "output_type": "error",
     "traceback": [
      "\u001b[1;31m---------------------------------------------------------------------------\u001b[0m",
      "\u001b[1;31mKeyError\u001b[0m                                  Traceback (most recent call last)",
      "File \u001b[1;32m~\\AppData\\Roaming\\Python\\Python311\\site-packages\\pandas\\core\\indexes\\base.py:3790\u001b[0m, in \u001b[0;36mIndex.get_loc\u001b[1;34m(self, key)\u001b[0m\n\u001b[0;32m   3789\u001b[0m \u001b[38;5;28;01mtry\u001b[39;00m:\n\u001b[1;32m-> 3790\u001b[0m     \u001b[38;5;28;01mreturn\u001b[39;00m \u001b[38;5;28;43mself\u001b[39;49m\u001b[38;5;241;43m.\u001b[39;49m\u001b[43m_engine\u001b[49m\u001b[38;5;241;43m.\u001b[39;49m\u001b[43mget_loc\u001b[49m\u001b[43m(\u001b[49m\u001b[43mcasted_key\u001b[49m\u001b[43m)\u001b[49m\n\u001b[0;32m   3791\u001b[0m \u001b[38;5;28;01mexcept\u001b[39;00m \u001b[38;5;167;01mKeyError\u001b[39;00m \u001b[38;5;28;01mas\u001b[39;00m err:\n",
      "File \u001b[1;32mindex.pyx:152\u001b[0m, in \u001b[0;36mpandas._libs.index.IndexEngine.get_loc\u001b[1;34m()\u001b[0m\n",
      "File \u001b[1;32mindex.pyx:181\u001b[0m, in \u001b[0;36mpandas._libs.index.IndexEngine.get_loc\u001b[1;34m()\u001b[0m\n",
      "File \u001b[1;32mpandas\\_libs\\hashtable_class_helper.pxi:7080\u001b[0m, in \u001b[0;36mpandas._libs.hashtable.PyObjectHashTable.get_item\u001b[1;34m()\u001b[0m\n",
      "File \u001b[1;32mpandas\\_libs\\hashtable_class_helper.pxi:7088\u001b[0m, in \u001b[0;36mpandas._libs.hashtable.PyObjectHashTable.get_item\u001b[1;34m()\u001b[0m\n",
      "\u001b[1;31mKeyError\u001b[0m: 'velocity magnitude [m/s]'",
      "\nThe above exception was the direct cause of the following exception:\n",
      "\u001b[1;31mKeyError\u001b[0m                                  Traceback (most recent call last)",
      "Cell \u001b[1;32mIn[2], line 12\u001b[0m\n\u001b[0;32m      8\u001b[0m min_frame \u001b[38;5;241m=\u001b[39m \u001b[38;5;241m0\u001b[39m\n\u001b[0;32m      9\u001b[0m max_frame \u001b[38;5;241m=\u001b[39m \u001b[38;5;28;01mNone\u001b[39;00m\n\u001b[1;32m---> 12\u001b[0m rep1_ts, a \u001b[38;5;241m=\u001b[39m \u001b[43mpivdrops\u001b[49m\u001b[38;5;241;43m.\u001b[39;49m\u001b[43mprocess_piv_data\u001b[49m\u001b[43m(\u001b[49m\u001b[43mdata_path\u001b[49m\u001b[43m,\u001b[49m\u001b[43m \u001b[49m\u001b[43mcondition1\u001b[49m\u001b[43m,\u001b[49m\u001b[43m \u001b[49m\u001b[43msubcondition1\u001b[49m\u001b[43m,\u001b[49m\u001b[43m \u001b[49m\u001b[43mmin_frame\u001b[49m\u001b[38;5;241;43m=\u001b[39;49m\u001b[43mmin_frame\u001b[49m\u001b[43m,\u001b[49m\u001b[43m \u001b[49m\u001b[43mmax_frame\u001b[49m\u001b[38;5;241;43m=\u001b[39;49m\u001b[43mmax_frame\u001b[49m\u001b[43m,\u001b[49m\u001b[43m \u001b[49m\u001b[43mplot_autocorrelation\u001b[49m\u001b[38;5;241;43m=\u001b[39;49m\u001b[38;5;28;43;01mFalse\u001b[39;49;00m\u001b[43m)\u001b[49m\n\u001b[0;32m     13\u001b[0m \u001b[38;5;66;03m# rep2_ts, b = pivdrops.process_piv_data(data_path, condition1, subcondition2, min_frame=min_frame, max_frame=max_frame, plot_autocorrelation=False)\u001b[39;00m\n\u001b[0;32m     14\u001b[0m \n\u001b[0;32m     15\u001b[0m \u001b[38;5;66;03m# rep3_ts, c = pivdrops.process_piv_data(data_path, condition2, subcondition1, min_frame=min_frame, max_frame=max_frame, plot_autocorrelation=False)\u001b[39;00m\n\u001b[0;32m     16\u001b[0m \u001b[38;5;66;03m# rep4_ts, d = pivdrops.process_piv_data(data_path, condition2, subcondition2, min_frame=min_frame, max_frame=max_frame, plot_autocorrelation=False)\u001b[39;00m\n",
      "File \u001b[1;32mc:\\Users\\dalar\\git\\activedrops\\code\\exploratory\\../../activedrops\\pivdrops.py:215\u001b[0m, in \u001b[0;36mprocess_piv_data\u001b[1;34m(data_path, condition, subcondition, min_frame, max_frame, plot_autocorrelation)\u001b[0m\n\u001b[0;32m    213\u001b[0m volume \u001b[38;5;241m=\u001b[39m \u001b[38;5;241m2.5E-9\u001b[39m  \u001b[38;5;66;03m# µl --> m^3\u001b[39;00m\n\u001b[0;32m    214\u001b[0m viscosity \u001b[38;5;241m=\u001b[39m \u001b[38;5;241m1E-3\u001b[39m  \u001b[38;5;66;03m# mPa*S\u001b[39;00m\n\u001b[1;32m--> 215\u001b[0m mean_data_frame[\u001b[38;5;124m\"\u001b[39m\u001b[38;5;124mpower [W]\u001b[39m\u001b[38;5;124m\"\u001b[39m] \u001b[38;5;241m=\u001b[39m volume \u001b[38;5;241m*\u001b[39m viscosity \u001b[38;5;241m*\u001b[39m (\u001b[43mmean_data_frame\u001b[49m\u001b[43m[\u001b[49m\u001b[38;5;124;43m\"\u001b[39;49m\u001b[38;5;124;43mvelocity magnitude [m/s]\u001b[39;49m\u001b[38;5;124;43m\"\u001b[39;49m\u001b[43m]\u001b[49m\u001b[38;5;241m/\u001b[39mmean_data_frame[\u001b[38;5;124m\"\u001b[39m\u001b[38;5;124mcorrelation length [m]\u001b[39m\u001b[38;5;124m\"\u001b[39m])\u001b[38;5;241m*\u001b[39m\u001b[38;5;241m*\u001b[39m\u001b[38;5;241m2\u001b[39m\n\u001b[0;32m    217\u001b[0m \u001b[38;5;66;03m# Renaming time column\u001b[39;00m\n\u001b[0;32m    218\u001b[0m \u001b[38;5;66;03m# mean_data_frame.rename(columns={'frame': 'time [min]'}, inplace=True)\u001b[39;00m\n\u001b[0;32m    219\u001b[0m \n\u001b[0;32m    220\u001b[0m \u001b[38;5;66;03m# Remove unnecessary columns for the pivot matrices\u001b[39;00m\n\u001b[0;32m    221\u001b[0m mean_data_frame \u001b[38;5;241m=\u001b[39m mean_data_frame\u001b[38;5;241m.\u001b[39miloc[:, \u001b[38;5;241m5\u001b[39m:]\n",
      "File \u001b[1;32m~\\AppData\\Roaming\\Python\\Python311\\site-packages\\pandas\\core\\frame.py:3896\u001b[0m, in \u001b[0;36mDataFrame.__getitem__\u001b[1;34m(self, key)\u001b[0m\n\u001b[0;32m   3894\u001b[0m \u001b[38;5;28;01mif\u001b[39;00m \u001b[38;5;28mself\u001b[39m\u001b[38;5;241m.\u001b[39mcolumns\u001b[38;5;241m.\u001b[39mnlevels \u001b[38;5;241m>\u001b[39m \u001b[38;5;241m1\u001b[39m:\n\u001b[0;32m   3895\u001b[0m     \u001b[38;5;28;01mreturn\u001b[39;00m \u001b[38;5;28mself\u001b[39m\u001b[38;5;241m.\u001b[39m_getitem_multilevel(key)\n\u001b[1;32m-> 3896\u001b[0m indexer \u001b[38;5;241m=\u001b[39m \u001b[38;5;28;43mself\u001b[39;49m\u001b[38;5;241;43m.\u001b[39;49m\u001b[43mcolumns\u001b[49m\u001b[38;5;241;43m.\u001b[39;49m\u001b[43mget_loc\u001b[49m\u001b[43m(\u001b[49m\u001b[43mkey\u001b[49m\u001b[43m)\u001b[49m\n\u001b[0;32m   3897\u001b[0m \u001b[38;5;28;01mif\u001b[39;00m is_integer(indexer):\n\u001b[0;32m   3898\u001b[0m     indexer \u001b[38;5;241m=\u001b[39m [indexer]\n",
      "File \u001b[1;32m~\\AppData\\Roaming\\Python\\Python311\\site-packages\\pandas\\core\\indexes\\base.py:3797\u001b[0m, in \u001b[0;36mIndex.get_loc\u001b[1;34m(self, key)\u001b[0m\n\u001b[0;32m   3792\u001b[0m     \u001b[38;5;28;01mif\u001b[39;00m \u001b[38;5;28misinstance\u001b[39m(casted_key, \u001b[38;5;28mslice\u001b[39m) \u001b[38;5;129;01mor\u001b[39;00m (\n\u001b[0;32m   3793\u001b[0m         \u001b[38;5;28misinstance\u001b[39m(casted_key, abc\u001b[38;5;241m.\u001b[39mIterable)\n\u001b[0;32m   3794\u001b[0m         \u001b[38;5;129;01mand\u001b[39;00m \u001b[38;5;28many\u001b[39m(\u001b[38;5;28misinstance\u001b[39m(x, \u001b[38;5;28mslice\u001b[39m) \u001b[38;5;28;01mfor\u001b[39;00m x \u001b[38;5;129;01min\u001b[39;00m casted_key)\n\u001b[0;32m   3795\u001b[0m     ):\n\u001b[0;32m   3796\u001b[0m         \u001b[38;5;28;01mraise\u001b[39;00m InvalidIndexError(key)\n\u001b[1;32m-> 3797\u001b[0m     \u001b[38;5;28;01mraise\u001b[39;00m \u001b[38;5;167;01mKeyError\u001b[39;00m(key) \u001b[38;5;28;01mfrom\u001b[39;00m \u001b[38;5;21;01merr\u001b[39;00m\n\u001b[0;32m   3798\u001b[0m \u001b[38;5;28;01mexcept\u001b[39;00m \u001b[38;5;167;01mTypeError\u001b[39;00m:\n\u001b[0;32m   3799\u001b[0m     \u001b[38;5;66;03m# If we have a listlike key, _check_indexing_error will raise\u001b[39;00m\n\u001b[0;32m   3800\u001b[0m     \u001b[38;5;66;03m#  InvalidIndexError. Otherwise we fall through and re-raise\u001b[39;00m\n\u001b[0;32m   3801\u001b[0m     \u001b[38;5;66;03m#  the TypeError.\u001b[39;00m\n\u001b[0;32m   3802\u001b[0m     \u001b[38;5;28mself\u001b[39m\u001b[38;5;241m.\u001b[39m_check_indexing_error(key)\n",
      "\u001b[1;31mKeyError\u001b[0m: 'velocity magnitude [m/s]'"
     ]
    }
   ],
   "source": [
    "data_path = \"../../data/012724-kif3-2concs/\"\n",
    "condition1 = \"500ngul\"\n",
    "condition2 = \"1100ngul\"\n",
    "subcondition1 = \"rep1\"\n",
    "subcondition2 = \"rep2\"\n",
    "\n",
    "\n",
    "min_frame = 0\n",
    "max_frame = None\n",
    "\n",
    "\n",
    "rep1_ts, a = pivdrops.process_piv_data(data_path, condition1, subcondition1, min_frame=min_frame, max_frame=max_frame, plot_autocorrelation=False)\n",
    "# rep2_ts, b = pivdrops.process_piv_data(data_path, condition1, subcondition2, min_frame=min_frame, max_frame=max_frame, plot_autocorrelation=False)\n",
    "\n",
    "# rep3_ts, c = pivdrops.process_piv_data(data_path, condition2, subcondition1, min_frame=min_frame, max_frame=max_frame, plot_autocorrelation=False)\n",
    "# rep4_ts, d = pivdrops.process_piv_data(data_path, condition2, subcondition2, min_frame=min_frame, max_frame=max_frame, plot_autocorrelation=False)\n",
    "\n"
   ]
  },
  {
   "cell_type": "code",
   "execution_count": null,
   "metadata": {},
   "outputs": [],
   "source": [
    "features_pca = [\n",
    "    # \"data type [-]_mean\", \n",
    "    \"vorticity [1/s]_mean\",\t\n",
    "    \"velocity magnitude [um/s]\", \n",
    "    \"divergence [1/s]_mean\", \n",
    "    # \"dcev [1]_mean\", \n",
    "    \"shear [1/s]_mean\", \n",
    "    \"strain [1/s]_mean\", \n",
    "    # \"vector direction [degrees]_mean\", \n",
    "    \"correlation length [um]\", \n",
    "    \"power [W]_mean\",\n",
    "    \"work [J]\", \n",
    "    ]\n",
    "\n",
    "pivdrops.plot_features(\n",
    "    [data_path, data_path, data_path, data_path], \n",
    "    [condition1, condition1, condition2, condition2], \n",
    "    [subcondition1, subcondition2, subcondition1, subcondition2], \n",
    "    features_pca, time_intervals=[8, 8, 8, 8], \n",
    "    sigma=2,  \n",
    "    min_frame=0, \n",
    "    max_frame=500,\n",
    "    # trajectories=True,\n",
    "    )\n"
   ]
  },
  {
   "cell_type": "code",
   "execution_count": null,
   "metadata": {},
   "outputs": [],
   "source": []
  },
  {
   "cell_type": "code",
   "execution_count": null,
   "metadata": {},
   "outputs": [],
   "source": [
    "data_path = \"../../data/012724-kif3-2concs/\"\n",
    "condition1 = \"500ngul\"\n",
    "condition2 = \"1100ngul\"\n",
    "subcondition1 = \"rep1\"\n",
    "subcondition2 = \"rep2\"\n",
    "\n",
    "df = pivdrops.df_piv(data_path, condition2, subcondition1, min_frame=0, max_frame=33)"
   ]
  },
  {
   "cell_type": "code",
   "execution_count": null,
   "metadata": {},
   "outputs": [],
   "source": [
    "df[0]"
   ]
  },
  {
   "cell_type": "code",
   "execution_count": null,
   "metadata": {},
   "outputs": [],
   "source": [
    "pivdrops.correlation_length(df[0])"
   ]
  },
  {
   "cell_type": "code",
   "execution_count": null,
   "metadata": {},
   "outputs": [],
   "source": []
  }
 ],
 "metadata": {
  "kernelspec": {
   "display_name": "Python 3",
   "language": "python",
   "name": "python3"
  },
  "language_info": {
   "codemirror_mode": {
    "name": "ipython",
    "version": 3
   },
   "file_extension": ".py",
   "mimetype": "text/x-python",
   "name": "python",
   "nbconvert_exporter": "python",
   "pygments_lexer": "ipython3",
   "version": "3.11.5"
  }
 },
 "nbformat": 4,
 "nbformat_minor": 2
}
