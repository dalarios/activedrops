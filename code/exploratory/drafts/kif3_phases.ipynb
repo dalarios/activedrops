{
 "cells": [
  {
   "cell_type": "code",
   "execution_count": null,
   "metadata": {},
   "outputs": [],
   "source": [
    "## Import relevant libraries\n",
    "import sys\n",
    "sys.path.append('../../activedrops')\n",
    "import pivdrops\n",
    "import viz\n",
    "pivdrops.set_plotting_style()"
   ]
  },
  {
   "cell_type": "code",
   "execution_count": null,
   "metadata": {},
   "outputs": [],
   "source": [
    "# Example usage\n",
    "data_path = \"../../data/kif3_phases\"\n",
    "conditions = [\"10MT\", \"20MT\", \"40MT\"]\n",
    "subconditions = [\"40DNA\", \"60DNA\", \"80DNA\"]\n",
    "min_frame = 0\n",
    "max_frame = None\n",
    "time_interval=30\n",
    "skip_frames=8\n",
    "frame_rate=30\n"
   ]
  },
  {
   "cell_type": "code",
   "execution_count": null,
   "metadata": {},
   "outputs": [],
   "source": [
    "# Call the function with the updated parameters\n",
    "df_cy5 = viz.plot_mean_fluorescence_over_time(\n",
    "    data_path=data_path,\n",
    "    conditions=conditions,\n",
    "    subconditions=subconditions,\n",
    "    channel=\"cy5\",\n",
    "    time_interval=time_interval,  \n",
    "    min_frame=min_frame,\n",
    "    max_frame=max_frame,\n",
    "    skip_frames=skip_frames,\n",
    "    log_scale=False  # Set log_scale to True\n",
    ")\n"
   ]
  },
  {
   "cell_type": "code",
   "execution_count": null,
   "metadata": {},
   "outputs": [],
   "source": [
    "# Call the function with the updated parameters\n",
    "df_cy5 = viz.plot_mean_fluorescence_over_time(\n",
    "    data_path=data_path,\n",
    "    conditions=conditions,\n",
    "    subconditions=subconditions,\n",
    "    channel=\"gfp\",\n",
    "    time_interval=30,  \n",
    "    min_frame=min_frame,\n",
    "    max_frame=max_frame,\n",
    "    skip_frames=skip_frames,\n",
    "    log_scale=False  # Set log_scale to True\n",
    ")\n"
   ]
  },
  {
   "cell_type": "code",
   "execution_count": null,
   "metadata": {},
   "outputs": [],
   "source": [
    "viz.process_all_conditions_and_subconditions(\n",
    "    data_path=data_path,\n",
    "    conditions=conditions,\n",
    "    subconditions=subconditions,\n",
    "    channel=\"cy5\",\n",
    "    time_interval=time_interval,  # Adjust as needed\n",
    "    skip_frames=skip_frames,\n",
    "    vmax=0.15,  # Adjust as needed\n",
    "    frame_rate=frame_rate,  # Adjust as needed\n",
    "    min_frame=0,\n",
    "    max_frame=None,\n",
    ")\n"
   ]
  },
  {
   "cell_type": "code",
   "execution_count": null,
   "metadata": {},
   "outputs": [],
   "source": [
    "viz.process_all_conditions_and_subconditions(\n",
    "    data_path=data_path,\n",
    "    conditions=conditions,\n",
    "    subconditions=subconditions,\n",
    "    channel=\"gfp\",\n",
    "    time_interval=time_interval,  # Adjust as needed\n",
    "    skip_frames=skip_frames,\n",
    "    vmax=0.025,  # Adjust as needed\n",
    "    frame_rate=frame_rate,  # Adjust as needed\n",
    "    min_frame=0,\n",
    "    max_frame=None,\n",
    ")\n"
   ]
  },
  {
   "cell_type": "code",
   "execution_count": null,
   "metadata": {},
   "outputs": [],
   "source": [
    "viz.grid_heatmaps(data_path, conditions, subconditions, \"cy5\")\n",
    "viz.grid_heatmaps(data_path, conditions, subconditions, \"gfp\")"
   ]
  },
  {
   "cell_type": "code",
   "execution_count": null,
   "metadata": {},
   "outputs": [],
   "source": [
    "viz.create_movies_grid(data_path, 'cy5', frame_rate)\n",
    "viz.create_movies_grid(data_path, 'gfp', frame_rate)"
   ]
  },
  {
   "cell_type": "code",
   "execution_count": null,
   "metadata": {},
   "outputs": [],
   "source": []
  }
 ],
 "metadata": {
  "kernelspec": {
   "display_name": "base",
   "language": "python",
   "name": "python3"
  },
  "language_info": {
   "codemirror_mode": {
    "name": "ipython",
    "version": 3
   },
   "file_extension": ".py",
   "mimetype": "text/x-python",
   "name": "python",
   "nbconvert_exporter": "python",
   "pygments_lexer": "ipython3",
   "version": "3.11.5"
  }
 },
 "nbformat": 4,
 "nbformat_minor": 2
}
