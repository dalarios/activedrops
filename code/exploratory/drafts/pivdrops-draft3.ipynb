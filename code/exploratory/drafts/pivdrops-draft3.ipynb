{
 "cells": [
  {
   "cell_type": "code",
   "execution_count": null,
   "metadata": {},
   "outputs": [],
   "source": [
    "## Import relevant libraries\n",
    "import sys\n",
    "sys.path.append('../../activedrops')\n",
    "\n",
    "## Including ourselves\n",
    "import pivdrops\n",
    "pivdrops.set_plotting_style()"
   ]
  },
  {
   "cell_type": "code",
   "execution_count": null,
   "metadata": {},
   "outputs": [],
   "source": [
    "min_frame = 0\n",
    "max_frame = 22\n",
    "frame_rate=120\n",
    "\n",
    "velocity_limits = (0, 10)\n",
    "other_limits = (-0.03, 0.03)\n",
    "\n",
    "feature_limits = {\n",
    "    'magnitude [um/s]': velocity_limits,\n",
    "    'vorticity [1/s]': other_limits,\n",
    "    'divergence [1/s]': other_limits,\n",
    "    'dcev [1]': (0, 250),\n",
    "    'simple shear [1/s]': other_limits,\n",
    "    'simple strain [1/s]': other_limits,\n",
    "    'vector direction [degrees]': (-180, 180),\n",
    "}\n",
    "\n",
    "pivdrops.process_piv_data(\"../../data/01-k401-biotin_strep/\", \"125nM\", \"2ul\", max_frame, feature_limits, frame_rate=frame_rate, volume=2, save_csv=True, heatmaps=True)\n",
    "# pivdrops.process_piv_data(\"../../data/01-k401-biotin_strep/\", \"250nM\", \"2ul\", max_frame, feature_limits, frame_rate=frame_rate, volume=2)\n",
    "# pivdrops.process_piv_data(\"../../data/01-k401-biotin_strep/\", \"500nM\", \"2ul\", max_frame, feature_limits, frame_rate=frame_rate, volume=2)"
   ]
  },
  {
   "cell_type": "code",
   "execution_count": null,
   "metadata": {},
   "outputs": [],
   "source": [
    "min_frame = 0\n",
    "max_frame = 120\n",
    "frame_rate=120\n",
    "\n",
    "velocity_limits = (0, 3)\n",
    "other_limits = (-0.003, 0.003)\n",
    "\n",
    "\n",
    "feature_limits = {\n",
    "    'magnitude [um/s]': velocity_limits,\n",
    "    'vorticity [1/s]': other_limits,\n",
    "    'divergence [1/s]': other_limits,\n",
    "    'dcev [1]': (0, 250),\n",
    "    'simple shear [1/s]': other_limits,\n",
    "    'simple strain [1/s]': other_limits,\n",
    "    'vector direction [degrees]': (-180, 180),\n",
    "}\n",
    "\n",
    "# pivdrops.process_piv_data(\"../../data/02-ActiveDROPSfig2-K401_Kif3/\", \"k401\", \"rep1\", max_frame=max_frame, feature_limits=feature_limits, frame_rate=frame_rate, volume=2)\n",
    "# pivdrops.process_piv_data(\"../../data/02-ActiveDROPSfig2-K401_Kif3/\", \"kif3\", \"rep1\", max_frame=max_frame, feature_limits=feature_limits, frame_rate=frame_rate, volume=2)\n",
    "\n",
    "\n",
    "pivdrops.plot_piv_features(\n",
    "    [\"../../data/02-ActiveDROPSfig2-K401_Kif3/\", \"../../data/02-ActiveDROPSfig2-K401_Kif3/\"], \n",
    "    [\"k401\", \"kif3\"], \n",
    "    [\"rep1\", \"rep1\"], \n",
    "    seconds_intervals=[3, 3],\n",
    "    sigma=1, \n",
    "    min_frame=min_frame, \n",
    "    max_frame=max_frame)\n"
   ]
  },
  {
   "cell_type": "code",
   "execution_count": null,
   "metadata": {},
   "outputs": [],
   "source": [
    "pivdrops.plot_piv_features(\n",
    "    [\"../../data/01-k401-biotin_strep/\", \"../../data/01-k401-biotin_strep/\", \"../../data/01-k401-biotin_strep/\", \"../../data/02-ActiveDROPSfig2-K401_Kif3/\", \"../../data/02-ActiveDROPSfig2-K401_Kif3/\"], \n",
    "    [\"125nM\", \"250nM\", \"500nM\", \"k401\", \"kif3\"], \n",
    "    [\"2ul\", \"2ul\", \"2ul\", \"rep1\", \"rep1\"], \n",
    "    seconds_intervals=[3, 3, 3, 3, 3], \n",
    "    sigma=1, \n",
    "    min_frame=min_frame, \n",
    "    max_frame=max_frame)\n"
   ]
  },
  {
   "cell_type": "code",
   "execution_count": null,
   "metadata": {},
   "outputs": [],
   "source": []
  }
 ],
 "metadata": {
  "kernelspec": {
   "display_name": "base",
   "language": "python",
   "name": "python3"
  },
  "language_info": {
   "codemirror_mode": {
    "name": "ipython",
    "version": 3
   },
   "file_extension": ".py",
   "mimetype": "text/x-python",
   "name": "python",
   "nbconvert_exporter": "python",
   "pygments_lexer": "ipython3",
   "version": "3.11.5"
  }
 },
 "nbformat": 4,
 "nbformat_minor": 2
}
