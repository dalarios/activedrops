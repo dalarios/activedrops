{
 "cells": [
  {
   "cell_type": "code",
   "execution_count": 1,
   "metadata": {},
   "outputs": [],
   "source": [
    "## Import relevant libraries\n",
    "import sys\n",
    "import os\n",
    "import shutil\n",
    "from natsort import natsorted  # For natural sorting\n",
    "sys.path.append('../../activedrops')\n",
    "\n",
    "## Including ourselves\n",
    "import quadrop as qd\n",
    "qd.set_plotting_style()\n"
   ]
  },
  {
   "cell_type": "code",
   "execution_count": 8,
   "metadata": {},
   "outputs": [
    {
     "data": {
      "text/plain": [
       "['Pos20']"
      ]
     },
     "execution_count": 8,
     "metadata": {},
     "output_type": "execute_result"
    }
   ],
   "source": [
    "data_path = \"../../data/motors-screening-atpinjection/4ulTXTL-0p5ulMT-0p6DNA40nM-1p5PBS5p4_2/\"\n",
    "\n",
    "# let's declare the variable \"conditions\" to the sorted list of subdirectories from data_path\n",
    "conditions = natsorted([f for f in os.listdir(data_path) if os.path.isdir(os.path.join(data_path, f))])\n",
    "\n",
    "# let's declare the variable \"subconditions\" to the sorted list of subdirectories from the first condition\n",
    "subconditions = natsorted([f for f in os.listdir(os.path.join(data_path, conditions[0])) if os.path.isdir(os.path.join(data_path, conditions[0], f))])\n",
    "\n",
    "subconditions"
   ]
  },
  {
   "cell_type": "code",
   "execution_count": 4,
   "metadata": {},
   "outputs": [
    {
     "name": "stdout",
     "output_type": "stream",
     "text": [
      "Moved .tif files from ../../data/motors-screening-atpinjection/4ulTXTL-0p5ulMT-0p6DNA40nM-1p5PBS5p4_2/AcSu/Pos20 to ../../data/motors-screening-atpinjection/4ulTXTL-0p5ulMT-0p6DNA40nM-1p5PBS5p4_2/AcSu/Pos20/original\n",
      "Moved .tif files from ../../data/motors-screening-atpinjection/4ulTXTL-0p5ulMT-0p6DNA40nM-1p5PBS5p4_2/AcSu2/Pos20 to ../../data/motors-screening-atpinjection/4ulTXTL-0p5ulMT-0p6DNA40nM-1p5PBS5p4_2/AcSu2/Pos20/original\n",
      "Moved .tif files from ../../data/motors-screening-atpinjection/4ulTXTL-0p5ulMT-0p6DNA40nM-1p5PBS5p4_2/AdPa/Pos20 to ../../data/motors-screening-atpinjection/4ulTXTL-0p5ulMT-0p6DNA40nM-1p5PBS5p4_2/AdPa/Pos20/original\n",
      "Moved .tif files from ../../data/motors-screening-atpinjection/4ulTXTL-0p5ulMT-0p6DNA40nM-1p5PBS5p4_2/BleSto2/Pos20 to ../../data/motors-screening-atpinjection/4ulTXTL-0p5ulMT-0p6DNA40nM-1p5PBS5p4_2/BleSto2/Pos20/original\n",
      "Moved .tif files from ../../data/motors-screening-atpinjection/4ulTXTL-0p5ulMT-0p6DNA40nM-1p5PBS5p4_2/CaFa/Pos20 to ../../data/motors-screening-atpinjection/4ulTXTL-0p5ulMT-0p6DNA40nM-1p5PBS5p4_2/CaFa/Pos20/original\n",
      "Moved .tif files from ../../data/motors-screening-atpinjection/4ulTXTL-0p5ulMT-0p6DNA40nM-1p5PBS5p4_2/DiDi/Pos20 to ../../data/motors-screening-atpinjection/4ulTXTL-0p5ulMT-0p6DNA40nM-1p5PBS5p4_2/DiDi/Pos20/original\n",
      "Moved .tif files from ../../data/motors-screening-atpinjection/4ulTXTL-0p5ulMT-0p6DNA40nM-1p5PBS5p4_2/DiPu/Pos20 to ../../data/motors-screening-atpinjection/4ulTXTL-0p5ulMT-0p6DNA40nM-1p5PBS5p4_2/DiPu/Pos20/original\n",
      "Moved .tif files from ../../data/motors-screening-atpinjection/4ulTXTL-0p5ulMT-0p6DNA40nM-1p5PBS5p4_2/Giin/Pos20 to ../../data/motors-screening-atpinjection/4ulTXTL-0p5ulMT-0p6DNA40nM-1p5PBS5p4_2/Giin/Pos20/original\n",
      "Moved .tif files from ../../data/motors-screening-atpinjection/4ulTXTL-0p5ulMT-0p6DNA40nM-1p5PBS5p4_2/HeAl/Pos20 to ../../data/motors-screening-atpinjection/4ulTXTL-0p5ulMT-0p6DNA40nM-1p5PBS5p4_2/HeAl/Pos20/original\n",
      "Moved .tif files from ../../data/motors-screening-atpinjection/4ulTXTL-0p5ulMT-0p6DNA40nM-1p5PBS5p4_2/NCD/Pos20 to ../../data/motors-screening-atpinjection/4ulTXTL-0p5ulMT-0p6DNA40nM-1p5PBS5p4_2/NCD/Pos20/original\n",
      "Moved .tif files from ../../data/motors-screening-atpinjection/4ulTXTL-0p5ulMT-0p6DNA40nM-1p5PBS5p4_2/NaFo/Pos20 to ../../data/motors-screening-atpinjection/4ulTXTL-0p5ulMT-0p6DNA40nM-1p5PBS5p4_2/NaFo/Pos20/original\n",
      "Moved .tif files from ../../data/motors-screening-atpinjection/4ulTXTL-0p5ulMT-0p6DNA40nM-1p5PBS5p4_2/NaGr/Pos20 to ../../data/motors-screening-atpinjection/4ulTXTL-0p5ulMT-0p6DNA40nM-1p5PBS5p4_2/NaGr/Pos20/original\n",
      "Moved .tif files from ../../data/motors-screening-atpinjection/4ulTXTL-0p5ulMT-0p6DNA40nM-1p5PBS5p4_2/PaBi/Pos20 to ../../data/motors-screening-atpinjection/4ulTXTL-0p5ulMT-0p6DNA40nM-1p5PBS5p4_2/PaBi/Pos20/original\n",
      "Moved .tif files from ../../data/motors-screening-atpinjection/4ulTXTL-0p5ulMT-0p6DNA40nM-1p5PBS5p4_2/PoVi/Pos20 to ../../data/motors-screening-atpinjection/4ulTXTL-0p5ulMT-0p6DNA40nM-1p5PBS5p4_2/PoVi/Pos20/original\n",
      "Moved .tif files from ../../data/motors-screening-atpinjection/4ulTXTL-0p5ulMT-0p6DNA40nM-1p5PBS5p4_2/SteCoe/Pos20 to ../../data/motors-screening-atpinjection/4ulTXTL-0p5ulMT-0p6DNA40nM-1p5PBS5p4_2/SteCoe/Pos20/original\n",
      "Moved .tif files from ../../data/motors-screening-atpinjection/4ulTXTL-0p5ulMT-0p6DNA40nM-1p5PBS5p4_2/SteCoe4/Pos20 to ../../data/motors-screening-atpinjection/4ulTXTL-0p5ulMT-0p6DNA40nM-1p5PBS5p4_2/SteCoe4/Pos20/original\n",
      "Moved .tif files from ../../data/motors-screening-atpinjection/4ulTXTL-0p5ulMT-0p6DNA40nM-1p5PBS5p4_2/StyLe/Pos20 to ../../data/motors-screening-atpinjection/4ulTXTL-0p5ulMT-0p6DNA40nM-1p5PBS5p4_2/StyLe/Pos20/original\n",
      "Moved .tif files from ../../data/motors-screening-atpinjection/4ulTXTL-0p5ulMT-0p6DNA40nM-1p5PBS5p4_2/ThTr/Pos20 to ../../data/motors-screening-atpinjection/4ulTXTL-0p5ulMT-0p6DNA40nM-1p5PBS5p4_2/ThTr/Pos20/original\n",
      "Moved .tif files from ../../data/motors-screening-atpinjection/4ulTXTL-0p5ulMT-0p6DNA40nM-1p5PBS5p4_2/TiLa/Pos20 to ../../data/motors-screening-atpinjection/4ulTXTL-0p5ulMT-0p6DNA40nM-1p5PBS5p4_2/TiLa/Pos20/original\n",
      "Moved .tif files from ../../data/motors-screening-atpinjection/4ulTXTL-0p5ulMT-0p6DNA40nM-1p5PBS5p4_2/TrBr/Pos20 to ../../data/motors-screening-atpinjection/4ulTXTL-0p5ulMT-0p6DNA40nM-1p5PBS5p4_2/TrBr/Pos20/original\n",
      "Moved .tif files from ../../data/motors-screening-atpinjection/4ulTXTL-0p5ulMT-0p6DNA40nM-1p5PBS5p4_2/TrVa/Pos20 to ../../data/motors-screening-atpinjection/4ulTXTL-0p5ulMT-0p6DNA40nM-1p5PBS5p4_2/TrVa/Pos20/original\n",
      "Moved .tif files from ../../data/motors-screening-atpinjection/4ulTXTL-0p5ulMT-0p6DNA40nM-1p5PBS5p4_2/Unc/Pos20 to ../../data/motors-screening-atpinjection/4ulTXTL-0p5ulMT-0p6DNA40nM-1p5PBS5p4_2/Unc/Pos20/original\n",
      "Moved .tif files from ../../data/motors-screening-atpinjection/4ulTXTL-0p5ulMT-0p6DNA40nM-1p5PBS5p4_2/kif5/Pos20 to ../../data/motors-screening-atpinjection/4ulTXTL-0p5ulMT-0p6DNA40nM-1p5PBS5p4_2/kif5/Pos20/original\n",
      "Moved .tif files from ../../data/motors-screening-atpinjection/4ulTXTL-0p5ulMT-0p6DNA40nM-1p5PBS5p4_2/kva/Pos20 to ../../data/motors-screening-atpinjection/4ulTXTL-0p5ulMT-0p6DNA40nM-1p5PBS5p4_2/kva/Pos20/original\n"
     ]
    }
   ],
   "source": [
    "def reorgTiffsToOriginal(data_path, conditions, subconditions):\n",
    "    \"\"\"\n",
    "    Args:\n",
    "        data_path (_type_): _description_\n",
    "        conditions (_type_): _description_\n",
    "        subconditions (_type_): _description_\n",
    "        \n",
    "        \n",
    "    Activate when you have your subconditions inside the conditions folder. \n",
    "    This function renames the subconditions as PosX and moves the raw data do \"original\" folder.\n",
    "    \"\"\"\n",
    "    \n",
    "    \n",
    "    for condition in conditions:\n",
    "        # Get the actual subconditions in the directory\n",
    "        actual_subconditions = [name for name in os.listdir(os.path.join(data_path, condition)) if os.path.isdir(os.path.join(data_path, condition, name))]\n",
    "        \n",
    "        # Rename the actual subconditions to match the subconditions in your list\n",
    "        for i, actual_subcondition in enumerate(sorted(actual_subconditions)):\n",
    "            os.rename(os.path.join(data_path, condition, actual_subcondition), os.path.join(data_path, condition, subconditions[i]))\n",
    "        \n",
    "        for subcondition in subconditions:\n",
    "            # Construct the path to the subcondition directory\n",
    "            subcondition_path = os.path.join(data_path, condition, subcondition)\n",
    "            \n",
    "            # Create the path for the \"original\" directory within the subcondition directory\n",
    "            original_dir_path = os.path.join(subcondition_path, \"original\")\n",
    "            \n",
    "            # Always create the \"original\" directory\n",
    "            os.makedirs(original_dir_path, exist_ok=True)\n",
    "            \n",
    "            # Iterate over all files in the subcondition directory\n",
    "            for filename in os.listdir(subcondition_path):\n",
    "                # Check if the file is a .tif file\n",
    "                if filename.endswith(\".tif\"):\n",
    "                    # Construct the full path to the file\n",
    "                    file_path = os.path.join(subcondition_path, filename)\n",
    "                    \n",
    "                    # Construct the path to move the file to\n",
    "                    destination_path = os.path.join(original_dir_path, filename)\n",
    "                    \n",
    "                    # Move the file to the \"original\" directory\n",
    "                    shutil.move(file_path, destination_path)\n",
    "            print(f\"Moved .tif files from {subcondition_path} to {original_dir_path}\")\n",
    "\n",
    "\n",
    "reorgTiffsToOriginal(data_path, conditions, subconditions)"
   ]
  },
  {
   "cell_type": "code",
   "execution_count": 9,
   "metadata": {},
   "outputs": [],
   "source": [
    "# frame info\n",
    "min_frame = 0\n",
    "max_frame = None\n",
    "skip_frames=8\n",
    "frame_rate=30\n",
    "time_intervals = [300] * len(conditions)\n"
   ]
  },
  {
   "cell_type": "code",
   "execution_count": 13,
   "metadata": {},
   "outputs": [
    {
     "ename": "ValueError",
     "evalue": "zero-size array to reduction operation minimum which has no identity",
     "output_type": "error",
     "traceback": [
      "\u001b[0;31m---------------------------------------------------------------------------\u001b[0m",
      "\u001b[0;31mValueError\u001b[0m                                Traceback (most recent call last)",
      "Cell \u001b[0;32mIn[13], line 2\u001b[0m\n\u001b[1;32m      1\u001b[0m \u001b[38;5;66;03m# Call the function with the updated parameters\u001b[39;00m\n\u001b[0;32m----> 2\u001b[0m qd\u001b[38;5;241m.\u001b[39mplot_fluorescence_vs_time(\n\u001b[1;32m      3\u001b[0m     data_path\u001b[38;5;241m=\u001b[39mdata_path,\n\u001b[1;32m      4\u001b[0m     conditions\u001b[38;5;241m=\u001b[39mconditions,\n\u001b[1;32m      5\u001b[0m     subconditions\u001b[38;5;241m=\u001b[39msubconditions,\n\u001b[1;32m      6\u001b[0m     channel\u001b[38;5;241m=\u001b[39m\u001b[38;5;124m\"\u001b[39m\u001b[38;5;124mgfp\u001b[39m\u001b[38;5;124m\"\u001b[39m,\n\u001b[1;32m      7\u001b[0m     time_intervals\u001b[38;5;241m=\u001b[39mtime_intervals,  \n\u001b[1;32m      8\u001b[0m     min_frame\u001b[38;5;241m=\u001b[39mmin_frame,\n\u001b[1;32m      9\u001b[0m     max_frame\u001b[38;5;241m=\u001b[39mmax_frame,\n\u001b[1;32m     10\u001b[0m     skip_frames\u001b[38;5;241m=\u001b[39mskip_frames,\n\u001b[1;32m     11\u001b[0m     log_scale\u001b[38;5;241m=\u001b[39m\u001b[38;5;28;01mFalse\u001b[39;00m,  \u001b[38;5;66;03m# Set log_scale to True\u001b[39;00m\n\u001b[1;32m     12\u001b[0m     timescale\u001b[38;5;241m=\u001b[39m\u001b[38;5;124m\"\u001b[39m\u001b[38;5;124mmin\u001b[39m\u001b[38;5;124m\"\u001b[39m\n\u001b[1;32m     13\u001b[0m )\n",
      "File \u001b[0;32m~/git/activedrops/code/exploratory/../../activedrops/quadrop.py:209\u001b[0m, in \u001b[0;36mplot_fluorescence_vs_time\u001b[0;34m(data_path, conditions, subconditions, channel, time_intervals, min_frame, max_frame, skip_frames, log_scale, timescale)\u001b[0m\n\u001b[1;32m    204\u001b[0m     frames\u001b[38;5;241m.\u001b[39mappend(i \u001b[38;5;241m*\u001b[39m skip_frames)\n\u001b[1;32m    205\u001b[0m     intensities\u001b[38;5;241m.\u001b[39mappend(mean_intensity)\n\u001b[1;32m    207\u001b[0m results_df \u001b[38;5;241m=\u001b[39m pd\u001b[38;5;241m.\u001b[39mDataFrame({\n\u001b[1;32m    208\u001b[0m     \u001b[38;5;124m\"\u001b[39m\u001b[38;5;124mframe\u001b[39m\u001b[38;5;124m\"\u001b[39m: frames,\n\u001b[0;32m--> 209\u001b[0m     \u001b[38;5;124m\"\u001b[39m\u001b[38;5;124mmean_intensity\u001b[39m\u001b[38;5;124m\"\u001b[39m: intensities \u001b[38;5;241m-\u001b[39m np\u001b[38;5;241m.\u001b[39mmin(intensities)\n\u001b[1;32m    210\u001b[0m })\n\u001b[1;32m    212\u001b[0m smoothed_intensities \u001b[38;5;241m=\u001b[39m gaussian_filter1d(results_df[\u001b[38;5;124m\"\u001b[39m\u001b[38;5;124mmean_intensity\u001b[39m\u001b[38;5;124m\"\u001b[39m], sigma\u001b[38;5;241m=\u001b[39m\u001b[38;5;241m1\u001b[39m)\n\u001b[1;32m    214\u001b[0m alpha \u001b[38;5;241m=\u001b[39m \u001b[38;5;241m0.3\u001b[39m \u001b[38;5;241m+\u001b[39m (sub_idx \u001b[38;5;241m/\u001b[39m \u001b[38;5;28mlen\u001b[39m(subconditions)) \u001b[38;5;241m*\u001b[39m \u001b[38;5;241m0.7\u001b[39m\n",
      "File \u001b[0;32m<__array_function__ internals>:200\u001b[0m, in \u001b[0;36mamin\u001b[0;34m(*args, **kwargs)\u001b[0m\n",
      "File \u001b[0;32m~/anaconda3/lib/python3.11/site-packages/numpy/core/fromnumeric.py:2946\u001b[0m, in \u001b[0;36mamin\u001b[0;34m(a, axis, out, keepdims, initial, where)\u001b[0m\n\u001b[1;32m   2829\u001b[0m \u001b[38;5;129m@array_function_dispatch\u001b[39m(_amin_dispatcher)\n\u001b[1;32m   2830\u001b[0m \u001b[38;5;28;01mdef\u001b[39;00m \u001b[38;5;21mamin\u001b[39m(a, axis\u001b[38;5;241m=\u001b[39m\u001b[38;5;28;01mNone\u001b[39;00m, out\u001b[38;5;241m=\u001b[39m\u001b[38;5;28;01mNone\u001b[39;00m, keepdims\u001b[38;5;241m=\u001b[39mnp\u001b[38;5;241m.\u001b[39m_NoValue, initial\u001b[38;5;241m=\u001b[39mnp\u001b[38;5;241m.\u001b[39m_NoValue,\n\u001b[1;32m   2831\u001b[0m          where\u001b[38;5;241m=\u001b[39mnp\u001b[38;5;241m.\u001b[39m_NoValue):\n\u001b[1;32m   2832\u001b[0m \u001b[38;5;250m    \u001b[39m\u001b[38;5;124;03m\"\"\"\u001b[39;00m\n\u001b[1;32m   2833\u001b[0m \u001b[38;5;124;03m    Return the minimum of an array or minimum along an axis.\u001b[39;00m\n\u001b[1;32m   2834\u001b[0m \n\u001b[0;32m   (...)\u001b[0m\n\u001b[1;32m   2944\u001b[0m \u001b[38;5;124;03m    6\u001b[39;00m\n\u001b[1;32m   2945\u001b[0m \u001b[38;5;124;03m    \"\"\"\u001b[39;00m\n\u001b[0;32m-> 2946\u001b[0m     \u001b[38;5;28;01mreturn\u001b[39;00m _wrapreduction(a, np\u001b[38;5;241m.\u001b[39mminimum, \u001b[38;5;124m'\u001b[39m\u001b[38;5;124mmin\u001b[39m\u001b[38;5;124m'\u001b[39m, axis, \u001b[38;5;28;01mNone\u001b[39;00m, out,\n\u001b[1;32m   2947\u001b[0m                           keepdims\u001b[38;5;241m=\u001b[39mkeepdims, initial\u001b[38;5;241m=\u001b[39minitial, where\u001b[38;5;241m=\u001b[39mwhere)\n",
      "File \u001b[0;32m~/anaconda3/lib/python3.11/site-packages/numpy/core/fromnumeric.py:86\u001b[0m, in \u001b[0;36m_wrapreduction\u001b[0;34m(obj, ufunc, method, axis, dtype, out, **kwargs)\u001b[0m\n\u001b[1;32m     83\u001b[0m         \u001b[38;5;28;01melse\u001b[39;00m:\n\u001b[1;32m     84\u001b[0m             \u001b[38;5;28;01mreturn\u001b[39;00m reduction(axis\u001b[38;5;241m=\u001b[39maxis, out\u001b[38;5;241m=\u001b[39mout, \u001b[38;5;241m*\u001b[39m\u001b[38;5;241m*\u001b[39mpasskwargs)\n\u001b[0;32m---> 86\u001b[0m \u001b[38;5;28;01mreturn\u001b[39;00m ufunc\u001b[38;5;241m.\u001b[39mreduce(obj, axis, dtype, out, \u001b[38;5;241m*\u001b[39m\u001b[38;5;241m*\u001b[39mpasskwargs)\n",
      "\u001b[0;31mValueError\u001b[0m: zero-size array to reduction operation minimum which has no identity"
     ]
    },
    {
     "data": {
      "text/plain": [
       "<Figure size 1200x800 with 0 Axes>"
      ]
     },
     "metadata": {},
     "output_type": "display_data"
    }
   ],
   "source": [
    "# Call the function with the updated parameters\n",
    "qd.plot_fluorescence_vs_time(\n",
    "    data_path=data_path,\n",
    "    conditions=conditions,\n",
    "    subconditions=subconditions,\n",
    "    channel=\"cy5\",\n",
    "    time_intervals=time_intervals,  \n",
    "    min_frame=min_frame,\n",
    "    max_frame=max_frame,\n",
    "    skip_frames=skip_frames,\n",
    "    log_scale=False,  # Set log_scale to True\n",
    "    timescale=\"min\"\n",
    ")\n"
   ]
  },
  {
   "cell_type": "code",
   "execution_count": 18,
   "metadata": {},
   "outputs": [
    {
     "name": "stdout",
     "output_type": "stream",
     "text": [
      "Video saved to ../../data/motors-screening-atpinjection/4ulTXTL-0p5ulMT-0p6DNA40nM-1p5PBS5p4_2/single_movies_cy5/AcSu_Pos20-cy5.avi\n",
      "Video saved to ../../data/motors-screening-atpinjection/4ulTXTL-0p5ulMT-0p6DNA40nM-1p5PBS5p4_2/single_movies_cy5/AcSu2_Pos20-cy5.avi\n",
      "Video saved to ../../data/motors-screening-atpinjection/4ulTXTL-0p5ulMT-0p6DNA40nM-1p5PBS5p4_2/single_movies_cy5/AdPa_Pos20-cy5.avi\n",
      "Video saved to ../../data/motors-screening-atpinjection/4ulTXTL-0p5ulMT-0p6DNA40nM-1p5PBS5p4_2/single_movies_cy5/BleSto2_Pos20-cy5.avi\n",
      "Video saved to ../../data/motors-screening-atpinjection/4ulTXTL-0p5ulMT-0p6DNA40nM-1p5PBS5p4_2/single_movies_cy5/CaFa_Pos20-cy5.avi\n",
      "Video saved to ../../data/motors-screening-atpinjection/4ulTXTL-0p5ulMT-0p6DNA40nM-1p5PBS5p4_2/single_movies_cy5/DiDi_Pos20-cy5.avi\n",
      "Video saved to ../../data/motors-screening-atpinjection/4ulTXTL-0p5ulMT-0p6DNA40nM-1p5PBS5p4_2/single_movies_cy5/DiPu_Pos20-cy5.avi\n",
      "Video saved to ../../data/motors-screening-atpinjection/4ulTXTL-0p5ulMT-0p6DNA40nM-1p5PBS5p4_2/single_movies_cy5/Giin_Pos20-cy5.avi\n",
      "Video saved to ../../data/motors-screening-atpinjection/4ulTXTL-0p5ulMT-0p6DNA40nM-1p5PBS5p4_2/single_movies_cy5/HeAl_Pos20-cy5.avi\n",
      "Video saved to ../../data/motors-screening-atpinjection/4ulTXTL-0p5ulMT-0p6DNA40nM-1p5PBS5p4_2/single_movies_cy5/NCD_Pos20-cy5.avi\n",
      "Video saved to ../../data/motors-screening-atpinjection/4ulTXTL-0p5ulMT-0p6DNA40nM-1p5PBS5p4_2/single_movies_cy5/NaFo_Pos20-cy5.avi\n",
      "Video saved to ../../data/motors-screening-atpinjection/4ulTXTL-0p5ulMT-0p6DNA40nM-1p5PBS5p4_2/single_movies_cy5/NaGr_Pos20-cy5.avi\n",
      "Video saved to ../../data/motors-screening-atpinjection/4ulTXTL-0p5ulMT-0p6DNA40nM-1p5PBS5p4_2/single_movies_cy5/PaBi_Pos20-cy5.avi\n",
      "Video saved to ../../data/motors-screening-atpinjection/4ulTXTL-0p5ulMT-0p6DNA40nM-1p5PBS5p4_2/single_movies_cy5/PoVi_Pos20-cy5.avi\n",
      "Video saved to ../../data/motors-screening-atpinjection/4ulTXTL-0p5ulMT-0p6DNA40nM-1p5PBS5p4_2/single_movies_cy5/SteCoe_Pos20-cy5.avi\n",
      "Video saved to ../../data/motors-screening-atpinjection/4ulTXTL-0p5ulMT-0p6DNA40nM-1p5PBS5p4_2/single_movies_cy5/SteCoe4_Pos20-cy5.avi\n",
      "Video saved to ../../data/motors-screening-atpinjection/4ulTXTL-0p5ulMT-0p6DNA40nM-1p5PBS5p4_2/single_movies_cy5/StyLe_Pos20-cy5.avi\n",
      "Video saved to ../../data/motors-screening-atpinjection/4ulTXTL-0p5ulMT-0p6DNA40nM-1p5PBS5p4_2/single_movies_cy5/ThTr_Pos20-cy5.avi\n",
      "Video saved to ../../data/motors-screening-atpinjection/4ulTXTL-0p5ulMT-0p6DNA40nM-1p5PBS5p4_2/single_movies_cy5/TiLa_Pos20-cy5.avi\n",
      "Video saved to ../../data/motors-screening-atpinjection/4ulTXTL-0p5ulMT-0p6DNA40nM-1p5PBS5p4_2/single_movies_cy5/TrBr_Pos20-cy5.avi\n",
      "Video saved to ../../data/motors-screening-atpinjection/4ulTXTL-0p5ulMT-0p6DNA40nM-1p5PBS5p4_2/single_movies_cy5/TrVa_Pos20-cy5.avi\n",
      "Video saved to ../../data/motors-screening-atpinjection/4ulTXTL-0p5ulMT-0p6DNA40nM-1p5PBS5p4_2/single_movies_cy5/Unc_Pos20-cy5.avi\n",
      "Video saved to ../../data/motors-screening-atpinjection/4ulTXTL-0p5ulMT-0p6DNA40nM-1p5PBS5p4_2/single_movies_cy5/kif5_Pos20-cy5.avi\n",
      "Video saved to ../../data/motors-screening-atpinjection/4ulTXTL-0p5ulMT-0p6DNA40nM-1p5PBS5p4_2/single_movies_cy5/kva_Pos20-cy5.avi\n"
     ]
    }
   ],
   "source": [
    "# frame info\n",
    "min_frame = 0\n",
    "max_frame = None\n",
    "skip_frames=4\n",
    "frame_rate=30\n",
    "\n",
    "# channel info\n",
    "channel = \"cy5\"\n",
    "vmax = 0.04\n",
    "\n",
    "qd.single_fluorescence_movies(data_path, conditions, subconditions, channel, time_intervals, min_frame, max_frame, vmax, skip_frames, frame_rate)"
   ]
  },
  {
   "cell_type": "code",
   "execution_count": 14,
   "metadata": {},
   "outputs": [
    {
     "name": "stdout",
     "output_type": "stream",
     "text": [
      "Video saved to ../../data/control-ATP7mM/grid-gfp.avi\n"
     ]
    }
   ],
   "source": [
    "qd.grid_heatmaps(data_path, conditions, subconditions, channel, frame_rate=frame_rate, figsize=(20,24))\n"
   ]
  },
  {
   "cell_type": "code",
   "execution_count": null,
   "metadata": {},
   "outputs": [],
   "source": [
    "# channel info\n",
    "channel = \"gfp\"\n",
    "vmax = 0.02\n",
    "\n",
    "qd.single_fluorescence_movies(data_path, conditions_MT, subconditions, channel, time_intervals, min_frame, max_frame, vmax, skip_frames, frame_rate)"
   ]
  },
  {
   "cell_type": "code",
   "execution_count": null,
   "metadata": {},
   "outputs": [],
   "source": [
    "qd.grid_heatmaps(data_path, conditions_MT, subconditions, channel, frame_rate=frame_rate, figsize=(20,24))\n"
   ]
  },
  {
   "cell_type": "code",
   "execution_count": null,
   "metadata": {},
   "outputs": [],
   "source": [
    "\n",
    "# frame info\n",
    "min_frame = 0\n",
    "max_frame = None\n",
    "skip_frames=4\n",
    "frame_rate=30\n",
    "time_intervals = [30, 30, 30]\n",
    "\n",
    "# channel info\n",
    "channel = \"gfp\"\n",
    "vmax = 0.02\n",
    "\n",
    "qd.single_fluorescence_movies(data_path, conditions[3:], subconditions, channel, time_intervals, min_frame, max_frame, vmax, skip_frames, frame_rate)"
   ]
  },
  {
   "cell_type": "code",
   "execution_count": null,
   "metadata": {},
   "outputs": [],
   "source": [
    "qd.grid_heatmaps(data_path, conditions[3:], subconditions, channel, frame_rate=frame_rate, figsize=(20,24))\n"
   ]
  },
  {
   "cell_type": "code",
   "execution_count": null,
   "metadata": {},
   "outputs": [],
   "source": []
  }
 ],
 "metadata": {
  "kernelspec": {
   "display_name": "base",
   "language": "python",
   "name": "python3"
  },
  "language_info": {
   "codemirror_mode": {
    "name": "ipython",
    "version": 3
   },
   "file_extension": ".py",
   "mimetype": "text/x-python",
   "name": "python",
   "nbconvert_exporter": "python",
   "pygments_lexer": "ipython3",
   "version": "3.11.5"
  }
 },
 "nbformat": 4,
 "nbformat_minor": 2
}
