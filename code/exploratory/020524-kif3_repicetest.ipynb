{
 "cells": [
  {
   "cell_type": "code",
   "execution_count": 5,
   "metadata": {},
   "outputs": [],
   "source": [
    "## Import relevant libraries\n",
    "import sys\n",
    "sys.path.append('../../activedrops')\n",
    "import pivdrops\n",
    "import viz\n",
    "pivdrops.set_plotting_style()"
   ]
  },
  {
   "cell_type": "code",
   "execution_count": 6,
   "metadata": {},
   "outputs": [],
   "source": [
    "import os\n",
    "import shutil\n",
    "\n",
    "def reorgTiffsToOriginal(data_path, conditions, subconditions):\n",
    "    for condition in conditions:\n",
    "        for subcondition in subconditions:\n",
    "            # Construct the path to the subcondition directory\n",
    "            subcondition_path = os.path.join(data_path, condition, subcondition)\n",
    "            \n",
    "            # Create the path for the \"original\" directory within the subcondition directory\n",
    "            original_dir_path = os.path.join(subcondition_path, \"original\")\n",
    "            \n",
    "            # Always create the \"original\" directory\n",
    "            os.makedirs(original_dir_path)\n",
    "            \n",
    "            # Iterate over all files in the subcondition directory\n",
    "            for filename in os.listdir(subcondition_path):\n",
    "                # Check if the file is a .tif file\n",
    "                if filename.endswith(\".tif\"):\n",
    "                    # Construct the full path to the file\n",
    "                    file_path = os.path.join(subcondition_path, filename)\n",
    "                    \n",
    "                    # Construct the path to move the file to\n",
    "                    destination_path = os.path.join(original_dir_path, filename)\n",
    "                    \n",
    "                    # Move the file to the \"original\" directory\n",
    "                    shutil.move(file_path, destination_path)\n",
    "            print(f\"Moved .tif files from {subcondition_path} to {original_dir_path}\")\n",
    "\n",
    "# Example usage\n",
    "data_path = \"../../data/020524-kif3_repicetest/\"\n",
    "conditions = [\"DNA40nM_MT20nM\", \"DNA80nM_MT20nM\"]\n",
    "subconditions = [\"Pos0\", \"Pos1\", \"Pos2\"]\n",
    "min_frame = 0\n",
    "max_frame = None\n",
    "time_interval=30\n",
    "skip_frames=4\n",
    "frame_rate=30\n",
    "\n",
    "# reorgTiffsToOriginal(data_path, conditions, subconditions)\n"
   ]
  },
  {
   "cell_type": "code",
   "execution_count": null,
   "metadata": {},
   "outputs": [],
   "source": [
    "# Call the function with the updated parameters\n",
    "df_cy5 = viz.plot_mean_fluorescence_over_time(\n",
    "    data_path=data_path,\n",
    "    conditions=conditions,\n",
    "    subconditions=subconditions,\n",
    "    channel=\"cy5\",\n",
    "    time_interval=time_interval,  \n",
    "    min_frame=min_frame,\n",
    "    max_frame=max_frame,\n",
    "    skip_frames=skip_frames,\n",
    "    log_scale=False  # Set log_scale to True\n",
    ")\n"
   ]
  },
  {
   "cell_type": "code",
   "execution_count": null,
   "metadata": {},
   "outputs": [],
   "source": [
    "# Call the function with the updated parameters\n",
    "df_cy5 = viz.plot_mean_fluorescence_over_time(\n",
    "    data_path=data_path,\n",
    "    conditions=conditions,\n",
    "    subconditions=subconditions,\n",
    "    channel=\"gfp\",\n",
    "    time_interval=time_interval,  \n",
    "    min_frame=min_frame,\n",
    "    max_frame=max_frame,\n",
    "    skip_frames=skip_frames,\n",
    "    log_scale=False  # Set log_scale to True\n",
    ")\n"
   ]
  },
  {
   "cell_type": "code",
   "execution_count": null,
   "metadata": {},
   "outputs": [],
   "source": [
    "viz.process_all_conditions_and_subconditions(\n",
    "    data_path=data_path,\n",
    "    conditions=conditions,\n",
    "    subconditions=subconditions,\n",
    "    channel=\"cy5\",\n",
    "    time_interval=time_interval,  # Adjust as needed\n",
    "    skip_frames=skip_frames,\n",
    "    vmax=0.15,  # Adjust as needed\n",
    "    frame_rate=frame_rate,  # Adjust as needed\n",
    "    min_frame=0,\n",
    "    max_frame=None,\n",
    ")\n"
   ]
  },
  {
   "cell_type": "code",
   "execution_count": null,
   "metadata": {},
   "outputs": [],
   "source": [
    "viz.process_all_conditions_and_subconditions(\n",
    "    data_path=data_path,\n",
    "    conditions=conditions,\n",
    "    subconditions=subconditions,\n",
    "    channel=\"gfp\",\n",
    "    time_interval=time_interval,  # Adjust as needed\n",
    "    skip_frames=skip_frames,\n",
    "    vmax=0.01,  # Adjust as needed\n",
    "    frame_rate=frame_rate,  # Adjust as needed\n",
    "    min_frame=0,\n",
    "    max_frame=None,\n",
    ")\n"
   ]
  },
  {
   "cell_type": "code",
   "execution_count": 7,
   "metadata": {},
   "outputs": [],
   "source": [
    "viz.grid_heatmaps(data_path, conditions, subconditions, \"cy5\")\n",
    "viz.grid_heatmaps(data_path, conditions, subconditions, \"gfp\")"
   ]
  },
  {
   "cell_type": "code",
   "execution_count": 8,
   "metadata": {},
   "outputs": [
    {
     "name": "stdout",
     "output_type": "stream",
     "text": [
      "Video saved to ../../data/020524-kif3_repicetest/grid-cy5.avi\n",
      "Video saved to ../../data/020524-kif3_repicetest/grid-gfp.avi\n"
     ]
    }
   ],
   "source": [
    "viz.create_movies_grid(data_path, 'cy5', frame_rate)\n",
    "viz.create_movies_grid(data_path, 'gfp', frame_rate)"
   ]
  },
  {
   "cell_type": "code",
   "execution_count": null,
   "metadata": {},
   "outputs": [],
   "source": []
  }
 ],
 "metadata": {
  "kernelspec": {
   "display_name": "base",
   "language": "python",
   "name": "python3"
  },
  "language_info": {
   "codemirror_mode": {
    "name": "ipython",
    "version": 3
   },
   "file_extension": ".py",
   "mimetype": "text/x-python",
   "name": "python",
   "nbconvert_exporter": "python",
   "pygments_lexer": "ipython3",
   "version": "3.11.5"
  }
 },
 "nbformat": 4,
 "nbformat_minor": 2
}
