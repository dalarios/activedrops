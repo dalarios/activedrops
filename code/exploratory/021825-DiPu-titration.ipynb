{
 "cells": [
  {
   "cell_type": "code",
   "execution_count": 1,
   "metadata": {},
   "outputs": [],
   "source": [
    "## Import relevant libraries\n",
    "import sys\n",
    "import glob\n",
    "\n",
    "sys.path.append('../../py_files/')\n",
    "import quadrop as qd\n",
    "\n",
    "qd.set_plotting_style()"
   ]
  },
  {
   "cell_type": "markdown",
   "metadata": {},
   "source": [
    "### Data pre-procesing"
   ]
  },
  {
   "cell_type": "code",
   "execution_count": 2,
   "metadata": {},
   "outputs": [
    {
     "name": "stdout",
     "output_type": "stream",
     "text": [
      "Consolidation appears to be already done. Directory '../../../../Thomson Lab Dropbox/David Larios/activedrops/ubuntu/021025-DiPu-titrations/2p5ulTMB-1ulDNA_1' already exists with subfolders.\n"
     ]
    }
   ],
   "source": [
    "# Example usage\n",
    "base_dir = \"../../../../Thomson Lab Dropbox/David Larios/activedrops/ubuntu/021025-DiPu-titrations/\"\n",
    "qd.consolidate_images(base_dir)"
   ]
  },
  {
   "cell_type": "code",
   "execution_count": 3,
   "metadata": {},
   "outputs": [
    {
     "name": "stdout",
     "output_type": "stream",
     "text": [
      "Warning: ../../../../Thomson Lab Dropbox/David Larios/activedrops/ubuntu/021025-DiPu-titrations/2p5ulTMB-1ulDNA_1/Pos0 does not exist. Skipping.\n",
      "Warning: ../../../../Thomson Lab Dropbox/David Larios/activedrops/ubuntu/021025-DiPu-titrations/2p5ulTMB-1ulDNA_1/Pos1 does not exist. Skipping.\n",
      "Warning: ../../../../Thomson Lab Dropbox/David Larios/activedrops/ubuntu/021025-DiPu-titrations/2p5ulTMB-1ulDNA_1/Pos2 does not exist. Skipping.\n",
      "Warning: ../../../../Thomson Lab Dropbox/David Larios/activedrops/ubuntu/021025-DiPu-titrations/2p5ulTMB-1ulDNA_1/Pos3 does not exist. Skipping.\n",
      "Warning: ../../../../Thomson Lab Dropbox/David Larios/activedrops/ubuntu/021025-DiPu-titrations/2p5ulTMB-1ulDNA_1/Pos4 does not exist. Skipping.\n",
      "Warning: ../../../../Thomson Lab Dropbox/David Larios/activedrops/ubuntu/021025-DiPu-titrations/2p5ulTMB-1ulDNA_1/Pos5 does not exist. Skipping.\n",
      "Warning: ../../../../Thomson Lab Dropbox/David Larios/activedrops/ubuntu/021025-DiPu-titrations/2p5ulTMB-1ulDNA_1/Pos6 does not exist. Skipping.\n",
      "Warning: ../../../../Thomson Lab Dropbox/David Larios/activedrops/ubuntu/021025-DiPu-titrations/2p5ulTMB-1ulDNA_1/Pos7 does not exist. Skipping.\n",
      "Conditions: ['DiPu_1p25nM-RT', 'DiPu_2p5nM-RT', 'DiPu_5nM-RT', 'DiPu_10nM-RT', 'DiPu_20nM-RT', 'DiPu_40nM-RT', 'DiPu_80nM-RT', 'DiPu_160nM-RT']\n",
      "Subconditions: ['Rep1']\n"
     ]
    }
   ],
   "source": [
    "# Example usage\n",
    "data_path = \"../../../../Thomson Lab Dropbox/David Larios/activedrops/ubuntu/021025-DiPu-titrations/2p5ulTMB-1ulDNA_1/\"\n",
    "\n",
    "calibration_curve_paths = sorted(glob.glob(\"../../../../Thomson Lab Dropbox/David Larios/activedrops/calibration_curve/***ugml.tif\"))\n",
    "\n",
    "\n",
    "conditions_dict = {\n",
    "    \"DiPu_160nM-RT\": \"Pos0\", \n",
    "    \"DiPu_80nM-RT\": \"Pos1\", \n",
    "    \"DiPu_40nM-RT\": \"Pos2\", \n",
    "    \"DiPu_20nM-RT\": \"Pos3\", \n",
    "    \"DiPu_10nM-RT\": \"Pos4\", \n",
    "    \"DiPu_5nM-RT\": \"Pos5\", \n",
    "    \"DiPu_2p5nM-RT\": \"Pos6\", \n",
    "    \"DiPu_1p25nM-RT\": \"Pos7\", \n",
    "}\n",
    "\n",
    "# Organize PosX folders into condition folders\n",
    "qd.organize_conditions(data_path, conditions_dict)\n",
    "\n",
    "# Now run the existing functions to reorganize the tiffs and rename the folders\n",
    "conditions, subconditions = qd.prepare_conditions(data_path)\n",
    "time_interval_list = [30] * len(conditions)  # time intervals in seconds between frames for each condition\n",
    "\n",
    "\n",
    "print(\"Conditions:\", conditions)\n",
    "print(\"Subconditions:\", subconditions)\n",
    "\n"
   ]
  },
  {
   "cell_type": "code",
   "execution_count": 4,
   "metadata": {},
   "outputs": [
    {
     "name": "stdout",
     "output_type": "stream",
     "text": [
      "Moved .tif files from ../../../../Thomson Lab Dropbox/David Larios/activedrops/ubuntu/021025-DiPu-titrations/2p5ulTMB-1ulDNA_1/DiPu_1p25nM-RT/Rep1 to ../../../../Thomson Lab Dropbox/David Larios/activedrops/ubuntu/021025-DiPu-titrations/2p5ulTMB-1ulDNA_1/DiPu_1p25nM-RT/Rep1/original\n",
      "Moved .tif files from ../../../../Thomson Lab Dropbox/David Larios/activedrops/ubuntu/021025-DiPu-titrations/2p5ulTMB-1ulDNA_1/DiPu_2p5nM-RT/Rep1 to ../../../../Thomson Lab Dropbox/David Larios/activedrops/ubuntu/021025-DiPu-titrations/2p5ulTMB-1ulDNA_1/DiPu_2p5nM-RT/Rep1/original\n",
      "Moved .tif files from ../../../../Thomson Lab Dropbox/David Larios/activedrops/ubuntu/021025-DiPu-titrations/2p5ulTMB-1ulDNA_1/DiPu_5nM-RT/Rep1 to ../../../../Thomson Lab Dropbox/David Larios/activedrops/ubuntu/021025-DiPu-titrations/2p5ulTMB-1ulDNA_1/DiPu_5nM-RT/Rep1/original\n",
      "Moved .tif files from ../../../../Thomson Lab Dropbox/David Larios/activedrops/ubuntu/021025-DiPu-titrations/2p5ulTMB-1ulDNA_1/DiPu_10nM-RT/Rep1 to ../../../../Thomson Lab Dropbox/David Larios/activedrops/ubuntu/021025-DiPu-titrations/2p5ulTMB-1ulDNA_1/DiPu_10nM-RT/Rep1/original\n",
      "Moved .tif files from ../../../../Thomson Lab Dropbox/David Larios/activedrops/ubuntu/021025-DiPu-titrations/2p5ulTMB-1ulDNA_1/DiPu_20nM-RT/Rep1 to ../../../../Thomson Lab Dropbox/David Larios/activedrops/ubuntu/021025-DiPu-titrations/2p5ulTMB-1ulDNA_1/DiPu_20nM-RT/Rep1/original\n",
      "Moved .tif files from ../../../../Thomson Lab Dropbox/David Larios/activedrops/ubuntu/021025-DiPu-titrations/2p5ulTMB-1ulDNA_1/DiPu_40nM-RT/Rep1 to ../../../../Thomson Lab Dropbox/David Larios/activedrops/ubuntu/021025-DiPu-titrations/2p5ulTMB-1ulDNA_1/DiPu_40nM-RT/Rep1/original\n",
      "Moved .tif files from ../../../../Thomson Lab Dropbox/David Larios/activedrops/ubuntu/021025-DiPu-titrations/2p5ulTMB-1ulDNA_1/DiPu_80nM-RT/Rep1 to ../../../../Thomson Lab Dropbox/David Larios/activedrops/ubuntu/021025-DiPu-titrations/2p5ulTMB-1ulDNA_1/DiPu_80nM-RT/Rep1/original\n",
      "Moved .tif files from ../../../../Thomson Lab Dropbox/David Larios/activedrops/ubuntu/021025-DiPu-titrations/2p5ulTMB-1ulDNA_1/DiPu_160nM-RT/Rep1 to ../../../../Thomson Lab Dropbox/David Larios/activedrops/ubuntu/021025-DiPu-titrations/2p5ulTMB-1ulDNA_1/DiPu_160nM-RT/Rep1/original\n"
     ]
    }
   ],
   "source": [
    "qd.reorgTiffsToOriginal(data_path, conditions, subconditions)\n"
   ]
  },
  {
   "cell_type": "markdown",
   "metadata": {},
   "source": [
    "### Generate movies"
   ]
  },
  {
   "cell_type": "code",
   "execution_count": 12,
   "metadata": {},
   "outputs": [
    {
     "name": "stderr",
     "output_type": "stream",
     "text": [
      "Processing DiPu_160nM-RT - Rep1: 100%|█████████▉| 880/881 [01:51<00:00,  7.86it/s]\n"
     ]
    },
    {
     "ename": "TiffFileError",
     "evalue": "not a TIFF file b''",
     "output_type": "error",
     "traceback": [
      "\u001b[0;31m---------------------------------------------------------------------------\u001b[0m",
      "\u001b[0;31mRemoteTraceback\u001b[0m                           Traceback (most recent call last)",
      "\u001b[0;31mRemoteTraceback\u001b[0m: \n\"\"\"\nTraceback (most recent call last):\n  File \"/home/david-larios/my_venv_3_11_5/lib/python3.11/site-packages/tifffile/tifffile.py\", line 4281, in __init__\n    byteorder = {b'II': '<', b'MM': '>', b'EP': '<'}[header[:2]]\n                ~~~~~~~~~~~~~~~~~~~~~~~~~~~~~~~~~~~~^^^^^^^^^^^^\nKeyError: b''\n\nThe above exception was the direct cause of the following exception:\n\nTraceback (most recent call last):\n  File \"/usr/local/lib/python3.11/multiprocessing/pool.py\", line 125, in worker\n    result = (True, func(*args, **kwds))\n                    ^^^^^^^^^^^^^^^^^^^\n  File \"/home/david-larios/git/activedrops/code/exploratory/../../py_files/quadrop.py\", line 367, in process_image\n    intensity_matrix = io.imread(image_file)\n                       ^^^^^^^^^^^^^^^^^^^^^\n  File \"/home/david-larios/my_venv_3_11_5/lib/python3.11/site-packages/skimage/io/_io.py\", line 60, in imread\n    img = call_plugin('imread', fname, plugin=plugin, **plugin_args)\n          ^^^^^^^^^^^^^^^^^^^^^^^^^^^^^^^^^^^^^^^^^^^^^^^^^^^^^^^^^^\n  File \"/home/david-larios/my_venv_3_11_5/lib/python3.11/site-packages/skimage/io/manage_plugins.py\", line 217, in call_plugin\n    return func(*args, **kwargs)\n           ^^^^^^^^^^^^^^^^^^^^^\n  File \"/home/david-larios/my_venv_3_11_5/lib/python3.11/site-packages/skimage/io/_plugins/tifffile_plugin.py\", line 74, in imread\n    return tifffile_imread(fname, **kwargs)\n           ^^^^^^^^^^^^^^^^^^^^^^^^^^^^^^^^\n  File \"/home/david-larios/my_venv_3_11_5/lib/python3.11/site-packages/tifffile/tifffile.py\", line 1245, in imread\n    with TiffFile(\n         ^^^^^^^^^\n  File \"/home/david-larios/my_venv_3_11_5/lib/python3.11/site-packages/tifffile/tifffile.py\", line 4283, in __init__\n    raise TiffFileError(f'not a TIFF file {header!r}') from exc\ntifffile.tifffile.TiffFileError: not a TIFF file b''\n\"\"\"",
      "\nThe above exception was the direct cause of the following exception:\n",
      "\u001b[0;31mTiffFileError\u001b[0m                             Traceback (most recent call last)",
      "Cell \u001b[0;32mIn[12], line 2\u001b[0m\n\u001b[1;32m      1\u001b[0m \u001b[38;5;66;03m# Call the function\u001b[39;00m\n\u001b[0;32m----> 2\u001b[0m \u001b[43mqd\u001b[49m\u001b[38;5;241;43m.\u001b[39;49m\u001b[43mfluorescence_heatmap\u001b[49m\u001b[43m(\u001b[49m\n\u001b[1;32m      3\u001b[0m \u001b[43m    \u001b[49m\u001b[43mdata_path\u001b[49m\u001b[43m,\u001b[49m\u001b[43m \u001b[49m\n\u001b[1;32m      4\u001b[0m \u001b[43m    \u001b[49m\u001b[43mconditions\u001b[49m\u001b[43m[\u001b[49m\u001b[38;5;241;43m7\u001b[39;49m\u001b[43m:\u001b[49m\u001b[43m]\u001b[49m\u001b[43m,\u001b[49m\u001b[43m \u001b[49m\n\u001b[1;32m      5\u001b[0m \u001b[43m    \u001b[49m\u001b[43msubconditions\u001b[49m\u001b[43m,\u001b[49m\u001b[43m \u001b[49m\n\u001b[1;32m      6\u001b[0m \u001b[43m    \u001b[49m\u001b[43mchannel\u001b[49m\u001b[38;5;241;43m=\u001b[39;49m\u001b[38;5;124;43m'\u001b[39;49m\u001b[38;5;124;43mcy5\u001b[39;49m\u001b[38;5;124;43m'\u001b[39;49m\u001b[43m,\u001b[49m\u001b[43m \u001b[49m\n\u001b[1;32m      7\u001b[0m \u001b[43m    \u001b[49m\u001b[43mtime_interval_list\u001b[49m\u001b[38;5;241;43m=\u001b[39;49m\u001b[43mtime_interval_list\u001b[49m\u001b[43m,\u001b[49m\u001b[43m \u001b[49m\n\u001b[1;32m      8\u001b[0m \u001b[43m    \u001b[49m\u001b[43mvmax\u001b[49m\u001b[38;5;241;43m=\u001b[39;49m\u001b[38;5;241;43m14\u001b[39;49m\u001b[43m,\u001b[49m\u001b[43m \u001b[49m\n\u001b[1;32m      9\u001b[0m \u001b[43m    \u001b[49m\u001b[43mskip_frames\u001b[49m\u001b[38;5;241;43m=\u001b[39;49m\u001b[38;5;241;43m2\u001b[39;49m\u001b[43m,\u001b[49m\u001b[43m \u001b[49m\n\u001b[1;32m     10\u001b[0m \u001b[43m    \u001b[49m\u001b[43mcalibration_curve_paths\u001b[49m\u001b[38;5;241;43m=\u001b[39;49m\u001b[43mcalibration_curve_paths\u001b[49m\u001b[43m,\u001b[49m\u001b[43m \u001b[49m\n\u001b[1;32m     11\u001b[0m \u001b[43m    \u001b[49m\u001b[43mshow_scalebar\u001b[49m\u001b[38;5;241;43m=\u001b[39;49m\u001b[38;5;28;43;01mFalse\u001b[39;49;00m\u001b[43m,\u001b[49m\n\u001b[1;32m     12\u001b[0m \u001b[43m    \u001b[49m\u001b[43m)\u001b[49m\n",
      "File \u001b[0;32m~/git/activedrops/code/exploratory/../../py_files/quadrop.py:458\u001b[0m, in \u001b[0;36mfluorescence_heatmap\u001b[0;34m(data_path, conditions, subconditions, channel, time_interval_list, vmax, min_frame, max_frame, skip_frames, calibration_curve_paths, show_scalebar, batch_size)\u001b[0m\n\u001b[1;32m    454\u001b[0m args \u001b[38;5;241m=\u001b[39m [(image_file, output_directory_path, channel, slope, intercept, vmax, time_interval, i, show_scalebar, min_frame, skip_frames, condition, subcondition)\n\u001b[1;32m    455\u001b[0m         \u001b[38;5;28;01mfor\u001b[39;00m i, image_file \u001b[38;5;129;01min\u001b[39;00m \u001b[38;5;28menumerate\u001b[39m(batch_files, start\u001b[38;5;241m=\u001b[39mbatch_start \u001b[38;5;241m+\u001b[39m min_frame)]\n\u001b[1;32m    457\u001b[0m \u001b[38;5;28;01mwith\u001b[39;00m mp\u001b[38;5;241m.\u001b[39mPool(mp\u001b[38;5;241m.\u001b[39mcpu_count()) \u001b[38;5;28;01mas\u001b[39;00m pool:\n\u001b[0;32m--> 458\u001b[0m \u001b[43m    \u001b[49m\u001b[38;5;28;43;01mfor\u001b[39;49;00m\u001b[43m \u001b[49m\u001b[43m_\u001b[49m\u001b[43m \u001b[49m\u001b[38;5;129;43;01min\u001b[39;49;00m\u001b[43m \u001b[49m\u001b[43mpool\u001b[49m\u001b[38;5;241;43m.\u001b[39;49m\u001b[43mimap\u001b[49m\u001b[43m(\u001b[49m\u001b[43mprocess_image\u001b[49m\u001b[43m,\u001b[49m\u001b[43m \u001b[49m\u001b[43margs\u001b[49m\u001b[43m)\u001b[49m\u001b[43m:\u001b[49m\n\u001b[1;32m    459\u001b[0m \u001b[43m        \u001b[49m\u001b[43mpbar\u001b[49m\u001b[38;5;241;43m.\u001b[39;49m\u001b[43mupdate\u001b[49m\u001b[43m(\u001b[49m\u001b[38;5;241;43m1\u001b[39;49m\u001b[43m)\u001b[49m\n",
      "File \u001b[0;32m/usr/local/lib/python3.11/multiprocessing/pool.py:873\u001b[0m, in \u001b[0;36mIMapIterator.next\u001b[0;34m(self, timeout)\u001b[0m\n\u001b[1;32m    871\u001b[0m \u001b[38;5;28;01mif\u001b[39;00m success:\n\u001b[1;32m    872\u001b[0m     \u001b[38;5;28;01mreturn\u001b[39;00m value\n\u001b[0;32m--> 873\u001b[0m \u001b[38;5;28;01mraise\u001b[39;00m value\n",
      "\u001b[0;31mTiffFileError\u001b[0m: not a TIFF file b''"
     ]
    }
   ],
   "source": [
    "# Call the function\n",
    "qd.fluorescence_heatmap(\n",
    "    data_path, \n",
    "    conditions[7:], \n",
    "    subconditions, \n",
    "    channel='cy5', \n",
    "    time_interval_list=time_interval_list, \n",
    "    vmax=14, \n",
    "    skip_frames=2, \n",
    "    calibration_curve_paths=calibration_curve_paths, \n",
    "    show_scalebar=False,\n",
    "    )"
   ]
  },
  {
   "cell_type": "code",
   "execution_count": 13,
   "metadata": {},
   "outputs": [
    {
     "name": "stdout",
     "output_type": "stream",
     "text": [
      "Creating video for DiPu_1p25nM-RT - Rep1 with duration: 14.67 seconds.\n"
     ]
    },
    {
     "name": "stderr",
     "output_type": "stream",
     "text": [
      "Creating video for DiPu_1p25nM-RT - Rep1: 100%|██████████| 880/880 [01:11<00:00, 12.36it/s]\n"
     ]
    },
    {
     "name": "stdout",
     "output_type": "stream",
     "text": [
      "Creating video for DiPu_2p5nM-RT - Rep1 with duration: 14.67 seconds.\n"
     ]
    },
    {
     "name": "stderr",
     "output_type": "stream",
     "text": [
      "Creating video for DiPu_2p5nM-RT - Rep1: 100%|██████████| 880/880 [01:09<00:00, 12.58it/s]\n"
     ]
    },
    {
     "name": "stdout",
     "output_type": "stream",
     "text": [
      "Creating video for DiPu_5nM-RT - Rep1 with duration: 14.67 seconds.\n"
     ]
    },
    {
     "name": "stderr",
     "output_type": "stream",
     "text": [
      "Creating video for DiPu_5nM-RT - Rep1: 100%|██████████| 880/880 [01:16<00:00, 11.56it/s]\n"
     ]
    },
    {
     "name": "stdout",
     "output_type": "stream",
     "text": [
      "Creating video for DiPu_10nM-RT - Rep1 with duration: 14.67 seconds.\n"
     ]
    },
    {
     "name": "stderr",
     "output_type": "stream",
     "text": [
      "Creating video for DiPu_10nM-RT - Rep1: 100%|██████████| 880/880 [01:52<00:00,  7.83it/s]\n"
     ]
    },
    {
     "name": "stdout",
     "output_type": "stream",
     "text": [
      "Creating video for DiPu_20nM-RT - Rep1 with duration: 14.67 seconds.\n"
     ]
    },
    {
     "name": "stderr",
     "output_type": "stream",
     "text": [
      "Creating video for DiPu_20nM-RT - Rep1: 100%|██████████| 880/880 [02:01<00:00,  7.25it/s]\n"
     ]
    },
    {
     "name": "stdout",
     "output_type": "stream",
     "text": [
      "Creating video for DiPu_40nM-RT - Rep1 with duration: 14.67 seconds.\n"
     ]
    },
    {
     "name": "stderr",
     "output_type": "stream",
     "text": [
      "Creating video for DiPu_40nM-RT - Rep1: 100%|██████████| 880/880 [01:58<00:00,  7.46it/s]\n"
     ]
    },
    {
     "name": "stdout",
     "output_type": "stream",
     "text": [
      "Creating video for DiPu_80nM-RT - Rep1 with duration: 14.67 seconds.\n"
     ]
    },
    {
     "name": "stderr",
     "output_type": "stream",
     "text": [
      "Creating video for DiPu_80nM-RT - Rep1: 100%|██████████| 880/880 [01:56<00:00,  7.56it/s]\n"
     ]
    },
    {
     "name": "stdout",
     "output_type": "stream",
     "text": [
      "Creating video for DiPu_160nM-RT - Rep1 with duration: 14.67 seconds.\n"
     ]
    },
    {
     "name": "stderr",
     "output_type": "stream",
     "text": [
      "Creating video for DiPu_160nM-RT - Rep1: 100%|██████████| 880/880 [01:55<00:00,  7.64it/s]\n"
     ]
    }
   ],
   "source": [
    "# Example usage\n",
    "qd.create_movies(\n",
    "    data_path, \n",
    "    conditions, \n",
    "    subconditions, \n",
    "    channel='cy5', \n",
    "    frame_rate=60,\n",
    "    skip_frames=1\n",
    "    )\n"
   ]
  },
  {
   "cell_type": "code",
   "execution_count": null,
   "metadata": {},
   "outputs": [],
   "source": [
    "conditions[::-1]"
   ]
  },
  {
   "cell_type": "code",
   "execution_count": 14,
   "metadata": {},
   "outputs": [
    {
     "name": "stdout",
     "output_type": "stream",
     "text": [
      "Creating video with duration: 14.67 seconds.\n"
     ]
    },
    {
     "name": "stderr",
     "output_type": "stream",
     "text": [
      "Creating combined frames: 100%|██████████| 880/880 [07:18<00:00,  2.01it/s]\n"
     ]
    },
    {
     "name": "stdout",
     "output_type": "stream",
     "text": [
      "Combined video saved to ../../../../Thomson Lab Dropbox/David Larios/activedrops/ubuntu/021025-DiPu-titrations/2p5ulTMB-1ulDNA_1/output_data/movies/combined_heatmap_movie_cy5_60fps_880frames.avi\n"
     ]
    }
   ],
   "source": [
    "qd.create_combined_heatmap_movie_custom_grid(\n",
    "    data_path, \n",
    "    conditions[::-1], \n",
    "    subconditions, \n",
    "    channel='cy5', \n",
    "    grid_rows=2, \n",
    "    grid_cols=4, \n",
    "    frame_rate=60,\n",
    "    batch_size=50\n",
    "    )\n"
   ]
  },
  {
   "cell_type": "markdown",
   "metadata": {},
   "source": []
  },
  {
   "cell_type": "code",
   "execution_count": 9,
   "metadata": {},
   "outputs": [
    {
     "name": "stderr",
     "output_type": "stream",
     "text": [
      "Processing DiPu_160nM-RT - Rep1:  99%|█████████▉| 110/111 [00:11<00:00,  9.32it/s]\n"
     ]
    },
    {
     "ename": "TiffFileError",
     "evalue": "not a TIFF file b''",
     "output_type": "error",
     "traceback": [
      "\u001b[0;31m---------------------------------------------------------------------------\u001b[0m",
      "\u001b[0;31mRemoteTraceback\u001b[0m                           Traceback (most recent call last)",
      "\u001b[0;31mRemoteTraceback\u001b[0m: \n\"\"\"\nTraceback (most recent call last):\n  File \"/home/david-larios/my_venv_3_11_5/lib/python3.11/site-packages/tifffile/tifffile.py\", line 4281, in __init__\n    byteorder = {b'II': '<', b'MM': '>', b'EP': '<'}[header[:2]]\n                ~~~~~~~~~~~~~~~~~~~~~~~~~~~~~~~~~~~~^^^^^^^^^^^^\nKeyError: b''\n\nThe above exception was the direct cause of the following exception:\n\nTraceback (most recent call last):\n  File \"/usr/local/lib/python3.11/multiprocessing/pool.py\", line 125, in worker\n    result = (True, func(*args, **kwds))\n                    ^^^^^^^^^^^^^^^^^^^\n  File \"/home/david-larios/git/activedrops/code/exploratory/../../py_files/quadrop.py\", line 367, in process_image\n    intensity_matrix = io.imread(image_file)\n                       ^^^^^^^^^^^^^^^^^^^^^\n  File \"/home/david-larios/my_venv_3_11_5/lib/python3.11/site-packages/skimage/io/_io.py\", line 60, in imread\n    img = call_plugin('imread', fname, plugin=plugin, **plugin_args)\n          ^^^^^^^^^^^^^^^^^^^^^^^^^^^^^^^^^^^^^^^^^^^^^^^^^^^^^^^^^^\n  File \"/home/david-larios/my_venv_3_11_5/lib/python3.11/site-packages/skimage/io/manage_plugins.py\", line 217, in call_plugin\n    return func(*args, **kwargs)\n           ^^^^^^^^^^^^^^^^^^^^^\n  File \"/home/david-larios/my_venv_3_11_5/lib/python3.11/site-packages/skimage/io/_plugins/tifffile_plugin.py\", line 74, in imread\n    return tifffile_imread(fname, **kwargs)\n           ^^^^^^^^^^^^^^^^^^^^^^^^^^^^^^^^\n  File \"/home/david-larios/my_venv_3_11_5/lib/python3.11/site-packages/tifffile/tifffile.py\", line 1245, in imread\n    with TiffFile(\n         ^^^^^^^^^\n  File \"/home/david-larios/my_venv_3_11_5/lib/python3.11/site-packages/tifffile/tifffile.py\", line 4283, in __init__\n    raise TiffFileError(f'not a TIFF file {header!r}') from exc\ntifffile.tifffile.TiffFileError: not a TIFF file b''\n\"\"\"",
      "\nThe above exception was the direct cause of the following exception:\n",
      "\u001b[0;31mTiffFileError\u001b[0m                             Traceback (most recent call last)",
      "Cell \u001b[0;32mIn[9], line 2\u001b[0m\n\u001b[1;32m      1\u001b[0m \u001b[38;5;66;03m# Call the function\u001b[39;00m\n\u001b[0;32m----> 2\u001b[0m \u001b[43mqd\u001b[49m\u001b[38;5;241;43m.\u001b[39;49m\u001b[43mfluorescence_heatmap\u001b[49m\u001b[43m(\u001b[49m\n\u001b[1;32m      3\u001b[0m \u001b[43m    \u001b[49m\u001b[43mdata_path\u001b[49m\u001b[43m,\u001b[49m\u001b[43m \u001b[49m\n\u001b[1;32m      4\u001b[0m \u001b[43m    \u001b[49m\u001b[43mconditions\u001b[49m\u001b[43m[\u001b[49m\u001b[38;5;241;43m7\u001b[39;49m\u001b[43m:\u001b[49m\u001b[43m]\u001b[49m\u001b[43m,\u001b[49m\u001b[43m \u001b[49m\n\u001b[1;32m      5\u001b[0m \u001b[43m    \u001b[49m\u001b[43msubconditions\u001b[49m\u001b[43m,\u001b[49m\u001b[43m \u001b[49m\n\u001b[1;32m      6\u001b[0m \u001b[43m    \u001b[49m\u001b[43mchannel\u001b[49m\u001b[38;5;241;43m=\u001b[39;49m\u001b[38;5;124;43m'\u001b[39;49m\u001b[38;5;124;43mGFP\u001b[39;49m\u001b[38;5;124;43m'\u001b[39;49m\u001b[43m,\u001b[49m\u001b[43m \u001b[49m\n\u001b[1;32m      7\u001b[0m \u001b[43m    \u001b[49m\u001b[43mtime_interval_list\u001b[49m\u001b[38;5;241;43m=\u001b[39;49m\u001b[43mtime_interval_list\u001b[49m\u001b[43m,\u001b[49m\u001b[43m \u001b[49m\n\u001b[1;32m      8\u001b[0m \u001b[43m    \u001b[49m\u001b[43mvmax\u001b[49m\u001b[38;5;241;43m=\u001b[39;49m\u001b[38;5;241;43m500\u001b[39;49m\u001b[43m,\u001b[49m\u001b[43m \u001b[49m\n\u001b[1;32m      9\u001b[0m \u001b[43m    \u001b[49m\u001b[43mskip_frames\u001b[49m\u001b[38;5;241;43m=\u001b[39;49m\u001b[38;5;241;43m16\u001b[39;49m\u001b[43m,\u001b[49m\u001b[43m \u001b[49m\n\u001b[1;32m     10\u001b[0m \u001b[43m    \u001b[49m\u001b[43mcalibration_curve_paths\u001b[49m\u001b[38;5;241;43m=\u001b[39;49m\u001b[43mcalibration_curve_paths\u001b[49m\u001b[43m,\u001b[49m\u001b[43m \u001b[49m\n\u001b[1;32m     11\u001b[0m \u001b[43m    \u001b[49m\u001b[43mshow_scalebar\u001b[49m\u001b[38;5;241;43m=\u001b[39;49m\u001b[38;5;28;43;01mTrue\u001b[39;49;00m\u001b[43m,\u001b[49m\n\u001b[1;32m     12\u001b[0m \u001b[43m    \u001b[49m\u001b[43m)\u001b[49m\n",
      "File \u001b[0;32m~/git/activedrops/code/exploratory/../../py_files/quadrop.py:458\u001b[0m, in \u001b[0;36mfluorescence_heatmap\u001b[0;34m(data_path, conditions, subconditions, channel, time_interval_list, vmax, min_frame, max_frame, skip_frames, calibration_curve_paths, show_scalebar, batch_size)\u001b[0m\n\u001b[1;32m    454\u001b[0m args \u001b[38;5;241m=\u001b[39m [(image_file, output_directory_path, channel, slope, intercept, vmax, time_interval, i, show_scalebar, min_frame, skip_frames, condition, subcondition)\n\u001b[1;32m    455\u001b[0m         \u001b[38;5;28;01mfor\u001b[39;00m i, image_file \u001b[38;5;129;01min\u001b[39;00m \u001b[38;5;28menumerate\u001b[39m(batch_files, start\u001b[38;5;241m=\u001b[39mbatch_start \u001b[38;5;241m+\u001b[39m min_frame)]\n\u001b[1;32m    457\u001b[0m \u001b[38;5;28;01mwith\u001b[39;00m mp\u001b[38;5;241m.\u001b[39mPool(mp\u001b[38;5;241m.\u001b[39mcpu_count()) \u001b[38;5;28;01mas\u001b[39;00m pool:\n\u001b[0;32m--> 458\u001b[0m \u001b[43m    \u001b[49m\u001b[38;5;28;43;01mfor\u001b[39;49;00m\u001b[43m \u001b[49m\u001b[43m_\u001b[49m\u001b[43m \u001b[49m\u001b[38;5;129;43;01min\u001b[39;49;00m\u001b[43m \u001b[49m\u001b[43mpool\u001b[49m\u001b[38;5;241;43m.\u001b[39;49m\u001b[43mimap\u001b[49m\u001b[43m(\u001b[49m\u001b[43mprocess_image\u001b[49m\u001b[43m,\u001b[49m\u001b[43m \u001b[49m\u001b[43margs\u001b[49m\u001b[43m)\u001b[49m\u001b[43m:\u001b[49m\n\u001b[1;32m    459\u001b[0m \u001b[43m        \u001b[49m\u001b[43mpbar\u001b[49m\u001b[38;5;241;43m.\u001b[39;49m\u001b[43mupdate\u001b[49m\u001b[43m(\u001b[49m\u001b[38;5;241;43m1\u001b[39;49m\u001b[43m)\u001b[49m\n",
      "File \u001b[0;32m/usr/local/lib/python3.11/multiprocessing/pool.py:873\u001b[0m, in \u001b[0;36mIMapIterator.next\u001b[0;34m(self, timeout)\u001b[0m\n\u001b[1;32m    871\u001b[0m \u001b[38;5;28;01mif\u001b[39;00m success:\n\u001b[1;32m    872\u001b[0m     \u001b[38;5;28;01mreturn\u001b[39;00m value\n\u001b[0;32m--> 873\u001b[0m \u001b[38;5;28;01mraise\u001b[39;00m value\n",
      "\u001b[0;31mTiffFileError\u001b[0m: not a TIFF file b''"
     ]
    }
   ],
   "source": [
    "# Call the function\n",
    "qd.fluorescence_heatmap(\n",
    "    data_path, \n",
    "    conditions[7:], \n",
    "    subconditions, \n",
    "    channel='GFP', \n",
    "    time_interval_list=time_interval_list, \n",
    "    vmax=500, \n",
    "    skip_frames=16, \n",
    "    calibration_curve_paths=calibration_curve_paths, \n",
    "    show_scalebar=True,\n",
    "    )"
   ]
  },
  {
   "cell_type": "code",
   "execution_count": 10,
   "metadata": {},
   "outputs": [
    {
     "name": "stdout",
     "output_type": "stream",
     "text": [
      "Creating video for DiPu_1p25nM-RT - Rep1 with duration: 6.88 seconds.\n"
     ]
    },
    {
     "name": "stderr",
     "output_type": "stream",
     "text": [
      "Creating video for DiPu_1p25nM-RT - Rep1: 100%|██████████| 110/110 [00:06<00:00, 18.24it/s]\n"
     ]
    },
    {
     "name": "stdout",
     "output_type": "stream",
     "text": [
      "Creating video for DiPu_2p5nM-RT - Rep1 with duration: 6.88 seconds.\n"
     ]
    },
    {
     "name": "stderr",
     "output_type": "stream",
     "text": [
      "Creating video for DiPu_2p5nM-RT - Rep1: 100%|██████████| 110/110 [00:06<00:00, 17.90it/s]\n"
     ]
    },
    {
     "name": "stdout",
     "output_type": "stream",
     "text": [
      "Creating video for DiPu_5nM-RT - Rep1 with duration: 6.88 seconds.\n"
     ]
    },
    {
     "name": "stderr",
     "output_type": "stream",
     "text": [
      "Creating video for DiPu_5nM-RT - Rep1: 100%|██████████| 110/110 [00:06<00:00, 17.22it/s]\n"
     ]
    },
    {
     "name": "stdout",
     "output_type": "stream",
     "text": [
      "Creating video for DiPu_10nM-RT - Rep1 with duration: 6.88 seconds.\n"
     ]
    },
    {
     "name": "stderr",
     "output_type": "stream",
     "text": [
      "Creating video for DiPu_10nM-RT - Rep1: 100%|██████████| 110/110 [00:06<00:00, 17.35it/s]\n"
     ]
    },
    {
     "name": "stdout",
     "output_type": "stream",
     "text": [
      "Creating video for DiPu_20nM-RT - Rep1 with duration: 6.88 seconds.\n"
     ]
    },
    {
     "name": "stderr",
     "output_type": "stream",
     "text": [
      "Creating video for DiPu_20nM-RT - Rep1: 100%|██████████| 110/110 [00:06<00:00, 17.39it/s]\n"
     ]
    },
    {
     "name": "stdout",
     "output_type": "stream",
     "text": [
      "Creating video for DiPu_40nM-RT - Rep1 with duration: 6.88 seconds.\n"
     ]
    },
    {
     "name": "stderr",
     "output_type": "stream",
     "text": [
      "Creating video for DiPu_40nM-RT - Rep1: 100%|██████████| 110/110 [00:06<00:00, 17.22it/s]\n"
     ]
    },
    {
     "name": "stdout",
     "output_type": "stream",
     "text": [
      "Creating video for DiPu_80nM-RT - Rep1 with duration: 6.88 seconds.\n"
     ]
    },
    {
     "name": "stderr",
     "output_type": "stream",
     "text": [
      "Creating video for DiPu_80nM-RT - Rep1: 100%|██████████| 110/110 [00:06<00:00, 17.10it/s]\n"
     ]
    },
    {
     "name": "stdout",
     "output_type": "stream",
     "text": [
      "Creating video for DiPu_160nM-RT - Rep1 with duration: 6.88 seconds.\n"
     ]
    },
    {
     "name": "stderr",
     "output_type": "stream",
     "text": [
      "Creating video for DiPu_160nM-RT - Rep1: 100%|██████████| 110/110 [00:06<00:00, 18.07it/s]\n"
     ]
    }
   ],
   "source": [
    "# Example usage\n",
    "qd.create_movies(\n",
    "    data_path, \n",
    "    conditions, \n",
    "    subconditions, \n",
    "    channel='GFP', \n",
    "    frame_rate=16,\n",
    "    skip_frames=1\n",
    "    )\n"
   ]
  },
  {
   "cell_type": "code",
   "execution_count": 11,
   "metadata": {},
   "outputs": [
    {
     "name": "stdout",
     "output_type": "stream",
     "text": [
      "Creating video with duration: 6.88 seconds.\n"
     ]
    },
    {
     "name": "stderr",
     "output_type": "stream",
     "text": [
      "Creating combined frames: 100%|██████████| 110/110 [00:31<00:00,  3.49it/s]\n"
     ]
    },
    {
     "name": "stdout",
     "output_type": "stream",
     "text": [
      "Combined video saved to ../../../../Thomson Lab Dropbox/David Larios/activedrops/ubuntu/021025-DiPu-titrations/2p5ulTMB-1ulDNA_1/output_data/movies/combined_heatmap_movie_GFP_16fps_110frames.avi\n"
     ]
    }
   ],
   "source": [
    "qd.create_combined_heatmap_movie_custom_grid(\n",
    "    data_path, \n",
    "    conditions[::-1], \n",
    "    subconditions, \n",
    "    channel='GFP', \n",
    "    grid_rows=2, \n",
    "    grid_cols=4, \n",
    "    frame_rate=16,\n",
    "    batch_size=50\n",
    "    )\n"
   ]
  },
  {
   "cell_type": "code",
   "execution_count": null,
   "metadata": {},
   "outputs": [],
   "source": [
    "# qd.delete_temporary_image_directories(data_path, conditions, subconditions)"
   ]
  },
  {
   "cell_type": "markdown",
   "metadata": {},
   "source": [
    "### Fluorescence Quantification"
   ]
  },
  {
   "cell_type": "code",
   "execution_count": 13,
   "metadata": {},
   "outputs": [
    {
     "name": "stderr",
     "output_type": "stream",
     "text": [
      "Calculating intensities for DiPu_1p25nM-RT - Rep1: 100%|██████████| 1759/1759 [00:02<00:00, 586.70it/s]\n",
      "Calculating intensities for DiPu_2p5nM-RT - Rep1: 100%|██████████| 1759/1759 [00:03<00:00, 505.58it/s]\n",
      "Calculating intensities for DiPu_5nM-RT - Rep1: 100%|██████████| 1759/1759 [00:03<00:00, 547.82it/s]\n",
      "Calculating intensities for DiPu_10nM-RT - Rep1: 100%|██████████| 1759/1759 [00:03<00:00, 571.74it/s]\n",
      "Calculating intensities for DiPu_20nM-RT - Rep1: 100%|██████████| 1759/1759 [00:03<00:00, 548.51it/s]\n",
      "Calculating intensities for DiPu_40nM-RT - Rep1: 100%|██████████| 1759/1759 [00:03<00:00, 566.19it/s]\n",
      "Calculating intensities for DiPu_80nM-RT - Rep1: 100%|██████████| 1759/1759 [00:03<00:00, 560.27it/s]\n",
      "Calculating intensities for DiPu_160nM-RT - Rep1: 100%|██████████| 1759/1759 [00:03<00:00, 556.23it/s]\n"
     ]
    },
    {
     "data": {
      "text/plain": [
       "('../../../../Thomson Lab Dropbox/David Larios/activedrops/ubuntu/021025-DiPu-titrations/2p5ulTMB-1ulDNA_1/output_data/combined_expression.csv',\n",
       " '../../../../Thomson Lab Dropbox/David Larios/activedrops/ubuntu/021025-DiPu-titrations/2p5ulTMB-1ulDNA_1/output_data/mean_expression.csv')"
      ]
     },
     "execution_count": 13,
     "metadata": {},
     "output_type": "execute_result"
    }
   ],
   "source": [
    "# Example usage\n",
    "mw_kda_list = [90] * len(conditions)\n",
    "droplet_volume_list = [2] * len(conditions)\n",
    "protein_lengths_list = [513] * len(conditions) # last one is negative\n",
    "\n",
    "qd.quantify_tiffiles(\n",
    "    data_path, \n",
    "    conditions, \n",
    "    subconditions, \n",
    "    calibration_curve_paths, \n",
    "    mw_kda_list, \n",
    "    droplet_volume_list, \n",
    "    time_interval_list, \n",
    "    protein_lengths_list,\n",
    "    ribosome_count=10**9,\n",
    "    skip_frames=1,\n",
    "    subtract_negative=True\n",
    ")"
   ]
  },
  {
   "cell_type": "markdown",
   "metadata": {},
   "source": [
    "### PIV pre-processing"
   ]
  },
  {
   "cell_type": "code",
   "execution_count": null,
   "metadata": {},
   "outputs": [],
   "source": [
    "conditions[:5:-1]"
   ]
  },
  {
   "cell_type": "code",
   "execution_count": 15,
   "metadata": {},
   "outputs": [
    {
     "name": "stdout",
     "output_type": "stream",
     "text": [
      "Copied every 1th f'cy5' file from ../../../../Thomson Lab Dropbox/David Larios/activedrops/ubuntu/021025-DiPu-titrations/2p5ulTMB-1ulDNA_1/DiPu_1p25nM-RT/Rep1/original into ../../../../Thomson Lab Dropbox/David Larios/activedrops/ubuntu/021025-DiPu-titrations/2p5ulTMB-1ulDNA_1/DiPu_1p25nM-RT/Rep1/cy5-1x.\n",
      "Copied every 1th f'cy5' file from ../../../../Thomson Lab Dropbox/David Larios/activedrops/ubuntu/021025-DiPu-titrations/2p5ulTMB-1ulDNA_1/DiPu_2p5nM-RT/Rep1/original into ../../../../Thomson Lab Dropbox/David Larios/activedrops/ubuntu/021025-DiPu-titrations/2p5ulTMB-1ulDNA_1/DiPu_2p5nM-RT/Rep1/cy5-1x.\n",
      "Copied every 1th f'cy5' file from ../../../../Thomson Lab Dropbox/David Larios/activedrops/ubuntu/021025-DiPu-titrations/2p5ulTMB-1ulDNA_1/DiPu_5nM-RT/Rep1/original into ../../../../Thomson Lab Dropbox/David Larios/activedrops/ubuntu/021025-DiPu-titrations/2p5ulTMB-1ulDNA_1/DiPu_5nM-RT/Rep1/cy5-1x.\n",
      "Copied every 1th f'cy5' file from ../../../../Thomson Lab Dropbox/David Larios/activedrops/ubuntu/021025-DiPu-titrations/2p5ulTMB-1ulDNA_1/DiPu_10nM-RT/Rep1/original into ../../../../Thomson Lab Dropbox/David Larios/activedrops/ubuntu/021025-DiPu-titrations/2p5ulTMB-1ulDNA_1/DiPu_10nM-RT/Rep1/cy5-1x.\n",
      "Copied every 1th f'cy5' file from ../../../../Thomson Lab Dropbox/David Larios/activedrops/ubuntu/021025-DiPu-titrations/2p5ulTMB-1ulDNA_1/DiPu_20nM-RT/Rep1/original into ../../../../Thomson Lab Dropbox/David Larios/activedrops/ubuntu/021025-DiPu-titrations/2p5ulTMB-1ulDNA_1/DiPu_20nM-RT/Rep1/cy5-1x.\n",
      "Copied every 1th f'cy5' file from ../../../../Thomson Lab Dropbox/David Larios/activedrops/ubuntu/021025-DiPu-titrations/2p5ulTMB-1ulDNA_1/DiPu_40nM-RT/Rep1/original into ../../../../Thomson Lab Dropbox/David Larios/activedrops/ubuntu/021025-DiPu-titrations/2p5ulTMB-1ulDNA_1/DiPu_40nM-RT/Rep1/cy5-1x.\n",
      "Copied every 1th f'cy5' file from ../../../../Thomson Lab Dropbox/David Larios/activedrops/ubuntu/021025-DiPu-titrations/2p5ulTMB-1ulDNA_1/DiPu_80nM-RT/Rep1/original into ../../../../Thomson Lab Dropbox/David Larios/activedrops/ubuntu/021025-DiPu-titrations/2p5ulTMB-1ulDNA_1/DiPu_80nM-RT/Rep1/cy5-1x.\n",
      "Copied every 1th f'cy5' file from ../../../../Thomson Lab Dropbox/David Larios/activedrops/ubuntu/021025-DiPu-titrations/2p5ulTMB-1ulDNA_1/DiPu_160nM-RT/Rep1/original into ../../../../Thomson Lab Dropbox/David Larios/activedrops/ubuntu/021025-DiPu-titrations/2p5ulTMB-1ulDNA_1/DiPu_160nM-RT/Rep1/cy5-1x.\n"
     ]
    }
   ],
   "source": [
    "qd.split_tiffs(data_path, conditions, subconditions, channel='cy5', file_interval=1)\n",
    "\n"
   ]
  },
  {
   "cell_type": "markdown",
   "metadata": {},
   "source": [
    "### PIV"
   ]
  },
  {
   "cell_type": "code",
   "execution_count": null,
   "metadata": {},
   "outputs": [],
   "source": [
    "# Define feature limits and other parameters\n",
    "v = 2E-7\n",
    "velocity_limits = (0, v)\n",
    "other_limits = (-0.0005, 0.0005)\n",
    "skip_frames = 1 ### CHANGE THIS TO SKIP FRAMES\n",
    "\n",
    "\n",
    "velocity_limits = (None, None)\n",
    "other_limits = (None, None)\n",
    "\n",
    "\n",
    "feature_limits = {\n",
    "    # 'u [m/s]': (-v, v), \n",
    "    # 'v [m/s]': (-v, v), \n",
    "    # 'data type [-]': (None, None),\n",
    "    'velocity magnitude [m/s]': velocity_limits,\n",
    "    'vorticity [1/s]': other_limits,\n",
    "    'divergence [1/s]': other_limits,\n",
    "    # 'dcev [1]': (0, 250),\n",
    "    'shear [1/s]': other_limits,\n",
    "    'strain [1/s]': other_limits,\n",
    "    'vector direction [degrees]': (-180, 180),\n",
    "}\n",
    "\n",
    "\n",
    "# Features for PCA and plotting\n",
    "features_pca = [\n",
    "    \"vorticity [1/s]_mean\",\n",
    "    \"velocity magnitude [um/s]\",\n",
    "    \"distance [m]_mean\",\n",
    "    \"divergence [1/s]_mean\",\n",
    "    \"shear [1/s]_mean\",\n",
    "    \"strain [1/s]_mean\",\n",
    "    \"correlation length [um]\", \n",
    "    \"power [W]_mean\",\n",
    "    \"work [J]\",\n",
    "]\n"
   ]
  },
  {
   "cell_type": "code",
   "execution_count": null,
   "metadata": {},
   "outputs": [],
   "source": [
    "conditions = [\n",
    "    'AcSu2-RT',\n",
    "    'AcSu-RT',\n",
    "    'AdPa-RT',\n",
    "    # 'BleSto-RT',\n",
    "    'DiPu-RT',\n",
    "    'Kif5-RT',\n",
    "    # 'NaFo-RT',\n",
    "    'ThTr-RT',\n",
    "    'TiLa-RT',\n",
    "    # 'negative'\n",
    "    ]"
   ]
  },
  {
   "cell_type": "code",
   "execution_count": null,
   "metadata": {},
   "outputs": [],
   "source": [
    "conditions[:5:-1]"
   ]
  },
  {
   "cell_type": "code",
   "execution_count": null,
   "metadata": {},
   "outputs": [],
   "source": [
    "time_interval_list = [60, 60*2, 60*5, 60*8]  # time intervals in seconds between frames for each condition\n",
    "\n",
    "\n",
    "# Process PIV data\n",
    "qd.process_piv_data(\n",
    "    data_path, \n",
    "    conditions[:5:-1],    \n",
    "    subconditions, \n",
    "    feature_limits, \n",
    "    time_interval_list, \n",
    "    min_frame=0, \n",
    "    max_frame=None, \n",
    "    skip_frames=1, \n",
    "    plot_autocorrelation=True, \n",
    "    frame_rate=1, \n",
    "    heatmaps=False\n",
    "    )\n"
   ]
  },
  {
   "cell_type": "code",
   "execution_count": null,
   "metadata": {},
   "outputs": [],
   "source": [
    "# Plot features and PCA\n",
    "qd.plot_PIV_all(\n",
    "    data_path, \n",
    "    conditions[:5:-1],\n",
    "    subconditions, \n",
    "    features_pca, \n",
    "    min_frame=0, \n",
    "    max_frame=None\n",
    "    )\n"
   ]
  },
  {
   "cell_type": "markdown",
   "metadata": {},
   "source": [
    "### Expression + PIV"
   ]
  },
  {
   "cell_type": "code",
   "execution_count": null,
   "metadata": {},
   "outputs": [],
   "source": [
    "# Combine the data and save it to the \"output_data\" directory\n",
    "qd.combine_averaged_dataframes(data_path, conditions, subconditions)\n"
   ]
  },
  {
   "cell_type": "code",
   "execution_count": null,
   "metadata": {},
   "outputs": [],
   "source": [
    "qd.merge_expression_piv_data(data_path)\n"
   ]
  },
  {
   "cell_type": "code",
   "execution_count": null,
   "metadata": {},
   "outputs": [],
   "source": [
    "# x_column = \"time (h)\"  # Example x-axis column\n",
    "# y_column = \"Protein Concentration_nM\"  # Example y-axis column\n",
    "\n",
    "\n",
    "# x_column = \"Protein Concentration_nM\"  # Example y-axis column\n",
    "# y_column = \"velocity magnitude [m/s]_mean\"  # Example y-axis column\n",
    "\n",
    "# x_column = \"time (h)\"  # Example x-axis column\n",
    "# y_column = \"velocity magnitude [m/s]_mean\"  # Example y-axis column\n",
    "\n",
    "# x_column = \"time (h)\"  # Example x-axis column\n",
    "# y_column = \"power [W]_mean\"  # Example y-axis column\n",
    "\n",
    "# x_column = \"time (h)\"  # Example x-axis column\n",
    "# y_column = \"work [J]_mean\"  # Example y-axis column\n",
    "\n",
    "x_column = \"time (h)\"  # Example x-axis column\n",
    "y_column = \"distance [m]_mean\"  # Example y-axis column\n",
    "\n",
    "\n",
    "qd.plot_expression_piv(\n",
    "    data_path,\n",
    "    conditions,\n",
    "    x_column, \n",
    "    y_column, \n",
    "    sigma_x=0.1, \n",
    "    sigma_y=10, \n",
    "    x_log=False, \n",
    "    y_log=True, \n",
    "    min_frame=0, \n",
    "    max_frame=None, \n",
    "    individual_plots=False\n",
    "    )"
   ]
  },
  {
   "cell_type": "code",
   "execution_count": null,
   "metadata": {},
   "outputs": [],
   "source": [
    "\n",
    "# List of features for PCA\n",
    "features_pca = [\n",
    "    \"vorticity [1/s]_mean\",\n",
    "    \"velocity magnitude [m/s]_mean\",\n",
    "    \"distance [m]_mean\",\n",
    "    \"divergence [1/s]_mean\",\n",
    "    \"shear [1/s]_mean\",\n",
    "    \"strain [1/s]_mean\",\n",
    "    \"correlation length [m]_mean\", \n",
    "    \"power [W]_mean\",\n",
    "    \"work [J]_mean\",\n",
    "    'vector direction [degrees]_mean',\n",
    "    \"Protein Concentration_nM\", \n",
    "    'time (min)'\n",
    "]\n",
    "\n",
    "# Run PCA and save plot (with all conditions and subconditions in the same plot)\n",
    "qd.plot_pca_expression_piv(data_path, conditions=conditions, subconditions=subconditions, features=features_pca, sigma=1)\n"
   ]
  },
  {
   "cell_type": "code",
   "execution_count": null,
   "metadata": {},
   "outputs": [],
   "source": [
    "\n",
    "# Example usage\n",
    "qd.delete_outputs(data_path, conditions, subconditions, output_dirs=None)\n"
   ]
  },
  {
   "cell_type": "code",
   "execution_count": null,
   "metadata": {},
   "outputs": [],
   "source": []
  }
 ],
 "metadata": {
  "kernelspec": {
   "display_name": "my_venv_3_11_5",
   "language": "python",
   "name": "python3"
  },
  "language_info": {
   "codemirror_mode": {
    "name": "ipython",
    "version": 3
   },
   "file_extension": ".py",
   "mimetype": "text/x-python",
   "name": "python",
   "nbconvert_exporter": "python",
   "pygments_lexer": "ipython3",
   "version": "3.11.5"
  }
 },
 "nbformat": 4,
 "nbformat_minor": 2
}
