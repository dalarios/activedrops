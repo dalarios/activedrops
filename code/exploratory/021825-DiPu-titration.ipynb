{
 "cells": [
  {
   "cell_type": "code",
   "execution_count": 1,
   "metadata": {},
   "outputs": [],
   "source": [
    "## Import relevant libraries\n",
    "import sys\n",
    "import glob\n",
    "\n",
    "sys.path.append('../../py_files/')\n",
    "import quadrop2 as qd\n",
    "\n",
    "qd.set_plotting_style()"
   ]
  },
  {
   "cell_type": "markdown",
   "metadata": {},
   "source": [
    "### Data pre-procesing"
   ]
  },
  {
   "cell_type": "code",
   "execution_count": 2,
   "metadata": {},
   "outputs": [
    {
     "name": "stdout",
     "output_type": "stream",
     "text": [
      "Consolidation appears to be already done. Directory '../../../../Thomson Lab Dropbox/David Larios/activedrops/main/021025-DiPu-titrations/2p5ulTMB-1ulDNA_1' already exists with subfolders.\n"
     ]
    }
   ],
   "source": [
    "# Example usage\n",
    "base_dir = \"../../../../Thomson Lab Dropbox/David Larios/activedrops/main/021025-DiPu-titrations/\"\n",
    "qd.consolidate_images(base_dir)"
   ]
  },
  {
   "cell_type": "code",
   "execution_count": 3,
   "metadata": {},
   "outputs": [
    {
     "name": "stdout",
     "output_type": "stream",
     "text": [
      "Warning: ../../../../Thomson Lab Dropbox/David Larios/activedrops/main/021025-DiPu-titrations/2p5ulTMB-1ulDNA_1/Pos0 does not exist. Skipping.\n",
      "Warning: ../../../../Thomson Lab Dropbox/David Larios/activedrops/main/021025-DiPu-titrations/2p5ulTMB-1ulDNA_1/Pos1 does not exist. Skipping.\n",
      "Warning: ../../../../Thomson Lab Dropbox/David Larios/activedrops/main/021025-DiPu-titrations/2p5ulTMB-1ulDNA_1/Pos2 does not exist. Skipping.\n",
      "Warning: ../../../../Thomson Lab Dropbox/David Larios/activedrops/main/021025-DiPu-titrations/2p5ulTMB-1ulDNA_1/Pos3 does not exist. Skipping.\n",
      "Warning: ../../../../Thomson Lab Dropbox/David Larios/activedrops/main/021025-DiPu-titrations/2p5ulTMB-1ulDNA_1/Pos4 does not exist. Skipping.\n",
      "Warning: ../../../../Thomson Lab Dropbox/David Larios/activedrops/main/021025-DiPu-titrations/2p5ulTMB-1ulDNA_1/Pos5 does not exist. Skipping.\n",
      "Warning: ../../../../Thomson Lab Dropbox/David Larios/activedrops/main/021025-DiPu-titrations/2p5ulTMB-1ulDNA_1/Pos6 does not exist. Skipping.\n",
      "Warning: ../../../../Thomson Lab Dropbox/David Larios/activedrops/main/021025-DiPu-titrations/2p5ulTMB-1ulDNA_1/Pos7 does not exist. Skipping.\n",
      "Conditions: ['DiPu_1p25nM-RT', 'DiPu_2p5nM-RT', 'DiPu_5nM-RT', 'DiPu_10nM-RT', 'DiPu_20nM-RT', 'DiPu_40nM-RT', 'DiPu_80nM-RT', 'DiPu_160nM-RT', 'output_data_']\n",
      "Subconditions: ['Rep1']\n"
     ]
    }
   ],
   "source": [
    "# Example usage\n",
    "data_path = \"../../../../Thomson Lab Dropbox/David Larios/activedrops/main/021025-DiPu-titrations/2p5ulTMB-1ulDNA_1/\"\n",
    "\n",
    "calibration_curve_paths = sorted(glob.glob(\"../../../../Thomson Lab Dropbox/David Larios/activedrops/calibration_curve/***ugml.tif\"))\n",
    "\n",
    "\n",
    "conditions_dict = {\n",
    "    \"DiPu_160nM-RT\": \"Pos0\", \n",
    "    \"DiPu_80nM-RT\": \"Pos1\", \n",
    "    \"DiPu_40nM-RT\": \"Pos2\", \n",
    "    \"DiPu_20nM-RT\": \"Pos3\", \n",
    "    \"DiPu_10nM-RT\": \"Pos4\", \n",
    "    \"DiPu_5nM-RT\": \"Pos5\", \n",
    "    \"DiPu_2p5nM-RT\": \"Pos6\", \n",
    "    \"DiPu_1p25nM-RT\": \"Pos7\", \n",
    "}\n",
    "\n",
    "# Organize PosX folders into condition folders\n",
    "qd.organize_conditions(data_path, conditions_dict)\n",
    "\n",
    "# Now run the existing functions to reorganize the tiffs and rename the folders\n",
    "conditions, subconditions = qd.prepare_conditions(data_path)\n",
    "time_interval_list = [30] * len(conditions)  # time intervals in seconds between frames for each condition\n",
    "\n",
    "subconditions = ['Rep1']\n",
    "print(\"Conditions:\", conditions)\n",
    "print(\"Subconditions:\", subconditions)\n",
    "\n"
   ]
  },
  {
   "cell_type": "code",
   "execution_count": null,
   "metadata": {},
   "outputs": [],
   "source": [
    "qd.reorgTiffsToOriginal(data_path, conditions, subconditions)\n"
   ]
  },
  {
   "cell_type": "markdown",
   "metadata": {},
   "source": [
    "### Generate movies"
   ]
  },
  {
   "cell_type": "code",
   "execution_count": null,
   "metadata": {},
   "outputs": [],
   "source": [
    "# Call the function\n",
    "qd.fluorescence_heatmap(\n",
    "    data_path, \n",
    "    conditions[7:], \n",
    "    subconditions, \n",
    "    channel='cy5', \n",
    "    time_interval_list=time_interval_list, \n",
    "    vmax=14, \n",
    "    skip_frames=2, \n",
    "    calibration_curve_paths=calibration_curve_paths, \n",
    "    show_scalebar=False,\n",
    "    )"
   ]
  },
  {
   "cell_type": "code",
   "execution_count": null,
   "metadata": {},
   "outputs": [],
   "source": [
    "# Example usage\n",
    "qd.create_movies(\n",
    "    data_path, \n",
    "    conditions, \n",
    "    subconditions, \n",
    "    channel='cy5', \n",
    "    frame_rate=60,\n",
    "    skip_frames=1\n",
    "    )\n"
   ]
  },
  {
   "cell_type": "code",
   "execution_count": null,
   "metadata": {},
   "outputs": [],
   "source": [
    "conditions[::-1]"
   ]
  },
  {
   "cell_type": "code",
   "execution_count": null,
   "metadata": {},
   "outputs": [],
   "source": [
    "qd.create_combined_heatmap_movie_custom_grid(\n",
    "    data_path, \n",
    "    conditions[::-1], \n",
    "    subconditions, \n",
    "    channel='cy5', \n",
    "    grid_rows=2, \n",
    "    grid_cols=4, \n",
    "    frame_rate=60,\n",
    "    batch_size=50\n",
    "    )\n"
   ]
  },
  {
   "cell_type": "markdown",
   "metadata": {},
   "source": []
  },
  {
   "cell_type": "code",
   "execution_count": null,
   "metadata": {},
   "outputs": [],
   "source": [
    "# Call the function\n",
    "qd.fluorescence_heatmap(\n",
    "    data_path, \n",
    "    conditions[7:], \n",
    "    subconditions, \n",
    "    channel='GFP', \n",
    "    time_interval_list=time_interval_list, \n",
    "    vmax=500, \n",
    "    skip_frames=16, \n",
    "    calibration_curve_paths=calibration_curve_paths, \n",
    "    show_scalebar=True,\n",
    "    )"
   ]
  },
  {
   "cell_type": "code",
   "execution_count": null,
   "metadata": {},
   "outputs": [],
   "source": [
    "# Example usage\n",
    "qd.create_movies(\n",
    "    data_path, \n",
    "    conditions, \n",
    "    subconditions, \n",
    "    channel='GFP', \n",
    "    frame_rate=16,\n",
    "    skip_frames=1\n",
    "    )\n"
   ]
  },
  {
   "cell_type": "code",
   "execution_count": null,
   "metadata": {},
   "outputs": [],
   "source": [
    "qd.create_combined_heatmap_movie_custom_grid(\n",
    "    data_path, \n",
    "    conditions[::-1], \n",
    "    subconditions, \n",
    "    channel='GFP', \n",
    "    grid_rows=2, \n",
    "    grid_cols=4, \n",
    "    frame_rate=16,\n",
    "    batch_size=50\n",
    "    )\n"
   ]
  },
  {
   "cell_type": "code",
   "execution_count": null,
   "metadata": {},
   "outputs": [],
   "source": [
    "# qd.delete_temporary_image_directories(data_path, conditions, subconditions)"
   ]
  },
  {
   "cell_type": "markdown",
   "metadata": {},
   "source": [
    "### Fluorescence Quantification"
   ]
  },
  {
   "cell_type": "code",
   "execution_count": 4,
   "metadata": {},
   "outputs": [
    {
     "name": "stderr",
     "output_type": "stream",
     "text": [
      "Calculating intensities for DiPu_1p25nM-RT - Rep1: 100%|██████████| 176/176 [00:00<00:00, 434.17it/s]\n",
      "Calculating intensities for DiPu_2p5nM-RT - Rep1: 100%|██████████| 176/176 [00:00<00:00, 430.73it/s]\n",
      "Calculating intensities for DiPu_5nM-RT - Rep1: 100%|██████████| 176/176 [00:00<00:00, 432.94it/s]\n",
      "Calculating intensities for DiPu_10nM-RT - Rep1: 100%|██████████| 176/176 [00:00<00:00, 436.18it/s]\n",
      "Calculating intensities for DiPu_20nM-RT - Rep1: 100%|██████████| 176/176 [00:00<00:00, 402.83it/s]\n",
      "Calculating intensities for DiPu_40nM-RT - Rep1: 100%|██████████| 176/176 [00:00<00:00, 371.89it/s]\n",
      "Calculating intensities for DiPu_80nM-RT - Rep1: 100%|██████████| 176/176 [00:00<00:00, 366.55it/s]\n",
      "Calculating intensities for DiPu_160nM-RT - Rep1: 100%|██████████| 176/176 [00:00<00:00, 355.97it/s]\n"
     ]
    },
    {
     "data": {
      "text/plain": [
       "('../../../../Thomson Lab Dropbox/David Larios/activedrops/main/021025-DiPu-titrations/2p5ulTMB-1ulDNA_1/output_data/combined_expression.csv',\n",
       " '../../../../Thomson Lab Dropbox/David Larios/activedrops/main/021025-DiPu-titrations/2p5ulTMB-1ulDNA_1/output_data/mean_expression.csv')"
      ]
     },
     "execution_count": 4,
     "metadata": {},
     "output_type": "execute_result"
    }
   ],
   "source": [
    "# Example usage\n",
    "# mw_kda_list = [44.95] * len(conditions)\n",
    "droplet_volume_list = [2] * len(conditions)\n",
    "# protein_lengths_list = [401] * len(conditions) # last one is negative\n",
    "\n",
    "qd.quantify_tiffiles(\n",
    "    data_path, \n",
    "    conditions[:-1], \n",
    "    subconditions, \n",
    "    calibration_curve_paths, \n",
    "    droplet_volume_list, \n",
    "    time_interval_list, \n",
    "    skip_frames=10,\n",
    "\n",
    ")"
   ]
  },
  {
   "cell_type": "markdown",
   "metadata": {},
   "source": [
    "### PIV pre-processing"
   ]
  },
  {
   "cell_type": "code",
   "execution_count": null,
   "metadata": {},
   "outputs": [],
   "source": [
    "conditions[5::]"
   ]
  },
  {
   "cell_type": "code",
   "execution_count": null,
   "metadata": {},
   "outputs": [],
   "source": [
    "qd.split_tiffs(data_path, conditions[5:], subconditions, channel='cy5', file_interval=8)\n",
    "\n"
   ]
  },
  {
   "cell_type": "markdown",
   "metadata": {},
   "source": [
    "### PIV"
   ]
  },
  {
   "cell_type": "code",
   "execution_count": 21,
   "metadata": {},
   "outputs": [],
   "source": [
    "# Define feature limits and other parameters\n",
    "v = 2E-7\n",
    "velocity_limits = (0, v)\n",
    "other_limits = (-0.0005, 0.0005)\n",
    "skip_frames = 1 ### CHANGE THIS TO SKIP FRAMES\n",
    "\n",
    "\n",
    "velocity_limits = (None, None)\n",
    "other_limits = (None, None)\n",
    "\n",
    "\n",
    "feature_limits = {\n",
    "    # 'u [m/s]': (-v, v), \n",
    "    # 'v [m/s]': (-v, v), \n",
    "    # 'data type [-]': (None, None),\n",
    "    'velocity magnitude [m/s]': velocity_limits,\n",
    "    'vorticity [1/s]': other_limits,\n",
    "    'divergence [1/s]': other_limits,\n",
    "    # 'dcev [1]': (0, 250),\n",
    "    'shear [1/s]': other_limits,\n",
    "    'strain [1/s]': other_limits,\n",
    "    'vector direction [degrees]': (-180, 180),\n",
    "}\n",
    "\n",
    "\n",
    "# Features for PCA and plotting\n",
    "features_pca = [\n",
    "    \"vorticity [1/s]_mean\",\n",
    "    \"velocity magnitude [um/s]\",\n",
    "    \"distance [m]_mean\",\n",
    "    \"divergence [1/s]_mean\",\n",
    "    \"shear [1/s]_mean\",\n",
    "    \"strain [1/s]_mean\",\n",
    "    \"correlation length [um]\", \n",
    "    \"power [W]_mean\",\n",
    "    \"work [J]\",\n",
    "]\n"
   ]
  },
  {
   "cell_type": "code",
   "execution_count": null,
   "metadata": {},
   "outputs": [],
   "source": [
    "conditions[::]"
   ]
  },
  {
   "cell_type": "code",
   "execution_count": null,
   "metadata": {},
   "outputs": [],
   "source": [
    "time_interval_list = [60, 400, 400, 400, 400, 400, 400, 400]  # time intervals in seconds between frames for each condition\n",
    "\n",
    "\n",
    "# Process PIV data\n",
    "qd.process_piv_data(\n",
    "    data_path, \n",
    "    conditions,    \n",
    "    subconditions, \n",
    "    feature_limits, \n",
    "    time_interval_list, \n",
    "    min_frame=0, \n",
    "    max_frame=None, \n",
    "    skip_frames=1, \n",
    "    plot_autocorrelation=True, \n",
    "    frame_rate=1, \n",
    "    heatmaps=False\n",
    "    )\n"
   ]
  },
  {
   "cell_type": "code",
   "execution_count": null,
   "metadata": {},
   "outputs": [],
   "source": [
    "# Plot features and PCA\n",
    "qd.plot_PIV_all(\n",
    "    data_path, \n",
    "    conditions[:5:-1],\n",
    "    subconditions, \n",
    "    features_pca, \n",
    "    min_frame=0, \n",
    "    max_frame=None\n",
    "    )\n"
   ]
  },
  {
   "cell_type": "markdown",
   "metadata": {},
   "source": [
    "### Expression + PIV"
   ]
  },
  {
   "cell_type": "code",
   "execution_count": 5,
   "metadata": {},
   "outputs": [
    {
     "name": "stderr",
     "output_type": "stream",
     "text": [
      "Conditions: 100%|██████████| 9/9 [00:00<00:00, 353.73it/s]"
     ]
    },
    {
     "name": "stdout",
     "output_type": "stream",
     "text": [
      "'Averaged' folder not found for output_data_/Rep1. Skipping...\n",
      "Combined DataFrame saved to: ../../../../Thomson Lab Dropbox/David Larios/activedrops/main/021025-DiPu-titrations/2p5ulTMB-1ulDNA_1/output_data/combined_PIV.csv\n"
     ]
    },
    {
     "name": "stderr",
     "output_type": "stream",
     "text": [
      "\n"
     ]
    }
   ],
   "source": [
    "# Combine the data and save it to the \"output_data\" directory\n",
    "qd.combine_averaged_dataframes(data_path, conditions, subconditions)\n"
   ]
  },
  {
   "cell_type": "code",
   "execution_count": 6,
   "metadata": {},
   "outputs": [
    {
     "name": "stdout",
     "output_type": "stream",
     "text": [
      "Merged DataFrame saved to: ../../../../Thomson Lab Dropbox/David Larios/activedrops/main/021025-DiPu-titrations/2p5ulTMB-1ulDNA_1/output_data/merged_expression_PIV.csv\n"
     ]
    }
   ],
   "source": [
    "qd.merge_expression_piv_data(data_path)\n"
   ]
  },
  {
   "cell_type": "code",
   "execution_count": null,
   "metadata": {},
   "outputs": [],
   "source": [
    "# x_column = \"time (h)\"  # Example x-axis column\n",
    "# y_column = \"Protein Concentration_nM\"  # Example y-axis column\n",
    "\n",
    "\n",
    "# x_column = \"Protein Concentration_nM\"  # Example y-axis column\n",
    "# y_column = \"velocity magnitude [m/s]_mean\"  # Example y-axis column\n",
    "\n",
    "# x_column = \"time (h)\"  # Example x-axis column\n",
    "# y_column = \"velocity magnitude [m/s]_mean\"  # Example y-axis column\n",
    "\n",
    "# x_column = \"time (h)\"  # Example x-axis column\n",
    "# y_column = \"power [W]_mean\"  # Example y-axis column\n",
    "\n",
    "# x_column = \"time (h)\"  # Example x-axis column\n",
    "# y_column = \"work [J]_mean\"  # Example y-axis column\n",
    "\n",
    "x_column = \"time (h)\"  # Example x-axis column\n",
    "y_column = \"distance [m]_mean\"  # Example y-axis column\n",
    "\n",
    "\n",
    "qd.plot_expression_piv(\n",
    "    data_path,\n",
    "    conditions,\n",
    "    x_column, \n",
    "    y_column, \n",
    "    sigma_x=0.1, \n",
    "    sigma_y=10, \n",
    "    x_log=False, \n",
    "    y_log=True, \n",
    "    min_frame=0, \n",
    "    max_frame=None, \n",
    "    individual_plots=False\n",
    "    )"
   ]
  },
  {
   "cell_type": "code",
   "execution_count": null,
   "metadata": {},
   "outputs": [],
   "source": [
    "\n",
    "# List of features for PCA\n",
    "features_pca = [\n",
    "    \"vorticity [1/s]_mean\",\n",
    "    \"velocity magnitude [m/s]_mean\",\n",
    "    \"distance [m]_mean\",\n",
    "    \"divergence [1/s]_mean\",\n",
    "    \"shear [1/s]_mean\",\n",
    "    \"strain [1/s]_mean\",\n",
    "    \"correlation length [m]_mean\", \n",
    "    \"power [W]_mean\",\n",
    "    \"work [J]_mean\",\n",
    "    'vector direction [degrees]_mean',\n",
    "    \"Protein Concentration_nM\", \n",
    "    'time (min)'\n",
    "]\n",
    "\n",
    "# Run PCA and save plot (with all conditions and subconditions in the same plot)\n",
    "qd.plot_pca_expression_piv(data_path, conditions=conditions, subconditions=subconditions, features=features_pca, sigma=1)\n"
   ]
  },
  {
   "cell_type": "code",
   "execution_count": null,
   "metadata": {},
   "outputs": [],
   "source": [
    "\n",
    "# Example usage\n",
    "qd.delete_outputs(data_path, conditions, subconditions, output_dirs=None)\n"
   ]
  },
  {
   "cell_type": "code",
   "execution_count": null,
   "metadata": {},
   "outputs": [],
   "source": []
  }
 ],
 "metadata": {
  "kernelspec": {
   "display_name": "my_venv_3_11_5",
   "language": "python",
   "name": "python3"
  },
  "language_info": {
   "codemirror_mode": {
    "name": "ipython",
    "version": 3
   },
   "file_extension": ".py",
   "mimetype": "text/x-python",
   "name": "python",
   "nbconvert_exporter": "python",
   "pygments_lexer": "ipython3",
   "version": "3.11.5"
  }
 },
 "nbformat": 4,
 "nbformat_minor": 2
}
