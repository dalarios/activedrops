{
 "cells": [
  {
   "cell_type": "code",
   "execution_count": 1,
   "metadata": {},
   "outputs": [],
   "source": [
    "## Import relevant libraries\n",
    "import sys\n",
    "sys.path.append('../../activedrops')\n",
    "\n",
    "## Including ourselves\n",
    "import pivdrops\n",
    "pivdrops.set_plotting_style()"
   ]
  },
  {
   "cell_type": "code",
   "execution_count": 15,
   "metadata": {},
   "outputs": [],
   "source": [
    "data_path = \"../../data/012724-kif3-2concs/\"\n",
    "condition1 = \"500ngul\"\n",
    "condition2 = \"1100ngul\"\n",
    "subcondition1 = \"rep1\"\n",
    "subcondition2 = \"rep2\"\n",
    "\n",
    "\n",
    "min_frame = 0\n",
    "max_frame = None\n",
    "\n",
    "\n",
    "rep1_ts, a = pivdrops.process_piv_data(data_path, condition1, subcondition1, min_frame=min_frame, max_frame=max_frame, plot_autocorrelation=False)\n",
    "# rep2_ts, b = pivdrops.process_piv_data(data_path, condition1, subcondition2, min_frame=min_frame, max_frame=max_frame, plot_autocorrelation=False)\n",
    "\n",
    "# rep3_ts, c = pivdrops.process_piv_data(data_path, condition2, subcondition1, min_frame=min_frame, max_frame=max_frame, plot_autocorrelation=False)\n",
    "# rep4_ts, d = pivdrops.process_piv_data(data_path, condition2, subcondition2, min_frame=min_frame, max_frame=max_frame, plot_autocorrelation=False)\n",
    "\n"
   ]
  },
  {
   "cell_type": "code",
   "execution_count": 17,
   "metadata": {},
   "outputs": [],
   "source": [
    "features_pca = [\n",
    "    # \"data type [-]_mean\", \n",
    "    \"vorticity [1/s]_mean\",\t\n",
    "    \"velocity magnitude [um/s]\", \n",
    "    \"divergence [1/s]_mean\", \n",
    "    # \"dcev [1]_mean\", \n",
    "    \"shear [1/s]_mean\", \n",
    "    \"strain [1/s]_mean\", \n",
    "    # \"vector direction [degrees]_mean\", \n",
    "    \"correlation length [um]\", \n",
    "    \"power [W]_mean\",\n",
    "    \"work [J]\", \n",
    "    ]\n",
    "\n",
    "pivdrops.plot_features(\n",
    "    [data_path, data_path, data_path, data_path], \n",
    "    [condition1, condition1, condition2, condition2], \n",
    "    [subcondition1, subcondition2, subcondition1, subcondition2], \n",
    "    features_pca, time_intervals=[8, 8, 8, 8], \n",
    "    sigma=2,  \n",
    "    min_frame=0, \n",
    "    max_frame=500,\n",
    "    # trajectories=True,\n",
    "    )\n"
   ]
  },
  {
   "cell_type": "code",
   "execution_count": null,
   "metadata": {},
   "outputs": [],
   "source": []
  },
  {
   "cell_type": "code",
   "execution_count": null,
   "metadata": {},
   "outputs": [],
   "source": [
    "data_path = \"../../data/012724-kif3-2concs/\"\n",
    "condition1 = \"500ngul\"\n",
    "condition2 = \"1100ngul\"\n",
    "subcondition1 = \"rep1\"\n",
    "subcondition2 = \"rep2\"\n",
    "\n",
    "df = pivdrops.df_piv(data_path, condition2, subcondition1, min_frame=0, max_frame=33)"
   ]
  },
  {
   "cell_type": "code",
   "execution_count": null,
   "metadata": {},
   "outputs": [],
   "source": [
    "df[0]"
   ]
  },
  {
   "cell_type": "code",
   "execution_count": null,
   "metadata": {},
   "outputs": [],
   "source": [
    "pivdrops.correlation_length(df[0])"
   ]
  },
  {
   "cell_type": "code",
   "execution_count": null,
   "metadata": {},
   "outputs": [],
   "source": []
  }
 ],
 "metadata": {
  "kernelspec": {
   "display_name": "Python 3",
   "language": "python",
   "name": "python3"
  },
  "language_info": {
   "codemirror_mode": {
    "name": "ipython",
    "version": 3
   },
   "file_extension": ".py",
   "mimetype": "text/x-python",
   "name": "python",
   "nbconvert_exporter": "python",
   "pygments_lexer": "ipython3",
   "version": "3.11.5"
  }
 },
 "nbformat": 4,
 "nbformat_minor": 2
}
