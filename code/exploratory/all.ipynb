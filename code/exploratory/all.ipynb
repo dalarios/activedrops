{
 "cells": [
  {
   "cell_type": "code",
   "execution_count": 1,
   "metadata": {},
   "outputs": [
    {
     "ename": "EmptyDataError",
     "evalue": "No columns to parse from file",
     "output_type": "error",
     "traceback": [
      "\u001b[0;31m---------------------------------------------------------------------------\u001b[0m",
      "\u001b[0;31mEmptyDataError\u001b[0m                            Traceback (most recent call last)",
      "Cell \u001b[0;32mIn[1], line 83\u001b[0m\n\u001b[1;32m     80\u001b[0m output_save_folder \u001b[38;5;241m=\u001b[39m \u001b[38;5;124m\"\u001b[39m\u001b[38;5;124m../../../../Thomson Lab Dropbox/David Larios/activedrops/main/all/\u001b[39m\u001b[38;5;124m\"\u001b[39m\n\u001b[1;32m     82\u001b[0m \u001b[38;5;66;03m# Example usage of the function:\u001b[39;00m\n\u001b[0;32m---> 83\u001b[0m conditions, columns \u001b[38;5;241m=\u001b[39m concatenate_merged_expression_piv(\n\u001b[1;32m     84\u001b[0m     data_paths\u001b[38;5;241m=\u001b[39m[chimeras_RT, chimeras_29C, burst, sustained_RT, sustained_29C],\n\u001b[1;32m     85\u001b[0m     output_save_folder \u001b[38;5;241m=\u001b[39m output_save_folder\n\u001b[1;32m     86\u001b[0m )\n",
      "Cell \u001b[0;32mIn[1], line 41\u001b[0m, in \u001b[0;36mconcatenate_merged_expression_piv\u001b[0;34m(data_paths, output_save_folder)\u001b[0m\n\u001b[1;32m     38\u001b[0m \u001b[38;5;66;03m# Check if the merged file exists\u001b[39;00m\n\u001b[1;32m     39\u001b[0m \u001b[38;5;28;01mif\u001b[39;00m os\u001b[38;5;241m.\u001b[39mpath\u001b[38;5;241m.\u001b[39mexists(merged_file_path):\n\u001b[1;32m     40\u001b[0m     \u001b[38;5;66;03m# Read the merged_expression_PIV.csv file\u001b[39;00m\n\u001b[0;32m---> 41\u001b[0m     df \u001b[38;5;241m=\u001b[39m pd\u001b[38;5;241m.\u001b[39mread_csv(merged_file_path)\n\u001b[1;32m     42\u001b[0m     dataframes\u001b[38;5;241m.\u001b[39mappend(df)\n\u001b[1;32m     43\u001b[0m     \u001b[38;5;28mprint\u001b[39m(\u001b[38;5;124mf\u001b[39m\u001b[38;5;124m\"\u001b[39m\u001b[38;5;124mLoaded data from: \u001b[39m\u001b[38;5;132;01m{\u001b[39;00mmerged_file_path\u001b[38;5;132;01m}\u001b[39;00m\u001b[38;5;124m\"\u001b[39m)\n",
      "File \u001b[0;32m~/anaconda3/lib/python3.11/site-packages/pandas/io/parsers/readers.py:948\u001b[0m, in \u001b[0;36mread_csv\u001b[0;34m(filepath_or_buffer, sep, delimiter, header, names, index_col, usecols, dtype, engine, converters, true_values, false_values, skipinitialspace, skiprows, skipfooter, nrows, na_values, keep_default_na, na_filter, verbose, skip_blank_lines, parse_dates, infer_datetime_format, keep_date_col, date_parser, date_format, dayfirst, cache_dates, iterator, chunksize, compression, thousands, decimal, lineterminator, quotechar, quoting, doublequote, escapechar, comment, encoding, encoding_errors, dialect, on_bad_lines, delim_whitespace, low_memory, memory_map, float_precision, storage_options, dtype_backend)\u001b[0m\n\u001b[1;32m    935\u001b[0m kwds_defaults \u001b[38;5;241m=\u001b[39m _refine_defaults_read(\n\u001b[1;32m    936\u001b[0m     dialect,\n\u001b[1;32m    937\u001b[0m     delimiter,\n\u001b[0;32m   (...)\u001b[0m\n\u001b[1;32m    944\u001b[0m     dtype_backend\u001b[38;5;241m=\u001b[39mdtype_backend,\n\u001b[1;32m    945\u001b[0m )\n\u001b[1;32m    946\u001b[0m kwds\u001b[38;5;241m.\u001b[39mupdate(kwds_defaults)\n\u001b[0;32m--> 948\u001b[0m \u001b[38;5;28;01mreturn\u001b[39;00m _read(filepath_or_buffer, kwds)\n",
      "File \u001b[0;32m~/anaconda3/lib/python3.11/site-packages/pandas/io/parsers/readers.py:611\u001b[0m, in \u001b[0;36m_read\u001b[0;34m(filepath_or_buffer, kwds)\u001b[0m\n\u001b[1;32m    608\u001b[0m _validate_names(kwds\u001b[38;5;241m.\u001b[39mget(\u001b[38;5;124m\"\u001b[39m\u001b[38;5;124mnames\u001b[39m\u001b[38;5;124m\"\u001b[39m, \u001b[38;5;28;01mNone\u001b[39;00m))\n\u001b[1;32m    610\u001b[0m \u001b[38;5;66;03m# Create the parser.\u001b[39;00m\n\u001b[0;32m--> 611\u001b[0m parser \u001b[38;5;241m=\u001b[39m TextFileReader(filepath_or_buffer, \u001b[38;5;241m*\u001b[39m\u001b[38;5;241m*\u001b[39mkwds)\n\u001b[1;32m    613\u001b[0m \u001b[38;5;28;01mif\u001b[39;00m chunksize \u001b[38;5;129;01mor\u001b[39;00m iterator:\n\u001b[1;32m    614\u001b[0m     \u001b[38;5;28;01mreturn\u001b[39;00m parser\n",
      "File \u001b[0;32m~/anaconda3/lib/python3.11/site-packages/pandas/io/parsers/readers.py:1448\u001b[0m, in \u001b[0;36mTextFileReader.__init__\u001b[0;34m(self, f, engine, **kwds)\u001b[0m\n\u001b[1;32m   1445\u001b[0m     \u001b[38;5;28mself\u001b[39m\u001b[38;5;241m.\u001b[39moptions[\u001b[38;5;124m\"\u001b[39m\u001b[38;5;124mhas_index_names\u001b[39m\u001b[38;5;124m\"\u001b[39m] \u001b[38;5;241m=\u001b[39m kwds[\u001b[38;5;124m\"\u001b[39m\u001b[38;5;124mhas_index_names\u001b[39m\u001b[38;5;124m\"\u001b[39m]\n\u001b[1;32m   1447\u001b[0m \u001b[38;5;28mself\u001b[39m\u001b[38;5;241m.\u001b[39mhandles: IOHandles \u001b[38;5;241m|\u001b[39m \u001b[38;5;28;01mNone\u001b[39;00m \u001b[38;5;241m=\u001b[39m \u001b[38;5;28;01mNone\u001b[39;00m\n\u001b[0;32m-> 1448\u001b[0m \u001b[38;5;28mself\u001b[39m\u001b[38;5;241m.\u001b[39m_engine \u001b[38;5;241m=\u001b[39m \u001b[38;5;28mself\u001b[39m\u001b[38;5;241m.\u001b[39m_make_engine(f, \u001b[38;5;28mself\u001b[39m\u001b[38;5;241m.\u001b[39mengine)\n",
      "File \u001b[0;32m~/anaconda3/lib/python3.11/site-packages/pandas/io/parsers/readers.py:1723\u001b[0m, in \u001b[0;36mTextFileReader._make_engine\u001b[0;34m(self, f, engine)\u001b[0m\n\u001b[1;32m   1720\u001b[0m     \u001b[38;5;28;01mraise\u001b[39;00m \u001b[38;5;167;01mValueError\u001b[39;00m(msg)\n\u001b[1;32m   1722\u001b[0m \u001b[38;5;28;01mtry\u001b[39;00m:\n\u001b[0;32m-> 1723\u001b[0m     \u001b[38;5;28;01mreturn\u001b[39;00m mapping[engine](f, \u001b[38;5;241m*\u001b[39m\u001b[38;5;241m*\u001b[39m\u001b[38;5;28mself\u001b[39m\u001b[38;5;241m.\u001b[39moptions)\n\u001b[1;32m   1724\u001b[0m \u001b[38;5;28;01mexcept\u001b[39;00m \u001b[38;5;167;01mException\u001b[39;00m:\n\u001b[1;32m   1725\u001b[0m     \u001b[38;5;28;01mif\u001b[39;00m \u001b[38;5;28mself\u001b[39m\u001b[38;5;241m.\u001b[39mhandles \u001b[38;5;129;01mis\u001b[39;00m \u001b[38;5;129;01mnot\u001b[39;00m \u001b[38;5;28;01mNone\u001b[39;00m:\n",
      "File \u001b[0;32m~/anaconda3/lib/python3.11/site-packages/pandas/io/parsers/c_parser_wrapper.py:93\u001b[0m, in \u001b[0;36mCParserWrapper.__init__\u001b[0;34m(self, src, **kwds)\u001b[0m\n\u001b[1;32m     90\u001b[0m \u001b[38;5;28;01mif\u001b[39;00m kwds[\u001b[38;5;124m\"\u001b[39m\u001b[38;5;124mdtype_backend\u001b[39m\u001b[38;5;124m\"\u001b[39m] \u001b[38;5;241m==\u001b[39m \u001b[38;5;124m\"\u001b[39m\u001b[38;5;124mpyarrow\u001b[39m\u001b[38;5;124m\"\u001b[39m:\n\u001b[1;32m     91\u001b[0m     \u001b[38;5;66;03m# Fail here loudly instead of in cython after reading\u001b[39;00m\n\u001b[1;32m     92\u001b[0m     import_optional_dependency(\u001b[38;5;124m\"\u001b[39m\u001b[38;5;124mpyarrow\u001b[39m\u001b[38;5;124m\"\u001b[39m)\n\u001b[0;32m---> 93\u001b[0m \u001b[38;5;28mself\u001b[39m\u001b[38;5;241m.\u001b[39m_reader \u001b[38;5;241m=\u001b[39m parsers\u001b[38;5;241m.\u001b[39mTextReader(src, \u001b[38;5;241m*\u001b[39m\u001b[38;5;241m*\u001b[39mkwds)\n\u001b[1;32m     95\u001b[0m \u001b[38;5;28mself\u001b[39m\u001b[38;5;241m.\u001b[39munnamed_cols \u001b[38;5;241m=\u001b[39m \u001b[38;5;28mself\u001b[39m\u001b[38;5;241m.\u001b[39m_reader\u001b[38;5;241m.\u001b[39munnamed_cols\n\u001b[1;32m     97\u001b[0m \u001b[38;5;66;03m# error: Cannot determine type of 'names'\u001b[39;00m\n",
      "File \u001b[0;32mparsers.pyx:586\u001b[0m, in \u001b[0;36mpandas._libs.parsers.TextReader.__cinit__\u001b[0;34m()\u001b[0m\n",
      "\u001b[0;31mEmptyDataError\u001b[0m: No columns to parse from file"
     ]
    }
   ],
   "source": [
    "import os\n",
    "import pandas as pd\n",
    "## Import relevant libraries\n",
    "import sys\n",
    "import glob\n",
    "\n",
    "sys.path.append('../../py_files/')\n",
    "import quadrop as qd\n",
    "\n",
    "# qd.set_plotting_style()\n",
    "\n",
    "\n",
    "def concatenate_merged_expression_piv(data_paths, output_save_folder=None):\n",
    "    \"\"\"\n",
    "    Concatenate the merged_expression_PIV.csv files from multiple data paths into one file.\n",
    "\n",
    "    Parameters:\n",
    "    - data_paths: List of paths where the merged_expression_PIV.csv files are located.\n",
    "    - output_folder: Folder where the merged_expression_PIV.csv files are stored.\n",
    "    - merged_file_name: Name of the merged expression PIV file to read.\n",
    "    - output_file_name: Name of the output concatenated file to save.\n",
    "    - output_save_folder: Folder where the concatenated file will be saved. If None, save in the first data path's output folder.\n",
    "    \n",
    "    The concatenated file will be saved in the specified `output_save_folder`, or the first path in `data_paths` if not provided.\n",
    "    \"\"\"\n",
    "    \n",
    "    output_folder=\"output_data\"\n",
    "    merged_file_name=\"merged_expression_PIV.csv\"\n",
    "    output_file_name=\"merged_expression_PIV.csv\"\n",
    "    \n",
    "    # List to store DataFrames from each path\n",
    "    dataframes = []\n",
    "\n",
    "    # Loop over each data path\n",
    "    for path in data_paths:\n",
    "        merged_file_path = os.path.join(path, output_folder, merged_file_name)\n",
    "        \n",
    "        # Check if the merged file exists\n",
    "        if os.path.exists(merged_file_path):\n",
    "            # Read the merged_expression_PIV.csv file\n",
    "            df = pd.read_csv(merged_file_path)\n",
    "            dataframes.append(df)\n",
    "            print(f\"Loaded data from: {merged_file_path}\")\n",
    "        else:\n",
    "            print(f\"File not found: {merged_file_path}\")\n",
    "\n",
    "    if not dataframes:\n",
    "        print(\"No valid files found to concatenate.\")\n",
    "        return\n",
    "\n",
    "    # Concatenate all DataFrames\n",
    "    concatenated_df = pd.concat(dataframes, ignore_index=True)\n",
    "\n",
    "    # Determine the output directory\n",
    "    if output_save_folder is None:\n",
    "        output_save_folder = os.path.join(data_paths[0], output_folder)\n",
    "    \n",
    "    os.makedirs(output_save_folder, exist_ok=True)  # Ensure the output directory exists\n",
    "    \n",
    "    # Save the concatenated DataFrame to the output directory\n",
    "    output_file_path = os.path.join(output_save_folder, output_folder, output_file_name)\n",
    "    concatenated_df.to_csv(output_file_path, index=False)\n",
    "\n",
    "    conditions = list(concatenated_df['condition'].unique())\n",
    "    columns = list(concatenated_df.columns)\n",
    "\n",
    "    print(f\"Concatenated DataFrame saved to: {output_file_path}\")\n",
    "\n",
    "    return conditions, columns\n",
    "    \n",
    "\n",
    "\n",
    "chimeras_RT = \"../../../../Thomson Lab Dropbox/David Larios/activedrops/main/090124-chimeras100nM-RT/2p5ul_TMBmix-1ulDNA100nM_/\"\n",
    "chimeras_29C = \"../../../../Thomson Lab Dropbox/David Larios/activedrops/main/090124-chimeras100nM-29C/2p5ul_TMBmix-1ulDNA100nM_\"\n",
    "burst = \"../../../../Thomson Lab Dropbox/David Larios/activedrops/main/090824-burstMotors-RT_29C/2p5TMB-1ulDNA100nM9kif3-heal-neg-nagr_4/\"\n",
    "sustained_RT = \"../../../../Thomson Lab Dropbox/David Larios/activedrops/main/091024-sustainedMotors-RT/2p5TMB-1ulDNA100nM_/\"\n",
    "sustained_29C = \"../../../../Thomson Lab Dropbox/David Larios/activedrops/main/090824-sustainedMotors-29C/2p5TMB-1ulDNA100nM_2/\"\n",
    " \n",
    "\n",
    "output_save_folder = \"../../../../Thomson Lab Dropbox/David Larios/activedrops/main/all/\"\n",
    "\n",
    "# Example usage of the function:\n",
    "conditions, columns = concatenate_merged_expression_piv(\n",
    "    data_paths=[chimeras_RT, chimeras_29C, burst, sustained_RT, sustained_29C],\n",
    "    output_save_folder = output_save_folder\n",
    ")\n"
   ]
  },
  {
   "cell_type": "code",
   "execution_count": null,
   "metadata": {},
   "outputs": [],
   "source": [
    "conditions"
   ]
  },
  {
   "cell_type": "code",
   "execution_count": null,
   "metadata": {},
   "outputs": [],
   "source": [
    "columns"
   ]
  },
  {
   "cell_type": "code",
   "execution_count": 14,
   "metadata": {},
   "outputs": [
    {
     "name": "stdout",
     "output_type": "stream",
     "text": [
      "Combined plot saved at ../../../../Thomson Lab Dropbox/David Larios/activedrops/main/all/output_data/expression_piv_plots/time_(h)_vs_Protein_Concentration_nM_All_Conditions.png\n"
     ]
    }
   ],
   "source": [
    "x_column = \"time (h)\"  # Example x-axis column\n",
    "y_column = \"Protein Concentration_nM\"  # Example y-axis column\n",
    "\n",
    "# x_column = \"Protein Concentration_nM\"  # Example y-axis column\n",
    "# y_column = \"velocity magnitude [m/s]_mean\"  # Example y-axis column\n",
    "\n",
    "# x_column = \"time (h)\"  # Example x-axis column\n",
    "# y_column = \"velocity magnitude [m/s]_mean\"  # Example y-axis column\n",
    "\n",
    "# x_column = \"time (h)\"  # Example x-axis column\n",
    "# y_column = \"power [W]_mean\"  # Example y-axis column\n",
    "\n",
    "# x_column = \"time (h)\"  # Example x-axis column\n",
    "# y_column = \"work [J]_mean\"  # Example y-axis column\n",
    "\n",
    "# x_column = \"time (h)\"  # Example x-axis column\n",
    "# y_column = \"distance [m]_mean\"  # Example y-axis column\n",
    "\n",
    "output_save_folder = \"../../../../Thomson Lab Dropbox/David Larios/activedrops/main/all/\"\n",
    "\n",
    "\n",
    "qd.plot_expression_piv(\n",
    "    output_save_folder,\n",
    "    [\"A-RT\", \"A-29C\",],\n",
    "    x_column, \n",
    "    y_column, \n",
    "    sigma_x=0.1, \n",
    "    sigma_y=10, \n",
    "    x_log=False, \n",
    "    y_log=False, \n",
    "    min_frame=0, \n",
    "    max_frame=None, \n",
    "    individual_plots=False\n",
    "    )"
   ]
  },
  {
   "cell_type": "code",
   "execution_count": 33,
   "metadata": {},
   "outputs": [
    {
     "name": "stderr",
     "output_type": "stream",
     "text": [
      "2024-09-16 23:21:15,297 - WARNING - No artists with labels found to put in legend.  Note that artists whose label start with an underscore are ignored when legend() is called with no argument.\n"
     ]
    },
    {
     "name": "stdout",
     "output_type": "stream",
     "text": [
      "No data available for condition: B-RT\n",
      "No data available for condition: B-29C\n"
     ]
    },
    {
     "ename": "UnboundLocalError",
     "evalue": "cannot access local variable 'sanitized_x_column' where it is not associated with a value",
     "output_type": "error",
     "traceback": [
      "\u001b[0;31m---------------------------------------------------------------------------\u001b[0m",
      "\u001b[0;31mUnboundLocalError\u001b[0m                         Traceback (most recent call last)",
      "Cell \u001b[0;32mIn[33], line 11\u001b[0m\n\u001b[1;32m      1\u001b[0m y_columns \u001b[38;5;241m=\u001b[39m [\n\u001b[1;32m      2\u001b[0m     \u001b[38;5;124m\"\u001b[39m\u001b[38;5;124mProtein Concentration_nM\u001b[39m\u001b[38;5;124m\"\u001b[39m, \n\u001b[1;32m      3\u001b[0m     \u001b[38;5;124m\"\u001b[39m\u001b[38;5;124mvelocity magnitude [m/s]_mean\u001b[39m\u001b[38;5;124m\"\u001b[39m, \n\u001b[0;32m   (...)\u001b[0m\n\u001b[1;32m      7\u001b[0m     \u001b[38;5;124m\"\u001b[39m\u001b[38;5;124mcorrelation length [m]_mean\u001b[39m\u001b[38;5;124m\"\u001b[39m\n\u001b[1;32m      8\u001b[0m     ]\n\u001b[1;32m     10\u001b[0m \u001b[38;5;28;01mfor\u001b[39;00m y_column \u001b[38;5;129;01min\u001b[39;00m y_columns:\n\u001b[0;32m---> 11\u001b[0m     qd\u001b[38;5;241m.\u001b[39mplot_expression_piv(\n\u001b[1;32m     12\u001b[0m         output_save_folder,\n\u001b[1;32m     13\u001b[0m         [\u001b[38;5;124m\"\u001b[39m\u001b[38;5;124mB-RT\u001b[39m\u001b[38;5;124m\"\u001b[39m, \u001b[38;5;124m\"\u001b[39m\u001b[38;5;124mB-29C\u001b[39m\u001b[38;5;124m\"\u001b[39m,],\n\u001b[1;32m     14\u001b[0m         x_column, \n\u001b[1;32m     15\u001b[0m         y_column, \n\u001b[1;32m     16\u001b[0m         sigma_x\u001b[38;5;241m=\u001b[39m\u001b[38;5;241m0.1\u001b[39m, \n\u001b[1;32m     17\u001b[0m         sigma_y\u001b[38;5;241m=\u001b[39m\u001b[38;5;241m10\u001b[39m, \n\u001b[1;32m     18\u001b[0m         x_log\u001b[38;5;241m=\u001b[39m\u001b[38;5;28;01mFalse\u001b[39;00m, \n\u001b[1;32m     19\u001b[0m         y_log\u001b[38;5;241m=\u001b[39m\u001b[38;5;28;01mFalse\u001b[39;00m, \n\u001b[1;32m     20\u001b[0m         min_frame\u001b[38;5;241m=\u001b[39m\u001b[38;5;241m0\u001b[39m, \n\u001b[1;32m     21\u001b[0m         max_frame\u001b[38;5;241m=\u001b[39m\u001b[38;5;28;01mNone\u001b[39;00m, \n\u001b[1;32m     22\u001b[0m         individual_plots\u001b[38;5;241m=\u001b[39m\u001b[38;5;28;01mFalse\u001b[39;00m\n\u001b[1;32m     23\u001b[0m         )\n\u001b[1;32m     26\u001b[0m y_columns \u001b[38;5;241m=\u001b[39m [\n\u001b[1;32m     27\u001b[0m     \u001b[38;5;124m\"\u001b[39m\u001b[38;5;124mpower [W]_mean\u001b[39m\u001b[38;5;124m\"\u001b[39m, \n\u001b[1;32m     28\u001b[0m     \u001b[38;5;124m\"\u001b[39m\u001b[38;5;124mwork [J]_mean\u001b[39m\u001b[38;5;124m\"\u001b[39m, \n\u001b[1;32m     29\u001b[0m     \u001b[38;5;66;03m# \"Number of Protein Molecules\",\u001b[39;00m\n\u001b[1;32m     30\u001b[0m     ]\n\u001b[1;32m     32\u001b[0m \u001b[38;5;28;01mfor\u001b[39;00m y_column \u001b[38;5;129;01min\u001b[39;00m y_columns:\n",
      "File \u001b[0;32m~/git/activedrops/code/exploratory/../../py_files/quadrop.py:1945\u001b[0m, in \u001b[0;36mplot_expression_piv\u001b[0;34m(data_path, conditions, x_column, y_column, output_folder, merged_file, plot_output_folder, sigma_x, sigma_y, x_log, y_log, min_frame, max_frame, individual_plots, fill_na_method)\u001b[0m\n\u001b[1;32m   1942\u001b[0m plt\u001b[38;5;241m.\u001b[39mlegend()\n\u001b[1;32m   1944\u001b[0m \u001b[38;5;66;03m# Save the combined plot\u001b[39;00m\n\u001b[0;32m-> 1945\u001b[0m combined_plot_file \u001b[38;5;241m=\u001b[39m os\u001b[38;5;241m.\u001b[39mpath\u001b[38;5;241m.\u001b[39mjoin(plot_output_dir, \u001b[38;5;124mf\u001b[39m\u001b[38;5;124m\"\u001b[39m\u001b[38;5;132;01m{\u001b[39;00msanitized_x_column\u001b[38;5;132;01m}\u001b[39;00m\u001b[38;5;124m_vs_\u001b[39m\u001b[38;5;132;01m{\u001b[39;00msanitized_y_column\u001b[38;5;132;01m}\u001b[39;00m\u001b[38;5;124m_All_Conditions.png\u001b[39m\u001b[38;5;124m\"\u001b[39m)\n\u001b[1;32m   1946\u001b[0m plt\u001b[38;5;241m.\u001b[39msavefig(combined_plot_file, dpi\u001b[38;5;241m=\u001b[39m\u001b[38;5;241m300\u001b[39m)\n\u001b[1;32m   1947\u001b[0m plt\u001b[38;5;241m.\u001b[39mclose()\n",
      "\u001b[0;31mUnboundLocalError\u001b[0m: cannot access local variable 'sanitized_x_column' where it is not associated with a value"
     ]
    },
    {
     "data": {
      "image/png": "[encoded data removed]",
      "text/plain": [
       "<Figure size 1000x800 with 1 Axes>"
      ]
     },
     "metadata": {},
     "output_type": "display_data"
    }
   ],
   "source": [
    "y_columns = [\n",
    "    \"Protein Concentration_nM\", \n",
    "    \"velocity magnitude [m/s]_mean\", \n",
    "    \"distance [m]_mean\",\n",
    "    \"Rate of Change of Protein Molecules per Second\",\n",
    "    \"Translation Rate aa_s\",\n",
    "    \"correlation length [m]_mean\"\n",
    "    ]\n",
    "\n",
    "for y_column in y_columns:\n",
    "    qd.plot_expression_piv(\n",
    "        output_save_folder,\n",
    "        [\"H-RT\", \"H-29C\",],\n",
    "        x_column, \n",
    "        y_column, \n",
    "        sigma_x=0.1, \n",
    "        sigma_y=10, \n",
    "        x_log=False, \n",
    "        y_log=False, \n",
    "        min_frame=0, \n",
    "        max_frame=None, \n",
    "        individual_plots=False\n",
    "        )\n",
    "    \n",
    "\n",
    "y_columns = [\n",
    "    \"power [W]_mean\", \n",
    "    \"work [J]_mean\", \n",
    "    # \"Number of Protein Molecules\",\n",
    "    ]\n",
    "\n",
    "for y_column in y_columns:\n",
    "    qd.plot_expression_piv(\n",
    "        output_save_folder,\n",
    "        [\"H-RT\", \"H-29C\",],\n",
    "        x_column, \n",
    "        y_column, \n",
    "        sigma_x=0.1, \n",
    "        sigma_y=10, \n",
    "        x_log=False, \n",
    "        y_log=True, \n",
    "        min_frame=0, \n",
    "        max_frame=None, \n",
    "        individual_plots=False\n",
    "        )"
   ]
  },
  {
   "cell_type": "code",
   "execution_count": null,
   "metadata": {},
   "outputs": [],
   "source": [
    "\n",
    "# List of features for PCA\n",
    "features_pca = [\n",
    "    \"vorticity [1/s]_mean\",\n",
    "    # \"velocity magnitude [m/s]_mean\",\n",
    "    # \"distance [m]_mean\",\n",
    "    \"divergence [1/s]_mean\",\n",
    "    \"shear [1/s]_mean\",\n",
    "    \"strain [1/s]_mean\",\n",
    "    # \"correlation length [m]_mean\", \n",
    "    \"power [W]_mean\",\n",
    "    # \"work [J]_mean\",\n",
    "    'vector direction [degrees]_mean',\n",
    "    \"Protein Concentration_nM\", \n",
    "]\n",
    "\n",
    "# Run PCA and save plot (with all conditions and subconditions in the same plot)\n",
    "qd.plot_pca_expression_piv(output_save_folder, conditions=conditions, subconditions=['Rep1'], features=features_pca, sigma=1)\n"
   ]
  },
  {
   "cell_type": "code",
   "execution_count": null,
   "metadata": {},
   "outputs": [],
   "source": []
  }
 ],
 "metadata": {
  "kernelspec": {
   "display_name": "base",
   "language": "python",
   "name": "python3"
  },
  "language_info": {
   "codemirror_mode": {
    "name": "ipython",
    "version": 3
   },
   "file_extension": ".py",
   "mimetype": "text/x-python",
   "name": "python",
   "nbconvert_exporter": "python",
   "pygments_lexer": "ipython3",
   "version": "3.11.5"
  }
 },
 "nbformat": 4,
 "nbformat_minor": 2
}
