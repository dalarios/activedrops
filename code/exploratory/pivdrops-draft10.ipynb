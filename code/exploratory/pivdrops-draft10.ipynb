{
 "cells": [
  {
   "cell_type": "code",
   "execution_count": 1,
   "metadata": {},
   "outputs": [],
   "source": [
    "## Import relevant libraries\n",
    "import sys\n",
    "sys.path.append('../../activedrops')\n",
    "\n",
    "## Including ourselves\n",
    "import pivdrops\n",
    "pivdrops.set_plotting_style()\n"
   ]
  },
  {
   "cell_type": "code",
   "execution_count": 2,
   "metadata": {},
   "outputs": [],
   "source": [
    "data_path = \"../../data/012924-kif3-500ngul-NoCy5_3reps/\"\n",
    "condition1 = \"500ngul\"\n",
    "subcondition1 = \"rep1\"\n",
    "subcondition2 = \"rep2\"\n",
    "subcondition3 = \"rep3\"\n",
    "\n",
    "\n",
    "\n",
    "min_frame = 0\n",
    "max_frame = None\n",
    "\n",
    "\n",
    "# rep1_ts, a = pivdrops.process_piv_data(data_path, condition1, subcondition1, min_frame=min_frame, max_frame=max_frame, plot_autocorrelation=False)\n",
    "rep2_ts, b = pivdrops.process_piv_data(data_path, condition1, subcondition2, min_frame=min_frame, max_frame=max_frame, plot_autocorrelation=False)\n",
    "# rep3_ts, c = pivdrops.process_piv_data(data_path, condition1, subcondition3, min_frame=min_frame, max_frame=max_frame, plot_autocorrelation=False)\n",
    "\n"
   ]
  },
  {
   "cell_type": "code",
   "execution_count": 3,
   "metadata": {},
   "outputs": [],
   "source": [
    "features_pca = [\n",
    "    \"vorticity [1/s]_mean\",\t\n",
    "    \"velocity magnitude [um/s]\", \n",
    "    \"divergence [1/s]_mean\", \n",
    "    # \"dcev [1]_mean\", \n",
    "    \"shear [1/s]_mean\", \n",
    "    \"strain [1/s]_mean\", \n",
    "    # \"vector direction [degrees]_mean\", \n",
    "    \"correlation length [um]\", \n",
    "    \"power [W]_mean\",\n",
    "    \"work [J]\", \n",
    "    ]\n",
    "\n",
    "pivdrops.plot_features(\n",
    "    [\n",
    "        data_path, \n",
    "        data_path, \n",
    "        data_path\n",
    "        ], \n",
    "    [\n",
    "        condition1, \n",
    "        condition1, \n",
    "        condition1\n",
    "        ], \n",
    "    [\n",
    "        subcondition1, \n",
    "        subcondition2, \n",
    "        subcondition3\n",
    "        ], \n",
    "    features_pca, \n",
    "    time_intervals=[\n",
    "        3, \n",
    "        3,\n",
    "        3\n",
    "        ], \n",
    "    sigma=0,  \n",
    "    min_frame=0, \n",
    "    max_frame=None,\n",
    "    # trajectories=True,\n",
    "    )\n"
   ]
  },
  {
   "cell_type": "code",
   "execution_count": 5,
   "metadata": {},
   "outputs": [
    {
     "name": "stdout",
     "output_type": "stream",
     "text": [
      "Conversion already completed for ../../data/012924-kif3-500ngul-NoCy5_3reps//500ngul/rep3/piv_movie_converted/. Skipping...\n"
     ]
    }
   ],
   "source": [
    "# pivdrops.convert_images(data_path, condition1, subcondition1, max_frame=max_frame, brightness_factor=1, contrast_factor=1)\n",
    "pivdrops.convert_images(data_path, condition1, subcondition2, max_frame=max_frame, brightness_factor=1, contrast_factor=1)\n",
    "pivdrops.convert_images(data_path, condition1, subcondition3, max_frame=max_frame, brightness_factor=1, contrast_factor=1)\n"
   ]
  },
  {
   "cell_type": "code",
   "execution_count": null,
   "metadata": {},
   "outputs": [],
   "source": [
    "v = 10E-6\n",
    "velocity_limits = (0, v)\n",
    "other_limits = (-0.15, 0.15)\n",
    "\n",
    "\n",
    "# velocity_limits = (None, None)\n",
    "# other_limits = (None, None)\n",
    "\n",
    "feature_limits = {\n",
    "    'u [m/s]': (-v, v), \n",
    "    'v [m/s]': (-v, v), \n",
    "    'data type [-]': (None, None),\n",
    "    'velocity magnitude [m/s]': velocity_limits,\n",
    "    'vorticity [1/s]': other_limits,\n",
    "    'divergence [1/s]': other_limits,\n",
    "    'dcev [1]': (0, 250),\n",
    "    'shear [1/s]': other_limits,\n",
    "    'strain [1/s]': other_limits,\n",
    "    'vector direction [degrees]': (-180, 180),\n",
    "}\n",
    "\n",
    "min_frame = 100\n",
    "max_frame = 120\n",
    " \n",
    "pivdrops.piv_heatmap(a.iloc[min_frame:max_frame,:], data_path, condition1, subcondition1, feature_limits, time_interval=6)\n",
    "pivdrops.piv_heatmap(b.iloc[min_frame:max_frame,:], data_path, condition1, subcondition2, feature_limits, time_interval=6)\n",
    "pivdrops.piv_heatmap(c.iloc[min_frame:max_frame,:], data_path, condition2, subcondition1, feature_limits, time_interval=6)\n",
    "pivdrops.piv_heatmap(d.iloc[min_frame:max_frame,:], data_path, condition2, subcondition2, feature_limits, time_interval=6)\n",
    "\n",
    "\n",
    "pivdrops.create_heatmap_movies(data_path, condition1, subcondition1, feature_limits)\n",
    "pivdrops.create_heatmap_movies(data_path, condition1, subcondition2, feature_limits)\n",
    "pivdrops.create_heatmap_movies(data_path, condition2, subcondition1, feature_limits)\n",
    "pivdrops.create_heatmap_movies(data_path, condition2, subcondition2, feature_limits)\n",
    "\n",
    "\n"
   ]
  },
  {
   "cell_type": "code",
   "execution_count": null,
   "metadata": {},
   "outputs": [],
   "source": []
  },
  {
   "cell_type": "code",
   "execution_count": null,
   "metadata": {},
   "outputs": [],
   "source": []
  },
  {
   "cell_type": "code",
   "execution_count": null,
   "metadata": {},
   "outputs": [],
   "source": []
  },
  {
   "cell_type": "code",
   "execution_count": null,
   "metadata": {},
   "outputs": [],
   "source": [
    "data_path = \"../../data/01-k401-biotin_strep/\"\n",
    "condition1 = \"125nM\"\n",
    "condition2 = \"250nM\"\n",
    "condition3 = \"500nM\"\n",
    "subcondition1 = \"2ul\"\n",
    "\n",
    "\n",
    "min_frame = 0\n",
    "max_frame = None\n",
    "\n",
    "\n",
    "rep1_ts, a = pivdrops.process_piv_data(data_path, condition1, subcondition1, min_frame=min_frame, max_frame=max_frame, plot_autocorrelation=False)\n",
    "rep2_ts, b = pivdrops.process_piv_data(data_path, condition2, subcondition1, min_frame=min_frame, max_frame=max_frame, plot_autocorrelation=False)\n",
    "rep2_ts, b = pivdrops.process_piv_data(data_path, condition3, subcondition1, min_frame=min_frame, max_frame=max_frame, plot_autocorrelation=False)\n",
    "\n",
    "# rep3_ts, c = pivdrops.process_piv_data(data_path, condition2, subcondition1, min_frame=min_frame, max_frame=max_frame, plot_autocorrelation=False)\n",
    "# rep4_ts, d = pivdrops.process_piv_data(data_path, condition2, subcondition2, min_frame=min_frame, max_frame=max_frame, plot_autocorrelation=False)\n",
    "\n"
   ]
  },
  {
   "cell_type": "code",
   "execution_count": null,
   "metadata": {},
   "outputs": [],
   "source": [
    "features_pca = [\n",
    "    # \"data type [-]_mean\", \n",
    "    \"vorticity [1/s]_mean\",\t\n",
    "    \"velocity magnitude [um/s]\", \n",
    "    \"divergence [1/s]_mean\", \n",
    "    # \"dcev [1]_mean\", \n",
    "    \"shear [1/s]_mean\", \n",
    "    \"strain [1/s]_mean\", \n",
    "    # \"vector direction [degrees]_mean\", \n",
    "    \"correlation length [um]\", \n",
    "    \"power [W]_mean\",\n",
    "    \"work [J]\", \n",
    "    ]\n",
    "\n",
    "pivdrops.plot_features(\n",
    "    [data_path, data_path, data_path], \n",
    "    [condition1, condition2, condition3], \n",
    "    [subcondition1, subcondition1, subcondition1], \n",
    "    features_pca, \n",
    "    time_intervals=[3, 3, 3], \n",
    "    sigma=0,  \n",
    "    min_frame=0, \n",
    "    max_frame=None,\n",
    "    # trajectories=True,\n",
    "    )\n"
   ]
  },
  {
   "cell_type": "code",
   "execution_count": null,
   "metadata": {},
   "outputs": [],
   "source": []
  },
  {
   "cell_type": "code",
   "execution_count": null,
   "metadata": {},
   "outputs": [],
   "source": []
  },
  {
   "cell_type": "code",
   "execution_count": null,
   "metadata": {},
   "outputs": [],
   "source": []
  },
  {
   "cell_type": "code",
   "execution_count": null,
   "metadata": {},
   "outputs": [],
   "source": []
  },
  {
   "cell_type": "code",
   "execution_count": null,
   "metadata": {},
   "outputs": [],
   "source": []
  },
  {
   "cell_type": "code",
   "execution_count": null,
   "metadata": {},
   "outputs": [],
   "source": [
    "\n",
    "\n",
    "\n",
    "import os\n",
    "import glob\n",
    "import matplotlib.pyplot as plt\n",
    "import numpy as np\n",
    "import pandas as pd\n",
    "import viz\n",
    "import pivdrops\n",
    "import imageio.v2 as imageio\n",
    "\n",
    "def compute_mean_intensity(image_folder_path):\n",
    "    # Get all .tif files in the folder\n",
    "    image_files = sorted(glob.glob(image_folder_path))\n",
    "    \n",
    "    # Initialize a dataframe to store results\n",
    "    results_df = pd.DataFrame(columns=[\"frame\", \"mean_normalized_intensity\"])\n",
    "    \n",
    "    # Loop through each image file\n",
    "    for image_file in image_files:\n",
    "        # Read the image\n",
    "        img = imageio.imread(image_file)\n",
    "        \n",
    "        # Normalize the image\n",
    "        normalized_img = img #/ np.min(img)\n",
    "        \n",
    "        # Compute the mean normalized fluorescence intensity\n",
    "        mean_intensity = np.mean(normalized_img)\n",
    "        \n",
    "        # Extract frame number from the file name (assuming a specific format)\n",
    "        frame_number = int(image_files[0].split('img_')[-1].split('_gfp')[0])  # Adjust as per actual file name format\n",
    "        \n",
    "        # Append results to dataframe\n",
    "        new_data = pd.DataFrame({\n",
    "            \"frame\": [frame_number],\n",
    "            \"mean_normalized_intensity\": [mean_intensity]\n",
    "        })\n",
    "        results_df = pd.concat([results_df, new_data], ignore_index=True)\n",
    "    \n",
    "    # Sort dataframe based on frame number\n",
    "    results_df = results_df.reset_index(drop=False).sort_values(by='index')\n",
    "    \n",
    "    return results_df\n"
   ]
  },
  {
   "cell_type": "code",
   "execution_count": null,
   "metadata": {},
   "outputs": [],
   "source": [
    "df = compute_mean_intensity(\"../../data/012924-kif3-500ngul-NoCy5_reps/500ngul/rep1/expression/Pos3/img_00000****_gfp-4x_000.tif\")"
   ]
  },
  {
   "cell_type": "code",
   "execution_count": null,
   "metadata": {},
   "outputs": [],
   "source": [
    "df"
   ]
  },
  {
   "cell_type": "code",
   "execution_count": null,
   "metadata": {},
   "outputs": [],
   "source": [
    "# plot the mean intensity over time\n",
    "plt.plot(df[\"index\"], df[\"mean_normalized_intensity\"])\n",
    "plt.xlabel(\"Frame number\")\n",
    "plt.ylabel(\"Mean normalized intensity\")\n",
    "plt.show()"
   ]
  },
  {
   "cell_type": "code",
   "execution_count": null,
   "metadata": {},
   "outputs": [],
   "source": []
  }
 ],
 "metadata": {
  "kernelspec": {
   "display_name": "Python 3",
   "language": "python",
   "name": "python3"
  },
  "language_info": {
   "codemirror_mode": {
    "name": "ipython",
    "version": 3
   },
   "file_extension": ".py",
   "mimetype": "text/x-python",
   "name": "python",
   "nbconvert_exporter": "python",
   "pygments_lexer": "ipython3",
   "version": "3.11.5"
  }
 },
 "nbformat": 4,
 "nbformat_minor": 2
}
