{
 "cells": [
  {
   "cell_type": "code",
   "execution_count": 1,
   "metadata": {},
   "outputs": [],
   "source": [
    "## Import relevant libraries\n",
    "import sys\n",
    "sys.path.append('../../activedrops')\n",
    "\n",
    "## Including ourselves\n",
    "import pivdrops\n",
    "pivdrops.set_plotting_style()"
   ]
  },
  {
   "cell_type": "code",
   "execution_count": null,
   "metadata": {},
   "outputs": [],
   "source": [
    "data_path = \"../../data/ActiveDROPS_Kif3-time_interval-calibration\"\n",
    "condition = \"kif3-3sint\"\n",
    "subcondition = \"rep1\"\n",
    "\n",
    "min_frame = 0\n",
    "max_frame = 55\n",
    "time_intervals = [3]\n",
    "\n",
    "\n",
    "sint3, pivot_df = pivdrops.process_piv_data(data_path, condition, subcondition, min_frame=min_frame, max_frame=max_frame, plot_autocorrelation=False)\n",
    "\n"
   ]
  },
  {
   "cell_type": "code",
   "execution_count": null,
   "metadata": {},
   "outputs": [],
   "source": [
    "pivdrops.plot_features([sint3], [data_path], [condition], [subcondition], time_intervals=time_intervals, sigma=1)\n"
   ]
  },
  {
   "cell_type": "code",
   "execution_count": null,
   "metadata": {},
   "outputs": [],
   "source": [
    "features_pca = [\n",
    "    # \"data type [-]_mean\", \n",
    "    \"vorticity [1/s]_mean\",\t\n",
    "    \"velocity magnitude [m/s]_mean\", \n",
    "    \"divergence [1/s]_mean\", \n",
    "    # \"dcev [1]_mean\", \n",
    "    \"shear [1/s]_mean\", \n",
    "    \"strain [1/s]_mean\", \n",
    "    \"vector direction [degrees]_mean\", \n",
    "    \"correlation length [m]_mean\", \n",
    "    \"power [W]_mean\"]\n",
    "\n",
    "pivdrops.plot_pca([sint3], [data_path], [condition], [subcondition], features_pca)\n"
   ]
  },
  {
   "cell_type": "code",
   "execution_count": null,
   "metadata": {},
   "outputs": [],
   "source": [
    "pivdrops.convert_images(data_path, condition, subcondition, max_frame=max_frame, brightness_factor=1, contrast_factor=1)\n",
    "\n",
    "\n",
    "v = 10E-6\n",
    "velocity_limits = (0, v)\n",
    "other_limits = (-0.15, 0.15)\n",
    "\n",
    "# velocity_limits = (None, None)\n",
    "# other_limits = (None, None)\n",
    "\n",
    "feature_limits = {\n",
    "    'u [m/s]': (-v, v), \n",
    "    'v [m/s]': (-v, v), \n",
    "    'data type [-]': (None, None),\n",
    "    'velocity magnitude [m/s]': velocity_limits,\n",
    "    'vorticity [1/s]': other_limits,\n",
    "    'divergence [1/s]': other_limits,\n",
    "    'dcev [1]': (0, 250),\n",
    "    'shear [1/s]': other_limits,\n",
    "    'strain [1/s]': other_limits,\n",
    "    'vector direction [degrees]': (-180, 180),\n",
    "}\n",
    " \n",
    "pivdrops.piv_heatmap(pivot_df, data_path, condition, subcondition, feature_limits, time_interval=time_interval)\n",
    "pivdrops.create_heatmap_movies(data_path, condition, subcondition, feature_limits)\n",
    "\n"
   ]
  },
  {
   "cell_type": "markdown",
   "metadata": {},
   "source": [
    "cool, now that works in windows let's compare the different time intervals generated from kif3 taken at 3 seconds per frame"
   ]
  },
  {
   "cell_type": "code",
   "execution_count": 2,
   "metadata": {},
   "outputs": [],
   "source": [
    "## Import relevant libraries\n",
    "import sys\n",
    "sys.path.append('../../activedrops')\n",
    "\n",
    "## Including ourselves\n",
    "import pivdrops\n",
    "pivdrops.set_plotting_style()"
   ]
  },
  {
   "cell_type": "code",
   "execution_count": 4,
   "metadata": {},
   "outputs": [],
   "source": [
    "data_path = \"../../data/ActiveDROPS_Kif3-time_interval-calibration\"\n",
    "condition1 = \"kif3-3sint\"\n",
    "condition2 = \"kif3-6sint\"\n",
    "condition3 = \"kif3-12sint\"\n",
    "subcondition = \"rep1\"\n",
    "\n",
    "min_frame = 60\n",
    "max_frame = None\n",
    "\n",
    "\n",
    "sint3, pivot_df = pivdrops.process_piv_data(data_path, condition1, subcondition, min_frame=min_frame, max_frame=max_frame, plot_autocorrelation=False)\n",
    "sint6, pivot_df = pivdrops.process_piv_data(data_path, condition2, subcondition, min_frame=min_frame, max_frame=max_frame, plot_autocorrelation=False)\n",
    "sint12, pivot_df = pivdrops.process_piv_data(data_path, condition3, subcondition, min_frame=min_frame, max_frame=max_frame, plot_autocorrelation=False)\n",
    "\n"
   ]
  },
  {
   "cell_type": "code",
   "execution_count": 5,
   "metadata": {},
   "outputs": [],
   "source": [
    "time_intervals = [3,6,12]\n",
    "\n",
    "pivdrops.plot_features([sint3, sint6, sint12], [data_path, data_path, data_path], [condition1, condition2, condition3], [subcondition, subcondition, subcondition], time_intervals=time_intervals, sigma=1)\n"
   ]
  },
  {
   "cell_type": "code",
   "execution_count": 6,
   "metadata": {},
   "outputs": [],
   "source": [
    "features_pca = [\n",
    "    # \"data type [-]_mean\", \n",
    "    \"vorticity [1/s]_mean\",\t\n",
    "    \"velocity magnitude [m/s]_mean\", \n",
    "    \"divergence [1/s]_mean\", \n",
    "    # \"dcev [1]_mean\", \n",
    "    \"shear [1/s]_mean\", \n",
    "    \"strain [1/s]_mean\", \n",
    "    \"vector direction [degrees]_mean\", \n",
    "    \"correlation length [m]_mean\", \n",
    "    \"power [W]_mean\"\n",
    "    ]\n",
    "\n",
    "pivdrops.plot_pca([sint3, sint6, sint12], [data_path, data_path, data_path], [condition1, condition2, condition3], [subcondition, subcondition, subcondition], features_pca)\n",
    "    "
   ]
  },
  {
   "cell_type": "code",
   "execution_count": null,
   "metadata": {},
   "outputs": [],
   "source": []
  }
 ],
 "metadata": {
  "kernelspec": {
   "display_name": "base",
   "language": "python",
   "name": "python3"
  },
  "language_info": {
   "codemirror_mode": {
    "name": "ipython",
    "version": 3
   },
   "file_extension": ".py",
   "mimetype": "text/x-python",
   "name": "python",
   "nbconvert_exporter": "python",
   "pygments_lexer": "ipython3",
   "version": "3.11.5"
  }
 },
 "nbformat": 4,
 "nbformat_minor": 2
}
