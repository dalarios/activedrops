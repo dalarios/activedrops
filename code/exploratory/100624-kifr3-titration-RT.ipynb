{
 "cells": [
  {
   "cell_type": "code",
   "execution_count": 1,
   "metadata": {},
   "outputs": [],
   "source": [
    "## Import relevant libraries\n",
    "import sys\n",
    "import glob\n",
    "\n",
    "sys.path.append('../../py_files/')\n",
    "import quadrop as qd\n",
    "\n",
    "qd.set_plotting_style()"
   ]
  },
  {
   "cell_type": "markdown",
   "metadata": {},
   "source": [
    "### Data pre-procesing"
   ]
  },
  {
   "cell_type": "code",
   "execution_count": 2,
   "metadata": {},
   "outputs": [],
   "source": [
    "# # Example usage\n",
    "# base_dir = \"../../../../Thomson Lab Dropbox/David Larios/activedrops/ubuntu/100624-kifr3-titration-RT/5ulTMB-2ulDNA160nM_2/\"\n",
    "# qd.consolidate_images(base_dir)"
   ]
  },
  {
   "cell_type": "code",
   "execution_count": 3,
   "metadata": {},
   "outputs": [
    {
     "name": "stdout",
     "output_type": "stream",
     "text": [
      "Warning: ../../../../Thomson Lab Dropbox/David Larios/activedrops/ubuntu/kif3/Pos0 does not exist. Skipping.\n",
      "Warning: ../../../../Thomson Lab Dropbox/David Larios/activedrops/ubuntu/kif3/Pos1 does not exist. Skipping.\n",
      "Conditions: ['Kif3_0p625nM_1-RT', 'Kif3_0p625nM_2-RT', 'Kif3_1p25nM_1-RT', 'Kif3_1p25nM_2-RT', 'Kif3_2p5nM_1-RT', 'Kif3_2p5nM_2-RT', 'Kif3_5nM_1-RT', 'Kif3_5nM_2-RT', 'Kif3_10nM_1-RT', 'Kif3_10nM_2-RT', 'Kif3_20nM_1-RT', 'Kif3_20nM_2-RT', 'Kif3_40nM_1-RT', 'Kif3_40nM_2-RT', 'Kif3_80nM_1-RT', 'Kif3_80nM_2-RT', 'Kif3_160nM_1-RT', 'Kif3_160nM_2-RT']\n",
      "Subconditions: ['Rep1']\n"
     ]
    }
   ],
   "source": [
    "# Example usage\n",
    "data_path = \"../../../../Thomson Lab Dropbox/David Larios/activedrops/ubuntu/kif3/\"\n",
    "\n",
    "calibration_curve_paths = sorted(glob.glob(\"../../../../Thomson Lab Dropbox/David Larios/activedrops/calibration_curve/***ugml.tif\"))\n",
    "\n",
    "\n",
    "conditions_dict = {\n",
    "    \"Kif3_0p625nM_1-RT\": \"Pos0\", \n",
    "    \"Kif3_0p625nM_2-RT\": \"Pos1\",\n",
    "\n",
    "}\n",
    "\n",
    "# Organize PosX folders into condition folders\n",
    "qd.organize_conditions(data_path, conditions_dict)\n",
    "\n",
    "# Now run the existing functions to reorganize the tiffs and rename the folders\n",
    "conditions, subconditions = qd.prepare_conditions(data_path)\n",
    "time_interval_list = [8] * len(conditions)  # time intervals in seconds between frames for each condition\n",
    "\n",
    "\n",
    "print(\"Conditions:\", conditions)\n",
    "print(\"Subconditions:\", subconditions)\n",
    "\n"
   ]
  },
  {
   "cell_type": "code",
   "execution_count": 3,
   "metadata": {},
   "outputs": [],
   "source": [
    "# qd.reorgTiffsToOriginal(data_path, conditions, subconditions)\n"
   ]
  },
  {
   "cell_type": "markdown",
   "metadata": {},
   "source": [
    "### Generate movies"
   ]
  },
  {
   "cell_type": "code",
   "execution_count": 5,
   "metadata": {},
   "outputs": [
    {
     "name": "stderr",
     "output_type": "stream",
     "text": [
      "Processing Kif3_0p625nM_1-RT - Rep1: 100%|██████████| 1800/1800 [05:19<00:00,  5.64it/s]\n",
      "Processing Kif3_0p625nM_2-RT - Rep1: 100%|██████████| 1800/1800 [05:32<00:00,  5.42it/s]\n",
      "Processing Kif3_1p25nM_1-RT - Rep1: 100%|██████████| 1800/1800 [05:24<00:00,  5.55it/s]\n",
      "Processing Kif3_1p25nM_2-RT - Rep1: 100%|██████████| 1800/1800 [05:20<00:00,  5.62it/s]\n",
      "Processing Kif3_2p5nM_1-RT - Rep1: 100%|██████████| 1800/1800 [05:40<00:00,  5.28it/s]\n",
      "Processing Kif3_2p5nM_2-RT - Rep1: 100%|██████████| 1800/1800 [05:28<00:00,  5.48it/s]\n",
      "Processing Kif3_5nM_1-RT - Rep1: 100%|██████████| 1800/1800 [04:06<00:00,  7.31it/s]\n",
      "Processing Kif3_5nM_2-RT - Rep1: 100%|██████████| 1800/1800 [04:11<00:00,  7.17it/s]\n",
      "Processing Kif3_10nM_1-RT - Rep1: 100%|██████████| 1800/1800 [05:27<00:00,  5.49it/s]\n",
      "Processing Kif3_10nM_2-RT - Rep1: 100%|██████████| 1800/1800 [05:35<00:00,  5.36it/s]\n",
      "Processing Kif3_20nM_1-RT - Rep1: 100%|██████████| 1800/1800 [04:44<00:00,  6.34it/s]\n",
      "Processing Kif3_20nM_2-RT - Rep1: 100%|██████████| 1800/1800 [03:51<00:00,  7.78it/s]\n",
      "Processing Kif3_40nM_1-RT - Rep1: 100%|██████████| 1800/1800 [03:53<00:00,  7.71it/s]\n",
      "Processing Kif3_40nM_2-RT - Rep1: 100%|██████████| 1800/1800 [03:54<00:00,  7.66it/s]\n",
      "Processing Kif3_80nM_1-RT - Rep1: 100%|██████████| 1800/1800 [03:54<00:00,  7.68it/s]\n",
      "Processing Kif3_80nM_2-RT - Rep1: 100%|██████████| 1800/1800 [03:52<00:00,  7.73it/s]\n",
      "Processing Kif3_160nM_1-RT - Rep1: 100%|██████████| 1800/1800 [03:54<00:00,  7.68it/s]\n",
      "Processing Kif3_160nM_2-RT - Rep1: 100%|██████████| 1800/1800 [03:54<00:00,  7.68it/s]\n"
     ]
    }
   ],
   "source": [
    "# Call the function\n",
    "qd.fluorescence_heatmap(\n",
    "    data_path, \n",
    "    conditions, \n",
    "    subconditions, \n",
    "    channel='cy5', \n",
    "    time_interval_list=time_interval_list, \n",
    "    vmax=2.5, \n",
    "    skip_frames=1, \n",
    "    calibration_curve_paths=calibration_curve_paths, \n",
    "    show_scalebar=False,\n",
    "    )"
   ]
  },
  {
   "cell_type": "code",
   "execution_count": 6,
   "metadata": {},
   "outputs": [
    {
     "name": "stdout",
     "output_type": "stream",
     "text": [
      "Creating video for Kif3_0p625nM_1-RT - Rep1 with duration: 15.00 seconds.\n"
     ]
    },
    {
     "name": "stderr",
     "output_type": "stream",
     "text": [
      "Creating video for Kif3_0p625nM_1-RT - Rep1: 100%|██████████| 1800/1800 [02:24<00:00, 12.47it/s]\n"
     ]
    },
    {
     "name": "stdout",
     "output_type": "stream",
     "text": [
      "Creating video for Kif3_0p625nM_2-RT - Rep1 with duration: 15.00 seconds.\n"
     ]
    },
    {
     "name": "stderr",
     "output_type": "stream",
     "text": [
      "Creating video for Kif3_0p625nM_2-RT - Rep1: 100%|██████████| 1800/1800 [02:24<00:00, 12.50it/s]\n"
     ]
    },
    {
     "name": "stdout",
     "output_type": "stream",
     "text": [
      "Creating video for Kif3_1p25nM_1-RT - Rep1 with duration: 15.00 seconds.\n"
     ]
    },
    {
     "name": "stderr",
     "output_type": "stream",
     "text": [
      "Creating video for Kif3_1p25nM_1-RT - Rep1: 100%|██████████| 1800/1800 [02:25<00:00, 12.34it/s]\n"
     ]
    },
    {
     "name": "stdout",
     "output_type": "stream",
     "text": [
      "Creating video for Kif3_1p25nM_2-RT - Rep1 with duration: 15.00 seconds.\n"
     ]
    },
    {
     "name": "stderr",
     "output_type": "stream",
     "text": [
      "Creating video for Kif3_1p25nM_2-RT - Rep1: 100%|██████████| 1800/1800 [02:29<00:00, 12.05it/s]\n"
     ]
    },
    {
     "name": "stdout",
     "output_type": "stream",
     "text": [
      "Creating video for Kif3_2p5nM_1-RT - Rep1 with duration: 15.00 seconds.\n"
     ]
    },
    {
     "name": "stderr",
     "output_type": "stream",
     "text": [
      "Creating video for Kif3_2p5nM_1-RT - Rep1: 100%|██████████| 1800/1800 [02:25<00:00, 12.35it/s]\n"
     ]
    },
    {
     "name": "stdout",
     "output_type": "stream",
     "text": [
      "Creating video for Kif3_2p5nM_2-RT - Rep1 with duration: 15.00 seconds.\n"
     ]
    },
    {
     "name": "stderr",
     "output_type": "stream",
     "text": [
      "Creating video for Kif3_2p5nM_2-RT - Rep1: 100%|██████████| 1800/1800 [02:24<00:00, 12.48it/s]\n"
     ]
    },
    {
     "name": "stdout",
     "output_type": "stream",
     "text": [
      "Creating video for Kif3_5nM_1-RT - Rep1 with duration: 15.00 seconds.\n"
     ]
    },
    {
     "name": "stderr",
     "output_type": "stream",
     "text": [
      "Creating video for Kif3_5nM_1-RT - Rep1: 100%|██████████| 1800/1800 [02:22<00:00, 12.64it/s]\n"
     ]
    },
    {
     "name": "stdout",
     "output_type": "stream",
     "text": [
      "Creating video for Kif3_5nM_2-RT - Rep1 with duration: 15.00 seconds.\n"
     ]
    },
    {
     "name": "stderr",
     "output_type": "stream",
     "text": [
      "Creating video for Kif3_5nM_2-RT - Rep1: 100%|██████████| 1800/1800 [02:22<00:00, 12.63it/s]\n"
     ]
    },
    {
     "name": "stdout",
     "output_type": "stream",
     "text": [
      "Creating video for Kif3_10nM_1-RT - Rep1 with duration: 15.00 seconds.\n"
     ]
    },
    {
     "name": "stderr",
     "output_type": "stream",
     "text": [
      "Creating video for Kif3_10nM_1-RT - Rep1: 100%|██████████| 1800/1800 [02:22<00:00, 12.62it/s]\n"
     ]
    },
    {
     "name": "stdout",
     "output_type": "stream",
     "text": [
      "Creating video for Kif3_10nM_2-RT - Rep1 with duration: 15.00 seconds.\n"
     ]
    },
    {
     "name": "stderr",
     "output_type": "stream",
     "text": [
      "Creating video for Kif3_10nM_2-RT - Rep1: 100%|██████████| 1800/1800 [02:24<00:00, 12.43it/s]\n"
     ]
    },
    {
     "name": "stdout",
     "output_type": "stream",
     "text": [
      "Creating video for Kif3_20nM_1-RT - Rep1 with duration: 15.00 seconds.\n"
     ]
    },
    {
     "name": "stderr",
     "output_type": "stream",
     "text": [
      "Creating video for Kif3_20nM_1-RT - Rep1: 100%|██████████| 1800/1800 [02:22<00:00, 12.65it/s]\n"
     ]
    },
    {
     "name": "stdout",
     "output_type": "stream",
     "text": [
      "Creating video for Kif3_20nM_2-RT - Rep1 with duration: 15.00 seconds.\n"
     ]
    },
    {
     "name": "stderr",
     "output_type": "stream",
     "text": [
      "Creating video for Kif3_20nM_2-RT - Rep1: 100%|██████████| 1800/1800 [02:22<00:00, 12.64it/s]\n"
     ]
    },
    {
     "name": "stdout",
     "output_type": "stream",
     "text": [
      "Creating video for Kif3_40nM_1-RT - Rep1 with duration: 15.00 seconds.\n"
     ]
    },
    {
     "name": "stderr",
     "output_type": "stream",
     "text": [
      "Creating video for Kif3_40nM_1-RT - Rep1: 100%|██████████| 1800/1800 [02:23<00:00, 12.54it/s]\n"
     ]
    },
    {
     "name": "stdout",
     "output_type": "stream",
     "text": [
      "Creating video for Kif3_40nM_2-RT - Rep1 with duration: 15.00 seconds.\n"
     ]
    },
    {
     "name": "stderr",
     "output_type": "stream",
     "text": [
      "Creating video for Kif3_40nM_2-RT - Rep1: 100%|██████████| 1800/1800 [02:24<00:00, 12.44it/s]\n"
     ]
    },
    {
     "name": "stdout",
     "output_type": "stream",
     "text": [
      "Creating video for Kif3_80nM_1-RT - Rep1 with duration: 15.00 seconds.\n"
     ]
    },
    {
     "name": "stderr",
     "output_type": "stream",
     "text": [
      "Creating video for Kif3_80nM_1-RT - Rep1: 100%|██████████| 1800/1800 [02:25<00:00, 12.39it/s]\n"
     ]
    },
    {
     "name": "stdout",
     "output_type": "stream",
     "text": [
      "Creating video for Kif3_80nM_2-RT - Rep1 with duration: 15.00 seconds.\n"
     ]
    },
    {
     "name": "stderr",
     "output_type": "stream",
     "text": [
      "Creating video for Kif3_80nM_2-RT - Rep1: 100%|██████████| 1800/1800 [02:23<00:00, 12.53it/s]\n"
     ]
    },
    {
     "name": "stdout",
     "output_type": "stream",
     "text": [
      "Creating video for Kif3_160nM_1-RT - Rep1 with duration: 15.00 seconds.\n"
     ]
    },
    {
     "name": "stderr",
     "output_type": "stream",
     "text": [
      "Creating video for Kif3_160nM_1-RT - Rep1: 100%|██████████| 1800/1800 [02:27<00:00, 12.22it/s]\n"
     ]
    },
    {
     "name": "stdout",
     "output_type": "stream",
     "text": [
      "Creating video for Kif3_160nM_2-RT - Rep1 with duration: 15.00 seconds.\n"
     ]
    },
    {
     "name": "stderr",
     "output_type": "stream",
     "text": [
      "Creating video for Kif3_160nM_2-RT - Rep1: 100%|██████████| 1800/1800 [02:26<00:00, 12.29it/s]\n"
     ]
    }
   ],
   "source": [
    "# Example usage\n",
    "qd.create_movies(\n",
    "    data_path, \n",
    "    conditions, \n",
    "    subconditions, \n",
    "    channel='cy5', \n",
    "    frame_rate=120,\n",
    "    skip_frames=1\n",
    "    )\n"
   ]
  },
  {
   "cell_type": "code",
   "execution_count": 13,
   "metadata": {},
   "outputs": [],
   "source": [
    "# qd.create_combined_heatmap_movie_custom_grid(\n",
    "#     data_path, \n",
    "#     conditions, \n",
    "#     subconditions, \n",
    "#     channel='cy5', \n",
    "#     grid_rows=2, \n",
    "#     grid_cols=5, \n",
    "#     frame_rate=120,\n",
    "#     batch_size=50\n",
    "#     )\n"
   ]
  },
  {
   "cell_type": "markdown",
   "metadata": {},
   "source": []
  },
  {
   "cell_type": "code",
   "execution_count": 7,
   "metadata": {},
   "outputs": [
    {
     "name": "stderr",
     "output_type": "stream",
     "text": [
      "Processing Kif3_0p625nM_1-RT - Rep1: 100%|██████████| 1800/1800 [03:03<00:00,  9.83it/s]\n",
      "Processing Kif3_0p625nM_2-RT - Rep1: 100%|██████████| 1800/1800 [03:02<00:00,  9.85it/s]\n",
      "Processing Kif3_1p25nM_1-RT - Rep1: 100%|██████████| 1800/1800 [03:03<00:00,  9.82it/s]\n",
      "Processing Kif3_1p25nM_2-RT - Rep1: 100%|██████████| 1800/1800 [03:03<00:00,  9.80it/s]\n",
      "Processing Kif3_2p5nM_1-RT - Rep1: 100%|██████████| 1800/1800 [03:03<00:00,  9.82it/s]\n",
      "Processing Kif3_2p5nM_2-RT - Rep1: 100%|██████████| 1800/1800 [03:03<00:00,  9.82it/s]\n",
      "Processing Kif3_5nM_1-RT - Rep1: 100%|██████████| 1800/1800 [03:03<00:00,  9.80it/s]\n",
      "Processing Kif3_5nM_2-RT - Rep1: 100%|██████████| 1800/1800 [03:02<00:00,  9.87it/s]\n",
      "Processing Kif3_10nM_1-RT - Rep1: 100%|██████████| 1800/1800 [03:03<00:00,  9.82it/s]\n",
      "Processing Kif3_10nM_2-RT - Rep1: 100%|██████████| 1800/1800 [03:04<00:00,  9.77it/s]\n",
      "Processing Kif3_20nM_1-RT - Rep1: 100%|██████████| 1800/1800 [03:03<00:00,  9.80it/s]\n",
      "Processing Kif3_20nM_2-RT - Rep1: 100%|██████████| 1800/1800 [03:05<00:00,  9.73it/s]\n",
      "Processing Kif3_40nM_1-RT - Rep1: 100%|██████████| 1800/1800 [03:04<00:00,  9.77it/s]\n",
      "Processing Kif3_40nM_2-RT - Rep1: 100%|██████████| 1800/1800 [03:04<00:00,  9.74it/s]\n",
      "Processing Kif3_80nM_1-RT - Rep1: 100%|██████████| 1800/1800 [03:03<00:00,  9.83it/s]\n",
      "Processing Kif3_80nM_2-RT - Rep1: 100%|██████████| 1800/1800 [03:03<00:00,  9.80it/s]\n",
      "Processing Kif3_160nM_1-RT - Rep1: 100%|██████████| 1800/1800 [03:02<00:00,  9.84it/s]\n",
      "Processing Kif3_160nM_2-RT - Rep1: 100%|██████████| 1800/1800 [03:02<00:00,  9.84it/s]\n"
     ]
    }
   ],
   "source": [
    "# Call the function\n",
    "qd.fluorescence_heatmap(\n",
    "    data_path, \n",
    "    conditions, \n",
    "    subconditions, \n",
    "    channel='GFP', \n",
    "    time_interval_list=time_interval_list, \n",
    "    vmax=500, \n",
    "    skip_frames=1, \n",
    "    calibration_curve_paths=calibration_curve_paths, \n",
    "    show_scalebar=True,\n",
    "    )"
   ]
  },
  {
   "cell_type": "code",
   "execution_count": 8,
   "metadata": {},
   "outputs": [
    {
     "name": "stdout",
     "output_type": "stream",
     "text": [
      "Creating video for Kif3_0p625nM_1-RT - Rep1 with duration: 15.00 seconds.\n"
     ]
    },
    {
     "name": "stderr",
     "output_type": "stream",
     "text": [
      "Creating video for Kif3_0p625nM_1-RT - Rep1: 100%|██████████| 1800/1800 [01:47<00:00, 16.77it/s]\n"
     ]
    },
    {
     "name": "stdout",
     "output_type": "stream",
     "text": [
      "Creating video for Kif3_0p625nM_2-RT - Rep1 with duration: 15.00 seconds.\n"
     ]
    },
    {
     "name": "stderr",
     "output_type": "stream",
     "text": [
      "Creating video for Kif3_0p625nM_2-RT - Rep1: 100%|██████████| 1800/1800 [01:46<00:00, 16.92it/s]\n"
     ]
    },
    {
     "name": "stdout",
     "output_type": "stream",
     "text": [
      "Creating video for Kif3_1p25nM_1-RT - Rep1 with duration: 15.00 seconds.\n"
     ]
    },
    {
     "name": "stderr",
     "output_type": "stream",
     "text": [
      "Creating video for Kif3_1p25nM_1-RT - Rep1: 100%|██████████| 1800/1800 [01:46<00:00, 16.84it/s]\n"
     ]
    },
    {
     "name": "stdout",
     "output_type": "stream",
     "text": [
      "Creating video for Kif3_1p25nM_2-RT - Rep1 with duration: 15.00 seconds.\n"
     ]
    },
    {
     "name": "stderr",
     "output_type": "stream",
     "text": [
      "Creating video for Kif3_1p25nM_2-RT - Rep1: 100%|██████████| 1800/1800 [01:46<00:00, 16.84it/s]\n"
     ]
    },
    {
     "name": "stdout",
     "output_type": "stream",
     "text": [
      "Creating video for Kif3_2p5nM_1-RT - Rep1 with duration: 15.00 seconds.\n"
     ]
    },
    {
     "name": "stderr",
     "output_type": "stream",
     "text": [
      "Creating video for Kif3_2p5nM_1-RT - Rep1: 100%|██████████| 1800/1800 [01:47<00:00, 16.74it/s]\n"
     ]
    },
    {
     "name": "stdout",
     "output_type": "stream",
     "text": [
      "Creating video for Kif3_2p5nM_2-RT - Rep1 with duration: 15.00 seconds.\n"
     ]
    },
    {
     "name": "stderr",
     "output_type": "stream",
     "text": [
      "Creating video for Kif3_2p5nM_2-RT - Rep1: 100%|██████████| 1800/1800 [01:47<00:00, 16.74it/s]\n"
     ]
    },
    {
     "name": "stdout",
     "output_type": "stream",
     "text": [
      "Creating video for Kif3_5nM_1-RT - Rep1 with duration: 15.00 seconds.\n"
     ]
    },
    {
     "name": "stderr",
     "output_type": "stream",
     "text": [
      "Creating video for Kif3_5nM_1-RT - Rep1: 100%|██████████| 1800/1800 [01:47<00:00, 16.79it/s]\n"
     ]
    },
    {
     "name": "stdout",
     "output_type": "stream",
     "text": [
      "Creating video for Kif3_5nM_2-RT - Rep1 with duration: 15.00 seconds.\n"
     ]
    },
    {
     "name": "stderr",
     "output_type": "stream",
     "text": [
      "Creating video for Kif3_5nM_2-RT - Rep1: 100%|██████████| 1800/1800 [01:47<00:00, 16.76it/s]\n"
     ]
    },
    {
     "name": "stdout",
     "output_type": "stream",
     "text": [
      "Creating video for Kif3_10nM_1-RT - Rep1 with duration: 15.00 seconds.\n"
     ]
    },
    {
     "name": "stderr",
     "output_type": "stream",
     "text": [
      "Creating video for Kif3_10nM_1-RT - Rep1: 100%|██████████| 1800/1800 [01:47<00:00, 16.68it/s]\n"
     ]
    },
    {
     "name": "stdout",
     "output_type": "stream",
     "text": [
      "Creating video for Kif3_10nM_2-RT - Rep1 with duration: 15.00 seconds.\n"
     ]
    },
    {
     "name": "stderr",
     "output_type": "stream",
     "text": [
      "Creating video for Kif3_10nM_2-RT - Rep1: 100%|██████████| 1800/1800 [01:47<00:00, 16.70it/s]\n"
     ]
    },
    {
     "name": "stdout",
     "output_type": "stream",
     "text": [
      "Creating video for Kif3_20nM_1-RT - Rep1 with duration: 15.00 seconds.\n"
     ]
    },
    {
     "name": "stderr",
     "output_type": "stream",
     "text": [
      "Creating video for Kif3_20nM_1-RT - Rep1: 100%|██████████| 1800/1800 [01:49<00:00, 16.48it/s]\n"
     ]
    },
    {
     "name": "stdout",
     "output_type": "stream",
     "text": [
      "Creating video for Kif3_20nM_2-RT - Rep1 with duration: 15.00 seconds.\n"
     ]
    },
    {
     "name": "stderr",
     "output_type": "stream",
     "text": [
      "Creating video for Kif3_20nM_2-RT - Rep1: 100%|██████████| 1800/1800 [01:49<00:00, 16.41it/s]\n"
     ]
    },
    {
     "name": "stdout",
     "output_type": "stream",
     "text": [
      "Creating video for Kif3_40nM_1-RT - Rep1 with duration: 15.00 seconds.\n"
     ]
    },
    {
     "name": "stderr",
     "output_type": "stream",
     "text": [
      "Creating video for Kif3_40nM_1-RT - Rep1: 100%|██████████| 1800/1800 [01:49<00:00, 16.44it/s]\n"
     ]
    },
    {
     "name": "stdout",
     "output_type": "stream",
     "text": [
      "Creating video for Kif3_40nM_2-RT - Rep1 with duration: 15.00 seconds.\n"
     ]
    },
    {
     "name": "stderr",
     "output_type": "stream",
     "text": [
      "Creating video for Kif3_40nM_2-RT - Rep1: 100%|██████████| 1800/1800 [01:49<00:00, 16.48it/s]\n"
     ]
    },
    {
     "name": "stdout",
     "output_type": "stream",
     "text": [
      "Creating video for Kif3_80nM_1-RT - Rep1 with duration: 15.00 seconds.\n"
     ]
    },
    {
     "name": "stderr",
     "output_type": "stream",
     "text": [
      "Creating video for Kif3_80nM_1-RT - Rep1: 100%|██████████| 1800/1800 [01:49<00:00, 16.50it/s]\n"
     ]
    },
    {
     "name": "stdout",
     "output_type": "stream",
     "text": [
      "Creating video for Kif3_80nM_2-RT - Rep1 with duration: 15.00 seconds.\n"
     ]
    },
    {
     "name": "stderr",
     "output_type": "stream",
     "text": [
      "Creating video for Kif3_80nM_2-RT - Rep1: 100%|██████████| 1800/1800 [01:49<00:00, 16.49it/s]\n"
     ]
    },
    {
     "name": "stdout",
     "output_type": "stream",
     "text": [
      "Creating video for Kif3_160nM_1-RT - Rep1 with duration: 15.00 seconds.\n"
     ]
    },
    {
     "name": "stderr",
     "output_type": "stream",
     "text": [
      "Creating video for Kif3_160nM_1-RT - Rep1: 100%|██████████| 1800/1800 [01:48<00:00, 16.56it/s]\n"
     ]
    },
    {
     "name": "stdout",
     "output_type": "stream",
     "text": [
      "Creating video for Kif3_160nM_2-RT - Rep1 with duration: 15.00 seconds.\n"
     ]
    },
    {
     "name": "stderr",
     "output_type": "stream",
     "text": [
      "Creating video for Kif3_160nM_2-RT - Rep1: 100%|██████████| 1800/1800 [01:47<00:00, 16.72it/s]\n"
     ]
    }
   ],
   "source": [
    "# Example usage\n",
    "qd.create_movies(\n",
    "    data_path, \n",
    "    conditions, \n",
    "    subconditions, \n",
    "    channel='GFP', \n",
    "    frame_rate=120,\n",
    "    skip_frames=1\n",
    "    )\n"
   ]
  },
  {
   "cell_type": "code",
   "execution_count": 16,
   "metadata": {},
   "outputs": [],
   "source": [
    "# qd.create_combined_heatmap_movie_custom_grid(\n",
    "#     data_path, \n",
    "#     conditions, \n",
    "#     subconditions, \n",
    "#     channel='GFP', \n",
    "#     grid_rows=2, \n",
    "#     grid_cols=5, \n",
    "#     frame_rate=120,\n",
    "#     batch_size=50\n",
    "#     )\n"
   ]
  },
  {
   "cell_type": "code",
   "execution_count": null,
   "metadata": {},
   "outputs": [],
   "source": [
    "# qd.delete_temporary_image_directories(data_path, conditions, subconditions)"
   ]
  },
  {
   "cell_type": "markdown",
   "metadata": {},
   "source": [
    "### Fluorescence Quantification"
   ]
  },
  {
   "cell_type": "code",
   "execution_count": 17,
   "metadata": {},
   "outputs": [
    {
     "name": "stderr",
     "output_type": "stream",
     "text": [
      "Calculating intensities for Kif3_0p625nM_1-RT - Rep1: 100%|██████████| 1800/1800 [00:03<00:00, 501.47it/s]\n",
      "Calculating intensities for Kif3_0p625nM_2-RT - Rep1: 100%|██████████| 1800/1800 [00:03<00:00, 489.82it/s]\n",
      "Calculating intensities for Kif3_1p25nM_1-RT - Rep1: 100%|██████████| 1800/1800 [00:03<00:00, 495.36it/s]\n",
      "Calculating intensities for Kif3_1p25nM_2-RT - Rep1: 100%|██████████| 1800/1800 [00:03<00:00, 493.58it/s]\n",
      "Calculating intensities for Kif3_2p5nM_1-RT - Rep1: 100%|██████████| 1800/1800 [00:03<00:00, 496.11it/s]\n",
      "Calculating intensities for Kif3_2p5nM_2-RT - Rep1: 100%|██████████| 1800/1800 [00:03<00:00, 489.07it/s]\n",
      "Calculating intensities for Kif3_5nM_1-RT - Rep1: 100%|██████████| 1800/1800 [00:03<00:00, 487.89it/s]\n",
      "Calculating intensities for Kif3_5nM_2-RT - Rep1: 100%|██████████| 1800/1800 [00:03<00:00, 506.41it/s]\n",
      "Calculating intensities for Kif3_10nM_1-RT - Rep1: 100%|██████████| 1800/1800 [00:03<00:00, 495.08it/s]\n",
      "Calculating intensities for Kif3_10nM_2-RT - Rep1: 100%|██████████| 1800/1800 [00:03<00:00, 497.65it/s]\n",
      "Calculating intensities for Kif3_20nM_1-RT - Rep1: 100%|██████████| 1800/1800 [00:03<00:00, 487.18it/s]\n",
      "Calculating intensities for Kif3_20nM_2-RT - Rep1: 100%|██████████| 1800/1800 [00:03<00:00, 494.27it/s]\n",
      "Calculating intensities for Kif3_40nM_1-RT - Rep1: 100%|██████████| 1800/1800 [00:03<00:00, 495.83it/s]\n",
      "Calculating intensities for Kif3_40nM_2-RT - Rep1: 100%|██████████| 1800/1800 [00:03<00:00, 498.70it/s]\n",
      "Calculating intensities for Kif3_80nM_1-RT - Rep1: 100%|██████████| 1800/1800 [00:03<00:00, 498.57it/s]\n",
      "Calculating intensities for Kif3_80nM_2-RT - Rep1: 100%|██████████| 1800/1800 [00:03<00:00, 499.98it/s]\n",
      "Calculating intensities for Kif3_160nM_1-RT - Rep1: 100%|██████████| 1800/1800 [00:03<00:00, 496.65it/s]\n",
      "Calculating intensities for Kif3_160nM_2-RT - Rep1: 100%|██████████| 1800/1800 [00:03<00:00, 488.07it/s]\n"
     ]
    },
    {
     "data": {
      "text/plain": [
       "('../../../../Thomson Lab Dropbox/David Larios/activedrops/ubuntu/kif3/output_data/combined_expression.csv',\n",
       " '../../../../Thomson Lab Dropbox/David Larios/activedrops/ubuntu/kif3/output_data/mean_expression.csv')"
      ]
     },
     "execution_count": 17,
     "metadata": {},
     "output_type": "execute_result"
    }
   ],
   "source": [
    "# Example usage\n",
    "mw_kda_list = [64.4] * len(conditions)\n",
    "droplet_volume_list = [2] * len(conditions)\n",
    "protein_lengths_list = [592] * len(conditions)\n",
    "\n",
    "qd.quantify_tiffiles(\n",
    "    data_path, \n",
    "    conditions, \n",
    "    subconditions, \n",
    "    calibration_curve_paths, \n",
    "    mw_kda_list, \n",
    "    droplet_volume_list, \n",
    "    time_interval_list, \n",
    "    protein_lengths_list,\n",
    "    ribosome_count=10**9,\n",
    "    skip_frames=1,\n",
    "    subtract_negative=False\n",
    ")"
   ]
  },
  {
   "cell_type": "markdown",
   "metadata": {},
   "source": [
    "### PIV pre-processing"
   ]
  },
  {
   "cell_type": "code",
   "execution_count": 4,
   "metadata": {},
   "outputs": [
    {
     "name": "stdout",
     "output_type": "stream",
     "text": [
      "Skipping Rep1 as the expected output is already present.\n",
      "Skipping Rep1 as the expected output is already present.\n",
      "Skipping Rep1 as the expected output is already present.\n",
      "Skipping Rep1 as the expected output is already present.\n",
      "Copied every 1th f'cy5' file from ../../../../Thomson Lab Dropbox/David Larios/activedrops/ubuntu/kif3/Kif3_2p5nM_1-RT/Rep1/original into ../../../../Thomson Lab Dropbox/David Larios/activedrops/ubuntu/kif3/Kif3_2p5nM_1-RT/Rep1/cy5-1x.\n",
      "Copied every 1th f'cy5' file from ../../../../Thomson Lab Dropbox/David Larios/activedrops/ubuntu/kif3/Kif3_2p5nM_2-RT/Rep1/original into ../../../../Thomson Lab Dropbox/David Larios/activedrops/ubuntu/kif3/Kif3_2p5nM_2-RT/Rep1/cy5-1x.\n",
      "Copied every 1th f'cy5' file from ../../../../Thomson Lab Dropbox/David Larios/activedrops/ubuntu/kif3/Kif3_5nM_1-RT/Rep1/original into ../../../../Thomson Lab Dropbox/David Larios/activedrops/ubuntu/kif3/Kif3_5nM_1-RT/Rep1/cy5-1x.\n",
      "Copied every 1th f'cy5' file from ../../../../Thomson Lab Dropbox/David Larios/activedrops/ubuntu/kif3/Kif3_5nM_2-RT/Rep1/original into ../../../../Thomson Lab Dropbox/David Larios/activedrops/ubuntu/kif3/Kif3_5nM_2-RT/Rep1/cy5-1x.\n",
      "Copied every 1th f'cy5' file from ../../../../Thomson Lab Dropbox/David Larios/activedrops/ubuntu/kif3/Kif3_10nM_1-RT/Rep1/original into ../../../../Thomson Lab Dropbox/David Larios/activedrops/ubuntu/kif3/Kif3_10nM_1-RT/Rep1/cy5-1x.\n",
      "Copied every 1th f'cy5' file from ../../../../Thomson Lab Dropbox/David Larios/activedrops/ubuntu/kif3/Kif3_10nM_2-RT/Rep1/original into ../../../../Thomson Lab Dropbox/David Larios/activedrops/ubuntu/kif3/Kif3_10nM_2-RT/Rep1/cy5-1x.\n",
      "Copied every 1th f'cy5' file from ../../../../Thomson Lab Dropbox/David Larios/activedrops/ubuntu/kif3/Kif3_20nM_1-RT/Rep1/original into ../../../../Thomson Lab Dropbox/David Larios/activedrops/ubuntu/kif3/Kif3_20nM_1-RT/Rep1/cy5-1x.\n",
      "Copied every 1th f'cy5' file from ../../../../Thomson Lab Dropbox/David Larios/activedrops/ubuntu/kif3/Kif3_20nM_2-RT/Rep1/original into ../../../../Thomson Lab Dropbox/David Larios/activedrops/ubuntu/kif3/Kif3_20nM_2-RT/Rep1/cy5-1x.\n",
      "Copied every 1th f'cy5' file from ../../../../Thomson Lab Dropbox/David Larios/activedrops/ubuntu/kif3/Kif3_40nM_1-RT/Rep1/original into ../../../../Thomson Lab Dropbox/David Larios/activedrops/ubuntu/kif3/Kif3_40nM_1-RT/Rep1/cy5-1x.\n",
      "Copied every 1th f'cy5' file from ../../../../Thomson Lab Dropbox/David Larios/activedrops/ubuntu/kif3/Kif3_40nM_2-RT/Rep1/original into ../../../../Thomson Lab Dropbox/David Larios/activedrops/ubuntu/kif3/Kif3_40nM_2-RT/Rep1/cy5-1x.\n",
      "Copied every 1th f'cy5' file from ../../../../Thomson Lab Dropbox/David Larios/activedrops/ubuntu/kif3/Kif3_80nM_1-RT/Rep1/original into ../../../../Thomson Lab Dropbox/David Larios/activedrops/ubuntu/kif3/Kif3_80nM_1-RT/Rep1/cy5-1x.\n",
      "Copied every 1th f'cy5' file from ../../../../Thomson Lab Dropbox/David Larios/activedrops/ubuntu/kif3/Kif3_80nM_2-RT/Rep1/original into ../../../../Thomson Lab Dropbox/David Larios/activedrops/ubuntu/kif3/Kif3_80nM_2-RT/Rep1/cy5-1x.\n",
      "Skipping Rep1 as the expected output is already present.\n",
      "Skipping Rep1 as the expected output is already present.\n",
      "Copied every 1th f'dapi' file from ../../../../Thomson Lab Dropbox/David Larios/activedrops/ubuntu/kif3/Kif3_0p625nM_1-RT/Rep1/original into ../../../../Thomson Lab Dropbox/David Larios/activedrops/ubuntu/kif3/Kif3_0p625nM_1-RT/Rep1/dapi-1x.\n",
      "Copied every 1th f'dapi' file from ../../../../Thomson Lab Dropbox/David Larios/activedrops/ubuntu/kif3/Kif3_0p625nM_2-RT/Rep1/original into ../../../../Thomson Lab Dropbox/David Larios/activedrops/ubuntu/kif3/Kif3_0p625nM_2-RT/Rep1/dapi-1x.\n",
      "Copied every 1th f'dapi' file from ../../../../Thomson Lab Dropbox/David Larios/activedrops/ubuntu/kif3/Kif3_1p25nM_1-RT/Rep1/original into ../../../../Thomson Lab Dropbox/David Larios/activedrops/ubuntu/kif3/Kif3_1p25nM_1-RT/Rep1/dapi-1x.\n",
      "Copied every 1th f'dapi' file from ../../../../Thomson Lab Dropbox/David Larios/activedrops/ubuntu/kif3/Kif3_1p25nM_2-RT/Rep1/original into ../../../../Thomson Lab Dropbox/David Larios/activedrops/ubuntu/kif3/Kif3_1p25nM_2-RT/Rep1/dapi-1x.\n",
      "Copied every 1th f'dapi' file from ../../../../Thomson Lab Dropbox/David Larios/activedrops/ubuntu/kif3/Kif3_2p5nM_1-RT/Rep1/original into ../../../../Thomson Lab Dropbox/David Larios/activedrops/ubuntu/kif3/Kif3_2p5nM_1-RT/Rep1/dapi-1x.\n",
      "Copied every 1th f'dapi' file from ../../../../Thomson Lab Dropbox/David Larios/activedrops/ubuntu/kif3/Kif3_2p5nM_2-RT/Rep1/original into ../../../../Thomson Lab Dropbox/David Larios/activedrops/ubuntu/kif3/Kif3_2p5nM_2-RT/Rep1/dapi-1x.\n",
      "Copied every 1th f'dapi' file from ../../../../Thomson Lab Dropbox/David Larios/activedrops/ubuntu/kif3/Kif3_5nM_1-RT/Rep1/original into ../../../../Thomson Lab Dropbox/David Larios/activedrops/ubuntu/kif3/Kif3_5nM_1-RT/Rep1/dapi-1x.\n",
      "Copied every 1th f'dapi' file from ../../../../Thomson Lab Dropbox/David Larios/activedrops/ubuntu/kif3/Kif3_5nM_2-RT/Rep1/original into ../../../../Thomson Lab Dropbox/David Larios/activedrops/ubuntu/kif3/Kif3_5nM_2-RT/Rep1/dapi-1x.\n"
     ]
    },
    {
     "ename": "OSError",
     "evalue": "[Errno 28] No space left on device: '../../../../Thomson Lab Dropbox/David Larios/activedrops/ubuntu/kif3/Kif3_10nM_1-RT/Rep1/original/img_000000241_4x_DAPI_000.tif' -> '../../../../Thomson Lab Dropbox/David Larios/activedrops/ubuntu/kif3/Kif3_10nM_1-RT/Rep1/dapi-1x/img_000000241_4x_DAPI_000.tif'",
     "output_type": "error",
     "traceback": [
      "\u001b[0;31m---------------------------------------------------------------------------\u001b[0m",
      "\u001b[0;31mOSError\u001b[0m                                   Traceback (most recent call last)",
      "Cell \u001b[0;32mIn[4], line 2\u001b[0m\n\u001b[1;32m      1\u001b[0m qd\u001b[38;5;241m.\u001b[39msplit_tiffs(data_path, conditions, subconditions, channel\u001b[38;5;241m=\u001b[39m\u001b[38;5;124m'\u001b[39m\u001b[38;5;124mcy5\u001b[39m\u001b[38;5;124m'\u001b[39m, file_interval\u001b[38;5;241m=\u001b[39m\u001b[38;5;241m1\u001b[39m)\n\u001b[0;32m----> 2\u001b[0m \u001b[43mqd\u001b[49m\u001b[38;5;241;43m.\u001b[39;49m\u001b[43msplit_tiffs\u001b[49m\u001b[43m(\u001b[49m\u001b[43mdata_path\u001b[49m\u001b[43m,\u001b[49m\u001b[43m \u001b[49m\u001b[43mconditions\u001b[49m\u001b[43m,\u001b[49m\u001b[43m \u001b[49m\u001b[43msubconditions\u001b[49m\u001b[43m,\u001b[49m\u001b[43m \u001b[49m\u001b[43mchannel\u001b[49m\u001b[38;5;241;43m=\u001b[39;49m\u001b[38;5;124;43m'\u001b[39;49m\u001b[38;5;124;43mdapi\u001b[39;49m\u001b[38;5;124;43m'\u001b[39;49m\u001b[43m,\u001b[49m\u001b[43m \u001b[49m\u001b[43mfile_interval\u001b[49m\u001b[38;5;241;43m=\u001b[39;49m\u001b[38;5;241;43m1\u001b[39;49m\u001b[43m)\u001b[49m\n",
      "File \u001b[0;32m~/git/activedrops/code/exploratory/../../py_files/quadrop.py:1109\u001b[0m, in \u001b[0;36msplit_tiffs\u001b[0;34m(data_path, conditions, subconditions, channel, file_interval)\u001b[0m\n\u001b[1;32m   1107\u001b[0m     \u001b[38;5;28;01mif\u001b[39;00m idx \u001b[38;5;241m%\u001b[39m file_interval \u001b[38;5;241m==\u001b[39m \u001b[38;5;241m0\u001b[39m:\n\u001b[1;32m   1108\u001b[0m         file_path \u001b[38;5;241m=\u001b[39m os\u001b[38;5;241m.\u001b[39mpath\u001b[38;5;241m.\u001b[39mjoin(original_dir_path, filename)\n\u001b[0;32m-> 1109\u001b[0m         \u001b[43mshutil\u001b[49m\u001b[38;5;241;43m.\u001b[39;49m\u001b[43mcopy\u001b[49m\u001b[43m(\u001b[49m\u001b[43mfile_path\u001b[49m\u001b[43m,\u001b[49m\u001b[43m \u001b[49m\u001b[43mos\u001b[49m\u001b[38;5;241;43m.\u001b[39;49m\u001b[43mpath\u001b[49m\u001b[38;5;241;43m.\u001b[39;49m\u001b[43mjoin\u001b[49m\u001b[43m(\u001b[49m\u001b[43mdata_dir\u001b[49m\u001b[43m,\u001b[49m\u001b[43m \u001b[49m\u001b[43mfilename\u001b[49m\u001b[43m)\u001b[49m\u001b[43m)\u001b[49m\n\u001b[1;32m   1111\u001b[0m \u001b[38;5;28mprint\u001b[39m(\u001b[38;5;124mf\u001b[39m\u001b[38;5;124m\"\u001b[39m\u001b[38;5;124mCopied every \u001b[39m\u001b[38;5;132;01m{\u001b[39;00mfile_interval\u001b[38;5;132;01m}\u001b[39;00m\u001b[38;5;124mth f\u001b[39m\u001b[38;5;124m'\u001b[39m\u001b[38;5;132;01m{\u001b[39;00mchannel\u001b[38;5;132;01m}\u001b[39;00m\u001b[38;5;124m'\u001b[39m\u001b[38;5;124m file from \u001b[39m\u001b[38;5;132;01m{\u001b[39;00moriginal_dir_path\u001b[38;5;132;01m}\u001b[39;00m\u001b[38;5;124m into \u001b[39m\u001b[38;5;132;01m{\u001b[39;00mdata_dir\u001b[38;5;132;01m}\u001b[39;00m\u001b[38;5;124m.\u001b[39m\u001b[38;5;124m\"\u001b[39m)\n",
      "File \u001b[0;32m/usr/local/lib/python3.11/shutil.py:419\u001b[0m, in \u001b[0;36mcopy\u001b[0;34m(src, dst, follow_symlinks)\u001b[0m\n\u001b[1;32m    417\u001b[0m \u001b[38;5;28;01mif\u001b[39;00m os\u001b[38;5;241m.\u001b[39mpath\u001b[38;5;241m.\u001b[39misdir(dst):\n\u001b[1;32m    418\u001b[0m     dst \u001b[38;5;241m=\u001b[39m os\u001b[38;5;241m.\u001b[39mpath\u001b[38;5;241m.\u001b[39mjoin(dst, os\u001b[38;5;241m.\u001b[39mpath\u001b[38;5;241m.\u001b[39mbasename(src))\n\u001b[0;32m--> 419\u001b[0m \u001b[43mcopyfile\u001b[49m\u001b[43m(\u001b[49m\u001b[43msrc\u001b[49m\u001b[43m,\u001b[49m\u001b[43m \u001b[49m\u001b[43mdst\u001b[49m\u001b[43m,\u001b[49m\u001b[43m \u001b[49m\u001b[43mfollow_symlinks\u001b[49m\u001b[38;5;241;43m=\u001b[39;49m\u001b[43mfollow_symlinks\u001b[49m\u001b[43m)\u001b[49m\n\u001b[1;32m    420\u001b[0m copymode(src, dst, follow_symlinks\u001b[38;5;241m=\u001b[39mfollow_symlinks)\n\u001b[1;32m    421\u001b[0m \u001b[38;5;28;01mreturn\u001b[39;00m dst\n",
      "File \u001b[0;32m/usr/local/lib/python3.11/shutil.py:269\u001b[0m, in \u001b[0;36mcopyfile\u001b[0;34m(src, dst, follow_symlinks)\u001b[0m\n\u001b[1;32m    267\u001b[0m \u001b[38;5;28;01melif\u001b[39;00m _USE_CP_SENDFILE:\n\u001b[1;32m    268\u001b[0m     \u001b[38;5;28;01mtry\u001b[39;00m:\n\u001b[0;32m--> 269\u001b[0m         \u001b[43m_fastcopy_sendfile\u001b[49m\u001b[43m(\u001b[49m\u001b[43mfsrc\u001b[49m\u001b[43m,\u001b[49m\u001b[43m \u001b[49m\u001b[43mfdst\u001b[49m\u001b[43m)\u001b[49m\n\u001b[1;32m    270\u001b[0m         \u001b[38;5;28;01mreturn\u001b[39;00m dst\n\u001b[1;32m    271\u001b[0m     \u001b[38;5;28;01mexcept\u001b[39;00m _GiveupOnFastCopy:\n",
      "File \u001b[0;32m/usr/local/lib/python3.11/shutil.py:158\u001b[0m, in \u001b[0;36m_fastcopy_sendfile\u001b[0;34m(fsrc, fdst)\u001b[0m\n\u001b[1;32m    155\u001b[0m     \u001b[38;5;28;01mraise\u001b[39;00m _GiveupOnFastCopy(err)\n\u001b[1;32m    157\u001b[0m \u001b[38;5;28;01mif\u001b[39;00m err\u001b[38;5;241m.\u001b[39merrno \u001b[38;5;241m==\u001b[39m errno\u001b[38;5;241m.\u001b[39mENOSPC:  \u001b[38;5;66;03m# filesystem is full\u001b[39;00m\n\u001b[0;32m--> 158\u001b[0m     \u001b[38;5;28;01mraise\u001b[39;00m err \u001b[38;5;28;01mfrom\u001b[39;00m \u001b[38;5;28;01mNone\u001b[39;00m\n\u001b[1;32m    160\u001b[0m \u001b[38;5;66;03m# Give up on first call and if no data was copied.\u001b[39;00m\n\u001b[1;32m    161\u001b[0m \u001b[38;5;28;01mif\u001b[39;00m offset \u001b[38;5;241m==\u001b[39m \u001b[38;5;241m0\u001b[39m \u001b[38;5;129;01mand\u001b[39;00m os\u001b[38;5;241m.\u001b[39mlseek(outfd, \u001b[38;5;241m0\u001b[39m, os\u001b[38;5;241m.\u001b[39mSEEK_CUR) \u001b[38;5;241m==\u001b[39m \u001b[38;5;241m0\u001b[39m:\n",
      "File \u001b[0;32m/usr/local/lib/python3.11/shutil.py:144\u001b[0m, in \u001b[0;36m_fastcopy_sendfile\u001b[0;34m(fsrc, fdst)\u001b[0m\n\u001b[1;32m    142\u001b[0m \u001b[38;5;28;01mwhile\u001b[39;00m \u001b[38;5;28;01mTrue\u001b[39;00m:\n\u001b[1;32m    143\u001b[0m     \u001b[38;5;28;01mtry\u001b[39;00m:\n\u001b[0;32m--> 144\u001b[0m         sent \u001b[38;5;241m=\u001b[39m os\u001b[38;5;241m.\u001b[39msendfile(outfd, infd, offset, blocksize)\n\u001b[1;32m    145\u001b[0m     \u001b[38;5;28;01mexcept\u001b[39;00m \u001b[38;5;167;01mOSError\u001b[39;00m \u001b[38;5;28;01mas\u001b[39;00m err:\n\u001b[1;32m    146\u001b[0m         \u001b[38;5;66;03m# ...in oder to have a more informative exception.\u001b[39;00m\n\u001b[1;32m    147\u001b[0m         err\u001b[38;5;241m.\u001b[39mfilename \u001b[38;5;241m=\u001b[39m fsrc\u001b[38;5;241m.\u001b[39mname\n",
      "\u001b[0;31mOSError\u001b[0m: [Errno 28] No space left on device: '../../../../Thomson Lab Dropbox/David Larios/activedrops/ubuntu/kif3/Kif3_10nM_1-RT/Rep1/original/img_000000241_4x_DAPI_000.tif' -> '../../../../Thomson Lab Dropbox/David Larios/activedrops/ubuntu/kif3/Kif3_10nM_1-RT/Rep1/dapi-1x/img_000000241_4x_DAPI_000.tif'"
     ]
    }
   ],
   "source": [
    "qd.split_tiffs(data_path, conditions, subconditions, channel='cy5', file_interval=1)\n",
    "qd.split_tiffs(data_path, conditions, subconditions, channel='dapi', file_interval=1)"
   ]
  },
  {
   "cell_type": "markdown",
   "metadata": {},
   "source": [
    "### PIV"
   ]
  },
  {
   "cell_type": "code",
   "execution_count": null,
   "metadata": {},
   "outputs": [],
   "source": [
    "# Define feature limits and other parameters\n",
    "v = 2E-7\n",
    "velocity_limits = (0, v)\n",
    "other_limits = (-0.0005, 0.0005)\n",
    "skip_frames = 1 ### CHANGE THIS TO SKIP FRAMES\n",
    "\n",
    "\n",
    "velocity_limits = (None, None)\n",
    "other_limits = (None, None)\n",
    "\n",
    "\n",
    "feature_limits = {\n",
    "    # 'u [m/s]': (-v, v), \n",
    "    # 'v [m/s]': (-v, v), \n",
    "    # 'data type [-]': (None, None),\n",
    "    'velocity magnitude [m/s]': velocity_limits,\n",
    "    'vorticity [1/s]': other_limits,\n",
    "    'divergence [1/s]': other_limits,\n",
    "    # 'dcev [1]': (0, 250),\n",
    "    'shear [1/s]': other_limits,\n",
    "    'strain [1/s]': other_limits,\n",
    "    'vector direction [degrees]': (-180, 180),\n",
    "}\n",
    "\n",
    "\n",
    "# Features for PCA and plotting\n",
    "features_pca = [\n",
    "    \"vorticity [1/s]_mean\",\n",
    "    \"velocity magnitude [um/s]\",\n",
    "    \"distance [m]_mean\",\n",
    "    \"divergence [1/s]_mean\",\n",
    "    \"shear [1/s]_mean\",\n",
    "    \"strain [1/s]_mean\",\n",
    "    \"correlation length [um]\", \n",
    "    \"power [W]_mean\",\n",
    "    \"work [J]\",\n",
    "]\n"
   ]
  },
  {
   "cell_type": "code",
   "execution_count": null,
   "metadata": {},
   "outputs": [],
   "source": [
    "conditions = [\n",
    "    'AcSu2-RT',\n",
    "    'AcSu-RT',\n",
    "    'AdPa-RT',\n",
    "    # 'BleSto-RT',\n",
    "    'DiPu-RT',\n",
    "    'Kif5-RT',\n",
    "    # 'NaFo-RT',\n",
    "    'ThTr-RT',\n",
    "    'TiLa-RT',\n",
    "    # 'negative'\n",
    "    ]"
   ]
  },
  {
   "cell_type": "code",
   "execution_count": null,
   "metadata": {},
   "outputs": [],
   "source": [
    "time_interval_list = [45, 45, 45, 45*3, 45*3, 45, 45]  # time intervals in seconds between frames for each condition\n",
    "\n",
    "\n",
    "# Process PIV data\n",
    "qd.process_piv_data(\n",
    "    data_path, \n",
    "    conditions,\n",
    "    subconditions, \n",
    "    feature_limits, \n",
    "    time_interval_list, \n",
    "    min_frame=0, \n",
    "    max_frame=None, \n",
    "    skip_frames=1, \n",
    "    plot_autocorrelation=False, \n",
    "    frame_rate=1, \n",
    "    heatmaps=False\n",
    "    )\n"
   ]
  },
  {
   "cell_type": "code",
   "execution_count": null,
   "metadata": {},
   "outputs": [],
   "source": [
    "# Plot features and PCA\n",
    "qd.plot_PIV_all(\n",
    "    data_path, \n",
    "    conditions,\n",
    "    subconditions, \n",
    "    features_pca, \n",
    "    min_frame=0, \n",
    "    max_frame=500\n",
    "    )\n"
   ]
  },
  {
   "cell_type": "markdown",
   "metadata": {},
   "source": [
    "### Expression + PIV"
   ]
  },
  {
   "cell_type": "code",
   "execution_count": null,
   "metadata": {},
   "outputs": [],
   "source": [
    "# Combine the data and save it to the \"output_data\" directory\n",
    "qd.combine_averaged_dataframes(data_path, conditions, subconditions)\n"
   ]
  },
  {
   "cell_type": "code",
   "execution_count": null,
   "metadata": {},
   "outputs": [],
   "source": [
    "qd.merge_expression_piv_data(data_path)\n"
   ]
  },
  {
   "cell_type": "code",
   "execution_count": null,
   "metadata": {},
   "outputs": [],
   "source": [
    "# x_column = \"time (h)\"  # Example x-axis column\n",
    "# y_column = \"Protein Concentration_nM\"  # Example y-axis column\n",
    "\n",
    "\n",
    "# x_column = \"Protein Concentration_nM\"  # Example y-axis column\n",
    "# y_column = \"velocity magnitude [m/s]_mean\"  # Example y-axis column\n",
    "\n",
    "# x_column = \"time (h)\"  # Example x-axis column\n",
    "# y_column = \"velocity magnitude [m/s]_mean\"  # Example y-axis column\n",
    "\n",
    "# x_column = \"time (h)\"  # Example x-axis column\n",
    "# y_column = \"power [W]_mean\"  # Example y-axis column\n",
    "\n",
    "# x_column = \"time (h)\"  # Example x-axis column\n",
    "# y_column = \"work [J]_mean\"  # Example y-axis column\n",
    "\n",
    "x_column = \"time (h)\"  # Example x-axis column\n",
    "y_column = \"distance [m]_mean\"  # Example y-axis column\n",
    "\n",
    "\n",
    "qd.plot_expression_piv(\n",
    "    data_path,\n",
    "    conditions,\n",
    "    x_column, \n",
    "    y_column, \n",
    "    sigma_x=0.1, \n",
    "    sigma_y=10, \n",
    "    x_log=False, \n",
    "    y_log=True, \n",
    "    min_frame=0, \n",
    "    max_frame=None, \n",
    "    individual_plots=False\n",
    "    )"
   ]
  },
  {
   "cell_type": "code",
   "execution_count": null,
   "metadata": {},
   "outputs": [],
   "source": [
    "\n",
    "# List of features for PCA\n",
    "features_pca = [\n",
    "    \"vorticity [1/s]_mean\",\n",
    "    \"velocity magnitude [m/s]_mean\",\n",
    "    \"distance [m]_mean\",\n",
    "    \"divergence [1/s]_mean\",\n",
    "    \"shear [1/s]_mean\",\n",
    "    \"strain [1/s]_mean\",\n",
    "    \"correlation length [m]_mean\", \n",
    "    \"power [W]_mean\",\n",
    "    \"work [J]_mean\",\n",
    "    'vector direction [degrees]_mean',\n",
    "    \"Protein Concentration_nM\", \n",
    "    'time (min)'\n",
    "]\n",
    "\n",
    "# Run PCA and save plot (with all conditions and subconditions in the same plot)\n",
    "qd.plot_pca_expression_piv(data_path, conditions=conditions, subconditions=subconditions, features=features_pca, sigma=1)\n"
   ]
  },
  {
   "cell_type": "code",
   "execution_count": null,
   "metadata": {},
   "outputs": [],
   "source": [
    "\n",
    "# Example usage\n",
    "qd.delete_outputs(data_path, conditions, subconditions, output_dirs=None)\n"
   ]
  },
  {
   "cell_type": "code",
   "execution_count": null,
   "metadata": {},
   "outputs": [],
   "source": []
  }
 ],
 "metadata": {
  "kernelspec": {
   "display_name": "Python 3.11.5 (venv)",
   "language": "python",
   "name": "my_venv_3_11_5"
  },
  "language_info": {
   "codemirror_mode": {
    "name": "ipython",
    "version": 3
   },
   "file_extension": ".py",
   "mimetype": "text/x-python",
   "name": "python",
   "nbconvert_exporter": "python",
   "pygments_lexer": "ipython3",
   "version": "3.11.5"
  }
 },
 "nbformat": 4,
 "nbformat_minor": 2
}
