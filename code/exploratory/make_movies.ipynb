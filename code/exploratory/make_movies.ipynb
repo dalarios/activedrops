{
 "cells": [
  {
   "cell_type": "code",
   "execution_count": 1,
   "metadata": {},
   "outputs": [],
   "source": [
    "import cv2\n",
    "import glob\n",
    "import os\n",
    "import matplotlib.pyplot as plt\n",
    "import numpy as np\n",
    "import pandas as pd\n",
    "from PIL import Image, ImageDraw, ImageEnhance\n",
    "import imageio\n",
    "import seaborn as sns\n",
    "from natsort import natsorted\n",
    "\n",
    "## Import relevant libraries\n",
    "import sys\n",
    "sys.path.append('../../activedrops')\n",
    "import pivdrops\n",
    "pivdrops.set_plotting_style()"
   ]
  },
  {
   "cell_type": "code",
   "execution_count": 2,
   "metadata": {},
   "outputs": [],
   "source": [
    "def convert_cy5_gfp_to_8bit(data_path, condition, subcondition, min_frame, max_frame):\n",
    "    # Base directory where the .tif files are located\n",
    "    directory = f\"{data_path}/{condition}/{subcondition}/original\"\n",
    "\n",
    "    # Directories for saving the converted images\n",
    "    cy5_output_directory = f\"{data_path}/{condition}/{subcondition}/cy5_8bit\"\n",
    "    gfp_output_directory = f\"{data_path}/{condition}/{subcondition}/gfp_8bit\"\n",
    "\n",
    "    # Create the output directories if they don't exist\n",
    "    if not os.path.exists(cy5_output_directory):\n",
    "        os.makedirs(cy5_output_directory)\n",
    "    if not os.path.exists(gfp_output_directory):\n",
    "        os.makedirs(gfp_output_directory)\n",
    "\n",
    "    # Pattern to match .tif files\n",
    "    search_pattern = os.path.join(directory, \"img_*.tif\")\n",
    "\n",
    "    # Get a sorted list of all .tif files to ensure they are processed in order\n",
    "    tif_files = sorted(glob.glob(search_pattern))[min_frame:max_frame]\n",
    "\n",
    "    for tif_file in tif_files:\n",
    "        try:\n",
    "            # Read the image using OpenCV\n",
    "            # img = cv2.imread(tif_file, cv2.IMREAD_UNCHANGED)\n",
    "            img = imageio.imread(tif_file) / 255\n",
    "\n",
    "            # Convert the image to 8-bit\n",
    "            img_8bit = img.astype('uint8') \n",
    "\n",
    "            # Extract the base name\n",
    "            base_name = os.path.basename(tif_file)\n",
    "\n",
    "            # Determine the output directory based on the file name\n",
    "            if \"cy5\" in base_name:\n",
    "                output_directory = cy5_output_directory\n",
    "            elif \"gfp\" in base_name:\n",
    "                output_directory = gfp_output_directory\n",
    "            else:\n",
    "                continue  # Skip files that do not match 'cy5' or 'gfp'\n",
    "\n",
    "            # Generate the new file path in the appropriate '8bit' folder\n",
    "            new_file_path = os.path.join(output_directory, base_name)\n",
    "\n",
    "            # Save the 8-bit image\n",
    "            cv2.imwrite(new_file_path, img_8bit)\n",
    "        except Exception as e:\n",
    "            print(f\"Error processing {tif_file}: {e}\")\n"
   ]
  },
  {
   "cell_type": "code",
   "execution_count": 3,
   "metadata": {},
   "outputs": [],
   "source": [
    "def plot_mean_fluorescence_over_time(data_path, condition, subcondition, channel, time_interval=3, min_frame=0, max_frame=None, skip_frames=1):\n",
    "    \"\"\"\n",
    "    Computes and plots the mean fluorescence intensity over time for a given set of images.\n",
    "\n",
    "    Args:\n",
    "    - data_path (str): Base directory where the images are stored.\n",
    "    - condition (str): Condition defining a subdirectory within the data path.\n",
    "    - subcondition (str): Subcondition defining a further subdirectory.\n",
    "    - channel (str): Channel specifying the fluorescence ('cy5' or 'gfp').\n",
    "    \"\"\"\n",
    "    # Determine the directory path based on the channel\n",
    "    directory_path = os.path.join(data_path, condition, subcondition, f\"{channel}_8bit\")\n",
    "    \n",
    "    # Get all .tif files in the folder\n",
    "    image_files = sorted(glob.glob(os.path.join(directory_path, \"*.tif\")))[min_frame:max_frame:skip_frames]\n",
    "    \n",
    "    # Initialize a list to store results\n",
    "    intensities = []\n",
    "    frames = []\n",
    "    \n",
    "    # Loop through each image file\n",
    "    for i, image_file in enumerate(image_files):\n",
    "        # Read the image\n",
    "        img = imageio.imread(image_file) \n",
    "        \n",
    "        # Compute the mean fluorescence intensity\n",
    "        mean_intensity = np.mean(img)\n",
    "        \n",
    "        # Append results\n",
    "        frames.append(i)\n",
    "        intensities.append(mean_intensity)\n",
    "    \n",
    "    # Create a DataFrame \n",
    "    results_df = pd.DataFrame({\n",
    "        \"frame\": frames,\n",
    "        \"mean_intensity\": intensities - np.min(intensities)\n",
    "    })\n",
    "    \n",
    "    # Plotting\n",
    "    plt.figure(figsize=(10, 6))\n",
    "    plt.plot(results_df[\"frame\"] * time_interval / 60, results_df[\"mean_intensity\"], marker='o', linestyle='-', color='b')\n",
    "    plt.title(f\"Motor expression over time \\n{condition} - {subcondition} - {channel}\")\n",
    "    plt.xlabel(\"time (min)\")\n",
    "    plt.ylabel(\"Normalized Mean Fluorescence Intensity (A.U.)\")\n",
    "    plt.grid(True, which='both', linestyle='--', linewidth=0.5)\n",
    "    plt.show()\n",
    "\n",
    "    return results_df\n",
    "\n"
   ]
  },
  {
   "cell_type": "code",
   "execution_count": 11,
   "metadata": {},
   "outputs": [],
   "source": [
    "def create_normalized_intensity_heatmap(data_path, condition, subcondition, channel, time_interval=3, min_frame=0, max_frame=None, vmax=None, skip_frames=1):\n",
    "    \"\"\"\n",
    "    Reads each image as a matrix, creates and saves a heatmap representing the normalized pixel-wise fluorescence intensity.\n",
    "\n",
    "    Args:\n",
    "    - data_path (str): Base directory where the images are stored.\n",
    "    - condition (str): Condition defining a subdirectory within the data path.\n",
    "    - subcondition (str): Subcondition defining a further subdirectory.\n",
    "    - channel (str): Channel specifying the fluorescence ('cy5' or 'gfp').\n",
    "    - time_interval (int): Time interval in seconds between frames.\n",
    "    - min_frame (int): Minimum frame number to start processing from.\n",
    "    - max_frame (int, optional): Maximum frame number to stop processing at.\n",
    "    \"\"\"\n",
    "    # Determine the directory paths based on the channel\n",
    "    input_directory_path = os.path.join(data_path, condition, subcondition, f\"{channel}_8bit\")\n",
    "    output_directory_path = os.path.join(data_path, condition, subcondition, \"intensity_heatmap\")\n",
    "    \n",
    "    # Create the output directory if it doesn't exist\n",
    "    if not os.path.exists(output_directory_path):\n",
    "        os.makedirs(output_directory_path)\n",
    "\n",
    "    # Get all .tif files in the folder\n",
    "    image_files = sorted(glob.glob(os.path.join(input_directory_path, \"*.tif\")))[min_frame:max_frame:skip_frames] \n",
    "    \n",
    "    # Loop through each image file and create a heatmap\n",
    "    for i, image_file in enumerate(image_files, start=min_frame):\n",
    "        # Read the image into a numpy array\n",
    "        intensity_matrix = imageio.imread(image_file) \n",
    "\n",
    "        # Plot the heatmap\n",
    "        fig, ax = plt.subplots(figsize=(8, 8))\n",
    "        im = ax.imshow(intensity_matrix, cmap='gray', interpolation='nearest', extent=[-2762/2, 2762/2, -2762/2, 2762/2], vmin=0, vmax=vmax)\n",
    "        plt.colorbar(im, ax=ax, label='Normalized Fluorescence Intensity (A.U.)')\n",
    "        plt.title(f\"Time (min): {(i - min_frame) * time_interval / 60:.2f}. \\n{condition} - {subcondition} - {channel}\")\n",
    "        plt.xlabel('x [um]')\n",
    "        plt.ylabel('y [um]')\n",
    "        \n",
    "        # Save the heatmap\n",
    "        heatmap_filename = f\"heatmap_frame_{i}.tif\"\n",
    "        heatmap_path = os.path.join(output_directory_path, heatmap_filename)\n",
    "        plt.savefig(heatmap_path, bbox_inches='tight', pad_inches=0.1, dpi=300)\n",
    "        plt.close(fig)  # Close the figure to free memory\n",
    " "
   ]
  },
  {
   "cell_type": "code",
   "execution_count": 5,
   "metadata": {},
   "outputs": [],
   "source": [
    "def create_annotated_image_movies(data_path, condition, subcondition, channel, frame_rate=30, max_frame=None):\n",
    "    \"\"\"\n",
    "    Creates video files from processed and annotated images stored in a specified directory.\n",
    "\n",
    "    Args:\n",
    "    - data_path (str): Base path where the annotated images are stored.\n",
    "    - condition (str): Condition under which the annotated images are stored.\n",
    "    - subcondition (str): Subcondition under which the annotated images are stored.\n",
    "    - channel (str): The specific channel being processed ('cy5' or 'gfp').\n",
    "    - frame_rate (int, optional): Frame rate for the output video. Defaults to 30.\n",
    "    - max_frame (int, optional): Maximum number of frames to be included in the video. If None, all frames are included.\n",
    "    \"\"\"\n",
    "\n",
    "\n",
    "    images_dir = os.path.join(data_path, condition, subcondition, \"intensity_heatmap\")\n",
    "\n",
    "    image_files = natsorted(glob.glob(os.path.join(images_dir, \"*.tif\")))\n",
    "\n",
    "    if max_frame is not None:\n",
    "        image_files = image_files[:max_frame]\n",
    "\n",
    "    if not image_files:\n",
    "        print(\"No images found for video creation.\")\n",
    "        return\n",
    "\n",
    "    # Get the resolution of the first image (assuming all images are the same size)\n",
    "    first_image = cv2.imread(image_files[0])\n",
    "    video_resolution = (first_image.shape[1], first_image.shape[0])  # Width x Height\n",
    "\n",
    "    # Define the codec and create VideoWriter object\n",
    "    fourcc = cv2.VideoWriter_fourcc(*'MJPG')\n",
    "    out_path = os.path.join(data_path, condition, subcondition, f\"{channel}_movie.avi\")\n",
    "    out = cv2.VideoWriter(out_path, fourcc, frame_rate, video_resolution)\n",
    "\n",
    "    for file_path in image_files:\n",
    "        img = cv2.imread(file_path)\n",
    "        out.write(img)  # Write the image frame to the video\n",
    "\n",
    "    out.release()\n",
    "    print(f\"Video saved to {out_path}\")\n"
   ]
  },
  {
   "cell_type": "code",
   "execution_count": 71,
   "metadata": {},
   "outputs": [],
   "source": [
    "# Example usage\n",
    "data_path = \"../../data/kif3_phases/\"\n",
    "condition = \"5MT\"\n",
    "subcondition = \"40DNA\"\n",
    "\n",
    "# convert_cy5_gfp_to_8bit(data_path, condition, subcondition, min_frame=0, max_frame=None)"
   ]
  },
  {
   "cell_type": "code",
   "execution_count": 72,
   "metadata": {},
   "outputs": [],
   "source": [
    "min_frame = 0\n",
    "max_frame = None\n",
    "\n",
    "skip_frames = 8\n",
    "\n",
    "time_interval = 30 * skip_frames\n",
    "frame_rate = 120 / skip_frames\n"
   ]
  },
  {
   "cell_type": "code",
   "execution_count": 73,
   "metadata": {},
   "outputs": [],
   "source": [
    "plot_mean_fluorescence_over_time(data_path, condition, subcondition, \"cy5\", time_interval=time_interval, min_frame=min_frame, max_frame=max_frame, skip_frames=skip_frames) "
   ]
  },
  {
   "cell_type": "code",
   "execution_count": 74,
   "metadata": {},
   "outputs": [],
   "source": [
    "plot_mean_fluorescence_over_time(data_path, condition, subcondition, \"gfp\", time_interval=time_interval, min_frame=min_frame, max_frame=max_frame, skip_frames=skip_frames)\n"
   ]
  },
  {
   "cell_type": "code",
   "execution_count": 75,
   "metadata": {},
   "outputs": [],
   "source": [
    "create_normalized_intensity_heatmap(data_path, condition, subcondition, \"cy5\", time_interval=time_interval, min_frame=0, max_frame=None, vmax=62, skip_frames=skip_frames)\n",
    "create_annotated_image_movies(data_path, condition, subcondition, \"cy5\", frame_rate=frame_rate, max_frame=None)\n"
   ]
  },
  {
   "cell_type": "code",
   "execution_count": 87,
   "metadata": {},
   "outputs": [
    {
     "name": "stderr",
     "output_type": "stream",
     "text": [
      "/var/folders/_h/zqzyskvx2hd4w984syj7bb3m0000gn/T/ipykernel_10685/2237779128.py:28: DeprecationWarning: Starting with ImageIO v3 the behavior of this function will switch to that of iio.v3.imread. To keep the current behavior (and make this warning disappear) use `import imageio.v2 as imageio` or call `imageio.v2.imread` directly.\n",
      "  intensity_matrix = imageio.imread(image_file)\n"
     ]
    },
    {
     "name": "stdout",
     "output_type": "stream",
     "text": [
      "Video saved to ../../data/kif3_phases/20MT/40DNA/gfp_movie.avi\n"
     ]
    }
   ],
   "source": [
    "data_path = \"../../data/kif3_phases/\"\n",
    "condition = \"20MT\"\n",
    "subcondition = \"40DNA\"\n",
    "\n",
    "create_normalized_intensity_heatmap(data_path, condition, subcondition, \"gfp\", time_interval=time_interval, min_frame=0, max_frame=None, vmax=4, skip_frames=skip_frames)\n",
    "create_annotated_image_movies(data_path, condition, subcondition, \"gfp\", frame_rate=frame_rate, max_frame=None)\n"
   ]
  },
  {
   "cell_type": "code",
   "execution_count": null,
   "metadata": {},
   "outputs": [],
   "source": []
  },
  {
   "cell_type": "code",
   "execution_count": null,
   "metadata": {},
   "outputs": [],
   "source": []
  },
  {
   "cell_type": "code",
   "execution_count": null,
   "metadata": {},
   "outputs": [],
   "source": []
  },
  {
   "cell_type": "code",
   "execution_count": null,
   "metadata": {},
   "outputs": [],
   "source": []
  }
 ],
 "metadata": {
  "kernelspec": {
   "display_name": "base",
   "language": "python",
   "name": "python3"
  },
  "language_info": {
   "codemirror_mode": {
    "name": "ipython",
    "version": 3
   },
   "file_extension": ".py",
   "mimetype": "text/x-python",
   "name": "python",
   "nbconvert_exporter": "python",
   "pygments_lexer": "ipython3",
   "version": "3.11.5"
  }
 },
 "nbformat": 4,
 "nbformat_minor": 2
}
