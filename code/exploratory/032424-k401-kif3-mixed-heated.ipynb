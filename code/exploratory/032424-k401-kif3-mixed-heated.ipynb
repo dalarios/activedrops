{
 "cells": [
  {
   "cell_type": "code",
   "execution_count": 1,
   "metadata": {},
   "outputs": [],
   "source": [
    "## Import relevant libraries\n",
    "import sys\n",
    "import os\n",
    "import shutil\n",
    "from natsort import natsorted  # For natural sorting\n",
    "sys.path.append('../../activedrops')\n",
    "\n",
    "## Including ourselves\n",
    "import quadrop as qd\n",
    "qd.set_plotting_style()\n"
   ]
  },
  {
   "cell_type": "code",
   "execution_count": 7,
   "metadata": {},
   "outputs": [
    {
     "data": {
      "text/plain": [
       "['Pos4', 'Pos5']"
      ]
     },
     "execution_count": 7,
     "metadata": {},
     "output_type": "execute_result"
    }
   ],
   "source": [
    "data_path = \"../../data/032424-k401-kif3-mixed-heated/4ultxtl-2ulDNA150ngul-1MT_2/\"\n",
    "\n",
    "# let's declare the variable \"conditions\" to the sorted list of subdirectories from data_path\n",
    "conditions = natsorted([f for f in os.listdir(data_path) if os.path.isdir(os.path.join(data_path, f))])[::-1]\n",
    "\n",
    "# let's declare the variable \"subconditions\" to the sorted list of subdirectories from the first condition\n",
    "subconditions = natsorted([f for f in os.listdir(os.path.join(data_path, conditions[0])) if os.path.isdir(os.path.join(data_path, conditions[0], f))])\n",
    "\n",
    "subconditions\n"
   ]
  },
  {
   "cell_type": "code",
   "execution_count": 8,
   "metadata": {},
   "outputs": [],
   "source": [
    "data_path1 = \"../../data/032424-k401-kif3-mixed-heated/4ultxtl-2ulDNA150ngul-1MT_2/k401/Pos4/original/\"\n",
    "data_path2 = \"../../data/032424-k401-kif3-mixed-heated/4ultxtl-2ulDNA150ngul-1MT_3/k401/Pos4/original/\"\n",
    "\n",
    "\n",
    "# let's see the file names in data_path1\n",
    "files1 = natsorted([f for f in os.listdir(data_path1) if os.path.isfile(os.path.join(data_path1, f))])\n",
    "\n",
    "# now renames the files in path2 to continue the numbering from path1, in this example data_path1 ends with the file named 'img_000000216_gfp-4x_000.tif', so the first file in data_path2 will be renamed to 'img_000000217_gfp-4x_000.tif'. Then moves the files from data_path2 to data_path1\n",
    "for i, file in enumerate(natsorted([f for f in os.listdir(data_path2) if os.path.isfile(os.path.join(data_path2, f))])):\n",
    "    shutil.move(os.path.join(data_path2, file), os.path.join(data_path1, f\"img_{str(int(files1[-1].split('_')[1].split('.')[0])+1+i).zfill(9)}_gfp-4x_000.tif\"))\n",
    "    \n",
    "# now let's do this for all conditions and subconditions\n",
    "for condition in conditions:\n",
    "    for subcondition in subconditions:\n",
    "        data_path1 = os.path.join(data_path, condition, subcondition, 'original')\n",
    "        files1 = natsorted([f for f in os.listdir(data_path1) if os.path.isfile(os.path.join(data_path1, f))])\n",
    "        for i, file in enumerate(natsorted([f for f in os.listdir(data_path2) if os.path.isfile(os.path.join(data_path2, f))])):\n",
    "            shutil.move(os.path.join(data_path2, file), os.path.join(data_path1, f\"img_{str(int(files1[-1].split('_')[1].split('.')[0])+1+i).zfill(9)}_gfp-4x_000.tif\"))\n"
   ]
  },
  {
   "cell_type": "code",
   "execution_count": null,
   "metadata": {},
   "outputs": [],
   "source": []
  }
 ],
 "metadata": {
  "kernelspec": {
   "display_name": "Python 3",
   "language": "python",
   "name": "python3"
  },
  "language_info": {
   "codemirror_mode": {
    "name": "ipython",
    "version": 3
   },
   "file_extension": ".py",
   "mimetype": "text/x-python",
   "name": "python",
   "nbconvert_exporter": "python",
   "pygments_lexer": "ipython3",
   "version": "3.11.5"
  }
 },
 "nbformat": 4,
 "nbformat_minor": 2
}
