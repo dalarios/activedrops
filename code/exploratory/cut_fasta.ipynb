{
 "cells": [
  {
   "cell_type": "code",
   "execution_count": 1,
   "metadata": {},
   "outputs": [],
   "source": [
    "from Bio import SeqIO\n",
    "\n",
    "def cut_fasta_sequences(input_fasta, output_fasta, ranges_dict):\n",
    "    \"\"\"\n",
    "    Cuts sequences from a FASTA file based on the given ranges and writes them to a new FASTA file.\n",
    "\n",
    "    Parameters:\n",
    "    input_fasta (str): Path to the input FASTA file.\n",
    "    output_fasta (str): Path to the output FASTA file.\n",
    "    ranges_dict (dict): Dictionary where keys are sequence IDs and values are tuples of (start, end) positions.\n",
    "                        Positions are 1-based, and both start and end are inclusive.\n",
    "    \"\"\"\n",
    "    # Parse the input FASTA file\n",
    "    sequences = SeqIO.parse(input_fasta, \"fasta\")\n",
    "    \n",
    "    # Open the output FASTA file\n",
    "    with open(output_fasta, \"w\") as output_handle:\n",
    "        # Iterate over each sequence in the input FASTA file\n",
    "        for seq_record in sequences:\n",
    "            seq_id = seq_record.id\n",
    "            if seq_id in ranges_dict:\n",
    "                # Get the specified range for the sequence\n",
    "                start, end = ranges_dict[seq_id]\n",
    "                # Extract the subsequence within the given range\n",
    "                cut_seq = seq_record.seq[start-1:end]  # Convert 1-based to 0-based index\n",
    "                # Create a new SeqRecord with the cut sequence\n",
    "                new_record = seq_record[start-1:end]\n",
    "                # Write the new sequence to the output file\n",
    "                SeqIO.write(new_record, output_handle, \"fasta\")\n",
    "\n",
    "# Define the file names and ranges\n",
    "ranges = {\n",
    "    \"K401\": (1, 120),\n",
    "    \"AcSu_575\": (1, 120),\n",
    "    \"AcSu2_530\": (1, 120),\n",
    "    \"AdPa_408\": (1, 120),\n",
    "    \"BleSto_572\": (1, 120),\n",
    "    \"DiPu_513\": (1, 120),\n",
    "    \"HeAl_513\": (1, 120),\n",
    "    \"Kif3_592\": (1, 120),\n",
    "    \"Kifa_500\": (1, 120),\n",
    "    \"NaGr_392\": (1, 120),\n",
    "    \"ThTr_655\": (1, 180),\n",
    "    \"TiLa_514\": (1, 120)\n",
    "}\n",
    "\n",
    "# Example usage:\n",
    "cut_fasta_sequences(\"../../data/input_sequences.fasta\", \"../../data/output_sequences.fasta\", ranges)"
   ]
  },
  {
   "cell_type": "code",
   "execution_count": null,
   "metadata": {},
   "outputs": [],
   "source": []
  }
 ],
 "metadata": {
  "kernelspec": {
   "display_name": "base",
   "language": "python",
   "name": "python3"
  },
  "language_info": {
   "codemirror_mode": {
    "name": "ipython",
    "version": 3
   },
   "file_extension": ".py",
   "mimetype": "text/x-python",
   "name": "python",
   "nbconvert_exporter": "python",
   "pygments_lexer": "ipython3",
   "version": "3.11.5"
  }
 },
 "nbformat": 4,
 "nbformat_minor": 2
}
