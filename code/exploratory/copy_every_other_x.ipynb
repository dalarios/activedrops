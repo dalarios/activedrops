{
 "cells": [
  {
   "cell_type": "code",
   "execution_count": 2,
   "metadata": {},
   "outputs": [],
   "source": [
    "import os\n",
    "import shutil\n",
    "\n",
    "def copy_every_other_image(src_folder, dst_folder, x):\n",
    "    # Create the destination folder if it doesn't exist\n",
    "    if not os.path.exists(dst_folder):\n",
    "        os.makedirs(dst_folder)\n",
    "\n",
    "    # Get a list of image files in the source folder\n",
    "    image_files = [f for f in os.listdir(src_folder) if f.lower().endswith(('.png', '.jpg', '.jpeg', '.tif'))]\n",
    "\n",
    "    # Copy every other x image to the destination folder\n",
    "    for i in range(0, len(image_files), x):\n",
    "        src_path = os.path.join(src_folder, image_files[i])\n",
    "        dst_path = os.path.join(dst_folder, image_files[i])\n",
    "        shutil.copy2(src_path, dst_path)\n",
    "\n",
    "# Example usage\n",
    "source_folder = \"../../data/control-ATP7mM-PIV/ATP7mM/Pos0/original/\"\n",
    "\n",
    "destination_folder =  \"../../data/control-ATP7mM-PIV/ATP7mM/Pos0/original_2x/\"\n",
    "every_x_image = 2\n",
    "\n",
    "copy_every_other_image(source_folder, destination_folder, every_x_image)"
   ]
  },
  {
   "cell_type": "code",
   "execution_count": null,
   "metadata": {},
   "outputs": [],
   "source": []
  }
 ],
 "metadata": {
  "kernelspec": {
   "display_name": "Python 3",
   "language": "python",
   "name": "python3"
  },
  "language_info": {
   "codemirror_mode": {
    "name": "ipython",
    "version": 3
   },
   "file_extension": ".py",
   "mimetype": "text/x-python",
   "name": "python",
   "nbconvert_exporter": "python",
   "pygments_lexer": "ipython3",
   "version": "3.11.5"
  }
 },
 "nbformat": 4,
 "nbformat_minor": 2
}
