{
 "cells": [
  {
   "cell_type": "code",
   "execution_count": 1,
   "id": "9ecf6342-bb40-4db0-a601-ee5e841697fe",
   "metadata": {},
   "outputs": [],
   "source": [
    "import activedrops"
   ]
  },
  {
   "cell_type": "code",
   "execution_count": 2,
   "id": "90e9066b-f5ad-4f4f-a995-e2e2e4644743",
   "metadata": {},
   "outputs": [],
   "source": [
    "activedrops.viz.set_plotting_style()"
   ]
  },
  {
   "cell_type": "code",
   "execution_count": 3,
   "id": "75e4db97-7453-4e27-8cdc-4b2afeab59a9",
   "metadata": {},
   "outputs": [
    {
     "data": {
      "text/plain": [
       "16"
      ]
     },
     "execution_count": 3,
     "metadata": {},
     "output_type": "execute_result"
    }
   ],
   "source": [
    "activedrops.viz.xsquared(4)"
   ]
  },
  {
   "cell_type": "code",
   "execution_count": null,
   "id": "a9008853-24d7-4e3c-912d-7e5d00ce2a98",
   "metadata": {},
   "outputs": [],
   "source": []
  }
 ],
 "metadata": {
  "kernelspec": {
   "display_name": "Python 3 (ipykernel)",
   "language": "python",
   "name": "python3"
  },
  "language_info": {
   "codemirror_mode": {
    "name": "ipython",
    "version": 3
   },
   "file_extension": ".py",
   "mimetype": "text/x-python",
   "name": "python",
   "nbconvert_exporter": "python",
   "pygments_lexer": "ipython3",
   "version": "3.11.3"
  }
 },
 "nbformat": 4,
 "nbformat_minor": 5
}
