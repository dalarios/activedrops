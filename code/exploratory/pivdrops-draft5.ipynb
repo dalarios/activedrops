{
 "cells": [
  {
   "cell_type": "code",
   "execution_count": null,
   "metadata": {},
   "outputs": [],
   "source": [
    "## Import relevant libraries\n",
    "import sys\n",
    "sys.path.append('../../activedrops')\n",
    "\n",
    "## Including ourselves\n",
    "import pivdrops\n",
    "pivdrops.set_plotting_style()"
   ]
  },
  {
   "cell_type": "code",
   "execution_count": null,
   "metadata": {},
   "outputs": [],
   "source": [
    "data_path = \"../../data/01-k401-biotin_strep/\"\n",
    "condition = \"125nM\"\n",
    "subcondition = \"2ul\"\n",
    "\n",
    "min_frame = 0\n",
    "max_frame = 12\n",
    "time_interval = 3\n",
    "\n",
    "\n",
    "kbio125, pivot_df = pivdrops.process_piv_data(data_path, condition, subcondition, min_frame=min_frame, max_frame=max_frame, plot_autocorrelation=False)\n",
    "\n"
   ]
  },
  {
   "cell_type": "code",
   "execution_count": null,
   "metadata": {},
   "outputs": [],
   "source": [
    "pivdrops.plot_features([kbio125], [data_path], [condition], [subcondition], time_interval=time_interval, sigma=1)\n"
   ]
  },
  {
   "cell_type": "code",
   "execution_count": null,
   "metadata": {},
   "outputs": [],
   "source": [
    "features_pca = [\n",
    "    # \"<data type [-]>\", \n",
    "    \"<vorticity [1/s]>\",\t\n",
    "    \"<velocity magnitude [m/s]>\", \n",
    "    \"<divergence [1/s]>\", \n",
    "    # \"<dcev [1]>\", \n",
    "    \"<shear [1/s]>\", \n",
    "    \"<strain [1/s]>\", \n",
    "    \"<vector direction [degrees]>\", \n",
    "    \"<correlation length [m]>\", \n",
    "    \"<power [W]>\"]\n",
    "\n",
    "pivdrops.plot_pca([kbio125], [data_path], [condition], [subcondition], features_pca)\n"
   ]
  },
  {
   "cell_type": "code",
   "execution_count": null,
   "metadata": {},
   "outputs": [],
   "source": [
    "pivdrops.convert_images(data_path, condition, subcondition, max_frame=max_frame, brightness_factor=1, contrast_factor=1)\n",
    "\n",
    "\n",
    "v = 10E-6\n",
    "velocity_limits = (0, v)\n",
    "other_limits = (-0.15, 0.15)\n",
    "\n",
    "velocity_limits = (None, None)\n",
    "other_limits = (None, None)\n",
    "\n",
    "feature_limits = {\n",
    "    'u [m/s]': (-v, v), \n",
    "    'v [m/s]': (-v, v), \n",
    "    'data type [-]': (None, None),\n",
    "    'velocity magnitude [m/s]': velocity_limits,\n",
    "    'vorticity [1/s]': other_limits,\n",
    "    'divergence [1/s]': other_limits,\n",
    "    'dcev [1]': (0, 250),\n",
    "    'shear [1/s]': other_limits,\n",
    "    'strain [1/s]': other_limits,\n",
    "    'vector direction [degrees]': (-180, 180),\n",
    "}\n",
    " \n",
    "pivdrops.piv_heatmap(pivot_df, data_path, condition, subcondition, feature_limits, time_interval=time_interval)\n",
    "pivdrops.create_heatmap_movies(data_path, condition, subcondition, feature_limits)\n",
    "\n"
   ]
  },
  {
   "cell_type": "markdown",
   "metadata": {},
   "source": [
    "s"
   ]
  },
  {
   "cell_type": "code",
   "execution_count": null,
   "metadata": {},
   "outputs": [],
   "source": [
    "### fast - summary statistics\n",
    "\n",
    "data_path = \"../../data/01-k401-biotin_strep/\"\n",
    "condition = \"125nM\"\n",
    "subcondition = \"2ul\"\n",
    "\n",
    "min_frame = 0\n",
    "max_frame = None\n",
    "time_interval = 3\n",
    "\n",
    "features_pca = [\n",
    "    # \"<data type [-]>\", \n",
    "    \"<vorticity [1/s]>\",\t\n",
    "    \"<velocity magnitude [m/s]>\", \n",
    "    \"<divergence [1/s]>\", \n",
    "    # \"<dcev [1]>\", \n",
    "    \"<shear [1/s]>\", \n",
    "    \"<strain [1/s]>\", \n",
    "    \"<vector direction [degrees]>\", \n",
    "    \"<correlation length [m]>\", \n",
    "    \"<power [W]>\"]\n",
    "\n",
    "\n",
    "kbio125, pivot_df = pivdrops.process_piv_data(data_path, condition, subcondition, min_frame=min_frame, max_frame=max_frame, plot_autocorrelation=False)\n",
    "\n",
    "pivdrops.plot_features([kbio125], [data_path], [condition], [subcondition], time_interval=time_interval, sigma=1)\n",
    "pivdrops.plot_pca([kbio125], [data_path], [condition], [subcondition], features_pca)\n",
    "\n",
    "\n",
    "### slow - heatmap movies\n",
    "\n",
    "v = 10E-6\n",
    "velocity_limits = (0, v)\n",
    "other_limits = (-0.15, 0.15)\n",
    "\n",
    "# velocity_limits = (None, None)\n",
    "# other_limits = (None, None)\n",
    "\n",
    "feature_limits = {\n",
    "    'u [m/s]': (-v, v), \n",
    "    'v [m/s]': (-v, v), \n",
    "    'data type [-]': (None, None),\n",
    "    'velocity magnitude [m/s]': velocity_limits,\n",
    "    'vorticity [1/s]': other_limits,\n",
    "    'divergence [1/s]': other_limits,\n",
    "    'dcev [1]': (0, 250),\n",
    "    'shear [1/s]': other_limits,\n",
    "    'strain [1/s]': other_limits,\n",
    "    'vector direction [degrees]': (-180, 180),\n",
    "}\n",
    "\n",
    "\n",
    "\n",
    "pivdrops.convert_images(data_path, condition, subcondition, max_frame=max_frame, brightness_factor=1, contrast_factor=1)\n",
    "pivdrops.piv_heatmap(pivot_df, data_path, condition, subcondition, feature_limits, time_interval=time_interval)\n",
    "pivdrops.create_heatmap_movies(data_path, condition, subcondition, feature_limits)\n",
    "\n"
   ]
  },
  {
   "cell_type": "code",
   "execution_count": null,
   "metadata": {},
   "outputs": [],
   "source": [
    "### fast - summary statistics\n",
    "\n",
    "data_path = \"../../data/01-k401-biotin_strep/\"\n",
    "condition = \"250nM\"\n",
    "subcondition = \"2ul\"\n",
    "\n",
    "\n",
    "kbio250, pivot_df = pivdrops.process_piv_data(data_path, condition, subcondition, min_frame=min_frame, max_frame=max_frame, plot_autocorrelation=False)\n",
    "\n",
    "pivdrops.plot_features([kbio125], [data_path], [condition], [subcondition], time_interval=time_interval, sigma=1)\n",
    "pivdrops.plot_pca([kbio125], [data_path], [condition], [subcondition], features_pca)\n",
    "\n",
    "\n",
    "### slow - heatmap movies\n",
    "\n",
    "\n",
    "pivdrops.convert_images(data_path, condition, subcondition, max_frame=max_frame, brightness_factor=1, contrast_factor=1)\n",
    "pivdrops.piv_heatmap(pivot_df, data_path, condition, subcondition, feature_limits, time_interval=time_interval)\n",
    "pivdrops.create_heatmap_movies(data_path, condition, subcondition, feature_limits)\n",
    "\n"
   ]
  },
  {
   "cell_type": "code",
   "execution_count": null,
   "metadata": {},
   "outputs": [],
   "source": [
    "### fast - summary statistics\n",
    "\n",
    "data_path = \"../../data/01-k401-biotin_strep/\"\n",
    "condition = \"500nM\"\n",
    "subcondition = \"2ul\"\n",
    "\n",
    "\n",
    "\n",
    "\n",
    "kbio500, pivot_df = pivdrops.process_piv_data(data_path, condition, subcondition, min_frame=min_frame, max_frame=max_frame, plot_autocorrelation=False)\n",
    "\n",
    "pivdrops.plot_features([kbio125], [data_path], [condition], [subcondition], time_interval=time_interval, sigma=1)\n",
    "pivdrops.plot_pca([kbio125], [data_path], [condition], [subcondition], features_pca)\n",
    "\n",
    "\n",
    "### slow - heatmap movies\n",
    "\n",
    "\n",
    "pivdrops.convert_images(data_path, condition, subcondition, max_frame=max_frame, brightness_factor=1, contrast_factor=1)\n",
    "pivdrops.piv_heatmap(pivot_df, data_path, condition, subcondition, feature_limits, time_interval=time_interval)\n",
    "pivdrops.create_heatmap_movies(data_path, condition, subcondition, feature_limits)\n",
    "\n"
   ]
  },
  {
   "cell_type": "code",
   "execution_count": null,
   "metadata": {},
   "outputs": [],
   "source": []
  },
  {
   "cell_type": "code",
   "execution_count": null,
   "metadata": {},
   "outputs": [],
   "source": []
  }
 ],
 "metadata": {
  "kernelspec": {
   "display_name": "base",
   "language": "python",
   "name": "python3"
  },
  "language_info": {
   "codemirror_mode": {
    "name": "ipython",
    "version": 3
   },
   "file_extension": ".py",
   "mimetype": "text/x-python",
   "name": "python",
   "nbconvert_exporter": "python",
   "pygments_lexer": "ipython3",
   "version": "3.11.5"
  }
 },
 "nbformat": 4,
 "nbformat_minor": 2
}
