{
 "cells": [
  {
   "cell_type": "code",
   "execution_count": 2,
   "metadata": {},
   "outputs": [],
   "source": [
    "## Import relevant libraries\n",
    "import sys\n",
    "import glob\n",
    "\n",
    "sys.path.append('../../py_files/')\n",
    "import quadrop as qd\n",
    "\n",
    "qd.set_plotting_style()"
   ]
  },
  {
   "cell_type": "markdown",
   "metadata": {},
   "source": [
    "### Data pre-procesing"
   ]
  },
  {
   "cell_type": "code",
   "execution_count": 3,
   "metadata": {},
   "outputs": [
    {
     "name": "stdout",
     "output_type": "stream",
     "text": [
      "Deleted empty folder: ../../../../Thomson Lab Dropbox/David Larios/activedrops/ubuntu/111624-C-E-G-RT/2p5ulTMB-0p5MT-1ulDNA_2/Pos0\n",
      "Deleted empty folder: ../../../../Thomson Lab Dropbox/David Larios/activedrops/ubuntu/111624-C-E-G-RT/2p5ulTMB-0p5MT-1ulDNA_2/Pos1\n",
      "Deleted empty folder: ../../../../Thomson Lab Dropbox/David Larios/activedrops/ubuntu/111624-C-E-G-RT/2p5ulTMB-0p5MT-1ulDNA_2/Pos10\n",
      "Deleted empty folder: ../../../../Thomson Lab Dropbox/David Larios/activedrops/ubuntu/111624-C-E-G-RT/2p5ulTMB-0p5MT-1ulDNA_2/Pos11\n",
      "Deleted empty folder: ../../../../Thomson Lab Dropbox/David Larios/activedrops/ubuntu/111624-C-E-G-RT/2p5ulTMB-0p5MT-1ulDNA_2/Pos12\n",
      "Deleted empty folder: ../../../../Thomson Lab Dropbox/David Larios/activedrops/ubuntu/111624-C-E-G-RT/2p5ulTMB-0p5MT-1ulDNA_2/Pos13\n",
      "Deleted empty folder: ../../../../Thomson Lab Dropbox/David Larios/activedrops/ubuntu/111624-C-E-G-RT/2p5ulTMB-0p5MT-1ulDNA_2/Pos14\n",
      "Deleted empty folder: ../../../../Thomson Lab Dropbox/David Larios/activedrops/ubuntu/111624-C-E-G-RT/2p5ulTMB-0p5MT-1ulDNA_2/Pos15\n",
      "Deleted empty folder: ../../../../Thomson Lab Dropbox/David Larios/activedrops/ubuntu/111624-C-E-G-RT/2p5ulTMB-0p5MT-1ulDNA_2/Pos16\n",
      "Deleted empty folder: ../../../../Thomson Lab Dropbox/David Larios/activedrops/ubuntu/111624-C-E-G-RT/2p5ulTMB-0p5MT-1ulDNA_2/Pos17\n",
      "Deleted empty folder: ../../../../Thomson Lab Dropbox/David Larios/activedrops/ubuntu/111624-C-E-G-RT/2p5ulTMB-0p5MT-1ulDNA_2/Pos18\n",
      "Deleted empty folder: ../../../../Thomson Lab Dropbox/David Larios/activedrops/ubuntu/111624-C-E-G-RT/2p5ulTMB-0p5MT-1ulDNA_2/Pos19\n",
      "Deleted empty folder: ../../../../Thomson Lab Dropbox/David Larios/activedrops/ubuntu/111624-C-E-G-RT/2p5ulTMB-0p5MT-1ulDNA_2/Pos2\n",
      "Deleted empty folder: ../../../../Thomson Lab Dropbox/David Larios/activedrops/ubuntu/111624-C-E-G-RT/2p5ulTMB-0p5MT-1ulDNA_2/Pos20\n",
      "Deleted empty folder: ../../../../Thomson Lab Dropbox/David Larios/activedrops/ubuntu/111624-C-E-G-RT/2p5ulTMB-0p5MT-1ulDNA_2/Pos21\n",
      "Deleted empty folder: ../../../../Thomson Lab Dropbox/David Larios/activedrops/ubuntu/111624-C-E-G-RT/2p5ulTMB-0p5MT-1ulDNA_2/Pos22\n",
      "Deleted empty folder: ../../../../Thomson Lab Dropbox/David Larios/activedrops/ubuntu/111624-C-E-G-RT/2p5ulTMB-0p5MT-1ulDNA_2/Pos23\n",
      "Deleted empty folder: ../../../../Thomson Lab Dropbox/David Larios/activedrops/ubuntu/111624-C-E-G-RT/2p5ulTMB-0p5MT-1ulDNA_2/Pos24\n",
      "Deleted empty folder: ../../../../Thomson Lab Dropbox/David Larios/activedrops/ubuntu/111624-C-E-G-RT/2p5ulTMB-0p5MT-1ulDNA_2/Pos3\n",
      "Deleted empty folder: ../../../../Thomson Lab Dropbox/David Larios/activedrops/ubuntu/111624-C-E-G-RT/2p5ulTMB-0p5MT-1ulDNA_2/Pos4\n",
      "Deleted empty folder: ../../../../Thomson Lab Dropbox/David Larios/activedrops/ubuntu/111624-C-E-G-RT/2p5ulTMB-0p5MT-1ulDNA_2/Pos5\n",
      "Deleted empty folder: ../../../../Thomson Lab Dropbox/David Larios/activedrops/ubuntu/111624-C-E-G-RT/2p5ulTMB-0p5MT-1ulDNA_2/Pos6\n",
      "Deleted empty folder: ../../../../Thomson Lab Dropbox/David Larios/activedrops/ubuntu/111624-C-E-G-RT/2p5ulTMB-0p5MT-1ulDNA_2/Pos7\n",
      "Deleted empty folder: ../../../../Thomson Lab Dropbox/David Larios/activedrops/ubuntu/111624-C-E-G-RT/2p5ulTMB-0p5MT-1ulDNA_2/Pos8\n",
      "Deleted empty folder: ../../../../Thomson Lab Dropbox/David Larios/activedrops/ubuntu/111624-C-E-G-RT/2p5ulTMB-0p5MT-1ulDNA_2/Pos9\n",
      "Deleted empty folder: ../../../../Thomson Lab Dropbox/David Larios/activedrops/ubuntu/111624-C-E-G-RT/2p5ulTMB-0p5MT-1ulDNA_2/\n",
      "Deleted empty folder: ../../../../Thomson Lab Dropbox/David Larios/activedrops/ubuntu/111624-C-E-G-RT/2p5ulTMB-0p5MT-1ulDNA_3/Pos0\n",
      "Deleted empty folder: ../../../../Thomson Lab Dropbox/David Larios/activedrops/ubuntu/111624-C-E-G-RT/2p5ulTMB-0p5MT-1ulDNA_3/Pos1\n",
      "Deleted empty folder: ../../../../Thomson Lab Dropbox/David Larios/activedrops/ubuntu/111624-C-E-G-RT/2p5ulTMB-0p5MT-1ulDNA_3/Pos10\n",
      "Deleted empty folder: ../../../../Thomson Lab Dropbox/David Larios/activedrops/ubuntu/111624-C-E-G-RT/2p5ulTMB-0p5MT-1ulDNA_3/Pos11\n",
      "Deleted empty folder: ../../../../Thomson Lab Dropbox/David Larios/activedrops/ubuntu/111624-C-E-G-RT/2p5ulTMB-0p5MT-1ulDNA_3/Pos12\n",
      "Deleted empty folder: ../../../../Thomson Lab Dropbox/David Larios/activedrops/ubuntu/111624-C-E-G-RT/2p5ulTMB-0p5MT-1ulDNA_3/Pos13\n",
      "Deleted empty folder: ../../../../Thomson Lab Dropbox/David Larios/activedrops/ubuntu/111624-C-E-G-RT/2p5ulTMB-0p5MT-1ulDNA_3/Pos14\n",
      "Deleted empty folder: ../../../../Thomson Lab Dropbox/David Larios/activedrops/ubuntu/111624-C-E-G-RT/2p5ulTMB-0p5MT-1ulDNA_3/Pos15\n",
      "Deleted empty folder: ../../../../Thomson Lab Dropbox/David Larios/activedrops/ubuntu/111624-C-E-G-RT/2p5ulTMB-0p5MT-1ulDNA_3/Pos16\n",
      "Deleted empty folder: ../../../../Thomson Lab Dropbox/David Larios/activedrops/ubuntu/111624-C-E-G-RT/2p5ulTMB-0p5MT-1ulDNA_3/Pos17\n",
      "Deleted empty folder: ../../../../Thomson Lab Dropbox/David Larios/activedrops/ubuntu/111624-C-E-G-RT/2p5ulTMB-0p5MT-1ulDNA_3/Pos18\n",
      "Deleted empty folder: ../../../../Thomson Lab Dropbox/David Larios/activedrops/ubuntu/111624-C-E-G-RT/2p5ulTMB-0p5MT-1ulDNA_3/Pos19\n",
      "Deleted empty folder: ../../../../Thomson Lab Dropbox/David Larios/activedrops/ubuntu/111624-C-E-G-RT/2p5ulTMB-0p5MT-1ulDNA_3/Pos2\n",
      "Deleted empty folder: ../../../../Thomson Lab Dropbox/David Larios/activedrops/ubuntu/111624-C-E-G-RT/2p5ulTMB-0p5MT-1ulDNA_3/Pos20\n",
      "Deleted empty folder: ../../../../Thomson Lab Dropbox/David Larios/activedrops/ubuntu/111624-C-E-G-RT/2p5ulTMB-0p5MT-1ulDNA_3/Pos21\n",
      "Deleted empty folder: ../../../../Thomson Lab Dropbox/David Larios/activedrops/ubuntu/111624-C-E-G-RT/2p5ulTMB-0p5MT-1ulDNA_3/Pos22\n",
      "Deleted empty folder: ../../../../Thomson Lab Dropbox/David Larios/activedrops/ubuntu/111624-C-E-G-RT/2p5ulTMB-0p5MT-1ulDNA_3/Pos23\n",
      "Deleted empty folder: ../../../../Thomson Lab Dropbox/David Larios/activedrops/ubuntu/111624-C-E-G-RT/2p5ulTMB-0p5MT-1ulDNA_3/Pos24\n",
      "Deleted empty folder: ../../../../Thomson Lab Dropbox/David Larios/activedrops/ubuntu/111624-C-E-G-RT/2p5ulTMB-0p5MT-1ulDNA_3/Pos3\n",
      "Deleted empty folder: ../../../../Thomson Lab Dropbox/David Larios/activedrops/ubuntu/111624-C-E-G-RT/2p5ulTMB-0p5MT-1ulDNA_3/Pos4\n",
      "Deleted empty folder: ../../../../Thomson Lab Dropbox/David Larios/activedrops/ubuntu/111624-C-E-G-RT/2p5ulTMB-0p5MT-1ulDNA_3/Pos5\n",
      "Deleted empty folder: ../../../../Thomson Lab Dropbox/David Larios/activedrops/ubuntu/111624-C-E-G-RT/2p5ulTMB-0p5MT-1ulDNA_3/Pos6\n",
      "Deleted empty folder: ../../../../Thomson Lab Dropbox/David Larios/activedrops/ubuntu/111624-C-E-G-RT/2p5ulTMB-0p5MT-1ulDNA_3/Pos7\n",
      "Deleted empty folder: ../../../../Thomson Lab Dropbox/David Larios/activedrops/ubuntu/111624-C-E-G-RT/2p5ulTMB-0p5MT-1ulDNA_3/Pos8\n",
      "Deleted empty folder: ../../../../Thomson Lab Dropbox/David Larios/activedrops/ubuntu/111624-C-E-G-RT/2p5ulTMB-0p5MT-1ulDNA_3/Pos9\n",
      "Deleted empty folder: ../../../../Thomson Lab Dropbox/David Larios/activedrops/ubuntu/111624-C-E-G-RT/2p5ulTMB-0p5MT-1ulDNA_3/\n",
      "Deleted empty folder: ../../../../Thomson Lab Dropbox/David Larios/activedrops/ubuntu/111624-C-E-G-RT/2p5ulTMB-0p5MT-1ulDNA_4/Pos0\n",
      "Deleted empty folder: ../../../../Thomson Lab Dropbox/David Larios/activedrops/ubuntu/111624-C-E-G-RT/2p5ulTMB-0p5MT-1ulDNA_4/Pos1\n",
      "Deleted empty folder: ../../../../Thomson Lab Dropbox/David Larios/activedrops/ubuntu/111624-C-E-G-RT/2p5ulTMB-0p5MT-1ulDNA_4/Pos10\n",
      "Deleted empty folder: ../../../../Thomson Lab Dropbox/David Larios/activedrops/ubuntu/111624-C-E-G-RT/2p5ulTMB-0p5MT-1ulDNA_4/Pos11\n",
      "Deleted empty folder: ../../../../Thomson Lab Dropbox/David Larios/activedrops/ubuntu/111624-C-E-G-RT/2p5ulTMB-0p5MT-1ulDNA_4/Pos12\n",
      "Deleted empty folder: ../../../../Thomson Lab Dropbox/David Larios/activedrops/ubuntu/111624-C-E-G-RT/2p5ulTMB-0p5MT-1ulDNA_4/Pos13\n",
      "Deleted empty folder: ../../../../Thomson Lab Dropbox/David Larios/activedrops/ubuntu/111624-C-E-G-RT/2p5ulTMB-0p5MT-1ulDNA_4/Pos14\n",
      "Deleted empty folder: ../../../../Thomson Lab Dropbox/David Larios/activedrops/ubuntu/111624-C-E-G-RT/2p5ulTMB-0p5MT-1ulDNA_4/Pos15\n",
      "Deleted empty folder: ../../../../Thomson Lab Dropbox/David Larios/activedrops/ubuntu/111624-C-E-G-RT/2p5ulTMB-0p5MT-1ulDNA_4/Pos16\n",
      "Deleted empty folder: ../../../../Thomson Lab Dropbox/David Larios/activedrops/ubuntu/111624-C-E-G-RT/2p5ulTMB-0p5MT-1ulDNA_4/Pos17\n",
      "Deleted empty folder: ../../../../Thomson Lab Dropbox/David Larios/activedrops/ubuntu/111624-C-E-G-RT/2p5ulTMB-0p5MT-1ulDNA_4/Pos18\n",
      "Deleted empty folder: ../../../../Thomson Lab Dropbox/David Larios/activedrops/ubuntu/111624-C-E-G-RT/2p5ulTMB-0p5MT-1ulDNA_4/Pos19\n",
      "Deleted empty folder: ../../../../Thomson Lab Dropbox/David Larios/activedrops/ubuntu/111624-C-E-G-RT/2p5ulTMB-0p5MT-1ulDNA_4/Pos2\n",
      "Deleted empty folder: ../../../../Thomson Lab Dropbox/David Larios/activedrops/ubuntu/111624-C-E-G-RT/2p5ulTMB-0p5MT-1ulDNA_4/Pos20\n",
      "Deleted empty folder: ../../../../Thomson Lab Dropbox/David Larios/activedrops/ubuntu/111624-C-E-G-RT/2p5ulTMB-0p5MT-1ulDNA_4/Pos21\n",
      "Deleted empty folder: ../../../../Thomson Lab Dropbox/David Larios/activedrops/ubuntu/111624-C-E-G-RT/2p5ulTMB-0p5MT-1ulDNA_4/Pos22\n",
      "Deleted empty folder: ../../../../Thomson Lab Dropbox/David Larios/activedrops/ubuntu/111624-C-E-G-RT/2p5ulTMB-0p5MT-1ulDNA_4/Pos23\n",
      "Deleted empty folder: ../../../../Thomson Lab Dropbox/David Larios/activedrops/ubuntu/111624-C-E-G-RT/2p5ulTMB-0p5MT-1ulDNA_4/Pos24\n",
      "Deleted empty folder: ../../../../Thomson Lab Dropbox/David Larios/activedrops/ubuntu/111624-C-E-G-RT/2p5ulTMB-0p5MT-1ulDNA_4/Pos3\n",
      "Deleted empty folder: ../../../../Thomson Lab Dropbox/David Larios/activedrops/ubuntu/111624-C-E-G-RT/2p5ulTMB-0p5MT-1ulDNA_4/Pos4\n",
      "Deleted empty folder: ../../../../Thomson Lab Dropbox/David Larios/activedrops/ubuntu/111624-C-E-G-RT/2p5ulTMB-0p5MT-1ulDNA_4/Pos5\n",
      "Deleted empty folder: ../../../../Thomson Lab Dropbox/David Larios/activedrops/ubuntu/111624-C-E-G-RT/2p5ulTMB-0p5MT-1ulDNA_4/Pos6\n",
      "Deleted empty folder: ../../../../Thomson Lab Dropbox/David Larios/activedrops/ubuntu/111624-C-E-G-RT/2p5ulTMB-0p5MT-1ulDNA_4/Pos7\n",
      "Deleted empty folder: ../../../../Thomson Lab Dropbox/David Larios/activedrops/ubuntu/111624-C-E-G-RT/2p5ulTMB-0p5MT-1ulDNA_4/Pos8\n",
      "Deleted empty folder: ../../../../Thomson Lab Dropbox/David Larios/activedrops/ubuntu/111624-C-E-G-RT/2p5ulTMB-0p5MT-1ulDNA_4/Pos9\n",
      "Deleted empty folder: ../../../../Thomson Lab Dropbox/David Larios/activedrops/ubuntu/111624-C-E-G-RT/2p5ulTMB-0p5MT-1ulDNA_4/\n",
      "Deleted empty folder: ../../../../Thomson Lab Dropbox/David Larios/activedrops/ubuntu/111624-C-E-G-RT/2p5ulTMB-0p5MT-1ulDNA_5/Pos0\n",
      "Deleted empty folder: ../../../../Thomson Lab Dropbox/David Larios/activedrops/ubuntu/111624-C-E-G-RT/2p5ulTMB-0p5MT-1ulDNA_5/Pos1\n",
      "Deleted empty folder: ../../../../Thomson Lab Dropbox/David Larios/activedrops/ubuntu/111624-C-E-G-RT/2p5ulTMB-0p5MT-1ulDNA_5/Pos10\n",
      "Deleted empty folder: ../../../../Thomson Lab Dropbox/David Larios/activedrops/ubuntu/111624-C-E-G-RT/2p5ulTMB-0p5MT-1ulDNA_5/Pos11\n",
      "Deleted empty folder: ../../../../Thomson Lab Dropbox/David Larios/activedrops/ubuntu/111624-C-E-G-RT/2p5ulTMB-0p5MT-1ulDNA_5/Pos12\n",
      "Deleted empty folder: ../../../../Thomson Lab Dropbox/David Larios/activedrops/ubuntu/111624-C-E-G-RT/2p5ulTMB-0p5MT-1ulDNA_5/Pos13\n",
      "Deleted empty folder: ../../../../Thomson Lab Dropbox/David Larios/activedrops/ubuntu/111624-C-E-G-RT/2p5ulTMB-0p5MT-1ulDNA_5/Pos14\n",
      "Deleted empty folder: ../../../../Thomson Lab Dropbox/David Larios/activedrops/ubuntu/111624-C-E-G-RT/2p5ulTMB-0p5MT-1ulDNA_5/Pos15\n",
      "Deleted empty folder: ../../../../Thomson Lab Dropbox/David Larios/activedrops/ubuntu/111624-C-E-G-RT/2p5ulTMB-0p5MT-1ulDNA_5/Pos16\n",
      "Deleted empty folder: ../../../../Thomson Lab Dropbox/David Larios/activedrops/ubuntu/111624-C-E-G-RT/2p5ulTMB-0p5MT-1ulDNA_5/Pos17\n",
      "Deleted empty folder: ../../../../Thomson Lab Dropbox/David Larios/activedrops/ubuntu/111624-C-E-G-RT/2p5ulTMB-0p5MT-1ulDNA_5/Pos18\n",
      "Deleted empty folder: ../../../../Thomson Lab Dropbox/David Larios/activedrops/ubuntu/111624-C-E-G-RT/2p5ulTMB-0p5MT-1ulDNA_5/Pos19\n",
      "Deleted empty folder: ../../../../Thomson Lab Dropbox/David Larios/activedrops/ubuntu/111624-C-E-G-RT/2p5ulTMB-0p5MT-1ulDNA_5/Pos2\n",
      "Deleted empty folder: ../../../../Thomson Lab Dropbox/David Larios/activedrops/ubuntu/111624-C-E-G-RT/2p5ulTMB-0p5MT-1ulDNA_5/Pos20\n",
      "Deleted empty folder: ../../../../Thomson Lab Dropbox/David Larios/activedrops/ubuntu/111624-C-E-G-RT/2p5ulTMB-0p5MT-1ulDNA_5/Pos21\n",
      "Deleted empty folder: ../../../../Thomson Lab Dropbox/David Larios/activedrops/ubuntu/111624-C-E-G-RT/2p5ulTMB-0p5MT-1ulDNA_5/Pos22\n",
      "Deleted empty folder: ../../../../Thomson Lab Dropbox/David Larios/activedrops/ubuntu/111624-C-E-G-RT/2p5ulTMB-0p5MT-1ulDNA_5/Pos23\n",
      "Deleted empty folder: ../../../../Thomson Lab Dropbox/David Larios/activedrops/ubuntu/111624-C-E-G-RT/2p5ulTMB-0p5MT-1ulDNA_5/Pos24\n",
      "Deleted empty folder: ../../../../Thomson Lab Dropbox/David Larios/activedrops/ubuntu/111624-C-E-G-RT/2p5ulTMB-0p5MT-1ulDNA_5/Pos3\n",
      "Deleted empty folder: ../../../../Thomson Lab Dropbox/David Larios/activedrops/ubuntu/111624-C-E-G-RT/2p5ulTMB-0p5MT-1ulDNA_5/Pos4\n",
      "Deleted empty folder: ../../../../Thomson Lab Dropbox/David Larios/activedrops/ubuntu/111624-C-E-G-RT/2p5ulTMB-0p5MT-1ulDNA_5/Pos5\n",
      "Deleted empty folder: ../../../../Thomson Lab Dropbox/David Larios/activedrops/ubuntu/111624-C-E-G-RT/2p5ulTMB-0p5MT-1ulDNA_5/Pos6\n",
      "Deleted empty folder: ../../../../Thomson Lab Dropbox/David Larios/activedrops/ubuntu/111624-C-E-G-RT/2p5ulTMB-0p5MT-1ulDNA_5/Pos7\n",
      "Deleted empty folder: ../../../../Thomson Lab Dropbox/David Larios/activedrops/ubuntu/111624-C-E-G-RT/2p5ulTMB-0p5MT-1ulDNA_5/Pos8\n",
      "Deleted empty folder: ../../../../Thomson Lab Dropbox/David Larios/activedrops/ubuntu/111624-C-E-G-RT/2p5ulTMB-0p5MT-1ulDNA_5/Pos9\n",
      "Deleted empty folder: ../../../../Thomson Lab Dropbox/David Larios/activedrops/ubuntu/111624-C-E-G-RT/2p5ulTMB-0p5MT-1ulDNA_5/\n",
      "\n",
      "Checking final consolidated folders:\n",
      "Images in final ../../../../Thomson Lab Dropbox/David Larios/activedrops/ubuntu/111624-C-E-G-RT/2p5ulTMB-0p5MT-1ulDNA_/Pos0: 2974\n",
      "Images in final ../../../../Thomson Lab Dropbox/David Larios/activedrops/ubuntu/111624-C-E-G-RT/2p5ulTMB-0p5MT-1ulDNA_/Pos1: 2974\n",
      "Images in final ../../../../Thomson Lab Dropbox/David Larios/activedrops/ubuntu/111624-C-E-G-RT/2p5ulTMB-0p5MT-1ulDNA_/Pos10: 2974\n",
      "Images in final ../../../../Thomson Lab Dropbox/David Larios/activedrops/ubuntu/111624-C-E-G-RT/2p5ulTMB-0p5MT-1ulDNA_/Pos11: 2974\n",
      "Images in final ../../../../Thomson Lab Dropbox/David Larios/activedrops/ubuntu/111624-C-E-G-RT/2p5ulTMB-0p5MT-1ulDNA_/Pos12: 2974\n",
      "Images in final ../../../../Thomson Lab Dropbox/David Larios/activedrops/ubuntu/111624-C-E-G-RT/2p5ulTMB-0p5MT-1ulDNA_/Pos13: 2974\n",
      "Images in final ../../../../Thomson Lab Dropbox/David Larios/activedrops/ubuntu/111624-C-E-G-RT/2p5ulTMB-0p5MT-1ulDNA_/Pos14: 2974\n",
      "Images in final ../../../../Thomson Lab Dropbox/David Larios/activedrops/ubuntu/111624-C-E-G-RT/2p5ulTMB-0p5MT-1ulDNA_/Pos15: 2974\n",
      "Images in final ../../../../Thomson Lab Dropbox/David Larios/activedrops/ubuntu/111624-C-E-G-RT/2p5ulTMB-0p5MT-1ulDNA_/Pos16: 2974\n",
      "Images in final ../../../../Thomson Lab Dropbox/David Larios/activedrops/ubuntu/111624-C-E-G-RT/2p5ulTMB-0p5MT-1ulDNA_/Pos17: 2974\n",
      "Images in final ../../../../Thomson Lab Dropbox/David Larios/activedrops/ubuntu/111624-C-E-G-RT/2p5ulTMB-0p5MT-1ulDNA_/Pos18: 2974\n",
      "Images in final ../../../../Thomson Lab Dropbox/David Larios/activedrops/ubuntu/111624-C-E-G-RT/2p5ulTMB-0p5MT-1ulDNA_/Pos19: 2974\n",
      "Images in final ../../../../Thomson Lab Dropbox/David Larios/activedrops/ubuntu/111624-C-E-G-RT/2p5ulTMB-0p5MT-1ulDNA_/Pos2: 2974\n",
      "Images in final ../../../../Thomson Lab Dropbox/David Larios/activedrops/ubuntu/111624-C-E-G-RT/2p5ulTMB-0p5MT-1ulDNA_/Pos20: 2974\n",
      "Images in final ../../../../Thomson Lab Dropbox/David Larios/activedrops/ubuntu/111624-C-E-G-RT/2p5ulTMB-0p5MT-1ulDNA_/Pos21: 2974\n",
      "Images in final ../../../../Thomson Lab Dropbox/David Larios/activedrops/ubuntu/111624-C-E-G-RT/2p5ulTMB-0p5MT-1ulDNA_/Pos22: 2974\n",
      "Images in final ../../../../Thomson Lab Dropbox/David Larios/activedrops/ubuntu/111624-C-E-G-RT/2p5ulTMB-0p5MT-1ulDNA_/Pos23: 2974\n",
      "Images in final ../../../../Thomson Lab Dropbox/David Larios/activedrops/ubuntu/111624-C-E-G-RT/2p5ulTMB-0p5MT-1ulDNA_/Pos24: 2974\n",
      "Images in final ../../../../Thomson Lab Dropbox/David Larios/activedrops/ubuntu/111624-C-E-G-RT/2p5ulTMB-0p5MT-1ulDNA_/Pos3: 2974\n",
      "Images in final ../../../../Thomson Lab Dropbox/David Larios/activedrops/ubuntu/111624-C-E-G-RT/2p5ulTMB-0p5MT-1ulDNA_/Pos4: 2974\n",
      "Images in final ../../../../Thomson Lab Dropbox/David Larios/activedrops/ubuntu/111624-C-E-G-RT/2p5ulTMB-0p5MT-1ulDNA_/Pos5: 2974\n",
      "Images in final ../../../../Thomson Lab Dropbox/David Larios/activedrops/ubuntu/111624-C-E-G-RT/2p5ulTMB-0p5MT-1ulDNA_/Pos6: 2974\n",
      "Images in final ../../../../Thomson Lab Dropbox/David Larios/activedrops/ubuntu/111624-C-E-G-RT/2p5ulTMB-0p5MT-1ulDNA_/Pos7: 2974\n",
      "Images in final ../../../../Thomson Lab Dropbox/David Larios/activedrops/ubuntu/111624-C-E-G-RT/2p5ulTMB-0p5MT-1ulDNA_/Pos8: 2974\n",
      "Images in final ../../../../Thomson Lab Dropbox/David Larios/activedrops/ubuntu/111624-C-E-G-RT/2p5ulTMB-0p5MT-1ulDNA_/Pos9: 2974\n",
      "Renaming, moving, and cleanup completed.\n"
     ]
    }
   ],
   "source": [
    "# Example usage\n",
    "base_dir = \"../../../../Thomson Lab Dropbox/David Larios/activedrops/ubuntu/111624-C-E-G-RT/\"\n",
    "qd.consolidate_images(base_dir)"
   ]
  },
  {
   "cell_type": "code",
   "execution_count": 29,
   "metadata": {},
   "outputs": [
    {
     "name": "stdout",
     "output_type": "stream",
     "text": [
      "Warning: ../../../../Thomson Lab Dropbox/David Larios/activedrops/ubuntu/111624-C-E-G-RT/2p5ulTMB-0p5MT-1ulDNA_/Pos0 does not exist. Skipping.\n",
      "Warning: ../../../../Thomson Lab Dropbox/David Larios/activedrops/ubuntu/111624-C-E-G-RT/2p5ulTMB-0p5MT-1ulDNA_/Pos1 does not exist. Skipping.\n",
      "Warning: ../../../../Thomson Lab Dropbox/David Larios/activedrops/ubuntu/111624-C-E-G-RT/2p5ulTMB-0p5MT-1ulDNA_/Pos2 does not exist. Skipping.\n",
      "Warning: ../../../../Thomson Lab Dropbox/David Larios/activedrops/ubuntu/111624-C-E-G-RT/2p5ulTMB-0p5MT-1ulDNA_/Pos3 does not exist. Skipping.\n",
      "Warning: ../../../../Thomson Lab Dropbox/David Larios/activedrops/ubuntu/111624-C-E-G-RT/2p5ulTMB-0p5MT-1ulDNA_/Pos4 does not exist. Skipping.\n",
      "Warning: ../../../../Thomson Lab Dropbox/David Larios/activedrops/ubuntu/111624-C-E-G-RT/2p5ulTMB-0p5MT-1ulDNA_/Pos5 does not exist. Skipping.\n",
      "Warning: ../../../../Thomson Lab Dropbox/David Larios/activedrops/ubuntu/111624-C-E-G-RT/2p5ulTMB-0p5MT-1ulDNA_/Pos6 does not exist. Skipping.\n",
      "Warning: ../../../../Thomson Lab Dropbox/David Larios/activedrops/ubuntu/111624-C-E-G-RT/2p5ulTMB-0p5MT-1ulDNA_/Pos7 does not exist. Skipping.\n",
      "Warning: ../../../../Thomson Lab Dropbox/David Larios/activedrops/ubuntu/111624-C-E-G-RT/2p5ulTMB-0p5MT-1ulDNA_/Pos8 does not exist. Skipping.\n",
      "Warning: ../../../../Thomson Lab Dropbox/David Larios/activedrops/ubuntu/111624-C-E-G-RT/2p5ulTMB-0p5MT-1ulDNA_/Pos9 does not exist. Skipping.\n",
      "Warning: ../../../../Thomson Lab Dropbox/David Larios/activedrops/ubuntu/111624-C-E-G-RT/2p5ulTMB-0p5MT-1ulDNA_/Pos10 does not exist. Skipping.\n",
      "Warning: ../../../../Thomson Lab Dropbox/David Larios/activedrops/ubuntu/111624-C-E-G-RT/2p5ulTMB-0p5MT-1ulDNA_/Pos11 does not exist. Skipping.\n",
      "Warning: ../../../../Thomson Lab Dropbox/David Larios/activedrops/ubuntu/111624-C-E-G-RT/2p5ulTMB-0p5MT-1ulDNA_/Pos12 does not exist. Skipping.\n",
      "Warning: ../../../../Thomson Lab Dropbox/David Larios/activedrops/ubuntu/111624-C-E-G-RT/2p5ulTMB-0p5MT-1ulDNA_/Pos13 does not exist. Skipping.\n",
      "Warning: ../../../../Thomson Lab Dropbox/David Larios/activedrops/ubuntu/111624-C-E-G-RT/2p5ulTMB-0p5MT-1ulDNA_/Pos14 does not exist. Skipping.\n",
      "Warning: ../../../../Thomson Lab Dropbox/David Larios/activedrops/ubuntu/111624-C-E-G-RT/2p5ulTMB-0p5MT-1ulDNA_/Pos15 does not exist. Skipping.\n",
      "Warning: ../../../../Thomson Lab Dropbox/David Larios/activedrops/ubuntu/111624-C-E-G-RT/2p5ulTMB-0p5MT-1ulDNA_/Pos16 does not exist. Skipping.\n",
      "Warning: ../../../../Thomson Lab Dropbox/David Larios/activedrops/ubuntu/111624-C-E-G-RT/2p5ulTMB-0p5MT-1ulDNA_/Pos17 does not exist. Skipping.\n",
      "Warning: ../../../../Thomson Lab Dropbox/David Larios/activedrops/ubuntu/111624-C-E-G-RT/2p5ulTMB-0p5MT-1ulDNA_/Pos18 does not exist. Skipping.\n",
      "Warning: ../../../../Thomson Lab Dropbox/David Larios/activedrops/ubuntu/111624-C-E-G-RT/2p5ulTMB-0p5MT-1ulDNA_/Pos19 does not exist. Skipping.\n",
      "Warning: ../../../../Thomson Lab Dropbox/David Larios/activedrops/ubuntu/111624-C-E-G-RT/2p5ulTMB-0p5MT-1ulDNA_/Pos20 does not exist. Skipping.\n",
      "Warning: ../../../../Thomson Lab Dropbox/David Larios/activedrops/ubuntu/111624-C-E-G-RT/2p5ulTMB-0p5MT-1ulDNA_/Pos21 does not exist. Skipping.\n",
      "Warning: ../../../../Thomson Lab Dropbox/David Larios/activedrops/ubuntu/111624-C-E-G-RT/2p5ulTMB-0p5MT-1ulDNA_/Pos22 does not exist. Skipping.\n",
      "Warning: ../../../../Thomson Lab Dropbox/David Larios/activedrops/ubuntu/111624-C-E-G-RT/2p5ulTMB-0p5MT-1ulDNA_/Pos23 does not exist. Skipping.\n",
      "Warning: ../../../../Thomson Lab Dropbox/David Larios/activedrops/ubuntu/111624-C-E-G-RT/2p5ulTMB-0p5MT-1ulDNA_/Pos24 does not exist. Skipping.\n",
      "Conditions: ['C_1p25nM', 'C_2p5nM', 'C_5nM', 'C_10nM', 'C_20nM', 'C_40nM', 'C_80nM', 'C_160nM', 'E_1p25nM', 'E_2p5nM', 'E_5nM', 'E_10nM', 'E_20nM', 'E_40nM', 'E_80nM', 'E_160nM', 'G_1p25nM', 'G_2p5nM', 'G_5nM', 'G_10nM', 'G_20nM', 'G_40nM', 'G_80nM', 'G_160nM', 'negative']\n",
      "Subconditions: ['Rep1']\n"
     ]
    }
   ],
   "source": [
    "# Example usage\n",
    "data_path = \"../../../../Thomson Lab Dropbox/David Larios/activedrops/ubuntu/111624-C-E-G-RT/2p5ulTMB-0p5MT-1ulDNA_/\"\n",
    "\n",
    "calibration_curve_paths = sorted(glob.glob(\"../../../../Thomson Lab Dropbox/David Larios/activedrops/calibration-50ms/***ugml.tif\"))\n",
    "\n",
    "\n",
    "conditions_dict = {\n",
    "    \"C_160nM\": \"Pos0\", \n",
    "    \"C_80nM\": \"Pos1\",\n",
    "    \"C_40nM\": \"Pos2\",\n",
    "    \"C_20nM\": \"Pos3\",\n",
    "    \"C_10nM\": \"Pos4\",\n",
    "    \"C_5nM\": \"Pos5\",\n",
    "    \"C_2p5nM\": \"Pos6\",\n",
    "    \"C_1p25nM\": \"Pos7\",\n",
    "    \"E_160nM\": \"Pos8\",\n",
    "    \"E_80nM\": \"Pos9\",\n",
    "    \"E_40nM\": \"Pos10\",\n",
    "    \"E_20nM\": \"Pos11\",\n",
    "    \"E_10nM\": \"Pos12\",\n",
    "    \"E_5nM\": \"Pos13\",\n",
    "    \"E_2p5nM\": \"Pos14\",\n",
    "    \"E_1p25nM\": \"Pos15\",\n",
    "    \"G_160nM\": \"Pos16\",\n",
    "    \"G_80nM\": \"Pos17\",\n",
    "    \"G_40nM\": \"Pos18\",\n",
    "    \"G_20nM\": \"Pos19\",\n",
    "    \"G_10nM\": \"Pos20\",\n",
    "    \"G_5nM\": \"Pos21\",\n",
    "    \"G_2p5nM\": \"Pos22\",\n",
    "    \"G_1p25nM\": \"Pos23\",\n",
    "    \"negative\": \"Pos24\",\n",
    "}\n",
    "\n",
    "# Organize PosX folders into condition folders\n",
    "qd.organize_conditions(data_path, conditions_dict)\n",
    "\n",
    "# Now run the existing functions to reorganize the tiffs and rename the folders\n",
    "conditions, subconditions = qd.prepare_conditions(data_path)\n",
    "time_interval_list = [75] * len(conditions)  # time intervals in seconds between frames for each condition\n",
    "\n",
    "print(\"Conditions:\", conditions)\n",
    "print(\"Subconditions:\", subconditions)\n",
    "\n"
   ]
  },
  {
   "cell_type": "code",
   "execution_count": 5,
   "metadata": {},
   "outputs": [
    {
     "name": "stdout",
     "output_type": "stream",
     "text": [
      "Moved .tif files from ../../../../Thomson Lab Dropbox/David Larios/activedrops/ubuntu/111624-C-E-G-RT/2p5ulTMB-0p5MT-1ulDNA_/C_1p25nM/Rep1 to ../../../../Thomson Lab Dropbox/David Larios/activedrops/ubuntu/111624-C-E-G-RT/2p5ulTMB-0p5MT-1ulDNA_/C_1p25nM/Rep1/original\n",
      "Moved .tif files from ../../../../Thomson Lab Dropbox/David Larios/activedrops/ubuntu/111624-C-E-G-RT/2p5ulTMB-0p5MT-1ulDNA_/C_2p5nM/Rep1 to ../../../../Thomson Lab Dropbox/David Larios/activedrops/ubuntu/111624-C-E-G-RT/2p5ulTMB-0p5MT-1ulDNA_/C_2p5nM/Rep1/original\n",
      "Moved .tif files from ../../../../Thomson Lab Dropbox/David Larios/activedrops/ubuntu/111624-C-E-G-RT/2p5ulTMB-0p5MT-1ulDNA_/C_5nM/Rep1 to ../../../../Thomson Lab Dropbox/David Larios/activedrops/ubuntu/111624-C-E-G-RT/2p5ulTMB-0p5MT-1ulDNA_/C_5nM/Rep1/original\n",
      "Moved .tif files from ../../../../Thomson Lab Dropbox/David Larios/activedrops/ubuntu/111624-C-E-G-RT/2p5ulTMB-0p5MT-1ulDNA_/C_10nM/Rep1 to ../../../../Thomson Lab Dropbox/David Larios/activedrops/ubuntu/111624-C-E-G-RT/2p5ulTMB-0p5MT-1ulDNA_/C_10nM/Rep1/original\n",
      "Moved .tif files from ../../../../Thomson Lab Dropbox/David Larios/activedrops/ubuntu/111624-C-E-G-RT/2p5ulTMB-0p5MT-1ulDNA_/C_20nM/Rep1 to ../../../../Thomson Lab Dropbox/David Larios/activedrops/ubuntu/111624-C-E-G-RT/2p5ulTMB-0p5MT-1ulDNA_/C_20nM/Rep1/original\n",
      "Moved .tif files from ../../../../Thomson Lab Dropbox/David Larios/activedrops/ubuntu/111624-C-E-G-RT/2p5ulTMB-0p5MT-1ulDNA_/C_40nM/Rep1 to ../../../../Thomson Lab Dropbox/David Larios/activedrops/ubuntu/111624-C-E-G-RT/2p5ulTMB-0p5MT-1ulDNA_/C_40nM/Rep1/original\n",
      "Moved .tif files from ../../../../Thomson Lab Dropbox/David Larios/activedrops/ubuntu/111624-C-E-G-RT/2p5ulTMB-0p5MT-1ulDNA_/C_80nM/Rep1 to ../../../../Thomson Lab Dropbox/David Larios/activedrops/ubuntu/111624-C-E-G-RT/2p5ulTMB-0p5MT-1ulDNA_/C_80nM/Rep1/original\n",
      "Moved .tif files from ../../../../Thomson Lab Dropbox/David Larios/activedrops/ubuntu/111624-C-E-G-RT/2p5ulTMB-0p5MT-1ulDNA_/C_160nM/Rep1 to ../../../../Thomson Lab Dropbox/David Larios/activedrops/ubuntu/111624-C-E-G-RT/2p5ulTMB-0p5MT-1ulDNA_/C_160nM/Rep1/original\n",
      "Moved .tif files from ../../../../Thomson Lab Dropbox/David Larios/activedrops/ubuntu/111624-C-E-G-RT/2p5ulTMB-0p5MT-1ulDNA_/E_1p25nM/Rep1 to ../../../../Thomson Lab Dropbox/David Larios/activedrops/ubuntu/111624-C-E-G-RT/2p5ulTMB-0p5MT-1ulDNA_/E_1p25nM/Rep1/original\n",
      "Moved .tif files from ../../../../Thomson Lab Dropbox/David Larios/activedrops/ubuntu/111624-C-E-G-RT/2p5ulTMB-0p5MT-1ulDNA_/E_2p5nM/Rep1 to ../../../../Thomson Lab Dropbox/David Larios/activedrops/ubuntu/111624-C-E-G-RT/2p5ulTMB-0p5MT-1ulDNA_/E_2p5nM/Rep1/original\n",
      "Moved .tif files from ../../../../Thomson Lab Dropbox/David Larios/activedrops/ubuntu/111624-C-E-G-RT/2p5ulTMB-0p5MT-1ulDNA_/E_5nM/Rep1 to ../../../../Thomson Lab Dropbox/David Larios/activedrops/ubuntu/111624-C-E-G-RT/2p5ulTMB-0p5MT-1ulDNA_/E_5nM/Rep1/original\n",
      "Moved .tif files from ../../../../Thomson Lab Dropbox/David Larios/activedrops/ubuntu/111624-C-E-G-RT/2p5ulTMB-0p5MT-1ulDNA_/E_10nM/Rep1 to ../../../../Thomson Lab Dropbox/David Larios/activedrops/ubuntu/111624-C-E-G-RT/2p5ulTMB-0p5MT-1ulDNA_/E_10nM/Rep1/original\n",
      "Moved .tif files from ../../../../Thomson Lab Dropbox/David Larios/activedrops/ubuntu/111624-C-E-G-RT/2p5ulTMB-0p5MT-1ulDNA_/E_20nM/Rep1 to ../../../../Thomson Lab Dropbox/David Larios/activedrops/ubuntu/111624-C-E-G-RT/2p5ulTMB-0p5MT-1ulDNA_/E_20nM/Rep1/original\n",
      "Moved .tif files from ../../../../Thomson Lab Dropbox/David Larios/activedrops/ubuntu/111624-C-E-G-RT/2p5ulTMB-0p5MT-1ulDNA_/E_40nM/Rep1 to ../../../../Thomson Lab Dropbox/David Larios/activedrops/ubuntu/111624-C-E-G-RT/2p5ulTMB-0p5MT-1ulDNA_/E_40nM/Rep1/original\n",
      "Moved .tif files from ../../../../Thomson Lab Dropbox/David Larios/activedrops/ubuntu/111624-C-E-G-RT/2p5ulTMB-0p5MT-1ulDNA_/E_80nM/Rep1 to ../../../../Thomson Lab Dropbox/David Larios/activedrops/ubuntu/111624-C-E-G-RT/2p5ulTMB-0p5MT-1ulDNA_/E_80nM/Rep1/original\n",
      "Moved .tif files from ../../../../Thomson Lab Dropbox/David Larios/activedrops/ubuntu/111624-C-E-G-RT/2p5ulTMB-0p5MT-1ulDNA_/E_160nM/Rep1 to ../../../../Thomson Lab Dropbox/David Larios/activedrops/ubuntu/111624-C-E-G-RT/2p5ulTMB-0p5MT-1ulDNA_/E_160nM/Rep1/original\n",
      "Moved .tif files from ../../../../Thomson Lab Dropbox/David Larios/activedrops/ubuntu/111624-C-E-G-RT/2p5ulTMB-0p5MT-1ulDNA_/G_1p25nM/Rep1 to ../../../../Thomson Lab Dropbox/David Larios/activedrops/ubuntu/111624-C-E-G-RT/2p5ulTMB-0p5MT-1ulDNA_/G_1p25nM/Rep1/original\n",
      "Moved .tif files from ../../../../Thomson Lab Dropbox/David Larios/activedrops/ubuntu/111624-C-E-G-RT/2p5ulTMB-0p5MT-1ulDNA_/G_2p5nM/Rep1 to ../../../../Thomson Lab Dropbox/David Larios/activedrops/ubuntu/111624-C-E-G-RT/2p5ulTMB-0p5MT-1ulDNA_/G_2p5nM/Rep1/original\n",
      "Moved .tif files from ../../../../Thomson Lab Dropbox/David Larios/activedrops/ubuntu/111624-C-E-G-RT/2p5ulTMB-0p5MT-1ulDNA_/G_5nM/Rep1 to ../../../../Thomson Lab Dropbox/David Larios/activedrops/ubuntu/111624-C-E-G-RT/2p5ulTMB-0p5MT-1ulDNA_/G_5nM/Rep1/original\n",
      "Moved .tif files from ../../../../Thomson Lab Dropbox/David Larios/activedrops/ubuntu/111624-C-E-G-RT/2p5ulTMB-0p5MT-1ulDNA_/G_10nM/Rep1 to ../../../../Thomson Lab Dropbox/David Larios/activedrops/ubuntu/111624-C-E-G-RT/2p5ulTMB-0p5MT-1ulDNA_/G_10nM/Rep1/original\n",
      "Moved .tif files from ../../../../Thomson Lab Dropbox/David Larios/activedrops/ubuntu/111624-C-E-G-RT/2p5ulTMB-0p5MT-1ulDNA_/G_20nM/Rep1 to ../../../../Thomson Lab Dropbox/David Larios/activedrops/ubuntu/111624-C-E-G-RT/2p5ulTMB-0p5MT-1ulDNA_/G_20nM/Rep1/original\n",
      "Moved .tif files from ../../../../Thomson Lab Dropbox/David Larios/activedrops/ubuntu/111624-C-E-G-RT/2p5ulTMB-0p5MT-1ulDNA_/G_40nM/Rep1 to ../../../../Thomson Lab Dropbox/David Larios/activedrops/ubuntu/111624-C-E-G-RT/2p5ulTMB-0p5MT-1ulDNA_/G_40nM/Rep1/original\n",
      "Moved .tif files from ../../../../Thomson Lab Dropbox/David Larios/activedrops/ubuntu/111624-C-E-G-RT/2p5ulTMB-0p5MT-1ulDNA_/G_80nM/Rep1 to ../../../../Thomson Lab Dropbox/David Larios/activedrops/ubuntu/111624-C-E-G-RT/2p5ulTMB-0p5MT-1ulDNA_/G_80nM/Rep1/original\n",
      "Moved .tif files from ../../../../Thomson Lab Dropbox/David Larios/activedrops/ubuntu/111624-C-E-G-RT/2p5ulTMB-0p5MT-1ulDNA_/G_160nM/Rep1 to ../../../../Thomson Lab Dropbox/David Larios/activedrops/ubuntu/111624-C-E-G-RT/2p5ulTMB-0p5MT-1ulDNA_/G_160nM/Rep1/original\n",
      "Moved .tif files from ../../../../Thomson Lab Dropbox/David Larios/activedrops/ubuntu/111624-C-E-G-RT/2p5ulTMB-0p5MT-1ulDNA_/negative/Rep1 to ../../../../Thomson Lab Dropbox/David Larios/activedrops/ubuntu/111624-C-E-G-RT/2p5ulTMB-0p5MT-1ulDNA_/negative/Rep1/original\n"
     ]
    }
   ],
   "source": [
    "qd.reorgTiffsToOriginal(data_path, conditions, subconditions)\n"
   ]
  },
  {
   "cell_type": "markdown",
   "metadata": {},
   "source": [
    "### Generate movies"
   ]
  },
  {
   "cell_type": "code",
   "execution_count": 9,
   "metadata": {},
   "outputs": [
    {
     "name": "stderr",
     "output_type": "stream",
     "text": [
      "Processing C_1p25nM - Rep1: 100%|██████████| 743/743 [01:32<00:00,  8.02it/s]\n",
      "Processing C_2p5nM - Rep1: 100%|██████████| 743/743 [01:32<00:00,  8.04it/s]\n",
      "Processing C_5nM - Rep1: 100%|██████████| 743/743 [01:32<00:00,  8.07it/s]\n",
      "Processing C_10nM - Rep1: 100%|██████████| 743/743 [01:33<00:00,  7.92it/s]\n",
      "Processing C_20nM - Rep1: 100%|██████████| 743/743 [01:34<00:00,  7.84it/s]\n",
      "Processing C_40nM - Rep1: 100%|██████████| 743/743 [01:32<00:00,  7.99it/s]\n",
      "Processing C_80nM - Rep1: 100%|██████████| 743/743 [01:31<00:00,  8.16it/s]\n",
      "Processing C_160nM - Rep1: 100%|██████████| 743/743 [01:33<00:00,  7.95it/s]\n",
      "Processing E_1p25nM - Rep1: 100%|██████████| 743/743 [01:33<00:00,  7.98it/s]\n",
      "Processing E_2p5nM - Rep1: 100%|██████████| 743/743 [01:33<00:00,  7.98it/s]\n",
      "Processing E_5nM - Rep1: 100%|██████████| 743/743 [01:27<00:00,  8.49it/s]\n",
      "Processing E_10nM - Rep1: 100%|██████████| 743/743 [01:25<00:00,  8.74it/s]\n",
      "Processing E_20nM - Rep1: 100%|██████████| 743/743 [01:27<00:00,  8.51it/s]\n",
      "Processing E_40nM - Rep1: 100%|██████████| 743/743 [01:27<00:00,  8.52it/s]\n",
      "Processing E_80nM - Rep1: 100%|██████████| 743/743 [01:27<00:00,  8.51it/s]\n",
      "Processing E_160nM - Rep1: 100%|██████████| 743/743 [01:26<00:00,  8.56it/s]\n",
      "Processing G_1p25nM - Rep1: 100%|██████████| 743/743 [01:25<00:00,  8.64it/s]\n",
      "Processing G_2p5nM - Rep1: 100%|██████████| 743/743 [01:27<00:00,  8.49it/s]\n",
      "Processing G_5nM - Rep1: 100%|██████████| 743/743 [01:29<00:00,  8.26it/s]\n",
      "Processing G_10nM - Rep1: 100%|██████████| 743/743 [01:33<00:00,  7.97it/s]\n",
      "Processing G_20nM - Rep1: 100%|██████████| 743/743 [01:33<00:00,  7.92it/s]\n",
      "Processing G_40nM - Rep1: 100%|██████████| 743/743 [01:33<00:00,  7.98it/s]\n",
      "Processing G_80nM - Rep1: 100%|██████████| 743/743 [01:34<00:00,  7.87it/s]\n",
      "Processing G_160nM - Rep1: 100%|██████████| 743/743 [01:32<00:00,  8.02it/s]\n",
      "Processing negative - Rep1: 100%|██████████| 743/743 [01:33<00:00,  7.98it/s]\n"
     ]
    }
   ],
   "source": [
    "# Call the function\n",
    "qd.fluorescence_heatmap(\n",
    "    data_path, \n",
    "    conditions, \n",
    "    subconditions, \n",
    "    channel='cy5', \n",
    "    time_interval_list=time_interval_list, \n",
    "    vmax=15, \n",
    "    skip_frames=2, \n",
    "    calibration_curve_paths=calibration_curve_paths, \n",
    "    show_scalebar=False,\n",
    "    )"
   ]
  },
  {
   "cell_type": "code",
   "execution_count": 11,
   "metadata": {},
   "outputs": [
    {
     "name": "stdout",
     "output_type": "stream",
     "text": [
      "Creating video for C_1p25nM - Rep1 with duration: 12.38 seconds.\n"
     ]
    },
    {
     "name": "stderr",
     "output_type": "stream",
     "text": [
      "Creating video for C_1p25nM - Rep1: 100%|██████████| 743/743 [00:57<00:00, 12.87it/s]\n"
     ]
    },
    {
     "name": "stdout",
     "output_type": "stream",
     "text": [
      "Creating video for C_2p5nM - Rep1 with duration: 12.38 seconds.\n"
     ]
    },
    {
     "name": "stderr",
     "output_type": "stream",
     "text": [
      "Creating video for C_2p5nM - Rep1: 100%|██████████| 743/743 [00:53<00:00, 13.97it/s]\n"
     ]
    },
    {
     "name": "stdout",
     "output_type": "stream",
     "text": [
      "Creating video for C_5nM - Rep1 with duration: 12.38 seconds.\n"
     ]
    },
    {
     "name": "stderr",
     "output_type": "stream",
     "text": [
      "Creating video for C_5nM - Rep1: 100%|██████████| 743/743 [00:57<00:00, 12.98it/s]\n"
     ]
    },
    {
     "name": "stdout",
     "output_type": "stream",
     "text": [
      "Creating video for C_10nM - Rep1 with duration: 12.38 seconds.\n"
     ]
    },
    {
     "name": "stderr",
     "output_type": "stream",
     "text": [
      "Creating video for C_10nM - Rep1: 100%|██████████| 743/743 [00:57<00:00, 12.83it/s]\n"
     ]
    },
    {
     "name": "stdout",
     "output_type": "stream",
     "text": [
      "Creating video for C_20nM - Rep1 with duration: 12.38 seconds.\n"
     ]
    },
    {
     "name": "stderr",
     "output_type": "stream",
     "text": [
      "Creating video for C_20nM - Rep1: 100%|██████████| 743/743 [00:55<00:00, 13.50it/s]\n"
     ]
    },
    {
     "name": "stdout",
     "output_type": "stream",
     "text": [
      "Creating video for C_40nM - Rep1 with duration: 12.38 seconds.\n"
     ]
    },
    {
     "name": "stderr",
     "output_type": "stream",
     "text": [
      "Creating video for C_40nM - Rep1: 100%|██████████| 743/743 [00:53<00:00, 13.87it/s]\n"
     ]
    },
    {
     "name": "stdout",
     "output_type": "stream",
     "text": [
      "Creating video for C_80nM - Rep1 with duration: 12.38 seconds.\n"
     ]
    },
    {
     "name": "stderr",
     "output_type": "stream",
     "text": [
      "Creating video for C_80nM - Rep1: 100%|██████████| 743/743 [00:53<00:00, 13.95it/s]\n"
     ]
    },
    {
     "name": "stdout",
     "output_type": "stream",
     "text": [
      "Creating video for C_160nM - Rep1 with duration: 12.38 seconds.\n"
     ]
    },
    {
     "name": "stderr",
     "output_type": "stream",
     "text": [
      "Creating video for C_160nM - Rep1: 100%|██████████| 743/743 [01:00<00:00, 12.32it/s]\n"
     ]
    },
    {
     "name": "stdout",
     "output_type": "stream",
     "text": [
      "Creating video for E_1p25nM - Rep1 with duration: 12.38 seconds.\n"
     ]
    },
    {
     "name": "stderr",
     "output_type": "stream",
     "text": [
      "Creating video for E_1p25nM - Rep1: 100%|██████████| 743/743 [00:50<00:00, 14.78it/s]\n"
     ]
    },
    {
     "name": "stdout",
     "output_type": "stream",
     "text": [
      "Creating video for E_2p5nM - Rep1 with duration: 12.38 seconds.\n"
     ]
    },
    {
     "name": "stderr",
     "output_type": "stream",
     "text": [
      "Creating video for E_2p5nM - Rep1: 100%|██████████| 743/743 [00:51<00:00, 14.41it/s]\n"
     ]
    },
    {
     "name": "stdout",
     "output_type": "stream",
     "text": [
      "Creating video for E_5nM - Rep1 with duration: 12.38 seconds.\n"
     ]
    },
    {
     "name": "stderr",
     "output_type": "stream",
     "text": [
      "Creating video for E_5nM - Rep1: 100%|██████████| 743/743 [00:54<00:00, 13.63it/s]\n"
     ]
    },
    {
     "name": "stdout",
     "output_type": "stream",
     "text": [
      "Creating video for E_10nM - Rep1 with duration: 12.38 seconds.\n"
     ]
    },
    {
     "name": "stderr",
     "output_type": "stream",
     "text": [
      "Creating video for E_10nM - Rep1: 100%|██████████| 743/743 [00:51<00:00, 14.55it/s]\n"
     ]
    },
    {
     "name": "stdout",
     "output_type": "stream",
     "text": [
      "Creating video for E_20nM - Rep1 with duration: 12.38 seconds.\n"
     ]
    },
    {
     "name": "stderr",
     "output_type": "stream",
     "text": [
      "Creating video for E_20nM - Rep1: 100%|██████████| 743/743 [00:57<00:00, 12.94it/s]\n"
     ]
    },
    {
     "name": "stdout",
     "output_type": "stream",
     "text": [
      "Creating video for E_40nM - Rep1 with duration: 12.38 seconds.\n"
     ]
    },
    {
     "name": "stderr",
     "output_type": "stream",
     "text": [
      "Creating video for E_40nM - Rep1: 100%|██████████| 743/743 [00:51<00:00, 14.54it/s]\n"
     ]
    },
    {
     "name": "stdout",
     "output_type": "stream",
     "text": [
      "Creating video for E_80nM - Rep1 with duration: 12.38 seconds.\n"
     ]
    },
    {
     "name": "stderr",
     "output_type": "stream",
     "text": [
      "Creating video for E_80nM - Rep1: 100%|██████████| 743/743 [00:53<00:00, 14.02it/s]\n"
     ]
    },
    {
     "name": "stdout",
     "output_type": "stream",
     "text": [
      "Creating video for E_160nM - Rep1 with duration: 12.38 seconds.\n"
     ]
    },
    {
     "name": "stderr",
     "output_type": "stream",
     "text": [
      "Creating video for E_160nM - Rep1: 100%|██████████| 743/743 [01:00<00:00, 12.29it/s]\n"
     ]
    },
    {
     "name": "stdout",
     "output_type": "stream",
     "text": [
      "Creating video for G_1p25nM - Rep1 with duration: 12.38 seconds.\n"
     ]
    },
    {
     "name": "stderr",
     "output_type": "stream",
     "text": [
      "Creating video for G_1p25nM - Rep1: 100%|██████████| 743/743 [00:52<00:00, 14.22it/s]\n"
     ]
    },
    {
     "name": "stdout",
     "output_type": "stream",
     "text": [
      "Creating video for G_2p5nM - Rep1 with duration: 12.38 seconds.\n"
     ]
    },
    {
     "name": "stderr",
     "output_type": "stream",
     "text": [
      "Creating video for G_2p5nM - Rep1: 100%|██████████| 743/743 [00:53<00:00, 13.77it/s]\n"
     ]
    },
    {
     "name": "stdout",
     "output_type": "stream",
     "text": [
      "Creating video for G_5nM - Rep1 with duration: 12.38 seconds.\n"
     ]
    },
    {
     "name": "stderr",
     "output_type": "stream",
     "text": [
      "Creating video for G_5nM - Rep1: 100%|██████████| 743/743 [00:57<00:00, 12.98it/s]\n"
     ]
    },
    {
     "name": "stdout",
     "output_type": "stream",
     "text": [
      "Creating video for G_10nM - Rep1 with duration: 12.38 seconds.\n"
     ]
    },
    {
     "name": "stderr",
     "output_type": "stream",
     "text": [
      "Creating video for G_10nM - Rep1: 100%|██████████| 743/743 [00:55<00:00, 13.28it/s]\n"
     ]
    },
    {
     "name": "stdout",
     "output_type": "stream",
     "text": [
      "Creating video for G_20nM - Rep1 with duration: 12.38 seconds.\n"
     ]
    },
    {
     "name": "stderr",
     "output_type": "stream",
     "text": [
      "Creating video for G_20nM - Rep1: 100%|██████████| 743/743 [00:51<00:00, 14.43it/s]\n"
     ]
    },
    {
     "name": "stdout",
     "output_type": "stream",
     "text": [
      "Creating video for G_40nM - Rep1 with duration: 12.38 seconds.\n"
     ]
    },
    {
     "name": "stderr",
     "output_type": "stream",
     "text": [
      "Creating video for G_40nM - Rep1: 100%|██████████| 743/743 [00:52<00:00, 14.03it/s]\n"
     ]
    },
    {
     "name": "stdout",
     "output_type": "stream",
     "text": [
      "Creating video for G_80nM - Rep1 with duration: 12.38 seconds.\n"
     ]
    },
    {
     "name": "stderr",
     "output_type": "stream",
     "text": [
      "Creating video for G_80nM - Rep1: 100%|██████████| 743/743 [00:56<00:00, 13.04it/s]\n"
     ]
    },
    {
     "name": "stdout",
     "output_type": "stream",
     "text": [
      "Creating video for G_160nM - Rep1 with duration: 12.38 seconds.\n"
     ]
    },
    {
     "name": "stderr",
     "output_type": "stream",
     "text": [
      "Creating video for G_160nM - Rep1: 100%|██████████| 743/743 [00:56<00:00, 13.16it/s]\n"
     ]
    },
    {
     "name": "stdout",
     "output_type": "stream",
     "text": [
      "Creating video for negative - Rep1 with duration: 12.38 seconds.\n"
     ]
    },
    {
     "name": "stderr",
     "output_type": "stream",
     "text": [
      "Creating video for negative - Rep1: 100%|██████████| 743/743 [00:58<00:00, 12.72it/s]\n"
     ]
    }
   ],
   "source": [
    "# Example usage\n",
    "qd.create_movies(\n",
    "    data_path, \n",
    "    conditions, \n",
    "    subconditions, \n",
    "    channel='cy5', \n",
    "    frame_rate=60,\n",
    "    skip_frames=1\n",
    "    )\n"
   ]
  },
  {
   "cell_type": "code",
   "execution_count": 30,
   "metadata": {},
   "outputs": [
    {
     "data": {
      "text/plain": [
       "['C_160nM',\n",
       " 'C_80nM',\n",
       " 'C_40nM',\n",
       " 'C_20nM',\n",
       " 'C_10nM',\n",
       " 'C_5nM',\n",
       " 'C_2p5nM',\n",
       " 'C_1p25nM',\n",
       " 'G_160nM',\n",
       " 'G_80nM',\n",
       " 'G_40nM',\n",
       " 'G_20nM',\n",
       " 'G_10nM',\n",
       " 'G_5nM',\n",
       " 'G_2p5nM',\n",
       " 'G_1p25nM']"
      ]
     },
     "execution_count": 30,
     "metadata": {},
     "output_type": "execute_result"
    }
   ],
   "source": [
    "conditions = [\n",
    "    'G_1p25nM',\n",
    "    'G_2p5nM',\n",
    "    'G_5nM',\n",
    "    'G_10nM',\n",
    "    'G_20nM',\n",
    "    'G_40nM',\n",
    "    'G_80nM',\n",
    "    'G_160nM',\n",
    "    'C_1p25nM',\n",
    "    'C_2p5nM',\n",
    "    'C_5nM',\n",
    "    'C_10nM',\n",
    "    'C_20nM',\n",
    "    'C_40nM',\n",
    "    'C_80nM',\n",
    "    'C_160nM',\n",
    "][::-1]\n",
    "\n",
    "\n",
    "conditions"
   ]
  },
  {
   "cell_type": "code",
   "execution_count": 20,
   "metadata": {},
   "outputs": [
    {
     "name": "stdout",
     "output_type": "stream",
     "text": [
      "Creating video with duration: 12.38 seconds.\n"
     ]
    },
    {
     "name": "stderr",
     "output_type": "stream",
     "text": [
      "Creating combined frames: 100%|██████████| 743/743 [08:14<00:00,  1.50it/s]\n"
     ]
    },
    {
     "name": "stdout",
     "output_type": "stream",
     "text": [
      "Combined video saved to ../../../../Thomson Lab Dropbox/David Larios/activedrops/ubuntu/111624-C-E-G-RT/2p5ulTMB-0p5MT-1ulDNA_/output_data/movies/combined_heatmap_movie_cy5_60fps_743frames.avi\n"
     ]
    }
   ],
   "source": [
    "qd.create_combined_heatmap_movie_custom_grid(\n",
    "    data_path, \n",
    "    conditions, \n",
    "    subconditions, \n",
    "    channel='cy5', \n",
    "    grid_rows=4, \n",
    "    grid_cols=4, \n",
    "    frame_rate=60,\n",
    "    batch_size=50\n",
    "    )\n"
   ]
  },
  {
   "cell_type": "markdown",
   "metadata": {},
   "source": []
  },
  {
   "cell_type": "code",
   "execution_count": 24,
   "metadata": {},
   "outputs": [
    {
     "name": "stderr",
     "output_type": "stream",
     "text": [
      "Processing C_1p25nM - Rep1: 100%|██████████| 93/93 [00:11<00:00,  7.96it/s]\n",
      "Processing C_2p5nM - Rep1: 100%|██████████| 93/93 [00:10<00:00,  8.55it/s]\n",
      "Processing C_5nM - Rep1: 100%|██████████| 93/93 [00:10<00:00,  8.71it/s]\n",
      "Processing C_10nM - Rep1: 100%|██████████| 93/93 [00:10<00:00,  8.50it/s]\n",
      "Processing C_20nM - Rep1: 100%|██████████| 93/93 [00:11<00:00,  8.33it/s]\n",
      "Processing C_40nM - Rep1: 100%|██████████| 93/93 [00:11<00:00,  8.36it/s]\n",
      "Processing C_80nM - Rep1: 100%|██████████| 93/93 [00:11<00:00,  8.40it/s]\n",
      "Processing C_160nM - Rep1: 100%|██████████| 93/93 [00:11<00:00,  8.41it/s]\n",
      "Processing E_1p25nM - Rep1: 100%|██████████| 93/93 [00:10<00:00,  8.56it/s]\n",
      "Processing E_2p5nM - Rep1: 100%|██████████| 93/93 [00:10<00:00,  8.71it/s]\n",
      "Processing E_5nM - Rep1: 100%|██████████| 93/93 [00:10<00:00,  8.72it/s]\n",
      "Processing E_10nM - Rep1: 100%|██████████| 93/93 [00:11<00:00,  8.21it/s]\n",
      "Processing E_20nM - Rep1: 100%|██████████| 93/93 [00:11<00:00,  8.35it/s]\n",
      "Processing E_40nM - Rep1: 100%|██████████| 93/93 [00:10<00:00,  8.48it/s]\n",
      "Processing E_80nM - Rep1: 100%|██████████| 93/93 [00:11<00:00,  8.43it/s]\n",
      "Processing E_160nM - Rep1: 100%|██████████| 93/93 [00:10<00:00,  8.72it/s]\n",
      "Processing G_1p25nM - Rep1: 100%|██████████| 93/93 [00:10<00:00,  8.56it/s]\n",
      "Processing G_2p5nM - Rep1: 100%|██████████| 93/93 [00:10<00:00,  8.54it/s]\n",
      "Processing G_5nM - Rep1: 100%|██████████| 93/93 [00:11<00:00,  8.20it/s]\n",
      "Processing G_10nM - Rep1: 100%|██████████| 93/93 [00:10<00:00,  8.50it/s]\n",
      "Processing G_20nM - Rep1: 100%|██████████| 93/93 [00:10<00:00,  8.47it/s]\n",
      "Processing G_40nM - Rep1: 100%|██████████| 93/93 [00:10<00:00,  8.48it/s]\n",
      "Processing G_80nM - Rep1: 100%|██████████| 93/93 [00:11<00:00,  8.45it/s]\n",
      "Processing G_160nM - Rep1: 100%|██████████| 93/93 [00:10<00:00,  8.60it/s]\n",
      "Processing negative - Rep1: 100%|██████████| 93/93 [00:10<00:00,  8.48it/s]\n"
     ]
    }
   ],
   "source": [
    "# Call the function\n",
    "qd.fluorescence_heatmap(\n",
    "    data_path, \n",
    "    conditions, \n",
    "    subconditions, \n",
    "    channel='GFP', \n",
    "    time_interval_list=time_interval_list, \n",
    "    vmax=500, \n",
    "    skip_frames=16, \n",
    "    calibration_curve_paths=calibration_curve_paths, \n",
    "    show_scalebar=True,\n",
    "    )"
   ]
  },
  {
   "cell_type": "code",
   "execution_count": 25,
   "metadata": {},
   "outputs": [
    {
     "name": "stdout",
     "output_type": "stream",
     "text": [
      "Creating video for C_1p25nM - Rep1 with duration: 7.75 seconds.\n"
     ]
    },
    {
     "name": "stderr",
     "output_type": "stream",
     "text": [
      "Creating video for C_1p25nM - Rep1: 100%|██████████| 93/93 [00:05<00:00, 15.57it/s]\n"
     ]
    },
    {
     "name": "stdout",
     "output_type": "stream",
     "text": [
      "Creating video for C_2p5nM - Rep1 with duration: 7.75 seconds.\n"
     ]
    },
    {
     "name": "stderr",
     "output_type": "stream",
     "text": [
      "Creating video for C_2p5nM - Rep1: 100%|██████████| 93/93 [00:06<00:00, 15.40it/s]\n"
     ]
    },
    {
     "name": "stdout",
     "output_type": "stream",
     "text": [
      "Creating video for C_5nM - Rep1 with duration: 7.75 seconds.\n"
     ]
    },
    {
     "name": "stderr",
     "output_type": "stream",
     "text": [
      "Creating video for C_5nM - Rep1: 100%|██████████| 93/93 [00:06<00:00, 15.30it/s]\n"
     ]
    },
    {
     "name": "stdout",
     "output_type": "stream",
     "text": [
      "Creating video for C_10nM - Rep1 with duration: 7.75 seconds.\n"
     ]
    },
    {
     "name": "stderr",
     "output_type": "stream",
     "text": [
      "Creating video for C_10nM - Rep1: 100%|██████████| 93/93 [00:06<00:00, 15.36it/s]\n"
     ]
    },
    {
     "name": "stdout",
     "output_type": "stream",
     "text": [
      "Creating video for C_20nM - Rep1 with duration: 7.75 seconds.\n"
     ]
    },
    {
     "name": "stderr",
     "output_type": "stream",
     "text": [
      "Creating video for C_20nM - Rep1: 100%|██████████| 93/93 [00:06<00:00, 15.01it/s]\n"
     ]
    },
    {
     "name": "stdout",
     "output_type": "stream",
     "text": [
      "Creating video for C_40nM - Rep1 with duration: 7.75 seconds.\n"
     ]
    },
    {
     "name": "stderr",
     "output_type": "stream",
     "text": [
      "Creating video for C_40nM - Rep1: 100%|██████████| 93/93 [00:06<00:00, 14.99it/s]\n"
     ]
    },
    {
     "name": "stdout",
     "output_type": "stream",
     "text": [
      "Creating video for C_80nM - Rep1 with duration: 7.75 seconds.\n"
     ]
    },
    {
     "name": "stderr",
     "output_type": "stream",
     "text": [
      "Creating video for C_80nM - Rep1: 100%|██████████| 93/93 [00:06<00:00, 14.68it/s]\n"
     ]
    },
    {
     "name": "stdout",
     "output_type": "stream",
     "text": [
      "Creating video for C_160nM - Rep1 with duration: 7.75 seconds.\n"
     ]
    },
    {
     "name": "stderr",
     "output_type": "stream",
     "text": [
      "Creating video for C_160nM - Rep1: 100%|██████████| 93/93 [00:06<00:00, 15.29it/s]\n"
     ]
    },
    {
     "name": "stdout",
     "output_type": "stream",
     "text": [
      "Creating video for E_1p25nM - Rep1 with duration: 7.75 seconds.\n"
     ]
    },
    {
     "name": "stderr",
     "output_type": "stream",
     "text": [
      "Creating video for E_1p25nM - Rep1: 100%|██████████| 93/93 [00:05<00:00, 15.84it/s]\n"
     ]
    },
    {
     "name": "stdout",
     "output_type": "stream",
     "text": [
      "Creating video for E_2p5nM - Rep1 with duration: 7.75 seconds.\n"
     ]
    },
    {
     "name": "stderr",
     "output_type": "stream",
     "text": [
      "Creating video for E_2p5nM - Rep1: 100%|██████████| 93/93 [00:05<00:00, 15.67it/s]\n"
     ]
    },
    {
     "name": "stdout",
     "output_type": "stream",
     "text": [
      "Creating video for E_5nM - Rep1 with duration: 7.75 seconds.\n"
     ]
    },
    {
     "name": "stderr",
     "output_type": "stream",
     "text": [
      "Creating video for E_5nM - Rep1: 100%|██████████| 93/93 [00:06<00:00, 15.25it/s]\n"
     ]
    },
    {
     "name": "stdout",
     "output_type": "stream",
     "text": [
      "Creating video for E_10nM - Rep1 with duration: 7.75 seconds.\n"
     ]
    },
    {
     "name": "stderr",
     "output_type": "stream",
     "text": [
      "Creating video for E_10nM - Rep1: 100%|██████████| 93/93 [00:06<00:00, 14.88it/s]\n"
     ]
    },
    {
     "name": "stdout",
     "output_type": "stream",
     "text": [
      "Creating video for E_20nM - Rep1 with duration: 7.75 seconds.\n"
     ]
    },
    {
     "name": "stderr",
     "output_type": "stream",
     "text": [
      "Creating video for E_20nM - Rep1: 100%|██████████| 93/93 [00:06<00:00, 14.82it/s]\n"
     ]
    },
    {
     "name": "stdout",
     "output_type": "stream",
     "text": [
      "Creating video for E_40nM - Rep1 with duration: 7.75 seconds.\n"
     ]
    },
    {
     "name": "stderr",
     "output_type": "stream",
     "text": [
      "Creating video for E_40nM - Rep1: 100%|██████████| 93/93 [00:06<00:00, 15.06it/s]\n"
     ]
    },
    {
     "name": "stdout",
     "output_type": "stream",
     "text": [
      "Creating video for E_80nM - Rep1 with duration: 7.75 seconds.\n"
     ]
    },
    {
     "name": "stderr",
     "output_type": "stream",
     "text": [
      "Creating video for E_80nM - Rep1: 100%|██████████| 93/93 [00:06<00:00, 15.22it/s]\n"
     ]
    },
    {
     "name": "stdout",
     "output_type": "stream",
     "text": [
      "Creating video for E_160nM - Rep1 with duration: 7.75 seconds.\n"
     ]
    },
    {
     "name": "stderr",
     "output_type": "stream",
     "text": [
      "Creating video for E_160nM - Rep1: 100%|██████████| 93/93 [00:06<00:00, 15.33it/s]\n"
     ]
    },
    {
     "name": "stdout",
     "output_type": "stream",
     "text": [
      "Creating video for G_1p25nM - Rep1 with duration: 7.75 seconds.\n"
     ]
    },
    {
     "name": "stderr",
     "output_type": "stream",
     "text": [
      "Creating video for G_1p25nM - Rep1: 100%|██████████| 93/93 [00:05<00:00, 15.84it/s]\n"
     ]
    },
    {
     "name": "stdout",
     "output_type": "stream",
     "text": [
      "Creating video for G_2p5nM - Rep1 with duration: 7.75 seconds.\n"
     ]
    },
    {
     "name": "stderr",
     "output_type": "stream",
     "text": [
      "Creating video for G_2p5nM - Rep1: 100%|██████████| 93/93 [00:05<00:00, 15.76it/s]\n"
     ]
    },
    {
     "name": "stdout",
     "output_type": "stream",
     "text": [
      "Creating video for G_5nM - Rep1 with duration: 7.75 seconds.\n"
     ]
    },
    {
     "name": "stderr",
     "output_type": "stream",
     "text": [
      "Creating video for G_5nM - Rep1: 100%|██████████| 93/93 [00:05<00:00, 15.86it/s]\n"
     ]
    },
    {
     "name": "stdout",
     "output_type": "stream",
     "text": [
      "Creating video for G_10nM - Rep1 with duration: 7.75 seconds.\n"
     ]
    },
    {
     "name": "stderr",
     "output_type": "stream",
     "text": [
      "Creating video for G_10nM - Rep1: 100%|██████████| 93/93 [00:05<00:00, 15.72it/s]\n"
     ]
    },
    {
     "name": "stdout",
     "output_type": "stream",
     "text": [
      "Creating video for G_20nM - Rep1 with duration: 7.75 seconds.\n"
     ]
    },
    {
     "name": "stderr",
     "output_type": "stream",
     "text": [
      "Creating video for G_20nM - Rep1: 100%|██████████| 93/93 [00:05<00:00, 15.52it/s]\n"
     ]
    },
    {
     "name": "stdout",
     "output_type": "stream",
     "text": [
      "Creating video for G_40nM - Rep1 with duration: 7.75 seconds.\n"
     ]
    },
    {
     "name": "stderr",
     "output_type": "stream",
     "text": [
      "Creating video for G_40nM - Rep1: 100%|██████████| 93/93 [00:05<00:00, 15.56it/s]\n"
     ]
    },
    {
     "name": "stdout",
     "output_type": "stream",
     "text": [
      "Creating video for G_80nM - Rep1 with duration: 7.75 seconds.\n"
     ]
    },
    {
     "name": "stderr",
     "output_type": "stream",
     "text": [
      "Creating video for G_80nM - Rep1: 100%|██████████| 93/93 [00:05<00:00, 15.50it/s]\n"
     ]
    },
    {
     "name": "stdout",
     "output_type": "stream",
     "text": [
      "Creating video for G_160nM - Rep1 with duration: 7.75 seconds.\n"
     ]
    },
    {
     "name": "stderr",
     "output_type": "stream",
     "text": [
      "Creating video for G_160nM - Rep1: 100%|██████████| 93/93 [00:05<00:00, 16.08it/s]\n"
     ]
    },
    {
     "name": "stdout",
     "output_type": "stream",
     "text": [
      "Creating video for negative - Rep1 with duration: 7.75 seconds.\n"
     ]
    },
    {
     "name": "stderr",
     "output_type": "stream",
     "text": [
      "Creating video for negative - Rep1: 100%|██████████| 93/93 [00:05<00:00, 16.31it/s]\n"
     ]
    }
   ],
   "source": [
    "# Example usage\n",
    "qd.create_movies(\n",
    "    data_path, \n",
    "    conditions, \n",
    "    subconditions, \n",
    "    channel='GFP', \n",
    "    frame_rate=12,\n",
    "    skip_frames=1\n",
    "    )\n"
   ]
  },
  {
   "cell_type": "code",
   "execution_count": 28,
   "metadata": {},
   "outputs": [
    {
     "name": "stdout",
     "output_type": "stream",
     "text": [
      "Creating video with duration: 7.75 seconds.\n"
     ]
    },
    {
     "name": "stderr",
     "output_type": "stream",
     "text": [
      "Creating combined frames: 100%|██████████| 93/93 [00:55<00:00,  1.66it/s]\n"
     ]
    },
    {
     "name": "stdout",
     "output_type": "stream",
     "text": [
      "Combined video saved to ../../../../Thomson Lab Dropbox/David Larios/activedrops/ubuntu/111624-C-E-G-RT/2p5ulTMB-0p5MT-1ulDNA_/output_data/movies/combined_heatmap_movie_GFP_12fps_93frames.avi\n"
     ]
    }
   ],
   "source": [
    "qd.create_combined_heatmap_movie_custom_grid(\n",
    "    data_path, \n",
    "    conditions, \n",
    "    subconditions, \n",
    "    channel='GFP', \n",
    "    grid_rows=4, \n",
    "    grid_cols=4, \n",
    "    frame_rate=12,\n",
    "    batch_size=50\n",
    "    )\n"
   ]
  },
  {
   "cell_type": "code",
   "execution_count": null,
   "metadata": {},
   "outputs": [],
   "source": [
    "qd.delete_temporary_image_directories(data_path, conditions, subconditions)"
   ]
  },
  {
   "cell_type": "markdown",
   "metadata": {},
   "source": [
    "### Fluorescence Quantification"
   ]
  },
  {
   "cell_type": "code",
   "execution_count": 23,
   "metadata": {},
   "outputs": [
    {
     "name": "stderr",
     "output_type": "stream",
     "text": [
      "Calculating sample intensities: 100%|██████████| 1485/1485 [00:02<00:00, 567.09it/s]\n",
      "Calculating sample intensities: 100%|██████████| 1485/1485 [00:02<00:00, 523.84it/s]\n",
      "Calculating sample intensities: 100%|██████████| 1485/1485 [00:02<00:00, 532.81it/s]\n",
      "Calculating sample intensities: 100%|██████████| 1485/1485 [00:02<00:00, 526.68it/s]\n",
      "Calculating sample intensities: 100%|██████████| 1485/1485 [00:03<00:00, 455.02it/s]\n",
      "Calculating sample intensities: 100%|██████████| 1485/1485 [00:02<00:00, 530.90it/s]\n",
      "Calculating sample intensities: 100%|██████████| 1485/1485 [00:02<00:00, 530.19it/s]\n",
      "Calculating sample intensities: 100%|██████████| 1485/1485 [00:02<00:00, 515.11it/s]\n",
      "Calculating sample intensities: 100%|██████████| 1485/1485 [00:02<00:00, 536.58it/s]\n",
      "Calculating sample intensities: 100%|██████████| 1485/1485 [00:02<00:00, 533.07it/s]\n",
      "Calculating sample intensities: 100%|██████████| 1485/1485 [00:02<00:00, 534.07it/s]\n",
      "Calculating sample intensities: 100%|██████████| 1485/1485 [00:02<00:00, 524.41it/s]\n",
      "Calculating sample intensities: 100%|██████████| 1485/1485 [00:02<00:00, 529.07it/s]\n",
      "Calculating sample intensities: 100%|██████████| 1485/1485 [00:02<00:00, 535.42it/s]\n",
      "Calculating sample intensities: 100%|██████████| 1485/1485 [00:02<00:00, 530.80it/s]\n",
      "Calculating sample intensities: 100%|██████████| 1485/1485 [00:02<00:00, 531.31it/s]\n",
      "Calculating sample intensities: 100%|██████████| 1485/1485 [00:02<00:00, 545.55it/s]\n",
      "Calculating sample intensities: 100%|██████████| 1485/1485 [00:02<00:00, 524.01it/s]\n",
      "Calculating sample intensities: 100%|██████████| 1485/1485 [00:02<00:00, 540.01it/s]\n",
      "Calculating sample intensities: 100%|██████████| 1485/1485 [00:02<00:00, 523.71it/s]\n",
      "Calculating sample intensities: 100%|██████████| 1485/1485 [00:02<00:00, 535.28it/s]\n",
      "Calculating sample intensities: 100%|██████████| 1485/1485 [00:02<00:00, 509.20it/s]\n",
      "Calculating sample intensities: 100%|██████████| 1485/1485 [00:02<00:00, 538.55it/s]\n",
      "Calculating sample intensities: 100%|██████████| 1485/1485 [00:02<00:00, 535.73it/s]\n",
      "Calculating sample intensities: 100%|██████████| 1485/1485 [00:01<00:00, 1016.42it/s]\n"
     ]
    },
    {
     "data": {
      "text/plain": [
       "('../../../../Thomson Lab Dropbox/David Larios/activedrops/ubuntu/111624-C-E-G-RT/2p5ulTMB-0p5MT-1ulDNA_/output_data/combined_expression.csv',\n",
       " '../../../../Thomson Lab Dropbox/David Larios/activedrops/ubuntu/111624-C-E-G-RT/2p5ulTMB-0p5MT-1ulDNA_/output_data/mean_expression.csv')"
      ]
     },
     "execution_count": 23,
     "metadata": {},
     "output_type": "execute_result"
    }
   ],
   "source": [
    "# Example usage\n",
    "mw_kda_list = [45,45,45,45,45,45,45,45,65,65,65,65,65,65,65,65,65,65,65,65,65,65,65,65,50]\n",
    "droplet_volume_list = [2] * len(conditions)\n",
    "protein_lengths_list = [401,401,401,401,401,401,401,401,596,596,596,596,596,596,596,596,596,596,596,596,596,596,596,596,500]\n",
    "\n",
    "qd.quantify_tiffiles(\n",
    "    data_path, \n",
    "    conditions, \n",
    "    subconditions, \n",
    "    calibration_curve_paths, \n",
    "    mw_kda_list, \n",
    "    droplet_volume_list, \n",
    "    time_interval_list, \n",
    "    protein_lengths_list,\n",
    "    ribosome_count=10**9,\n",
    "    skip_frames=1,\n",
    "    subtract_negative=True\n",
    ")"
   ]
  },
  {
   "cell_type": "markdown",
   "metadata": {},
   "source": [
    "### PIV pre-processing"
   ]
  },
  {
   "cell_type": "code",
   "execution_count": null,
   "metadata": {},
   "outputs": [],
   "source": [
    "conditions"
   ]
  },
  {
   "cell_type": "code",
   "execution_count": 31,
   "metadata": {},
   "outputs": [
    {
     "name": "stdout",
     "output_type": "stream",
     "text": [
      "Copied every 1th f'cy5' file from ../../../../Thomson Lab Dropbox/David Larios/activedrops/ubuntu/111624-C-E-G-RT/2p5ulTMB-0p5MT-1ulDNA_/C_160nM/Rep1/original into ../../../../Thomson Lab Dropbox/David Larios/activedrops/ubuntu/111624-C-E-G-RT/2p5ulTMB-0p5MT-1ulDNA_/C_160nM/Rep1/cy5-1x.\n",
      "Copied every 1th f'cy5' file from ../../../../Thomson Lab Dropbox/David Larios/activedrops/ubuntu/111624-C-E-G-RT/2p5ulTMB-0p5MT-1ulDNA_/C_80nM/Rep1/original into ../../../../Thomson Lab Dropbox/David Larios/activedrops/ubuntu/111624-C-E-G-RT/2p5ulTMB-0p5MT-1ulDNA_/C_80nM/Rep1/cy5-1x.\n",
      "Copied every 1th f'cy5' file from ../../../../Thomson Lab Dropbox/David Larios/activedrops/ubuntu/111624-C-E-G-RT/2p5ulTMB-0p5MT-1ulDNA_/C_40nM/Rep1/original into ../../../../Thomson Lab Dropbox/David Larios/activedrops/ubuntu/111624-C-E-G-RT/2p5ulTMB-0p5MT-1ulDNA_/C_40nM/Rep1/cy5-1x.\n",
      "Copied every 1th f'cy5' file from ../../../../Thomson Lab Dropbox/David Larios/activedrops/ubuntu/111624-C-E-G-RT/2p5ulTMB-0p5MT-1ulDNA_/C_20nM/Rep1/original into ../../../../Thomson Lab Dropbox/David Larios/activedrops/ubuntu/111624-C-E-G-RT/2p5ulTMB-0p5MT-1ulDNA_/C_20nM/Rep1/cy5-1x.\n",
      "Copied every 1th f'cy5' file from ../../../../Thomson Lab Dropbox/David Larios/activedrops/ubuntu/111624-C-E-G-RT/2p5ulTMB-0p5MT-1ulDNA_/C_10nM/Rep1/original into ../../../../Thomson Lab Dropbox/David Larios/activedrops/ubuntu/111624-C-E-G-RT/2p5ulTMB-0p5MT-1ulDNA_/C_10nM/Rep1/cy5-1x.\n",
      "Copied every 1th f'cy5' file from ../../../../Thomson Lab Dropbox/David Larios/activedrops/ubuntu/111624-C-E-G-RT/2p5ulTMB-0p5MT-1ulDNA_/C_5nM/Rep1/original into ../../../../Thomson Lab Dropbox/David Larios/activedrops/ubuntu/111624-C-E-G-RT/2p5ulTMB-0p5MT-1ulDNA_/C_5nM/Rep1/cy5-1x.\n",
      "Copied every 1th f'cy5' file from ../../../../Thomson Lab Dropbox/David Larios/activedrops/ubuntu/111624-C-E-G-RT/2p5ulTMB-0p5MT-1ulDNA_/C_2p5nM/Rep1/original into ../../../../Thomson Lab Dropbox/David Larios/activedrops/ubuntu/111624-C-E-G-RT/2p5ulTMB-0p5MT-1ulDNA_/C_2p5nM/Rep1/cy5-1x.\n",
      "Copied every 1th f'cy5' file from ../../../../Thomson Lab Dropbox/David Larios/activedrops/ubuntu/111624-C-E-G-RT/2p5ulTMB-0p5MT-1ulDNA_/C_1p25nM/Rep1/original into ../../../../Thomson Lab Dropbox/David Larios/activedrops/ubuntu/111624-C-E-G-RT/2p5ulTMB-0p5MT-1ulDNA_/C_1p25nM/Rep1/cy5-1x.\n",
      "Copied every 1th f'cy5' file from ../../../../Thomson Lab Dropbox/David Larios/activedrops/ubuntu/111624-C-E-G-RT/2p5ulTMB-0p5MT-1ulDNA_/G_160nM/Rep1/original into ../../../../Thomson Lab Dropbox/David Larios/activedrops/ubuntu/111624-C-E-G-RT/2p5ulTMB-0p5MT-1ulDNA_/G_160nM/Rep1/cy5-1x.\n",
      "Copied every 1th f'cy5' file from ../../../../Thomson Lab Dropbox/David Larios/activedrops/ubuntu/111624-C-E-G-RT/2p5ulTMB-0p5MT-1ulDNA_/G_80nM/Rep1/original into ../../../../Thomson Lab Dropbox/David Larios/activedrops/ubuntu/111624-C-E-G-RT/2p5ulTMB-0p5MT-1ulDNA_/G_80nM/Rep1/cy5-1x.\n",
      "Copied every 1th f'cy5' file from ../../../../Thomson Lab Dropbox/David Larios/activedrops/ubuntu/111624-C-E-G-RT/2p5ulTMB-0p5MT-1ulDNA_/G_40nM/Rep1/original into ../../../../Thomson Lab Dropbox/David Larios/activedrops/ubuntu/111624-C-E-G-RT/2p5ulTMB-0p5MT-1ulDNA_/G_40nM/Rep1/cy5-1x.\n",
      "Copied every 1th f'cy5' file from ../../../../Thomson Lab Dropbox/David Larios/activedrops/ubuntu/111624-C-E-G-RT/2p5ulTMB-0p5MT-1ulDNA_/G_20nM/Rep1/original into ../../../../Thomson Lab Dropbox/David Larios/activedrops/ubuntu/111624-C-E-G-RT/2p5ulTMB-0p5MT-1ulDNA_/G_20nM/Rep1/cy5-1x.\n",
      "Copied every 1th f'cy5' file from ../../../../Thomson Lab Dropbox/David Larios/activedrops/ubuntu/111624-C-E-G-RT/2p5ulTMB-0p5MT-1ulDNA_/G_10nM/Rep1/original into ../../../../Thomson Lab Dropbox/David Larios/activedrops/ubuntu/111624-C-E-G-RT/2p5ulTMB-0p5MT-1ulDNA_/G_10nM/Rep1/cy5-1x.\n",
      "Copied every 1th f'cy5' file from ../../../../Thomson Lab Dropbox/David Larios/activedrops/ubuntu/111624-C-E-G-RT/2p5ulTMB-0p5MT-1ulDNA_/G_5nM/Rep1/original into ../../../../Thomson Lab Dropbox/David Larios/activedrops/ubuntu/111624-C-E-G-RT/2p5ulTMB-0p5MT-1ulDNA_/G_5nM/Rep1/cy5-1x.\n",
      "Copied every 1th f'cy5' file from ../../../../Thomson Lab Dropbox/David Larios/activedrops/ubuntu/111624-C-E-G-RT/2p5ulTMB-0p5MT-1ulDNA_/G_2p5nM/Rep1/original into ../../../../Thomson Lab Dropbox/David Larios/activedrops/ubuntu/111624-C-E-G-RT/2p5ulTMB-0p5MT-1ulDNA_/G_2p5nM/Rep1/cy5-1x.\n",
      "Copied every 1th f'cy5' file from ../../../../Thomson Lab Dropbox/David Larios/activedrops/ubuntu/111624-C-E-G-RT/2p5ulTMB-0p5MT-1ulDNA_/G_1p25nM/Rep1/original into ../../../../Thomson Lab Dropbox/David Larios/activedrops/ubuntu/111624-C-E-G-RT/2p5ulTMB-0p5MT-1ulDNA_/G_1p25nM/Rep1/cy5-1x.\n"
     ]
    }
   ],
   "source": [
    "qd.split_tiffs(data_path, conditions, subconditions, channel='cy5', file_interval=1)\n"
   ]
  },
  {
   "cell_type": "markdown",
   "metadata": {},
   "source": [
    "### PIV"
   ]
  },
  {
   "cell_type": "code",
   "execution_count": 14,
   "metadata": {},
   "outputs": [],
   "source": [
    "# Define feature limits and other parameters\n",
    "v = 2E-7\n",
    "velocity_limits = (0, v)\n",
    "other_limits = (-0.0005, 0.0005)\n",
    "skip_frames = 1 ### CHANGE THIS TO SKIP FRAMES\n",
    "\n",
    "\n",
    "velocity_limits = (None, None)\n",
    "other_limits = (None, None)\n",
    "\n",
    "\n",
    "feature_limits = {\n",
    "    # 'u [m/s]': (-v, v), \n",
    "    # 'v [m/s]': (-v, v), \n",
    "    # 'data type [-]': (None, None),\n",
    "    'velocity magnitude [m/s]': velocity_limits,\n",
    "    'vorticity [1/s]': other_limits,\n",
    "    'divergence [1/s]': other_limits,\n",
    "    # 'dcev [1]': (0, 250),\n",
    "    'shear [1/s]': other_limits,\n",
    "    'strain [1/s]': other_limits,\n",
    "    'vector direction [degrees]': (-180, 180),\n",
    "}\n",
    "\n",
    "\n",
    "# Features for PCA and plotting\n",
    "features_pca = [\n",
    "    \"vorticity [1/s]_mean\",\n",
    "    \"velocity magnitude [um/s]\",\n",
    "    \"distance [m]_mean\",\n",
    "    \"divergence [1/s]_mean\",\n",
    "    \"shear [1/s]_mean\",\n",
    "    \"strain [1/s]_mean\",\n",
    "    \"correlation length [um]\", \n",
    "    \"power [W]_mean\",\n",
    "    \"work [J]\",\n",
    "]\n"
   ]
  },
  {
   "cell_type": "code",
   "execution_count": null,
   "metadata": {},
   "outputs": [],
   "source": [
    "conditions = conditions[::-1]\n",
    "conditions"
   ]
  },
  {
   "cell_type": "code",
   "execution_count": null,
   "metadata": {},
   "outputs": [],
   "source": [
    "time_interval_list = [8] * len(conditions)  # time intervals in seconds between frames for each condition\n",
    "\n",
    "\n",
    "# Process PIV data\n",
    "qd.process_piv_data(\n",
    "    data_path, \n",
    "    conditions,\n",
    "    subconditions, \n",
    "    feature_limits, \n",
    "    time_interval_list, \n",
    "    min_frame=0, \n",
    "    max_frame=None, \n",
    "    skip_frames=1, \n",
    "    plot_autocorrelation=False, \n",
    "    frame_rate=1, \n",
    "    heatmaps=False\n",
    "    )\n"
   ]
  },
  {
   "cell_type": "code",
   "execution_count": null,
   "metadata": {},
   "outputs": [],
   "source": [
    "conditions[:-1]\n"
   ]
  },
  {
   "cell_type": "code",
   "execution_count": null,
   "metadata": {},
   "outputs": [],
   "source": [
    "# Plot features and PCA\n",
    "qd.plot_PIV_all(\n",
    "    data_path, \n",
    "    conditions[:-1],\n",
    "    subconditions, \n",
    "    features_pca, \n",
    "    min_frame=0, \n",
    "    max_frame=None\n",
    "    )\n"
   ]
  },
  {
   "cell_type": "markdown",
   "metadata": {},
   "source": [
    "### Expression + PIV"
   ]
  },
  {
   "cell_type": "code",
   "execution_count": null,
   "metadata": {},
   "outputs": [],
   "source": [
    "# Combine the data and save it to the \"output_data\" directory\n",
    "qd.combine_averaged_dataframes(data_path, conditions, subconditions)\n"
   ]
  },
  {
   "cell_type": "code",
   "execution_count": null,
   "metadata": {},
   "outputs": [],
   "source": [
    "qd.merge_expression_piv_data(data_path)\n"
   ]
  },
  {
   "cell_type": "code",
   "execution_count": null,
   "metadata": {},
   "outputs": [],
   "source": [
    "# x_column = \"time (h)\"  # Example x-axis column\n",
    "# y_column = \"Protein Concentration_nM\"  # Example y-axis column\n",
    "\n",
    "\n",
    "# x_column = \"Protein Concentration_nM\"  # Example y-axis column\n",
    "# y_column = \"velocity magnitude [m/s]_mean\"  # Example y-axis column\n",
    "\n",
    "# x_column = \"time (h)\"  # Example x-axis column\n",
    "# y_column = \"velocity magnitude [m/s]_mean\"  # Example y-axis column\n",
    "\n",
    "# x_column = \"time (h)\"  # Example x-axis column\n",
    "# y_column = \"power [W]_mean\"  # Example y-axis column\n",
    "\n",
    "# x_column = \"time (h)\"  # Example x-axis column\n",
    "# y_column = \"work [J]_mean\"  # Example y-axis column\n",
    "\n",
    "x_column = \"time (h)\"  # Example x-axis column\n",
    "y_column = \"distance [m]_mean\"  # Example y-axis column\n",
    "\n",
    "\n",
    "qd.plot_expression_piv(\n",
    "    data_path,\n",
    "    conditions,\n",
    "    x_column, \n",
    "    y_column, \n",
    "    sigma_x=0.1, \n",
    "    sigma_y=10, \n",
    "    x_log=False, \n",
    "    y_log=True, \n",
    "    min_frame=0, \n",
    "    max_frame=None, \n",
    "    individual_plots=False\n",
    "    )"
   ]
  },
  {
   "cell_type": "code",
   "execution_count": null,
   "metadata": {},
   "outputs": [],
   "source": [
    "\n",
    "# List of features for PCA\n",
    "features_pca = [\n",
    "    \"vorticity [1/s]_mean\",\n",
    "    \"velocity magnitude [m/s]_mean\",\n",
    "    \"distance [m]_mean\",\n",
    "    \"divergence [1/s]_mean\",\n",
    "    \"shear [1/s]_mean\",\n",
    "    \"strain [1/s]_mean\",\n",
    "    \"correlation length [m]_mean\", \n",
    "    \"power [W]_mean\",\n",
    "    \"work [J]_mean\",\n",
    "    'vector direction [degrees]_mean',\n",
    "    \"Protein Concentration_nM\", \n",
    "    'time (min)'\n",
    "]\n",
    "\n",
    "# Run PCA and save plot (with all conditions and subconditions in the same plot)\n",
    "qd.plot_pca_expression_piv(data_path, conditions=conditions, subconditions=subconditions, features=features_pca, sigma=1)\n"
   ]
  },
  {
   "cell_type": "code",
   "execution_count": null,
   "metadata": {},
   "outputs": [],
   "source": [
    "\n",
    "# Example usage\n",
    "qd.delete_outputs(data_path, conditions, subconditions, output_dirs=None)\n"
   ]
  },
  {
   "cell_type": "code",
   "execution_count": null,
   "metadata": {},
   "outputs": [],
   "source": []
  }
 ],
 "metadata": {
  "kernelspec": {
   "display_name": "my_venv_3_11_5",
   "language": "python",
   "name": "python3"
  },
  "language_info": {
   "codemirror_mode": {
    "name": "ipython",
    "version": 3
   },
   "file_extension": ".py",
   "mimetype": "text/x-python",
   "name": "python",
   "nbconvert_exporter": "python",
   "pygments_lexer": "ipython3",
   "version": "3.11.5"
  }
 },
 "nbformat": 4,
 "nbformat_minor": 2
}
