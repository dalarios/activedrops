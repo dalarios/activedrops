{
 "cells": [
  {
   "cell_type": "code",
   "execution_count": 1,
   "metadata": {},
   "outputs": [],
   "source": [
    "## Import relevant libraries\n",
    "import sys\n",
    "import glob\n",
    "\n",
    "sys.path.append('../../py_files/')\n",
    "import quadrop as qd\n",
    "\n",
    "qd.set_plotting_style()"
   ]
  },
  {
   "cell_type": "markdown",
   "metadata": {},
   "source": [
    "### Data pre-procesing"
   ]
  },
  {
   "cell_type": "code",
   "execution_count": 2,
   "metadata": {},
   "outputs": [
    {
     "name": "stdout",
     "output_type": "stream",
     "text": [
      "Deleted empty folder: ../../../../Thomson Lab Dropbox/David Larios/activedrops/ubuntu/091024-sustainedMotors-RT/2p5TMB-1ulDNA100nM_2/Pos0\n",
      "Deleted empty folder: ../../../../Thomson Lab Dropbox/David Larios/activedrops/ubuntu/091024-sustainedMotors-RT/2p5TMB-1ulDNA100nM_2/Pos1\n",
      "Deleted empty folder: ../../../../Thomson Lab Dropbox/David Larios/activedrops/ubuntu/091024-sustainedMotors-RT/2p5TMB-1ulDNA100nM_2/Pos2\n",
      "Deleted empty folder: ../../../../Thomson Lab Dropbox/David Larios/activedrops/ubuntu/091024-sustainedMotors-RT/2p5TMB-1ulDNA100nM_2/Pos3\n",
      "Deleted empty folder: ../../../../Thomson Lab Dropbox/David Larios/activedrops/ubuntu/091024-sustainedMotors-RT/2p5TMB-1ulDNA100nM_2/Pos4\n",
      "Deleted empty folder: ../../../../Thomson Lab Dropbox/David Larios/activedrops/ubuntu/091024-sustainedMotors-RT/2p5TMB-1ulDNA100nM_2/Pos6\n",
      "Deleted empty folder: ../../../../Thomson Lab Dropbox/David Larios/activedrops/ubuntu/091024-sustainedMotors-RT/2p5TMB-1ulDNA100nM_2/Pos8\n",
      "Deleted empty folder: ../../../../Thomson Lab Dropbox/David Larios/activedrops/ubuntu/091024-sustainedMotors-RT/2p5TMB-1ulDNA100nM_2/Pos9\n",
      "Deleted empty folder: ../../../../Thomson Lab Dropbox/David Larios/activedrops/ubuntu/091024-sustainedMotors-RT/2p5TMB-1ulDNA100nM_2/\n",
      "Warning: ../../../../Thomson Lab Dropbox/David Larios/activedrops/ubuntu/091024-sustainedMotors-RT/2p5TMB-1ulDNA100nM_3/Pos0 does not exist.\n",
      "Warning: ../../../../Thomson Lab Dropbox/David Larios/activedrops/ubuntu/091024-sustainedMotors-RT/2p5TMB-1ulDNA100nM_3/Pos1 does not exist.\n",
      "Warning: ../../../../Thomson Lab Dropbox/David Larios/activedrops/ubuntu/091024-sustainedMotors-RT/2p5TMB-1ulDNA100nM_3/Pos2 does not exist.\n",
      "Warning: ../../../../Thomson Lab Dropbox/David Larios/activedrops/ubuntu/091024-sustainedMotors-RT/2p5TMB-1ulDNA100nM_3/Pos3 does not exist.\n",
      "Warning: ../../../../Thomson Lab Dropbox/David Larios/activedrops/ubuntu/091024-sustainedMotors-RT/2p5TMB-1ulDNA100nM_3/Pos4 does not exist.\n",
      "Deleted empty folder: ../../../../Thomson Lab Dropbox/David Larios/activedrops/ubuntu/091024-sustainedMotors-RT/2p5TMB-1ulDNA100nM_3/Pos6\n",
      "Warning: ../../../../Thomson Lab Dropbox/David Larios/activedrops/ubuntu/091024-sustainedMotors-RT/2p5TMB-1ulDNA100nM_3/Pos8 does not exist.\n",
      "Deleted empty folder: ../../../../Thomson Lab Dropbox/David Larios/activedrops/ubuntu/091024-sustainedMotors-RT/2p5TMB-1ulDNA100nM_3/Pos9\n",
      "Deleted empty folder: ../../../../Thomson Lab Dropbox/David Larios/activedrops/ubuntu/091024-sustainedMotors-RT/2p5TMB-1ulDNA100nM_3/\n",
      "\n",
      "Checking final consolidated folders:\n",
      "Images in final ../../../../Thomson Lab Dropbox/David Larios/activedrops/ubuntu/091024-sustainedMotors-RT/2p5TMB-1ulDNA100nM_/Pos0: 5254\n",
      "Images in final ../../../../Thomson Lab Dropbox/David Larios/activedrops/ubuntu/091024-sustainedMotors-RT/2p5TMB-1ulDNA100nM_/Pos1: 5254\n",
      "Images in final ../../../../Thomson Lab Dropbox/David Larios/activedrops/ubuntu/091024-sustainedMotors-RT/2p5TMB-1ulDNA100nM_/Pos2: 5254\n",
      "Images in final ../../../../Thomson Lab Dropbox/David Larios/activedrops/ubuntu/091024-sustainedMotors-RT/2p5TMB-1ulDNA100nM_/Pos3: 5254\n",
      "Images in final ../../../../Thomson Lab Dropbox/David Larios/activedrops/ubuntu/091024-sustainedMotors-RT/2p5TMB-1ulDNA100nM_/Pos4: 5254\n",
      "Images in final ../../../../Thomson Lab Dropbox/David Larios/activedrops/ubuntu/091024-sustainedMotors-RT/2p5TMB-1ulDNA100nM_/Pos6: 8765\n",
      "Images in final ../../../../Thomson Lab Dropbox/David Larios/activedrops/ubuntu/091024-sustainedMotors-RT/2p5TMB-1ulDNA100nM_/Pos8: 5254\n",
      "Images in final ../../../../Thomson Lab Dropbox/David Larios/activedrops/ubuntu/091024-sustainedMotors-RT/2p5TMB-1ulDNA100nM_/Pos9: 8765\n",
      "Renaming, moving, and cleanup completed.\n"
     ]
    }
   ],
   "source": [
    "# Example usage\n",
    "base_dir = \"../../../../Thomson Lab Dropbox/David Larios/activedrops/ubuntu/091024-sustainedMotors-RT/\"\n",
    "qd.consolidate_images(base_dir)"
   ]
  },
  {
   "cell_type": "code",
   "execution_count": 3,
   "metadata": {},
   "outputs": [
    {
     "name": "stdout",
     "output_type": "stream",
     "text": [
      "Warning: ../../../../Thomson Lab Dropbox/David Larios/activedrops/ubuntu/091024-sustainedMotors-RT/2p5TMB-1ulDNA100nM_/Pos5 does not exist. Skipping.\n",
      "Warning: ../../../../Thomson Lab Dropbox/David Larios/activedrops/ubuntu/091024-sustainedMotors-RT/2p5TMB-1ulDNA100nM_/Pos7 does not exist. Skipping.\n",
      "Conditions: ['AcSu2-RT', 'AcSu-RT', 'AdPa-RT', 'BleSto-RT', 'DiPu-RT', 'Kif5-RT', 'NaFo-RT', 'ThTr-RT', 'TiLa-RT', 'negative']\n",
      "Subconditions: ['Rep1']\n"
     ]
    }
   ],
   "source": [
    "# Example usage\n",
    "data_path = \"../../../../Thomson Lab Dropbox/David Larios/activedrops/ubuntu/091024-sustainedMotors-RT/2p5TMB-1ulDNA100nM_/\"\n",
    "\n",
    "calibration_curve_paths = sorted(glob.glob(\"../../../../Thomson Lab Dropbox/David Larios/activedrops/calibration_curve/***ugml.tif\"))\n",
    "\n",
    "\n",
    "conditions_dict = {\n",
    "    \"TiLa-RT\": \"Pos0\", \n",
    "    \"DiPu-RT\": \"Pos1\",\n",
    "    \"AcSu-RT\": \"Pos2\",\n",
    "    \"AcSu2-RT\": \"Pos3\",\n",
    "    \"AdPa-RT\": \"Pos4\",\n",
    "    \"Kif5-RT\": \"Pos5\",\n",
    "    \"BleSto-RT\": \"Pos6\",\n",
    "    \"ThTr-RT\": \"Pos7\",\n",
    "    \"NaFo-RT\": \"Pos8\",\n",
    "    \"negative\": \"Pos9\",\n",
    "}\n",
    "\n",
    "# Organize PosX folders into condition folders\n",
    "qd.organize_conditions(data_path, conditions_dict)\n",
    "\n",
    "# Now run the existing functions to reorganize the tiffs and rename the folders\n",
    "conditions, subconditions = qd.prepare_conditions(data_path)\n",
    "time_interval_list = [45] * len(conditions)  # time intervals in seconds between frames for each condition\n",
    "\n",
    "\n",
    "print(\"Conditions:\", conditions)\n",
    "print(\"Subconditions:\", subconditions)\n",
    "\n"
   ]
  },
  {
   "cell_type": "code",
   "execution_count": 5,
   "metadata": {},
   "outputs": [
    {
     "name": "stdout",
     "output_type": "stream",
     "text": [
      "Moved .tif files from ../../../../Thomson Lab Dropbox/David Larios/activedrops/ubuntu/091024-sustainedMotors-RT/2p5TMB-1ulDNA100nM_/AcSu2-RT/Rep1 to ../../../../Thomson Lab Dropbox/David Larios/activedrops/ubuntu/091024-sustainedMotors-RT/2p5TMB-1ulDNA100nM_/AcSu2-RT/Rep1/original\n",
      "Moved .tif files from ../../../../Thomson Lab Dropbox/David Larios/activedrops/ubuntu/091024-sustainedMotors-RT/2p5TMB-1ulDNA100nM_/AcSu-RT/Rep1 to ../../../../Thomson Lab Dropbox/David Larios/activedrops/ubuntu/091024-sustainedMotors-RT/2p5TMB-1ulDNA100nM_/AcSu-RT/Rep1/original\n",
      "Moved .tif files from ../../../../Thomson Lab Dropbox/David Larios/activedrops/ubuntu/091024-sustainedMotors-RT/2p5TMB-1ulDNA100nM_/AdPa-RT/Rep1 to ../../../../Thomson Lab Dropbox/David Larios/activedrops/ubuntu/091024-sustainedMotors-RT/2p5TMB-1ulDNA100nM_/AdPa-RT/Rep1/original\n",
      "Moved .tif files from ../../../../Thomson Lab Dropbox/David Larios/activedrops/ubuntu/091024-sustainedMotors-RT/2p5TMB-1ulDNA100nM_/BleSto-RT/Rep1 to ../../../../Thomson Lab Dropbox/David Larios/activedrops/ubuntu/091024-sustainedMotors-RT/2p5TMB-1ulDNA100nM_/BleSto-RT/Rep1/original\n",
      "Moved .tif files from ../../../../Thomson Lab Dropbox/David Larios/activedrops/ubuntu/091024-sustainedMotors-RT/2p5TMB-1ulDNA100nM_/DiPu-RT/Rep1 to ../../../../Thomson Lab Dropbox/David Larios/activedrops/ubuntu/091024-sustainedMotors-RT/2p5TMB-1ulDNA100nM_/DiPu-RT/Rep1/original\n",
      "Moved .tif files from ../../../../Thomson Lab Dropbox/David Larios/activedrops/ubuntu/091024-sustainedMotors-RT/2p5TMB-1ulDNA100nM_/Kif5-RT/Rep1 to ../../../../Thomson Lab Dropbox/David Larios/activedrops/ubuntu/091024-sustainedMotors-RT/2p5TMB-1ulDNA100nM_/Kif5-RT/Rep1/original\n",
      "Moved .tif files from ../../../../Thomson Lab Dropbox/David Larios/activedrops/ubuntu/091024-sustainedMotors-RT/2p5TMB-1ulDNA100nM_/NaFo-RT/Rep1 to ../../../../Thomson Lab Dropbox/David Larios/activedrops/ubuntu/091024-sustainedMotors-RT/2p5TMB-1ulDNA100nM_/NaFo-RT/Rep1/original\n",
      "Moved .tif files from ../../../../Thomson Lab Dropbox/David Larios/activedrops/ubuntu/091024-sustainedMotors-RT/2p5TMB-1ulDNA100nM_/ThTr-RT/Rep1 to ../../../../Thomson Lab Dropbox/David Larios/activedrops/ubuntu/091024-sustainedMotors-RT/2p5TMB-1ulDNA100nM_/ThTr-RT/Rep1/original\n",
      "Moved .tif files from ../../../../Thomson Lab Dropbox/David Larios/activedrops/ubuntu/091024-sustainedMotors-RT/2p5TMB-1ulDNA100nM_/TiLa-RT/Rep1 to ../../../../Thomson Lab Dropbox/David Larios/activedrops/ubuntu/091024-sustainedMotors-RT/2p5TMB-1ulDNA100nM_/TiLa-RT/Rep1/original\n",
      "Moved .tif files from ../../../../Thomson Lab Dropbox/David Larios/activedrops/ubuntu/091024-sustainedMotors-RT/2p5TMB-1ulDNA100nM_/negative/Rep1 to ../../../../Thomson Lab Dropbox/David Larios/activedrops/ubuntu/091024-sustainedMotors-RT/2p5TMB-1ulDNA100nM_/negative/Rep1/original\n"
     ]
    }
   ],
   "source": [
    "qd.reorgTiffsToOriginal(data_path, conditions, subconditions)\n"
   ]
  },
  {
   "cell_type": "markdown",
   "metadata": {},
   "source": [
    "### Generate movies"
   ]
  },
  {
   "cell_type": "code",
   "execution_count": 7,
   "metadata": {},
   "outputs": [
    {
     "name": "stderr",
     "output_type": "stream",
     "text": [
      "Processing AcSu2-RT - Rep1: 100%|██████████| 1751/1751 [03:23<00:00,  8.59it/s]\n",
      "Processing AcSu-RT - Rep1: 100%|██████████| 1751/1751 [03:24<00:00,  8.57it/s]\n",
      "Processing AdPa-RT - Rep1: 100%|██████████| 1751/1751 [03:21<00:00,  8.70it/s]\n",
      "Processing BleSto-RT - Rep1: 100%|██████████| 2921/2921 [05:35<00:00,  8.71it/s]\n",
      "Processing DiPu-RT - Rep1: 100%|██████████| 1751/1751 [03:17<00:00,  8.86it/s]\n",
      "Processing Kif5-RT - Rep1: 100%|██████████| 2922/2922 [05:34<00:00,  8.75it/s]\n",
      "Processing NaFo-RT - Rep1: 100%|██████████| 1751/1751 [03:21<00:00,  8.71it/s]\n",
      "Processing ThTr-RT - Rep1: 100%|██████████| 2921/2921 [05:31<00:00,  8.81it/s]\n",
      "Processing TiLa-RT - Rep1: 100%|██████████| 1751/1751 [03:23<00:00,  8.60it/s]\n",
      "Processing negative - Rep1: 100%|██████████| 2921/2921 [05:47<00:00,  8.40it/s]\n"
     ]
    }
   ],
   "source": [
    "# Call the function\n",
    "qd.fluorescence_heatmap(\n",
    "    data_path, \n",
    "    conditions, \n",
    "    subconditions, \n",
    "    channel='cy5', \n",
    "    time_interval_list=time_interval_list, \n",
    "    vmax=15, \n",
    "    skip_frames=1, \n",
    "    calibration_curve_paths=calibration_curve_paths, \n",
    "    show_scalebar=False,\n",
    "    )"
   ]
  },
  {
   "cell_type": "code",
   "execution_count": 8,
   "metadata": {},
   "outputs": [
    {
     "name": "stdout",
     "output_type": "stream",
     "text": [
      "Creating video for AcSu2-RT - Rep1 with duration: 14.59 seconds.\n"
     ]
    },
    {
     "name": "stderr",
     "output_type": "stream",
     "text": [
      "Creating video for AcSu2-RT - Rep1: 100%|██████████| 1751/1751 [02:18<00:00, 12.61it/s]\n"
     ]
    },
    {
     "name": "stdout",
     "output_type": "stream",
     "text": [
      "Creating video for AcSu-RT - Rep1 with duration: 14.59 seconds.\n"
     ]
    },
    {
     "name": "stderr",
     "output_type": "stream",
     "text": [
      "Creating video for AcSu-RT - Rep1: 100%|██████████| 1751/1751 [02:26<00:00, 11.97it/s]\n"
     ]
    },
    {
     "name": "stdout",
     "output_type": "stream",
     "text": [
      "Creating video for AdPa-RT - Rep1 with duration: 14.59 seconds.\n"
     ]
    },
    {
     "name": "stderr",
     "output_type": "stream",
     "text": [
      "Creating video for AdPa-RT - Rep1: 100%|██████████| 1751/1751 [02:25<00:00, 12.00it/s]\n"
     ]
    },
    {
     "name": "stdout",
     "output_type": "stream",
     "text": [
      "Creating video for BleSto-RT - Rep1 with duration: 24.34 seconds.\n"
     ]
    },
    {
     "name": "stderr",
     "output_type": "stream",
     "text": [
      "Creating video for BleSto-RT - Rep1: 100%|██████████| 2921/2921 [04:02<00:00, 12.03it/s]\n"
     ]
    },
    {
     "name": "stdout",
     "output_type": "stream",
     "text": [
      "Creating video for DiPu-RT - Rep1 with duration: 14.59 seconds.\n"
     ]
    },
    {
     "name": "stderr",
     "output_type": "stream",
     "text": [
      "Creating video for DiPu-RT - Rep1: 100%|██████████| 1751/1751 [02:25<00:00, 12.05it/s]\n"
     ]
    },
    {
     "name": "stdout",
     "output_type": "stream",
     "text": [
      "Creating video for Kif5-RT - Rep1 with duration: 24.35 seconds.\n"
     ]
    },
    {
     "name": "stderr",
     "output_type": "stream",
     "text": [
      "Creating video for Kif5-RT - Rep1: 100%|██████████| 2922/2922 [03:52<00:00, 12.55it/s]\n"
     ]
    },
    {
     "name": "stdout",
     "output_type": "stream",
     "text": [
      "Creating video for NaFo-RT - Rep1 with duration: 14.59 seconds.\n"
     ]
    },
    {
     "name": "stderr",
     "output_type": "stream",
     "text": [
      "Creating video for NaFo-RT - Rep1: 100%|██████████| 1751/1751 [02:13<00:00, 13.12it/s]\n"
     ]
    },
    {
     "name": "stdout",
     "output_type": "stream",
     "text": [
      "Creating video for ThTr-RT - Rep1 with duration: 24.34 seconds.\n"
     ]
    },
    {
     "name": "stderr",
     "output_type": "stream",
     "text": [
      "Creating video for ThTr-RT - Rep1: 100%|██████████| 2921/2921 [03:30<00:00, 13.88it/s]\n"
     ]
    },
    {
     "name": "stdout",
     "output_type": "stream",
     "text": [
      "Creating video for TiLa-RT - Rep1 with duration: 14.59 seconds.\n"
     ]
    },
    {
     "name": "stderr",
     "output_type": "stream",
     "text": [
      "Creating video for TiLa-RT - Rep1: 100%|██████████| 1751/1751 [02:22<00:00, 12.31it/s]\n"
     ]
    },
    {
     "name": "stdout",
     "output_type": "stream",
     "text": [
      "Creating video for negative - Rep1 with duration: 24.34 seconds.\n"
     ]
    },
    {
     "name": "stderr",
     "output_type": "stream",
     "text": [
      "Creating video for negative - Rep1: 100%|██████████| 2921/2921 [03:26<00:00, 14.13it/s]\n"
     ]
    }
   ],
   "source": [
    "# Example usage\n",
    "qd.create_movies(\n",
    "    data_path, \n",
    "    conditions, \n",
    "    subconditions, \n",
    "    channel='cy5', \n",
    "    frame_rate=120,\n",
    "    skip_frames=1\n",
    "    )\n"
   ]
  },
  {
   "cell_type": "code",
   "execution_count": 9,
   "metadata": {},
   "outputs": [
    {
     "name": "stdout",
     "output_type": "stream",
     "text": [
      "Creating video with duration: 24.35 seconds.\n"
     ]
    },
    {
     "name": "stderr",
     "output_type": "stream",
     "text": [
      "Creating combined frames: 100%|██████████| 2922/2922 [21:49<00:00,  2.23it/s]\n"
     ]
    },
    {
     "name": "stdout",
     "output_type": "stream",
     "text": [
      "Combined video saved to ../../../../Thomson Lab Dropbox/David Larios/activedrops/ubuntu/091024-sustainedMotors-RT/2p5TMB-1ulDNA100nM_/output_data/movies/combined_heatmap_movie_cy5_120fps_2922frames.avi\n"
     ]
    }
   ],
   "source": [
    "qd.create_combined_heatmap_movie_custom_grid(\n",
    "    data_path, \n",
    "    conditions, \n",
    "    subconditions, \n",
    "    channel='cy5', \n",
    "    grid_rows=2, \n",
    "    grid_cols=5, \n",
    "    frame_rate=120,\n",
    "    batch_size=50\n",
    "    )\n"
   ]
  },
  {
   "cell_type": "markdown",
   "metadata": {},
   "source": []
  },
  {
   "cell_type": "code",
   "execution_count": 10,
   "metadata": {},
   "outputs": [
    {
     "name": "stderr",
     "output_type": "stream",
     "text": [
      "Processing AcSu2-RT - Rep1: 100%|██████████| 1751/1751 [02:43<00:00, 10.68it/s]\n",
      "Processing AcSu-RT - Rep1: 100%|██████████| 1751/1751 [02:59<00:00,  9.75it/s]\n",
      "Processing AdPa-RT - Rep1: 100%|██████████| 1751/1751 [02:59<00:00,  9.74it/s]\n",
      "Processing BleSto-RT - Rep1: 100%|██████████| 2921/2921 [04:33<00:00, 10.68it/s]\n",
      "Processing DiPu-RT - Rep1: 100%|██████████| 1751/1751 [02:58<00:00,  9.81it/s]\n",
      "Processing Kif5-RT - Rep1: 100%|██████████| 2922/2922 [05:01<00:00,  9.70it/s]\n",
      "Processing NaFo-RT - Rep1: 100%|██████████| 1751/1751 [03:08<00:00,  9.29it/s]\n",
      "Processing ThTr-RT - Rep1: 100%|██████████| 2921/2921 [05:24<00:00,  9.00it/s]\n",
      "Processing TiLa-RT - Rep1: 100%|██████████| 1751/1751 [03:01<00:00,  9.64it/s]\n",
      "Processing negative - Rep1: 100%|██████████| 2921/2921 [04:43<00:00, 10.32it/s]\n"
     ]
    }
   ],
   "source": [
    "# Call the function\n",
    "qd.fluorescence_heatmap(\n",
    "    data_path, \n",
    "    conditions, \n",
    "    subconditions, \n",
    "    channel='GFP', \n",
    "    time_interval_list=time_interval_list, \n",
    "    vmax=500, \n",
    "    skip_frames=1, \n",
    "    calibration_curve_paths=calibration_curve_paths, \n",
    "    show_scalebar=True,\n",
    "    )"
   ]
  },
  {
   "cell_type": "code",
   "execution_count": 11,
   "metadata": {},
   "outputs": [
    {
     "name": "stdout",
     "output_type": "stream",
     "text": [
      "Creating video for AcSu2-RT - Rep1 with duration: 14.59 seconds.\n"
     ]
    },
    {
     "name": "stderr",
     "output_type": "stream",
     "text": [
      "Creating video for AcSu2-RT - Rep1: 100%|██████████| 1751/1751 [01:46<00:00, 16.50it/s]\n"
     ]
    },
    {
     "name": "stdout",
     "output_type": "stream",
     "text": [
      "Creating video for AcSu-RT - Rep1 with duration: 14.59 seconds.\n"
     ]
    },
    {
     "name": "stderr",
     "output_type": "stream",
     "text": [
      "Creating video for AcSu-RT - Rep1: 100%|██████████| 1751/1751 [01:51<00:00, 15.77it/s]\n"
     ]
    },
    {
     "name": "stdout",
     "output_type": "stream",
     "text": [
      "Creating video for AdPa-RT - Rep1 with duration: 14.59 seconds.\n"
     ]
    },
    {
     "name": "stderr",
     "output_type": "stream",
     "text": [
      "Creating video for AdPa-RT - Rep1: 100%|██████████| 1751/1751 [01:52<00:00, 15.57it/s]\n"
     ]
    },
    {
     "name": "stdout",
     "output_type": "stream",
     "text": [
      "Creating video for BleSto-RT - Rep1 with duration: 24.34 seconds.\n"
     ]
    },
    {
     "name": "stderr",
     "output_type": "stream",
     "text": [
      "Creating video for BleSto-RT - Rep1: 100%|██████████| 2921/2921 [02:52<00:00, 16.95it/s]\n"
     ]
    },
    {
     "name": "stdout",
     "output_type": "stream",
     "text": [
      "Creating video for DiPu-RT - Rep1 with duration: 14.59 seconds.\n"
     ]
    },
    {
     "name": "stderr",
     "output_type": "stream",
     "text": [
      "Creating video for DiPu-RT - Rep1: 100%|██████████| 1751/1751 [01:51<00:00, 15.77it/s]\n"
     ]
    },
    {
     "name": "stdout",
     "output_type": "stream",
     "text": [
      "Creating video for Kif5-RT - Rep1 with duration: 24.35 seconds.\n"
     ]
    },
    {
     "name": "stderr",
     "output_type": "stream",
     "text": [
      "Creating video for Kif5-RT - Rep1: 100%|██████████| 2922/2922 [03:06<00:00, 15.63it/s]\n"
     ]
    },
    {
     "name": "stdout",
     "output_type": "stream",
     "text": [
      "Creating video for NaFo-RT - Rep1 with duration: 14.59 seconds.\n"
     ]
    },
    {
     "name": "stderr",
     "output_type": "stream",
     "text": [
      "Creating video for NaFo-RT - Rep1: 100%|██████████| 1751/1751 [01:54<00:00, 15.32it/s]\n"
     ]
    },
    {
     "name": "stdout",
     "output_type": "stream",
     "text": [
      "Creating video for ThTr-RT - Rep1 with duration: 24.34 seconds.\n"
     ]
    },
    {
     "name": "stderr",
     "output_type": "stream",
     "text": [
      "Creating video for ThTr-RT - Rep1: 100%|██████████| 2921/2921 [03:11<00:00, 15.27it/s]\n"
     ]
    },
    {
     "name": "stdout",
     "output_type": "stream",
     "text": [
      "Creating video for TiLa-RT - Rep1 with duration: 14.59 seconds.\n"
     ]
    },
    {
     "name": "stderr",
     "output_type": "stream",
     "text": [
      "Creating video for TiLa-RT - Rep1: 100%|██████████| 1751/1751 [01:53<00:00, 15.46it/s]\n"
     ]
    },
    {
     "name": "stdout",
     "output_type": "stream",
     "text": [
      "Creating video for negative - Rep1 with duration: 24.34 seconds.\n"
     ]
    },
    {
     "name": "stderr",
     "output_type": "stream",
     "text": [
      "Creating video for negative - Rep1: 100%|██████████| 2921/2921 [02:55<00:00, 16.64it/s]\n"
     ]
    }
   ],
   "source": [
    "# Example usage\n",
    "qd.create_movies(\n",
    "    data_path, \n",
    "    conditions, \n",
    "    subconditions, \n",
    "    channel='GFP', \n",
    "    frame_rate=120,\n",
    "    skip_frames=1\n",
    "    )\n"
   ]
  },
  {
   "cell_type": "code",
   "execution_count": 12,
   "metadata": {},
   "outputs": [
    {
     "name": "stdout",
     "output_type": "stream",
     "text": [
      "Creating video with duration: 24.35 seconds.\n"
     ]
    },
    {
     "name": "stderr",
     "output_type": "stream",
     "text": [
      "Creating combined frames: 100%|██████████| 2922/2922 [19:09<00:00,  2.54it/s]\n"
     ]
    },
    {
     "name": "stdout",
     "output_type": "stream",
     "text": [
      "Combined video saved to ../../../../Thomson Lab Dropbox/David Larios/activedrops/ubuntu/091024-sustainedMotors-RT/2p5TMB-1ulDNA100nM_/output_data/movies/combined_heatmap_movie_GFP_120fps_2922frames.avi\n"
     ]
    }
   ],
   "source": [
    "qd.create_combined_heatmap_movie_custom_grid(\n",
    "    data_path, \n",
    "    conditions, \n",
    "    subconditions, \n",
    "    channel='GFP', \n",
    "    grid_rows=2, \n",
    "    grid_cols=5, \n",
    "    frame_rate=120,\n",
    "    batch_size=50\n",
    "    )\n"
   ]
  },
  {
   "cell_type": "code",
   "execution_count": null,
   "metadata": {},
   "outputs": [],
   "source": [
    "# qd.delete_temporary_image_directories(data_path, conditions, subconditions)"
   ]
  },
  {
   "cell_type": "markdown",
   "metadata": {},
   "source": [
    "### Fluorescence Quantification"
   ]
  },
  {
   "cell_type": "code",
   "execution_count": 4,
   "metadata": {},
   "outputs": [
    {
     "name": "stderr",
     "output_type": "stream",
     "text": [
      "Calculating sample intensities: 100%|██████████| 1001/1001 [00:01<00:00, 664.83it/s]\n",
      "Calculating sample intensities: 100%|██████████| 1001/1001 [00:01<00:00, 718.40it/s]\n",
      "Calculating sample intensities: 100%|██████████| 1001/1001 [00:01<00:00, 739.98it/s]\n",
      "Calculating sample intensities: 100%|██████████| 1001/1001 [00:01<00:00, 741.03it/s]\n",
      "Calculating sample intensities: 100%|██████████| 1001/1001 [00:01<00:00, 749.55it/s]\n",
      "Calculating sample intensities: 100%|██████████| 1001/1001 [00:01<00:00, 754.54it/s]\n",
      "Calculating sample intensities: 100%|██████████| 1001/1001 [00:01<00:00, 755.84it/s]\n",
      "Calculating sample intensities: 100%|██████████| 1001/1001 [00:01<00:00, 730.29it/s]\n",
      "Calculating sample intensities: 100%|██████████| 1001/1001 [00:01<00:00, 770.53it/s]\n",
      "Calculating sample intensities: 100%|██████████| 1001/1001 [00:00<00:00, 1631.94it/s]\n"
     ]
    },
    {
     "data": {
      "text/plain": [
       "('../../../../Thomson Lab Dropbox/David Larios/activedrops/main/090824-sustainedMotors-29C/2p5TMB-1ulDNA100nM_2/output_data/combined_expression.csv',\n",
       " '../../../../Thomson Lab Dropbox/David Larios/activedrops/main/090824-sustainedMotors-29C/2p5TMB-1ulDNA100nM_2/output_data/mean_expression.csv')"
      ]
     },
     "execution_count": 4,
     "metadata": {},
     "output_type": "execute_result"
    }
   ],
   "source": [
    "# Example usage\n",
    "mw_kda_list = [100] * len(conditions)\n",
    "droplet_volume_list = [2] * len(conditions)\n",
    "protein_lengths_list = [500] * len(conditions)  # Assuming 500 amino acids per protein\n",
    "\n",
    "qd.quantify_tiffiles(\n",
    "    data_path, \n",
    "    conditions, \n",
    "    subconditions, \n",
    "    calibration_curve_paths, \n",
    "    mw_kda_list, \n",
    "    droplet_volume_list, \n",
    "    time_interval_list, \n",
    "    protein_lengths_list,\n",
    "    ribosome_count=10**9,\n",
    "    skip_frames=1,\n",
    "    subtract_negative=True\n",
    ")"
   ]
  },
  {
   "cell_type": "markdown",
   "metadata": {},
   "source": [
    "### PIV pre-processing"
   ]
  },
  {
   "cell_type": "code",
   "execution_count": 14,
   "metadata": {},
   "outputs": [
    {
     "name": "stdout",
     "output_type": "stream",
     "text": [
      "Copied every 3th f'cy5' file from ../../../../Thomson Lab Dropbox/David Larios/activedrops/ubuntu/091024-sustainedMotors-RT/2p5TMB-1ulDNA100nM_/DiPu-RT/Rep1/original into ../../../../Thomson Lab Dropbox/David Larios/activedrops/ubuntu/091024-sustainedMotors-RT/2p5TMB-1ulDNA100nM_/DiPu-RT/Rep1/cy5-3x.\n"
     ]
    }
   ],
   "source": [
    "qd.split_tiffs(data_path, ['DiPu-RT'], subconditions, channel='cy5', file_interval=3)\n",
    "\n"
   ]
  },
  {
   "cell_type": "markdown",
   "metadata": {},
   "source": [
    "### PIV"
   ]
  },
  {
   "cell_type": "code",
   "execution_count": 5,
   "metadata": {},
   "outputs": [],
   "source": [
    "# Define feature limits and other parameters\n",
    "v = 2E-7\n",
    "velocity_limits = (0, v)\n",
    "other_limits = (-0.0005, 0.0005)\n",
    "skip_frames = 1 ### CHANGE THIS TO SKIP FRAMES\n",
    "\n",
    "\n",
    "velocity_limits = (None, None)\n",
    "other_limits = (None, None)\n",
    "\n",
    "\n",
    "feature_limits = {\n",
    "    # 'u [m/s]': (-v, v), \n",
    "    # 'v [m/s]': (-v, v), \n",
    "    # 'data type [-]': (None, None),\n",
    "    'velocity magnitude [m/s]': velocity_limits,\n",
    "    'vorticity [1/s]': other_limits,\n",
    "    'divergence [1/s]': other_limits,\n",
    "    # 'dcev [1]': (0, 250),\n",
    "    'shear [1/s]': other_limits,\n",
    "    'strain [1/s]': other_limits,\n",
    "    'vector direction [degrees]': (-180, 180),\n",
    "}\n",
    "\n",
    "\n",
    "# Features for PCA and plotting\n",
    "features_pca = [\n",
    "    \"vorticity [1/s]_mean\",\n",
    "    \"velocity magnitude [um/s]\",\n",
    "    \"distance [m]_mean\",\n",
    "    \"divergence [1/s]_mean\",\n",
    "    \"shear [1/s]_mean\",\n",
    "    \"strain [1/s]_mean\",\n",
    "    \"correlation length [um]\", \n",
    "    \"power [W]_mean\",\n",
    "    \"work [J]\",\n",
    "]\n"
   ]
  },
  {
   "cell_type": "code",
   "execution_count": 8,
   "metadata": {},
   "outputs": [],
   "source": [
    "conditions = [\n",
    "    # 'AcSu2-29C',\n",
    "    'AcSu-29C',\n",
    "    'AdPa-29C',\n",
    "    # 'BleSto-29C',\n",
    "    'DiPu-29C',\n",
    "    'Kif5-29C',\n",
    "    # 'NaFo-29C',\n",
    "    'ThTr-29C',\n",
    "    'TiLa-29C',\n",
    "    # 'negative'\n",
    " ]"
   ]
  },
  {
   "cell_type": "code",
   "execution_count": 9,
   "metadata": {},
   "outputs": [
    {
     "name": "stderr",
     "output_type": "stream",
     "text": [
      "Processing PIV data:   0%|          | 0/6 [00:00<?, ?it/s]\n",
      "\u001b[A\n",
      "\u001b[A\n",
      "\u001b[A\n",
      "\u001b[A\n",
      "\u001b[A\n",
      "\u001b[A\n",
      "\u001b[A\n",
      "\u001b[A\n",
      "\u001b[A\n",
      "\u001b[A\n",
      "\u001b[A\n",
      "\u001b[A\n",
      "\u001b[A\n",
      "\u001b[A\n",
      "\u001b[A\n",
      "\u001b[A\n",
      "\u001b[A\n",
      "\u001b[A\n",
      "\u001b[A\n",
      "\u001b[A\n",
      "\u001b[A\n",
      "\u001b[A\n",
      "\u001b[A\n",
      "\u001b[A\n",
      "\u001b[A\n",
      "\u001b[A\n",
      "\u001b[A\n",
      "\u001b[A\n",
      "\u001b[A\n",
      "\u001b[A\n",
      "\u001b[A\n",
      "\u001b[A\n",
      "\u001b[A\n",
      "\u001b[A\n",
      "\u001b[A\n",
      "\u001b[A\n",
      "\u001b[A\n",
      "\u001b[A\n",
      "\u001b[A\n",
      "\u001b[A\n",
      "\u001b[A\n",
      "\u001b[A\n",
      "\u001b[A\n",
      "\u001b[A\n",
      "\u001b[A\n",
      "\u001b[A\n",
      "\u001b[A\n",
      "\u001b[A\n",
      "\u001b[A\n",
      "\u001b[A\n",
      "\u001b[A\n",
      "\u001b[A\n",
      "\u001b[A\n",
      "\u001b[A\n",
      "\u001b[A\n",
      "\u001b[A\n",
      "\u001b[A\n",
      "Processing PIV data:  17%|█▋        | 1/6 [00:12<01:02, 12.55s/it]\n",
      "\u001b[A\n",
      "\u001b[A\n",
      "\u001b[A\n",
      "\u001b[A\n",
      "\u001b[A\n",
      "\u001b[A\n",
      "\u001b[A\n",
      "\u001b[A\n",
      "\u001b[A\n",
      "\u001b[A\n",
      "\u001b[A\n",
      "\u001b[A\n",
      "\u001b[A\n",
      "\u001b[A\n",
      "\u001b[A\n",
      "\u001b[A\n",
      "\u001b[A\n",
      "\u001b[A\n",
      "\u001b[A\n",
      "\u001b[A\n",
      "\u001b[A\n",
      "\u001b[A\n",
      "\u001b[A\n",
      "\u001b[A\n",
      "\u001b[A\n",
      "\u001b[A\n",
      "\u001b[A\n",
      "\u001b[A\n",
      "\u001b[A\n",
      "\u001b[A\n",
      "\u001b[A\n",
      "\u001b[A\n",
      "\u001b[A\n",
      "\u001b[A\n",
      "\u001b[A\n",
      "\u001b[A\n",
      "\u001b[A\n",
      "\u001b[A\n",
      "\u001b[A\n",
      "\u001b[A\n",
      "\u001b[A\n",
      "\u001b[A\n",
      "\u001b[A\n",
      "\u001b[A\n",
      "\u001b[A\n",
      "\u001b[A\n",
      "\u001b[A\n",
      "\u001b[A\n",
      "\u001b[A\n",
      "\u001b[A\n",
      "\u001b[A\n",
      "\u001b[A\n",
      "\u001b[A\n",
      "\u001b[A\n",
      "Processing PIV data:  33%|███▎      | 2/6 [00:24<00:49, 12.31s/it]\n",
      "\u001b[A\n",
      "\u001b[A\n",
      "\u001b[A\n",
      "\u001b[A\n",
      "\u001b[A\n",
      "\u001b[A\n",
      "\u001b[A\n",
      "\u001b[A\n",
      "\u001b[A\n",
      "\u001b[A\n",
      "\u001b[A\n",
      "\u001b[A\n",
      "\u001b[A\n",
      "\u001b[A\n",
      "\u001b[A\n",
      "\u001b[A\n",
      "\u001b[A\n",
      "\u001b[A\n",
      "\u001b[A\n",
      "\u001b[A\n",
      "\u001b[A\n",
      "\u001b[A\n",
      "\u001b[A\n",
      "\u001b[A\n",
      "\u001b[A\n",
      "\u001b[A\n",
      "\u001b[A\n",
      "\u001b[A\n",
      "\u001b[A\n",
      "\u001b[A\n",
      "\u001b[A\n",
      "\u001b[A\n",
      "\u001b[A\n",
      "\u001b[A\n",
      "\u001b[A\n",
      "\u001b[A\n",
      "\u001b[A\n",
      "\u001b[A\n",
      "\u001b[A\n",
      "\u001b[A\n",
      "\u001b[A\n",
      "\u001b[A\n",
      "\u001b[A\n",
      "\u001b[A\n",
      "\u001b[A\n",
      "\u001b[A\n",
      "\u001b[A\n",
      "\u001b[A\n",
      "\u001b[A\n",
      "\u001b[A\n",
      "\u001b[A\n",
      "\u001b[A\n",
      "\u001b[A\n",
      "\u001b[A\n",
      "\u001b[A\n",
      "\u001b[A\n",
      "\u001b[A\n",
      "\u001b[A\n",
      "\u001b[A\n",
      "\u001b[A\n",
      "\u001b[A\n",
      "\u001b[A\n",
      "\u001b[A\n",
      "Processing PIV data:  50%|█████     | 3/6 [00:38<00:38, 12.79s/it]\n",
      "\u001b[A\n",
      "\u001b[A\n",
      "\u001b[A\n",
      "\u001b[A\n",
      "\u001b[A\n",
      "\u001b[A\n",
      "\u001b[A\n",
      "\u001b[A\n",
      "\u001b[A\n",
      "\u001b[A\n",
      "\u001b[A\n",
      "\u001b[A\n",
      "\u001b[A\n",
      "\u001b[A\n",
      "\u001b[A\n",
      "\u001b[A\n",
      "\u001b[A\n",
      "\u001b[A\n",
      "\u001b[A\n",
      "\u001b[A\n",
      "\u001b[A\n",
      "\u001b[A\n",
      "\u001b[A\n",
      "\u001b[A\n",
      "\u001b[A\n",
      "\u001b[A\n",
      "\u001b[A\n",
      "\u001b[A\n",
      "\u001b[A\n",
      "\u001b[A\n",
      "\u001b[A\n",
      "\u001b[A\n",
      "\u001b[A\n",
      "\u001b[A\n",
      "\u001b[A\n",
      "\u001b[A\n",
      "\u001b[A\n",
      "\u001b[A\n",
      "\u001b[A\n",
      "\u001b[A\n",
      "\u001b[A\n",
      "\u001b[A\n",
      "\u001b[A\n",
      "\u001b[A\n",
      "\u001b[A\n",
      "\u001b[A\n",
      "\u001b[A\n",
      "\u001b[A\n",
      "\u001b[A\n",
      "\u001b[A\n",
      "\u001b[A\n",
      "\u001b[A\n",
      "\u001b[A\n",
      "\u001b[A\n",
      "\u001b[A\n",
      "\u001b[A\n",
      "\u001b[A\n",
      "\u001b[A\n",
      "\u001b[A\n",
      "Processing PIV data:  67%|██████▋   | 4/6 [00:51<00:25, 12.93s/it]\n",
      "\u001b[A\n",
      "\u001b[A\n",
      "\u001b[A\n",
      "\u001b[A\n",
      "\u001b[A\n",
      "\u001b[A\n",
      "\u001b[A\n",
      "\u001b[A\n",
      "\u001b[A\n",
      "\u001b[A\n",
      "\u001b[A\n",
      "\u001b[A\n",
      "\u001b[A\n",
      "\u001b[A\n",
      "\u001b[A\n",
      "\u001b[A\n",
      "\u001b[A\n",
      "\u001b[A\n",
      "\u001b[A\n",
      "\u001b[A\n",
      "\u001b[A\n",
      "\u001b[A\n",
      "\u001b[A\n",
      "\u001b[A\n",
      "\u001b[A\n",
      "\u001b[A\n",
      "\u001b[A\n",
      "\u001b[A\n",
      "\u001b[A\n",
      "\u001b[A\n",
      "\u001b[A\n",
      "\u001b[A\n",
      "\u001b[A\n",
      "\u001b[A\n",
      "\u001b[A\n",
      "\u001b[A\n",
      "\u001b[A\n",
      "\u001b[A\n",
      "\u001b[A\n",
      "\u001b[A\n",
      "\u001b[A\n",
      "\u001b[A\n",
      "\u001b[A\n",
      "\u001b[A\n",
      "\u001b[A\n",
      "\u001b[A\n",
      "\u001b[A\n",
      "\u001b[A\n",
      "\u001b[A\n",
      "\u001b[A\n",
      "\u001b[A\n",
      "\u001b[A\n",
      "\u001b[A\n",
      "\u001b[A\n",
      "\u001b[A\n",
      "\u001b[A\n",
      "\u001b[A\n",
      "Processing PIV data:  83%|████████▎ | 5/6 [01:03<00:12, 12.77s/it]\n",
      "\u001b[A\n",
      "\u001b[A\n",
      "\u001b[A\n",
      "\u001b[A\n",
      "\u001b[A\n",
      "\u001b[A\n",
      "\u001b[A\n",
      "\u001b[A\n",
      "\u001b[A\n",
      "\u001b[A\n",
      "\u001b[A\n",
      "\u001b[A\n",
      "\u001b[A\n",
      "\u001b[A\n",
      "\u001b[A\n",
      "\u001b[A\n",
      "\u001b[A\n",
      "\u001b[A\n",
      "\u001b[A\n",
      "\u001b[A\n",
      "\u001b[A\n",
      "\u001b[A\n",
      "\u001b[A\n",
      "\u001b[A\n",
      "\u001b[A\n",
      "\u001b[A\n",
      "\u001b[A\n",
      "\u001b[A\n",
      "\u001b[A\n",
      "\u001b[A\n",
      "\u001b[A\n",
      "\u001b[A\n",
      "\u001b[A\n",
      "\u001b[A\n",
      "\u001b[A\n",
      "\u001b[A\n",
      "\u001b[A\n",
      "\u001b[A\n",
      "\u001b[A\n",
      "\u001b[A\n",
      "\u001b[A\n",
      "\u001b[A\n",
      "\u001b[A\n",
      "\u001b[A\n",
      "\u001b[A\n",
      "\u001b[A\n",
      "\u001b[A\n",
      "\u001b[A\n",
      "\u001b[A\n",
      "\u001b[A\n",
      "\u001b[A\n",
      "\u001b[A\n",
      "\u001b[A\n",
      "\u001b[A\n",
      "\u001b[A\n",
      "\u001b[A\n",
      "\u001b[A\n",
      "\u001b[A\n",
      "\u001b[A\n",
      "\u001b[A\n",
      "Processing PIV data: 100%|██████████| 6/6 [01:16<00:00, 12.76s/it]\n"
     ]
    }
   ],
   "source": [
    "time_interval_list = [45] * len(conditions)  # time intervals in seconds between frames for each condition\n",
    "\n",
    "\n",
    "# Process PIV data\n",
    "qd.process_piv_data(\n",
    "    data_path, \n",
    "    conditions,\n",
    "    subconditions, \n",
    "    feature_limits, \n",
    "    time_interval_list, \n",
    "    min_frame=0, \n",
    "    max_frame=None, \n",
    "    skip_frames=1, \n",
    "    plot_autocorrelation=False, \n",
    "    frame_rate=1, \n",
    "    heatmaps=False\n",
    "    )\n"
   ]
  },
  {
   "cell_type": "code",
   "execution_count": 10,
   "metadata": {},
   "outputs": [
    {
     "name": "stderr",
     "output_type": "stream",
     "text": [
      "Plotting PIV features: 100%|██████████| 6/6 [00:11<00:00,  1.97s/it]\n",
      "Plotting averaged PIV features: 100%|██████████| 6/6 [00:08<00:00,  1.48s/it]\n",
      "Collecting PIV data: 100%|██████████| 6/6 [00:00<00:00, 285.77it/s]\n"
     ]
    }
   ],
   "source": [
    "# Plot features and PCA\n",
    "qd.plot_PIV_all(\n",
    "    data_path, \n",
    "    conditions,\n",
    "    subconditions, \n",
    "    features_pca, \n",
    "    min_frame=0, \n",
    "    max_frame=500\n",
    "    )\n"
   ]
  },
  {
   "cell_type": "markdown",
   "metadata": {},
   "source": [
    "### Expression + PIV"
   ]
  },
  {
   "cell_type": "code",
   "execution_count": 11,
   "metadata": {},
   "outputs": [
    {
     "name": "stderr",
     "output_type": "stream",
     "text": [
      "Conditions: 100%|██████████| 6/6 [00:00<00:00, 167.22it/s]"
     ]
    },
    {
     "name": "stdout",
     "output_type": "stream",
     "text": [
      "Combined DataFrame saved to: ../../../../Thomson Lab Dropbox/David Larios/activedrops/main/090824-sustainedMotors-29C/2p5TMB-1ulDNA100nM_2/output_data/combined_PIV.csv\n"
     ]
    },
    {
     "name": "stderr",
     "output_type": "stream",
     "text": [
      "\n"
     ]
    }
   ],
   "source": [
    "# Combine the data and save it to the \"output_data\" directory\n",
    "qd.combine_averaged_dataframes(data_path, conditions, subconditions)\n"
   ]
  },
  {
   "cell_type": "code",
   "execution_count": 12,
   "metadata": {},
   "outputs": [
    {
     "name": "stdout",
     "output_type": "stream",
     "text": [
      "Merged DataFrame saved to: ../../../../Thomson Lab Dropbox/David Larios/activedrops/main/090824-sustainedMotors-29C/2p5TMB-1ulDNA100nM_2/output_data/merged_expression_PIV.csv\n"
     ]
    }
   ],
   "source": [
    "qd.merge_expression_piv_data(data_path)\n"
   ]
  },
  {
   "cell_type": "code",
   "execution_count": 15,
   "metadata": {},
   "outputs": [
    {
     "name": "stdout",
     "output_type": "stream",
     "text": [
      "Plot saved for condition AcSu2-29C at ../../../../Thomson Lab Dropbox/David Larios/activedrops/main/090824-sustainedMotors-29C/2p5TMB-1ulDNA100nM_2/output_data/expression_piv_plots/Protein_Concentration_nM_vs_velocity_magnitude_m_s_mean_AcSu2-29C.png\n",
      "Plot saved for condition AcSu-29C at ../../../../Thomson Lab Dropbox/David Larios/activedrops/main/090824-sustainedMotors-29C/2p5TMB-1ulDNA100nM_2/output_data/expression_piv_plots/Protein_Concentration_nM_vs_velocity_magnitude_m_s_mean_AcSu-29C.png\n",
      "Plot saved for condition AdPa-29C at ../../../../Thomson Lab Dropbox/David Larios/activedrops/main/090824-sustainedMotors-29C/2p5TMB-1ulDNA100nM_2/output_data/expression_piv_plots/Protein_Concentration_nM_vs_velocity_magnitude_m_s_mean_AdPa-29C.png\n",
      "Plot saved for condition BleSto-29C at ../../../../Thomson Lab Dropbox/David Larios/activedrops/main/090824-sustainedMotors-29C/2p5TMB-1ulDNA100nM_2/output_data/expression_piv_plots/Protein_Concentration_nM_vs_velocity_magnitude_m_s_mean_BleSto-29C.png\n",
      "Plot saved for condition DiPu-29C at ../../../../Thomson Lab Dropbox/David Larios/activedrops/main/090824-sustainedMotors-29C/2p5TMB-1ulDNA100nM_2/output_data/expression_piv_plots/Protein_Concentration_nM_vs_velocity_magnitude_m_s_mean_DiPu-29C.png\n",
      "Plot saved for condition Kif5-29C at ../../../../Thomson Lab Dropbox/David Larios/activedrops/main/090824-sustainedMotors-29C/2p5TMB-1ulDNA100nM_2/output_data/expression_piv_plots/Protein_Concentration_nM_vs_velocity_magnitude_m_s_mean_Kif5-29C.png\n",
      "Plot saved for condition NaFo-29C at ../../../../Thomson Lab Dropbox/David Larios/activedrops/main/090824-sustainedMotors-29C/2p5TMB-1ulDNA100nM_2/output_data/expression_piv_plots/Protein_Concentration_nM_vs_velocity_magnitude_m_s_mean_NaFo-29C.png\n",
      "Plot saved for condition ThTr-29C at ../../../../Thomson Lab Dropbox/David Larios/activedrops/main/090824-sustainedMotors-29C/2p5TMB-1ulDNA100nM_2/output_data/expression_piv_plots/Protein_Concentration_nM_vs_velocity_magnitude_m_s_mean_ThTr-29C.png\n",
      "Plot saved for condition TiLa-29C at ../../../../Thomson Lab Dropbox/David Larios/activedrops/main/090824-sustainedMotors-29C/2p5TMB-1ulDNA100nM_2/output_data/expression_piv_plots/Protein_Concentration_nM_vs_velocity_magnitude_m_s_mean_TiLa-29C.png\n",
      "Combined plot saved at ../../../../Thomson Lab Dropbox/David Larios/activedrops/main/090824-sustainedMotors-29C/2p5TMB-1ulDNA100nM_2/output_data/expression_piv_plots/Protein_Concentration_nM_vs_velocity_magnitude_m_s_mean_All_Conditions.png\n"
     ]
    }
   ],
   "source": [
    "# # Specify the columns you want to plot\n",
    "x_column = \"Protein Concentration_nM\"  # Example x-axis column\n",
    "y_column = \"velocity magnitude [m/s]_mean\"  # Example y-axis column\n",
    "\n",
    "\n",
    "# Apply Gaussian smoothing with sigma_x=2 and sigma_y=1\n",
    "qd.plot_columns(data_path, x_column, y_column, sigma_x=1, sigma_y=1, x_log=False, y_log=False, min_frame=0, max_frame=None)\n"
   ]
  },
  {
   "cell_type": "code",
   "execution_count": 16,
   "metadata": {},
   "outputs": [
    {
     "name": "stdout",
     "output_type": "stream",
     "text": [
      "Available columns in the DataFrame: Index(['condition', 'subcondition', 'time (s)', 'Time_min', 'Time_h',\n",
      "       'Mean Intensity', 'Protein Concentration_ng_ul',\n",
      "       'Protein Concentration_nM', 'Number of Protein Molecules',\n",
      "       'Rate of Change of Protein Molecules per Second',\n",
      "       'Translation Rate aa_s', 'Unnamed: 0', 'frame', 'x [m]_mean',\n",
      "       'y [m]_mean', 'u [m/s]_mean', 'v [m/s]_mean', 'data type [-]_mean',\n",
      "       'vorticity [1/s]_mean', 'velocity magnitude [m/s]_mean',\n",
      "       'divergence [1/s]_mean', 'dcev [1]_mean', 'shear [1/s]_mean',\n",
      "       'strain [1/s]_mean', 'vector direction [degrees]_mean',\n",
      "       'correlation length [m]_mean', 'distance [m]_mean', 'power [W]_mean',\n",
      "       'work [J]_mean', 'time (min)', 'time (h)'],\n",
      "      dtype='object')\n",
      "PCA plot with gradient lines saved at ../../../../Thomson Lab Dropbox/David Larios/activedrops/main/090824-sustainedMotors-29C/2p5TMB-1ulDNA100nM_2/output_data/expression_piv_plots/PCA_plot_all_conditions_gradient.jpg\n",
      "Individual PCA plot for AcSu-29C_Rep1 saved at ../../../../Thomson Lab Dropbox/David Larios/activedrops/main/090824-sustainedMotors-29C/2p5TMB-1ulDNA100nM_2/output_data/expression_piv_plots/PCA_plot_AcSu-29C_Rep1_gradient.jpg\n",
      "Individual PCA plot for AdPa-29C_Rep1 saved at ../../../../Thomson Lab Dropbox/David Larios/activedrops/main/090824-sustainedMotors-29C/2p5TMB-1ulDNA100nM_2/output_data/expression_piv_plots/PCA_plot_AdPa-29C_Rep1_gradient.jpg\n",
      "Individual PCA plot for DiPu-29C_Rep1 saved at ../../../../Thomson Lab Dropbox/David Larios/activedrops/main/090824-sustainedMotors-29C/2p5TMB-1ulDNA100nM_2/output_data/expression_piv_plots/PCA_plot_DiPu-29C_Rep1_gradient.jpg\n",
      "Individual PCA plot for Kif5-29C_Rep1 saved at ../../../../Thomson Lab Dropbox/David Larios/activedrops/main/090824-sustainedMotors-29C/2p5TMB-1ulDNA100nM_2/output_data/expression_piv_plots/PCA_plot_Kif5-29C_Rep1_gradient.jpg\n",
      "Individual PCA plot for ThTr-29C_Rep1 saved at ../../../../Thomson Lab Dropbox/David Larios/activedrops/main/090824-sustainedMotors-29C/2p5TMB-1ulDNA100nM_2/output_data/expression_piv_plots/PCA_plot_ThTr-29C_Rep1_gradient.jpg\n",
      "Individual PCA plot for TiLa-29C_Rep1 saved at ../../../../Thomson Lab Dropbox/David Larios/activedrops/main/090824-sustainedMotors-29C/2p5TMB-1ulDNA100nM_2/output_data/expression_piv_plots/PCA_plot_TiLa-29C_Rep1_gradient.jpg\n"
     ]
    }
   ],
   "source": [
    "\n",
    "# List of features for PCA\n",
    "features_pca = [\n",
    "    \"vorticity [1/s]_mean\",\n",
    "    \"velocity magnitude [m/s]_mean\",\n",
    "    \"distance [m]_mean\",\n",
    "    \"divergence [1/s]_mean\",\n",
    "    \"shear [1/s]_mean\",\n",
    "    \"strain [1/s]_mean\",\n",
    "    \"correlation length [m]_mean\", \n",
    "    \"power [W]_mean\",\n",
    "    \"work [J]_mean\",\n",
    "    'vector direction [degrees]_mean',\n",
    "    \"Protein Concentration_nM\", \n",
    "    'time (min)'\n",
    "]\n",
    "\n",
    "# Run PCA and save plot (with all conditions and subconditions in the same plot)\n",
    "qd.plot_pca_expression_piv(data_path, conditions=conditions, subconditions=subconditions, features=features_pca, sigma=1)\n"
   ]
  },
  {
   "cell_type": "code",
   "execution_count": null,
   "metadata": {},
   "outputs": [],
   "source": [
    "\n",
    "# Example usage\n",
    "qd.delete_outputs(data_path, conditions, subconditions, output_dirs=None)\n"
   ]
  },
  {
   "cell_type": "code",
   "execution_count": null,
   "metadata": {},
   "outputs": [],
   "source": []
  }
 ],
 "metadata": {
  "kernelspec": {
   "display_name": "Python 3.11.5 (venv)",
   "language": "python",
   "name": "my_venv_3_11_5"
  },
  "language_info": {
   "codemirror_mode": {
    "name": "ipython",
    "version": 3
   },
   "file_extension": ".py",
   "mimetype": "text/x-python",
   "name": "python",
   "nbconvert_exporter": "python",
   "pygments_lexer": "ipython3",
   "version": "3.11.5"
  }
 },
 "nbformat": 4,
 "nbformat_minor": 2
}
