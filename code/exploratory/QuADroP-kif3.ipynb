{
 "cells": [
  {
   "cell_type": "code",
   "execution_count": 1,
   "metadata": {},
   "outputs": [],
   "source": [
    "## Import relevant libraries\n",
    "import sys\n",
    "sys.path.append('../../activedrops')\n",
    "\n",
    "## Including ourselves\n",
    "import quadrop as qd\n",
    "qd.set_plotting_style()"
   ]
  },
  {
   "cell_type": "markdown",
   "metadata": {},
   "source": [
    "Ok so let's first define our data path, conditions and subconditions. This step is essential to start the analysis."
   ]
  },
  {
   "cell_type": "code",
   "execution_count": 2,
   "metadata": {},
   "outputs": [],
   "source": [
    "# data info\n",
    "data_path = \"../../data/kif3_phases_piv/\"\n",
    "conditions = [\"DNA40nM_MT20uM\", \"DNA60nM_MT20uM\", \"DNA80nM_MT20uM\"]\n",
    "subconditions = [\"Pos0\", \"Pos1\", \"Pos2\"]\n",
    "\n",
    "# frame info\n",
    "min_frame = 0\n",
    "max_frame = 999\n",
    "skip_frames=1\n",
    "frame_rate=120\n",
    "time_intervals = [3, 3, 3]\n",
    "\n",
    "# channel info\n",
    "channel = \"gfp\"\n",
    "vmax = 1\n"
   ]
  },
  {
   "cell_type": "code",
   "execution_count": null,
   "metadata": {},
   "outputs": [],
   "source": [
    "# Call the function with the updated parameters\n",
    "qd.plot_fluorescence_vs_time(\n",
    "    data_path=data_path,\n",
    "    conditions=conditions,\n",
    "    subconditions=subconditions,\n",
    "    channel=\"gfp\",\n",
    "    time_intervals=time_intervals,  \n",
    "    min_frame=min_frame,\n",
    "    max_frame=max_frame,\n",
    "    skip_frames=skip_frames,\n",
    "    log_scale=False,  # Set log_scale to True\n",
    "    timescale=\"min\"\n",
    ")\n"
   ]
  },
  {
   "cell_type": "code",
   "execution_count": null,
   "metadata": {},
   "outputs": [],
   "source": [
    "# Call the function with the updated parameters\n",
    "qd.plot_average_fluorescence_vs_time(\n",
    "    data_path=data_path,\n",
    "    conditions=conditions,\n",
    "    subconditions=subconditions,\n",
    "    channel=\"gfp\",\n",
    "    time_intervals=time_intervals,  \n",
    "    min_frame=min_frame,\n",
    "    max_frame=max_frame,\n",
    "    skip_frames=skip_frames,\n",
    "    log_scale=False,  # Set log_scale to True\n",
    "    timescale=\"min\"\n",
    ")\n"
   ]
  },
  {
   "cell_type": "code",
   "execution_count": null,
   "metadata": {},
   "outputs": [],
   "source": [
    "qd.single_fluorescence_movies(data_path, conditions, subconditions, channel, time_intervals, min_frame, max_frame, vmax, skip_frames, frame_rate)"
   ]
  },
  {
   "cell_type": "code",
   "execution_count": null,
   "metadata": {},
   "outputs": [],
   "source": [
    "qd.grid_heatmaps(data_path, conditions, subconditions, \"gfp\", frame_rate=frame_rate)\n"
   ]
  },
  {
   "cell_type": "markdown",
   "metadata": {},
   "source": [
    "Now let's go to the PIV section"
   ]
  },
  {
   "cell_type": "code",
   "execution_count": 3,
   "metadata": {},
   "outputs": [],
   "source": [
    "qd.convert_images(data_path, conditions, subconditions, max_frame=max_frame, skip_frames=skip_frames)"
   ]
  },
  {
   "cell_type": "code",
   "execution_count": null,
   "metadata": {},
   "outputs": [],
   "source": [
    "v = 2E-6\n",
    "velocity_limits = (0, v)\n",
    "other_limits = (-0.0005, 0.0005)\n",
    "\n",
    "\n",
    "# velocity_limits = (None, None)\n",
    "# other_limits = (None, None)\n",
    "\n",
    "\n",
    "feature_limits = {\n",
    "    'u [m/s]': (-v, v), \n",
    "    'v [m/s]': (-v, v), \n",
    "    'data type [-]': (None, None),\n",
    "    'velocity magnitude [m/s]': velocity_limits,\n",
    "    'vorticity [1/s]': other_limits,\n",
    "    'divergence [1/s]': other_limits,\n",
    "    'dcev [1]': (0, 250),\n",
    "    'shear [1/s]': other_limits,\n",
    "    'strain [1/s]': other_limits,\n",
    "    'vector direction [degrees]': (-180, 180),\n",
    "}\n"
   ]
  },
  {
   "cell_type": "code",
   "execution_count": null,
   "metadata": {},
   "outputs": [],
   "source": [
    "qd.process_piv_data(\n",
    "    data_path=data_path, \n",
    "    conditions=conditions, \n",
    "    subconditions=subconditions, \n",
    "    feature_limits=feature_limits,\n",
    "    time_intervals=time_intervals,\n",
    "    min_frame=min_frame, \n",
    "    max_frame=max_frame,\n",
    "    skip_frames=skip_frames, \n",
    "    plot_autocorrelation=True, \n",
    "    frame_rate=frame_rate, \n",
    "    heatmaps=True\n",
    ")"
   ]
  },
  {
   "cell_type": "code",
   "execution_count": null,
   "metadata": {},
   "outputs": [],
   "source": [
    "# Usage example\n",
    "features_pca = [\n",
    "    \"vorticity [1/s]_mean\",\n",
    "    \"velocity magnitude [um/s]\",\n",
    "    \"divergence [1/s]_mean\",\n",
    "    \"shear [1/s]_mean\",\n",
    "    \"strain [1/s]_mean\",\n",
    "    \"correlation length [um]\",\n",
    "    \"power [W]_mean\",\n",
    "    \"work [J]\",\n",
    "]\n",
    "\n",
    "qd.plot_PIV_features(data_path, conditions, subconditions, features_pca, time_intervals, min_frame=min_frame, max_frame=max_frame)"
   ]
  },
  {
   "cell_type": "code",
   "execution_count": null,
   "metadata": {},
   "outputs": [],
   "source": [
    "qd.plot_PIV_features(data_path, conditions[:1], subconditions, features_pca, time_intervals, min_frame=min_frame, max_frame=max_frame)\n",
    "\n",
    "qd.plot_PIV_features(data_path, conditions[1:2], subconditions, features_pca, time_intervals, min_frame=min_frame, max_frame=max_frame)\n",
    "\n",
    "qd.plot_PIV_features(data_path, conditions[2:3], subconditions, features_pca, time_intervals, min_frame=min_frame, max_frame=max_frame)"
   ]
  },
  {
   "cell_type": "code",
   "execution_count": null,
   "metadata": {},
   "outputs": [],
   "source": []
  },
  {
   "cell_type": "code",
   "execution_count": null,
   "metadata": {},
   "outputs": [],
   "source": []
  },
  {
   "cell_type": "code",
   "execution_count": null,
   "metadata": {},
   "outputs": [],
   "source": []
  },
  {
   "cell_type": "code",
   "execution_count": null,
   "metadata": {},
   "outputs": [],
   "source": []
  }
 ],
 "metadata": {
  "kernelspec": {
   "display_name": "base",
   "language": "python",
   "name": "python3"
  },
  "language_info": {
   "codemirror_mode": {
    "name": "ipython",
    "version": 3
   },
   "file_extension": ".py",
   "mimetype": "text/x-python",
   "name": "python",
   "nbconvert_exporter": "python",
   "pygments_lexer": "ipython3",
   "version": "3.11.5"
  }
 },
 "nbformat": 4,
 "nbformat_minor": 2
}
