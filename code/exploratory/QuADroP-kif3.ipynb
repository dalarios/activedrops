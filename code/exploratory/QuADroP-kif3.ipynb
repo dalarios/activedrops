{
 "cells": [
  {
   "cell_type": "markdown",
   "metadata": {},
   "source": [
    "Let's write up a demo of our package QuAADro (Quantitative Analysis of Active Drops) using Kif3_piv imaging. "
   ]
  },
  {
   "cell_type": "code",
   "execution_count": null,
   "metadata": {},
   "outputs": [],
   "source": [
    "## Import relevant libraries\n",
    "import sys\n",
    "sys.path.append('../../activedrops')\n",
    "\n",
    "## Including ourselves\n",
    "import quadrop as qd\n",
    "qd.set_plotting_style()"
   ]
  },
  {
   "cell_type": "markdown",
   "metadata": {},
   "source": [
    "Ok so let's first define our data path, conditions and subconditions. This step is essential to start the analysis."
   ]
  },
  {
   "cell_type": "code",
   "execution_count": null,
   "metadata": {},
   "outputs": [],
   "source": [
    "# Example usage\n",
    "data_path = \"../../data/kif3_phases_piv/\"\n",
    "conditions = [\"DNA40nM_MT20uM\", \"DNA60nM_MT20uM\", \"DNA80nM_MT20uM\"]\n",
    "subconditions = [\"Pos0\", \"Pos1\", \"Pos2\"]\n",
    "min_frame = 0\n",
    "max_frame = 1399\n",
    "skip_frames=64\n",
    "frame_rate=120\n",
    "time_intervals = {conditions[0]: 3, conditions[1]: 3, conditions[2]: 3}\n"
   ]
  },
  {
   "cell_type": "code",
   "execution_count": null,
   "metadata": {},
   "outputs": [],
   "source": [
    "# Call the function with the updated parameters\n",
    "qd.plot_fluorescence_vs_time(\n",
    "    data_path=data_path,\n",
    "    conditions=conditions,\n",
    "    subconditions=subconditions,\n",
    "    channel=\"gfp\",\n",
    "    time_intervals=time_intervals,  \n",
    "    min_frame=min_frame,\n",
    "    max_frame=max_frame,\n",
    "    skip_frames=skip_frames,\n",
    "    log_scale=False,  # Set log_scale to True\n",
    "    timescale=\"min\"\n",
    ")\n"
   ]
  },
  {
   "cell_type": "code",
   "execution_count": null,
   "metadata": {},
   "outputs": [],
   "source": [
    "# Call the function with the updated parameters\n",
    "qd.plot_average_fluorescence_vs_time(\n",
    "    data_path=data_path,\n",
    "    conditions=conditions,\n",
    "    subconditions=subconditions,\n",
    "    channel=\"gfp\",\n",
    "    time_intervals=time_intervals,  \n",
    "    min_frame=min_frame,\n",
    "    max_frame=max_frame,\n",
    "    skip_frames=skip_frames,\n",
    "    log_scale=False,  # Set log_scale to True\n",
    "    timescale=\"min\"\n",
    ")\n"
   ]
  },
  {
   "cell_type": "code",
   "execution_count": null,
   "metadata": {},
   "outputs": [],
   "source": [
    "qd.process_all_conditions_and_subconditions(\n",
    "    data_path=data_path,\n",
    "    conditions=conditions,\n",
    "    subconditions=subconditions,\n",
    "    channel=\"gfp\",\n",
    "    time_interval=3,  # Adjust as needed\n",
    "    skip_frames=skip_frames,\n",
    "    vmax=1,  # Adjust as needed\n",
    "    frame_rate=frame_rate,  # Adjust as needed\n",
    "    min_frame=0,\n",
    "    max_frame=max_frame,\n",
    ")\n"
   ]
  },
  {
   "cell_type": "code",
   "execution_count": null,
   "metadata": {},
   "outputs": [],
   "source": [
    "qd.grid_heatmaps(data_path, conditions, subconditions, \"gfp\")"
   ]
  },
  {
   "cell_type": "code",
   "execution_count": null,
   "metadata": {},
   "outputs": [],
   "source": [
    "qd.create_movies_grid(data_path, 'gfp', frame_rate)"
   ]
  },
  {
   "cell_type": "markdown",
   "metadata": {},
   "source": [
    "Now let's go to the PIV section"
   ]
  },
  {
   "cell_type": "code",
   "execution_count": null,
   "metadata": {},
   "outputs": [],
   "source": [
    "qd.convert_images(data_path, conditions, subconditions, max_frame=max_frame, skip_frames=skip_frames)"
   ]
  },
  {
   "cell_type": "code",
   "execution_count": null,
   "metadata": {},
   "outputs": [],
   "source": [
    "v = 2E-6\n",
    "velocity_limits = (0, v)\n",
    "other_limits = (-0.0005, 0.0005)\n",
    "\n",
    "\n",
    "# velocity_limits = (None, None)\n",
    "# other_limits = (None, None)\n",
    "\n",
    "\n",
    "feature_limits = {\n",
    "    'u [m/s]': (-v, v), \n",
    "    'v [m/s]': (-v, v), \n",
    "    'data type [-]': (None, None),\n",
    "    'velocity magnitude [m/s]': velocity_limits,\n",
    "    'vorticity [1/s]': other_limits,\n",
    "    'divergence [1/s]': other_limits,\n",
    "    'dcev [1]': (0, 250),\n",
    "    'shear [1/s]': other_limits,\n",
    "    'strain [1/s]': other_limits,\n",
    "    'vector direction [degrees]': (-180, 180),\n",
    "}\n"
   ]
  },
  {
   "cell_type": "code",
   "execution_count": null,
   "metadata": {},
   "outputs": [],
   "source": [
    "# Process all conditions and subconditions\n",
    "qd.process_all_conditions_piv(\n",
    "    data_path, conditions, subconditions, feature_limits,\n",
    "    min_frame=min_frame, max_frame=max_frame,\n",
    "    skip_frames=skip_frames, plot_autocorrelation=False, time_interval=3\n",
    ")\n"
   ]
  },
  {
   "cell_type": "code",
   "execution_count": null,
   "metadata": {},
   "outputs": [],
   "source": [
    "features_pca = [\n",
    "    # \"data type [-]_mean\", \n",
    "    \"vorticity [1/s]_mean\",\t\n",
    "    \"velocity magnitude [um/s]\", \n",
    "    \"divergence [1/s]_mean\", \n",
    "    # \"dcev [1]_mean\", \n",
    "    \"shear [1/s]_mean\", \n",
    "    \"strain [1/s]_mean\", \n",
    "    # \"vector direction [degrees]_mean\", \n",
    "    \"correlation length [um]\", \n",
    "    \"power [W]_mean\",\n",
    "    \"work [J]\", \n",
    "    ]\n",
    "\n",
    "\n",
    "qd.plot_features(\n",
    "    [data_path, data_path, data_path, ], \n",
    "    [conditions[0], conditions[0], conditions[0], ],\n",
    "    [subconditions[0], subconditions[1], subconditions[2],],\n",
    "    features_pca, \n",
    "    time_intervals=[3, 3, 3,], \n",
    "    sigma=10,  \n",
    "    min_frame=0, \n",
    "    max_frame=None,\n",
    "    )\n",
    "\n",
    "qd.plot_features(\n",
    "    [data_path, data_path, data_path, ], \n",
    "    [conditions[1], conditions[1], conditions[1], ],\n",
    "    [subconditions[0], subconditions[1], subconditions[2],],\n",
    "    features_pca, \n",
    "    time_intervals=[3, 3, 3,], \n",
    "    sigma=10,  \n",
    "    min_frame=0, \n",
    "    max_frame=None,\n",
    "    )\n",
    "\n",
    "qd.plot_features(\n",
    "    [data_path, data_path, data_path, ], \n",
    "    [conditions[2], conditions[2], conditions[2], ],\n",
    "    [subconditions[0], subconditions[1], subconditions[2],],\n",
    "    features_pca, \n",
    "    time_intervals=[3, 3, 3,], \n",
    "    sigma=10,  \n",
    "    min_frame=0, \n",
    "    max_frame=None,\n",
    "    )\n",
    "\n",
    "qd.plot_features(\n",
    "    [data_path, data_path, data_path, data_path, data_path, data_path, data_path, data_path, data_path], \n",
    "    [conditions[0], conditions[0], conditions[0], conditions[1], conditions[1], conditions[1], conditions[2], conditions[2], conditions[2],],\n",
    "    [subconditions[0], subconditions[1], subconditions[2], subconditions[0], subconditions[1], subconditions[2], subconditions[0], subconditions[1], subconditions[2],],\n",
    "    features_pca, \n",
    "    time_intervals=[3, 3, 3, 3, 3, 3, 3, 3, 3], \n",
    "    sigma=10,  \n",
    "    min_frame=0, \n",
    "    max_frame=None,\n",
    "    )\n",
    "\n",
    "\n",
    "qd.plot_features_averages(\n",
    "    [data_path, data_path, data_path], \n",
    "    [conditions[0], conditions[1], conditions[2],],\n",
    "    ['averaged', 'averaged', 'averaged',],\n",
    "    features_pca, \n",
    "    time_intervals=[3, 3, 3, 3, 3, 3, 300, 300, 300], \n",
    "    sigma=10,  \n",
    "    min_frame=0, \n",
    "    max_frame=None,\n",
    "    )"
   ]
  },
  {
   "cell_type": "code",
   "execution_count": null,
   "metadata": {},
   "outputs": [],
   "source": []
  },
  {
   "cell_type": "code",
   "execution_count": null,
   "metadata": {},
   "outputs": [],
   "source": []
  },
  {
   "cell_type": "code",
   "execution_count": null,
   "metadata": {},
   "outputs": [],
   "source": []
  },
  {
   "cell_type": "code",
   "execution_count": null,
   "metadata": {},
   "outputs": [],
   "source": []
  }
 ],
 "metadata": {
  "kernelspec": {
   "display_name": "base",
   "language": "python",
   "name": "python3"
  },
  "language_info": {
   "codemirror_mode": {
    "name": "ipython",
    "version": 3
   },
   "file_extension": ".py",
   "mimetype": "text/x-python",
   "name": "python",
   "nbconvert_exporter": "python",
   "pygments_lexer": "ipython3",
   "version": "3.11.5"
  }
 },
 "nbformat": 4,
 "nbformat_minor": 2
}
