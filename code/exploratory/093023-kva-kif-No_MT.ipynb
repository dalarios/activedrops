{
 "cells": [
  {
   "cell_type": "code",
   "execution_count": 1,
   "metadata": {},
   "outputs": [],
   "source": [
    "## Import relevant libraries\n",
    "import sys\n",
    "import os\n",
    "import shutil\n",
    "sys.path.append('../../activedrops')\n",
    "\n",
    "## Including ourselves\n",
    "import quadrop as qd\n",
    "qd.set_plotting_style()"
   ]
  },
  {
   "cell_type": "code",
   "execution_count": null,
   "metadata": {},
   "outputs": [],
   "source": [
    "data_path = \"../../data/093023-kva-kif-No_MT/2posKVA-2posKif3-3min_int_3/\"\n",
    "conditions = [\"k401\", \"kif3\"]\n",
    "subconditions = [\"Pos0\", \"Pos1\", \"Pos2\"]\n",
    "\n",
    "# frame info\n",
    "min_frame = 0\n",
    "max_frame = None\n",
    "skip_frames=8\n",
    "frame_rate=30\n",
    "time_intervals = [180, 180]\n"
   ]
  },
  {
   "cell_type": "code",
   "execution_count": null,
   "metadata": {},
   "outputs": [],
   "source": [
    "def reorgTiffsToOriginal(data_path, conditions, subconditions):\n",
    "    \"\"\"\n",
    "    Args:\n",
    "        data_path (_type_): _description_\n",
    "        conditions (_type_): _description_\n",
    "        subconditions (_type_): _description_\n",
    "        \n",
    "        \n",
    "    Activate when you have your subconditions inside the conditions folder. \n",
    "    This function renames the subconditions as PosX and moves the raw data do \"original\" folder.\n",
    "    \"\"\"\n",
    "    \n",
    "    \n",
    "    for condition in conditions:\n",
    "        # Get the actual subconditions in the directory\n",
    "        actual_subconditions = [name for name in os.listdir(os.path.join(data_path, condition)) if os.path.isdir(os.path.join(data_path, condition, name))]\n",
    "        \n",
    "        # Rename the actual subconditions to match the subconditions in your list\n",
    "        for i, actual_subcondition in enumerate(sorted(actual_subconditions)):\n",
    "            os.rename(os.path.join(data_path, condition, actual_subcondition), os.path.join(data_path, condition, subconditions[i]))\n",
    "        \n",
    "        for subcondition in subconditions:\n",
    "            # Construct the path to the subcondition directory\n",
    "            subcondition_path = os.path.join(data_path, condition, subcondition)\n",
    "            \n",
    "            # Create the path for the \"original\" directory within the subcondition directory\n",
    "            original_dir_path = os.path.join(subcondition_path, \"original\")\n",
    "            \n",
    "            # Always create the \"original\" directory\n",
    "            os.makedirs(original_dir_path, exist_ok=True)\n",
    "            \n",
    "            # Iterate over all files in the subcondition directory\n",
    "            for filename in os.listdir(subcondition_path):\n",
    "                # Check if the file is a .tif file\n",
    "                if filename.endswith(\".tif\"):\n",
    "                    # Construct the full path to the file\n",
    "                    file_path = os.path.join(subcondition_path, filename)\n",
    "                    \n",
    "                    # Construct the path to move the file to\n",
    "                    destination_path = os.path.join(original_dir_path, filename)\n",
    "                    \n",
    "                    # Move the file to the \"original\" directory\n",
    "                    shutil.move(file_path, destination_path)\n",
    "            print(f\"Moved .tif files from {subcondition_path} to {original_dir_path}\")\n",
    "\n",
    "\n",
    "reorgTiffsToOriginal(data_path, conditions, subconditions)"
   ]
  },
  {
   "cell_type": "code",
   "execution_count": null,
   "metadata": {},
   "outputs": [],
   "source": [
    "# channel info\n",
    "channel = \"gfp\"\n",
    "vmax = 0.2\n",
    "\n",
    "# Call the function with the updated parameters\n",
    "qd.plot_fluorescence_vs_time(\n",
    "    data_path=data_path,\n",
    "    conditions=conditions,\n",
    "    subconditions=subconditions,\n",
    "    channel=channel,\n",
    "    time_intervals=time_intervals,  \n",
    "    min_frame=min_frame,\n",
    "    max_frame=max_frame,\n",
    "    skip_frames=skip_frames,\n",
    "    log_scale=True,  # Set log_scale to True\n",
    "    timescale=\"h\"\n",
    ")\n",
    "\n",
    "\n",
    "# Call the function with the updated parameters\n",
    "qd.plot_average_fluorescence_vs_time(\n",
    "    data_path=data_path,\n",
    "    conditions=conditions,\n",
    "    subconditions=subconditions,\n",
    "    channel=channel,\n",
    "    time_intervals=time_intervals,  \n",
    "    min_frame=min_frame,\n",
    "    max_frame=max_frame,\n",
    "    skip_frames=skip_frames,\n",
    "    log_scale=True,  # Set log_scale to True\n",
    "    timescale=\"h\"\n",
    ")\n"
   ]
  },
  {
   "cell_type": "code",
   "execution_count": null,
   "metadata": {},
   "outputs": [],
   "source": [
    "vmax = 0.01\n",
    "\n",
    "qd.single_fluorescence_movies(data_path, conditions, subconditions, channel, time_intervals, min_frame, max_frame, vmax, skip_frames, frame_rate)"
   ]
  },
  {
   "cell_type": "code",
   "execution_count": null,
   "metadata": {},
   "outputs": [],
   "source": [
    "qd.grid_heatmaps(data_path, conditions, subconditions, channel, frame_rate=frame_rate, figsize=(20,24))\n"
   ]
  },
  {
   "cell_type": "code",
   "execution_count": null,
   "metadata": {},
   "outputs": [],
   "source": []
  }
 ],
 "metadata": {
  "kernelspec": {
   "display_name": "Python 3",
   "language": "python",
   "name": "python3"
  },
  "language_info": {
   "codemirror_mode": {
    "name": "ipython",
    "version": 3
   },
   "file_extension": ".py",
   "mimetype": "text/x-python",
   "name": "python",
   "nbconvert_exporter": "python",
   "pygments_lexer": "ipython3",
   "version": "3.11.5"
  }
 },
 "nbformat": 4,
 "nbformat_minor": 2
}
