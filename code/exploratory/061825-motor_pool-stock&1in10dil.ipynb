{
 "cells": [
  {
   "cell_type": "code",
   "execution_count": 1,
   "metadata": {},
   "outputs": [],
   "source": [
    "## Import relevant libraries\n",
    "import sys\n",
    "import glob\n",
    "\n",
    "sys.path.append('../../py_files/')\n",
    "import quadrop2 as qd\n",
    "\n",
    "qd.set_plotting_style()"
   ]
  },
  {
   "cell_type": "markdown",
   "metadata": {},
   "source": [
    "### Data pre-procesing"
   ]
  },
  {
   "cell_type": "code",
   "execution_count": 2,
   "metadata": {},
   "outputs": [
    {
     "name": "stdout",
     "output_type": "stream",
     "text": [
      "Consolidation appears to be already done. Directory '../../../../Thomson Lab Dropbox/David Larios/activedrops/ubuntu/061825-motor_pool-stock&1in10dil/2ulTM-0p8ulDNA_1' already exists with subfolders.\n"
     ]
    }
   ],
   "source": [
    "# Example usage\n",
    "base_dir = \"../../../../Thomson Lab Dropbox/David Larios/activedrops/ubuntu/061825-motor_pool-stock&1in10dil/\"\n",
    "qd.consolidate_images(base_dir)"
   ]
  },
  {
   "cell_type": "code",
   "execution_count": 3,
   "metadata": {},
   "outputs": [
    {
     "name": "stdout",
     "output_type": "stream",
     "text": [
      "Warning: ../../../../Thomson Lab Dropbox/David Larios/activedrops/ubuntu/061825-motor_pool-stock&1in10dil/2ulTM-0p8ulDNA_1/Pos0 does not exist. Skipping.\n",
      "Warning: ../../../../Thomson Lab Dropbox/David Larios/activedrops/ubuntu/061825-motor_pool-stock&1in10dil/2ulTM-0p8ulDNA_1/Pos1 does not exist. Skipping.\n",
      "Warning: ../../../../Thomson Lab Dropbox/David Larios/activedrops/ubuntu/061825-motor_pool-stock&1in10dil/2ulTM-0p8ulDNA_1/Pos2 does not exist. Skipping.\n",
      "Warning: ../../../../Thomson Lab Dropbox/David Larios/activedrops/ubuntu/061825-motor_pool-stock&1in10dil/2ulTM-0p8ulDNA_1/Pos3 does not exist. Skipping.\n",
      "Warning: ../../../../Thomson Lab Dropbox/David Larios/activedrops/ubuntu/061825-motor_pool-stock&1in10dil/2ulTM-0p8ulDNA_1/Pos4 does not exist. Skipping.\n",
      "Warning: ../../../../Thomson Lab Dropbox/David Larios/activedrops/ubuntu/061825-motor_pool-stock&1in10dil/2ulTM-0p8ulDNA_1/Pos5 does not exist. Skipping.\n",
      "Warning: ../../../../Thomson Lab Dropbox/David Larios/activedrops/ubuntu/061825-motor_pool-stock&1in10dil/2ulTM-0p8ulDNA_1/Pos6 does not exist. Skipping.\n",
      "Warning: ../../../../Thomson Lab Dropbox/David Larios/activedrops/ubuntu/061825-motor_pool-stock&1in10dil/2ulTM-0p8ulDNA_1/Pos7 does not exist. Skipping.\n",
      "Warning: ../../../../Thomson Lab Dropbox/David Larios/activedrops/ubuntu/061825-motor_pool-stock&1in10dil/2ulTM-0p8ulDNA_1/Pos8 does not exist. Skipping.\n",
      "Warning: ../../../../Thomson Lab Dropbox/David Larios/activedrops/ubuntu/061825-motor_pool-stock&1in10dil/2ulTM-0p8ulDNA_1/Pos9 does not exist. Skipping.\n",
      "Warning: ../../../../Thomson Lab Dropbox/David Larios/activedrops/ubuntu/061825-motor_pool-stock&1in10dil/2ulTM-0p8ulDNA_1/Pos10 does not exist. Skipping.\n",
      "Warning: ../../../../Thomson Lab Dropbox/David Larios/activedrops/ubuntu/061825-motor_pool-stock&1in10dil/2ulTM-0p8ulDNA_1/Pos11 does not exist. Skipping.\n",
      "Warning: ../../../../Thomson Lab Dropbox/David Larios/activedrops/ubuntu/061825-motor_pool-stock&1in10dil/2ulTM-0p8ulDNA_1/Pos12 does not exist. Skipping.\n",
      "Warning: ../../../../Thomson Lab Dropbox/David Larios/activedrops/ubuntu/061825-motor_pool-stock&1in10dil/2ulTM-0p8ulDNA_1/Pos13 does not exist. Skipping.\n",
      "Warning: ../../../../Thomson Lab Dropbox/David Larios/activedrops/ubuntu/061825-motor_pool-stock&1in10dil/2ulTM-0p8ulDNA_1/Pos14 does not exist. Skipping.\n",
      "Warning: ../../../../Thomson Lab Dropbox/David Larios/activedrops/ubuntu/061825-motor_pool-stock&1in10dil/2ulTM-0p8ulDNA_1/Pos15 does not exist. Skipping.\n",
      "Warning: ../../../../Thomson Lab Dropbox/David Larios/activedrops/ubuntu/061825-motor_pool-stock&1in10dil/2ulTM-0p8ulDNA_1/Pos16 does not exist. Skipping.\n",
      "Warning: ../../../../Thomson Lab Dropbox/David Larios/activedrops/ubuntu/061825-motor_pool-stock&1in10dil/2ulTM-0p8ulDNA_1/Pos17 does not exist. Skipping.\n",
      "Warning: ../../../../Thomson Lab Dropbox/David Larios/activedrops/ubuntu/061825-motor_pool-stock&1in10dil/2ulTM-0p8ulDNA_1/Pos18 does not exist. Skipping.\n",
      "Warning: ../../../../Thomson Lab Dropbox/David Larios/activedrops/ubuntu/061825-motor_pool-stock&1in10dil/2ulTM-0p8ulDNA_1/Pos19 does not exist. Skipping.\n",
      "Warning: ../../../../Thomson Lab Dropbox/David Larios/activedrops/ubuntu/061825-motor_pool-stock&1in10dil/2ulTM-0p8ulDNA_1/Pos20 does not exist. Skipping.\n",
      "Warning: ../../../../Thomson Lab Dropbox/David Larios/activedrops/ubuntu/061825-motor_pool-stock&1in10dil/2ulTM-0p8ulDNA_1/Pos21 does not exist. Skipping.\n",
      "Warning: ../../../../Thomson Lab Dropbox/David Larios/activedrops/ubuntu/061825-motor_pool-stock&1in10dil/2ulTM-0p8ulDNA_1/Pos22 does not exist. Skipping.\n",
      "Warning: ../../../../Thomson Lab Dropbox/David Larios/activedrops/ubuntu/061825-motor_pool-stock&1in10dil/2ulTM-0p8ulDNA_1/Pos23 does not exist. Skipping.\n",
      "Warning: ../../../../Thomson Lab Dropbox/David Larios/activedrops/ubuntu/061825-motor_pool-stock&1in10dil/2ulTM-0p8ulDNA_1/Pos24 does not exist. Skipping.\n",
      "Warning: ../../../../Thomson Lab Dropbox/David Larios/activedrops/ubuntu/061825-motor_pool-stock&1in10dil/2ulTM-0p8ulDNA_1/Pos25 does not exist. Skipping.\n",
      "Warning: ../../../../Thomson Lab Dropbox/David Larios/activedrops/ubuntu/061825-motor_pool-stock&1in10dil/2ulTM-0p8ulDNA_1/Pos26 does not exist. Skipping.\n",
      "Warning: ../../../../Thomson Lab Dropbox/David Larios/activedrops/ubuntu/061825-motor_pool-stock&1in10dil/2ulTM-0p8ulDNA_1/Pos27 does not exist. Skipping.\n",
      "Warning: ../../../../Thomson Lab Dropbox/David Larios/activedrops/ubuntu/061825-motor_pool-stock&1in10dil/2ulTM-0p8ulDNA_1/Pos28 does not exist. Skipping.\n",
      "Warning: ../../../../Thomson Lab Dropbox/David Larios/activedrops/ubuntu/061825-motor_pool-stock&1in10dil/2ulTM-0p8ulDNA_1/Pos29 does not exist. Skipping.\n",
      "Warning: ../../../../Thomson Lab Dropbox/David Larios/activedrops/ubuntu/061825-motor_pool-stock&1in10dil/2ulTM-0p8ulDNA_1/Pos30 does not exist. Skipping.\n",
      "Warning: ../../../../Thomson Lab Dropbox/David Larios/activedrops/ubuntu/061825-motor_pool-stock&1in10dil/2ulTM-0p8ulDNA_1/Pos31 does not exist. Skipping.\n",
      "Conditions: ['BleSto', 'BleSto2', 'BleSto2_dil', 'BleSto_dil', 'CaFa', 'CaFa_dil', 'DiDi', 'DiDi_dil', 'Giin', 'Giin_dil', 'Kif3 Vmicro', 'Kif3 Vmicro_dil', 'NCD', 'NCD_dil', 'NaFo', 'NaFo_dil', 'PaBi', 'PaBi_dil', 'PoPa', 'PoPa_dil', 'SteCoe4', 'SteCoe4?', 'SteCoe4?_dil', 'SteCoe4_dil', 'StyLe', 'StyLe_dil', 'TrBr', 'TrBr_dil', 'TrVa', 'TrVa_dil', 'Unc', 'Unc_dil']\n",
      "Subconditions: ['Rep1']\n"
     ]
    }
   ],
   "source": [
    "# Example usage\n",
    "data_path = \"../../../../Thomson Lab Dropbox/David Larios/activedrops/ubuntu/061825-motor_pool-stock&1in10dil/2ulTM-0p8ulDNA_1/\"\n",
    "\n",
    "calibration_curve_paths = sorted(glob.glob(\"../../../../Thomson Lab Dropbox/David Larios/activedrops/calibration_curve/***ugml.tif\"))\n",
    "\n",
    "\n",
    "conditions_dict = {\n",
    "    \"DiDi\": \"Pos0\",\n",
    "    \"TrVa\": \"Pos1\",\n",
    "    \"PaBi\": \"Pos2\",\n",
    "    \"Unc\": \"Pos3\",\n",
    "    \"Giin\": \"Pos4\",\n",
    "    \"NCD\": \"Pos5\",\n",
    "    \"BleSto2\": \"Pos6\",\n",
    "    \"CaFa\": \"Pos7\",\n",
    "    \"DiDi_dil\": \"Pos8\",\n",
    "    \"TrVa_dil\": \"Pos9\",\n",
    "    \"PaBi_dil\": \"Pos10\",\n",
    "    \"Unc_dil\": \"Pos11\",\n",
    "    \"Giin_dil\": \"Pos12\",\n",
    "    \"NCD_dil\": \"Pos13\",\n",
    "    \"BleSto2_dil\": \"Pos14\",\n",
    "    \"CaFa_dil\": \"Pos15\",\n",
    "    \"Kif3 Vmicro\": \"Pos16\",\n",
    "    \"BleSto\": \"Pos17\",\n",
    "    \"SteCoe4?\": \"Pos18\",\n",
    "    \"SteCoe4\": \"Pos19\",\n",
    "    \"PoPa\": \"Pos20\",\n",
    "    \"NaFo\": \"Pos21\",\n",
    "    \"TrBr\": \"Pos22\",\n",
    "    \"StyLe\": \"Pos23\",\n",
    "    \"Kif3 Vmicro_dil\": \"Pos24\",\n",
    "    \"BleSto_dil\": \"Pos25\",\n",
    "    \"SteCoe4?_dil\": \"Pos26\",\n",
    "    \"SteCoe4_dil\": \"Pos27\",\n",
    "    \"PoPa_dil\": \"Pos28\",\n",
    "    \"NaFo_dil\": \"Pos29\",\n",
    "    \"TrBr_dil\": \"Pos30\",\n",
    "    \"StyLe_dil\": \"Pos31\"\n",
    "}\n",
    "\n",
    "\n",
    "# Organize PosX folders into condition folders\n",
    "qd.organize_conditions(data_path, conditions_dict)\n",
    "\n",
    "# Now run the existing functions to reorganize the tiffs and rename the folders\n",
    "conditions, subconditions = qd.prepare_conditions(data_path)\n",
    "time_interval_list = [180] * len(conditions)  # time intervals in seconds between frames for each condition\n",
    "\n",
    "# subconditions = ['Rep1']\n",
    "print(\"Conditions:\", conditions)\n",
    "print(\"Subconditions:\", subconditions)\n",
    "\n"
   ]
  },
  {
   "cell_type": "code",
   "execution_count": 14,
   "metadata": {},
   "outputs": [
    {
     "name": "stdout",
     "output_type": "stream",
     "text": [
      "Moved .tif files from ../../../../Thomson Lab Dropbox/David Larios/activedrops/ubuntu/061825-motor_pool-stock&1in10dil/2ulTM-0p8ulDNA_1/BleSto/Rep1 to ../../../../Thomson Lab Dropbox/David Larios/activedrops/ubuntu/061825-motor_pool-stock&1in10dil/2ulTM-0p8ulDNA_1/BleSto/Rep1/original\n",
      "Moved .tif files from ../../../../Thomson Lab Dropbox/David Larios/activedrops/ubuntu/061825-motor_pool-stock&1in10dil/2ulTM-0p8ulDNA_1/BleSto2/Rep1 to ../../../../Thomson Lab Dropbox/David Larios/activedrops/ubuntu/061825-motor_pool-stock&1in10dil/2ulTM-0p8ulDNA_1/BleSto2/Rep1/original\n",
      "Moved .tif files from ../../../../Thomson Lab Dropbox/David Larios/activedrops/ubuntu/061825-motor_pool-stock&1in10dil/2ulTM-0p8ulDNA_1/BleSto2_dil/Rep1 to ../../../../Thomson Lab Dropbox/David Larios/activedrops/ubuntu/061825-motor_pool-stock&1in10dil/2ulTM-0p8ulDNA_1/BleSto2_dil/Rep1/original\n",
      "Moved .tif files from ../../../../Thomson Lab Dropbox/David Larios/activedrops/ubuntu/061825-motor_pool-stock&1in10dil/2ulTM-0p8ulDNA_1/BleSto_dil/Rep1 to ../../../../Thomson Lab Dropbox/David Larios/activedrops/ubuntu/061825-motor_pool-stock&1in10dil/2ulTM-0p8ulDNA_1/BleSto_dil/Rep1/original\n",
      "Moved .tif files from ../../../../Thomson Lab Dropbox/David Larios/activedrops/ubuntu/061825-motor_pool-stock&1in10dil/2ulTM-0p8ulDNA_1/CaFa/Rep1 to ../../../../Thomson Lab Dropbox/David Larios/activedrops/ubuntu/061825-motor_pool-stock&1in10dil/2ulTM-0p8ulDNA_1/CaFa/Rep1/original\n",
      "Moved .tif files from ../../../../Thomson Lab Dropbox/David Larios/activedrops/ubuntu/061825-motor_pool-stock&1in10dil/2ulTM-0p8ulDNA_1/CaFa_dil/Rep1 to ../../../../Thomson Lab Dropbox/David Larios/activedrops/ubuntu/061825-motor_pool-stock&1in10dil/2ulTM-0p8ulDNA_1/CaFa_dil/Rep1/original\n",
      "Moved .tif files from ../../../../Thomson Lab Dropbox/David Larios/activedrops/ubuntu/061825-motor_pool-stock&1in10dil/2ulTM-0p8ulDNA_1/DiDi/Rep1 to ../../../../Thomson Lab Dropbox/David Larios/activedrops/ubuntu/061825-motor_pool-stock&1in10dil/2ulTM-0p8ulDNA_1/DiDi/Rep1/original\n",
      "Moved .tif files from ../../../../Thomson Lab Dropbox/David Larios/activedrops/ubuntu/061825-motor_pool-stock&1in10dil/2ulTM-0p8ulDNA_1/DiDi_dil/Rep1 to ../../../../Thomson Lab Dropbox/David Larios/activedrops/ubuntu/061825-motor_pool-stock&1in10dil/2ulTM-0p8ulDNA_1/DiDi_dil/Rep1/original\n",
      "Moved .tif files from ../../../../Thomson Lab Dropbox/David Larios/activedrops/ubuntu/061825-motor_pool-stock&1in10dil/2ulTM-0p8ulDNA_1/Giin/Rep1 to ../../../../Thomson Lab Dropbox/David Larios/activedrops/ubuntu/061825-motor_pool-stock&1in10dil/2ulTM-0p8ulDNA_1/Giin/Rep1/original\n",
      "Moved .tif files from ../../../../Thomson Lab Dropbox/David Larios/activedrops/ubuntu/061825-motor_pool-stock&1in10dil/2ulTM-0p8ulDNA_1/Giin_dil/Rep1 to ../../../../Thomson Lab Dropbox/David Larios/activedrops/ubuntu/061825-motor_pool-stock&1in10dil/2ulTM-0p8ulDNA_1/Giin_dil/Rep1/original\n",
      "Moved .tif files from ../../../../Thomson Lab Dropbox/David Larios/activedrops/ubuntu/061825-motor_pool-stock&1in10dil/2ulTM-0p8ulDNA_1/Kif3 Vmicro/Rep1 to ../../../../Thomson Lab Dropbox/David Larios/activedrops/ubuntu/061825-motor_pool-stock&1in10dil/2ulTM-0p8ulDNA_1/Kif3 Vmicro/Rep1/original\n",
      "Moved .tif files from ../../../../Thomson Lab Dropbox/David Larios/activedrops/ubuntu/061825-motor_pool-stock&1in10dil/2ulTM-0p8ulDNA_1/Kif3 Vmicro_dil/Rep1 to ../../../../Thomson Lab Dropbox/David Larios/activedrops/ubuntu/061825-motor_pool-stock&1in10dil/2ulTM-0p8ulDNA_1/Kif3 Vmicro_dil/Rep1/original\n",
      "Moved .tif files from ../../../../Thomson Lab Dropbox/David Larios/activedrops/ubuntu/061825-motor_pool-stock&1in10dil/2ulTM-0p8ulDNA_1/NCD/Rep1 to ../../../../Thomson Lab Dropbox/David Larios/activedrops/ubuntu/061825-motor_pool-stock&1in10dil/2ulTM-0p8ulDNA_1/NCD/Rep1/original\n",
      "Moved .tif files from ../../../../Thomson Lab Dropbox/David Larios/activedrops/ubuntu/061825-motor_pool-stock&1in10dil/2ulTM-0p8ulDNA_1/NCD_dil/Rep1 to ../../../../Thomson Lab Dropbox/David Larios/activedrops/ubuntu/061825-motor_pool-stock&1in10dil/2ulTM-0p8ulDNA_1/NCD_dil/Rep1/original\n",
      "Moved .tif files from ../../../../Thomson Lab Dropbox/David Larios/activedrops/ubuntu/061825-motor_pool-stock&1in10dil/2ulTM-0p8ulDNA_1/NaFo/Rep1 to ../../../../Thomson Lab Dropbox/David Larios/activedrops/ubuntu/061825-motor_pool-stock&1in10dil/2ulTM-0p8ulDNA_1/NaFo/Rep1/original\n",
      "Moved .tif files from ../../../../Thomson Lab Dropbox/David Larios/activedrops/ubuntu/061825-motor_pool-stock&1in10dil/2ulTM-0p8ulDNA_1/NaFo_dil/Rep1 to ../../../../Thomson Lab Dropbox/David Larios/activedrops/ubuntu/061825-motor_pool-stock&1in10dil/2ulTM-0p8ulDNA_1/NaFo_dil/Rep1/original\n",
      "Moved .tif files from ../../../../Thomson Lab Dropbox/David Larios/activedrops/ubuntu/061825-motor_pool-stock&1in10dil/2ulTM-0p8ulDNA_1/PaBi/Rep1 to ../../../../Thomson Lab Dropbox/David Larios/activedrops/ubuntu/061825-motor_pool-stock&1in10dil/2ulTM-0p8ulDNA_1/PaBi/Rep1/original\n",
      "Moved .tif files from ../../../../Thomson Lab Dropbox/David Larios/activedrops/ubuntu/061825-motor_pool-stock&1in10dil/2ulTM-0p8ulDNA_1/PaBi_dil/Rep1 to ../../../../Thomson Lab Dropbox/David Larios/activedrops/ubuntu/061825-motor_pool-stock&1in10dil/2ulTM-0p8ulDNA_1/PaBi_dil/Rep1/original\n",
      "Moved .tif files from ../../../../Thomson Lab Dropbox/David Larios/activedrops/ubuntu/061825-motor_pool-stock&1in10dil/2ulTM-0p8ulDNA_1/PoPa/Rep1 to ../../../../Thomson Lab Dropbox/David Larios/activedrops/ubuntu/061825-motor_pool-stock&1in10dil/2ulTM-0p8ulDNA_1/PoPa/Rep1/original\n",
      "Moved .tif files from ../../../../Thomson Lab Dropbox/David Larios/activedrops/ubuntu/061825-motor_pool-stock&1in10dil/2ulTM-0p8ulDNA_1/PoPa_dil/Rep1 to ../../../../Thomson Lab Dropbox/David Larios/activedrops/ubuntu/061825-motor_pool-stock&1in10dil/2ulTM-0p8ulDNA_1/PoPa_dil/Rep1/original\n",
      "Moved .tif files from ../../../../Thomson Lab Dropbox/David Larios/activedrops/ubuntu/061825-motor_pool-stock&1in10dil/2ulTM-0p8ulDNA_1/SteCoe4/Rep1 to ../../../../Thomson Lab Dropbox/David Larios/activedrops/ubuntu/061825-motor_pool-stock&1in10dil/2ulTM-0p8ulDNA_1/SteCoe4/Rep1/original\n",
      "Moved .tif files from ../../../../Thomson Lab Dropbox/David Larios/activedrops/ubuntu/061825-motor_pool-stock&1in10dil/2ulTM-0p8ulDNA_1/SteCoe4?/Rep1 to ../../../../Thomson Lab Dropbox/David Larios/activedrops/ubuntu/061825-motor_pool-stock&1in10dil/2ulTM-0p8ulDNA_1/SteCoe4?/Rep1/original\n",
      "Moved .tif files from ../../../../Thomson Lab Dropbox/David Larios/activedrops/ubuntu/061825-motor_pool-stock&1in10dil/2ulTM-0p8ulDNA_1/SteCoe4?_dil/Rep1 to ../../../../Thomson Lab Dropbox/David Larios/activedrops/ubuntu/061825-motor_pool-stock&1in10dil/2ulTM-0p8ulDNA_1/SteCoe4?_dil/Rep1/original\n",
      "Moved .tif files from ../../../../Thomson Lab Dropbox/David Larios/activedrops/ubuntu/061825-motor_pool-stock&1in10dil/2ulTM-0p8ulDNA_1/SteCoe4_dil/Rep1 to ../../../../Thomson Lab Dropbox/David Larios/activedrops/ubuntu/061825-motor_pool-stock&1in10dil/2ulTM-0p8ulDNA_1/SteCoe4_dil/Rep1/original\n",
      "Moved .tif files from ../../../../Thomson Lab Dropbox/David Larios/activedrops/ubuntu/061825-motor_pool-stock&1in10dil/2ulTM-0p8ulDNA_1/StyLe/Rep1 to ../../../../Thomson Lab Dropbox/David Larios/activedrops/ubuntu/061825-motor_pool-stock&1in10dil/2ulTM-0p8ulDNA_1/StyLe/Rep1/original\n",
      "Moved .tif files from ../../../../Thomson Lab Dropbox/David Larios/activedrops/ubuntu/061825-motor_pool-stock&1in10dil/2ulTM-0p8ulDNA_1/StyLe_dil/Rep1 to ../../../../Thomson Lab Dropbox/David Larios/activedrops/ubuntu/061825-motor_pool-stock&1in10dil/2ulTM-0p8ulDNA_1/StyLe_dil/Rep1/original\n",
      "Moved .tif files from ../../../../Thomson Lab Dropbox/David Larios/activedrops/ubuntu/061825-motor_pool-stock&1in10dil/2ulTM-0p8ulDNA_1/TrBr/Rep1 to ../../../../Thomson Lab Dropbox/David Larios/activedrops/ubuntu/061825-motor_pool-stock&1in10dil/2ulTM-0p8ulDNA_1/TrBr/Rep1/original\n",
      "Moved .tif files from ../../../../Thomson Lab Dropbox/David Larios/activedrops/ubuntu/061825-motor_pool-stock&1in10dil/2ulTM-0p8ulDNA_1/TrBr_dil/Rep1 to ../../../../Thomson Lab Dropbox/David Larios/activedrops/ubuntu/061825-motor_pool-stock&1in10dil/2ulTM-0p8ulDNA_1/TrBr_dil/Rep1/original\n",
      "Moved .tif files from ../../../../Thomson Lab Dropbox/David Larios/activedrops/ubuntu/061825-motor_pool-stock&1in10dil/2ulTM-0p8ulDNA_1/TrVa/Rep1 to ../../../../Thomson Lab Dropbox/David Larios/activedrops/ubuntu/061825-motor_pool-stock&1in10dil/2ulTM-0p8ulDNA_1/TrVa/Rep1/original\n",
      "Moved .tif files from ../../../../Thomson Lab Dropbox/David Larios/activedrops/ubuntu/061825-motor_pool-stock&1in10dil/2ulTM-0p8ulDNA_1/TrVa_dil/Rep1 to ../../../../Thomson Lab Dropbox/David Larios/activedrops/ubuntu/061825-motor_pool-stock&1in10dil/2ulTM-0p8ulDNA_1/TrVa_dil/Rep1/original\n",
      "Moved .tif files from ../../../../Thomson Lab Dropbox/David Larios/activedrops/ubuntu/061825-motor_pool-stock&1in10dil/2ulTM-0p8ulDNA_1/Unc/Rep1 to ../../../../Thomson Lab Dropbox/David Larios/activedrops/ubuntu/061825-motor_pool-stock&1in10dil/2ulTM-0p8ulDNA_1/Unc/Rep1/original\n",
      "Moved .tif files from ../../../../Thomson Lab Dropbox/David Larios/activedrops/ubuntu/061825-motor_pool-stock&1in10dil/2ulTM-0p8ulDNA_1/Unc_dil/Rep1 to ../../../../Thomson Lab Dropbox/David Larios/activedrops/ubuntu/061825-motor_pool-stock&1in10dil/2ulTM-0p8ulDNA_1/Unc_dil/Rep1/original\n"
     ]
    }
   ],
   "source": [
    "qd.reorgTiffsToOriginal(data_path, conditions, subconditions)\n"
   ]
  },
  {
   "cell_type": "markdown",
   "metadata": {},
   "source": [
    "### Generate movies"
   ]
  },
  {
   "cell_type": "code",
   "execution_count": 15,
   "metadata": {},
   "outputs": [
    {
     "name": "stderr",
     "output_type": "stream",
     "text": [
      "Processing BleSto - Rep1: 100%|██████████| 125/125 [00:18<00:00,  6.73it/s]\n",
      "Processing BleSto2 - Rep1: 100%|██████████| 125/125 [00:16<00:00,  7.68it/s]\n",
      "Processing BleSto2_dil - Rep1: 100%|██████████| 125/125 [00:16<00:00,  7.67it/s]\n",
      "Processing BleSto_dil - Rep1: 100%|██████████| 125/125 [00:16<00:00,  7.66it/s]\n",
      "Processing CaFa - Rep1: 100%|██████████| 125/125 [00:16<00:00,  7.75it/s]\n",
      "Processing CaFa_dil - Rep1: 100%|██████████| 125/125 [00:16<00:00,  7.76it/s]\n",
      "Processing DiDi - Rep1: 100%|██████████| 125/125 [00:16<00:00,  7.50it/s]\n",
      "Processing DiDi_dil - Rep1: 100%|██████████| 125/125 [00:15<00:00,  7.92it/s]\n",
      "Processing Giin - Rep1: 100%|██████████| 125/125 [00:16<00:00,  7.67it/s]\n",
      "Processing Giin_dil - Rep1: 100%|██████████| 125/125 [00:16<00:00,  7.70it/s]\n",
      "Processing Kif3 Vmicro - Rep1: 100%|██████████| 125/125 [00:16<00:00,  7.50it/s]\n",
      "Processing Kif3 Vmicro_dil - Rep1: 100%|██████████| 125/125 [00:16<00:00,  7.63it/s]\n",
      "Processing NCD - Rep1: 100%|██████████| 125/125 [00:16<00:00,  7.44it/s]\n",
      "Processing NCD_dil - Rep1: 100%|██████████| 125/125 [00:17<00:00,  7.33it/s]\n",
      "Processing NaFo - Rep1: 100%|██████████| 125/125 [00:16<00:00,  7.55it/s]\n",
      "Processing NaFo_dil - Rep1: 100%|██████████| 125/125 [00:16<00:00,  7.59it/s]\n",
      "Processing PaBi - Rep1: 100%|██████████| 125/125 [00:16<00:00,  7.65it/s]\n",
      "Processing PaBi_dil - Rep1: 100%|██████████| 125/125 [00:16<00:00,  7.77it/s]\n",
      "Processing PoPa - Rep1: 100%|██████████| 125/125 [00:16<00:00,  7.76it/s]\n",
      "Processing PoPa_dil - Rep1: 100%|██████████| 125/125 [00:16<00:00,  7.58it/s]\n",
      "Processing SteCoe4 - Rep1: 100%|██████████| 125/125 [00:16<00:00,  7.63it/s]\n",
      "Processing SteCoe4? - Rep1: 100%|██████████| 125/125 [00:16<00:00,  7.66it/s]\n",
      "Processing SteCoe4?_dil - Rep1: 100%|██████████| 125/125 [00:16<00:00,  7.57it/s]\n",
      "Processing SteCoe4_dil - Rep1: 100%|██████████| 125/125 [00:17<00:00,  7.35it/s]\n",
      "Processing StyLe - Rep1: 100%|██████████| 125/125 [00:17<00:00,  7.20it/s]\n",
      "Processing StyLe_dil - Rep1: 100%|██████████| 125/125 [00:18<00:00,  6.87it/s]\n",
      "Processing TrBr - Rep1: 100%|██████████| 125/125 [00:18<00:00,  6.90it/s]\n",
      "Processing TrBr_dil - Rep1: 100%|██████████| 125/125 [00:18<00:00,  6.81it/s]\n",
      "Processing TrVa - Rep1: 100%|██████████| 125/125 [00:18<00:00,  6.74it/s]\n",
      "Processing TrVa_dil - Rep1: 100%|██████████| 125/125 [00:19<00:00,  6.49it/s]\n",
      "Processing Unc - Rep1: 100%|██████████| 125/125 [00:18<00:00,  6.71it/s]\n",
      "Processing Unc_dil - Rep1: 100%|██████████| 125/125 [00:18<00:00,  6.61it/s]\n"
     ]
    }
   ],
   "source": [
    "# Call the function\n",
    "qd.fluorescence_heatmap(\n",
    "    data_path, \n",
    "    conditions, \n",
    "    subconditions, \n",
    "    channel='cy5', \n",
    "    time_interval_list=time_interval_list, \n",
    "    vmax=14, \n",
    "    skip_frames=4, \n",
    "    calibration_curve_paths=calibration_curve_paths, \n",
    "    show_scalebar=False,\n",
    "    )"
   ]
  },
  {
   "cell_type": "code",
   "execution_count": 12,
   "metadata": {},
   "outputs": [
    {
     "name": "stdout",
     "output_type": "stream",
     "text": [
      "Creating video for BleSto - Rep1 with duration: 8.33 seconds.\n"
     ]
    },
    {
     "name": "stderr",
     "output_type": "stream",
     "text": [
      "Creating video for BleSto - Rep1: 100%|██████████| 125/125 [00:10<00:00, 11.39it/s]\n"
     ]
    },
    {
     "name": "stdout",
     "output_type": "stream",
     "text": [
      "Creating video for BleSto2 - Rep1 with duration: 8.33 seconds.\n"
     ]
    },
    {
     "name": "stderr",
     "output_type": "stream",
     "text": [
      "Creating video for BleSto2 - Rep1: 100%|██████████| 125/125 [00:11<00:00, 10.72it/s]\n"
     ]
    },
    {
     "name": "stdout",
     "output_type": "stream",
     "text": [
      "No images found for BleSto2 1 - Rep1 in cy5.\n",
      "No images found for BleSto 1 - Rep1 in cy5.\n",
      "Creating video for CaFa - Rep1 with duration: 8.33 seconds.\n"
     ]
    },
    {
     "name": "stderr",
     "output_type": "stream",
     "text": [
      "Creating video for CaFa - Rep1: 100%|██████████| 125/125 [00:11<00:00, 11.08it/s]\n"
     ]
    },
    {
     "name": "stdout",
     "output_type": "stream",
     "text": [
      "No images found for CaFa 1 - Rep1 in cy5.\n",
      "Creating video for DiDi - Rep1 with duration: 8.33 seconds.\n"
     ]
    },
    {
     "name": "stderr",
     "output_type": "stream",
     "text": [
      "Creating video for DiDi - Rep1: 100%|██████████| 125/125 [00:10<00:00, 12.11it/s]\n"
     ]
    },
    {
     "name": "stdout",
     "output_type": "stream",
     "text": [
      "No images found for DiDi 1 - Rep1 in cy5.\n",
      "Creating video for Giin - Rep1 with duration: 8.33 seconds.\n"
     ]
    },
    {
     "name": "stderr",
     "output_type": "stream",
     "text": [
      "Creating video for Giin - Rep1: 100%|██████████| 125/125 [00:10<00:00, 11.52it/s]\n"
     ]
    },
    {
     "name": "stdout",
     "output_type": "stream",
     "text": [
      "No images found for Giin 1 - Rep1 in cy5.\n",
      "Creating video for Kif3 Vmicro - Rep1 with duration: 8.33 seconds.\n"
     ]
    },
    {
     "name": "stderr",
     "output_type": "stream",
     "text": [
      "Creating video for Kif3 Vmicro - Rep1: 100%|██████████| 125/125 [00:09<00:00, 12.59it/s]\n"
     ]
    },
    {
     "name": "stdout",
     "output_type": "stream",
     "text": [
      "No images found for Kif3 Vmicro 1 - Rep1 in cy5.\n",
      "Creating video for NCD - Rep1 with duration: 8.33 seconds.\n"
     ]
    },
    {
     "name": "stderr",
     "output_type": "stream",
     "text": [
      "Creating video for NCD - Rep1: 100%|██████████| 125/125 [00:11<00:00, 11.21it/s]\n"
     ]
    },
    {
     "name": "stdout",
     "output_type": "stream",
     "text": [
      "No images found for NCD 1 - Rep1 in cy5.\n",
      "Creating video for NaFo - Rep1 with duration: 8.33 seconds.\n"
     ]
    },
    {
     "name": "stderr",
     "output_type": "stream",
     "text": [
      "Creating video for NaFo - Rep1: 100%|██████████| 125/125 [00:11<00:00, 10.86it/s]\n"
     ]
    },
    {
     "name": "stdout",
     "output_type": "stream",
     "text": [
      "No images found for NaFo 1 - Rep1 in cy5.\n",
      "Creating video for PaBi - Rep1 with duration: 8.33 seconds.\n"
     ]
    },
    {
     "name": "stderr",
     "output_type": "stream",
     "text": [
      "Creating video for PaBi - Rep1: 100%|██████████| 125/125 [00:11<00:00, 10.72it/s]\n"
     ]
    },
    {
     "name": "stdout",
     "output_type": "stream",
     "text": [
      "No images found for PaBi 1 - Rep1 in cy5.\n",
      "Creating video for PoPa - Rep1 with duration: 8.33 seconds.\n"
     ]
    },
    {
     "name": "stderr",
     "output_type": "stream",
     "text": [
      "Creating video for PoPa - Rep1: 100%|██████████| 125/125 [00:10<00:00, 11.46it/s]\n"
     ]
    },
    {
     "name": "stdout",
     "output_type": "stream",
     "text": [
      "No images found for PoPa 1 - Rep1 in cy5.\n",
      "Creating video for SteCoe4 - Rep1 with duration: 8.33 seconds.\n"
     ]
    },
    {
     "name": "stderr",
     "output_type": "stream",
     "text": [
      "Creating video for SteCoe4 - Rep1: 100%|██████████| 125/125 [00:11<00:00, 10.80it/s]\n"
     ]
    },
    {
     "name": "stdout",
     "output_type": "stream",
     "text": [
      "No images found for SteCoe4 1 - Rep1 in cy5.\n",
      "Creating video for SteCoe4? - Rep1 with duration: 8.33 seconds.\n"
     ]
    },
    {
     "name": "stderr",
     "output_type": "stream",
     "text": [
      "Creating video for SteCoe4? - Rep1: 100%|██████████| 125/125 [00:11<00:00, 10.89it/s]\n"
     ]
    },
    {
     "name": "stdout",
     "output_type": "stream",
     "text": [
      "No images found for SteCoe4? 1 - Rep1 in cy5.\n",
      "Creating video for StyLe - Rep1 with duration: 8.33 seconds.\n"
     ]
    },
    {
     "name": "stderr",
     "output_type": "stream",
     "text": [
      "Creating video for StyLe - Rep1: 100%|██████████| 125/125 [00:11<00:00, 11.26it/s]\n"
     ]
    },
    {
     "name": "stdout",
     "output_type": "stream",
     "text": [
      "No images found for StyLe 1 - Rep1 in cy5.\n",
      "Creating video for TrBr - Rep1 with duration: 8.33 seconds.\n"
     ]
    },
    {
     "name": "stderr",
     "output_type": "stream",
     "text": [
      "Creating video for TrBr - Rep1: 100%|██████████| 125/125 [00:11<00:00, 10.82it/s]\n"
     ]
    },
    {
     "name": "stdout",
     "output_type": "stream",
     "text": [
      "No images found for TrBr 1 - Rep1 in cy5.\n",
      "Creating video for TrVa - Rep1 with duration: 8.33 seconds.\n"
     ]
    },
    {
     "name": "stderr",
     "output_type": "stream",
     "text": [
      "Creating video for TrVa - Rep1: 100%|██████████| 125/125 [00:11<00:00, 10.59it/s]\n"
     ]
    },
    {
     "name": "stdout",
     "output_type": "stream",
     "text": [
      "No images found for TrVa 1 - Rep1 in cy5.\n",
      "Creating video for Unc - Rep1 with duration: 8.33 seconds.\n"
     ]
    },
    {
     "name": "stderr",
     "output_type": "stream",
     "text": [
      "Creating video for Unc - Rep1: 100%|██████████| 125/125 [00:10<00:00, 11.51it/s]"
     ]
    },
    {
     "name": "stdout",
     "output_type": "stream",
     "text": [
      "No images found for Unc 1 - Rep1 in cy5.\n"
     ]
    },
    {
     "name": "stderr",
     "output_type": "stream",
     "text": [
      "\n"
     ]
    }
   ],
   "source": [
    "# Example usage\n",
    "qd.create_movies(\n",
    "    data_path, \n",
    "    conditions, \n",
    "    subconditions, \n",
    "    channel='cy5', \n",
    "    frame_rate=15,\n",
    "    skip_frames=1\n",
    "    )\n"
   ]
  },
  {
   "cell_type": "code",
   "execution_count": 18,
   "metadata": {},
   "outputs": [
    {
     "data": {
      "text/plain": [
       "['MTs-FtsZ3',\n",
       " 'MTs-FtsZ2',\n",
       " 'MTs-FtsZ1',\n",
       " 'MTs3',\n",
       " 'MTs2',\n",
       " 'MTs1',\n",
       " 'FtsZ3',\n",
       " 'FtsZ2',\n",
       " 'FtsZ1']"
      ]
     },
     "execution_count": 18,
     "metadata": {},
     "output_type": "execute_result"
    }
   ],
   "source": [
    "conditions[::-1]"
   ]
  },
  {
   "cell_type": "code",
   "execution_count": 8,
   "metadata": {},
   "outputs": [
    {
     "data": {
      "text/plain": [
       "32"
      ]
     },
     "execution_count": 8,
     "metadata": {},
     "output_type": "execute_result"
    }
   ],
   "source": [
    "len(conditions)"
   ]
  },
  {
   "cell_type": "code",
   "execution_count": 4,
   "metadata": {},
   "outputs": [
    {
     "name": "stdout",
     "output_type": "stream",
     "text": [
      "Creating video with duration: 8.33 seconds.\n"
     ]
    },
    {
     "name": "stderr",
     "output_type": "stream",
     "text": [
      "Creating combined frames: 100%|██████████| 125/125 [02:59<00:00,  1.43s/it]\n"
     ]
    },
    {
     "name": "stdout",
     "output_type": "stream",
     "text": [
      "Combined video saved to ../../../../Thomson Lab Dropbox/David Larios/activedrops/ubuntu/061825-motor_pool-stock&1in10dil/2ulTM-0p8ulDNA_1/output_data/movies/combined_heatmap_movie_cy5_15fps_125frames.avi\n"
     ]
    }
   ],
   "source": [
    "qd.create_combined_heatmap_movie_custom_grid(\n",
    "    data_path, \n",
    "    conditions, \n",
    "    subconditions, \n",
    "    channel='cy5', \n",
    "    grid_rows=4, \n",
    "    grid_cols=8, \n",
    "    frame_rate=15,\n",
    "    batch_size=50\n",
    "    )\n"
   ]
  },
  {
   "cell_type": "markdown",
   "metadata": {},
   "source": []
  },
  {
   "cell_type": "code",
   "execution_count": 7,
   "metadata": {},
   "outputs": [
    {
     "name": "stderr",
     "output_type": "stream",
     "text": [
      "Processing BleSto - Rep1: 100%|██████████| 32/32 [00:04<00:00,  7.80it/s]\n",
      "Processing BleSto2 - Rep1: 100%|██████████| 32/32 [00:04<00:00,  7.67it/s]\n",
      "Processing BleSto2_dil - Rep1: 100%|██████████| 32/32 [00:04<00:00,  7.82it/s]\n",
      "Processing BleSto_dil - Rep1: 100%|██████████| 32/32 [00:04<00:00,  7.77it/s]\n",
      "Processing CaFa - Rep1: 100%|██████████| 32/32 [00:04<00:00,  7.82it/s]\n",
      "Processing CaFa_dil - Rep1: 100%|██████████| 32/32 [00:04<00:00,  7.89it/s]\n",
      "Processing DiDi - Rep1: 100%|██████████| 32/32 [00:04<00:00,  7.71it/s]\n",
      "Processing DiDi_dil - Rep1: 100%|██████████| 32/32 [00:03<00:00,  8.12it/s]\n",
      "Processing Giin - Rep1: 100%|██████████| 32/32 [00:04<00:00,  7.80it/s]\n",
      "Processing Giin_dil - Rep1: 100%|██████████| 32/32 [00:04<00:00,  7.90it/s]\n",
      "Processing Kif3 Vmicro - Rep1: 100%|██████████| 32/32 [00:04<00:00,  7.76it/s]\n",
      "Processing Kif3 Vmicro_dil - Rep1: 100%|██████████| 32/32 [00:04<00:00,  7.93it/s]\n",
      "Processing NCD - Rep1: 100%|██████████| 32/32 [00:03<00:00,  9.02it/s]\n",
      "Processing NCD_dil - Rep1: 100%|██████████| 32/32 [00:03<00:00,  8.89it/s]\n",
      "Processing NaFo - Rep1: 100%|██████████| 32/32 [00:03<00:00,  8.39it/s]\n",
      "Processing NaFo_dil - Rep1: 100%|██████████| 32/32 [00:04<00:00,  7.75it/s]\n",
      "Processing PaBi - Rep1: 100%|██████████| 32/32 [00:04<00:00,  7.91it/s]\n",
      "Processing PaBi_dil - Rep1: 100%|██████████| 32/32 [00:04<00:00,  7.80it/s]\n",
      "Processing PoPa - Rep1: 100%|██████████| 32/32 [00:03<00:00,  8.78it/s]\n",
      "Processing PoPa_dil - Rep1: 100%|██████████| 32/32 [00:04<00:00,  7.65it/s]\n",
      "Processing SteCoe4 - Rep1: 100%|██████████| 32/32 [00:04<00:00,  7.75it/s]\n",
      "Processing SteCoe4? - Rep1: 100%|██████████| 32/32 [00:04<00:00,  7.95it/s]\n",
      "Processing SteCoe4?_dil - Rep1: 100%|██████████| 32/32 [00:04<00:00,  7.69it/s]\n",
      "Processing SteCoe4_dil - Rep1: 100%|██████████| 32/32 [00:04<00:00,  7.81it/s]\n",
      "Processing StyLe - Rep1: 100%|██████████| 32/32 [00:04<00:00,  7.83it/s]\n",
      "Processing StyLe_dil - Rep1: 100%|██████████| 32/32 [00:04<00:00,  7.56it/s]\n",
      "Processing TrBr - Rep1: 100%|██████████| 32/32 [00:04<00:00,  7.88it/s]\n",
      "Processing TrBr_dil - Rep1: 100%|██████████| 32/32 [00:04<00:00,  7.82it/s]\n",
      "Processing TrVa - Rep1: 100%|██████████| 32/32 [00:04<00:00,  7.68it/s]\n",
      "Processing TrVa_dil - Rep1: 100%|██████████| 32/32 [00:04<00:00,  7.66it/s]\n",
      "Processing Unc - Rep1: 100%|██████████| 32/32 [00:04<00:00,  7.51it/s]\n",
      "Processing Unc_dil - Rep1: 100%|██████████| 32/32 [00:04<00:00,  7.61it/s]\n"
     ]
    }
   ],
   "source": [
    "# Call the function\n",
    "qd.fluorescence_heatmap(\n",
    "    data_path, \n",
    "    conditions[:], \n",
    "    subconditions, \n",
    "    channel='GFP', \n",
    "    time_interval_list=time_interval_list, \n",
    "    vmax=300, \n",
    "    skip_frames=16, \n",
    "    calibration_curve_paths=calibration_curve_paths, \n",
    "    show_scalebar=True,\n",
    "    )"
   ]
  },
  {
   "cell_type": "code",
   "execution_count": 7,
   "metadata": {},
   "outputs": [
    {
     "name": "stdout",
     "output_type": "stream",
     "text": [
      "Creating video for FtsZ - Rep1 with duration: 13.20 seconds.\n"
     ]
    },
    {
     "name": "stderr",
     "output_type": "stream",
     "text": [
      "Creating video for FtsZ - Rep1: 100%|██████████| 396/396 [00:28<00:00, 13.96it/s]\n"
     ]
    },
    {
     "name": "stdout",
     "output_type": "stream",
     "text": [
      "Creating video for FtsZ-noDNA - Rep1 with duration: 13.20 seconds.\n"
     ]
    },
    {
     "name": "stderr",
     "output_type": "stream",
     "text": [
      "Creating video for FtsZ-noDNA - Rep1: 100%|██████████| 396/396 [00:28<00:00, 14.00it/s]\n"
     ]
    }
   ],
   "source": [
    "# Example usage\n",
    "qd.create_movies(\n",
    "    data_path, \n",
    "    conditions, \n",
    "    subconditions, \n",
    "    channel='DAPI', \n",
    "    frame_rate=30,\n",
    "    skip_frames=1\n",
    "    )\n"
   ]
  },
  {
   "cell_type": "code",
   "execution_count": 8,
   "metadata": {},
   "outputs": [
    {
     "name": "stdout",
     "output_type": "stream",
     "text": [
      "Creating video with duration: 8.00 seconds.\n"
     ]
    },
    {
     "name": "stderr",
     "output_type": "stream",
     "text": [
      "Creating combined frames: 100%|██████████| 32/32 [00:38<00:00,  1.20s/it]\n"
     ]
    },
    {
     "name": "stdout",
     "output_type": "stream",
     "text": [
      "Combined video saved to ../../../../Thomson Lab Dropbox/David Larios/activedrops/ubuntu/061825-motor_pool-stock&1in10dil/2ulTM-0p8ulDNA_1/output_data/movies/combined_heatmap_movie_GFP_4fps_32frames.avi\n"
     ]
    }
   ],
   "source": [
    "qd.create_combined_heatmap_movie_custom_grid(\n",
    "    data_path, \n",
    "    conditions, \n",
    "    subconditions, \n",
    "    channel='GFP', \n",
    "    grid_rows=4, \n",
    "    grid_cols=8,       \n",
    "    frame_rate=4,\n",
    "    batch_size=50\n",
    "    )\n"
   ]
  },
  {
   "cell_type": "code",
   "execution_count": null,
   "metadata": {},
   "outputs": [],
   "source": [
    "# qd.delete_temporary_image_directories(data_path, conditions, subconditions)"
   ]
  },
  {
   "cell_type": "markdown",
   "metadata": {},
   "source": [
    "### Fluorescence Quantification"
   ]
  },
  {
   "cell_type": "code",
   "execution_count": 28,
   "metadata": {},
   "outputs": [
    {
     "data": {
      "text/plain": [
       "['AdPa_1p25nM',\n",
       " 'AdPa_2p5nM',\n",
       " 'AdPa_5nM',\n",
       " 'AdPa_10nM',\n",
       " 'AdPa_20nM',\n",
       " 'AdPa_40nM',\n",
       " 'AdPa_80nM',\n",
       " 'AdPa_160nM']"
      ]
     },
     "execution_count": 28,
     "metadata": {},
     "output_type": "execute_result"
    }
   ],
   "source": [
    "conditions"
   ]
  },
  {
   "cell_type": "code",
   "execution_count": 9,
   "metadata": {},
   "outputs": [
    {
     "name": "stderr",
     "output_type": "stream",
     "text": [
      "Calculating intensities for BleSto - Rep1: 100%|██████████| 500/500 [00:03<00:00, 150.30it/s]\n",
      "Calculating intensities for BleSto2 - Rep1: 100%|██████████| 500/500 [00:03<00:00, 149.75it/s]\n",
      "Calculating intensities for BleSto2_dil - Rep1: 100%|██████████| 500/500 [00:03<00:00, 150.79it/s]\n",
      "Calculating intensities for BleSto_dil - Rep1: 100%|██████████| 500/500 [00:03<00:00, 153.51it/s]\n",
      "Calculating intensities for CaFa - Rep1: 100%|██████████| 500/500 [00:03<00:00, 146.95it/s]\n",
      "Calculating intensities for CaFa_dil - Rep1: 100%|██████████| 500/500 [00:03<00:00, 144.22it/s]\n",
      "Calculating intensities for DiDi - Rep1: 100%|██████████| 500/500 [00:03<00:00, 148.28it/s]\n",
      "Calculating intensities for DiDi_dil - Rep1: 100%|██████████| 500/500 [00:03<00:00, 149.21it/s]\n",
      "Calculating intensities for Giin - Rep1: 100%|██████████| 500/500 [00:03<00:00, 149.31it/s]\n",
      "Calculating intensities for Giin_dil - Rep1: 100%|██████████| 500/500 [00:03<00:00, 152.14it/s]\n",
      "Calculating intensities for Kif3 Vmicro - Rep1: 100%|██████████| 500/500 [00:03<00:00, 152.37it/s]\n",
      "Calculating intensities for Kif3 Vmicro_dil - Rep1: 100%|██████████| 500/500 [00:03<00:00, 150.48it/s]\n",
      "Calculating intensities for NCD - Rep1: 100%|██████████| 500/500 [00:03<00:00, 151.55it/s]\n",
      "Calculating intensities for NCD_dil - Rep1: 100%|██████████| 500/500 [00:03<00:00, 148.81it/s]\n",
      "Calculating intensities for NaFo - Rep1: 100%|██████████| 500/500 [00:03<00:00, 150.97it/s]\n",
      "Calculating intensities for NaFo_dil - Rep1: 100%|██████████| 500/500 [00:03<00:00, 149.71it/s]\n",
      "Calculating intensities for PaBi - Rep1: 100%|██████████| 500/500 [00:03<00:00, 151.76it/s]\n",
      "Calculating intensities for PaBi_dil - Rep1: 100%|██████████| 500/500 [00:03<00:00, 150.16it/s]\n",
      "Calculating intensities for PoPa - Rep1: 100%|██████████| 500/500 [00:03<00:00, 152.90it/s]\n",
      "Calculating intensities for PoPa_dil - Rep1: 100%|██████████| 500/500 [00:03<00:00, 149.95it/s]\n",
      "Calculating intensities for SteCoe4 - Rep1: 100%|██████████| 500/500 [00:03<00:00, 150.95it/s]\n",
      "Calculating intensities for SteCoe4? - Rep1: 100%|██████████| 500/500 [00:03<00:00, 151.40it/s]\n",
      "Calculating intensities for SteCoe4?_dil - Rep1: 100%|██████████| 500/500 [00:03<00:00, 151.84it/s]\n",
      "Calculating intensities for SteCoe4_dil - Rep1: 100%|██████████| 500/500 [00:03<00:00, 151.89it/s]\n",
      "Calculating intensities for StyLe - Rep1: 100%|██████████| 500/500 [00:03<00:00, 148.00it/s]\n",
      "Calculating intensities for StyLe_dil - Rep1: 100%|██████████| 500/500 [00:03<00:00, 147.13it/s]\n",
      "Calculating intensities for TrBr - Rep1: 100%|██████████| 500/500 [00:03<00:00, 150.57it/s]\n",
      "Calculating intensities for TrBr_dil - Rep1: 100%|██████████| 500/500 [00:03<00:00, 147.64it/s]\n",
      "Calculating intensities for TrVa - Rep1: 100%|██████████| 500/500 [00:03<00:00, 147.00it/s]\n",
      "Calculating intensities for TrVa_dil - Rep1: 100%|██████████| 500/500 [00:03<00:00, 148.68it/s]\n",
      "Calculating intensities for Unc - Rep1: 100%|██████████| 500/500 [00:03<00:00, 149.67it/s]\n",
      "Calculating intensities for Unc_dil - Rep1: 100%|██████████| 500/500 [00:03<00:00, 148.52it/s]\n"
     ]
    },
    {
     "data": {
      "text/plain": [
       "('../../../../Thomson Lab Dropbox/David Larios/activedrops/ubuntu/061825-motor_pool-stock&1in10dil/2ulTM-0p8ulDNA_1/output_data/combined_expression.csv',\n",
       " '../../../../Thomson Lab Dropbox/David Larios/activedrops/ubuntu/061825-motor_pool-stock&1in10dil/2ulTM-0p8ulDNA_1/output_data/mean_expression.csv')"
      ]
     },
     "execution_count": 9,
     "metadata": {},
     "output_type": "execute_result"
    }
   ],
   "source": [
    "# Example usage\n",
    "# mw_kda_list = [44.95] * len(conditions)\n",
    "droplet_volume_list = [2] * len(conditions)\n",
    "# protein_lengths_list = [401] * len(conditions) # last one is negative\n",
    "\n",
    "qd.quantify_tiffiles(\n",
    "    data_path, \n",
    "    conditions, \n",
    "    subconditions, \n",
    "    calibration_curve_paths, \n",
    "    droplet_volume_list, \n",
    "    time_interval_list, \n",
    "    skip_frames=1,\n",
    "\n",
    ")"
   ]
  },
  {
   "cell_type": "markdown",
   "metadata": {},
   "source": [
    "### PIV pre-processing"
   ]
  },
  {
   "cell_type": "code",
   "execution_count": 31,
   "metadata": {},
   "outputs": [
    {
     "data": {
      "text/plain": [
       "['AdPa_2p5nM']"
      ]
     },
     "execution_count": 31,
     "metadata": {},
     "output_type": "execute_result"
    }
   ],
   "source": [
    "conditions[1:2:]"
   ]
  },
  {
   "cell_type": "code",
   "execution_count": 33,
   "metadata": {},
   "outputs": [
    {
     "name": "stdout",
     "output_type": "stream",
     "text": [
      "Copied every 18th f'cy5' file from ../../../../Thomson Lab Dropbox/David Larios/activedrops/ubuntu/030225-AdPa-titrations/2p5ulTMB_1ulDNA_/AdPa_1p25nM/Rep1/original into ../../../../Thomson Lab Dropbox/David Larios/activedrops/ubuntu/030225-AdPa-titrations/2p5ulTMB_1ulDNA_/AdPa_1p25nM/Rep1/cy5-18x.\n",
      "Skipping Rep1 as the expected output is already present.\n",
      "Copied every 18th f'cy5' file from ../../../../Thomson Lab Dropbox/David Larios/activedrops/ubuntu/030225-AdPa-titrations/2p5ulTMB_1ulDNA_/AdPa_5nM/Rep1/original into ../../../../Thomson Lab Dropbox/David Larios/activedrops/ubuntu/030225-AdPa-titrations/2p5ulTMB_1ulDNA_/AdPa_5nM/Rep1/cy5-18x.\n",
      "Copied every 18th f'cy5' file from ../../../../Thomson Lab Dropbox/David Larios/activedrops/ubuntu/030225-AdPa-titrations/2p5ulTMB_1ulDNA_/AdPa_10nM/Rep1/original into ../../../../Thomson Lab Dropbox/David Larios/activedrops/ubuntu/030225-AdPa-titrations/2p5ulTMB_1ulDNA_/AdPa_10nM/Rep1/cy5-18x.\n",
      "Copied every 18th f'cy5' file from ../../../../Thomson Lab Dropbox/David Larios/activedrops/ubuntu/030225-AdPa-titrations/2p5ulTMB_1ulDNA_/AdPa_20nM/Rep1/original into ../../../../Thomson Lab Dropbox/David Larios/activedrops/ubuntu/030225-AdPa-titrations/2p5ulTMB_1ulDNA_/AdPa_20nM/Rep1/cy5-18x.\n",
      "Copied every 18th f'cy5' file from ../../../../Thomson Lab Dropbox/David Larios/activedrops/ubuntu/030225-AdPa-titrations/2p5ulTMB_1ulDNA_/AdPa_40nM/Rep1/original into ../../../../Thomson Lab Dropbox/David Larios/activedrops/ubuntu/030225-AdPa-titrations/2p5ulTMB_1ulDNA_/AdPa_40nM/Rep1/cy5-18x.\n",
      "Copied every 18th f'cy5' file from ../../../../Thomson Lab Dropbox/David Larios/activedrops/ubuntu/030225-AdPa-titrations/2p5ulTMB_1ulDNA_/AdPa_80nM/Rep1/original into ../../../../Thomson Lab Dropbox/David Larios/activedrops/ubuntu/030225-AdPa-titrations/2p5ulTMB_1ulDNA_/AdPa_80nM/Rep1/cy5-18x.\n",
      "Copied every 18th f'cy5' file from ../../../../Thomson Lab Dropbox/David Larios/activedrops/ubuntu/030225-AdPa-titrations/2p5ulTMB_1ulDNA_/AdPa_160nM/Rep1/original into ../../../../Thomson Lab Dropbox/David Larios/activedrops/ubuntu/030225-AdPa-titrations/2p5ulTMB_1ulDNA_/AdPa_160nM/Rep1/cy5-18x.\n"
     ]
    }
   ],
   "source": [
    "qd.split_tiffs(data_path, conditions, subconditions, channel='cy5', file_interval=18)\n",
    "\n"
   ]
  },
  {
   "cell_type": "markdown",
   "metadata": {},
   "source": [
    "### PIV"
   ]
  },
  {
   "cell_type": "code",
   "execution_count": 34,
   "metadata": {},
   "outputs": [],
   "source": [
    "# Define feature limits and other parameters\n",
    "v = 2E-7\n",
    "velocity_limits = (0, v)\n",
    "other_limits = (-0.0005, 0.0005)\n",
    "skip_frames = 1 ### CHANGE THIS TO SKIP FRAMES\n",
    "\n",
    "\n",
    "velocity_limits = (None, None)\n",
    "other_limits = (None, None)\n",
    "\n",
    "\n",
    "feature_limits = {\n",
    "    # 'u [m/s]': (-v, v), \n",
    "    # 'v [m/s]': (-v, v), \n",
    "    # 'data type [-]': (None, None),\n",
    "    'velocity magnitude [m/s]': velocity_limits,\n",
    "    'vorticity [1/s]': other_limits,\n",
    "    'divergence [1/s]': other_limits,\n",
    "    # 'dcev [1]': (0, 250),\n",
    "    'shear [1/s]': other_limits,\n",
    "    'strain [1/s]': other_limits,\n",
    "    'vector direction [degrees]': (-180, 180),\n",
    "}\n",
    "\n",
    "\n",
    "# Features for PCA and plotting\n",
    "features_pca = [\n",
    "    \"vorticity [1/s]_mean\",\n",
    "    \"velocity magnitude [um/s]\",\n",
    "    \"distance [m]_mean\",\n",
    "    \"divergence [1/s]_mean\",\n",
    "    \"shear [1/s]_mean\",\n",
    "    \"strain [1/s]_mean\",\n",
    "    \"correlation length [um]\", \n",
    "    \"power [W]_mean\",\n",
    "    \"work [J]\",\n",
    "]\n"
   ]
  },
  {
   "cell_type": "code",
   "execution_count": 35,
   "metadata": {},
   "outputs": [
    {
     "data": {
      "text/plain": [
       "['AdPa_1p25nM',\n",
       " 'AdPa_2p5nM',\n",
       " 'AdPa_5nM',\n",
       " 'AdPa_10nM',\n",
       " 'AdPa_20nM',\n",
       " 'AdPa_40nM',\n",
       " 'AdPa_80nM',\n",
       " 'AdPa_160nM']"
      ]
     },
     "execution_count": 35,
     "metadata": {},
     "output_type": "execute_result"
    }
   ],
   "source": [
    "conditions[::]"
   ]
  },
  {
   "cell_type": "code",
   "execution_count": 36,
   "metadata": {},
   "outputs": [
    {
     "name": "stderr",
     "output_type": "stream",
     "text": [
      "Processing PIV data:   0%|          | 0/8 [00:00<?, ?it/s]\n",
      "\u001b[A\n",
      "\u001b[A\n",
      "\u001b[A\n",
      "\u001b[A\n",
      "\u001b[A\n",
      "\u001b[A\n",
      "\u001b[A\n",
      "\u001b[A\n",
      "\u001b[A\n",
      "\u001b[A\n",
      "\u001b[A\n",
      "\u001b[A\n",
      "\u001b[A\n",
      "\u001b[A\n",
      "\u001b[A\n",
      "\u001b[A\n",
      "\u001b[A\n",
      "\u001b[A\n",
      "\u001b[A\n",
      "\u001b[A\n",
      "\u001b[A\n",
      "\u001b[A\n",
      "\u001b[A\n",
      "\u001b[A\n",
      "\u001b[A\n",
      "\u001b[A\n",
      "Processing PIV data:  12%|█▎        | 1/8 [00:06<00:43,  6.23s/it]\n",
      "\u001b[A\n",
      "\u001b[A\n",
      "\u001b[A\n",
      "\u001b[A\n",
      "\u001b[A\n",
      "\u001b[A\n",
      "\u001b[A\n",
      "\u001b[A\n",
      "\u001b[A\n",
      "\u001b[A\n",
      "\u001b[A\n",
      "\u001b[A\n",
      "\u001b[A\n",
      "\u001b[A\n",
      "\u001b[A\n",
      "Processing PIV data:  25%|██▌       | 2/8 [00:09<00:28,  4.77s/it]\n",
      "\u001b[A\n",
      "\u001b[A\n",
      "\u001b[A\n",
      "\u001b[A\n",
      "\u001b[A\n",
      "\u001b[A\n",
      "\u001b[A\n",
      "\u001b[A\n",
      "\u001b[A\n",
      "\u001b[A\n",
      "\u001b[A\n",
      "\u001b[A\n",
      "\u001b[A\n",
      "\u001b[A\n",
      "\u001b[A\n",
      "\u001b[A\n",
      "Processing PIV data:  38%|███▊      | 3/8 [00:15<00:25,  5.01s/it]\n",
      "\u001b[A\n",
      "\u001b[A\n",
      "\u001b[A\n",
      "\u001b[A\n",
      "\u001b[A\n",
      "\u001b[A\n",
      "\u001b[A\n",
      "\u001b[A\n",
      "\u001b[A\n",
      "\u001b[A\n",
      "\u001b[A\n",
      "\u001b[A\n",
      "\u001b[A\n",
      "\u001b[A\n",
      "\u001b[A\n",
      "\u001b[A\n",
      "Processing PIV data:  50%|█████     | 4/8 [00:19<00:18,  4.54s/it]\n",
      "\u001b[A\n",
      "\u001b[A\n",
      "\u001b[A\n",
      "\u001b[A\n",
      "\u001b[A\n",
      "\u001b[A\n",
      "\u001b[A\n",
      "\u001b[A\n",
      "\u001b[A\n",
      "\u001b[A\n",
      "\u001b[A\n",
      "\u001b[A\n",
      "\u001b[A\n",
      "\u001b[A\n",
      "\u001b[A\n",
      "\u001b[A\n",
      "Processing PIV data:  62%|██████▎   | 5/8 [00:22<00:12,  4.30s/it]\n",
      "\u001b[A\n",
      "\u001b[A\n",
      "\u001b[A\n",
      "\u001b[A\n",
      "\u001b[A\n",
      "\u001b[A\n",
      "\u001b[A\n",
      "\u001b[A\n",
      "\u001b[A\n",
      "\u001b[A\n",
      "\u001b[A\n",
      "\u001b[A\n",
      "\u001b[A\n",
      "\u001b[A\n",
      "\u001b[A\n",
      "\u001b[A\n",
      "Processing PIV data:  75%|███████▌  | 6/8 [00:26<00:08,  4.18s/it]\n",
      "\u001b[A\n",
      "\u001b[A\n",
      "\u001b[A\n",
      "\u001b[A\n",
      "\u001b[A\n",
      "\u001b[A\n",
      "\u001b[A\n",
      "\u001b[A\n",
      "\u001b[A\n",
      "\u001b[A\n",
      "\u001b[A\n",
      "\u001b[A\n",
      "\u001b[A\n",
      "\u001b[A\n",
      "\u001b[A\n",
      "\u001b[A\n",
      "Processing PIV data:  88%|████████▊ | 7/8 [00:30<00:04,  4.09s/it]\n",
      "\u001b[A\n",
      "\u001b[A\n",
      "\u001b[A\n",
      "\u001b[A\n",
      "\u001b[A\n",
      "\u001b[A\n",
      "\u001b[A\n",
      "\u001b[A\n",
      "\u001b[A\n",
      "\u001b[A\n",
      "\u001b[A\n",
      "\u001b[A\n",
      "\u001b[A\n",
      "\u001b[A\n",
      "\u001b[A\n",
      "\u001b[A\n",
      "Processing PIV data: 100%|██████████| 8/8 [00:34<00:00,  4.34s/it]\n"
     ]
    }
   ],
   "source": [
    "time_interval_list = [30*12, 30*18, 30*18, 30*18, 30*18, 30*18, 30*18, 30*18,  ]  # time intervals in seconds between frames for each condition\n",
    "\n",
    "\n",
    "# Process PIV data\n",
    "qd.process_piv_data(\n",
    "    data_path, \n",
    "    conditions,    \n",
    "    subconditions, \n",
    "    feature_limits, \n",
    "    time_interval_list, \n",
    "    min_frame=0, \n",
    "    max_frame=None, \n",
    "    skip_frames=1, \n",
    "    plot_autocorrelation=False, \n",
    "    frame_rate=1, \n",
    "    heatmaps=False\n",
    "    )\n"
   ]
  },
  {
   "cell_type": "code",
   "execution_count": null,
   "metadata": {},
   "outputs": [],
   "source": [
    "# Plot features and PCA\n",
    "qd.plot_PIV_all(\n",
    "    data_path, \n",
    "    conditions[:5:-1],\n",
    "    subconditions, \n",
    "    features_pca, \n",
    "    min_frame=0, \n",
    "    max_frame=None\n",
    "    )\n"
   ]
  },
  {
   "cell_type": "markdown",
   "metadata": {},
   "source": [
    "### Expression + PIV"
   ]
  },
  {
   "cell_type": "code",
   "execution_count": 37,
   "metadata": {},
   "outputs": [
    {
     "name": "stderr",
     "output_type": "stream",
     "text": [
      "Conditions: 100%|██████████| 8/8 [00:00<00:00, 225.45it/s]"
     ]
    },
    {
     "name": "stdout",
     "output_type": "stream",
     "text": [
      "Combined DataFrame saved to: ../../../../Thomson Lab Dropbox/David Larios/activedrops/ubuntu/030225-AdPa-titrations/2p5ulTMB_1ulDNA_/output_data/combined_PIV.csv\n"
     ]
    },
    {
     "name": "stderr",
     "output_type": "stream",
     "text": [
      "\n"
     ]
    }
   ],
   "source": [
    "# Combine the data and save it to the \"output_data\" directory\n",
    "qd.combine_averaged_dataframes(data_path, conditions, subconditions)\n"
   ]
  },
  {
   "cell_type": "code",
   "execution_count": 38,
   "metadata": {},
   "outputs": [
    {
     "name": "stdout",
     "output_type": "stream",
     "text": [
      "Merged DataFrame saved to: ../../../../Thomson Lab Dropbox/David Larios/activedrops/ubuntu/030225-AdPa-titrations/2p5ulTMB_1ulDNA_/output_data/merged_expression_PIV.csv\n"
     ]
    }
   ],
   "source": [
    "qd.merge_expression_piv_data(data_path)\n"
   ]
  },
  {
   "cell_type": "code",
   "execution_count": null,
   "metadata": {},
   "outputs": [],
   "source": [
    "# x_column = \"time (h)\"  # Example x-axis column\n",
    "# y_column = \"Protein Concentration_nM\"  # Example y-axis column\n",
    "\n",
    "\n",
    "# x_column = \"Protein Concentration_nM\"  # Example y-axis column\n",
    "# y_column = \"velocity magnitude [m/s]_mean\"  # Example y-axis column\n",
    "\n",
    "# x_column = \"time (h)\"  # Example x-axis column\n",
    "# y_column = \"velocity magnitude [m/s]_mean\"  # Example y-axis column\n",
    "\n",
    "# x_column = \"time (h)\"  # Example x-axis column\n",
    "# y_column = \"power [W]_mean\"  # Example y-axis column\n",
    "\n",
    "# x_column = \"time (h)\"  # Example x-axis column\n",
    "# y_column = \"work [J]_mean\"  # Example y-axis column\n",
    "\n",
    "x_column = \"time (h)\"  # Example x-axis column\n",
    "y_column = \"distance [m]_mean\"  # Example y-axis column\n",
    "\n",
    "\n",
    "qd.plot_expression_piv(\n",
    "    data_path,\n",
    "    conditions,\n",
    "    x_column, \n",
    "    y_column, \n",
    "    sigma_x=0.1, \n",
    "    sigma_y=10, \n",
    "    x_log=False, \n",
    "    y_log=True, \n",
    "    min_frame=0, \n",
    "    max_frame=None, \n",
    "    individual_plots=False\n",
    "    )"
   ]
  },
  {
   "cell_type": "code",
   "execution_count": null,
   "metadata": {},
   "outputs": [],
   "source": [
    "\n",
    "# List of features for PCA\n",
    "features_pca = [\n",
    "    \"vorticity [1/s]_mean\",\n",
    "    \"velocity magnitude [m/s]_mean\",\n",
    "    \"distance [m]_mean\",\n",
    "    \"divergence [1/s]_mean\",\n",
    "    \"shear [1/s]_mean\",\n",
    "    \"strain [1/s]_mean\",\n",
    "    \"correlation length [m]_mean\", \n",
    "    \"power [W]_mean\",\n",
    "    \"work [J]_mean\",\n",
    "    'vector direction [degrees]_mean',\n",
    "    \"Protein Concentration_nM\", \n",
    "    'time (min)'\n",
    "]\n",
    "\n",
    "# Run PCA and save plot (with all conditions and subconditions in the same plot)\n",
    "qd.plot_pca_expression_piv(data_path, conditions=conditions, subconditions=subconditions, features=features_pca, sigma=1)\n"
   ]
  },
  {
   "cell_type": "code",
   "execution_count": null,
   "metadata": {},
   "outputs": [],
   "source": [
    "\n",
    "# Example usage\n",
    "qd.delete_outputs(data_path, conditions, subconditions, output_dirs=None)\n"
   ]
  },
  {
   "cell_type": "code",
   "execution_count": null,
   "metadata": {},
   "outputs": [],
   "source": []
  }
 ],
 "metadata": {
  "kernelspec": {
   "display_name": "my_venv_3_11_5",
   "language": "python",
   "name": "python3"
  },
  "language_info": {
   "codemirror_mode": {
    "name": "ipython",
    "version": 3
   },
   "file_extension": ".py",
   "mimetype": "text/x-python",
   "name": "python",
   "nbconvert_exporter": "python",
   "pygments_lexer": "ipython3",
   "version": "3.11.5"
  }
 },
 "nbformat": 4,
 "nbformat_minor": 2
}
