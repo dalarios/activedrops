{
 "cells": [
  {
   "cell_type": "code",
   "execution_count": 1,
   "metadata": {},
   "outputs": [],
   "source": [
    "## Import relevant libraries\n",
    "import sys\n",
    "import glob\n",
    "\n",
    "sys.path.append('../../py_files/')\n",
    "import quadrop as qd\n",
    "\n",
    "qd.set_plotting_style()"
   ]
  },
  {
   "cell_type": "markdown",
   "metadata": {},
   "source": [
    "### Data pre-procesing"
   ]
  },
  {
   "cell_type": "code",
   "execution_count": 2,
   "metadata": {},
   "outputs": [
    {
     "name": "stdout",
     "output_type": "stream",
     "text": [
      "Deleted empty folder: ../../../../Thomson Lab Dropbox/David Larios/activedrops/ubuntu/101324-k401-titration-rt/2p5TMB-1ulDNA_1/Pos0\n",
      "Deleted empty folder: ../../../../Thomson Lab Dropbox/David Larios/activedrops/ubuntu/101324-k401-titration-rt/2p5TMB-1ulDNA_1/Pos1\n",
      "Deleted empty folder: ../../../../Thomson Lab Dropbox/David Larios/activedrops/ubuntu/101324-k401-titration-rt/2p5TMB-1ulDNA_1/Pos2\n",
      "Deleted empty folder: ../../../../Thomson Lab Dropbox/David Larios/activedrops/ubuntu/101324-k401-titration-rt/2p5TMB-1ulDNA_1/Pos3\n",
      "Deleted empty folder: ../../../../Thomson Lab Dropbox/David Larios/activedrops/ubuntu/101324-k401-titration-rt/2p5TMB-1ulDNA_1/Pos4\n",
      "Deleted empty folder: ../../../../Thomson Lab Dropbox/David Larios/activedrops/ubuntu/101324-k401-titration-rt/2p5TMB-1ulDNA_1/Pos5\n",
      "Deleted empty folder: ../../../../Thomson Lab Dropbox/David Larios/activedrops/ubuntu/101324-k401-titration-rt/2p5TMB-1ulDNA_1/Pos6\n",
      "Deleted empty folder: ../../../../Thomson Lab Dropbox/David Larios/activedrops/ubuntu/101324-k401-titration-rt/2p5TMB-1ulDNA_1/Pos7\n",
      "Deleted empty folder: ../../../../Thomson Lab Dropbox/David Larios/activedrops/ubuntu/101324-k401-titration-rt/2p5TMB-1ulDNA_1/Pos8\n",
      "Deleted empty folder: ../../../../Thomson Lab Dropbox/David Larios/activedrops/ubuntu/101324-k401-titration-rt/2p5TMB-1ulDNA_1/Pos9\n",
      "Deleted empty folder: ../../../../Thomson Lab Dropbox/David Larios/activedrops/ubuntu/101324-k401-titration-rt/2p5TMB-1ulDNA_1/\n",
      "Deleted empty folder: ../../../../Thomson Lab Dropbox/David Larios/activedrops/ubuntu/101324-k401-titration-rt/2p5TMB-1ulDNA_2/Pos0\n",
      "Deleted empty folder: ../../../../Thomson Lab Dropbox/David Larios/activedrops/ubuntu/101324-k401-titration-rt/2p5TMB-1ulDNA_2/Pos1\n",
      "Deleted empty folder: ../../../../Thomson Lab Dropbox/David Larios/activedrops/ubuntu/101324-k401-titration-rt/2p5TMB-1ulDNA_2/Pos2\n",
      "Deleted empty folder: ../../../../Thomson Lab Dropbox/David Larios/activedrops/ubuntu/101324-k401-titration-rt/2p5TMB-1ulDNA_2/Pos3\n",
      "Deleted empty folder: ../../../../Thomson Lab Dropbox/David Larios/activedrops/ubuntu/101324-k401-titration-rt/2p5TMB-1ulDNA_2/Pos4\n",
      "Deleted empty folder: ../../../../Thomson Lab Dropbox/David Larios/activedrops/ubuntu/101324-k401-titration-rt/2p5TMB-1ulDNA_2/Pos5\n",
      "Deleted empty folder: ../../../../Thomson Lab Dropbox/David Larios/activedrops/ubuntu/101324-k401-titration-rt/2p5TMB-1ulDNA_2/Pos6\n",
      "Deleted empty folder: ../../../../Thomson Lab Dropbox/David Larios/activedrops/ubuntu/101324-k401-titration-rt/2p5TMB-1ulDNA_2/Pos7\n",
      "Deleted empty folder: ../../../../Thomson Lab Dropbox/David Larios/activedrops/ubuntu/101324-k401-titration-rt/2p5TMB-1ulDNA_2/Pos8\n",
      "Deleted empty folder: ../../../../Thomson Lab Dropbox/David Larios/activedrops/ubuntu/101324-k401-titration-rt/2p5TMB-1ulDNA_2/Pos9\n",
      "Deleted empty folder: ../../../../Thomson Lab Dropbox/David Larios/activedrops/ubuntu/101324-k401-titration-rt/2p5TMB-1ulDNA_2/\n",
      "\n",
      "Checking final consolidated folders:\n",
      "Images in final ../../../../Thomson Lab Dropbox/David Larios/activedrops/ubuntu/101324-k401-titration-rt/2p5TMB-1ulDNA_/Pos0: 7850\n",
      "Images in final ../../../../Thomson Lab Dropbox/David Larios/activedrops/ubuntu/101324-k401-titration-rt/2p5TMB-1ulDNA_/Pos1: 7850\n",
      "Images in final ../../../../Thomson Lab Dropbox/David Larios/activedrops/ubuntu/101324-k401-titration-rt/2p5TMB-1ulDNA_/Pos2: 7850\n",
      "Images in final ../../../../Thomson Lab Dropbox/David Larios/activedrops/ubuntu/101324-k401-titration-rt/2p5TMB-1ulDNA_/Pos3: 7850\n",
      "Images in final ../../../../Thomson Lab Dropbox/David Larios/activedrops/ubuntu/101324-k401-titration-rt/2p5TMB-1ulDNA_/Pos4: 7850\n",
      "Images in final ../../../../Thomson Lab Dropbox/David Larios/activedrops/ubuntu/101324-k401-titration-rt/2p5TMB-1ulDNA_/Pos5: 7850\n",
      "Images in final ../../../../Thomson Lab Dropbox/David Larios/activedrops/ubuntu/101324-k401-titration-rt/2p5TMB-1ulDNA_/Pos6: 7850\n",
      "Images in final ../../../../Thomson Lab Dropbox/David Larios/activedrops/ubuntu/101324-k401-titration-rt/2p5TMB-1ulDNA_/Pos7: 7850\n",
      "Images in final ../../../../Thomson Lab Dropbox/David Larios/activedrops/ubuntu/101324-k401-titration-rt/2p5TMB-1ulDNA_/Pos8: 7849\n",
      "Images in final ../../../../Thomson Lab Dropbox/David Larios/activedrops/ubuntu/101324-k401-titration-rt/2p5TMB-1ulDNA_/Pos9: 7850\n",
      "Renaming, moving, and cleanup completed.\n"
     ]
    }
   ],
   "source": [
    "# Example usage\n",
    "base_dir = \"../../../../Thomson Lab Dropbox/David Larios/activedrops/ubuntu/101324-k401-titration-rt/\"\n",
    "qd.consolidate_images(base_dir)"
   ]
  },
  {
   "cell_type": "code",
   "execution_count": 4,
   "metadata": {},
   "outputs": [
    {
     "name": "stdout",
     "output_type": "stream",
     "text": [
      "Conditions: ['K401_0p312nM-RT', 'K401_0p625nM-RT', 'K401_1p25nM-RT', 'K401_2p5nM-RT', 'K401_5nM-RT', 'K401_10nM-RT', 'K401_20nM-RT', 'K401_40nM-RT', 'K401_80nM-RT', 'K401_160nM-RT']\n",
      "Subconditions: ['Rep1']\n"
     ]
    }
   ],
   "source": [
    "# Example usage\n",
    "data_path = \"../../../../Thomson Lab Dropbox/David Larios/activedrops/ubuntu/101324-k401-titration-rt/2p5TMB-1ulDNA_/\"\n",
    "\n",
    "calibration_curve_paths = sorted(glob.glob(\"../../../../Thomson Lab Dropbox/David Larios/activedrops/calibration_curve/***ugml.tif\"))\n",
    "\n",
    "\n",
    "conditions_dict = {\n",
    "    \"K401_160nM-RT\": \"Pos0\", \n",
    "    \"K401_80nM-RT\": \"Pos1\", \n",
    "    \"K401_40nM-RT\": \"Pos2\", \n",
    "    \"K401_20nM-RT\": \"Pos3\", \n",
    "    \"K401_10nM-RT\": \"Pos4\", \n",
    "    \"K401_5nM-RT\": \"Pos5\", \n",
    "    \"K401_2p5nM-RT\": \"Pos6\", \n",
    "    \"K401_1p25nM-RT\": \"Pos7\", \n",
    "    \"K401_0p625nM-RT\": \"Pos8\", \n",
    "    \"K401_0p312nM-RT\": \"Pos9\", \n",
    "\n",
    "}\n",
    "\n",
    "# Organize PosX folders into condition folders\n",
    "qd.organize_conditions(data_path, conditions_dict)\n",
    "\n",
    "# Now run the existing functions to reorganize the tiffs and rename the folders\n",
    "conditions, subconditions = qd.prepare_conditions(data_path)\n",
    "time_interval_list = [60] * len(conditions)  # time intervals in seconds between frames for each condition\n",
    "\n",
    "\n",
    "print(\"Conditions:\", conditions)\n",
    "print(\"Subconditions:\", subconditions)\n",
    "\n"
   ]
  },
  {
   "cell_type": "code",
   "execution_count": 5,
   "metadata": {},
   "outputs": [
    {
     "name": "stdout",
     "output_type": "stream",
     "text": [
      "Moved .tif files from ../../../../Thomson Lab Dropbox/David Larios/activedrops/ubuntu/101324-k401-titration-rt/2p5TMB-1ulDNA_/K401_0p312nM-RT/Rep1 to ../../../../Thomson Lab Dropbox/David Larios/activedrops/ubuntu/101324-k401-titration-rt/2p5TMB-1ulDNA_/K401_0p312nM-RT/Rep1/original\n",
      "Moved .tif files from ../../../../Thomson Lab Dropbox/David Larios/activedrops/ubuntu/101324-k401-titration-rt/2p5TMB-1ulDNA_/K401_0p625nM-RT/Rep1 to ../../../../Thomson Lab Dropbox/David Larios/activedrops/ubuntu/101324-k401-titration-rt/2p5TMB-1ulDNA_/K401_0p625nM-RT/Rep1/original\n",
      "Moved .tif files from ../../../../Thomson Lab Dropbox/David Larios/activedrops/ubuntu/101324-k401-titration-rt/2p5TMB-1ulDNA_/K401_1p25nM-RT/Rep1 to ../../../../Thomson Lab Dropbox/David Larios/activedrops/ubuntu/101324-k401-titration-rt/2p5TMB-1ulDNA_/K401_1p25nM-RT/Rep1/original\n",
      "Moved .tif files from ../../../../Thomson Lab Dropbox/David Larios/activedrops/ubuntu/101324-k401-titration-rt/2p5TMB-1ulDNA_/K401_2p5nM-RT/Rep1 to ../../../../Thomson Lab Dropbox/David Larios/activedrops/ubuntu/101324-k401-titration-rt/2p5TMB-1ulDNA_/K401_2p5nM-RT/Rep1/original\n",
      "Moved .tif files from ../../../../Thomson Lab Dropbox/David Larios/activedrops/ubuntu/101324-k401-titration-rt/2p5TMB-1ulDNA_/K401_5nM-RT/Rep1 to ../../../../Thomson Lab Dropbox/David Larios/activedrops/ubuntu/101324-k401-titration-rt/2p5TMB-1ulDNA_/K401_5nM-RT/Rep1/original\n",
      "Moved .tif files from ../../../../Thomson Lab Dropbox/David Larios/activedrops/ubuntu/101324-k401-titration-rt/2p5TMB-1ulDNA_/K401_10nM-RT/Rep1 to ../../../../Thomson Lab Dropbox/David Larios/activedrops/ubuntu/101324-k401-titration-rt/2p5TMB-1ulDNA_/K401_10nM-RT/Rep1/original\n",
      "Moved .tif files from ../../../../Thomson Lab Dropbox/David Larios/activedrops/ubuntu/101324-k401-titration-rt/2p5TMB-1ulDNA_/K401_20nM-RT/Rep1 to ../../../../Thomson Lab Dropbox/David Larios/activedrops/ubuntu/101324-k401-titration-rt/2p5TMB-1ulDNA_/K401_20nM-RT/Rep1/original\n",
      "Moved .tif files from ../../../../Thomson Lab Dropbox/David Larios/activedrops/ubuntu/101324-k401-titration-rt/2p5TMB-1ulDNA_/K401_40nM-RT/Rep1 to ../../../../Thomson Lab Dropbox/David Larios/activedrops/ubuntu/101324-k401-titration-rt/2p5TMB-1ulDNA_/K401_40nM-RT/Rep1/original\n",
      "Moved .tif files from ../../../../Thomson Lab Dropbox/David Larios/activedrops/ubuntu/101324-k401-titration-rt/2p5TMB-1ulDNA_/K401_80nM-RT/Rep1 to ../../../../Thomson Lab Dropbox/David Larios/activedrops/ubuntu/101324-k401-titration-rt/2p5TMB-1ulDNA_/K401_80nM-RT/Rep1/original\n",
      "Moved .tif files from ../../../../Thomson Lab Dropbox/David Larios/activedrops/ubuntu/101324-k401-titration-rt/2p5TMB-1ulDNA_/K401_160nM-RT/Rep1 to ../../../../Thomson Lab Dropbox/David Larios/activedrops/ubuntu/101324-k401-titration-rt/2p5TMB-1ulDNA_/K401_160nM-RT/Rep1/original\n"
     ]
    }
   ],
   "source": [
    "qd.reorgTiffsToOriginal(data_path, conditions, subconditions)\n"
   ]
  },
  {
   "cell_type": "markdown",
   "metadata": {},
   "source": [
    "### Generate movies"
   ]
  },
  {
   "cell_type": "code",
   "execution_count": 12,
   "metadata": {},
   "outputs": [
    {
     "name": "stderr",
     "output_type": "stream",
     "text": [
      "Processing K401_0p312nM-RT - Rep1:   0%|          | 0/2616 [00:00<?, ?it/s]"
     ]
    },
    {
     "name": "stderr",
     "output_type": "stream",
     "text": [
      "Processing K401_0p312nM-RT - Rep1: 100%|██████████| 2616/2616 [05:28<00:00,  7.97it/s]\n",
      "Processing K401_0p625nM-RT - Rep1: 100%|██████████| 2615/2615 [05:30<00:00,  7.92it/s]\n",
      "Processing K401_1p25nM-RT - Rep1: 100%|██████████| 2616/2616 [05:30<00:00,  7.91it/s]\n",
      "Processing K401_2p5nM-RT - Rep1: 100%|██████████| 2616/2616 [05:17<00:00,  8.24it/s]\n",
      "Processing K401_5nM-RT - Rep1: 100%|██████████| 2616/2616 [05:32<00:00,  7.86it/s]\n",
      "Processing K401_10nM-RT - Rep1: 100%|██████████| 2616/2616 [06:19<00:00,  6.90it/s]\n",
      "Processing K401_20nM-RT - Rep1: 100%|██████████| 2616/2616 [05:39<00:00,  7.71it/s]\n",
      "Processing K401_40nM-RT - Rep1: 100%|██████████| 2616/2616 [05:31<00:00,  7.90it/s]\n",
      "Processing K401_80nM-RT - Rep1: 100%|██████████| 2616/2616 [06:32<00:00,  6.66it/s]\n",
      "Processing K401_160nM-RT - Rep1: 100%|██████████| 2616/2616 [06:00<00:00,  7.26it/s]\n"
     ]
    }
   ],
   "source": [
    "# Call the function\n",
    "qd.fluorescence_heatmap(\n",
    "    data_path, \n",
    "    conditions, \n",
    "    subconditions, \n",
    "    channel='cy5', \n",
    "    time_interval_list=time_interval_list, \n",
    "    vmax=12, \n",
    "    skip_frames=1, \n",
    "    calibration_curve_paths=calibration_curve_paths, \n",
    "    show_scalebar=False,\n",
    "    )"
   ]
  },
  {
   "cell_type": "code",
   "execution_count": 13,
   "metadata": {},
   "outputs": [
    {
     "name": "stdout",
     "output_type": "stream",
     "text": [
      "Creating video for K401_0p312nM-RT - Rep1 with duration: 21.80 seconds.\n"
     ]
    },
    {
     "name": "stderr",
     "output_type": "stream",
     "text": [
      "Creating video for K401_0p312nM-RT - Rep1: 100%|██████████| 2616/2616 [03:21<00:00, 12.99it/s]\n"
     ]
    },
    {
     "name": "stdout",
     "output_type": "stream",
     "text": [
      "Creating video for K401_0p625nM-RT - Rep1 with duration: 21.79 seconds.\n"
     ]
    },
    {
     "name": "stderr",
     "output_type": "stream",
     "text": [
      "Creating video for K401_0p625nM-RT - Rep1: 100%|██████████| 2615/2615 [03:16<00:00, 13.29it/s]\n"
     ]
    },
    {
     "name": "stdout",
     "output_type": "stream",
     "text": [
      "Creating video for K401_1p25nM-RT - Rep1 with duration: 21.80 seconds.\n"
     ]
    },
    {
     "name": "stderr",
     "output_type": "stream",
     "text": [
      "Creating video for K401_1p25nM-RT - Rep1: 100%|██████████| 2616/2616 [03:16<00:00, 13.28it/s]\n"
     ]
    },
    {
     "name": "stdout",
     "output_type": "stream",
     "text": [
      "Creating video for K401_2p5nM-RT - Rep1 with duration: 21.80 seconds.\n"
     ]
    },
    {
     "name": "stderr",
     "output_type": "stream",
     "text": [
      "Creating video for K401_2p5nM-RT - Rep1: 100%|██████████| 2616/2616 [03:12<00:00, 13.57it/s]\n"
     ]
    },
    {
     "name": "stdout",
     "output_type": "stream",
     "text": [
      "Creating video for K401_5nM-RT - Rep1 with duration: 21.80 seconds.\n"
     ]
    },
    {
     "name": "stderr",
     "output_type": "stream",
     "text": [
      "Creating video for K401_5nM-RT - Rep1: 100%|██████████| 2616/2616 [03:38<00:00, 11.96it/s]\n"
     ]
    },
    {
     "name": "stdout",
     "output_type": "stream",
     "text": [
      "Creating video for K401_10nM-RT - Rep1 with duration: 21.80 seconds.\n"
     ]
    },
    {
     "name": "stderr",
     "output_type": "stream",
     "text": [
      "Creating video for K401_10nM-RT - Rep1: 100%|██████████| 2616/2616 [03:14<00:00, 13.42it/s]\n"
     ]
    },
    {
     "name": "stdout",
     "output_type": "stream",
     "text": [
      "Creating video for K401_20nM-RT - Rep1 with duration: 21.80 seconds.\n"
     ]
    },
    {
     "name": "stderr",
     "output_type": "stream",
     "text": [
      "Creating video for K401_20nM-RT - Rep1: 100%|██████████| 2616/2616 [03:23<00:00, 12.83it/s]\n"
     ]
    },
    {
     "name": "stdout",
     "output_type": "stream",
     "text": [
      "Creating video for K401_40nM-RT - Rep1 with duration: 21.80 seconds.\n"
     ]
    },
    {
     "name": "stderr",
     "output_type": "stream",
     "text": [
      "Creating video for K401_40nM-RT - Rep1: 100%|██████████| 2616/2616 [03:16<00:00, 13.34it/s]\n"
     ]
    },
    {
     "name": "stdout",
     "output_type": "stream",
     "text": [
      "Creating video for K401_80nM-RT - Rep1 with duration: 21.80 seconds.\n"
     ]
    },
    {
     "name": "stderr",
     "output_type": "stream",
     "text": [
      "Creating video for K401_80nM-RT - Rep1: 100%|██████████| 2616/2616 [03:25<00:00, 12.76it/s]\n"
     ]
    },
    {
     "name": "stdout",
     "output_type": "stream",
     "text": [
      "Creating video for K401_160nM-RT - Rep1 with duration: 21.80 seconds.\n"
     ]
    },
    {
     "name": "stderr",
     "output_type": "stream",
     "text": [
      "Creating video for K401_160nM-RT - Rep1: 100%|██████████| 2616/2616 [03:23<00:00, 12.83it/s]\n"
     ]
    }
   ],
   "source": [
    "# Example usage\n",
    "qd.create_movies(\n",
    "    data_path, \n",
    "    conditions, \n",
    "    subconditions, \n",
    "    channel='cy5', \n",
    "    frame_rate=120,\n",
    "    skip_frames=1\n",
    "    )\n"
   ]
  },
  {
   "cell_type": "code",
   "execution_count": 16,
   "metadata": {},
   "outputs": [
    {
     "data": {
      "text/plain": [
       "['K401_160nM-RT',\n",
       " 'K401_80nM-RT',\n",
       " 'K401_40nM-RT',\n",
       " 'K401_20nM-RT',\n",
       " 'K401_10nM-RT',\n",
       " 'K401_5nM-RT',\n",
       " 'K401_2p5nM-RT',\n",
       " 'K401_1p25nM-RT',\n",
       " 'K401_0p625nM-RT',\n",
       " 'K401_0p312nM-RT']"
      ]
     },
     "execution_count": 16,
     "metadata": {},
     "output_type": "execute_result"
    }
   ],
   "source": [
    "conditions[::-1]"
   ]
  },
  {
   "cell_type": "code",
   "execution_count": 17,
   "metadata": {},
   "outputs": [
    {
     "name": "stdout",
     "output_type": "stream",
     "text": [
      "Creating video with duration: 21.80 seconds.\n"
     ]
    },
    {
     "name": "stderr",
     "output_type": "stream",
     "text": [
      "Creating combined frames: 100%|██████████| 2616/2616 [19:47<00:00,  2.20it/s]\n"
     ]
    },
    {
     "name": "stdout",
     "output_type": "stream",
     "text": [
      "Combined video saved to ../../../../Thomson Lab Dropbox/David Larios/activedrops/ubuntu/101324-k401-titration-rt/2p5TMB-1ulDNA_/output_data/movies/combined_heatmap_movie_cy5_120fps_2616frames.avi\n"
     ]
    }
   ],
   "source": [
    "qd.create_combined_heatmap_movie_custom_grid(\n",
    "    data_path, \n",
    "    conditions[::-1], \n",
    "    subconditions, \n",
    "    channel='cy5', \n",
    "    grid_rows=2, \n",
    "    grid_cols=5, \n",
    "    frame_rate=120,\n",
    "    batch_size=50\n",
    "    )\n"
   ]
  },
  {
   "cell_type": "markdown",
   "metadata": {},
   "source": []
  },
  {
   "cell_type": "code",
   "execution_count": 18,
   "metadata": {},
   "outputs": [
    {
     "name": "stderr",
     "output_type": "stream",
     "text": [
      "Processing K401_0p312nM-RT - Rep1: 100%|██████████| 164/164 [00:18<00:00,  8.74it/s]\n",
      "Processing K401_0p625nM-RT - Rep1: 100%|██████████| 164/164 [00:18<00:00,  8.64it/s]\n",
      "Processing K401_1p25nM-RT - Rep1: 100%|██████████| 164/164 [00:19<00:00,  8.59it/s]\n",
      "Processing K401_2p5nM-RT - Rep1: 100%|██████████| 164/164 [00:19<00:00,  8.52it/s]\n",
      "Processing K401_5nM-RT - Rep1: 100%|██████████| 164/164 [00:18<00:00,  8.73it/s]\n",
      "Processing K401_10nM-RT - Rep1: 100%|██████████| 164/164 [00:18<00:00,  8.73it/s]\n",
      "Processing K401_20nM-RT - Rep1: 100%|██████████| 164/164 [00:18<00:00,  8.76it/s]\n",
      "Processing K401_40nM-RT - Rep1: 100%|██████████| 164/164 [00:19<00:00,  8.60it/s]\n",
      "Processing K401_80nM-RT - Rep1: 100%|██████████| 164/164 [00:19<00:00,  8.63it/s]\n",
      "Processing K401_160nM-RT - Rep1: 100%|██████████| 164/164 [00:19<00:00,  8.55it/s]\n"
     ]
    }
   ],
   "source": [
    "# Call the function\n",
    "qd.fluorescence_heatmap(\n",
    "    data_path, \n",
    "    conditions, \n",
    "    subconditions, \n",
    "    channel='GFP', \n",
    "    time_interval_list=time_interval_list, \n",
    "    vmax=500, \n",
    "    skip_frames=16, \n",
    "    calibration_curve_paths=calibration_curve_paths, \n",
    "    show_scalebar=True,\n",
    "    )"
   ]
  },
  {
   "cell_type": "code",
   "execution_count": null,
   "metadata": {},
   "outputs": [],
   "source": [
    "# Example usage\n",
    "qd.create_movies(\n",
    "    data_path, \n",
    "    conditions, \n",
    "    subconditions, \n",
    "    channel='GFP', \n",
    "    frame_rate=120,\n",
    "    skip_frames=1\n",
    "    )\n"
   ]
  },
  {
   "cell_type": "code",
   "execution_count": 19,
   "metadata": {},
   "outputs": [
    {
     "name": "stdout",
     "output_type": "stream",
     "text": [
      "Creating video with duration: 10.93 seconds.\n"
     ]
    },
    {
     "name": "stderr",
     "output_type": "stream",
     "text": [
      "Creating combined frames: 100%|██████████| 164/164 [01:00<00:00,  2.71it/s]\n"
     ]
    },
    {
     "name": "stdout",
     "output_type": "stream",
     "text": [
      "Combined video saved to ../../../../Thomson Lab Dropbox/David Larios/activedrops/ubuntu/101324-k401-titration-rt/2p5TMB-1ulDNA_/output_data/movies/combined_heatmap_movie_GFP_15fps_164frames.avi\n"
     ]
    }
   ],
   "source": [
    "qd.create_combined_heatmap_movie_custom_grid(\n",
    "    data_path, \n",
    "    conditions[::-1], \n",
    "    subconditions, \n",
    "    channel='GFP', \n",
    "    grid_rows=2, \n",
    "    grid_cols=5, \n",
    "    frame_rate=15,\n",
    "    batch_size=50\n",
    "    )\n"
   ]
  },
  {
   "cell_type": "code",
   "execution_count": null,
   "metadata": {},
   "outputs": [],
   "source": [
    "# qd.delete_temporary_image_directories(data_path, conditions, subconditions)"
   ]
  },
  {
   "cell_type": "markdown",
   "metadata": {},
   "source": [
    "### Fluorescence Quantification"
   ]
  },
  {
   "cell_type": "code",
   "execution_count": null,
   "metadata": {},
   "outputs": [],
   "source": [
    "# Example usage\n",
    "mw_kda_list = [59.2, 63.6, 45.2, 64.8, 56.9, 56.6, 62.1, 68.8, 57.4, 50]\n",
    "droplet_volume_list = [2] * len(conditions)\n",
    "protein_lengths_list = [530, 575, 408, 572, 513, 500, 547, 655, 514, 500] # last one is negative\n",
    "\n",
    "qd.quantify_tiffiles(\n",
    "    data_path, \n",
    "    conditions, \n",
    "    subconditions, \n",
    "    calibration_curve_paths, \n",
    "    mw_kda_list, \n",
    "    droplet_volume_list, \n",
    "    time_interval_list, \n",
    "    protein_lengths_list,\n",
    "    ribosome_count=10**9,\n",
    "    skip_frames=1,\n",
    "    subtract_negative=True\n",
    ")"
   ]
  },
  {
   "cell_type": "markdown",
   "metadata": {},
   "source": [
    "### PIV pre-processing"
   ]
  },
  {
   "cell_type": "code",
   "execution_count": 23,
   "metadata": {},
   "outputs": [
    {
     "data": {
      "text/plain": [
       "['K401_160nM-RT']"
      ]
     },
     "execution_count": 23,
     "metadata": {},
     "output_type": "execute_result"
    }
   ],
   "source": [
    "conditions[:8:-1]"
   ]
  },
  {
   "cell_type": "code",
   "execution_count": 24,
   "metadata": {},
   "outputs": [
    {
     "name": "stdout",
     "output_type": "stream",
     "text": [
      "Copied every 3th f'cy5' file from ../../../../Thomson Lab Dropbox/David Larios/activedrops/ubuntu/101324-k401-titration-rt/2p5TMB-1ulDNA_/K401_160nM-RT/Rep1/original into ../../../../Thomson Lab Dropbox/David Larios/activedrops/ubuntu/101324-k401-titration-rt/2p5TMB-1ulDNA_/K401_160nM-RT/Rep1/cy5-3x.\n"
     ]
    }
   ],
   "source": [
    "qd.split_tiffs(data_path, conditions[:8:-1], subconditions, channel='cy5', file_interval=3)\n",
    "\n"
   ]
  },
  {
   "cell_type": "markdown",
   "metadata": {},
   "source": [
    "### PIV"
   ]
  },
  {
   "cell_type": "code",
   "execution_count": null,
   "metadata": {},
   "outputs": [],
   "source": [
    "# Define feature limits and other parameters\n",
    "v = 2E-7\n",
    "velocity_limits = (0, v)\n",
    "other_limits = (-0.0005, 0.0005)\n",
    "skip_frames = 1 ### CHANGE THIS TO SKIP FRAMES\n",
    "\n",
    "\n",
    "velocity_limits = (None, None)\n",
    "other_limits = (None, None)\n",
    "\n",
    "\n",
    "feature_limits = {\n",
    "    # 'u [m/s]': (-v, v), \n",
    "    # 'v [m/s]': (-v, v), \n",
    "    # 'data type [-]': (None, None),\n",
    "    'velocity magnitude [m/s]': velocity_limits,\n",
    "    'vorticity [1/s]': other_limits,\n",
    "    'divergence [1/s]': other_limits,\n",
    "    # 'dcev [1]': (0, 250),\n",
    "    'shear [1/s]': other_limits,\n",
    "    'strain [1/s]': other_limits,\n",
    "    'vector direction [degrees]': (-180, 180),\n",
    "}\n",
    "\n",
    "\n",
    "# Features for PCA and plotting\n",
    "features_pca = [\n",
    "    \"vorticity [1/s]_mean\",\n",
    "    \"velocity magnitude [um/s]\",\n",
    "    \"distance [m]_mean\",\n",
    "    \"divergence [1/s]_mean\",\n",
    "    \"shear [1/s]_mean\",\n",
    "    \"strain [1/s]_mean\",\n",
    "    \"correlation length [um]\", \n",
    "    \"power [W]_mean\",\n",
    "    \"work [J]\",\n",
    "]\n"
   ]
  },
  {
   "cell_type": "code",
   "execution_count": null,
   "metadata": {},
   "outputs": [],
   "source": [
    "conditions = [\n",
    "    'AcSu2-RT',\n",
    "    'AcSu-RT',\n",
    "    'AdPa-RT',\n",
    "    # 'BleSto-RT',\n",
    "    'DiPu-RT',\n",
    "    'Kif5-RT',\n",
    "    # 'NaFo-RT',\n",
    "    'ThTr-RT',\n",
    "    'TiLa-RT',\n",
    "    # 'negative'\n",
    "    ]"
   ]
  },
  {
   "cell_type": "code",
   "execution_count": null,
   "metadata": {},
   "outputs": [],
   "source": [
    "time_interval_list = [45, 45, 45, 45*3, 45*3, 45, 45]  # time intervals in seconds between frames for each condition\n",
    "\n",
    "\n",
    "# Process PIV data\n",
    "qd.process_piv_data(\n",
    "    data_path, \n",
    "    conditions,\n",
    "    subconditions, \n",
    "    feature_limits, \n",
    "    time_interval_list, \n",
    "    min_frame=0, \n",
    "    max_frame=None, \n",
    "    skip_frames=1, \n",
    "    plot_autocorrelation=False, \n",
    "    frame_rate=1, \n",
    "    heatmaps=False\n",
    "    )\n"
   ]
  },
  {
   "cell_type": "code",
   "execution_count": null,
   "metadata": {},
   "outputs": [],
   "source": [
    "# Plot features and PCA\n",
    "qd.plot_PIV_all(\n",
    "    data_path, \n",
    "    conditions,\n",
    "    subconditions, \n",
    "    features_pca, \n",
    "    min_frame=0, \n",
    "    max_frame=500\n",
    "    )\n"
   ]
  },
  {
   "cell_type": "markdown",
   "metadata": {},
   "source": [
    "### Expression + PIV"
   ]
  },
  {
   "cell_type": "code",
   "execution_count": null,
   "metadata": {},
   "outputs": [],
   "source": [
    "# Combine the data and save it to the \"output_data\" directory\n",
    "qd.combine_averaged_dataframes(data_path, conditions, subconditions)\n"
   ]
  },
  {
   "cell_type": "code",
   "execution_count": null,
   "metadata": {},
   "outputs": [],
   "source": [
    "qd.merge_expression_piv_data(data_path)\n"
   ]
  },
  {
   "cell_type": "code",
   "execution_count": null,
   "metadata": {},
   "outputs": [],
   "source": [
    "# x_column = \"time (h)\"  # Example x-axis column\n",
    "# y_column = \"Protein Concentration_nM\"  # Example y-axis column\n",
    "\n",
    "\n",
    "# x_column = \"Protein Concentration_nM\"  # Example y-axis column\n",
    "# y_column = \"velocity magnitude [m/s]_mean\"  # Example y-axis column\n",
    "\n",
    "# x_column = \"time (h)\"  # Example x-axis column\n",
    "# y_column = \"velocity magnitude [m/s]_mean\"  # Example y-axis column\n",
    "\n",
    "# x_column = \"time (h)\"  # Example x-axis column\n",
    "# y_column = \"power [W]_mean\"  # Example y-axis column\n",
    "\n",
    "# x_column = \"time (h)\"  # Example x-axis column\n",
    "# y_column = \"work [J]_mean\"  # Example y-axis column\n",
    "\n",
    "x_column = \"time (h)\"  # Example x-axis column\n",
    "y_column = \"distance [m]_mean\"  # Example y-axis column\n",
    "\n",
    "\n",
    "qd.plot_expression_piv(\n",
    "    data_path,\n",
    "    conditions,\n",
    "    x_column, \n",
    "    y_column, \n",
    "    sigma_x=0.1, \n",
    "    sigma_y=10, \n",
    "    x_log=False, \n",
    "    y_log=True, \n",
    "    min_frame=0, \n",
    "    max_frame=None, \n",
    "    individual_plots=False\n",
    "    )"
   ]
  },
  {
   "cell_type": "code",
   "execution_count": null,
   "metadata": {},
   "outputs": [],
   "source": [
    "\n",
    "# List of features for PCA\n",
    "features_pca = [\n",
    "    \"vorticity [1/s]_mean\",\n",
    "    \"velocity magnitude [m/s]_mean\",\n",
    "    \"distance [m]_mean\",\n",
    "    \"divergence [1/s]_mean\",\n",
    "    \"shear [1/s]_mean\",\n",
    "    \"strain [1/s]_mean\",\n",
    "    \"correlation length [m]_mean\", \n",
    "    \"power [W]_mean\",\n",
    "    \"work [J]_mean\",\n",
    "    'vector direction [degrees]_mean',\n",
    "    \"Protein Concentration_nM\", \n",
    "    'time (min)'\n",
    "]\n",
    "\n",
    "# Run PCA and save plot (with all conditions and subconditions in the same plot)\n",
    "qd.plot_pca_expression_piv(data_path, conditions=conditions, subconditions=subconditions, features=features_pca, sigma=1)\n"
   ]
  },
  {
   "cell_type": "code",
   "execution_count": null,
   "metadata": {},
   "outputs": [],
   "source": [
    "\n",
    "# Example usage\n",
    "qd.delete_outputs(data_path, conditions, subconditions, output_dirs=None)\n"
   ]
  },
  {
   "cell_type": "code",
   "execution_count": null,
   "metadata": {},
   "outputs": [],
   "source": []
  }
 ],
 "metadata": {
  "kernelspec": {
   "display_name": "Python 3.11.5 (venv)",
   "language": "python",
   "name": "my_venv_3_11_5"
  },
  "language_info": {
   "codemirror_mode": {
    "name": "ipython",
    "version": 3
   },
   "file_extension": ".py",
   "mimetype": "text/x-python",
   "name": "python",
   "nbconvert_exporter": "python",
   "pygments_lexer": "ipython3",
   "version": "3.11.5"
  }
 },
 "nbformat": 4,
 "nbformat_minor": 2
}
