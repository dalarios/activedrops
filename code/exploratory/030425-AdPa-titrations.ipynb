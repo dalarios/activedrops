{
 "cells": [
  {
   "cell_type": "code",
   "execution_count": 1,
   "metadata": {},
   "outputs": [],
   "source": [
    "## Import relevant libraries\n",
    "import sys\n",
    "import glob\n",
    "\n",
    "sys.path.append('../../py_files/')\n",
    "import quadrop2 as qd\n",
    "\n",
    "qd.set_plotting_style()"
   ]
  },
  {
   "cell_type": "markdown",
   "metadata": {},
   "source": [
    "### Data pre-procesing"
   ]
  },
  {
   "cell_type": "code",
   "execution_count": 2,
   "metadata": {},
   "outputs": [
    {
     "name": "stdout",
     "output_type": "stream",
     "text": [
      "Deleted empty folder: ../../../../Thomson Lab Dropbox/David Larios/activedrops/ubuntu/030225-AdPa-titrations/2p5ulTMB_1ulDNA_1/Pos0\n",
      "Deleted empty folder: ../../../../Thomson Lab Dropbox/David Larios/activedrops/ubuntu/030225-AdPa-titrations/2p5ulTMB_1ulDNA_1/Pos1\n",
      "Deleted empty folder: ../../../../Thomson Lab Dropbox/David Larios/activedrops/ubuntu/030225-AdPa-titrations/2p5ulTMB_1ulDNA_1/Pos2\n",
      "Deleted empty folder: ../../../../Thomson Lab Dropbox/David Larios/activedrops/ubuntu/030225-AdPa-titrations/2p5ulTMB_1ulDNA_1/Pos3\n",
      "Deleted empty folder: ../../../../Thomson Lab Dropbox/David Larios/activedrops/ubuntu/030225-AdPa-titrations/2p5ulTMB_1ulDNA_1/Pos4\n",
      "Deleted empty folder: ../../../../Thomson Lab Dropbox/David Larios/activedrops/ubuntu/030225-AdPa-titrations/2p5ulTMB_1ulDNA_1/Pos5\n",
      "Deleted empty folder: ../../../../Thomson Lab Dropbox/David Larios/activedrops/ubuntu/030225-AdPa-titrations/2p5ulTMB_1ulDNA_1/Pos6\n",
      "Deleted empty folder: ../../../../Thomson Lab Dropbox/David Larios/activedrops/ubuntu/030225-AdPa-titrations/2p5ulTMB_1ulDNA_1/Pos7\n",
      "Deleted empty folder: ../../../../Thomson Lab Dropbox/David Larios/activedrops/ubuntu/030225-AdPa-titrations/2p5ulTMB_1ulDNA_1/\n",
      "Deleted empty folder: ../../../../Thomson Lab Dropbox/David Larios/activedrops/ubuntu/030225-AdPa-titrations/2p5ulTMB_1ulDNA_2/Pos0\n",
      "Deleted empty folder: ../../../../Thomson Lab Dropbox/David Larios/activedrops/ubuntu/030225-AdPa-titrations/2p5ulTMB_1ulDNA_2/Pos1\n",
      "Deleted empty folder: ../../../../Thomson Lab Dropbox/David Larios/activedrops/ubuntu/030225-AdPa-titrations/2p5ulTMB_1ulDNA_2/Pos2\n",
      "Deleted empty folder: ../../../../Thomson Lab Dropbox/David Larios/activedrops/ubuntu/030225-AdPa-titrations/2p5ulTMB_1ulDNA_2/Pos3\n",
      "Deleted empty folder: ../../../../Thomson Lab Dropbox/David Larios/activedrops/ubuntu/030225-AdPa-titrations/2p5ulTMB_1ulDNA_2/Pos4\n",
      "Deleted empty folder: ../../../../Thomson Lab Dropbox/David Larios/activedrops/ubuntu/030225-AdPa-titrations/2p5ulTMB_1ulDNA_2/Pos5\n",
      "Deleted empty folder: ../../../../Thomson Lab Dropbox/David Larios/activedrops/ubuntu/030225-AdPa-titrations/2p5ulTMB_1ulDNA_2/Pos6\n",
      "Deleted empty folder: ../../../../Thomson Lab Dropbox/David Larios/activedrops/ubuntu/030225-AdPa-titrations/2p5ulTMB_1ulDNA_2/Pos7\n",
      "Deleted empty folder: ../../../../Thomson Lab Dropbox/David Larios/activedrops/ubuntu/030225-AdPa-titrations/2p5ulTMB_1ulDNA_2/\n",
      "\n",
      "Checking final consolidated folders:\n",
      "Images in final ../../../../Thomson Lab Dropbox/David Larios/activedrops/ubuntu/030225-AdPa-titrations/2p5ulTMB_1ulDNA_/Pos0: 8656\n",
      "Images in final ../../../../Thomson Lab Dropbox/David Larios/activedrops/ubuntu/030225-AdPa-titrations/2p5ulTMB_1ulDNA_/Pos1: 8656\n",
      "Images in final ../../../../Thomson Lab Dropbox/David Larios/activedrops/ubuntu/030225-AdPa-titrations/2p5ulTMB_1ulDNA_/Pos2: 8656\n",
      "Images in final ../../../../Thomson Lab Dropbox/David Larios/activedrops/ubuntu/030225-AdPa-titrations/2p5ulTMB_1ulDNA_/Pos3: 8656\n",
      "Images in final ../../../../Thomson Lab Dropbox/David Larios/activedrops/ubuntu/030225-AdPa-titrations/2p5ulTMB_1ulDNA_/Pos4: 8656\n",
      "Images in final ../../../../Thomson Lab Dropbox/David Larios/activedrops/ubuntu/030225-AdPa-titrations/2p5ulTMB_1ulDNA_/Pos5: 8656\n",
      "Images in final ../../../../Thomson Lab Dropbox/David Larios/activedrops/ubuntu/030225-AdPa-titrations/2p5ulTMB_1ulDNA_/Pos6: 8656\n",
      "Images in final ../../../../Thomson Lab Dropbox/David Larios/activedrops/ubuntu/030225-AdPa-titrations/2p5ulTMB_1ulDNA_/Pos7: 8656\n",
      "Renaming, moving, and cleanup completed.\n"
     ]
    }
   ],
   "source": [
    "# Example usage\n",
    "base_dir = \"../../../../Thomson Lab Dropbox/David Larios/activedrops/ubuntu/030225-AdPa-titrations/\"\n",
    "qd.consolidate_images(base_dir)"
   ]
  },
  {
   "cell_type": "code",
   "execution_count": 3,
   "metadata": {},
   "outputs": [
    {
     "name": "stdout",
     "output_type": "stream",
     "text": [
      "Conditions: ['AdPa_1p25nM', 'AdPa_2p5nM', 'AdPa_5nM', 'AdPa_10nM', 'AdPa_20nM', 'AdPa_40nM', 'AdPa_80nM', 'AdPa_160nM']\n",
      "Subconditions: ['Rep1']\n"
     ]
    }
   ],
   "source": [
    "# Example usage\n",
    "data_path = \"../../../../Thomson Lab Dropbox/David Larios/activedrops/ubuntu/030225-AdPa-titrations/2p5ulTMB_1ulDNA_/\"\n",
    "\n",
    "calibration_curve_paths = sorted(glob.glob(\"../../../../Thomson Lab Dropbox/David Larios/activedrops/calibration_curve/***ugml.tif\"))\n",
    "\n",
    "\n",
    "conditions_dict = {\n",
    "    \"AdPa_160nM\": \"Pos0\", \n",
    "    \"AdPa_80nM\": \"Pos1\", \n",
    "    \"AdPa_40nM\": \"Pos2\", \n",
    "    \"AdPa_20nM\": \"Pos3\", \n",
    "    \"AdPa_10nM\": \"Pos4\", \n",
    "    \"AdPa_5nM\": \"Pos5\", \n",
    "    \"AdPa_2p5nM\": \"Pos6\", \n",
    "    \"AdPa_1p25nM\": \"Pos7\", \n",
    "}\n",
    "\n",
    "# Organize PosX folders into condition folders\n",
    "qd.organize_conditions(data_path, conditions_dict)\n",
    "\n",
    "# Now run the existing functions to reorganize the tiffs and rename the folders\n",
    "conditions, subconditions = qd.prepare_conditions(data_path)\n",
    "time_interval_list = [30] * len(conditions)  # time intervals in seconds between frames for each condition\n",
    "\n",
    "subconditions = ['Rep1']\n",
    "print(\"Conditions:\", conditions)\n",
    "print(\"Subconditions:\", subconditions)\n",
    "\n"
   ]
  },
  {
   "cell_type": "code",
   "execution_count": 4,
   "metadata": {},
   "outputs": [
    {
     "name": "stdout",
     "output_type": "stream",
     "text": [
      "Moved .tif files from ../../../../Thomson Lab Dropbox/David Larios/activedrops/ubuntu/030225-AdPa-titrations/2p5ulTMB_1ulDNA_/AdPa_1p25nM/Rep1 to ../../../../Thomson Lab Dropbox/David Larios/activedrops/ubuntu/030225-AdPa-titrations/2p5ulTMB_1ulDNA_/AdPa_1p25nM/Rep1/original\n",
      "Moved .tif files from ../../../../Thomson Lab Dropbox/David Larios/activedrops/ubuntu/030225-AdPa-titrations/2p5ulTMB_1ulDNA_/AdPa_2p5nM/Rep1 to ../../../../Thomson Lab Dropbox/David Larios/activedrops/ubuntu/030225-AdPa-titrations/2p5ulTMB_1ulDNA_/AdPa_2p5nM/Rep1/original\n",
      "Moved .tif files from ../../../../Thomson Lab Dropbox/David Larios/activedrops/ubuntu/030225-AdPa-titrations/2p5ulTMB_1ulDNA_/AdPa_5nM/Rep1 to ../../../../Thomson Lab Dropbox/David Larios/activedrops/ubuntu/030225-AdPa-titrations/2p5ulTMB_1ulDNA_/AdPa_5nM/Rep1/original\n",
      "Moved .tif files from ../../../../Thomson Lab Dropbox/David Larios/activedrops/ubuntu/030225-AdPa-titrations/2p5ulTMB_1ulDNA_/AdPa_10nM/Rep1 to ../../../../Thomson Lab Dropbox/David Larios/activedrops/ubuntu/030225-AdPa-titrations/2p5ulTMB_1ulDNA_/AdPa_10nM/Rep1/original\n",
      "Moved .tif files from ../../../../Thomson Lab Dropbox/David Larios/activedrops/ubuntu/030225-AdPa-titrations/2p5ulTMB_1ulDNA_/AdPa_20nM/Rep1 to ../../../../Thomson Lab Dropbox/David Larios/activedrops/ubuntu/030225-AdPa-titrations/2p5ulTMB_1ulDNA_/AdPa_20nM/Rep1/original\n",
      "Moved .tif files from ../../../../Thomson Lab Dropbox/David Larios/activedrops/ubuntu/030225-AdPa-titrations/2p5ulTMB_1ulDNA_/AdPa_40nM/Rep1 to ../../../../Thomson Lab Dropbox/David Larios/activedrops/ubuntu/030225-AdPa-titrations/2p5ulTMB_1ulDNA_/AdPa_40nM/Rep1/original\n",
      "Moved .tif files from ../../../../Thomson Lab Dropbox/David Larios/activedrops/ubuntu/030225-AdPa-titrations/2p5ulTMB_1ulDNA_/AdPa_80nM/Rep1 to ../../../../Thomson Lab Dropbox/David Larios/activedrops/ubuntu/030225-AdPa-titrations/2p5ulTMB_1ulDNA_/AdPa_80nM/Rep1/original\n",
      "Moved .tif files from ../../../../Thomson Lab Dropbox/David Larios/activedrops/ubuntu/030225-AdPa-titrations/2p5ulTMB_1ulDNA_/AdPa_160nM/Rep1 to ../../../../Thomson Lab Dropbox/David Larios/activedrops/ubuntu/030225-AdPa-titrations/2p5ulTMB_1ulDNA_/AdPa_160nM/Rep1/original\n"
     ]
    }
   ],
   "source": [
    "qd.reorgTiffsToOriginal(data_path, conditions, subconditions)\n"
   ]
  },
  {
   "cell_type": "markdown",
   "metadata": {},
   "source": [
    "### Generate movies"
   ]
  },
  {
   "cell_type": "code",
   "execution_count": 8,
   "metadata": {},
   "outputs": [
    {
     "name": "stderr",
     "output_type": "stream",
     "text": [
      "Processing AdPa_1p25nM - Rep1:   0%|          | 0/1082 [00:00<?, ?it/s]"
     ]
    },
    {
     "name": "stderr",
     "output_type": "stream",
     "text": [
      "Processing AdPa_1p25nM - Rep1: 100%|██████████| 1082/1082 [02:15<00:00,  8.01it/s]\n",
      "Processing AdPa_2p5nM - Rep1: 100%|██████████| 1082/1082 [02:14<00:00,  8.07it/s]\n",
      "Processing AdPa_5nM - Rep1: 100%|██████████| 1082/1082 [02:14<00:00,  8.05it/s]\n",
      "Processing AdPa_10nM - Rep1: 100%|██████████| 1082/1082 [02:12<00:00,  8.14it/s]\n",
      "Processing AdPa_20nM - Rep1: 100%|██████████| 1082/1082 [02:14<00:00,  8.04it/s]\n",
      "Processing AdPa_40nM - Rep1: 100%|██████████| 1082/1082 [02:14<00:00,  8.06it/s]\n",
      "Processing AdPa_80nM - Rep1: 100%|██████████| 1082/1082 [02:13<00:00,  8.11it/s]\n",
      "Processing AdPa_160nM - Rep1: 100%|██████████| 1082/1082 [02:05<00:00,  8.61it/s]\n"
     ]
    }
   ],
   "source": [
    "# Call the function\n",
    "qd.fluorescence_heatmap(\n",
    "    data_path, \n",
    "    conditions, \n",
    "    subconditions, \n",
    "    channel='cy5', \n",
    "    time_interval_list=time_interval_list, \n",
    "    vmax=14, \n",
    "    skip_frames=4, \n",
    "    calibration_curve_paths=calibration_curve_paths, \n",
    "    show_scalebar=False,\n",
    "    )"
   ]
  },
  {
   "cell_type": "code",
   "execution_count": 9,
   "metadata": {},
   "outputs": [
    {
     "name": "stdout",
     "output_type": "stream",
     "text": [
      "Creating video for AdPa_1p25nM - Rep1 with duration: 18.03 seconds.\n"
     ]
    },
    {
     "name": "stderr",
     "output_type": "stream",
     "text": [
      "Creating video for AdPa_1p25nM - Rep1: 100%|██████████| 1082/1082 [01:15<00:00, 14.39it/s]\n"
     ]
    },
    {
     "name": "stdout",
     "output_type": "stream",
     "text": [
      "Creating video for AdPa_2p5nM - Rep1 with duration: 18.03 seconds.\n"
     ]
    },
    {
     "name": "stderr",
     "output_type": "stream",
     "text": [
      "Creating video for AdPa_2p5nM - Rep1: 100%|██████████| 1082/1082 [01:18<00:00, 13.77it/s]\n"
     ]
    },
    {
     "name": "stdout",
     "output_type": "stream",
     "text": [
      "Creating video for AdPa_5nM - Rep1 with duration: 18.03 seconds.\n"
     ]
    },
    {
     "name": "stderr",
     "output_type": "stream",
     "text": [
      "Creating video for AdPa_5nM - Rep1: 100%|██████████| 1082/1082 [01:20<00:00, 13.51it/s]\n"
     ]
    },
    {
     "name": "stdout",
     "output_type": "stream",
     "text": [
      "Creating video for AdPa_10nM - Rep1 with duration: 18.03 seconds.\n"
     ]
    },
    {
     "name": "stderr",
     "output_type": "stream",
     "text": [
      "Creating video for AdPa_10nM - Rep1: 100%|██████████| 1082/1082 [01:17<00:00, 13.88it/s]\n"
     ]
    },
    {
     "name": "stdout",
     "output_type": "stream",
     "text": [
      "Creating video for AdPa_20nM - Rep1 with duration: 18.03 seconds.\n"
     ]
    },
    {
     "name": "stderr",
     "output_type": "stream",
     "text": [
      "Creating video for AdPa_20nM - Rep1: 100%|██████████| 1082/1082 [01:20<00:00, 13.37it/s]\n"
     ]
    },
    {
     "name": "stdout",
     "output_type": "stream",
     "text": [
      "Creating video for AdPa_40nM - Rep1 with duration: 18.03 seconds.\n"
     ]
    },
    {
     "name": "stderr",
     "output_type": "stream",
     "text": [
      "Creating video for AdPa_40nM - Rep1: 100%|██████████| 1082/1082 [01:21<00:00, 13.34it/s]\n"
     ]
    },
    {
     "name": "stdout",
     "output_type": "stream",
     "text": [
      "Creating video for AdPa_80nM - Rep1 with duration: 18.03 seconds.\n"
     ]
    },
    {
     "name": "stderr",
     "output_type": "stream",
     "text": [
      "Creating video for AdPa_80nM - Rep1: 100%|██████████| 1082/1082 [01:19<00:00, 13.69it/s]\n"
     ]
    },
    {
     "name": "stdout",
     "output_type": "stream",
     "text": [
      "Creating video for AdPa_160nM - Rep1 with duration: 18.03 seconds.\n"
     ]
    },
    {
     "name": "stderr",
     "output_type": "stream",
     "text": [
      "Creating video for AdPa_160nM - Rep1: 100%|██████████| 1082/1082 [01:26<00:00, 12.51it/s]\n"
     ]
    }
   ],
   "source": [
    "# Example usage\n",
    "qd.create_movies(\n",
    "    data_path, \n",
    "    conditions, \n",
    "    subconditions, \n",
    "    channel='cy5', \n",
    "    frame_rate=60,\n",
    "    skip_frames=1\n",
    "    )\n"
   ]
  },
  {
   "cell_type": "code",
   "execution_count": null,
   "metadata": {},
   "outputs": [],
   "source": [
    "conditions[::-1]"
   ]
  },
  {
   "cell_type": "code",
   "execution_count": 10,
   "metadata": {},
   "outputs": [
    {
     "name": "stdout",
     "output_type": "stream",
     "text": [
      "Creating video with duration: 18.03 seconds.\n"
     ]
    },
    {
     "name": "stderr",
     "output_type": "stream",
     "text": [
      "Creating combined frames: 100%|██████████| 1082/1082 [06:09<00:00,  2.93it/s]\n"
     ]
    },
    {
     "name": "stdout",
     "output_type": "stream",
     "text": [
      "Combined video saved to ../../../../Thomson Lab Dropbox/David Larios/activedrops/ubuntu/030225-AdPa-titrations/2p5ulTMB_1ulDNA_/output_data/movies/combined_heatmap_movie_cy5_60fps_1082frames.avi\n"
     ]
    }
   ],
   "source": [
    "qd.create_combined_heatmap_movie_custom_grid(\n",
    "    data_path, \n",
    "    conditions[::-1], \n",
    "    subconditions, \n",
    "    channel='cy5', \n",
    "    grid_rows=2, \n",
    "    grid_cols=4, \n",
    "    frame_rate=60,\n",
    "    batch_size=50\n",
    "    )\n"
   ]
  },
  {
   "cell_type": "markdown",
   "metadata": {},
   "source": []
  },
  {
   "cell_type": "code",
   "execution_count": 11,
   "metadata": {},
   "outputs": [
    {
     "name": "stderr",
     "output_type": "stream",
     "text": [
      "Processing AdPa_1p25nM - Rep1: 100%|██████████| 271/271 [00:28<00:00,  9.51it/s]\n",
      "Processing AdPa_2p5nM - Rep1: 100%|██████████| 271/271 [00:28<00:00,  9.65it/s]\n",
      "Processing AdPa_5nM - Rep1: 100%|██████████| 271/271 [00:28<00:00,  9.65it/s]\n",
      "Processing AdPa_10nM - Rep1: 100%|██████████| 271/271 [00:28<00:00,  9.63it/s]\n",
      "Processing AdPa_20nM - Rep1: 100%|██████████| 271/271 [00:28<00:00,  9.45it/s]\n",
      "Processing AdPa_40nM - Rep1: 100%|██████████| 271/271 [00:28<00:00,  9.51it/s]\n",
      "Processing AdPa_80nM - Rep1: 100%|██████████| 271/271 [00:28<00:00,  9.49it/s]\n",
      "Processing AdPa_160nM - Rep1: 100%|██████████| 271/271 [00:28<00:00,  9.45it/s]\n"
     ]
    }
   ],
   "source": [
    "# Call the function\n",
    "qd.fluorescence_heatmap(\n",
    "    data_path, \n",
    "    conditions[:], \n",
    "    subconditions, \n",
    "    channel='GFP', \n",
    "    time_interval_list=time_interval_list, \n",
    "    vmax=500, \n",
    "    skip_frames=16, \n",
    "    calibration_curve_paths=calibration_curve_paths, \n",
    "    show_scalebar=True,\n",
    "    )"
   ]
  },
  {
   "cell_type": "code",
   "execution_count": 27,
   "metadata": {},
   "outputs": [
    {
     "name": "stdout",
     "output_type": "stream",
     "text": [
      "Creating video for AdPa_1p25nM - Rep1 with duration: 18.03 seconds.\n"
     ]
    },
    {
     "name": "stderr",
     "output_type": "stream",
     "text": [
      "Creating video for AdPa_1p25nM - Rep1: 100%|██████████| 271/271 [00:14<00:00, 18.12it/s]\n"
     ]
    },
    {
     "name": "stdout",
     "output_type": "stream",
     "text": [
      "Creating video for AdPa_2p5nM - Rep1 with duration: 18.03 seconds.\n"
     ]
    },
    {
     "name": "stderr",
     "output_type": "stream",
     "text": [
      "Creating video for AdPa_2p5nM - Rep1: 100%|██████████| 271/271 [00:14<00:00, 18.10it/s]\n"
     ]
    },
    {
     "name": "stdout",
     "output_type": "stream",
     "text": [
      "Creating video for AdPa_5nM - Rep1 with duration: 18.03 seconds.\n"
     ]
    },
    {
     "name": "stderr",
     "output_type": "stream",
     "text": [
      "Creating video for AdPa_5nM - Rep1: 100%|██████████| 271/271 [00:15<00:00, 17.90it/s]\n"
     ]
    },
    {
     "name": "stdout",
     "output_type": "stream",
     "text": [
      "Creating video for AdPa_10nM - Rep1 with duration: 18.03 seconds.\n"
     ]
    },
    {
     "name": "stderr",
     "output_type": "stream",
     "text": [
      "Creating video for AdPa_10nM - Rep1: 100%|██████████| 271/271 [00:15<00:00, 17.81it/s]\n"
     ]
    },
    {
     "name": "stdout",
     "output_type": "stream",
     "text": [
      "Creating video for AdPa_20nM - Rep1 with duration: 18.03 seconds.\n"
     ]
    },
    {
     "name": "stderr",
     "output_type": "stream",
     "text": [
      "Creating video for AdPa_20nM - Rep1: 100%|██████████| 271/271 [00:15<00:00, 17.55it/s]\n"
     ]
    },
    {
     "name": "stdout",
     "output_type": "stream",
     "text": [
      "Creating video for AdPa_40nM - Rep1 with duration: 18.03 seconds.\n"
     ]
    },
    {
     "name": "stderr",
     "output_type": "stream",
     "text": [
      "Creating video for AdPa_40nM - Rep1: 100%|██████████| 271/271 [00:15<00:00, 17.52it/s]\n"
     ]
    },
    {
     "name": "stdout",
     "output_type": "stream",
     "text": [
      "Creating video for AdPa_80nM - Rep1 with duration: 18.03 seconds.\n"
     ]
    },
    {
     "name": "stderr",
     "output_type": "stream",
     "text": [
      "Creating video for AdPa_80nM - Rep1: 100%|██████████| 271/271 [00:15<00:00, 17.56it/s]\n"
     ]
    },
    {
     "name": "stdout",
     "output_type": "stream",
     "text": [
      "Creating video for AdPa_160nM - Rep1 with duration: 18.03 seconds.\n"
     ]
    },
    {
     "name": "stderr",
     "output_type": "stream",
     "text": [
      "Creating video for AdPa_160nM - Rep1: 100%|██████████| 271/271 [00:15<00:00, 17.74it/s]\n"
     ]
    }
   ],
   "source": [
    "# Example usage\n",
    "qd.create_movies(\n",
    "    data_path, \n",
    "    conditions, \n",
    "    subconditions, \n",
    "    channel='GFP', \n",
    "    frame_rate=15.03,\n",
    "    skip_frames=1\n",
    "    )\n"
   ]
  },
  {
   "cell_type": "code",
   "execution_count": 26,
   "metadata": {},
   "outputs": [
    {
     "name": "stdout",
     "output_type": "stream",
     "text": [
      "Creating video with duration: 18.03 seconds.\n"
     ]
    },
    {
     "name": "stderr",
     "output_type": "stream",
     "text": [
      "Creating combined frames: 100%|██████████| 271/271 [01:18<00:00,  3.44it/s]\n"
     ]
    },
    {
     "name": "stdout",
     "output_type": "stream",
     "text": [
      "Combined video saved to ../../../../Thomson Lab Dropbox/David Larios/activedrops/ubuntu/030225-AdPa-titrations/2p5ulTMB_1ulDNA_/output_data/movies/combined_heatmap_movie_GFP_15.03fps_271frames.avi\n"
     ]
    }
   ],
   "source": [
    "qd.create_combined_heatmap_movie_custom_grid(\n",
    "    data_path, \n",
    "    conditions[::-1], \n",
    "    subconditions, \n",
    "    channel='GFP', \n",
    "    grid_rows=2, \n",
    "    grid_cols=4, \n",
    "    frame_rate=15.03,\n",
    "    batch_size=50\n",
    "    )\n"
   ]
  },
  {
   "cell_type": "code",
   "execution_count": null,
   "metadata": {},
   "outputs": [],
   "source": [
    "# qd.delete_temporary_image_directories(data_path, conditions, subconditions)"
   ]
  },
  {
   "cell_type": "markdown",
   "metadata": {},
   "source": [
    "### Fluorescence Quantification"
   ]
  },
  {
   "cell_type": "code",
   "execution_count": 28,
   "metadata": {},
   "outputs": [
    {
     "data": {
      "text/plain": [
       "['AdPa_1p25nM',\n",
       " 'AdPa_2p5nM',\n",
       " 'AdPa_5nM',\n",
       " 'AdPa_10nM',\n",
       " 'AdPa_20nM',\n",
       " 'AdPa_40nM',\n",
       " 'AdPa_80nM',\n",
       " 'AdPa_160nM']"
      ]
     },
     "execution_count": 28,
     "metadata": {},
     "output_type": "execute_result"
    }
   ],
   "source": [
    "conditions"
   ]
  },
  {
   "cell_type": "code",
   "execution_count": 29,
   "metadata": {},
   "outputs": [
    {
     "name": "stderr",
     "output_type": "stream",
     "text": [
      "Calculating intensities for AdPa_1p25nM - Rep1: 100%|██████████| 4327/4327 [00:27<00:00, 155.24it/s]\n",
      "Calculating intensities for AdPa_2p5nM - Rep1: 100%|██████████| 4327/4327 [00:27<00:00, 154.77it/s]\n",
      "Calculating intensities for AdPa_5nM - Rep1: 100%|██████████| 4327/4327 [00:27<00:00, 155.14it/s]\n",
      "Calculating intensities for AdPa_10nM - Rep1: 100%|██████████| 4327/4327 [00:28<00:00, 152.10it/s]\n",
      "Calculating intensities for AdPa_20nM - Rep1: 100%|██████████| 4327/4327 [00:28<00:00, 152.15it/s]\n",
      "Calculating intensities for AdPa_40nM - Rep1: 100%|██████████| 4327/4327 [00:27<00:00, 155.10it/s]\n",
      "Calculating intensities for AdPa_80nM - Rep1: 100%|██████████| 4327/4327 [00:28<00:00, 153.17it/s]\n",
      "Calculating intensities for AdPa_160nM - Rep1: 100%|██████████| 4327/4327 [00:28<00:00, 152.41it/s]\n"
     ]
    },
    {
     "data": {
      "text/plain": [
       "('../../../../Thomson Lab Dropbox/David Larios/activedrops/ubuntu/030225-AdPa-titrations/2p5ulTMB_1ulDNA_/output_data/combined_expression.csv',\n",
       " '../../../../Thomson Lab Dropbox/David Larios/activedrops/ubuntu/030225-AdPa-titrations/2p5ulTMB_1ulDNA_/output_data/mean_expression.csv')"
      ]
     },
     "execution_count": 29,
     "metadata": {},
     "output_type": "execute_result"
    }
   ],
   "source": [
    "# Example usage\n",
    "# mw_kda_list = [44.95] * len(conditions)\n",
    "droplet_volume_list = [2] * len(conditions)\n",
    "# protein_lengths_list = [401] * len(conditions) # last one is negative\n",
    "\n",
    "qd.quantify_tiffiles(\n",
    "    data_path, \n",
    "    conditions, \n",
    "    subconditions, \n",
    "    calibration_curve_paths, \n",
    "    droplet_volume_list, \n",
    "    time_interval_list, \n",
    "    skip_frames=1,\n",
    "\n",
    ")"
   ]
  },
  {
   "cell_type": "markdown",
   "metadata": {},
   "source": [
    "### PIV pre-processing"
   ]
  },
  {
   "cell_type": "code",
   "execution_count": 31,
   "metadata": {},
   "outputs": [
    {
     "data": {
      "text/plain": [
       "['AdPa_2p5nM']"
      ]
     },
     "execution_count": 31,
     "metadata": {},
     "output_type": "execute_result"
    }
   ],
   "source": [
    "conditions[1:2:]"
   ]
  },
  {
   "cell_type": "code",
   "execution_count": 33,
   "metadata": {},
   "outputs": [
    {
     "name": "stdout",
     "output_type": "stream",
     "text": [
      "Copied every 18th f'cy5' file from ../../../../Thomson Lab Dropbox/David Larios/activedrops/ubuntu/030225-AdPa-titrations/2p5ulTMB_1ulDNA_/AdPa_1p25nM/Rep1/original into ../../../../Thomson Lab Dropbox/David Larios/activedrops/ubuntu/030225-AdPa-titrations/2p5ulTMB_1ulDNA_/AdPa_1p25nM/Rep1/cy5-18x.\n",
      "Skipping Rep1 as the expected output is already present.\n",
      "Copied every 18th f'cy5' file from ../../../../Thomson Lab Dropbox/David Larios/activedrops/ubuntu/030225-AdPa-titrations/2p5ulTMB_1ulDNA_/AdPa_5nM/Rep1/original into ../../../../Thomson Lab Dropbox/David Larios/activedrops/ubuntu/030225-AdPa-titrations/2p5ulTMB_1ulDNA_/AdPa_5nM/Rep1/cy5-18x.\n",
      "Copied every 18th f'cy5' file from ../../../../Thomson Lab Dropbox/David Larios/activedrops/ubuntu/030225-AdPa-titrations/2p5ulTMB_1ulDNA_/AdPa_10nM/Rep1/original into ../../../../Thomson Lab Dropbox/David Larios/activedrops/ubuntu/030225-AdPa-titrations/2p5ulTMB_1ulDNA_/AdPa_10nM/Rep1/cy5-18x.\n",
      "Copied every 18th f'cy5' file from ../../../../Thomson Lab Dropbox/David Larios/activedrops/ubuntu/030225-AdPa-titrations/2p5ulTMB_1ulDNA_/AdPa_20nM/Rep1/original into ../../../../Thomson Lab Dropbox/David Larios/activedrops/ubuntu/030225-AdPa-titrations/2p5ulTMB_1ulDNA_/AdPa_20nM/Rep1/cy5-18x.\n",
      "Copied every 18th f'cy5' file from ../../../../Thomson Lab Dropbox/David Larios/activedrops/ubuntu/030225-AdPa-titrations/2p5ulTMB_1ulDNA_/AdPa_40nM/Rep1/original into ../../../../Thomson Lab Dropbox/David Larios/activedrops/ubuntu/030225-AdPa-titrations/2p5ulTMB_1ulDNA_/AdPa_40nM/Rep1/cy5-18x.\n",
      "Copied every 18th f'cy5' file from ../../../../Thomson Lab Dropbox/David Larios/activedrops/ubuntu/030225-AdPa-titrations/2p5ulTMB_1ulDNA_/AdPa_80nM/Rep1/original into ../../../../Thomson Lab Dropbox/David Larios/activedrops/ubuntu/030225-AdPa-titrations/2p5ulTMB_1ulDNA_/AdPa_80nM/Rep1/cy5-18x.\n",
      "Copied every 18th f'cy5' file from ../../../../Thomson Lab Dropbox/David Larios/activedrops/ubuntu/030225-AdPa-titrations/2p5ulTMB_1ulDNA_/AdPa_160nM/Rep1/original into ../../../../Thomson Lab Dropbox/David Larios/activedrops/ubuntu/030225-AdPa-titrations/2p5ulTMB_1ulDNA_/AdPa_160nM/Rep1/cy5-18x.\n"
     ]
    }
   ],
   "source": [
    "qd.split_tiffs(data_path, conditions, subconditions, channel='cy5', file_interval=18)\n",
    "\n"
   ]
  },
  {
   "cell_type": "markdown",
   "metadata": {},
   "source": [
    "### PIV"
   ]
  },
  {
   "cell_type": "code",
   "execution_count": 17,
   "metadata": {},
   "outputs": [],
   "source": [
    "# Define feature limits and other parameters\n",
    "v = 2E-7\n",
    "velocity_limits = (0, v)\n",
    "other_limits = (-0.0005, 0.0005)\n",
    "skip_frames = 1 ### CHANGE THIS TO SKIP FRAMES\n",
    "\n",
    "\n",
    "velocity_limits = (None, None)\n",
    "other_limits = (None, None)\n",
    "\n",
    "\n",
    "feature_limits = {\n",
    "    # 'u [m/s]': (-v, v), \n",
    "    # 'v [m/s]': (-v, v), \n",
    "    # 'data type [-]': (None, None),\n",
    "    'velocity magnitude [m/s]': velocity_limits,\n",
    "    'vorticity [1/s]': other_limits,\n",
    "    'divergence [1/s]': other_limits,\n",
    "    # 'dcev [1]': (0, 250),\n",
    "    'shear [1/s]': other_limits,\n",
    "    'strain [1/s]': other_limits,\n",
    "    'vector direction [degrees]': (-180, 180),\n",
    "}\n",
    "\n",
    "\n",
    "# Features for PCA and plotting\n",
    "features_pca = [\n",
    "    \"vorticity [1/s]_mean\",\n",
    "    \"velocity magnitude [um/s]\",\n",
    "    \"distance [m]_mean\",\n",
    "    \"divergence [1/s]_mean\",\n",
    "    \"shear [1/s]_mean\",\n",
    "    \"strain [1/s]_mean\",\n",
    "    \"correlation length [um]\", \n",
    "    \"power [W]_mean\",\n",
    "    \"work [J]\",\n",
    "]\n"
   ]
  },
  {
   "cell_type": "code",
   "execution_count": null,
   "metadata": {},
   "outputs": [],
   "source": [
    "conditions[::]"
   ]
  },
  {
   "cell_type": "code",
   "execution_count": 20,
   "metadata": {},
   "outputs": [
    {
     "name": "stderr",
     "output_type": "stream",
     "text": [
      "Processing PIV data:   0%|          | 0/8 [00:00<?, ?it/s]\n",
      "\u001b[A\n",
      "\u001b[A\n",
      "\u001b[A\n",
      "\u001b[A\n",
      "\u001b[A\n",
      "\u001b[A\n",
      "\u001b[A\n",
      "\u001b[A\n",
      "\u001b[A\n",
      "\u001b[A\n",
      "\u001b[A\n",
      "\u001b[A\n",
      "\u001b[A\n",
      "\u001b[A\n",
      "\u001b[A\n",
      "\u001b[A\n",
      "\u001b[A\n",
      "\u001b[A\n",
      "\u001b[A\n",
      "\u001b[A\n",
      "\u001b[A\n",
      "\u001b[A\n",
      "\u001b[A\n",
      "\u001b[A\n",
      "\u001b[A\n",
      "\u001b[A\n",
      "\u001b[A\n",
      "\u001b[A\n",
      "\u001b[A\n",
      "\u001b[A\n",
      "\u001b[A\n",
      "\u001b[A\n",
      "\u001b[A\n",
      "\u001b[A\n",
      "\u001b[A\n",
      "\u001b[A\n",
      "\u001b[A\n",
      "\u001b[A\n",
      "\u001b[A\n",
      "\u001b[A\n",
      "\u001b[A\n",
      "\u001b[A\n",
      "\u001b[A\n",
      "\u001b[A\n",
      "\u001b[A\n",
      "\u001b[A\n",
      "\u001b[A\n",
      "\u001b[A\n",
      "\u001b[A\n",
      "\u001b[A\n",
      "\u001b[A\n",
      "\u001b[A\n",
      "\u001b[A\n",
      "\u001b[A\n",
      "\u001b[A\n",
      "\u001b[A\n",
      "\u001b[A\n",
      "\u001b[A\n",
      "\u001b[A\n",
      "\u001b[A\n",
      "\u001b[A\n",
      "\u001b[A\n",
      "\u001b[A\n",
      "\u001b[A\n",
      "\u001b[A\n",
      "\u001b[A\n",
      "\u001b[A\n",
      "\u001b[A\n",
      "\u001b[A\n",
      "\u001b[A\n",
      "\u001b[A\n",
      "\u001b[A\n",
      "\u001b[A\n",
      "\u001b[A\n",
      "\u001b[A\n",
      "\u001b[A\n",
      "\u001b[A\n",
      "\u001b[A\n",
      "\u001b[A\n",
      "\u001b[A\n",
      "\u001b[A\n",
      "\u001b[A\n",
      "\u001b[A\n",
      "\u001b[A\n",
      "\u001b[A\n",
      "\u001b[A\n",
      "\u001b[A\n",
      "\u001b[A\n",
      "\u001b[A\n",
      "\u001b[A\n",
      "\u001b[A\n",
      "\u001b[A\n",
      "\u001b[A\n",
      "\u001b[A\n",
      "\u001b[A\n",
      "\u001b[A\n",
      "\u001b[A\n",
      "\u001b[A\n",
      "\u001b[A\n",
      "\u001b[A\n",
      "\u001b[A\n",
      "\u001b[A\n",
      "\u001b[A\n",
      "\u001b[A\n",
      "\u001b[A\n",
      "\u001b[A\n",
      "\u001b[A\n",
      "\u001b[A\n",
      "\u001b[A\n",
      "\u001b[A\n",
      "\u001b[A\n",
      "\u001b[A\n",
      "\u001b[A\n",
      "Processing PIV data:  12%|█▎        | 1/8 [00:31<03:42, 31.74s/it]\n",
      "\u001b[A\n",
      "\u001b[A\n",
      "\u001b[A\n",
      "\u001b[A\n",
      "\u001b[A\n",
      "\u001b[A\n",
      "\u001b[A\n",
      "\u001b[A\n",
      "\u001b[A\n",
      "\u001b[A\n",
      "\u001b[A\n",
      "\u001b[A\n",
      "\u001b[A\n",
      "\u001b[A\n",
      "\u001b[A\n",
      "\u001b[A\n",
      "\u001b[A\n",
      "\u001b[A\n",
      "\u001b[A\n",
      "\u001b[A\n",
      "\u001b[A\n",
      "\u001b[A\n",
      "\u001b[A\n",
      "\u001b[A\n",
      "\u001b[A\n",
      "\u001b[A\n",
      "\u001b[A\n",
      "\u001b[A\n",
      "\u001b[A\n",
      "\u001b[A\n",
      "\u001b[A\n",
      "\u001b[A\n",
      "\u001b[A\n",
      "\u001b[A\n",
      "\u001b[A\n",
      "\u001b[A\n",
      "\u001b[A\n",
      "\u001b[A\n",
      "\u001b[A\n",
      "\u001b[A\n",
      "\u001b[A\n",
      "\u001b[A\n",
      "\u001b[A\n",
      "\u001b[A\n",
      "\u001b[A\n",
      "\u001b[A\n",
      "\u001b[A\n",
      "\u001b[A\n",
      "\u001b[A\n",
      "\u001b[A\n",
      "\u001b[A\n",
      "\u001b[A\n",
      "\u001b[A\n",
      "\u001b[A\n",
      "\u001b[A\n",
      "\u001b[A\n",
      "\u001b[A\n",
      "\u001b[A\n",
      "\u001b[A\n",
      "\u001b[A\n",
      "\u001b[A\n",
      "\u001b[A\n",
      "\u001b[A\n",
      "\u001b[A\n",
      "\u001b[A\n",
      "\u001b[A\n",
      "\u001b[A\n",
      "\u001b[A\n",
      "\u001b[A\n",
      "\u001b[A\n",
      "\u001b[A\n",
      "\u001b[A\n",
      "\u001b[A\n",
      "\u001b[A\n",
      "\u001b[A\n",
      "\u001b[A\n",
      "\u001b[A\n",
      "\u001b[A\n",
      "\u001b[A\n",
      "\u001b[A\n",
      "\u001b[A\n",
      "\u001b[A\n",
      "\u001b[A\n",
      "\u001b[A\n",
      "\u001b[A\n",
      "\u001b[A\n",
      "\u001b[A\n",
      "\u001b[A\n",
      "\u001b[A\n",
      "\u001b[A\n",
      "\u001b[A\n",
      "\u001b[A\n",
      "\u001b[A\n",
      "\u001b[A\n",
      "\u001b[A\n",
      "\u001b[A\n",
      "\u001b[A\n",
      "\u001b[A\n",
      "\u001b[A\n",
      "\u001b[A\n",
      "\u001b[A\n",
      "\u001b[A\n",
      "\u001b[A\n",
      "\u001b[A\n",
      "\u001b[A\n",
      "\u001b[A\n",
      "\u001b[A\n",
      "\u001b[A\n",
      "\u001b[A\n",
      "\u001b[A\n",
      "\u001b[A\n",
      "\u001b[A\n",
      "\u001b[A\n",
      "Processing PIV data:  25%|██▌       | 2/8 [01:03<03:09, 31.59s/it]\n",
      "\u001b[A\n",
      "\u001b[A\n",
      "\u001b[A\n",
      "\u001b[A\n",
      "\u001b[A\n",
      "\u001b[A\n",
      "\u001b[A\n",
      "\u001b[A\n",
      "\u001b[A\n",
      "\u001b[A\n",
      "\u001b[A\n",
      "\u001b[A\n",
      "\u001b[A\n",
      "\u001b[A\n",
      "\u001b[A\n",
      "\u001b[A\n",
      "\u001b[A\n",
      "\u001b[A\n",
      "\u001b[A\n",
      "\u001b[A\n",
      "\u001b[A\n",
      "\u001b[A\n",
      "\u001b[A\n",
      "\u001b[A\n",
      "\u001b[A\n",
      "\u001b[A\n",
      "\u001b[A\n",
      "\u001b[A\n",
      "\u001b[A\n",
      "\u001b[A\n",
      "\u001b[A\n",
      "\u001b[A\n",
      "\u001b[A\n",
      "\u001b[A\n",
      "\u001b[A\n",
      "\u001b[A\n",
      "\u001b[A\n",
      "\u001b[A\n",
      "\u001b[A\n",
      "\u001b[A\n",
      "\u001b[A\n",
      "\u001b[A\n",
      "\u001b[A\n",
      "\u001b[A\n",
      "\u001b[A\n",
      "\u001b[A\n",
      "\u001b[A\n",
      "\u001b[A\n",
      "\u001b[A\n",
      "\u001b[A\n",
      "\u001b[A\n",
      "\u001b[A\n",
      "\u001b[A\n",
      "\u001b[A\n",
      "Processing PIV data:  38%|███▊      | 3/8 [01:18<02:00, 24.01s/it]\n",
      "\u001b[A\n",
      "\u001b[A\n",
      "\u001b[A\n",
      "\u001b[A\n",
      "\u001b[A\n",
      "\u001b[A\n",
      "\u001b[A\n",
      "\u001b[A\n",
      "\u001b[A\n",
      "\u001b[A\n",
      "\u001b[A\n",
      "\u001b[A\n",
      "\u001b[A\n",
      "\u001b[A\n",
      "\u001b[A\n",
      "\u001b[A\n",
      "\u001b[A\n",
      "\u001b[A\n",
      "\u001b[A\n",
      "\u001b[A\n",
      "\u001b[A\n",
      "\u001b[A\n",
      "\u001b[A\n",
      "\u001b[A\n",
      "\u001b[A\n",
      "\u001b[A\n",
      "\u001b[A\n",
      "\u001b[A\n",
      "\u001b[A\n",
      "\u001b[A\n",
      "\u001b[A\n",
      "\u001b[A\n",
      "\u001b[A\n",
      "\u001b[A\n",
      "\u001b[A\n",
      "\u001b[A\n",
      "\u001b[A\n",
      "\u001b[A\n",
      "\u001b[A\n",
      "\u001b[A\n",
      "\u001b[A\n",
      "\u001b[A\n",
      "\u001b[A\n",
      "\u001b[A\n",
      "\u001b[A\n",
      "\u001b[A\n",
      "\u001b[A\n",
      "\u001b[A\n",
      "\u001b[A\n",
      "\u001b[A\n",
      "\u001b[A\n",
      "\u001b[A\n",
      "\u001b[A\n",
      "Processing PIV data:  50%|█████     | 4/8 [01:33<01:21, 20.43s/it]\n",
      "\u001b[A\n",
      "\u001b[A\n",
      "\u001b[A\n",
      "\u001b[A\n",
      "\u001b[A\n",
      "\u001b[A\n",
      "\u001b[A\n",
      "\u001b[A\n",
      "\u001b[A\n",
      "\u001b[A\n",
      "\u001b[A\n",
      "\u001b[A\n",
      "\u001b[A\n",
      "\u001b[A\n",
      "\u001b[A\n",
      "\u001b[A\n",
      "\u001b[A\n",
      "\u001b[A\n",
      "\u001b[A\n",
      "\u001b[A\n",
      "\u001b[A\n",
      "\u001b[A\n",
      "\u001b[A\n",
      "\u001b[A\n",
      "\u001b[A\n",
      "\u001b[A\n",
      "\u001b[A\n",
      "\u001b[A\n",
      "\u001b[A\n",
      "\u001b[A\n",
      "\u001b[A\n",
      "\u001b[A\n",
      "\u001b[A\n",
      "\u001b[A\n",
      "\u001b[A\n",
      "\u001b[A\n",
      "\u001b[A\n",
      "\u001b[A\n",
      "\u001b[A\n",
      "\u001b[A\n",
      "\u001b[A\n",
      "\u001b[A\n",
      "\u001b[A\n",
      "\u001b[A\n",
      "\u001b[A\n",
      "\u001b[A\n",
      "\u001b[A\n",
      "\u001b[A\n",
      "\u001b[A\n",
      "\u001b[A\n",
      "\u001b[A\n",
      "\u001b[A\n",
      "\u001b[A\n",
      "Processing PIV data:  62%|██████▎   | 5/8 [01:48<00:55, 18.47s/it]\n",
      "\u001b[A\n",
      "\u001b[A\n",
      "\u001b[A\n",
      "\u001b[A\n",
      "\u001b[A\n",
      "\u001b[A\n",
      "\u001b[A\n",
      "\u001b[A\n",
      "\u001b[A\n",
      "\u001b[A\n",
      "\u001b[A\n",
      "\u001b[A\n",
      "\u001b[A\n",
      "\u001b[A\n",
      "\u001b[A\n",
      "\u001b[A\n",
      "\u001b[A\n",
      "\u001b[A\n",
      "\u001b[A\n",
      "\u001b[A\n",
      "\u001b[A\n",
      "\u001b[A\n",
      "\u001b[A\n",
      "\u001b[A\n",
      "\u001b[A\n",
      "\u001b[A\n",
      "\u001b[A\n",
      "\u001b[A\n",
      "\u001b[A\n",
      "\u001b[A\n",
      "\u001b[A\n",
      "\u001b[A\n",
      "\u001b[A\n",
      "\u001b[A\n",
      "\u001b[A\n",
      "\u001b[A\n",
      "\u001b[A\n",
      "\u001b[A\n",
      "\u001b[A\n",
      "\u001b[A\n",
      "\u001b[A\n",
      "\u001b[A\n",
      "\u001b[A\n",
      "\u001b[A\n",
      "\u001b[A\n",
      "\u001b[A\n",
      "\u001b[A\n",
      "\u001b[A\n",
      "\u001b[A\n",
      "\u001b[A\n",
      "\u001b[A\n",
      "\u001b[A\n",
      "\u001b[A\n",
      "\u001b[A\n",
      "\u001b[A\n",
      "\u001b[A\n",
      "Processing PIV data:  75%|███████▌  | 6/8 [02:03<00:35, 17.51s/it]\n",
      "\u001b[A\n",
      "\u001b[A\n",
      "\u001b[A\n",
      "\u001b[A\n",
      "\u001b[A\n",
      "\u001b[A\n",
      "\u001b[A\n",
      "\u001b[A\n",
      "\u001b[A\n",
      "\u001b[A\n",
      "\u001b[A\n",
      "\u001b[A\n",
      "\u001b[A\n",
      "\u001b[A\n",
      "\u001b[A\n",
      "\u001b[A\n",
      "\u001b[A\n",
      "\u001b[A\n",
      "\u001b[A\n",
      "\u001b[A\n",
      "\u001b[A\n",
      "\u001b[A\n",
      "\u001b[A\n",
      "\u001b[A\n",
      "\u001b[A\n",
      "\u001b[A\n",
      "\u001b[A\n",
      "\u001b[A\n",
      "\u001b[A\n",
      "\u001b[A\n",
      "\u001b[A\n",
      "\u001b[A\n",
      "\u001b[A\n",
      "\u001b[A\n",
      "\u001b[A\n",
      "\u001b[A\n",
      "\u001b[A\n",
      "\u001b[A\n",
      "\u001b[A\n",
      "\u001b[A\n",
      "\u001b[A\n",
      "\u001b[A\n",
      "\u001b[A\n",
      "\u001b[A\n",
      "\u001b[A\n",
      "\u001b[A\n",
      "\u001b[A\n",
      "\u001b[A\n",
      "\u001b[A\n",
      "\u001b[A\n",
      "\u001b[A\n",
      "\u001b[A\n",
      "\u001b[A\n",
      "\u001b[A\n",
      "\u001b[A\n",
      "\u001b[A\n",
      "\u001b[A\n",
      "\u001b[A\n",
      "Processing PIV data:  88%|████████▊ | 7/8 [02:19<00:16, 16.98s/it]\n",
      "\u001b[A\n",
      "\u001b[A\n",
      "\u001b[A\n",
      "\u001b[A\n",
      "\u001b[A\n",
      "\u001b[A\n",
      "\u001b[A\n",
      "\u001b[A\n",
      "\u001b[A\n",
      "\u001b[A\n",
      "\u001b[A\n",
      "\u001b[A\n",
      "\u001b[A\n",
      "\u001b[A\n",
      "\u001b[A\n",
      "\u001b[A\n",
      "\u001b[A\n",
      "\u001b[A\n",
      "\u001b[A\n",
      "\u001b[A\n",
      "\u001b[A\n",
      "\u001b[A\n",
      "\u001b[A\n",
      "\u001b[A\n",
      "\u001b[A\n",
      "\u001b[A\n",
      "\u001b[A\n",
      "\u001b[A\n",
      "\u001b[A\n",
      "\u001b[A\n",
      "\u001b[A\n",
      "\u001b[A\n",
      "\u001b[A\n",
      "\u001b[A\n",
      "\u001b[A\n",
      "\u001b[A\n",
      "\u001b[A\n",
      "\u001b[A\n",
      "\u001b[A\n",
      "\u001b[A\n",
      "\u001b[A\n",
      "\u001b[A\n",
      "\u001b[A\n",
      "\u001b[A\n",
      "\u001b[A\n",
      "\u001b[A\n",
      "\u001b[A\n",
      "\u001b[A\n",
      "\u001b[A\n",
      "\u001b[A\n",
      "\u001b[A\n",
      "\u001b[A\n",
      "\u001b[A\n",
      "\u001b[A\n",
      "\u001b[A\n",
      "\u001b[A\n",
      "Processing PIV data: 100%|██████████| 8/8 [02:35<00:00, 19.44s/it]\n"
     ]
    }
   ],
   "source": [
    "time_interval_list = [6] * len(conditions)  # time intervals in seconds between frames for each condition\n",
    "\n",
    "\n",
    "# Process PIV data\n",
    "qd.process_piv_data(\n",
    "    data_path, \n",
    "    conditions,    \n",
    "    subconditions, \n",
    "    feature_limits, \n",
    "    time_interval_list, \n",
    "    min_frame=0, \n",
    "    max_frame=None, \n",
    "    skip_frames=1, \n",
    "    plot_autocorrelation=False, \n",
    "    frame_rate=1, \n",
    "    heatmaps=False\n",
    "    )\n"
   ]
  },
  {
   "cell_type": "code",
   "execution_count": null,
   "metadata": {},
   "outputs": [],
   "source": [
    "# Plot features and PCA\n",
    "qd.plot_PIV_all(\n",
    "    data_path, \n",
    "    conditions[:5:-1],\n",
    "    subconditions, \n",
    "    features_pca, \n",
    "    min_frame=0, \n",
    "    max_frame=None\n",
    "    )\n"
   ]
  },
  {
   "cell_type": "markdown",
   "metadata": {},
   "source": [
    "### Expression + PIV"
   ]
  },
  {
   "cell_type": "code",
   "execution_count": 21,
   "metadata": {},
   "outputs": [
    {
     "name": "stderr",
     "output_type": "stream",
     "text": [
      "Conditions: 100%|██████████| 8/8 [00:00<00:00, 166.47it/s]\n"
     ]
    },
    {
     "name": "stdout",
     "output_type": "stream",
     "text": [
      "Combined DataFrame saved to: ../../../../Thomson Lab Dropbox/David Larios/activedrops/ubuntu/030225-NaGr-titrations/2p5ulTMB_1ulDNA_2/output_data/combined_PIV.csv\n"
     ]
    }
   ],
   "source": [
    "# Combine the data and save it to the \"output_data\" directory\n",
    "qd.combine_averaged_dataframes(data_path, conditions, subconditions)\n"
   ]
  },
  {
   "cell_type": "code",
   "execution_count": 22,
   "metadata": {},
   "outputs": [
    {
     "name": "stdout",
     "output_type": "stream",
     "text": [
      "Merged DataFrame saved to: ../../../../Thomson Lab Dropbox/David Larios/activedrops/ubuntu/030225-NaGr-titrations/2p5ulTMB_1ulDNA_2/output_data/merged_expression_PIV.csv\n"
     ]
    }
   ],
   "source": [
    "qd.merge_expression_piv_data(data_path)\n"
   ]
  },
  {
   "cell_type": "code",
   "execution_count": null,
   "metadata": {},
   "outputs": [],
   "source": [
    "# x_column = \"time (h)\"  # Example x-axis column\n",
    "# y_column = \"Protein Concentration_nM\"  # Example y-axis column\n",
    "\n",
    "\n",
    "# x_column = \"Protein Concentration_nM\"  # Example y-axis column\n",
    "# y_column = \"velocity magnitude [m/s]_mean\"  # Example y-axis column\n",
    "\n",
    "# x_column = \"time (h)\"  # Example x-axis column\n",
    "# y_column = \"velocity magnitude [m/s]_mean\"  # Example y-axis column\n",
    "\n",
    "# x_column = \"time (h)\"  # Example x-axis column\n",
    "# y_column = \"power [W]_mean\"  # Example y-axis column\n",
    "\n",
    "# x_column = \"time (h)\"  # Example x-axis column\n",
    "# y_column = \"work [J]_mean\"  # Example y-axis column\n",
    "\n",
    "x_column = \"time (h)\"  # Example x-axis column\n",
    "y_column = \"distance [m]_mean\"  # Example y-axis column\n",
    "\n",
    "\n",
    "qd.plot_expression_piv(\n",
    "    data_path,\n",
    "    conditions,\n",
    "    x_column, \n",
    "    y_column, \n",
    "    sigma_x=0.1, \n",
    "    sigma_y=10, \n",
    "    x_log=False, \n",
    "    y_log=True, \n",
    "    min_frame=0, \n",
    "    max_frame=None, \n",
    "    individual_plots=False\n",
    "    )"
   ]
  },
  {
   "cell_type": "code",
   "execution_count": null,
   "metadata": {},
   "outputs": [],
   "source": [
    "\n",
    "# List of features for PCA\n",
    "features_pca = [\n",
    "    \"vorticity [1/s]_mean\",\n",
    "    \"velocity magnitude [m/s]_mean\",\n",
    "    \"distance [m]_mean\",\n",
    "    \"divergence [1/s]_mean\",\n",
    "    \"shear [1/s]_mean\",\n",
    "    \"strain [1/s]_mean\",\n",
    "    \"correlation length [m]_mean\", \n",
    "    \"power [W]_mean\",\n",
    "    \"work [J]_mean\",\n",
    "    'vector direction [degrees]_mean',\n",
    "    \"Protein Concentration_nM\", \n",
    "    'time (min)'\n",
    "]\n",
    "\n",
    "# Run PCA and save plot (with all conditions and subconditions in the same plot)\n",
    "qd.plot_pca_expression_piv(data_path, conditions=conditions, subconditions=subconditions, features=features_pca, sigma=1)\n"
   ]
  },
  {
   "cell_type": "code",
   "execution_count": null,
   "metadata": {},
   "outputs": [],
   "source": [
    "\n",
    "# Example usage\n",
    "qd.delete_outputs(data_path, conditions, subconditions, output_dirs=None)\n"
   ]
  },
  {
   "cell_type": "code",
   "execution_count": null,
   "metadata": {},
   "outputs": [],
   "source": []
  }
 ],
 "metadata": {
  "kernelspec": {
   "display_name": "my_venv_3_11_5",
   "language": "python",
   "name": "python3"
  },
  "language_info": {
   "codemirror_mode": {
    "name": "ipython",
    "version": 3
   },
   "file_extension": ".py",
   "mimetype": "text/x-python",
   "name": "python",
   "nbconvert_exporter": "python",
   "pygments_lexer": "ipython3",
   "version": "3.11.5"
  }
 },
 "nbformat": 4,
 "nbformat_minor": 2
}
