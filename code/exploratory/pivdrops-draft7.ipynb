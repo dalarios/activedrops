{
 "cells": [
  {
   "cell_type": "code",
   "execution_count": 1,
   "metadata": {},
   "outputs": [],
   "source": [
    "## Import relevant libraries\n",
    "import sys\n",
    "sys.path.append('../../activedrops')\n",
    "\n",
    "## Including ourselves\n",
    "import pivdrops\n",
    "pivdrops.set_plotting_style()"
   ]
  },
  {
   "cell_type": "code",
   "execution_count": 12,
   "metadata": {},
   "outputs": [],
   "source": [
    "data_path = \"../../data/Kif3-3reps/\"\n",
    "condition = \"kif3\"\n",
    "subcondition1 = \"rep1\"\n",
    "subcondition2 = \"rep2\"\n",
    "subcondition3 = \"rep3\"\n",
    "\n",
    "min_frame = 0\n",
    "max_frame = None\n",
    "\n",
    "\n",
    "rep1_ts, rep1_pivot = pivdrops.process_piv_data(data_path, condition, subcondition1, min_frame=min_frame, max_frame=max_frame, plot_autocorrelation=False)\n",
    "rep2_ts, rep2_pivot = pivdrops.process_piv_data(data_path, condition, subcondition2, min_frame=min_frame, max_frame=max_frame, plot_autocorrelation=False)\n",
    "rep3_ts, rep3_pivot = pivdrops.process_piv_data(data_path, condition, subcondition3, min_frame=min_frame, max_frame=max_frame, plot_autocorrelation=False)\n",
    "\n"
   ]
  },
  {
   "cell_type": "code",
   "execution_count": 15,
   "metadata": {},
   "outputs": [],
   "source": [
    "time_intervals = [3, 3, 3]\n",
    "\n",
    "features_pca = [\n",
    "    # \"data type [-]_mean\", \n",
    "    \"vorticity [1/s]_mean\",\t\n",
    "    \"velocity magnitude [m/s]_mean\", \n",
    "    \"divergence [1/s]_mean\", \n",
    "    # \"dcev [1]_mean\", \n",
    "    \"shear [1/s]_mean\", \n",
    "    \"strain [1/s]_mean\", \n",
    "    \"vector direction [degrees]_mean\", \n",
    "    \"correlation length [m]_mean\", \n",
    "    \"power [W]_mean\"\n",
    "    ]\n",
    "\n",
    "pivdrops.plot_features([data_path, data_path, data_path], [condition, condition, condition], [subcondition1, subcondition2, subcondition3], features_pca, time_intervals=time_intervals, sigma=1)\n"
   ]
  },
  {
   "cell_type": "code",
   "execution_count": null,
   "metadata": {},
   "outputs": [],
   "source": []
  }
 ],
 "metadata": {
  "kernelspec": {
   "display_name": "base",
   "language": "python",
   "name": "python3"
  },
  "language_info": {
   "codemirror_mode": {
    "name": "ipython",
    "version": 3
   },
   "file_extension": ".py",
   "mimetype": "text/x-python",
   "name": "python",
   "nbconvert_exporter": "python",
   "pygments_lexer": "ipython3",
   "version": "3.11.5"
  }
 },
 "nbformat": 4,
 "nbformat_minor": 2
}
