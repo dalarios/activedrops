{
 "cells": [
  {
   "cell_type": "code",
   "execution_count": 1,
   "metadata": {},
   "outputs": [],
   "source": [
    "## Import relevant libraries\n",
    "import sys\n",
    "import glob\n",
    "\n",
    "sys.path.append('../../py_files/')\n",
    "import quadrop as qd\n",
    "\n",
    "qd.set_plotting_style()"
   ]
  },
  {
   "cell_type": "markdown",
   "metadata": {},
   "source": [
    "### Data pre-procesing"
   ]
  },
  {
   "cell_type": "code",
   "execution_count": null,
   "metadata": {},
   "outputs": [],
   "source": [
    "# Example usage\n",
    "base_dir = \"../../../../Thomson Lab Dropbox/David Larios/activedrops/ubuntu/021025-BleSto-AcSu2-titrations/\"\n",
    "qd.consolidate_images(base_dir)"
   ]
  },
  {
   "cell_type": "code",
   "execution_count": 2,
   "metadata": {},
   "outputs": [
    {
     "name": "stdout",
     "output_type": "stream",
     "text": [
      "Warning: ../../../../Thomson Lab Dropbox/David Larios/activedrops/ubuntu/021025-BleSto-AcSu2-titrations/2p5ulTMB-1ulDNA_1/Pos0 does not exist. Skipping.\n",
      "Warning: ../../../../Thomson Lab Dropbox/David Larios/activedrops/ubuntu/021025-BleSto-AcSu2-titrations/2p5ulTMB-1ulDNA_1/Pos1 does not exist. Skipping.\n",
      "Warning: ../../../../Thomson Lab Dropbox/David Larios/activedrops/ubuntu/021025-BleSto-AcSu2-titrations/2p5ulTMB-1ulDNA_1/Pos2 does not exist. Skipping.\n",
      "Warning: ../../../../Thomson Lab Dropbox/David Larios/activedrops/ubuntu/021025-BleSto-AcSu2-titrations/2p5ulTMB-1ulDNA_1/Pos3 does not exist. Skipping.\n",
      "Warning: ../../../../Thomson Lab Dropbox/David Larios/activedrops/ubuntu/021025-BleSto-AcSu2-titrations/2p5ulTMB-1ulDNA_1/Pos4 does not exist. Skipping.\n",
      "Warning: ../../../../Thomson Lab Dropbox/David Larios/activedrops/ubuntu/021025-BleSto-AcSu2-titrations/2p5ulTMB-1ulDNA_1/Pos5 does not exist. Skipping.\n",
      "Warning: ../../../../Thomson Lab Dropbox/David Larios/activedrops/ubuntu/021025-BleSto-AcSu2-titrations/2p5ulTMB-1ulDNA_1/Pos6 does not exist. Skipping.\n",
      "Warning: ../../../../Thomson Lab Dropbox/David Larios/activedrops/ubuntu/021025-BleSto-AcSu2-titrations/2p5ulTMB-1ulDNA_1/Pos7 does not exist. Skipping.\n",
      "Warning: ../../../../Thomson Lab Dropbox/David Larios/activedrops/ubuntu/021025-BleSto-AcSu2-titrations/2p5ulTMB-1ulDNA_1/Pos8 does not exist. Skipping.\n",
      "Warning: ../../../../Thomson Lab Dropbox/David Larios/activedrops/ubuntu/021025-BleSto-AcSu2-titrations/2p5ulTMB-1ulDNA_1/Pos9 does not exist. Skipping.\n",
      "Warning: ../../../../Thomson Lab Dropbox/David Larios/activedrops/ubuntu/021025-BleSto-AcSu2-titrations/2p5ulTMB-1ulDNA_1/Pos10 does not exist. Skipping.\n",
      "Warning: ../../../../Thomson Lab Dropbox/David Larios/activedrops/ubuntu/021025-BleSto-AcSu2-titrations/2p5ulTMB-1ulDNA_1/Pos11 does not exist. Skipping.\n",
      "Warning: ../../../../Thomson Lab Dropbox/David Larios/activedrops/ubuntu/021025-BleSto-AcSu2-titrations/2p5ulTMB-1ulDNA_1/Pos12 does not exist. Skipping.\n",
      "Warning: ../../../../Thomson Lab Dropbox/David Larios/activedrops/ubuntu/021025-BleSto-AcSu2-titrations/2p5ulTMB-1ulDNA_1/Pos13 does not exist. Skipping.\n",
      "Warning: ../../../../Thomson Lab Dropbox/David Larios/activedrops/ubuntu/021025-BleSto-AcSu2-titrations/2p5ulTMB-1ulDNA_1/Pos14 does not exist. Skipping.\n",
      "Warning: ../../../../Thomson Lab Dropbox/David Larios/activedrops/ubuntu/021025-BleSto-AcSu2-titrations/2p5ulTMB-1ulDNA_1/Pos15 does not exist. Skipping.\n",
      "Conditions: ['AcSu2_1p25nM', 'AcSu2_2p5nM', 'AcSu2_5nM', 'AcSu2_10nM', 'AcSu2_20nM', 'AcSu2_40nM', 'AcSu2_80nM', 'AcSu2_160nM', 'BleSto_1p25nM', 'BleSto_2p5nM', 'BleSto_5nM', 'BleSto_10nM', 'BleSto_20nM', 'BleSto_40nM', 'BleSto_80nM', 'BleSto_160nM']\n",
      "Subconditions: ['Rep1']\n"
     ]
    }
   ],
   "source": [
    "# Example usage\n",
    "data_path = \"../../../../Thomson Lab Dropbox/David Larios/activedrops/ubuntu/021025-BleSto-AcSu2-titrations/2p5ulTMB-1ulDNA_1/\"\n",
    "\n",
    "calibration_curve_paths = sorted(glob.glob(\"../../../../Thomson Lab Dropbox/David Larios/activedrops/calibration_curve/***ugml.tif\"))\n",
    "\n",
    "\n",
    "conditions_dict = {\n",
    "    \"BleSto_160nM\": \"Pos0\", \n",
    "    \"BleSto_80nM\": \"Pos1\", \n",
    "    \"BleSto_40nM\": \"Pos2\", \n",
    "    \"BleSto_20nM\": \"Pos3\", \n",
    "    \"BleSto_10nM\": \"Pos4\", \n",
    "    \"BleSto_5nM\": \"Pos5\", \n",
    "    \"BleSto_2p5nM\": \"Pos6\", \n",
    "    \"BleSto_1p25nM\": \"Pos7\", \n",
    "    \"AcSu2_160nM\": \"Pos8\", \n",
    "    \"AcSu2_80nM\": \"Pos9\", \n",
    "    \"AcSu2_40nM\": \"Pos10\", \n",
    "    \"AcSu2_20nM\": \"Pos11\", \n",
    "    \"AcSu2_10nM\": \"Pos12\", \n",
    "    \"AcSu2_5nM\": \"Pos13\", \n",
    "    \"AcSu2_2p5nM\": \"Pos14\", \n",
    "    \"AcSu2_1p25nM\": \"Pos15\", \n",
    "}\n",
    "\n",
    "# Organize PosX folders into condition folders\n",
    "qd.organize_conditions(data_path, conditions_dict)\n",
    "\n",
    "# Now run the existing functions to reorganize the tiffs and rename the folders\n",
    "conditions, subconditions = qd.prepare_conditions(data_path)\n",
    "time_interval_list = [50] * len(conditions)  # time intervals in seconds between frames for each condition\n",
    "\n",
    "\n",
    "print(\"Conditions:\", conditions)\n",
    "print(\"Subconditions:\", subconditions)\n",
    "\n"
   ]
  },
  {
   "cell_type": "code",
   "execution_count": null,
   "metadata": {},
   "outputs": [],
   "source": [
    "qd.reorgTiffsToOriginal(data_path, conditions, subconditions)\n"
   ]
  },
  {
   "cell_type": "markdown",
   "metadata": {},
   "source": [
    "### Generate movies"
   ]
  },
  {
   "cell_type": "code",
   "execution_count": null,
   "metadata": {},
   "outputs": [],
   "source": [
    "# Call the function\n",
    "qd.fluorescence_heatmap(\n",
    "    data_path, \n",
    "    conditions, \n",
    "    subconditions, \n",
    "    channel='cy5', \n",
    "    time_interval_list=time_interval_list, \n",
    "    vmax=15, \n",
    "    skip_frames=1, \n",
    "    calibration_curve_paths=calibration_curve_paths, \n",
    "    show_scalebar=False,\n",
    "    )"
   ]
  },
  {
   "cell_type": "code",
   "execution_count": null,
   "metadata": {},
   "outputs": [],
   "source": [
    "# Example usage\n",
    "qd.create_movies(\n",
    "    data_path, \n",
    "    conditions[::-1], \n",
    "    subconditions, \n",
    "    channel='cy5', \n",
    "    frame_rate=60,\n",
    "    skip_frames=2\n",
    "    )\n"
   ]
  },
  {
   "cell_type": "code",
   "execution_count": null,
   "metadata": {},
   "outputs": [],
   "source": [
    "conditions[7::-1]"
   ]
  },
  {
   "cell_type": "code",
   "execution_count": null,
   "metadata": {},
   "outputs": [],
   "source": [
    "qd.create_combined_heatmap_movie_custom_grid(\n",
    "    data_path, \n",
    "    conditions[7::-1], \n",
    "    subconditions, \n",
    "    channel='cy5', \n",
    "    grid_rows=2, \n",
    "    grid_cols=4, \n",
    "    frame_rate=120,\n",
    "    batch_size=50\n",
    "    )\n"
   ]
  },
  {
   "cell_type": "code",
   "execution_count": null,
   "metadata": {},
   "outputs": [],
   "source": [
    "qd.create_combined_heatmap_movie_custom_grid(\n",
    "    data_path, \n",
    "    conditions[:7:-1], \n",
    "    subconditions, \n",
    "    channel='cy5', \n",
    "    grid_rows=2, \n",
    "    grid_cols=4, \n",
    "    frame_rate=120,\n",
    "    batch_size=50\n",
    "    )\n"
   ]
  },
  {
   "cell_type": "markdown",
   "metadata": {},
   "source": []
  },
  {
   "cell_type": "code",
   "execution_count": 3,
   "metadata": {},
   "outputs": [
    {
     "name": "stderr",
     "output_type": "stream",
     "text": [
      "Processing AcSu2_1p25nM - Rep1: 100%|██████████| 116/116 [00:13<00:00,  8.59it/s]\n",
      "Processing AcSu2_2p5nM - Rep1: 100%|██████████| 116/116 [00:12<00:00,  9.00it/s]\n",
      "Processing AcSu2_5nM - Rep1: 100%|██████████| 116/116 [00:14<00:00,  7.82it/s]\n",
      "Processing AcSu2_10nM - Rep1: 100%|██████████| 116/116 [00:14<00:00,  7.90it/s]\n",
      "Processing AcSu2_20nM - Rep1: 100%|██████████| 116/116 [00:13<00:00,  8.75it/s]\n",
      "Processing AcSu2_40nM - Rep1: 100%|██████████| 116/116 [00:12<00:00,  9.38it/s]\n",
      "Processing AcSu2_80nM - Rep1: 100%|██████████| 116/116 [00:11<00:00,  9.70it/s]\n",
      "Processing AcSu2_160nM - Rep1: 100%|██████████| 116/116 [00:11<00:00,  9.90it/s]\n",
      "Processing BleSto_1p25nM - Rep1: 100%|██████████| 116/116 [00:12<00:00,  9.49it/s]\n",
      "Processing BleSto_2p5nM - Rep1: 100%|██████████| 116/116 [00:12<00:00,  9.37it/s]\n",
      "Processing BleSto_5nM - Rep1: 100%|██████████| 116/116 [00:12<00:00,  9.16it/s]\n",
      "Processing BleSto_10nM - Rep1: 100%|██████████| 116/116 [00:12<00:00,  9.14it/s]\n",
      "Processing BleSto_20nM - Rep1: 100%|██████████| 116/116 [00:12<00:00,  9.29it/s]\n",
      "Processing BleSto_40nM - Rep1: 100%|██████████| 116/116 [00:12<00:00,  9.21it/s]\n",
      "Processing BleSto_80nM - Rep1: 100%|██████████| 116/116 [00:12<00:00,  9.26it/s]\n",
      "Processing BleSto_160nM - Rep1: 100%|██████████| 116/116 [00:12<00:00,  9.33it/s]\n"
     ]
    }
   ],
   "source": [
    "# Call the function\n",
    "qd.fluorescence_heatmap(\n",
    "    data_path, \n",
    "    conditions, \n",
    "    subconditions, \n",
    "    channel='GFP', \n",
    "    time_interval_list=time_interval_list, \n",
    "    vmax=500, \n",
    "    skip_frames=16, \n",
    "    calibration_curve_paths=calibration_curve_paths, \n",
    "    show_scalebar=True,\n",
    "    )"
   ]
  },
  {
   "cell_type": "code",
   "execution_count": 4,
   "metadata": {},
   "outputs": [
    {
     "name": "stdout",
     "output_type": "stream",
     "text": [
      "Creating video for AcSu2_1p25nM - Rep1 with duration: 7.25 seconds.\n"
     ]
    },
    {
     "name": "stderr",
     "output_type": "stream",
     "text": [
      "Creating video for AcSu2_1p25nM - Rep1: 100%|██████████| 116/116 [00:06<00:00, 17.50it/s]\n"
     ]
    },
    {
     "name": "stdout",
     "output_type": "stream",
     "text": [
      "Creating video for AcSu2_2p5nM - Rep1 with duration: 7.25 seconds.\n"
     ]
    },
    {
     "name": "stderr",
     "output_type": "stream",
     "text": [
      "Creating video for AcSu2_2p5nM - Rep1: 100%|██████████| 116/116 [00:06<00:00, 17.14it/s]\n"
     ]
    },
    {
     "name": "stdout",
     "output_type": "stream",
     "text": [
      "Creating video for AcSu2_5nM - Rep1 with duration: 7.25 seconds.\n"
     ]
    },
    {
     "name": "stderr",
     "output_type": "stream",
     "text": [
      "Creating video for AcSu2_5nM - Rep1: 100%|██████████| 116/116 [00:07<00:00, 16.50it/s]\n"
     ]
    },
    {
     "name": "stdout",
     "output_type": "stream",
     "text": [
      "Creating video for AcSu2_10nM - Rep1 with duration: 7.25 seconds.\n"
     ]
    },
    {
     "name": "stderr",
     "output_type": "stream",
     "text": [
      "Creating video for AcSu2_10nM - Rep1: 100%|██████████| 116/116 [00:07<00:00, 16.46it/s]\n"
     ]
    },
    {
     "name": "stdout",
     "output_type": "stream",
     "text": [
      "Creating video for AcSu2_20nM - Rep1 with duration: 7.25 seconds.\n"
     ]
    },
    {
     "name": "stderr",
     "output_type": "stream",
     "text": [
      "Creating video for AcSu2_20nM - Rep1: 100%|██████████| 116/116 [00:07<00:00, 16.45it/s]\n"
     ]
    },
    {
     "name": "stdout",
     "output_type": "stream",
     "text": [
      "Creating video for AcSu2_40nM - Rep1 with duration: 7.25 seconds.\n"
     ]
    },
    {
     "name": "stderr",
     "output_type": "stream",
     "text": [
      "Creating video for AcSu2_40nM - Rep1: 100%|██████████| 116/116 [00:07<00:00, 16.55it/s]\n"
     ]
    },
    {
     "name": "stdout",
     "output_type": "stream",
     "text": [
      "Creating video for AcSu2_80nM - Rep1 with duration: 7.25 seconds.\n"
     ]
    },
    {
     "name": "stderr",
     "output_type": "stream",
     "text": [
      "Creating video for AcSu2_80nM - Rep1: 100%|██████████| 116/116 [00:06<00:00, 16.76it/s]\n"
     ]
    },
    {
     "name": "stdout",
     "output_type": "stream",
     "text": [
      "Creating video for AcSu2_160nM - Rep1 with duration: 7.25 seconds.\n"
     ]
    },
    {
     "name": "stderr",
     "output_type": "stream",
     "text": [
      "Creating video for AcSu2_160nM - Rep1: 100%|██████████| 116/116 [00:06<00:00, 17.06it/s]\n"
     ]
    },
    {
     "name": "stdout",
     "output_type": "stream",
     "text": [
      "Creating video for BleSto_1p25nM - Rep1 with duration: 7.25 seconds.\n"
     ]
    },
    {
     "name": "stderr",
     "output_type": "stream",
     "text": [
      "Creating video for BleSto_1p25nM - Rep1: 100%|██████████| 116/116 [00:06<00:00, 18.14it/s]\n"
     ]
    },
    {
     "name": "stdout",
     "output_type": "stream",
     "text": [
      "Creating video for BleSto_2p5nM - Rep1 with duration: 7.25 seconds.\n"
     ]
    },
    {
     "name": "stderr",
     "output_type": "stream",
     "text": [
      "Creating video for BleSto_2p5nM - Rep1: 100%|██████████| 116/116 [00:06<00:00, 17.69it/s]\n"
     ]
    },
    {
     "name": "stdout",
     "output_type": "stream",
     "text": [
      "Creating video for BleSto_5nM - Rep1 with duration: 7.25 seconds.\n"
     ]
    },
    {
     "name": "stderr",
     "output_type": "stream",
     "text": [
      "Creating video for BleSto_5nM - Rep1: 100%|██████████| 116/116 [00:06<00:00, 17.05it/s]\n"
     ]
    },
    {
     "name": "stdout",
     "output_type": "stream",
     "text": [
      "Creating video for BleSto_10nM - Rep1 with duration: 7.25 seconds.\n"
     ]
    },
    {
     "name": "stderr",
     "output_type": "stream",
     "text": [
      "Creating video for BleSto_10nM - Rep1: 100%|██████████| 116/116 [00:07<00:00, 16.47it/s]\n"
     ]
    },
    {
     "name": "stdout",
     "output_type": "stream",
     "text": [
      "Creating video for BleSto_20nM - Rep1 with duration: 7.25 seconds.\n"
     ]
    },
    {
     "name": "stderr",
     "output_type": "stream",
     "text": [
      "Creating video for BleSto_20nM - Rep1: 100%|██████████| 116/116 [00:06<00:00, 16.61it/s]\n"
     ]
    },
    {
     "name": "stdout",
     "output_type": "stream",
     "text": [
      "Creating video for BleSto_40nM - Rep1 with duration: 7.25 seconds.\n"
     ]
    },
    {
     "name": "stderr",
     "output_type": "stream",
     "text": [
      "Creating video for BleSto_40nM - Rep1: 100%|██████████| 116/116 [00:06<00:00, 16.65it/s]\n"
     ]
    },
    {
     "name": "stdout",
     "output_type": "stream",
     "text": [
      "Creating video for BleSto_80nM - Rep1 with duration: 7.25 seconds.\n"
     ]
    },
    {
     "name": "stderr",
     "output_type": "stream",
     "text": [
      "Creating video for BleSto_80nM - Rep1: 100%|██████████| 116/116 [00:06<00:00, 16.69it/s]\n"
     ]
    },
    {
     "name": "stdout",
     "output_type": "stream",
     "text": [
      "Creating video for BleSto_160nM - Rep1 with duration: 7.25 seconds.\n"
     ]
    },
    {
     "name": "stderr",
     "output_type": "stream",
     "text": [
      "Creating video for BleSto_160nM - Rep1: 100%|██████████| 116/116 [00:06<00:00, 16.68it/s]\n"
     ]
    }
   ],
   "source": [
    "# Example usage\n",
    "qd.create_movies(\n",
    "    data_path, \n",
    "    conditions, \n",
    "    subconditions, \n",
    "    channel='GFP', \n",
    "    frame_rate=16,\n",
    "    skip_frames=1\n",
    "    )\n"
   ]
  },
  {
   "cell_type": "code",
   "execution_count": 6,
   "metadata": {},
   "outputs": [
    {
     "name": "stdout",
     "output_type": "stream",
     "text": [
      "Creating video with duration: 7.73 seconds.\n"
     ]
    },
    {
     "name": "stderr",
     "output_type": "stream",
     "text": [
      "Creating combined frames: 100%|██████████| 116/116 [00:32<00:00,  3.59it/s]\n"
     ]
    },
    {
     "name": "stdout",
     "output_type": "stream",
     "text": [
      "Combined video saved to ../../../../Thomson Lab Dropbox/David Larios/activedrops/ubuntu/021025-BleSto-AcSu2-titrations/2p5ulTMB-1ulDNA_1/output_data/movies/combined_heatmap_movie_GFP_15fps_116frames.avi\n"
     ]
    }
   ],
   "source": [
    "qd.create_combined_heatmap_movie_custom_grid(\n",
    "    data_path, \n",
    "    conditions[7::-1], \n",
    "    subconditions, \n",
    "    channel='GFP', \n",
    "    grid_rows=2, \n",
    "    grid_cols=4, \n",
    "    frame_rate=15,\n",
    "    batch_size=50\n",
    "    )\n"
   ]
  },
  {
   "cell_type": "code",
   "execution_count": 9,
   "metadata": {},
   "outputs": [
    {
     "name": "stdout",
     "output_type": "stream",
     "text": [
      "Creating video with duration: 7.73 seconds.\n"
     ]
    },
    {
     "name": "stderr",
     "output_type": "stream",
     "text": [
      "Creating combined frames: 100%|██████████| 116/116 [00:35<00:00,  3.28it/s]\n"
     ]
    },
    {
     "name": "stdout",
     "output_type": "stream",
     "text": [
      "Combined video saved to ../../../../Thomson Lab Dropbox/David Larios/activedrops/ubuntu/021025-BleSto-AcSu2-titrations/2p5ulTMB-1ulDNA_1/output_data/movies/combined_heatmap_movie_GFP_15fps_116frames.avi\n"
     ]
    }
   ],
   "source": [
    "qd.create_combined_heatmap_movie_custom_grid(\n",
    "    data_path, \n",
    "    conditions[:7:-1], \n",
    "    subconditions, \n",
    "    channel='GFP', \n",
    "    grid_rows=2, \n",
    "    grid_cols=4, \n",
    "    frame_rate=15,\n",
    "    batch_size=50\n",
    "    )\n"
   ]
  },
  {
   "cell_type": "code",
   "execution_count": null,
   "metadata": {},
   "outputs": [],
   "source": [
    "# qd.delete_temporary_image_directories(data_path, conditions, subconditions)"
   ]
  },
  {
   "cell_type": "markdown",
   "metadata": {},
   "source": [
    "### Fluorescence Quantification"
   ]
  },
  {
   "cell_type": "code",
   "execution_count": 7,
   "metadata": {},
   "outputs": [
    {
     "data": {
      "text/plain": [
       "['AcSu2_1p25nM',\n",
       " 'AcSu2_2p5nM',\n",
       " 'AcSu2_5nM',\n",
       " 'AcSu2_10nM',\n",
       " 'AcSu2_20nM',\n",
       " 'AcSu2_40nM',\n",
       " 'AcSu2_80nM',\n",
       " 'AcSu2_160nM',\n",
       " 'BleSto_1p25nM',\n",
       " 'BleSto_2p5nM',\n",
       " 'BleSto_5nM',\n",
       " 'BleSto_10nM',\n",
       " 'BleSto_20nM',\n",
       " 'BleSto_40nM',\n",
       " 'BleSto_80nM',\n",
       " 'BleSto_160nM']"
      ]
     },
     "execution_count": 7,
     "metadata": {},
     "output_type": "execute_result"
    }
   ],
   "source": [
    "conditions"
   ]
  },
  {
   "cell_type": "code",
   "execution_count": 8,
   "metadata": {},
   "outputs": [
    {
     "name": "stderr",
     "output_type": "stream",
     "text": [
      "Calculating intensities for AcSu2_1p25nM - Rep1: 100%|██████████| 1841/1841 [00:03<00:00, 513.50it/s]\n",
      "Calculating intensities for AcSu2_2p5nM - Rep1: 100%|██████████| 1841/1841 [00:03<00:00, 560.79it/s]\n",
      "Calculating intensities for AcSu2_5nM - Rep1: 100%|██████████| 1841/1841 [00:03<00:00, 546.28it/s]\n",
      "Calculating intensities for AcSu2_10nM - Rep1: 100%|██████████| 1841/1841 [00:03<00:00, 546.32it/s]\n",
      "Calculating intensities for AcSu2_20nM - Rep1: 100%|██████████| 1841/1841 [00:03<00:00, 556.15it/s]\n",
      "Calculating intensities for AcSu2_40nM - Rep1: 100%|██████████| 1841/1841 [00:03<00:00, 556.12it/s]\n",
      "Calculating intensities for AcSu2_80nM - Rep1: 100%|██████████| 1841/1841 [00:03<00:00, 557.78it/s]\n",
      "Calculating intensities for AcSu2_160nM - Rep1: 100%|██████████| 1841/1841 [00:03<00:00, 542.38it/s]\n",
      "Calculating intensities for BleSto_1p25nM - Rep1: 100%|██████████| 1841/1841 [00:03<00:00, 562.95it/s]\n",
      "Calculating intensities for BleSto_2p5nM - Rep1: 100%|██████████| 1841/1841 [00:03<00:00, 547.54it/s]\n",
      "Calculating intensities for BleSto_5nM - Rep1: 100%|██████████| 1841/1841 [00:03<00:00, 555.87it/s]\n",
      "Calculating intensities for BleSto_10nM - Rep1: 100%|██████████| 1841/1841 [00:03<00:00, 551.36it/s]\n",
      "Calculating intensities for BleSto_20nM - Rep1: 100%|██████████| 1842/1842 [00:03<00:00, 533.99it/s]\n",
      "Calculating intensities for BleSto_40nM - Rep1: 100%|██████████| 1842/1842 [00:03<00:00, 547.48it/s]\n",
      "Calculating intensities for BleSto_80nM - Rep1: 100%|██████████| 1842/1842 [00:03<00:00, 561.17it/s]\n",
      "Calculating intensities for BleSto_160nM - Rep1: 100%|██████████| 1842/1842 [00:03<00:00, 562.12it/s]\n"
     ]
    },
    {
     "data": {
      "text/plain": [
       "('../../../../Thomson Lab Dropbox/David Larios/activedrops/ubuntu/021025-BleSto-AcSu2-titrations/2p5ulTMB-1ulDNA_1/output_data/combined_expression.csv',\n",
       " '../../../../Thomson Lab Dropbox/David Larios/activedrops/ubuntu/021025-BleSto-AcSu2-titrations/2p5ulTMB-1ulDNA_1/output_data/mean_expression.csv')"
      ]
     },
     "execution_count": 8,
     "metadata": {},
     "output_type": "execute_result"
    }
   ],
   "source": [
    "# Example usage\n",
    "mw_kda_list = [92.2, 92.2, 92.2, 92.2, 92.2, 92.2, 92.2, 92.2, 97.8, 97.8, 97.8, 97.8, 97.8, 97.8, 97.8, 97.8,] \n",
    "droplet_volume_list = [2] * len(conditions)\n",
    "protein_lengths_list = [530, 530, 530, 530, 530, 530, 530, 530, 572, 572, 572, 572, 572, 572, 572, 572, ]  # last one is negative\n",
    "\n",
    "qd.quantify_tiffiles(\n",
    "    data_path, \n",
    "    conditions, \n",
    "    subconditions, \n",
    "    calibration_curve_paths, \n",
    "    mw_kda_list, \n",
    "    droplet_volume_list, \n",
    "    time_interval_list, \n",
    "    protein_lengths_list,\n",
    "    ribosome_count=10**9,\n",
    "    skip_frames=1,\n",
    "    subtract_negative=False\n",
    ")"
   ]
  },
  {
   "cell_type": "markdown",
   "metadata": {},
   "source": [
    "### PIV pre-processing"
   ]
  },
  {
   "cell_type": "code",
   "execution_count": null,
   "metadata": {},
   "outputs": [],
   "source": [
    "conditions"
   ]
  },
  {
   "cell_type": "code",
   "execution_count": null,
   "metadata": {},
   "outputs": [],
   "source": [
    "qd.split_tiffs(data_path, conditions[:], subconditions, channel='cy5', file_interval=1)\n",
    "\n"
   ]
  },
  {
   "cell_type": "markdown",
   "metadata": {},
   "source": [
    "### PIV"
   ]
  },
  {
   "cell_type": "code",
   "execution_count": null,
   "metadata": {},
   "outputs": [],
   "source": [
    "# Define feature limits and other parameters\n",
    "v = 2E-7\n",
    "velocity_limits = (0, v)\n",
    "other_limits = (-0.0005, 0.0005)\n",
    "skip_frames = 1 ### CHANGE THIS TO SKIP FRAMES\n",
    "\n",
    "\n",
    "velocity_limits = (None, None)\n",
    "other_limits = (None, None)\n",
    "\n",
    "\n",
    "feature_limits = {\n",
    "    # 'u [m/s]': (-v, v), \n",
    "    # 'v [m/s]': (-v, v), \n",
    "    # 'data type [-]': (None, None),\n",
    "    'velocity magnitude [m/s]': velocity_limits,\n",
    "    'vorticity [1/s]': other_limits,\n",
    "    'divergence [1/s]': other_limits,\n",
    "    # 'dcev [1]': (0, 250),\n",
    "    'shear [1/s]': other_limits,\n",
    "    'strain [1/s]': other_limits,\n",
    "    'vector direction [degrees]': (-180, 180),\n",
    "}\n",
    "\n",
    "\n",
    "# Features for PCA and plotting\n",
    "features_pca = [\n",
    "    \"vorticity [1/s]_mean\",\n",
    "    \"velocity magnitude [um/s]\",\n",
    "    \"distance [m]_mean\",\n",
    "    \"divergence [1/s]_mean\",\n",
    "    \"shear [1/s]_mean\",\n",
    "    \"strain [1/s]_mean\",\n",
    "    \"correlation length [um]\", \n",
    "    \"power [W]_mean\",\n",
    "    \"work [J]\",\n",
    "]\n"
   ]
  },
  {
   "cell_type": "code",
   "execution_count": null,
   "metadata": {},
   "outputs": [],
   "source": [
    "time_interval_list = [27] * len(conditions)  # time intervals in seconds between frames for each condition\n",
    "\n",
    "\n",
    "# Process PIV data\n",
    "qd.process_piv_data(\n",
    "    data_path, \n",
    "    conditions,\n",
    "    subconditions, \n",
    "    feature_limits, \n",
    "    time_interval_list, \n",
    "    min_frame=0, \n",
    "    max_frame=None, \n",
    "    skip_frames=1, \n",
    "    plot_autocorrelation=False, \n",
    "    frame_rate=1, \n",
    "    heatmaps=False\n",
    "    )\n"
   ]
  },
  {
   "cell_type": "code",
   "execution_count": null,
   "metadata": {},
   "outputs": [],
   "source": [
    "# Plot features and PCA\n",
    "qd.plot_PIV_all(\n",
    "    data_path, \n",
    "    conditions,\n",
    "    subconditions, \n",
    "    features_pca, \n",
    "    min_frame=0, \n",
    "    max_frame=500\n",
    "    )\n"
   ]
  },
  {
   "cell_type": "markdown",
   "metadata": {},
   "source": [
    "### Expression + PIV"
   ]
  },
  {
   "cell_type": "code",
   "execution_count": null,
   "metadata": {},
   "outputs": [],
   "source": [
    "# Combine the data and save it to the \"output_data\" directory\n",
    "qd.combine_averaged_dataframes(data_path, conditions, subconditions)\n"
   ]
  },
  {
   "cell_type": "code",
   "execution_count": null,
   "metadata": {},
   "outputs": [],
   "source": [
    "qd.merge_expression_piv_data(data_path)\n"
   ]
  },
  {
   "cell_type": "code",
   "execution_count": null,
   "metadata": {},
   "outputs": [],
   "source": [
    "# x_column = \"time (h)\"  # Example x-axis column\n",
    "# y_column = \"Protein Concentration_nM\"  # Example y-axis column\n",
    "\n",
    "\n",
    "# x_column = \"Protein Concentration_nM\"  # Example y-axis column\n",
    "# y_column = \"velocity magnitude [m/s]_mean\"  # Example y-axis column\n",
    "\n",
    "# x_column = \"time (h)\"  # Example x-axis column\n",
    "# y_column = \"velocity magnitude [m/s]_mean\"  # Example y-axis column\n",
    "\n",
    "# x_column = \"time (h)\"  # Example x-axis column\n",
    "# y_column = \"power [W]_mean\"  # Example y-axis column\n",
    "\n",
    "# x_column = \"time (h)\"  # Example x-axis column\n",
    "# y_column = \"work [J]_mean\"  # Example y-axis column\n",
    "\n",
    "x_column = \"time (h)\"  # Example x-axis column\n",
    "y_column = \"distance [m]_mean\"  # Example y-axis column\n",
    "\n",
    "\n",
    "qd.plot_expression_piv(\n",
    "    data_path,\n",
    "    conditions,\n",
    "    x_column, \n",
    "    y_column, \n",
    "    sigma_x=0.1, \n",
    "    sigma_y=10, \n",
    "    x_log=False, \n",
    "    y_log=True, \n",
    "    min_frame=0, \n",
    "    max_frame=None, \n",
    "    individual_plots=False\n",
    "    )"
   ]
  },
  {
   "cell_type": "code",
   "execution_count": null,
   "metadata": {},
   "outputs": [],
   "source": [
    "\n",
    "# List of features for PCA\n",
    "features_pca = [\n",
    "    \"vorticity [1/s]_mean\",\n",
    "    \"velocity magnitude [m/s]_mean\",\n",
    "    \"distance [m]_mean\",\n",
    "    \"divergence [1/s]_mean\",\n",
    "    \"shear [1/s]_mean\",\n",
    "    \"strain [1/s]_mean\",\n",
    "    \"correlation length [m]_mean\", \n",
    "    \"power [W]_mean\",\n",
    "    \"work [J]_mean\",\n",
    "    'vector direction [degrees]_mean',\n",
    "    \"Protein Concentration_nM\", \n",
    "    'time (min)'\n",
    "]\n",
    "\n",
    "# Run PCA and save plot (with all conditions and subconditions in the same plot)\n",
    "qd.plot_pca_expression_piv(data_path, conditions=conditions, subconditions=subconditions, features=features_pca, sigma=1)\n"
   ]
  },
  {
   "cell_type": "code",
   "execution_count": null,
   "metadata": {},
   "outputs": [],
   "source": [
    "\n",
    "# Example usage\n",
    "qd.delete_outputs(data_path, conditions, subconditions, output_dirs=None)\n"
   ]
  },
  {
   "cell_type": "code",
   "execution_count": null,
   "metadata": {},
   "outputs": [],
   "source": []
  }
 ],
 "metadata": {
  "kernelspec": {
   "display_name": "my_venv_3_11_5",
   "language": "python",
   "name": "python3"
  },
  "language_info": {
   "codemirror_mode": {
    "name": "ipython",
    "version": 3
   },
   "file_extension": ".py",
   "mimetype": "text/x-python",
   "name": "python",
   "nbconvert_exporter": "python",
   "pygments_lexer": "ipython3",
   "version": "3.11.5"
  }
 },
 "nbformat": 4,
 "nbformat_minor": 2
}
