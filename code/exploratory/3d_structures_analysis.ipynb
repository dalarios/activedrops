{
 "cells": [
  {
   "cell_type": "code",
   "execution_count": 6,
   "metadata": {},
   "outputs": [],
   "source": [
    "import pandas as pd\n",
    "import numpy as np\n",
    "import plotly.express as px"
   ]
  },
  {
   "cell_type": "code",
   "execution_count": 7,
   "metadata": {},
   "outputs": [],
   "source": [
    "# Function to read and process the DataFrame\n",
    "def process_dataframe(csv_file_path):\n",
    "    df = pd.read_csv(csv_file_path)\n",
    "\n",
    "    # Map interacting_resn to single-letter codes for better readability\n",
    "    aa_dict = {\n",
    "        'ALA': 'A', 'ARG': 'R', 'ASN': 'N', 'ASP': 'D', 'CYS': 'C', 'GLN': 'Q', 'GLU': 'E', 'GLY': 'G',\n",
    "        'HIS': 'H', 'ILE': 'I', 'LEU': 'L', 'LYS': 'K', 'MET': 'M', 'PHE': 'F', 'PRO': 'P', 'SER': 'S',\n",
    "        'THR': 'T', 'TRP': 'W', 'TYR': 'Y', 'VAL': 'V'\n",
    "    }\n",
    "\n",
    "    # Amino acid classification\n",
    "    aa_classification = {\n",
    "        'A': 'nonpolar', 'R': 'positively charged', 'N': 'polar uncharged', 'D': 'negatively charged', 'C': 'polar uncharged', \n",
    "        'Q': 'polar uncharged', 'E': 'negatively charged', 'G': 'nonpolar', 'H': 'positively charged', 'I': 'nonpolar', \n",
    "        'L': 'nonpolar', 'K': 'positively charged', 'M': 'nonpolar', 'F': 'nonpolar', 'P': 'nonpolar', 'S': 'polar uncharged', \n",
    "        'T': 'polar uncharged', 'W': 'nonpolar', 'Y': 'polar uncharged', 'V': 'nonpolar'\n",
    "    }\n",
    "\n",
    "    # Replace chain letters with descriptive names\n",
    "    chain_map = {\n",
    "        'B': 'kinesin B',\n",
    "        'C': 'alpha-tubulin',\n",
    "        'D': 'beta-tubulin',\n",
    "        'E': 'ATP',\n",
    "        'F': 'ATP'\n",
    "    }\n",
    "\n",
    "    df['residue_one_letter'] = df['resn'].map(aa_dict)\n",
    "    df['residue'] = df['resi'].astype(str) + df['residue_one_letter']\n",
    "    df['interacting_chain'] = df['interacting_chain'].map(chain_map)\n",
    "    df['aa_classification'] = df['residue_one_letter'].map(aa_classification)\n",
    "    \n",
    "    return df\n",
    "\n",
    "\n",
    "\n",
    "# Function to generate plots\n",
    "def create_plots(df, distance_threshold, xaxis_range=None, yaxis_range=None, interacting_chains=None, files_to_plot=None, chimeras=False):\n",
    "    unique_files = sorted(df['file'].unique())  # Sort the unique files alphabetically\n",
    "    plots = []\n",
    "\n",
    "    # Define a fixed color mapping for interacting chains\n",
    "    color_map = {\n",
    "        'kinesin B': '#1f77b4',  # blue\n",
    "        'alpha-tubulin': '#ff7f0e',  # orange\n",
    "        'beta-tubulin': '#2ca02c',  # green\n",
    "        'ATP': '#d62728',  # red\n",
    "    }\n",
    "\n",
    "    # Define a fixed order for the legend\n",
    "    legend_order = ['kinesin B', 'alpha-tubulin', 'beta-tubulin', 'ATP']\n",
    "\n",
    "    # Define marker shapes for amino acid classifications\n",
    "    shape_map = {\n",
    "        'nonpolar': 'circle',\n",
    "        'polar uncharged': 'square',\n",
    "        'positively charged': 'triangle-up',\n",
    "        'negatively charged': 'triangle-down'\n",
    "    }\n",
    "\n",
    "    # Filter the files to plot if specified\n",
    "    if files_to_plot:\n",
    "        unique_files = [file for file in unique_files if any(file.startswith(prefix) for prefix in files_to_plot)]\n",
    "\n",
    "    for file in unique_files:\n",
    "        df_file = df[df['file'] == file]\n",
    "\n",
    "        # Filter to get the shortest distances for each interaction\n",
    "        df_filtered = df_file.loc[df_file[df_file['chain'] == 'A'].groupby(['resi', 'interacting_chain'])['distance (angstroms)'].idxmin()]\n",
    "\n",
    "        # Filter by distance threshold\n",
    "        df_filtered = df_filtered[df_filtered['distance (angstroms)'] <= distance_threshold]\n",
    "\n",
    "\n",
    "        # Filter by interacting chains if specified\n",
    "        if interacting_chains:\n",
    "            df_filtered = df_filtered[df_filtered['interacting_chain'].isin(interacting_chains)]\n",
    "\n",
    "        # Create the interactive plot with consistent color mapping and shape mapping\n",
    "        fig = px.scatter(df_filtered, x='resi', y='distance (angstroms)', color='interacting_chain', text='residue_one_letter',\n",
    "                         symbol='aa_classification', symbol_map=shape_map,\n",
    "                         color_discrete_map=color_map,\n",
    "                         category_orders={'interacting_chain': legend_order},\n",
    "                         labels={'resi': 'Residue Index', 'distance (angstroms)': 'Distance (angstroms)', 'interacting_chain': 'Interacting Chain'},\n",
    "                         title=f\"Interactions for {file}\",\n",
    "                         hover_data=['interacting_resinumber', 'interactingresi_oneletter'])\n",
    "\n",
    "        # Update layout for better visualization\n",
    "        fig.update_traces(textposition='top center', marker=dict(size=10, opacity=0.6))\n",
    "        fig.update_layout(\n",
    "            legend_title_text='Interacting Chain',\n",
    "            yaxis_range=yaxis_range if yaxis_range else [0.1, distance_threshold + 0.5]  # Set y-axis range based on input or default\n",
    "        )\n",
    "\n",
    "        # Set x-axis range if specified\n",
    "        if xaxis_range:\n",
    "            fig.update_layout(xaxis_range=xaxis_range)\n",
    "\n",
    "        # Add more ticks to the x-axis\n",
    "        fig.update_xaxes(dtick=20)\n",
    "\n",
    "        # Add background color shapes based on the first letter of the file name if chimeras is True\n",
    "        if chimeras:\n",
    "            first_letter = file[0]\n",
    "            y_max = yaxis_range[1] if yaxis_range else distance_threshold + 0.5\n",
    "            if first_letter == 'A':\n",
    "                fig.add_shape(type=\"rect\", x0=0, x1=xaxis_range[1] if xaxis_range else df['resi'].max(), y0=0, y1=y_max,\n",
    "                              fillcolor=\"LightSkyBlue\", opacity=0.3, layer=\"below\", line_width=0)\n",
    "            elif first_letter == 'B':\n",
    "                fig.add_shape(type=\"rect\", x0=0, x1=174, y0=0, y1=y_max,\n",
    "                              fillcolor=\"LightSalmon\", opacity=0.3, layer=\"below\", line_width=0)\n",
    "                fig.add_shape(type=\"rect\", x0=174, x1=xaxis_range[1] if xaxis_range else df['resi'].max(), y0=0, y1=y_max,\n",
    "                              fillcolor=\"LightSkyBlue\", opacity=0.3, layer=\"below\", line_width=0)\n",
    "            elif first_letter == 'C':\n",
    "                fig.add_shape(type=\"rect\", x0=0, x1=178, y0=0, y1=y_max,\n",
    "                              fillcolor=\"LightSkyBlue\", opacity=0.3, layer=\"below\", line_width=0)\n",
    "                fig.add_shape(type=\"rect\", x0=178, x1=333, y0=0, y1=y_max,\n",
    "                              fillcolor=\"LightSalmon\", opacity=0.3, layer=\"below\", line_width=0)\n",
    "                fig.add_shape(type=\"rect\", x0=333, x1=xaxis_range[1] if xaxis_range else df['resi'].max(), y0=0, y1=y_max,\n",
    "                              fillcolor=\"LightSkyBlue\", opacity=0.3, layer=\"below\", line_width=0)\n",
    "            elif first_letter == 'D':\n",
    "                fig.add_shape(type=\"rect\", x0=0, x1=329, y0=0, y1=y_max,\n",
    "                              fillcolor=\"LightSalmon\", opacity=0.3, layer=\"below\", line_width=0)\n",
    "                fig.add_shape(type=\"rect\", x0=329, x1=xaxis_range[1] if xaxis_range else df['resi'].max(), y0=0, y1=y_max,\n",
    "                              fillcolor=\"LightSkyBlue\", opacity=0.3, layer=\"below\", line_width=0)\n",
    "            elif first_letter == 'E':\n",
    "                fig.add_shape(type=\"rect\", x0=0, x1=333, y0=0, y1=y_max,\n",
    "                              fillcolor=\"LightSkyBlue\", opacity=0.3, layer=\"below\", line_width=0)\n",
    "                fig.add_shape(type=\"rect\", x0=333, x1=xaxis_range[1] if xaxis_range else df['resi'].max(), y0=0, y1=y_max,\n",
    "                              fillcolor=\"LightSalmon\", opacity=0.3, layer=\"below\", line_width=0)\n",
    "            elif first_letter == 'F':\n",
    "                fig.add_shape(type=\"rect\", x0=0, x1=174, y0=0, y1=y_max,\n",
    "                              fillcolor=\"LightSalmon\", opacity=0.3, layer=\"below\", line_width=0)\n",
    "                fig.add_shape(type=\"rect\", x0=174, x1=329, y0=0, y1=y_max,\n",
    "                              fillcolor=\"LightSkyBlue\", opacity=0.3, layer=\"below\", line_width=0)\n",
    "                fig.add_shape(type=\"rect\", x0=329, x1=xaxis_range[1] if xaxis_range else df['resi'].max(), y0=0, y1=y_max,\n",
    "                              fillcolor=\"LightSalmon\", opacity=0.3, layer=\"below\", line_width=0)\n",
    "            elif first_letter == 'G':\n",
    "                fig.add_shape(type=\"rect\", x0=0, x1=178, y0=0, y1=y_max,\n",
    "                              fillcolor=\"LightSkyBlue\", opacity=0.3, layer=\"below\", line_width=0)\n",
    "                fig.add_shape(type=\"rect\", x0=178, x1=xaxis_range[1] if xaxis_range else df['resi'].max(), y0=0, y1=y_max,\n",
    "                              fillcolor=\"LightSalmon\", opacity=0.3, layer=\"below\", line_width=0)\n",
    "            elif first_letter == 'H':\n",
    "                fig.add_shape(type=\"rect\", x0=0, x1=xaxis_range[1] if xaxis_range else df['resi'].max(), y0=0, y1=y_max,\n",
    "                              fillcolor=\"LightSalmon\", opacity=0.3, layer=\"below\", line_width=0)\n",
    "\n",
    "        # Define plot size\n",
    "        fig.update_layout(autosize=False, width=1600, height=600)\n",
    "\n",
    "        # Show the plot\n",
    "        fig.show()\n",
    "\n",
    "        plots.append(fig)\n",
    "\n",
    "    return plots"
   ]
  },
  {
   "cell_type": "code",
   "execution_count": 8,
   "metadata": {},
   "outputs": [
    {
     "data": {
      "application/vnd.plotly.v1+json": {
       "config": {
        "plotlyServerURL": "https://plot.ly"
       },
       "data": [
        {
         "customdata": [
          [
           341,
           "A"
          ],
          [
           344,
           "L"
          ],
          [
           354,
           "E"
          ],
          [
           471,
           "E"
          ],
          [
           463,
           "E"
          ],
          [
           470,
           "E"
          ],
          [
           472,
           "E"
          ],
          [
           491,
           "D"
          ],
          [
           528,
           "L"
          ],
          [
           535,
           "S"
          ],
          [
           552,
           "E"
          ],
          [
           578,
           "L"
          ]
         ],
         "hovertemplate": "Interacting Chain=kinesin B<br>aa_classification=positively charged<br>Residue Index=%{x}<br>Distance (angstroms)=%{y}<br>residue_one_letter=%{text}<br>interacting_resinumber=%{customdata[0]}<br>interactingresi_oneletter=%{customdata[1]}<extra></extra>",
         "legendgroup": "kinesin B, positively charged",
         "marker": {
          "color": "#1f77b4",
          "opacity": 0.6,
          "size": 10,
          "symbol": "triangle-up"
         },
         "mode": "markers+text",
         "name": "kinesin B, positively charged",
         "orientation": "v",
         "showlegend": true,
         "text": [
          "R",
          "K",
          "K",
          "K",
          "K",
          "K",
          "K",
          "K",
          "K",
          "R",
          "K",
          "R"
         ],
         "textposition": "top center",
         "type": "scatter",
         "x": [
          339,
          345,
          359,
          377,
          458,
          469,
          473,
          490,
          529,
          536,
          557,
          566
         ],
         "xaxis": "x",
         "y": [
          4.230356216430664,
          4.203579902648926,
          2.5946390628814697,
          1.725019097328186,
          2.609245777130127,
          2.014894962310791,
          2.41107177734375,
          2.47756576538086,
          3.797417640686035,
          3.4731171131134038,
          2.6519899368286133,
          2.9312615394592285
         ],
         "yaxis": "y"
        },
        {
         "customdata": [
          [
           344,
           "L"
          ],
          [
           341,
           "A"
          ],
          [
           348,
           "L"
          ],
          [
           347,
           "L"
          ],
          [
           355,
           "I"
          ],
          [
           355,
           "I"
          ],
          [
           362,
           "I"
          ],
          [
           358,
           "L"
          ],
          [
           371,
           "V"
          ],
          [
           376,
           "L"
          ],
          [
           468,
           "K"
          ],
          [
           365,
           "L"
          ],
          [
           361,
           "Y"
          ],
          [
           471,
           "E"
          ],
          [
           452,
           "I"
          ],
          [
           452,
           "I"
          ],
          [
           459,
           "C"
          ],
          [
           466,
           "L"
          ],
          [
           466,
           "L"
          ],
          [
           480,
           "L"
          ],
          [
           476,
           "I"
          ],
          [
           483,
           "Q"
          ],
          [
           490,
           "K"
          ],
          [
           493,
           "E"
          ],
          [
           501,
           "I"
          ],
          [
           501,
           "I"
          ],
          [
           497,
           "L"
          ],
          [
           508,
           "N"
          ],
          [
           511,
           "Y"
          ],
          [
           518,
           "N"
          ],
          [
           521,
           "L"
          ],
          [
           532,
           "L"
          ],
          [
           532,
           "L"
          ],
          [
           532,
           "L"
          ],
          [
           542,
           "Q"
          ],
          [
           546,
           "I"
          ],
          [
           550,
           "N"
          ],
          [
           556,
           "I"
          ],
          [
           560,
           "L"
          ],
          [
           567,
           "I"
          ],
          [
           563,
           "L"
          ],
          [
           575,
           "I"
          ],
          [
           566,
           "R"
          ]
         ],
         "hovertemplate": "Interacting Chain=kinesin B<br>aa_classification=nonpolar<br>Residue Index=%{x}<br>Distance (angstroms)=%{y}<br>residue_one_letter=%{text}<br>interacting_resinumber=%{customdata[0]}<br>interactingresi_oneletter=%{customdata[1]}<extra></extra>",
         "legendgroup": "kinesin B, nonpolar",
         "marker": {
          "color": "#1f77b4",
          "opacity": 0.6,
          "size": 10,
          "symbol": "circle"
         },
         "mode": "markers+text",
         "name": "kinesin B, nonpolar",
         "orientation": "v",
         "showlegend": true,
         "text": [
          "A",
          "L",
          "L",
          "L",
          "A",
          "I",
          "L",
          "I",
          "L",
          "V",
          "G",
          "V",
          "V",
          "L",
          "L",
          "I",
          "L",
          "L",
          "L",
          "I",
          "L",
          "L",
          "I",
          "I",
          "L",
          "M",
          "I",
          "I",
          "L",
          "L",
          "L",
          "L",
          "A",
          "L",
          "A",
          "I",
          "L",
          "I",
          "L",
          "L",
          "I",
          "I",
          "L"
         ],
         "textposition": "top center",
         "type": "scatter",
         "x": [
          341,
          344,
          347,
          348,
          351,
          355,
          358,
          362,
          365,
          368,
          370,
          371,
          373,
          376,
          451,
          452,
          455,
          462,
          466,
          476,
          477,
          480,
          487,
          494,
          497,
          500,
          501,
          507,
          510,
          521,
          525,
          528,
          531,
          532,
          539,
          546,
          549,
          556,
          560,
          563,
          567,
          575,
          578
         ],
         "xaxis": "x",
         "y": [
          3.30884861946106,
          3.255194664001465,
          3.640618801116944,
          3.653627157211304,
          3.6038811206817623,
          3.501044988632202,
          3.262453556060791,
          3.298330068588257,
          3.3883936405181885,
          3.313665866851806,
          3.161206007003784,
          3.356210470199585,
          2.3896617889404297,
          1.948294162750244,
          3.825913906097412,
          3.601281881332397,
          3.703665018081665,
          3.456376314163208,
          3.106196641921997,
          3.179905652999878,
          4.055731296539307,
          3.147557020187378,
          3.392338752746582,
          3.4651007652282715,
          2.919152975082397,
          3.82182240486145,
          2.9165682792663574,
          3.3734982013702397,
          3.350665330886841,
          2.952857255935669,
          3.3397676944732666,
          3.535043478012085,
          3.3919997215271,
          3.3391377925872803,
          2.7542710304260254,
          3.332336902618408,
          3.177076578140259,
          3.173652648925781,
          3.487658739089966,
          3.3208775520324707,
          3.267199277877808,
          2.364034652709961,
          2.930759906768799
         ],
         "yaxis": "y"
        },
        {
         "customdata": [
          [
           345,
           "K"
          ],
          [
           359,
           "K"
          ],
          [
           361,
           "Y"
          ],
          [
           444,
           "T"
          ],
          [
           458,
           "K"
          ],
          [
           469,
           "K"
          ],
          [
           473,
           "K"
          ],
          [
           490,
           "K"
          ],
          [
           494,
           "I"
          ],
          [
           518,
           "N"
          ],
          [
           557,
           "K"
          ],
          [
           572,
           "D"
          ]
         ],
         "hovertemplate": "Interacting Chain=kinesin B<br>aa_classification=negatively charged<br>Residue Index=%{x}<br>Distance (angstroms)=%{y}<br>residue_one_letter=%{text}<br>interacting_resinumber=%{customdata[0]}<br>interactingresi_oneletter=%{customdata[1]}<extra></extra>",
         "legendgroup": "kinesin B, negatively charged",
         "marker": {
          "color": "#1f77b4",
          "opacity": 0.6,
          "size": 10,
          "symbol": "triangle-down"
         },
         "mode": "markers+text",
         "name": "kinesin B, negatively charged",
         "orientation": "v",
         "showlegend": true,
         "text": [
          "E",
          "E",
          "E",
          "D",
          "E",
          "E",
          "E",
          "D",
          "E",
          "E",
          "E",
          "D"
         ],
         "textposition": "top center",
         "type": "scatter",
         "x": [
          338,
          354,
          366,
          448,
          463,
          470,
          472,
          491,
          493,
          517,
          552,
          572
         ],
         "xaxis": "x",
         "y": [
          4.055273056030273,
          2.7722904682159424,
          3.0711922645568848,
          2.3283703327178955,
          2.8647310733795166,
          2.192047595977783,
          2.594366312026977,
          2.4255948066711426,
          3.48391342163086,
          3.5162854194641118,
          2.699360609054565,
          4.4590911865234375
         ],
         "yaxis": "y"
        },
        {
         "customdata": [
          [
           345,
           "K"
          ],
          [
           366,
           "E"
          ],
          [
           369,
           "S"
          ],
          [
           468,
           "K"
          ],
          [
           471,
           "E"
          ],
          [
           471,
           "E"
          ],
          [
           471,
           "E"
          ],
          [
           467,
           "F"
          ],
          [
           474,
           "K"
          ],
          [
           447,
           "K"
          ],
          [
           448,
           "D"
          ],
          [
           444,
           "T"
          ],
          [
           455,
           "L"
          ],
          [
           459,
           "C"
          ],
          [
           466,
           "L"
          ],
          [
           480,
           "L"
          ],
          [
           484,
           "Q"
          ],
          [
           483,
           "Q"
          ],
          [
           487,
           "I"
          ],
          [
           497,
           "L"
          ],
          [
           504,
           "S"
          ],
          [
           507,
           "I"
          ],
          [
           511,
           "Y"
          ],
          [
           518,
           "N"
          ],
          [
           514,
           "S"
          ],
          [
           518,
           "N"
          ],
          [
           521,
           "L"
          ],
          [
           525,
           "L"
          ],
          [
           535,
           "S"
          ],
          [
           539,
           "A"
          ],
          [
           542,
           "Q"
          ],
          [
           546,
           "I"
          ],
          [
           549,
           "L"
          ],
          [
           553,
           "N"
          ],
          [
           560,
           "L"
          ]
         ],
         "hovertemplate": "Interacting Chain=kinesin B<br>aa_classification=polar uncharged<br>Residue Index=%{x}<br>Distance (angstroms)=%{y}<br>residue_one_letter=%{text}<br>interacting_resinumber=%{customdata[0]}<br>interactingresi_oneletter=%{customdata[1]}<extra></extra>",
         "legendgroup": "kinesin B, polar uncharged",
         "marker": {
          "color": "#1f77b4",
          "opacity": 0.6,
          "size": 10,
          "symbol": "square"
         },
         "mode": "markers+text",
         "name": "kinesin B, polar uncharged",
         "orientation": "v",
         "showlegend": true,
         "text": [
          "Q",
          "Y",
          "S",
          "T",
          "S",
          "N",
          "S",
          "S",
          "S",
          "S",
          "T",
          "S",
          "Q",
          "C",
          "Q",
          "Q",
          "Q",
          "Q",
          "Q",
          "N",
          "S",
          "N",
          "Y",
          "S",
          "T",
          "N",
          "N",
          "Q",
          "S",
          "Q",
          "S",
          "T",
          "N",
          "N",
          "Q"
         ],
         "textposition": "top center",
         "type": "scatter",
         "x": [
          337,
          361,
          369,
          372,
          374,
          375,
          378,
          379,
          381,
          441,
          444,
          445,
          456,
          459,
          465,
          479,
          483,
          484,
          486,
          498,
          504,
          508,
          511,
          514,
          515,
          518,
          522,
          524,
          535,
          542,
          543,
          545,
          550,
          553,
          559
         ],
         "xaxis": "x",
         "y": [
          3.7995798587799072,
          2.782554149627685,
          3.1727044582366943,
          2.0038321018218994,
          1.701825499534607,
          1.2076988220214844,
          1.9977715015411377,
          3.2567784786224365,
          3.7331864833831783,
          3.27555513381958,
          1.7559192180633545,
          3.620466709136963,
          3.989259004592896,
          2.996644973754883,
          3.327420949935913,
          3.798017024993897,
          2.864499568939209,
          2.905489683151245,
          3.560899257659912,
          3.4452216625213623,
          2.9459943771362305,
          3.3232717514038086,
          3.291055679321289,
          2.671931743621826,
          3.506798505783081,
          2.2028822898864746,
          3.238367319107056,
          3.648446083068848,
          2.8143773078918457,
          2.6807456016540527,
          3.665834903717041,
          4.10162353515625,
          3.1895904541015625,
          2.4145617485046387,
          3.94775390625
         ],
         "yaxis": "y"
        },
        {
         "customdata": [
          [
           420,
           "E"
          ],
          [
           410,
           "G"
          ],
          [
           409,
           "V"
          ],
          [
           423,
           "E"
          ],
          [
           402,
           "R"
          ]
         ],
         "hovertemplate": "Interacting Chain=alpha-tubulin<br>aa_classification=positively charged<br>Residue Index=%{x}<br>Distance (angstroms)=%{y}<br>residue_one_letter=%{text}<br>interacting_resinumber=%{customdata[0]}<br>interactingresi_oneletter=%{customdata[1]}<extra></extra>",
         "legendgroup": "alpha-tubulin, positively charged",
         "marker": {
          "color": "#ff7f0e",
          "opacity": 0.6,
          "size": 10,
          "symbol": "triangle-up"
         },
         "mode": "markers+text",
         "name": "alpha-tubulin, positively charged",
         "orientation": "v",
         "showlegend": true,
         "text": [
          "K",
          "K",
          "K",
          "R",
          "R"
         ],
         "textposition": "top center",
         "type": "scatter",
         "x": [
          240,
          255,
          259,
          321,
          325
         ],
         "xaxis": "x",
         "y": [
          2.502148151397705,
          3.3321456909179688,
          3.342947483062744,
          2.869927167892456,
          4.265126705169678
         ],
         "yaxis": "y"
        },
        {
         "customdata": [
          [
           412,
           "G"
          ],
          [
           112,
           "K"
          ],
          [
           420,
           "E"
          ]
         ],
         "hovertemplate": "Interacting Chain=alpha-tubulin<br>aa_classification=nonpolar<br>Residue Index=%{x}<br>Distance (angstroms)=%{y}<br>residue_one_letter=%{text}<br>interacting_resinumber=%{customdata[0]}<br>interactingresi_oneletter=%{customdata[1]}<extra></extra>",
         "legendgroup": "alpha-tubulin, nonpolar",
         "marker": {
          "color": "#ff7f0e",
          "opacity": 0.6,
          "size": 10,
          "symbol": "circle"
         },
         "mode": "markers+text",
         "name": "alpha-tubulin, nonpolar",
         "orientation": "v",
         "showlegend": true,
         "text": [
          "I",
          "A",
          "A"
         ],
         "textposition": "top center",
         "type": "scatter",
         "x": [
          241,
          246,
          314
         ],
         "xaxis": "x",
         "y": [
          2.93379282951355,
          3.526658535003662,
          4.000223636627197
         ],
         "yaxis": "y"
        },
        {
         "customdata": [
          [
           264,
           "R"
          ],
          [
           414,
           "E"
          ],
          [
           414,
           "E"
          ]
         ],
         "hovertemplate": "Interacting Chain=alpha-tubulin<br>aa_classification=negatively charged<br>Residue Index=%{x}<br>Distance (angstroms)=%{y}<br>residue_one_letter=%{text}<br>interacting_resinumber=%{customdata[0]}<br>interactingresi_oneletter=%{customdata[1]}<extra></extra>",
         "legendgroup": "alpha-tubulin, negatively charged",
         "marker": {
          "color": "#ff7f0e",
          "opacity": 0.6,
          "size": 10,
          "symbol": "triangle-down"
         },
         "mode": "markers+text",
         "name": "alpha-tubulin, negatively charged",
         "orientation": "v",
         "showlegend": true,
         "text": [
          "E",
          "E",
          "E"
         ],
         "textposition": "top center",
         "type": "scatter",
         "x": [
          41,
          239,
          315
         ],
         "xaxis": "x",
         "y": [
          4.152275562286377,
          4.217352867126465,
          4.243480205535889
         ],
         "yaxis": "y"
        },
        {
         "customdata": [
          [
           414,
           "E"
          ],
          [
           409,
           "V"
          ],
          [
           415,
           "E"
          ],
          [
           402,
           "R"
          ],
          [
           402,
           "R"
          ]
         ],
         "hovertemplate": "Interacting Chain=alpha-tubulin<br>aa_classification=polar uncharged<br>Residue Index=%{x}<br>Distance (angstroms)=%{y}<br>residue_one_letter=%{text}<br>interacting_resinumber=%{customdata[0]}<br>interactingresi_oneletter=%{customdata[1]}<extra></extra>",
         "legendgroup": "alpha-tubulin, polar uncharged",
         "marker": {
          "color": "#ff7f0e",
          "opacity": 0.6,
          "size": 10,
          "symbol": "square"
         },
         "mode": "markers+text",
         "name": "alpha-tubulin, polar uncharged",
         "orientation": "v",
         "showlegend": true,
         "text": [
          "S",
          "N",
          "S",
          "N",
          "N"
         ],
         "textposition": "top center",
         "type": "scatter",
         "x": [
          238,
          258,
          262,
          266,
          269
         ],
         "xaxis": "x",
         "y": [
          2.8060309886932373,
          3.4155282974243164,
          2.5351991653442383,
          3.4303557872772217,
          4.212041854858398
         ],
         "yaxis": "y"
        },
        {
         "customdata": [
          [
           157,
           "E"
          ],
          [
           407,
           "E"
          ],
          [
           407,
           "E"
          ],
          [
           432,
           "E"
          ],
          [
           424,
           "Q"
          ],
          [
           417,
           "D"
          ],
          [
           194,
           "E"
          ],
          [
           410,
           "E"
          ],
          [
           440,
           "E"
          ],
          [
           436,
           "F"
          ]
         ],
         "hovertemplate": "Interacting Chain=beta-tubulin<br>aa_classification=positively charged<br>Residue Index=%{x}<br>Distance (angstroms)=%{y}<br>residue_one_letter=%{text}<br>interacting_resinumber=%{customdata[0]}<br>interactingresi_oneletter=%{customdata[1]}<extra></extra>",
         "legendgroup": "beta-tubulin, positively charged",
         "marker": {
          "color": "#2ca02c",
          "opacity": 0.6,
          "size": 10,
          "symbol": "triangle-up"
         },
         "mode": "markers+text",
         "name": "beta-tubulin, positively charged",
         "orientation": "v",
         "showlegend": true,
         "text": [
          "R",
          "K",
          "R",
          "K",
          "H",
          "R",
          "K",
          "R",
          "R",
          "R"
         ],
         "textposition": "top center",
         "type": "scatter",
         "x": [
          144,
          157,
          159,
          275,
          278,
          282,
          285,
          288,
          321,
          325
         ],
         "xaxis": "x",
         "y": [
          2.5539824962615967,
          4.425995826721191,
          2.8733720779418945,
          3.3844118118286133,
          2.6435482501983643,
          2.3646702766418457,
          3.087082624435425,
          3.01074743270874,
          3.0817785263061523,
          3.49631929397583
         ],
         "yaxis": "y"
        },
        {
         "customdata": [
          [
           440,
           "E"
          ],
          [
           410,
           "E"
          ],
          [
           406,
           "M"
          ]
         ],
         "hovertemplate": "Interacting Chain=beta-tubulin<br>aa_classification=nonpolar<br>Residue Index=%{x}<br>Distance (angstroms)=%{y}<br>residue_one_letter=%{text}<br>interacting_resinumber=%{customdata[0]}<br>interactingresi_oneletter=%{customdata[1]}<extra></extra>",
         "legendgroup": "beta-tubulin, nonpolar",
         "marker": {
          "color": "#2ca02c",
          "opacity": 0.6,
          "size": 10,
          "symbol": "circle"
         },
         "mode": "markers+text",
         "name": "beta-tubulin, nonpolar",
         "orientation": "v",
         "showlegend": true,
         "text": [
          "F",
          "V",
          "W"
         ],
         "textposition": "top center",
         "type": "scatter",
         "x": [
          46,
          158,
          167
         ],
         "xaxis": "x",
         "y": [
          3.3258090019226074,
          3.971621513366699,
          3.816430568695069
         ],
         "yaxis": "y"
        },
        {
         "customdata": [
          [
           413,
           "S"
          ],
          [
           406,
           "M"
          ],
          [
           436,
           "F"
          ],
          [
           262,
           "R"
          ],
          [
           391,
           "R"
          ]
         ],
         "hovertemplate": "Interacting Chain=beta-tubulin<br>aa_classification=negatively charged<br>Residue Index=%{x}<br>Distance (angstroms)=%{y}<br>residue_one_letter=%{text}<br>interacting_resinumber=%{customdata[0]}<br>interactingresi_oneletter=%{customdata[1]}<extra></extra>",
         "legendgroup": "beta-tubulin, negatively charged",
         "marker": {
          "color": "#2ca02c",
          "opacity": 0.6,
          "size": 10,
          "symbol": "triangle-down"
         },
         "mode": "markers+text",
         "name": "beta-tubulin, negatively charged",
         "orientation": "v",
         "showlegend": true,
         "text": [
          "E",
          "E",
          "D",
          "D",
          "E"
         ],
         "textposition": "top center",
         "type": "scatter",
         "x": [
          160,
          169,
          273,
          283,
          502
         ],
         "xaxis": "x",
         "y": [
          3.352907657623291,
          3.408392429351806,
          3.3082480430603027,
          3.1731386184692383,
          4.2431840896606445
         ],
         "yaxis": "y"
        },
        {
         "customdata": [
          [
           444,
           "E"
          ],
          [
           444,
           "E"
          ],
          [
           436,
           "F"
          ],
          [
           424,
           "Q"
          ],
          [
           424,
           "Q"
          ],
          [
           391,
           "R"
          ],
          [
           391,
           "R"
          ],
          [
           394,
           "F"
          ],
          [
           394,
           "F"
          ],
          [
           394,
           "F"
          ],
          [
           179,
           "V"
          ],
          [
           397,
           "W"
          ],
          [
           178,
           "T"
          ],
          [
           397,
           "W"
          ],
          [
           397,
           "W"
          ],
          [
           103,
           "K"
          ],
          [
           95,
           "S"
          ]
         ],
         "hovertemplate": "Interacting Chain=beta-tubulin<br>aa_classification=polar uncharged<br>Residue Index=%{x}<br>Distance (angstroms)=%{y}<br>residue_one_letter=%{text}<br>interacting_resinumber=%{customdata[0]}<br>interactingresi_oneletter=%{customdata[1]}<extra></extra>",
         "legendgroup": "beta-tubulin, polar uncharged",
         "marker": {
          "color": "#2ca02c",
          "opacity": 0.6,
          "size": 10,
          "symbol": "square"
         },
         "mode": "markers+text",
         "name": "beta-tubulin, polar uncharged",
         "orientation": "v",
         "showlegend": true,
         "text": [
          "S",
          "N",
          "T",
          "S",
          "T",
          "N",
          "S",
          "S",
          "N",
          "N",
          "N",
          "S",
          "Y",
          "Q",
          "N",
          "N",
          "S"
         ],
         "textposition": "top center",
         "type": "scatter",
         "x": [
          42,
          43,
          272,
          276,
          277,
          498,
          499,
          504,
          505,
          506,
          508,
          509,
          511,
          512,
          513,
          516,
          519
         ],
         "xaxis": "x",
         "y": [
          4.385366439819336,
          3.254087209701538,
          3.4698894023895264,
          3.8073887825012207,
          3.788868188858032,
          2.9203810691833496,
          4.071460723876953,
          3.789525032043457,
          1.8352982997894287,
          4.4426679611206055,
          2.8819525241851807,
          2.981708526611328,
          4.357726097106934,
          2.7132816314697266,
          3.127521514892578,
          4.461419582366943,
          3.720651388168335
         ],
         "yaxis": "y"
        },
        {
         "customdata": [
          [
           1,
           "?"
          ],
          [
           1,
           "?"
          ],
          [
           1,
           "?"
          ]
         ],
         "hovertemplate": "Interacting Chain=ATP<br>aa_classification=positively charged<br>Residue Index=%{x}<br>Distance (angstroms)=%{y}<br>residue_one_letter=%{text}<br>interacting_resinumber=%{customdata[0]}<br>interactingresi_oneletter=%{customdata[1]}<extra></extra>",
         "legendgroup": "ATP, positively charged",
         "marker": {
          "color": "#d62728",
          "opacity": 0.6,
          "size": 10,
          "symbol": "triangle-up"
         },
         "mode": "markers+text",
         "name": "ATP, positively charged",
         "orientation": "v",
         "showlegend": true,
         "text": [
          "R",
          "R",
          "K"
         ],
         "textposition": "top center",
         "type": "scatter",
         "x": [
          9,
          11,
          91
         ],
         "xaxis": "x",
         "y": [
          3.513149738311768,
          3.708973646163941,
          2.6607346534729004
         ],
         "yaxis": "y"
        },
        {
         "customdata": [
          [
           1,
           "?"
          ],
          [
           1,
           "?"
          ],
          [
           1,
           "?"
          ],
          [
           1,
           "?"
          ],
          [
           1,
           "?"
          ],
          [
           1,
           "?"
          ],
          [
           1,
           "?"
          ],
          [
           1,
           "?"
          ]
         ],
         "hovertemplate": "Interacting Chain=ATP<br>aa_classification=nonpolar<br>Residue Index=%{x}<br>Distance (angstroms)=%{y}<br>residue_one_letter=%{text}<br>interacting_resinumber=%{customdata[0]}<br>interactingresi_oneletter=%{customdata[1]}<extra></extra>",
         "legendgroup": "ATP, nonpolar",
         "marker": {
          "color": "#d62728",
          "opacity": 0.6,
          "size": 10,
          "symbol": "circle"
         },
         "mode": "markers+text",
         "name": "ATP, nonpolar",
         "orientation": "v",
         "showlegend": true,
         "text": [
          "F",
          "P",
          "G",
          "G",
          "F",
          "L",
          "A",
          "G"
         ],
         "textposition": "top center",
         "type": "scatter",
         "x": [
          10,
          12,
          88,
          90,
          93,
          235,
          236,
          237
         ],
         "xaxis": "x",
         "y": [
          4.485442161560059,
          3.61436915397644,
          2.9211885929107666,
          3.084114551544189,
          2.5578482151031494,
          4.3540358543396,
          3.776355504989624,
          2.7145235538482666
         ],
         "yaxis": "y"
        },
        {
         "customdata": [
          [
           1,
           "?"
          ],
          [
           1,
           "?"
          ]
         ],
         "hovertemplate": "Interacting Chain=ATP<br>aa_classification=negatively charged<br>Residue Index=%{x}<br>Distance (angstroms)=%{y}<br>residue_one_letter=%{text}<br>interacting_resinumber=%{customdata[0]}<br>interactingresi_oneletter=%{customdata[1]}<extra></extra>",
         "legendgroup": "ATP, negatively charged",
         "marker": {
          "color": "#d62728",
          "opacity": 0.6,
          "size": 10,
          "symbol": "triangle-down"
         },
         "mode": "markers+text",
         "name": "ATP, negatively charged",
         "orientation": "v",
         "showlegend": true,
         "text": [
          "E",
          "D"
         ],
         "textposition": "top center",
         "type": "scatter",
         "x": [
          203,
          234
         ],
         "xaxis": "x",
         "y": [
          4.0510454177856445,
          4.286193370819092
         ],
         "yaxis": "y"
        },
        {
         "customdata": [
          [
           1,
           "?"
          ],
          [
           1,
           "?"
          ],
          [
           1,
           "?"
          ],
          [
           1,
           "?"
          ],
          [
           1,
           "?"
          ],
          [
           1,
           "?"
          ],
          [
           1,
           "?"
          ]
         ],
         "hovertemplate": "Interacting Chain=ATP<br>aa_classification=polar uncharged<br>Residue Index=%{x}<br>Distance (angstroms)=%{y}<br>residue_one_letter=%{text}<br>interacting_resinumber=%{customdata[0]}<br>interactingresi_oneletter=%{customdata[1]}<extra></extra>",
         "legendgroup": "ATP, polar uncharged",
         "marker": {
          "color": "#d62728",
          "opacity": 0.6,
          "size": 10,
          "symbol": "square"
         },
         "mode": "markers+text",
         "name": "ATP, polar uncharged",
         "orientation": "v",
         "showlegend": true,
         "text": [
          "Q",
          "T",
          "S",
          "T",
          "N",
          "S",
          "S"
         ],
         "textposition": "top center",
         "type": "scatter",
         "x": [
          86,
          87,
          89,
          92,
          201,
          204,
          205
         ],
         "xaxis": "x",
         "y": [
          3.8652713298797607,
          2.835141181945801,
          3.4562530517578125,
          2.696005821228028,
          3.1969311237335205,
          2.9160609245300293,
          2.9792165756225586
         ],
         "yaxis": "y"
        }
       ],
       "layout": {
        "autosize": false,
        "height": 600,
        "legend": {
         "title": {
          "text": "Interacting Chain"
         },
         "tracegroupgap": 0
        },
        "shapes": [
         {
          "fillcolor": "LightSalmon",
          "layer": "below",
          "line": {
           "width": 0
          },
          "opacity": 0.3,
          "type": "rect",
          "x0": 0,
          "x1": 600,
          "y0": 0,
          "y1": 5
         }
        ],
        "template": {
         "data": {
          "bar": [
           {
            "error_x": {
             "color": "#2a3f5f"
            },
            "error_y": {
             "color": "#2a3f5f"
            },
            "marker": {
             "line": {
              "color": "#E5ECF6",
              "width": 0.5
             },
             "pattern": {
              "fillmode": "overlay",
              "size": 10,
              "solidity": 0.2
             }
            },
            "type": "bar"
           }
          ],
          "barpolar": [
           {
            "marker": {
             "line": {
              "color": "#E5ECF6",
              "width": 0.5
             },
             "pattern": {
              "fillmode": "overlay",
              "size": 10,
              "solidity": 0.2
             }
            },
            "type": "barpolar"
           }
          ],
          "carpet": [
           {
            "aaxis": {
             "endlinecolor": "#2a3f5f",
             "gridcolor": "white",
             "linecolor": "white",
             "minorgridcolor": "white",
             "startlinecolor": "#2a3f5f"
            },
            "baxis": {
             "endlinecolor": "#2a3f5f",
             "gridcolor": "white",
             "linecolor": "white",
             "minorgridcolor": "white",
             "startlinecolor": "#2a3f5f"
            },
            "type": "carpet"
           }
          ],
          "choropleth": [
           {
            "colorbar": {
             "outlinewidth": 0,
             "ticks": ""
            },
            "type": "choropleth"
           }
          ],
          "contour": [
           {
            "colorbar": {
             "outlinewidth": 0,
             "ticks": ""
            },
            "colorscale": [
             [
              0,
              "#0d0887"
             ],
             [
              0.1111111111111111,
              "#46039f"
             ],
             [
              0.2222222222222222,
              "#7201a8"
             ],
             [
              0.3333333333333333,
              "#9c179e"
             ],
             [
              0.4444444444444444,
              "#bd3786"
             ],
             [
              0.5555555555555556,
              "#d8576b"
             ],
             [
              0.6666666666666666,
              "#ed7953"
             ],
             [
              0.7777777777777778,
              "#fb9f3a"
             ],
             [
              0.8888888888888888,
              "#fdca26"
             ],
             [
              1,
              "#f0f921"
             ]
            ],
            "type": "contour"
           }
          ],
          "contourcarpet": [
           {
            "colorbar": {
             "outlinewidth": 0,
             "ticks": ""
            },
            "type": "contourcarpet"
           }
          ],
          "heatmap": [
           {
            "colorbar": {
             "outlinewidth": 0,
             "ticks": ""
            },
            "colorscale": [
             [
              0,
              "#0d0887"
             ],
             [
              0.1111111111111111,
              "#46039f"
             ],
             [
              0.2222222222222222,
              "#7201a8"
             ],
             [
              0.3333333333333333,
              "#9c179e"
             ],
             [
              0.4444444444444444,
              "#bd3786"
             ],
             [
              0.5555555555555556,
              "#d8576b"
             ],
             [
              0.6666666666666666,
              "#ed7953"
             ],
             [
              0.7777777777777778,
              "#fb9f3a"
             ],
             [
              0.8888888888888888,
              "#fdca26"
             ],
             [
              1,
              "#f0f921"
             ]
            ],
            "type": "heatmap"
           }
          ],
          "heatmapgl": [
           {
            "colorbar": {
             "outlinewidth": 0,
             "ticks": ""
            },
            "colorscale": [
             [
              0,
              "#0d0887"
             ],
             [
              0.1111111111111111,
              "#46039f"
             ],
             [
              0.2222222222222222,
              "#7201a8"
             ],
             [
              0.3333333333333333,
              "#9c179e"
             ],
             [
              0.4444444444444444,
              "#bd3786"
             ],
             [
              0.5555555555555556,
              "#d8576b"
             ],
             [
              0.6666666666666666,
              "#ed7953"
             ],
             [
              0.7777777777777778,
              "#fb9f3a"
             ],
             [
              0.8888888888888888,
              "#fdca26"
             ],
             [
              1,
              "#f0f921"
             ]
            ],
            "type": "heatmapgl"
           }
          ],
          "histogram": [
           {
            "marker": {
             "pattern": {
              "fillmode": "overlay",
              "size": 10,
              "solidity": 0.2
             }
            },
            "type": "histogram"
           }
          ],
          "histogram2d": [
           {
            "colorbar": {
             "outlinewidth": 0,
             "ticks": ""
            },
            "colorscale": [
             [
              0,
              "#0d0887"
             ],
             [
              0.1111111111111111,
              "#46039f"
             ],
             [
              0.2222222222222222,
              "#7201a8"
             ],
             [
              0.3333333333333333,
              "#9c179e"
             ],
             [
              0.4444444444444444,
              "#bd3786"
             ],
             [
              0.5555555555555556,
              "#d8576b"
             ],
             [
              0.6666666666666666,
              "#ed7953"
             ],
             [
              0.7777777777777778,
              "#fb9f3a"
             ],
             [
              0.8888888888888888,
              "#fdca26"
             ],
             [
              1,
              "#f0f921"
             ]
            ],
            "type": "histogram2d"
           }
          ],
          "histogram2dcontour": [
           {
            "colorbar": {
             "outlinewidth": 0,
             "ticks": ""
            },
            "colorscale": [
             [
              0,
              "#0d0887"
             ],
             [
              0.1111111111111111,
              "#46039f"
             ],
             [
              0.2222222222222222,
              "#7201a8"
             ],
             [
              0.3333333333333333,
              "#9c179e"
             ],
             [
              0.4444444444444444,
              "#bd3786"
             ],
             [
              0.5555555555555556,
              "#d8576b"
             ],
             [
              0.6666666666666666,
              "#ed7953"
             ],
             [
              0.7777777777777778,
              "#fb9f3a"
             ],
             [
              0.8888888888888888,
              "#fdca26"
             ],
             [
              1,
              "#f0f921"
             ]
            ],
            "type": "histogram2dcontour"
           }
          ],
          "mesh3d": [
           {
            "colorbar": {
             "outlinewidth": 0,
             "ticks": ""
            },
            "type": "mesh3d"
           }
          ],
          "parcoords": [
           {
            "line": {
             "colorbar": {
              "outlinewidth": 0,
              "ticks": ""
             }
            },
            "type": "parcoords"
           }
          ],
          "pie": [
           {
            "automargin": true,
            "type": "pie"
           }
          ],
          "scatter": [
           {
            "fillpattern": {
             "fillmode": "overlay",
             "size": 10,
             "solidity": 0.2
            },
            "type": "scatter"
           }
          ],
          "scatter3d": [
           {
            "line": {
             "colorbar": {
              "outlinewidth": 0,
              "ticks": ""
             }
            },
            "marker": {
             "colorbar": {
              "outlinewidth": 0,
              "ticks": ""
             }
            },
            "type": "scatter3d"
           }
          ],
          "scattercarpet": [
           {
            "marker": {
             "colorbar": {
              "outlinewidth": 0,
              "ticks": ""
             }
            },
            "type": "scattercarpet"
           }
          ],
          "scattergeo": [
           {
            "marker": {
             "colorbar": {
              "outlinewidth": 0,
              "ticks": ""
             }
            },
            "type": "scattergeo"
           }
          ],
          "scattergl": [
           {
            "marker": {
             "colorbar": {
              "outlinewidth": 0,
              "ticks": ""
             }
            },
            "type": "scattergl"
           }
          ],
          "scattermapbox": [
           {
            "marker": {
             "colorbar": {
              "outlinewidth": 0,
              "ticks": ""
             }
            },
            "type": "scattermapbox"
           }
          ],
          "scatterpolar": [
           {
            "marker": {
             "colorbar": {
              "outlinewidth": 0,
              "ticks": ""
             }
            },
            "type": "scatterpolar"
           }
          ],
          "scatterpolargl": [
           {
            "marker": {
             "colorbar": {
              "outlinewidth": 0,
              "ticks": ""
             }
            },
            "type": "scatterpolargl"
           }
          ],
          "scatterternary": [
           {
            "marker": {
             "colorbar": {
              "outlinewidth": 0,
              "ticks": ""
             }
            },
            "type": "scatterternary"
           }
          ],
          "surface": [
           {
            "colorbar": {
             "outlinewidth": 0,
             "ticks": ""
            },
            "colorscale": [
             [
              0,
              "#0d0887"
             ],
             [
              0.1111111111111111,
              "#46039f"
             ],
             [
              0.2222222222222222,
              "#7201a8"
             ],
             [
              0.3333333333333333,
              "#9c179e"
             ],
             [
              0.4444444444444444,
              "#bd3786"
             ],
             [
              0.5555555555555556,
              "#d8576b"
             ],
             [
              0.6666666666666666,
              "#ed7953"
             ],
             [
              0.7777777777777778,
              "#fb9f3a"
             ],
             [
              0.8888888888888888,
              "#fdca26"
             ],
             [
              1,
              "#f0f921"
             ]
            ],
            "type": "surface"
           }
          ],
          "table": [
           {
            "cells": {
             "fill": {
              "color": "#EBF0F8"
             },
             "line": {
              "color": "white"
             }
            },
            "header": {
             "fill": {
              "color": "#C8D4E3"
             },
             "line": {
              "color": "white"
             }
            },
            "type": "table"
           }
          ]
         },
         "layout": {
          "annotationdefaults": {
           "arrowcolor": "#2a3f5f",
           "arrowhead": 0,
           "arrowwidth": 1
          },
          "autotypenumbers": "strict",
          "coloraxis": {
           "colorbar": {
            "outlinewidth": 0,
            "ticks": ""
           }
          },
          "colorscale": {
           "diverging": [
            [
             0,
             "#8e0152"
            ],
            [
             0.1,
             "#c51b7d"
            ],
            [
             0.2,
             "#de77ae"
            ],
            [
             0.3,
             "#f1b6da"
            ],
            [
             0.4,
             "#fde0ef"
            ],
            [
             0.5,
             "#f7f7f7"
            ],
            [
             0.6,
             "#e6f5d0"
            ],
            [
             0.7,
             "#b8e186"
            ],
            [
             0.8,
             "#7fbc41"
            ],
            [
             0.9,
             "#4d9221"
            ],
            [
             1,
             "#276419"
            ]
           ],
           "sequential": [
            [
             0,
             "#0d0887"
            ],
            [
             0.1111111111111111,
             "#46039f"
            ],
            [
             0.2222222222222222,
             "#7201a8"
            ],
            [
             0.3333333333333333,
             "#9c179e"
            ],
            [
             0.4444444444444444,
             "#bd3786"
            ],
            [
             0.5555555555555556,
             "#d8576b"
            ],
            [
             0.6666666666666666,
             "#ed7953"
            ],
            [
             0.7777777777777778,
             "#fb9f3a"
            ],
            [
             0.8888888888888888,
             "#fdca26"
            ],
            [
             1,
             "#f0f921"
            ]
           ],
           "sequentialminus": [
            [
             0,
             "#0d0887"
            ],
            [
             0.1111111111111111,
             "#46039f"
            ],
            [
             0.2222222222222222,
             "#7201a8"
            ],
            [
             0.3333333333333333,
             "#9c179e"
            ],
            [
             0.4444444444444444,
             "#bd3786"
            ],
            [
             0.5555555555555556,
             "#d8576b"
            ],
            [
             0.6666666666666666,
             "#ed7953"
            ],
            [
             0.7777777777777778,
             "#fb9f3a"
            ],
            [
             0.8888888888888888,
             "#fdca26"
            ],
            [
             1,
             "#f0f921"
            ]
           ]
          },
          "colorway": [
           "#636efa",
           "#EF553B",
           "#00cc96",
           "#ab63fa",
           "#FFA15A",
           "#19d3f3",
           "#FF6692",
           "#B6E880",
           "#FF97FF",
           "#FECB52"
          ],
          "font": {
           "color": "#2a3f5f"
          },
          "geo": {
           "bgcolor": "white",
           "lakecolor": "white",
           "landcolor": "#E5ECF6",
           "showlakes": true,
           "showland": true,
           "subunitcolor": "white"
          },
          "hoverlabel": {
           "align": "left"
          },
          "hovermode": "closest",
          "mapbox": {
           "style": "light"
          },
          "paper_bgcolor": "white",
          "plot_bgcolor": "#E5ECF6",
          "polar": {
           "angularaxis": {
            "gridcolor": "white",
            "linecolor": "white",
            "ticks": ""
           },
           "bgcolor": "#E5ECF6",
           "radialaxis": {
            "gridcolor": "white",
            "linecolor": "white",
            "ticks": ""
           }
          },
          "scene": {
           "xaxis": {
            "backgroundcolor": "#E5ECF6",
            "gridcolor": "white",
            "gridwidth": 2,
            "linecolor": "white",
            "showbackground": true,
            "ticks": "",
            "zerolinecolor": "white"
           },
           "yaxis": {
            "backgroundcolor": "#E5ECF6",
            "gridcolor": "white",
            "gridwidth": 2,
            "linecolor": "white",
            "showbackground": true,
            "ticks": "",
            "zerolinecolor": "white"
           },
           "zaxis": {
            "backgroundcolor": "#E5ECF6",
            "gridcolor": "white",
            "gridwidth": 2,
            "linecolor": "white",
            "showbackground": true,
            "ticks": "",
            "zerolinecolor": "white"
           }
          },
          "shapedefaults": {
           "line": {
            "color": "#2a3f5f"
           }
          },
          "ternary": {
           "aaxis": {
            "gridcolor": "white",
            "linecolor": "white",
            "ticks": ""
           },
           "baxis": {
            "gridcolor": "white",
            "linecolor": "white",
            "ticks": ""
           },
           "bgcolor": "#E5ECF6",
           "caxis": {
            "gridcolor": "white",
            "linecolor": "white",
            "ticks": ""
           }
          },
          "title": {
           "x": 0.05
          },
          "xaxis": {
           "automargin": true,
           "gridcolor": "white",
           "linecolor": "white",
           "ticks": "",
           "title": {
            "standoff": 15
           },
           "zerolinecolor": "white",
           "zerolinewidth": 2
          },
          "yaxis": {
           "automargin": true,
           "gridcolor": "white",
           "linecolor": "white",
           "ticks": "",
           "title": {
            "standoff": 15
           },
           "zerolinecolor": "white",
           "zerolinewidth": 2
          }
         }
        },
        "title": {
         "text": "Interactions for H_seed11_model_0"
        },
        "width": 1600,
        "xaxis": {
         "anchor": "y",
         "domain": [
          0,
          1
         ],
         "dtick": 20,
         "range": [
          0,
          600
         ],
         "title": {
          "text": "Residue Index"
         }
        },
        "yaxis": {
         "anchor": "x",
         "domain": [
          0,
          1
         ],
         "range": [
          0.1,
          5
         ],
         "title": {
          "text": "Distance (angstroms)"
         }
        }
       }
      }
     },
     "metadata": {},
     "output_type": "display_data"
    },
    {
     "data": {
      "application/vnd.plotly.v1+json": {
       "config": {
        "plotlyServerURL": "https://plot.ly"
       },
       "data": [
        {
         "customdata": [
          [
           495,
           "E"
          ],
          [
           348,
           "L"
          ],
          [
           338,
           "E"
          ],
          [
           354,
           "E"
          ],
          [
           463,
           "E"
          ],
          [
           470,
           "E"
          ],
          [
           472,
           "E"
          ],
          [
           491,
           "D"
          ],
          [
           528,
           "L"
          ],
          [
           535,
           "S"
          ],
          [
           552,
           "E"
          ],
          [
           578,
           "L"
          ]
         ],
         "hovertemplate": "Interacting Chain=kinesin B<br>aa_classification=positively charged<br>Residue Index=%{x}<br>Distance (angstroms)=%{y}<br>residue_one_letter=%{text}<br>interacting_resinumber=%{customdata[0]}<br>interactingresi_oneletter=%{customdata[1]}<extra></extra>",
         "legendgroup": "kinesin B, positively charged",
         "marker": {
          "color": "#1f77b4",
          "opacity": 0.6,
          "size": 10,
          "symbol": "triangle-up"
         },
         "mode": "markers+text",
         "name": "kinesin B, positively charged",
         "orientation": "v",
         "showlegend": true,
         "text": [
          "R",
          "R",
          "K",
          "K",
          "K",
          "K",
          "K",
          "K",
          "K",
          "R",
          "K",
          "R"
         ],
         "textposition": "top center",
         "type": "scatter",
         "x": [
          152,
          339,
          345,
          359,
          458,
          469,
          473,
          490,
          529,
          536,
          557,
          566
         ],
         "xaxis": "x",
         "y": [
          2.473729372024536,
          4.381585121154785,
          3.5837950706481934,
          2.7066805362701416,
          2.760684967041016,
          2.7019147872924805,
          2.514075994491577,
          2.538621664047241,
          3.70227313041687,
          3.379462480545044,
          2.684241771697998,
          2.6050775051116943
         ],
         "yaxis": "y"
        },
        {
         "customdata": [
          [
           344,
           "L"
          ],
          [
           341,
           "A"
          ],
          [
           348,
           "L"
          ],
          [
           347,
           "L"
          ],
          [
           355,
           "I"
          ],
          [
           355,
           "I"
          ],
          [
           362,
           "I"
          ],
          [
           358,
           "L"
          ],
          [
           371,
           "V"
          ],
          [
           376,
           "L"
          ],
          [
           365,
           "L"
          ],
          [
           361,
           "Y"
          ],
          [
           368,
           "V"
          ],
          [
           448,
           "D"
          ],
          [
           452,
           "I"
          ],
          [
           452,
           "I"
          ],
          [
           459,
           "C"
          ],
          [
           466,
           "L"
          ],
          [
           466,
           "L"
          ],
          [
           480,
           "L"
          ],
          [
           476,
           "I"
          ],
          [
           483,
           "Q"
          ],
          [
           490,
           "K"
          ],
          [
           493,
           "E"
          ],
          [
           501,
           "I"
          ],
          [
           501,
           "I"
          ],
          [
           497,
           "L"
          ],
          [
           508,
           "N"
          ],
          [
           511,
           "Y"
          ],
          [
           518,
           "N"
          ],
          [
           521,
           "L"
          ],
          [
           525,
           "L"
          ],
          [
           532,
           "L"
          ],
          [
           531,
           "A"
          ],
          [
           542,
           "Q"
          ],
          [
           546,
           "I"
          ],
          [
           550,
           "N"
          ],
          [
           556,
           "I"
          ],
          [
           560,
           "L"
          ],
          [
           567,
           "I"
          ],
          [
           563,
           "L"
          ],
          [
           575,
           "I"
          ],
          [
           566,
           "R"
          ]
         ],
         "hovertemplate": "Interacting Chain=kinesin B<br>aa_classification=nonpolar<br>Residue Index=%{x}<br>Distance (angstroms)=%{y}<br>residue_one_letter=%{text}<br>interacting_resinumber=%{customdata[0]}<br>interactingresi_oneletter=%{customdata[1]}<extra></extra>",
         "legendgroup": "kinesin B, nonpolar",
         "marker": {
          "color": "#1f77b4",
          "opacity": 0.6,
          "size": 10,
          "symbol": "circle"
         },
         "mode": "markers+text",
         "name": "kinesin B, nonpolar",
         "orientation": "v",
         "showlegend": true,
         "text": [
          "A",
          "L",
          "L",
          "L",
          "A",
          "I",
          "L",
          "I",
          "L",
          "V",
          "V",
          "V",
          "L",
          "P",
          "L",
          "I",
          "L",
          "L",
          "L",
          "I",
          "L",
          "L",
          "I",
          "I",
          "L",
          "M",
          "I",
          "I",
          "L",
          "L",
          "L",
          "L",
          "A",
          "L",
          "A",
          "I",
          "L",
          "I",
          "L",
          "L",
          "I",
          "I",
          "L"
         ],
         "textposition": "top center",
         "type": "scatter",
         "x": [
          341,
          344,
          347,
          348,
          351,
          355,
          358,
          362,
          365,
          368,
          371,
          373,
          376,
          443,
          451,
          452,
          455,
          462,
          466,
          476,
          477,
          480,
          487,
          494,
          497,
          500,
          501,
          507,
          510,
          521,
          525,
          528,
          531,
          532,
          539,
          546,
          549,
          556,
          560,
          563,
          567,
          575,
          578
         ],
         "xaxis": "x",
         "y": [
          3.47395920753479,
          3.506183862686157,
          3.755391836166382,
          3.7224552631378174,
          3.6965391635894775,
          3.5298800468444824,
          3.369567632675171,
          3.3939661979675293,
          3.718410015106201,
          3.5750770568847656,
          3.7975070476531982,
          2.6492233276367188,
          3.608160972595215,
          2.71859073638916,
          3.871016979217529,
          3.574533700942993,
          3.7509143352508554,
          3.714088678359986,
          3.1399383544921875,
          3.1851823329925537,
          4.073301315307617,
          3.0643484592437744,
          2.9384453296661377,
          3.434164047241211,
          2.978612899780273,
          3.781487703323364,
          2.86873459815979,
          3.595665454864502,
          3.542940378189087,
          2.944471597671509,
          3.4463999271392822,
          3.563451051712036,
          3.3269941806793213,
          3.374382495880127,
          2.701984167098999,
          3.4088003635406494,
          3.1456096172332764,
          3.2272398471832275,
          3.2462093830108643,
          3.314577102661133,
          3.236003875732422,
          2.836352586746216,
          3.0355708599090576
         ],
         "yaxis": "y"
        },
        {
         "customdata": [
          [
           373,
           "V"
          ],
          [
           369,
           "S"
          ],
          [
           361,
           "Y"
          ],
          [
           445,
           "S"
          ],
          [
           444,
           "T"
          ],
          [
           455,
           "L"
          ],
          [
           459,
           "C"
          ],
          [
           466,
           "L"
          ],
          [
           480,
           "L"
          ],
          [
           480,
           "L"
          ],
          [
           483,
           "Q"
          ],
          [
           487,
           "I"
          ],
          [
           497,
           "L"
          ],
          [
           504,
           "S"
          ],
          [
           507,
           "I"
          ],
          [
           510,
           "L"
          ],
          [
           514,
           "S"
          ],
          [
           514,
           "S"
          ],
          [
           518,
           "N"
          ],
          [
           521,
           "L"
          ],
          [
           525,
           "L"
          ],
          [
           535,
           "S"
          ],
          [
           539,
           "A"
          ],
          [
           542,
           "Q"
          ],
          [
           546,
           "I"
          ],
          [
           549,
           "L"
          ],
          [
           553,
           "N"
          ],
          [
           560,
           "L"
          ],
          [
           575,
           "I"
          ]
         ],
         "hovertemplate": "Interacting Chain=kinesin B<br>aa_classification=polar uncharged<br>Residue Index=%{x}<br>Distance (angstroms)=%{y}<br>residue_one_letter=%{text}<br>interacting_resinumber=%{customdata[0]}<br>interactingresi_oneletter=%{customdata[1]}<extra></extra>",
         "legendgroup": "kinesin B, polar uncharged",
         "marker": {
          "color": "#1f77b4",
          "opacity": 0.6,
          "size": 10,
          "symbol": "square"
         },
         "mode": "markers+text",
         "name": "kinesin B, polar uncharged",
         "orientation": "v",
         "showlegend": true,
         "text": [
          "Y",
          "S",
          "T",
          "T",
          "S",
          "Q",
          "C",
          "Q",
          "Q",
          "Q",
          "Q",
          "Q",
          "N",
          "S",
          "N",
          "Y",
          "S",
          "T",
          "N",
          "N",
          "Q",
          "S",
          "Q",
          "S",
          "T",
          "N",
          "N",
          "Q",
          "S"
         ],
         "textposition": "top center",
         "type": "scatter",
         "x": [
          361,
          369,
          372,
          444,
          445,
          456,
          459,
          465,
          479,
          483,
          484,
          486,
          498,
          504,
          508,
          511,
          514,
          515,
          518,
          522,
          524,
          535,
          542,
          543,
          545,
          550,
          553,
          559,
          570
         ],
         "xaxis": "x",
         "y": [
          2.677606105804444,
          3.5633058547973637,
          4.395256042480469,
          3.33868670463562,
          3.652111768722534,
          3.9654383659362793,
          2.9403228759765625,
          3.4655041694641118,
          3.7141733169555664,
          3.110833168029785,
          3.232161283493042,
          3.597208976745605,
          3.321686267852783,
          2.7360951900482178,
          3.5004923343658447,
          3.383286237716675,
          2.707143545150757,
          3.612125873565674,
          2.3680031299591064,
          3.2176401615142822,
          3.7081139087677,
          2.719857931137085,
          2.6474204063415527,
          3.729534387588501,
          4.04130220413208,
          3.214565753936768,
          2.261738538742065,
          4.01948356628418,
          4.261097431182861
         ],
         "yaxis": "y"
        },
        {
         "customdata": [
          [
           345,
           "K"
          ],
          [
           359,
           "K"
          ],
          [
           361,
           "Y"
          ],
          [
           443,
           "P"
          ],
          [
           458,
           "K"
          ],
          [
           469,
           "K"
          ],
          [
           473,
           "K"
          ],
          [
           490,
           "K"
          ],
          [
           494,
           "I"
          ],
          [
           518,
           "N"
          ],
          [
           557,
           "K"
          ],
          [
           572,
           "D"
          ]
         ],
         "hovertemplate": "Interacting Chain=kinesin B<br>aa_classification=negatively charged<br>Residue Index=%{x}<br>Distance (angstroms)=%{y}<br>residue_one_letter=%{text}<br>interacting_resinumber=%{customdata[0]}<br>interactingresi_oneletter=%{customdata[1]}<extra></extra>",
         "legendgroup": "kinesin B, negatively charged",
         "marker": {
          "color": "#1f77b4",
          "opacity": 0.6,
          "size": 10,
          "symbol": "triangle-down"
         },
         "mode": "markers+text",
         "name": "kinesin B, negatively charged",
         "orientation": "v",
         "showlegend": true,
         "text": [
          "E",
          "E",
          "E",
          "D",
          "E",
          "E",
          "E",
          "D",
          "E",
          "E",
          "E",
          "D"
         ],
         "textposition": "top center",
         "type": "scatter",
         "x": [
          338,
          354,
          366,
          448,
          463,
          470,
          472,
          491,
          493,
          517,
          552,
          572
         ],
         "xaxis": "x",
         "y": [
          3.2999072074890137,
          2.9193778038024902,
          3.225022554397583,
          2.878812789916992,
          2.708451986312866,
          2.656804323196411,
          2.562872648239136,
          2.553236246109009,
          3.4692165851593018,
          3.667205572128296,
          2.713468551635742,
          3.8086209297180176
         ],
         "yaxis": "y"
        },
        {
         "customdata": [
          [
           420,
           "E"
          ],
          [
           109,
           "T"
          ],
          [
           409,
           "V"
          ],
          [
           423,
           "E"
          ],
          [
           402,
           "R"
          ],
          [
           88,
           "H"
          ]
         ],
         "hovertemplate": "Interacting Chain=alpha-tubulin<br>aa_classification=positively charged<br>Residue Index=%{x}<br>Distance (angstroms)=%{y}<br>residue_one_letter=%{text}<br>interacting_resinumber=%{customdata[0]}<br>interactingresi_oneletter=%{customdata[1]}<extra></extra>",
         "legendgroup": "alpha-tubulin, positively charged",
         "marker": {
          "color": "#ff7f0e",
          "opacity": 0.6,
          "size": 10,
          "symbol": "triangle-up"
         },
         "mode": "markers+text",
         "name": "alpha-tubulin, positively charged",
         "orientation": "v",
         "showlegend": true,
         "text": [
          "K",
          "K",
          "K",
          "R",
          "R",
          "K"
         ],
         "textposition": "top center",
         "type": "scatter",
         "x": [
          240,
          255,
          259,
          321,
          325,
          534
         ],
         "xaxis": "x",
         "y": [
          2.6564688682556152,
          3.1910510063171387,
          3.3942325115203857,
          3.3473589420318604,
          4.43024492263794,
          3.623272180557251
         ],
         "yaxis": "y"
        },
        {
         "customdata": [
          [
           412,
           "G"
          ],
          [
           112,
           "K"
          ],
          [
           108,
           "Y"
          ],
          [
           402,
           "R"
          ],
          [
           90,
           "E"
          ],
          [
           60,
           "K"
          ],
          [
           85,
           "Q"
          ]
         ],
         "hovertemplate": "Interacting Chain=alpha-tubulin<br>aa_classification=nonpolar<br>Residue Index=%{x}<br>Distance (angstroms)=%{y}<br>residue_one_letter=%{text}<br>interacting_resinumber=%{customdata[0]}<br>interactingresi_oneletter=%{customdata[1]}<extra></extra>",
         "legendgroup": "alpha-tubulin, nonpolar",
         "marker": {
          "color": "#ff7f0e",
          "opacity": 0.6,
          "size": 10,
          "symbol": "circle"
         },
         "mode": "markers+text",
         "name": "alpha-tubulin, nonpolar",
         "orientation": "v",
         "showlegend": true,
         "text": [
          "I",
          "A",
          "L",
          "G",
          "L",
          "F",
          "L"
         ],
         "textposition": "top center",
         "type": "scatter",
         "x": [
          241,
          246,
          251,
          265,
          530,
          537,
          544
         ],
         "xaxis": "x",
         "y": [
          3.062613248825073,
          3.2005550861358643,
          4.220627784729004,
          3.842128038406372,
          2.870363473892212,
          3.108837366104126,
          3.558363437652588
         ],
         "yaxis": "y"
        },
        {
         "customdata": [
          [
           414,
           "E"
          ],
          [
           112,
           "K"
          ],
          [
           409,
           "V"
          ],
          [
           415,
           "E"
          ],
          [
           402,
           "R"
          ],
          [
           402,
           "R"
          ],
          [
           85,
           "Q"
          ],
          [
           58,
           "A"
          ]
         ],
         "hovertemplate": "Interacting Chain=alpha-tubulin<br>aa_classification=polar uncharged<br>Residue Index=%{x}<br>Distance (angstroms)=%{y}<br>residue_one_letter=%{text}<br>interacting_resinumber=%{customdata[0]}<br>interactingresi_oneletter=%{customdata[1]}<extra></extra>",
         "legendgroup": "alpha-tubulin, polar uncharged",
         "marker": {
          "color": "#ff7f0e",
          "opacity": 0.6,
          "size": 10,
          "symbol": "square"
         },
         "mode": "markers+text",
         "name": "alpha-tubulin, polar uncharged",
         "orientation": "v",
         "showlegend": true,
         "text": [
          "S",
          "Q",
          "N",
          "S",
          "N",
          "N",
          "T",
          "T"
         ],
         "textposition": "top center",
         "type": "scatter",
         "x": [
          238,
          247,
          258,
          262,
          266,
          269,
          540,
          545
         ],
         "xaxis": "x",
         "y": [
          3.1467065811157227,
          3.769444227218628,
          3.5193777084350586,
          2.6479766368865967,
          2.498076200485229,
          2.9761202335357666,
          3.4552671909332275,
          3.889480829238892
         ],
         "yaxis": "y"
        },
        {
         "customdata": [
          [
           414,
           "E"
          ],
          [
           89,
           "P"
          ],
          [
           60,
           "K"
          ]
         ],
         "hovertemplate": "Interacting Chain=alpha-tubulin<br>aa_classification=negatively charged<br>Residue Index=%{x}<br>Distance (angstroms)=%{y}<br>residue_one_letter=%{text}<br>interacting_resinumber=%{customdata[0]}<br>interactingresi_oneletter=%{customdata[1]}<extra></extra>",
         "legendgroup": "alpha-tubulin, negatively charged",
         "marker": {
          "color": "#ff7f0e",
          "opacity": 0.6,
          "size": 10,
          "symbol": "triangle-down"
         },
         "mode": "markers+text",
         "name": "alpha-tubulin, negatively charged",
         "orientation": "v",
         "showlegend": true,
         "text": [
          "E",
          "E",
          "E"
         ],
         "textposition": "top center",
         "type": "scatter",
         "x": [
          239,
          533,
          541
         ],
         "xaxis": "x",
         "y": [
          4.133620738983154,
          3.4852070808410645,
          2.549816131591797
         ],
         "yaxis": "y"
        },
        {
         "customdata": [
          [
           157,
           "E"
          ],
          [
           407,
           "E"
          ],
          [
           407,
           "E"
          ],
          [
           435,
           "E"
          ],
          [
           424,
           "Q"
          ],
          [
           417,
           "D"
          ],
          [
           194,
           "E"
          ],
          [
           410,
           "E"
          ],
          [
           440,
           "E"
          ]
         ],
         "hovertemplate": "Interacting Chain=beta-tubulin<br>aa_classification=positively charged<br>Residue Index=%{x}<br>Distance (angstroms)=%{y}<br>residue_one_letter=%{text}<br>interacting_resinumber=%{customdata[0]}<br>interactingresi_oneletter=%{customdata[1]}<extra></extra>",
         "legendgroup": "beta-tubulin, positively charged",
         "marker": {
          "color": "#2ca02c",
          "opacity": 0.6,
          "size": 10,
          "symbol": "triangle-up"
         },
         "mode": "markers+text",
         "name": "beta-tubulin, positively charged",
         "orientation": "v",
         "showlegend": true,
         "text": [
          "R",
          "K",
          "R",
          "K",
          "H",
          "R",
          "K",
          "R",
          "R"
         ],
         "textposition": "top center",
         "type": "scatter",
         "x": [
          144,
          157,
          159,
          275,
          278,
          282,
          285,
          288,
          321
         ],
         "xaxis": "x",
         "y": [
          2.642786979675293,
          2.902359962463379,
          3.0343897342681885,
          2.9191763401031494,
          2.8897414207458496,
          2.506302118301392,
          3.5821468830108643,
          2.849670171737671,
          4.474990367889404
         ],
         "yaxis": "y"
        },
        {
         "customdata": [
          [
           410,
           "E"
          ],
          [
           406,
           "M"
          ]
         ],
         "hovertemplate": "Interacting Chain=beta-tubulin<br>aa_classification=nonpolar<br>Residue Index=%{x}<br>Distance (angstroms)=%{y}<br>residue_one_letter=%{text}<br>interacting_resinumber=%{customdata[0]}<br>interactingresi_oneletter=%{customdata[1]}<extra></extra>",
         "legendgroup": "beta-tubulin, nonpolar",
         "marker": {
          "color": "#2ca02c",
          "opacity": 0.6,
          "size": 10,
          "symbol": "circle"
         },
         "mode": "markers+text",
         "name": "beta-tubulin, nonpolar",
         "orientation": "v",
         "showlegend": true,
         "text": [
          "V",
          "W"
         ],
         "textposition": "top center",
         "type": "scatter",
         "x": [
          158,
          167
         ],
         "xaxis": "x",
         "y": [
          3.987978219985962,
          3.938507318496704
         ],
         "yaxis": "y"
        },
        {
         "customdata": [
          [
           444,
           "E"
          ],
          [
           157,
           "E"
          ],
          [
           424,
           "Q"
          ],
          [
           424,
           "Q"
          ]
         ],
         "hovertemplate": "Interacting Chain=beta-tubulin<br>aa_classification=polar uncharged<br>Residue Index=%{x}<br>Distance (angstroms)=%{y}<br>residue_one_letter=%{text}<br>interacting_resinumber=%{customdata[0]}<br>interactingresi_oneletter=%{customdata[1]}<extra></extra>",
         "legendgroup": "beta-tubulin, polar uncharged",
         "marker": {
          "color": "#2ca02c",
          "opacity": 0.6,
          "size": 10,
          "symbol": "square"
         },
         "mode": "markers+text",
         "name": "beta-tubulin, polar uncharged",
         "orientation": "v",
         "showlegend": true,
         "text": [
          "N",
          "N",
          "S",
          "T"
         ],
         "textposition": "top center",
         "type": "scatter",
         "x": [
          43,
          155,
          276,
          277
         ],
         "xaxis": "x",
         "y": [
          4.472087383270264,
          4.388177871704102,
          3.746984243392944,
          3.6134493350982666
         ],
         "yaxis": "y"
        },
        {
         "customdata": [
          [
           410,
           "E"
          ],
          [
           406,
           "M"
          ],
          [
           436,
           "F"
          ],
          [
           262,
           "R"
          ]
         ],
         "hovertemplate": "Interacting Chain=beta-tubulin<br>aa_classification=negatively charged<br>Residue Index=%{x}<br>Distance (angstroms)=%{y}<br>residue_one_letter=%{text}<br>interacting_resinumber=%{customdata[0]}<br>interactingresi_oneletter=%{customdata[1]}<extra></extra>",
         "legendgroup": "beta-tubulin, negatively charged",
         "marker": {
          "color": "#2ca02c",
          "opacity": 0.6,
          "size": 10,
          "symbol": "triangle-down"
         },
         "mode": "markers+text",
         "name": "beta-tubulin, negatively charged",
         "orientation": "v",
         "showlegend": true,
         "text": [
          "E",
          "E",
          "D",
          "D"
         ],
         "textposition": "top center",
         "type": "scatter",
         "x": [
          160,
          169,
          273,
          283
         ],
         "xaxis": "x",
         "y": [
          2.928149938583374,
          3.508249044418335,
          3.4511160850524902,
          3.333513021469116
         ],
         "yaxis": "y"
        },
        {
         "customdata": [
          [
           1,
           "?"
          ],
          [
           1,
           "?"
          ],
          [
           1,
           "?"
          ]
         ],
         "hovertemplate": "Interacting Chain=ATP<br>aa_classification=positively charged<br>Residue Index=%{x}<br>Distance (angstroms)=%{y}<br>residue_one_letter=%{text}<br>interacting_resinumber=%{customdata[0]}<br>interactingresi_oneletter=%{customdata[1]}<extra></extra>",
         "legendgroup": "ATP, positively charged",
         "marker": {
          "color": "#d62728",
          "opacity": 0.6,
          "size": 10,
          "symbol": "triangle-up"
         },
         "mode": "markers+text",
         "name": "ATP, positively charged",
         "orientation": "v",
         "showlegend": true,
         "text": [
          "R",
          "R",
          "K"
         ],
         "textposition": "top center",
         "type": "scatter",
         "x": [
          9,
          11,
          91
         ],
         "xaxis": "x",
         "y": [
          3.4847776889801025,
          3.654551267623901,
          2.619290351867676
         ],
         "yaxis": "y"
        },
        {
         "customdata": [
          [
           1,
           "?"
          ],
          [
           1,
           "?"
          ],
          [
           1,
           "?"
          ],
          [
           1,
           "?"
          ],
          [
           1,
           "?"
          ],
          [
           1,
           "?"
          ],
          [
           1,
           "?"
          ]
         ],
         "hovertemplate": "Interacting Chain=ATP<br>aa_classification=nonpolar<br>Residue Index=%{x}<br>Distance (angstroms)=%{y}<br>residue_one_letter=%{text}<br>interacting_resinumber=%{customdata[0]}<br>interactingresi_oneletter=%{customdata[1]}<extra></extra>",
         "legendgroup": "ATP, nonpolar",
         "marker": {
          "color": "#d62728",
          "opacity": 0.6,
          "size": 10,
          "symbol": "circle"
         },
         "mode": "markers+text",
         "name": "ATP, nonpolar",
         "orientation": "v",
         "showlegend": true,
         "text": [
          "P",
          "G",
          "G",
          "F",
          "L",
          "A",
          "G"
         ],
         "textposition": "top center",
         "type": "scatter",
         "x": [
          12,
          88,
          90,
          93,
          235,
          236,
          237
         ],
         "xaxis": "x",
         "y": [
          3.713017225265503,
          2.792973756790161,
          2.916798591613769,
          2.657932996749878,
          4.190778732299805,
          3.910248279571533,
          2.9477734565734863
         ],
         "yaxis": "y"
        },
        {
         "customdata": [
          [
           1,
           "?"
          ],
          [
           1,
           "?"
          ],
          [
           1,
           "?"
          ],
          [
           1,
           "?"
          ],
          [
           1,
           "?"
          ],
          [
           1,
           "?"
          ],
          [
           1,
           "?"
          ]
         ],
         "hovertemplate": "Interacting Chain=ATP<br>aa_classification=polar uncharged<br>Residue Index=%{x}<br>Distance (angstroms)=%{y}<br>residue_one_letter=%{text}<br>interacting_resinumber=%{customdata[0]}<br>interactingresi_oneletter=%{customdata[1]}<extra></extra>",
         "legendgroup": "ATP, polar uncharged",
         "marker": {
          "color": "#d62728",
          "opacity": 0.6,
          "size": 10,
          "symbol": "square"
         },
         "mode": "markers+text",
         "name": "ATP, polar uncharged",
         "orientation": "v",
         "showlegend": true,
         "text": [
          "Q",
          "T",
          "S",
          "T",
          "N",
          "S",
          "S"
         ],
         "textposition": "top center",
         "type": "scatter",
         "x": [
          86,
          87,
          89,
          92,
          201,
          204,
          205
         ],
         "xaxis": "x",
         "y": [
          4.011617183685303,
          2.360617160797119,
          3.38442325592041,
          2.756769180297852,
          3.0601561069488525,
          3.1803133487701416,
          2.853392601013184
         ],
         "yaxis": "y"
        },
        {
         "customdata": [
          [
           1,
           "?"
          ]
         ],
         "hovertemplate": "Interacting Chain=ATP<br>aa_classification=negatively charged<br>Residue Index=%{x}<br>Distance (angstroms)=%{y}<br>residue_one_letter=%{text}<br>interacting_resinumber=%{customdata[0]}<br>interactingresi_oneletter=%{customdata[1]}<extra></extra>",
         "legendgroup": "ATP, negatively charged",
         "marker": {
          "color": "#d62728",
          "opacity": 0.6,
          "size": 10,
          "symbol": "triangle-down"
         },
         "mode": "markers+text",
         "name": "ATP, negatively charged",
         "orientation": "v",
         "showlegend": true,
         "text": [
          "E"
         ],
         "textposition": "top center",
         "type": "scatter",
         "x": [
          203
         ],
         "xaxis": "x",
         "y": [
          4.102492809295654
         ],
         "yaxis": "y"
        }
       ],
       "layout": {
        "autosize": false,
        "height": 600,
        "legend": {
         "title": {
          "text": "Interacting Chain"
         },
         "tracegroupgap": 0
        },
        "shapes": [
         {
          "fillcolor": "LightSalmon",
          "layer": "below",
          "line": {
           "width": 0
          },
          "opacity": 0.3,
          "type": "rect",
          "x0": 0,
          "x1": 600,
          "y0": 0,
          "y1": 5
         }
        ],
        "template": {
         "data": {
          "bar": [
           {
            "error_x": {
             "color": "#2a3f5f"
            },
            "error_y": {
             "color": "#2a3f5f"
            },
            "marker": {
             "line": {
              "color": "#E5ECF6",
              "width": 0.5
             },
             "pattern": {
              "fillmode": "overlay",
              "size": 10,
              "solidity": 0.2
             }
            },
            "type": "bar"
           }
          ],
          "barpolar": [
           {
            "marker": {
             "line": {
              "color": "#E5ECF6",
              "width": 0.5
             },
             "pattern": {
              "fillmode": "overlay",
              "size": 10,
              "solidity": 0.2
             }
            },
            "type": "barpolar"
           }
          ],
          "carpet": [
           {
            "aaxis": {
             "endlinecolor": "#2a3f5f",
             "gridcolor": "white",
             "linecolor": "white",
             "minorgridcolor": "white",
             "startlinecolor": "#2a3f5f"
            },
            "baxis": {
             "endlinecolor": "#2a3f5f",
             "gridcolor": "white",
             "linecolor": "white",
             "minorgridcolor": "white",
             "startlinecolor": "#2a3f5f"
            },
            "type": "carpet"
           }
          ],
          "choropleth": [
           {
            "colorbar": {
             "outlinewidth": 0,
             "ticks": ""
            },
            "type": "choropleth"
           }
          ],
          "contour": [
           {
            "colorbar": {
             "outlinewidth": 0,
             "ticks": ""
            },
            "colorscale": [
             [
              0,
              "#0d0887"
             ],
             [
              0.1111111111111111,
              "#46039f"
             ],
             [
              0.2222222222222222,
              "#7201a8"
             ],
             [
              0.3333333333333333,
              "#9c179e"
             ],
             [
              0.4444444444444444,
              "#bd3786"
             ],
             [
              0.5555555555555556,
              "#d8576b"
             ],
             [
              0.6666666666666666,
              "#ed7953"
             ],
             [
              0.7777777777777778,
              "#fb9f3a"
             ],
             [
              0.8888888888888888,
              "#fdca26"
             ],
             [
              1,
              "#f0f921"
             ]
            ],
            "type": "contour"
           }
          ],
          "contourcarpet": [
           {
            "colorbar": {
             "outlinewidth": 0,
             "ticks": ""
            },
            "type": "contourcarpet"
           }
          ],
          "heatmap": [
           {
            "colorbar": {
             "outlinewidth": 0,
             "ticks": ""
            },
            "colorscale": [
             [
              0,
              "#0d0887"
             ],
             [
              0.1111111111111111,
              "#46039f"
             ],
             [
              0.2222222222222222,
              "#7201a8"
             ],
             [
              0.3333333333333333,
              "#9c179e"
             ],
             [
              0.4444444444444444,
              "#bd3786"
             ],
             [
              0.5555555555555556,
              "#d8576b"
             ],
             [
              0.6666666666666666,
              "#ed7953"
             ],
             [
              0.7777777777777778,
              "#fb9f3a"
             ],
             [
              0.8888888888888888,
              "#fdca26"
             ],
             [
              1,
              "#f0f921"
             ]
            ],
            "type": "heatmap"
           }
          ],
          "heatmapgl": [
           {
            "colorbar": {
             "outlinewidth": 0,
             "ticks": ""
            },
            "colorscale": [
             [
              0,
              "#0d0887"
             ],
             [
              0.1111111111111111,
              "#46039f"
             ],
             [
              0.2222222222222222,
              "#7201a8"
             ],
             [
              0.3333333333333333,
              "#9c179e"
             ],
             [
              0.4444444444444444,
              "#bd3786"
             ],
             [
              0.5555555555555556,
              "#d8576b"
             ],
             [
              0.6666666666666666,
              "#ed7953"
             ],
             [
              0.7777777777777778,
              "#fb9f3a"
             ],
             [
              0.8888888888888888,
              "#fdca26"
             ],
             [
              1,
              "#f0f921"
             ]
            ],
            "type": "heatmapgl"
           }
          ],
          "histogram": [
           {
            "marker": {
             "pattern": {
              "fillmode": "overlay",
              "size": 10,
              "solidity": 0.2
             }
            },
            "type": "histogram"
           }
          ],
          "histogram2d": [
           {
            "colorbar": {
             "outlinewidth": 0,
             "ticks": ""
            },
            "colorscale": [
             [
              0,
              "#0d0887"
             ],
             [
              0.1111111111111111,
              "#46039f"
             ],
             [
              0.2222222222222222,
              "#7201a8"
             ],
             [
              0.3333333333333333,
              "#9c179e"
             ],
             [
              0.4444444444444444,
              "#bd3786"
             ],
             [
              0.5555555555555556,
              "#d8576b"
             ],
             [
              0.6666666666666666,
              "#ed7953"
             ],
             [
              0.7777777777777778,
              "#fb9f3a"
             ],
             [
              0.8888888888888888,
              "#fdca26"
             ],
             [
              1,
              "#f0f921"
             ]
            ],
            "type": "histogram2d"
           }
          ],
          "histogram2dcontour": [
           {
            "colorbar": {
             "outlinewidth": 0,
             "ticks": ""
            },
            "colorscale": [
             [
              0,
              "#0d0887"
             ],
             [
              0.1111111111111111,
              "#46039f"
             ],
             [
              0.2222222222222222,
              "#7201a8"
             ],
             [
              0.3333333333333333,
              "#9c179e"
             ],
             [
              0.4444444444444444,
              "#bd3786"
             ],
             [
              0.5555555555555556,
              "#d8576b"
             ],
             [
              0.6666666666666666,
              "#ed7953"
             ],
             [
              0.7777777777777778,
              "#fb9f3a"
             ],
             [
              0.8888888888888888,
              "#fdca26"
             ],
             [
              1,
              "#f0f921"
             ]
            ],
            "type": "histogram2dcontour"
           }
          ],
          "mesh3d": [
           {
            "colorbar": {
             "outlinewidth": 0,
             "ticks": ""
            },
            "type": "mesh3d"
           }
          ],
          "parcoords": [
           {
            "line": {
             "colorbar": {
              "outlinewidth": 0,
              "ticks": ""
             }
            },
            "type": "parcoords"
           }
          ],
          "pie": [
           {
            "automargin": true,
            "type": "pie"
           }
          ],
          "scatter": [
           {
            "fillpattern": {
             "fillmode": "overlay",
             "size": 10,
             "solidity": 0.2
            },
            "type": "scatter"
           }
          ],
          "scatter3d": [
           {
            "line": {
             "colorbar": {
              "outlinewidth": 0,
              "ticks": ""
             }
            },
            "marker": {
             "colorbar": {
              "outlinewidth": 0,
              "ticks": ""
             }
            },
            "type": "scatter3d"
           }
          ],
          "scattercarpet": [
           {
            "marker": {
             "colorbar": {
              "outlinewidth": 0,
              "ticks": ""
             }
            },
            "type": "scattercarpet"
           }
          ],
          "scattergeo": [
           {
            "marker": {
             "colorbar": {
              "outlinewidth": 0,
              "ticks": ""
             }
            },
            "type": "scattergeo"
           }
          ],
          "scattergl": [
           {
            "marker": {
             "colorbar": {
              "outlinewidth": 0,
              "ticks": ""
             }
            },
            "type": "scattergl"
           }
          ],
          "scattermapbox": [
           {
            "marker": {
             "colorbar": {
              "outlinewidth": 0,
              "ticks": ""
             }
            },
            "type": "scattermapbox"
           }
          ],
          "scatterpolar": [
           {
            "marker": {
             "colorbar": {
              "outlinewidth": 0,
              "ticks": ""
             }
            },
            "type": "scatterpolar"
           }
          ],
          "scatterpolargl": [
           {
            "marker": {
             "colorbar": {
              "outlinewidth": 0,
              "ticks": ""
             }
            },
            "type": "scatterpolargl"
           }
          ],
          "scatterternary": [
           {
            "marker": {
             "colorbar": {
              "outlinewidth": 0,
              "ticks": ""
             }
            },
            "type": "scatterternary"
           }
          ],
          "surface": [
           {
            "colorbar": {
             "outlinewidth": 0,
             "ticks": ""
            },
            "colorscale": [
             [
              0,
              "#0d0887"
             ],
             [
              0.1111111111111111,
              "#46039f"
             ],
             [
              0.2222222222222222,
              "#7201a8"
             ],
             [
              0.3333333333333333,
              "#9c179e"
             ],
             [
              0.4444444444444444,
              "#bd3786"
             ],
             [
              0.5555555555555556,
              "#d8576b"
             ],
             [
              0.6666666666666666,
              "#ed7953"
             ],
             [
              0.7777777777777778,
              "#fb9f3a"
             ],
             [
              0.8888888888888888,
              "#fdca26"
             ],
             [
              1,
              "#f0f921"
             ]
            ],
            "type": "surface"
           }
          ],
          "table": [
           {
            "cells": {
             "fill": {
              "color": "#EBF0F8"
             },
             "line": {
              "color": "white"
             }
            },
            "header": {
             "fill": {
              "color": "#C8D4E3"
             },
             "line": {
              "color": "white"
             }
            },
            "type": "table"
           }
          ]
         },
         "layout": {
          "annotationdefaults": {
           "arrowcolor": "#2a3f5f",
           "arrowhead": 0,
           "arrowwidth": 1
          },
          "autotypenumbers": "strict",
          "coloraxis": {
           "colorbar": {
            "outlinewidth": 0,
            "ticks": ""
           }
          },
          "colorscale": {
           "diverging": [
            [
             0,
             "#8e0152"
            ],
            [
             0.1,
             "#c51b7d"
            ],
            [
             0.2,
             "#de77ae"
            ],
            [
             0.3,
             "#f1b6da"
            ],
            [
             0.4,
             "#fde0ef"
            ],
            [
             0.5,
             "#f7f7f7"
            ],
            [
             0.6,
             "#e6f5d0"
            ],
            [
             0.7,
             "#b8e186"
            ],
            [
             0.8,
             "#7fbc41"
            ],
            [
             0.9,
             "#4d9221"
            ],
            [
             1,
             "#276419"
            ]
           ],
           "sequential": [
            [
             0,
             "#0d0887"
            ],
            [
             0.1111111111111111,
             "#46039f"
            ],
            [
             0.2222222222222222,
             "#7201a8"
            ],
            [
             0.3333333333333333,
             "#9c179e"
            ],
            [
             0.4444444444444444,
             "#bd3786"
            ],
            [
             0.5555555555555556,
             "#d8576b"
            ],
            [
             0.6666666666666666,
             "#ed7953"
            ],
            [
             0.7777777777777778,
             "#fb9f3a"
            ],
            [
             0.8888888888888888,
             "#fdca26"
            ],
            [
             1,
             "#f0f921"
            ]
           ],
           "sequentialminus": [
            [
             0,
             "#0d0887"
            ],
            [
             0.1111111111111111,
             "#46039f"
            ],
            [
             0.2222222222222222,
             "#7201a8"
            ],
            [
             0.3333333333333333,
             "#9c179e"
            ],
            [
             0.4444444444444444,
             "#bd3786"
            ],
            [
             0.5555555555555556,
             "#d8576b"
            ],
            [
             0.6666666666666666,
             "#ed7953"
            ],
            [
             0.7777777777777778,
             "#fb9f3a"
            ],
            [
             0.8888888888888888,
             "#fdca26"
            ],
            [
             1,
             "#f0f921"
            ]
           ]
          },
          "colorway": [
           "#636efa",
           "#EF553B",
           "#00cc96",
           "#ab63fa",
           "#FFA15A",
           "#19d3f3",
           "#FF6692",
           "#B6E880",
           "#FF97FF",
           "#FECB52"
          ],
          "font": {
           "color": "#2a3f5f"
          },
          "geo": {
           "bgcolor": "white",
           "lakecolor": "white",
           "landcolor": "#E5ECF6",
           "showlakes": true,
           "showland": true,
           "subunitcolor": "white"
          },
          "hoverlabel": {
           "align": "left"
          },
          "hovermode": "closest",
          "mapbox": {
           "style": "light"
          },
          "paper_bgcolor": "white",
          "plot_bgcolor": "#E5ECF6",
          "polar": {
           "angularaxis": {
            "gridcolor": "white",
            "linecolor": "white",
            "ticks": ""
           },
           "bgcolor": "#E5ECF6",
           "radialaxis": {
            "gridcolor": "white",
            "linecolor": "white",
            "ticks": ""
           }
          },
          "scene": {
           "xaxis": {
            "backgroundcolor": "#E5ECF6",
            "gridcolor": "white",
            "gridwidth": 2,
            "linecolor": "white",
            "showbackground": true,
            "ticks": "",
            "zerolinecolor": "white"
           },
           "yaxis": {
            "backgroundcolor": "#E5ECF6",
            "gridcolor": "white",
            "gridwidth": 2,
            "linecolor": "white",
            "showbackground": true,
            "ticks": "",
            "zerolinecolor": "white"
           },
           "zaxis": {
            "backgroundcolor": "#E5ECF6",
            "gridcolor": "white",
            "gridwidth": 2,
            "linecolor": "white",
            "showbackground": true,
            "ticks": "",
            "zerolinecolor": "white"
           }
          },
          "shapedefaults": {
           "line": {
            "color": "#2a3f5f"
           }
          },
          "ternary": {
           "aaxis": {
            "gridcolor": "white",
            "linecolor": "white",
            "ticks": ""
           },
           "baxis": {
            "gridcolor": "white",
            "linecolor": "white",
            "ticks": ""
           },
           "bgcolor": "#E5ECF6",
           "caxis": {
            "gridcolor": "white",
            "linecolor": "white",
            "ticks": ""
           }
          },
          "title": {
           "x": 0.05
          },
          "xaxis": {
           "automargin": true,
           "gridcolor": "white",
           "linecolor": "white",
           "ticks": "",
           "title": {
            "standoff": 15
           },
           "zerolinecolor": "white",
           "zerolinewidth": 2
          },
          "yaxis": {
           "automargin": true,
           "gridcolor": "white",
           "linecolor": "white",
           "ticks": "",
           "title": {
            "standoff": 15
           },
           "zerolinecolor": "white",
           "zerolinewidth": 2
          }
         }
        },
        "title": {
         "text": "Interactions for H_seed123_model_0"
        },
        "width": 1600,
        "xaxis": {
         "anchor": "y",
         "domain": [
          0,
          1
         ],
         "dtick": 20,
         "range": [
          0,
          600
         ],
         "title": {
          "text": "Residue Index"
         }
        },
        "yaxis": {
         "anchor": "x",
         "domain": [
          0,
          1
         ],
         "range": [
          0.1,
          5
         ],
         "title": {
          "text": "Distance (angstroms)"
         }
        }
       }
      }
     },
     "metadata": {},
     "output_type": "display_data"
    },
    {
     "data": {
      "application/vnd.plotly.v1+json": {
       "config": {
        "plotlyServerURL": "https://plot.ly"
       },
       "data": [
        {
         "customdata": [
          [
           495,
           "E"
          ],
          [
           341,
           "A"
          ],
          [
           344,
           "L"
          ],
          [
           354,
           "E"
          ],
          [
           463,
           "E"
          ],
          [
           470,
           "E"
          ],
          [
           472,
           "E"
          ],
          [
           491,
           "D"
          ],
          [
           528,
           "L"
          ],
          [
           535,
           "S"
          ],
          [
           552,
           "E"
          ],
          [
           578,
           "L"
          ]
         ],
         "hovertemplate": "Interacting Chain=kinesin B<br>aa_classification=positively charged<br>Residue Index=%{x}<br>Distance (angstroms)=%{y}<br>residue_one_letter=%{text}<br>interacting_resinumber=%{customdata[0]}<br>interactingresi_oneletter=%{customdata[1]}<extra></extra>",
         "legendgroup": "kinesin B, positively charged",
         "marker": {
          "color": "#1f77b4",
          "opacity": 0.6,
          "size": 10,
          "symbol": "triangle-up"
         },
         "mode": "markers+text",
         "name": "kinesin B, positively charged",
         "orientation": "v",
         "showlegend": true,
         "text": [
          "R",
          "R",
          "K",
          "K",
          "K",
          "K",
          "K",
          "K",
          "K",
          "R",
          "K",
          "R"
         ],
         "textposition": "top center",
         "type": "scatter",
         "x": [
          152,
          339,
          345,
          359,
          458,
          469,
          473,
          490,
          529,
          536,
          557,
          566
         ],
         "xaxis": "x",
         "y": [
          2.5052528381347656,
          3.9461421966552734,
          4.135889530181885,
          2.7166903018951416,
          2.7523505687713623,
          2.7677001953125,
          2.598233461380005,
          2.5649726390838623,
          3.760016202926636,
          3.3756027221679688,
          2.600325584411621,
          2.676528215408325
         ],
         "yaxis": "y"
        },
        {
         "customdata": [
          [
           344,
           "L"
          ],
          [
           341,
           "A"
          ],
          [
           348,
           "L"
          ],
          [
           347,
           "L"
          ],
          [
           355,
           "I"
          ],
          [
           355,
           "I"
          ],
          [
           362,
           "I"
          ],
          [
           362,
           "I"
          ],
          [
           371,
           "V"
          ],
          [
           376,
           "L"
          ],
          [
           365,
           "L"
          ],
          [
           361,
           "Y"
          ],
          [
           368,
           "V"
          ],
          [
           448,
           "D"
          ],
          [
           452,
           "I"
          ],
          [
           452,
           "I"
          ],
          [
           459,
           "C"
          ],
          [
           466,
           "L"
          ],
          [
           466,
           "L"
          ],
          [
           476,
           "I"
          ],
          [
           476,
           "I"
          ],
          [
           483,
           "Q"
          ],
          [
           490,
           "K"
          ],
          [
           493,
           "E"
          ],
          [
           501,
           "I"
          ],
          [
           501,
           "I"
          ],
          [
           497,
           "L"
          ],
          [
           508,
           "N"
          ],
          [
           511,
           "Y"
          ],
          [
           518,
           "N"
          ],
          [
           521,
           "L"
          ],
          [
           525,
           "L"
          ],
          [
           532,
           "L"
          ],
          [
           531,
           "A"
          ],
          [
           542,
           "Q"
          ],
          [
           546,
           "I"
          ],
          [
           550,
           "N"
          ],
          [
           556,
           "I"
          ],
          [
           560,
           "L"
          ],
          [
           567,
           "I"
          ],
          [
           563,
           "L"
          ],
          [
           575,
           "I"
          ],
          [
           566,
           "R"
          ],
          [
           566,
           "R"
          ]
         ],
         "hovertemplate": "Interacting Chain=kinesin B<br>aa_classification=nonpolar<br>Residue Index=%{x}<br>Distance (angstroms)=%{y}<br>residue_one_letter=%{text}<br>interacting_resinumber=%{customdata[0]}<br>interactingresi_oneletter=%{customdata[1]}<extra></extra>",
         "legendgroup": "kinesin B, nonpolar",
         "marker": {
          "color": "#1f77b4",
          "opacity": 0.6,
          "size": 10,
          "symbol": "circle"
         },
         "mode": "markers+text",
         "name": "kinesin B, nonpolar",
         "orientation": "v",
         "showlegend": true,
         "text": [
          "A",
          "L",
          "L",
          "L",
          "A",
          "I",
          "L",
          "I",
          "L",
          "V",
          "V",
          "V",
          "L",
          "P",
          "L",
          "I",
          "L",
          "L",
          "L",
          "I",
          "L",
          "L",
          "I",
          "I",
          "L",
          "M",
          "I",
          "I",
          "L",
          "L",
          "L",
          "L",
          "A",
          "L",
          "A",
          "I",
          "L",
          "I",
          "L",
          "L",
          "I",
          "I",
          "L",
          "P"
         ],
         "textposition": "top center",
         "type": "scatter",
         "x": [
          341,
          344,
          347,
          348,
          351,
          355,
          358,
          362,
          365,
          368,
          371,
          373,
          376,
          443,
          451,
          452,
          455,
          462,
          466,
          476,
          477,
          480,
          487,
          494,
          497,
          500,
          501,
          507,
          510,
          521,
          525,
          528,
          531,
          532,
          539,
          546,
          549,
          556,
          560,
          563,
          567,
          575,
          578,
          580
         ],
         "xaxis": "x",
         "y": [
          3.179309844970703,
          3.2052197456359863,
          3.691586494445801,
          3.673883438110352,
          3.667849540710449,
          3.5028367042541504,
          3.398457288742065,
          3.356697559356689,
          3.09606409072876,
          3.426697969436645,
          3.1621670722961426,
          3.177446126937866,
          3.6826443672180176,
          3.646310329437256,
          3.780109167098999,
          3.5476441383361816,
          3.760894536972046,
          3.750199794769287,
          3.231222629547119,
          3.313676357269287,
          4.027154445648193,
          3.1157917976379395,
          3.0441670417785645,
          3.450249195098877,
          3.1074838638305664,
          3.845869064331055,
          2.933600425720215,
          3.582017183303833,
          3.425342321395874,
          2.9986820220947266,
          3.4078972339630127,
          3.564775228500366,
          3.2795891761779785,
          3.3658559322357178,
          2.6422433853149414,
          3.3995254039764404,
          3.05419659614563,
          3.127079963684082,
          3.5513784885406494,
          3.1635489463806152,
          3.2558157444000244,
          2.953923225402832,
          2.7534897327423096,
          4.160212993621826
         ],
         "yaxis": "y"
        },
        {
         "customdata": [
          [
           341,
           "A"
          ],
          [
           366,
           "E"
          ],
          [
           369,
           "S"
          ],
          [
           445,
           "S"
          ],
          [
           444,
           "T"
          ],
          [
           455,
           "L"
          ],
          [
           459,
           "C"
          ],
          [
           466,
           "L"
          ],
          [
           480,
           "L"
          ],
          [
           484,
           "Q"
          ],
          [
           483,
           "Q"
          ],
          [
           487,
           "I"
          ],
          [
           497,
           "L"
          ],
          [
           504,
           "S"
          ],
          [
           507,
           "I"
          ],
          [
           510,
           "L"
          ],
          [
           514,
           "S"
          ],
          [
           514,
           "S"
          ],
          [
           518,
           "N"
          ],
          [
           521,
           "L"
          ],
          [
           525,
           "L"
          ],
          [
           535,
           "S"
          ],
          [
           539,
           "A"
          ],
          [
           542,
           "Q"
          ],
          [
           546,
           "I"
          ],
          [
           549,
           "L"
          ],
          [
           553,
           "N"
          ],
          [
           560,
           "L"
          ]
         ],
         "hovertemplate": "Interacting Chain=kinesin B<br>aa_classification=polar uncharged<br>Residue Index=%{x}<br>Distance (angstroms)=%{y}<br>residue_one_letter=%{text}<br>interacting_resinumber=%{customdata[0]}<br>interactingresi_oneletter=%{customdata[1]}<extra></extra>",
         "legendgroup": "kinesin B, polar uncharged",
         "marker": {
          "color": "#1f77b4",
          "opacity": 0.6,
          "size": 10,
          "symbol": "square"
         },
         "mode": "markers+text",
         "name": "kinesin B, polar uncharged",
         "orientation": "v",
         "showlegend": true,
         "text": [
          "S",
          "Y",
          "S",
          "T",
          "S",
          "Q",
          "C",
          "Q",
          "Q",
          "Q",
          "Q",
          "Q",
          "N",
          "S",
          "N",
          "Y",
          "S",
          "T",
          "N",
          "N",
          "Q",
          "S",
          "Q",
          "S",
          "T",
          "N",
          "N",
          "Q"
         ],
         "textposition": "top center",
         "type": "scatter",
         "x": [
          340,
          361,
          369,
          444,
          445,
          456,
          459,
          465,
          479,
          483,
          484,
          486,
          498,
          504,
          508,
          511,
          514,
          515,
          518,
          522,
          524,
          535,
          542,
          543,
          545,
          550,
          553,
          559
         ],
         "xaxis": "x",
         "y": [
          4.49400806427002,
          2.9260878562927246,
          3.466230630874634,
          2.900964975357056,
          3.067909002304077,
          3.904528379440308,
          2.9598076343536377,
          3.4202136993408203,
          3.6748857498168954,
          2.982218742370605,
          2.8740549087524414,
          3.6353471279144287,
          3.265507221221924,
          3.1367886066436768,
          3.3577890396118164,
          3.357665777206421,
          2.702064275741577,
          3.418128967285156,
          2.309333562850952,
          3.233630657196045,
          3.5421407222747803,
          2.781219482421875,
          2.5752243995666504,
          3.755937814712525,
          3.959310531616211,
          3.171498537063598,
          2.393989086151123,
          3.8961684703826895
         ],
         "yaxis": "y"
        },
        {
         "customdata": [
          [
           359,
           "K"
          ],
          [
           361,
           "Y"
          ],
          [
           444,
           "T"
          ],
          [
           458,
           "K"
          ],
          [
           469,
           "K"
          ],
          [
           473,
           "K"
          ],
          [
           490,
           "K"
          ],
          [
           494,
           "I"
          ],
          [
           518,
           "N"
          ],
          [
           557,
           "K"
          ]
         ],
         "hovertemplate": "Interacting Chain=kinesin B<br>aa_classification=negatively charged<br>Residue Index=%{x}<br>Distance (angstroms)=%{y}<br>residue_one_letter=%{text}<br>interacting_resinumber=%{customdata[0]}<br>interactingresi_oneletter=%{customdata[1]}<extra></extra>",
         "legendgroup": "kinesin B, negatively charged",
         "marker": {
          "color": "#1f77b4",
          "opacity": 0.6,
          "size": 10,
          "symbol": "triangle-down"
         },
         "mode": "markers+text",
         "name": "kinesin B, negatively charged",
         "orientation": "v",
         "showlegend": true,
         "text": [
          "E",
          "E",
          "D",
          "E",
          "E",
          "E",
          "D",
          "E",
          "E",
          "E"
         ],
         "textposition": "top center",
         "type": "scatter",
         "x": [
          354,
          366,
          448,
          463,
          470,
          472,
          491,
          493,
          517,
          552
         ],
         "xaxis": "x",
         "y": [
          2.85938572883606,
          3.083465099334717,
          3.2248778343200684,
          2.776259422302246,
          2.689548969268799,
          2.6393802165985107,
          2.4972951412200928,
          3.4833462238311768,
          3.4615211486816406,
          2.5816633701324463
         ],
         "yaxis": "y"
        },
        {
         "customdata": [
          [
           420,
           "E"
          ],
          [
           410,
           "G"
          ],
          [
           409,
           "V"
          ],
          [
           423,
           "E"
          ],
          [
           402,
           "R"
          ],
          [
           88,
           "H"
          ]
         ],
         "hovertemplate": "Interacting Chain=alpha-tubulin<br>aa_classification=positively charged<br>Residue Index=%{x}<br>Distance (angstroms)=%{y}<br>residue_one_letter=%{text}<br>interacting_resinumber=%{customdata[0]}<br>interactingresi_oneletter=%{customdata[1]}<extra></extra>",
         "legendgroup": "alpha-tubulin, positively charged",
         "marker": {
          "color": "#ff7f0e",
          "opacity": 0.6,
          "size": 10,
          "symbol": "triangle-up"
         },
         "mode": "markers+text",
         "name": "alpha-tubulin, positively charged",
         "orientation": "v",
         "showlegend": true,
         "text": [
          "K",
          "K",
          "K",
          "R",
          "R",
          "K"
         ],
         "textposition": "top center",
         "type": "scatter",
         "x": [
          240,
          255,
          259,
          321,
          325,
          534
         ],
         "xaxis": "x",
         "y": [
          2.4951705932617188,
          3.3187859058380127,
          3.414585590362549,
          2.950159788131714,
          4.407947540283203,
          2.9938619136810303
         ],
         "yaxis": "y"
        },
        {
         "customdata": [
          [
           412,
           "G"
          ],
          [
           112,
           "K"
          ],
          [
           420,
           "E"
          ],
          [
           121,
           "R"
          ],
          [
           60,
           "K"
          ],
          [
           33,
           "D"
          ]
         ],
         "hovertemplate": "Interacting Chain=alpha-tubulin<br>aa_classification=nonpolar<br>Residue Index=%{x}<br>Distance (angstroms)=%{y}<br>residue_one_letter=%{text}<br>interacting_resinumber=%{customdata[0]}<br>interactingresi_oneletter=%{customdata[1]}<extra></extra>",
         "legendgroup": "alpha-tubulin, nonpolar",
         "marker": {
          "color": "#ff7f0e",
          "opacity": 0.6,
          "size": 10,
          "symbol": "circle"
         },
         "mode": "markers+text",
         "name": "alpha-tubulin, nonpolar",
         "orientation": "v",
         "showlegend": true,
         "text": [
          "I",
          "A",
          "A",
          "L",
          "F",
          "L"
         ],
         "textposition": "top center",
         "type": "scatter",
         "x": [
          241,
          246,
          314,
          530,
          537,
          544
         ],
         "xaxis": "x",
         "y": [
          3.0642430782318115,
          3.3905277252197266,
          3.972932100296021,
          2.702498435974121,
          2.6581177711486816,
          3.7580392360687256
         ],
         "yaxis": "y"
        },
        {
         "customdata": [
          [
           414,
           "E"
          ],
          [
           112,
           "K"
          ],
          [
           409,
           "V"
          ],
          [
           415,
           "E"
          ],
          [
           402,
           "R"
          ],
          [
           402,
           "R"
          ],
          [
           85,
           "Q"
          ],
          [
           58,
           "A"
          ]
         ],
         "hovertemplate": "Interacting Chain=alpha-tubulin<br>aa_classification=polar uncharged<br>Residue Index=%{x}<br>Distance (angstroms)=%{y}<br>residue_one_letter=%{text}<br>interacting_resinumber=%{customdata[0]}<br>interactingresi_oneletter=%{customdata[1]}<extra></extra>",
         "legendgroup": "alpha-tubulin, polar uncharged",
         "marker": {
          "color": "#ff7f0e",
          "opacity": 0.6,
          "size": 10,
          "symbol": "square"
         },
         "mode": "markers+text",
         "name": "alpha-tubulin, polar uncharged",
         "orientation": "v",
         "showlegend": true,
         "text": [
          "S",
          "Q",
          "N",
          "S",
          "N",
          "N",
          "T",
          "T"
         ],
         "textposition": "top center",
         "type": "scatter",
         "x": [
          238,
          247,
          258,
          262,
          266,
          269,
          540,
          545
         ],
         "xaxis": "x",
         "y": [
          2.638801336288452,
          4.299403667449951,
          3.462761163711548,
          2.5288748741149902,
          3.461688280105591,
          4.428191184997559,
          4.052320957183838,
          2.8456056118011475
         ],
         "yaxis": "y"
        },
        {
         "customdata": [
          [
           414,
           "E"
          ],
          [
           89,
           "P"
          ],
          [
           60,
           "K"
          ]
         ],
         "hovertemplate": "Interacting Chain=alpha-tubulin<br>aa_classification=negatively charged<br>Residue Index=%{x}<br>Distance (angstroms)=%{y}<br>residue_one_letter=%{text}<br>interacting_resinumber=%{customdata[0]}<br>interactingresi_oneletter=%{customdata[1]}<extra></extra>",
         "legendgroup": "alpha-tubulin, negatively charged",
         "marker": {
          "color": "#ff7f0e",
          "opacity": 0.6,
          "size": 10,
          "symbol": "triangle-down"
         },
         "mode": "markers+text",
         "name": "alpha-tubulin, negatively charged",
         "orientation": "v",
         "showlegend": true,
         "text": [
          "E",
          "E",
          "E"
         ],
         "textposition": "top center",
         "type": "scatter",
         "x": [
          315,
          533,
          541
         ],
         "xaxis": "x",
         "y": [
          4.285690307617188,
          3.390288591384888,
          2.4449775218963623
         ],
         "yaxis": "y"
        },
        {
         "customdata": [
          [
           157,
           "E"
          ],
          [
           407,
           "E"
          ],
          [
           407,
           "E"
          ],
          [
           432,
           "E"
          ],
          [
           424,
           "Q"
          ],
          [
           417,
           "D"
          ],
          [
           194,
           "E"
          ],
          [
           410,
           "E"
          ],
          [
           440,
           "E"
          ]
         ],
         "hovertemplate": "Interacting Chain=beta-tubulin<br>aa_classification=positively charged<br>Residue Index=%{x}<br>Distance (angstroms)=%{y}<br>residue_one_letter=%{text}<br>interacting_resinumber=%{customdata[0]}<br>interactingresi_oneletter=%{customdata[1]}<extra></extra>",
         "legendgroup": "beta-tubulin, positively charged",
         "marker": {
          "color": "#2ca02c",
          "opacity": 0.6,
          "size": 10,
          "symbol": "triangle-up"
         },
         "mode": "markers+text",
         "name": "beta-tubulin, positively charged",
         "orientation": "v",
         "showlegend": true,
         "text": [
          "R",
          "K",
          "R",
          "K",
          "H",
          "R",
          "K",
          "R",
          "R"
         ],
         "textposition": "top center",
         "type": "scatter",
         "x": [
          144,
          157,
          159,
          275,
          278,
          282,
          285,
          288,
          321
         ],
         "xaxis": "x",
         "y": [
          2.118526697158813,
          2.671635150909424,
          2.8028013706207275,
          3.5684187412261963,
          2.713658332824707,
          2.4109654426574707,
          3.413616180419922,
          2.9228031635284424,
          3.767202138900757
         ],
         "yaxis": "y"
        },
        {
         "customdata": [
          [
           440,
           "E"
          ],
          [
           410,
           "E"
          ],
          [
           406,
           "M"
          ]
         ],
         "hovertemplate": "Interacting Chain=beta-tubulin<br>aa_classification=nonpolar<br>Residue Index=%{x}<br>Distance (angstroms)=%{y}<br>residue_one_letter=%{text}<br>interacting_resinumber=%{customdata[0]}<br>interactingresi_oneletter=%{customdata[1]}<extra></extra>",
         "legendgroup": "beta-tubulin, nonpolar",
         "marker": {
          "color": "#2ca02c",
          "opacity": 0.6,
          "size": 10,
          "symbol": "circle"
         },
         "mode": "markers+text",
         "name": "beta-tubulin, nonpolar",
         "orientation": "v",
         "showlegend": true,
         "text": [
          "F",
          "V",
          "W"
         ],
         "textposition": "top center",
         "type": "scatter",
         "x": [
          46,
          158,
          167
         ],
         "xaxis": "x",
         "y": [
          4.423050403594971,
          4.052603244781494,
          3.736237764358521
         ],
         "yaxis": "y"
        },
        {
         "customdata": [
          [
           436,
           "F"
          ],
          [
           424,
           "Q"
          ],
          [
           424,
           "Q"
          ]
         ],
         "hovertemplate": "Interacting Chain=beta-tubulin<br>aa_classification=polar uncharged<br>Residue Index=%{x}<br>Distance (angstroms)=%{y}<br>residue_one_letter=%{text}<br>interacting_resinumber=%{customdata[0]}<br>interactingresi_oneletter=%{customdata[1]}<extra></extra>",
         "legendgroup": "beta-tubulin, polar uncharged",
         "marker": {
          "color": "#2ca02c",
          "opacity": 0.6,
          "size": 10,
          "symbol": "square"
         },
         "mode": "markers+text",
         "name": "beta-tubulin, polar uncharged",
         "orientation": "v",
         "showlegend": true,
         "text": [
          "T",
          "S",
          "T"
         ],
         "textposition": "top center",
         "type": "scatter",
         "x": [
          272,
          276,
          277
         ],
         "xaxis": "x",
         "y": [
          4.065266132354736,
          3.575591325759888,
          3.996605396270752
         ],
         "yaxis": "y"
        },
        {
         "customdata": [
          [
           413,
           "S"
          ],
          [
           406,
           "M"
          ],
          [
           436,
           "F"
          ],
          [
           262,
           "R"
          ]
         ],
         "hovertemplate": "Interacting Chain=beta-tubulin<br>aa_classification=negatively charged<br>Residue Index=%{x}<br>Distance (angstroms)=%{y}<br>residue_one_letter=%{text}<br>interacting_resinumber=%{customdata[0]}<br>interactingresi_oneletter=%{customdata[1]}<extra></extra>",
         "legendgroup": "beta-tubulin, negatively charged",
         "marker": {
          "color": "#2ca02c",
          "opacity": 0.6,
          "size": 10,
          "symbol": "triangle-down"
         },
         "mode": "markers+text",
         "name": "beta-tubulin, negatively charged",
         "orientation": "v",
         "showlegend": true,
         "text": [
          "E",
          "E",
          "D",
          "D"
         ],
         "textposition": "top center",
         "type": "scatter",
         "x": [
          160,
          161,
          273,
          283
         ],
         "xaxis": "x",
         "y": [
          3.1203081607818604,
          3.622679710388184,
          3.9362034797668457,
          3.201554298400879
         ],
         "yaxis": "y"
        },
        {
         "customdata": [
          [
           1,
           "?"
          ],
          [
           1,
           "?"
          ],
          [
           1,
           "?"
          ]
         ],
         "hovertemplate": "Interacting Chain=ATP<br>aa_classification=positively charged<br>Residue Index=%{x}<br>Distance (angstroms)=%{y}<br>residue_one_letter=%{text}<br>interacting_resinumber=%{customdata[0]}<br>interactingresi_oneletter=%{customdata[1]}<extra></extra>",
         "legendgroup": "ATP, positively charged",
         "marker": {
          "color": "#d62728",
          "opacity": 0.6,
          "size": 10,
          "symbol": "triangle-up"
         },
         "mode": "markers+text",
         "name": "ATP, positively charged",
         "orientation": "v",
         "showlegend": true,
         "text": [
          "R",
          "R",
          "K"
         ],
         "textposition": "top center",
         "type": "scatter",
         "x": [
          9,
          11,
          91
         ],
         "xaxis": "x",
         "y": [
          3.609522581100464,
          3.483114004135132,
          2.716425895690918
         ],
         "yaxis": "y"
        },
        {
         "customdata": [
          [
           1,
           "?"
          ],
          [
           1,
           "?"
          ],
          [
           1,
           "?"
          ],
          [
           1,
           "?"
          ],
          [
           1,
           "?"
          ],
          [
           1,
           "?"
          ],
          [
           1,
           "?"
          ],
          [
           1,
           "?"
          ]
         ],
         "hovertemplate": "Interacting Chain=ATP<br>aa_classification=nonpolar<br>Residue Index=%{x}<br>Distance (angstroms)=%{y}<br>residue_one_letter=%{text}<br>interacting_resinumber=%{customdata[0]}<br>interactingresi_oneletter=%{customdata[1]}<extra></extra>",
         "legendgroup": "ATP, nonpolar",
         "marker": {
          "color": "#d62728",
          "opacity": 0.6,
          "size": 10,
          "symbol": "circle"
         },
         "mode": "markers+text",
         "name": "ATP, nonpolar",
         "orientation": "v",
         "showlegend": true,
         "text": [
          "F",
          "P",
          "G",
          "G",
          "F",
          "L",
          "A",
          "G"
         ],
         "textposition": "top center",
         "type": "scatter",
         "x": [
          10,
          12,
          88,
          90,
          93,
          235,
          236,
          237
         ],
         "xaxis": "x",
         "y": [
          4.402266502380371,
          3.513949155807495,
          2.7412233352661133,
          3.02336859703064,
          2.747775077819824,
          4.434123516082764,
          3.811209201812744,
          2.7574799060821533
         ],
         "yaxis": "y"
        },
        {
         "customdata": [
          [
           1,
           "?"
          ],
          [
           1,
           "?"
          ],
          [
           1,
           "?"
          ],
          [
           1,
           "?"
          ],
          [
           1,
           "?"
          ],
          [
           1,
           "?"
          ],
          [
           1,
           "?"
          ],
          [
           1,
           "?"
          ]
         ],
         "hovertemplate": "Interacting Chain=ATP<br>aa_classification=polar uncharged<br>Residue Index=%{x}<br>Distance (angstroms)=%{y}<br>residue_one_letter=%{text}<br>interacting_resinumber=%{customdata[0]}<br>interactingresi_oneletter=%{customdata[1]}<extra></extra>",
         "legendgroup": "ATP, polar uncharged",
         "marker": {
          "color": "#d62728",
          "opacity": 0.6,
          "size": 10,
          "symbol": "square"
         },
         "mode": "markers+text",
         "name": "ATP, polar uncharged",
         "orientation": "v",
         "showlegend": true,
         "text": [
          "S",
          "Q",
          "T",
          "S",
          "T",
          "N",
          "S",
          "S"
         ],
         "textposition": "top center",
         "type": "scatter",
         "x": [
          54,
          86,
          87,
          89,
          92,
          201,
          204,
          205
         ],
         "xaxis": "x",
         "y": [
          4.4938645362854,
          3.8387467861175537,
          2.4430959224700928,
          3.353032112121582,
          2.8145248889923096,
          3.1182668209075928,
          2.865969657897949,
          2.898035764694214
         ],
         "yaxis": "y"
        },
        {
         "customdata": [
          [
           1,
           "?"
          ]
         ],
         "hovertemplate": "Interacting Chain=ATP<br>aa_classification=negatively charged<br>Residue Index=%{x}<br>Distance (angstroms)=%{y}<br>residue_one_letter=%{text}<br>interacting_resinumber=%{customdata[0]}<br>interactingresi_oneletter=%{customdata[1]}<extra></extra>",
         "legendgroup": "ATP, negatively charged",
         "marker": {
          "color": "#d62728",
          "opacity": 0.6,
          "size": 10,
          "symbol": "triangle-down"
         },
         "mode": "markers+text",
         "name": "ATP, negatively charged",
         "orientation": "v",
         "showlegend": true,
         "text": [
          "E"
         ],
         "textposition": "top center",
         "type": "scatter",
         "x": [
          203
         ],
         "xaxis": "x",
         "y": [
          4.040117263793945
         ],
         "yaxis": "y"
        }
       ],
       "layout": {
        "autosize": false,
        "height": 600,
        "legend": {
         "title": {
          "text": "Interacting Chain"
         },
         "tracegroupgap": 0
        },
        "shapes": [
         {
          "fillcolor": "LightSalmon",
          "layer": "below",
          "line": {
           "width": 0
          },
          "opacity": 0.3,
          "type": "rect",
          "x0": 0,
          "x1": 600,
          "y0": 0,
          "y1": 5
         }
        ],
        "template": {
         "data": {
          "bar": [
           {
            "error_x": {
             "color": "#2a3f5f"
            },
            "error_y": {
             "color": "#2a3f5f"
            },
            "marker": {
             "line": {
              "color": "#E5ECF6",
              "width": 0.5
             },
             "pattern": {
              "fillmode": "overlay",
              "size": 10,
              "solidity": 0.2
             }
            },
            "type": "bar"
           }
          ],
          "barpolar": [
           {
            "marker": {
             "line": {
              "color": "#E5ECF6",
              "width": 0.5
             },
             "pattern": {
              "fillmode": "overlay",
              "size": 10,
              "solidity": 0.2
             }
            },
            "type": "barpolar"
           }
          ],
          "carpet": [
           {
            "aaxis": {
             "endlinecolor": "#2a3f5f",
             "gridcolor": "white",
             "linecolor": "white",
             "minorgridcolor": "white",
             "startlinecolor": "#2a3f5f"
            },
            "baxis": {
             "endlinecolor": "#2a3f5f",
             "gridcolor": "white",
             "linecolor": "white",
             "minorgridcolor": "white",
             "startlinecolor": "#2a3f5f"
            },
            "type": "carpet"
           }
          ],
          "choropleth": [
           {
            "colorbar": {
             "outlinewidth": 0,
             "ticks": ""
            },
            "type": "choropleth"
           }
          ],
          "contour": [
           {
            "colorbar": {
             "outlinewidth": 0,
             "ticks": ""
            },
            "colorscale": [
             [
              0,
              "#0d0887"
             ],
             [
              0.1111111111111111,
              "#46039f"
             ],
             [
              0.2222222222222222,
              "#7201a8"
             ],
             [
              0.3333333333333333,
              "#9c179e"
             ],
             [
              0.4444444444444444,
              "#bd3786"
             ],
             [
              0.5555555555555556,
              "#d8576b"
             ],
             [
              0.6666666666666666,
              "#ed7953"
             ],
             [
              0.7777777777777778,
              "#fb9f3a"
             ],
             [
              0.8888888888888888,
              "#fdca26"
             ],
             [
              1,
              "#f0f921"
             ]
            ],
            "type": "contour"
           }
          ],
          "contourcarpet": [
           {
            "colorbar": {
             "outlinewidth": 0,
             "ticks": ""
            },
            "type": "contourcarpet"
           }
          ],
          "heatmap": [
           {
            "colorbar": {
             "outlinewidth": 0,
             "ticks": ""
            },
            "colorscale": [
             [
              0,
              "#0d0887"
             ],
             [
              0.1111111111111111,
              "#46039f"
             ],
             [
              0.2222222222222222,
              "#7201a8"
             ],
             [
              0.3333333333333333,
              "#9c179e"
             ],
             [
              0.4444444444444444,
              "#bd3786"
             ],
             [
              0.5555555555555556,
              "#d8576b"
             ],
             [
              0.6666666666666666,
              "#ed7953"
             ],
             [
              0.7777777777777778,
              "#fb9f3a"
             ],
             [
              0.8888888888888888,
              "#fdca26"
             ],
             [
              1,
              "#f0f921"
             ]
            ],
            "type": "heatmap"
           }
          ],
          "heatmapgl": [
           {
            "colorbar": {
             "outlinewidth": 0,
             "ticks": ""
            },
            "colorscale": [
             [
              0,
              "#0d0887"
             ],
             [
              0.1111111111111111,
              "#46039f"
             ],
             [
              0.2222222222222222,
              "#7201a8"
             ],
             [
              0.3333333333333333,
              "#9c179e"
             ],
             [
              0.4444444444444444,
              "#bd3786"
             ],
             [
              0.5555555555555556,
              "#d8576b"
             ],
             [
              0.6666666666666666,
              "#ed7953"
             ],
             [
              0.7777777777777778,
              "#fb9f3a"
             ],
             [
              0.8888888888888888,
              "#fdca26"
             ],
             [
              1,
              "#f0f921"
             ]
            ],
            "type": "heatmapgl"
           }
          ],
          "histogram": [
           {
            "marker": {
             "pattern": {
              "fillmode": "overlay",
              "size": 10,
              "solidity": 0.2
             }
            },
            "type": "histogram"
           }
          ],
          "histogram2d": [
           {
            "colorbar": {
             "outlinewidth": 0,
             "ticks": ""
            },
            "colorscale": [
             [
              0,
              "#0d0887"
             ],
             [
              0.1111111111111111,
              "#46039f"
             ],
             [
              0.2222222222222222,
              "#7201a8"
             ],
             [
              0.3333333333333333,
              "#9c179e"
             ],
             [
              0.4444444444444444,
              "#bd3786"
             ],
             [
              0.5555555555555556,
              "#d8576b"
             ],
             [
              0.6666666666666666,
              "#ed7953"
             ],
             [
              0.7777777777777778,
              "#fb9f3a"
             ],
             [
              0.8888888888888888,
              "#fdca26"
             ],
             [
              1,
              "#f0f921"
             ]
            ],
            "type": "histogram2d"
           }
          ],
          "histogram2dcontour": [
           {
            "colorbar": {
             "outlinewidth": 0,
             "ticks": ""
            },
            "colorscale": [
             [
              0,
              "#0d0887"
             ],
             [
              0.1111111111111111,
              "#46039f"
             ],
             [
              0.2222222222222222,
              "#7201a8"
             ],
             [
              0.3333333333333333,
              "#9c179e"
             ],
             [
              0.4444444444444444,
              "#bd3786"
             ],
             [
              0.5555555555555556,
              "#d8576b"
             ],
             [
              0.6666666666666666,
              "#ed7953"
             ],
             [
              0.7777777777777778,
              "#fb9f3a"
             ],
             [
              0.8888888888888888,
              "#fdca26"
             ],
             [
              1,
              "#f0f921"
             ]
            ],
            "type": "histogram2dcontour"
           }
          ],
          "mesh3d": [
           {
            "colorbar": {
             "outlinewidth": 0,
             "ticks": ""
            },
            "type": "mesh3d"
           }
          ],
          "parcoords": [
           {
            "line": {
             "colorbar": {
              "outlinewidth": 0,
              "ticks": ""
             }
            },
            "type": "parcoords"
           }
          ],
          "pie": [
           {
            "automargin": true,
            "type": "pie"
           }
          ],
          "scatter": [
           {
            "fillpattern": {
             "fillmode": "overlay",
             "size": 10,
             "solidity": 0.2
            },
            "type": "scatter"
           }
          ],
          "scatter3d": [
           {
            "line": {
             "colorbar": {
              "outlinewidth": 0,
              "ticks": ""
             }
            },
            "marker": {
             "colorbar": {
              "outlinewidth": 0,
              "ticks": ""
             }
            },
            "type": "scatter3d"
           }
          ],
          "scattercarpet": [
           {
            "marker": {
             "colorbar": {
              "outlinewidth": 0,
              "ticks": ""
             }
            },
            "type": "scattercarpet"
           }
          ],
          "scattergeo": [
           {
            "marker": {
             "colorbar": {
              "outlinewidth": 0,
              "ticks": ""
             }
            },
            "type": "scattergeo"
           }
          ],
          "scattergl": [
           {
            "marker": {
             "colorbar": {
              "outlinewidth": 0,
              "ticks": ""
             }
            },
            "type": "scattergl"
           }
          ],
          "scattermapbox": [
           {
            "marker": {
             "colorbar": {
              "outlinewidth": 0,
              "ticks": ""
             }
            },
            "type": "scattermapbox"
           }
          ],
          "scatterpolar": [
           {
            "marker": {
             "colorbar": {
              "outlinewidth": 0,
              "ticks": ""
             }
            },
            "type": "scatterpolar"
           }
          ],
          "scatterpolargl": [
           {
            "marker": {
             "colorbar": {
              "outlinewidth": 0,
              "ticks": ""
             }
            },
            "type": "scatterpolargl"
           }
          ],
          "scatterternary": [
           {
            "marker": {
             "colorbar": {
              "outlinewidth": 0,
              "ticks": ""
             }
            },
            "type": "scatterternary"
           }
          ],
          "surface": [
           {
            "colorbar": {
             "outlinewidth": 0,
             "ticks": ""
            },
            "colorscale": [
             [
              0,
              "#0d0887"
             ],
             [
              0.1111111111111111,
              "#46039f"
             ],
             [
              0.2222222222222222,
              "#7201a8"
             ],
             [
              0.3333333333333333,
              "#9c179e"
             ],
             [
              0.4444444444444444,
              "#bd3786"
             ],
             [
              0.5555555555555556,
              "#d8576b"
             ],
             [
              0.6666666666666666,
              "#ed7953"
             ],
             [
              0.7777777777777778,
              "#fb9f3a"
             ],
             [
              0.8888888888888888,
              "#fdca26"
             ],
             [
              1,
              "#f0f921"
             ]
            ],
            "type": "surface"
           }
          ],
          "table": [
           {
            "cells": {
             "fill": {
              "color": "#EBF0F8"
             },
             "line": {
              "color": "white"
             }
            },
            "header": {
             "fill": {
              "color": "#C8D4E3"
             },
             "line": {
              "color": "white"
             }
            },
            "type": "table"
           }
          ]
         },
         "layout": {
          "annotationdefaults": {
           "arrowcolor": "#2a3f5f",
           "arrowhead": 0,
           "arrowwidth": 1
          },
          "autotypenumbers": "strict",
          "coloraxis": {
           "colorbar": {
            "outlinewidth": 0,
            "ticks": ""
           }
          },
          "colorscale": {
           "diverging": [
            [
             0,
             "#8e0152"
            ],
            [
             0.1,
             "#c51b7d"
            ],
            [
             0.2,
             "#de77ae"
            ],
            [
             0.3,
             "#f1b6da"
            ],
            [
             0.4,
             "#fde0ef"
            ],
            [
             0.5,
             "#f7f7f7"
            ],
            [
             0.6,
             "#e6f5d0"
            ],
            [
             0.7,
             "#b8e186"
            ],
            [
             0.8,
             "#7fbc41"
            ],
            [
             0.9,
             "#4d9221"
            ],
            [
             1,
             "#276419"
            ]
           ],
           "sequential": [
            [
             0,
             "#0d0887"
            ],
            [
             0.1111111111111111,
             "#46039f"
            ],
            [
             0.2222222222222222,
             "#7201a8"
            ],
            [
             0.3333333333333333,
             "#9c179e"
            ],
            [
             0.4444444444444444,
             "#bd3786"
            ],
            [
             0.5555555555555556,
             "#d8576b"
            ],
            [
             0.6666666666666666,
             "#ed7953"
            ],
            [
             0.7777777777777778,
             "#fb9f3a"
            ],
            [
             0.8888888888888888,
             "#fdca26"
            ],
            [
             1,
             "#f0f921"
            ]
           ],
           "sequentialminus": [
            [
             0,
             "#0d0887"
            ],
            [
             0.1111111111111111,
             "#46039f"
            ],
            [
             0.2222222222222222,
             "#7201a8"
            ],
            [
             0.3333333333333333,
             "#9c179e"
            ],
            [
             0.4444444444444444,
             "#bd3786"
            ],
            [
             0.5555555555555556,
             "#d8576b"
            ],
            [
             0.6666666666666666,
             "#ed7953"
            ],
            [
             0.7777777777777778,
             "#fb9f3a"
            ],
            [
             0.8888888888888888,
             "#fdca26"
            ],
            [
             1,
             "#f0f921"
            ]
           ]
          },
          "colorway": [
           "#636efa",
           "#EF553B",
           "#00cc96",
           "#ab63fa",
           "#FFA15A",
           "#19d3f3",
           "#FF6692",
           "#B6E880",
           "#FF97FF",
           "#FECB52"
          ],
          "font": {
           "color": "#2a3f5f"
          },
          "geo": {
           "bgcolor": "white",
           "lakecolor": "white",
           "landcolor": "#E5ECF6",
           "showlakes": true,
           "showland": true,
           "subunitcolor": "white"
          },
          "hoverlabel": {
           "align": "left"
          },
          "hovermode": "closest",
          "mapbox": {
           "style": "light"
          },
          "paper_bgcolor": "white",
          "plot_bgcolor": "#E5ECF6",
          "polar": {
           "angularaxis": {
            "gridcolor": "white",
            "linecolor": "white",
            "ticks": ""
           },
           "bgcolor": "#E5ECF6",
           "radialaxis": {
            "gridcolor": "white",
            "linecolor": "white",
            "ticks": ""
           }
          },
          "scene": {
           "xaxis": {
            "backgroundcolor": "#E5ECF6",
            "gridcolor": "white",
            "gridwidth": 2,
            "linecolor": "white",
            "showbackground": true,
            "ticks": "",
            "zerolinecolor": "white"
           },
           "yaxis": {
            "backgroundcolor": "#E5ECF6",
            "gridcolor": "white",
            "gridwidth": 2,
            "linecolor": "white",
            "showbackground": true,
            "ticks": "",
            "zerolinecolor": "white"
           },
           "zaxis": {
            "backgroundcolor": "#E5ECF6",
            "gridcolor": "white",
            "gridwidth": 2,
            "linecolor": "white",
            "showbackground": true,
            "ticks": "",
            "zerolinecolor": "white"
           }
          },
          "shapedefaults": {
           "line": {
            "color": "#2a3f5f"
           }
          },
          "ternary": {
           "aaxis": {
            "gridcolor": "white",
            "linecolor": "white",
            "ticks": ""
           },
           "baxis": {
            "gridcolor": "white",
            "linecolor": "white",
            "ticks": ""
           },
           "bgcolor": "#E5ECF6",
           "caxis": {
            "gridcolor": "white",
            "linecolor": "white",
            "ticks": ""
           }
          },
          "title": {
           "x": 0.05
          },
          "xaxis": {
           "automargin": true,
           "gridcolor": "white",
           "linecolor": "white",
           "ticks": "",
           "title": {
            "standoff": 15
           },
           "zerolinecolor": "white",
           "zerolinewidth": 2
          },
          "yaxis": {
           "automargin": true,
           "gridcolor": "white",
           "linecolor": "white",
           "ticks": "",
           "title": {
            "standoff": 15
           },
           "zerolinecolor": "white",
           "zerolinewidth": 2
          }
         }
        },
        "title": {
         "text": "Interactions for H_seed22_model_0"
        },
        "width": 1600,
        "xaxis": {
         "anchor": "y",
         "domain": [
          0,
          1
         ],
         "dtick": 20,
         "range": [
          0,
          600
         ],
         "title": {
          "text": "Residue Index"
         }
        },
        "yaxis": {
         "anchor": "x",
         "domain": [
          0,
          1
         ],
         "range": [
          0.1,
          5
         ],
         "title": {
          "text": "Distance (angstroms)"
         }
        }
       }
      }
     },
     "metadata": {},
     "output_type": "display_data"
    },
    {
     "data": {
      "application/vnd.plotly.v1+json": {
       "config": {
        "plotlyServerURL": "https://plot.ly"
       },
       "data": [
        {
         "customdata": [
          [
           348,
           "L"
          ],
          [
           344,
           "L"
          ],
          [
           354,
           "E"
          ],
          [
           364,
           "E"
          ],
          [
           463,
           "E"
          ],
          [
           470,
           "E"
          ],
          [
           472,
           "E"
          ],
          [
           491,
           "D"
          ],
          [
           528,
           "L"
          ],
          [
           535,
           "S"
          ],
          [
           552,
           "E"
          ],
          [
           578,
           "L"
          ]
         ],
         "hovertemplate": "Interacting Chain=kinesin B<br>aa_classification=positively charged<br>Residue Index=%{x}<br>Distance (angstroms)=%{y}<br>residue_one_letter=%{text}<br>interacting_resinumber=%{customdata[0]}<br>interactingresi_oneletter=%{customdata[1]}<extra></extra>",
         "legendgroup": "kinesin B, positively charged",
         "marker": {
          "color": "#1f77b4",
          "opacity": 0.6,
          "size": 10,
          "symbol": "triangle-up"
         },
         "mode": "markers+text",
         "name": "kinesin B, positively charged",
         "orientation": "v",
         "showlegend": true,
         "text": [
          "R",
          "K",
          "K",
          "K",
          "K",
          "K",
          "K",
          "K",
          "K",
          "R",
          "K",
          "R"
         ],
         "textposition": "top center",
         "type": "scatter",
         "x": [
          339,
          345,
          359,
          377,
          458,
          469,
          473,
          490,
          529,
          536,
          557,
          566
         ],
         "xaxis": "x",
         "y": [
          3.5548417568206787,
          3.8950929641723633,
          2.686760663986206,
          4.1774444580078125,
          2.8088274002075195,
          2.7261767387390137,
          2.738541841506958,
          2.5627105236053467,
          3.829012870788574,
          3.4732065200805664,
          2.793213367462158,
          3.169888019561768
         ],
         "yaxis": "y"
        },
        {
         "customdata": [
          [
           344,
           "L"
          ],
          [
           341,
           "A"
          ],
          [
           348,
           "L"
          ],
          [
           347,
           "L"
          ],
          [
           355,
           "I"
          ],
          [
           355,
           "I"
          ],
          [
           362,
           "I"
          ],
          [
           362,
           "I"
          ],
          [
           371,
           "V"
          ],
          [
           376,
           "L"
          ],
          [
           365,
           "L"
          ],
          [
           364,
           "E"
          ],
          [
           368,
           "V"
          ],
          [
           452,
           "I"
          ],
          [
           452,
           "I"
          ],
          [
           459,
           "C"
          ],
          [
           466,
           "L"
          ],
          [
           466,
           "L"
          ],
          [
           473,
           "K"
          ],
          [
           476,
           "I"
          ],
          [
           483,
           "Q"
          ],
          [
           490,
           "K"
          ],
          [
           493,
           "E"
          ],
          [
           501,
           "I"
          ],
          [
           501,
           "I"
          ],
          [
           497,
           "L"
          ],
          [
           508,
           "N"
          ],
          [
           511,
           "Y"
          ],
          [
           518,
           "N"
          ],
          [
           521,
           "L"
          ],
          [
           532,
           "L"
          ],
          [
           532,
           "L"
          ],
          [
           531,
           "A"
          ],
          [
           542,
           "Q"
          ],
          [
           546,
           "I"
          ],
          [
           550,
           "N"
          ],
          [
           556,
           "I"
          ],
          [
           560,
           "L"
          ],
          [
           563,
           "L"
          ],
          [
           563,
           "L"
          ],
          [
           575,
           "I"
          ],
          [
           566,
           "R"
          ],
          [
           563,
           "L"
          ],
          [
           563,
           "L"
          ]
         ],
         "hovertemplate": "Interacting Chain=kinesin B<br>aa_classification=nonpolar<br>Residue Index=%{x}<br>Distance (angstroms)=%{y}<br>residue_one_letter=%{text}<br>interacting_resinumber=%{customdata[0]}<br>interactingresi_oneletter=%{customdata[1]}<extra></extra>",
         "legendgroup": "kinesin B, nonpolar",
         "marker": {
          "color": "#1f77b4",
          "opacity": 0.6,
          "size": 10,
          "symbol": "circle"
         },
         "mode": "markers+text",
         "name": "kinesin B, nonpolar",
         "orientation": "v",
         "showlegend": true,
         "text": [
          "A",
          "L",
          "L",
          "L",
          "A",
          "I",
          "L",
          "I",
          "L",
          "V",
          "V",
          "V",
          "L",
          "L",
          "I",
          "L",
          "L",
          "L",
          "I",
          "L",
          "L",
          "I",
          "I",
          "L",
          "M",
          "I",
          "I",
          "L",
          "L",
          "L",
          "L",
          "A",
          "L",
          "A",
          "I",
          "L",
          "I",
          "L",
          "L",
          "I",
          "I",
          "L",
          "V",
          "P"
         ],
         "textposition": "top center",
         "type": "scatter",
         "x": [
          341,
          344,
          347,
          348,
          351,
          355,
          358,
          362,
          365,
          368,
          371,
          373,
          376,
          451,
          452,
          455,
          462,
          466,
          476,
          477,
          480,
          487,
          494,
          497,
          500,
          501,
          507,
          510,
          521,
          525,
          528,
          531,
          532,
          539,
          546,
          549,
          556,
          560,
          563,
          567,
          575,
          578,
          579,
          580
         ],
         "xaxis": "x",
         "y": [
          3.3404171466827397,
          3.2351436614990234,
          3.740357160568237,
          3.729812622070313,
          3.6698293685913086,
          3.5179831981658936,
          3.3300068378448486,
          3.3379669189453125,
          3.1611111164093018,
          3.005844831466675,
          3.172401666641236,
          3.202737808227539,
          3.0213117599487305,
          4.025260925292969,
          3.480775117874145,
          3.8285396099090576,
          3.614793539047241,
          3.15767765045166,
          3.3782975673675537,
          4.060120582580566,
          3.124506950378418,
          2.9893176555633545,
          3.4985313415527344,
          2.777834177017212,
          4.074824333190918,
          3.034833669662476,
          3.264445781707764,
          3.544618606567383,
          3.16187071800232,
          3.424679756164551,
          3.6545541286468506,
          3.483176946640014,
          3.4585063457489014,
          2.78251314163208,
          3.3894076347351074,
          3.1882569789886475,
          3.257176399230957,
          3.475860118865967,
          3.2603156566619877,
          3.638615846633911,
          3.067966222763061,
          3.172063112258911,
          4.345124244689941,
          3.580007553100586
         ],
         "yaxis": "y"
        },
        {
         "customdata": [
          [
           345,
           "K"
          ],
          [
           359,
           "K"
          ],
          [
           373,
           "V"
          ],
          [
           361,
           "Y"
          ],
          [
           452,
           "I"
          ],
          [
           458,
           "K"
          ],
          [
           469,
           "K"
          ],
          [
           473,
           "K"
          ],
          [
           490,
           "K"
          ],
          [
           494,
           "I"
          ],
          [
           518,
           "N"
          ],
          [
           557,
           "K"
          ]
         ],
         "hovertemplate": "Interacting Chain=kinesin B<br>aa_classification=negatively charged<br>Residue Index=%{x}<br>Distance (angstroms)=%{y}<br>residue_one_letter=%{text}<br>interacting_resinumber=%{customdata[0]}<br>interactingresi_oneletter=%{customdata[1]}<extra></extra>",
         "legendgroup": "kinesin B, negatively charged",
         "marker": {
          "color": "#1f77b4",
          "opacity": 0.6,
          "size": 10,
          "symbol": "triangle-down"
         },
         "mode": "markers+text",
         "name": "kinesin B, negatively charged",
         "orientation": "v",
         "showlegend": true,
         "text": [
          "E",
          "E",
          "E",
          "E",
          "D",
          "E",
          "E",
          "E",
          "D",
          "E",
          "E",
          "E"
         ],
         "textposition": "top center",
         "type": "scatter",
         "x": [
          338,
          354,
          364,
          366,
          448,
          463,
          470,
          472,
          491,
          493,
          517,
          552
         ],
         "xaxis": "x",
         "y": [
          4.429396629333496,
          2.82944655418396,
          3.506803035736084,
          3.163877487182617,
          3.71054482460022,
          2.837768316268921,
          2.718791961669922,
          2.6383819580078125,
          2.5611910820007324,
          3.647566318511963,
          3.504951477050781,
          2.7002615928649902
         ],
         "yaxis": "y"
        },
        {
         "customdata": [
          [
           345,
           "K"
          ],
          [
           366,
           "E"
          ],
          [
           369,
           "S"
          ],
          [
           361,
           "Y"
          ],
          [
           455,
           "L"
          ],
          [
           459,
           "C"
          ],
          [
           466,
           "L"
          ],
          [
           480,
           "L"
          ],
          [
           484,
           "Q"
          ],
          [
           483,
           "Q"
          ],
          [
           487,
           "I"
          ],
          [
           497,
           "L"
          ],
          [
           504,
           "S"
          ],
          [
           507,
           "I"
          ],
          [
           511,
           "Y"
          ],
          [
           514,
           "S"
          ],
          [
           514,
           "S"
          ],
          [
           518,
           "N"
          ],
          [
           521,
           "L"
          ],
          [
           525,
           "L"
          ],
          [
           535,
           "S"
          ],
          [
           539,
           "A"
          ],
          [
           542,
           "Q"
          ],
          [
           546,
           "I"
          ],
          [
           549,
           "L"
          ],
          [
           553,
           "N"
          ],
          [
           560,
           "L"
          ],
          [
           578,
           "L"
          ]
         ],
         "hovertemplate": "Interacting Chain=kinesin B<br>aa_classification=polar uncharged<br>Residue Index=%{x}<br>Distance (angstroms)=%{y}<br>residue_one_letter=%{text}<br>interacting_resinumber=%{customdata[0]}<br>interactingresi_oneletter=%{customdata[1]}<extra></extra>",
         "legendgroup": "kinesin B, polar uncharged",
         "marker": {
          "color": "#1f77b4",
          "opacity": 0.6,
          "size": 10,
          "symbol": "square"
         },
         "mode": "markers+text",
         "name": "kinesin B, polar uncharged",
         "orientation": "v",
         "showlegend": true,
         "text": [
          "Q",
          "Y",
          "S",
          "T",
          "Q",
          "C",
          "Q",
          "Q",
          "Q",
          "Q",
          "Q",
          "N",
          "S",
          "N",
          "Y",
          "S",
          "T",
          "N",
          "N",
          "Q",
          "S",
          "Q",
          "S",
          "T",
          "N",
          "N",
          "Q",
          "S"
         ],
         "textposition": "top center",
         "type": "scatter",
         "x": [
          337,
          361,
          369,
          372,
          456,
          459,
          465,
          479,
          483,
          484,
          486,
          498,
          504,
          508,
          511,
          514,
          515,
          518,
          522,
          524,
          535,
          542,
          543,
          545,
          550,
          553,
          559,
          570
         ],
         "xaxis": "x",
         "y": [
          3.7755770683288574,
          2.978695869445801,
          3.480595588684082,
          4.425544261932373,
          3.893058061599731,
          2.961860179901123,
          3.425194025039673,
          3.686776876449585,
          2.9361729621887207,
          2.8533976078033447,
          3.6839287281036377,
          3.263417959213257,
          3.2540714740753174,
          3.512984275817871,
          3.393991231918335,
          2.7656943798065186,
          3.472008228302002,
          2.494208335876465,
          3.30911922454834,
          3.586536407470703,
          2.796073198318481,
          2.753807544708252,
          3.7150628566741934,
          4.075143814086914,
          3.1554386615753174,
          2.376098871231079,
          4.063429832458496,
          4.370234489440918
         ],
         "yaxis": "y"
        },
        {
         "customdata": [
          [
           420,
           "E"
          ],
          [
           410,
           "G"
          ],
          [
           409,
           "V"
          ],
          [
           423,
           "E"
          ],
          [
           402,
           "R"
          ]
         ],
         "hovertemplate": "Interacting Chain=alpha-tubulin<br>aa_classification=positively charged<br>Residue Index=%{x}<br>Distance (angstroms)=%{y}<br>residue_one_letter=%{text}<br>interacting_resinumber=%{customdata[0]}<br>interactingresi_oneletter=%{customdata[1]}<extra></extra>",
         "legendgroup": "alpha-tubulin, positively charged",
         "marker": {
          "color": "#ff7f0e",
          "opacity": 0.6,
          "size": 10,
          "symbol": "triangle-up"
         },
         "mode": "markers+text",
         "name": "alpha-tubulin, positively charged",
         "orientation": "v",
         "showlegend": true,
         "text": [
          "K",
          "K",
          "K",
          "R",
          "R"
         ],
         "textposition": "top center",
         "type": "scatter",
         "x": [
          240,
          255,
          259,
          321,
          325
         ],
         "xaxis": "x",
         "y": [
          2.613731384277344,
          3.32567834854126,
          3.473641395568848,
          2.892830371856689,
          4.48003625869751
         ],
         "yaxis": "y"
        },
        {
         "customdata": [
          [
           412,
           "G"
          ],
          [
           112,
           "K"
          ],
          [
           420,
           "E"
          ]
         ],
         "hovertemplate": "Interacting Chain=alpha-tubulin<br>aa_classification=nonpolar<br>Residue Index=%{x}<br>Distance (angstroms)=%{y}<br>residue_one_letter=%{text}<br>interacting_resinumber=%{customdata[0]}<br>interactingresi_oneletter=%{customdata[1]}<extra></extra>",
         "legendgroup": "alpha-tubulin, nonpolar",
         "marker": {
          "color": "#ff7f0e",
          "opacity": 0.6,
          "size": 10,
          "symbol": "circle"
         },
         "mode": "markers+text",
         "name": "alpha-tubulin, nonpolar",
         "orientation": "v",
         "showlegend": true,
         "text": [
          "I",
          "A",
          "A"
         ],
         "textposition": "top center",
         "type": "scatter",
         "x": [
          241,
          246,
          314
         ],
         "xaxis": "x",
         "y": [
          2.956493854522705,
          3.5309767723083496,
          2.550715446472168
         ],
         "yaxis": "y"
        },
        {
         "customdata": [
          [
           264,
           "R"
          ],
          [
           414,
           "E"
          ],
          [
           414,
           "E"
          ]
         ],
         "hovertemplate": "Interacting Chain=alpha-tubulin<br>aa_classification=negatively charged<br>Residue Index=%{x}<br>Distance (angstroms)=%{y}<br>residue_one_letter=%{text}<br>interacting_resinumber=%{customdata[0]}<br>interactingresi_oneletter=%{customdata[1]}<extra></extra>",
         "legendgroup": "alpha-tubulin, negatively charged",
         "marker": {
          "color": "#ff7f0e",
          "opacity": 0.6,
          "size": 10,
          "symbol": "triangle-down"
         },
         "mode": "markers+text",
         "name": "alpha-tubulin, negatively charged",
         "orientation": "v",
         "showlegend": true,
         "text": [
          "E",
          "E",
          "E"
         ],
         "textposition": "top center",
         "type": "scatter",
         "x": [
          41,
          239,
          315
         ],
         "xaxis": "x",
         "y": [
          3.671998500823975,
          4.213189125061035,
          4.23251485824585
         ],
         "yaxis": "y"
        },
        {
         "customdata": [
          [
           414,
           "E"
          ],
          [
           112,
           "K"
          ],
          [
           409,
           "V"
          ],
          [
           415,
           "E"
          ],
          [
           402,
           "R"
          ],
          [
           402,
           "R"
          ]
         ],
         "hovertemplate": "Interacting Chain=alpha-tubulin<br>aa_classification=polar uncharged<br>Residue Index=%{x}<br>Distance (angstroms)=%{y}<br>residue_one_letter=%{text}<br>interacting_resinumber=%{customdata[0]}<br>interactingresi_oneletter=%{customdata[1]}<extra></extra>",
         "legendgroup": "alpha-tubulin, polar uncharged",
         "marker": {
          "color": "#ff7f0e",
          "opacity": 0.6,
          "size": 10,
          "symbol": "square"
         },
         "mode": "markers+text",
         "name": "alpha-tubulin, polar uncharged",
         "orientation": "v",
         "showlegend": true,
         "text": [
          "S",
          "Q",
          "N",
          "S",
          "N",
          "N"
         ],
         "textposition": "top center",
         "type": "scatter",
         "x": [
          238,
          247,
          258,
          262,
          266,
          269
         ],
         "xaxis": "x",
         "y": [
          3.13992977142334,
          4.290469646453857,
          3.560391426086426,
          2.521754741668701,
          3.587544679641724,
          4.45758056640625
         ],
         "yaxis": "y"
        },
        {
         "customdata": [
          [
           157,
           "E"
          ],
          [
           407,
           "E"
          ],
          [
           404,
           "D"
          ],
          [
           432,
           "E"
          ],
          [
           424,
           "Q"
          ],
          [
           417,
           "D"
          ],
          [
           194,
           "E"
          ],
          [
           438,
           "E"
          ],
          [
           436,
           "F"
          ]
         ],
         "hovertemplate": "Interacting Chain=beta-tubulin<br>aa_classification=positively charged<br>Residue Index=%{x}<br>Distance (angstroms)=%{y}<br>residue_one_letter=%{text}<br>interacting_resinumber=%{customdata[0]}<br>interactingresi_oneletter=%{customdata[1]}<extra></extra>",
         "legendgroup": "beta-tubulin, positively charged",
         "marker": {
          "color": "#2ca02c",
          "opacity": 0.6,
          "size": 10,
          "symbol": "triangle-up"
         },
         "mode": "markers+text",
         "name": "beta-tubulin, positively charged",
         "orientation": "v",
         "showlegend": true,
         "text": [
          "R",
          "K",
          "R",
          "K",
          "H",
          "R",
          "K",
          "R",
          "R"
         ],
         "textposition": "top center",
         "type": "scatter",
         "x": [
          144,
          157,
          159,
          275,
          278,
          282,
          285,
          321,
          325
         ],
         "xaxis": "x",
         "y": [
          2.6117031574249268,
          2.9468743801116943,
          2.7966201305389404,
          3.3226332664489746,
          2.7580347061157227,
          2.333498001098633,
          3.606565237045288,
          3.939666986465454,
          3.302194356918335
         ],
         "yaxis": "y"
        },
        {
         "customdata": [
          [
           410,
           "E"
          ],
          [
           406,
           "M"
          ],
          [
           391,
           "R"
          ],
          [
           388,
           "M"
          ],
          [
           179,
           "V"
          ],
          [
           177,
           "D"
          ]
         ],
         "hovertemplate": "Interacting Chain=beta-tubulin<br>aa_classification=nonpolar<br>Residue Index=%{x}<br>Distance (angstroms)=%{y}<br>residue_one_letter=%{text}<br>interacting_resinumber=%{customdata[0]}<br>interactingresi_oneletter=%{customdata[1]}<extra></extra>",
         "legendgroup": "beta-tubulin, nonpolar",
         "marker": {
          "color": "#2ca02c",
          "opacity": 0.6,
          "size": 10,
          "symbol": "circle"
         },
         "mode": "markers+text",
         "name": "beta-tubulin, nonpolar",
         "orientation": "v",
         "showlegend": true,
         "text": [
          "V",
          "W",
          "L",
          "M",
          "I",
          "L"
         ],
         "textposition": "top center",
         "type": "scatter",
         "x": [
          158,
          167,
          497,
          500,
          507,
          510
         ],
         "xaxis": "x",
         "y": [
          2.856019258499145,
          4.102508068084717,
          3.20932412147522,
          3.4923853874206543,
          3.2253873348236084,
          2.3421506881713867
         ],
         "yaxis": "y"
        },
        {
         "customdata": [
          [
           413,
           "S"
          ],
          [
           406,
           "M"
          ],
          [
           262,
           "R"
          ],
          [
           391,
           "R"
          ]
         ],
         "hovertemplate": "Interacting Chain=beta-tubulin<br>aa_classification=negatively charged<br>Residue Index=%{x}<br>Distance (angstroms)=%{y}<br>residue_one_letter=%{text}<br>interacting_resinumber=%{customdata[0]}<br>interactingresi_oneletter=%{customdata[1]}<extra></extra>",
         "legendgroup": "beta-tubulin, negatively charged",
         "marker": {
          "color": "#2ca02c",
          "opacity": 0.6,
          "size": 10,
          "symbol": "triangle-down"
         },
         "mode": "markers+text",
         "name": "beta-tubulin, negatively charged",
         "orientation": "v",
         "showlegend": true,
         "text": [
          "E",
          "E",
          "D",
          "E"
         ],
         "textposition": "top center",
         "type": "scatter",
         "x": [
          160,
          169,
          283,
          493
         ],
         "xaxis": "x",
         "y": [
          3.424476146697998,
          4.0241379737854,
          3.293250322341919,
          2.7490742206573486
         ],
         "yaxis": "y"
        },
        {
         "customdata": [
          [
           439,
           "E"
          ],
          [
           436,
           "F"
          ],
          [
           424,
           "Q"
          ],
          [
           424,
           "Q"
          ],
          [
           179,
           "V"
          ],
          [
           179,
           "V"
          ],
          [
           173,
           "P"
          ]
         ],
         "hovertemplate": "Interacting Chain=beta-tubulin<br>aa_classification=polar uncharged<br>Residue Index=%{x}<br>Distance (angstroms)=%{y}<br>residue_one_letter=%{text}<br>interacting_resinumber=%{customdata[0]}<br>interactingresi_oneletter=%{customdata[1]}<extra></extra>",
         "legendgroup": "beta-tubulin, polar uncharged",
         "marker": {
          "color": "#2ca02c",
          "opacity": 0.6,
          "size": 10,
          "symbol": "square"
         },
         "mode": "markers+text",
         "name": "beta-tubulin, polar uncharged",
         "orientation": "v",
         "showlegend": true,
         "text": [
          "S",
          "N",
          "S",
          "T",
          "S",
          "S",
          "N"
         ],
         "textposition": "top center",
         "type": "scatter",
         "x": [
          45,
          269,
          276,
          277,
          503,
          504,
          506
         ],
         "xaxis": "x",
         "y": [
          4.401679992675781,
          4.042647361755371,
          3.55507755279541,
          4.0859808921813965,
          3.139022827148437,
          3.510976791381836,
          4.493618488311768
         ],
         "yaxis": "y"
        },
        {
         "customdata": [
          [
           1,
           "?"
          ],
          [
           1,
           "?"
          ],
          [
           1,
           "?"
          ]
         ],
         "hovertemplate": "Interacting Chain=ATP<br>aa_classification=positively charged<br>Residue Index=%{x}<br>Distance (angstroms)=%{y}<br>residue_one_letter=%{text}<br>interacting_resinumber=%{customdata[0]}<br>interactingresi_oneletter=%{customdata[1]}<extra></extra>",
         "legendgroup": "ATP, positively charged",
         "marker": {
          "color": "#d62728",
          "opacity": 0.6,
          "size": 10,
          "symbol": "triangle-up"
         },
         "mode": "markers+text",
         "name": "ATP, positively charged",
         "orientation": "v",
         "showlegend": true,
         "text": [
          "R",
          "R",
          "K"
         ],
         "textposition": "top center",
         "type": "scatter",
         "x": [
          9,
          11,
          91
         ],
         "xaxis": "x",
         "y": [
          3.511115789413452,
          3.903205394744873,
          2.6349470615386963
         ],
         "yaxis": "y"
        },
        {
         "customdata": [
          [
           1,
           "?"
          ],
          [
           1,
           "?"
          ],
          [
           1,
           "?"
          ],
          [
           1,
           "?"
          ],
          [
           1,
           "?"
          ],
          [
           1,
           "?"
          ],
          [
           1,
           "?"
          ]
         ],
         "hovertemplate": "Interacting Chain=ATP<br>aa_classification=nonpolar<br>Residue Index=%{x}<br>Distance (angstroms)=%{y}<br>residue_one_letter=%{text}<br>interacting_resinumber=%{customdata[0]}<br>interactingresi_oneletter=%{customdata[1]}<extra></extra>",
         "legendgroup": "ATP, nonpolar",
         "marker": {
          "color": "#d62728",
          "opacity": 0.6,
          "size": 10,
          "symbol": "circle"
         },
         "mode": "markers+text",
         "name": "ATP, nonpolar",
         "orientation": "v",
         "showlegend": true,
         "text": [
          "P",
          "G",
          "G",
          "F",
          "L",
          "A",
          "G"
         ],
         "textposition": "top center",
         "type": "scatter",
         "x": [
          12,
          88,
          90,
          93,
          235,
          236,
          237
         ],
         "xaxis": "x",
         "y": [
          3.928816556930542,
          2.9475698471069336,
          3.1251721382141118,
          2.5487823486328125,
          4.164507865905762,
          3.7158806324005127,
          2.7660181522369385
         ],
         "yaxis": "y"
        },
        {
         "customdata": [
          [
           1,
           "?"
          ],
          [
           1,
           "?"
          ]
         ],
         "hovertemplate": "Interacting Chain=ATP<br>aa_classification=negatively charged<br>Residue Index=%{x}<br>Distance (angstroms)=%{y}<br>residue_one_letter=%{text}<br>interacting_resinumber=%{customdata[0]}<br>interactingresi_oneletter=%{customdata[1]}<extra></extra>",
         "legendgroup": "ATP, negatively charged",
         "marker": {
          "color": "#d62728",
          "opacity": 0.6,
          "size": 10,
          "symbol": "triangle-down"
         },
         "mode": "markers+text",
         "name": "ATP, negatively charged",
         "orientation": "v",
         "showlegend": true,
         "text": [
          "E",
          "D"
         ],
         "textposition": "top center",
         "type": "scatter",
         "x": [
          203,
          234
         ],
         "xaxis": "x",
         "y": [
          3.97886061668396,
          4.355355262756348
         ],
         "yaxis": "y"
        },
        {
         "customdata": [
          [
           1,
           "?"
          ],
          [
           1,
           "?"
          ],
          [
           1,
           "?"
          ],
          [
           1,
           "?"
          ],
          [
           1,
           "?"
          ],
          [
           1,
           "?"
          ],
          [
           1,
           "?"
          ]
         ],
         "hovertemplate": "Interacting Chain=ATP<br>aa_classification=polar uncharged<br>Residue Index=%{x}<br>Distance (angstroms)=%{y}<br>residue_one_letter=%{text}<br>interacting_resinumber=%{customdata[0]}<br>interactingresi_oneletter=%{customdata[1]}<extra></extra>",
         "legendgroup": "ATP, polar uncharged",
         "marker": {
          "color": "#d62728",
          "opacity": 0.6,
          "size": 10,
          "symbol": "square"
         },
         "mode": "markers+text",
         "name": "ATP, polar uncharged",
         "orientation": "v",
         "showlegend": true,
         "text": [
          "Q",
          "T",
          "S",
          "T",
          "N",
          "S",
          "S"
         ],
         "textposition": "top center",
         "type": "scatter",
         "x": [
          86,
          87,
          89,
          92,
          201,
          204,
          205
         ],
         "xaxis": "x",
         "y": [
          4.06509256362915,
          2.701087474822998,
          3.575403451919556,
          2.581072330474853,
          3.1070544719696045,
          2.9970529079437256,
          2.8280107975006104
         ],
         "yaxis": "y"
        }
       ],
       "layout": {
        "autosize": false,
        "height": 600,
        "legend": {
         "title": {
          "text": "Interacting Chain"
         },
         "tracegroupgap": 0
        },
        "shapes": [
         {
          "fillcolor": "LightSalmon",
          "layer": "below",
          "line": {
           "width": 0
          },
          "opacity": 0.3,
          "type": "rect",
          "x0": 0,
          "x1": 600,
          "y0": 0,
          "y1": 5
         }
        ],
        "template": {
         "data": {
          "bar": [
           {
            "error_x": {
             "color": "#2a3f5f"
            },
            "error_y": {
             "color": "#2a3f5f"
            },
            "marker": {
             "line": {
              "color": "#E5ECF6",
              "width": 0.5
             },
             "pattern": {
              "fillmode": "overlay",
              "size": 10,
              "solidity": 0.2
             }
            },
            "type": "bar"
           }
          ],
          "barpolar": [
           {
            "marker": {
             "line": {
              "color": "#E5ECF6",
              "width": 0.5
             },
             "pattern": {
              "fillmode": "overlay",
              "size": 10,
              "solidity": 0.2
             }
            },
            "type": "barpolar"
           }
          ],
          "carpet": [
           {
            "aaxis": {
             "endlinecolor": "#2a3f5f",
             "gridcolor": "white",
             "linecolor": "white",
             "minorgridcolor": "white",
             "startlinecolor": "#2a3f5f"
            },
            "baxis": {
             "endlinecolor": "#2a3f5f",
             "gridcolor": "white",
             "linecolor": "white",
             "minorgridcolor": "white",
             "startlinecolor": "#2a3f5f"
            },
            "type": "carpet"
           }
          ],
          "choropleth": [
           {
            "colorbar": {
             "outlinewidth": 0,
             "ticks": ""
            },
            "type": "choropleth"
           }
          ],
          "contour": [
           {
            "colorbar": {
             "outlinewidth": 0,
             "ticks": ""
            },
            "colorscale": [
             [
              0,
              "#0d0887"
             ],
             [
              0.1111111111111111,
              "#46039f"
             ],
             [
              0.2222222222222222,
              "#7201a8"
             ],
             [
              0.3333333333333333,
              "#9c179e"
             ],
             [
              0.4444444444444444,
              "#bd3786"
             ],
             [
              0.5555555555555556,
              "#d8576b"
             ],
             [
              0.6666666666666666,
              "#ed7953"
             ],
             [
              0.7777777777777778,
              "#fb9f3a"
             ],
             [
              0.8888888888888888,
              "#fdca26"
             ],
             [
              1,
              "#f0f921"
             ]
            ],
            "type": "contour"
           }
          ],
          "contourcarpet": [
           {
            "colorbar": {
             "outlinewidth": 0,
             "ticks": ""
            },
            "type": "contourcarpet"
           }
          ],
          "heatmap": [
           {
            "colorbar": {
             "outlinewidth": 0,
             "ticks": ""
            },
            "colorscale": [
             [
              0,
              "#0d0887"
             ],
             [
              0.1111111111111111,
              "#46039f"
             ],
             [
              0.2222222222222222,
              "#7201a8"
             ],
             [
              0.3333333333333333,
              "#9c179e"
             ],
             [
              0.4444444444444444,
              "#bd3786"
             ],
             [
              0.5555555555555556,
              "#d8576b"
             ],
             [
              0.6666666666666666,
              "#ed7953"
             ],
             [
              0.7777777777777778,
              "#fb9f3a"
             ],
             [
              0.8888888888888888,
              "#fdca26"
             ],
             [
              1,
              "#f0f921"
             ]
            ],
            "type": "heatmap"
           }
          ],
          "heatmapgl": [
           {
            "colorbar": {
             "outlinewidth": 0,
             "ticks": ""
            },
            "colorscale": [
             [
              0,
              "#0d0887"
             ],
             [
              0.1111111111111111,
              "#46039f"
             ],
             [
              0.2222222222222222,
              "#7201a8"
             ],
             [
              0.3333333333333333,
              "#9c179e"
             ],
             [
              0.4444444444444444,
              "#bd3786"
             ],
             [
              0.5555555555555556,
              "#d8576b"
             ],
             [
              0.6666666666666666,
              "#ed7953"
             ],
             [
              0.7777777777777778,
              "#fb9f3a"
             ],
             [
              0.8888888888888888,
              "#fdca26"
             ],
             [
              1,
              "#f0f921"
             ]
            ],
            "type": "heatmapgl"
           }
          ],
          "histogram": [
           {
            "marker": {
             "pattern": {
              "fillmode": "overlay",
              "size": 10,
              "solidity": 0.2
             }
            },
            "type": "histogram"
           }
          ],
          "histogram2d": [
           {
            "colorbar": {
             "outlinewidth": 0,
             "ticks": ""
            },
            "colorscale": [
             [
              0,
              "#0d0887"
             ],
             [
              0.1111111111111111,
              "#46039f"
             ],
             [
              0.2222222222222222,
              "#7201a8"
             ],
             [
              0.3333333333333333,
              "#9c179e"
             ],
             [
              0.4444444444444444,
              "#bd3786"
             ],
             [
              0.5555555555555556,
              "#d8576b"
             ],
             [
              0.6666666666666666,
              "#ed7953"
             ],
             [
              0.7777777777777778,
              "#fb9f3a"
             ],
             [
              0.8888888888888888,
              "#fdca26"
             ],
             [
              1,
              "#f0f921"
             ]
            ],
            "type": "histogram2d"
           }
          ],
          "histogram2dcontour": [
           {
            "colorbar": {
             "outlinewidth": 0,
             "ticks": ""
            },
            "colorscale": [
             [
              0,
              "#0d0887"
             ],
             [
              0.1111111111111111,
              "#46039f"
             ],
             [
              0.2222222222222222,
              "#7201a8"
             ],
             [
              0.3333333333333333,
              "#9c179e"
             ],
             [
              0.4444444444444444,
              "#bd3786"
             ],
             [
              0.5555555555555556,
              "#d8576b"
             ],
             [
              0.6666666666666666,
              "#ed7953"
             ],
             [
              0.7777777777777778,
              "#fb9f3a"
             ],
             [
              0.8888888888888888,
              "#fdca26"
             ],
             [
              1,
              "#f0f921"
             ]
            ],
            "type": "histogram2dcontour"
           }
          ],
          "mesh3d": [
           {
            "colorbar": {
             "outlinewidth": 0,
             "ticks": ""
            },
            "type": "mesh3d"
           }
          ],
          "parcoords": [
           {
            "line": {
             "colorbar": {
              "outlinewidth": 0,
              "ticks": ""
             }
            },
            "type": "parcoords"
           }
          ],
          "pie": [
           {
            "automargin": true,
            "type": "pie"
           }
          ],
          "scatter": [
           {
            "fillpattern": {
             "fillmode": "overlay",
             "size": 10,
             "solidity": 0.2
            },
            "type": "scatter"
           }
          ],
          "scatter3d": [
           {
            "line": {
             "colorbar": {
              "outlinewidth": 0,
              "ticks": ""
             }
            },
            "marker": {
             "colorbar": {
              "outlinewidth": 0,
              "ticks": ""
             }
            },
            "type": "scatter3d"
           }
          ],
          "scattercarpet": [
           {
            "marker": {
             "colorbar": {
              "outlinewidth": 0,
              "ticks": ""
             }
            },
            "type": "scattercarpet"
           }
          ],
          "scattergeo": [
           {
            "marker": {
             "colorbar": {
              "outlinewidth": 0,
              "ticks": ""
             }
            },
            "type": "scattergeo"
           }
          ],
          "scattergl": [
           {
            "marker": {
             "colorbar": {
              "outlinewidth": 0,
              "ticks": ""
             }
            },
            "type": "scattergl"
           }
          ],
          "scattermapbox": [
           {
            "marker": {
             "colorbar": {
              "outlinewidth": 0,
              "ticks": ""
             }
            },
            "type": "scattermapbox"
           }
          ],
          "scatterpolar": [
           {
            "marker": {
             "colorbar": {
              "outlinewidth": 0,
              "ticks": ""
             }
            },
            "type": "scatterpolar"
           }
          ],
          "scatterpolargl": [
           {
            "marker": {
             "colorbar": {
              "outlinewidth": 0,
              "ticks": ""
             }
            },
            "type": "scatterpolargl"
           }
          ],
          "scatterternary": [
           {
            "marker": {
             "colorbar": {
              "outlinewidth": 0,
              "ticks": ""
             }
            },
            "type": "scatterternary"
           }
          ],
          "surface": [
           {
            "colorbar": {
             "outlinewidth": 0,
             "ticks": ""
            },
            "colorscale": [
             [
              0,
              "#0d0887"
             ],
             [
              0.1111111111111111,
              "#46039f"
             ],
             [
              0.2222222222222222,
              "#7201a8"
             ],
             [
              0.3333333333333333,
              "#9c179e"
             ],
             [
              0.4444444444444444,
              "#bd3786"
             ],
             [
              0.5555555555555556,
              "#d8576b"
             ],
             [
              0.6666666666666666,
              "#ed7953"
             ],
             [
              0.7777777777777778,
              "#fb9f3a"
             ],
             [
              0.8888888888888888,
              "#fdca26"
             ],
             [
              1,
              "#f0f921"
             ]
            ],
            "type": "surface"
           }
          ],
          "table": [
           {
            "cells": {
             "fill": {
              "color": "#EBF0F8"
             },
             "line": {
              "color": "white"
             }
            },
            "header": {
             "fill": {
              "color": "#C8D4E3"
             },
             "line": {
              "color": "white"
             }
            },
            "type": "table"
           }
          ]
         },
         "layout": {
          "annotationdefaults": {
           "arrowcolor": "#2a3f5f",
           "arrowhead": 0,
           "arrowwidth": 1
          },
          "autotypenumbers": "strict",
          "coloraxis": {
           "colorbar": {
            "outlinewidth": 0,
            "ticks": ""
           }
          },
          "colorscale": {
           "diverging": [
            [
             0,
             "#8e0152"
            ],
            [
             0.1,
             "#c51b7d"
            ],
            [
             0.2,
             "#de77ae"
            ],
            [
             0.3,
             "#f1b6da"
            ],
            [
             0.4,
             "#fde0ef"
            ],
            [
             0.5,
             "#f7f7f7"
            ],
            [
             0.6,
             "#e6f5d0"
            ],
            [
             0.7,
             "#b8e186"
            ],
            [
             0.8,
             "#7fbc41"
            ],
            [
             0.9,
             "#4d9221"
            ],
            [
             1,
             "#276419"
            ]
           ],
           "sequential": [
            [
             0,
             "#0d0887"
            ],
            [
             0.1111111111111111,
             "#46039f"
            ],
            [
             0.2222222222222222,
             "#7201a8"
            ],
            [
             0.3333333333333333,
             "#9c179e"
            ],
            [
             0.4444444444444444,
             "#bd3786"
            ],
            [
             0.5555555555555556,
             "#d8576b"
            ],
            [
             0.6666666666666666,
             "#ed7953"
            ],
            [
             0.7777777777777778,
             "#fb9f3a"
            ],
            [
             0.8888888888888888,
             "#fdca26"
            ],
            [
             1,
             "#f0f921"
            ]
           ],
           "sequentialminus": [
            [
             0,
             "#0d0887"
            ],
            [
             0.1111111111111111,
             "#46039f"
            ],
            [
             0.2222222222222222,
             "#7201a8"
            ],
            [
             0.3333333333333333,
             "#9c179e"
            ],
            [
             0.4444444444444444,
             "#bd3786"
            ],
            [
             0.5555555555555556,
             "#d8576b"
            ],
            [
             0.6666666666666666,
             "#ed7953"
            ],
            [
             0.7777777777777778,
             "#fb9f3a"
            ],
            [
             0.8888888888888888,
             "#fdca26"
            ],
            [
             1,
             "#f0f921"
            ]
           ]
          },
          "colorway": [
           "#636efa",
           "#EF553B",
           "#00cc96",
           "#ab63fa",
           "#FFA15A",
           "#19d3f3",
           "#FF6692",
           "#B6E880",
           "#FF97FF",
           "#FECB52"
          ],
          "font": {
           "color": "#2a3f5f"
          },
          "geo": {
           "bgcolor": "white",
           "lakecolor": "white",
           "landcolor": "#E5ECF6",
           "showlakes": true,
           "showland": true,
           "subunitcolor": "white"
          },
          "hoverlabel": {
           "align": "left"
          },
          "hovermode": "closest",
          "mapbox": {
           "style": "light"
          },
          "paper_bgcolor": "white",
          "plot_bgcolor": "#E5ECF6",
          "polar": {
           "angularaxis": {
            "gridcolor": "white",
            "linecolor": "white",
            "ticks": ""
           },
           "bgcolor": "#E5ECF6",
           "radialaxis": {
            "gridcolor": "white",
            "linecolor": "white",
            "ticks": ""
           }
          },
          "scene": {
           "xaxis": {
            "backgroundcolor": "#E5ECF6",
            "gridcolor": "white",
            "gridwidth": 2,
            "linecolor": "white",
            "showbackground": true,
            "ticks": "",
            "zerolinecolor": "white"
           },
           "yaxis": {
            "backgroundcolor": "#E5ECF6",
            "gridcolor": "white",
            "gridwidth": 2,
            "linecolor": "white",
            "showbackground": true,
            "ticks": "",
            "zerolinecolor": "white"
           },
           "zaxis": {
            "backgroundcolor": "#E5ECF6",
            "gridcolor": "white",
            "gridwidth": 2,
            "linecolor": "white",
            "showbackground": true,
            "ticks": "",
            "zerolinecolor": "white"
           }
          },
          "shapedefaults": {
           "line": {
            "color": "#2a3f5f"
           }
          },
          "ternary": {
           "aaxis": {
            "gridcolor": "white",
            "linecolor": "white",
            "ticks": ""
           },
           "baxis": {
            "gridcolor": "white",
            "linecolor": "white",
            "ticks": ""
           },
           "bgcolor": "#E5ECF6",
           "caxis": {
            "gridcolor": "white",
            "linecolor": "white",
            "ticks": ""
           }
          },
          "title": {
           "x": 0.05
          },
          "xaxis": {
           "automargin": true,
           "gridcolor": "white",
           "linecolor": "white",
           "ticks": "",
           "title": {
            "standoff": 15
           },
           "zerolinecolor": "white",
           "zerolinewidth": 2
          },
          "yaxis": {
           "automargin": true,
           "gridcolor": "white",
           "linecolor": "white",
           "ticks": "",
           "title": {
            "standoff": 15
           },
           "zerolinecolor": "white",
           "zerolinewidth": 2
          }
         }
        },
        "title": {
         "text": "Interactions for H_seed234_model_0"
        },
        "width": 1600,
        "xaxis": {
         "anchor": "y",
         "domain": [
          0,
          1
         ],
         "dtick": 20,
         "range": [
          0,
          600
         ],
         "title": {
          "text": "Residue Index"
         }
        },
        "yaxis": {
         "anchor": "x",
         "domain": [
          0,
          1
         ],
         "range": [
          0.1,
          5
         ],
         "title": {
          "text": "Distance (angstroms)"
         }
        }
       }
      }
     },
     "metadata": {},
     "output_type": "display_data"
    },
    {
     "data": {
      "application/vnd.plotly.v1+json": {
       "config": {
        "plotlyServerURL": "https://plot.ly"
       },
       "data": [
        {
         "customdata": [
          [
           348,
           "L"
          ],
          [
           338,
           "E"
          ],
          [
           354,
           "E"
          ],
          [
           463,
           "E"
          ],
          [
           470,
           "E"
          ],
          [
           472,
           "E"
          ],
          [
           491,
           "D"
          ],
          [
           528,
           "L"
          ],
          [
           535,
           "S"
          ],
          [
           552,
           "E"
          ],
          [
           578,
           "L"
          ]
         ],
         "hovertemplate": "Interacting Chain=kinesin B<br>aa_classification=positively charged<br>Residue Index=%{x}<br>Distance (angstroms)=%{y}<br>residue_one_letter=%{text}<br>interacting_resinumber=%{customdata[0]}<br>interactingresi_oneletter=%{customdata[1]}<extra></extra>",
         "legendgroup": "kinesin B, positively charged",
         "marker": {
          "color": "#1f77b4",
          "opacity": 0.6,
          "size": 10,
          "symbol": "triangle-up"
         },
         "mode": "markers+text",
         "name": "kinesin B, positively charged",
         "orientation": "v",
         "showlegend": true,
         "text": [
          "R",
          "K",
          "K",
          "K",
          "K",
          "K",
          "K",
          "K",
          "R",
          "K",
          "R"
         ],
         "textposition": "top center",
         "type": "scatter",
         "x": [
          339,
          345,
          359,
          458,
          469,
          473,
          490,
          529,
          536,
          557,
          566
         ],
         "xaxis": "x",
         "y": [
          3.5917012691497803,
          3.090962648391724,
          2.6405375003814697,
          2.8486783504486084,
          1.934086322784424,
          2.470982789993286,
          2.5283126831054688,
          3.8436954021453857,
          3.4353690147399902,
          2.8325328826904297,
          2.4475934505462646
         ],
         "yaxis": "y"
        },
        {
         "customdata": [
          [
           344,
           "L"
          ],
          [
           341,
           "A"
          ],
          [
           348,
           "L"
          ],
          [
           348,
           "L"
          ],
          [
           355,
           "I"
          ],
          [
           355,
           "I"
          ],
          [
           362,
           "I"
          ],
          [
           362,
           "I"
          ],
          [
           371,
           "V"
          ],
          [
           376,
           "L"
          ],
          [
           365,
           "L"
          ],
          [
           364,
           "E"
          ],
          [
           368,
           "V"
          ],
          [
           452,
           "I"
          ],
          [
           452,
           "I"
          ],
          [
           459,
           "C"
          ],
          [
           466,
           "L"
          ],
          [
           466,
           "L"
          ],
          [
           480,
           "L"
          ],
          [
           476,
           "I"
          ],
          [
           483,
           "Q"
          ],
          [
           490,
           "K"
          ],
          [
           494,
           "I"
          ],
          [
           501,
           "I"
          ],
          [
           501,
           "I"
          ],
          [
           497,
           "L"
          ],
          [
           508,
           "N"
          ],
          [
           511,
           "Y"
          ],
          [
           518,
           "N"
          ],
          [
           528,
           "L"
          ],
          [
           525,
           "L"
          ],
          [
           532,
           "L"
          ],
          [
           532,
           "L"
          ],
          [
           542,
           "Q"
          ],
          [
           546,
           "I"
          ],
          [
           550,
           "N"
          ],
          [
           553,
           "N"
          ],
          [
           560,
           "L"
          ],
          [
           567,
           "I"
          ],
          [
           563,
           "L"
          ],
          [
           575,
           "I"
          ],
          [
           566,
           "R"
          ],
          [
           566,
           "R"
          ]
         ],
         "hovertemplate": "Interacting Chain=kinesin B<br>aa_classification=nonpolar<br>Residue Index=%{x}<br>Distance (angstroms)=%{y}<br>residue_one_letter=%{text}<br>interacting_resinumber=%{customdata[0]}<br>interactingresi_oneletter=%{customdata[1]}<extra></extra>",
         "legendgroup": "kinesin B, nonpolar",
         "marker": {
          "color": "#1f77b4",
          "opacity": 0.6,
          "size": 10,
          "symbol": "circle"
         },
         "mode": "markers+text",
         "name": "kinesin B, nonpolar",
         "orientation": "v",
         "showlegend": true,
         "text": [
          "A",
          "L",
          "L",
          "L",
          "A",
          "I",
          "L",
          "I",
          "L",
          "V",
          "V",
          "V",
          "L",
          "L",
          "I",
          "L",
          "L",
          "L",
          "I",
          "L",
          "L",
          "I",
          "I",
          "L",
          "M",
          "I",
          "I",
          "L",
          "L",
          "L",
          "L",
          "A",
          "L",
          "A",
          "I",
          "L",
          "I",
          "L",
          "L",
          "I",
          "I",
          "L",
          "P"
         ],
         "textposition": "top center",
         "type": "scatter",
         "x": [
          341,
          344,
          347,
          348,
          351,
          355,
          358,
          362,
          365,
          368,
          371,
          373,
          376,
          451,
          452,
          455,
          462,
          466,
          476,
          477,
          480,
          487,
          494,
          497,
          500,
          501,
          507,
          510,
          521,
          525,
          528,
          531,
          532,
          539,
          546,
          549,
          556,
          560,
          563,
          567,
          575,
          578,
          580
         ],
         "xaxis": "x",
         "y": [
          3.580293655395508,
          3.455390214920044,
          3.6555252075195312,
          3.62956166267395,
          3.575115442276001,
          3.474004030227661,
          3.3695547580718994,
          3.344237804412842,
          3.082409620285034,
          3.2599527835845947,
          2.9976131916046143,
          3.4604833126068115,
          2.8251211643218994,
          3.9099433422088623,
          3.659841299057007,
          3.8273849487304688,
          3.529200315475464,
          3.201150417327881,
          3.269319534301758,
          4.092303276062012,
          3.1975011825561523,
          2.875403881072998,
          3.5279500484466557,
          2.987821340560913,
          3.8634443283081055,
          2.899881601333618,
          3.394876480102539,
          3.49258804321289,
          2.6182587146759038,
          3.5178451538085938,
          3.52988862991333,
          3.213871955871582,
          3.06752610206604,
          2.674682140350342,
          3.389035701751709,
          3.188916683197021,
          3.200942277908325,
          3.464394807815552,
          3.3661553859710693,
          3.47559118270874,
          1.9681713581085205,
          2.7721822261810303,
          4.059558868408203
         ],
         "yaxis": "y"
        },
        {
         "customdata": [
          [
           366,
           "E"
          ],
          [
           369,
           "S"
          ],
          [
           471,
           "E"
          ],
          [
           471,
           "E"
          ],
          [
           467,
           "F"
          ],
          [
           448,
           "D"
          ],
          [
           444,
           "T"
          ],
          [
           455,
           "L"
          ],
          [
           459,
           "C"
          ],
          [
           466,
           "L"
          ],
          [
           480,
           "L"
          ],
          [
           484,
           "Q"
          ],
          [
           483,
           "Q"
          ],
          [
           487,
           "I"
          ],
          [
           497,
           "L"
          ],
          [
           504,
           "S"
          ],
          [
           507,
           "I"
          ],
          [
           510,
           "L"
          ],
          [
           514,
           "S"
          ],
          [
           514,
           "S"
          ],
          [
           518,
           "N"
          ],
          [
           521,
           "L"
          ],
          [
           525,
           "L"
          ],
          [
           535,
           "S"
          ],
          [
           539,
           "A"
          ],
          [
           542,
           "Q"
          ],
          [
           546,
           "I"
          ],
          [
           549,
           "L"
          ],
          [
           553,
           "N"
          ],
          [
           560,
           "L"
          ],
          [
           575,
           "I"
          ]
         ],
         "hovertemplate": "Interacting Chain=kinesin B<br>aa_classification=polar uncharged<br>Residue Index=%{x}<br>Distance (angstroms)=%{y}<br>residue_one_letter=%{text}<br>interacting_resinumber=%{customdata[0]}<br>interactingresi_oneletter=%{customdata[1]}<extra></extra>",
         "legendgroup": "kinesin B, polar uncharged",
         "marker": {
          "color": "#1f77b4",
          "opacity": 0.6,
          "size": 10,
          "symbol": "square"
         },
         "mode": "markers+text",
         "name": "kinesin B, polar uncharged",
         "orientation": "v",
         "showlegend": true,
         "text": [
          "Y",
          "S",
          "T",
          "S",
          "N",
          "T",
          "S",
          "Q",
          "C",
          "Q",
          "Q",
          "Q",
          "Q",
          "Q",
          "N",
          "S",
          "N",
          "Y",
          "S",
          "T",
          "N",
          "N",
          "Q",
          "S",
          "Q",
          "S",
          "T",
          "N",
          "N",
          "Q",
          "S"
         ],
         "textposition": "top center",
         "type": "scatter",
         "x": [
          361,
          369,
          372,
          374,
          375,
          444,
          445,
          456,
          459,
          465,
          479,
          483,
          484,
          486,
          498,
          504,
          508,
          511,
          514,
          515,
          518,
          522,
          524,
          535,
          542,
          543,
          545,
          550,
          553,
          559,
          570
         ],
         "xaxis": "x",
         "y": [
          2.97360634803772,
          3.348865032196045,
          2.63205623626709,
          2.889856338500977,
          2.717299699783325,
          2.10310435295105,
          4.015469074249268,
          4.039853572845459,
          2.985987901687622,
          3.462632894515991,
          3.827762126922608,
          2.963418483734131,
          2.966171264648437,
          3.665132522583008,
          3.331878423690796,
          2.576387643814087,
          2.7775862216949463,
          3.3107917308807373,
          2.85386061668396,
          3.5967931747436523,
          2.5624496936798096,
          3.242360830307007,
          3.7854371070861816,
          2.8212344646453857,
          2.6829843521118164,
          3.7692925930023193,
          4.127341270446777,
          3.2244350910186768,
          2.7341396808624268,
          4.066070556640625,
          4.46532154083252
         ],
         "yaxis": "y"
        },
        {
         "customdata": [
          [
           345,
           "K"
          ],
          [
           359,
           "K"
          ],
          [
           373,
           "V"
          ],
          [
           361,
           "Y"
          ],
          [
           444,
           "T"
          ],
          [
           458,
           "K"
          ],
          [
           469,
           "K"
          ],
          [
           473,
           "K"
          ],
          [
           490,
           "K"
          ],
          [
           494,
           "I"
          ],
          [
           518,
           "N"
          ],
          [
           542,
           "Q"
          ],
          [
           557,
           "K"
          ],
          [
           572,
           "D"
          ]
         ],
         "hovertemplate": "Interacting Chain=kinesin B<br>aa_classification=negatively charged<br>Residue Index=%{x}<br>Distance (angstroms)=%{y}<br>residue_one_letter=%{text}<br>interacting_resinumber=%{customdata[0]}<br>interactingresi_oneletter=%{customdata[1]}<extra></extra>",
         "legendgroup": "kinesin B, negatively charged",
         "marker": {
          "color": "#1f77b4",
          "opacity": 0.6,
          "size": 10,
          "symbol": "triangle-down"
         },
         "mode": "markers+text",
         "name": "kinesin B, negatively charged",
         "orientation": "v",
         "showlegend": true,
         "text": [
          "E",
          "E",
          "E",
          "E",
          "D",
          "E",
          "E",
          "E",
          "D",
          "E",
          "E",
          "E",
          "E",
          "D"
         ],
         "textposition": "top center",
         "type": "scatter",
         "x": [
          338,
          354,
          364,
          366,
          448,
          463,
          470,
          472,
          491,
          493,
          517,
          538,
          552,
          572
         ],
         "xaxis": "x",
         "y": [
          3.901187896728516,
          2.8323917388916016,
          3.8954131603240967,
          3.1120541095733643,
          2.68505334854126,
          2.753756523132324,
          1.9547291994094849,
          2.526245594024658,
          2.576995611190796,
          3.547128438949585,
          3.5189015865325928,
          4.492117404937744,
          2.837899208068848,
          4.137749195098877
         ],
         "yaxis": "y"
        },
        {
         "customdata": [
          [
           420,
           "E"
          ],
          [
           109,
           "T"
          ],
          [
           409,
           "V"
          ],
          [
           423,
           "E"
          ]
         ],
         "hovertemplate": "Interacting Chain=alpha-tubulin<br>aa_classification=positively charged<br>Residue Index=%{x}<br>Distance (angstroms)=%{y}<br>residue_one_letter=%{text}<br>interacting_resinumber=%{customdata[0]}<br>interactingresi_oneletter=%{customdata[1]}<extra></extra>",
         "legendgroup": "alpha-tubulin, positively charged",
         "marker": {
          "color": "#ff7f0e",
          "opacity": 0.6,
          "size": 10,
          "symbol": "triangle-up"
         },
         "mode": "markers+text",
         "name": "alpha-tubulin, positively charged",
         "orientation": "v",
         "showlegend": true,
         "text": [
          "K",
          "K",
          "K",
          "R"
         ],
         "textposition": "top center",
         "type": "scatter",
         "x": [
          240,
          255,
          259,
          321
         ],
         "xaxis": "x",
         "y": [
          2.4678502082824707,
          3.268242120742798,
          3.330797910690308,
          3.004775285720825
         ],
         "yaxis": "y"
        },
        {
         "customdata": [
          [
           412,
           "G"
          ],
          [
           112,
           "K"
          ],
          [
           108,
           "Y"
          ],
          [
           420,
           "E"
          ]
         ],
         "hovertemplate": "Interacting Chain=alpha-tubulin<br>aa_classification=nonpolar<br>Residue Index=%{x}<br>Distance (angstroms)=%{y}<br>residue_one_letter=%{text}<br>interacting_resinumber=%{customdata[0]}<br>interactingresi_oneletter=%{customdata[1]}<extra></extra>",
         "legendgroup": "alpha-tubulin, nonpolar",
         "marker": {
          "color": "#ff7f0e",
          "opacity": 0.6,
          "size": 10,
          "symbol": "circle"
         },
         "mode": "markers+text",
         "name": "alpha-tubulin, nonpolar",
         "orientation": "v",
         "showlegend": true,
         "text": [
          "I",
          "A",
          "L",
          "A"
         ],
         "textposition": "top center",
         "type": "scatter",
         "x": [
          241,
          246,
          251,
          314
         ],
         "xaxis": "x",
         "y": [
          2.9622747898101807,
          3.267995595932007,
          4.472290992736816,
          2.8950135707855225
         ],
         "yaxis": "y"
        },
        {
         "customdata": [
          [
           414,
           "E"
          ],
          [
           112,
           "K"
          ],
          [
           409,
           "V"
          ],
          [
           415,
           "E"
          ],
          [
           402,
           "R"
          ]
         ],
         "hovertemplate": "Interacting Chain=alpha-tubulin<br>aa_classification=polar uncharged<br>Residue Index=%{x}<br>Distance (angstroms)=%{y}<br>residue_one_letter=%{text}<br>interacting_resinumber=%{customdata[0]}<br>interactingresi_oneletter=%{customdata[1]}<extra></extra>",
         "legendgroup": "alpha-tubulin, polar uncharged",
         "marker": {
          "color": "#ff7f0e",
          "opacity": 0.6,
          "size": 10,
          "symbol": "square"
         },
         "mode": "markers+text",
         "name": "alpha-tubulin, polar uncharged",
         "orientation": "v",
         "showlegend": true,
         "text": [
          "S",
          "Q",
          "N",
          "S",
          "N"
         ],
         "textposition": "top center",
         "type": "scatter",
         "x": [
          238,
          247,
          258,
          262,
          266
         ],
         "xaxis": "x",
         "y": [
          2.9382948875427246,
          4.166892051696777,
          3.3795483112335205,
          2.45443058013916,
          3.4683074951171875
         ],
         "yaxis": "y"
        },
        {
         "customdata": [
          [
           414,
           "E"
          ],
          [
           414,
           "E"
          ]
         ],
         "hovertemplate": "Interacting Chain=alpha-tubulin<br>aa_classification=negatively charged<br>Residue Index=%{x}<br>Distance (angstroms)=%{y}<br>residue_one_letter=%{text}<br>interacting_resinumber=%{customdata[0]}<br>interactingresi_oneletter=%{customdata[1]}<extra></extra>",
         "legendgroup": "alpha-tubulin, negatively charged",
         "marker": {
          "color": "#ff7f0e",
          "opacity": 0.6,
          "size": 10,
          "symbol": "triangle-down"
         },
         "mode": "markers+text",
         "name": "alpha-tubulin, negatively charged",
         "orientation": "v",
         "showlegend": true,
         "text": [
          "E",
          "E"
         ],
         "textposition": "top center",
         "type": "scatter",
         "x": [
          239,
          315
         ],
         "xaxis": "x",
         "y": [
          4.075780868530273,
          4.331581115722656
         ],
         "yaxis": "y"
        },
        {
         "customdata": [
          [
           444,
           "E"
          ],
          [
           157,
           "E"
          ],
          [
           407,
           "E"
          ],
          [
           404,
           "D"
          ],
          [
           435,
           "E"
          ],
          [
           417,
           "D"
          ],
          [
           417,
           "D"
          ],
          [
           194,
           "E"
          ],
          [
           410,
           "E"
          ]
         ],
         "hovertemplate": "Interacting Chain=beta-tubulin<br>aa_classification=positively charged<br>Residue Index=%{x}<br>Distance (angstroms)=%{y}<br>residue_one_letter=%{text}<br>interacting_resinumber=%{customdata[0]}<br>interactingresi_oneletter=%{customdata[1]}<extra></extra>",
         "legendgroup": "beta-tubulin, positively charged",
         "marker": {
          "color": "#2ca02c",
          "opacity": 0.6,
          "size": 10,
          "symbol": "triangle-up"
         },
         "mode": "markers+text",
         "name": "beta-tubulin, positively charged",
         "orientation": "v",
         "showlegend": true,
         "text": [
          "H",
          "R",
          "K",
          "R",
          "K",
          "H",
          "R",
          "K",
          "R"
         ],
         "textposition": "top center",
         "type": "scatter",
         "x": [
          44,
          144,
          157,
          159,
          275,
          278,
          282,
          285,
          288
         ],
         "xaxis": "x",
         "y": [
          4.278652191162109,
          2.7510786056518555,
          2.731092691421509,
          2.705620527267456,
          2.9821126461029053,
          3.2899045944213867,
          2.483647108078003,
          3.0606484413146973,
          2.949527740478516
         ],
         "yaxis": "y"
        },
        {
         "customdata": [
          [
           410,
           "E"
          ],
          [
           406,
           "M"
          ],
          [
           391,
           "R"
          ]
         ],
         "hovertemplate": "Interacting Chain=beta-tubulin<br>aa_classification=nonpolar<br>Residue Index=%{x}<br>Distance (angstroms)=%{y}<br>residue_one_letter=%{text}<br>interacting_resinumber=%{customdata[0]}<br>interactingresi_oneletter=%{customdata[1]}<extra></extra>",
         "legendgroup": "beta-tubulin, nonpolar",
         "marker": {
          "color": "#2ca02c",
          "opacity": 0.6,
          "size": 10,
          "symbol": "circle"
         },
         "mode": "markers+text",
         "name": "beta-tubulin, nonpolar",
         "orientation": "v",
         "showlegend": true,
         "text": [
          "V",
          "W",
          "I"
         ],
         "textposition": "top center",
         "type": "scatter",
         "x": [
          158,
          167,
          494
         ],
         "xaxis": "x",
         "y": [
          3.989523410797119,
          3.641382932662964,
          3.839475154876709
         ],
         "yaxis": "y"
        },
        {
         "customdata": [
          [
           436,
           "F"
          ],
          [
           424,
           "Q"
          ],
          [
           424,
           "Q"
          ],
          [
           391,
           "R"
          ],
          [
           394,
           "F"
          ],
          [
           394,
           "F"
          ],
          [
           397,
           "W"
          ],
          [
           396,
           "H"
          ],
          [
           397,
           "W"
          ],
          [
           397,
           "W"
          ]
         ],
         "hovertemplate": "Interacting Chain=beta-tubulin<br>aa_classification=polar uncharged<br>Residue Index=%{x}<br>Distance (angstroms)=%{y}<br>residue_one_letter=%{text}<br>interacting_resinumber=%{customdata[0]}<br>interactingresi_oneletter=%{customdata[1]}<extra></extra>",
         "legendgroup": "beta-tubulin, polar uncharged",
         "marker": {
          "color": "#2ca02c",
          "opacity": 0.6,
          "size": 10,
          "symbol": "square"
         },
         "mode": "markers+text",
         "name": "beta-tubulin, polar uncharged",
         "orientation": "v",
         "showlegend": true,
         "text": [
          "T",
          "S",
          "T",
          "N",
          "S",
          "N",
          "N",
          "S",
          "Y",
          "Q"
         ],
         "textposition": "top center",
         "type": "scatter",
         "x": [
          272,
          276,
          277,
          498,
          504,
          505,
          508,
          509,
          511,
          512
         ],
         "xaxis": "x",
         "y": [
          4.080036640167236,
          3.314016580581665,
          2.5572566986083984,
          2.4703195095062256,
          3.969382286071777,
          3.502995014190674,
          2.468597888946533,
          3.622967958450317,
          2.5892791748046875,
          2.841282367706299
         ],
         "yaxis": "y"
        },
        {
         "customdata": [
          [
           413,
           "S"
          ],
          [
           406,
           "M"
          ],
          [
           436,
           "F"
          ],
          [
           262,
           "R"
          ]
         ],
         "hovertemplate": "Interacting Chain=beta-tubulin<br>aa_classification=negatively charged<br>Residue Index=%{x}<br>Distance (angstroms)=%{y}<br>residue_one_letter=%{text}<br>interacting_resinumber=%{customdata[0]}<br>interactingresi_oneletter=%{customdata[1]}<extra></extra>",
         "legendgroup": "beta-tubulin, negatively charged",
         "marker": {
          "color": "#2ca02c",
          "opacity": 0.6,
          "size": 10,
          "symbol": "triangle-down"
         },
         "mode": "markers+text",
         "name": "beta-tubulin, negatively charged",
         "orientation": "v",
         "showlegend": true,
         "text": [
          "E",
          "E",
          "D",
          "D"
         ],
         "textposition": "top center",
         "type": "scatter",
         "x": [
          160,
          169,
          273,
          283
         ],
         "xaxis": "x",
         "y": [
          2.9031012058258057,
          3.1361680030822754,
          3.4553375244140625,
          3.110001802444458
         ],
         "yaxis": "y"
        },
        {
         "customdata": [
          [
           1,
           "?"
          ],
          [
           1,
           "?"
          ],
          [
           1,
           "?"
          ]
         ],
         "hovertemplate": "Interacting Chain=ATP<br>aa_classification=positively charged<br>Residue Index=%{x}<br>Distance (angstroms)=%{y}<br>residue_one_letter=%{text}<br>interacting_resinumber=%{customdata[0]}<br>interactingresi_oneletter=%{customdata[1]}<extra></extra>",
         "legendgroup": "ATP, positively charged",
         "marker": {
          "color": "#d62728",
          "opacity": 0.6,
          "size": 10,
          "symbol": "triangle-up"
         },
         "mode": "markers+text",
         "name": "ATP, positively charged",
         "orientation": "v",
         "showlegend": true,
         "text": [
          "R",
          "R",
          "K"
         ],
         "textposition": "top center",
         "type": "scatter",
         "x": [
          9,
          11,
          91
         ],
         "xaxis": "x",
         "y": [
          3.9198899269104,
          3.622137308120728,
          2.7578866481781006
         ],
         "yaxis": "y"
        },
        {
         "customdata": [
          [
           1,
           "?"
          ],
          [
           1,
           "?"
          ],
          [
           1,
           "?"
          ],
          [
           1,
           "?"
          ],
          [
           1,
           "?"
          ],
          [
           1,
           "?"
          ]
         ],
         "hovertemplate": "Interacting Chain=ATP<br>aa_classification=nonpolar<br>Residue Index=%{x}<br>Distance (angstroms)=%{y}<br>residue_one_letter=%{text}<br>interacting_resinumber=%{customdata[0]}<br>interactingresi_oneletter=%{customdata[1]}<extra></extra>",
         "legendgroup": "ATP, nonpolar",
         "marker": {
          "color": "#d62728",
          "opacity": 0.6,
          "size": 10,
          "symbol": "circle"
         },
         "mode": "markers+text",
         "name": "ATP, nonpolar",
         "orientation": "v",
         "showlegend": true,
         "text": [
          "P",
          "G",
          "G",
          "F",
          "A",
          "G"
         ],
         "textposition": "top center",
         "type": "scatter",
         "x": [
          12,
          88,
          90,
          93,
          236,
          237
         ],
         "xaxis": "x",
         "y": [
          3.5248446464538574,
          2.7049543857574463,
          2.896007537841797,
          2.85425353050232,
          4.097873210906982,
          3.0597147941589355
         ],
         "yaxis": "y"
        },
        {
         "customdata": [
          [
           1,
           "?"
          ],
          [
           1,
           "?"
          ],
          [
           1,
           "?"
          ],
          [
           1,
           "?"
          ],
          [
           1,
           "?"
          ],
          [
           1,
           "?"
          ],
          [
           1,
           "?"
          ],
          [
           1,
           "?"
          ]
         ],
         "hovertemplate": "Interacting Chain=ATP<br>aa_classification=polar uncharged<br>Residue Index=%{x}<br>Distance (angstroms)=%{y}<br>residue_one_letter=%{text}<br>interacting_resinumber=%{customdata[0]}<br>interactingresi_oneletter=%{customdata[1]}<extra></extra>",
         "legendgroup": "ATP, polar uncharged",
         "marker": {
          "color": "#d62728",
          "opacity": 0.6,
          "size": 10,
          "symbol": "square"
         },
         "mode": "markers+text",
         "name": "ATP, polar uncharged",
         "orientation": "v",
         "showlegend": true,
         "text": [
          "S",
          "Q",
          "T",
          "S",
          "T",
          "N",
          "S",
          "S"
         ],
         "textposition": "top center",
         "type": "scatter",
         "x": [
          54,
          86,
          87,
          89,
          92,
          201,
          204,
          205
         ],
         "xaxis": "x",
         "y": [
          4.465284824371338,
          3.944457054138184,
          2.5110771656036377,
          3.267421007156372,
          2.830521583557129,
          2.909400463104248,
          2.919938325881958,
          2.944504976272583
         ],
         "yaxis": "y"
        },
        {
         "customdata": [
          [
           1,
           "?"
          ]
         ],
         "hovertemplate": "Interacting Chain=ATP<br>aa_classification=negatively charged<br>Residue Index=%{x}<br>Distance (angstroms)=%{y}<br>residue_one_letter=%{text}<br>interacting_resinumber=%{customdata[0]}<br>interactingresi_oneletter=%{customdata[1]}<extra></extra>",
         "legendgroup": "ATP, negatively charged",
         "marker": {
          "color": "#d62728",
          "opacity": 0.6,
          "size": 10,
          "symbol": "triangle-down"
         },
         "mode": "markers+text",
         "name": "ATP, negatively charged",
         "orientation": "v",
         "showlegend": true,
         "text": [
          "E"
         ],
         "textposition": "top center",
         "type": "scatter",
         "x": [
          203
         ],
         "xaxis": "x",
         "y": [
          3.985457420349121
         ],
         "yaxis": "y"
        }
       ],
       "layout": {
        "autosize": false,
        "height": 600,
        "legend": {
         "title": {
          "text": "Interacting Chain"
         },
         "tracegroupgap": 0
        },
        "shapes": [
         {
          "fillcolor": "LightSalmon",
          "layer": "below",
          "line": {
           "width": 0
          },
          "opacity": 0.3,
          "type": "rect",
          "x0": 0,
          "x1": 600,
          "y0": 0,
          "y1": 5
         }
        ],
        "template": {
         "data": {
          "bar": [
           {
            "error_x": {
             "color": "#2a3f5f"
            },
            "error_y": {
             "color": "#2a3f5f"
            },
            "marker": {
             "line": {
              "color": "#E5ECF6",
              "width": 0.5
             },
             "pattern": {
              "fillmode": "overlay",
              "size": 10,
              "solidity": 0.2
             }
            },
            "type": "bar"
           }
          ],
          "barpolar": [
           {
            "marker": {
             "line": {
              "color": "#E5ECF6",
              "width": 0.5
             },
             "pattern": {
              "fillmode": "overlay",
              "size": 10,
              "solidity": 0.2
             }
            },
            "type": "barpolar"
           }
          ],
          "carpet": [
           {
            "aaxis": {
             "endlinecolor": "#2a3f5f",
             "gridcolor": "white",
             "linecolor": "white",
             "minorgridcolor": "white",
             "startlinecolor": "#2a3f5f"
            },
            "baxis": {
             "endlinecolor": "#2a3f5f",
             "gridcolor": "white",
             "linecolor": "white",
             "minorgridcolor": "white",
             "startlinecolor": "#2a3f5f"
            },
            "type": "carpet"
           }
          ],
          "choropleth": [
           {
            "colorbar": {
             "outlinewidth": 0,
             "ticks": ""
            },
            "type": "choropleth"
           }
          ],
          "contour": [
           {
            "colorbar": {
             "outlinewidth": 0,
             "ticks": ""
            },
            "colorscale": [
             [
              0,
              "#0d0887"
             ],
             [
              0.1111111111111111,
              "#46039f"
             ],
             [
              0.2222222222222222,
              "#7201a8"
             ],
             [
              0.3333333333333333,
              "#9c179e"
             ],
             [
              0.4444444444444444,
              "#bd3786"
             ],
             [
              0.5555555555555556,
              "#d8576b"
             ],
             [
              0.6666666666666666,
              "#ed7953"
             ],
             [
              0.7777777777777778,
              "#fb9f3a"
             ],
             [
              0.8888888888888888,
              "#fdca26"
             ],
             [
              1,
              "#f0f921"
             ]
            ],
            "type": "contour"
           }
          ],
          "contourcarpet": [
           {
            "colorbar": {
             "outlinewidth": 0,
             "ticks": ""
            },
            "type": "contourcarpet"
           }
          ],
          "heatmap": [
           {
            "colorbar": {
             "outlinewidth": 0,
             "ticks": ""
            },
            "colorscale": [
             [
              0,
              "#0d0887"
             ],
             [
              0.1111111111111111,
              "#46039f"
             ],
             [
              0.2222222222222222,
              "#7201a8"
             ],
             [
              0.3333333333333333,
              "#9c179e"
             ],
             [
              0.4444444444444444,
              "#bd3786"
             ],
             [
              0.5555555555555556,
              "#d8576b"
             ],
             [
              0.6666666666666666,
              "#ed7953"
             ],
             [
              0.7777777777777778,
              "#fb9f3a"
             ],
             [
              0.8888888888888888,
              "#fdca26"
             ],
             [
              1,
              "#f0f921"
             ]
            ],
            "type": "heatmap"
           }
          ],
          "heatmapgl": [
           {
            "colorbar": {
             "outlinewidth": 0,
             "ticks": ""
            },
            "colorscale": [
             [
              0,
              "#0d0887"
             ],
             [
              0.1111111111111111,
              "#46039f"
             ],
             [
              0.2222222222222222,
              "#7201a8"
             ],
             [
              0.3333333333333333,
              "#9c179e"
             ],
             [
              0.4444444444444444,
              "#bd3786"
             ],
             [
              0.5555555555555556,
              "#d8576b"
             ],
             [
              0.6666666666666666,
              "#ed7953"
             ],
             [
              0.7777777777777778,
              "#fb9f3a"
             ],
             [
              0.8888888888888888,
              "#fdca26"
             ],
             [
              1,
              "#f0f921"
             ]
            ],
            "type": "heatmapgl"
           }
          ],
          "histogram": [
           {
            "marker": {
             "pattern": {
              "fillmode": "overlay",
              "size": 10,
              "solidity": 0.2
             }
            },
            "type": "histogram"
           }
          ],
          "histogram2d": [
           {
            "colorbar": {
             "outlinewidth": 0,
             "ticks": ""
            },
            "colorscale": [
             [
              0,
              "#0d0887"
             ],
             [
              0.1111111111111111,
              "#46039f"
             ],
             [
              0.2222222222222222,
              "#7201a8"
             ],
             [
              0.3333333333333333,
              "#9c179e"
             ],
             [
              0.4444444444444444,
              "#bd3786"
             ],
             [
              0.5555555555555556,
              "#d8576b"
             ],
             [
              0.6666666666666666,
              "#ed7953"
             ],
             [
              0.7777777777777778,
              "#fb9f3a"
             ],
             [
              0.8888888888888888,
              "#fdca26"
             ],
             [
              1,
              "#f0f921"
             ]
            ],
            "type": "histogram2d"
           }
          ],
          "histogram2dcontour": [
           {
            "colorbar": {
             "outlinewidth": 0,
             "ticks": ""
            },
            "colorscale": [
             [
              0,
              "#0d0887"
             ],
             [
              0.1111111111111111,
              "#46039f"
             ],
             [
              0.2222222222222222,
              "#7201a8"
             ],
             [
              0.3333333333333333,
              "#9c179e"
             ],
             [
              0.4444444444444444,
              "#bd3786"
             ],
             [
              0.5555555555555556,
              "#d8576b"
             ],
             [
              0.6666666666666666,
              "#ed7953"
             ],
             [
              0.7777777777777778,
              "#fb9f3a"
             ],
             [
              0.8888888888888888,
              "#fdca26"
             ],
             [
              1,
              "#f0f921"
             ]
            ],
            "type": "histogram2dcontour"
           }
          ],
          "mesh3d": [
           {
            "colorbar": {
             "outlinewidth": 0,
             "ticks": ""
            },
            "type": "mesh3d"
           }
          ],
          "parcoords": [
           {
            "line": {
             "colorbar": {
              "outlinewidth": 0,
              "ticks": ""
             }
            },
            "type": "parcoords"
           }
          ],
          "pie": [
           {
            "automargin": true,
            "type": "pie"
           }
          ],
          "scatter": [
           {
            "fillpattern": {
             "fillmode": "overlay",
             "size": 10,
             "solidity": 0.2
            },
            "type": "scatter"
           }
          ],
          "scatter3d": [
           {
            "line": {
             "colorbar": {
              "outlinewidth": 0,
              "ticks": ""
             }
            },
            "marker": {
             "colorbar": {
              "outlinewidth": 0,
              "ticks": ""
             }
            },
            "type": "scatter3d"
           }
          ],
          "scattercarpet": [
           {
            "marker": {
             "colorbar": {
              "outlinewidth": 0,
              "ticks": ""
             }
            },
            "type": "scattercarpet"
           }
          ],
          "scattergeo": [
           {
            "marker": {
             "colorbar": {
              "outlinewidth": 0,
              "ticks": ""
             }
            },
            "type": "scattergeo"
           }
          ],
          "scattergl": [
           {
            "marker": {
             "colorbar": {
              "outlinewidth": 0,
              "ticks": ""
             }
            },
            "type": "scattergl"
           }
          ],
          "scattermapbox": [
           {
            "marker": {
             "colorbar": {
              "outlinewidth": 0,
              "ticks": ""
             }
            },
            "type": "scattermapbox"
           }
          ],
          "scatterpolar": [
           {
            "marker": {
             "colorbar": {
              "outlinewidth": 0,
              "ticks": ""
             }
            },
            "type": "scatterpolar"
           }
          ],
          "scatterpolargl": [
           {
            "marker": {
             "colorbar": {
              "outlinewidth": 0,
              "ticks": ""
             }
            },
            "type": "scatterpolargl"
           }
          ],
          "scatterternary": [
           {
            "marker": {
             "colorbar": {
              "outlinewidth": 0,
              "ticks": ""
             }
            },
            "type": "scatterternary"
           }
          ],
          "surface": [
           {
            "colorbar": {
             "outlinewidth": 0,
             "ticks": ""
            },
            "colorscale": [
             [
              0,
              "#0d0887"
             ],
             [
              0.1111111111111111,
              "#46039f"
             ],
             [
              0.2222222222222222,
              "#7201a8"
             ],
             [
              0.3333333333333333,
              "#9c179e"
             ],
             [
              0.4444444444444444,
              "#bd3786"
             ],
             [
              0.5555555555555556,
              "#d8576b"
             ],
             [
              0.6666666666666666,
              "#ed7953"
             ],
             [
              0.7777777777777778,
              "#fb9f3a"
             ],
             [
              0.8888888888888888,
              "#fdca26"
             ],
             [
              1,
              "#f0f921"
             ]
            ],
            "type": "surface"
           }
          ],
          "table": [
           {
            "cells": {
             "fill": {
              "color": "#EBF0F8"
             },
             "line": {
              "color": "white"
             }
            },
            "header": {
             "fill": {
              "color": "#C8D4E3"
             },
             "line": {
              "color": "white"
             }
            },
            "type": "table"
           }
          ]
         },
         "layout": {
          "annotationdefaults": {
           "arrowcolor": "#2a3f5f",
           "arrowhead": 0,
           "arrowwidth": 1
          },
          "autotypenumbers": "strict",
          "coloraxis": {
           "colorbar": {
            "outlinewidth": 0,
            "ticks": ""
           }
          },
          "colorscale": {
           "diverging": [
            [
             0,
             "#8e0152"
            ],
            [
             0.1,
             "#c51b7d"
            ],
            [
             0.2,
             "#de77ae"
            ],
            [
             0.3,
             "#f1b6da"
            ],
            [
             0.4,
             "#fde0ef"
            ],
            [
             0.5,
             "#f7f7f7"
            ],
            [
             0.6,
             "#e6f5d0"
            ],
            [
             0.7,
             "#b8e186"
            ],
            [
             0.8,
             "#7fbc41"
            ],
            [
             0.9,
             "#4d9221"
            ],
            [
             1,
             "#276419"
            ]
           ],
           "sequential": [
            [
             0,
             "#0d0887"
            ],
            [
             0.1111111111111111,
             "#46039f"
            ],
            [
             0.2222222222222222,
             "#7201a8"
            ],
            [
             0.3333333333333333,
             "#9c179e"
            ],
            [
             0.4444444444444444,
             "#bd3786"
            ],
            [
             0.5555555555555556,
             "#d8576b"
            ],
            [
             0.6666666666666666,
             "#ed7953"
            ],
            [
             0.7777777777777778,
             "#fb9f3a"
            ],
            [
             0.8888888888888888,
             "#fdca26"
            ],
            [
             1,
             "#f0f921"
            ]
           ],
           "sequentialminus": [
            [
             0,
             "#0d0887"
            ],
            [
             0.1111111111111111,
             "#46039f"
            ],
            [
             0.2222222222222222,
             "#7201a8"
            ],
            [
             0.3333333333333333,
             "#9c179e"
            ],
            [
             0.4444444444444444,
             "#bd3786"
            ],
            [
             0.5555555555555556,
             "#d8576b"
            ],
            [
             0.6666666666666666,
             "#ed7953"
            ],
            [
             0.7777777777777778,
             "#fb9f3a"
            ],
            [
             0.8888888888888888,
             "#fdca26"
            ],
            [
             1,
             "#f0f921"
            ]
           ]
          },
          "colorway": [
           "#636efa",
           "#EF553B",
           "#00cc96",
           "#ab63fa",
           "#FFA15A",
           "#19d3f3",
           "#FF6692",
           "#B6E880",
           "#FF97FF",
           "#FECB52"
          ],
          "font": {
           "color": "#2a3f5f"
          },
          "geo": {
           "bgcolor": "white",
           "lakecolor": "white",
           "landcolor": "#E5ECF6",
           "showlakes": true,
           "showland": true,
           "subunitcolor": "white"
          },
          "hoverlabel": {
           "align": "left"
          },
          "hovermode": "closest",
          "mapbox": {
           "style": "light"
          },
          "paper_bgcolor": "white",
          "plot_bgcolor": "#E5ECF6",
          "polar": {
           "angularaxis": {
            "gridcolor": "white",
            "linecolor": "white",
            "ticks": ""
           },
           "bgcolor": "#E5ECF6",
           "radialaxis": {
            "gridcolor": "white",
            "linecolor": "white",
            "ticks": ""
           }
          },
          "scene": {
           "xaxis": {
            "backgroundcolor": "#E5ECF6",
            "gridcolor": "white",
            "gridwidth": 2,
            "linecolor": "white",
            "showbackground": true,
            "ticks": "",
            "zerolinecolor": "white"
           },
           "yaxis": {
            "backgroundcolor": "#E5ECF6",
            "gridcolor": "white",
            "gridwidth": 2,
            "linecolor": "white",
            "showbackground": true,
            "ticks": "",
            "zerolinecolor": "white"
           },
           "zaxis": {
            "backgroundcolor": "#E5ECF6",
            "gridcolor": "white",
            "gridwidth": 2,
            "linecolor": "white",
            "showbackground": true,
            "ticks": "",
            "zerolinecolor": "white"
           }
          },
          "shapedefaults": {
           "line": {
            "color": "#2a3f5f"
           }
          },
          "ternary": {
           "aaxis": {
            "gridcolor": "white",
            "linecolor": "white",
            "ticks": ""
           },
           "baxis": {
            "gridcolor": "white",
            "linecolor": "white",
            "ticks": ""
           },
           "bgcolor": "#E5ECF6",
           "caxis": {
            "gridcolor": "white",
            "linecolor": "white",
            "ticks": ""
           }
          },
          "title": {
           "x": 0.05
          },
          "xaxis": {
           "automargin": true,
           "gridcolor": "white",
           "linecolor": "white",
           "ticks": "",
           "title": {
            "standoff": 15
           },
           "zerolinecolor": "white",
           "zerolinewidth": 2
          },
          "yaxis": {
           "automargin": true,
           "gridcolor": "white",
           "linecolor": "white",
           "ticks": "",
           "title": {
            "standoff": 15
           },
           "zerolinecolor": "white",
           "zerolinewidth": 2
          }
         }
        },
        "title": {
         "text": "Interactions for H_seed33_model_0"
        },
        "width": 1600,
        "xaxis": {
         "anchor": "y",
         "domain": [
          0,
          1
         ],
         "dtick": 20,
         "range": [
          0,
          600
         ],
         "title": {
          "text": "Residue Index"
         }
        },
        "yaxis": {
         "anchor": "x",
         "domain": [
          0,
          1
         ],
         "range": [
          0.1,
          5
         ],
         "title": {
          "text": "Distance (angstroms)"
         }
        }
       }
      }
     },
     "metadata": {},
     "output_type": "display_data"
    },
    {
     "data": {
      "application/vnd.plotly.v1+json": {
       "config": {
        "plotlyServerURL": "https://plot.ly"
       },
       "data": [
        {
         "customdata": [
          [
           348,
           "L"
          ],
          [
           344,
           "L"
          ],
          [
           354,
           "E"
          ],
          [
           463,
           "E"
          ],
          [
           470,
           "E"
          ],
          [
           472,
           "E"
          ],
          [
           491,
           "D"
          ],
          [
           528,
           "L"
          ],
          [
           535,
           "S"
          ],
          [
           552,
           "E"
          ],
          [
           578,
           "L"
          ]
         ],
         "hovertemplate": "Interacting Chain=kinesin B<br>aa_classification=positively charged<br>Residue Index=%{x}<br>Distance (angstroms)=%{y}<br>residue_one_letter=%{text}<br>interacting_resinumber=%{customdata[0]}<br>interactingresi_oneletter=%{customdata[1]}<extra></extra>",
         "legendgroup": "kinesin B, positively charged",
         "marker": {
          "color": "#1f77b4",
          "opacity": 0.6,
          "size": 10,
          "symbol": "triangle-up"
         },
         "mode": "markers+text",
         "name": "kinesin B, positively charged",
         "orientation": "v",
         "showlegend": true,
         "text": [
          "R",
          "K",
          "K",
          "K",
          "K",
          "K",
          "K",
          "K",
          "R",
          "K",
          "R"
         ],
         "textposition": "top center",
         "type": "scatter",
         "x": [
          339,
          345,
          359,
          458,
          469,
          473,
          490,
          529,
          536,
          557,
          566
         ],
         "xaxis": "x",
         "y": [
          3.1945037841796875,
          3.805188655853272,
          2.574650764465332,
          3.0125906467437744,
          2.7438085079193115,
          2.591538906097412,
          2.419785499572754,
          3.841872930526733,
          3.4570868015289307,
          2.6766223907470703,
          2.7316274642944336
         ],
         "yaxis": "y"
        },
        {
         "customdata": [
          [
           344,
           "L"
          ],
          [
           341,
           "A"
          ],
          [
           348,
           "L"
          ],
          [
           347,
           "L"
          ],
          [
           355,
           "I"
          ],
          [
           355,
           "I"
          ],
          [
           362,
           "I"
          ],
          [
           362,
           "I"
          ],
          [
           371,
           "V"
          ],
          [
           376,
           "L"
          ],
          [
           365,
           "L"
          ],
          [
           364,
           "E"
          ],
          [
           368,
           "V"
          ],
          [
           452,
           "I"
          ],
          [
           452,
           "I"
          ],
          [
           459,
           "C"
          ],
          [
           463,
           "E"
          ],
          [
           466,
           "L"
          ],
          [
           473,
           "K"
          ],
          [
           476,
           "I"
          ],
          [
           483,
           "Q"
          ],
          [
           490,
           "K"
          ],
          [
           493,
           "E"
          ],
          [
           501,
           "I"
          ],
          [
           501,
           "I"
          ],
          [
           497,
           "L"
          ],
          [
           508,
           "N"
          ],
          [
           511,
           "Y"
          ],
          [
           518,
           "N"
          ],
          [
           521,
           "L"
          ],
          [
           532,
           "L"
          ],
          [
           532,
           "L"
          ],
          [
           532,
           "L"
          ],
          [
           542,
           "Q"
          ],
          [
           546,
           "I"
          ],
          [
           550,
           "N"
          ],
          [
           556,
           "I"
          ],
          [
           560,
           "L"
          ],
          [
           567,
           "I"
          ],
          [
           563,
           "L"
          ],
          [
           575,
           "I"
          ],
          [
           566,
           "R"
          ],
          [
           566,
           "R"
          ]
         ],
         "hovertemplate": "Interacting Chain=kinesin B<br>aa_classification=nonpolar<br>Residue Index=%{x}<br>Distance (angstroms)=%{y}<br>residue_one_letter=%{text}<br>interacting_resinumber=%{customdata[0]}<br>interactingresi_oneletter=%{customdata[1]}<extra></extra>",
         "legendgroup": "kinesin B, nonpolar",
         "marker": {
          "color": "#1f77b4",
          "opacity": 0.6,
          "size": 10,
          "symbol": "circle"
         },
         "mode": "markers+text",
         "name": "kinesin B, nonpolar",
         "orientation": "v",
         "showlegend": true,
         "text": [
          "A",
          "L",
          "L",
          "L",
          "A",
          "I",
          "L",
          "I",
          "L",
          "V",
          "V",
          "V",
          "L",
          "L",
          "I",
          "L",
          "L",
          "L",
          "I",
          "L",
          "L",
          "I",
          "I",
          "L",
          "M",
          "I",
          "I",
          "L",
          "L",
          "L",
          "L",
          "A",
          "L",
          "A",
          "I",
          "L",
          "I",
          "L",
          "L",
          "I",
          "I",
          "L",
          "P"
         ],
         "textposition": "top center",
         "type": "scatter",
         "x": [
          341,
          344,
          347,
          348,
          351,
          355,
          358,
          362,
          365,
          368,
          371,
          373,
          376,
          451,
          452,
          455,
          462,
          466,
          476,
          477,
          480,
          487,
          494,
          497,
          500,
          501,
          507,
          510,
          521,
          525,
          528,
          531,
          532,
          539,
          546,
          549,
          556,
          560,
          563,
          567,
          575,
          578,
          580
         ],
         "xaxis": "x",
         "y": [
          3.217768907546997,
          3.223566770553589,
          3.66141676902771,
          3.6221940517425537,
          3.67807674407959,
          3.5423364639282227,
          3.3066437244415283,
          3.340440034866333,
          3.0257954597473145,
          3.621784448623657,
          2.9835705757141118,
          3.308603525161743,
          2.8567183017730717,
          3.8999719619750977,
          3.474360466003418,
          3.703101396560669,
          3.694492101669312,
          3.1338250637054443,
          3.266327142715454,
          3.9048140048980713,
          3.0741896629333496,
          3.387080430984497,
          3.5817151069641118,
          2.895195245742798,
          3.832154512405396,
          2.855974674224853,
          3.70586371421814,
          3.5102250576019287,
          2.9972219467163086,
          3.4697155952453613,
          3.61019229888916,
          3.3513615131378174,
          3.4297990798950195,
          2.7598910331726074,
          3.434147357940674,
          3.1574435234069824,
          3.141252994537353,
          3.624393939971924,
          3.3272864818573,
          3.248424768447876,
          2.2007875442504883,
          2.686832427978516,
          4.047946453094482
         ],
         "yaxis": "y"
        },
        {
         "customdata": [
          [
           359,
           "K"
          ],
          [
           373,
           "V"
          ],
          [
           361,
           "Y"
          ],
          [
           444,
           "T"
          ],
          [
           458,
           "K"
          ],
          [
           469,
           "K"
          ],
          [
           473,
           "K"
          ],
          [
           490,
           "K"
          ],
          [
           494,
           "I"
          ],
          [
           518,
           "N"
          ],
          [
           557,
           "K"
          ]
         ],
         "hovertemplate": "Interacting Chain=kinesin B<br>aa_classification=negatively charged<br>Residue Index=%{x}<br>Distance (angstroms)=%{y}<br>residue_one_letter=%{text}<br>interacting_resinumber=%{customdata[0]}<br>interactingresi_oneletter=%{customdata[1]}<extra></extra>",
         "legendgroup": "kinesin B, negatively charged",
         "marker": {
          "color": "#1f77b4",
          "opacity": 0.6,
          "size": 10,
          "symbol": "triangle-down"
         },
         "mode": "markers+text",
         "name": "kinesin B, negatively charged",
         "orientation": "v",
         "showlegend": true,
         "text": [
          "E",
          "E",
          "E",
          "D",
          "E",
          "E",
          "E",
          "D",
          "E",
          "E",
          "E"
         ],
         "textposition": "top center",
         "type": "scatter",
         "x": [
          354,
          364,
          366,
          448,
          463,
          470,
          472,
          491,
          493,
          517,
          552
         ],
         "xaxis": "x",
         "y": [
          2.797785997390747,
          3.684044361114502,
          3.15629243850708,
          2.450552225112915,
          2.8284099102020264,
          2.717981100082397,
          2.673411130905152,
          2.330570936203003,
          3.4189794063568115,
          3.562384843826294,
          2.6699531078338623
         ],
         "yaxis": "y"
        },
        {
         "customdata": [
          [
           366,
           "E"
          ],
          [
           369,
           "S"
          ],
          [
           361,
           "Y"
          ],
          [
           467,
           "F"
          ],
          [
           463,
           "E"
          ],
          [
           448,
           "D"
          ],
          [
           444,
           "T"
          ],
          [
           455,
           "L"
          ],
          [
           459,
           "C"
          ],
          [
           466,
           "L"
          ],
          [
           480,
           "L"
          ],
          [
           484,
           "Q"
          ],
          [
           483,
           "Q"
          ],
          [
           487,
           "I"
          ],
          [
           497,
           "L"
          ],
          [
           504,
           "S"
          ],
          [
           507,
           "I"
          ],
          [
           511,
           "Y"
          ],
          [
           514,
           "S"
          ],
          [
           514,
           "S"
          ],
          [
           518,
           "N"
          ],
          [
           521,
           "L"
          ],
          [
           525,
           "L"
          ],
          [
           535,
           "S"
          ],
          [
           539,
           "A"
          ],
          [
           542,
           "Q"
          ],
          [
           546,
           "I"
          ],
          [
           549,
           "L"
          ],
          [
           553,
           "N"
          ],
          [
           560,
           "L"
          ],
          [
           566,
           "R"
          ]
         ],
         "hovertemplate": "Interacting Chain=kinesin B<br>aa_classification=polar uncharged<br>Residue Index=%{x}<br>Distance (angstroms)=%{y}<br>residue_one_letter=%{text}<br>interacting_resinumber=%{customdata[0]}<br>interactingresi_oneletter=%{customdata[1]}<extra></extra>",
         "legendgroup": "kinesin B, polar uncharged",
         "marker": {
          "color": "#1f77b4",
          "opacity": 0.6,
          "size": 10,
          "symbol": "square"
         },
         "mode": "markers+text",
         "name": "kinesin B, polar uncharged",
         "orientation": "v",
         "showlegend": true,
         "text": [
          "Y",
          "S",
          "T",
          "S",
          "N",
          "T",
          "S",
          "Q",
          "C",
          "Q",
          "Q",
          "Q",
          "Q",
          "Q",
          "N",
          "S",
          "N",
          "Y",
          "S",
          "T",
          "N",
          "N",
          "Q",
          "S",
          "Q",
          "S",
          "T",
          "N",
          "N",
          "Q",
          "S"
         ],
         "textposition": "top center",
         "type": "scatter",
         "x": [
          361,
          369,
          372,
          374,
          375,
          444,
          445,
          456,
          459,
          465,
          479,
          483,
          484,
          486,
          498,
          504,
          508,
          511,
          514,
          515,
          518,
          522,
          524,
          535,
          542,
          543,
          545,
          550,
          553,
          559,
          577
         ],
         "xaxis": "x",
         "y": [
          2.9078073501586914,
          3.3583250045776367,
          4.128931999206543,
          3.484978199005127,
          3.224431276321411,
          2.1082746982574463,
          3.350259780883789,
          3.927624225616455,
          2.89559006690979,
          3.335740327835083,
          3.540836334228516,
          2.9128777980804443,
          3.092394590377808,
          3.539135694503784,
          3.719058752059937,
          3.05020809173584,
          3.758123159408569,
          3.4718024730682373,
          2.764406204223633,
          3.579521417617798,
          2.2571356296539307,
          3.279811143875122,
          3.662089586257935,
          2.790860414505005,
          2.718136548995972,
          3.817879676818848,
          4.083274364471436,
          3.211369752883911,
          2.2227554321289062,
          3.92045783996582,
          4.2672553062438965
         ],
         "yaxis": "y"
        },
        {
         "customdata": [
          [
           420,
           "E"
          ],
          [
           109,
           "T"
          ],
          [
           409,
           "V"
          ],
          [
           423,
           "E"
          ]
         ],
         "hovertemplate": "Interacting Chain=alpha-tubulin<br>aa_classification=positively charged<br>Residue Index=%{x}<br>Distance (angstroms)=%{y}<br>residue_one_letter=%{text}<br>interacting_resinumber=%{customdata[0]}<br>interactingresi_oneletter=%{customdata[1]}<extra></extra>",
         "legendgroup": "alpha-tubulin, positively charged",
         "marker": {
          "color": "#ff7f0e",
          "opacity": 0.6,
          "size": 10,
          "symbol": "triangle-up"
         },
         "mode": "markers+text",
         "name": "alpha-tubulin, positively charged",
         "orientation": "v",
         "showlegend": true,
         "text": [
          "K",
          "K",
          "K",
          "R"
         ],
         "textposition": "top center",
         "type": "scatter",
         "x": [
          240,
          255,
          259,
          321
         ],
         "xaxis": "x",
         "y": [
          2.594812154769897,
          3.208186149597168,
          3.212823867797852,
          2.8105356693267822
         ],
         "yaxis": "y"
        },
        {
         "customdata": [
          [
           412,
           "G"
          ],
          [
           112,
           "K"
          ],
          [
           108,
           "Y"
          ],
          [
           420,
           "E"
          ]
         ],
         "hovertemplate": "Interacting Chain=alpha-tubulin<br>aa_classification=nonpolar<br>Residue Index=%{x}<br>Distance (angstroms)=%{y}<br>residue_one_letter=%{text}<br>interacting_resinumber=%{customdata[0]}<br>interactingresi_oneletter=%{customdata[1]}<extra></extra>",
         "legendgroup": "alpha-tubulin, nonpolar",
         "marker": {
          "color": "#ff7f0e",
          "opacity": 0.6,
          "size": 10,
          "symbol": "circle"
         },
         "mode": "markers+text",
         "name": "alpha-tubulin, nonpolar",
         "orientation": "v",
         "showlegend": true,
         "text": [
          "I",
          "A",
          "L",
          "A"
         ],
         "textposition": "top center",
         "type": "scatter",
         "x": [
          241,
          246,
          251,
          314
         ],
         "xaxis": "x",
         "y": [
          2.9235854148864746,
          3.041544198989868,
          4.126914978027344,
          4.185573577880859
         ],
         "yaxis": "y"
        },
        {
         "customdata": [
          [
           427,
           "A"
          ],
          [
           414,
           "E"
          ]
         ],
         "hovertemplate": "Interacting Chain=alpha-tubulin<br>aa_classification=negatively charged<br>Residue Index=%{x}<br>Distance (angstroms)=%{y}<br>residue_one_letter=%{text}<br>interacting_resinumber=%{customdata[0]}<br>interactingresi_oneletter=%{customdata[1]}<extra></extra>",
         "legendgroup": "alpha-tubulin, negatively charged",
         "marker": {
          "color": "#ff7f0e",
          "opacity": 0.6,
          "size": 10,
          "symbol": "triangle-down"
         },
         "mode": "markers+text",
         "name": "alpha-tubulin, negatively charged",
         "orientation": "v",
         "showlegend": true,
         "text": [
          "E",
          "E"
         ],
         "textposition": "top center",
         "type": "scatter",
         "x": [
          41,
          239
         ],
         "xaxis": "x",
         "y": [
          4.148475170135498,
          3.975016832351685
         ],
         "yaxis": "y"
        },
        {
         "customdata": [
          [
           414,
           "E"
          ],
          [
           112,
           "K"
          ],
          [
           409,
           "V"
          ],
          [
           415,
           "E"
          ],
          [
           402,
           "R"
          ],
          [
           402,
           "R"
          ]
         ],
         "hovertemplate": "Interacting Chain=alpha-tubulin<br>aa_classification=polar uncharged<br>Residue Index=%{x}<br>Distance (angstroms)=%{y}<br>residue_one_letter=%{text}<br>interacting_resinumber=%{customdata[0]}<br>interactingresi_oneletter=%{customdata[1]}<extra></extra>",
         "legendgroup": "alpha-tubulin, polar uncharged",
         "marker": {
          "color": "#ff7f0e",
          "opacity": 0.6,
          "size": 10,
          "symbol": "square"
         },
         "mode": "markers+text",
         "name": "alpha-tubulin, polar uncharged",
         "orientation": "v",
         "showlegend": true,
         "text": [
          "S",
          "Q",
          "N",
          "S",
          "N",
          "N"
         ],
         "textposition": "top center",
         "type": "scatter",
         "x": [
          238,
          247,
          258,
          262,
          266,
          269
         ],
         "xaxis": "x",
         "y": [
          3.029311180114746,
          3.764711856842041,
          3.347951650619507,
          2.4657490253448486,
          3.368943214416504,
          4.40705156326294
         ],
         "yaxis": "y"
        },
        {
         "customdata": [
          [
           157,
           "E"
          ],
          [
           407,
           "E"
          ],
          [
           410,
           "E"
          ],
          [
           432,
           "E"
          ],
          [
           424,
           "Q"
          ],
          [
           417,
           "D"
          ],
          [
           194,
           "E"
          ],
          [
           436,
           "F"
          ]
         ],
         "hovertemplate": "Interacting Chain=beta-tubulin<br>aa_classification=positively charged<br>Residue Index=%{x}<br>Distance (angstroms)=%{y}<br>residue_one_letter=%{text}<br>interacting_resinumber=%{customdata[0]}<br>interactingresi_oneletter=%{customdata[1]}<extra></extra>",
         "legendgroup": "beta-tubulin, positively charged",
         "marker": {
          "color": "#2ca02c",
          "opacity": 0.6,
          "size": 10,
          "symbol": "triangle-up"
         },
         "mode": "markers+text",
         "name": "beta-tubulin, positively charged",
         "orientation": "v",
         "showlegend": true,
         "text": [
          "R",
          "K",
          "R",
          "K",
          "H",
          "R",
          "K",
          "R"
         ],
         "textposition": "top center",
         "type": "scatter",
         "x": [
          144,
          157,
          159,
          275,
          278,
          282,
          285,
          325
         ],
         "xaxis": "x",
         "y": [
          2.850491523742676,
          3.399925947189331,
          2.662505865097046,
          3.378047466278076,
          3.2256808280944824,
          2.423070192337036,
          3.8064143657684326,
          4.1036458015441895
         ],
         "yaxis": "y"
        },
        {
         "customdata": [
          [
           410,
           "E"
          ],
          [
           406,
           "M"
          ],
          [
           391,
           "R"
          ],
          [
           394,
           "F"
          ]
         ],
         "hovertemplate": "Interacting Chain=beta-tubulin<br>aa_classification=nonpolar<br>Residue Index=%{x}<br>Distance (angstroms)=%{y}<br>residue_one_letter=%{text}<br>interacting_resinumber=%{customdata[0]}<br>interactingresi_oneletter=%{customdata[1]}<extra></extra>",
         "legendgroup": "beta-tubulin, nonpolar",
         "marker": {
          "color": "#2ca02c",
          "opacity": 0.6,
          "size": 10,
          "symbol": "circle"
         },
         "mode": "markers+text",
         "name": "beta-tubulin, nonpolar",
         "orientation": "v",
         "showlegend": true,
         "text": [
          "V",
          "W",
          "I",
          "I"
         ],
         "textposition": "top center",
         "type": "scatter",
         "x": [
          158,
          167,
          494,
          501
         ],
         "xaxis": "x",
         "y": [
          2.66790771484375,
          4.0271406173706055,
          2.613947868347168,
          4.020145416259766
         ],
         "yaxis": "y"
        },
        {
         "customdata": [
          [
           413,
           "S"
          ],
          [
           406,
           "M"
          ],
          [
           262,
           "R"
          ]
         ],
         "hovertemplate": "Interacting Chain=beta-tubulin<br>aa_classification=negatively charged<br>Residue Index=%{x}<br>Distance (angstroms)=%{y}<br>residue_one_letter=%{text}<br>interacting_resinumber=%{customdata[0]}<br>interactingresi_oneletter=%{customdata[1]}<extra></extra>",
         "legendgroup": "beta-tubulin, negatively charged",
         "marker": {
          "color": "#2ca02c",
          "opacity": 0.6,
          "size": 10,
          "symbol": "triangle-down"
         },
         "mode": "markers+text",
         "name": "beta-tubulin, negatively charged",
         "orientation": "v",
         "showlegend": true,
         "text": [
          "E",
          "E",
          "D"
         ],
         "textposition": "top center",
         "type": "scatter",
         "x": [
          160,
          169,
          283
         ],
         "xaxis": "x",
         "y": [
          3.2834508419036865,
          3.732952117919922,
          3.4720075130462646
         ],
         "yaxis": "y"
        },
        {
         "customdata": [
          [
           157,
           "E"
          ],
          [
           424,
           "Q"
          ],
          [
           424,
           "Q"
          ],
          [
           391,
           "R"
          ],
          [
           394,
           "F"
          ],
          [
           179,
           "V"
          ],
          [
           397,
           "W"
          ],
          [
           397,
           "W"
          ]
         ],
         "hovertemplate": "Interacting Chain=beta-tubulin<br>aa_classification=polar uncharged<br>Residue Index=%{x}<br>Distance (angstroms)=%{y}<br>residue_one_letter=%{text}<br>interacting_resinumber=%{customdata[0]}<br>interactingresi_oneletter=%{customdata[1]}<extra></extra>",
         "legendgroup": "beta-tubulin, polar uncharged",
         "marker": {
          "color": "#2ca02c",
          "opacity": 0.6,
          "size": 10,
          "symbol": "square"
         },
         "mode": "markers+text",
         "name": "beta-tubulin, polar uncharged",
         "orientation": "v",
         "showlegend": true,
         "text": [
          "N",
          "S",
          "T",
          "N",
          "N",
          "N",
          "S",
          "Q"
         ],
         "textposition": "top center",
         "type": "scatter",
         "x": [
          155,
          276,
          277,
          498,
          505,
          508,
          509,
          512
         ],
         "xaxis": "x",
         "y": [
          4.326175212860107,
          3.494450569152832,
          2.664480209350586,
          2.187103509902954,
          2.007362127304077,
          3.960362434387207,
          4.3333258628845215,
          3.3435490131378174
         ],
         "yaxis": "y"
        },
        {
         "customdata": [
          [
           1,
           "?"
          ],
          [
           1,
           "?"
          ],
          [
           1,
           "?"
          ]
         ],
         "hovertemplate": "Interacting Chain=ATP<br>aa_classification=positively charged<br>Residue Index=%{x}<br>Distance (angstroms)=%{y}<br>residue_one_letter=%{text}<br>interacting_resinumber=%{customdata[0]}<br>interactingresi_oneletter=%{customdata[1]}<extra></extra>",
         "legendgroup": "ATP, positively charged",
         "marker": {
          "color": "#d62728",
          "opacity": 0.6,
          "size": 10,
          "symbol": "triangle-up"
         },
         "mode": "markers+text",
         "name": "ATP, positively charged",
         "orientation": "v",
         "showlegend": true,
         "text": [
          "R",
          "R",
          "K"
         ],
         "textposition": "top center",
         "type": "scatter",
         "x": [
          9,
          11,
          91
         ],
         "xaxis": "x",
         "y": [
          3.9705593585968018,
          3.751622915267944,
          2.8158106803894043
         ],
         "yaxis": "y"
        },
        {
         "customdata": [
          [
           1,
           "?"
          ],
          [
           1,
           "?"
          ],
          [
           1,
           "?"
          ],
          [
           1,
           "?"
          ],
          [
           1,
           "?"
          ],
          [
           1,
           "?"
          ],
          [
           1,
           "?"
          ]
         ],
         "hovertemplate": "Interacting Chain=ATP<br>aa_classification=nonpolar<br>Residue Index=%{x}<br>Distance (angstroms)=%{y}<br>residue_one_letter=%{text}<br>interacting_resinumber=%{customdata[0]}<br>interactingresi_oneletter=%{customdata[1]}<extra></extra>",
         "legendgroup": "ATP, nonpolar",
         "marker": {
          "color": "#d62728",
          "opacity": 0.6,
          "size": 10,
          "symbol": "circle"
         },
         "mode": "markers+text",
         "name": "ATP, nonpolar",
         "orientation": "v",
         "showlegend": true,
         "text": [
          "P",
          "G",
          "G",
          "F",
          "L",
          "A",
          "G"
         ],
         "textposition": "top center",
         "type": "scatter",
         "x": [
          12,
          88,
          90,
          93,
          235,
          236,
          237
         ],
         "xaxis": "x",
         "y": [
          3.679936647415161,
          2.7358269691467285,
          3.017559051513672,
          2.8571908473968506,
          4.386781215667725,
          3.839536905288696,
          2.8183436393737797
         ],
         "yaxis": "y"
        },
        {
         "customdata": [
          [
           1,
           "?"
          ]
         ],
         "hovertemplate": "Interacting Chain=ATP<br>aa_classification=negatively charged<br>Residue Index=%{x}<br>Distance (angstroms)=%{y}<br>residue_one_letter=%{text}<br>interacting_resinumber=%{customdata[0]}<br>interactingresi_oneletter=%{customdata[1]}<extra></extra>",
         "legendgroup": "ATP, negatively charged",
         "marker": {
          "color": "#d62728",
          "opacity": 0.6,
          "size": 10,
          "symbol": "triangle-down"
         },
         "mode": "markers+text",
         "name": "ATP, negatively charged",
         "orientation": "v",
         "showlegend": true,
         "text": [
          "E"
         ],
         "textposition": "top center",
         "type": "scatter",
         "x": [
          203
         ],
         "xaxis": "x",
         "y": [
          3.9067130088806152
         ],
         "yaxis": "y"
        },
        {
         "customdata": [
          [
           1,
           "?"
          ],
          [
           1,
           "?"
          ],
          [
           1,
           "?"
          ],
          [
           1,
           "?"
          ],
          [
           1,
           "?"
          ],
          [
           1,
           "?"
          ],
          [
           1,
           "?"
          ]
         ],
         "hovertemplate": "Interacting Chain=ATP<br>aa_classification=polar uncharged<br>Residue Index=%{x}<br>Distance (angstroms)=%{y}<br>residue_one_letter=%{text}<br>interacting_resinumber=%{customdata[0]}<br>interactingresi_oneletter=%{customdata[1]}<extra></extra>",
         "legendgroup": "ATP, polar uncharged",
         "marker": {
          "color": "#d62728",
          "opacity": 0.6,
          "size": 10,
          "symbol": "square"
         },
         "mode": "markers+text",
         "name": "ATP, polar uncharged",
         "orientation": "v",
         "showlegend": true,
         "text": [
          "Q",
          "T",
          "S",
          "T",
          "N",
          "S",
          "S"
         ],
         "textposition": "top center",
         "type": "scatter",
         "x": [
          86,
          87,
          89,
          92,
          201,
          204,
          205
         ],
         "xaxis": "x",
         "y": [
          3.894667863845825,
          2.390449523925781,
          3.305138111114502,
          2.7551112174987797,
          2.9265024662017822,
          2.837975025177002,
          2.78186559677124
         ],
         "yaxis": "y"
        }
       ],
       "layout": {
        "autosize": false,
        "height": 600,
        "legend": {
         "title": {
          "text": "Interacting Chain"
         },
         "tracegroupgap": 0
        },
        "shapes": [
         {
          "fillcolor": "LightSalmon",
          "layer": "below",
          "line": {
           "width": 0
          },
          "opacity": 0.3,
          "type": "rect",
          "x0": 0,
          "x1": 600,
          "y0": 0,
          "y1": 5
         }
        ],
        "template": {
         "data": {
          "bar": [
           {
            "error_x": {
             "color": "#2a3f5f"
            },
            "error_y": {
             "color": "#2a3f5f"
            },
            "marker": {
             "line": {
              "color": "#E5ECF6",
              "width": 0.5
             },
             "pattern": {
              "fillmode": "overlay",
              "size": 10,
              "solidity": 0.2
             }
            },
            "type": "bar"
           }
          ],
          "barpolar": [
           {
            "marker": {
             "line": {
              "color": "#E5ECF6",
              "width": 0.5
             },
             "pattern": {
              "fillmode": "overlay",
              "size": 10,
              "solidity": 0.2
             }
            },
            "type": "barpolar"
           }
          ],
          "carpet": [
           {
            "aaxis": {
             "endlinecolor": "#2a3f5f",
             "gridcolor": "white",
             "linecolor": "white",
             "minorgridcolor": "white",
             "startlinecolor": "#2a3f5f"
            },
            "baxis": {
             "endlinecolor": "#2a3f5f",
             "gridcolor": "white",
             "linecolor": "white",
             "minorgridcolor": "white",
             "startlinecolor": "#2a3f5f"
            },
            "type": "carpet"
           }
          ],
          "choropleth": [
           {
            "colorbar": {
             "outlinewidth": 0,
             "ticks": ""
            },
            "type": "choropleth"
           }
          ],
          "contour": [
           {
            "colorbar": {
             "outlinewidth": 0,
             "ticks": ""
            },
            "colorscale": [
             [
              0,
              "#0d0887"
             ],
             [
              0.1111111111111111,
              "#46039f"
             ],
             [
              0.2222222222222222,
              "#7201a8"
             ],
             [
              0.3333333333333333,
              "#9c179e"
             ],
             [
              0.4444444444444444,
              "#bd3786"
             ],
             [
              0.5555555555555556,
              "#d8576b"
             ],
             [
              0.6666666666666666,
              "#ed7953"
             ],
             [
              0.7777777777777778,
              "#fb9f3a"
             ],
             [
              0.8888888888888888,
              "#fdca26"
             ],
             [
              1,
              "#f0f921"
             ]
            ],
            "type": "contour"
           }
          ],
          "contourcarpet": [
           {
            "colorbar": {
             "outlinewidth": 0,
             "ticks": ""
            },
            "type": "contourcarpet"
           }
          ],
          "heatmap": [
           {
            "colorbar": {
             "outlinewidth": 0,
             "ticks": ""
            },
            "colorscale": [
             [
              0,
              "#0d0887"
             ],
             [
              0.1111111111111111,
              "#46039f"
             ],
             [
              0.2222222222222222,
              "#7201a8"
             ],
             [
              0.3333333333333333,
              "#9c179e"
             ],
             [
              0.4444444444444444,
              "#bd3786"
             ],
             [
              0.5555555555555556,
              "#d8576b"
             ],
             [
              0.6666666666666666,
              "#ed7953"
             ],
             [
              0.7777777777777778,
              "#fb9f3a"
             ],
             [
              0.8888888888888888,
              "#fdca26"
             ],
             [
              1,
              "#f0f921"
             ]
            ],
            "type": "heatmap"
           }
          ],
          "heatmapgl": [
           {
            "colorbar": {
             "outlinewidth": 0,
             "ticks": ""
            },
            "colorscale": [
             [
              0,
              "#0d0887"
             ],
             [
              0.1111111111111111,
              "#46039f"
             ],
             [
              0.2222222222222222,
              "#7201a8"
             ],
             [
              0.3333333333333333,
              "#9c179e"
             ],
             [
              0.4444444444444444,
              "#bd3786"
             ],
             [
              0.5555555555555556,
              "#d8576b"
             ],
             [
              0.6666666666666666,
              "#ed7953"
             ],
             [
              0.7777777777777778,
              "#fb9f3a"
             ],
             [
              0.8888888888888888,
              "#fdca26"
             ],
             [
              1,
              "#f0f921"
             ]
            ],
            "type": "heatmapgl"
           }
          ],
          "histogram": [
           {
            "marker": {
             "pattern": {
              "fillmode": "overlay",
              "size": 10,
              "solidity": 0.2
             }
            },
            "type": "histogram"
           }
          ],
          "histogram2d": [
           {
            "colorbar": {
             "outlinewidth": 0,
             "ticks": ""
            },
            "colorscale": [
             [
              0,
              "#0d0887"
             ],
             [
              0.1111111111111111,
              "#46039f"
             ],
             [
              0.2222222222222222,
              "#7201a8"
             ],
             [
              0.3333333333333333,
              "#9c179e"
             ],
             [
              0.4444444444444444,
              "#bd3786"
             ],
             [
              0.5555555555555556,
              "#d8576b"
             ],
             [
              0.6666666666666666,
              "#ed7953"
             ],
             [
              0.7777777777777778,
              "#fb9f3a"
             ],
             [
              0.8888888888888888,
              "#fdca26"
             ],
             [
              1,
              "#f0f921"
             ]
            ],
            "type": "histogram2d"
           }
          ],
          "histogram2dcontour": [
           {
            "colorbar": {
             "outlinewidth": 0,
             "ticks": ""
            },
            "colorscale": [
             [
              0,
              "#0d0887"
             ],
             [
              0.1111111111111111,
              "#46039f"
             ],
             [
              0.2222222222222222,
              "#7201a8"
             ],
             [
              0.3333333333333333,
              "#9c179e"
             ],
             [
              0.4444444444444444,
              "#bd3786"
             ],
             [
              0.5555555555555556,
              "#d8576b"
             ],
             [
              0.6666666666666666,
              "#ed7953"
             ],
             [
              0.7777777777777778,
              "#fb9f3a"
             ],
             [
              0.8888888888888888,
              "#fdca26"
             ],
             [
              1,
              "#f0f921"
             ]
            ],
            "type": "histogram2dcontour"
           }
          ],
          "mesh3d": [
           {
            "colorbar": {
             "outlinewidth": 0,
             "ticks": ""
            },
            "type": "mesh3d"
           }
          ],
          "parcoords": [
           {
            "line": {
             "colorbar": {
              "outlinewidth": 0,
              "ticks": ""
             }
            },
            "type": "parcoords"
           }
          ],
          "pie": [
           {
            "automargin": true,
            "type": "pie"
           }
          ],
          "scatter": [
           {
            "fillpattern": {
             "fillmode": "overlay",
             "size": 10,
             "solidity": 0.2
            },
            "type": "scatter"
           }
          ],
          "scatter3d": [
           {
            "line": {
             "colorbar": {
              "outlinewidth": 0,
              "ticks": ""
             }
            },
            "marker": {
             "colorbar": {
              "outlinewidth": 0,
              "ticks": ""
             }
            },
            "type": "scatter3d"
           }
          ],
          "scattercarpet": [
           {
            "marker": {
             "colorbar": {
              "outlinewidth": 0,
              "ticks": ""
             }
            },
            "type": "scattercarpet"
           }
          ],
          "scattergeo": [
           {
            "marker": {
             "colorbar": {
              "outlinewidth": 0,
              "ticks": ""
             }
            },
            "type": "scattergeo"
           }
          ],
          "scattergl": [
           {
            "marker": {
             "colorbar": {
              "outlinewidth": 0,
              "ticks": ""
             }
            },
            "type": "scattergl"
           }
          ],
          "scattermapbox": [
           {
            "marker": {
             "colorbar": {
              "outlinewidth": 0,
              "ticks": ""
             }
            },
            "type": "scattermapbox"
           }
          ],
          "scatterpolar": [
           {
            "marker": {
             "colorbar": {
              "outlinewidth": 0,
              "ticks": ""
             }
            },
            "type": "scatterpolar"
           }
          ],
          "scatterpolargl": [
           {
            "marker": {
             "colorbar": {
              "outlinewidth": 0,
              "ticks": ""
             }
            },
            "type": "scatterpolargl"
           }
          ],
          "scatterternary": [
           {
            "marker": {
             "colorbar": {
              "outlinewidth": 0,
              "ticks": ""
             }
            },
            "type": "scatterternary"
           }
          ],
          "surface": [
           {
            "colorbar": {
             "outlinewidth": 0,
             "ticks": ""
            },
            "colorscale": [
             [
              0,
              "#0d0887"
             ],
             [
              0.1111111111111111,
              "#46039f"
             ],
             [
              0.2222222222222222,
              "#7201a8"
             ],
             [
              0.3333333333333333,
              "#9c179e"
             ],
             [
              0.4444444444444444,
              "#bd3786"
             ],
             [
              0.5555555555555556,
              "#d8576b"
             ],
             [
              0.6666666666666666,
              "#ed7953"
             ],
             [
              0.7777777777777778,
              "#fb9f3a"
             ],
             [
              0.8888888888888888,
              "#fdca26"
             ],
             [
              1,
              "#f0f921"
             ]
            ],
            "type": "surface"
           }
          ],
          "table": [
           {
            "cells": {
             "fill": {
              "color": "#EBF0F8"
             },
             "line": {
              "color": "white"
             }
            },
            "header": {
             "fill": {
              "color": "#C8D4E3"
             },
             "line": {
              "color": "white"
             }
            },
            "type": "table"
           }
          ]
         },
         "layout": {
          "annotationdefaults": {
           "arrowcolor": "#2a3f5f",
           "arrowhead": 0,
           "arrowwidth": 1
          },
          "autotypenumbers": "strict",
          "coloraxis": {
           "colorbar": {
            "outlinewidth": 0,
            "ticks": ""
           }
          },
          "colorscale": {
           "diverging": [
            [
             0,
             "#8e0152"
            ],
            [
             0.1,
             "#c51b7d"
            ],
            [
             0.2,
             "#de77ae"
            ],
            [
             0.3,
             "#f1b6da"
            ],
            [
             0.4,
             "#fde0ef"
            ],
            [
             0.5,
             "#f7f7f7"
            ],
            [
             0.6,
             "#e6f5d0"
            ],
            [
             0.7,
             "#b8e186"
            ],
            [
             0.8,
             "#7fbc41"
            ],
            [
             0.9,
             "#4d9221"
            ],
            [
             1,
             "#276419"
            ]
           ],
           "sequential": [
            [
             0,
             "#0d0887"
            ],
            [
             0.1111111111111111,
             "#46039f"
            ],
            [
             0.2222222222222222,
             "#7201a8"
            ],
            [
             0.3333333333333333,
             "#9c179e"
            ],
            [
             0.4444444444444444,
             "#bd3786"
            ],
            [
             0.5555555555555556,
             "#d8576b"
            ],
            [
             0.6666666666666666,
             "#ed7953"
            ],
            [
             0.7777777777777778,
             "#fb9f3a"
            ],
            [
             0.8888888888888888,
             "#fdca26"
            ],
            [
             1,
             "#f0f921"
            ]
           ],
           "sequentialminus": [
            [
             0,
             "#0d0887"
            ],
            [
             0.1111111111111111,
             "#46039f"
            ],
            [
             0.2222222222222222,
             "#7201a8"
            ],
            [
             0.3333333333333333,
             "#9c179e"
            ],
            [
             0.4444444444444444,
             "#bd3786"
            ],
            [
             0.5555555555555556,
             "#d8576b"
            ],
            [
             0.6666666666666666,
             "#ed7953"
            ],
            [
             0.7777777777777778,
             "#fb9f3a"
            ],
            [
             0.8888888888888888,
             "#fdca26"
            ],
            [
             1,
             "#f0f921"
            ]
           ]
          },
          "colorway": [
           "#636efa",
           "#EF553B",
           "#00cc96",
           "#ab63fa",
           "#FFA15A",
           "#19d3f3",
           "#FF6692",
           "#B6E880",
           "#FF97FF",
           "#FECB52"
          ],
          "font": {
           "color": "#2a3f5f"
          },
          "geo": {
           "bgcolor": "white",
           "lakecolor": "white",
           "landcolor": "#E5ECF6",
           "showlakes": true,
           "showland": true,
           "subunitcolor": "white"
          },
          "hoverlabel": {
           "align": "left"
          },
          "hovermode": "closest",
          "mapbox": {
           "style": "light"
          },
          "paper_bgcolor": "white",
          "plot_bgcolor": "#E5ECF6",
          "polar": {
           "angularaxis": {
            "gridcolor": "white",
            "linecolor": "white",
            "ticks": ""
           },
           "bgcolor": "#E5ECF6",
           "radialaxis": {
            "gridcolor": "white",
            "linecolor": "white",
            "ticks": ""
           }
          },
          "scene": {
           "xaxis": {
            "backgroundcolor": "#E5ECF6",
            "gridcolor": "white",
            "gridwidth": 2,
            "linecolor": "white",
            "showbackground": true,
            "ticks": "",
            "zerolinecolor": "white"
           },
           "yaxis": {
            "backgroundcolor": "#E5ECF6",
            "gridcolor": "white",
            "gridwidth": 2,
            "linecolor": "white",
            "showbackground": true,
            "ticks": "",
            "zerolinecolor": "white"
           },
           "zaxis": {
            "backgroundcolor": "#E5ECF6",
            "gridcolor": "white",
            "gridwidth": 2,
            "linecolor": "white",
            "showbackground": true,
            "ticks": "",
            "zerolinecolor": "white"
           }
          },
          "shapedefaults": {
           "line": {
            "color": "#2a3f5f"
           }
          },
          "ternary": {
           "aaxis": {
            "gridcolor": "white",
            "linecolor": "white",
            "ticks": ""
           },
           "baxis": {
            "gridcolor": "white",
            "linecolor": "white",
            "ticks": ""
           },
           "bgcolor": "#E5ECF6",
           "caxis": {
            "gridcolor": "white",
            "linecolor": "white",
            "ticks": ""
           }
          },
          "title": {
           "x": 0.05
          },
          "xaxis": {
           "automargin": true,
           "gridcolor": "white",
           "linecolor": "white",
           "ticks": "",
           "title": {
            "standoff": 15
           },
           "zerolinecolor": "white",
           "zerolinewidth": 2
          },
          "yaxis": {
           "automargin": true,
           "gridcolor": "white",
           "linecolor": "white",
           "ticks": "",
           "title": {
            "standoff": 15
           },
           "zerolinecolor": "white",
           "zerolinewidth": 2
          }
         }
        },
        "title": {
         "text": "Interactions for H_seed345_model_0"
        },
        "width": 1600,
        "xaxis": {
         "anchor": "y",
         "domain": [
          0,
          1
         ],
         "dtick": 20,
         "range": [
          0,
          600
         ],
         "title": {
          "text": "Residue Index"
         }
        },
        "yaxis": {
         "anchor": "x",
         "domain": [
          0,
          1
         ],
         "range": [
          0.1,
          5
         ],
         "title": {
          "text": "Distance (angstroms)"
         }
        }
       }
      }
     },
     "metadata": {},
     "output_type": "display_data"
    },
    {
     "data": {
      "application/vnd.plotly.v1+json": {
       "config": {
        "plotlyServerURL": "https://plot.ly"
       },
       "data": [
        {
         "customdata": [
          [
           482,
           "Q"
          ],
          [
           486,
           "Q"
          ],
          [
           341,
           "A"
          ],
          [
           344,
           "L"
          ],
          [
           354,
           "E"
          ],
          [
           456,
           "Q"
          ],
          [
           463,
           "E"
          ],
          [
           470,
           "E"
          ],
          [
           472,
           "E"
          ],
          [
           350,
           "K"
          ],
          [
           491,
           "D"
          ],
          [
           528,
           "L"
          ],
          [
           535,
           "S"
          ],
          [
           552,
           "E"
          ],
          [
           578,
           "L"
          ]
         ],
         "hovertemplate": "Interacting Chain=kinesin B<br>aa_classification=positively charged<br>Residue Index=%{x}<br>Distance (angstroms)=%{y}<br>residue_one_letter=%{text}<br>interacting_resinumber=%{customdata[0]}<br>interactingresi_oneletter=%{customdata[1]}<extra></extra>",
         "legendgroup": "kinesin B, positively charged",
         "marker": {
          "color": "#1f77b4",
          "opacity": 0.6,
          "size": 10,
          "symbol": "triangle-up"
         },
         "mode": "markers+text",
         "name": "kinesin B, positively charged",
         "orientation": "v",
         "showlegend": true,
         "text": [
          "K",
          "K",
          "R",
          "K",
          "K",
          "K",
          "K",
          "K",
          "K",
          "K",
          "K",
          "K",
          "R",
          "K",
          "R"
         ],
         "textposition": "top center",
         "type": "scatter",
         "x": [
          162,
          164,
          339,
          345,
          359,
          377,
          458,
          469,
          473,
          474,
          490,
          529,
          536,
          557,
          566
         ],
         "xaxis": "x",
         "y": [
          1.6461362838745115,
          2.793400287628174,
          4.06134843826294,
          3.817964792251587,
          2.544885396957397,
          2.1890580654144287,
          3.575749635696411,
          2.566570520401001,
          2.47126841545105,
          2.4003918170928955,
          2.44914984703064,
          3.914827346801758,
          3.614078521728516,
          2.65182900428772,
          3.145915985107422
         ],
         "yaxis": "y"
        },
        {
         "customdata": [
          [
           482,
           "Q"
          ],
          [
           344,
           "L"
          ],
          [
           341,
           "A"
          ],
          [
           348,
           "L"
          ],
          [
           347,
           "L"
          ],
          [
           355,
           "I"
          ],
          [
           355,
           "I"
          ],
          [
           362,
           "I"
          ],
          [
           362,
           "I"
          ],
          [
           371,
           "V"
          ],
          [
           376,
           "L"
          ],
          [
           451,
           "L"
          ],
          [
           365,
           "L"
          ],
          [
           458,
           "K"
          ],
          [
           455,
           "L"
          ],
          [
           456,
           "Q"
          ],
          [
           452,
           "I"
          ],
          [
           452,
           "I"
          ],
          [
           455,
           "L"
          ],
          [
           459,
           "C"
          ],
          [
           466,
           "L"
          ],
          [
           480,
           "L"
          ],
          [
           346,
           "I"
          ],
          [
           483,
           "Q"
          ],
          [
           490,
           "K"
          ],
          [
           493,
           "E"
          ],
          [
           501,
           "I"
          ],
          [
           501,
           "I"
          ],
          [
           497,
           "L"
          ],
          [
           508,
           "N"
          ],
          [
           511,
           "Y"
          ],
          [
           518,
           "N"
          ],
          [
           521,
           "L"
          ],
          [
           525,
           "L"
          ],
          [
           532,
           "L"
          ],
          [
           532,
           "L"
          ],
          [
           542,
           "Q"
          ],
          [
           546,
           "I"
          ],
          [
           550,
           "N"
          ],
          [
           556,
           "I"
          ],
          [
           556,
           "I"
          ],
          [
           563,
           "L"
          ],
          [
           563,
           "L"
          ],
          [
           575,
           "I"
          ],
          [
           566,
           "R"
          ],
          [
           563,
           "L"
          ],
          [
           563,
           "L"
          ]
         ],
         "hovertemplate": "Interacting Chain=kinesin B<br>aa_classification=nonpolar<br>Residue Index=%{x}<br>Distance (angstroms)=%{y}<br>residue_one_letter=%{text}<br>interacting_resinumber=%{customdata[0]}<br>interactingresi_oneletter=%{customdata[1]}<extra></extra>",
         "legendgroup": "kinesin B, nonpolar",
         "marker": {
          "color": "#1f77b4",
          "opacity": 0.6,
          "size": 10,
          "symbol": "circle"
         },
         "mode": "markers+text",
         "name": "kinesin B, nonpolar",
         "orientation": "v",
         "showlegend": true,
         "text": [
          "G",
          "A",
          "L",
          "L",
          "L",
          "A",
          "I",
          "L",
          "I",
          "L",
          "V",
          "G",
          "V",
          "V",
          "L",
          "G",
          "L",
          "I",
          "L",
          "L",
          "L",
          "I",
          "L",
          "L",
          "I",
          "I",
          "L",
          "M",
          "I",
          "I",
          "L",
          "L",
          "L",
          "L",
          "A",
          "L",
          "A",
          "I",
          "L",
          "I",
          "L",
          "L",
          "I",
          "I",
          "L",
          "V",
          "P"
         ],
         "textposition": "top center",
         "type": "scatter",
         "x": [
          163,
          341,
          344,
          347,
          348,
          351,
          355,
          358,
          362,
          365,
          368,
          370,
          371,
          373,
          376,
          380,
          451,
          452,
          455,
          462,
          466,
          476,
          477,
          480,
          487,
          494,
          497,
          500,
          501,
          507,
          510,
          521,
          525,
          528,
          531,
          532,
          539,
          546,
          549,
          556,
          560,
          563,
          567,
          575,
          578,
          579,
          580
         ],
         "xaxis": "x",
         "y": [
          4.127879142761231,
          3.1397452354431152,
          3.125678539276123,
          3.551408290863037,
          3.4945948123931885,
          3.527451515197754,
          3.489733457565308,
          3.2419114112854004,
          3.309497356414795,
          2.8175365924835205,
          2.2561168670654297,
          4.275276184082031,
          3.0216031074523926,
          2.442464590072632,
          0.5445408225059509,
          2.537895917892456,
          4.46983528137207,
          3.653106689453125,
          3.942909002304077,
          3.6437411308288574,
          3.26004958152771,
          2.8344979286193848,
          2.86020827293396,
          2.5198755264282227,
          2.6492059230804443,
          3.257086753845215,
          2.917348623275757,
          3.685314655303955,
          2.8436100482940674,
          3.504724264144897,
          3.3494999408721924,
          2.885118246078491,
          3.4031102657318115,
          3.309509515762329,
          3.270758867263794,
          3.1994574069976807,
          2.895066976547241,
          3.329427719116211,
          3.1415743827819824,
          3.1478981971740723,
          3.4645822048187256,
          3.118218421936035,
          3.544728994369507,
          2.747110366821289,
          3.2988176345825195,
          3.89156436920166,
          3.390454053878784
         ],
         "yaxis": "y"
        },
        {
         "customdata": [
          [
           486,
           "Q"
          ],
          [
           345,
           "K"
          ],
          [
           359,
           "K"
          ],
          [
           373,
           "V"
          ],
          [
           361,
           "Y"
          ],
          [
           444,
           "T"
          ],
          [
           458,
           "K"
          ],
          [
           469,
           "K"
          ],
          [
           473,
           "K"
          ],
          [
           343,
           "E"
          ],
          [
           222,
           "V"
          ],
          [
           220,
           "L"
          ],
          [
           490,
           "K"
          ],
          [
           494,
           "I"
          ],
          [
           518,
           "N"
          ],
          [
           557,
           "K"
          ]
         ],
         "hovertemplate": "Interacting Chain=kinesin B<br>aa_classification=negatively charged<br>Residue Index=%{x}<br>Distance (angstroms)=%{y}<br>residue_one_letter=%{text}<br>interacting_resinumber=%{customdata[0]}<br>interactingresi_oneletter=%{customdata[1]}<extra></extra>",
         "legendgroup": "kinesin B, negatively charged",
         "marker": {
          "color": "#1f77b4",
          "opacity": 0.6,
          "size": 10,
          "symbol": "triangle-down"
         },
         "mode": "markers+text",
         "name": "kinesin B, negatively charged",
         "orientation": "v",
         "showlegend": true,
         "text": [
          "E",
          "E",
          "E",
          "E",
          "E",
          "D",
          "E",
          "E",
          "E",
          "E",
          "E",
          "D",
          "D",
          "E",
          "E",
          "E"
         ],
         "textposition": "top center",
         "type": "scatter",
         "x": [
          161,
          338,
          354,
          364,
          366,
          448,
          463,
          470,
          472,
          481,
          485,
          489,
          491,
          493,
          517,
          552
         ],
         "xaxis": "x",
         "y": [
          2.1999168395996094,
          3.971050262451172,
          2.729013681411743,
          3.5597145557403564,
          2.618238687515259,
          2.8471381664276123,
          2.8953700065612797,
          2.6319077014923096,
          2.6281111240386963,
          2.4312944412231445,
          0.9790986776351928,
          1.1760329008102417,
          2.576598882675171,
          3.3335089683532715,
          3.629939079284668,
          2.6902475357055664
         ],
         "yaxis": "y"
        },
        {
         "customdata": [
          [
           341,
           "A"
          ],
          [
           366,
           "E"
          ],
          [
           369,
           "S"
          ],
          [
           454,
           "V"
          ],
          [
           455,
           "L"
          ],
          [
           455,
           "L"
          ],
          [
           456,
           "Q"
          ],
          [
           456,
           "Q"
          ],
          [
           438,
           "T"
          ],
          [
           448,
           "D"
          ],
          [
           455,
           "L"
          ],
          [
           459,
           "C"
          ],
          [
           466,
           "L"
          ],
          [
           480,
           "L"
          ],
          [
           221,
           "K"
          ],
          [
           480,
           "L"
          ],
          [
           342,
           "A"
          ],
          [
           221,
           "K"
          ],
          [
           223,
           "G"
          ],
          [
           218,
           "K"
          ],
          [
           497,
           "L"
          ],
          [
           504,
           "S"
          ],
          [
           507,
           "I"
          ],
          [
           510,
           "L"
          ],
          [
           518,
           "N"
          ],
          [
           514,
           "S"
          ],
          [
           518,
           "N"
          ],
          [
           521,
           "L"
          ],
          [
           525,
           "L"
          ],
          [
           535,
           "S"
          ],
          [
           539,
           "A"
          ],
          [
           542,
           "Q"
          ],
          [
           546,
           "I"
          ],
          [
           549,
           "L"
          ],
          [
           553,
           "N"
          ],
          [
           560,
           "L"
          ],
          [
           566,
           "R"
          ]
         ],
         "hovertemplate": "Interacting Chain=kinesin B<br>aa_classification=polar uncharged<br>Residue Index=%{x}<br>Distance (angstroms)=%{y}<br>residue_one_letter=%{text}<br>interacting_resinumber=%{customdata[0]}<br>interactingresi_oneletter=%{customdata[1]}<extra></extra>",
         "legendgroup": "kinesin B, polar uncharged",
         "marker": {
          "color": "#1f77b4",
          "opacity": 0.6,
          "size": 10,
          "symbol": "square"
         },
         "mode": "markers+text",
         "name": "kinesin B, polar uncharged",
         "orientation": "v",
         "showlegend": true,
         "text": [
          "S",
          "Y",
          "S",
          "T",
          "S",
          "N",
          "S",
          "S",
          "S",
          "T",
          "Q",
          "C",
          "Q",
          "Q",
          "Q",
          "Q",
          "Q",
          "Q",
          "Q",
          "Q",
          "N",
          "S",
          "N",
          "Y",
          "S",
          "T",
          "N",
          "N",
          "Q",
          "S",
          "Q",
          "S",
          "T",
          "N",
          "N",
          "Q",
          "S"
         ],
         "textposition": "top center",
         "type": "scatter",
         "x": [
          340,
          361,
          369,
          372,
          374,
          375,
          378,
          379,
          383,
          444,
          456,
          459,
          465,
          479,
          482,
          483,
          484,
          486,
          488,
          492,
          498,
          504,
          508,
          511,
          514,
          515,
          518,
          522,
          524,
          535,
          542,
          543,
          545,
          550,
          553,
          559,
          577
         ],
         "xaxis": "x",
         "y": [
          4.412072658538818,
          2.634763240814209,
          3.4356815814971924,
          3.7634778022766113,
          0.9428157210350036,
          1.1104202270507812,
          3.704312801361084,
          2.41088604927063,
          3.9730982780456543,
          2.7280774116516118,
          4.202267646789551,
          3.1621830463409424,
          3.48281478881836,
          3.474027395248413,
          2.185797691345215,
          2.652714490890503,
          2.890772581100464,
          1.6384714841842651,
          3.537081003189087,
          2.224637985229492,
          3.1209676265716557,
          3.1703217029571533,
          3.340965032577514,
          3.3200156688690186,
          2.8175854682922363,
          3.594879150390625,
          2.3522133827209477,
          3.326646089553833,
          3.837674856185913,
          2.8587212562561035,
          2.86281967163086,
          3.9141438007354736,
          4.169330596923828,
          3.1814746856689453,
          1.923513650894165,
          3.896628856658936,
          4.279784679412842
         ],
         "yaxis": "y"
        },
        {
         "customdata": [
          [
           420,
           "E"
          ],
          [
           412,
           "G"
          ],
          [
           409,
           "V"
          ],
          [
           423,
           "E"
          ],
          [
           402,
           "R"
          ]
         ],
         "hovertemplate": "Interacting Chain=alpha-tubulin<br>aa_classification=positively charged<br>Residue Index=%{x}<br>Distance (angstroms)=%{y}<br>residue_one_letter=%{text}<br>interacting_resinumber=%{customdata[0]}<br>interactingresi_oneletter=%{customdata[1]}<extra></extra>",
         "legendgroup": "alpha-tubulin, positively charged",
         "marker": {
          "color": "#ff7f0e",
          "opacity": 0.6,
          "size": 10,
          "symbol": "triangle-up"
         },
         "mode": "markers+text",
         "name": "alpha-tubulin, positively charged",
         "orientation": "v",
         "showlegend": true,
         "text": [
          "K",
          "K",
          "K",
          "R",
          "R"
         ],
         "textposition": "top center",
         "type": "scatter",
         "x": [
          240,
          255,
          259,
          321,
          325
         ],
         "xaxis": "x",
         "y": [
          2.548470973968506,
          3.445809841156006,
          3.3362526893615723,
          2.677609443664551,
          4.053415298461914
         ],
         "yaxis": "y"
        },
        {
         "customdata": [
          [
           412,
           "G"
          ],
          [
           112,
           "K"
          ],
          [
           420,
           "E"
          ]
         ],
         "hovertemplate": "Interacting Chain=alpha-tubulin<br>aa_classification=nonpolar<br>Residue Index=%{x}<br>Distance (angstroms)=%{y}<br>residue_one_letter=%{text}<br>interacting_resinumber=%{customdata[0]}<br>interactingresi_oneletter=%{customdata[1]}<extra></extra>",
         "legendgroup": "alpha-tubulin, nonpolar",
         "marker": {
          "color": "#ff7f0e",
          "opacity": 0.6,
          "size": 10,
          "symbol": "circle"
         },
         "mode": "markers+text",
         "name": "alpha-tubulin, nonpolar",
         "orientation": "v",
         "showlegend": true,
         "text": [
          "I",
          "A",
          "A"
         ],
         "textposition": "top center",
         "type": "scatter",
         "x": [
          241,
          246,
          314
         ],
         "xaxis": "x",
         "y": [
          2.9676756858825684,
          3.284990072250366,
          3.458937883377075
         ],
         "yaxis": "y"
        },
        {
         "customdata": [
          [
           264,
           "R"
          ],
          [
           414,
           "E"
          ],
          [
           414,
           "E"
          ]
         ],
         "hovertemplate": "Interacting Chain=alpha-tubulin<br>aa_classification=negatively charged<br>Residue Index=%{x}<br>Distance (angstroms)=%{y}<br>residue_one_letter=%{text}<br>interacting_resinumber=%{customdata[0]}<br>interactingresi_oneletter=%{customdata[1]}<extra></extra>",
         "legendgroup": "alpha-tubulin, negatively charged",
         "marker": {
          "color": "#ff7f0e",
          "opacity": 0.6,
          "size": 10,
          "symbol": "triangle-down"
         },
         "mode": "markers+text",
         "name": "alpha-tubulin, negatively charged",
         "orientation": "v",
         "showlegend": true,
         "text": [
          "E",
          "E",
          "E"
         ],
         "textposition": "top center",
         "type": "scatter",
         "x": [
          41,
          239,
          315
         ],
         "xaxis": "x",
         "y": [
          3.8520121574401855,
          4.212870597839356,
          4.065289497375488
         ],
         "yaxis": "y"
        },
        {
         "customdata": [
          [
           414,
           "E"
          ],
          [
           112,
           "K"
          ],
          [
           409,
           "V"
          ],
          [
           415,
           "E"
          ],
          [
           402,
           "R"
          ],
          [
           402,
           "R"
          ],
          [
           416,
           "G"
          ]
         ],
         "hovertemplate": "Interacting Chain=alpha-tubulin<br>aa_classification=polar uncharged<br>Residue Index=%{x}<br>Distance (angstroms)=%{y}<br>residue_one_letter=%{text}<br>interacting_resinumber=%{customdata[0]}<br>interactingresi_oneletter=%{customdata[1]}<extra></extra>",
         "legendgroup": "alpha-tubulin, polar uncharged",
         "marker": {
          "color": "#ff7f0e",
          "opacity": 0.6,
          "size": 10,
          "symbol": "square"
         },
         "mode": "markers+text",
         "name": "alpha-tubulin, polar uncharged",
         "orientation": "v",
         "showlegend": true,
         "text": [
          "S",
          "Q",
          "N",
          "S",
          "N",
          "N",
          "S"
         ],
         "textposition": "top center",
         "type": "scatter",
         "x": [
          238,
          247,
          258,
          262,
          266,
          269,
          318
         ],
         "xaxis": "x",
         "y": [
          2.986391544342041,
          4.295324325561523,
          3.361708164215088,
          2.65532660484314,
          3.4352240562438965,
          4.322038650512695,
          4.447932243347168
         ],
         "yaxis": "y"
        },
        {
         "customdata": [
          [
           440,
           "E"
          ],
          [
           157,
           "E"
          ],
          [
           106,
           "Y"
          ],
          [
           404,
           "D"
          ],
          [
           432,
           "E"
          ],
          [
           424,
           "Q"
          ],
          [
           410,
           "E"
          ],
          [
           194,
           "E"
          ],
          [
           410,
           "E"
          ],
          [
           438,
           "E"
          ],
          [
           436,
           "F"
          ]
         ],
         "hovertemplate": "Interacting Chain=beta-tubulin<br>aa_classification=positively charged<br>Residue Index=%{x}<br>Distance (angstroms)=%{y}<br>residue_one_letter=%{text}<br>interacting_resinumber=%{customdata[0]}<br>interactingresi_oneletter=%{customdata[1]}<extra></extra>",
         "legendgroup": "beta-tubulin, positively charged",
         "marker": {
          "color": "#2ca02c",
          "opacity": 0.6,
          "size": 10,
          "symbol": "triangle-up"
         },
         "mode": "markers+text",
         "name": "beta-tubulin, positively charged",
         "orientation": "v",
         "showlegend": true,
         "text": [
          "H",
          "R",
          "K",
          "R",
          "K",
          "H",
          "R",
          "K",
          "R",
          "R",
          "R"
         ],
         "textposition": "top center",
         "type": "scatter",
         "x": [
          44,
          144,
          157,
          159,
          275,
          278,
          282,
          285,
          288,
          321,
          325
         ],
         "xaxis": "x",
         "y": [
          2.719789743423462,
          2.646684408187866,
          3.700393915176392,
          2.401507377624512,
          3.422503709793091,
          2.879689216613769,
          2.4552464485168457,
          4.4266276359558105,
          2.9238474369049072,
          3.2845144271850586,
          3.7427737712860103
         ],
         "yaxis": "y"
        },
        {
         "customdata": [
          [
           410,
           "E"
          ],
          [
           406,
           "M"
          ]
         ],
         "hovertemplate": "Interacting Chain=beta-tubulin<br>aa_classification=nonpolar<br>Residue Index=%{x}<br>Distance (angstroms)=%{y}<br>residue_one_letter=%{text}<br>interacting_resinumber=%{customdata[0]}<br>interactingresi_oneletter=%{customdata[1]}<extra></extra>",
         "legendgroup": "beta-tubulin, nonpolar",
         "marker": {
          "color": "#2ca02c",
          "opacity": 0.6,
          "size": 10,
          "symbol": "circle"
         },
         "mode": "markers+text",
         "name": "beta-tubulin, nonpolar",
         "orientation": "v",
         "showlegend": true,
         "text": [
          "V",
          "W"
         ],
         "textposition": "top center",
         "type": "scatter",
         "x": [
          158,
          167
         ],
         "xaxis": "x",
         "y": [
          4.280204772949219,
          3.193189144134521
         ],
         "yaxis": "y"
        },
        {
         "customdata": [
          [
           413,
           "S"
          ],
          [
           406,
           "M"
          ],
          [
           436,
           "F"
          ],
          [
           262,
           "R"
          ]
         ],
         "hovertemplate": "Interacting Chain=beta-tubulin<br>aa_classification=negatively charged<br>Residue Index=%{x}<br>Distance (angstroms)=%{y}<br>residue_one_letter=%{text}<br>interacting_resinumber=%{customdata[0]}<br>interactingresi_oneletter=%{customdata[1]}<extra></extra>",
         "legendgroup": "beta-tubulin, negatively charged",
         "marker": {
          "color": "#2ca02c",
          "opacity": 0.6,
          "size": 10,
          "symbol": "triangle-down"
         },
         "mode": "markers+text",
         "name": "beta-tubulin, negatively charged",
         "orientation": "v",
         "showlegend": true,
         "text": [
          "E",
          "E",
          "D",
          "D"
         ],
         "textposition": "top center",
         "type": "scatter",
         "x": [
          160,
          161,
          273,
          283
         ],
         "xaxis": "x",
         "y": [
          3.3496344089508057,
          3.841475248336792,
          4.356668949127197,
          3.1372005939483643
         ],
         "yaxis": "y"
        },
        {
         "customdata": [
          [
           439,
           "E"
          ],
          [
           436,
           "F"
          ],
          [
           424,
           "Q"
          ],
          [
           424,
           "Q"
          ]
         ],
         "hovertemplate": "Interacting Chain=beta-tubulin<br>aa_classification=polar uncharged<br>Residue Index=%{x}<br>Distance (angstroms)=%{y}<br>residue_one_letter=%{text}<br>interacting_resinumber=%{customdata[0]}<br>interactingresi_oneletter=%{customdata[1]}<extra></extra>",
         "legendgroup": "beta-tubulin, polar uncharged",
         "marker": {
          "color": "#2ca02c",
          "opacity": 0.6,
          "size": 10,
          "symbol": "square"
         },
         "mode": "markers+text",
         "name": "beta-tubulin, polar uncharged",
         "orientation": "v",
         "showlegend": true,
         "text": [
          "S",
          "T",
          "S",
          "T"
         ],
         "textposition": "top center",
         "type": "scatter",
         "x": [
          45,
          272,
          276,
          277
         ],
         "xaxis": "x",
         "y": [
          3.554393529891968,
          3.767412424087525,
          3.432137012481689,
          3.8407399654388423
         ],
         "yaxis": "y"
        },
        {
         "customdata": [
          [
           1,
           "?"
          ],
          [
           1,
           "?"
          ],
          [
           1,
           "?"
          ]
         ],
         "hovertemplate": "Interacting Chain=ATP<br>aa_classification=positively charged<br>Residue Index=%{x}<br>Distance (angstroms)=%{y}<br>residue_one_letter=%{text}<br>interacting_resinumber=%{customdata[0]}<br>interactingresi_oneletter=%{customdata[1]}<extra></extra>",
         "legendgroup": "ATP, positively charged",
         "marker": {
          "color": "#d62728",
          "opacity": 0.6,
          "size": 10,
          "symbol": "triangle-up"
         },
         "mode": "markers+text",
         "name": "ATP, positively charged",
         "orientation": "v",
         "showlegend": true,
         "text": [
          "R",
          "R",
          "K"
         ],
         "textposition": "top center",
         "type": "scatter",
         "x": [
          9,
          11,
          91
         ],
         "xaxis": "x",
         "y": [
          3.745841026306152,
          3.708322525024414,
          2.7125613689422607
         ],
         "yaxis": "y"
        },
        {
         "customdata": [
          [
           1,
           "?"
          ],
          [
           1,
           "?"
          ],
          [
           1,
           "?"
          ],
          [
           1,
           "?"
          ],
          [
           1,
           "?"
          ],
          [
           1,
           "?"
          ],
          [
           1,
           "?"
          ]
         ],
         "hovertemplate": "Interacting Chain=ATP<br>aa_classification=nonpolar<br>Residue Index=%{x}<br>Distance (angstroms)=%{y}<br>residue_one_letter=%{text}<br>interacting_resinumber=%{customdata[0]}<br>interactingresi_oneletter=%{customdata[1]}<extra></extra>",
         "legendgroup": "ATP, nonpolar",
         "marker": {
          "color": "#d62728",
          "opacity": 0.6,
          "size": 10,
          "symbol": "circle"
         },
         "mode": "markers+text",
         "name": "ATP, nonpolar",
         "orientation": "v",
         "showlegend": true,
         "text": [
          "P",
          "G",
          "G",
          "F",
          "L",
          "A",
          "G"
         ],
         "textposition": "top center",
         "type": "scatter",
         "x": [
          12,
          88,
          90,
          93,
          235,
          236,
          237
         ],
         "xaxis": "x",
         "y": [
          3.789271831512451,
          2.8093905448913574,
          2.9807493686676025,
          2.653727531433105,
          4.471085071563721,
          3.937128782272339,
          2.8996920585632324
         ],
         "yaxis": "y"
        },
        {
         "customdata": [
          [
           1,
           "?"
          ]
         ],
         "hovertemplate": "Interacting Chain=ATP<br>aa_classification=negatively charged<br>Residue Index=%{x}<br>Distance (angstroms)=%{y}<br>residue_one_letter=%{text}<br>interacting_resinumber=%{customdata[0]}<br>interactingresi_oneletter=%{customdata[1]}<extra></extra>",
         "legendgroup": "ATP, negatively charged",
         "marker": {
          "color": "#d62728",
          "opacity": 0.6,
          "size": 10,
          "symbol": "triangle-down"
         },
         "mode": "markers+text",
         "name": "ATP, negatively charged",
         "orientation": "v",
         "showlegend": true,
         "text": [
          "E"
         ],
         "textposition": "top center",
         "type": "scatter",
         "x": [
          203
         ],
         "xaxis": "x",
         "y": [
          3.934193849563599
         ],
         "yaxis": "y"
        },
        {
         "customdata": [
          [
           1,
           "?"
          ],
          [
           1,
           "?"
          ],
          [
           1,
           "?"
          ],
          [
           1,
           "?"
          ],
          [
           1,
           "?"
          ],
          [
           1,
           "?"
          ],
          [
           1,
           "?"
          ]
         ],
         "hovertemplate": "Interacting Chain=ATP<br>aa_classification=polar uncharged<br>Residue Index=%{x}<br>Distance (angstroms)=%{y}<br>residue_one_letter=%{text}<br>interacting_resinumber=%{customdata[0]}<br>interactingresi_oneletter=%{customdata[1]}<extra></extra>",
         "legendgroup": "ATP, polar uncharged",
         "marker": {
          "color": "#d62728",
          "opacity": 0.6,
          "size": 10,
          "symbol": "square"
         },
         "mode": "markers+text",
         "name": "ATP, polar uncharged",
         "orientation": "v",
         "showlegend": true,
         "text": [
          "Q",
          "T",
          "S",
          "T",
          "N",
          "S",
          "S"
         ],
         "textposition": "top center",
         "type": "scatter",
         "x": [
          86,
          87,
          89,
          92,
          201,
          204,
          205
         ],
         "xaxis": "x",
         "y": [
          3.955434083938599,
          2.5848991870880127,
          3.369575262069702,
          2.733748435974121,
          2.9530813694000244,
          2.852642774581909,
          2.8666694164276123
         ],
         "yaxis": "y"
        }
       ],
       "layout": {
        "autosize": false,
        "height": 600,
        "legend": {
         "title": {
          "text": "Interacting Chain"
         },
         "tracegroupgap": 0
        },
        "shapes": [
         {
          "fillcolor": "LightSalmon",
          "layer": "below",
          "line": {
           "width": 0
          },
          "opacity": 0.3,
          "type": "rect",
          "x0": 0,
          "x1": 600,
          "y0": 0,
          "y1": 5
         }
        ],
        "template": {
         "data": {
          "bar": [
           {
            "error_x": {
             "color": "#2a3f5f"
            },
            "error_y": {
             "color": "#2a3f5f"
            },
            "marker": {
             "line": {
              "color": "#E5ECF6",
              "width": 0.5
             },
             "pattern": {
              "fillmode": "overlay",
              "size": 10,
              "solidity": 0.2
             }
            },
            "type": "bar"
           }
          ],
          "barpolar": [
           {
            "marker": {
             "line": {
              "color": "#E5ECF6",
              "width": 0.5
             },
             "pattern": {
              "fillmode": "overlay",
              "size": 10,
              "solidity": 0.2
             }
            },
            "type": "barpolar"
           }
          ],
          "carpet": [
           {
            "aaxis": {
             "endlinecolor": "#2a3f5f",
             "gridcolor": "white",
             "linecolor": "white",
             "minorgridcolor": "white",
             "startlinecolor": "#2a3f5f"
            },
            "baxis": {
             "endlinecolor": "#2a3f5f",
             "gridcolor": "white",
             "linecolor": "white",
             "minorgridcolor": "white",
             "startlinecolor": "#2a3f5f"
            },
            "type": "carpet"
           }
          ],
          "choropleth": [
           {
            "colorbar": {
             "outlinewidth": 0,
             "ticks": ""
            },
            "type": "choropleth"
           }
          ],
          "contour": [
           {
            "colorbar": {
             "outlinewidth": 0,
             "ticks": ""
            },
            "colorscale": [
             [
              0,
              "#0d0887"
             ],
             [
              0.1111111111111111,
              "#46039f"
             ],
             [
              0.2222222222222222,
              "#7201a8"
             ],
             [
              0.3333333333333333,
              "#9c179e"
             ],
             [
              0.4444444444444444,
              "#bd3786"
             ],
             [
              0.5555555555555556,
              "#d8576b"
             ],
             [
              0.6666666666666666,
              "#ed7953"
             ],
             [
              0.7777777777777778,
              "#fb9f3a"
             ],
             [
              0.8888888888888888,
              "#fdca26"
             ],
             [
              1,
              "#f0f921"
             ]
            ],
            "type": "contour"
           }
          ],
          "contourcarpet": [
           {
            "colorbar": {
             "outlinewidth": 0,
             "ticks": ""
            },
            "type": "contourcarpet"
           }
          ],
          "heatmap": [
           {
            "colorbar": {
             "outlinewidth": 0,
             "ticks": ""
            },
            "colorscale": [
             [
              0,
              "#0d0887"
             ],
             [
              0.1111111111111111,
              "#46039f"
             ],
             [
              0.2222222222222222,
              "#7201a8"
             ],
             [
              0.3333333333333333,
              "#9c179e"
             ],
             [
              0.4444444444444444,
              "#bd3786"
             ],
             [
              0.5555555555555556,
              "#d8576b"
             ],
             [
              0.6666666666666666,
              "#ed7953"
             ],
             [
              0.7777777777777778,
              "#fb9f3a"
             ],
             [
              0.8888888888888888,
              "#fdca26"
             ],
             [
              1,
              "#f0f921"
             ]
            ],
            "type": "heatmap"
           }
          ],
          "heatmapgl": [
           {
            "colorbar": {
             "outlinewidth": 0,
             "ticks": ""
            },
            "colorscale": [
             [
              0,
              "#0d0887"
             ],
             [
              0.1111111111111111,
              "#46039f"
             ],
             [
              0.2222222222222222,
              "#7201a8"
             ],
             [
              0.3333333333333333,
              "#9c179e"
             ],
             [
              0.4444444444444444,
              "#bd3786"
             ],
             [
              0.5555555555555556,
              "#d8576b"
             ],
             [
              0.6666666666666666,
              "#ed7953"
             ],
             [
              0.7777777777777778,
              "#fb9f3a"
             ],
             [
              0.8888888888888888,
              "#fdca26"
             ],
             [
              1,
              "#f0f921"
             ]
            ],
            "type": "heatmapgl"
           }
          ],
          "histogram": [
           {
            "marker": {
             "pattern": {
              "fillmode": "overlay",
              "size": 10,
              "solidity": 0.2
             }
            },
            "type": "histogram"
           }
          ],
          "histogram2d": [
           {
            "colorbar": {
             "outlinewidth": 0,
             "ticks": ""
            },
            "colorscale": [
             [
              0,
              "#0d0887"
             ],
             [
              0.1111111111111111,
              "#46039f"
             ],
             [
              0.2222222222222222,
              "#7201a8"
             ],
             [
              0.3333333333333333,
              "#9c179e"
             ],
             [
              0.4444444444444444,
              "#bd3786"
             ],
             [
              0.5555555555555556,
              "#d8576b"
             ],
             [
              0.6666666666666666,
              "#ed7953"
             ],
             [
              0.7777777777777778,
              "#fb9f3a"
             ],
             [
              0.8888888888888888,
              "#fdca26"
             ],
             [
              1,
              "#f0f921"
             ]
            ],
            "type": "histogram2d"
           }
          ],
          "histogram2dcontour": [
           {
            "colorbar": {
             "outlinewidth": 0,
             "ticks": ""
            },
            "colorscale": [
             [
              0,
              "#0d0887"
             ],
             [
              0.1111111111111111,
              "#46039f"
             ],
             [
              0.2222222222222222,
              "#7201a8"
             ],
             [
              0.3333333333333333,
              "#9c179e"
             ],
             [
              0.4444444444444444,
              "#bd3786"
             ],
             [
              0.5555555555555556,
              "#d8576b"
             ],
             [
              0.6666666666666666,
              "#ed7953"
             ],
             [
              0.7777777777777778,
              "#fb9f3a"
             ],
             [
              0.8888888888888888,
              "#fdca26"
             ],
             [
              1,
              "#f0f921"
             ]
            ],
            "type": "histogram2dcontour"
           }
          ],
          "mesh3d": [
           {
            "colorbar": {
             "outlinewidth": 0,
             "ticks": ""
            },
            "type": "mesh3d"
           }
          ],
          "parcoords": [
           {
            "line": {
             "colorbar": {
              "outlinewidth": 0,
              "ticks": ""
             }
            },
            "type": "parcoords"
           }
          ],
          "pie": [
           {
            "automargin": true,
            "type": "pie"
           }
          ],
          "scatter": [
           {
            "fillpattern": {
             "fillmode": "overlay",
             "size": 10,
             "solidity": 0.2
            },
            "type": "scatter"
           }
          ],
          "scatter3d": [
           {
            "line": {
             "colorbar": {
              "outlinewidth": 0,
              "ticks": ""
             }
            },
            "marker": {
             "colorbar": {
              "outlinewidth": 0,
              "ticks": ""
             }
            },
            "type": "scatter3d"
           }
          ],
          "scattercarpet": [
           {
            "marker": {
             "colorbar": {
              "outlinewidth": 0,
              "ticks": ""
             }
            },
            "type": "scattercarpet"
           }
          ],
          "scattergeo": [
           {
            "marker": {
             "colorbar": {
              "outlinewidth": 0,
              "ticks": ""
             }
            },
            "type": "scattergeo"
           }
          ],
          "scattergl": [
           {
            "marker": {
             "colorbar": {
              "outlinewidth": 0,
              "ticks": ""
             }
            },
            "type": "scattergl"
           }
          ],
          "scattermapbox": [
           {
            "marker": {
             "colorbar": {
              "outlinewidth": 0,
              "ticks": ""
             }
            },
            "type": "scattermapbox"
           }
          ],
          "scatterpolar": [
           {
            "marker": {
             "colorbar": {
              "outlinewidth": 0,
              "ticks": ""
             }
            },
            "type": "scatterpolar"
           }
          ],
          "scatterpolargl": [
           {
            "marker": {
             "colorbar": {
              "outlinewidth": 0,
              "ticks": ""
             }
            },
            "type": "scatterpolargl"
           }
          ],
          "scatterternary": [
           {
            "marker": {
             "colorbar": {
              "outlinewidth": 0,
              "ticks": ""
             }
            },
            "type": "scatterternary"
           }
          ],
          "surface": [
           {
            "colorbar": {
             "outlinewidth": 0,
             "ticks": ""
            },
            "colorscale": [
             [
              0,
              "#0d0887"
             ],
             [
              0.1111111111111111,
              "#46039f"
             ],
             [
              0.2222222222222222,
              "#7201a8"
             ],
             [
              0.3333333333333333,
              "#9c179e"
             ],
             [
              0.4444444444444444,
              "#bd3786"
             ],
             [
              0.5555555555555556,
              "#d8576b"
             ],
             [
              0.6666666666666666,
              "#ed7953"
             ],
             [
              0.7777777777777778,
              "#fb9f3a"
             ],
             [
              0.8888888888888888,
              "#fdca26"
             ],
             [
              1,
              "#f0f921"
             ]
            ],
            "type": "surface"
           }
          ],
          "table": [
           {
            "cells": {
             "fill": {
              "color": "#EBF0F8"
             },
             "line": {
              "color": "white"
             }
            },
            "header": {
             "fill": {
              "color": "#C8D4E3"
             },
             "line": {
              "color": "white"
             }
            },
            "type": "table"
           }
          ]
         },
         "layout": {
          "annotationdefaults": {
           "arrowcolor": "#2a3f5f",
           "arrowhead": 0,
           "arrowwidth": 1
          },
          "autotypenumbers": "strict",
          "coloraxis": {
           "colorbar": {
            "outlinewidth": 0,
            "ticks": ""
           }
          },
          "colorscale": {
           "diverging": [
            [
             0,
             "#8e0152"
            ],
            [
             0.1,
             "#c51b7d"
            ],
            [
             0.2,
             "#de77ae"
            ],
            [
             0.3,
             "#f1b6da"
            ],
            [
             0.4,
             "#fde0ef"
            ],
            [
             0.5,
             "#f7f7f7"
            ],
            [
             0.6,
             "#e6f5d0"
            ],
            [
             0.7,
             "#b8e186"
            ],
            [
             0.8,
             "#7fbc41"
            ],
            [
             0.9,
             "#4d9221"
            ],
            [
             1,
             "#276419"
            ]
           ],
           "sequential": [
            [
             0,
             "#0d0887"
            ],
            [
             0.1111111111111111,
             "#46039f"
            ],
            [
             0.2222222222222222,
             "#7201a8"
            ],
            [
             0.3333333333333333,
             "#9c179e"
            ],
            [
             0.4444444444444444,
             "#bd3786"
            ],
            [
             0.5555555555555556,
             "#d8576b"
            ],
            [
             0.6666666666666666,
             "#ed7953"
            ],
            [
             0.7777777777777778,
             "#fb9f3a"
            ],
            [
             0.8888888888888888,
             "#fdca26"
            ],
            [
             1,
             "#f0f921"
            ]
           ],
           "sequentialminus": [
            [
             0,
             "#0d0887"
            ],
            [
             0.1111111111111111,
             "#46039f"
            ],
            [
             0.2222222222222222,
             "#7201a8"
            ],
            [
             0.3333333333333333,
             "#9c179e"
            ],
            [
             0.4444444444444444,
             "#bd3786"
            ],
            [
             0.5555555555555556,
             "#d8576b"
            ],
            [
             0.6666666666666666,
             "#ed7953"
            ],
            [
             0.7777777777777778,
             "#fb9f3a"
            ],
            [
             0.8888888888888888,
             "#fdca26"
            ],
            [
             1,
             "#f0f921"
            ]
           ]
          },
          "colorway": [
           "#636efa",
           "#EF553B",
           "#00cc96",
           "#ab63fa",
           "#FFA15A",
           "#19d3f3",
           "#FF6692",
           "#B6E880",
           "#FF97FF",
           "#FECB52"
          ],
          "font": {
           "color": "#2a3f5f"
          },
          "geo": {
           "bgcolor": "white",
           "lakecolor": "white",
           "landcolor": "#E5ECF6",
           "showlakes": true,
           "showland": true,
           "subunitcolor": "white"
          },
          "hoverlabel": {
           "align": "left"
          },
          "hovermode": "closest",
          "mapbox": {
           "style": "light"
          },
          "paper_bgcolor": "white",
          "plot_bgcolor": "#E5ECF6",
          "polar": {
           "angularaxis": {
            "gridcolor": "white",
            "linecolor": "white",
            "ticks": ""
           },
           "bgcolor": "#E5ECF6",
           "radialaxis": {
            "gridcolor": "white",
            "linecolor": "white",
            "ticks": ""
           }
          },
          "scene": {
           "xaxis": {
            "backgroundcolor": "#E5ECF6",
            "gridcolor": "white",
            "gridwidth": 2,
            "linecolor": "white",
            "showbackground": true,
            "ticks": "",
            "zerolinecolor": "white"
           },
           "yaxis": {
            "backgroundcolor": "#E5ECF6",
            "gridcolor": "white",
            "gridwidth": 2,
            "linecolor": "white",
            "showbackground": true,
            "ticks": "",
            "zerolinecolor": "white"
           },
           "zaxis": {
            "backgroundcolor": "#E5ECF6",
            "gridcolor": "white",
            "gridwidth": 2,
            "linecolor": "white",
            "showbackground": true,
            "ticks": "",
            "zerolinecolor": "white"
           }
          },
          "shapedefaults": {
           "line": {
            "color": "#2a3f5f"
           }
          },
          "ternary": {
           "aaxis": {
            "gridcolor": "white",
            "linecolor": "white",
            "ticks": ""
           },
           "baxis": {
            "gridcolor": "white",
            "linecolor": "white",
            "ticks": ""
           },
           "bgcolor": "#E5ECF6",
           "caxis": {
            "gridcolor": "white",
            "linecolor": "white",
            "ticks": ""
           }
          },
          "title": {
           "x": 0.05
          },
          "xaxis": {
           "automargin": true,
           "gridcolor": "white",
           "linecolor": "white",
           "ticks": "",
           "title": {
            "standoff": 15
           },
           "zerolinecolor": "white",
           "zerolinewidth": 2
          },
          "yaxis": {
           "automargin": true,
           "gridcolor": "white",
           "linecolor": "white",
           "ticks": "",
           "title": {
            "standoff": 15
           },
           "zerolinecolor": "white",
           "zerolinewidth": 2
          }
         }
        },
        "title": {
         "text": "Interactions for H_seed44_model_0"
        },
        "width": 1600,
        "xaxis": {
         "anchor": "y",
         "domain": [
          0,
          1
         ],
         "dtick": 20,
         "range": [
          0,
          600
         ],
         "title": {
          "text": "Residue Index"
         }
        },
        "yaxis": {
         "anchor": "x",
         "domain": [
          0,
          1
         ],
         "range": [
          0.1,
          5
         ],
         "title": {
          "text": "Distance (angstroms)"
         }
        }
       }
      }
     },
     "metadata": {},
     "output_type": "display_data"
    },
    {
     "data": {
      "application/vnd.plotly.v1+json": {
       "config": {
        "plotlyServerURL": "https://plot.ly"
       },
       "data": [
        {
         "customdata": [
          [
           492,
           "Q"
          ],
          [
           341,
           "A"
          ],
          [
           344,
           "L"
          ],
          [
           354,
           "E"
          ],
          [
           463,
           "E"
          ],
          [
           470,
           "E"
          ],
          [
           472,
           "E"
          ],
          [
           491,
           "D"
          ],
          [
           528,
           "L"
          ],
          [
           535,
           "S"
          ],
          [
           552,
           "E"
          ],
          [
           578,
           "L"
          ]
         ],
         "hovertemplate": "Interacting Chain=kinesin B<br>aa_classification=positively charged<br>Residue Index=%{x}<br>Distance (angstroms)=%{y}<br>residue_one_letter=%{text}<br>interacting_resinumber=%{customdata[0]}<br>interactingresi_oneletter=%{customdata[1]}<extra></extra>",
         "legendgroup": "kinesin B, positively charged",
         "marker": {
          "color": "#1f77b4",
          "opacity": 0.6,
          "size": 10,
          "symbol": "triangle-up"
         },
         "mode": "markers+text",
         "name": "kinesin B, positively charged",
         "orientation": "v",
         "showlegend": true,
         "text": [
          "R",
          "R",
          "K",
          "K",
          "K",
          "K",
          "K",
          "K",
          "K",
          "R",
          "K",
          "R"
         ],
         "textposition": "top center",
         "type": "scatter",
         "x": [
          152,
          339,
          345,
          359,
          458,
          469,
          473,
          490,
          529,
          536,
          557,
          566
         ],
         "xaxis": "x",
         "y": [
          4.0448994636535645,
          4.422740459442139,
          4.341232299804688,
          2.6367695331573486,
          2.7016818523406982,
          2.105870246887207,
          2.474350690841675,
          2.483264446258545,
          3.8908326625823975,
          3.5767977237701416,
          2.7038073539733887,
          2.852592945098877
         ],
         "yaxis": "y"
        },
        {
         "customdata": [
          [
           344,
           "L"
          ],
          [
           341,
           "A"
          ],
          [
           348,
           "L"
          ],
          [
           347,
           "L"
          ],
          [
           355,
           "I"
          ],
          [
           355,
           "I"
          ],
          [
           362,
           "I"
          ],
          [
           362,
           "I"
          ],
          [
           371,
           "V"
          ],
          [
           376,
           "L"
          ],
          [
           365,
           "L"
          ],
          [
           361,
           "Y"
          ],
          [
           368,
           "V"
          ],
          [
           452,
           "I"
          ],
          [
           452,
           "I"
          ],
          [
           459,
           "C"
          ],
          [
           466,
           "L"
          ],
          [
           466,
           "L"
          ],
          [
           476,
           "I"
          ],
          [
           476,
           "I"
          ],
          [
           483,
           "Q"
          ],
          [
           490,
           "K"
          ],
          [
           493,
           "E"
          ],
          [
           501,
           "I"
          ],
          [
           501,
           "I"
          ],
          [
           497,
           "L"
          ],
          [
           508,
           "N"
          ],
          [
           511,
           "Y"
          ],
          [
           518,
           "N"
          ],
          [
           521,
           "L"
          ],
          [
           532,
           "L"
          ],
          [
           532,
           "L"
          ],
          [
           532,
           "L"
          ],
          [
           542,
           "Q"
          ],
          [
           546,
           "I"
          ],
          [
           550,
           "N"
          ],
          [
           556,
           "I"
          ],
          [
           556,
           "I"
          ],
          [
           567,
           "I"
          ],
          [
           563,
           "L"
          ],
          [
           575,
           "I"
          ],
          [
           566,
           "R"
          ],
          [
           566,
           "R"
          ]
         ],
         "hovertemplate": "Interacting Chain=kinesin B<br>aa_classification=nonpolar<br>Residue Index=%{x}<br>Distance (angstroms)=%{y}<br>residue_one_letter=%{text}<br>interacting_resinumber=%{customdata[0]}<br>interactingresi_oneletter=%{customdata[1]}<extra></extra>",
         "legendgroup": "kinesin B, nonpolar",
         "marker": {
          "color": "#1f77b4",
          "opacity": 0.6,
          "size": 10,
          "symbol": "circle"
         },
         "mode": "markers+text",
         "name": "kinesin B, nonpolar",
         "orientation": "v",
         "showlegend": true,
         "text": [
          "A",
          "L",
          "L",
          "L",
          "A",
          "I",
          "L",
          "I",
          "L",
          "V",
          "V",
          "V",
          "L",
          "L",
          "I",
          "L",
          "L",
          "L",
          "I",
          "L",
          "L",
          "I",
          "I",
          "L",
          "M",
          "I",
          "I",
          "L",
          "L",
          "L",
          "L",
          "A",
          "L",
          "A",
          "I",
          "L",
          "I",
          "L",
          "L",
          "I",
          "I",
          "L",
          "P"
         ],
         "textposition": "top center",
         "type": "scatter",
         "x": [
          341,
          344,
          347,
          348,
          351,
          355,
          358,
          362,
          365,
          368,
          371,
          373,
          376,
          451,
          452,
          455,
          462,
          466,
          476,
          477,
          480,
          487,
          494,
          497,
          500,
          501,
          507,
          510,
          521,
          525,
          528,
          531,
          532,
          539,
          546,
          549,
          556,
          560,
          563,
          567,
          575,
          578,
          580
         ],
         "xaxis": "x",
         "y": [
          3.352670669555664,
          3.4006736278533936,
          3.6735100746154794,
          3.649280309677124,
          3.5983810424804688,
          3.4929120540618896,
          3.2909343242645264,
          3.31013298034668,
          3.0692226886749268,
          3.2244272232055664,
          3.096750020980835,
          3.383220672607422,
          3.2529332637786865,
          3.769510746002197,
          3.618842601776123,
          3.7729103565216064,
          3.384760618209839,
          3.225960493087769,
          3.269155263900757,
          4.033460140228272,
          3.0475027561187744,
          3.08655047416687,
          3.436981201171875,
          2.992865085601806,
          3.702695369720459,
          2.823083877563477,
          3.486403703689575,
          3.431825399398804,
          3.1627604961395264,
          3.496685743331909,
          3.552430391311645,
          3.333498954772949,
          3.3699793815612797,
          2.745114803314209,
          3.3423826694488525,
          2.998840093612671,
          3.160810232162476,
          3.4831581115722656,
          3.360907793045044,
          3.3315670490264893,
          3.196779251098633,
          2.6392416954040527,
          4.013004302978516
         ],
         "yaxis": "y"
        },
        {
         "customdata": [
          [
           366,
           "E"
          ],
          [
           369,
           "S"
          ],
          [
           361,
           "Y"
          ],
          [
           448,
           "D"
          ],
          [
           444,
           "T"
          ],
          [
           455,
           "L"
          ],
          [
           459,
           "C"
          ],
          [
           466,
           "L"
          ],
          [
           480,
           "L"
          ],
          [
           480,
           "L"
          ],
          [
           483,
           "Q"
          ],
          [
           487,
           "I"
          ],
          [
           497,
           "L"
          ],
          [
           504,
           "S"
          ],
          [
           507,
           "I"
          ],
          [
           511,
           "Y"
          ],
          [
           514,
           "S"
          ],
          [
           514,
           "S"
          ],
          [
           518,
           "N"
          ],
          [
           521,
           "L"
          ],
          [
           525,
           "L"
          ],
          [
           535,
           "S"
          ],
          [
           539,
           "A"
          ],
          [
           542,
           "Q"
          ],
          [
           546,
           "I"
          ],
          [
           549,
           "L"
          ],
          [
           553,
           "N"
          ],
          [
           560,
           "L"
          ],
          [
           578,
           "L"
          ],
          [
           566,
           "R"
          ]
         ],
         "hovertemplate": "Interacting Chain=kinesin B<br>aa_classification=polar uncharged<br>Residue Index=%{x}<br>Distance (angstroms)=%{y}<br>residue_one_letter=%{text}<br>interacting_resinumber=%{customdata[0]}<br>interactingresi_oneletter=%{customdata[1]}<extra></extra>",
         "legendgroup": "kinesin B, polar uncharged",
         "marker": {
          "color": "#1f77b4",
          "opacity": 0.6,
          "size": 10,
          "symbol": "square"
         },
         "mode": "markers+text",
         "name": "kinesin B, polar uncharged",
         "orientation": "v",
         "showlegend": true,
         "text": [
          "Y",
          "S",
          "T",
          "T",
          "S",
          "Q",
          "C",
          "Q",
          "Q",
          "Q",
          "Q",
          "Q",
          "N",
          "S",
          "N",
          "Y",
          "S",
          "T",
          "N",
          "N",
          "Q",
          "S",
          "Q",
          "S",
          "T",
          "N",
          "N",
          "Q",
          "S",
          "S"
         ],
         "textposition": "top center",
         "type": "scatter",
         "x": [
          361,
          369,
          372,
          444,
          445,
          456,
          459,
          465,
          479,
          483,
          484,
          486,
          498,
          504,
          508,
          511,
          514,
          515,
          518,
          522,
          524,
          535,
          542,
          543,
          545,
          550,
          553,
          559,
          570,
          577
         ],
         "xaxis": "x",
         "y": [
          2.812500476837158,
          3.328286409378052,
          4.370046138763428,
          2.269585132598877,
          3.614556789398194,
          3.925487995147705,
          2.967070817947388,
          3.502044677734375,
          3.5618274211883545,
          3.0556626319885254,
          3.395170927047729,
          3.521336317062378,
          3.1460282802581787,
          2.380979061126709,
          3.2812089920043945,
          3.350341796875,
          2.7218685150146484,
          3.446244955062866,
          1.9016145467758176,
          3.285631895065308,
          3.56946873664856,
          2.825453519821167,
          2.670006036758423,
          3.8427000045776367,
          4.004397869110107,
          3.128591299057007,
          2.238116979598999,
          3.912660598754883,
          4.463649749755859,
          4.498122215270996
         ],
         "yaxis": "y"
        },
        {
         "customdata": [
          [
           345,
           "K"
          ],
          [
           359,
           "K"
          ],
          [
           373,
           "V"
          ],
          [
           361,
           "Y"
          ],
          [
           444,
           "T"
          ],
          [
           458,
           "K"
          ],
          [
           469,
           "K"
          ],
          [
           473,
           "K"
          ],
          [
           490,
           "K"
          ],
          [
           494,
           "I"
          ],
          [
           518,
           "N"
          ],
          [
           557,
           "K"
          ],
          [
           572,
           "D"
          ]
         ],
         "hovertemplate": "Interacting Chain=kinesin B<br>aa_classification=negatively charged<br>Residue Index=%{x}<br>Distance (angstroms)=%{y}<br>residue_one_letter=%{text}<br>interacting_resinumber=%{customdata[0]}<br>interactingresi_oneletter=%{customdata[1]}<extra></extra>",
         "legendgroup": "kinesin B, negatively charged",
         "marker": {
          "color": "#1f77b4",
          "opacity": 0.6,
          "size": 10,
          "symbol": "triangle-down"
         },
         "mode": "markers+text",
         "name": "kinesin B, negatively charged",
         "orientation": "v",
         "showlegend": true,
         "text": [
          "E",
          "E",
          "E",
          "E",
          "D",
          "E",
          "E",
          "E",
          "D",
          "E",
          "E",
          "E",
          "D"
         ],
         "textposition": "top center",
         "type": "scatter",
         "x": [
          338,
          354,
          364,
          366,
          448,
          463,
          470,
          472,
          491,
          493,
          517,
          552,
          572
         ],
         "xaxis": "x",
         "y": [
          4.300590991973877,
          2.7827043533325195,
          3.576969861984253,
          2.8886423110961914,
          2.1057217121124268,
          2.719893217086792,
          1.86358642578125,
          2.5197622776031494,
          2.54052734375,
          3.40466570854187,
          3.323571920394897,
          2.691232919692993,
          4.172123432159424
         ],
         "yaxis": "y"
        },
        {
         "customdata": [
          [
           420,
           "E"
          ],
          [
           410,
           "G"
          ],
          [
           409,
           "V"
          ],
          [
           423,
           "E"
          ],
          [
           90,
           "E"
          ]
         ],
         "hovertemplate": "Interacting Chain=alpha-tubulin<br>aa_classification=positively charged<br>Residue Index=%{x}<br>Distance (angstroms)=%{y}<br>residue_one_letter=%{text}<br>interacting_resinumber=%{customdata[0]}<br>interactingresi_oneletter=%{customdata[1]}<extra></extra>",
         "legendgroup": "alpha-tubulin, positively charged",
         "marker": {
          "color": "#ff7f0e",
          "opacity": 0.6,
          "size": 10,
          "symbol": "triangle-up"
         },
         "mode": "markers+text",
         "name": "alpha-tubulin, positively charged",
         "orientation": "v",
         "showlegend": true,
         "text": [
          "K",
          "K",
          "K",
          "R",
          "K"
         ],
         "textposition": "top center",
         "type": "scatter",
         "x": [
          240,
          255,
          259,
          321,
          534
         ],
         "xaxis": "x",
         "y": [
          2.6980981826782227,
          3.496099710464477,
          3.484315156936645,
          3.040526390075684,
          2.9197826385498047
         ],
         "yaxis": "y"
        },
        {
         "customdata": [
          [
           412,
           "G"
          ],
          [
           112,
           "K"
          ],
          [
           420,
           "E"
          ],
          [
           121,
           "R"
          ],
          [
           60,
           "K"
          ],
          [
           35,
           "Q"
          ]
         ],
         "hovertemplate": "Interacting Chain=alpha-tubulin<br>aa_classification=nonpolar<br>Residue Index=%{x}<br>Distance (angstroms)=%{y}<br>residue_one_letter=%{text}<br>interacting_resinumber=%{customdata[0]}<br>interactingresi_oneletter=%{customdata[1]}<extra></extra>",
         "legendgroup": "alpha-tubulin, nonpolar",
         "marker": {
          "color": "#ff7f0e",
          "opacity": 0.6,
          "size": 10,
          "symbol": "circle"
         },
         "mode": "markers+text",
         "name": "alpha-tubulin, nonpolar",
         "orientation": "v",
         "showlegend": true,
         "text": [
          "I",
          "A",
          "A",
          "L",
          "F",
          "L"
         ],
         "textposition": "top center",
         "type": "scatter",
         "x": [
          241,
          246,
          314,
          530,
          537,
          544
         ],
         "xaxis": "x",
         "y": [
          3.000255584716797,
          3.4809939861297607,
          2.684783458709717,
          2.959052085876465,
          2.747749090194702,
          3.972515821456909
         ],
         "yaxis": "y"
        },
        {
         "customdata": [
          [
           414,
           "E"
          ],
          [
           112,
           "K"
          ],
          [
           409,
           "V"
          ],
          [
           415,
           "E"
          ],
          [
           402,
           "R"
          ],
          [
           402,
           "R"
          ],
          [
           85,
           "Q"
          ],
          [
           58,
           "A"
          ]
         ],
         "hovertemplate": "Interacting Chain=alpha-tubulin<br>aa_classification=polar uncharged<br>Residue Index=%{x}<br>Distance (angstroms)=%{y}<br>residue_one_letter=%{text}<br>interacting_resinumber=%{customdata[0]}<br>interactingresi_oneletter=%{customdata[1]}<extra></extra>",
         "legendgroup": "alpha-tubulin, polar uncharged",
         "marker": {
          "color": "#ff7f0e",
          "opacity": 0.6,
          "size": 10,
          "symbol": "square"
         },
         "mode": "markers+text",
         "name": "alpha-tubulin, polar uncharged",
         "orientation": "v",
         "showlegend": true,
         "text": [
          "S",
          "Q",
          "N",
          "S",
          "N",
          "N",
          "T",
          "T"
         ],
         "textposition": "top center",
         "type": "scatter",
         "x": [
          238,
          247,
          258,
          262,
          266,
          269,
          540,
          545
         ],
         "xaxis": "x",
         "y": [
          2.7677788734436035,
          4.054081439971924,
          3.58432412147522,
          2.531266450881958,
          3.555436849594116,
          4.499035835266113,
          4.309847831726074,
          2.5390193462371826
         ],
         "yaxis": "y"
        },
        {
         "customdata": [
          [
           414,
           "E"
          ],
          [
           414,
           "E"
          ],
          [
           89,
           "P"
          ],
          [
           56,
           "T"
          ]
         ],
         "hovertemplate": "Interacting Chain=alpha-tubulin<br>aa_classification=negatively charged<br>Residue Index=%{x}<br>Distance (angstroms)=%{y}<br>residue_one_letter=%{text}<br>interacting_resinumber=%{customdata[0]}<br>interactingresi_oneletter=%{customdata[1]}<extra></extra>",
         "legendgroup": "alpha-tubulin, negatively charged",
         "marker": {
          "color": "#ff7f0e",
          "opacity": 0.6,
          "size": 10,
          "symbol": "triangle-down"
         },
         "mode": "markers+text",
         "name": "alpha-tubulin, negatively charged",
         "orientation": "v",
         "showlegend": true,
         "text": [
          "E",
          "E",
          "E",
          "E"
         ],
         "textposition": "top center",
         "type": "scatter",
         "x": [
          239,
          315,
          533,
          541
         ],
         "xaxis": "x",
         "y": [
          4.289018154144287,
          4.405719757080078,
          3.8256819248199454,
          2.6400301456451416
         ],
         "yaxis": "y"
        },
        {
         "customdata": [
          [
           157,
           "E"
          ],
          [
           407,
           "E"
          ],
          [
           432,
           "E"
          ],
          [
           424,
           "Q"
          ],
          [
           417,
           "D"
          ],
          [
           194,
           "E"
          ],
          [
           417,
           "D"
          ]
         ],
         "hovertemplate": "Interacting Chain=beta-tubulin<br>aa_classification=positively charged<br>Residue Index=%{x}<br>Distance (angstroms)=%{y}<br>residue_one_letter=%{text}<br>interacting_resinumber=%{customdata[0]}<br>interactingresi_oneletter=%{customdata[1]}<extra></extra>",
         "legendgroup": "beta-tubulin, positively charged",
         "marker": {
          "color": "#2ca02c",
          "opacity": 0.6,
          "size": 10,
          "symbol": "triangle-up"
         },
         "mode": "markers+text",
         "name": "beta-tubulin, positively charged",
         "orientation": "v",
         "showlegend": true,
         "text": [
          "R",
          "R",
          "K",
          "H",
          "R",
          "K",
          "R"
         ],
         "textposition": "top center",
         "type": "scatter",
         "x": [
          144,
          159,
          275,
          278,
          282,
          285,
          288
         ],
         "xaxis": "x",
         "y": [
          2.405886650085449,
          2.6253528594970703,
          3.485379695892334,
          2.67672061920166,
          2.5100438594818115,
          3.21803879737854,
          4.336552143096924
         ],
         "yaxis": "y"
        },
        {
         "customdata": [
          [
           410,
           "E"
          ],
          [
           406,
           "M"
          ]
         ],
         "hovertemplate": "Interacting Chain=beta-tubulin<br>aa_classification=nonpolar<br>Residue Index=%{x}<br>Distance (angstroms)=%{y}<br>residue_one_letter=%{text}<br>interacting_resinumber=%{customdata[0]}<br>interactingresi_oneletter=%{customdata[1]}<extra></extra>",
         "legendgroup": "beta-tubulin, nonpolar",
         "marker": {
          "color": "#2ca02c",
          "opacity": 0.6,
          "size": 10,
          "symbol": "circle"
         },
         "mode": "markers+text",
         "name": "beta-tubulin, nonpolar",
         "orientation": "v",
         "showlegend": true,
         "text": [
          "V",
          "W"
         ],
         "textposition": "top center",
         "type": "scatter",
         "x": [
          158,
          167
         ],
         "xaxis": "x",
         "y": [
          2.7143521308898926,
          3.63224196434021
         ],
         "yaxis": "y"
        },
        {
         "customdata": [
          [
           424,
           "Q"
          ],
          [
           424,
           "Q"
          ],
          [
           125,
           "E"
          ]
         ],
         "hovertemplate": "Interacting Chain=beta-tubulin<br>aa_classification=polar uncharged<br>Residue Index=%{x}<br>Distance (angstroms)=%{y}<br>residue_one_letter=%{text}<br>interacting_resinumber=%{customdata[0]}<br>interactingresi_oneletter=%{customdata[1]}<extra></extra>",
         "legendgroup": "beta-tubulin, polar uncharged",
         "marker": {
          "color": "#2ca02c",
          "opacity": 0.6,
          "size": 10,
          "symbol": "square"
         },
         "mode": "markers+text",
         "name": "beta-tubulin, polar uncharged",
         "orientation": "v",
         "showlegend": true,
         "text": [
          "S",
          "T",
          "Y"
         ],
         "textposition": "top center",
         "type": "scatter",
         "x": [
          276,
          277,
          511
         ],
         "xaxis": "x",
         "y": [
          3.600513219833374,
          3.5962114334106445,
          3.444732189178467
         ],
         "yaxis": "y"
        },
        {
         "customdata": [
          [
           413,
           "S"
          ],
          [
           406,
           "M"
          ],
          [
           262,
           "R"
          ]
         ],
         "hovertemplate": "Interacting Chain=beta-tubulin<br>aa_classification=negatively charged<br>Residue Index=%{x}<br>Distance (angstroms)=%{y}<br>residue_one_letter=%{text}<br>interacting_resinumber=%{customdata[0]}<br>interactingresi_oneletter=%{customdata[1]}<extra></extra>",
         "legendgroup": "beta-tubulin, negatively charged",
         "marker": {
          "color": "#2ca02c",
          "opacity": 0.6,
          "size": 10,
          "symbol": "triangle-down"
         },
         "mode": "markers+text",
         "name": "beta-tubulin, negatively charged",
         "orientation": "v",
         "showlegend": true,
         "text": [
          "E",
          "E",
          "D"
         ],
         "textposition": "top center",
         "type": "scatter",
         "x": [
          160,
          169,
          283
         ],
         "xaxis": "x",
         "y": [
          2.932203531265259,
          3.814422607421875,
          3.1357169151306152
         ],
         "yaxis": "y"
        },
        {
         "customdata": [
          [
           1,
           "?"
          ],
          [
           1,
           "?"
          ],
          [
           1,
           "?"
          ]
         ],
         "hovertemplate": "Interacting Chain=ATP<br>aa_classification=positively charged<br>Residue Index=%{x}<br>Distance (angstroms)=%{y}<br>residue_one_letter=%{text}<br>interacting_resinumber=%{customdata[0]}<br>interactingresi_oneletter=%{customdata[1]}<extra></extra>",
         "legendgroup": "ATP, positively charged",
         "marker": {
          "color": "#d62728",
          "opacity": 0.6,
          "size": 10,
          "symbol": "triangle-up"
         },
         "mode": "markers+text",
         "name": "ATP, positively charged",
         "orientation": "v",
         "showlegend": true,
         "text": [
          "R",
          "R",
          "K"
         ],
         "textposition": "top center",
         "type": "scatter",
         "x": [
          9,
          11,
          91
         ],
         "xaxis": "x",
         "y": [
          3.8110854625701904,
          3.6112711429595943,
          2.767303705215454
         ],
         "yaxis": "y"
        },
        {
         "customdata": [
          [
           1,
           "?"
          ],
          [
           1,
           "?"
          ],
          [
           1,
           "?"
          ],
          [
           1,
           "?"
          ],
          [
           1,
           "?"
          ],
          [
           1,
           "?"
          ],
          [
           1,
           "?"
          ]
         ],
         "hovertemplate": "Interacting Chain=ATP<br>aa_classification=nonpolar<br>Residue Index=%{x}<br>Distance (angstroms)=%{y}<br>residue_one_letter=%{text}<br>interacting_resinumber=%{customdata[0]}<br>interactingresi_oneletter=%{customdata[1]}<extra></extra>",
         "legendgroup": "ATP, nonpolar",
         "marker": {
          "color": "#d62728",
          "opacity": 0.6,
          "size": 10,
          "symbol": "circle"
         },
         "mode": "markers+text",
         "name": "ATP, nonpolar",
         "orientation": "v",
         "showlegend": true,
         "text": [
          "P",
          "G",
          "G",
          "F",
          "L",
          "A",
          "G"
         ],
         "textposition": "top center",
         "type": "scatter",
         "x": [
          12,
          88,
          90,
          93,
          235,
          236,
          237
         ],
         "xaxis": "x",
         "y": [
          3.538724899291992,
          2.782920360565185,
          3.160573482513428,
          2.775160551071167,
          4.3223876953125,
          3.729917526245117,
          2.684591054916382
         ],
         "yaxis": "y"
        },
        {
         "customdata": [
          [
           1,
           "?"
          ],
          [
           1,
           "?"
          ],
          [
           1,
           "?"
          ],
          [
           1,
           "?"
          ],
          [
           1,
           "?"
          ],
          [
           1,
           "?"
          ],
          [
           1,
           "?"
          ]
         ],
         "hovertemplate": "Interacting Chain=ATP<br>aa_classification=polar uncharged<br>Residue Index=%{x}<br>Distance (angstroms)=%{y}<br>residue_one_letter=%{text}<br>interacting_resinumber=%{customdata[0]}<br>interactingresi_oneletter=%{customdata[1]}<extra></extra>",
         "legendgroup": "ATP, polar uncharged",
         "marker": {
          "color": "#d62728",
          "opacity": 0.6,
          "size": 10,
          "symbol": "square"
         },
         "mode": "markers+text",
         "name": "ATP, polar uncharged",
         "orientation": "v",
         "showlegend": true,
         "text": [
          "Q",
          "T",
          "S",
          "T",
          "N",
          "S",
          "S"
         ],
         "textposition": "top center",
         "type": "scatter",
         "x": [
          86,
          87,
          89,
          92,
          201,
          204,
          205
         ],
         "xaxis": "x",
         "y": [
          3.859710216522217,
          2.417330503463745,
          3.446014404296875,
          2.703174591064453,
          3.0179901123046875,
          2.799468994140625,
          2.7962725162506104
         ],
         "yaxis": "y"
        },
        {
         "customdata": [
          [
           1,
           "?"
          ]
         ],
         "hovertemplate": "Interacting Chain=ATP<br>aa_classification=negatively charged<br>Residue Index=%{x}<br>Distance (angstroms)=%{y}<br>residue_one_letter=%{text}<br>interacting_resinumber=%{customdata[0]}<br>interactingresi_oneletter=%{customdata[1]}<extra></extra>",
         "legendgroup": "ATP, negatively charged",
         "marker": {
          "color": "#d62728",
          "opacity": 0.6,
          "size": 10,
          "symbol": "triangle-down"
         },
         "mode": "markers+text",
         "name": "ATP, negatively charged",
         "orientation": "v",
         "showlegend": true,
         "text": [
          "E"
         ],
         "textposition": "top center",
         "type": "scatter",
         "x": [
          203
         ],
         "xaxis": "x",
         "y": [
          3.805475950241089
         ],
         "yaxis": "y"
        }
       ],
       "layout": {
        "autosize": false,
        "height": 600,
        "legend": {
         "title": {
          "text": "Interacting Chain"
         },
         "tracegroupgap": 0
        },
        "shapes": [
         {
          "fillcolor": "LightSalmon",
          "layer": "below",
          "line": {
           "width": 0
          },
          "opacity": 0.3,
          "type": "rect",
          "x0": 0,
          "x1": 600,
          "y0": 0,
          "y1": 5
         }
        ],
        "template": {
         "data": {
          "bar": [
           {
            "error_x": {
             "color": "#2a3f5f"
            },
            "error_y": {
             "color": "#2a3f5f"
            },
            "marker": {
             "line": {
              "color": "#E5ECF6",
              "width": 0.5
             },
             "pattern": {
              "fillmode": "overlay",
              "size": 10,
              "solidity": 0.2
             }
            },
            "type": "bar"
           }
          ],
          "barpolar": [
           {
            "marker": {
             "line": {
              "color": "#E5ECF6",
              "width": 0.5
             },
             "pattern": {
              "fillmode": "overlay",
              "size": 10,
              "solidity": 0.2
             }
            },
            "type": "barpolar"
           }
          ],
          "carpet": [
           {
            "aaxis": {
             "endlinecolor": "#2a3f5f",
             "gridcolor": "white",
             "linecolor": "white",
             "minorgridcolor": "white",
             "startlinecolor": "#2a3f5f"
            },
            "baxis": {
             "endlinecolor": "#2a3f5f",
             "gridcolor": "white",
             "linecolor": "white",
             "minorgridcolor": "white",
             "startlinecolor": "#2a3f5f"
            },
            "type": "carpet"
           }
          ],
          "choropleth": [
           {
            "colorbar": {
             "outlinewidth": 0,
             "ticks": ""
            },
            "type": "choropleth"
           }
          ],
          "contour": [
           {
            "colorbar": {
             "outlinewidth": 0,
             "ticks": ""
            },
            "colorscale": [
             [
              0,
              "#0d0887"
             ],
             [
              0.1111111111111111,
              "#46039f"
             ],
             [
              0.2222222222222222,
              "#7201a8"
             ],
             [
              0.3333333333333333,
              "#9c179e"
             ],
             [
              0.4444444444444444,
              "#bd3786"
             ],
             [
              0.5555555555555556,
              "#d8576b"
             ],
             [
              0.6666666666666666,
              "#ed7953"
             ],
             [
              0.7777777777777778,
              "#fb9f3a"
             ],
             [
              0.8888888888888888,
              "#fdca26"
             ],
             [
              1,
              "#f0f921"
             ]
            ],
            "type": "contour"
           }
          ],
          "contourcarpet": [
           {
            "colorbar": {
             "outlinewidth": 0,
             "ticks": ""
            },
            "type": "contourcarpet"
           }
          ],
          "heatmap": [
           {
            "colorbar": {
             "outlinewidth": 0,
             "ticks": ""
            },
            "colorscale": [
             [
              0,
              "#0d0887"
             ],
             [
              0.1111111111111111,
              "#46039f"
             ],
             [
              0.2222222222222222,
              "#7201a8"
             ],
             [
              0.3333333333333333,
              "#9c179e"
             ],
             [
              0.4444444444444444,
              "#bd3786"
             ],
             [
              0.5555555555555556,
              "#d8576b"
             ],
             [
              0.6666666666666666,
              "#ed7953"
             ],
             [
              0.7777777777777778,
              "#fb9f3a"
             ],
             [
              0.8888888888888888,
              "#fdca26"
             ],
             [
              1,
              "#f0f921"
             ]
            ],
            "type": "heatmap"
           }
          ],
          "heatmapgl": [
           {
            "colorbar": {
             "outlinewidth": 0,
             "ticks": ""
            },
            "colorscale": [
             [
              0,
              "#0d0887"
             ],
             [
              0.1111111111111111,
              "#46039f"
             ],
             [
              0.2222222222222222,
              "#7201a8"
             ],
             [
              0.3333333333333333,
              "#9c179e"
             ],
             [
              0.4444444444444444,
              "#bd3786"
             ],
             [
              0.5555555555555556,
              "#d8576b"
             ],
             [
              0.6666666666666666,
              "#ed7953"
             ],
             [
              0.7777777777777778,
              "#fb9f3a"
             ],
             [
              0.8888888888888888,
              "#fdca26"
             ],
             [
              1,
              "#f0f921"
             ]
            ],
            "type": "heatmapgl"
           }
          ],
          "histogram": [
           {
            "marker": {
             "pattern": {
              "fillmode": "overlay",
              "size": 10,
              "solidity": 0.2
             }
            },
            "type": "histogram"
           }
          ],
          "histogram2d": [
           {
            "colorbar": {
             "outlinewidth": 0,
             "ticks": ""
            },
            "colorscale": [
             [
              0,
              "#0d0887"
             ],
             [
              0.1111111111111111,
              "#46039f"
             ],
             [
              0.2222222222222222,
              "#7201a8"
             ],
             [
              0.3333333333333333,
              "#9c179e"
             ],
             [
              0.4444444444444444,
              "#bd3786"
             ],
             [
              0.5555555555555556,
              "#d8576b"
             ],
             [
              0.6666666666666666,
              "#ed7953"
             ],
             [
              0.7777777777777778,
              "#fb9f3a"
             ],
             [
              0.8888888888888888,
              "#fdca26"
             ],
             [
              1,
              "#f0f921"
             ]
            ],
            "type": "histogram2d"
           }
          ],
          "histogram2dcontour": [
           {
            "colorbar": {
             "outlinewidth": 0,
             "ticks": ""
            },
            "colorscale": [
             [
              0,
              "#0d0887"
             ],
             [
              0.1111111111111111,
              "#46039f"
             ],
             [
              0.2222222222222222,
              "#7201a8"
             ],
             [
              0.3333333333333333,
              "#9c179e"
             ],
             [
              0.4444444444444444,
              "#bd3786"
             ],
             [
              0.5555555555555556,
              "#d8576b"
             ],
             [
              0.6666666666666666,
              "#ed7953"
             ],
             [
              0.7777777777777778,
              "#fb9f3a"
             ],
             [
              0.8888888888888888,
              "#fdca26"
             ],
             [
              1,
              "#f0f921"
             ]
            ],
            "type": "histogram2dcontour"
           }
          ],
          "mesh3d": [
           {
            "colorbar": {
             "outlinewidth": 0,
             "ticks": ""
            },
            "type": "mesh3d"
           }
          ],
          "parcoords": [
           {
            "line": {
             "colorbar": {
              "outlinewidth": 0,
              "ticks": ""
             }
            },
            "type": "parcoords"
           }
          ],
          "pie": [
           {
            "automargin": true,
            "type": "pie"
           }
          ],
          "scatter": [
           {
            "fillpattern": {
             "fillmode": "overlay",
             "size": 10,
             "solidity": 0.2
            },
            "type": "scatter"
           }
          ],
          "scatter3d": [
           {
            "line": {
             "colorbar": {
              "outlinewidth": 0,
              "ticks": ""
             }
            },
            "marker": {
             "colorbar": {
              "outlinewidth": 0,
              "ticks": ""
             }
            },
            "type": "scatter3d"
           }
          ],
          "scattercarpet": [
           {
            "marker": {
             "colorbar": {
              "outlinewidth": 0,
              "ticks": ""
             }
            },
            "type": "scattercarpet"
           }
          ],
          "scattergeo": [
           {
            "marker": {
             "colorbar": {
              "outlinewidth": 0,
              "ticks": ""
             }
            },
            "type": "scattergeo"
           }
          ],
          "scattergl": [
           {
            "marker": {
             "colorbar": {
              "outlinewidth": 0,
              "ticks": ""
             }
            },
            "type": "scattergl"
           }
          ],
          "scattermapbox": [
           {
            "marker": {
             "colorbar": {
              "outlinewidth": 0,
              "ticks": ""
             }
            },
            "type": "scattermapbox"
           }
          ],
          "scatterpolar": [
           {
            "marker": {
             "colorbar": {
              "outlinewidth": 0,
              "ticks": ""
             }
            },
            "type": "scatterpolar"
           }
          ],
          "scatterpolargl": [
           {
            "marker": {
             "colorbar": {
              "outlinewidth": 0,
              "ticks": ""
             }
            },
            "type": "scatterpolargl"
           }
          ],
          "scatterternary": [
           {
            "marker": {
             "colorbar": {
              "outlinewidth": 0,
              "ticks": ""
             }
            },
            "type": "scatterternary"
           }
          ],
          "surface": [
           {
            "colorbar": {
             "outlinewidth": 0,
             "ticks": ""
            },
            "colorscale": [
             [
              0,
              "#0d0887"
             ],
             [
              0.1111111111111111,
              "#46039f"
             ],
             [
              0.2222222222222222,
              "#7201a8"
             ],
             [
              0.3333333333333333,
              "#9c179e"
             ],
             [
              0.4444444444444444,
              "#bd3786"
             ],
             [
              0.5555555555555556,
              "#d8576b"
             ],
             [
              0.6666666666666666,
              "#ed7953"
             ],
             [
              0.7777777777777778,
              "#fb9f3a"
             ],
             [
              0.8888888888888888,
              "#fdca26"
             ],
             [
              1,
              "#f0f921"
             ]
            ],
            "type": "surface"
           }
          ],
          "table": [
           {
            "cells": {
             "fill": {
              "color": "#EBF0F8"
             },
             "line": {
              "color": "white"
             }
            },
            "header": {
             "fill": {
              "color": "#C8D4E3"
             },
             "line": {
              "color": "white"
             }
            },
            "type": "table"
           }
          ]
         },
         "layout": {
          "annotationdefaults": {
           "arrowcolor": "#2a3f5f",
           "arrowhead": 0,
           "arrowwidth": 1
          },
          "autotypenumbers": "strict",
          "coloraxis": {
           "colorbar": {
            "outlinewidth": 0,
            "ticks": ""
           }
          },
          "colorscale": {
           "diverging": [
            [
             0,
             "#8e0152"
            ],
            [
             0.1,
             "#c51b7d"
            ],
            [
             0.2,
             "#de77ae"
            ],
            [
             0.3,
             "#f1b6da"
            ],
            [
             0.4,
             "#fde0ef"
            ],
            [
             0.5,
             "#f7f7f7"
            ],
            [
             0.6,
             "#e6f5d0"
            ],
            [
             0.7,
             "#b8e186"
            ],
            [
             0.8,
             "#7fbc41"
            ],
            [
             0.9,
             "#4d9221"
            ],
            [
             1,
             "#276419"
            ]
           ],
           "sequential": [
            [
             0,
             "#0d0887"
            ],
            [
             0.1111111111111111,
             "#46039f"
            ],
            [
             0.2222222222222222,
             "#7201a8"
            ],
            [
             0.3333333333333333,
             "#9c179e"
            ],
            [
             0.4444444444444444,
             "#bd3786"
            ],
            [
             0.5555555555555556,
             "#d8576b"
            ],
            [
             0.6666666666666666,
             "#ed7953"
            ],
            [
             0.7777777777777778,
             "#fb9f3a"
            ],
            [
             0.8888888888888888,
             "#fdca26"
            ],
            [
             1,
             "#f0f921"
            ]
           ],
           "sequentialminus": [
            [
             0,
             "#0d0887"
            ],
            [
             0.1111111111111111,
             "#46039f"
            ],
            [
             0.2222222222222222,
             "#7201a8"
            ],
            [
             0.3333333333333333,
             "#9c179e"
            ],
            [
             0.4444444444444444,
             "#bd3786"
            ],
            [
             0.5555555555555556,
             "#d8576b"
            ],
            [
             0.6666666666666666,
             "#ed7953"
            ],
            [
             0.7777777777777778,
             "#fb9f3a"
            ],
            [
             0.8888888888888888,
             "#fdca26"
            ],
            [
             1,
             "#f0f921"
            ]
           ]
          },
          "colorway": [
           "#636efa",
           "#EF553B",
           "#00cc96",
           "#ab63fa",
           "#FFA15A",
           "#19d3f3",
           "#FF6692",
           "#B6E880",
           "#FF97FF",
           "#FECB52"
          ],
          "font": {
           "color": "#2a3f5f"
          },
          "geo": {
           "bgcolor": "white",
           "lakecolor": "white",
           "landcolor": "#E5ECF6",
           "showlakes": true,
           "showland": true,
           "subunitcolor": "white"
          },
          "hoverlabel": {
           "align": "left"
          },
          "hovermode": "closest",
          "mapbox": {
           "style": "light"
          },
          "paper_bgcolor": "white",
          "plot_bgcolor": "#E5ECF6",
          "polar": {
           "angularaxis": {
            "gridcolor": "white",
            "linecolor": "white",
            "ticks": ""
           },
           "bgcolor": "#E5ECF6",
           "radialaxis": {
            "gridcolor": "white",
            "linecolor": "white",
            "ticks": ""
           }
          },
          "scene": {
           "xaxis": {
            "backgroundcolor": "#E5ECF6",
            "gridcolor": "white",
            "gridwidth": 2,
            "linecolor": "white",
            "showbackground": true,
            "ticks": "",
            "zerolinecolor": "white"
           },
           "yaxis": {
            "backgroundcolor": "#E5ECF6",
            "gridcolor": "white",
            "gridwidth": 2,
            "linecolor": "white",
            "showbackground": true,
            "ticks": "",
            "zerolinecolor": "white"
           },
           "zaxis": {
            "backgroundcolor": "#E5ECF6",
            "gridcolor": "white",
            "gridwidth": 2,
            "linecolor": "white",
            "showbackground": true,
            "ticks": "",
            "zerolinecolor": "white"
           }
          },
          "shapedefaults": {
           "line": {
            "color": "#2a3f5f"
           }
          },
          "ternary": {
           "aaxis": {
            "gridcolor": "white",
            "linecolor": "white",
            "ticks": ""
           },
           "baxis": {
            "gridcolor": "white",
            "linecolor": "white",
            "ticks": ""
           },
           "bgcolor": "#E5ECF6",
           "caxis": {
            "gridcolor": "white",
            "linecolor": "white",
            "ticks": ""
           }
          },
          "title": {
           "x": 0.05
          },
          "xaxis": {
           "automargin": true,
           "gridcolor": "white",
           "linecolor": "white",
           "ticks": "",
           "title": {
            "standoff": 15
           },
           "zerolinecolor": "white",
           "zerolinewidth": 2
          },
          "yaxis": {
           "automargin": true,
           "gridcolor": "white",
           "linecolor": "white",
           "ticks": "",
           "title": {
            "standoff": 15
           },
           "zerolinecolor": "white",
           "zerolinewidth": 2
          }
         }
        },
        "title": {
         "text": "Interactions for H_seed456_model_0"
        },
        "width": 1600,
        "xaxis": {
         "anchor": "y",
         "domain": [
          0,
          1
         ],
         "dtick": 20,
         "range": [
          0,
          600
         ],
         "title": {
          "text": "Residue Index"
         }
        },
        "yaxis": {
         "anchor": "x",
         "domain": [
          0,
          1
         ],
         "range": [
          0.1,
          5
         ],
         "title": {
          "text": "Distance (angstroms)"
         }
        }
       }
      }
     },
     "metadata": {},
     "output_type": "display_data"
    },
    {
     "data": {
      "application/vnd.plotly.v1+json": {
       "config": {
        "plotlyServerURL": "https://plot.ly"
       },
       "data": [
        {
         "customdata": [
          [
           492,
           "Q"
          ],
          [
           341,
           "A"
          ],
          [
           344,
           "L"
          ],
          [
           354,
           "E"
          ],
          [
           463,
           "E"
          ],
          [
           470,
           "E"
          ],
          [
           472,
           "E"
          ],
          [
           491,
           "D"
          ],
          [
           528,
           "L"
          ],
          [
           535,
           "S"
          ],
          [
           552,
           "E"
          ],
          [
           578,
           "L"
          ]
         ],
         "hovertemplate": "Interacting Chain=kinesin B<br>aa_classification=positively charged<br>Residue Index=%{x}<br>Distance (angstroms)=%{y}<br>residue_one_letter=%{text}<br>interacting_resinumber=%{customdata[0]}<br>interactingresi_oneletter=%{customdata[1]}<extra></extra>",
         "legendgroup": "kinesin B, positively charged",
         "marker": {
          "color": "#1f77b4",
          "opacity": 0.6,
          "size": 10,
          "symbol": "triangle-up"
         },
         "mode": "markers+text",
         "name": "kinesin B, positively charged",
         "orientation": "v",
         "showlegend": true,
         "text": [
          "R",
          "R",
          "K",
          "K",
          "K",
          "K",
          "K",
          "K",
          "K",
          "R",
          "K",
          "R"
         ],
         "textposition": "top center",
         "type": "scatter",
         "x": [
          152,
          339,
          345,
          359,
          458,
          469,
          473,
          490,
          529,
          536,
          557,
          566
         ],
         "xaxis": "x",
         "y": [
          4.1802287101745605,
          3.986982345581055,
          4.164179801940918,
          2.6738991737365723,
          2.757102727890014,
          2.59394907951355,
          2.533555746078491,
          2.4719274044036865,
          3.724992513656616,
          3.3752634525299072,
          2.6723783016204834,
          3.112640857696533
         ],
         "yaxis": "y"
        },
        {
         "customdata": [
          [
           344,
           "L"
          ],
          [
           341,
           "A"
          ],
          [
           348,
           "L"
          ],
          [
           347,
           "L"
          ],
          [
           355,
           "I"
          ],
          [
           355,
           "I"
          ],
          [
           362,
           "I"
          ],
          [
           362,
           "I"
          ],
          [
           371,
           "V"
          ],
          [
           376,
           "L"
          ],
          [
           365,
           "L"
          ],
          [
           361,
           "Y"
          ],
          [
           361,
           "Y"
          ],
          [
           452,
           "I"
          ],
          [
           452,
           "I"
          ],
          [
           459,
           "C"
          ],
          [
           466,
           "L"
          ],
          [
           466,
           "L"
          ],
          [
           476,
           "I"
          ],
          [
           476,
           "I"
          ],
          [
           483,
           "Q"
          ],
          [
           487,
           "I"
          ],
          [
           493,
           "E"
          ],
          [
           501,
           "I"
          ],
          [
           501,
           "I"
          ],
          [
           497,
           "L"
          ],
          [
           508,
           "N"
          ],
          [
           511,
           "Y"
          ],
          [
           518,
           "N"
          ],
          [
           521,
           "L"
          ],
          [
           525,
           "L"
          ],
          [
           532,
           "L"
          ],
          [
           531,
           "A"
          ],
          [
           542,
           "Q"
          ],
          [
           546,
           "I"
          ],
          [
           550,
           "N"
          ],
          [
           556,
           "I"
          ],
          [
           560,
           "L"
          ],
          [
           567,
           "I"
          ],
          [
           563,
           "L"
          ],
          [
           575,
           "I"
          ],
          [
           566,
           "R"
          ],
          [
           563,
           "L"
          ],
          [
           563,
           "L"
          ]
         ],
         "hovertemplate": "Interacting Chain=kinesin B<br>aa_classification=nonpolar<br>Residue Index=%{x}<br>Distance (angstroms)=%{y}<br>residue_one_letter=%{text}<br>interacting_resinumber=%{customdata[0]}<br>interactingresi_oneletter=%{customdata[1]}<extra></extra>",
         "legendgroup": "kinesin B, nonpolar",
         "marker": {
          "color": "#1f77b4",
          "opacity": 0.6,
          "size": 10,
          "symbol": "circle"
         },
         "mode": "markers+text",
         "name": "kinesin B, nonpolar",
         "orientation": "v",
         "showlegend": true,
         "text": [
          "A",
          "L",
          "L",
          "L",
          "A",
          "I",
          "L",
          "I",
          "L",
          "V",
          "V",
          "V",
          "L",
          "L",
          "I",
          "L",
          "L",
          "L",
          "I",
          "L",
          "L",
          "I",
          "I",
          "L",
          "M",
          "I",
          "I",
          "L",
          "L",
          "L",
          "L",
          "A",
          "L",
          "A",
          "I",
          "L",
          "I",
          "L",
          "L",
          "I",
          "I",
          "L",
          "V",
          "P"
         ],
         "textposition": "top center",
         "type": "scatter",
         "x": [
          341,
          344,
          347,
          348,
          351,
          355,
          358,
          362,
          365,
          368,
          371,
          373,
          376,
          451,
          452,
          455,
          462,
          466,
          476,
          477,
          480,
          487,
          494,
          497,
          500,
          501,
          507,
          510,
          521,
          525,
          528,
          531,
          532,
          539,
          546,
          549,
          556,
          560,
          563,
          567,
          575,
          578,
          579,
          580
         ],
         "xaxis": "x",
         "y": [
          3.1642937660217285,
          3.23507022857666,
          3.727640151977539,
          3.7137532234191895,
          3.645086288452149,
          3.481630802154541,
          3.401031732559204,
          3.329267978668213,
          3.5584073066711426,
          3.538822889328003,
          3.71293568611145,
          2.7389063835144043,
          3.831566333770752,
          3.95540452003479,
          3.611453533172608,
          3.8051297664642334,
          3.799288272857666,
          3.219324111938477,
          3.296325922012329,
          4.090264320373535,
          3.1486616134643555,
          3.5362467765808105,
          3.5079751014709477,
          3.072169542312622,
          3.943235397338867,
          2.929431200027466,
          3.616338014602661,
          3.5071585178375244,
          2.784440040588379,
          3.496370553970337,
          3.5284430980682373,
          3.1845407485961914,
          3.3360440731048584,
          2.6190576553344727,
          3.399448871612549,
          3.0676429271698,
          3.316617965698242,
          3.2707679271698,
          3.2146782875061035,
          3.5379445552825928,
          2.698852777481079,
          3.103654146194458,
          4.460731983184815,
          3.838708877563477
         ],
         "yaxis": "y"
        },
        {
         "customdata": [
          [
           359,
           "K"
          ],
          [
           361,
           "Y"
          ],
          [
           444,
           "T"
          ],
          [
           458,
           "K"
          ],
          [
           469,
           "K"
          ],
          [
           473,
           "K"
          ],
          [
           490,
           "K"
          ],
          [
           494,
           "I"
          ],
          [
           518,
           "N"
          ],
          [
           557,
           "K"
          ],
          [
           572,
           "D"
          ]
         ],
         "hovertemplate": "Interacting Chain=kinesin B<br>aa_classification=negatively charged<br>Residue Index=%{x}<br>Distance (angstroms)=%{y}<br>residue_one_letter=%{text}<br>interacting_resinumber=%{customdata[0]}<br>interactingresi_oneletter=%{customdata[1]}<extra></extra>",
         "legendgroup": "kinesin B, negatively charged",
         "marker": {
          "color": "#1f77b4",
          "opacity": 0.6,
          "size": 10,
          "symbol": "triangle-down"
         },
         "mode": "markers+text",
         "name": "kinesin B, negatively charged",
         "orientation": "v",
         "showlegend": true,
         "text": [
          "E",
          "E",
          "D",
          "E",
          "E",
          "E",
          "D",
          "E",
          "E",
          "E",
          "D"
         ],
         "textposition": "top center",
         "type": "scatter",
         "x": [
          354,
          366,
          448,
          463,
          470,
          472,
          491,
          493,
          517,
          552,
          572
         ],
         "xaxis": "x",
         "y": [
          2.8341519832611084,
          3.225726366043091,
          2.6507487297058105,
          2.726067066192627,
          2.4727256298065186,
          2.6152374744415283,
          2.420067071914673,
          3.5475199222564697,
          3.56046986579895,
          2.6010942459106445,
          3.796802759170532
         ],
         "yaxis": "y"
        },
        {
         "customdata": [
          [
           373,
           "V"
          ],
          [
           369,
           "S"
          ],
          [
           361,
           "Y"
          ],
          [
           448,
           "D"
          ],
          [
           448,
           "D"
          ],
          [
           455,
           "L"
          ],
          [
           459,
           "C"
          ],
          [
           466,
           "L"
          ],
          [
           480,
           "L"
          ],
          [
           484,
           "Q"
          ],
          [
           483,
           "Q"
          ],
          [
           487,
           "I"
          ],
          [
           497,
           "L"
          ],
          [
           504,
           "S"
          ],
          [
           507,
           "I"
          ],
          [
           510,
           "L"
          ],
          [
           514,
           "S"
          ],
          [
           514,
           "S"
          ],
          [
           518,
           "N"
          ],
          [
           521,
           "L"
          ],
          [
           525,
           "L"
          ],
          [
           535,
           "S"
          ],
          [
           539,
           "A"
          ],
          [
           542,
           "Q"
          ],
          [
           546,
           "I"
          ],
          [
           549,
           "L"
          ],
          [
           553,
           "N"
          ],
          [
           560,
           "L"
          ],
          [
           575,
           "I"
          ]
         ],
         "hovertemplate": "Interacting Chain=kinesin B<br>aa_classification=polar uncharged<br>Residue Index=%{x}<br>Distance (angstroms)=%{y}<br>residue_one_letter=%{text}<br>interacting_resinumber=%{customdata[0]}<br>interactingresi_oneletter=%{customdata[1]}<extra></extra>",
         "legendgroup": "kinesin B, polar uncharged",
         "marker": {
          "color": "#1f77b4",
          "opacity": 0.6,
          "size": 10,
          "symbol": "square"
         },
         "mode": "markers+text",
         "name": "kinesin B, polar uncharged",
         "orientation": "v",
         "showlegend": true,
         "text": [
          "Y",
          "S",
          "T",
          "T",
          "S",
          "Q",
          "C",
          "Q",
          "Q",
          "Q",
          "Q",
          "Q",
          "N",
          "S",
          "N",
          "Y",
          "S",
          "T",
          "N",
          "N",
          "Q",
          "S",
          "Q",
          "S",
          "T",
          "N",
          "N",
          "Q",
          "S"
         ],
         "textposition": "top center",
         "type": "scatter",
         "x": [
          361,
          369,
          372,
          444,
          445,
          456,
          459,
          465,
          479,
          483,
          484,
          486,
          498,
          504,
          508,
          511,
          514,
          515,
          518,
          522,
          524,
          535,
          542,
          543,
          545,
          550,
          553,
          559,
          570
         ],
         "xaxis": "x",
         "y": [
          2.594037771224976,
          3.380166530609131,
          3.585566997528076,
          2.3033690452575684,
          3.8884236812591553,
          3.9929349422454834,
          2.988020420074463,
          3.51535439491272,
          3.756417751312256,
          3.080740213394165,
          3.009113073348999,
          3.653418779373169,
          3.332942485809326,
          3.119470834732056,
          3.5666542053222656,
          3.4484763145446777,
          2.7382137775421143,
          3.5158944129943848,
          2.4423062801361084,
          3.2821037769317627,
          3.686084985733032,
          2.8001909255981445,
          2.4801506996154785,
          3.715135097503662,
          3.917827844619751,
          3.177602767944336,
          2.6613194942474365,
          3.9615824222564697,
          3.787421464920044
         ],
         "yaxis": "y"
        },
        {
         "customdata": [
          [
           420,
           "E"
          ],
          [
           109,
           "T"
          ],
          [
           409,
           "V"
          ],
          [
           423,
           "E"
          ],
          [
           402,
           "R"
          ],
          [
           88,
           "H"
          ]
         ],
         "hovertemplate": "Interacting Chain=alpha-tubulin<br>aa_classification=positively charged<br>Residue Index=%{x}<br>Distance (angstroms)=%{y}<br>residue_one_letter=%{text}<br>interacting_resinumber=%{customdata[0]}<br>interactingresi_oneletter=%{customdata[1]}<extra></extra>",
         "legendgroup": "alpha-tubulin, positively charged",
         "marker": {
          "color": "#ff7f0e",
          "opacity": 0.6,
          "size": 10,
          "symbol": "triangle-up"
         },
         "mode": "markers+text",
         "name": "alpha-tubulin, positively charged",
         "orientation": "v",
         "showlegend": true,
         "text": [
          "K",
          "K",
          "K",
          "R",
          "R",
          "K"
         ],
         "textposition": "top center",
         "type": "scatter",
         "x": [
          240,
          255,
          259,
          321,
          325,
          534
         ],
         "xaxis": "x",
         "y": [
          2.511763572692871,
          3.42587685585022,
          3.347694635391236,
          2.777996301651001,
          4.33376932144165,
          2.929558515548706
         ],
         "yaxis": "y"
        },
        {
         "customdata": [
          [
           412,
           "G"
          ],
          [
           112,
           "K"
          ],
          [
           108,
           "Y"
          ],
          [
           420,
           "E"
          ],
          [
           121,
           "R"
          ],
          [
           60,
           "K"
          ],
          [
           35,
           "Q"
          ]
         ],
         "hovertemplate": "Interacting Chain=alpha-tubulin<br>aa_classification=nonpolar<br>Residue Index=%{x}<br>Distance (angstroms)=%{y}<br>residue_one_letter=%{text}<br>interacting_resinumber=%{customdata[0]}<br>interactingresi_oneletter=%{customdata[1]}<extra></extra>",
         "legendgroup": "alpha-tubulin, nonpolar",
         "marker": {
          "color": "#ff7f0e",
          "opacity": 0.6,
          "size": 10,
          "symbol": "circle"
         },
         "mode": "markers+text",
         "name": "alpha-tubulin, nonpolar",
         "orientation": "v",
         "showlegend": true,
         "text": [
          "I",
          "A",
          "L",
          "A",
          "L",
          "F",
          "L"
         ],
         "textposition": "top center",
         "type": "scatter",
         "x": [
          241,
          246,
          251,
          314,
          530,
          537,
          544
         ],
         "xaxis": "x",
         "y": [
          3.0289435386657715,
          2.935361862182617,
          4.318818092346191,
          2.3045010566711426,
          2.83599066734314,
          3.1065242290496826,
          3.128087043762207
         ],
         "yaxis": "y"
        },
        {
         "customdata": [
          [
           427,
           "A"
          ],
          [
           414,
           "E"
          ],
          [
           414,
           "E"
          ],
          [
           89,
           "P"
          ],
          [
           60,
           "K"
          ]
         ],
         "hovertemplate": "Interacting Chain=alpha-tubulin<br>aa_classification=negatively charged<br>Residue Index=%{x}<br>Distance (angstroms)=%{y}<br>residue_one_letter=%{text}<br>interacting_resinumber=%{customdata[0]}<br>interactingresi_oneletter=%{customdata[1]}<extra></extra>",
         "legendgroup": "alpha-tubulin, negatively charged",
         "marker": {
          "color": "#ff7f0e",
          "opacity": 0.6,
          "size": 10,
          "symbol": "triangle-down"
         },
         "mode": "markers+text",
         "name": "alpha-tubulin, negatively charged",
         "orientation": "v",
         "showlegend": true,
         "text": [
          "E",
          "E",
          "E",
          "E",
          "E"
         ],
         "textposition": "top center",
         "type": "scatter",
         "x": [
          41,
          239,
          315,
          533,
          541
         ],
         "xaxis": "x",
         "y": [
          3.8952109813690186,
          4.325556755065918,
          4.081846237182617,
          3.443814754486084,
          2.7812111377716064
         ],
         "yaxis": "y"
        },
        {
         "customdata": [
          [
           414,
           "E"
          ],
          [
           112,
           "K"
          ],
          [
           409,
           "V"
          ],
          [
           415,
           "E"
          ],
          [
           402,
           "R"
          ],
          [
           402,
           "R"
          ],
          [
           416,
           "G"
          ],
          [
           85,
           "Q"
          ],
          [
           58,
           "A"
          ],
          [
           58,
           "A"
          ]
         ],
         "hovertemplate": "Interacting Chain=alpha-tubulin<br>aa_classification=polar uncharged<br>Residue Index=%{x}<br>Distance (angstroms)=%{y}<br>residue_one_letter=%{text}<br>interacting_resinumber=%{customdata[0]}<br>interactingresi_oneletter=%{customdata[1]}<extra></extra>",
         "legendgroup": "alpha-tubulin, polar uncharged",
         "marker": {
          "color": "#ff7f0e",
          "opacity": 0.6,
          "size": 10,
          "symbol": "square"
         },
         "mode": "markers+text",
         "name": "alpha-tubulin, polar uncharged",
         "orientation": "v",
         "showlegend": true,
         "text": [
          "S",
          "Q",
          "N",
          "S",
          "N",
          "N",
          "S",
          "T",
          "Q",
          "T"
         ],
         "textposition": "top center",
         "type": "scatter",
         "x": [
          238,
          247,
          258,
          262,
          266,
          269,
          318,
          540,
          542,
          545
         ],
         "xaxis": "x",
         "y": [
          3.2356767654418945,
          3.446000099182129,
          3.3877298831939697,
          2.625306844711304,
          3.438872098922729,
          4.443100452423096,
          4.496633052825928,
          4.357458591461182,
          4.422798156738281,
          2.5749807357788086
         ],
         "yaxis": "y"
        },
        {
         "customdata": [
          [
           157,
           "E"
          ],
          [
           407,
           "E"
          ],
          [
           404,
           "D"
          ],
          [
           432,
           "E"
          ],
          [
           424,
           "Q"
          ],
          [
           417,
           "D"
          ],
          [
           194,
           "E"
          ],
          [
           410,
           "E"
          ],
          [
           436,
           "F"
          ]
         ],
         "hovertemplate": "Interacting Chain=beta-tubulin<br>aa_classification=positively charged<br>Residue Index=%{x}<br>Distance (angstroms)=%{y}<br>residue_one_letter=%{text}<br>interacting_resinumber=%{customdata[0]}<br>interactingresi_oneletter=%{customdata[1]}<extra></extra>",
         "legendgroup": "beta-tubulin, positively charged",
         "marker": {
          "color": "#2ca02c",
          "opacity": 0.6,
          "size": 10,
          "symbol": "triangle-up"
         },
         "mode": "markers+text",
         "name": "beta-tubulin, positively charged",
         "orientation": "v",
         "showlegend": true,
         "text": [
          "R",
          "K",
          "R",
          "K",
          "H",
          "R",
          "K",
          "R",
          "R"
         ],
         "textposition": "top center",
         "type": "scatter",
         "x": [
          144,
          157,
          159,
          275,
          278,
          282,
          285,
          288,
          325
         ],
         "xaxis": "x",
         "y": [
          3.006744623184204,
          2.8516414165496826,
          3.2649967670440674,
          3.28825044631958,
          2.722024917602539,
          2.5066919326782227,
          3.534381866455078,
          3.11365270614624,
          4.490907669067383
         ],
         "yaxis": "y"
        },
        {
         "customdata": [
          [
           410,
           "E"
          ],
          [
           406,
           "M"
          ]
         ],
         "hovertemplate": "Interacting Chain=beta-tubulin<br>aa_classification=nonpolar<br>Residue Index=%{x}<br>Distance (angstroms)=%{y}<br>residue_one_letter=%{text}<br>interacting_resinumber=%{customdata[0]}<br>interactingresi_oneletter=%{customdata[1]}<extra></extra>",
         "legendgroup": "beta-tubulin, nonpolar",
         "marker": {
          "color": "#2ca02c",
          "opacity": 0.6,
          "size": 10,
          "symbol": "circle"
         },
         "mode": "markers+text",
         "name": "beta-tubulin, nonpolar",
         "orientation": "v",
         "showlegend": true,
         "text": [
          "V",
          "W"
         ],
         "textposition": "top center",
         "type": "scatter",
         "x": [
          158,
          167
         ],
         "xaxis": "x",
         "y": [
          4.222692966461182,
          4.126715660095215
         ],
         "yaxis": "y"
        },
        {
         "customdata": [
          [
           413,
           "S"
          ],
          [
           406,
           "M"
          ],
          [
           262,
           "R"
          ]
         ],
         "hovertemplate": "Interacting Chain=beta-tubulin<br>aa_classification=negatively charged<br>Residue Index=%{x}<br>Distance (angstroms)=%{y}<br>residue_one_letter=%{text}<br>interacting_resinumber=%{customdata[0]}<br>interactingresi_oneletter=%{customdata[1]}<extra></extra>",
         "legendgroup": "beta-tubulin, negatively charged",
         "marker": {
          "color": "#2ca02c",
          "opacity": 0.6,
          "size": 10,
          "symbol": "triangle-down"
         },
         "mode": "markers+text",
         "name": "beta-tubulin, negatively charged",
         "orientation": "v",
         "showlegend": true,
         "text": [
          "E",
          "E",
          "D"
         ],
         "textposition": "top center",
         "type": "scatter",
         "x": [
          160,
          161,
          283
         ],
         "xaxis": "x",
         "y": [
          3.433634042739868,
          4.013180255889893,
          3.064084768295288
         ],
         "yaxis": "y"
        },
        {
         "customdata": [
          [
           424,
           "Q"
          ],
          [
           424,
           "Q"
          ]
         ],
         "hovertemplate": "Interacting Chain=beta-tubulin<br>aa_classification=polar uncharged<br>Residue Index=%{x}<br>Distance (angstroms)=%{y}<br>residue_one_letter=%{text}<br>interacting_resinumber=%{customdata[0]}<br>interactingresi_oneletter=%{customdata[1]}<extra></extra>",
         "legendgroup": "beta-tubulin, polar uncharged",
         "marker": {
          "color": "#2ca02c",
          "opacity": 0.6,
          "size": 10,
          "symbol": "square"
         },
         "mode": "markers+text",
         "name": "beta-tubulin, polar uncharged",
         "orientation": "v",
         "showlegend": true,
         "text": [
          "S",
          "T"
         ],
         "textposition": "top center",
         "type": "scatter",
         "x": [
          276,
          277
         ],
         "xaxis": "x",
         "y": [
          3.699263334274292,
          3.536410331726074
         ],
         "yaxis": "y"
        },
        {
         "customdata": [
          [
           1,
           "?"
          ],
          [
           1,
           "?"
          ],
          [
           1,
           "?"
          ]
         ],
         "hovertemplate": "Interacting Chain=ATP<br>aa_classification=positively charged<br>Residue Index=%{x}<br>Distance (angstroms)=%{y}<br>residue_one_letter=%{text}<br>interacting_resinumber=%{customdata[0]}<br>interactingresi_oneletter=%{customdata[1]}<extra></extra>",
         "legendgroup": "ATP, positively charged",
         "marker": {
          "color": "#d62728",
          "opacity": 0.6,
          "size": 10,
          "symbol": "triangle-up"
         },
         "mode": "markers+text",
         "name": "ATP, positively charged",
         "orientation": "v",
         "showlegend": true,
         "text": [
          "R",
          "R",
          "K"
         ],
         "textposition": "top center",
         "type": "scatter",
         "x": [
          9,
          11,
          91
         ],
         "xaxis": "x",
         "y": [
          3.768536567687988,
          3.598796367645264,
          2.621603012084961
         ],
         "yaxis": "y"
        },
        {
         "customdata": [
          [
           1,
           "?"
          ],
          [
           1,
           "?"
          ],
          [
           1,
           "?"
          ],
          [
           1,
           "?"
          ],
          [
           1,
           "?"
          ],
          [
           1,
           "?"
          ],
          [
           1,
           "?"
          ]
         ],
         "hovertemplate": "Interacting Chain=ATP<br>aa_classification=nonpolar<br>Residue Index=%{x}<br>Distance (angstroms)=%{y}<br>residue_one_letter=%{text}<br>interacting_resinumber=%{customdata[0]}<br>interactingresi_oneletter=%{customdata[1]}<extra></extra>",
         "legendgroup": "ATP, nonpolar",
         "marker": {
          "color": "#d62728",
          "opacity": 0.6,
          "size": 10,
          "symbol": "circle"
         },
         "mode": "markers+text",
         "name": "ATP, nonpolar",
         "orientation": "v",
         "showlegend": true,
         "text": [
          "P",
          "G",
          "G",
          "F",
          "L",
          "A",
          "G"
         ],
         "textposition": "top center",
         "type": "scatter",
         "x": [
          12,
          88,
          90,
          93,
          235,
          236,
          237
         ],
         "xaxis": "x",
         "y": [
          3.682772397994995,
          2.7581167221069336,
          3.1184351444244385,
          2.915708303451538,
          4.445962429046631,
          3.646003007888794,
          2.564924716949463
         ],
         "yaxis": "y"
        },
        {
         "customdata": [
          [
           1,
           "?"
          ]
         ],
         "hovertemplate": "Interacting Chain=ATP<br>aa_classification=negatively charged<br>Residue Index=%{x}<br>Distance (angstroms)=%{y}<br>residue_one_letter=%{text}<br>interacting_resinumber=%{customdata[0]}<br>interactingresi_oneletter=%{customdata[1]}<extra></extra>",
         "legendgroup": "ATP, negatively charged",
         "marker": {
          "color": "#d62728",
          "opacity": 0.6,
          "size": 10,
          "symbol": "triangle-down"
         },
         "mode": "markers+text",
         "name": "ATP, negatively charged",
         "orientation": "v",
         "showlegend": true,
         "text": [
          "E"
         ],
         "textposition": "top center",
         "type": "scatter",
         "x": [
          203
         ],
         "xaxis": "x",
         "y": [
          3.8294787406921382
         ],
         "yaxis": "y"
        },
        {
         "customdata": [
          [
           1,
           "?"
          ],
          [
           1,
           "?"
          ],
          [
           1,
           "?"
          ],
          [
           1,
           "?"
          ],
          [
           1,
           "?"
          ],
          [
           1,
           "?"
          ],
          [
           1,
           "?"
          ]
         ],
         "hovertemplate": "Interacting Chain=ATP<br>aa_classification=polar uncharged<br>Residue Index=%{x}<br>Distance (angstroms)=%{y}<br>residue_one_letter=%{text}<br>interacting_resinumber=%{customdata[0]}<br>interactingresi_oneletter=%{customdata[1]}<extra></extra>",
         "legendgroup": "ATP, polar uncharged",
         "marker": {
          "color": "#d62728",
          "opacity": 0.6,
          "size": 10,
          "symbol": "square"
         },
         "mode": "markers+text",
         "name": "ATP, polar uncharged",
         "orientation": "v",
         "showlegend": true,
         "text": [
          "Q",
          "T",
          "S",
          "T",
          "N",
          "S",
          "S"
         ],
         "textposition": "top center",
         "type": "scatter",
         "x": [
          86,
          87,
          89,
          92,
          201,
          204,
          205
         ],
         "xaxis": "x",
         "y": [
          3.6616461277008057,
          2.340446710586548,
          3.435378313064575,
          2.815447330474853,
          2.895921468734741,
          2.725923538208008,
          2.849451303482056
         ],
         "yaxis": "y"
        }
       ],
       "layout": {
        "autosize": false,
        "height": 600,
        "legend": {
         "title": {
          "text": "Interacting Chain"
         },
         "tracegroupgap": 0
        },
        "shapes": [
         {
          "fillcolor": "LightSalmon",
          "layer": "below",
          "line": {
           "width": 0
          },
          "opacity": 0.3,
          "type": "rect",
          "x0": 0,
          "x1": 600,
          "y0": 0,
          "y1": 5
         }
        ],
        "template": {
         "data": {
          "bar": [
           {
            "error_x": {
             "color": "#2a3f5f"
            },
            "error_y": {
             "color": "#2a3f5f"
            },
            "marker": {
             "line": {
              "color": "#E5ECF6",
              "width": 0.5
             },
             "pattern": {
              "fillmode": "overlay",
              "size": 10,
              "solidity": 0.2
             }
            },
            "type": "bar"
           }
          ],
          "barpolar": [
           {
            "marker": {
             "line": {
              "color": "#E5ECF6",
              "width": 0.5
             },
             "pattern": {
              "fillmode": "overlay",
              "size": 10,
              "solidity": 0.2
             }
            },
            "type": "barpolar"
           }
          ],
          "carpet": [
           {
            "aaxis": {
             "endlinecolor": "#2a3f5f",
             "gridcolor": "white",
             "linecolor": "white",
             "minorgridcolor": "white",
             "startlinecolor": "#2a3f5f"
            },
            "baxis": {
             "endlinecolor": "#2a3f5f",
             "gridcolor": "white",
             "linecolor": "white",
             "minorgridcolor": "white",
             "startlinecolor": "#2a3f5f"
            },
            "type": "carpet"
           }
          ],
          "choropleth": [
           {
            "colorbar": {
             "outlinewidth": 0,
             "ticks": ""
            },
            "type": "choropleth"
           }
          ],
          "contour": [
           {
            "colorbar": {
             "outlinewidth": 0,
             "ticks": ""
            },
            "colorscale": [
             [
              0,
              "#0d0887"
             ],
             [
              0.1111111111111111,
              "#46039f"
             ],
             [
              0.2222222222222222,
              "#7201a8"
             ],
             [
              0.3333333333333333,
              "#9c179e"
             ],
             [
              0.4444444444444444,
              "#bd3786"
             ],
             [
              0.5555555555555556,
              "#d8576b"
             ],
             [
              0.6666666666666666,
              "#ed7953"
             ],
             [
              0.7777777777777778,
              "#fb9f3a"
             ],
             [
              0.8888888888888888,
              "#fdca26"
             ],
             [
              1,
              "#f0f921"
             ]
            ],
            "type": "contour"
           }
          ],
          "contourcarpet": [
           {
            "colorbar": {
             "outlinewidth": 0,
             "ticks": ""
            },
            "type": "contourcarpet"
           }
          ],
          "heatmap": [
           {
            "colorbar": {
             "outlinewidth": 0,
             "ticks": ""
            },
            "colorscale": [
             [
              0,
              "#0d0887"
             ],
             [
              0.1111111111111111,
              "#46039f"
             ],
             [
              0.2222222222222222,
              "#7201a8"
             ],
             [
              0.3333333333333333,
              "#9c179e"
             ],
             [
              0.4444444444444444,
              "#bd3786"
             ],
             [
              0.5555555555555556,
              "#d8576b"
             ],
             [
              0.6666666666666666,
              "#ed7953"
             ],
             [
              0.7777777777777778,
              "#fb9f3a"
             ],
             [
              0.8888888888888888,
              "#fdca26"
             ],
             [
              1,
              "#f0f921"
             ]
            ],
            "type": "heatmap"
           }
          ],
          "heatmapgl": [
           {
            "colorbar": {
             "outlinewidth": 0,
             "ticks": ""
            },
            "colorscale": [
             [
              0,
              "#0d0887"
             ],
             [
              0.1111111111111111,
              "#46039f"
             ],
             [
              0.2222222222222222,
              "#7201a8"
             ],
             [
              0.3333333333333333,
              "#9c179e"
             ],
             [
              0.4444444444444444,
              "#bd3786"
             ],
             [
              0.5555555555555556,
              "#d8576b"
             ],
             [
              0.6666666666666666,
              "#ed7953"
             ],
             [
              0.7777777777777778,
              "#fb9f3a"
             ],
             [
              0.8888888888888888,
              "#fdca26"
             ],
             [
              1,
              "#f0f921"
             ]
            ],
            "type": "heatmapgl"
           }
          ],
          "histogram": [
           {
            "marker": {
             "pattern": {
              "fillmode": "overlay",
              "size": 10,
              "solidity": 0.2
             }
            },
            "type": "histogram"
           }
          ],
          "histogram2d": [
           {
            "colorbar": {
             "outlinewidth": 0,
             "ticks": ""
            },
            "colorscale": [
             [
              0,
              "#0d0887"
             ],
             [
              0.1111111111111111,
              "#46039f"
             ],
             [
              0.2222222222222222,
              "#7201a8"
             ],
             [
              0.3333333333333333,
              "#9c179e"
             ],
             [
              0.4444444444444444,
              "#bd3786"
             ],
             [
              0.5555555555555556,
              "#d8576b"
             ],
             [
              0.6666666666666666,
              "#ed7953"
             ],
             [
              0.7777777777777778,
              "#fb9f3a"
             ],
             [
              0.8888888888888888,
              "#fdca26"
             ],
             [
              1,
              "#f0f921"
             ]
            ],
            "type": "histogram2d"
           }
          ],
          "histogram2dcontour": [
           {
            "colorbar": {
             "outlinewidth": 0,
             "ticks": ""
            },
            "colorscale": [
             [
              0,
              "#0d0887"
             ],
             [
              0.1111111111111111,
              "#46039f"
             ],
             [
              0.2222222222222222,
              "#7201a8"
             ],
             [
              0.3333333333333333,
              "#9c179e"
             ],
             [
              0.4444444444444444,
              "#bd3786"
             ],
             [
              0.5555555555555556,
              "#d8576b"
             ],
             [
              0.6666666666666666,
              "#ed7953"
             ],
             [
              0.7777777777777778,
              "#fb9f3a"
             ],
             [
              0.8888888888888888,
              "#fdca26"
             ],
             [
              1,
              "#f0f921"
             ]
            ],
            "type": "histogram2dcontour"
           }
          ],
          "mesh3d": [
           {
            "colorbar": {
             "outlinewidth": 0,
             "ticks": ""
            },
            "type": "mesh3d"
           }
          ],
          "parcoords": [
           {
            "line": {
             "colorbar": {
              "outlinewidth": 0,
              "ticks": ""
             }
            },
            "type": "parcoords"
           }
          ],
          "pie": [
           {
            "automargin": true,
            "type": "pie"
           }
          ],
          "scatter": [
           {
            "fillpattern": {
             "fillmode": "overlay",
             "size": 10,
             "solidity": 0.2
            },
            "type": "scatter"
           }
          ],
          "scatter3d": [
           {
            "line": {
             "colorbar": {
              "outlinewidth": 0,
              "ticks": ""
             }
            },
            "marker": {
             "colorbar": {
              "outlinewidth": 0,
              "ticks": ""
             }
            },
            "type": "scatter3d"
           }
          ],
          "scattercarpet": [
           {
            "marker": {
             "colorbar": {
              "outlinewidth": 0,
              "ticks": ""
             }
            },
            "type": "scattercarpet"
           }
          ],
          "scattergeo": [
           {
            "marker": {
             "colorbar": {
              "outlinewidth": 0,
              "ticks": ""
             }
            },
            "type": "scattergeo"
           }
          ],
          "scattergl": [
           {
            "marker": {
             "colorbar": {
              "outlinewidth": 0,
              "ticks": ""
             }
            },
            "type": "scattergl"
           }
          ],
          "scattermapbox": [
           {
            "marker": {
             "colorbar": {
              "outlinewidth": 0,
              "ticks": ""
             }
            },
            "type": "scattermapbox"
           }
          ],
          "scatterpolar": [
           {
            "marker": {
             "colorbar": {
              "outlinewidth": 0,
              "ticks": ""
             }
            },
            "type": "scatterpolar"
           }
          ],
          "scatterpolargl": [
           {
            "marker": {
             "colorbar": {
              "outlinewidth": 0,
              "ticks": ""
             }
            },
            "type": "scatterpolargl"
           }
          ],
          "scatterternary": [
           {
            "marker": {
             "colorbar": {
              "outlinewidth": 0,
              "ticks": ""
             }
            },
            "type": "scatterternary"
           }
          ],
          "surface": [
           {
            "colorbar": {
             "outlinewidth": 0,
             "ticks": ""
            },
            "colorscale": [
             [
              0,
              "#0d0887"
             ],
             [
              0.1111111111111111,
              "#46039f"
             ],
             [
              0.2222222222222222,
              "#7201a8"
             ],
             [
              0.3333333333333333,
              "#9c179e"
             ],
             [
              0.4444444444444444,
              "#bd3786"
             ],
             [
              0.5555555555555556,
              "#d8576b"
             ],
             [
              0.6666666666666666,
              "#ed7953"
             ],
             [
              0.7777777777777778,
              "#fb9f3a"
             ],
             [
              0.8888888888888888,
              "#fdca26"
             ],
             [
              1,
              "#f0f921"
             ]
            ],
            "type": "surface"
           }
          ],
          "table": [
           {
            "cells": {
             "fill": {
              "color": "#EBF0F8"
             },
             "line": {
              "color": "white"
             }
            },
            "header": {
             "fill": {
              "color": "#C8D4E3"
             },
             "line": {
              "color": "white"
             }
            },
            "type": "table"
           }
          ]
         },
         "layout": {
          "annotationdefaults": {
           "arrowcolor": "#2a3f5f",
           "arrowhead": 0,
           "arrowwidth": 1
          },
          "autotypenumbers": "strict",
          "coloraxis": {
           "colorbar": {
            "outlinewidth": 0,
            "ticks": ""
           }
          },
          "colorscale": {
           "diverging": [
            [
             0,
             "#8e0152"
            ],
            [
             0.1,
             "#c51b7d"
            ],
            [
             0.2,
             "#de77ae"
            ],
            [
             0.3,
             "#f1b6da"
            ],
            [
             0.4,
             "#fde0ef"
            ],
            [
             0.5,
             "#f7f7f7"
            ],
            [
             0.6,
             "#e6f5d0"
            ],
            [
             0.7,
             "#b8e186"
            ],
            [
             0.8,
             "#7fbc41"
            ],
            [
             0.9,
             "#4d9221"
            ],
            [
             1,
             "#276419"
            ]
           ],
           "sequential": [
            [
             0,
             "#0d0887"
            ],
            [
             0.1111111111111111,
             "#46039f"
            ],
            [
             0.2222222222222222,
             "#7201a8"
            ],
            [
             0.3333333333333333,
             "#9c179e"
            ],
            [
             0.4444444444444444,
             "#bd3786"
            ],
            [
             0.5555555555555556,
             "#d8576b"
            ],
            [
             0.6666666666666666,
             "#ed7953"
            ],
            [
             0.7777777777777778,
             "#fb9f3a"
            ],
            [
             0.8888888888888888,
             "#fdca26"
            ],
            [
             1,
             "#f0f921"
            ]
           ],
           "sequentialminus": [
            [
             0,
             "#0d0887"
            ],
            [
             0.1111111111111111,
             "#46039f"
            ],
            [
             0.2222222222222222,
             "#7201a8"
            ],
            [
             0.3333333333333333,
             "#9c179e"
            ],
            [
             0.4444444444444444,
             "#bd3786"
            ],
            [
             0.5555555555555556,
             "#d8576b"
            ],
            [
             0.6666666666666666,
             "#ed7953"
            ],
            [
             0.7777777777777778,
             "#fb9f3a"
            ],
            [
             0.8888888888888888,
             "#fdca26"
            ],
            [
             1,
             "#f0f921"
            ]
           ]
          },
          "colorway": [
           "#636efa",
           "#EF553B",
           "#00cc96",
           "#ab63fa",
           "#FFA15A",
           "#19d3f3",
           "#FF6692",
           "#B6E880",
           "#FF97FF",
           "#FECB52"
          ],
          "font": {
           "color": "#2a3f5f"
          },
          "geo": {
           "bgcolor": "white",
           "lakecolor": "white",
           "landcolor": "#E5ECF6",
           "showlakes": true,
           "showland": true,
           "subunitcolor": "white"
          },
          "hoverlabel": {
           "align": "left"
          },
          "hovermode": "closest",
          "mapbox": {
           "style": "light"
          },
          "paper_bgcolor": "white",
          "plot_bgcolor": "#E5ECF6",
          "polar": {
           "angularaxis": {
            "gridcolor": "white",
            "linecolor": "white",
            "ticks": ""
           },
           "bgcolor": "#E5ECF6",
           "radialaxis": {
            "gridcolor": "white",
            "linecolor": "white",
            "ticks": ""
           }
          },
          "scene": {
           "xaxis": {
            "backgroundcolor": "#E5ECF6",
            "gridcolor": "white",
            "gridwidth": 2,
            "linecolor": "white",
            "showbackground": true,
            "ticks": "",
            "zerolinecolor": "white"
           },
           "yaxis": {
            "backgroundcolor": "#E5ECF6",
            "gridcolor": "white",
            "gridwidth": 2,
            "linecolor": "white",
            "showbackground": true,
            "ticks": "",
            "zerolinecolor": "white"
           },
           "zaxis": {
            "backgroundcolor": "#E5ECF6",
            "gridcolor": "white",
            "gridwidth": 2,
            "linecolor": "white",
            "showbackground": true,
            "ticks": "",
            "zerolinecolor": "white"
           }
          },
          "shapedefaults": {
           "line": {
            "color": "#2a3f5f"
           }
          },
          "ternary": {
           "aaxis": {
            "gridcolor": "white",
            "linecolor": "white",
            "ticks": ""
           },
           "baxis": {
            "gridcolor": "white",
            "linecolor": "white",
            "ticks": ""
           },
           "bgcolor": "#E5ECF6",
           "caxis": {
            "gridcolor": "white",
            "linecolor": "white",
            "ticks": ""
           }
          },
          "title": {
           "x": 0.05
          },
          "xaxis": {
           "automargin": true,
           "gridcolor": "white",
           "linecolor": "white",
           "ticks": "",
           "title": {
            "standoff": 15
           },
           "zerolinecolor": "white",
           "zerolinewidth": 2
          },
          "yaxis": {
           "automargin": true,
           "gridcolor": "white",
           "linecolor": "white",
           "ticks": "",
           "title": {
            "standoff": 15
           },
           "zerolinecolor": "white",
           "zerolinewidth": 2
          }
         }
        },
        "title": {
         "text": "Interactions for H_seed55_model_0"
        },
        "width": 1600,
        "xaxis": {
         "anchor": "y",
         "domain": [
          0,
          1
         ],
         "dtick": 20,
         "range": [
          0,
          600
         ],
         "title": {
          "text": "Residue Index"
         }
        },
        "yaxis": {
         "anchor": "x",
         "domain": [
          0,
          1
         ],
         "range": [
          0.1,
          5
         ],
         "title": {
          "text": "Distance (angstroms)"
         }
        }
       }
      }
     },
     "metadata": {},
     "output_type": "display_data"
    },
    {
     "data": {
      "application/vnd.plotly.v1+json": {
       "config": {
        "plotlyServerURL": "https://plot.ly"
       },
       "data": [
        {
         "customdata": [
          [
           348,
           "L"
          ],
          [
           344,
           "L"
          ],
          [
           354,
           "E"
          ],
          [
           441,
           "S"
          ],
          [
           463,
           "E"
          ],
          [
           470,
           "E"
          ],
          [
           472,
           "E"
          ],
          [
           491,
           "D"
          ],
          [
           528,
           "L"
          ],
          [
           535,
           "S"
          ],
          [
           552,
           "E"
          ],
          [
           578,
           "L"
          ]
         ],
         "hovertemplate": "Interacting Chain=kinesin B<br>aa_classification=positively charged<br>Residue Index=%{x}<br>Distance (angstroms)=%{y}<br>residue_one_letter=%{text}<br>interacting_resinumber=%{customdata[0]}<br>interactingresi_oneletter=%{customdata[1]}<extra></extra>",
         "legendgroup": "kinesin B, positively charged",
         "marker": {
          "color": "#1f77b4",
          "opacity": 0.6,
          "size": 10,
          "symbol": "triangle-up"
         },
         "mode": "markers+text",
         "name": "kinesin B, positively charged",
         "orientation": "v",
         "showlegend": true,
         "text": [
          "R",
          "K",
          "K",
          "K",
          "K",
          "K",
          "K",
          "K",
          "K",
          "R",
          "K",
          "R"
         ],
         "textposition": "top center",
         "type": "scatter",
         "x": [
          339,
          345,
          359,
          447,
          458,
          469,
          473,
          490,
          529,
          536,
          557,
          566
         ],
         "xaxis": "x",
         "y": [
          3.476259708404541,
          4.169360637664795,
          2.649158000946045,
          3.212514162063598,
          2.7967350482940674,
          2.703488111495972,
          2.6098265647888184,
          2.5861191749572754,
          3.9492151737213135,
          3.553913354873657,
          2.7562057971954346,
          3.1586146354675293
         ],
         "yaxis": "y"
        },
        {
         "customdata": [
          [
           344,
           "L"
          ],
          [
           341,
           "A"
          ],
          [
           348,
           "L"
          ],
          [
           347,
           "L"
          ],
          [
           355,
           "I"
          ],
          [
           355,
           "I"
          ],
          [
           362,
           "I"
          ],
          [
           362,
           "I"
          ],
          [
           371,
           "V"
          ],
          [
           376,
           "L"
          ],
          [
           464,
           "K"
          ],
          [
           365,
           "L"
          ],
          [
           467,
           "F"
          ],
          [
           368,
           "V"
          ],
          [
           451,
           "L"
          ],
          [
           448,
           "D"
          ],
          [
           452,
           "I"
          ],
          [
           452,
           "I"
          ],
          [
           459,
           "C"
          ],
          [
           463,
           "E"
          ],
          [
           466,
           "L"
          ],
          [
           473,
           "K"
          ],
          [
           476,
           "I"
          ],
          [
           483,
           "Q"
          ],
          [
           490,
           "K"
          ],
          [
           494,
           "I"
          ],
          [
           501,
           "I"
          ],
          [
           501,
           "I"
          ],
          [
           497,
           "L"
          ],
          [
           508,
           "N"
          ],
          [
           511,
           "Y"
          ],
          [
           518,
           "N"
          ],
          [
           525,
           "L"
          ],
          [
           532,
           "L"
          ],
          [
           532,
           "L"
          ],
          [
           532,
           "L"
          ],
          [
           542,
           "Q"
          ],
          [
           546,
           "I"
          ],
          [
           550,
           "N"
          ],
          [
           553,
           "N"
          ],
          [
           560,
           "L"
          ],
          [
           563,
           "L"
          ],
          [
           563,
           "L"
          ],
          [
           575,
           "I"
          ],
          [
           566,
           "R"
          ],
          [
           563,
           "L"
          ],
          [
           563,
           "L"
          ]
         ],
         "hovertemplate": "Interacting Chain=kinesin B<br>aa_classification=nonpolar<br>Residue Index=%{x}<br>Distance (angstroms)=%{y}<br>residue_one_letter=%{text}<br>interacting_resinumber=%{customdata[0]}<br>interactingresi_oneletter=%{customdata[1]}<extra></extra>",
         "legendgroup": "kinesin B, nonpolar",
         "marker": {
          "color": "#1f77b4",
          "opacity": 0.6,
          "size": 10,
          "symbol": "circle"
         },
         "mode": "markers+text",
         "name": "kinesin B, nonpolar",
         "orientation": "v",
         "showlegend": true,
         "text": [
          "A",
          "L",
          "L",
          "L",
          "A",
          "I",
          "L",
          "I",
          "L",
          "V",
          "G",
          "V",
          "V",
          "L",
          "V",
          "P",
          "L",
          "I",
          "L",
          "L",
          "L",
          "I",
          "L",
          "L",
          "I",
          "I",
          "L",
          "M",
          "I",
          "I",
          "L",
          "L",
          "L",
          "L",
          "A",
          "L",
          "A",
          "I",
          "L",
          "I",
          "L",
          "L",
          "I",
          "I",
          "L",
          "V",
          "P"
         ],
         "textposition": "top center",
         "type": "scatter",
         "x": [
          341,
          344,
          347,
          348,
          351,
          355,
          358,
          362,
          365,
          368,
          370,
          371,
          373,
          376,
          440,
          443,
          451,
          452,
          455,
          462,
          466,
          476,
          477,
          480,
          487,
          494,
          497,
          500,
          501,
          507,
          510,
          521,
          525,
          528,
          531,
          532,
          539,
          546,
          549,
          556,
          560,
          563,
          567,
          575,
          578,
          579,
          580
         ],
         "xaxis": "x",
         "y": [
          3.354698657989502,
          3.200251340866089,
          3.707874298095703,
          3.715491533279419,
          3.65644907951355,
          3.4683454036712646,
          3.352490186691284,
          3.326350212097168,
          3.049964427947998,
          3.042185068130493,
          3.012320280075073,
          3.1454970836639404,
          3.127815961837769,
          2.806396007537842,
          3.980888605117798,
          2.876974582672119,
          3.931032419204712,
          3.525406837463379,
          3.779537916183472,
          3.7545886039733887,
          3.098202705383301,
          3.2766308784484863,
          4.039659023284912,
          3.138929843902588,
          2.927501916885376,
          3.601668119430542,
          3.0348386764526367,
          4.04103946685791,
          2.8944034576416016,
          3.4463446140289307,
          3.529301166534424,
          2.607774019241333,
          3.580308198928833,
          3.583856105804444,
          3.443424224853516,
          3.4693262577056885,
          2.8001930713653564,
          3.3828978538513184,
          3.1488406658172607,
          2.984078884124756,
          3.26853609085083,
          3.2825124263763428,
          3.613444805145264,
          3.4914350509643555,
          3.1584062576293945,
          4.417254447937012,
          3.513685464859009
         ],
         "yaxis": "y"
        },
        {
         "customdata": [
          [
           359,
           "K"
          ],
          [
           373,
           "V"
          ],
          [
           464,
           "K"
          ],
          [
           443,
           "P"
          ],
          [
           458,
           "K"
          ],
          [
           469,
           "K"
          ],
          [
           473,
           "K"
          ],
          [
           490,
           "K"
          ],
          [
           494,
           "I"
          ],
          [
           518,
           "N"
          ],
          [
           557,
           "K"
          ]
         ],
         "hovertemplate": "Interacting Chain=kinesin B<br>aa_classification=negatively charged<br>Residue Index=%{x}<br>Distance (angstroms)=%{y}<br>residue_one_letter=%{text}<br>interacting_resinumber=%{customdata[0]}<br>interactingresi_oneletter=%{customdata[1]}<extra></extra>",
         "legendgroup": "kinesin B, negatively charged",
         "marker": {
          "color": "#1f77b4",
          "opacity": 0.6,
          "size": 10,
          "symbol": "triangle-down"
         },
         "mode": "markers+text",
         "name": "kinesin B, negatively charged",
         "orientation": "v",
         "showlegend": true,
         "text": [
          "E",
          "E",
          "E",
          "D",
          "E",
          "E",
          "E",
          "D",
          "E",
          "E",
          "E"
         ],
         "textposition": "top center",
         "type": "scatter",
         "x": [
          354,
          364,
          366,
          448,
          463,
          470,
          472,
          491,
          493,
          517,
          552
         ],
         "xaxis": "x",
         "y": [
          2.836785793304444,
          3.3766651153564453,
          2.6462888717651367,
          2.7866146564483643,
          2.77162766456604,
          2.7927050590515137,
          2.687849283218384,
          2.530397415161133,
          3.4905266761779785,
          3.3287508487701416,
          2.810335636138916
         ],
         "yaxis": "y"
        },
        {
         "customdata": [
          [
           345,
           "K"
          ],
          [
           366,
           "E"
          ],
          [
           464,
           "K"
          ],
          [
           369,
           "S"
          ],
          [
           467,
           "F"
          ],
          [
           467,
           "F"
          ],
          [
           447,
           "K"
          ],
          [
           448,
           "D"
          ],
          [
           444,
           "T"
          ],
          [
           455,
           "L"
          ],
          [
           459,
           "C"
          ],
          [
           466,
           "L"
          ],
          [
           480,
           "L"
          ],
          [
           480,
           "L"
          ],
          [
           483,
           "Q"
          ],
          [
           487,
           "I"
          ],
          [
           497,
           "L"
          ],
          [
           504,
           "S"
          ],
          [
           507,
           "I"
          ],
          [
           510,
           "L"
          ],
          [
           514,
           "S"
          ],
          [
           514,
           "S"
          ],
          [
           518,
           "N"
          ],
          [
           521,
           "L"
          ],
          [
           525,
           "L"
          ],
          [
           535,
           "S"
          ],
          [
           539,
           "A"
          ],
          [
           542,
           "Q"
          ],
          [
           546,
           "I"
          ],
          [
           549,
           "L"
          ],
          [
           553,
           "N"
          ],
          [
           560,
           "L"
          ],
          [
           566,
           "R"
          ]
         ],
         "hovertemplate": "Interacting Chain=kinesin B<br>aa_classification=polar uncharged<br>Residue Index=%{x}<br>Distance (angstroms)=%{y}<br>residue_one_letter=%{text}<br>interacting_resinumber=%{customdata[0]}<br>interactingresi_oneletter=%{customdata[1]}<extra></extra>",
         "legendgroup": "kinesin B, polar uncharged",
         "marker": {
          "color": "#1f77b4",
          "opacity": 0.6,
          "size": 10,
          "symbol": "square"
         },
         "mode": "markers+text",
         "name": "kinesin B, polar uncharged",
         "orientation": "v",
         "showlegend": true,
         "text": [
          "Q",
          "Y",
          "T",
          "S",
          "T",
          "S",
          "S",
          "T",
          "S",
          "Q",
          "C",
          "Q",
          "Q",
          "Q",
          "Q",
          "Q",
          "N",
          "S",
          "N",
          "Y",
          "S",
          "T",
          "N",
          "N",
          "Q",
          "S",
          "Q",
          "S",
          "T",
          "N",
          "N",
          "Q",
          "S"
         ],
         "textposition": "top center",
         "type": "scatter",
         "x": [
          337,
          361,
          367,
          369,
          372,
          374,
          441,
          444,
          445,
          456,
          459,
          465,
          479,
          483,
          484,
          486,
          498,
          504,
          508,
          511,
          514,
          515,
          518,
          522,
          524,
          535,
          542,
          543,
          545,
          550,
          553,
          559,
          577
         ],
         "xaxis": "x",
         "y": [
          4.298929691314697,
          3.1206088066101074,
          3.45613431930542,
          3.342584609985352,
          2.2607641220092773,
          2.3232970237731934,
          3.7674851417541504,
          3.230900764465332,
          3.089808225631714,
          3.9290592670440674,
          3.0065269470214844,
          3.2979066371917725,
          3.697762250900269,
          3.131711721420288,
          3.644432544708252,
          3.658686399459839,
          3.5012660026550293,
          3.266563892364502,
          3.311109781265259,
          3.5024619102478027,
          2.829176187515259,
          3.6055116653442383,
          2.526687860488892,
          3.312498092651367,
          3.6164956092834473,
          2.8628761768341064,
          2.816084623336792,
          3.813214540481568,
          4.178343772888184,
          3.2088398933410645,
          2.7933712005615234,
          4.123327732086182,
          4.37064790725708
         ],
         "yaxis": "y"
        },
        {
         "customdata": [
          [
           420,
           "E"
          ],
          [
           410,
           "G"
          ],
          [
           409,
           "V"
          ],
          [
           423,
           "E"
          ],
          [
           402,
           "R"
          ]
         ],
         "hovertemplate": "Interacting Chain=alpha-tubulin<br>aa_classification=positively charged<br>Residue Index=%{x}<br>Distance (angstroms)=%{y}<br>residue_one_letter=%{text}<br>interacting_resinumber=%{customdata[0]}<br>interactingresi_oneletter=%{customdata[1]}<extra></extra>",
         "legendgroup": "alpha-tubulin, positively charged",
         "marker": {
          "color": "#ff7f0e",
          "opacity": 0.6,
          "size": 10,
          "symbol": "triangle-up"
         },
         "mode": "markers+text",
         "name": "alpha-tubulin, positively charged",
         "orientation": "v",
         "showlegend": true,
         "text": [
          "K",
          "K",
          "K",
          "R",
          "R"
         ],
         "textposition": "top center",
         "type": "scatter",
         "x": [
          240,
          255,
          259,
          321,
          325
         ],
         "xaxis": "x",
         "y": [
          2.5317704677581787,
          3.4258370399475098,
          3.4257187843322754,
          2.838778257369995,
          4.23454475402832
         ],
         "yaxis": "y"
        },
        {
         "customdata": [
          [
           412,
           "G"
          ],
          [
           112,
           "K"
          ],
          [
           420,
           "E"
          ]
         ],
         "hovertemplate": "Interacting Chain=alpha-tubulin<br>aa_classification=nonpolar<br>Residue Index=%{x}<br>Distance (angstroms)=%{y}<br>residue_one_letter=%{text}<br>interacting_resinumber=%{customdata[0]}<br>interactingresi_oneletter=%{customdata[1]}<extra></extra>",
         "legendgroup": "alpha-tubulin, nonpolar",
         "marker": {
          "color": "#ff7f0e",
          "opacity": 0.6,
          "size": 10,
          "symbol": "circle"
         },
         "mode": "markers+text",
         "name": "alpha-tubulin, nonpolar",
         "orientation": "v",
         "showlegend": true,
         "text": [
          "I",
          "A",
          "A"
         ],
         "textposition": "top center",
         "type": "scatter",
         "x": [
          241,
          246,
          314
         ],
         "xaxis": "x",
         "y": [
          3.025615930557251,
          3.293528318405152,
          2.985966205596924
         ],
         "yaxis": "y"
        },
        {
         "customdata": [
          [
           427,
           "A"
          ],
          [
           414,
           "E"
          ],
          [
           414,
           "E"
          ]
         ],
         "hovertemplate": "Interacting Chain=alpha-tubulin<br>aa_classification=negatively charged<br>Residue Index=%{x}<br>Distance (angstroms)=%{y}<br>residue_one_letter=%{text}<br>interacting_resinumber=%{customdata[0]}<br>interactingresi_oneletter=%{customdata[1]}<extra></extra>",
         "legendgroup": "alpha-tubulin, negatively charged",
         "marker": {
          "color": "#ff7f0e",
          "opacity": 0.6,
          "size": 10,
          "symbol": "triangle-down"
         },
         "mode": "markers+text",
         "name": "alpha-tubulin, negatively charged",
         "orientation": "v",
         "showlegend": true,
         "text": [
          "E",
          "E",
          "E"
         ],
         "textposition": "top center",
         "type": "scatter",
         "x": [
          41,
          239,
          315
         ],
         "xaxis": "x",
         "y": [
          4.255910396575928,
          4.312185764312744,
          4.293878078460693
         ],
         "yaxis": "y"
        },
        {
         "customdata": [
          [
           414,
           "E"
          ],
          [
           112,
           "K"
          ],
          [
           409,
           "V"
          ],
          [
           415,
           "E"
          ],
          [
           402,
           "R"
          ],
          [
           402,
           "R"
          ]
         ],
         "hovertemplate": "Interacting Chain=alpha-tubulin<br>aa_classification=polar uncharged<br>Residue Index=%{x}<br>Distance (angstroms)=%{y}<br>residue_one_letter=%{text}<br>interacting_resinumber=%{customdata[0]}<br>interactingresi_oneletter=%{customdata[1]}<extra></extra>",
         "legendgroup": "alpha-tubulin, polar uncharged",
         "marker": {
          "color": "#ff7f0e",
          "opacity": 0.6,
          "size": 10,
          "symbol": "square"
         },
         "mode": "markers+text",
         "name": "alpha-tubulin, polar uncharged",
         "orientation": "v",
         "showlegend": true,
         "text": [
          "S",
          "Q",
          "N",
          "S",
          "N",
          "N"
         ],
         "textposition": "top center",
         "type": "scatter",
         "x": [
          238,
          247,
          258,
          262,
          266,
          269
         ],
         "xaxis": "x",
         "y": [
          3.012025594711304,
          4.067204475402832,
          3.4729363918304443,
          2.5008132457733154,
          3.44490647315979,
          4.219052314758301
         ],
         "yaxis": "y"
        },
        {
         "customdata": [
          [
           440,
           "E"
          ],
          [
           157,
           "E"
          ],
          [
           407,
           "E"
          ],
          [
           404,
           "D"
          ],
          [
           432,
           "E"
          ],
          [
           424,
           "Q"
          ],
          [
           417,
           "D"
          ],
          [
           194,
           "E"
          ],
          [
           410,
           "E"
          ],
          [
           440,
           "E"
          ],
          [
           436,
           "F"
          ]
         ],
         "hovertemplate": "Interacting Chain=beta-tubulin<br>aa_classification=positively charged<br>Residue Index=%{x}<br>Distance (angstroms)=%{y}<br>residue_one_letter=%{text}<br>interacting_resinumber=%{customdata[0]}<br>interactingresi_oneletter=%{customdata[1]}<extra></extra>",
         "legendgroup": "beta-tubulin, positively charged",
         "marker": {
          "color": "#2ca02c",
          "opacity": 0.6,
          "size": 10,
          "symbol": "triangle-up"
         },
         "mode": "markers+text",
         "name": "beta-tubulin, positively charged",
         "orientation": "v",
         "showlegend": true,
         "text": [
          "H",
          "R",
          "K",
          "R",
          "K",
          "H",
          "R",
          "K",
          "R",
          "R",
          "R"
         ],
         "textposition": "top center",
         "type": "scatter",
         "x": [
          44,
          144,
          157,
          159,
          275,
          278,
          282,
          285,
          288,
          321,
          325
         ],
         "xaxis": "x",
         "y": [
          4.055542945861816,
          2.4457154273986816,
          2.6892662048339844,
          2.696274280548096,
          3.260807991027832,
          2.7705724239349365,
          2.4130568504333496,
          3.865663290023804,
          2.903447151184082,
          3.19085693359375,
          3.689394235610962
         ],
         "yaxis": "y"
        },
        {
         "customdata": [
          [
           440,
           "E"
          ],
          [
           410,
           "E"
          ],
          [
           406,
           "M"
          ],
          [
           391,
           "R"
          ],
          [
           94,
           "Q"
          ]
         ],
         "hovertemplate": "Interacting Chain=beta-tubulin<br>aa_classification=nonpolar<br>Residue Index=%{x}<br>Distance (angstroms)=%{y}<br>residue_one_letter=%{text}<br>interacting_resinumber=%{customdata[0]}<br>interactingresi_oneletter=%{customdata[1]}<extra></extra>",
         "legendgroup": "beta-tubulin, nonpolar",
         "marker": {
          "color": "#2ca02c",
          "opacity": 0.6,
          "size": 10,
          "symbol": "circle"
         },
         "mode": "markers+text",
         "name": "beta-tubulin, nonpolar",
         "orientation": "v",
         "showlegend": true,
         "text": [
          "F",
          "V",
          "W",
          "I",
          "V"
         ],
         "textposition": "top center",
         "type": "scatter",
         "x": [
          46,
          158,
          167,
          494,
          523
         ],
         "xaxis": "x",
         "y": [
          4.477118492126465,
          3.9546303749084473,
          4.015952110290527,
          3.659312248229981,
          3.58296537399292
         ],
         "yaxis": "y"
        },
        {
         "customdata": [
          [
           413,
           "S"
          ],
          [
           406,
           "M"
          ],
          [
           262,
           "R"
          ]
         ],
         "hovertemplate": "Interacting Chain=beta-tubulin<br>aa_classification=negatively charged<br>Residue Index=%{x}<br>Distance (angstroms)=%{y}<br>residue_one_letter=%{text}<br>interacting_resinumber=%{customdata[0]}<br>interactingresi_oneletter=%{customdata[1]}<extra></extra>",
         "legendgroup": "beta-tubulin, negatively charged",
         "marker": {
          "color": "#2ca02c",
          "opacity": 0.6,
          "size": 10,
          "symbol": "triangle-down"
         },
         "mode": "markers+text",
         "name": "beta-tubulin, negatively charged",
         "orientation": "v",
         "showlegend": true,
         "text": [
          "E",
          "E",
          "D"
         ],
         "textposition": "top center",
         "type": "scatter",
         "x": [
          160,
          169,
          283
         ],
         "xaxis": "x",
         "y": [
          3.344514846801758,
          3.1129674911499023,
          3.2055599689483643
         ],
         "yaxis": "y"
        },
        {
         "customdata": [
          [
           443,
           "D"
          ],
          [
           424,
           "Q"
          ],
          [
           424,
           "Q"
          ],
          [
           439,
           "E"
          ],
          [
           391,
           "R"
          ],
          [
           394,
           "F"
          ],
          [
           179,
           "V"
          ],
          [
           397,
           "W"
          ],
          [
           397,
           "W"
          ],
          [
           397,
           "W"
          ],
          [
           103,
           "K"
          ],
          [
           95,
           "S"
          ]
         ],
         "hovertemplate": "Interacting Chain=beta-tubulin<br>aa_classification=polar uncharged<br>Residue Index=%{x}<br>Distance (angstroms)=%{y}<br>residue_one_letter=%{text}<br>interacting_resinumber=%{customdata[0]}<br>interactingresi_oneletter=%{customdata[1]}<extra></extra>",
         "legendgroup": "beta-tubulin, polar uncharged",
         "marker": {
          "color": "#2ca02c",
          "opacity": 0.6,
          "size": 10,
          "symbol": "square"
         },
         "mode": "markers+text",
         "name": "beta-tubulin, polar uncharged",
         "orientation": "v",
         "showlegend": true,
         "text": [
          "S",
          "S",
          "T",
          "N",
          "N",
          "N",
          "N",
          "S",
          "Q",
          "N",
          "N",
          "S"
         ],
         "textposition": "top center",
         "type": "scatter",
         "x": [
          47,
          276,
          277,
          328,
          498,
          505,
          508,
          509,
          512,
          513,
          516,
          519
         ],
         "xaxis": "x",
         "y": [
          4.17655611038208,
          3.5301337242126465,
          3.401247978210449,
          4.368504047393799,
          2.39575743675232,
          2.2979018688201904,
          2.487976312637329,
          3.1939592361450195,
          2.914006233215332,
          4.06581974029541,
          3.945590257644653,
          3.867239236831665
         ],
         "yaxis": "y"
        },
        {
         "customdata": [
          [
           1,
           "?"
          ],
          [
           1,
           "?"
          ],
          [
           1,
           "?"
          ]
         ],
         "hovertemplate": "Interacting Chain=ATP<br>aa_classification=positively charged<br>Residue Index=%{x}<br>Distance (angstroms)=%{y}<br>residue_one_letter=%{text}<br>interacting_resinumber=%{customdata[0]}<br>interactingresi_oneletter=%{customdata[1]}<extra></extra>",
         "legendgroup": "ATP, positively charged",
         "marker": {
          "color": "#d62728",
          "opacity": 0.6,
          "size": 10,
          "symbol": "triangle-up"
         },
         "mode": "markers+text",
         "name": "ATP, positively charged",
         "orientation": "v",
         "showlegend": true,
         "text": [
          "R",
          "R",
          "K"
         ],
         "textposition": "top center",
         "type": "scatter",
         "x": [
          9,
          11,
          91
         ],
         "xaxis": "x",
         "y": [
          3.6175246238708496,
          3.609130620956421,
          2.56368350982666
         ],
         "yaxis": "y"
        },
        {
         "customdata": [
          [
           1,
           "?"
          ],
          [
           1,
           "?"
          ],
          [
           1,
           "?"
          ],
          [
           1,
           "?"
          ],
          [
           1,
           "?"
          ],
          [
           1,
           "?"
          ],
          [
           1,
           "?"
          ]
         ],
         "hovertemplate": "Interacting Chain=ATP<br>aa_classification=nonpolar<br>Residue Index=%{x}<br>Distance (angstroms)=%{y}<br>residue_one_letter=%{text}<br>interacting_resinumber=%{customdata[0]}<br>interactingresi_oneletter=%{customdata[1]}<extra></extra>",
         "legendgroup": "ATP, nonpolar",
         "marker": {
          "color": "#d62728",
          "opacity": 0.6,
          "size": 10,
          "symbol": "circle"
         },
         "mode": "markers+text",
         "name": "ATP, nonpolar",
         "orientation": "v",
         "showlegend": true,
         "text": [
          "P",
          "G",
          "G",
          "F",
          "L",
          "A",
          "G"
         ],
         "textposition": "top center",
         "type": "scatter",
         "x": [
          12,
          88,
          90,
          93,
          235,
          236,
          237
         ],
         "xaxis": "x",
         "y": [
          3.7597556114196777,
          2.868091821670532,
          2.9674601554870605,
          2.576167106628418,
          4.29633903503418,
          3.887151956558228,
          2.8852944374084477
         ],
         "yaxis": "y"
        },
        {
         "customdata": [
          [
           1,
           "?"
          ]
         ],
         "hovertemplate": "Interacting Chain=ATP<br>aa_classification=negatively charged<br>Residue Index=%{x}<br>Distance (angstroms)=%{y}<br>residue_one_letter=%{text}<br>interacting_resinumber=%{customdata[0]}<br>interactingresi_oneletter=%{customdata[1]}<extra></extra>",
         "legendgroup": "ATP, negatively charged",
         "marker": {
          "color": "#d62728",
          "opacity": 0.6,
          "size": 10,
          "symbol": "triangle-down"
         },
         "mode": "markers+text",
         "name": "ATP, negatively charged",
         "orientation": "v",
         "showlegend": true,
         "text": [
          "E"
         ],
         "textposition": "top center",
         "type": "scatter",
         "x": [
          203
         ],
         "xaxis": "x",
         "y": [
          4.112808704376221
         ],
         "yaxis": "y"
        },
        {
         "customdata": [
          [
           1,
           "?"
          ],
          [
           1,
           "?"
          ],
          [
           1,
           "?"
          ],
          [
           1,
           "?"
          ],
          [
           1,
           "?"
          ],
          [
           1,
           "?"
          ],
          [
           1,
           "?"
          ]
         ],
         "hovertemplate": "Interacting Chain=ATP<br>aa_classification=polar uncharged<br>Residue Index=%{x}<br>Distance (angstroms)=%{y}<br>residue_one_letter=%{text}<br>interacting_resinumber=%{customdata[0]}<br>interactingresi_oneletter=%{customdata[1]}<extra></extra>",
         "legendgroup": "ATP, polar uncharged",
         "marker": {
          "color": "#d62728",
          "opacity": 0.6,
          "size": 10,
          "symbol": "square"
         },
         "mode": "markers+text",
         "name": "ATP, polar uncharged",
         "orientation": "v",
         "showlegend": true,
         "text": [
          "Q",
          "T",
          "S",
          "T",
          "N",
          "S",
          "S"
         ],
         "textposition": "top center",
         "type": "scatter",
         "x": [
          86,
          87,
          89,
          92,
          201,
          204,
          205
         ],
         "xaxis": "x",
         "y": [
          4.001126766204834,
          2.6347150802612305,
          3.4517407417297363,
          2.712097406387329,
          3.054428577423096,
          3.033492088317871,
          2.9835848808288574
         ],
         "yaxis": "y"
        }
       ],
       "layout": {
        "autosize": false,
        "height": 600,
        "legend": {
         "title": {
          "text": "Interacting Chain"
         },
         "tracegroupgap": 0
        },
        "shapes": [
         {
          "fillcolor": "LightSalmon",
          "layer": "below",
          "line": {
           "width": 0
          },
          "opacity": 0.3,
          "type": "rect",
          "x0": 0,
          "x1": 600,
          "y0": 0,
          "y1": 5
         }
        ],
        "template": {
         "data": {
          "bar": [
           {
            "error_x": {
             "color": "#2a3f5f"
            },
            "error_y": {
             "color": "#2a3f5f"
            },
            "marker": {
             "line": {
              "color": "#E5ECF6",
              "width": 0.5
             },
             "pattern": {
              "fillmode": "overlay",
              "size": 10,
              "solidity": 0.2
             }
            },
            "type": "bar"
           }
          ],
          "barpolar": [
           {
            "marker": {
             "line": {
              "color": "#E5ECF6",
              "width": 0.5
             },
             "pattern": {
              "fillmode": "overlay",
              "size": 10,
              "solidity": 0.2
             }
            },
            "type": "barpolar"
           }
          ],
          "carpet": [
           {
            "aaxis": {
             "endlinecolor": "#2a3f5f",
             "gridcolor": "white",
             "linecolor": "white",
             "minorgridcolor": "white",
             "startlinecolor": "#2a3f5f"
            },
            "baxis": {
             "endlinecolor": "#2a3f5f",
             "gridcolor": "white",
             "linecolor": "white",
             "minorgridcolor": "white",
             "startlinecolor": "#2a3f5f"
            },
            "type": "carpet"
           }
          ],
          "choropleth": [
           {
            "colorbar": {
             "outlinewidth": 0,
             "ticks": ""
            },
            "type": "choropleth"
           }
          ],
          "contour": [
           {
            "colorbar": {
             "outlinewidth": 0,
             "ticks": ""
            },
            "colorscale": [
             [
              0,
              "#0d0887"
             ],
             [
              0.1111111111111111,
              "#46039f"
             ],
             [
              0.2222222222222222,
              "#7201a8"
             ],
             [
              0.3333333333333333,
              "#9c179e"
             ],
             [
              0.4444444444444444,
              "#bd3786"
             ],
             [
              0.5555555555555556,
              "#d8576b"
             ],
             [
              0.6666666666666666,
              "#ed7953"
             ],
             [
              0.7777777777777778,
              "#fb9f3a"
             ],
             [
              0.8888888888888888,
              "#fdca26"
             ],
             [
              1,
              "#f0f921"
             ]
            ],
            "type": "contour"
           }
          ],
          "contourcarpet": [
           {
            "colorbar": {
             "outlinewidth": 0,
             "ticks": ""
            },
            "type": "contourcarpet"
           }
          ],
          "heatmap": [
           {
            "colorbar": {
             "outlinewidth": 0,
             "ticks": ""
            },
            "colorscale": [
             [
              0,
              "#0d0887"
             ],
             [
              0.1111111111111111,
              "#46039f"
             ],
             [
              0.2222222222222222,
              "#7201a8"
             ],
             [
              0.3333333333333333,
              "#9c179e"
             ],
             [
              0.4444444444444444,
              "#bd3786"
             ],
             [
              0.5555555555555556,
              "#d8576b"
             ],
             [
              0.6666666666666666,
              "#ed7953"
             ],
             [
              0.7777777777777778,
              "#fb9f3a"
             ],
             [
              0.8888888888888888,
              "#fdca26"
             ],
             [
              1,
              "#f0f921"
             ]
            ],
            "type": "heatmap"
           }
          ],
          "heatmapgl": [
           {
            "colorbar": {
             "outlinewidth": 0,
             "ticks": ""
            },
            "colorscale": [
             [
              0,
              "#0d0887"
             ],
             [
              0.1111111111111111,
              "#46039f"
             ],
             [
              0.2222222222222222,
              "#7201a8"
             ],
             [
              0.3333333333333333,
              "#9c179e"
             ],
             [
              0.4444444444444444,
              "#bd3786"
             ],
             [
              0.5555555555555556,
              "#d8576b"
             ],
             [
              0.6666666666666666,
              "#ed7953"
             ],
             [
              0.7777777777777778,
              "#fb9f3a"
             ],
             [
              0.8888888888888888,
              "#fdca26"
             ],
             [
              1,
              "#f0f921"
             ]
            ],
            "type": "heatmapgl"
           }
          ],
          "histogram": [
           {
            "marker": {
             "pattern": {
              "fillmode": "overlay",
              "size": 10,
              "solidity": 0.2
             }
            },
            "type": "histogram"
           }
          ],
          "histogram2d": [
           {
            "colorbar": {
             "outlinewidth": 0,
             "ticks": ""
            },
            "colorscale": [
             [
              0,
              "#0d0887"
             ],
             [
              0.1111111111111111,
              "#46039f"
             ],
             [
              0.2222222222222222,
              "#7201a8"
             ],
             [
              0.3333333333333333,
              "#9c179e"
             ],
             [
              0.4444444444444444,
              "#bd3786"
             ],
             [
              0.5555555555555556,
              "#d8576b"
             ],
             [
              0.6666666666666666,
              "#ed7953"
             ],
             [
              0.7777777777777778,
              "#fb9f3a"
             ],
             [
              0.8888888888888888,
              "#fdca26"
             ],
             [
              1,
              "#f0f921"
             ]
            ],
            "type": "histogram2d"
           }
          ],
          "histogram2dcontour": [
           {
            "colorbar": {
             "outlinewidth": 0,
             "ticks": ""
            },
            "colorscale": [
             [
              0,
              "#0d0887"
             ],
             [
              0.1111111111111111,
              "#46039f"
             ],
             [
              0.2222222222222222,
              "#7201a8"
             ],
             [
              0.3333333333333333,
              "#9c179e"
             ],
             [
              0.4444444444444444,
              "#bd3786"
             ],
             [
              0.5555555555555556,
              "#d8576b"
             ],
             [
              0.6666666666666666,
              "#ed7953"
             ],
             [
              0.7777777777777778,
              "#fb9f3a"
             ],
             [
              0.8888888888888888,
              "#fdca26"
             ],
             [
              1,
              "#f0f921"
             ]
            ],
            "type": "histogram2dcontour"
           }
          ],
          "mesh3d": [
           {
            "colorbar": {
             "outlinewidth": 0,
             "ticks": ""
            },
            "type": "mesh3d"
           }
          ],
          "parcoords": [
           {
            "line": {
             "colorbar": {
              "outlinewidth": 0,
              "ticks": ""
             }
            },
            "type": "parcoords"
           }
          ],
          "pie": [
           {
            "automargin": true,
            "type": "pie"
           }
          ],
          "scatter": [
           {
            "fillpattern": {
             "fillmode": "overlay",
             "size": 10,
             "solidity": 0.2
            },
            "type": "scatter"
           }
          ],
          "scatter3d": [
           {
            "line": {
             "colorbar": {
              "outlinewidth": 0,
              "ticks": ""
             }
            },
            "marker": {
             "colorbar": {
              "outlinewidth": 0,
              "ticks": ""
             }
            },
            "type": "scatter3d"
           }
          ],
          "scattercarpet": [
           {
            "marker": {
             "colorbar": {
              "outlinewidth": 0,
              "ticks": ""
             }
            },
            "type": "scattercarpet"
           }
          ],
          "scattergeo": [
           {
            "marker": {
             "colorbar": {
              "outlinewidth": 0,
              "ticks": ""
             }
            },
            "type": "scattergeo"
           }
          ],
          "scattergl": [
           {
            "marker": {
             "colorbar": {
              "outlinewidth": 0,
              "ticks": ""
             }
            },
            "type": "scattergl"
           }
          ],
          "scattermapbox": [
           {
            "marker": {
             "colorbar": {
              "outlinewidth": 0,
              "ticks": ""
             }
            },
            "type": "scattermapbox"
           }
          ],
          "scatterpolar": [
           {
            "marker": {
             "colorbar": {
              "outlinewidth": 0,
              "ticks": ""
             }
            },
            "type": "scatterpolar"
           }
          ],
          "scatterpolargl": [
           {
            "marker": {
             "colorbar": {
              "outlinewidth": 0,
              "ticks": ""
             }
            },
            "type": "scatterpolargl"
           }
          ],
          "scatterternary": [
           {
            "marker": {
             "colorbar": {
              "outlinewidth": 0,
              "ticks": ""
             }
            },
            "type": "scatterternary"
           }
          ],
          "surface": [
           {
            "colorbar": {
             "outlinewidth": 0,
             "ticks": ""
            },
            "colorscale": [
             [
              0,
              "#0d0887"
             ],
             [
              0.1111111111111111,
              "#46039f"
             ],
             [
              0.2222222222222222,
              "#7201a8"
             ],
             [
              0.3333333333333333,
              "#9c179e"
             ],
             [
              0.4444444444444444,
              "#bd3786"
             ],
             [
              0.5555555555555556,
              "#d8576b"
             ],
             [
              0.6666666666666666,
              "#ed7953"
             ],
             [
              0.7777777777777778,
              "#fb9f3a"
             ],
             [
              0.8888888888888888,
              "#fdca26"
             ],
             [
              1,
              "#f0f921"
             ]
            ],
            "type": "surface"
           }
          ],
          "table": [
           {
            "cells": {
             "fill": {
              "color": "#EBF0F8"
             },
             "line": {
              "color": "white"
             }
            },
            "header": {
             "fill": {
              "color": "#C8D4E3"
             },
             "line": {
              "color": "white"
             }
            },
            "type": "table"
           }
          ]
         },
         "layout": {
          "annotationdefaults": {
           "arrowcolor": "#2a3f5f",
           "arrowhead": 0,
           "arrowwidth": 1
          },
          "autotypenumbers": "strict",
          "coloraxis": {
           "colorbar": {
            "outlinewidth": 0,
            "ticks": ""
           }
          },
          "colorscale": {
           "diverging": [
            [
             0,
             "#8e0152"
            ],
            [
             0.1,
             "#c51b7d"
            ],
            [
             0.2,
             "#de77ae"
            ],
            [
             0.3,
             "#f1b6da"
            ],
            [
             0.4,
             "#fde0ef"
            ],
            [
             0.5,
             "#f7f7f7"
            ],
            [
             0.6,
             "#e6f5d0"
            ],
            [
             0.7,
             "#b8e186"
            ],
            [
             0.8,
             "#7fbc41"
            ],
            [
             0.9,
             "#4d9221"
            ],
            [
             1,
             "#276419"
            ]
           ],
           "sequential": [
            [
             0,
             "#0d0887"
            ],
            [
             0.1111111111111111,
             "#46039f"
            ],
            [
             0.2222222222222222,
             "#7201a8"
            ],
            [
             0.3333333333333333,
             "#9c179e"
            ],
            [
             0.4444444444444444,
             "#bd3786"
            ],
            [
             0.5555555555555556,
             "#d8576b"
            ],
            [
             0.6666666666666666,
             "#ed7953"
            ],
            [
             0.7777777777777778,
             "#fb9f3a"
            ],
            [
             0.8888888888888888,
             "#fdca26"
            ],
            [
             1,
             "#f0f921"
            ]
           ],
           "sequentialminus": [
            [
             0,
             "#0d0887"
            ],
            [
             0.1111111111111111,
             "#46039f"
            ],
            [
             0.2222222222222222,
             "#7201a8"
            ],
            [
             0.3333333333333333,
             "#9c179e"
            ],
            [
             0.4444444444444444,
             "#bd3786"
            ],
            [
             0.5555555555555556,
             "#d8576b"
            ],
            [
             0.6666666666666666,
             "#ed7953"
            ],
            [
             0.7777777777777778,
             "#fb9f3a"
            ],
            [
             0.8888888888888888,
             "#fdca26"
            ],
            [
             1,
             "#f0f921"
            ]
           ]
          },
          "colorway": [
           "#636efa",
           "#EF553B",
           "#00cc96",
           "#ab63fa",
           "#FFA15A",
           "#19d3f3",
           "#FF6692",
           "#B6E880",
           "#FF97FF",
           "#FECB52"
          ],
          "font": {
           "color": "#2a3f5f"
          },
          "geo": {
           "bgcolor": "white",
           "lakecolor": "white",
           "landcolor": "#E5ECF6",
           "showlakes": true,
           "showland": true,
           "subunitcolor": "white"
          },
          "hoverlabel": {
           "align": "left"
          },
          "hovermode": "closest",
          "mapbox": {
           "style": "light"
          },
          "paper_bgcolor": "white",
          "plot_bgcolor": "#E5ECF6",
          "polar": {
           "angularaxis": {
            "gridcolor": "white",
            "linecolor": "white",
            "ticks": ""
           },
           "bgcolor": "#E5ECF6",
           "radialaxis": {
            "gridcolor": "white",
            "linecolor": "white",
            "ticks": ""
           }
          },
          "scene": {
           "xaxis": {
            "backgroundcolor": "#E5ECF6",
            "gridcolor": "white",
            "gridwidth": 2,
            "linecolor": "white",
            "showbackground": true,
            "ticks": "",
            "zerolinecolor": "white"
           },
           "yaxis": {
            "backgroundcolor": "#E5ECF6",
            "gridcolor": "white",
            "gridwidth": 2,
            "linecolor": "white",
            "showbackground": true,
            "ticks": "",
            "zerolinecolor": "white"
           },
           "zaxis": {
            "backgroundcolor": "#E5ECF6",
            "gridcolor": "white",
            "gridwidth": 2,
            "linecolor": "white",
            "showbackground": true,
            "ticks": "",
            "zerolinecolor": "white"
           }
          },
          "shapedefaults": {
           "line": {
            "color": "#2a3f5f"
           }
          },
          "ternary": {
           "aaxis": {
            "gridcolor": "white",
            "linecolor": "white",
            "ticks": ""
           },
           "baxis": {
            "gridcolor": "white",
            "linecolor": "white",
            "ticks": ""
           },
           "bgcolor": "#E5ECF6",
           "caxis": {
            "gridcolor": "white",
            "linecolor": "white",
            "ticks": ""
           }
          },
          "title": {
           "x": 0.05
          },
          "xaxis": {
           "automargin": true,
           "gridcolor": "white",
           "linecolor": "white",
           "ticks": "",
           "title": {
            "standoff": 15
           },
           "zerolinecolor": "white",
           "zerolinewidth": 2
          },
          "yaxis": {
           "automargin": true,
           "gridcolor": "white",
           "linecolor": "white",
           "ticks": "",
           "title": {
            "standoff": 15
           },
           "zerolinecolor": "white",
           "zerolinewidth": 2
          }
         }
        },
        "title": {
         "text": "Interactions for H_seed567_model_0"
        },
        "width": 1600,
        "xaxis": {
         "anchor": "y",
         "domain": [
          0,
          1
         ],
         "dtick": 20,
         "range": [
          0,
          600
         ],
         "title": {
          "text": "Residue Index"
         }
        },
        "yaxis": {
         "anchor": "x",
         "domain": [
          0,
          1
         ],
         "range": [
          0.1,
          5
         ],
         "title": {
          "text": "Distance (angstroms)"
         }
        }
       }
      }
     },
     "metadata": {},
     "output_type": "display_data"
    }
   ],
   "source": [
    "# Define the path to the CSV file\n",
    "csv_file_path = \"../../data/3d_predictions/chimeras_5seeds/interactions_chimeras.csv\"\n",
    "\n",
    "# Process the DataFrame\n",
    "df_processed = process_dataframe(csv_file_path)\n",
    "\n",
    "# Define the threshold value for distance filtering\n",
    "distance_threshold = 4.5\n",
    "\n",
    "# Create and display the plots with specified x-axis range, interacting chains, and files to plot\n",
    "xaxis_range = [0, 600]  # Example x-axis range\n",
    "yaxis_range = None #[0, 5.5]\n",
    "interacting_chains = ['ATP', 'beta-tubulin', 'alpha-tubulin', 'kinesin B']  # Example interacting chains to display\n",
    "\n",
    "files_to_plot =  ['H']  # Example files to plot\n",
    "\n",
    "plots = create_plots(df_processed, distance_threshold, xaxis_range=xaxis_range, yaxis_range=yaxis_range, interacting_chains=interacting_chains[:4], files_to_plot=files_to_plot, chimeras=True)\n"
   ]
  },
  {
   "cell_type": "code",
   "execution_count": 3,
   "metadata": {},
   "outputs": [
    {
     "data": {
      "text/html": [
       "<div>\n",
       "<style scoped>\n",
       "    .dataframe tbody tr th:only-of-type {\n",
       "        vertical-align: middle;\n",
       "    }\n",
       "\n",
       "    .dataframe tbody tr th {\n",
       "        vertical-align: top;\n",
       "    }\n",
       "\n",
       "    .dataframe thead th {\n",
       "        text-align: right;\n",
       "    }\n",
       "</style>\n",
       "<table border=\"1\" class=\"dataframe\">\n",
       "  <thead>\n",
       "    <tr style=\"text-align: right;\">\n",
       "      <th></th>\n",
       "      <th>file</th>\n",
       "      <th>chain</th>\n",
       "      <th>resi</th>\n",
       "      <th>resn</th>\n",
       "      <th>interacting_chain</th>\n",
       "      <th>interacting_resn</th>\n",
       "      <th>interacting_resinumber</th>\n",
       "      <th>residue_one_letter</th>\n",
       "      <th>interactingresi_oneletter</th>\n",
       "      <th>distance (angstroms)</th>\n",
       "    </tr>\n",
       "  </thead>\n",
       "  <tbody>\n",
       "    <tr>\n",
       "      <th>0</th>\n",
       "      <td>A</td>\n",
       "      <td>A</td>\n",
       "      <td>18</td>\n",
       "      <td>ARG</td>\n",
       "      <td>ATP</td>\n",
       "      <td>ATP</td>\n",
       "      <td>1</td>\n",
       "      <td>R</td>\n",
       "      <td>?</td>\n",
       "      <td>3.804740</td>\n",
       "    </tr>\n",
       "    <tr>\n",
       "      <th>1</th>\n",
       "      <td>A</td>\n",
       "      <td>A</td>\n",
       "      <td>19</td>\n",
       "      <td>PHE</td>\n",
       "      <td>ATP</td>\n",
       "      <td>ATP</td>\n",
       "      <td>1</td>\n",
       "      <td>F</td>\n",
       "      <td>?</td>\n",
       "      <td>4.696334</td>\n",
       "    </tr>\n",
       "    <tr>\n",
       "      <th>2</th>\n",
       "      <td>A</td>\n",
       "      <td>A</td>\n",
       "      <td>20</td>\n",
       "      <td>ARG</td>\n",
       "      <td>ATP</td>\n",
       "      <td>ATP</td>\n",
       "      <td>1</td>\n",
       "      <td>R</td>\n",
       "      <td>?</td>\n",
       "      <td>3.641895</td>\n",
       "    </tr>\n",
       "    <tr>\n",
       "      <th>3</th>\n",
       "      <td>A</td>\n",
       "      <td>A</td>\n",
       "      <td>21</td>\n",
       "      <td>PRO</td>\n",
       "      <td>ATP</td>\n",
       "      <td>ATP</td>\n",
       "      <td>1</td>\n",
       "      <td>P</td>\n",
       "      <td>?</td>\n",
       "      <td>3.541921</td>\n",
       "    </tr>\n",
       "    <tr>\n",
       "      <th>4</th>\n",
       "      <td>A</td>\n",
       "      <td>A</td>\n",
       "      <td>23</td>\n",
       "      <td>ASN</td>\n",
       "      <td>ATP</td>\n",
       "      <td>ATP</td>\n",
       "      <td>1</td>\n",
       "      <td>N</td>\n",
       "      <td>?</td>\n",
       "      <td>5.803859</td>\n",
       "    </tr>\n",
       "    <tr>\n",
       "      <th>...</th>\n",
       "      <td>...</td>\n",
       "      <td>...</td>\n",
       "      <td>...</td>\n",
       "      <td>...</td>\n",
       "      <td>...</td>\n",
       "      <td>...</td>\n",
       "      <td>...</td>\n",
       "      <td>...</td>\n",
       "      <td>...</td>\n",
       "      <td>...</td>\n",
       "    </tr>\n",
       "    <tr>\n",
       "      <th>4732</th>\n",
       "      <td>H</td>\n",
       "      <td>A</td>\n",
       "      <td>579</td>\n",
       "      <td>VAL</td>\n",
       "      <td>kinesin B</td>\n",
       "      <td>ARG</td>\n",
       "      <td>566</td>\n",
       "      <td>V</td>\n",
       "      <td>R</td>\n",
       "      <td>4.842717</td>\n",
       "    </tr>\n",
       "    <tr>\n",
       "      <th>4733</th>\n",
       "      <td>H</td>\n",
       "      <td>A</td>\n",
       "      <td>579</td>\n",
       "      <td>VAL</td>\n",
       "      <td>kinesin B</td>\n",
       "      <td>LEU</td>\n",
       "      <td>563</td>\n",
       "      <td>V</td>\n",
       "      <td>L</td>\n",
       "      <td>4.625987</td>\n",
       "    </tr>\n",
       "    <tr>\n",
       "      <th>4734</th>\n",
       "      <td>H</td>\n",
       "      <td>A</td>\n",
       "      <td>580</td>\n",
       "      <td>PRO</td>\n",
       "      <td>kinesin B</td>\n",
       "      <td>ARG</td>\n",
       "      <td>566</td>\n",
       "      <td>P</td>\n",
       "      <td>R</td>\n",
       "      <td>4.409354</td>\n",
       "    </tr>\n",
       "    <tr>\n",
       "      <th>4735</th>\n",
       "      <td>H</td>\n",
       "      <td>A</td>\n",
       "      <td>580</td>\n",
       "      <td>PRO</td>\n",
       "      <td>kinesin B</td>\n",
       "      <td>GLN</td>\n",
       "      <td>559</td>\n",
       "      <td>P</td>\n",
       "      <td>Q</td>\n",
       "      <td>5.759448</td>\n",
       "    </tr>\n",
       "    <tr>\n",
       "      <th>4736</th>\n",
       "      <td>H</td>\n",
       "      <td>A</td>\n",
       "      <td>580</td>\n",
       "      <td>PRO</td>\n",
       "      <td>kinesin B</td>\n",
       "      <td>LEU</td>\n",
       "      <td>563</td>\n",
       "      <td>P</td>\n",
       "      <td>L</td>\n",
       "      <td>4.247968</td>\n",
       "    </tr>\n",
       "  </tbody>\n",
       "</table>\n",
       "<p>4737 rows × 10 columns</p>\n",
       "</div>"
      ],
      "text/plain": [
       "     file chain  resi resn interacting_chain interacting_resn  \\\n",
       "0       A     A    18  ARG               ATP              ATP   \n",
       "1       A     A    19  PHE               ATP              ATP   \n",
       "2       A     A    20  ARG               ATP              ATP   \n",
       "3       A     A    21  PRO               ATP              ATP   \n",
       "4       A     A    23  ASN               ATP              ATP   \n",
       "...   ...   ...   ...  ...               ...              ...   \n",
       "4732    H     A   579  VAL         kinesin B              ARG   \n",
       "4733    H     A   579  VAL         kinesin B              LEU   \n",
       "4734    H     A   580  PRO         kinesin B              ARG   \n",
       "4735    H     A   580  PRO         kinesin B              GLN   \n",
       "4736    H     A   580  PRO         kinesin B              LEU   \n",
       "\n",
       "      interacting_resinumber residue_one_letter interactingresi_oneletter  \\\n",
       "0                          1                  R                         ?   \n",
       "1                          1                  F                         ?   \n",
       "2                          1                  R                         ?   \n",
       "3                          1                  P                         ?   \n",
       "4                          1                  N                         ?   \n",
       "...                      ...                ...                       ...   \n",
       "4732                     566                  V                         R   \n",
       "4733                     563                  V                         L   \n",
       "4734                     566                  P                         R   \n",
       "4735                     559                  P                         Q   \n",
       "4736                     563                  P                         L   \n",
       "\n",
       "      distance (angstroms)  \n",
       "0                 3.804740  \n",
       "1                 4.696334  \n",
       "2                 3.641895  \n",
       "3                 3.541921  \n",
       "4                 5.803859  \n",
       "...                    ...  \n",
       "4732              4.842717  \n",
       "4733              4.625987  \n",
       "4734              4.409354  \n",
       "4735              5.759448  \n",
       "4736              4.247968  \n",
       "\n",
       "[4737 rows x 10 columns]"
      ]
     },
     "execution_count": 3,
     "metadata": {},
     "output_type": "execute_result"
    }
   ],
   "source": [
    "def process_and_save_interactions(input_csv_path, output_csv_path):\n",
    "    df = pd.read_csv(input_csv_path)\n",
    "\n",
    "    df = df.loc[df['chain'] == 'A']\n",
    "\n",
    "    # Select the shortest distance interaction for each resi and interacting_resinumber\n",
    "    df = df.loc[df.groupby(['file', 'resi', 'interacting_resinumber'])['distance (angstroms)'].idxmin()]\n",
    "\n",
    "    df['seed'] = df['file'].str.extract(r'_seed(\\d+)')[0].str.upper()\n",
    "    df['file'] = df['file'].str.replace(r'_seed\\d+_model_0', '', regex=True).str.strip()\n",
    "\n",
    "    # Create a column with a tuple that includes resi and interacting_resinumber for each unique\n",
    "    df['resi_interacting_resinumber'] = df[['resi', 'interacting_resinumber']].apply(lambda x: (x['resi'], x['interacting_resinumber']), axis=1)\n",
    "\n",
    "    # Process each unique file separately\n",
    "    unique_files = df['file'].unique()\n",
    "    dfs = []\n",
    "\n",
    "    for file in unique_files:\n",
    "        df_file = df[df['file'] == file]\n",
    "\n",
    "        # Find the common interactions across all seeds of the current file\n",
    "        common_interactions = df_file.groupby('seed')['resi_interacting_resinumber'].apply(set).reset_index()\n",
    "        common_interactions = set.intersection(*common_interactions['resi_interacting_resinumber'])\n",
    "\n",
    "        # Filter the DataFrame to keep only the common interactions\n",
    "        df_file = df_file[df_file['resi_interacting_resinumber'].isin(common_interactions)]\n",
    "\n",
    "        # Compute the average distance for each interacting pair across the seeds\n",
    "        df_file = df_file.groupby(['file', 'chain', 'resi', 'resn', 'interacting_chain', 'interacting_resn', 'interacting_resinumber', 'residue_one_letter', 'interactingresi_oneletter'])['distance (angstroms)'].mean().reset_index()\n",
    "\n",
    "        dfs.append(df_file)\n",
    "\n",
    "    # Merge all the DataFrames\n",
    "    df_final = pd.concat(dfs, ignore_index=True)\n",
    "\n",
    "    # Save the final DataFrame\n",
    "    df_final.to_csv(output_csv_path, index=False)\n",
    "\n",
    "    chain_map = {\n",
    "        'B': 'kinesin B',\n",
    "        'C': 'alpha-tubulin',\n",
    "        'D': 'beta-tubulin',\n",
    "        'E': 'ATP',\n",
    "        'F': 'ATP'\n",
    "    }\n",
    "\n",
    "    df_final['interacting_chain'] = df_final['interacting_chain'].map(chain_map)\n",
    "    \n",
    "    return df_final\n",
    "\n",
    "  \n",
    "\n",
    "# Example usage\n",
    "csv_file_path = \"../../data/3d_predictions/chimeras_5seeds/interactions_chimeras.csv\"\n",
    "output_csv_path = \"../../data/3d_predictions/chimeras_5seeds/average_interactions_chimeras.csv\"\n",
    "df_average = process_and_save_interactions(csv_file_path, output_csv_path)\n",
    "df_average\n",
    "\n"
   ]
  },
  {
   "cell_type": "code",
   "execution_count": 4,
   "metadata": {},
   "outputs": [
    {
     "name": "stdout",
     "output_type": "stream",
     "text": [
      "File: A\n",
      "color blue, chain A\n",
      "color blue, chain B\n",
      "color white, chain C\n",
      "color gray, chain D\n",
      "color palegreen, resn ATP+ADP+GTP+GDP\n",
      "color palegreen, elem MG\n",
      "color red, chain A and resi 94+95+98+100+205+208+241\n",
      "show sticks, chain A and resi 94+95+98+100+205+208+241\n",
      "show surface, chain A and resi 94+95+98+100+205+208+241\n",
      "color orange, chain A and resi 244+250+266\n",
      "show sticks, chain A and resi 244+250+266\n",
      "show surface, chain A and resi 244+250+266\n",
      "color green, chain A and resi 163+282+286\n",
      "show sticks, chain A and resi 163+282+286\n",
      "show surface, chain A and resi 163+282+286\n",
      "color lightblue, chain A and resi 166+346+355+359+362+372+377+388\n",
      "show sticks, chain A and resi 166+346+355+359+362+372+377+388\n",
      "show surface, chain A and resi 166+346+355+359+362+372+377+388\n",
      "File: B\n",
      "color blue, chain A\n",
      "color blue, chain B\n",
      "color yelloworange, chain A and resi 1-175\n",
      "color white, chain C\n",
      "color gray, chain D\n",
      "color palegreen, resn ATP+ADP+GTP+GDP\n",
      "color palegreen, elem MG\n",
      "color red, chain A and resi 87+88+90+91+93+201+204+237\n",
      "show sticks, chain A and resi 87+88+90+91+93+201+204+237\n",
      "show surface, chain A and resi 87+88+90+91+93+201+204+237\n",
      "color orange, chain A and resi 240+262\n",
      "show sticks, chain A and resi 240+262\n",
      "show surface, chain A and resi 240+262\n",
      "color green, chain A and resi 144+278+282\n",
      "show sticks, chain A and resi 144+278+282\n",
      "show surface, chain A and resi 144+278+282\n",
      "color lightblue, chain A and resi 351+355+358+361+368+369+373+384\n",
      "show sticks, chain A and resi 351+355+358+361+368+369+373+384\n",
      "show surface, chain A and resi 351+355+358+361+368+369+373+384\n",
      "File: C\n",
      "color blue, chain A\n",
      "color blue, chain B\n",
      "color yelloworange, chain A and resi 180-334\n",
      "color white, chain C\n",
      "color gray, chain D\n",
      "color palegreen, resn ATP+ADP+GTP+GDP\n",
      "color palegreen, elem MG\n",
      "color lightblue, chain A and resi 355+359+362+365+372+377+388\n",
      "show sticks, chain A and resi 355+359+362+365+372+377+388\n",
      "show surface, chain A and resi 355+359+362+365+372+377+388\n",
      "color red, chain A and resi 94+95+98+100+208+241\n",
      "show sticks, chain A and resi 94+95+98+100+208+241\n",
      "show surface, chain A and resi 94+95+98+100+208+241\n",
      "color green, chain A and resi 163+282+286\n",
      "show sticks, chain A and resi 163+282+286\n",
      "show surface, chain A and resi 163+282+286\n",
      "color orange, chain A and resi 244+266\n",
      "show sticks, chain A and resi 244+266\n",
      "show surface, chain A and resi 244+266\n",
      "File: D\n",
      "color blue, chain A\n",
      "color blue, chain B\n",
      "color yelloworange, chain A and resi 1-330\n",
      "color white, chain C\n",
      "color gray, chain D\n",
      "color palegreen, resn ATP+ADP+GTP+GDP\n",
      "color palegreen, elem MG\n",
      "color red, chain A and resi 87+88+90+91+93+201+204+237\n",
      "show sticks, chain A and resi 87+88+90+91+93+201+204+237\n",
      "show surface, chain A and resi 87+88+90+91+93+201+204+237\n",
      "color orange, chain A and resi 238+240+262+321\n",
      "show sticks, chain A and resi 238+240+262+321\n",
      "show surface, chain A and resi 238+240+262+321\n",
      "color green, chain A and resi 144+278+282\n",
      "show sticks, chain A and resi 144+278+282\n",
      "show surface, chain A and resi 144+278+282\n",
      "color lightblue, chain A and resi 351+355+358+368+373+384\n",
      "show sticks, chain A and resi 351+355+358+368+373+384\n",
      "show surface, chain A and resi 351+355+358+368+373+384\n",
      "File: E\n",
      "color blue, chain A\n",
      "color blue, chain B\n",
      "color yelloworange, chain A and resi 335-596\n",
      "color white, chain C\n",
      "color gray, chain D\n",
      "color palegreen, resn ATP+ADP+GTP+GDP\n",
      "color palegreen, elem MG\n",
      "color lightblue, chain A and resi 358+363+365+462+463+467+473+474+476+477+494+495+501+505+508+518+522+539+543+546+556+557+561+570+582\n",
      "show sticks, chain A and resi 358+363+365+462+463+467+473+474+476+477+494+495+501+505+508+518+522+539+543+546+556+557+561+570+582\n",
      "show surface, chain A and resi 358+363+365+462+463+467+473+474+476+477+494+495+501+505+508+518+522+539+543+546+556+557+561+570+582\n",
      "color red, chain A and resi 94+95+97+98+100+208+241\n",
      "show sticks, chain A and resi 94+95+97+98+100+208+241\n",
      "show surface, chain A and resi 94+95+97+98+100+208+241\n",
      "color orange, chain A and resi 244+250+266\n",
      "show sticks, chain A and resi 244+250+266\n",
      "show surface, chain A and resi 244+250+266\n",
      "color green, chain A and resi 163+282+286\n",
      "show sticks, chain A and resi 163+282+286\n",
      "show surface, chain A and resi 163+282+286\n",
      "File: F\n",
      "color yelloworange, chain A\n",
      "color yelloworange, chain B\n",
      "color blue, chain A and resi 176-330\n",
      "color white, chain C\n",
      "color gray, chain D\n",
      "color palegreen, resn ATP+ADP+GTP+GDP\n",
      "color palegreen, elem MG\n",
      "color red, chain A and resi 87+88+91+93+201+204+237\n",
      "show sticks, chain A and resi 87+88+91+93+201+204+237\n",
      "show surface, chain A and resi 87+88+91+93+201+204+237\n",
      "color orange, chain A and resi 240+262+317\n",
      "show sticks, chain A and resi 240+262+317\n",
      "show surface, chain A and resi 240+262+317\n",
      "color green, chain A and resi 144+278+282\n",
      "show sticks, chain A and resi 144+278+282\n",
      "show surface, chain A and resi 144+278+282\n",
      "color lightblue, chain A and resi 354+359+361+458+459+463+469+470+472+473+483+490+491+497+501+504+514+518+521+535+539+542+552+553+557+566+575+578\n",
      "show sticks, chain A and resi 354+359+361+458+459+463+469+470+472+473+483+490+491+497+501+504+514+518+521+535+539+542+552+553+557+566+575+578\n",
      "show surface, chain A and resi 354+359+361+458+459+463+469+470+472+473+483+490+491+497+501+504+514+518+521+535+539+542+552+553+557+566+575+578\n",
      "File: G\n",
      "color blue, chain A\n",
      "color blue, chain B\n",
      "color yelloworange, chain A and resi 180-596\n",
      "color white, chain C\n",
      "color gray, chain D\n",
      "color palegreen, resn ATP+ADP+GTP+GDP\n",
      "color palegreen, elem MG\n",
      "color red, chain A and resi 94+95+97+98+100+205+208+241\n",
      "show sticks, chain A and resi 94+95+97+98+100+205+208+241\n",
      "show surface, chain A and resi 94+95+97+98+100+205+208+241\n",
      "color orange, chain A and resi 244+245+250+266\n",
      "show sticks, chain A and resi 244+245+250+266\n",
      "show surface, chain A and resi 244+245+250+266\n",
      "color green, chain A and resi 163+282+286\n",
      "show sticks, chain A and resi 163+282+286\n",
      "show surface, chain A and resi 163+282+286\n",
      "color lightblue, chain A and resi 358+363+365+462+463+467+473+474+476+477+488+491+494+495+501+505+518+522+525+539+543+546+556+557+561+570+579+582\n",
      "show sticks, chain A and resi 358+363+365+462+463+467+473+474+476+477+488+491+494+495+501+505+518+522+525+539+543+546+556+557+561+570+579+582\n",
      "show surface, chain A and resi 358+363+365+462+463+467+473+474+476+477+488+491+494+495+501+505+518+522+525+539+543+546+556+557+561+570+579+582\n",
      "File: H\n",
      "color yelloworange, chain A\n",
      "color yelloworange, chain B\n",
      "color white, chain C\n",
      "color gray, chain D\n",
      "color palegreen, resn ATP+ADP+GTP+GDP\n",
      "color palegreen, elem MG\n",
      "color red, chain A and resi 87+88+91+93+204+237\n",
      "show sticks, chain A and resi 87+88+91+93+204+237\n",
      "show surface, chain A and resi 87+88+91+93+204+237\n",
      "color orange, chain A and resi 238+240+241+262+321\n",
      "show sticks, chain A and resi 238+240+241+262+321\n",
      "show surface, chain A and resi 238+240+241+262+321\n",
      "color green, chain A and resi 144+278+282\n",
      "show sticks, chain A and resi 144+278+282\n",
      "show surface, chain A and resi 144+278+282\n",
      "color lightblue, chain A and resi 354+359+361+458+459+463+469+470+472+473+490+491+497+501+504+514+518+521+535+539+542+552+553+557+566+575+578\n",
      "show sticks, chain A and resi 354+359+361+458+459+463+469+470+472+473+490+491+497+501+504+514+518+521+535+539+542+552+553+557+566+575+578\n",
      "show surface, chain A and resi 354+359+361+458+459+463+469+470+472+473+490+491+497+501+504+514+518+521+535+539+542+552+553+557+566+575+578\n"
     ]
    }
   ],
   "source": [
    "unique_files = df_average['file'].unique()\n",
    "\n",
    "color_map = {\n",
    "    'ATP': 'red',\n",
    "    'alpha-tubulin': 'orange',\n",
    "    'beta-tubulin': 'green',\n",
    "    'kinesin B': 'lightblue'\n",
    "}\n",
    "\n",
    "distance_threshold = 3\n",
    "\n",
    "for file in unique_files:\n",
    "    print(f\"File: {file}\")\n",
    "    interacting_chains = df_average[df_average['file'] == file]['interacting_chain'].unique()\n",
    "    \n",
    "    if file == 'A':\n",
    "        print(\"color blue, chain A\")\n",
    "        print(\"color blue, chain B\")\n",
    "    elif file == 'B':\n",
    "        print(\"color blue, chain A\")\n",
    "        print(\"color blue, chain B\")\n",
    "        print(\"color yelloworange, chain A and resi 1-175\")\n",
    "    elif file == 'C':\n",
    "        print(\"color blue, chain A\")\n",
    "        print(\"color blue, chain B\")\n",
    "        print(\"color yelloworange, chain A and resi 180-334\")\n",
    "    elif file == 'D':\n",
    "        print(\"color blue, chain A\")\n",
    "        print(\"color blue, chain B\")\n",
    "        print(\"color yelloworange, chain A and resi 1-330\")\n",
    "    elif file == 'E':\n",
    "        print(\"color blue, chain A\")\n",
    "        print(\"color blue, chain B\")\n",
    "        print(\"color yelloworange, chain A and resi 335-596\")\n",
    "    elif file == 'F':\n",
    "        print(\"color yelloworange, chain A\")\n",
    "        print(\"color yelloworange, chain B\")\n",
    "        print(\"color blue, chain A and resi 176-330\")\n",
    "    elif file == 'G':\n",
    "        print(\"color blue, chain A\")\n",
    "        print(\"color blue, chain B\")\n",
    "        print(\"color yelloworange, chain A and resi 180-596\")\n",
    "    elif file == 'H':\n",
    "        print(\"color yelloworange, chain A\")\n",
    "        print(\"color yelloworange, chain B\")\n",
    "    \n",
    "    print(\"color white, chain C\")\n",
    "    print(\"color gray, chain D\")\n",
    "    print(\"color palegreen, resn ATP+ADP+GTP+GDP\")\n",
    "    print(\"color palegreen, elem MG\")\n",
    "    for chain in interacting_chains:\n",
    "        closest_interactions = df_average[(df_average['file'] == file) & (df_average['interacting_chain'] == chain) & (df_average['distance (angstroms)'] <= distance_threshold)]\n",
    "        closest_interactions = closest_interactions.loc[closest_interactions.groupby('resi')['distance (angstroms)'].idxmin()]\n",
    "        positions = closest_interactions['resi'].unique()\n",
    "        positions_str = '+'.join(map(str, positions))\n",
    "        color = color_map.get(chain)\n",
    "        if color and positions_str:\n",
    "            print(f\"color {color}, chain A and resi {positions_str}\")\n",
    "            print(f\"show sticks, chain A and resi {positions_str}\")\n",
    "            print(f\"show surface, chain A and resi {positions_str}\")\n"
   ]
  },
  {
   "cell_type": "code",
   "execution_count": 9,
   "metadata": {},
   "outputs": [
    {
     "data": {
      "application/vnd.plotly.v1+json": {
       "config": {
        "plotlyServerURL": "https://plot.ly"
       },
       "data": [
        {
         "customdata": [
          [
           346,
           "E"
          ],
          [
           167,
           "N"
          ],
          [
           352,
           "Y"
          ],
          [
           359,
           "N"
          ],
          [
           370,
           "E"
          ],
          [
           372,
           "E"
          ]
         ],
         "hovertemplate": "Interacting Chain=kinesin B<br>aa_classification=positively charged<br>Residue Index=%{x}<br>Distance (angstroms)=%{y}<br>residue_one_letter=%{text}<br>interacting_resinumber=%{customdata[0]}<br>interactingresi_oneletter=%{customdata[1]}<extra></extra>",
         "legendgroup": "kinesin B, positively charged",
         "marker": {
          "color": "#1f77b4",
          "opacity": 0.6,
          "size": 10,
          "symbol": "triangle-up"
         },
         "mode": "markers+text",
         "name": "kinesin B, positively charged",
         "orientation": "v",
         "showlegend": true,
         "text": [
          "K",
          "K",
          "R",
          "K",
          "K",
          "R"
         ],
         "textposition": "top center",
         "type": "scatter",
         "x": [
          166,
          349,
          351,
          358,
          365,
          377
         ],
         "xaxis": "x",
         "y": [
          2.847749042510986,
          3.5282925844192503,
          3.665060329437256,
          3.529978370666504,
          3.2601685523986816,
          2.7542265892028808
         ],
         "yaxis": "y"
        },
        {
         "customdata": [
          [
           345,
           "A"
          ],
          [
           348,
           "W"
          ],
          [
           352,
           "Y"
          ],
          [
           359,
           "N"
          ],
          [
           366,
           "V"
          ],
          [
           373,
           "L"
          ],
          [
           372,
           "E"
          ],
          [
           376,
           "W"
          ],
          [
           377,
           "R"
          ],
          [
           377,
           "R"
          ]
         ],
         "hovertemplate": "Interacting Chain=kinesin B<br>aa_classification=nonpolar<br>Residue Index=%{x}<br>Distance (angstroms)=%{y}<br>residue_one_letter=%{text}<br>interacting_resinumber=%{customdata[0]}<br>interactingresi_oneletter=%{customdata[1]}<extra></extra>",
         "legendgroup": "kinesin B, nonpolar",
         "marker": {
          "color": "#1f77b4",
          "opacity": 0.6,
          "size": 10,
          "symbol": "circle"
         },
         "mode": "markers+text",
         "name": "kinesin B, nonpolar",
         "orientation": "v",
         "showlegend": true,
         "text": [
          "L",
          "A",
          "W",
          "L",
          "V",
          "L",
          "L",
          "W",
          "I",
          "M"
         ],
         "textposition": "top center",
         "type": "scatter",
         "x": [
          343,
          345,
          348,
          362,
          366,
          369,
          373,
          376,
          388,
          390
         ],
         "xaxis": "x",
         "y": [
          3.620845270156861,
          3.3416271686553958,
          3.379231309890747,
          2.949804162979126,
          3.463711380958557,
          3.534302830696106,
          3.0302940368652345,
          3.7456518173217774,
          2.8380701780319213,
          3.4208172082901003
         ],
         "yaxis": "y"
        },
        {
         "customdata": [
          [
           349,
           "K"
          ],
          [
           348,
           "W"
          ],
          [
           355,
           "E"
          ],
          [
           377,
           "R"
          ]
         ],
         "hovertemplate": "Interacting Chain=kinesin B<br>aa_classification=polar uncharged<br>Residue Index=%{x}<br>Distance (angstroms)=%{y}<br>residue_one_letter=%{text}<br>interacting_resinumber=%{customdata[0]}<br>interactingresi_oneletter=%{customdata[1]}<extra></extra>",
         "legendgroup": "kinesin B, polar uncharged",
         "marker": {
          "color": "#1f77b4",
          "opacity": 0.6,
          "size": 10,
          "symbol": "square"
         },
         "mode": "markers+text",
         "name": "kinesin B, polar uncharged",
         "orientation": "v",
         "showlegend": true,
         "text": [
          "N",
          "Y",
          "N",
          "Q"
         ],
         "textposition": "top center",
         "type": "scatter",
         "x": [
          167,
          352,
          359,
          387
         ],
         "xaxis": "x",
         "y": [
          3.284764313697815,
          3.500632381439209,
          2.6949233055114745,
          3.453691077232361
         ],
         "yaxis": "y"
        },
        {
         "customdata": [
          [
           166,
           "K"
          ],
          [
           359,
           "N"
          ],
          [
           365,
           "K"
          ],
          [
           377,
           "R"
          ]
         ],
         "hovertemplate": "Interacting Chain=kinesin B<br>aa_classification=negatively charged<br>Residue Index=%{x}<br>Distance (angstroms)=%{y}<br>residue_one_letter=%{text}<br>interacting_resinumber=%{customdata[0]}<br>interactingresi_oneletter=%{customdata[1]}<extra></extra>",
         "legendgroup": "kinesin B, negatively charged",
         "marker": {
          "color": "#1f77b4",
          "opacity": 0.6,
          "size": 10,
          "symbol": "triangle-down"
         },
         "mode": "markers+text",
         "name": "kinesin B, negatively charged",
         "orientation": "v",
         "showlegend": true,
         "text": [
          "E",
          "E",
          "E",
          "E"
         ],
         "textposition": "top center",
         "type": "scatter",
         "x": [
          346,
          355,
          370,
          372
         ],
         "xaxis": "x",
         "y": [
          2.753096318244934,
          2.69404685497284,
          3.434823226928711,
          2.83865818977356
         ],
         "yaxis": "y"
        },
        {
         "customdata": [
          [
           420,
           "E"
          ],
          [
           109,
           "T"
          ],
          [
           409,
           "V"
          ]
         ],
         "hovertemplate": "Interacting Chain=alpha-tubulin<br>aa_classification=positively charged<br>Residue Index=%{x}<br>Distance (angstroms)=%{y}<br>residue_one_letter=%{text}<br>interacting_resinumber=%{customdata[0]}<br>interactingresi_oneletter=%{customdata[1]}<extra></extra>",
         "legendgroup": "alpha-tubulin, positively charged",
         "marker": {
          "color": "#ff7f0e",
          "opacity": 0.6,
          "size": 10,
          "symbol": "triangle-up"
         },
         "mode": "markers+text",
         "name": "alpha-tubulin, positively charged",
         "orientation": "v",
         "showlegend": true,
         "text": [
          "K",
          "K",
          "K"
         ],
         "textposition": "top center",
         "type": "scatter",
         "x": [
          244,
          259,
          263
         ],
         "xaxis": "x",
         "y": [
          2.541381931304932,
          3.2167635679245,
          3.37275607585907
         ],
         "yaxis": "y"
        },
        {
         "customdata": [
          [
           412,
           "G"
          ],
          [
           112,
           "K"
          ]
         ],
         "hovertemplate": "Interacting Chain=alpha-tubulin<br>aa_classification=nonpolar<br>Residue Index=%{x}<br>Distance (angstroms)=%{y}<br>residue_one_letter=%{text}<br>interacting_resinumber=%{customdata[0]}<br>interactingresi_oneletter=%{customdata[1]}<extra></extra>",
         "legendgroup": "alpha-tubulin, nonpolar",
         "marker": {
          "color": "#ff7f0e",
          "opacity": 0.6,
          "size": 10,
          "symbol": "circle"
         },
         "mode": "markers+text",
         "name": "alpha-tubulin, nonpolar",
         "orientation": "v",
         "showlegend": true,
         "text": [
          "V",
          "A"
         ],
         "textposition": "top center",
         "type": "scatter",
         "x": [
          245,
          250
         ],
         "xaxis": "x",
         "y": [
          3.219015336036682,
          2.8221768617630003
         ],
         "yaxis": "y"
        },
        {
         "customdata": [
          [
           414,
           "E"
          ],
          [
           409,
           "V"
          ],
          [
           415,
           "E"
          ],
          [
           402,
           "R"
          ],
          [
           420,
           "E"
          ]
         ],
         "hovertemplate": "Interacting Chain=alpha-tubulin<br>aa_classification=polar uncharged<br>Residue Index=%{x}<br>Distance (angstroms)=%{y}<br>residue_one_letter=%{text}<br>interacting_resinumber=%{customdata[0]}<br>interactingresi_oneletter=%{customdata[1]}<extra></extra>",
         "legendgroup": "alpha-tubulin, polar uncharged",
         "marker": {
          "color": "#ff7f0e",
          "opacity": 0.6,
          "size": 10,
          "symbol": "square"
         },
         "mode": "markers+text",
         "name": "alpha-tubulin, polar uncharged",
         "orientation": "v",
         "showlegend": true,
         "text": [
          "S",
          "N",
          "S",
          "N",
          "S"
         ],
         "textposition": "top center",
         "type": "scatter",
         "x": [
          242,
          262,
          266,
          270,
          318
         ],
         "xaxis": "x",
         "y": [
          3.2278760433197022,
          3.4249806642532348,
          2.642449903488159,
          3.4451155424118043,
          3.790314388275146
         ],
         "yaxis": "y"
        },
        {
         "customdata": [
          [
           112,
           "K"
          ],
          [
           414,
           "E"
          ]
         ],
         "hovertemplate": "Interacting Chain=alpha-tubulin<br>aa_classification=negatively charged<br>Residue Index=%{x}<br>Distance (angstroms)=%{y}<br>residue_one_letter=%{text}<br>interacting_resinumber=%{customdata[0]}<br>interactingresi_oneletter=%{customdata[1]}<extra></extra>",
         "legendgroup": "alpha-tubulin, negatively charged",
         "marker": {
          "color": "#ff7f0e",
          "opacity": 0.6,
          "size": 10,
          "symbol": "triangle-down"
         },
         "mode": "markers+text",
         "name": "alpha-tubulin, negatively charged",
         "orientation": "v",
         "showlegend": true,
         "text": [
          "E",
          "E"
         ],
         "textposition": "top center",
         "type": "scatter",
         "x": [
          251,
          319
         ],
         "xaxis": "x",
         "y": [
          3.727366256713867,
          3.963883757591248
         ],
         "yaxis": "y"
        },
        {
         "customdata": [
          [
           157,
           "E"
          ],
          [
           410,
           "E"
          ],
          [
           406,
           "M"
          ],
          [
           412,
           "E"
          ],
          [
           424,
           "Q"
          ],
          [
           417,
           "D"
          ]
         ],
         "hovertemplate": "Interacting Chain=beta-tubulin<br>aa_classification=positively charged<br>Residue Index=%{x}<br>Distance (angstroms)=%{y}<br>residue_one_letter=%{text}<br>interacting_resinumber=%{customdata[0]}<br>interactingresi_oneletter=%{customdata[1]}<extra></extra>",
         "legendgroup": "beta-tubulin, positively charged",
         "marker": {
          "color": "#2ca02c",
          "opacity": 0.6,
          "size": 10,
          "symbol": "triangle-up"
         },
         "mode": "markers+text",
         "name": "beta-tubulin, positively charged",
         "orientation": "v",
         "showlegend": true,
         "text": [
          "K",
          "H",
          "K",
          "R",
          "H",
          "R"
         ],
         "textposition": "top center",
         "type": "scatter",
         "x": [
          148,
          163,
          166,
          168,
          282,
          286
         ],
         "xaxis": "x",
         "y": [
          3.262774181365967,
          2.7359596729278564,
          3.5307512283325195,
          3.9677976846694953,
          2.8208207845687867,
          2.5291112899780277
         ],
         "yaxis": "y"
        },
        {
         "customdata": [
          [
           410,
           "E"
          ]
         ],
         "hovertemplate": "Interacting Chain=beta-tubulin<br>aa_classification=nonpolar<br>Residue Index=%{x}<br>Distance (angstroms)=%{y}<br>residue_one_letter=%{text}<br>interacting_resinumber=%{customdata[0]}<br>interactingresi_oneletter=%{customdata[1]}<extra></extra>",
         "legendgroup": "beta-tubulin, nonpolar",
         "marker": {
          "color": "#2ca02c",
          "opacity": 0.6,
          "size": 10,
          "symbol": "circle"
         },
         "mode": "markers+text",
         "name": "beta-tubulin, nonpolar",
         "orientation": "v",
         "showlegend": true,
         "text": [
          "V"
         ],
         "textposition": "top center",
         "type": "scatter",
         "x": [
          162
         ],
         "xaxis": "x",
         "y": [
          3.2072339773178102
         ],
         "yaxis": "y"
        },
        {
         "customdata": [
          [
           157,
           "E"
          ],
          [
           420,
           "S"
          ]
         ],
         "hovertemplate": "Interacting Chain=beta-tubulin<br>aa_classification=polar uncharged<br>Residue Index=%{x}<br>Distance (angstroms)=%{y}<br>residue_one_letter=%{text}<br>interacting_resinumber=%{customdata[0]}<br>interactingresi_oneletter=%{customdata[1]}<extra></extra>",
         "legendgroup": "beta-tubulin, polar uncharged",
         "marker": {
          "color": "#2ca02c",
          "opacity": 0.6,
          "size": 10,
          "symbol": "square"
         },
         "mode": "markers+text",
         "name": "beta-tubulin, polar uncharged",
         "orientation": "v",
         "showlegend": true,
         "text": [
          "N",
          "T"
         ],
         "textposition": "top center",
         "type": "scatter",
         "x": [
          159,
          281
         ],
         "xaxis": "x",
         "y": [
          3.1379271507263184,
          3.965798187255859
         ],
         "yaxis": "y"
        },
        {
         "customdata": [
          [
           413,
           "S"
          ],
          [
           406,
           "M"
          ],
          [
           262,
           "R"
          ]
         ],
         "hovertemplate": "Interacting Chain=beta-tubulin<br>aa_classification=negatively charged<br>Residue Index=%{x}<br>Distance (angstroms)=%{y}<br>residue_one_letter=%{text}<br>interacting_resinumber=%{customdata[0]}<br>interactingresi_oneletter=%{customdata[1]}<extra></extra>",
         "legendgroup": "beta-tubulin, negatively charged",
         "marker": {
          "color": "#2ca02c",
          "opacity": 0.6,
          "size": 10,
          "symbol": "triangle-down"
         },
         "mode": "markers+text",
         "name": "beta-tubulin, negatively charged",
         "orientation": "v",
         "showlegend": true,
         "text": [
          "E",
          "D",
          "D"
         ],
         "textposition": "top center",
         "type": "scatter",
         "x": [
          164,
          165,
          287
         ],
         "xaxis": "x",
         "y": [
          3.3726722955703736,
          3.749035692214966,
          3.1653293132781983
         ],
         "yaxis": "y"
        },
        {
         "customdata": [
          [
           1,
           "?"
          ],
          [
           1,
           "?"
          ],
          [
           1,
           "?"
          ],
          [
           1,
           "?"
          ],
          [
           1,
           "?"
          ]
         ],
         "hovertemplate": "Interacting Chain=ATP<br>aa_classification=positively charged<br>Residue Index=%{x}<br>Distance (angstroms)=%{y}<br>residue_one_letter=%{text}<br>interacting_resinumber=%{customdata[0]}<br>interactingresi_oneletter=%{customdata[1]}<extra></extra>",
         "legendgroup": "ATP, positively charged",
         "marker": {
          "color": "#d62728",
          "opacity": 0.6,
          "size": 10,
          "symbol": "triangle-up"
         },
         "mode": "markers+text",
         "name": "ATP, positively charged",
         "orientation": "v",
         "showlegend": true,
         "text": [
          "R",
          "R",
          "K",
          "H",
          "H"
         ],
         "textposition": "top center",
         "type": "scatter",
         "x": [
          18,
          20,
          98,
          100,
          207
         ],
         "xaxis": "x",
         "y": [
          3.804740309715271,
          3.6418951511383058,
          2.7979667663574217,
          2.808457064628601,
          3.907215428352356
         ],
         "yaxis": "y"
        },
        {
         "customdata": [
          [
           1,
           "?"
          ],
          [
           1,
           "?"
          ],
          [
           1,
           "?"
          ],
          [
           1,
           "?"
          ]
         ],
         "hovertemplate": "Interacting Chain=ATP<br>aa_classification=nonpolar<br>Residue Index=%{x}<br>Distance (angstroms)=%{y}<br>residue_one_letter=%{text}<br>interacting_resinumber=%{customdata[0]}<br>interactingresi_oneletter=%{customdata[1]}<extra></extra>",
         "legendgroup": "ATP, nonpolar",
         "marker": {
          "color": "#d62728",
          "opacity": 0.6,
          "size": 10,
          "symbol": "circle"
         },
         "mode": "markers+text",
         "name": "ATP, nonpolar",
         "orientation": "v",
         "showlegend": true,
         "text": [
          "P",
          "G",
          "A",
          "G"
         ],
         "textposition": "top center",
         "type": "scatter",
         "x": [
          21,
          97,
          240,
          241
         ],
         "xaxis": "x",
         "y": [
          3.541921019554138,
          3.00402467250824,
          3.953473496437073,
          2.9616657733917235
         ],
         "yaxis": "y"
        },
        {
         "customdata": [
          [
           1,
           "?"
          ],
          [
           1,
           "?"
          ],
          [
           1,
           "?"
          ],
          [
           1,
           "?"
          ],
          [
           1,
           "?"
          ],
          [
           1,
           "?"
          ]
         ],
         "hovertemplate": "Interacting Chain=ATP<br>aa_classification=polar uncharged<br>Residue Index=%{x}<br>Distance (angstroms)=%{y}<br>residue_one_letter=%{text}<br>interacting_resinumber=%{customdata[0]}<br>interactingresi_oneletter=%{customdata[1]}<extra></extra>",
         "legendgroup": "ATP, polar uncharged",
         "marker": {
          "color": "#d62728",
          "opacity": 0.6,
          "size": 10,
          "symbol": "square"
         },
         "mode": "markers+text",
         "name": "ATP, polar uncharged",
         "orientation": "v",
         "showlegend": true,
         "text": [
          "Q",
          "T",
          "S",
          "S",
          "N",
          "S"
         ],
         "textposition": "top center",
         "type": "scatter",
         "x": [
          93,
          94,
          95,
          96,
          205,
          208
         ],
         "xaxis": "x",
         "y": [
          3.956501245498657,
          2.4928210020065307,
          2.8767160415649413,
          3.3828309059143065,
          2.988686275482178,
          2.928864097595215
         ],
         "yaxis": "y"
        }
       ],
       "layout": {
        "autosize": false,
        "height": 600,
        "legend": {
         "title": {
          "text": "Interacting Chain"
         },
         "tracegroupgap": 0
        },
        "shapes": [
         {
          "fillcolor": "LightSkyBlue",
          "layer": "below",
          "line": {
           "width": 0
          },
          "opacity": 0.3,
          "type": "rect",
          "x0": 0,
          "x1": 600,
          "y0": 0,
          "y1": 4.5
         }
        ],
        "template": {
         "data": {
          "bar": [
           {
            "error_x": {
             "color": "#2a3f5f"
            },
            "error_y": {
             "color": "#2a3f5f"
            },
            "marker": {
             "line": {
              "color": "#E5ECF6",
              "width": 0.5
             },
             "pattern": {
              "fillmode": "overlay",
              "size": 10,
              "solidity": 0.2
             }
            },
            "type": "bar"
           }
          ],
          "barpolar": [
           {
            "marker": {
             "line": {
              "color": "#E5ECF6",
              "width": 0.5
             },
             "pattern": {
              "fillmode": "overlay",
              "size": 10,
              "solidity": 0.2
             }
            },
            "type": "barpolar"
           }
          ],
          "carpet": [
           {
            "aaxis": {
             "endlinecolor": "#2a3f5f",
             "gridcolor": "white",
             "linecolor": "white",
             "minorgridcolor": "white",
             "startlinecolor": "#2a3f5f"
            },
            "baxis": {
             "endlinecolor": "#2a3f5f",
             "gridcolor": "white",
             "linecolor": "white",
             "minorgridcolor": "white",
             "startlinecolor": "#2a3f5f"
            },
            "type": "carpet"
           }
          ],
          "choropleth": [
           {
            "colorbar": {
             "outlinewidth": 0,
             "ticks": ""
            },
            "type": "choropleth"
           }
          ],
          "contour": [
           {
            "colorbar": {
             "outlinewidth": 0,
             "ticks": ""
            },
            "colorscale": [
             [
              0,
              "#0d0887"
             ],
             [
              0.1111111111111111,
              "#46039f"
             ],
             [
              0.2222222222222222,
              "#7201a8"
             ],
             [
              0.3333333333333333,
              "#9c179e"
             ],
             [
              0.4444444444444444,
              "#bd3786"
             ],
             [
              0.5555555555555556,
              "#d8576b"
             ],
             [
              0.6666666666666666,
              "#ed7953"
             ],
             [
              0.7777777777777778,
              "#fb9f3a"
             ],
             [
              0.8888888888888888,
              "#fdca26"
             ],
             [
              1,
              "#f0f921"
             ]
            ],
            "type": "contour"
           }
          ],
          "contourcarpet": [
           {
            "colorbar": {
             "outlinewidth": 0,
             "ticks": ""
            },
            "type": "contourcarpet"
           }
          ],
          "heatmap": [
           {
            "colorbar": {
             "outlinewidth": 0,
             "ticks": ""
            },
            "colorscale": [
             [
              0,
              "#0d0887"
             ],
             [
              0.1111111111111111,
              "#46039f"
             ],
             [
              0.2222222222222222,
              "#7201a8"
             ],
             [
              0.3333333333333333,
              "#9c179e"
             ],
             [
              0.4444444444444444,
              "#bd3786"
             ],
             [
              0.5555555555555556,
              "#d8576b"
             ],
             [
              0.6666666666666666,
              "#ed7953"
             ],
             [
              0.7777777777777778,
              "#fb9f3a"
             ],
             [
              0.8888888888888888,
              "#fdca26"
             ],
             [
              1,
              "#f0f921"
             ]
            ],
            "type": "heatmap"
           }
          ],
          "heatmapgl": [
           {
            "colorbar": {
             "outlinewidth": 0,
             "ticks": ""
            },
            "colorscale": [
             [
              0,
              "#0d0887"
             ],
             [
              0.1111111111111111,
              "#46039f"
             ],
             [
              0.2222222222222222,
              "#7201a8"
             ],
             [
              0.3333333333333333,
              "#9c179e"
             ],
             [
              0.4444444444444444,
              "#bd3786"
             ],
             [
              0.5555555555555556,
              "#d8576b"
             ],
             [
              0.6666666666666666,
              "#ed7953"
             ],
             [
              0.7777777777777778,
              "#fb9f3a"
             ],
             [
              0.8888888888888888,
              "#fdca26"
             ],
             [
              1,
              "#f0f921"
             ]
            ],
            "type": "heatmapgl"
           }
          ],
          "histogram": [
           {
            "marker": {
             "pattern": {
              "fillmode": "overlay",
              "size": 10,
              "solidity": 0.2
             }
            },
            "type": "histogram"
           }
          ],
          "histogram2d": [
           {
            "colorbar": {
             "outlinewidth": 0,
             "ticks": ""
            },
            "colorscale": [
             [
              0,
              "#0d0887"
             ],
             [
              0.1111111111111111,
              "#46039f"
             ],
             [
              0.2222222222222222,
              "#7201a8"
             ],
             [
              0.3333333333333333,
              "#9c179e"
             ],
             [
              0.4444444444444444,
              "#bd3786"
             ],
             [
              0.5555555555555556,
              "#d8576b"
             ],
             [
              0.6666666666666666,
              "#ed7953"
             ],
             [
              0.7777777777777778,
              "#fb9f3a"
             ],
             [
              0.8888888888888888,
              "#fdca26"
             ],
             [
              1,
              "#f0f921"
             ]
            ],
            "type": "histogram2d"
           }
          ],
          "histogram2dcontour": [
           {
            "colorbar": {
             "outlinewidth": 0,
             "ticks": ""
            },
            "colorscale": [
             [
              0,
              "#0d0887"
             ],
             [
              0.1111111111111111,
              "#46039f"
             ],
             [
              0.2222222222222222,
              "#7201a8"
             ],
             [
              0.3333333333333333,
              "#9c179e"
             ],
             [
              0.4444444444444444,
              "#bd3786"
             ],
             [
              0.5555555555555556,
              "#d8576b"
             ],
             [
              0.6666666666666666,
              "#ed7953"
             ],
             [
              0.7777777777777778,
              "#fb9f3a"
             ],
             [
              0.8888888888888888,
              "#fdca26"
             ],
             [
              1,
              "#f0f921"
             ]
            ],
            "type": "histogram2dcontour"
           }
          ],
          "mesh3d": [
           {
            "colorbar": {
             "outlinewidth": 0,
             "ticks": ""
            },
            "type": "mesh3d"
           }
          ],
          "parcoords": [
           {
            "line": {
             "colorbar": {
              "outlinewidth": 0,
              "ticks": ""
             }
            },
            "type": "parcoords"
           }
          ],
          "pie": [
           {
            "automargin": true,
            "type": "pie"
           }
          ],
          "scatter": [
           {
            "fillpattern": {
             "fillmode": "overlay",
             "size": 10,
             "solidity": 0.2
            },
            "type": "scatter"
           }
          ],
          "scatter3d": [
           {
            "line": {
             "colorbar": {
              "outlinewidth": 0,
              "ticks": ""
             }
            },
            "marker": {
             "colorbar": {
              "outlinewidth": 0,
              "ticks": ""
             }
            },
            "type": "scatter3d"
           }
          ],
          "scattercarpet": [
           {
            "marker": {
             "colorbar": {
              "outlinewidth": 0,
              "ticks": ""
             }
            },
            "type": "scattercarpet"
           }
          ],
          "scattergeo": [
           {
            "marker": {
             "colorbar": {
              "outlinewidth": 0,
              "ticks": ""
             }
            },
            "type": "scattergeo"
           }
          ],
          "scattergl": [
           {
            "marker": {
             "colorbar": {
              "outlinewidth": 0,
              "ticks": ""
             }
            },
            "type": "scattergl"
           }
          ],
          "scattermapbox": [
           {
            "marker": {
             "colorbar": {
              "outlinewidth": 0,
              "ticks": ""
             }
            },
            "type": "scattermapbox"
           }
          ],
          "scatterpolar": [
           {
            "marker": {
             "colorbar": {
              "outlinewidth": 0,
              "ticks": ""
             }
            },
            "type": "scatterpolar"
           }
          ],
          "scatterpolargl": [
           {
            "marker": {
             "colorbar": {
              "outlinewidth": 0,
              "ticks": ""
             }
            },
            "type": "scatterpolargl"
           }
          ],
          "scatterternary": [
           {
            "marker": {
             "colorbar": {
              "outlinewidth": 0,
              "ticks": ""
             }
            },
            "type": "scatterternary"
           }
          ],
          "surface": [
           {
            "colorbar": {
             "outlinewidth": 0,
             "ticks": ""
            },
            "colorscale": [
             [
              0,
              "#0d0887"
             ],
             [
              0.1111111111111111,
              "#46039f"
             ],
             [
              0.2222222222222222,
              "#7201a8"
             ],
             [
              0.3333333333333333,
              "#9c179e"
             ],
             [
              0.4444444444444444,
              "#bd3786"
             ],
             [
              0.5555555555555556,
              "#d8576b"
             ],
             [
              0.6666666666666666,
              "#ed7953"
             ],
             [
              0.7777777777777778,
              "#fb9f3a"
             ],
             [
              0.8888888888888888,
              "#fdca26"
             ],
             [
              1,
              "#f0f921"
             ]
            ],
            "type": "surface"
           }
          ],
          "table": [
           {
            "cells": {
             "fill": {
              "color": "#EBF0F8"
             },
             "line": {
              "color": "white"
             }
            },
            "header": {
             "fill": {
              "color": "#C8D4E3"
             },
             "line": {
              "color": "white"
             }
            },
            "type": "table"
           }
          ]
         },
         "layout": {
          "annotationdefaults": {
           "arrowcolor": "#2a3f5f",
           "arrowhead": 0,
           "arrowwidth": 1
          },
          "autotypenumbers": "strict",
          "coloraxis": {
           "colorbar": {
            "outlinewidth": 0,
            "ticks": ""
           }
          },
          "colorscale": {
           "diverging": [
            [
             0,
             "#8e0152"
            ],
            [
             0.1,
             "#c51b7d"
            ],
            [
             0.2,
             "#de77ae"
            ],
            [
             0.3,
             "#f1b6da"
            ],
            [
             0.4,
             "#fde0ef"
            ],
            [
             0.5,
             "#f7f7f7"
            ],
            [
             0.6,
             "#e6f5d0"
            ],
            [
             0.7,
             "#b8e186"
            ],
            [
             0.8,
             "#7fbc41"
            ],
            [
             0.9,
             "#4d9221"
            ],
            [
             1,
             "#276419"
            ]
           ],
           "sequential": [
            [
             0,
             "#0d0887"
            ],
            [
             0.1111111111111111,
             "#46039f"
            ],
            [
             0.2222222222222222,
             "#7201a8"
            ],
            [
             0.3333333333333333,
             "#9c179e"
            ],
            [
             0.4444444444444444,
             "#bd3786"
            ],
            [
             0.5555555555555556,
             "#d8576b"
            ],
            [
             0.6666666666666666,
             "#ed7953"
            ],
            [
             0.7777777777777778,
             "#fb9f3a"
            ],
            [
             0.8888888888888888,
             "#fdca26"
            ],
            [
             1,
             "#f0f921"
            ]
           ],
           "sequentialminus": [
            [
             0,
             "#0d0887"
            ],
            [
             0.1111111111111111,
             "#46039f"
            ],
            [
             0.2222222222222222,
             "#7201a8"
            ],
            [
             0.3333333333333333,
             "#9c179e"
            ],
            [
             0.4444444444444444,
             "#bd3786"
            ],
            [
             0.5555555555555556,
             "#d8576b"
            ],
            [
             0.6666666666666666,
             "#ed7953"
            ],
            [
             0.7777777777777778,
             "#fb9f3a"
            ],
            [
             0.8888888888888888,
             "#fdca26"
            ],
            [
             1,
             "#f0f921"
            ]
           ]
          },
          "colorway": [
           "#636efa",
           "#EF553B",
           "#00cc96",
           "#ab63fa",
           "#FFA15A",
           "#19d3f3",
           "#FF6692",
           "#B6E880",
           "#FF97FF",
           "#FECB52"
          ],
          "font": {
           "color": "#2a3f5f"
          },
          "geo": {
           "bgcolor": "white",
           "lakecolor": "white",
           "landcolor": "#E5ECF6",
           "showlakes": true,
           "showland": true,
           "subunitcolor": "white"
          },
          "hoverlabel": {
           "align": "left"
          },
          "hovermode": "closest",
          "mapbox": {
           "style": "light"
          },
          "paper_bgcolor": "white",
          "plot_bgcolor": "#E5ECF6",
          "polar": {
           "angularaxis": {
            "gridcolor": "white",
            "linecolor": "white",
            "ticks": ""
           },
           "bgcolor": "#E5ECF6",
           "radialaxis": {
            "gridcolor": "white",
            "linecolor": "white",
            "ticks": ""
           }
          },
          "scene": {
           "xaxis": {
            "backgroundcolor": "#E5ECF6",
            "gridcolor": "white",
            "gridwidth": 2,
            "linecolor": "white",
            "showbackground": true,
            "ticks": "",
            "zerolinecolor": "white"
           },
           "yaxis": {
            "backgroundcolor": "#E5ECF6",
            "gridcolor": "white",
            "gridwidth": 2,
            "linecolor": "white",
            "showbackground": true,
            "ticks": "",
            "zerolinecolor": "white"
           },
           "zaxis": {
            "backgroundcolor": "#E5ECF6",
            "gridcolor": "white",
            "gridwidth": 2,
            "linecolor": "white",
            "showbackground": true,
            "ticks": "",
            "zerolinecolor": "white"
           }
          },
          "shapedefaults": {
           "line": {
            "color": "#2a3f5f"
           }
          },
          "ternary": {
           "aaxis": {
            "gridcolor": "white",
            "linecolor": "white",
            "ticks": ""
           },
           "baxis": {
            "gridcolor": "white",
            "linecolor": "white",
            "ticks": ""
           },
           "bgcolor": "#E5ECF6",
           "caxis": {
            "gridcolor": "white",
            "linecolor": "white",
            "ticks": ""
           }
          },
          "title": {
           "x": 0.05
          },
          "xaxis": {
           "automargin": true,
           "gridcolor": "white",
           "linecolor": "white",
           "ticks": "",
           "title": {
            "standoff": 15
           },
           "zerolinecolor": "white",
           "zerolinewidth": 2
          },
          "yaxis": {
           "automargin": true,
           "gridcolor": "white",
           "linecolor": "white",
           "ticks": "",
           "title": {
            "standoff": 15
           },
           "zerolinecolor": "white",
           "zerolinewidth": 2
          }
         }
        },
        "title": {
         "text": "Interactions for A"
        },
        "width": 1600,
        "xaxis": {
         "anchor": "y",
         "domain": [
          0,
          1
         ],
         "dtick": 20,
         "range": [
          0,
          600
         ],
         "title": {
          "text": "Residue Index"
         }
        },
        "yaxis": {
         "anchor": "x",
         "domain": [
          0,
          1
         ],
         "range": [
          1.5,
          4.5
         ],
         "title": {
          "text": "Distance (angstroms)"
         }
        }
       }
      }
     },
     "metadata": {},
     "output_type": "display_data"
    },
    {
     "data": {
      "application/vnd.plotly.v1+json": {
       "config": {
        "plotlyServerURL": "https://plot.ly"
       },
       "data": [
        {
         "customdata": [
          [
           344,
           "W"
          ],
          [
           348,
           "Y"
          ],
          [
           355,
           "N"
          ],
          [
           366,
           "E"
          ],
          [
           368,
           "E"
          ]
         ],
         "hovertemplate": "Interacting Chain=kinesin B<br>aa_classification=positively charged<br>Residue Index=%{x}<br>Distance (angstroms)=%{y}<br>residue_one_letter=%{text}<br>interacting_resinumber=%{customdata[0]}<br>interactingresi_oneletter=%{customdata[1]}<extra></extra>",
         "legendgroup": "kinesin B, positively charged",
         "marker": {
          "color": "#1f77b4",
          "opacity": 0.6,
          "size": 10,
          "symbol": "triangle-up"
         },
         "mode": "markers+text",
         "name": "kinesin B, positively charged",
         "orientation": "v",
         "showlegend": true,
         "text": [
          "K",
          "R",
          "K",
          "K",
          "R"
         ],
         "textposition": "top center",
         "type": "scatter",
         "x": [
          345,
          347,
          354,
          361,
          373
         ],
         "xaxis": "x",
         "y": [
          3.684706282615662,
          3.671085619926453,
          3.501984453201294,
          2.9641838312149047,
          2.749025273323059
         ],
         "yaxis": "y"
        },
        {
         "customdata": [
          [
           341,
           "A"
          ],
          [
           344,
           "W"
          ],
          [
           348,
           "Y"
          ],
          [
           355,
           "N"
          ],
          [
           362,
           "V"
          ],
          [
           369,
           "L"
          ],
          [
           368,
           "E"
          ],
          [
           372,
           "W"
          ],
          [
           373,
           "R"
          ],
          [
           373,
           "R"
          ]
         ],
         "hovertemplate": "Interacting Chain=kinesin B<br>aa_classification=nonpolar<br>Residue Index=%{x}<br>Distance (angstroms)=%{y}<br>residue_one_letter=%{text}<br>interacting_resinumber=%{customdata[0]}<br>interactingresi_oneletter=%{customdata[1]}<extra></extra>",
         "legendgroup": "kinesin B, nonpolar",
         "marker": {
          "color": "#1f77b4",
          "opacity": 0.6,
          "size": 10,
          "symbol": "circle"
         },
         "mode": "markers+text",
         "name": "kinesin B, nonpolar",
         "orientation": "v",
         "showlegend": true,
         "text": [
          "L",
          "A",
          "W",
          "L",
          "V",
          "L",
          "L",
          "W",
          "I",
          "M"
         ],
         "textposition": "top center",
         "type": "scatter",
         "x": [
          339,
          341,
          344,
          358,
          362,
          365,
          369,
          372,
          384,
          386
         ],
         "xaxis": "x",
         "y": [
          3.672369360923767,
          3.352912974357605,
          3.371376037597656,
          2.830569124221802,
          3.5015988111495973,
          3.5079120874404905,
          2.969009590148926,
          3.7323163032531737,
          2.855355429649353,
          3.476267385482788
         ],
         "yaxis": "y"
        },
        {
         "customdata": [
          [
           344,
           "W"
          ],
          [
           351,
           "E"
          ],
          [
           373,
           "R"
          ]
         ],
         "hovertemplate": "Interacting Chain=kinesin B<br>aa_classification=polar uncharged<br>Residue Index=%{x}<br>Distance (angstroms)=%{y}<br>residue_one_letter=%{text}<br>interacting_resinumber=%{customdata[0]}<br>interactingresi_oneletter=%{customdata[1]}<extra></extra>",
         "legendgroup": "kinesin B, polar uncharged",
         "marker": {
          "color": "#1f77b4",
          "opacity": 0.6,
          "size": 10,
          "symbol": "square"
         },
         "mode": "markers+text",
         "name": "kinesin B, polar uncharged",
         "orientation": "v",
         "showlegend": true,
         "text": [
          "Y",
          "N",
          "Q"
         ],
         "textposition": "top center",
         "type": "scatter",
         "x": [
          348,
          355,
          383
         ],
         "xaxis": "x",
         "y": [
          3.3598332166671754,
          2.384980952739716,
          3.4740668058395388
         ],
         "yaxis": "y"
        },
        {
         "customdata": [
          [
           355,
           "N"
          ],
          [
           361,
           "K"
          ],
          [
           373,
           "R"
          ]
         ],
         "hovertemplate": "Interacting Chain=kinesin B<br>aa_classification=negatively charged<br>Residue Index=%{x}<br>Distance (angstroms)=%{y}<br>residue_one_letter=%{text}<br>interacting_resinumber=%{customdata[0]}<br>interactingresi_oneletter=%{customdata[1]}<extra></extra>",
         "legendgroup": "kinesin B, negatively charged",
         "marker": {
          "color": "#1f77b4",
          "opacity": 0.6,
          "size": 10,
          "symbol": "triangle-down"
         },
         "mode": "markers+text",
         "name": "kinesin B, negatively charged",
         "orientation": "v",
         "showlegend": true,
         "text": [
          "E",
          "E",
          "E"
         ],
         "textposition": "top center",
         "type": "scatter",
         "x": [
          351,
          366,
          368
         ],
         "xaxis": "x",
         "y": [
          2.095494246482849,
          3.0142215728759765,
          2.82890100479126
         ],
         "yaxis": "y"
        },
        {
         "customdata": [
          [
           420,
           "E"
          ],
          [
           410,
           "G"
          ],
          [
           409,
           "V"
          ],
          [
           423,
           "E"
          ]
         ],
         "hovertemplate": "Interacting Chain=alpha-tubulin<br>aa_classification=positively charged<br>Residue Index=%{x}<br>Distance (angstroms)=%{y}<br>residue_one_letter=%{text}<br>interacting_resinumber=%{customdata[0]}<br>interactingresi_oneletter=%{customdata[1]}<extra></extra>",
         "legendgroup": "alpha-tubulin, positively charged",
         "marker": {
          "color": "#ff7f0e",
          "opacity": 0.6,
          "size": 10,
          "symbol": "triangle-up"
         },
         "mode": "markers+text",
         "name": "alpha-tubulin, positively charged",
         "orientation": "v",
         "showlegend": true,
         "text": [
          "K",
          "K",
          "K",
          "K"
         ],
         "textposition": "top center",
         "type": "scatter",
         "x": [
          240,
          255,
          259,
          317
         ],
         "xaxis": "x",
         "y": [
          2.578018593788147,
          3.3175840854644774,
          3.392991065979004,
          3.95620322227478
         ],
         "yaxis": "y"
        },
        {
         "customdata": [
          [
           412,
           "G"
          ],
          [
           112,
           "K"
          ]
         ],
         "hovertemplate": "Interacting Chain=alpha-tubulin<br>aa_classification=nonpolar<br>Residue Index=%{x}<br>Distance (angstroms)=%{y}<br>residue_one_letter=%{text}<br>interacting_resinumber=%{customdata[0]}<br>interactingresi_oneletter=%{customdata[1]}<extra></extra>",
         "legendgroup": "alpha-tubulin, nonpolar",
         "marker": {
          "color": "#ff7f0e",
          "opacity": 0.6,
          "size": 10,
          "symbol": "circle"
         },
         "mode": "markers+text",
         "name": "alpha-tubulin, nonpolar",
         "orientation": "v",
         "showlegend": true,
         "text": [
          "V",
          "A"
         ],
         "textposition": "top center",
         "type": "scatter",
         "x": [
          241,
          246
         ],
         "xaxis": "x",
         "y": [
          3.231296110153198,
          3.2889416933059694
         ],
         "yaxis": "y"
        },
        {
         "customdata": [
          [
           414,
           "E"
          ],
          [
           409,
           "V"
          ],
          [
           415,
           "E"
          ],
          [
           402,
           "R"
          ],
          [
           420,
           "E"
          ]
         ],
         "hovertemplate": "Interacting Chain=alpha-tubulin<br>aa_classification=polar uncharged<br>Residue Index=%{x}<br>Distance (angstroms)=%{y}<br>residue_one_letter=%{text}<br>interacting_resinumber=%{customdata[0]}<br>interactingresi_oneletter=%{customdata[1]}<extra></extra>",
         "legendgroup": "alpha-tubulin, polar uncharged",
         "marker": {
          "color": "#ff7f0e",
          "opacity": 0.6,
          "size": 10,
          "symbol": "square"
         },
         "mode": "markers+text",
         "name": "alpha-tubulin, polar uncharged",
         "orientation": "v",
         "showlegend": true,
         "text": [
          "S",
          "N",
          "S",
          "N",
          "S"
         ],
         "textposition": "top center",
         "type": "scatter",
         "x": [
          238,
          258,
          262,
          266,
          314
         ],
         "xaxis": "x",
         "y": [
          3.131717896461487,
          3.4718270301818848,
          2.4377216577529905,
          3.5812163829803465,
          3.241580295562744
         ],
         "yaxis": "y"
        },
        {
         "customdata": [
          [
           112,
           "K"
          ]
         ],
         "hovertemplate": "Interacting Chain=alpha-tubulin<br>aa_classification=negatively charged<br>Residue Index=%{x}<br>Distance (angstroms)=%{y}<br>residue_one_letter=%{text}<br>interacting_resinumber=%{customdata[0]}<br>interactingresi_oneletter=%{customdata[1]}<extra></extra>",
         "legendgroup": "alpha-tubulin, negatively charged",
         "marker": {
          "color": "#ff7f0e",
          "opacity": 0.6,
          "size": 10,
          "symbol": "triangle-down"
         },
         "mode": "markers+text",
         "name": "alpha-tubulin, negatively charged",
         "orientation": "v",
         "showlegend": true,
         "text": [
          "E"
         ],
         "textposition": "top center",
         "type": "scatter",
         "x": [
          247
         ],
         "xaxis": "x",
         "y": [
          3.139468479156494
         ],
         "yaxis": "y"
        },
        {
         "customdata": [
          [
           157,
           "E"
          ],
          [
           407,
           "E"
          ],
          [
           424,
           "Q"
          ],
          [
           424,
           "Q"
          ],
          [
           417,
           "D"
          ],
          [
           194,
           "E"
          ],
          [
           410,
           "E"
          ]
         ],
         "hovertemplate": "Interacting Chain=beta-tubulin<br>aa_classification=positively charged<br>Residue Index=%{x}<br>Distance (angstroms)=%{y}<br>residue_one_letter=%{text}<br>interacting_resinumber=%{customdata[0]}<br>interactingresi_oneletter=%{customdata[1]}<extra></extra>",
         "legendgroup": "beta-tubulin, positively charged",
         "marker": {
          "color": "#2ca02c",
          "opacity": 0.6,
          "size": 10,
          "symbol": "triangle-up"
         },
         "mode": "markers+text",
         "name": "beta-tubulin, positively charged",
         "orientation": "v",
         "showlegend": true,
         "text": [
          "R",
          "R",
          "K",
          "H",
          "R",
          "K",
          "R"
         ],
         "textposition": "top center",
         "type": "scatter",
         "x": [
          144,
          159,
          276,
          278,
          282,
          285,
          288
         ],
         "xaxis": "x",
         "y": [
          2.773083090782165,
          3.254925560951233,
          3.845993494987488,
          2.675481939315796,
          2.745980215072632,
          3.644285249710083,
          3.3793967008590697
         ],
         "yaxis": "y"
        },
        {
         "customdata": [
          [
           410,
           "E"
          ],
          [
           406,
           "M"
          ]
         ],
         "hovertemplate": "Interacting Chain=beta-tubulin<br>aa_classification=nonpolar<br>Residue Index=%{x}<br>Distance (angstroms)=%{y}<br>residue_one_letter=%{text}<br>interacting_resinumber=%{customdata[0]}<br>interactingresi_oneletter=%{customdata[1]}<extra></extra>",
         "legendgroup": "beta-tubulin, nonpolar",
         "marker": {
          "color": "#2ca02c",
          "opacity": 0.6,
          "size": 10,
          "symbol": "circle"
         },
         "mode": "markers+text",
         "name": "beta-tubulin, nonpolar",
         "orientation": "v",
         "showlegend": true,
         "text": [
          "V",
          "W"
         ],
         "textposition": "top center",
         "type": "scatter",
         "x": [
          158,
          167
         ],
         "xaxis": "x",
         "y": [
          3.9670416593551634,
          3.604830193519592
         ],
         "yaxis": "y"
        },
        {
         "customdata": [
          [
           413,
           "S"
          ],
          [
           406,
           "M"
          ],
          [
           262,
           "R"
          ]
         ],
         "hovertemplate": "Interacting Chain=beta-tubulin<br>aa_classification=negatively charged<br>Residue Index=%{x}<br>Distance (angstroms)=%{y}<br>residue_one_letter=%{text}<br>interacting_resinumber=%{customdata[0]}<br>interactingresi_oneletter=%{customdata[1]}<extra></extra>",
         "legendgroup": "beta-tubulin, negatively charged",
         "marker": {
          "color": "#2ca02c",
          "opacity": 0.6,
          "size": 10,
          "symbol": "triangle-down"
         },
         "mode": "markers+text",
         "name": "beta-tubulin, negatively charged",
         "orientation": "v",
         "showlegend": true,
         "text": [
          "E",
          "E",
          "D"
         ],
         "textposition": "top center",
         "type": "scatter",
         "x": [
          160,
          161,
          283
         ],
         "xaxis": "x",
         "y": [
          3.6515426635742183,
          3.974785661697388,
          3.275283598899841
         ],
         "yaxis": "y"
        },
        {
         "customdata": [
          [
           1,
           "?"
          ],
          [
           1,
           "?"
          ],
          [
           1,
           "?"
          ]
         ],
         "hovertemplate": "Interacting Chain=ATP<br>aa_classification=positively charged<br>Residue Index=%{x}<br>Distance (angstroms)=%{y}<br>residue_one_letter=%{text}<br>interacting_resinumber=%{customdata[0]}<br>interactingresi_oneletter=%{customdata[1]}<extra></extra>",
         "legendgroup": "ATP, positively charged",
         "marker": {
          "color": "#d62728",
          "opacity": 0.6,
          "size": 10,
          "symbol": "triangle-up"
         },
         "mode": "markers+text",
         "name": "ATP, positively charged",
         "orientation": "v",
         "showlegend": true,
         "text": [
          "R",
          "R",
          "K"
         ],
         "textposition": "top center",
         "type": "scatter",
         "x": [
          9,
          11,
          91
         ],
         "xaxis": "x",
         "y": [
          3.6818363904953,
          3.606285429000855,
          2.7457714557647703
         ],
         "yaxis": "y"
        },
        {
         "customdata": [
          [
           1,
           "?"
          ],
          [
           1,
           "?"
          ],
          [
           1,
           "?"
          ],
          [
           1,
           "?"
          ],
          [
           1,
           "?"
          ],
          [
           1,
           "?"
          ]
         ],
         "hovertemplate": "Interacting Chain=ATP<br>aa_classification=nonpolar<br>Residue Index=%{x}<br>Distance (angstroms)=%{y}<br>residue_one_letter=%{text}<br>interacting_resinumber=%{customdata[0]}<br>interactingresi_oneletter=%{customdata[1]}<extra></extra>",
         "legendgroup": "ATP, nonpolar",
         "marker": {
          "color": "#d62728",
          "opacity": 0.6,
          "size": 10,
          "symbol": "circle"
         },
         "mode": "markers+text",
         "name": "ATP, nonpolar",
         "orientation": "v",
         "showlegend": true,
         "text": [
          "P",
          "G",
          "G",
          "F",
          "A",
          "G"
         ],
         "textposition": "top center",
         "type": "scatter",
         "x": [
          12,
          88,
          90,
          93,
          236,
          237
         ],
         "xaxis": "x",
         "y": [
          3.514957809448242,
          2.7761566638946533,
          2.988733744621277,
          2.7579730272293093,
          3.968797302246094,
          2.9769861459732057
         ],
         "yaxis": "y"
        },
        {
         "customdata": [
          [
           1,
           "?"
          ],
          [
           1,
           "?"
          ],
          [
           1,
           "?"
          ],
          [
           1,
           "?"
          ],
          [
           1,
           "?"
          ]
         ],
         "hovertemplate": "Interacting Chain=ATP<br>aa_classification=polar uncharged<br>Residue Index=%{x}<br>Distance (angstroms)=%{y}<br>residue_one_letter=%{text}<br>interacting_resinumber=%{customdata[0]}<br>interactingresi_oneletter=%{customdata[1]}<extra></extra>",
         "legendgroup": "ATP, polar uncharged",
         "marker": {
          "color": "#d62728",
          "opacity": 0.6,
          "size": 10,
          "symbol": "square"
         },
         "mode": "markers+text",
         "name": "ATP, polar uncharged",
         "orientation": "v",
         "showlegend": true,
         "text": [
          "Q",
          "T",
          "S",
          "N",
          "S"
         ],
         "textposition": "top center",
         "type": "scatter",
         "x": [
          86,
          87,
          89,
          201,
          204
         ],
         "xaxis": "x",
         "y": [
          3.9447062253952025,
          2.5664165735244757,
          3.3467854022979737,
          2.9375773668289185,
          2.9518692016601564
         ],
         "yaxis": "y"
        }
       ],
       "layout": {
        "autosize": false,
        "height": 600,
        "legend": {
         "title": {
          "text": "Interacting Chain"
         },
         "tracegroupgap": 0
        },
        "shapes": [
         {
          "fillcolor": "LightSalmon",
          "layer": "below",
          "line": {
           "width": 0
          },
          "opacity": 0.3,
          "type": "rect",
          "x0": 0,
          "x1": 174,
          "y0": 0,
          "y1": 4.5
         },
         {
          "fillcolor": "LightSkyBlue",
          "layer": "below",
          "line": {
           "width": 0
          },
          "opacity": 0.3,
          "type": "rect",
          "x0": 174,
          "x1": 600,
          "y0": 0,
          "y1": 4.5
         }
        ],
        "template": {
         "data": {
          "bar": [
           {
            "error_x": {
             "color": "#2a3f5f"
            },
            "error_y": {
             "color": "#2a3f5f"
            },
            "marker": {
             "line": {
              "color": "#E5ECF6",
              "width": 0.5
             },
             "pattern": {
              "fillmode": "overlay",
              "size": 10,
              "solidity": 0.2
             }
            },
            "type": "bar"
           }
          ],
          "barpolar": [
           {
            "marker": {
             "line": {
              "color": "#E5ECF6",
              "width": 0.5
             },
             "pattern": {
              "fillmode": "overlay",
              "size": 10,
              "solidity": 0.2
             }
            },
            "type": "barpolar"
           }
          ],
          "carpet": [
           {
            "aaxis": {
             "endlinecolor": "#2a3f5f",
             "gridcolor": "white",
             "linecolor": "white",
             "minorgridcolor": "white",
             "startlinecolor": "#2a3f5f"
            },
            "baxis": {
             "endlinecolor": "#2a3f5f",
             "gridcolor": "white",
             "linecolor": "white",
             "minorgridcolor": "white",
             "startlinecolor": "#2a3f5f"
            },
            "type": "carpet"
           }
          ],
          "choropleth": [
           {
            "colorbar": {
             "outlinewidth": 0,
             "ticks": ""
            },
            "type": "choropleth"
           }
          ],
          "contour": [
           {
            "colorbar": {
             "outlinewidth": 0,
             "ticks": ""
            },
            "colorscale": [
             [
              0,
              "#0d0887"
             ],
             [
              0.1111111111111111,
              "#46039f"
             ],
             [
              0.2222222222222222,
              "#7201a8"
             ],
             [
              0.3333333333333333,
              "#9c179e"
             ],
             [
              0.4444444444444444,
              "#bd3786"
             ],
             [
              0.5555555555555556,
              "#d8576b"
             ],
             [
              0.6666666666666666,
              "#ed7953"
             ],
             [
              0.7777777777777778,
              "#fb9f3a"
             ],
             [
              0.8888888888888888,
              "#fdca26"
             ],
             [
              1,
              "#f0f921"
             ]
            ],
            "type": "contour"
           }
          ],
          "contourcarpet": [
           {
            "colorbar": {
             "outlinewidth": 0,
             "ticks": ""
            },
            "type": "contourcarpet"
           }
          ],
          "heatmap": [
           {
            "colorbar": {
             "outlinewidth": 0,
             "ticks": ""
            },
            "colorscale": [
             [
              0,
              "#0d0887"
             ],
             [
              0.1111111111111111,
              "#46039f"
             ],
             [
              0.2222222222222222,
              "#7201a8"
             ],
             [
              0.3333333333333333,
              "#9c179e"
             ],
             [
              0.4444444444444444,
              "#bd3786"
             ],
             [
              0.5555555555555556,
              "#d8576b"
             ],
             [
              0.6666666666666666,
              "#ed7953"
             ],
             [
              0.7777777777777778,
              "#fb9f3a"
             ],
             [
              0.8888888888888888,
              "#fdca26"
             ],
             [
              1,
              "#f0f921"
             ]
            ],
            "type": "heatmap"
           }
          ],
          "heatmapgl": [
           {
            "colorbar": {
             "outlinewidth": 0,
             "ticks": ""
            },
            "colorscale": [
             [
              0,
              "#0d0887"
             ],
             [
              0.1111111111111111,
              "#46039f"
             ],
             [
              0.2222222222222222,
              "#7201a8"
             ],
             [
              0.3333333333333333,
              "#9c179e"
             ],
             [
              0.4444444444444444,
              "#bd3786"
             ],
             [
              0.5555555555555556,
              "#d8576b"
             ],
             [
              0.6666666666666666,
              "#ed7953"
             ],
             [
              0.7777777777777778,
              "#fb9f3a"
             ],
             [
              0.8888888888888888,
              "#fdca26"
             ],
             [
              1,
              "#f0f921"
             ]
            ],
            "type": "heatmapgl"
           }
          ],
          "histogram": [
           {
            "marker": {
             "pattern": {
              "fillmode": "overlay",
              "size": 10,
              "solidity": 0.2
             }
            },
            "type": "histogram"
           }
          ],
          "histogram2d": [
           {
            "colorbar": {
             "outlinewidth": 0,
             "ticks": ""
            },
            "colorscale": [
             [
              0,
              "#0d0887"
             ],
             [
              0.1111111111111111,
              "#46039f"
             ],
             [
              0.2222222222222222,
              "#7201a8"
             ],
             [
              0.3333333333333333,
              "#9c179e"
             ],
             [
              0.4444444444444444,
              "#bd3786"
             ],
             [
              0.5555555555555556,
              "#d8576b"
             ],
             [
              0.6666666666666666,
              "#ed7953"
             ],
             [
              0.7777777777777778,
              "#fb9f3a"
             ],
             [
              0.8888888888888888,
              "#fdca26"
             ],
             [
              1,
              "#f0f921"
             ]
            ],
            "type": "histogram2d"
           }
          ],
          "histogram2dcontour": [
           {
            "colorbar": {
             "outlinewidth": 0,
             "ticks": ""
            },
            "colorscale": [
             [
              0,
              "#0d0887"
             ],
             [
              0.1111111111111111,
              "#46039f"
             ],
             [
              0.2222222222222222,
              "#7201a8"
             ],
             [
              0.3333333333333333,
              "#9c179e"
             ],
             [
              0.4444444444444444,
              "#bd3786"
             ],
             [
              0.5555555555555556,
              "#d8576b"
             ],
             [
              0.6666666666666666,
              "#ed7953"
             ],
             [
              0.7777777777777778,
              "#fb9f3a"
             ],
             [
              0.8888888888888888,
              "#fdca26"
             ],
             [
              1,
              "#f0f921"
             ]
            ],
            "type": "histogram2dcontour"
           }
          ],
          "mesh3d": [
           {
            "colorbar": {
             "outlinewidth": 0,
             "ticks": ""
            },
            "type": "mesh3d"
           }
          ],
          "parcoords": [
           {
            "line": {
             "colorbar": {
              "outlinewidth": 0,
              "ticks": ""
             }
            },
            "type": "parcoords"
           }
          ],
          "pie": [
           {
            "automargin": true,
            "type": "pie"
           }
          ],
          "scatter": [
           {
            "fillpattern": {
             "fillmode": "overlay",
             "size": 10,
             "solidity": 0.2
            },
            "type": "scatter"
           }
          ],
          "scatter3d": [
           {
            "line": {
             "colorbar": {
              "outlinewidth": 0,
              "ticks": ""
             }
            },
            "marker": {
             "colorbar": {
              "outlinewidth": 0,
              "ticks": ""
             }
            },
            "type": "scatter3d"
           }
          ],
          "scattercarpet": [
           {
            "marker": {
             "colorbar": {
              "outlinewidth": 0,
              "ticks": ""
             }
            },
            "type": "scattercarpet"
           }
          ],
          "scattergeo": [
           {
            "marker": {
             "colorbar": {
              "outlinewidth": 0,
              "ticks": ""
             }
            },
            "type": "scattergeo"
           }
          ],
          "scattergl": [
           {
            "marker": {
             "colorbar": {
              "outlinewidth": 0,
              "ticks": ""
             }
            },
            "type": "scattergl"
           }
          ],
          "scattermapbox": [
           {
            "marker": {
             "colorbar": {
              "outlinewidth": 0,
              "ticks": ""
             }
            },
            "type": "scattermapbox"
           }
          ],
          "scatterpolar": [
           {
            "marker": {
             "colorbar": {
              "outlinewidth": 0,
              "ticks": ""
             }
            },
            "type": "scatterpolar"
           }
          ],
          "scatterpolargl": [
           {
            "marker": {
             "colorbar": {
              "outlinewidth": 0,
              "ticks": ""
             }
            },
            "type": "scatterpolargl"
           }
          ],
          "scatterternary": [
           {
            "marker": {
             "colorbar": {
              "outlinewidth": 0,
              "ticks": ""
             }
            },
            "type": "scatterternary"
           }
          ],
          "surface": [
           {
            "colorbar": {
             "outlinewidth": 0,
             "ticks": ""
            },
            "colorscale": [
             [
              0,
              "#0d0887"
             ],
             [
              0.1111111111111111,
              "#46039f"
             ],
             [
              0.2222222222222222,
              "#7201a8"
             ],
             [
              0.3333333333333333,
              "#9c179e"
             ],
             [
              0.4444444444444444,
              "#bd3786"
             ],
             [
              0.5555555555555556,
              "#d8576b"
             ],
             [
              0.6666666666666666,
              "#ed7953"
             ],
             [
              0.7777777777777778,
              "#fb9f3a"
             ],
             [
              0.8888888888888888,
              "#fdca26"
             ],
             [
              1,
              "#f0f921"
             ]
            ],
            "type": "surface"
           }
          ],
          "table": [
           {
            "cells": {
             "fill": {
              "color": "#EBF0F8"
             },
             "line": {
              "color": "white"
             }
            },
            "header": {
             "fill": {
              "color": "#C8D4E3"
             },
             "line": {
              "color": "white"
             }
            },
            "type": "table"
           }
          ]
         },
         "layout": {
          "annotationdefaults": {
           "arrowcolor": "#2a3f5f",
           "arrowhead": 0,
           "arrowwidth": 1
          },
          "autotypenumbers": "strict",
          "coloraxis": {
           "colorbar": {
            "outlinewidth": 0,
            "ticks": ""
           }
          },
          "colorscale": {
           "diverging": [
            [
             0,
             "#8e0152"
            ],
            [
             0.1,
             "#c51b7d"
            ],
            [
             0.2,
             "#de77ae"
            ],
            [
             0.3,
             "#f1b6da"
            ],
            [
             0.4,
             "#fde0ef"
            ],
            [
             0.5,
             "#f7f7f7"
            ],
            [
             0.6,
             "#e6f5d0"
            ],
            [
             0.7,
             "#b8e186"
            ],
            [
             0.8,
             "#7fbc41"
            ],
            [
             0.9,
             "#4d9221"
            ],
            [
             1,
             "#276419"
            ]
           ],
           "sequential": [
            [
             0,
             "#0d0887"
            ],
            [
             0.1111111111111111,
             "#46039f"
            ],
            [
             0.2222222222222222,
             "#7201a8"
            ],
            [
             0.3333333333333333,
             "#9c179e"
            ],
            [
             0.4444444444444444,
             "#bd3786"
            ],
            [
             0.5555555555555556,
             "#d8576b"
            ],
            [
             0.6666666666666666,
             "#ed7953"
            ],
            [
             0.7777777777777778,
             "#fb9f3a"
            ],
            [
             0.8888888888888888,
             "#fdca26"
            ],
            [
             1,
             "#f0f921"
            ]
           ],
           "sequentialminus": [
            [
             0,
             "#0d0887"
            ],
            [
             0.1111111111111111,
             "#46039f"
            ],
            [
             0.2222222222222222,
             "#7201a8"
            ],
            [
             0.3333333333333333,
             "#9c179e"
            ],
            [
             0.4444444444444444,
             "#bd3786"
            ],
            [
             0.5555555555555556,
             "#d8576b"
            ],
            [
             0.6666666666666666,
             "#ed7953"
            ],
            [
             0.7777777777777778,
             "#fb9f3a"
            ],
            [
             0.8888888888888888,
             "#fdca26"
            ],
            [
             1,
             "#f0f921"
            ]
           ]
          },
          "colorway": [
           "#636efa",
           "#EF553B",
           "#00cc96",
           "#ab63fa",
           "#FFA15A",
           "#19d3f3",
           "#FF6692",
           "#B6E880",
           "#FF97FF",
           "#FECB52"
          ],
          "font": {
           "color": "#2a3f5f"
          },
          "geo": {
           "bgcolor": "white",
           "lakecolor": "white",
           "landcolor": "#E5ECF6",
           "showlakes": true,
           "showland": true,
           "subunitcolor": "white"
          },
          "hoverlabel": {
           "align": "left"
          },
          "hovermode": "closest",
          "mapbox": {
           "style": "light"
          },
          "paper_bgcolor": "white",
          "plot_bgcolor": "#E5ECF6",
          "polar": {
           "angularaxis": {
            "gridcolor": "white",
            "linecolor": "white",
            "ticks": ""
           },
           "bgcolor": "#E5ECF6",
           "radialaxis": {
            "gridcolor": "white",
            "linecolor": "white",
            "ticks": ""
           }
          },
          "scene": {
           "xaxis": {
            "backgroundcolor": "#E5ECF6",
            "gridcolor": "white",
            "gridwidth": 2,
            "linecolor": "white",
            "showbackground": true,
            "ticks": "",
            "zerolinecolor": "white"
           },
           "yaxis": {
            "backgroundcolor": "#E5ECF6",
            "gridcolor": "white",
            "gridwidth": 2,
            "linecolor": "white",
            "showbackground": true,
            "ticks": "",
            "zerolinecolor": "white"
           },
           "zaxis": {
            "backgroundcolor": "#E5ECF6",
            "gridcolor": "white",
            "gridwidth": 2,
            "linecolor": "white",
            "showbackground": true,
            "ticks": "",
            "zerolinecolor": "white"
           }
          },
          "shapedefaults": {
           "line": {
            "color": "#2a3f5f"
           }
          },
          "ternary": {
           "aaxis": {
            "gridcolor": "white",
            "linecolor": "white",
            "ticks": ""
           },
           "baxis": {
            "gridcolor": "white",
            "linecolor": "white",
            "ticks": ""
           },
           "bgcolor": "#E5ECF6",
           "caxis": {
            "gridcolor": "white",
            "linecolor": "white",
            "ticks": ""
           }
          },
          "title": {
           "x": 0.05
          },
          "xaxis": {
           "automargin": true,
           "gridcolor": "white",
           "linecolor": "white",
           "ticks": "",
           "title": {
            "standoff": 15
           },
           "zerolinecolor": "white",
           "zerolinewidth": 2
          },
          "yaxis": {
           "automargin": true,
           "gridcolor": "white",
           "linecolor": "white",
           "ticks": "",
           "title": {
            "standoff": 15
           },
           "zerolinecolor": "white",
           "zerolinewidth": 2
          }
         }
        },
        "title": {
         "text": "Interactions for B"
        },
        "width": 1600,
        "xaxis": {
         "anchor": "y",
         "domain": [
          0,
          1
         ],
         "dtick": 20,
         "range": [
          0,
          600
         ],
         "title": {
          "text": "Residue Index"
         }
        },
        "yaxis": {
         "anchor": "x",
         "domain": [
          0,
          1
         ],
         "range": [
          1.5,
          4.5
         ],
         "title": {
          "text": "Distance (angstroms)"
         }
        }
       }
      }
     },
     "metadata": {},
     "output_type": "display_data"
    },
    {
     "data": {
      "application/vnd.plotly.v1+json": {
       "config": {
        "plotlyServerURL": "https://plot.ly"
       },
       "data": [
        {
         "customdata": [
          [
           348,
           "W"
          ],
          [
           352,
           "Y"
          ],
          [
           359,
           "N"
          ],
          [
           370,
           "E"
          ],
          [
           372,
           "E"
          ]
         ],
         "hovertemplate": "Interacting Chain=kinesin B<br>aa_classification=positively charged<br>Residue Index=%{x}<br>Distance (angstroms)=%{y}<br>residue_one_letter=%{text}<br>interacting_resinumber=%{customdata[0]}<br>interactingresi_oneletter=%{customdata[1]}<extra></extra>",
         "legendgroup": "kinesin B, positively charged",
         "marker": {
          "color": "#1f77b4",
          "opacity": 0.6,
          "size": 10,
          "symbol": "triangle-up"
         },
         "mode": "markers+text",
         "name": "kinesin B, positively charged",
         "orientation": "v",
         "showlegend": true,
         "text": [
          "K",
          "R",
          "K",
          "K",
          "R"
         ],
         "textposition": "top center",
         "type": "scatter",
         "x": [
          349,
          351,
          358,
          365,
          377
         ],
         "xaxis": "x",
         "y": [
          3.503443646430969,
          3.6970508337020873,
          3.5384411573410035,
          2.9934337615966795,
          2.751427507400513
         ],
         "yaxis": "y"
        },
        {
         "customdata": [
          [
           345,
           "A"
          ],
          [
           348,
           "W"
          ],
          [
           352,
           "Y"
          ],
          [
           359,
           "N"
          ],
          [
           366,
           "V"
          ],
          [
           373,
           "L"
          ],
          [
           372,
           "E"
          ],
          [
           376,
           "W"
          ],
          [
           377,
           "R"
          ],
          [
           377,
           "R"
          ]
         ],
         "hovertemplate": "Interacting Chain=kinesin B<br>aa_classification=nonpolar<br>Residue Index=%{x}<br>Distance (angstroms)=%{y}<br>residue_one_letter=%{text}<br>interacting_resinumber=%{customdata[0]}<br>interactingresi_oneletter=%{customdata[1]}<extra></extra>",
         "legendgroup": "kinesin B, nonpolar",
         "marker": {
          "color": "#1f77b4",
          "opacity": 0.6,
          "size": 10,
          "symbol": "circle"
         },
         "mode": "markers+text",
         "name": "kinesin B, nonpolar",
         "orientation": "v",
         "showlegend": true,
         "text": [
          "L",
          "A",
          "W",
          "L",
          "V",
          "L",
          "L",
          "W",
          "I",
          "M"
         ],
         "textposition": "top center",
         "type": "scatter",
         "x": [
          343,
          345,
          348,
          362,
          366,
          369,
          373,
          376,
          388,
          390
         ],
         "xaxis": "x",
         "y": [
          3.784635329246521,
          3.431620049476624,
          3.2987915515899657,
          2.895573091506958,
          3.460937762260437,
          3.53082218170166,
          3.002296781539917,
          3.727388501167298,
          2.8632412195205688,
          3.4981432914733888
         ],
         "yaxis": "y"
        },
        {
         "customdata": [
          [
           348,
           "W"
          ],
          [
           355,
           "E"
          ],
          [
           377,
           "R"
          ]
         ],
         "hovertemplate": "Interacting Chain=kinesin B<br>aa_classification=polar uncharged<br>Residue Index=%{x}<br>Distance (angstroms)=%{y}<br>residue_one_letter=%{text}<br>interacting_resinumber=%{customdata[0]}<br>interactingresi_oneletter=%{customdata[1]}<extra></extra>",
         "legendgroup": "kinesin B, polar uncharged",
         "marker": {
          "color": "#1f77b4",
          "opacity": 0.6,
          "size": 10,
          "symbol": "square"
         },
         "mode": "markers+text",
         "name": "kinesin B, polar uncharged",
         "orientation": "v",
         "showlegend": true,
         "text": [
          "Y",
          "N",
          "Q"
         ],
         "textposition": "top center",
         "type": "scatter",
         "x": [
          352,
          359,
          387
         ],
         "xaxis": "x",
         "y": [
          3.411513590812683,
          2.722337317466736,
          3.4429195642471315
         ],
         "yaxis": "y"
        },
        {
         "customdata": [
          [
           359,
           "N"
          ],
          [
           365,
           "K"
          ],
          [
           377,
           "R"
          ]
         ],
         "hovertemplate": "Interacting Chain=kinesin B<br>aa_classification=negatively charged<br>Residue Index=%{x}<br>Distance (angstroms)=%{y}<br>residue_one_letter=%{text}<br>interacting_resinumber=%{customdata[0]}<br>interactingresi_oneletter=%{customdata[1]}<extra></extra>",
         "legendgroup": "kinesin B, negatively charged",
         "marker": {
          "color": "#1f77b4",
          "opacity": 0.6,
          "size": 10,
          "symbol": "triangle-down"
         },
         "mode": "markers+text",
         "name": "kinesin B, negatively charged",
         "orientation": "v",
         "showlegend": true,
         "text": [
          "E",
          "E",
          "E"
         ],
         "textposition": "top center",
         "type": "scatter",
         "x": [
          355,
          370,
          372
         ],
         "xaxis": "x",
         "y": [
          2.5891874551773078,
          3.045574760437012,
          2.8116101741790773
         ],
         "yaxis": "y"
        },
        {
         "customdata": [
          [
           420,
           "E"
          ],
          [
           109,
           "T"
          ],
          [
           409,
           "V"
          ],
          [
           423,
           "E"
          ]
         ],
         "hovertemplate": "Interacting Chain=alpha-tubulin<br>aa_classification=positively charged<br>Residue Index=%{x}<br>Distance (angstroms)=%{y}<br>residue_one_letter=%{text}<br>interacting_resinumber=%{customdata[0]}<br>interactingresi_oneletter=%{customdata[1]}<extra></extra>",
         "legendgroup": "alpha-tubulin, positively charged",
         "marker": {
          "color": "#ff7f0e",
          "opacity": 0.6,
          "size": 10,
          "symbol": "triangle-up"
         },
         "mode": "markers+text",
         "name": "alpha-tubulin, positively charged",
         "orientation": "v",
         "showlegend": true,
         "text": [
          "K",
          "K",
          "K",
          "R"
         ],
         "textposition": "top center",
         "type": "scatter",
         "x": [
          244,
          259,
          263,
          325
         ],
         "xaxis": "x",
         "y": [
          2.509580874443054,
          3.0746930837631226,
          3.4011317014694216,
          3.310084080696106
         ],
         "yaxis": "y"
        },
        {
         "customdata": [
          [
           412,
           "G"
          ],
          [
           112,
           "K"
          ],
          [
           420,
           "E"
          ]
         ],
         "hovertemplate": "Interacting Chain=alpha-tubulin<br>aa_classification=nonpolar<br>Residue Index=%{x}<br>Distance (angstroms)=%{y}<br>residue_one_letter=%{text}<br>interacting_resinumber=%{customdata[0]}<br>interactingresi_oneletter=%{customdata[1]}<extra></extra>",
         "legendgroup": "alpha-tubulin, nonpolar",
         "marker": {
          "color": "#ff7f0e",
          "opacity": 0.6,
          "size": 10,
          "symbol": "circle"
         },
         "mode": "markers+text",
         "name": "alpha-tubulin, nonpolar",
         "orientation": "v",
         "showlegend": true,
         "text": [
          "I",
          "A",
          "A"
         ],
         "textposition": "top center",
         "type": "scatter",
         "x": [
          245,
          250,
          318
         ],
         "xaxis": "x",
         "y": [
          3.000720000267029,
          3.0465462684631346,
          3.7814661979675295
         ],
         "yaxis": "y"
        },
        {
         "customdata": [
          [
           414,
           "E"
          ],
          [
           409,
           "V"
          ],
          [
           415,
           "E"
          ],
          [
           402,
           "R"
          ],
          [
           402,
           "R"
          ]
         ],
         "hovertemplate": "Interacting Chain=alpha-tubulin<br>aa_classification=polar uncharged<br>Residue Index=%{x}<br>Distance (angstroms)=%{y}<br>residue_one_letter=%{text}<br>interacting_resinumber=%{customdata[0]}<br>interactingresi_oneletter=%{customdata[1]}<extra></extra>",
         "legendgroup": "alpha-tubulin, polar uncharged",
         "marker": {
          "color": "#ff7f0e",
          "opacity": 0.6,
          "size": 10,
          "symbol": "square"
         },
         "mode": "markers+text",
         "name": "alpha-tubulin, polar uncharged",
         "orientation": "v",
         "showlegend": true,
         "text": [
          "S",
          "N",
          "S",
          "N",
          "N"
         ],
         "textposition": "top center",
         "type": "scatter",
         "x": [
          242,
          262,
          266,
          270,
          273
         ],
         "xaxis": "x",
         "y": [
          3.0824506759643557,
          3.4786332130432127,
          2.8070631980896,
          3.330876898765564,
          3.8277572631835937
         ],
         "yaxis": "y"
        },
        {
         "customdata": [
          [
           157,
           "E"
          ],
          [
           410,
           "E"
          ],
          [
           406,
           "M"
          ],
          [
           413,
           "S"
          ],
          [
           432,
           "E"
          ],
          [
           424,
           "Q"
          ],
          [
           417,
           "D"
          ]
         ],
         "hovertemplate": "Interacting Chain=beta-tubulin<br>aa_classification=positively charged<br>Residue Index=%{x}<br>Distance (angstroms)=%{y}<br>residue_one_letter=%{text}<br>interacting_resinumber=%{customdata[0]}<br>interactingresi_oneletter=%{customdata[1]}<extra></extra>",
         "legendgroup": "beta-tubulin, positively charged",
         "marker": {
          "color": "#2ca02c",
          "opacity": 0.6,
          "size": 10,
          "symbol": "triangle-up"
         },
         "mode": "markers+text",
         "name": "beta-tubulin, positively charged",
         "orientation": "v",
         "showlegend": true,
         "text": [
          "K",
          "H",
          "K",
          "R",
          "K",
          "H",
          "R"
         ],
         "textposition": "top center",
         "type": "scatter",
         "x": [
          148,
          163,
          166,
          168,
          279,
          282,
          286
         ],
         "xaxis": "x",
         "y": [
          3.3632540702819824,
          2.707332420349121,
          3.6932753324508663,
          3.920697736740112,
          3.544805479049683,
          2.885304021835327,
          2.546088433265686
         ],
         "yaxis": "y"
        },
        {
         "customdata": [
          [
           410,
           "E"
          ]
         ],
         "hovertemplate": "Interacting Chain=beta-tubulin<br>aa_classification=nonpolar<br>Residue Index=%{x}<br>Distance (angstroms)=%{y}<br>residue_one_letter=%{text}<br>interacting_resinumber=%{customdata[0]}<br>interactingresi_oneletter=%{customdata[1]}<extra></extra>",
         "legendgroup": "beta-tubulin, nonpolar",
         "marker": {
          "color": "#2ca02c",
          "opacity": 0.6,
          "size": 10,
          "symbol": "circle"
         },
         "mode": "markers+text",
         "name": "beta-tubulin, nonpolar",
         "orientation": "v",
         "showlegend": true,
         "text": [
          "V"
         ],
         "textposition": "top center",
         "type": "scatter",
         "x": [
          162
         ],
         "xaxis": "x",
         "y": [
          3.1620498657226563
         ],
         "yaxis": "y"
        },
        {
         "customdata": [
          [
           157,
           "E"
          ],
          [
           424,
           "Q"
          ],
          [
           424,
           "Q"
          ]
         ],
         "hovertemplate": "Interacting Chain=beta-tubulin<br>aa_classification=polar uncharged<br>Residue Index=%{x}<br>Distance (angstroms)=%{y}<br>residue_one_letter=%{text}<br>interacting_resinumber=%{customdata[0]}<br>interactingresi_oneletter=%{customdata[1]}<extra></extra>",
         "legendgroup": "beta-tubulin, polar uncharged",
         "marker": {
          "color": "#2ca02c",
          "opacity": 0.6,
          "size": 10,
          "symbol": "square"
         },
         "mode": "markers+text",
         "name": "beta-tubulin, polar uncharged",
         "orientation": "v",
         "showlegend": true,
         "text": [
          "N",
          "S",
          "T"
         ],
         "textposition": "top center",
         "type": "scatter",
         "x": [
          159,
          280,
          281
         ],
         "xaxis": "x",
         "y": [
          3.1542918205261232,
          3.612173342704773,
          3.512565541267395
         ],
         "yaxis": "y"
        },
        {
         "customdata": [
          [
           413,
           "S"
          ],
          [
           406,
           "M"
          ],
          [
           262,
           "R"
          ]
         ],
         "hovertemplate": "Interacting Chain=beta-tubulin<br>aa_classification=negatively charged<br>Residue Index=%{x}<br>Distance (angstroms)=%{y}<br>residue_one_letter=%{text}<br>interacting_resinumber=%{customdata[0]}<br>interactingresi_oneletter=%{customdata[1]}<extra></extra>",
         "legendgroup": "beta-tubulin, negatively charged",
         "marker": {
          "color": "#2ca02c",
          "opacity": 0.6,
          "size": 10,
          "symbol": "triangle-down"
         },
         "mode": "markers+text",
         "name": "beta-tubulin, negatively charged",
         "orientation": "v",
         "showlegend": true,
         "text": [
          "E",
          "D",
          "D"
         ],
         "textposition": "top center",
         "type": "scatter",
         "x": [
          164,
          165,
          287
         ],
         "xaxis": "x",
         "y": [
          3.331333351135254,
          3.896282911300659,
          3.1928826332092286
         ],
         "yaxis": "y"
        },
        {
         "customdata": [
          [
           1,
           "?"
          ],
          [
           1,
           "?"
          ],
          [
           1,
           "?"
          ],
          [
           1,
           "?"
          ]
         ],
         "hovertemplate": "Interacting Chain=ATP<br>aa_classification=positively charged<br>Residue Index=%{x}<br>Distance (angstroms)=%{y}<br>residue_one_letter=%{text}<br>interacting_resinumber=%{customdata[0]}<br>interactingresi_oneletter=%{customdata[1]}<extra></extra>",
         "legendgroup": "ATP, positively charged",
         "marker": {
          "color": "#d62728",
          "opacity": 0.6,
          "size": 10,
          "symbol": "triangle-up"
         },
         "mode": "markers+text",
         "name": "ATP, positively charged",
         "orientation": "v",
         "showlegend": true,
         "text": [
          "R",
          "R",
          "K",
          "H"
         ],
         "textposition": "top center",
         "type": "scatter",
         "x": [
          18,
          20,
          98,
          100
         ],
         "xaxis": "x",
         "y": [
          3.798428797721863,
          3.6209798574447634,
          2.831399369239807,
          2.8471944332122803
         ],
         "yaxis": "y"
        },
        {
         "customdata": [
          [
           1,
           "?"
          ],
          [
           1,
           "?"
          ],
          [
           1,
           "?"
          ],
          [
           1,
           "?"
          ]
         ],
         "hovertemplate": "Interacting Chain=ATP<br>aa_classification=nonpolar<br>Residue Index=%{x}<br>Distance (angstroms)=%{y}<br>residue_one_letter=%{text}<br>interacting_resinumber=%{customdata[0]}<br>interactingresi_oneletter=%{customdata[1]}<extra></extra>",
         "legendgroup": "ATP, nonpolar",
         "marker": {
          "color": "#d62728",
          "opacity": 0.6,
          "size": 10,
          "symbol": "circle"
         },
         "mode": "markers+text",
         "name": "ATP, nonpolar",
         "orientation": "v",
         "showlegend": true,
         "text": [
          "P",
          "G",
          "A",
          "G"
         ],
         "textposition": "top center",
         "type": "scatter",
         "x": [
          21,
          97,
          240,
          241
         ],
         "xaxis": "x",
         "y": [
          3.5129159688949585,
          3.048373484611511,
          3.929113984107971,
          2.9067705869674683
         ],
         "yaxis": "y"
        },
        {
         "customdata": [
          [
           1,
           "?"
          ],
          [
           1,
           "?"
          ],
          [
           1,
           "?"
          ],
          [
           1,
           "?"
          ],
          [
           1,
           "?"
          ],
          [
           1,
           "?"
          ]
         ],
         "hovertemplate": "Interacting Chain=ATP<br>aa_classification=polar uncharged<br>Residue Index=%{x}<br>Distance (angstroms)=%{y}<br>residue_one_letter=%{text}<br>interacting_resinumber=%{customdata[0]}<br>interactingresi_oneletter=%{customdata[1]}<extra></extra>",
         "legendgroup": "ATP, polar uncharged",
         "marker": {
          "color": "#d62728",
          "opacity": 0.6,
          "size": 10,
          "symbol": "square"
         },
         "mode": "markers+text",
         "name": "ATP, polar uncharged",
         "orientation": "v",
         "showlegend": true,
         "text": [
          "Q",
          "T",
          "S",
          "S",
          "N",
          "S"
         ],
         "textposition": "top center",
         "type": "scatter",
         "x": [
          93,
          94,
          95,
          96,
          205,
          208
         ],
         "xaxis": "x",
         "y": [
          3.88090558052063,
          2.411470127105713,
          2.84566490650177,
          3.3720362424850463,
          3.0212188720703126,
          2.8567578315734865
         ],
         "yaxis": "y"
        },
        {
         "customdata": [
          [
           1,
           "?"
          ]
         ],
         "hovertemplate": "Interacting Chain=ATP<br>aa_classification=negatively charged<br>Residue Index=%{x}<br>Distance (angstroms)=%{y}<br>residue_one_letter=%{text}<br>interacting_resinumber=%{customdata[0]}<br>interactingresi_oneletter=%{customdata[1]}<extra></extra>",
         "legendgroup": "ATP, negatively charged",
         "marker": {
          "color": "#d62728",
          "opacity": 0.6,
          "size": 10,
          "symbol": "triangle-down"
         },
         "mode": "markers+text",
         "name": "ATP, negatively charged",
         "orientation": "v",
         "showlegend": true,
         "text": [
          "E"
         ],
         "textposition": "top center",
         "type": "scatter",
         "x": [
          207
         ],
         "xaxis": "x",
         "y": [
          3.996523141860962
         ],
         "yaxis": "y"
        }
       ],
       "layout": {
        "autosize": false,
        "height": 600,
        "legend": {
         "title": {
          "text": "Interacting Chain"
         },
         "tracegroupgap": 0
        },
        "shapes": [
         {
          "fillcolor": "LightSkyBlue",
          "layer": "below",
          "line": {
           "width": 0
          },
          "opacity": 0.3,
          "type": "rect",
          "x0": 0,
          "x1": 178,
          "y0": 0,
          "y1": 4.5
         },
         {
          "fillcolor": "LightSalmon",
          "layer": "below",
          "line": {
           "width": 0
          },
          "opacity": 0.3,
          "type": "rect",
          "x0": 178,
          "x1": 333,
          "y0": 0,
          "y1": 4.5
         },
         {
          "fillcolor": "LightSkyBlue",
          "layer": "below",
          "line": {
           "width": 0
          },
          "opacity": 0.3,
          "type": "rect",
          "x0": 333,
          "x1": 600,
          "y0": 0,
          "y1": 4.5
         }
        ],
        "template": {
         "data": {
          "bar": [
           {
            "error_x": {
             "color": "#2a3f5f"
            },
            "error_y": {
             "color": "#2a3f5f"
            },
            "marker": {
             "line": {
              "color": "#E5ECF6",
              "width": 0.5
             },
             "pattern": {
              "fillmode": "overlay",
              "size": 10,
              "solidity": 0.2
             }
            },
            "type": "bar"
           }
          ],
          "barpolar": [
           {
            "marker": {
             "line": {
              "color": "#E5ECF6",
              "width": 0.5
             },
             "pattern": {
              "fillmode": "overlay",
              "size": 10,
              "solidity": 0.2
             }
            },
            "type": "barpolar"
           }
          ],
          "carpet": [
           {
            "aaxis": {
             "endlinecolor": "#2a3f5f",
             "gridcolor": "white",
             "linecolor": "white",
             "minorgridcolor": "white",
             "startlinecolor": "#2a3f5f"
            },
            "baxis": {
             "endlinecolor": "#2a3f5f",
             "gridcolor": "white",
             "linecolor": "white",
             "minorgridcolor": "white",
             "startlinecolor": "#2a3f5f"
            },
            "type": "carpet"
           }
          ],
          "choropleth": [
           {
            "colorbar": {
             "outlinewidth": 0,
             "ticks": ""
            },
            "type": "choropleth"
           }
          ],
          "contour": [
           {
            "colorbar": {
             "outlinewidth": 0,
             "ticks": ""
            },
            "colorscale": [
             [
              0,
              "#0d0887"
             ],
             [
              0.1111111111111111,
              "#46039f"
             ],
             [
              0.2222222222222222,
              "#7201a8"
             ],
             [
              0.3333333333333333,
              "#9c179e"
             ],
             [
              0.4444444444444444,
              "#bd3786"
             ],
             [
              0.5555555555555556,
              "#d8576b"
             ],
             [
              0.6666666666666666,
              "#ed7953"
             ],
             [
              0.7777777777777778,
              "#fb9f3a"
             ],
             [
              0.8888888888888888,
              "#fdca26"
             ],
             [
              1,
              "#f0f921"
             ]
            ],
            "type": "contour"
           }
          ],
          "contourcarpet": [
           {
            "colorbar": {
             "outlinewidth": 0,
             "ticks": ""
            },
            "type": "contourcarpet"
           }
          ],
          "heatmap": [
           {
            "colorbar": {
             "outlinewidth": 0,
             "ticks": ""
            },
            "colorscale": [
             [
              0,
              "#0d0887"
             ],
             [
              0.1111111111111111,
              "#46039f"
             ],
             [
              0.2222222222222222,
              "#7201a8"
             ],
             [
              0.3333333333333333,
              "#9c179e"
             ],
             [
              0.4444444444444444,
              "#bd3786"
             ],
             [
              0.5555555555555556,
              "#d8576b"
             ],
             [
              0.6666666666666666,
              "#ed7953"
             ],
             [
              0.7777777777777778,
              "#fb9f3a"
             ],
             [
              0.8888888888888888,
              "#fdca26"
             ],
             [
              1,
              "#f0f921"
             ]
            ],
            "type": "heatmap"
           }
          ],
          "heatmapgl": [
           {
            "colorbar": {
             "outlinewidth": 0,
             "ticks": ""
            },
            "colorscale": [
             [
              0,
              "#0d0887"
             ],
             [
              0.1111111111111111,
              "#46039f"
             ],
             [
              0.2222222222222222,
              "#7201a8"
             ],
             [
              0.3333333333333333,
              "#9c179e"
             ],
             [
              0.4444444444444444,
              "#bd3786"
             ],
             [
              0.5555555555555556,
              "#d8576b"
             ],
             [
              0.6666666666666666,
              "#ed7953"
             ],
             [
              0.7777777777777778,
              "#fb9f3a"
             ],
             [
              0.8888888888888888,
              "#fdca26"
             ],
             [
              1,
              "#f0f921"
             ]
            ],
            "type": "heatmapgl"
           }
          ],
          "histogram": [
           {
            "marker": {
             "pattern": {
              "fillmode": "overlay",
              "size": 10,
              "solidity": 0.2
             }
            },
            "type": "histogram"
           }
          ],
          "histogram2d": [
           {
            "colorbar": {
             "outlinewidth": 0,
             "ticks": ""
            },
            "colorscale": [
             [
              0,
              "#0d0887"
             ],
             [
              0.1111111111111111,
              "#46039f"
             ],
             [
              0.2222222222222222,
              "#7201a8"
             ],
             [
              0.3333333333333333,
              "#9c179e"
             ],
             [
              0.4444444444444444,
              "#bd3786"
             ],
             [
              0.5555555555555556,
              "#d8576b"
             ],
             [
              0.6666666666666666,
              "#ed7953"
             ],
             [
              0.7777777777777778,
              "#fb9f3a"
             ],
             [
              0.8888888888888888,
              "#fdca26"
             ],
             [
              1,
              "#f0f921"
             ]
            ],
            "type": "histogram2d"
           }
          ],
          "histogram2dcontour": [
           {
            "colorbar": {
             "outlinewidth": 0,
             "ticks": ""
            },
            "colorscale": [
             [
              0,
              "#0d0887"
             ],
             [
              0.1111111111111111,
              "#46039f"
             ],
             [
              0.2222222222222222,
              "#7201a8"
             ],
             [
              0.3333333333333333,
              "#9c179e"
             ],
             [
              0.4444444444444444,
              "#bd3786"
             ],
             [
              0.5555555555555556,
              "#d8576b"
             ],
             [
              0.6666666666666666,
              "#ed7953"
             ],
             [
              0.7777777777777778,
              "#fb9f3a"
             ],
             [
              0.8888888888888888,
              "#fdca26"
             ],
             [
              1,
              "#f0f921"
             ]
            ],
            "type": "histogram2dcontour"
           }
          ],
          "mesh3d": [
           {
            "colorbar": {
             "outlinewidth": 0,
             "ticks": ""
            },
            "type": "mesh3d"
           }
          ],
          "parcoords": [
           {
            "line": {
             "colorbar": {
              "outlinewidth": 0,
              "ticks": ""
             }
            },
            "type": "parcoords"
           }
          ],
          "pie": [
           {
            "automargin": true,
            "type": "pie"
           }
          ],
          "scatter": [
           {
            "fillpattern": {
             "fillmode": "overlay",
             "size": 10,
             "solidity": 0.2
            },
            "type": "scatter"
           }
          ],
          "scatter3d": [
           {
            "line": {
             "colorbar": {
              "outlinewidth": 0,
              "ticks": ""
             }
            },
            "marker": {
             "colorbar": {
              "outlinewidth": 0,
              "ticks": ""
             }
            },
            "type": "scatter3d"
           }
          ],
          "scattercarpet": [
           {
            "marker": {
             "colorbar": {
              "outlinewidth": 0,
              "ticks": ""
             }
            },
            "type": "scattercarpet"
           }
          ],
          "scattergeo": [
           {
            "marker": {
             "colorbar": {
              "outlinewidth": 0,
              "ticks": ""
             }
            },
            "type": "scattergeo"
           }
          ],
          "scattergl": [
           {
            "marker": {
             "colorbar": {
              "outlinewidth": 0,
              "ticks": ""
             }
            },
            "type": "scattergl"
           }
          ],
          "scattermapbox": [
           {
            "marker": {
             "colorbar": {
              "outlinewidth": 0,
              "ticks": ""
             }
            },
            "type": "scattermapbox"
           }
          ],
          "scatterpolar": [
           {
            "marker": {
             "colorbar": {
              "outlinewidth": 0,
              "ticks": ""
             }
            },
            "type": "scatterpolar"
           }
          ],
          "scatterpolargl": [
           {
            "marker": {
             "colorbar": {
              "outlinewidth": 0,
              "ticks": ""
             }
            },
            "type": "scatterpolargl"
           }
          ],
          "scatterternary": [
           {
            "marker": {
             "colorbar": {
              "outlinewidth": 0,
              "ticks": ""
             }
            },
            "type": "scatterternary"
           }
          ],
          "surface": [
           {
            "colorbar": {
             "outlinewidth": 0,
             "ticks": ""
            },
            "colorscale": [
             [
              0,
              "#0d0887"
             ],
             [
              0.1111111111111111,
              "#46039f"
             ],
             [
              0.2222222222222222,
              "#7201a8"
             ],
             [
              0.3333333333333333,
              "#9c179e"
             ],
             [
              0.4444444444444444,
              "#bd3786"
             ],
             [
              0.5555555555555556,
              "#d8576b"
             ],
             [
              0.6666666666666666,
              "#ed7953"
             ],
             [
              0.7777777777777778,
              "#fb9f3a"
             ],
             [
              0.8888888888888888,
              "#fdca26"
             ],
             [
              1,
              "#f0f921"
             ]
            ],
            "type": "surface"
           }
          ],
          "table": [
           {
            "cells": {
             "fill": {
              "color": "#EBF0F8"
             },
             "line": {
              "color": "white"
             }
            },
            "header": {
             "fill": {
              "color": "#C8D4E3"
             },
             "line": {
              "color": "white"
             }
            },
            "type": "table"
           }
          ]
         },
         "layout": {
          "annotationdefaults": {
           "arrowcolor": "#2a3f5f",
           "arrowhead": 0,
           "arrowwidth": 1
          },
          "autotypenumbers": "strict",
          "coloraxis": {
           "colorbar": {
            "outlinewidth": 0,
            "ticks": ""
           }
          },
          "colorscale": {
           "diverging": [
            [
             0,
             "#8e0152"
            ],
            [
             0.1,
             "#c51b7d"
            ],
            [
             0.2,
             "#de77ae"
            ],
            [
             0.3,
             "#f1b6da"
            ],
            [
             0.4,
             "#fde0ef"
            ],
            [
             0.5,
             "#f7f7f7"
            ],
            [
             0.6,
             "#e6f5d0"
            ],
            [
             0.7,
             "#b8e186"
            ],
            [
             0.8,
             "#7fbc41"
            ],
            [
             0.9,
             "#4d9221"
            ],
            [
             1,
             "#276419"
            ]
           ],
           "sequential": [
            [
             0,
             "#0d0887"
            ],
            [
             0.1111111111111111,
             "#46039f"
            ],
            [
             0.2222222222222222,
             "#7201a8"
            ],
            [
             0.3333333333333333,
             "#9c179e"
            ],
            [
             0.4444444444444444,
             "#bd3786"
            ],
            [
             0.5555555555555556,
             "#d8576b"
            ],
            [
             0.6666666666666666,
             "#ed7953"
            ],
            [
             0.7777777777777778,
             "#fb9f3a"
            ],
            [
             0.8888888888888888,
             "#fdca26"
            ],
            [
             1,
             "#f0f921"
            ]
           ],
           "sequentialminus": [
            [
             0,
             "#0d0887"
            ],
            [
             0.1111111111111111,
             "#46039f"
            ],
            [
             0.2222222222222222,
             "#7201a8"
            ],
            [
             0.3333333333333333,
             "#9c179e"
            ],
            [
             0.4444444444444444,
             "#bd3786"
            ],
            [
             0.5555555555555556,
             "#d8576b"
            ],
            [
             0.6666666666666666,
             "#ed7953"
            ],
            [
             0.7777777777777778,
             "#fb9f3a"
            ],
            [
             0.8888888888888888,
             "#fdca26"
            ],
            [
             1,
             "#f0f921"
            ]
           ]
          },
          "colorway": [
           "#636efa",
           "#EF553B",
           "#00cc96",
           "#ab63fa",
           "#FFA15A",
           "#19d3f3",
           "#FF6692",
           "#B6E880",
           "#FF97FF",
           "#FECB52"
          ],
          "font": {
           "color": "#2a3f5f"
          },
          "geo": {
           "bgcolor": "white",
           "lakecolor": "white",
           "landcolor": "#E5ECF6",
           "showlakes": true,
           "showland": true,
           "subunitcolor": "white"
          },
          "hoverlabel": {
           "align": "left"
          },
          "hovermode": "closest",
          "mapbox": {
           "style": "light"
          },
          "paper_bgcolor": "white",
          "plot_bgcolor": "#E5ECF6",
          "polar": {
           "angularaxis": {
            "gridcolor": "white",
            "linecolor": "white",
            "ticks": ""
           },
           "bgcolor": "#E5ECF6",
           "radialaxis": {
            "gridcolor": "white",
            "linecolor": "white",
            "ticks": ""
           }
          },
          "scene": {
           "xaxis": {
            "backgroundcolor": "#E5ECF6",
            "gridcolor": "white",
            "gridwidth": 2,
            "linecolor": "white",
            "showbackground": true,
            "ticks": "",
            "zerolinecolor": "white"
           },
           "yaxis": {
            "backgroundcolor": "#E5ECF6",
            "gridcolor": "white",
            "gridwidth": 2,
            "linecolor": "white",
            "showbackground": true,
            "ticks": "",
            "zerolinecolor": "white"
           },
           "zaxis": {
            "backgroundcolor": "#E5ECF6",
            "gridcolor": "white",
            "gridwidth": 2,
            "linecolor": "white",
            "showbackground": true,
            "ticks": "",
            "zerolinecolor": "white"
           }
          },
          "shapedefaults": {
           "line": {
            "color": "#2a3f5f"
           }
          },
          "ternary": {
           "aaxis": {
            "gridcolor": "white",
            "linecolor": "white",
            "ticks": ""
           },
           "baxis": {
            "gridcolor": "white",
            "linecolor": "white",
            "ticks": ""
           },
           "bgcolor": "#E5ECF6",
           "caxis": {
            "gridcolor": "white",
            "linecolor": "white",
            "ticks": ""
           }
          },
          "title": {
           "x": 0.05
          },
          "xaxis": {
           "automargin": true,
           "gridcolor": "white",
           "linecolor": "white",
           "ticks": "",
           "title": {
            "standoff": 15
           },
           "zerolinecolor": "white",
           "zerolinewidth": 2
          },
          "yaxis": {
           "automargin": true,
           "gridcolor": "white",
           "linecolor": "white",
           "ticks": "",
           "title": {
            "standoff": 15
           },
           "zerolinecolor": "white",
           "zerolinewidth": 2
          }
         }
        },
        "title": {
         "text": "Interactions for C"
        },
        "width": 1600,
        "xaxis": {
         "anchor": "y",
         "domain": [
          0,
          1
         ],
         "dtick": 20,
         "range": [
          0,
          600
         ],
         "title": {
          "text": "Residue Index"
         }
        },
        "yaxis": {
         "anchor": "x",
         "domain": [
          0,
          1
         ],
         "range": [
          1.5,
          4.5
         ],
         "title": {
          "text": "Distance (angstroms)"
         }
        }
       }
      }
     },
     "metadata": {},
     "output_type": "display_data"
    },
    {
     "data": {
      "application/vnd.plotly.v1+json": {
       "config": {
        "plotlyServerURL": "https://plot.ly"
       },
       "data": [
        {
         "customdata": [
          [
           344,
           "W"
          ],
          [
           348,
           "Y"
          ],
          [
           355,
           "N"
          ],
          [
           366,
           "E"
          ],
          [
           368,
           "E"
          ]
         ],
         "hovertemplate": "Interacting Chain=kinesin B<br>aa_classification=positively charged<br>Residue Index=%{x}<br>Distance (angstroms)=%{y}<br>residue_one_letter=%{text}<br>interacting_resinumber=%{customdata[0]}<br>interactingresi_oneletter=%{customdata[1]}<extra></extra>",
         "legendgroup": "kinesin B, positively charged",
         "marker": {
          "color": "#1f77b4",
          "opacity": 0.6,
          "size": 10,
          "symbol": "triangle-up"
         },
         "mode": "markers+text",
         "name": "kinesin B, positively charged",
         "orientation": "v",
         "showlegend": true,
         "text": [
          "K",
          "R",
          "K",
          "K",
          "R"
         ],
         "textposition": "top center",
         "type": "scatter",
         "x": [
          345,
          347,
          354,
          361,
          373
         ],
         "xaxis": "x",
         "y": [
          3.65103816986084,
          3.716932031843397,
          3.545858356687757,
          3.025415632459852,
          2.756334808137682
         ],
         "yaxis": "y"
        },
        {
         "customdata": [
          [
           341,
           "A"
          ],
          [
           344,
           "W"
          ],
          [
           348,
           "Y"
          ],
          [
           355,
           "N"
          ],
          [
           362,
           "V"
          ],
          [
           369,
           "L"
          ],
          [
           368,
           "E"
          ],
          [
           372,
           "W"
          ],
          [
           373,
           "R"
          ],
          [
           373,
           "R"
          ]
         ],
         "hovertemplate": "Interacting Chain=kinesin B<br>aa_classification=nonpolar<br>Residue Index=%{x}<br>Distance (angstroms)=%{y}<br>residue_one_letter=%{text}<br>interacting_resinumber=%{customdata[0]}<br>interactingresi_oneletter=%{customdata[1]}<extra></extra>",
         "legendgroup": "kinesin B, nonpolar",
         "marker": {
          "color": "#1f77b4",
          "opacity": 0.6,
          "size": 10,
          "symbol": "circle"
         },
         "mode": "markers+text",
         "name": "kinesin B, nonpolar",
         "orientation": "v",
         "showlegend": true,
         "text": [
          "L",
          "A",
          "W",
          "L",
          "V",
          "L",
          "L",
          "W",
          "I",
          "M"
         ],
         "textposition": "top center",
         "type": "scatter",
         "x": [
          339,
          341,
          344,
          358,
          362,
          365,
          369,
          372,
          384,
          386
         ],
         "xaxis": "x",
         "y": [
          3.5116907755533853,
          3.36161380343967,
          3.3640162150065103,
          2.9534302287631564,
          3.4771742820739746,
          3.4915511078304715,
          3.03962066438463,
          3.731055736541748,
          2.8299958176083035,
          3.3779753579033747
         ],
         "yaxis": "y"
        },
        {
         "customdata": [
          [
           344,
           "W"
          ],
          [
           351,
           "E"
          ],
          [
           373,
           "R"
          ]
         ],
         "hovertemplate": "Interacting Chain=kinesin B<br>aa_classification=polar uncharged<br>Residue Index=%{x}<br>Distance (angstroms)=%{y}<br>residue_one_letter=%{text}<br>interacting_resinumber=%{customdata[0]}<br>interactingresi_oneletter=%{customdata[1]}<extra></extra>",
         "legendgroup": "kinesin B, polar uncharged",
         "marker": {
          "color": "#1f77b4",
          "opacity": 0.6,
          "size": 10,
          "symbol": "square"
         },
         "mode": "markers+text",
         "name": "kinesin B, polar uncharged",
         "orientation": "v",
         "showlegend": true,
         "text": [
          "Y",
          "N",
          "Q"
         ],
         "textposition": "top center",
         "type": "scatter",
         "x": [
          348,
          355,
          383
         ],
         "xaxis": "x",
         "y": [
          3.4075505203670926,
          2.3580192195044622,
          3.442661232418484
         ],
         "yaxis": "y"
        },
        {
         "customdata": [
          [
           355,
           "N"
          ],
          [
           361,
           "K"
          ],
          [
           373,
           "R"
          ]
         ],
         "hovertemplate": "Interacting Chain=kinesin B<br>aa_classification=negatively charged<br>Residue Index=%{x}<br>Distance (angstroms)=%{y}<br>residue_one_letter=%{text}<br>interacting_resinumber=%{customdata[0]}<br>interactingresi_oneletter=%{customdata[1]}<extra></extra>",
         "legendgroup": "kinesin B, negatively charged",
         "marker": {
          "color": "#1f77b4",
          "opacity": 0.6,
          "size": 10,
          "symbol": "triangle-down"
         },
         "mode": "markers+text",
         "name": "kinesin B, negatively charged",
         "orientation": "v",
         "showlegend": true,
         "text": [
          "E",
          "E",
          "E"
         ],
         "textposition": "top center",
         "type": "scatter",
         "x": [
          351,
          366,
          368
         ],
         "xaxis": "x",
         "y": [
          2.2375978893703885,
          3.24898542298211,
          2.819898128509521
         ],
         "yaxis": "y"
        },
        {
         "customdata": [
          [
           420,
           "E"
          ],
          [
           410,
           "G"
          ],
          [
           409,
           "V"
          ],
          [
           423,
           "E"
          ]
         ],
         "hovertemplate": "Interacting Chain=alpha-tubulin<br>aa_classification=positively charged<br>Residue Index=%{x}<br>Distance (angstroms)=%{y}<br>residue_one_letter=%{text}<br>interacting_resinumber=%{customdata[0]}<br>interactingresi_oneletter=%{customdata[1]}<extra></extra>",
         "legendgroup": "alpha-tubulin, positively charged",
         "marker": {
          "color": "#ff7f0e",
          "opacity": 0.6,
          "size": 10,
          "symbol": "triangle-up"
         },
         "mode": "markers+text",
         "name": "alpha-tubulin, positively charged",
         "orientation": "v",
         "showlegend": true,
         "text": [
          "K",
          "K",
          "K",
          "R"
         ],
         "textposition": "top center",
         "type": "scatter",
         "x": [
          240,
          255,
          259,
          321
         ],
         "xaxis": "x",
         "y": [
          2.548420058356391,
          3.3597150113847523,
          3.389312187830607,
          2.948287460539076
         ],
         "yaxis": "y"
        },
        {
         "customdata": [
          [
           412,
           "G"
          ],
          [
           112,
           "K"
          ],
          [
           420,
           "E"
          ]
         ],
         "hovertemplate": "Interacting Chain=alpha-tubulin<br>aa_classification=nonpolar<br>Residue Index=%{x}<br>Distance (angstroms)=%{y}<br>residue_one_letter=%{text}<br>interacting_resinumber=%{customdata[0]}<br>interactingresi_oneletter=%{customdata[1]}<extra></extra>",
         "legendgroup": "alpha-tubulin, nonpolar",
         "marker": {
          "color": "#ff7f0e",
          "opacity": 0.6,
          "size": 10,
          "symbol": "circle"
         },
         "mode": "markers+text",
         "name": "alpha-tubulin, nonpolar",
         "orientation": "v",
         "showlegend": true,
         "text": [
          "I",
          "A",
          "A"
         ],
         "textposition": "top center",
         "type": "scatter",
         "x": [
          241,
          246,
          314
         ],
         "xaxis": "x",
         "y": [
          3.0455307960510254,
          3.433784749772814,
          3.082224633958605
         ],
         "yaxis": "y"
        },
        {
         "customdata": [
          [
           414,
           "E"
          ],
          [
           409,
           "V"
          ],
          [
           415,
           "E"
          ],
          [
           402,
           "R"
          ]
         ],
         "hovertemplate": "Interacting Chain=alpha-tubulin<br>aa_classification=polar uncharged<br>Residue Index=%{x}<br>Distance (angstroms)=%{y}<br>residue_one_letter=%{text}<br>interacting_resinumber=%{customdata[0]}<br>interactingresi_oneletter=%{customdata[1]}<extra></extra>",
         "legendgroup": "alpha-tubulin, polar uncharged",
         "marker": {
          "color": "#ff7f0e",
          "opacity": 0.6,
          "size": 10,
          "symbol": "square"
         },
         "mode": "markers+text",
         "name": "alpha-tubulin, polar uncharged",
         "orientation": "v",
         "showlegend": true,
         "text": [
          "S",
          "N",
          "S",
          "N"
         ],
         "textposition": "top center",
         "type": "scatter",
         "x": [
          238,
          258,
          262,
          266
         ],
         "xaxis": "x",
         "y": [
          2.981097221374512,
          3.4680802557203503,
          2.4610390928056507,
          3.4848101668887668
         ],
         "yaxis": "y"
        },
        {
         "customdata": [
          [
           157,
           "E"
          ],
          [
           407,
           "E"
          ],
          [
           407,
           "E"
          ],
          [
           432,
           "E"
          ],
          [
           424,
           "Q"
          ],
          [
           417,
           "D"
          ],
          [
           194,
           "E"
          ]
         ],
         "hovertemplate": "Interacting Chain=beta-tubulin<br>aa_classification=positively charged<br>Residue Index=%{x}<br>Distance (angstroms)=%{y}<br>residue_one_letter=%{text}<br>interacting_resinumber=%{customdata[0]}<br>interactingresi_oneletter=%{customdata[1]}<extra></extra>",
         "legendgroup": "beta-tubulin, positively charged",
         "marker": {
          "color": "#2ca02c",
          "opacity": 0.6,
          "size": 10,
          "symbol": "triangle-up"
         },
         "mode": "markers+text",
         "name": "beta-tubulin, positively charged",
         "orientation": "v",
         "showlegend": true,
         "text": [
          "R",
          "K",
          "R",
          "K",
          "H",
          "R",
          "K"
         ],
         "textposition": "top center",
         "type": "scatter",
         "x": [
          144,
          157,
          159,
          275,
          278,
          282,
          285
         ],
         "xaxis": "x",
         "y": [
          2.779699669943916,
          3.4112680753072104,
          3.1180776490105524,
          3.371759229236179,
          2.949473116132948,
          2.421861939960056,
          3.6206646230485706
         ],
         "yaxis": "y"
        },
        {
         "customdata": [
          [
           410,
           "E"
          ]
         ],
         "hovertemplate": "Interacting Chain=beta-tubulin<br>aa_classification=nonpolar<br>Residue Index=%{x}<br>Distance (angstroms)=%{y}<br>residue_one_letter=%{text}<br>interacting_resinumber=%{customdata[0]}<br>interactingresi_oneletter=%{customdata[1]}<extra></extra>",
         "legendgroup": "beta-tubulin, nonpolar",
         "marker": {
          "color": "#2ca02c",
          "opacity": 0.6,
          "size": 10,
          "symbol": "circle"
         },
         "mode": "markers+text",
         "name": "beta-tubulin, nonpolar",
         "orientation": "v",
         "showlegend": true,
         "text": [
          "V"
         ],
         "textposition": "top center",
         "type": "scatter",
         "x": [
          158
         ],
         "xaxis": "x",
         "y": [
          3.4643547270033093
         ],
         "yaxis": "y"
        },
        {
         "customdata": [
          [
           424,
           "Q"
          ],
          [
           424,
           "Q"
          ]
         ],
         "hovertemplate": "Interacting Chain=beta-tubulin<br>aa_classification=polar uncharged<br>Residue Index=%{x}<br>Distance (angstroms)=%{y}<br>residue_one_letter=%{text}<br>interacting_resinumber=%{customdata[0]}<br>interactingresi_oneletter=%{customdata[1]}<extra></extra>",
         "legendgroup": "beta-tubulin, polar uncharged",
         "marker": {
          "color": "#2ca02c",
          "opacity": 0.6,
          "size": 10,
          "symbol": "square"
         },
         "mode": "markers+text",
         "name": "beta-tubulin, polar uncharged",
         "orientation": "v",
         "showlegend": true,
         "text": [
          "S",
          "T"
         ],
         "textposition": "top center",
         "type": "scatter",
         "x": [
          276,
          277
         ],
         "xaxis": "x",
         "y": [
          3.594391610887316,
          3.274943192799886
         ],
         "yaxis": "y"
        },
        {
         "customdata": [
          [
           413,
           "S"
          ],
          [
           262,
           "R"
          ]
         ],
         "hovertemplate": "Interacting Chain=beta-tubulin<br>aa_classification=negatively charged<br>Residue Index=%{x}<br>Distance (angstroms)=%{y}<br>residue_one_letter=%{text}<br>interacting_resinumber=%{customdata[0]}<br>interactingresi_oneletter=%{customdata[1]}<extra></extra>",
         "legendgroup": "beta-tubulin, negatively charged",
         "marker": {
          "color": "#2ca02c",
          "opacity": 0.6,
          "size": 10,
          "symbol": "triangle-down"
         },
         "mode": "markers+text",
         "name": "beta-tubulin, negatively charged",
         "orientation": "v",
         "showlegend": true,
         "text": [
          "E",
          "D"
         ],
         "textposition": "top center",
         "type": "scatter",
         "x": [
          160,
          283
         ],
         "xaxis": "x",
         "y": [
          3.103173706266615,
          3.178076320224338
         ],
         "yaxis": "y"
        },
        {
         "customdata": [
          [
           1,
           "?"
          ],
          [
           1,
           "?"
          ],
          [
           1,
           "?"
          ]
         ],
         "hovertemplate": "Interacting Chain=ATP<br>aa_classification=positively charged<br>Residue Index=%{x}<br>Distance (angstroms)=%{y}<br>residue_one_letter=%{text}<br>interacting_resinumber=%{customdata[0]}<br>interactingresi_oneletter=%{customdata[1]}<extra></extra>",
         "legendgroup": "ATP, positively charged",
         "marker": {
          "color": "#d62728",
          "opacity": 0.6,
          "size": 10,
          "symbol": "triangle-up"
         },
         "mode": "markers+text",
         "name": "ATP, positively charged",
         "orientation": "v",
         "showlegend": true,
         "text": [
          "R",
          "R",
          "K"
         ],
         "textposition": "top center",
         "type": "scatter",
         "x": [
          9,
          11,
          91
         ],
         "xaxis": "x",
         "y": [
          3.747229867511325,
          3.713157521353828,
          2.7384222083621554
         ],
         "yaxis": "y"
        },
        {
         "customdata": [
          [
           1,
           "?"
          ],
          [
           1,
           "?"
          ],
          [
           1,
           "?"
          ],
          [
           1,
           "?"
          ],
          [
           1,
           "?"
          ],
          [
           1,
           "?"
          ]
         ],
         "hovertemplate": "Interacting Chain=ATP<br>aa_classification=nonpolar<br>Residue Index=%{x}<br>Distance (angstroms)=%{y}<br>residue_one_letter=%{text}<br>interacting_resinumber=%{customdata[0]}<br>interactingresi_oneletter=%{customdata[1]}<extra></extra>",
         "legendgroup": "ATP, nonpolar",
         "marker": {
          "color": "#d62728",
          "opacity": 0.6,
          "size": 10,
          "symbol": "circle"
         },
         "mode": "markers+text",
         "name": "ATP, nonpolar",
         "orientation": "v",
         "showlegend": true,
         "text": [
          "P",
          "G",
          "G",
          "F",
          "A",
          "G"
         ],
         "textposition": "top center",
         "type": "scatter",
         "x": [
          12,
          88,
          90,
          93,
          236,
          237
         ],
         "xaxis": "x",
         "y": [
          3.672356022728814,
          2.8067136075761585,
          2.9763353135850696,
          2.759141630596585,
          3.957770374086168,
          2.993730465571085
         ],
         "yaxis": "y"
        },
        {
         "customdata": [
          [
           1,
           "?"
          ],
          [
           1,
           "?"
          ],
          [
           1,
           "?"
          ],
          [
           1,
           "?"
          ],
          [
           1,
           "?"
          ]
         ],
         "hovertemplate": "Interacting Chain=ATP<br>aa_classification=polar uncharged<br>Residue Index=%{x}<br>Distance (angstroms)=%{y}<br>residue_one_letter=%{text}<br>interacting_resinumber=%{customdata[0]}<br>interactingresi_oneletter=%{customdata[1]}<extra></extra>",
         "legendgroup": "ATP, polar uncharged",
         "marker": {
          "color": "#d62728",
          "opacity": 0.6,
          "size": 10,
          "symbol": "square"
         },
         "mode": "markers+text",
         "name": "ATP, polar uncharged",
         "orientation": "v",
         "showlegend": true,
         "text": [
          "Q",
          "T",
          "S",
          "N",
          "S"
         ],
         "textposition": "top center",
         "type": "scatter",
         "x": [
          86,
          87,
          89,
          201,
          204
         ],
         "xaxis": "x",
         "y": [
          3.969527827368842,
          2.537995232476129,
          3.356776581870185,
          2.9880570040808783,
          2.942700518502129
         ],
         "yaxis": "y"
        },
        {
         "customdata": [
          [
           1,
           "?"
          ]
         ],
         "hovertemplate": "Interacting Chain=ATP<br>aa_classification=negatively charged<br>Residue Index=%{x}<br>Distance (angstroms)=%{y}<br>residue_one_letter=%{text}<br>interacting_resinumber=%{customdata[0]}<br>interactingresi_oneletter=%{customdata[1]}<extra></extra>",
         "legendgroup": "ATP, negatively charged",
         "marker": {
          "color": "#d62728",
          "opacity": 0.6,
          "size": 10,
          "symbol": "triangle-down"
         },
         "mode": "markers+text",
         "name": "ATP, negatively charged",
         "orientation": "v",
         "showlegend": true,
         "text": [
          "E"
         ],
         "textposition": "top center",
         "type": "scatter",
         "x": [
          203
         ],
         "xaxis": "x",
         "y": [
          3.996997700797187
         ],
         "yaxis": "y"
        }
       ],
       "layout": {
        "autosize": false,
        "height": 600,
        "legend": {
         "title": {
          "text": "Interacting Chain"
         },
         "tracegroupgap": 0
        },
        "shapes": [
         {
          "fillcolor": "LightSalmon",
          "layer": "below",
          "line": {
           "width": 0
          },
          "opacity": 0.3,
          "type": "rect",
          "x0": 0,
          "x1": 329,
          "y0": 0,
          "y1": 4.5
         },
         {
          "fillcolor": "LightSkyBlue",
          "layer": "below",
          "line": {
           "width": 0
          },
          "opacity": 0.3,
          "type": "rect",
          "x0": 329,
          "x1": 600,
          "y0": 0,
          "y1": 4.5
         }
        ],
        "template": {
         "data": {
          "bar": [
           {
            "error_x": {
             "color": "#2a3f5f"
            },
            "error_y": {
             "color": "#2a3f5f"
            },
            "marker": {
             "line": {
              "color": "#E5ECF6",
              "width": 0.5
             },
             "pattern": {
              "fillmode": "overlay",
              "size": 10,
              "solidity": 0.2
             }
            },
            "type": "bar"
           }
          ],
          "barpolar": [
           {
            "marker": {
             "line": {
              "color": "#E5ECF6",
              "width": 0.5
             },
             "pattern": {
              "fillmode": "overlay",
              "size": 10,
              "solidity": 0.2
             }
            },
            "type": "barpolar"
           }
          ],
          "carpet": [
           {
            "aaxis": {
             "endlinecolor": "#2a3f5f",
             "gridcolor": "white",
             "linecolor": "white",
             "minorgridcolor": "white",
             "startlinecolor": "#2a3f5f"
            },
            "baxis": {
             "endlinecolor": "#2a3f5f",
             "gridcolor": "white",
             "linecolor": "white",
             "minorgridcolor": "white",
             "startlinecolor": "#2a3f5f"
            },
            "type": "carpet"
           }
          ],
          "choropleth": [
           {
            "colorbar": {
             "outlinewidth": 0,
             "ticks": ""
            },
            "type": "choropleth"
           }
          ],
          "contour": [
           {
            "colorbar": {
             "outlinewidth": 0,
             "ticks": ""
            },
            "colorscale": [
             [
              0,
              "#0d0887"
             ],
             [
              0.1111111111111111,
              "#46039f"
             ],
             [
              0.2222222222222222,
              "#7201a8"
             ],
             [
              0.3333333333333333,
              "#9c179e"
             ],
             [
              0.4444444444444444,
              "#bd3786"
             ],
             [
              0.5555555555555556,
              "#d8576b"
             ],
             [
              0.6666666666666666,
              "#ed7953"
             ],
             [
              0.7777777777777778,
              "#fb9f3a"
             ],
             [
              0.8888888888888888,
              "#fdca26"
             ],
             [
              1,
              "#f0f921"
             ]
            ],
            "type": "contour"
           }
          ],
          "contourcarpet": [
           {
            "colorbar": {
             "outlinewidth": 0,
             "ticks": ""
            },
            "type": "contourcarpet"
           }
          ],
          "heatmap": [
           {
            "colorbar": {
             "outlinewidth": 0,
             "ticks": ""
            },
            "colorscale": [
             [
              0,
              "#0d0887"
             ],
             [
              0.1111111111111111,
              "#46039f"
             ],
             [
              0.2222222222222222,
              "#7201a8"
             ],
             [
              0.3333333333333333,
              "#9c179e"
             ],
             [
              0.4444444444444444,
              "#bd3786"
             ],
             [
              0.5555555555555556,
              "#d8576b"
             ],
             [
              0.6666666666666666,
              "#ed7953"
             ],
             [
              0.7777777777777778,
              "#fb9f3a"
             ],
             [
              0.8888888888888888,
              "#fdca26"
             ],
             [
              1,
              "#f0f921"
             ]
            ],
            "type": "heatmap"
           }
          ],
          "heatmapgl": [
           {
            "colorbar": {
             "outlinewidth": 0,
             "ticks": ""
            },
            "colorscale": [
             [
              0,
              "#0d0887"
             ],
             [
              0.1111111111111111,
              "#46039f"
             ],
             [
              0.2222222222222222,
              "#7201a8"
             ],
             [
              0.3333333333333333,
              "#9c179e"
             ],
             [
              0.4444444444444444,
              "#bd3786"
             ],
             [
              0.5555555555555556,
              "#d8576b"
             ],
             [
              0.6666666666666666,
              "#ed7953"
             ],
             [
              0.7777777777777778,
              "#fb9f3a"
             ],
             [
              0.8888888888888888,
              "#fdca26"
             ],
             [
              1,
              "#f0f921"
             ]
            ],
            "type": "heatmapgl"
           }
          ],
          "histogram": [
           {
            "marker": {
             "pattern": {
              "fillmode": "overlay",
              "size": 10,
              "solidity": 0.2
             }
            },
            "type": "histogram"
           }
          ],
          "histogram2d": [
           {
            "colorbar": {
             "outlinewidth": 0,
             "ticks": ""
            },
            "colorscale": [
             [
              0,
              "#0d0887"
             ],
             [
              0.1111111111111111,
              "#46039f"
             ],
             [
              0.2222222222222222,
              "#7201a8"
             ],
             [
              0.3333333333333333,
              "#9c179e"
             ],
             [
              0.4444444444444444,
              "#bd3786"
             ],
             [
              0.5555555555555556,
              "#d8576b"
             ],
             [
              0.6666666666666666,
              "#ed7953"
             ],
             [
              0.7777777777777778,
              "#fb9f3a"
             ],
             [
              0.8888888888888888,
              "#fdca26"
             ],
             [
              1,
              "#f0f921"
             ]
            ],
            "type": "histogram2d"
           }
          ],
          "histogram2dcontour": [
           {
            "colorbar": {
             "outlinewidth": 0,
             "ticks": ""
            },
            "colorscale": [
             [
              0,
              "#0d0887"
             ],
             [
              0.1111111111111111,
              "#46039f"
             ],
             [
              0.2222222222222222,
              "#7201a8"
             ],
             [
              0.3333333333333333,
              "#9c179e"
             ],
             [
              0.4444444444444444,
              "#bd3786"
             ],
             [
              0.5555555555555556,
              "#d8576b"
             ],
             [
              0.6666666666666666,
              "#ed7953"
             ],
             [
              0.7777777777777778,
              "#fb9f3a"
             ],
             [
              0.8888888888888888,
              "#fdca26"
             ],
             [
              1,
              "#f0f921"
             ]
            ],
            "type": "histogram2dcontour"
           }
          ],
          "mesh3d": [
           {
            "colorbar": {
             "outlinewidth": 0,
             "ticks": ""
            },
            "type": "mesh3d"
           }
          ],
          "parcoords": [
           {
            "line": {
             "colorbar": {
              "outlinewidth": 0,
              "ticks": ""
             }
            },
            "type": "parcoords"
           }
          ],
          "pie": [
           {
            "automargin": true,
            "type": "pie"
           }
          ],
          "scatter": [
           {
            "fillpattern": {
             "fillmode": "overlay",
             "size": 10,
             "solidity": 0.2
            },
            "type": "scatter"
           }
          ],
          "scatter3d": [
           {
            "line": {
             "colorbar": {
              "outlinewidth": 0,
              "ticks": ""
             }
            },
            "marker": {
             "colorbar": {
              "outlinewidth": 0,
              "ticks": ""
             }
            },
            "type": "scatter3d"
           }
          ],
          "scattercarpet": [
           {
            "marker": {
             "colorbar": {
              "outlinewidth": 0,
              "ticks": ""
             }
            },
            "type": "scattercarpet"
           }
          ],
          "scattergeo": [
           {
            "marker": {
             "colorbar": {
              "outlinewidth": 0,
              "ticks": ""
             }
            },
            "type": "scattergeo"
           }
          ],
          "scattergl": [
           {
            "marker": {
             "colorbar": {
              "outlinewidth": 0,
              "ticks": ""
             }
            },
            "type": "scattergl"
           }
          ],
          "scattermapbox": [
           {
            "marker": {
             "colorbar": {
              "outlinewidth": 0,
              "ticks": ""
             }
            },
            "type": "scattermapbox"
           }
          ],
          "scatterpolar": [
           {
            "marker": {
             "colorbar": {
              "outlinewidth": 0,
              "ticks": ""
             }
            },
            "type": "scatterpolar"
           }
          ],
          "scatterpolargl": [
           {
            "marker": {
             "colorbar": {
              "outlinewidth": 0,
              "ticks": ""
             }
            },
            "type": "scatterpolargl"
           }
          ],
          "scatterternary": [
           {
            "marker": {
             "colorbar": {
              "outlinewidth": 0,
              "ticks": ""
             }
            },
            "type": "scatterternary"
           }
          ],
          "surface": [
           {
            "colorbar": {
             "outlinewidth": 0,
             "ticks": ""
            },
            "colorscale": [
             [
              0,
              "#0d0887"
             ],
             [
              0.1111111111111111,
              "#46039f"
             ],
             [
              0.2222222222222222,
              "#7201a8"
             ],
             [
              0.3333333333333333,
              "#9c179e"
             ],
             [
              0.4444444444444444,
              "#bd3786"
             ],
             [
              0.5555555555555556,
              "#d8576b"
             ],
             [
              0.6666666666666666,
              "#ed7953"
             ],
             [
              0.7777777777777778,
              "#fb9f3a"
             ],
             [
              0.8888888888888888,
              "#fdca26"
             ],
             [
              1,
              "#f0f921"
             ]
            ],
            "type": "surface"
           }
          ],
          "table": [
           {
            "cells": {
             "fill": {
              "color": "#EBF0F8"
             },
             "line": {
              "color": "white"
             }
            },
            "header": {
             "fill": {
              "color": "#C8D4E3"
             },
             "line": {
              "color": "white"
             }
            },
            "type": "table"
           }
          ]
         },
         "layout": {
          "annotationdefaults": {
           "arrowcolor": "#2a3f5f",
           "arrowhead": 0,
           "arrowwidth": 1
          },
          "autotypenumbers": "strict",
          "coloraxis": {
           "colorbar": {
            "outlinewidth": 0,
            "ticks": ""
           }
          },
          "colorscale": {
           "diverging": [
            [
             0,
             "#8e0152"
            ],
            [
             0.1,
             "#c51b7d"
            ],
            [
             0.2,
             "#de77ae"
            ],
            [
             0.3,
             "#f1b6da"
            ],
            [
             0.4,
             "#fde0ef"
            ],
            [
             0.5,
             "#f7f7f7"
            ],
            [
             0.6,
             "#e6f5d0"
            ],
            [
             0.7,
             "#b8e186"
            ],
            [
             0.8,
             "#7fbc41"
            ],
            [
             0.9,
             "#4d9221"
            ],
            [
             1,
             "#276419"
            ]
           ],
           "sequential": [
            [
             0,
             "#0d0887"
            ],
            [
             0.1111111111111111,
             "#46039f"
            ],
            [
             0.2222222222222222,
             "#7201a8"
            ],
            [
             0.3333333333333333,
             "#9c179e"
            ],
            [
             0.4444444444444444,
             "#bd3786"
            ],
            [
             0.5555555555555556,
             "#d8576b"
            ],
            [
             0.6666666666666666,
             "#ed7953"
            ],
            [
             0.7777777777777778,
             "#fb9f3a"
            ],
            [
             0.8888888888888888,
             "#fdca26"
            ],
            [
             1,
             "#f0f921"
            ]
           ],
           "sequentialminus": [
            [
             0,
             "#0d0887"
            ],
            [
             0.1111111111111111,
             "#46039f"
            ],
            [
             0.2222222222222222,
             "#7201a8"
            ],
            [
             0.3333333333333333,
             "#9c179e"
            ],
            [
             0.4444444444444444,
             "#bd3786"
            ],
            [
             0.5555555555555556,
             "#d8576b"
            ],
            [
             0.6666666666666666,
             "#ed7953"
            ],
            [
             0.7777777777777778,
             "#fb9f3a"
            ],
            [
             0.8888888888888888,
             "#fdca26"
            ],
            [
             1,
             "#f0f921"
            ]
           ]
          },
          "colorway": [
           "#636efa",
           "#EF553B",
           "#00cc96",
           "#ab63fa",
           "#FFA15A",
           "#19d3f3",
           "#FF6692",
           "#B6E880",
           "#FF97FF",
           "#FECB52"
          ],
          "font": {
           "color": "#2a3f5f"
          },
          "geo": {
           "bgcolor": "white",
           "lakecolor": "white",
           "landcolor": "#E5ECF6",
           "showlakes": true,
           "showland": true,
           "subunitcolor": "white"
          },
          "hoverlabel": {
           "align": "left"
          },
          "hovermode": "closest",
          "mapbox": {
           "style": "light"
          },
          "paper_bgcolor": "white",
          "plot_bgcolor": "#E5ECF6",
          "polar": {
           "angularaxis": {
            "gridcolor": "white",
            "linecolor": "white",
            "ticks": ""
           },
           "bgcolor": "#E5ECF6",
           "radialaxis": {
            "gridcolor": "white",
            "linecolor": "white",
            "ticks": ""
           }
          },
          "scene": {
           "xaxis": {
            "backgroundcolor": "#E5ECF6",
            "gridcolor": "white",
            "gridwidth": 2,
            "linecolor": "white",
            "showbackground": true,
            "ticks": "",
            "zerolinecolor": "white"
           },
           "yaxis": {
            "backgroundcolor": "#E5ECF6",
            "gridcolor": "white",
            "gridwidth": 2,
            "linecolor": "white",
            "showbackground": true,
            "ticks": "",
            "zerolinecolor": "white"
           },
           "zaxis": {
            "backgroundcolor": "#E5ECF6",
            "gridcolor": "white",
            "gridwidth": 2,
            "linecolor": "white",
            "showbackground": true,
            "ticks": "",
            "zerolinecolor": "white"
           }
          },
          "shapedefaults": {
           "line": {
            "color": "#2a3f5f"
           }
          },
          "ternary": {
           "aaxis": {
            "gridcolor": "white",
            "linecolor": "white",
            "ticks": ""
           },
           "baxis": {
            "gridcolor": "white",
            "linecolor": "white",
            "ticks": ""
           },
           "bgcolor": "#E5ECF6",
           "caxis": {
            "gridcolor": "white",
            "linecolor": "white",
            "ticks": ""
           }
          },
          "title": {
           "x": 0.05
          },
          "xaxis": {
           "automargin": true,
           "gridcolor": "white",
           "linecolor": "white",
           "ticks": "",
           "title": {
            "standoff": 15
           },
           "zerolinecolor": "white",
           "zerolinewidth": 2
          },
          "yaxis": {
           "automargin": true,
           "gridcolor": "white",
           "linecolor": "white",
           "ticks": "",
           "title": {
            "standoff": 15
           },
           "zerolinecolor": "white",
           "zerolinewidth": 2
          }
         }
        },
        "title": {
         "text": "Interactions for D"
        },
        "width": 1600,
        "xaxis": {
         "anchor": "y",
         "domain": [
          0,
          1
         ],
         "dtick": 20,
         "range": [
          0,
          600
         ],
         "title": {
          "text": "Residue Index"
         }
        },
        "yaxis": {
         "anchor": "x",
         "domain": [
          0,
          1
         ],
         "range": [
          1.5,
          4.5
         ],
         "title": {
          "text": "Distance (angstroms)"
         }
        }
       }
      }
     },
     "metadata": {},
     "output_type": "display_data"
    },
    {
     "data": {
      "application/vnd.plotly.v1+json": {
       "config": {
        "plotlyServerURL": "https://plot.ly"
       },
       "data": [
        {
         "customdata": [
          [
           356,
           "E"
          ],
          [
           358,
           "E"
          ],
          [
           467,
           "E"
          ],
          [
           474,
           "E"
          ],
          [
           476,
           "E"
          ],
          [
           495,
           "D"
          ],
          [
           532,
           "L"
          ],
          [
           539,
           "S"
          ],
          [
           556,
           "E"
          ],
          [
           582,
           "L"
          ]
         ],
         "hovertemplate": "Interacting Chain=kinesin B<br>aa_classification=positively charged<br>Residue Index=%{x}<br>Distance (angstroms)=%{y}<br>residue_one_letter=%{text}<br>interacting_resinumber=%{customdata[0]}<br>interactingresi_oneletter=%{customdata[1]}<extra></extra>",
         "legendgroup": "kinesin B, positively charged",
         "marker": {
          "color": "#1f77b4",
          "opacity": 0.6,
          "size": 10,
          "symbol": "triangle-up"
         },
         "mode": "markers+text",
         "name": "kinesin B, positively charged",
         "orientation": "v",
         "showlegend": true,
         "text": [
          "R",
          "K",
          "K",
          "K",
          "K",
          "K",
          "K",
          "R",
          "K",
          "R"
         ],
         "textposition": "top center",
         "type": "scatter",
         "x": [
          5,
          363,
          462,
          473,
          477,
          494,
          533,
          540,
          561,
          570
         ],
         "xaxis": "x",
         "y": [
          3.531878638267517,
          2.723021078109741,
          2.7925221920013428,
          2.6483593702316286,
          2.5791381120681764,
          2.4636243343353272,
          3.7319110155105593,
          3.368006777763367,
          2.783824110031128,
          2.3227875351905825
         ],
         "yaxis": "y"
        },
        {
         "customdata": [
          [
           348,
           "L"
          ],
          [
           345,
           "A"
          ],
          [
           352,
           "L"
          ],
          [
           351,
           "L"
          ],
          [
           359,
           "I"
          ],
          [
           359,
           "I"
          ],
          [
           366,
           "I"
          ],
          [
           366,
           "I"
          ],
          [
           375,
           "V"
          ],
          [
           369,
           "L"
          ],
          [
           365,
           "Y"
          ],
          [
           456,
           "I"
          ],
          [
           456,
           "I"
          ],
          [
           463,
           "C"
          ],
          [
           470,
           "L"
          ],
          [
           470,
           "L"
          ],
          [
           477,
           "K"
          ],
          [
           487,
           "Q"
          ],
          [
           494,
           "K"
          ],
          [
           497,
           "E"
          ],
          [
           505,
           "I"
          ],
          [
           505,
           "I"
          ],
          [
           501,
           "L"
          ],
          [
           512,
           "N"
          ],
          [
           515,
           "Y"
          ],
          [
           522,
           "N"
          ],
          [
           525,
           "L"
          ],
          [
           536,
           "L"
          ],
          [
           536,
           "L"
          ],
          [
           535,
           "A"
          ],
          [
           546,
           "Q"
          ],
          [
           550,
           "I"
          ],
          [
           554,
           "N"
          ],
          [
           560,
           "I"
          ],
          [
           560,
           "I"
          ],
          [
           571,
           "I"
          ],
          [
           567,
           "L"
          ],
          [
           574,
           "S"
          ],
          [
           570,
           "R"
          ]
         ],
         "hovertemplate": "Interacting Chain=kinesin B<br>aa_classification=nonpolar<br>Residue Index=%{x}<br>Distance (angstroms)=%{y}<br>residue_one_letter=%{text}<br>interacting_resinumber=%{customdata[0]}<br>interactingresi_oneletter=%{customdata[1]}<extra></extra>",
         "legendgroup": "kinesin B, nonpolar",
         "marker": {
          "color": "#1f77b4",
          "opacity": 0.6,
          "size": 10,
          "symbol": "circle"
         },
         "mode": "markers+text",
         "name": "kinesin B, nonpolar",
         "orientation": "v",
         "showlegend": true,
         "text": [
          "A",
          "L",
          "L",
          "L",
          "A",
          "I",
          "L",
          "I",
          "L",
          "V",
          "V",
          "L",
          "I",
          "L",
          "L",
          "L",
          "I",
          "L",
          "I",
          "I",
          "L",
          "M",
          "I",
          "I",
          "L",
          "L",
          "L",
          "L",
          "A",
          "L",
          "A",
          "I",
          "L",
          "I",
          "L",
          "L",
          "I",
          "I",
          "L"
         ],
         "textposition": "top center",
         "type": "scatter",
         "x": [
          345,
          348,
          351,
          352,
          355,
          359,
          362,
          366,
          369,
          375,
          377,
          455,
          456,
          459,
          466,
          470,
          480,
          484,
          491,
          498,
          501,
          504,
          505,
          511,
          514,
          525,
          529,
          532,
          535,
          536,
          543,
          550,
          553,
          560,
          564,
          567,
          571,
          579,
          582
         ],
         "xaxis": "x",
         "y": [
          3.333734083175659,
          3.294251894950867,
          3.69295072555542,
          3.680106377601624,
          3.5726788997650147,
          3.472433090209961,
          3.357787585258484,
          3.3532920837402345,
          3.099999594688416,
          3.2258677005767824,
          3.3672661542892457,
          3.793028616905212,
          3.50847704410553,
          3.721611642837524,
          3.647863006591797,
          3.2007425308227537,
          3.24136221408844,
          3.0874229669570923,
          3.1398332834243776,
          3.4730142831802366,
          2.920471811294556,
          3.81049530506134,
          2.919063854217529,
          3.456050491333008,
          3.391597104072571,
          3.035896444320678,
          3.3814367055892944,
          3.52223916053772,
          3.2790656089782715,
          3.2607849836349487,
          2.6451249361038207,
          3.360449695587158,
          3.137296199798584,
          3.183238458633423,
          3.497667837142944,
          3.107263779640198,
          3.1806048154830933,
          3.8411591053009033,
          2.3545340299606323
         ],
         "yaxis": "y"
        },
        {
         "customdata": [
          [
           370,
           "E"
          ],
          [
           373,
           "S"
          ],
          [
           459,
           "L"
          ],
          [
           463,
           "C"
          ],
          [
           470,
           "L"
          ],
          [
           484,
           "L"
          ],
          [
           484,
           "L"
          ],
          [
           487,
           "Q"
          ],
          [
           491,
           "I"
          ],
          [
           501,
           "L"
          ],
          [
           508,
           "S"
          ],
          [
           511,
           "I"
          ],
          [
           514,
           "L"
          ],
          [
           518,
           "S"
          ],
          [
           518,
           "S"
          ],
          [
           522,
           "N"
          ],
          [
           525,
           "L"
          ],
          [
           529,
           "L"
          ],
          [
           539,
           "S"
          ],
          [
           543,
           "A"
          ],
          [
           546,
           "Q"
          ],
          [
           553,
           "L"
          ],
          [
           557,
           "N"
          ],
          [
           564,
           "L"
          ],
          [
           579,
           "I"
          ]
         ],
         "hovertemplate": "Interacting Chain=kinesin B<br>aa_classification=polar uncharged<br>Residue Index=%{x}<br>Distance (angstroms)=%{y}<br>residue_one_letter=%{text}<br>interacting_resinumber=%{customdata[0]}<br>interactingresi_oneletter=%{customdata[1]}<extra></extra>",
         "legendgroup": "kinesin B, polar uncharged",
         "marker": {
          "color": "#1f77b4",
          "opacity": 0.6,
          "size": 10,
          "symbol": "square"
         },
         "mode": "markers+text",
         "name": "kinesin B, polar uncharged",
         "orientation": "v",
         "showlegend": true,
         "text": [
          "Y",
          "S",
          "Q",
          "C",
          "Q",
          "Q",
          "Q",
          "Q",
          "Q",
          "N",
          "S",
          "N",
          "Y",
          "S",
          "T",
          "N",
          "N",
          "Q",
          "S",
          "Q",
          "S",
          "N",
          "N",
          "Q",
          "S"
         ],
         "textposition": "top center",
         "type": "scatter",
         "x": [
          365,
          373,
          460,
          463,
          469,
          483,
          487,
          488,
          490,
          502,
          508,
          512,
          515,
          518,
          519,
          522,
          526,
          528,
          539,
          546,
          547,
          554,
          557,
          563,
          574
         ],
         "xaxis": "x",
         "y": [
          2.854290151596069,
          3.4841848373413087,
          3.885666799545288,
          2.946331834793091,
          3.402151894569397,
          3.676540803909302,
          3.079671788215637,
          3.0462824583053587,
          3.603171873092651,
          3.2607850790023805,
          2.904142212867737,
          3.366317701339722,
          3.271326804161072,
          2.829489088058472,
          3.492994785308838,
          2.2658191204071043,
          3.2402082681655884,
          3.61376953125,
          2.803588533401489,
          2.6187576055526733,
          3.706922459602356,
          3.147888040542602,
          2.4334129095077515,
          3.918500065803528,
          3.818012261390686
         ],
         "yaxis": "y"
        },
        {
         "customdata": [
          [
           363,
           "K"
          ],
          [
           377,
           "V"
          ],
          [
           365,
           "Y"
          ],
          [
           448,
           "T"
          ],
          [
           462,
           "K"
          ],
          [
           473,
           "K"
          ],
          [
           477,
           "K"
          ],
          [
           494,
           "K"
          ],
          [
           498,
           "I"
          ],
          [
           522,
           "N"
          ],
          [
           561,
           "K"
          ]
         ],
         "hovertemplate": "Interacting Chain=kinesin B<br>aa_classification=negatively charged<br>Residue Index=%{x}<br>Distance (angstroms)=%{y}<br>residue_one_letter=%{text}<br>interacting_resinumber=%{customdata[0]}<br>interactingresi_oneletter=%{customdata[1]}<extra></extra>",
         "legendgroup": "kinesin B, negatively charged",
         "marker": {
          "color": "#1f77b4",
          "opacity": 0.6,
          "size": 10,
          "symbol": "triangle-down"
         },
         "mode": "markers+text",
         "name": "kinesin B, negatively charged",
         "orientation": "v",
         "showlegend": true,
         "text": [
          "E",
          "E",
          "E",
          "D",
          "E",
          "E",
          "E",
          "D",
          "E",
          "E",
          "E"
         ],
         "textposition": "top center",
         "type": "scatter",
         "x": [
          358,
          368,
          370,
          452,
          467,
          474,
          476,
          495,
          497,
          521,
          556
         ],
         "xaxis": "x",
         "y": [
          2.8782934665679933,
          3.893514084815979,
          3.040589070320129,
          3.677449321746826,
          2.7661184549331663,
          2.653424406051636,
          2.5772828578948976,
          2.471068835258484,
          3.463311505317688,
          3.505995845794678,
          2.7477582931518554
         ],
         "yaxis": "y"
        },
        {
         "customdata": [
          [
           420,
           "E"
          ],
          [
           109,
           "T"
          ],
          [
           409,
           "V"
          ]
         ],
         "hovertemplate": "Interacting Chain=alpha-tubulin<br>aa_classification=positively charged<br>Residue Index=%{x}<br>Distance (angstroms)=%{y}<br>residue_one_letter=%{text}<br>interacting_resinumber=%{customdata[0]}<br>interactingresi_oneletter=%{customdata[1]}<extra></extra>",
         "legendgroup": "alpha-tubulin, positively charged",
         "marker": {
          "color": "#ff7f0e",
          "opacity": 0.6,
          "size": 10,
          "symbol": "triangle-up"
         },
         "mode": "markers+text",
         "name": "alpha-tubulin, positively charged",
         "orientation": "v",
         "showlegend": true,
         "text": [
          "K",
          "K",
          "K"
         ],
         "textposition": "top center",
         "type": "scatter",
         "x": [
          244,
          259,
          263
         ],
         "xaxis": "x",
         "y": [
          2.517932963371277,
          3.2352123498916625,
          3.3599256753921507
         ],
         "yaxis": "y"
        },
        {
         "customdata": [
          [
           412,
           "G"
          ],
          [
           112,
           "K"
          ],
          [
           108,
           "Y"
          ]
         ],
         "hovertemplate": "Interacting Chain=alpha-tubulin<br>aa_classification=nonpolar<br>Residue Index=%{x}<br>Distance (angstroms)=%{y}<br>residue_one_letter=%{text}<br>interacting_resinumber=%{customdata[0]}<br>interactingresi_oneletter=%{customdata[1]}<extra></extra>",
         "legendgroup": "alpha-tubulin, nonpolar",
         "marker": {
          "color": "#ff7f0e",
          "opacity": 0.6,
          "size": 10,
          "symbol": "circle"
         },
         "mode": "markers+text",
         "name": "alpha-tubulin, nonpolar",
         "orientation": "v",
         "showlegend": true,
         "text": [
          "V",
          "A",
          "L"
         ],
         "textposition": "top center",
         "type": "scatter",
         "x": [
          245,
          250,
          255
         ],
         "xaxis": "x",
         "y": [
          3.202519345283508,
          2.862581729888916,
          3.942168879508972
         ],
         "yaxis": "y"
        },
        {
         "customdata": [
          [
           414,
           "E"
          ],
          [
           409,
           "V"
          ],
          [
           415,
           "E"
          ],
          [
           402,
           "R"
          ],
          [
           420,
           "E"
          ]
         ],
         "hovertemplate": "Interacting Chain=alpha-tubulin<br>aa_classification=polar uncharged<br>Residue Index=%{x}<br>Distance (angstroms)=%{y}<br>residue_one_letter=%{text}<br>interacting_resinumber=%{customdata[0]}<br>interactingresi_oneletter=%{customdata[1]}<extra></extra>",
         "legendgroup": "alpha-tubulin, polar uncharged",
         "marker": {
          "color": "#ff7f0e",
          "opacity": 0.6,
          "size": 10,
          "symbol": "square"
         },
         "mode": "markers+text",
         "name": "alpha-tubulin, polar uncharged",
         "orientation": "v",
         "showlegend": true,
         "text": [
          "S",
          "N",
          "S",
          "N",
          "S"
         ],
         "textposition": "top center",
         "type": "scatter",
         "x": [
          242,
          262,
          266,
          270,
          318
         ],
         "xaxis": "x",
         "y": [
          3.203297972679138,
          3.423445439338684,
          2.641263794898987,
          3.6033035039901735,
          3.584042763710022
         ],
         "yaxis": "y"
        },
        {
         "customdata": [
          [
           112,
           "K"
          ],
          [
           414,
           "E"
          ]
         ],
         "hovertemplate": "Interacting Chain=alpha-tubulin<br>aa_classification=negatively charged<br>Residue Index=%{x}<br>Distance (angstroms)=%{y}<br>residue_one_letter=%{text}<br>interacting_resinumber=%{customdata[0]}<br>interactingresi_oneletter=%{customdata[1]}<extra></extra>",
         "legendgroup": "alpha-tubulin, negatively charged",
         "marker": {
          "color": "#ff7f0e",
          "opacity": 0.6,
          "size": 10,
          "symbol": "triangle-down"
         },
         "mode": "markers+text",
         "name": "alpha-tubulin, negatively charged",
         "orientation": "v",
         "showlegend": true,
         "text": [
          "E",
          "E"
         ],
         "textposition": "top center",
         "type": "scatter",
         "x": [
          251,
          319
         ],
         "xaxis": "x",
         "y": [
          3.6634960889816286,
          3.9973543643951417
         ],
         "yaxis": "y"
        },
        {
         "customdata": [
          [
           157,
           "E"
          ],
          [
           410,
           "E"
          ],
          [
           406,
           "M"
          ],
          [
           412,
           "E"
          ],
          [
           424,
           "Q"
          ],
          [
           424,
           "Q"
          ],
          [
           417,
           "D"
          ]
         ],
         "hovertemplate": "Interacting Chain=beta-tubulin<br>aa_classification=positively charged<br>Residue Index=%{x}<br>Distance (angstroms)=%{y}<br>residue_one_letter=%{text}<br>interacting_resinumber=%{customdata[0]}<br>interactingresi_oneletter=%{customdata[1]}<extra></extra>",
         "legendgroup": "beta-tubulin, positively charged",
         "marker": {
          "color": "#2ca02c",
          "opacity": 0.6,
          "size": 10,
          "symbol": "triangle-up"
         },
         "mode": "markers+text",
         "name": "beta-tubulin, positively charged",
         "orientation": "v",
         "showlegend": true,
         "text": [
          "K",
          "H",
          "K",
          "R",
          "K",
          "H",
          "R"
         ],
         "textposition": "top center",
         "type": "scatter",
         "x": [
          148,
          163,
          166,
          168,
          280,
          282,
          286
         ],
         "xaxis": "x",
         "y": [
          3.2641376733779905,
          2.753365588188172,
          3.495683789253235,
          3.468114185333252,
          3.929962968826294,
          2.743866491317749,
          2.5205702781677246
         ],
         "yaxis": "y"
        },
        {
         "customdata": [
          [
           410,
           "E"
          ]
         ],
         "hovertemplate": "Interacting Chain=beta-tubulin<br>aa_classification=nonpolar<br>Residue Index=%{x}<br>Distance (angstroms)=%{y}<br>residue_one_letter=%{text}<br>interacting_resinumber=%{customdata[0]}<br>interactingresi_oneletter=%{customdata[1]}<extra></extra>",
         "legendgroup": "beta-tubulin, nonpolar",
         "marker": {
          "color": "#2ca02c",
          "opacity": 0.6,
          "size": 10,
          "symbol": "circle"
         },
         "mode": "markers+text",
         "name": "beta-tubulin, nonpolar",
         "orientation": "v",
         "showlegend": true,
         "text": [
          "V"
         ],
         "textposition": "top center",
         "type": "scatter",
         "x": [
          162
         ],
         "xaxis": "x",
         "y": [
          3.106700682640076
         ],
         "yaxis": "y"
        },
        {
         "customdata": [
          [
           157,
           "E"
          ]
         ],
         "hovertemplate": "Interacting Chain=beta-tubulin<br>aa_classification=polar uncharged<br>Residue Index=%{x}<br>Distance (angstroms)=%{y}<br>residue_one_letter=%{text}<br>interacting_resinumber=%{customdata[0]}<br>interactingresi_oneletter=%{customdata[1]}<extra></extra>",
         "legendgroup": "beta-tubulin, polar uncharged",
         "marker": {
          "color": "#2ca02c",
          "opacity": 0.6,
          "size": 10,
          "symbol": "square"
         },
         "mode": "markers+text",
         "name": "beta-tubulin, polar uncharged",
         "orientation": "v",
         "showlegend": true,
         "text": [
          "N"
         ],
         "textposition": "top center",
         "type": "scatter",
         "x": [
          159
         ],
         "xaxis": "x",
         "y": [
          3.131305813789368
         ],
         "yaxis": "y"
        },
        {
         "customdata": [
          [
           413,
           "S"
          ],
          [
           406,
           "M"
          ],
          [
           262,
           "R"
          ]
         ],
         "hovertemplate": "Interacting Chain=beta-tubulin<br>aa_classification=negatively charged<br>Residue Index=%{x}<br>Distance (angstroms)=%{y}<br>residue_one_letter=%{text}<br>interacting_resinumber=%{customdata[0]}<br>interactingresi_oneletter=%{customdata[1]}<extra></extra>",
         "legendgroup": "beta-tubulin, negatively charged",
         "marker": {
          "color": "#2ca02c",
          "opacity": 0.6,
          "size": 10,
          "symbol": "triangle-down"
         },
         "mode": "markers+text",
         "name": "beta-tubulin, negatively charged",
         "orientation": "v",
         "showlegend": true,
         "text": [
          "E",
          "D",
          "D"
         ],
         "textposition": "top center",
         "type": "scatter",
         "x": [
          164,
          165,
          287
         ],
         "xaxis": "x",
         "y": [
          3.2456214427948,
          3.725411796569824,
          3.223245310783386
         ],
         "yaxis": "y"
        },
        {
         "customdata": [
          [
           1,
           "?"
          ],
          [
           1,
           "?"
          ],
          [
           1,
           "?"
          ],
          [
           1,
           "?"
          ],
          [
           1,
           "?"
          ]
         ],
         "hovertemplate": "Interacting Chain=ATP<br>aa_classification=positively charged<br>Residue Index=%{x}<br>Distance (angstroms)=%{y}<br>residue_one_letter=%{text}<br>interacting_resinumber=%{customdata[0]}<br>interactingresi_oneletter=%{customdata[1]}<extra></extra>",
         "legendgroup": "ATP, positively charged",
         "marker": {
          "color": "#d62728",
          "opacity": 0.6,
          "size": 10,
          "symbol": "triangle-up"
         },
         "mode": "markers+text",
         "name": "ATP, positively charged",
         "orientation": "v",
         "showlegend": true,
         "text": [
          "R",
          "R",
          "K",
          "H",
          "H"
         ],
         "textposition": "top center",
         "type": "scatter",
         "x": [
          18,
          20,
          98,
          100,
          207
         ],
         "xaxis": "x",
         "y": [
          3.701220226287842,
          3.549698996543884,
          2.759048843383789,
          2.805315136909485,
          3.993555784225464
         ],
         "yaxis": "y"
        },
        {
         "customdata": [
          [
           1,
           "?"
          ],
          [
           1,
           "?"
          ],
          [
           1,
           "?"
          ],
          [
           1,
           "?"
          ]
         ],
         "hovertemplate": "Interacting Chain=ATP<br>aa_classification=nonpolar<br>Residue Index=%{x}<br>Distance (angstroms)=%{y}<br>residue_one_letter=%{text}<br>interacting_resinumber=%{customdata[0]}<br>interactingresi_oneletter=%{customdata[1]}<extra></extra>",
         "legendgroup": "ATP, nonpolar",
         "marker": {
          "color": "#d62728",
          "opacity": 0.6,
          "size": 10,
          "symbol": "circle"
         },
         "mode": "markers+text",
         "name": "ATP, nonpolar",
         "orientation": "v",
         "showlegend": true,
         "text": [
          "P",
          "G",
          "A",
          "G"
         ],
         "textposition": "top center",
         "type": "scatter",
         "x": [
          21,
          97,
          240,
          241
         ],
         "xaxis": "x",
         "y": [
          3.429464745521545,
          2.994154381752014,
          3.9088396072387694,
          2.912532162666321
         ],
         "yaxis": "y"
        },
        {
         "customdata": [
          [
           1,
           "?"
          ],
          [
           1,
           "?"
          ],
          [
           1,
           "?"
          ],
          [
           1,
           "?"
          ],
          [
           1,
           "?"
          ],
          [
           1,
           "?"
          ]
         ],
         "hovertemplate": "Interacting Chain=ATP<br>aa_classification=polar uncharged<br>Residue Index=%{x}<br>Distance (angstroms)=%{y}<br>residue_one_letter=%{text}<br>interacting_resinumber=%{customdata[0]}<br>interactingresi_oneletter=%{customdata[1]}<extra></extra>",
         "legendgroup": "ATP, polar uncharged",
         "marker": {
          "color": "#d62728",
          "opacity": 0.6,
          "size": 10,
          "symbol": "square"
         },
         "mode": "markers+text",
         "name": "ATP, polar uncharged",
         "orientation": "v",
         "showlegend": true,
         "text": [
          "Q",
          "T",
          "S",
          "S",
          "N",
          "S"
         ],
         "textposition": "top center",
         "type": "scatter",
         "x": [
          93,
          94,
          95,
          96,
          205,
          208
         ],
         "xaxis": "x",
         "y": [
          3.926149868965149,
          2.452829575538636,
          2.849565100669861,
          3.381219911575317,
          3.0340236902236937,
          2.9652478456497198
         ],
         "yaxis": "y"
        }
       ],
       "layout": {
        "autosize": false,
        "height": 600,
        "legend": {
         "title": {
          "text": "Interacting Chain"
         },
         "tracegroupgap": 0
        },
        "shapes": [
         {
          "fillcolor": "LightSkyBlue",
          "layer": "below",
          "line": {
           "width": 0
          },
          "opacity": 0.3,
          "type": "rect",
          "x0": 0,
          "x1": 333,
          "y0": 0,
          "y1": 4.5
         },
         {
          "fillcolor": "LightSalmon",
          "layer": "below",
          "line": {
           "width": 0
          },
          "opacity": 0.3,
          "type": "rect",
          "x0": 333,
          "x1": 600,
          "y0": 0,
          "y1": 4.5
         }
        ],
        "template": {
         "data": {
          "bar": [
           {
            "error_x": {
             "color": "#2a3f5f"
            },
            "error_y": {
             "color": "#2a3f5f"
            },
            "marker": {
             "line": {
              "color": "#E5ECF6",
              "width": 0.5
             },
             "pattern": {
              "fillmode": "overlay",
              "size": 10,
              "solidity": 0.2
             }
            },
            "type": "bar"
           }
          ],
          "barpolar": [
           {
            "marker": {
             "line": {
              "color": "#E5ECF6",
              "width": 0.5
             },
             "pattern": {
              "fillmode": "overlay",
              "size": 10,
              "solidity": 0.2
             }
            },
            "type": "barpolar"
           }
          ],
          "carpet": [
           {
            "aaxis": {
             "endlinecolor": "#2a3f5f",
             "gridcolor": "white",
             "linecolor": "white",
             "minorgridcolor": "white",
             "startlinecolor": "#2a3f5f"
            },
            "baxis": {
             "endlinecolor": "#2a3f5f",
             "gridcolor": "white",
             "linecolor": "white",
             "minorgridcolor": "white",
             "startlinecolor": "#2a3f5f"
            },
            "type": "carpet"
           }
          ],
          "choropleth": [
           {
            "colorbar": {
             "outlinewidth": 0,
             "ticks": ""
            },
            "type": "choropleth"
           }
          ],
          "contour": [
           {
            "colorbar": {
             "outlinewidth": 0,
             "ticks": ""
            },
            "colorscale": [
             [
              0,
              "#0d0887"
             ],
             [
              0.1111111111111111,
              "#46039f"
             ],
             [
              0.2222222222222222,
              "#7201a8"
             ],
             [
              0.3333333333333333,
              "#9c179e"
             ],
             [
              0.4444444444444444,
              "#bd3786"
             ],
             [
              0.5555555555555556,
              "#d8576b"
             ],
             [
              0.6666666666666666,
              "#ed7953"
             ],
             [
              0.7777777777777778,
              "#fb9f3a"
             ],
             [
              0.8888888888888888,
              "#fdca26"
             ],
             [
              1,
              "#f0f921"
             ]
            ],
            "type": "contour"
           }
          ],
          "contourcarpet": [
           {
            "colorbar": {
             "outlinewidth": 0,
             "ticks": ""
            },
            "type": "contourcarpet"
           }
          ],
          "heatmap": [
           {
            "colorbar": {
             "outlinewidth": 0,
             "ticks": ""
            },
            "colorscale": [
             [
              0,
              "#0d0887"
             ],
             [
              0.1111111111111111,
              "#46039f"
             ],
             [
              0.2222222222222222,
              "#7201a8"
             ],
             [
              0.3333333333333333,
              "#9c179e"
             ],
             [
              0.4444444444444444,
              "#bd3786"
             ],
             [
              0.5555555555555556,
              "#d8576b"
             ],
             [
              0.6666666666666666,
              "#ed7953"
             ],
             [
              0.7777777777777778,
              "#fb9f3a"
             ],
             [
              0.8888888888888888,
              "#fdca26"
             ],
             [
              1,
              "#f0f921"
             ]
            ],
            "type": "heatmap"
           }
          ],
          "heatmapgl": [
           {
            "colorbar": {
             "outlinewidth": 0,
             "ticks": ""
            },
            "colorscale": [
             [
              0,
              "#0d0887"
             ],
             [
              0.1111111111111111,
              "#46039f"
             ],
             [
              0.2222222222222222,
              "#7201a8"
             ],
             [
              0.3333333333333333,
              "#9c179e"
             ],
             [
              0.4444444444444444,
              "#bd3786"
             ],
             [
              0.5555555555555556,
              "#d8576b"
             ],
             [
              0.6666666666666666,
              "#ed7953"
             ],
             [
              0.7777777777777778,
              "#fb9f3a"
             ],
             [
              0.8888888888888888,
              "#fdca26"
             ],
             [
              1,
              "#f0f921"
             ]
            ],
            "type": "heatmapgl"
           }
          ],
          "histogram": [
           {
            "marker": {
             "pattern": {
              "fillmode": "overlay",
              "size": 10,
              "solidity": 0.2
             }
            },
            "type": "histogram"
           }
          ],
          "histogram2d": [
           {
            "colorbar": {
             "outlinewidth": 0,
             "ticks": ""
            },
            "colorscale": [
             [
              0,
              "#0d0887"
             ],
             [
              0.1111111111111111,
              "#46039f"
             ],
             [
              0.2222222222222222,
              "#7201a8"
             ],
             [
              0.3333333333333333,
              "#9c179e"
             ],
             [
              0.4444444444444444,
              "#bd3786"
             ],
             [
              0.5555555555555556,
              "#d8576b"
             ],
             [
              0.6666666666666666,
              "#ed7953"
             ],
             [
              0.7777777777777778,
              "#fb9f3a"
             ],
             [
              0.8888888888888888,
              "#fdca26"
             ],
             [
              1,
              "#f0f921"
             ]
            ],
            "type": "histogram2d"
           }
          ],
          "histogram2dcontour": [
           {
            "colorbar": {
             "outlinewidth": 0,
             "ticks": ""
            },
            "colorscale": [
             [
              0,
              "#0d0887"
             ],
             [
              0.1111111111111111,
              "#46039f"
             ],
             [
              0.2222222222222222,
              "#7201a8"
             ],
             [
              0.3333333333333333,
              "#9c179e"
             ],
             [
              0.4444444444444444,
              "#bd3786"
             ],
             [
              0.5555555555555556,
              "#d8576b"
             ],
             [
              0.6666666666666666,
              "#ed7953"
             ],
             [
              0.7777777777777778,
              "#fb9f3a"
             ],
             [
              0.8888888888888888,
              "#fdca26"
             ],
             [
              1,
              "#f0f921"
             ]
            ],
            "type": "histogram2dcontour"
           }
          ],
          "mesh3d": [
           {
            "colorbar": {
             "outlinewidth": 0,
             "ticks": ""
            },
            "type": "mesh3d"
           }
          ],
          "parcoords": [
           {
            "line": {
             "colorbar": {
              "outlinewidth": 0,
              "ticks": ""
             }
            },
            "type": "parcoords"
           }
          ],
          "pie": [
           {
            "automargin": true,
            "type": "pie"
           }
          ],
          "scatter": [
           {
            "fillpattern": {
             "fillmode": "overlay",
             "size": 10,
             "solidity": 0.2
            },
            "type": "scatter"
           }
          ],
          "scatter3d": [
           {
            "line": {
             "colorbar": {
              "outlinewidth": 0,
              "ticks": ""
             }
            },
            "marker": {
             "colorbar": {
              "outlinewidth": 0,
              "ticks": ""
             }
            },
            "type": "scatter3d"
           }
          ],
          "scattercarpet": [
           {
            "marker": {
             "colorbar": {
              "outlinewidth": 0,
              "ticks": ""
             }
            },
            "type": "scattercarpet"
           }
          ],
          "scattergeo": [
           {
            "marker": {
             "colorbar": {
              "outlinewidth": 0,
              "ticks": ""
             }
            },
            "type": "scattergeo"
           }
          ],
          "scattergl": [
           {
            "marker": {
             "colorbar": {
              "outlinewidth": 0,
              "ticks": ""
             }
            },
            "type": "scattergl"
           }
          ],
          "scattermapbox": [
           {
            "marker": {
             "colorbar": {
              "outlinewidth": 0,
              "ticks": ""
             }
            },
            "type": "scattermapbox"
           }
          ],
          "scatterpolar": [
           {
            "marker": {
             "colorbar": {
              "outlinewidth": 0,
              "ticks": ""
             }
            },
            "type": "scatterpolar"
           }
          ],
          "scatterpolargl": [
           {
            "marker": {
             "colorbar": {
              "outlinewidth": 0,
              "ticks": ""
             }
            },
            "type": "scatterpolargl"
           }
          ],
          "scatterternary": [
           {
            "marker": {
             "colorbar": {
              "outlinewidth": 0,
              "ticks": ""
             }
            },
            "type": "scatterternary"
           }
          ],
          "surface": [
           {
            "colorbar": {
             "outlinewidth": 0,
             "ticks": ""
            },
            "colorscale": [
             [
              0,
              "#0d0887"
             ],
             [
              0.1111111111111111,
              "#46039f"
             ],
             [
              0.2222222222222222,
              "#7201a8"
             ],
             [
              0.3333333333333333,
              "#9c179e"
             ],
             [
              0.4444444444444444,
              "#bd3786"
             ],
             [
              0.5555555555555556,
              "#d8576b"
             ],
             [
              0.6666666666666666,
              "#ed7953"
             ],
             [
              0.7777777777777778,
              "#fb9f3a"
             ],
             [
              0.8888888888888888,
              "#fdca26"
             ],
             [
              1,
              "#f0f921"
             ]
            ],
            "type": "surface"
           }
          ],
          "table": [
           {
            "cells": {
             "fill": {
              "color": "#EBF0F8"
             },
             "line": {
              "color": "white"
             }
            },
            "header": {
             "fill": {
              "color": "#C8D4E3"
             },
             "line": {
              "color": "white"
             }
            },
            "type": "table"
           }
          ]
         },
         "layout": {
          "annotationdefaults": {
           "arrowcolor": "#2a3f5f",
           "arrowhead": 0,
           "arrowwidth": 1
          },
          "autotypenumbers": "strict",
          "coloraxis": {
           "colorbar": {
            "outlinewidth": 0,
            "ticks": ""
           }
          },
          "colorscale": {
           "diverging": [
            [
             0,
             "#8e0152"
            ],
            [
             0.1,
             "#c51b7d"
            ],
            [
             0.2,
             "#de77ae"
            ],
            [
             0.3,
             "#f1b6da"
            ],
            [
             0.4,
             "#fde0ef"
            ],
            [
             0.5,
             "#f7f7f7"
            ],
            [
             0.6,
             "#e6f5d0"
            ],
            [
             0.7,
             "#b8e186"
            ],
            [
             0.8,
             "#7fbc41"
            ],
            [
             0.9,
             "#4d9221"
            ],
            [
             1,
             "#276419"
            ]
           ],
           "sequential": [
            [
             0,
             "#0d0887"
            ],
            [
             0.1111111111111111,
             "#46039f"
            ],
            [
             0.2222222222222222,
             "#7201a8"
            ],
            [
             0.3333333333333333,
             "#9c179e"
            ],
            [
             0.4444444444444444,
             "#bd3786"
            ],
            [
             0.5555555555555556,
             "#d8576b"
            ],
            [
             0.6666666666666666,
             "#ed7953"
            ],
            [
             0.7777777777777778,
             "#fb9f3a"
            ],
            [
             0.8888888888888888,
             "#fdca26"
            ],
            [
             1,
             "#f0f921"
            ]
           ],
           "sequentialminus": [
            [
             0,
             "#0d0887"
            ],
            [
             0.1111111111111111,
             "#46039f"
            ],
            [
             0.2222222222222222,
             "#7201a8"
            ],
            [
             0.3333333333333333,
             "#9c179e"
            ],
            [
             0.4444444444444444,
             "#bd3786"
            ],
            [
             0.5555555555555556,
             "#d8576b"
            ],
            [
             0.6666666666666666,
             "#ed7953"
            ],
            [
             0.7777777777777778,
             "#fb9f3a"
            ],
            [
             0.8888888888888888,
             "#fdca26"
            ],
            [
             1,
             "#f0f921"
            ]
           ]
          },
          "colorway": [
           "#636efa",
           "#EF553B",
           "#00cc96",
           "#ab63fa",
           "#FFA15A",
           "#19d3f3",
           "#FF6692",
           "#B6E880",
           "#FF97FF",
           "#FECB52"
          ],
          "font": {
           "color": "#2a3f5f"
          },
          "geo": {
           "bgcolor": "white",
           "lakecolor": "white",
           "landcolor": "#E5ECF6",
           "showlakes": true,
           "showland": true,
           "subunitcolor": "white"
          },
          "hoverlabel": {
           "align": "left"
          },
          "hovermode": "closest",
          "mapbox": {
           "style": "light"
          },
          "paper_bgcolor": "white",
          "plot_bgcolor": "#E5ECF6",
          "polar": {
           "angularaxis": {
            "gridcolor": "white",
            "linecolor": "white",
            "ticks": ""
           },
           "bgcolor": "#E5ECF6",
           "radialaxis": {
            "gridcolor": "white",
            "linecolor": "white",
            "ticks": ""
           }
          },
          "scene": {
           "xaxis": {
            "backgroundcolor": "#E5ECF6",
            "gridcolor": "white",
            "gridwidth": 2,
            "linecolor": "white",
            "showbackground": true,
            "ticks": "",
            "zerolinecolor": "white"
           },
           "yaxis": {
            "backgroundcolor": "#E5ECF6",
            "gridcolor": "white",
            "gridwidth": 2,
            "linecolor": "white",
            "showbackground": true,
            "ticks": "",
            "zerolinecolor": "white"
           },
           "zaxis": {
            "backgroundcolor": "#E5ECF6",
            "gridcolor": "white",
            "gridwidth": 2,
            "linecolor": "white",
            "showbackground": true,
            "ticks": "",
            "zerolinecolor": "white"
           }
          },
          "shapedefaults": {
           "line": {
            "color": "#2a3f5f"
           }
          },
          "ternary": {
           "aaxis": {
            "gridcolor": "white",
            "linecolor": "white",
            "ticks": ""
           },
           "baxis": {
            "gridcolor": "white",
            "linecolor": "white",
            "ticks": ""
           },
           "bgcolor": "#E5ECF6",
           "caxis": {
            "gridcolor": "white",
            "linecolor": "white",
            "ticks": ""
           }
          },
          "title": {
           "x": 0.05
          },
          "xaxis": {
           "automargin": true,
           "gridcolor": "white",
           "linecolor": "white",
           "ticks": "",
           "title": {
            "standoff": 15
           },
           "zerolinecolor": "white",
           "zerolinewidth": 2
          },
          "yaxis": {
           "automargin": true,
           "gridcolor": "white",
           "linecolor": "white",
           "ticks": "",
           "title": {
            "standoff": 15
           },
           "zerolinecolor": "white",
           "zerolinewidth": 2
          }
         }
        },
        "title": {
         "text": "Interactions for E"
        },
        "width": 1600,
        "xaxis": {
         "anchor": "y",
         "domain": [
          0,
          1
         ],
         "dtick": 20,
         "range": [
          0,
          600
         ],
         "title": {
          "text": "Residue Index"
         }
        },
        "yaxis": {
         "anchor": "x",
         "domain": [
          0,
          1
         ],
         "range": [
          1.5,
          4.5
         ],
         "title": {
          "text": "Distance (angstroms)"
         }
        }
       }
      }
     },
     "metadata": {},
     "output_type": "display_data"
    },
    {
     "data": {
      "application/vnd.plotly.v1+json": {
       "config": {
        "plotlyServerURL": "https://plot.ly"
       },
       "data": [
        {
         "customdata": [
          [
           354,
           "E"
          ],
          [
           463,
           "E"
          ],
          [
           470,
           "E"
          ],
          [
           472,
           "E"
          ],
          [
           491,
           "D"
          ],
          [
           528,
           "L"
          ],
          [
           535,
           "S"
          ],
          [
           552,
           "E"
          ],
          [
           578,
           "L"
          ]
         ],
         "hovertemplate": "Interacting Chain=kinesin B<br>aa_classification=positively charged<br>Residue Index=%{x}<br>Distance (angstroms)=%{y}<br>residue_one_letter=%{text}<br>interacting_resinumber=%{customdata[0]}<br>interactingresi_oneletter=%{customdata[1]}<extra></extra>",
         "legendgroup": "kinesin B, positively charged",
         "marker": {
          "color": "#1f77b4",
          "opacity": 0.6,
          "size": 10,
          "symbol": "triangle-up"
         },
         "mode": "markers+text",
         "name": "kinesin B, positively charged",
         "orientation": "v",
         "showlegend": true,
         "text": [
          "K",
          "K",
          "K",
          "K",
          "K",
          "K",
          "R",
          "K",
          "R"
         ],
         "textposition": "top center",
         "type": "scatter",
         "x": [
          359,
          458,
          469,
          473,
          490,
          529,
          536,
          557,
          566
         ],
         "xaxis": "x",
         "y": [
          2.686997985839844,
          2.787076807022095,
          2.5269514322280884,
          2.583792233467102,
          2.507187294960022,
          3.8640532732009887,
          3.534432053565979,
          2.7356958389282227,
          2.826301598548889
         ],
         "yaxis": "y"
        },
        {
         "customdata": [
          [
           344,
           "L"
          ],
          [
           341,
           "A"
          ],
          [
           348,
           "L"
          ],
          [
           347,
           "L"
          ],
          [
           355,
           "I"
          ],
          [
           355,
           "I"
          ],
          [
           362,
           "I"
          ],
          [
           362,
           "I"
          ],
          [
           371,
           "V"
          ],
          [
           376,
           "L"
          ],
          [
           365,
           "L"
          ],
          [
           361,
           "Y"
          ],
          [
           368,
           "V"
          ],
          [
           452,
           "I"
          ],
          [
           452,
           "I"
          ],
          [
           459,
           "C"
          ],
          [
           466,
           "L"
          ],
          [
           466,
           "L"
          ],
          [
           473,
           "K"
          ],
          [
           483,
           "Q"
          ],
          [
           490,
           "K"
          ],
          [
           493,
           "E"
          ],
          [
           501,
           "I"
          ],
          [
           501,
           "I"
          ],
          [
           497,
           "L"
          ],
          [
           508,
           "N"
          ],
          [
           511,
           "Y"
          ],
          [
           518,
           "N"
          ],
          [
           521,
           "L"
          ],
          [
           532,
           "L"
          ],
          [
           532,
           "L"
          ],
          [
           532,
           "L"
          ],
          [
           542,
           "Q"
          ],
          [
           546,
           "I"
          ],
          [
           550,
           "N"
          ],
          [
           556,
           "I"
          ],
          [
           560,
           "L"
          ],
          [
           567,
           "I"
          ],
          [
           563,
           "L"
          ],
          [
           575,
           "I"
          ],
          [
           566,
           "R"
          ]
         ],
         "hovertemplate": "Interacting Chain=kinesin B<br>aa_classification=nonpolar<br>Residue Index=%{x}<br>Distance (angstroms)=%{y}<br>residue_one_letter=%{text}<br>interacting_resinumber=%{customdata[0]}<br>interactingresi_oneletter=%{customdata[1]}<extra></extra>",
         "legendgroup": "kinesin B, nonpolar",
         "marker": {
          "color": "#1f77b4",
          "opacity": 0.6,
          "size": 10,
          "symbol": "circle"
         },
         "mode": "markers+text",
         "name": "kinesin B, nonpolar",
         "orientation": "v",
         "showlegend": true,
         "text": [
          "A",
          "L",
          "L",
          "L",
          "A",
          "I",
          "L",
          "I",
          "L",
          "V",
          "V",
          "V",
          "L",
          "L",
          "I",
          "L",
          "L",
          "L",
          "I",
          "L",
          "I",
          "I",
          "L",
          "M",
          "I",
          "I",
          "L",
          "L",
          "L",
          "L",
          "A",
          "L",
          "A",
          "I",
          "L",
          "I",
          "L",
          "L",
          "I",
          "I",
          "L"
         ],
         "textposition": "top center",
         "type": "scatter",
         "x": [
          341,
          344,
          347,
          348,
          351,
          355,
          358,
          362,
          365,
          368,
          371,
          373,
          376,
          451,
          452,
          455,
          462,
          466,
          476,
          480,
          487,
          494,
          497,
          500,
          501,
          507,
          510,
          521,
          525,
          528,
          531,
          532,
          539,
          546,
          549,
          556,
          560,
          563,
          567,
          575,
          578
         ],
         "xaxis": "x",
         "y": [
          3.291390943527221,
          3.287867760658264,
          3.685367846488953,
          3.650583243370056,
          3.614072847366333,
          3.487148809432983,
          3.324125337600708,
          3.36688084602356,
          3.163348436355591,
          3.265292835235596,
          3.2014095067977903,
          3.2796377182006835,
          3.2910327196121214,
          3.864746904373169,
          3.4938664197921754,
          3.760422706604004,
          3.692964839935303,
          3.20404167175293,
          3.241728639602661,
          3.074919104576111,
          3.206243300437927,
          3.457464647293091,
          2.9288073539733888,
          3.836094045639038,
          2.894764280319214,
          3.522909092903137,
          3.481861877441406,
          2.805086231231689,
          3.4851327180862426,
          3.604237318038941,
          3.370438742637634,
          3.377461791038513,
          2.783088278770447,
          3.389656329154968,
          3.168227577209473,
          3.21988844871521,
          3.466320753097534,
          3.3782357454299925,
          3.455081844329834,
          2.7101889133453367,
          2.8917181491851807
         ],
         "yaxis": "y"
        },
        {
         "customdata": [
          [
           359,
           "K"
          ],
          [
           361,
           "Y"
          ],
          [
           452,
           "I"
          ],
          [
           458,
           "K"
          ],
          [
           469,
           "K"
          ],
          [
           473,
           "K"
          ],
          [
           490,
           "K"
          ],
          [
           494,
           "I"
          ],
          [
           518,
           "N"
          ],
          [
           557,
           "K"
          ]
         ],
         "hovertemplate": "Interacting Chain=kinesin B<br>aa_classification=negatively charged<br>Residue Index=%{x}<br>Distance (angstroms)=%{y}<br>residue_one_letter=%{text}<br>interacting_resinumber=%{customdata[0]}<br>interactingresi_oneletter=%{customdata[1]}<extra></extra>",
         "legendgroup": "kinesin B, negatively charged",
         "marker": {
          "color": "#1f77b4",
          "opacity": 0.6,
          "size": 10,
          "symbol": "triangle-down"
         },
         "mode": "markers+text",
         "name": "kinesin B, negatively charged",
         "orientation": "v",
         "showlegend": true,
         "text": [
          "E",
          "E",
          "D",
          "E",
          "E",
          "E",
          "D",
          "E",
          "E",
          "E"
         ],
         "textposition": "top center",
         "type": "scatter",
         "x": [
          354,
          366,
          448,
          463,
          470,
          472,
          491,
          493,
          517,
          552
         ],
         "xaxis": "x",
         "y": [
          2.7878448009490966,
          3.061697506904602,
          3.889682054519653,
          2.922245955467224,
          2.5810473203659057,
          2.598301768302917,
          2.519495463371277,
          3.4793880224227904,
          3.5177018642425537,
          2.7270685911178587
         ],
         "yaxis": "y"
        },
        {
         "customdata": [
          [
           366,
           "E"
          ],
          [
           369,
           "S"
          ],
          [
           455,
           "L"
          ],
          [
           459,
           "C"
          ],
          [
           466,
           "L"
          ],
          [
           480,
           "L"
          ],
          [
           484,
           "Q"
          ],
          [
           483,
           "Q"
          ],
          [
           487,
           "I"
          ],
          [
           497,
           "L"
          ],
          [
           504,
           "S"
          ],
          [
           507,
           "I"
          ],
          [
           510,
           "L"
          ],
          [
           514,
           "S"
          ],
          [
           514,
           "S"
          ],
          [
           518,
           "N"
          ],
          [
           521,
           "L"
          ],
          [
           525,
           "L"
          ],
          [
           535,
           "S"
          ],
          [
           539,
           "A"
          ],
          [
           542,
           "Q"
          ],
          [
           549,
           "L"
          ],
          [
           553,
           "N"
          ]
         ],
         "hovertemplate": "Interacting Chain=kinesin B<br>aa_classification=polar uncharged<br>Residue Index=%{x}<br>Distance (angstroms)=%{y}<br>residue_one_letter=%{text}<br>interacting_resinumber=%{customdata[0]}<br>interactingresi_oneletter=%{customdata[1]}<extra></extra>",
         "legendgroup": "kinesin B, polar uncharged",
         "marker": {
          "color": "#1f77b4",
          "opacity": 0.6,
          "size": 10,
          "symbol": "square"
         },
         "mode": "markers+text",
         "name": "kinesin B, polar uncharged",
         "orientation": "v",
         "showlegend": true,
         "text": [
          "Y",
          "S",
          "Q",
          "C",
          "Q",
          "Q",
          "Q",
          "Q",
          "Q",
          "N",
          "S",
          "N",
          "Y",
          "S",
          "T",
          "N",
          "N",
          "Q",
          "S",
          "Q",
          "S",
          "N",
          "N"
         ],
         "textposition": "top center",
         "type": "scatter",
         "x": [
          361,
          369,
          456,
          459,
          465,
          479,
          483,
          484,
          486,
          498,
          504,
          508,
          511,
          514,
          515,
          518,
          522,
          524,
          535,
          542,
          543,
          550,
          553
         ],
         "xaxis": "x",
         "y": [
          2.939268922805786,
          3.380984401702881,
          3.931421422958374,
          2.9487516403198244,
          3.45249662399292,
          3.649443578720093,
          2.937744879722595,
          3.010048055648804,
          3.5783576488494875,
          3.331866335868836,
          2.989124321937561,
          3.32883460521698,
          3.370732951164245,
          2.798768186569214,
          3.6079932689666743,
          2.5035706520080567,
          3.3411465883255005,
          3.675775051116944,
          2.7610561847686768,
          2.762822961807251,
          3.756864881515503,
          3.1905575037002563,
          2.5034977912902834
         ],
         "yaxis": "y"
        },
        {
         "customdata": [
          [
           420,
           "E"
          ],
          [
           410,
           "G"
          ],
          [
           409,
           "V"
          ],
          [
           423,
           "E"
          ]
         ],
         "hovertemplate": "Interacting Chain=alpha-tubulin<br>aa_classification=positively charged<br>Residue Index=%{x}<br>Distance (angstroms)=%{y}<br>residue_one_letter=%{text}<br>interacting_resinumber=%{customdata[0]}<br>interactingresi_oneletter=%{customdata[1]}<extra></extra>",
         "legendgroup": "alpha-tubulin, positively charged",
         "marker": {
          "color": "#ff7f0e",
          "opacity": 0.6,
          "size": 10,
          "symbol": "triangle-up"
         },
         "mode": "markers+text",
         "name": "alpha-tubulin, positively charged",
         "orientation": "v",
         "showlegend": true,
         "text": [
          "K",
          "K",
          "K",
          "K"
         ],
         "textposition": "top center",
         "type": "scatter",
         "x": [
          240,
          255,
          259,
          317
         ],
         "xaxis": "x",
         "y": [
          2.5704939126968385,
          3.335310959815979,
          3.4113494157791138,
          2.743473124504089
         ],
         "yaxis": "y"
        },
        {
         "customdata": [
          [
           412,
           "G"
          ],
          [
           112,
           "K"
          ]
         ],
         "hovertemplate": "Interacting Chain=alpha-tubulin<br>aa_classification=nonpolar<br>Residue Index=%{x}<br>Distance (angstroms)=%{y}<br>residue_one_letter=%{text}<br>interacting_resinumber=%{customdata[0]}<br>interactingresi_oneletter=%{customdata[1]}<extra></extra>",
         "legendgroup": "alpha-tubulin, nonpolar",
         "marker": {
          "color": "#ff7f0e",
          "opacity": 0.6,
          "size": 10,
          "symbol": "circle"
         },
         "mode": "markers+text",
         "name": "alpha-tubulin, nonpolar",
         "orientation": "v",
         "showlegend": true,
         "text": [
          "V",
          "A"
         ],
         "textposition": "top center",
         "type": "scatter",
         "x": [
          241,
          246
         ],
         "xaxis": "x",
         "y": [
          3.164076924324036,
          3.2534173488616944
         ],
         "yaxis": "y"
        },
        {
         "customdata": [
          [
           427,
           "A"
          ],
          [
           112,
           "K"
          ]
         ],
         "hovertemplate": "Interacting Chain=alpha-tubulin<br>aa_classification=negatively charged<br>Residue Index=%{x}<br>Distance (angstroms)=%{y}<br>residue_one_letter=%{text}<br>interacting_resinumber=%{customdata[0]}<br>interactingresi_oneletter=%{customdata[1]}<extra></extra>",
         "legendgroup": "alpha-tubulin, negatively charged",
         "marker": {
          "color": "#ff7f0e",
          "opacity": 0.6,
          "size": 10,
          "symbol": "triangle-down"
         },
         "mode": "markers+text",
         "name": "alpha-tubulin, negatively charged",
         "orientation": "v",
         "showlegend": true,
         "text": [
          "E",
          "E"
         ],
         "textposition": "top center",
         "type": "scatter",
         "x": [
          41,
          247
         ],
         "xaxis": "x",
         "y": [
          3.99421751499176,
          3.2315847873687744
         ],
         "yaxis": "y"
        },
        {
         "customdata": [
          [
           414,
           "E"
          ],
          [
           409,
           "V"
          ],
          [
           415,
           "E"
          ],
          [
           402,
           "R"
          ],
          [
           420,
           "E"
          ]
         ],
         "hovertemplate": "Interacting Chain=alpha-tubulin<br>aa_classification=polar uncharged<br>Residue Index=%{x}<br>Distance (angstroms)=%{y}<br>residue_one_letter=%{text}<br>interacting_resinumber=%{customdata[0]}<br>interactingresi_oneletter=%{customdata[1]}<extra></extra>",
         "legendgroup": "alpha-tubulin, polar uncharged",
         "marker": {
          "color": "#ff7f0e",
          "opacity": 0.6,
          "size": 10,
          "symbol": "square"
         },
         "mode": "markers+text",
         "name": "alpha-tubulin, polar uncharged",
         "orientation": "v",
         "showlegend": true,
         "text": [
          "S",
          "N",
          "S",
          "N",
          "S"
         ],
         "textposition": "top center",
         "type": "scatter",
         "x": [
          238,
          258,
          262,
          266,
          314
         ],
         "xaxis": "x",
         "y": [
          3.228451061248779,
          3.483073735237121,
          2.522677779197693,
          3.596494054794312,
          3.7166549444198607
         ],
         "yaxis": "y"
        },
        {
         "customdata": [
          [
           157,
           "E"
          ],
          [
           407,
           "E"
          ],
          [
           407,
           "E"
          ],
          [
           424,
           "Q"
          ],
          [
           424,
           "Q"
          ],
          [
           417,
           "D"
          ],
          [
           194,
           "E"
          ],
          [
           410,
           "E"
          ]
         ],
         "hovertemplate": "Interacting Chain=beta-tubulin<br>aa_classification=positively charged<br>Residue Index=%{x}<br>Distance (angstroms)=%{y}<br>residue_one_letter=%{text}<br>interacting_resinumber=%{customdata[0]}<br>interactingresi_oneletter=%{customdata[1]}<extra></extra>",
         "legendgroup": "beta-tubulin, positively charged",
         "marker": {
          "color": "#2ca02c",
          "opacity": 0.6,
          "size": 10,
          "symbol": "triangle-up"
         },
         "mode": "markers+text",
         "name": "beta-tubulin, positively charged",
         "orientation": "v",
         "showlegend": true,
         "text": [
          "R",
          "K",
          "R",
          "K",
          "H",
          "R",
          "K",
          "R"
         ],
         "textposition": "top center",
         "type": "scatter",
         "x": [
          144,
          157,
          159,
          276,
          278,
          282,
          285,
          288
         ],
         "xaxis": "x",
         "y": [
          2.6825176954269407,
          3.4149497747421265,
          3.124422860145569,
          3.876865601539612,
          2.7049077272415163,
          2.4902745723724364,
          3.5965612649917604,
          3.214361310005188
         ],
         "yaxis": "y"
        },
        {
         "customdata": [
          [
           410,
           "E"
          ],
          [
           406,
           "M"
          ]
         ],
         "hovertemplate": "Interacting Chain=beta-tubulin<br>aa_classification=nonpolar<br>Residue Index=%{x}<br>Distance (angstroms)=%{y}<br>residue_one_letter=%{text}<br>interacting_resinumber=%{customdata[0]}<br>interactingresi_oneletter=%{customdata[1]}<extra></extra>",
         "legendgroup": "beta-tubulin, nonpolar",
         "marker": {
          "color": "#2ca02c",
          "opacity": 0.6,
          "size": 10,
          "symbol": "circle"
         },
         "mode": "markers+text",
         "name": "beta-tubulin, nonpolar",
         "orientation": "v",
         "showlegend": true,
         "text": [
          "V",
          "W"
         ],
         "textposition": "top center",
         "type": "scatter",
         "x": [
          158,
          167
         ],
         "xaxis": "x",
         "y": [
          3.948336863517761,
          3.706804943084717
         ],
         "yaxis": "y"
        },
        {
         "customdata": [
          [
           413,
           "S"
          ],
          [
           262,
           "R"
          ]
         ],
         "hovertemplate": "Interacting Chain=beta-tubulin<br>aa_classification=negatively charged<br>Residue Index=%{x}<br>Distance (angstroms)=%{y}<br>residue_one_letter=%{text}<br>interacting_resinumber=%{customdata[0]}<br>interactingresi_oneletter=%{customdata[1]}<extra></extra>",
         "legendgroup": "beta-tubulin, negatively charged",
         "marker": {
          "color": "#2ca02c",
          "opacity": 0.6,
          "size": 10,
          "symbol": "triangle-down"
         },
         "mode": "markers+text",
         "name": "beta-tubulin, negatively charged",
         "orientation": "v",
         "showlegend": true,
         "text": [
          "E",
          "D"
         ],
         "textposition": "top center",
         "type": "scatter",
         "x": [
          160,
          283
         ],
         "xaxis": "x",
         "y": [
          3.583462595939636,
          3.26152446269989
         ],
         "yaxis": "y"
        },
        {
         "customdata": [
          [
           1,
           "?"
          ],
          [
           1,
           "?"
          ],
          [
           1,
           "?"
          ],
          [
           1,
           "?"
          ]
         ],
         "hovertemplate": "Interacting Chain=ATP<br>aa_classification=positively charged<br>Residue Index=%{x}<br>Distance (angstroms)=%{y}<br>residue_one_letter=%{text}<br>interacting_resinumber=%{customdata[0]}<br>interactingresi_oneletter=%{customdata[1]}<extra></extra>",
         "legendgroup": "ATP, positively charged",
         "marker": {
          "color": "#d62728",
          "opacity": 0.6,
          "size": 10,
          "symbol": "triangle-up"
         },
         "mode": "markers+text",
         "name": "ATP, positively charged",
         "orientation": "v",
         "showlegend": true,
         "text": [
          "R",
          "R",
          "K",
          "H"
         ],
         "textposition": "top center",
         "type": "scatter",
         "x": [
          9,
          11,
          91,
          203
         ],
         "xaxis": "x",
         "y": [
          3.739903664588928,
          3.6914411306381223,
          2.74475154876709,
          3.8668034076690674
         ],
         "yaxis": "y"
        },
        {
         "customdata": [
          [
           1,
           "?"
          ],
          [
           1,
           "?"
          ],
          [
           1,
           "?"
          ],
          [
           1,
           "?"
          ],
          [
           1,
           "?"
          ],
          [
           1,
           "?"
          ]
         ],
         "hovertemplate": "Interacting Chain=ATP<br>aa_classification=nonpolar<br>Residue Index=%{x}<br>Distance (angstroms)=%{y}<br>residue_one_letter=%{text}<br>interacting_resinumber=%{customdata[0]}<br>interactingresi_oneletter=%{customdata[1]}<extra></extra>",
         "legendgroup": "ATP, nonpolar",
         "marker": {
          "color": "#d62728",
          "opacity": 0.6,
          "size": 10,
          "symbol": "circle"
         },
         "mode": "markers+text",
         "name": "ATP, nonpolar",
         "orientation": "v",
         "showlegend": true,
         "text": [
          "P",
          "G",
          "G",
          "F",
          "A",
          "G"
         ],
         "textposition": "top center",
         "type": "scatter",
         "x": [
          12,
          88,
          90,
          93,
          236,
          237
         ],
         "xaxis": "x",
         "y": [
          3.5698248624801634,
          2.8162703275680543,
          3.0357184648513797,
          2.7901347398757936,
          3.876042866706848,
          2.862372756004333
         ],
         "yaxis": "y"
        },
        {
         "customdata": [
          [
           1,
           "?"
          ],
          [
           1,
           "?"
          ],
          [
           1,
           "?"
          ],
          [
           1,
           "?"
          ],
          [
           1,
           "?"
          ]
         ],
         "hovertemplate": "Interacting Chain=ATP<br>aa_classification=polar uncharged<br>Residue Index=%{x}<br>Distance (angstroms)=%{y}<br>residue_one_letter=%{text}<br>interacting_resinumber=%{customdata[0]}<br>interactingresi_oneletter=%{customdata[1]}<extra></extra>",
         "legendgroup": "ATP, polar uncharged",
         "marker": {
          "color": "#d62728",
          "opacity": 0.6,
          "size": 10,
          "symbol": "square"
         },
         "mode": "markers+text",
         "name": "ATP, polar uncharged",
         "orientation": "v",
         "showlegend": true,
         "text": [
          "Q",
          "T",
          "S",
          "N",
          "S"
         ],
         "textposition": "top center",
         "type": "scatter",
         "x": [
          86,
          87,
          89,
          201,
          204
         ],
         "xaxis": "x",
         "y": [
          3.946780467033386,
          2.461433386802673,
          3.4059699058532718,
          2.9055701732635497,
          2.880055403709412
         ],
         "yaxis": "y"
        }
       ],
       "layout": {
        "autosize": false,
        "height": 600,
        "legend": {
         "title": {
          "text": "Interacting Chain"
         },
         "tracegroupgap": 0
        },
        "shapes": [
         {
          "fillcolor": "LightSalmon",
          "layer": "below",
          "line": {
           "width": 0
          },
          "opacity": 0.3,
          "type": "rect",
          "x0": 0,
          "x1": 174,
          "y0": 0,
          "y1": 4.5
         },
         {
          "fillcolor": "LightSkyBlue",
          "layer": "below",
          "line": {
           "width": 0
          },
          "opacity": 0.3,
          "type": "rect",
          "x0": 174,
          "x1": 329,
          "y0": 0,
          "y1": 4.5
         },
         {
          "fillcolor": "LightSalmon",
          "layer": "below",
          "line": {
           "width": 0
          },
          "opacity": 0.3,
          "type": "rect",
          "x0": 329,
          "x1": 600,
          "y0": 0,
          "y1": 4.5
         }
        ],
        "template": {
         "data": {
          "bar": [
           {
            "error_x": {
             "color": "#2a3f5f"
            },
            "error_y": {
             "color": "#2a3f5f"
            },
            "marker": {
             "line": {
              "color": "#E5ECF6",
              "width": 0.5
             },
             "pattern": {
              "fillmode": "overlay",
              "size": 10,
              "solidity": 0.2
             }
            },
            "type": "bar"
           }
          ],
          "barpolar": [
           {
            "marker": {
             "line": {
              "color": "#E5ECF6",
              "width": 0.5
             },
             "pattern": {
              "fillmode": "overlay",
              "size": 10,
              "solidity": 0.2
             }
            },
            "type": "barpolar"
           }
          ],
          "carpet": [
           {
            "aaxis": {
             "endlinecolor": "#2a3f5f",
             "gridcolor": "white",
             "linecolor": "white",
             "minorgridcolor": "white",
             "startlinecolor": "#2a3f5f"
            },
            "baxis": {
             "endlinecolor": "#2a3f5f",
             "gridcolor": "white",
             "linecolor": "white",
             "minorgridcolor": "white",
             "startlinecolor": "#2a3f5f"
            },
            "type": "carpet"
           }
          ],
          "choropleth": [
           {
            "colorbar": {
             "outlinewidth": 0,
             "ticks": ""
            },
            "type": "choropleth"
           }
          ],
          "contour": [
           {
            "colorbar": {
             "outlinewidth": 0,
             "ticks": ""
            },
            "colorscale": [
             [
              0,
              "#0d0887"
             ],
             [
              0.1111111111111111,
              "#46039f"
             ],
             [
              0.2222222222222222,
              "#7201a8"
             ],
             [
              0.3333333333333333,
              "#9c179e"
             ],
             [
              0.4444444444444444,
              "#bd3786"
             ],
             [
              0.5555555555555556,
              "#d8576b"
             ],
             [
              0.6666666666666666,
              "#ed7953"
             ],
             [
              0.7777777777777778,
              "#fb9f3a"
             ],
             [
              0.8888888888888888,
              "#fdca26"
             ],
             [
              1,
              "#f0f921"
             ]
            ],
            "type": "contour"
           }
          ],
          "contourcarpet": [
           {
            "colorbar": {
             "outlinewidth": 0,
             "ticks": ""
            },
            "type": "contourcarpet"
           }
          ],
          "heatmap": [
           {
            "colorbar": {
             "outlinewidth": 0,
             "ticks": ""
            },
            "colorscale": [
             [
              0,
              "#0d0887"
             ],
             [
              0.1111111111111111,
              "#46039f"
             ],
             [
              0.2222222222222222,
              "#7201a8"
             ],
             [
              0.3333333333333333,
              "#9c179e"
             ],
             [
              0.4444444444444444,
              "#bd3786"
             ],
             [
              0.5555555555555556,
              "#d8576b"
             ],
             [
              0.6666666666666666,
              "#ed7953"
             ],
             [
              0.7777777777777778,
              "#fb9f3a"
             ],
             [
              0.8888888888888888,
              "#fdca26"
             ],
             [
              1,
              "#f0f921"
             ]
            ],
            "type": "heatmap"
           }
          ],
          "heatmapgl": [
           {
            "colorbar": {
             "outlinewidth": 0,
             "ticks": ""
            },
            "colorscale": [
             [
              0,
              "#0d0887"
             ],
             [
              0.1111111111111111,
              "#46039f"
             ],
             [
              0.2222222222222222,
              "#7201a8"
             ],
             [
              0.3333333333333333,
              "#9c179e"
             ],
             [
              0.4444444444444444,
              "#bd3786"
             ],
             [
              0.5555555555555556,
              "#d8576b"
             ],
             [
              0.6666666666666666,
              "#ed7953"
             ],
             [
              0.7777777777777778,
              "#fb9f3a"
             ],
             [
              0.8888888888888888,
              "#fdca26"
             ],
             [
              1,
              "#f0f921"
             ]
            ],
            "type": "heatmapgl"
           }
          ],
          "histogram": [
           {
            "marker": {
             "pattern": {
              "fillmode": "overlay",
              "size": 10,
              "solidity": 0.2
             }
            },
            "type": "histogram"
           }
          ],
          "histogram2d": [
           {
            "colorbar": {
             "outlinewidth": 0,
             "ticks": ""
            },
            "colorscale": [
             [
              0,
              "#0d0887"
             ],
             [
              0.1111111111111111,
              "#46039f"
             ],
             [
              0.2222222222222222,
              "#7201a8"
             ],
             [
              0.3333333333333333,
              "#9c179e"
             ],
             [
              0.4444444444444444,
              "#bd3786"
             ],
             [
              0.5555555555555556,
              "#d8576b"
             ],
             [
              0.6666666666666666,
              "#ed7953"
             ],
             [
              0.7777777777777778,
              "#fb9f3a"
             ],
             [
              0.8888888888888888,
              "#fdca26"
             ],
             [
              1,
              "#f0f921"
             ]
            ],
            "type": "histogram2d"
           }
          ],
          "histogram2dcontour": [
           {
            "colorbar": {
             "outlinewidth": 0,
             "ticks": ""
            },
            "colorscale": [
             [
              0,
              "#0d0887"
             ],
             [
              0.1111111111111111,
              "#46039f"
             ],
             [
              0.2222222222222222,
              "#7201a8"
             ],
             [
              0.3333333333333333,
              "#9c179e"
             ],
             [
              0.4444444444444444,
              "#bd3786"
             ],
             [
              0.5555555555555556,
              "#d8576b"
             ],
             [
              0.6666666666666666,
              "#ed7953"
             ],
             [
              0.7777777777777778,
              "#fb9f3a"
             ],
             [
              0.8888888888888888,
              "#fdca26"
             ],
             [
              1,
              "#f0f921"
             ]
            ],
            "type": "histogram2dcontour"
           }
          ],
          "mesh3d": [
           {
            "colorbar": {
             "outlinewidth": 0,
             "ticks": ""
            },
            "type": "mesh3d"
           }
          ],
          "parcoords": [
           {
            "line": {
             "colorbar": {
              "outlinewidth": 0,
              "ticks": ""
             }
            },
            "type": "parcoords"
           }
          ],
          "pie": [
           {
            "automargin": true,
            "type": "pie"
           }
          ],
          "scatter": [
           {
            "fillpattern": {
             "fillmode": "overlay",
             "size": 10,
             "solidity": 0.2
            },
            "type": "scatter"
           }
          ],
          "scatter3d": [
           {
            "line": {
             "colorbar": {
              "outlinewidth": 0,
              "ticks": ""
             }
            },
            "marker": {
             "colorbar": {
              "outlinewidth": 0,
              "ticks": ""
             }
            },
            "type": "scatter3d"
           }
          ],
          "scattercarpet": [
           {
            "marker": {
             "colorbar": {
              "outlinewidth": 0,
              "ticks": ""
             }
            },
            "type": "scattercarpet"
           }
          ],
          "scattergeo": [
           {
            "marker": {
             "colorbar": {
              "outlinewidth": 0,
              "ticks": ""
             }
            },
            "type": "scattergeo"
           }
          ],
          "scattergl": [
           {
            "marker": {
             "colorbar": {
              "outlinewidth": 0,
              "ticks": ""
             }
            },
            "type": "scattergl"
           }
          ],
          "scattermapbox": [
           {
            "marker": {
             "colorbar": {
              "outlinewidth": 0,
              "ticks": ""
             }
            },
            "type": "scattermapbox"
           }
          ],
          "scatterpolar": [
           {
            "marker": {
             "colorbar": {
              "outlinewidth": 0,
              "ticks": ""
             }
            },
            "type": "scatterpolar"
           }
          ],
          "scatterpolargl": [
           {
            "marker": {
             "colorbar": {
              "outlinewidth": 0,
              "ticks": ""
             }
            },
            "type": "scatterpolargl"
           }
          ],
          "scatterternary": [
           {
            "marker": {
             "colorbar": {
              "outlinewidth": 0,
              "ticks": ""
             }
            },
            "type": "scatterternary"
           }
          ],
          "surface": [
           {
            "colorbar": {
             "outlinewidth": 0,
             "ticks": ""
            },
            "colorscale": [
             [
              0,
              "#0d0887"
             ],
             [
              0.1111111111111111,
              "#46039f"
             ],
             [
              0.2222222222222222,
              "#7201a8"
             ],
             [
              0.3333333333333333,
              "#9c179e"
             ],
             [
              0.4444444444444444,
              "#bd3786"
             ],
             [
              0.5555555555555556,
              "#d8576b"
             ],
             [
              0.6666666666666666,
              "#ed7953"
             ],
             [
              0.7777777777777778,
              "#fb9f3a"
             ],
             [
              0.8888888888888888,
              "#fdca26"
             ],
             [
              1,
              "#f0f921"
             ]
            ],
            "type": "surface"
           }
          ],
          "table": [
           {
            "cells": {
             "fill": {
              "color": "#EBF0F8"
             },
             "line": {
              "color": "white"
             }
            },
            "header": {
             "fill": {
              "color": "#C8D4E3"
             },
             "line": {
              "color": "white"
             }
            },
            "type": "table"
           }
          ]
         },
         "layout": {
          "annotationdefaults": {
           "arrowcolor": "#2a3f5f",
           "arrowhead": 0,
           "arrowwidth": 1
          },
          "autotypenumbers": "strict",
          "coloraxis": {
           "colorbar": {
            "outlinewidth": 0,
            "ticks": ""
           }
          },
          "colorscale": {
           "diverging": [
            [
             0,
             "#8e0152"
            ],
            [
             0.1,
             "#c51b7d"
            ],
            [
             0.2,
             "#de77ae"
            ],
            [
             0.3,
             "#f1b6da"
            ],
            [
             0.4,
             "#fde0ef"
            ],
            [
             0.5,
             "#f7f7f7"
            ],
            [
             0.6,
             "#e6f5d0"
            ],
            [
             0.7,
             "#b8e186"
            ],
            [
             0.8,
             "#7fbc41"
            ],
            [
             0.9,
             "#4d9221"
            ],
            [
             1,
             "#276419"
            ]
           ],
           "sequential": [
            [
             0,
             "#0d0887"
            ],
            [
             0.1111111111111111,
             "#46039f"
            ],
            [
             0.2222222222222222,
             "#7201a8"
            ],
            [
             0.3333333333333333,
             "#9c179e"
            ],
            [
             0.4444444444444444,
             "#bd3786"
            ],
            [
             0.5555555555555556,
             "#d8576b"
            ],
            [
             0.6666666666666666,
             "#ed7953"
            ],
            [
             0.7777777777777778,
             "#fb9f3a"
            ],
            [
             0.8888888888888888,
             "#fdca26"
            ],
            [
             1,
             "#f0f921"
            ]
           ],
           "sequentialminus": [
            [
             0,
             "#0d0887"
            ],
            [
             0.1111111111111111,
             "#46039f"
            ],
            [
             0.2222222222222222,
             "#7201a8"
            ],
            [
             0.3333333333333333,
             "#9c179e"
            ],
            [
             0.4444444444444444,
             "#bd3786"
            ],
            [
             0.5555555555555556,
             "#d8576b"
            ],
            [
             0.6666666666666666,
             "#ed7953"
            ],
            [
             0.7777777777777778,
             "#fb9f3a"
            ],
            [
             0.8888888888888888,
             "#fdca26"
            ],
            [
             1,
             "#f0f921"
            ]
           ]
          },
          "colorway": [
           "#636efa",
           "#EF553B",
           "#00cc96",
           "#ab63fa",
           "#FFA15A",
           "#19d3f3",
           "#FF6692",
           "#B6E880",
           "#FF97FF",
           "#FECB52"
          ],
          "font": {
           "color": "#2a3f5f"
          },
          "geo": {
           "bgcolor": "white",
           "lakecolor": "white",
           "landcolor": "#E5ECF6",
           "showlakes": true,
           "showland": true,
           "subunitcolor": "white"
          },
          "hoverlabel": {
           "align": "left"
          },
          "hovermode": "closest",
          "mapbox": {
           "style": "light"
          },
          "paper_bgcolor": "white",
          "plot_bgcolor": "#E5ECF6",
          "polar": {
           "angularaxis": {
            "gridcolor": "white",
            "linecolor": "white",
            "ticks": ""
           },
           "bgcolor": "#E5ECF6",
           "radialaxis": {
            "gridcolor": "white",
            "linecolor": "white",
            "ticks": ""
           }
          },
          "scene": {
           "xaxis": {
            "backgroundcolor": "#E5ECF6",
            "gridcolor": "white",
            "gridwidth": 2,
            "linecolor": "white",
            "showbackground": true,
            "ticks": "",
            "zerolinecolor": "white"
           },
           "yaxis": {
            "backgroundcolor": "#E5ECF6",
            "gridcolor": "white",
            "gridwidth": 2,
            "linecolor": "white",
            "showbackground": true,
            "ticks": "",
            "zerolinecolor": "white"
           },
           "zaxis": {
            "backgroundcolor": "#E5ECF6",
            "gridcolor": "white",
            "gridwidth": 2,
            "linecolor": "white",
            "showbackground": true,
            "ticks": "",
            "zerolinecolor": "white"
           }
          },
          "shapedefaults": {
           "line": {
            "color": "#2a3f5f"
           }
          },
          "ternary": {
           "aaxis": {
            "gridcolor": "white",
            "linecolor": "white",
            "ticks": ""
           },
           "baxis": {
            "gridcolor": "white",
            "linecolor": "white",
            "ticks": ""
           },
           "bgcolor": "#E5ECF6",
           "caxis": {
            "gridcolor": "white",
            "linecolor": "white",
            "ticks": ""
           }
          },
          "title": {
           "x": 0.05
          },
          "xaxis": {
           "automargin": true,
           "gridcolor": "white",
           "linecolor": "white",
           "ticks": "",
           "title": {
            "standoff": 15
           },
           "zerolinecolor": "white",
           "zerolinewidth": 2
          },
          "yaxis": {
           "automargin": true,
           "gridcolor": "white",
           "linecolor": "white",
           "ticks": "",
           "title": {
            "standoff": 15
           },
           "zerolinecolor": "white",
           "zerolinewidth": 2
          }
         }
        },
        "title": {
         "text": "Interactions for F"
        },
        "width": 1600,
        "xaxis": {
         "anchor": "y",
         "domain": [
          0,
          1
         ],
         "dtick": 20,
         "range": [
          0,
          600
         ],
         "title": {
          "text": "Residue Index"
         }
        },
        "yaxis": {
         "anchor": "x",
         "domain": [
          0,
          1
         ],
         "range": [
          1.5,
          4.5
         ],
         "title": {
          "text": "Distance (angstroms)"
         }
        }
       }
      }
     },
     "metadata": {},
     "output_type": "display_data"
    },
    {
     "data": {
      "application/vnd.plotly.v1+json": {
       "config": {
        "plotlyServerURL": "https://plot.ly"
       },
       "data": [
        {
         "customdata": [
          [
           358,
           "E"
          ],
          [
           467,
           "E"
          ],
          [
           474,
           "E"
          ],
          [
           476,
           "E"
          ],
          [
           495,
           "D"
          ],
          [
           532,
           "L"
          ],
          [
           539,
           "S"
          ],
          [
           556,
           "E"
          ],
          [
           582,
           "L"
          ]
         ],
         "hovertemplate": "Interacting Chain=kinesin B<br>aa_classification=positively charged<br>Residue Index=%{x}<br>Distance (angstroms)=%{y}<br>residue_one_letter=%{text}<br>interacting_resinumber=%{customdata[0]}<br>interactingresi_oneletter=%{customdata[1]}<extra></extra>",
         "legendgroup": "kinesin B, positively charged",
         "marker": {
          "color": "#1f77b4",
          "opacity": 0.6,
          "size": 10,
          "symbol": "triangle-up"
         },
         "mode": "markers+text",
         "name": "kinesin B, positively charged",
         "orientation": "v",
         "showlegend": true,
         "text": [
          "K",
          "K",
          "K",
          "K",
          "K",
          "K",
          "R",
          "K",
          "R"
         ],
         "textposition": "top center",
         "type": "scatter",
         "x": [
          363,
          462,
          473,
          477,
          494,
          533,
          540,
          561,
          570
         ],
         "xaxis": "x",
         "y": [
          2.7279095888137816,
          2.8036741971969605,
          2.449685931205749,
          2.578519582748413,
          2.51695876121521,
          3.8134177207946776,
          3.500441074371338,
          2.77519896030426,
          2.582966697216034
         ],
         "yaxis": "y"
        },
        {
         "customdata": [
          [
           348,
           "L"
          ],
          [
           345,
           "A"
          ],
          [
           352,
           "L"
          ],
          [
           351,
           "L"
          ],
          [
           359,
           "I"
          ],
          [
           359,
           "I"
          ],
          [
           366,
           "I"
          ],
          [
           366,
           "I"
          ],
          [
           375,
           "V"
          ],
          [
           369,
           "L"
          ],
          [
           365,
           "Y"
          ],
          [
           456,
           "I"
          ],
          [
           456,
           "I"
          ],
          [
           463,
           "C"
          ],
          [
           470,
           "L"
          ],
          [
           470,
           "L"
          ],
          [
           484,
           "L"
          ],
          [
           480,
           "I"
          ],
          [
           487,
           "Q"
          ],
          [
           494,
           "K"
          ],
          [
           497,
           "E"
          ],
          [
           505,
           "I"
          ],
          [
           505,
           "I"
          ],
          [
           501,
           "L"
          ],
          [
           512,
           "N"
          ],
          [
           515,
           "Y"
          ],
          [
           522,
           "N"
          ],
          [
           525,
           "L"
          ],
          [
           536,
           "L"
          ],
          [
           536,
           "L"
          ],
          [
           536,
           "L"
          ],
          [
           546,
           "Q"
          ],
          [
           550,
           "I"
          ],
          [
           554,
           "N"
          ],
          [
           560,
           "I"
          ],
          [
           564,
           "L"
          ],
          [
           571,
           "I"
          ],
          [
           567,
           "L"
          ],
          [
           579,
           "I"
          ],
          [
           570,
           "R"
          ]
         ],
         "hovertemplate": "Interacting Chain=kinesin B<br>aa_classification=nonpolar<br>Residue Index=%{x}<br>Distance (angstroms)=%{y}<br>residue_one_letter=%{text}<br>interacting_resinumber=%{customdata[0]}<br>interactingresi_oneletter=%{customdata[1]}<extra></extra>",
         "legendgroup": "kinesin B, nonpolar",
         "marker": {
          "color": "#1f77b4",
          "opacity": 0.6,
          "size": 10,
          "symbol": "circle"
         },
         "mode": "markers+text",
         "name": "kinesin B, nonpolar",
         "orientation": "v",
         "showlegend": true,
         "text": [
          "A",
          "L",
          "L",
          "L",
          "A",
          "I",
          "L",
          "I",
          "L",
          "V",
          "V",
          "L",
          "I",
          "L",
          "L",
          "L",
          "I",
          "L",
          "L",
          "I",
          "I",
          "L",
          "M",
          "I",
          "I",
          "L",
          "L",
          "L",
          "L",
          "A",
          "L",
          "A",
          "I",
          "L",
          "I",
          "L",
          "L",
          "I",
          "I",
          "L"
         ],
         "textposition": "top center",
         "type": "scatter",
         "x": [
          345,
          348,
          351,
          352,
          355,
          359,
          362,
          366,
          369,
          375,
          377,
          455,
          456,
          459,
          466,
          470,
          480,
          481,
          484,
          491,
          498,
          501,
          504,
          505,
          511,
          514,
          525,
          529,
          532,
          535,
          536,
          543,
          550,
          553,
          560,
          564,
          567,
          571,
          579,
          582
         ],
         "xaxis": "x",
         "y": [
          3.3310200214385985,
          3.2650293588638304,
          3.696242785453797,
          3.673239517211914,
          3.6028990507125855,
          3.4744903326034544,
          3.314922332763672,
          3.3154162883758547,
          3.385925269126892,
          3.5024258136749267,
          3.3387319564819338,
          3.874275612831116,
          3.48494565486908,
          3.681320643424988,
          3.517020058631897,
          3.1828251123428344,
          3.215083646774292,
          3.9850082874298094,
          3.07120418548584,
          2.9600511312484743,
          3.436501693725586,
          2.959871292114258,
          3.8306902647018433,
          2.888344717025757,
          3.624740767478943,
          3.4398089408874517,
          2.9028125047683715,
          3.45360209941864,
          3.639187932014465,
          3.289267158508301,
          3.229048585891724,
          2.7498443841934206,
          3.378293824195862,
          3.1606238126754764,
          3.209471321105957,
          3.4027854204177856,
          3.30088415145874,
          3.3542405128479005,
          2.5514198303222657,
          2.688455283641815
         ],
         "yaxis": "y"
        },
        {
         "customdata": [
          [
           370,
           "E"
          ],
          [
           373,
           "S"
          ],
          [
           459,
           "L"
          ],
          [
           463,
           "C"
          ],
          [
           470,
           "L"
          ],
          [
           484,
           "L"
          ],
          [
           484,
           "L"
          ],
          [
           487,
           "Q"
          ],
          [
           491,
           "I"
          ],
          [
           501,
           "L"
          ],
          [
           508,
           "S"
          ],
          [
           511,
           "I"
          ],
          [
           514,
           "L"
          ],
          [
           518,
           "S"
          ],
          [
           518,
           "S"
          ],
          [
           522,
           "N"
          ],
          [
           525,
           "L"
          ],
          [
           529,
           "L"
          ],
          [
           539,
           "S"
          ],
          [
           543,
           "A"
          ],
          [
           546,
           "Q"
          ],
          [
           553,
           "L"
          ],
          [
           557,
           "N"
          ],
          [
           564,
           "L"
          ]
         ],
         "hovertemplate": "Interacting Chain=kinesin B<br>aa_classification=polar uncharged<br>Residue Index=%{x}<br>Distance (angstroms)=%{y}<br>residue_one_letter=%{text}<br>interacting_resinumber=%{customdata[0]}<br>interactingresi_oneletter=%{customdata[1]}<extra></extra>",
         "legendgroup": "kinesin B, polar uncharged",
         "marker": {
          "color": "#1f77b4",
          "opacity": 0.6,
          "size": 10,
          "symbol": "square"
         },
         "mode": "markers+text",
         "name": "kinesin B, polar uncharged",
         "orientation": "v",
         "showlegend": true,
         "text": [
          "Y",
          "S",
          "Q",
          "C",
          "Q",
          "Q",
          "Q",
          "Q",
          "Q",
          "N",
          "S",
          "N",
          "Y",
          "S",
          "T",
          "N",
          "N",
          "Q",
          "S",
          "Q",
          "S",
          "N",
          "N",
          "Q"
         ],
         "textposition": "top center",
         "type": "scatter",
         "x": [
          365,
          373,
          460,
          463,
          469,
          483,
          487,
          488,
          490,
          502,
          508,
          512,
          515,
          518,
          519,
          522,
          526,
          528,
          539,
          546,
          547,
          554,
          557,
          563
         ],
         "xaxis": "x",
         "y": [
          2.9865968465805053,
          3.3827482223510743,
          3.879916667938232,
          2.9495235443115235,
          3.3845446586608885,
          3.6429663419723513,
          3.021463274955749,
          2.9955172777175902,
          3.563080596923828,
          3.412465143203735,
          3.137796950340271,
          3.4950589895248414,
          3.352513003349304,
          2.7752016305923464,
          3.532336640357971,
          2.398294687271118,
          3.295356678962708,
          3.6368600130081177,
          2.760967326164246,
          2.7437679529190064,
          3.658347320556641,
          3.1708978176116944,
          2.521105718612671,
          3.980924892425537
         ],
         "yaxis": "y"
        },
        {
         "customdata": [
          [
           363,
           "K"
          ],
          [
           365,
           "Y"
          ],
          [
           456,
           "I"
          ],
          [
           462,
           "K"
          ],
          [
           473,
           "K"
          ],
          [
           477,
           "K"
          ],
          [
           494,
           "K"
          ],
          [
           498,
           "I"
          ],
          [
           522,
           "N"
          ],
          [
           561,
           "K"
          ]
         ],
         "hovertemplate": "Interacting Chain=kinesin B<br>aa_classification=negatively charged<br>Residue Index=%{x}<br>Distance (angstroms)=%{y}<br>residue_one_letter=%{text}<br>interacting_resinumber=%{customdata[0]}<br>interactingresi_oneletter=%{customdata[1]}<extra></extra>",
         "legendgroup": "kinesin B, negatively charged",
         "marker": {
          "color": "#1f77b4",
          "opacity": 0.6,
          "size": 10,
          "symbol": "triangle-down"
         },
         "mode": "markers+text",
         "name": "kinesin B, negatively charged",
         "orientation": "v",
         "showlegend": true,
         "text": [
          "E",
          "E",
          "D",
          "E",
          "E",
          "E",
          "D",
          "E",
          "E",
          "E"
         ],
         "textposition": "top center",
         "type": "scatter",
         "x": [
          358,
          370,
          452,
          467,
          474,
          476,
          495,
          497,
          521,
          556
         ],
         "xaxis": "x",
         "y": [
          2.8970296382904053,
          3.145521569252014,
          3.686295914649963,
          2.818626880645752,
          2.4281399846076965,
          2.5667675971984862,
          2.5456621170043947,
          3.4119380712509155,
          3.534664273262024,
          2.7460077524185182
         ],
         "yaxis": "y"
        },
        {
         "customdata": [
          [
           420,
           "E"
          ],
          [
           109,
           "T"
          ],
          [
           409,
           "V"
          ],
          [
           423,
           "E"
          ]
         ],
         "hovertemplate": "Interacting Chain=alpha-tubulin<br>aa_classification=positively charged<br>Residue Index=%{x}<br>Distance (angstroms)=%{y}<br>residue_one_letter=%{text}<br>interacting_resinumber=%{customdata[0]}<br>interactingresi_oneletter=%{customdata[1]}<extra></extra>",
         "legendgroup": "alpha-tubulin, positively charged",
         "marker": {
          "color": "#ff7f0e",
          "opacity": 0.6,
          "size": 10,
          "symbol": "triangle-up"
         },
         "mode": "markers+text",
         "name": "alpha-tubulin, positively charged",
         "orientation": "v",
         "showlegend": true,
         "text": [
          "K",
          "K",
          "K",
          "R"
         ],
         "textposition": "top center",
         "type": "scatter",
         "x": [
          244,
          259,
          263,
          325
         ],
         "xaxis": "x",
         "y": [
          2.5240608930587767,
          3.194501042366028,
          3.3468525886535643,
          3.281700778007507
         ],
         "yaxis": "y"
        },
        {
         "customdata": [
          [
           412,
           "G"
          ],
          [
           112,
           "K"
          ],
          [
           420,
           "E"
          ]
         ],
         "hovertemplate": "Interacting Chain=alpha-tubulin<br>aa_classification=nonpolar<br>Residue Index=%{x}<br>Distance (angstroms)=%{y}<br>residue_one_letter=%{text}<br>interacting_resinumber=%{customdata[0]}<br>interactingresi_oneletter=%{customdata[1]}<extra></extra>",
         "legendgroup": "alpha-tubulin, nonpolar",
         "marker": {
          "color": "#ff7f0e",
          "opacity": 0.6,
          "size": 10,
          "symbol": "circle"
         },
         "mode": "markers+text",
         "name": "alpha-tubulin, nonpolar",
         "orientation": "v",
         "showlegend": true,
         "text": [
          "I",
          "A",
          "A"
         ],
         "textposition": "top center",
         "type": "scatter",
         "x": [
          245,
          250,
          318
         ],
         "xaxis": "x",
         "y": [
          2.9821834802627563,
          2.993379282951355,
          3.441461992263794
         ],
         "yaxis": "y"
        },
        {
         "customdata": [
          [
           414,
           "E"
          ],
          [
           409,
           "V"
          ],
          [
           415,
           "E"
          ],
          [
           402,
           "R"
          ]
         ],
         "hovertemplate": "Interacting Chain=alpha-tubulin<br>aa_classification=polar uncharged<br>Residue Index=%{x}<br>Distance (angstroms)=%{y}<br>residue_one_letter=%{text}<br>interacting_resinumber=%{customdata[0]}<br>interactingresi_oneletter=%{customdata[1]}<extra></extra>",
         "legendgroup": "alpha-tubulin, polar uncharged",
         "marker": {
          "color": "#ff7f0e",
          "opacity": 0.6,
          "size": 10,
          "symbol": "square"
         },
         "mode": "markers+text",
         "name": "alpha-tubulin, polar uncharged",
         "orientation": "v",
         "showlegend": true,
         "text": [
          "S",
          "N",
          "S",
          "N"
         ],
         "textposition": "top center",
         "type": "scatter",
         "x": [
          242,
          262,
          266,
          270
         ],
         "xaxis": "x",
         "y": [
          3.1016319036483764,
          3.4365184545516967,
          2.644986605644226,
          3.463376331329345
         ],
         "yaxis": "y"
        },
        {
         "customdata": [
          [
           157,
           "E"
          ],
          [
           410,
           "E"
          ],
          [
           406,
           "M"
          ],
          [
           412,
           "E"
          ],
          [
           432,
           "E"
          ],
          [
           424,
           "Q"
          ],
          [
           417,
           "D"
          ]
         ],
         "hovertemplate": "Interacting Chain=beta-tubulin<br>aa_classification=positively charged<br>Residue Index=%{x}<br>Distance (angstroms)=%{y}<br>residue_one_letter=%{text}<br>interacting_resinumber=%{customdata[0]}<br>interactingresi_oneletter=%{customdata[1]}<extra></extra>",
         "legendgroup": "beta-tubulin, positively charged",
         "marker": {
          "color": "#2ca02c",
          "opacity": 0.6,
          "size": 10,
          "symbol": "triangle-up"
         },
         "mode": "markers+text",
         "name": "beta-tubulin, positively charged",
         "orientation": "v",
         "showlegend": true,
         "text": [
          "K",
          "H",
          "K",
          "R",
          "K",
          "H",
          "R"
         ],
         "textposition": "top center",
         "type": "scatter",
         "x": [
          148,
          163,
          166,
          168,
          279,
          282,
          286
         ],
         "xaxis": "x",
         "y": [
          3.195234274864197,
          2.679276204109192,
          3.644639492034912,
          3.506588172912598,
          3.5457541704177857,
          2.869028186798096,
          2.488125467300415
         ],
         "yaxis": "y"
        },
        {
         "customdata": [
          [
           410,
           "E"
          ]
         ],
         "hovertemplate": "Interacting Chain=beta-tubulin<br>aa_classification=nonpolar<br>Residue Index=%{x}<br>Distance (angstroms)=%{y}<br>residue_one_letter=%{text}<br>interacting_resinumber=%{customdata[0]}<br>interactingresi_oneletter=%{customdata[1]}<extra></extra>",
         "legendgroup": "beta-tubulin, nonpolar",
         "marker": {
          "color": "#2ca02c",
          "opacity": 0.6,
          "size": 10,
          "symbol": "circle"
         },
         "mode": "markers+text",
         "name": "beta-tubulin, nonpolar",
         "orientation": "v",
         "showlegend": true,
         "text": [
          "V"
         ],
         "textposition": "top center",
         "type": "scatter",
         "x": [
          162
         ],
         "xaxis": "x",
         "y": [
          3.0483668565750124
         ],
         "yaxis": "y"
        },
        {
         "customdata": [
          [
           157,
           "E"
          ],
          [
           424,
           "Q"
          ],
          [
           424,
           "Q"
          ]
         ],
         "hovertemplate": "Interacting Chain=beta-tubulin<br>aa_classification=polar uncharged<br>Residue Index=%{x}<br>Distance (angstroms)=%{y}<br>residue_one_letter=%{text}<br>interacting_resinumber=%{customdata[0]}<br>interactingresi_oneletter=%{customdata[1]}<extra></extra>",
         "legendgroup": "beta-tubulin, polar uncharged",
         "marker": {
          "color": "#2ca02c",
          "opacity": 0.6,
          "size": 10,
          "symbol": "square"
         },
         "mode": "markers+text",
         "name": "beta-tubulin, polar uncharged",
         "orientation": "v",
         "showlegend": true,
         "text": [
          "N",
          "S",
          "T"
         ],
         "textposition": "top center",
         "type": "scatter",
         "x": [
          159,
          280,
          281
         ],
         "xaxis": "x",
         "y": [
          3.2285605669021606,
          3.6109907388687135,
          3.785573148727417
         ],
         "yaxis": "y"
        },
        {
         "customdata": [
          [
           413,
           "S"
          ],
          [
           406,
           "M"
          ],
          [
           262,
           "R"
          ]
         ],
         "hovertemplate": "Interacting Chain=beta-tubulin<br>aa_classification=negatively charged<br>Residue Index=%{x}<br>Distance (angstroms)=%{y}<br>residue_one_letter=%{text}<br>interacting_resinumber=%{customdata[0]}<br>interactingresi_oneletter=%{customdata[1]}<extra></extra>",
         "legendgroup": "beta-tubulin, negatively charged",
         "marker": {
          "color": "#2ca02c",
          "opacity": 0.6,
          "size": 10,
          "symbol": "triangle-down"
         },
         "mode": "markers+text",
         "name": "beta-tubulin, negatively charged",
         "orientation": "v",
         "showlegend": true,
         "text": [
          "E",
          "D",
          "D"
         ],
         "textposition": "top center",
         "type": "scatter",
         "x": [
          164,
          165,
          287
         ],
         "xaxis": "x",
         "y": [
          3.2237205028533937,
          3.915936279296875,
          3.2493725061416625
         ],
         "yaxis": "y"
        },
        {
         "customdata": [
          [
           1,
           "?"
          ],
          [
           1,
           "?"
          ],
          [
           1,
           "?"
          ],
          [
           1,
           "?"
          ]
         ],
         "hovertemplate": "Interacting Chain=ATP<br>aa_classification=positively charged<br>Residue Index=%{x}<br>Distance (angstroms)=%{y}<br>residue_one_letter=%{text}<br>interacting_resinumber=%{customdata[0]}<br>interactingresi_oneletter=%{customdata[1]}<extra></extra>",
         "legendgroup": "ATP, positively charged",
         "marker": {
          "color": "#d62728",
          "opacity": 0.6,
          "size": 10,
          "symbol": "triangle-up"
         },
         "mode": "markers+text",
         "name": "ATP, positively charged",
         "orientation": "v",
         "showlegend": true,
         "text": [
          "R",
          "R",
          "K",
          "H"
         ],
         "textposition": "top center",
         "type": "scatter",
         "x": [
          18,
          20,
          98,
          100
         ],
         "xaxis": "x",
         "y": [
          3.8184415817260735,
          3.556167292594909,
          2.7771350860595705,
          2.8844461917877195
         ],
         "yaxis": "y"
        },
        {
         "customdata": [
          [
           1,
           "?"
          ],
          [
           1,
           "?"
          ],
          [
           1,
           "?"
          ],
          [
           1,
           "?"
          ]
         ],
         "hovertemplate": "Interacting Chain=ATP<br>aa_classification=nonpolar<br>Residue Index=%{x}<br>Distance (angstroms)=%{y}<br>residue_one_letter=%{text}<br>interacting_resinumber=%{customdata[0]}<br>interactingresi_oneletter=%{customdata[1]}<extra></extra>",
         "legendgroup": "ATP, nonpolar",
         "marker": {
          "color": "#d62728",
          "opacity": 0.6,
          "size": 10,
          "symbol": "circle"
         },
         "mode": "markers+text",
         "name": "ATP, nonpolar",
         "orientation": "v",
         "showlegend": true,
         "text": [
          "P",
          "G",
          "A",
          "G"
         ],
         "textposition": "top center",
         "type": "scatter",
         "x": [
          21,
          97,
          240,
          241
         ],
         "xaxis": "x",
         "y": [
          3.460982394218445,
          2.9811397552490235,
          3.989383864402771,
          2.9466264963150026
         ],
         "yaxis": "y"
        },
        {
         "customdata": [
          [
           1,
           "?"
          ],
          [
           1,
           "?"
          ],
          [
           1,
           "?"
          ],
          [
           1,
           "?"
          ],
          [
           1,
           "?"
          ],
          [
           1,
           "?"
          ]
         ],
         "hovertemplate": "Interacting Chain=ATP<br>aa_classification=polar uncharged<br>Residue Index=%{x}<br>Distance (angstroms)=%{y}<br>residue_one_letter=%{text}<br>interacting_resinumber=%{customdata[0]}<br>interactingresi_oneletter=%{customdata[1]}<extra></extra>",
         "legendgroup": "ATP, polar uncharged",
         "marker": {
          "color": "#d62728",
          "opacity": 0.6,
          "size": 10,
          "symbol": "square"
         },
         "mode": "markers+text",
         "name": "ATP, polar uncharged",
         "orientation": "v",
         "showlegend": true,
         "text": [
          "Q",
          "T",
          "S",
          "S",
          "N",
          "S"
         ],
         "textposition": "top center",
         "type": "scatter",
         "x": [
          93,
          94,
          95,
          96,
          205,
          208
         ],
         "xaxis": "x",
         "y": [
          3.852722239494324,
          2.3679495811462403,
          2.7697231769561768,
          3.308909177780152,
          2.995638704299927,
          2.8946600437164305
         ],
         "yaxis": "y"
        }
       ],
       "layout": {
        "autosize": false,
        "height": 600,
        "legend": {
         "title": {
          "text": "Interacting Chain"
         },
         "tracegroupgap": 0
        },
        "shapes": [
         {
          "fillcolor": "LightSkyBlue",
          "layer": "below",
          "line": {
           "width": 0
          },
          "opacity": 0.3,
          "type": "rect",
          "x0": 0,
          "x1": 178,
          "y0": 0,
          "y1": 4.5
         },
         {
          "fillcolor": "LightSalmon",
          "layer": "below",
          "line": {
           "width": 0
          },
          "opacity": 0.3,
          "type": "rect",
          "x0": 178,
          "x1": 600,
          "y0": 0,
          "y1": 4.5
         }
        ],
        "template": {
         "data": {
          "bar": [
           {
            "error_x": {
             "color": "#2a3f5f"
            },
            "error_y": {
             "color": "#2a3f5f"
            },
            "marker": {
             "line": {
              "color": "#E5ECF6",
              "width": 0.5
             },
             "pattern": {
              "fillmode": "overlay",
              "size": 10,
              "solidity": 0.2
             }
            },
            "type": "bar"
           }
          ],
          "barpolar": [
           {
            "marker": {
             "line": {
              "color": "#E5ECF6",
              "width": 0.5
             },
             "pattern": {
              "fillmode": "overlay",
              "size": 10,
              "solidity": 0.2
             }
            },
            "type": "barpolar"
           }
          ],
          "carpet": [
           {
            "aaxis": {
             "endlinecolor": "#2a3f5f",
             "gridcolor": "white",
             "linecolor": "white",
             "minorgridcolor": "white",
             "startlinecolor": "#2a3f5f"
            },
            "baxis": {
             "endlinecolor": "#2a3f5f",
             "gridcolor": "white",
             "linecolor": "white",
             "minorgridcolor": "white",
             "startlinecolor": "#2a3f5f"
            },
            "type": "carpet"
           }
          ],
          "choropleth": [
           {
            "colorbar": {
             "outlinewidth": 0,
             "ticks": ""
            },
            "type": "choropleth"
           }
          ],
          "contour": [
           {
            "colorbar": {
             "outlinewidth": 0,
             "ticks": ""
            },
            "colorscale": [
             [
              0,
              "#0d0887"
             ],
             [
              0.1111111111111111,
              "#46039f"
             ],
             [
              0.2222222222222222,
              "#7201a8"
             ],
             [
              0.3333333333333333,
              "#9c179e"
             ],
             [
              0.4444444444444444,
              "#bd3786"
             ],
             [
              0.5555555555555556,
              "#d8576b"
             ],
             [
              0.6666666666666666,
              "#ed7953"
             ],
             [
              0.7777777777777778,
              "#fb9f3a"
             ],
             [
              0.8888888888888888,
              "#fdca26"
             ],
             [
              1,
              "#f0f921"
             ]
            ],
            "type": "contour"
           }
          ],
          "contourcarpet": [
           {
            "colorbar": {
             "outlinewidth": 0,
             "ticks": ""
            },
            "type": "contourcarpet"
           }
          ],
          "heatmap": [
           {
            "colorbar": {
             "outlinewidth": 0,
             "ticks": ""
            },
            "colorscale": [
             [
              0,
              "#0d0887"
             ],
             [
              0.1111111111111111,
              "#46039f"
             ],
             [
              0.2222222222222222,
              "#7201a8"
             ],
             [
              0.3333333333333333,
              "#9c179e"
             ],
             [
              0.4444444444444444,
              "#bd3786"
             ],
             [
              0.5555555555555556,
              "#d8576b"
             ],
             [
              0.6666666666666666,
              "#ed7953"
             ],
             [
              0.7777777777777778,
              "#fb9f3a"
             ],
             [
              0.8888888888888888,
              "#fdca26"
             ],
             [
              1,
              "#f0f921"
             ]
            ],
            "type": "heatmap"
           }
          ],
          "heatmapgl": [
           {
            "colorbar": {
             "outlinewidth": 0,
             "ticks": ""
            },
            "colorscale": [
             [
              0,
              "#0d0887"
             ],
             [
              0.1111111111111111,
              "#46039f"
             ],
             [
              0.2222222222222222,
              "#7201a8"
             ],
             [
              0.3333333333333333,
              "#9c179e"
             ],
             [
              0.4444444444444444,
              "#bd3786"
             ],
             [
              0.5555555555555556,
              "#d8576b"
             ],
             [
              0.6666666666666666,
              "#ed7953"
             ],
             [
              0.7777777777777778,
              "#fb9f3a"
             ],
             [
              0.8888888888888888,
              "#fdca26"
             ],
             [
              1,
              "#f0f921"
             ]
            ],
            "type": "heatmapgl"
           }
          ],
          "histogram": [
           {
            "marker": {
             "pattern": {
              "fillmode": "overlay",
              "size": 10,
              "solidity": 0.2
             }
            },
            "type": "histogram"
           }
          ],
          "histogram2d": [
           {
            "colorbar": {
             "outlinewidth": 0,
             "ticks": ""
            },
            "colorscale": [
             [
              0,
              "#0d0887"
             ],
             [
              0.1111111111111111,
              "#46039f"
             ],
             [
              0.2222222222222222,
              "#7201a8"
             ],
             [
              0.3333333333333333,
              "#9c179e"
             ],
             [
              0.4444444444444444,
              "#bd3786"
             ],
             [
              0.5555555555555556,
              "#d8576b"
             ],
             [
              0.6666666666666666,
              "#ed7953"
             ],
             [
              0.7777777777777778,
              "#fb9f3a"
             ],
             [
              0.8888888888888888,
              "#fdca26"
             ],
             [
              1,
              "#f0f921"
             ]
            ],
            "type": "histogram2d"
           }
          ],
          "histogram2dcontour": [
           {
            "colorbar": {
             "outlinewidth": 0,
             "ticks": ""
            },
            "colorscale": [
             [
              0,
              "#0d0887"
             ],
             [
              0.1111111111111111,
              "#46039f"
             ],
             [
              0.2222222222222222,
              "#7201a8"
             ],
             [
              0.3333333333333333,
              "#9c179e"
             ],
             [
              0.4444444444444444,
              "#bd3786"
             ],
             [
              0.5555555555555556,
              "#d8576b"
             ],
             [
              0.6666666666666666,
              "#ed7953"
             ],
             [
              0.7777777777777778,
              "#fb9f3a"
             ],
             [
              0.8888888888888888,
              "#fdca26"
             ],
             [
              1,
              "#f0f921"
             ]
            ],
            "type": "histogram2dcontour"
           }
          ],
          "mesh3d": [
           {
            "colorbar": {
             "outlinewidth": 0,
             "ticks": ""
            },
            "type": "mesh3d"
           }
          ],
          "parcoords": [
           {
            "line": {
             "colorbar": {
              "outlinewidth": 0,
              "ticks": ""
             }
            },
            "type": "parcoords"
           }
          ],
          "pie": [
           {
            "automargin": true,
            "type": "pie"
           }
          ],
          "scatter": [
           {
            "fillpattern": {
             "fillmode": "overlay",
             "size": 10,
             "solidity": 0.2
            },
            "type": "scatter"
           }
          ],
          "scatter3d": [
           {
            "line": {
             "colorbar": {
              "outlinewidth": 0,
              "ticks": ""
             }
            },
            "marker": {
             "colorbar": {
              "outlinewidth": 0,
              "ticks": ""
             }
            },
            "type": "scatter3d"
           }
          ],
          "scattercarpet": [
           {
            "marker": {
             "colorbar": {
              "outlinewidth": 0,
              "ticks": ""
             }
            },
            "type": "scattercarpet"
           }
          ],
          "scattergeo": [
           {
            "marker": {
             "colorbar": {
              "outlinewidth": 0,
              "ticks": ""
             }
            },
            "type": "scattergeo"
           }
          ],
          "scattergl": [
           {
            "marker": {
             "colorbar": {
              "outlinewidth": 0,
              "ticks": ""
             }
            },
            "type": "scattergl"
           }
          ],
          "scattermapbox": [
           {
            "marker": {
             "colorbar": {
              "outlinewidth": 0,
              "ticks": ""
             }
            },
            "type": "scattermapbox"
           }
          ],
          "scatterpolar": [
           {
            "marker": {
             "colorbar": {
              "outlinewidth": 0,
              "ticks": ""
             }
            },
            "type": "scatterpolar"
           }
          ],
          "scatterpolargl": [
           {
            "marker": {
             "colorbar": {
              "outlinewidth": 0,
              "ticks": ""
             }
            },
            "type": "scatterpolargl"
           }
          ],
          "scatterternary": [
           {
            "marker": {
             "colorbar": {
              "outlinewidth": 0,
              "ticks": ""
             }
            },
            "type": "scatterternary"
           }
          ],
          "surface": [
           {
            "colorbar": {
             "outlinewidth": 0,
             "ticks": ""
            },
            "colorscale": [
             [
              0,
              "#0d0887"
             ],
             [
              0.1111111111111111,
              "#46039f"
             ],
             [
              0.2222222222222222,
              "#7201a8"
             ],
             [
              0.3333333333333333,
              "#9c179e"
             ],
             [
              0.4444444444444444,
              "#bd3786"
             ],
             [
              0.5555555555555556,
              "#d8576b"
             ],
             [
              0.6666666666666666,
              "#ed7953"
             ],
             [
              0.7777777777777778,
              "#fb9f3a"
             ],
             [
              0.8888888888888888,
              "#fdca26"
             ],
             [
              1,
              "#f0f921"
             ]
            ],
            "type": "surface"
           }
          ],
          "table": [
           {
            "cells": {
             "fill": {
              "color": "#EBF0F8"
             },
             "line": {
              "color": "white"
             }
            },
            "header": {
             "fill": {
              "color": "#C8D4E3"
             },
             "line": {
              "color": "white"
             }
            },
            "type": "table"
           }
          ]
         },
         "layout": {
          "annotationdefaults": {
           "arrowcolor": "#2a3f5f",
           "arrowhead": 0,
           "arrowwidth": 1
          },
          "autotypenumbers": "strict",
          "coloraxis": {
           "colorbar": {
            "outlinewidth": 0,
            "ticks": ""
           }
          },
          "colorscale": {
           "diverging": [
            [
             0,
             "#8e0152"
            ],
            [
             0.1,
             "#c51b7d"
            ],
            [
             0.2,
             "#de77ae"
            ],
            [
             0.3,
             "#f1b6da"
            ],
            [
             0.4,
             "#fde0ef"
            ],
            [
             0.5,
             "#f7f7f7"
            ],
            [
             0.6,
             "#e6f5d0"
            ],
            [
             0.7,
             "#b8e186"
            ],
            [
             0.8,
             "#7fbc41"
            ],
            [
             0.9,
             "#4d9221"
            ],
            [
             1,
             "#276419"
            ]
           ],
           "sequential": [
            [
             0,
             "#0d0887"
            ],
            [
             0.1111111111111111,
             "#46039f"
            ],
            [
             0.2222222222222222,
             "#7201a8"
            ],
            [
             0.3333333333333333,
             "#9c179e"
            ],
            [
             0.4444444444444444,
             "#bd3786"
            ],
            [
             0.5555555555555556,
             "#d8576b"
            ],
            [
             0.6666666666666666,
             "#ed7953"
            ],
            [
             0.7777777777777778,
             "#fb9f3a"
            ],
            [
             0.8888888888888888,
             "#fdca26"
            ],
            [
             1,
             "#f0f921"
            ]
           ],
           "sequentialminus": [
            [
             0,
             "#0d0887"
            ],
            [
             0.1111111111111111,
             "#46039f"
            ],
            [
             0.2222222222222222,
             "#7201a8"
            ],
            [
             0.3333333333333333,
             "#9c179e"
            ],
            [
             0.4444444444444444,
             "#bd3786"
            ],
            [
             0.5555555555555556,
             "#d8576b"
            ],
            [
             0.6666666666666666,
             "#ed7953"
            ],
            [
             0.7777777777777778,
             "#fb9f3a"
            ],
            [
             0.8888888888888888,
             "#fdca26"
            ],
            [
             1,
             "#f0f921"
            ]
           ]
          },
          "colorway": [
           "#636efa",
           "#EF553B",
           "#00cc96",
           "#ab63fa",
           "#FFA15A",
           "#19d3f3",
           "#FF6692",
           "#B6E880",
           "#FF97FF",
           "#FECB52"
          ],
          "font": {
           "color": "#2a3f5f"
          },
          "geo": {
           "bgcolor": "white",
           "lakecolor": "white",
           "landcolor": "#E5ECF6",
           "showlakes": true,
           "showland": true,
           "subunitcolor": "white"
          },
          "hoverlabel": {
           "align": "left"
          },
          "hovermode": "closest",
          "mapbox": {
           "style": "light"
          },
          "paper_bgcolor": "white",
          "plot_bgcolor": "#E5ECF6",
          "polar": {
           "angularaxis": {
            "gridcolor": "white",
            "linecolor": "white",
            "ticks": ""
           },
           "bgcolor": "#E5ECF6",
           "radialaxis": {
            "gridcolor": "white",
            "linecolor": "white",
            "ticks": ""
           }
          },
          "scene": {
           "xaxis": {
            "backgroundcolor": "#E5ECF6",
            "gridcolor": "white",
            "gridwidth": 2,
            "linecolor": "white",
            "showbackground": true,
            "ticks": "",
            "zerolinecolor": "white"
           },
           "yaxis": {
            "backgroundcolor": "#E5ECF6",
            "gridcolor": "white",
            "gridwidth": 2,
            "linecolor": "white",
            "showbackground": true,
            "ticks": "",
            "zerolinecolor": "white"
           },
           "zaxis": {
            "backgroundcolor": "#E5ECF6",
            "gridcolor": "white",
            "gridwidth": 2,
            "linecolor": "white",
            "showbackground": true,
            "ticks": "",
            "zerolinecolor": "white"
           }
          },
          "shapedefaults": {
           "line": {
            "color": "#2a3f5f"
           }
          },
          "ternary": {
           "aaxis": {
            "gridcolor": "white",
            "linecolor": "white",
            "ticks": ""
           },
           "baxis": {
            "gridcolor": "white",
            "linecolor": "white",
            "ticks": ""
           },
           "bgcolor": "#E5ECF6",
           "caxis": {
            "gridcolor": "white",
            "linecolor": "white",
            "ticks": ""
           }
          },
          "title": {
           "x": 0.05
          },
          "xaxis": {
           "automargin": true,
           "gridcolor": "white",
           "linecolor": "white",
           "ticks": "",
           "title": {
            "standoff": 15
           },
           "zerolinecolor": "white",
           "zerolinewidth": 2
          },
          "yaxis": {
           "automargin": true,
           "gridcolor": "white",
           "linecolor": "white",
           "ticks": "",
           "title": {
            "standoff": 15
           },
           "zerolinecolor": "white",
           "zerolinewidth": 2
          }
         }
        },
        "title": {
         "text": "Interactions for G"
        },
        "width": 1600,
        "xaxis": {
         "anchor": "y",
         "domain": [
          0,
          1
         ],
         "dtick": 20,
         "range": [
          0,
          600
         ],
         "title": {
          "text": "Residue Index"
         }
        },
        "yaxis": {
         "anchor": "x",
         "domain": [
          0,
          1
         ],
         "range": [
          1.5,
          4.5
         ],
         "title": {
          "text": "Distance (angstroms)"
         }
        }
       }
      }
     },
     "metadata": {},
     "output_type": "display_data"
    },
    {
     "data": {
      "application/vnd.plotly.v1+json": {
       "config": {
        "plotlyServerURL": "https://plot.ly"
       },
       "data": [
        {
         "customdata": [
          [
           354,
           "E"
          ],
          [
           463,
           "E"
          ],
          [
           470,
           "E"
          ],
          [
           472,
           "E"
          ],
          [
           491,
           "D"
          ],
          [
           528,
           "L"
          ],
          [
           535,
           "S"
          ],
          [
           552,
           "E"
          ],
          [
           578,
           "L"
          ]
         ],
         "hovertemplate": "Interacting Chain=kinesin B<br>aa_classification=positively charged<br>Residue Index=%{x}<br>Distance (angstroms)=%{y}<br>residue_one_letter=%{text}<br>interacting_resinumber=%{customdata[0]}<br>interactingresi_oneletter=%{customdata[1]}<extra></extra>",
         "legendgroup": "kinesin B, positively charged",
         "marker": {
          "color": "#1f77b4",
          "opacity": 0.6,
          "size": 10,
          "symbol": "triangle-up"
         },
         "mode": "markers+text",
         "name": "kinesin B, positively charged",
         "orientation": "v",
         "showlegend": true,
         "text": [
          "K",
          "K",
          "K",
          "K",
          "K",
          "K",
          "R",
          "K",
          "R"
         ],
         "textposition": "top center",
         "type": "scatter",
         "x": [
          359,
          458,
          469,
          473,
          490,
          529,
          536,
          557,
          566
         ],
         "xaxis": "x",
         "y": [
          2.6424670934677126,
          2.86236469745636,
          2.485845947265625,
          2.5413446187973023,
          2.508242964744568,
          3.825415587425232,
          3.4713897705078125,
          2.702314639091492,
          2.8831740617752075
         ],
         "yaxis": "y"
        },
        {
         "customdata": [
          [
           344,
           "L"
          ],
          [
           341,
           "A"
          ],
          [
           348,
           "L"
          ],
          [
           347,
           "L"
          ],
          [
           355,
           "I"
          ],
          [
           355,
           "I"
          ],
          [
           362,
           "I"
          ],
          [
           362,
           "I"
          ],
          [
           371,
           "V"
          ],
          [
           376,
           "L"
          ],
          [
           365,
           "L"
          ],
          [
           361,
           "Y"
          ],
          [
           368,
           "V"
          ],
          [
           452,
           "I"
          ],
          [
           452,
           "I"
          ],
          [
           459,
           "C"
          ],
          [
           466,
           "L"
          ],
          [
           466,
           "L"
          ],
          [
           480,
           "L"
          ],
          [
           483,
           "Q"
          ],
          [
           490,
           "K"
          ],
          [
           493,
           "E"
          ],
          [
           501,
           "I"
          ],
          [
           501,
           "I"
          ],
          [
           497,
           "L"
          ],
          [
           508,
           "N"
          ],
          [
           511,
           "Y"
          ],
          [
           518,
           "N"
          ],
          [
           521,
           "L"
          ],
          [
           525,
           "L"
          ],
          [
           532,
           "L"
          ],
          [
           532,
           "L"
          ],
          [
           542,
           "Q"
          ],
          [
           546,
           "I"
          ],
          [
           550,
           "N"
          ],
          [
           556,
           "I"
          ],
          [
           560,
           "L"
          ],
          [
           567,
           "I"
          ],
          [
           563,
           "L"
          ],
          [
           575,
           "I"
          ],
          [
           566,
           "R"
          ]
         ],
         "hovertemplate": "Interacting Chain=kinesin B<br>aa_classification=nonpolar<br>Residue Index=%{x}<br>Distance (angstroms)=%{y}<br>residue_one_letter=%{text}<br>interacting_resinumber=%{customdata[0]}<br>interactingresi_oneletter=%{customdata[1]}<extra></extra>",
         "legendgroup": "kinesin B, nonpolar",
         "marker": {
          "color": "#1f77b4",
          "opacity": 0.6,
          "size": 10,
          "symbol": "circle"
         },
         "mode": "markers+text",
         "name": "kinesin B, nonpolar",
         "orientation": "v",
         "showlegend": true,
         "text": [
          "A",
          "L",
          "L",
          "L",
          "A",
          "I",
          "L",
          "I",
          "L",
          "V",
          "V",
          "V",
          "L",
          "L",
          "I",
          "L",
          "L",
          "L",
          "I",
          "L",
          "I",
          "I",
          "L",
          "M",
          "I",
          "I",
          "L",
          "L",
          "L",
          "L",
          "A",
          "L",
          "A",
          "I",
          "L",
          "I",
          "L",
          "L",
          "I",
          "I",
          "L"
         ],
         "textposition": "top center",
         "type": "scatter",
         "x": [
          341,
          344,
          347,
          348,
          351,
          355,
          358,
          362,
          365,
          368,
          371,
          373,
          376,
          451,
          452,
          455,
          462,
          466,
          476,
          480,
          487,
          494,
          497,
          500,
          501,
          507,
          510,
          521,
          525,
          528,
          531,
          532,
          539,
          546,
          549,
          556,
          560,
          563,
          567,
          575,
          578
         ],
         "xaxis": "x",
         "y": [
          3.311200571060181,
          3.284237265586853,
          3.680532908439636,
          3.6648807287216183,
          3.631865930557251,
          3.500070714950561,
          3.332305145263672,
          3.3432955980300902,
          3.1967314958572386,
          3.226457500457764,
          3.2446255922317504,
          3.2285767078399656,
          3.293030524253845,
          3.943799924850464,
          3.574724626541138,
          3.7901511192321777,
          3.7086848258972167,
          3.1773547649383547,
          3.2800464630126958,
          3.057886481285095,
          3.0878762006759644,
          3.489536452293396,
          2.9683322429656984,
          3.859188723564148,
          2.900012183189392,
          3.497017741203308,
          3.4684164762496947,
          2.9113455057144164,
          3.467368412017822,
          3.5766973733901977,
          3.3279216289520264,
          3.360805535316467,
          2.7375017404556274,
          3.380741047859192,
          3.126839804649353,
          3.2010239362716675,
          3.479959774017334,
          3.3734829664230346,
          3.414933609962463,
          2.752541303634644,
          2.955101799964905
         ],
         "yaxis": "y"
        },
        {
         "customdata": [
          [
           366,
           "E"
          ],
          [
           369,
           "S"
          ],
          [
           455,
           "L"
          ],
          [
           459,
           "C"
          ],
          [
           466,
           "L"
          ],
          [
           480,
           "L"
          ],
          [
           480,
           "L"
          ],
          [
           483,
           "Q"
          ],
          [
           487,
           "I"
          ],
          [
           497,
           "L"
          ],
          [
           504,
           "S"
          ],
          [
           507,
           "I"
          ],
          [
           510,
           "L"
          ],
          [
           514,
           "S"
          ],
          [
           514,
           "S"
          ],
          [
           518,
           "N"
          ],
          [
           521,
           "L"
          ],
          [
           525,
           "L"
          ],
          [
           535,
           "S"
          ],
          [
           539,
           "A"
          ],
          [
           542,
           "Q"
          ],
          [
           549,
           "L"
          ],
          [
           553,
           "N"
          ],
          [
           560,
           "L"
          ]
         ],
         "hovertemplate": "Interacting Chain=kinesin B<br>aa_classification=polar uncharged<br>Residue Index=%{x}<br>Distance (angstroms)=%{y}<br>residue_one_letter=%{text}<br>interacting_resinumber=%{customdata[0]}<br>interactingresi_oneletter=%{customdata[1]}<extra></extra>",
         "legendgroup": "kinesin B, polar uncharged",
         "marker": {
          "color": "#1f77b4",
          "opacity": 0.6,
          "size": 10,
          "symbol": "square"
         },
         "mode": "markers+text",
         "name": "kinesin B, polar uncharged",
         "orientation": "v",
         "showlegend": true,
         "text": [
          "Y",
          "S",
          "Q",
          "C",
          "Q",
          "Q",
          "Q",
          "Q",
          "Q",
          "N",
          "S",
          "N",
          "Y",
          "S",
          "T",
          "N",
          "N",
          "Q",
          "S",
          "Q",
          "S",
          "N",
          "N",
          "Q"
         ],
         "textposition": "top center",
         "type": "scatter",
         "x": [
          361,
          369,
          456,
          459,
          465,
          479,
          483,
          484,
          486,
          498,
          504,
          508,
          511,
          514,
          515,
          518,
          522,
          524,
          535,
          542,
          543,
          550,
          553,
          559
         ],
         "xaxis": "x",
         "y": [
          2.928434944152832,
          3.387674570083618,
          3.976951146125794,
          2.9864014863967894,
          3.423482656478882,
          3.673248624801636,
          3.0829856157302857,
          3.094578075408936,
          3.556925058364868,
          3.344797468185425,
          2.963688087463379,
          3.373018479347229,
          3.391083669662476,
          2.784971308708191,
          3.534790635108948,
          2.3416834712028503,
          3.272780919075012,
          3.66424880027771,
          2.80708646774292,
          2.688737988471985,
          3.7738735675811768,
          3.1863406896591187,
          2.4019604682922364,
          3.980756378173828
         ],
         "yaxis": "y"
        },
        {
         "customdata": [
          [
           359,
           "K"
          ],
          [
           361,
           "Y"
          ],
          [
           452,
           "I"
          ],
          [
           458,
           "K"
          ],
          [
           469,
           "K"
          ],
          [
           473,
           "K"
          ],
          [
           490,
           "K"
          ],
          [
           494,
           "I"
          ],
          [
           518,
           "N"
          ],
          [
           557,
           "K"
          ]
         ],
         "hovertemplate": "Interacting Chain=kinesin B<br>aa_classification=negatively charged<br>Residue Index=%{x}<br>Distance (angstroms)=%{y}<br>residue_one_letter=%{text}<br>interacting_resinumber=%{customdata[0]}<br>interactingresi_oneletter=%{customdata[1]}<extra></extra>",
         "legendgroup": "kinesin B, negatively charged",
         "marker": {
          "color": "#1f77b4",
          "opacity": 0.6,
          "size": 10,
          "symbol": "triangle-down"
         },
         "mode": "markers+text",
         "name": "kinesin B, negatively charged",
         "orientation": "v",
         "showlegend": true,
         "text": [
          "E",
          "E",
          "D",
          "E",
          "E",
          "E",
          "D",
          "E",
          "E",
          "E"
         ],
         "textposition": "top center",
         "type": "scatter",
         "x": [
          354,
          366,
          448,
          463,
          470,
          472,
          491,
          493,
          517,
          552
         ],
         "xaxis": "x",
         "y": [
          2.8193334102630616,
          3.098718857765198,
          3.9190962314605713,
          2.788233518600464,
          2.469082796573639,
          2.6085618019104,
          2.501247453689575,
          3.4826371669769287,
          3.507398176193237,
          2.699551677703857
         ],
         "yaxis": "y"
        },
        {
         "customdata": [
          [
           420,
           "E"
          ],
          [
           410,
           "G"
          ],
          [
           409,
           "V"
          ],
          [
           423,
           "E"
          ]
         ],
         "hovertemplate": "Interacting Chain=alpha-tubulin<br>aa_classification=positively charged<br>Residue Index=%{x}<br>Distance (angstroms)=%{y}<br>residue_one_letter=%{text}<br>interacting_resinumber=%{customdata[0]}<br>interactingresi_oneletter=%{customdata[1]}<extra></extra>",
         "legendgroup": "alpha-tubulin, positively charged",
         "marker": {
          "color": "#ff7f0e",
          "opacity": 0.6,
          "size": 10,
          "symbol": "triangle-up"
         },
         "mode": "markers+text",
         "name": "alpha-tubulin, positively charged",
         "orientation": "v",
         "showlegend": true,
         "text": [
          "K",
          "K",
          "K",
          "R"
         ],
         "textposition": "top center",
         "type": "scatter",
         "x": [
          240,
          255,
          259,
          321
         ],
         "xaxis": "x",
         "y": [
          2.5620284557342528,
          3.389649200439453,
          3.3763010025024416,
          2.921049761772156
         ],
         "yaxis": "y"
        },
        {
         "customdata": [
          [
           412,
           "G"
          ],
          [
           112,
           "K"
          ],
          [
           420,
           "E"
          ]
         ],
         "hovertemplate": "Interacting Chain=alpha-tubulin<br>aa_classification=nonpolar<br>Residue Index=%{x}<br>Distance (angstroms)=%{y}<br>residue_one_letter=%{text}<br>interacting_resinumber=%{customdata[0]}<br>interactingresi_oneletter=%{customdata[1]}<extra></extra>",
         "legendgroup": "alpha-tubulin, nonpolar",
         "marker": {
          "color": "#ff7f0e",
          "opacity": 0.6,
          "size": 10,
          "symbol": "circle"
         },
         "mode": "markers+text",
         "name": "alpha-tubulin, nonpolar",
         "orientation": "v",
         "showlegend": true,
         "text": [
          "I",
          "A",
          "A"
         ],
         "textposition": "top center",
         "type": "scatter",
         "x": [
          241,
          246,
          314
         ],
         "xaxis": "x",
         "y": [
          2.9925493955612184,
          3.2953132152557374,
          3.3554245710372923
         ],
         "yaxis": "y"
        },
        {
         "customdata": [
          [
           414,
           "E"
          ],
          [
           409,
           "V"
          ],
          [
           415,
           "E"
          ],
          [
           402,
           "R"
          ]
         ],
         "hovertemplate": "Interacting Chain=alpha-tubulin<br>aa_classification=polar uncharged<br>Residue Index=%{x}<br>Distance (angstroms)=%{y}<br>residue_one_letter=%{text}<br>interacting_resinumber=%{customdata[0]}<br>interactingresi_oneletter=%{customdata[1]}<extra></extra>",
         "legendgroup": "alpha-tubulin, polar uncharged",
         "marker": {
          "color": "#ff7f0e",
          "opacity": 0.6,
          "size": 10,
          "symbol": "square"
         },
         "mode": "markers+text",
         "name": "alpha-tubulin, polar uncharged",
         "orientation": "v",
         "showlegend": true,
         "text": [
          "S",
          "N",
          "S",
          "N"
         ],
         "textposition": "top center",
         "type": "scatter",
         "x": [
          238,
          258,
          262,
          266
         ],
         "xaxis": "x",
         "y": [
          2.9700947523117067,
          3.4492257118225096,
          2.5466698169708253,
          3.3689355134963987
         ],
         "yaxis": "y"
        },
        {
         "customdata": [
          [
           157,
           "E"
          ],
          [
           407,
           "E"
          ],
          [
           407,
           "E"
          ],
          [
           432,
           "E"
          ],
          [
           424,
           "Q"
          ],
          [
           417,
           "D"
          ],
          [
           194,
           "E"
          ],
          [
           410,
           "E"
          ]
         ],
         "hovertemplate": "Interacting Chain=beta-tubulin<br>aa_classification=positively charged<br>Residue Index=%{x}<br>Distance (angstroms)=%{y}<br>residue_one_letter=%{text}<br>interacting_resinumber=%{customdata[0]}<br>interactingresi_oneletter=%{customdata[1]}<extra></extra>",
         "legendgroup": "beta-tubulin, positively charged",
         "marker": {
          "color": "#2ca02c",
          "opacity": 0.6,
          "size": 10,
          "symbol": "triangle-up"
         },
         "mode": "markers+text",
         "name": "beta-tubulin, positively charged",
         "orientation": "v",
         "showlegend": true,
         "text": [
          "R",
          "K",
          "R",
          "K",
          "H",
          "R",
          "K",
          "R"
         ],
         "textposition": "top center",
         "type": "scatter",
         "x": [
          144,
          157,
          159,
          275,
          278,
          282,
          285,
          288
         ],
         "xaxis": "x",
         "y": [
          2.603360056877136,
          3.449798822402954,
          3.03724045753479,
          3.4231210708618165,
          2.8688048124313354,
          2.461688065528869,
          3.560118532180786,
          3.566113305091858
         ],
         "yaxis": "y"
        },
        {
         "customdata": [
          [
           410,
           "E"
          ],
          [
           406,
           "M"
          ]
         ],
         "hovertemplate": "Interacting Chain=beta-tubulin<br>aa_classification=nonpolar<br>Residue Index=%{x}<br>Distance (angstroms)=%{y}<br>residue_one_letter=%{text}<br>interacting_resinumber=%{customdata[0]}<br>interactingresi_oneletter=%{customdata[1]}<extra></extra>",
         "legendgroup": "beta-tubulin, nonpolar",
         "marker": {
          "color": "#2ca02c",
          "opacity": 0.6,
          "size": 10,
          "symbol": "circle"
         },
         "mode": "markers+text",
         "name": "beta-tubulin, nonpolar",
         "orientation": "v",
         "showlegend": true,
         "text": [
          "V",
          "W"
         ],
         "textposition": "top center",
         "type": "scatter",
         "x": [
          158,
          167
         ],
         "xaxis": "x",
         "y": [
          3.669753360748291,
          3.823030614852905
         ],
         "yaxis": "y"
        },
        {
         "customdata": [
          [
           424,
           "Q"
          ],
          [
           424,
           "Q"
          ]
         ],
         "hovertemplate": "Interacting Chain=beta-tubulin<br>aa_classification=polar uncharged<br>Residue Index=%{x}<br>Distance (angstroms)=%{y}<br>residue_one_letter=%{text}<br>interacting_resinumber=%{customdata[0]}<br>interactingresi_oneletter=%{customdata[1]}<extra></extra>",
         "legendgroup": "beta-tubulin, polar uncharged",
         "marker": {
          "color": "#2ca02c",
          "opacity": 0.6,
          "size": 10,
          "symbol": "square"
         },
         "mode": "markers+text",
         "name": "beta-tubulin, polar uncharged",
         "orientation": "v",
         "showlegend": true,
         "text": [
          "S",
          "T"
         ],
         "textposition": "top center",
         "type": "scatter",
         "x": [
          276,
          277
         ],
         "xaxis": "x",
         "y": [
          3.5755556344985964,
          3.5081250429153443
         ],
         "yaxis": "y"
        },
        {
         "customdata": [
          [
           413,
           "S"
          ],
          [
           406,
           "M"
          ],
          [
           262,
           "R"
          ]
         ],
         "hovertemplate": "Interacting Chain=beta-tubulin<br>aa_classification=negatively charged<br>Residue Index=%{x}<br>Distance (angstroms)=%{y}<br>residue_one_letter=%{text}<br>interacting_resinumber=%{customdata[0]}<br>interactingresi_oneletter=%{customdata[1]}<extra></extra>",
         "legendgroup": "beta-tubulin, negatively charged",
         "marker": {
          "color": "#2ca02c",
          "opacity": 0.6,
          "size": 10,
          "symbol": "triangle-down"
         },
         "mode": "markers+text",
         "name": "beta-tubulin, negatively charged",
         "orientation": "v",
         "showlegend": true,
         "text": [
          "E",
          "E",
          "D"
         ],
         "textposition": "top center",
         "type": "scatter",
         "x": [
          160,
          169,
          283
         ],
         "xaxis": "x",
         "y": [
          3.270085072517395,
          3.861469578742981,
          3.2126027822494505
         ],
         "yaxis": "y"
        },
        {
         "customdata": [
          [
           1,
           "?"
          ],
          [
           1,
           "?"
          ],
          [
           1,
           "?"
          ]
         ],
         "hovertemplate": "Interacting Chain=ATP<br>aa_classification=positively charged<br>Residue Index=%{x}<br>Distance (angstroms)=%{y}<br>residue_one_letter=%{text}<br>interacting_resinumber=%{customdata[0]}<br>interactingresi_oneletter=%{customdata[1]}<extra></extra>",
         "legendgroup": "ATP, positively charged",
         "marker": {
          "color": "#d62728",
          "opacity": 0.6,
          "size": 10,
          "symbol": "triangle-up"
         },
         "mode": "markers+text",
         "name": "ATP, positively charged",
         "orientation": "v",
         "showlegend": true,
         "text": [
          "R",
          "R",
          "K"
         ],
         "textposition": "top center",
         "type": "scatter",
         "x": [
          9,
          11,
          91
         ],
         "xaxis": "x",
         "y": [
          3.695200276374817,
          3.665112519264221,
          2.687024688720703
         ],
         "yaxis": "y"
        },
        {
         "customdata": [
          [
           1,
           "?"
          ],
          [
           1,
           "?"
          ],
          [
           1,
           "?"
          ],
          [
           1,
           "?"
          ],
          [
           1,
           "?"
          ],
          [
           1,
           "?"
          ]
         ],
         "hovertemplate": "Interacting Chain=ATP<br>aa_classification=nonpolar<br>Residue Index=%{x}<br>Distance (angstroms)=%{y}<br>residue_one_letter=%{text}<br>interacting_resinumber=%{customdata[0]}<br>interactingresi_oneletter=%{customdata[1]}<extra></extra>",
         "legendgroup": "ATP, nonpolar",
         "marker": {
          "color": "#d62728",
          "opacity": 0.6,
          "size": 10,
          "symbol": "circle"
         },
         "mode": "markers+text",
         "name": "ATP, nonpolar",
         "orientation": "v",
         "showlegend": true,
         "text": [
          "P",
          "G",
          "G",
          "F",
          "A",
          "G"
         ],
         "textposition": "top center",
         "type": "scatter",
         "x": [
          12,
          88,
          90,
          93,
          236,
          237
         ],
         "xaxis": "x",
         "y": [
          3.6745458126068113,
          2.806225633621216,
          3.029023861885071,
          2.7144546508789062,
          3.835130500793457,
          2.8098355770111083
         ],
         "yaxis": "y"
        },
        {
         "customdata": [
          [
           1,
           "?"
          ],
          [
           1,
           "?"
          ],
          [
           1,
           "?"
          ],
          [
           1,
           "?"
          ],
          [
           1,
           "?"
          ]
         ],
         "hovertemplate": "Interacting Chain=ATP<br>aa_classification=polar uncharged<br>Residue Index=%{x}<br>Distance (angstroms)=%{y}<br>residue_one_letter=%{text}<br>interacting_resinumber=%{customdata[0]}<br>interactingresi_oneletter=%{customdata[1]}<extra></extra>",
         "legendgroup": "ATP, polar uncharged",
         "marker": {
          "color": "#d62728",
          "opacity": 0.6,
          "size": 10,
          "symbol": "square"
         },
         "mode": "markers+text",
         "name": "ATP, polar uncharged",
         "orientation": "v",
         "showlegend": true,
         "text": [
          "Q",
          "T",
          "S",
          "N",
          "S"
         ],
         "textposition": "top center",
         "type": "scatter",
         "x": [
          86,
          87,
          89,
          201,
          204
         ],
         "xaxis": "x",
         "y": [
          3.9097769975662233,
          2.5218859910964966,
          3.4044379711151125,
          3.023973298072815,
          2.912883758544922
         ],
         "yaxis": "y"
        },
        {
         "customdata": [
          [
           1,
           "?"
          ]
         ],
         "hovertemplate": "Interacting Chain=ATP<br>aa_classification=negatively charged<br>Residue Index=%{x}<br>Distance (angstroms)=%{y}<br>residue_one_letter=%{text}<br>interacting_resinumber=%{customdata[0]}<br>interactingresi_oneletter=%{customdata[1]}<extra></extra>",
         "legendgroup": "ATP, negatively charged",
         "marker": {
          "color": "#d62728",
          "opacity": 0.6,
          "size": 10,
          "symbol": "triangle-down"
         },
         "mode": "markers+text",
         "name": "ATP, negatively charged",
         "orientation": "v",
         "showlegend": true,
         "text": [
          "E"
         ],
         "textposition": "top center",
         "type": "scatter",
         "x": [
          203
         ],
         "xaxis": "x",
         "y": [
          3.974664378166199
         ],
         "yaxis": "y"
        }
       ],
       "layout": {
        "autosize": false,
        "height": 600,
        "legend": {
         "title": {
          "text": "Interacting Chain"
         },
         "tracegroupgap": 0
        },
        "shapes": [
         {
          "fillcolor": "LightSalmon",
          "layer": "below",
          "line": {
           "width": 0
          },
          "opacity": 0.3,
          "type": "rect",
          "x0": 0,
          "x1": 600,
          "y0": 0,
          "y1": 4.5
         }
        ],
        "template": {
         "data": {
          "bar": [
           {
            "error_x": {
             "color": "#2a3f5f"
            },
            "error_y": {
             "color": "#2a3f5f"
            },
            "marker": {
             "line": {
              "color": "#E5ECF6",
              "width": 0.5
             },
             "pattern": {
              "fillmode": "overlay",
              "size": 10,
              "solidity": 0.2
             }
            },
            "type": "bar"
           }
          ],
          "barpolar": [
           {
            "marker": {
             "line": {
              "color": "#E5ECF6",
              "width": 0.5
             },
             "pattern": {
              "fillmode": "overlay",
              "size": 10,
              "solidity": 0.2
             }
            },
            "type": "barpolar"
           }
          ],
          "carpet": [
           {
            "aaxis": {
             "endlinecolor": "#2a3f5f",
             "gridcolor": "white",
             "linecolor": "white",
             "minorgridcolor": "white",
             "startlinecolor": "#2a3f5f"
            },
            "baxis": {
             "endlinecolor": "#2a3f5f",
             "gridcolor": "white",
             "linecolor": "white",
             "minorgridcolor": "white",
             "startlinecolor": "#2a3f5f"
            },
            "type": "carpet"
           }
          ],
          "choropleth": [
           {
            "colorbar": {
             "outlinewidth": 0,
             "ticks": ""
            },
            "type": "choropleth"
           }
          ],
          "contour": [
           {
            "colorbar": {
             "outlinewidth": 0,
             "ticks": ""
            },
            "colorscale": [
             [
              0,
              "#0d0887"
             ],
             [
              0.1111111111111111,
              "#46039f"
             ],
             [
              0.2222222222222222,
              "#7201a8"
             ],
             [
              0.3333333333333333,
              "#9c179e"
             ],
             [
              0.4444444444444444,
              "#bd3786"
             ],
             [
              0.5555555555555556,
              "#d8576b"
             ],
             [
              0.6666666666666666,
              "#ed7953"
             ],
             [
              0.7777777777777778,
              "#fb9f3a"
             ],
             [
              0.8888888888888888,
              "#fdca26"
             ],
             [
              1,
              "#f0f921"
             ]
            ],
            "type": "contour"
           }
          ],
          "contourcarpet": [
           {
            "colorbar": {
             "outlinewidth": 0,
             "ticks": ""
            },
            "type": "contourcarpet"
           }
          ],
          "heatmap": [
           {
            "colorbar": {
             "outlinewidth": 0,
             "ticks": ""
            },
            "colorscale": [
             [
              0,
              "#0d0887"
             ],
             [
              0.1111111111111111,
              "#46039f"
             ],
             [
              0.2222222222222222,
              "#7201a8"
             ],
             [
              0.3333333333333333,
              "#9c179e"
             ],
             [
              0.4444444444444444,
              "#bd3786"
             ],
             [
              0.5555555555555556,
              "#d8576b"
             ],
             [
              0.6666666666666666,
              "#ed7953"
             ],
             [
              0.7777777777777778,
              "#fb9f3a"
             ],
             [
              0.8888888888888888,
              "#fdca26"
             ],
             [
              1,
              "#f0f921"
             ]
            ],
            "type": "heatmap"
           }
          ],
          "heatmapgl": [
           {
            "colorbar": {
             "outlinewidth": 0,
             "ticks": ""
            },
            "colorscale": [
             [
              0,
              "#0d0887"
             ],
             [
              0.1111111111111111,
              "#46039f"
             ],
             [
              0.2222222222222222,
              "#7201a8"
             ],
             [
              0.3333333333333333,
              "#9c179e"
             ],
             [
              0.4444444444444444,
              "#bd3786"
             ],
             [
              0.5555555555555556,
              "#d8576b"
             ],
             [
              0.6666666666666666,
              "#ed7953"
             ],
             [
              0.7777777777777778,
              "#fb9f3a"
             ],
             [
              0.8888888888888888,
              "#fdca26"
             ],
             [
              1,
              "#f0f921"
             ]
            ],
            "type": "heatmapgl"
           }
          ],
          "histogram": [
           {
            "marker": {
             "pattern": {
              "fillmode": "overlay",
              "size": 10,
              "solidity": 0.2
             }
            },
            "type": "histogram"
           }
          ],
          "histogram2d": [
           {
            "colorbar": {
             "outlinewidth": 0,
             "ticks": ""
            },
            "colorscale": [
             [
              0,
              "#0d0887"
             ],
             [
              0.1111111111111111,
              "#46039f"
             ],
             [
              0.2222222222222222,
              "#7201a8"
             ],
             [
              0.3333333333333333,
              "#9c179e"
             ],
             [
              0.4444444444444444,
              "#bd3786"
             ],
             [
              0.5555555555555556,
              "#d8576b"
             ],
             [
              0.6666666666666666,
              "#ed7953"
             ],
             [
              0.7777777777777778,
              "#fb9f3a"
             ],
             [
              0.8888888888888888,
              "#fdca26"
             ],
             [
              1,
              "#f0f921"
             ]
            ],
            "type": "histogram2d"
           }
          ],
          "histogram2dcontour": [
           {
            "colorbar": {
             "outlinewidth": 0,
             "ticks": ""
            },
            "colorscale": [
             [
              0,
              "#0d0887"
             ],
             [
              0.1111111111111111,
              "#46039f"
             ],
             [
              0.2222222222222222,
              "#7201a8"
             ],
             [
              0.3333333333333333,
              "#9c179e"
             ],
             [
              0.4444444444444444,
              "#bd3786"
             ],
             [
              0.5555555555555556,
              "#d8576b"
             ],
             [
              0.6666666666666666,
              "#ed7953"
             ],
             [
              0.7777777777777778,
              "#fb9f3a"
             ],
             [
              0.8888888888888888,
              "#fdca26"
             ],
             [
              1,
              "#f0f921"
             ]
            ],
            "type": "histogram2dcontour"
           }
          ],
          "mesh3d": [
           {
            "colorbar": {
             "outlinewidth": 0,
             "ticks": ""
            },
            "type": "mesh3d"
           }
          ],
          "parcoords": [
           {
            "line": {
             "colorbar": {
              "outlinewidth": 0,
              "ticks": ""
             }
            },
            "type": "parcoords"
           }
          ],
          "pie": [
           {
            "automargin": true,
            "type": "pie"
           }
          ],
          "scatter": [
           {
            "fillpattern": {
             "fillmode": "overlay",
             "size": 10,
             "solidity": 0.2
            },
            "type": "scatter"
           }
          ],
          "scatter3d": [
           {
            "line": {
             "colorbar": {
              "outlinewidth": 0,
              "ticks": ""
             }
            },
            "marker": {
             "colorbar": {
              "outlinewidth": 0,
              "ticks": ""
             }
            },
            "type": "scatter3d"
           }
          ],
          "scattercarpet": [
           {
            "marker": {
             "colorbar": {
              "outlinewidth": 0,
              "ticks": ""
             }
            },
            "type": "scattercarpet"
           }
          ],
          "scattergeo": [
           {
            "marker": {
             "colorbar": {
              "outlinewidth": 0,
              "ticks": ""
             }
            },
            "type": "scattergeo"
           }
          ],
          "scattergl": [
           {
            "marker": {
             "colorbar": {
              "outlinewidth": 0,
              "ticks": ""
             }
            },
            "type": "scattergl"
           }
          ],
          "scattermapbox": [
           {
            "marker": {
             "colorbar": {
              "outlinewidth": 0,
              "ticks": ""
             }
            },
            "type": "scattermapbox"
           }
          ],
          "scatterpolar": [
           {
            "marker": {
             "colorbar": {
              "outlinewidth": 0,
              "ticks": ""
             }
            },
            "type": "scatterpolar"
           }
          ],
          "scatterpolargl": [
           {
            "marker": {
             "colorbar": {
              "outlinewidth": 0,
              "ticks": ""
             }
            },
            "type": "scatterpolargl"
           }
          ],
          "scatterternary": [
           {
            "marker": {
             "colorbar": {
              "outlinewidth": 0,
              "ticks": ""
             }
            },
            "type": "scatterternary"
           }
          ],
          "surface": [
           {
            "colorbar": {
             "outlinewidth": 0,
             "ticks": ""
            },
            "colorscale": [
             [
              0,
              "#0d0887"
             ],
             [
              0.1111111111111111,
              "#46039f"
             ],
             [
              0.2222222222222222,
              "#7201a8"
             ],
             [
              0.3333333333333333,
              "#9c179e"
             ],
             [
              0.4444444444444444,
              "#bd3786"
             ],
             [
              0.5555555555555556,
              "#d8576b"
             ],
             [
              0.6666666666666666,
              "#ed7953"
             ],
             [
              0.7777777777777778,
              "#fb9f3a"
             ],
             [
              0.8888888888888888,
              "#fdca26"
             ],
             [
              1,
              "#f0f921"
             ]
            ],
            "type": "surface"
           }
          ],
          "table": [
           {
            "cells": {
             "fill": {
              "color": "#EBF0F8"
             },
             "line": {
              "color": "white"
             }
            },
            "header": {
             "fill": {
              "color": "#C8D4E3"
             },
             "line": {
              "color": "white"
             }
            },
            "type": "table"
           }
          ]
         },
         "layout": {
          "annotationdefaults": {
           "arrowcolor": "#2a3f5f",
           "arrowhead": 0,
           "arrowwidth": 1
          },
          "autotypenumbers": "strict",
          "coloraxis": {
           "colorbar": {
            "outlinewidth": 0,
            "ticks": ""
           }
          },
          "colorscale": {
           "diverging": [
            [
             0,
             "#8e0152"
            ],
            [
             0.1,
             "#c51b7d"
            ],
            [
             0.2,
             "#de77ae"
            ],
            [
             0.3,
             "#f1b6da"
            ],
            [
             0.4,
             "#fde0ef"
            ],
            [
             0.5,
             "#f7f7f7"
            ],
            [
             0.6,
             "#e6f5d0"
            ],
            [
             0.7,
             "#b8e186"
            ],
            [
             0.8,
             "#7fbc41"
            ],
            [
             0.9,
             "#4d9221"
            ],
            [
             1,
             "#276419"
            ]
           ],
           "sequential": [
            [
             0,
             "#0d0887"
            ],
            [
             0.1111111111111111,
             "#46039f"
            ],
            [
             0.2222222222222222,
             "#7201a8"
            ],
            [
             0.3333333333333333,
             "#9c179e"
            ],
            [
             0.4444444444444444,
             "#bd3786"
            ],
            [
             0.5555555555555556,
             "#d8576b"
            ],
            [
             0.6666666666666666,
             "#ed7953"
            ],
            [
             0.7777777777777778,
             "#fb9f3a"
            ],
            [
             0.8888888888888888,
             "#fdca26"
            ],
            [
             1,
             "#f0f921"
            ]
           ],
           "sequentialminus": [
            [
             0,
             "#0d0887"
            ],
            [
             0.1111111111111111,
             "#46039f"
            ],
            [
             0.2222222222222222,
             "#7201a8"
            ],
            [
             0.3333333333333333,
             "#9c179e"
            ],
            [
             0.4444444444444444,
             "#bd3786"
            ],
            [
             0.5555555555555556,
             "#d8576b"
            ],
            [
             0.6666666666666666,
             "#ed7953"
            ],
            [
             0.7777777777777778,
             "#fb9f3a"
            ],
            [
             0.8888888888888888,
             "#fdca26"
            ],
            [
             1,
             "#f0f921"
            ]
           ]
          },
          "colorway": [
           "#636efa",
           "#EF553B",
           "#00cc96",
           "#ab63fa",
           "#FFA15A",
           "#19d3f3",
           "#FF6692",
           "#B6E880",
           "#FF97FF",
           "#FECB52"
          ],
          "font": {
           "color": "#2a3f5f"
          },
          "geo": {
           "bgcolor": "white",
           "lakecolor": "white",
           "landcolor": "#E5ECF6",
           "showlakes": true,
           "showland": true,
           "subunitcolor": "white"
          },
          "hoverlabel": {
           "align": "left"
          },
          "hovermode": "closest",
          "mapbox": {
           "style": "light"
          },
          "paper_bgcolor": "white",
          "plot_bgcolor": "#E5ECF6",
          "polar": {
           "angularaxis": {
            "gridcolor": "white",
            "linecolor": "white",
            "ticks": ""
           },
           "bgcolor": "#E5ECF6",
           "radialaxis": {
            "gridcolor": "white",
            "linecolor": "white",
            "ticks": ""
           }
          },
          "scene": {
           "xaxis": {
            "backgroundcolor": "#E5ECF6",
            "gridcolor": "white",
            "gridwidth": 2,
            "linecolor": "white",
            "showbackground": true,
            "ticks": "",
            "zerolinecolor": "white"
           },
           "yaxis": {
            "backgroundcolor": "#E5ECF6",
            "gridcolor": "white",
            "gridwidth": 2,
            "linecolor": "white",
            "showbackground": true,
            "ticks": "",
            "zerolinecolor": "white"
           },
           "zaxis": {
            "backgroundcolor": "#E5ECF6",
            "gridcolor": "white",
            "gridwidth": 2,
            "linecolor": "white",
            "showbackground": true,
            "ticks": "",
            "zerolinecolor": "white"
           }
          },
          "shapedefaults": {
           "line": {
            "color": "#2a3f5f"
           }
          },
          "ternary": {
           "aaxis": {
            "gridcolor": "white",
            "linecolor": "white",
            "ticks": ""
           },
           "baxis": {
            "gridcolor": "white",
            "linecolor": "white",
            "ticks": ""
           },
           "bgcolor": "#E5ECF6",
           "caxis": {
            "gridcolor": "white",
            "linecolor": "white",
            "ticks": ""
           }
          },
          "title": {
           "x": 0.05
          },
          "xaxis": {
           "automargin": true,
           "gridcolor": "white",
           "linecolor": "white",
           "ticks": "",
           "title": {
            "standoff": 15
           },
           "zerolinecolor": "white",
           "zerolinewidth": 2
          },
          "yaxis": {
           "automargin": true,
           "gridcolor": "white",
           "linecolor": "white",
           "ticks": "",
           "title": {
            "standoff": 15
           },
           "zerolinecolor": "white",
           "zerolinewidth": 2
          }
         }
        },
        "title": {
         "text": "Interactions for H"
        },
        "width": 1600,
        "xaxis": {
         "anchor": "y",
         "domain": [
          0,
          1
         ],
         "dtick": 20,
         "range": [
          0,
          600
         ],
         "title": {
          "text": "Residue Index"
         }
        },
        "yaxis": {
         "anchor": "x",
         "domain": [
          0,
          1
         ],
         "range": [
          1.5,
          4.5
         ],
         "title": {
          "text": "Distance (angstroms)"
         }
        }
       }
      }
     },
     "metadata": {},
     "output_type": "display_data"
    }
   ],
   "source": [
    "# Define the path to the CSV file\n",
    "csv_file_path = \"../../data/3d_predictions/chimeras_5seeds/average_interactions_chimeras.csv\"\n",
    "\n",
    "# Process the DataFrame\n",
    "df_processed = process_dataframe(csv_file_path)\n",
    "\n",
    "# Define the threshold value for distance filtering\n",
    "distance_threshold = 4\n",
    "# Create and display the plots with specified x-axis range, interacting chains, and files to plot\n",
    "xaxis_range = [0, 600]  # Example x-axis range\n",
    "yaxis_range = [1.5, distance_threshold + 0.5]\n",
    "interacting_chains = ['ATP', 'beta-tubulin', 'alpha-tubulin', 'kinesin B']  # Example interacting chains to display\n",
    "\n",
    "files_to_plot = None #['A', 'H']  # Example files to plot\n",
    "\n",
    "plots = create_plots(df_processed, distance_threshold, xaxis_range=xaxis_range, yaxis_range=yaxis_range, interacting_chains=interacting_chains[:4], files_to_plot=files_to_plot, chimeras=True)\n"
   ]
  },
  {
   "cell_type": "code",
   "execution_count": null,
   "metadata": {},
   "outputs": [],
   "source": [
    "# def process_and_save_interactions(input_csv_path, output_csv_path):\n",
    "#     df = pd.read_csv(input_csv_path)\n",
    "\n",
    "#     df = df.loc[df['chain'] == 'A']\n",
    "\n",
    "#     # Select the shortest distance interaction for each resi and interacting_resinumber\n",
    "#     df = df.loc[df.groupby(['file', 'resi', 'interacting_resinumber'])['distance (angstroms)'].idxmin()]\n",
    "\n",
    "#     df['seed'] = df['file'].str.extract(r'_seed(\\d+)')[0].str.upper()\n",
    "#     df['file'] = df['file'].str.replace(r'_seed\\d+_model_0', '', regex=True).str.strip()\n",
    "\n",
    "#     # Create a column with a tuple that includes resi and interacting_resinumber for each unique\n",
    "#     df['resi_interacting_resinumber'] = df[['resi', 'interacting_resinumber']].apply(lambda x: (x['resi'], x['interacting_resinumber']), axis=1)\n",
    "\n",
    "#     # Process each unique file separately\n",
    "#     unique_files = df['file'].unique()\n",
    "#     dfs = []\n",
    "\n",
    "#     for file in unique_files:\n",
    "#         df_file = df[df['file'] == file]\n",
    "\n",
    "#         # Find the common interactions across all seeds of the current file\n",
    "#         common_interactions = df_file.groupby('seed')['resi_interacting_resinumber'].apply(set).reset_index()\n",
    "#         common_interactions = set.intersection(*common_interactions['resi_interacting_resinumber'])\n",
    "\n",
    "#         # Filter the DataFrame to keep only the common interactions\n",
    "#         df_file = df_file[df_file['resi_interacting_resinumber'].isin(common_interactions)]\n",
    "\n",
    "#         # Compute the average distance for each interacting pair across the seeds\n",
    "#         df_file = df_file.groupby(['file', 'chain', 'resi', 'resn', 'interacting_chain', 'interacting_resn', 'interacting_resinumber', 'residue_one_letter', 'interactingresi_oneletter'])['distance (angstroms)'].mean().reset_index()\n",
    "\n",
    "#         dfs.append(df_file)\n",
    "\n",
    "#     # Merge all the DataFrames\n",
    "#     df_final = pd.concat(dfs, ignore_index=True)\n",
    "\n",
    "#     # Now, we keep only those residues that interact with two or more unique chains\n",
    "#     chain_counts = df_final.groupby('resi')['interacting_resinumber'].nunique()\n",
    "#     dual_interactions = chain_counts[chain_counts >= 2].index\n",
    "\n",
    "#     # Filter the DataFrame to keep only residues with dual interactions\n",
    "#     df_final = df_final[df_final['resi'].isin(dual_interactions)]\n",
    "\n",
    "#     # Additionally, ensure that the final df only includes interactions with two or more chains\n",
    "#     df_final = df_final.groupby('resi').filter(lambda x: x['interacting_chain'].nunique() >= 2)\n",
    "\n",
    "#     # Save the final DataFrame\n",
    "#     df_final.to_csv(output_csv_path, index=False)\n",
    "\n",
    "#     # Optional: Mapping chain names\n",
    "#     chain_map = {\n",
    "#         'B': 'kinesin B',\n",
    "#         'C': 'alpha-tubulin',\n",
    "#         'D': 'beta-tubulin',\n",
    "#         'E': 'ATP',\n",
    "#         'F': 'ATP'\n",
    "#     }\n",
    "\n",
    "#     df_final['interacting_chain'] = df_final['interacting_chain'].map(chain_map)\n",
    "    \n",
    "#     return df_final\n",
    "\n",
    "# # Example usage\n",
    "# csv_file_path = \"../../data/3d_predictions/chimeras_5seeds/interactions_chimeras.csv\"\n",
    "# output_csv_path = \"../../data/3d_predictions/chimeras_5seeds/average_dual_interactions_chimeras.csv\"\n",
    "# df_dual_interactions = process_and_save_interactions(csv_file_path, output_csv_path)\n",
    "# df_dual_interactions\n"
   ]
  },
  {
   "cell_type": "code",
   "execution_count": null,
   "metadata": {},
   "outputs": [],
   "source": [
    "# # Define the path to the CSV file\n",
    "# csv_file_path = \"../../data/3d_predictions/chimeras_5seeds/average_dual_interactions_chimeras.csv\"\n",
    "\n",
    "# # Process the DataFrame\n",
    "# df_processed = process_dataframe(csv_file_path)\n",
    "\n",
    "# # Define the threshold value for distance filtering\n",
    "# distance_threshold = 7\n",
    "# # Create and display the plots with specified x-axis range, interacting chains, and files to plot\n",
    "# xaxis_range = [0, 600]  # Example x-axis range\n",
    "# yaxis_range = [1.5, distance_threshold + 0.5]\n",
    "# interacting_chains = ['ATP', 'beta-tubulin', 'alpha-tubulin', 'kinesin B']  # Example interacting chains to display\n",
    "\n",
    "# files_to_plot = None #['A', 'C', 'H']  # Example files to plot\n",
    "\n",
    "# plots = create_plots(df_processed, distance_threshold, xaxis_range=xaxis_range, yaxis_range=yaxis_range, interacting_chains=interacting_chains[:4], files_to_plot=files_to_plot, chimeras=True)\n"
   ]
  },
  {
   "cell_type": "code",
   "execution_count": null,
   "metadata": {},
   "outputs": [],
   "source": [
    "import plotly.express as px\n",
    "from ipywidgets import interact, FloatSlider, IntRangeSlider\n",
    "import numpy as np\n",
    "\n",
    "\n",
    "# Function to update the plot based on the distance threshold and resi range\n",
    "def update_plot(distance_threshold, resi_range):\n",
    "    \n",
    "\n",
    "    # Define marker_symbols and color_map\n",
    "    marker_symbols = {\n",
    "        'ATP': 'circle',\n",
    "        'beta-tubulin': 'square',\n",
    "        'alpha-tubulin': 'diamond',\n",
    "        'kinesin B': 'cross'\n",
    "    }\n",
    "\n",
    "    color_map = {\n",
    "        'kinesin B': '#1f77b4',  # blue\n",
    "        'alpha-tubulin': '#ff7f0e',  # orange\n",
    "        'beta-tubulin': '#2ca02c',  # green\n",
    "        'ATP': '#d62728',  # red\n",
    "    }\n",
    "\n",
    "    df_filtered = df_average[(df_average['distance (angstroms)'] <= distance_threshold) & \n",
    "                             (df_average['resi'] >= resi_range[0]) & \n",
    "                             (df_average['resi'] <= resi_range[1])]\n",
    "    df_avg_distance = df_filtered.groupby(['file', 'interacting_chain']).agg({\n",
    "        'distance (angstroms)': 'mean',\n",
    "        'resi': 'count',\n",
    "        'interactingresi_oneletter': lambda x: ', '.join(sorted(set(x)))\n",
    "    }).reset_index()\n",
    "    df_avg_distance = df_avg_distance.rename(columns={'resi': 'residues'})\n",
    "\n",
    "    # Sort the DataFrame by 'file' column to ensure alphabetical order\n",
    "    df_avg_distance = df_avg_distance.sort_values('file')\n",
    "\n",
    "    # Add jitter to x coordinates only\n",
    "    np.random.seed(42)  # Set a seed for consistency\n",
    "    jitter_x = np.random.uniform(-0.1, 0.2, size=len(df_avg_distance))\n",
    "    df_avg_distance['x_jittered'] = df_avg_distance['file'].astype('category').cat.codes + jitter_x\n",
    "\n",
    "    fig = px.scatter(df_avg_distance, x='x_jittered', y='distance (angstroms)', \n",
    "                     color='interacting_chain', symbol='interacting_chain',\n",
    "                     symbol_map=marker_symbols, color_discrete_map=color_map,\n",
    "                     category_orders={\"file\": sorted(df_avg_distance['file'].unique())},\n",
    "                     hover_data=['residues', 'file', 'distance (angstroms)', 'interactingresi_oneletter'],\n",
    "                     text='residues')  # Add 'residues' as text\n",
    "\n",
    "    fig.update_traces(marker=dict(size=10),\n",
    "                      textposition='middle right')  # Position the text to the right of the markers\n",
    "    fig.update_layout(title='Average Distance by File and Interacting Chain',\n",
    "                      xaxis_title='File',\n",
    "                      yaxis_title='Average Distance (Angstroms)',\n",
    "                      height=800,  # Increased height to make the plot taller\n",
    "                      xaxis=dict(tickmode='array', tickvals=list(range(len(df_avg_distance['file'].unique()))), ticktext=sorted(df_avg_distance['file'].unique())),\n",
    "                    #   yaxis=dict(range=[3, 4])\n",
    "                      )  \n",
    "    return fig\n",
    "\n",
    "# Create interactive sliders\n",
    "interact(update_plot, \n",
    "         distance_threshold=FloatSlider(value=4.2, min=0, max=10, step=0.01, description='Distance Threshold'),\n",
    "         resi_range=IntRangeSlider(value=[1, 600], min=1, max=600, step=1, description='Residue Range'))\n"
   ]
  },
  {
   "cell_type": "markdown",
   "metadata": {},
   "source": [
    "- from 318 to 600, B and F don't have interaction with alpha tubulin\n",
    "- from 1-141, F is the first to show interaction with alpha tubulin\n",
    "- from 329 to 401 you can see how A has the most interactions with itself, and is most flexible than B, C and D. Here E and G are farther away. HF and G are about the same as A but less interactions\n",
    "- if set to largest distance (7A), you can see how B and F have the least interactions with beta tubulin, which makes them interact closer."
   ]
  },
  {
   "cell_type": "markdown",
   "metadata": {},
   "source": [
    "## Now let's take a look at species seeds"
   ]
  },
  {
   "cell_type": "code",
   "execution_count": null,
   "metadata": {},
   "outputs": [],
   "source": [
    "# Function to generate plots without background color shapes\n",
    "def create_plots(df, distance_threshold, xaxis_range=None, yaxis_range=None, interacting_chains=None, files_to_plot=None):\n",
    "    unique_files = sorted(df['file'].unique())  # Sort the unique files alphabetically\n",
    "    plots = []\n",
    "\n",
    "    # Define a fixed color mapping for interacting chains\n",
    "    color_map = {\n",
    "        'kinesin B': '#1f77b4',  # blue\n",
    "        'alpha-tubulin': '#ff7f0e',  # orange\n",
    "        'beta-tubulin': '#2ca02c',  # green\n",
    "        'ATP': '#d62728',  # red\n",
    "    }\n",
    "\n",
    "    # Define a fixed order for the legend\n",
    "    legend_order = ['kinesin B', 'alpha-tubulin', 'beta-tubulin', 'ATP']\n",
    "\n",
    "    # Define marker shapes for amino acid classifications\n",
    "    shape_map = {\n",
    "        'nonpolar': 'circle',\n",
    "        'polar uncharged': 'square',\n",
    "        'positively charged': 'triangle-up',\n",
    "        'negatively charged': 'triangle-down'\n",
    "    }\n",
    "\n",
    "    # Filter the files to plot if specified\n",
    "    if files_to_plot:\n",
    "        unique_files = [file for file in unique_files if any(file.startswith(prefix) for prefix in files_to_plot)]\n",
    "\n",
    "    for file in unique_files:\n",
    "        df_file = df[df['file'] == file]\n",
    "\n",
    "        # Filter to get the shortest distances for each interaction\n",
    "        df_filtered = df_file.loc[df_file[df_file['chain'] == 'A'].groupby(['resi', 'interacting_chain'])['distance (angstroms)'].idxmin()]\n",
    "\n",
    "        # Filter by distance threshold\n",
    "        df_filtered = df_filtered[df_filtered['distance (angstroms)'] <= distance_threshold]\n",
    "\n",
    "        # Filter by interacting chains if specified\n",
    "        if interacting_chains:\n",
    "            df_filtered = df_filtered[df_filtered['interacting_chain'].isin(interacting_chains)]\n",
    "\n",
    "        # Create the interactive plot with consistent color mapping and shape mapping\n",
    "        fig = px.scatter(df_filtered, x='resi', y='distance (angstroms)', color='interacting_chain', text='residue_one_letter',\n",
    "                         symbol='aa_classification', symbol_map=shape_map,\n",
    "                         color_discrete_map=color_map,\n",
    "                         category_orders={'interacting_chain': legend_order},\n",
    "                         labels={'resi': 'Residue Index', 'distance (angstroms)': 'Distance (angstroms)', 'interacting_chain': 'Interacting Chain'},\n",
    "                         title=f\"Interactions for {file}\")\n",
    "\n",
    "        # Update layout for better visualization\n",
    "        fig.update_traces(textposition='top center', marker=dict(size=10, opacity=0.6))\n",
    "        fig.update_layout(\n",
    "            legend_title_text='Interacting Chain',\n",
    "            yaxis_range=yaxis_range if yaxis_range else [0.1, distance_threshold + 0.5]  # Set y-axis range based on input or default\n",
    "        )\n",
    "\n",
    "        # Set x-axis range if specified\n",
    "        if xaxis_range:\n",
    "            fig.update_layout(xaxis_range=xaxis_range)\n",
    "\n",
    "        # Add more ticks to the x-axis\n",
    "        fig.update_xaxes(dtick=20)\n",
    "\n",
    "        # Define plot size\n",
    "        fig.update_layout(autosize=False, width=1600, height=600)\n",
    "\n",
    "        # Show the plot\n",
    "        fig.show()\n",
    "\n",
    "        plots.append(fig)\n",
    "\n",
    "    return plots"
   ]
  },
  {
   "cell_type": "code",
   "execution_count": null,
   "metadata": {},
   "outputs": [],
   "source": [
    "# Define the path to the CSV file\n",
    "csv_file_path = \"../../data/3d_predictions/species_seeds/interactions_chimeras.csv\"\n",
    "\n",
    "# Process the DataFrame\n",
    "df_processed = process_dataframe(csv_file_path)\n",
    "\n",
    "# Define the threshold value for distance filtering\n",
    "distance_threshold = 4.2\n",
    "\n",
    "# Create and display the plots with specified x-axis range, interacting chains, and files to plot\n",
    "xaxis_range = [0, 600]  # Example x-axis range\n",
    "yaxis_range = [1.5, distance_threshold + 0.5]\n",
    "interacting_chains = ['ATP', 'beta-tubulin', 'alpha-tubulin', 'kinesin B']  # Example interacting chains to display\n",
    "\n",
    "files_to_plot =  None#['A', 'H']  # Example files to plot\n",
    "\n",
    "plots = create_plots(df_processed, distance_threshold, xaxis_range=xaxis_range, yaxis_range=yaxis_range, interacting_chains=interacting_chains[:4], files_to_plot=files_to_plot)\n"
   ]
  },
  {
   "cell_type": "code",
   "execution_count": null,
   "metadata": {},
   "outputs": [],
   "source": [
    "def process_and_save_interactions(input_csv_path, output_csv_path):\n",
    "    df = pd.read_csv(input_csv_path)\n",
    "\n",
    "    df = df.loc[df['chain'] == 'A']\n",
    "\n",
    "    # Select the shortest distance interaction for each resi and interacting_resinumber\n",
    "    df = df.loc[df.groupby(['file', 'resi', 'interacting_resinumber'])['distance (angstroms)'].idxmin()]\n",
    "\n",
    "    df['seed'] = df['file'].str.extract(r'_seed(\\d+)')[0].str.upper()\n",
    "    df['file'] = df['file'].str.replace(r'_seed\\d+_model_0', '', regex=True).str.strip()\n",
    "\n",
    "    # Create a column with a tuple that includes resi and interacting_resinumber for each unique\n",
    "    df['resi_interacting_resinumber'] = df[['resi', 'interacting_resinumber']].apply(lambda x: (x['resi'], x['interacting_resinumber']), axis=1)\n",
    "\n",
    "    # Process each unique file separately\n",
    "    unique_files = df['file'].unique()\n",
    "    dfs = []\n",
    "\n",
    "    for file in unique_files:\n",
    "        df_file = df[df['file'] == file]\n",
    "\n",
    "        # Find the common interactions across all seeds of the current file\n",
    "        common_interactions = df_file.groupby('seed')['resi_interacting_resinumber'].apply(set).reset_index()\n",
    "        common_interactions = set.intersection(*common_interactions['resi_interacting_resinumber'])\n",
    "\n",
    "        # Filter the DataFrame to keep only the common interactions\n",
    "        df_file = df_file[df_file['resi_interacting_resinumber'].isin(common_interactions)]\n",
    "\n",
    "        # Compute the average distance for each interacting pair across the seeds\n",
    "        df_file = df_file.groupby(['file', 'chain', 'resi', 'resn', 'interacting_chain', 'interacting_resn', 'interacting_resinumber', 'residue_one_letter', 'interactingresi_oneletter'])['distance (angstroms)'].mean().reset_index()\n",
    "\n",
    "        dfs.append(df_file)\n",
    "\n",
    "    # Merge all the DataFrames\n",
    "    df_final = pd.concat(dfs, ignore_index=True)\n",
    "\n",
    "    # Save the final DataFrame\n",
    "    df_final.to_csv(output_csv_path, index=False)\n",
    "\n",
    "    chain_map = {\n",
    "        'B': 'kinesin B',\n",
    "        'C': 'alpha-tubulin',\n",
    "        'D': 'beta-tubulin',\n",
    "        'E': 'ATP',\n",
    "        'F': 'ATP'\n",
    "    }\n",
    "\n",
    "    df_final['interacting_chain'] = df_final['interacting_chain'].map(chain_map)\n",
    "    \n",
    "    return df_final\n",
    "\n",
    "  \n",
    "\n",
    "# Example usage\n",
    "csv_file_path = \"../../data/3d_predictions/species_seeds/interactions_chimeras.csv\"\n",
    "output_csv_path = \"../../data/3d_predictions/species_seeds/average_interactions_species.csv\"\n",
    "df_average = process_and_save_interactions(csv_file_path, output_csv_path)\n",
    "df_average"
   ]
  },
  {
   "cell_type": "code",
   "execution_count": null,
   "metadata": {},
   "outputs": [],
   "source": [
    "# Define the path to the CSV file\n",
    "csv_file_path = \"../../data/3d_predictions/species_seeds/average_interactions_species.csv\"\n",
    "\n",
    "# Process the DataFrame\n",
    "df_processed = process_dataframe(csv_file_path)\n",
    "\n",
    "# Define the threshold value for distance filtering\n",
    "distance_threshold = 4.2\n",
    "\n",
    "# Create and display the plots with specified x-axis range, interacting chains, and files to plot\n",
    "xaxis_range = [0, 600]  # Example x-axis range\n",
    "yaxis_range = [1.5, distance_threshold + 0.5]\n",
    "interacting_chains = ['ATP', 'beta-tubulin', 'alpha-tubulin', 'kinesin B']  # Example interacting chains to display\n",
    "\n",
    "files_to_plot =  None#['A', 'H']  # Example files to plot \n",
    "\n",
    "plots = create_plots(df_processed, distance_threshold, xaxis_range=xaxis_range, yaxis_range=yaxis_range, interacting_chains=interacting_chains[:4], files_to_plot=files_to_plot)\n"
   ]
  },
  {
   "cell_type": "code",
   "execution_count": null,
   "metadata": {},
   "outputs": [],
   "source": []
  }
 ],
 "metadata": {
  "kernelspec": {
   "display_name": "base",
   "language": "python",
   "name": "python3"
  },
  "language_info": {
   "codemirror_mode": {
    "name": "ipython",
    "version": 3
   },
   "file_extension": ".py",
   "mimetype": "text/x-python",
   "name": "python",
   "nbconvert_exporter": "python",
   "pygments_lexer": "ipython3",
   "version": "3.11.5"
  }
 },
 "nbformat": 4,
 "nbformat_minor": 2
}
