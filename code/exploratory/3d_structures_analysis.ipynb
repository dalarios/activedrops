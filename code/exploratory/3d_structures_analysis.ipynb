{
 "cells": [
  {
   "cell_type": "code",
   "execution_count": 2,
   "metadata": {},
   "outputs": [],
   "source": [
    "import pandas as pd\n",
    "import numpy as np\n",
    "import plotly.express as px"
   ]
  },
  {
   "cell_type": "code",
   "execution_count": 7,
   "metadata": {},
   "outputs": [],
   "source": [
    "# Function to read and process the DataFrame\n",
    "def process_dataframe(csv_file_path):\n",
    "    df = pd.read_csv(csv_file_path)\n",
    "\n",
    "    # Map interacting_resn to single-letter codes for better readability\n",
    "    aa_dict = {\n",
    "        'ALA': 'A', 'ARG': 'R', 'ASN': 'N', 'ASP': 'D', 'CYS': 'C', 'GLN': 'Q', 'GLU': 'E', 'GLY': 'G',\n",
    "        'HIS': 'H', 'ILE': 'I', 'LEU': 'L', 'LYS': 'K', 'MET': 'M', 'PHE': 'F', 'PRO': 'P', 'SER': 'S',\n",
    "        'THR': 'T', 'TRP': 'W', 'TYR': 'Y', 'VAL': 'V'\n",
    "    }\n",
    "\n",
    "    # Amino acid classification\n",
    "    aa_classification = {\n",
    "        'A': 'nonpolar', 'R': 'positively charged', 'N': 'polar uncharged', 'D': 'negatively charged', 'C': 'polar uncharged', \n",
    "        'Q': 'polar uncharged', 'E': 'negatively charged', 'G': 'nonpolar', 'H': 'positively charged', 'I': 'nonpolar', \n",
    "        'L': 'nonpolar', 'K': 'positively charged', 'M': 'nonpolar', 'F': 'nonpolar', 'P': 'nonpolar', 'S': 'polar uncharged', \n",
    "        'T': 'polar uncharged', 'W': 'nonpolar', 'Y': 'polar uncharged', 'V': 'nonpolar'\n",
    "    }\n",
    "\n",
    "    # Replace chain letters with descriptive names\n",
    "    chain_map = {\n",
    "        'B': 'kinesin B',\n",
    "        'C': 'alpha-tubulin',\n",
    "        'D': 'beta-tubulin',\n",
    "        'E': 'ATP',\n",
    "        'F': 'ATP'\n",
    "    }\n",
    "\n",
    "    df['residue_one_letter'] = df['resn'].map(aa_dict)\n",
    "    df['residue'] = df['resi'].astype(str) + df['residue_one_letter']\n",
    "    df['interacting_chain'] = df['interacting_chain'].map(chain_map)\n",
    "    df['aa_classification'] = df['residue_one_letter'].map(aa_classification)\n",
    "    \n",
    "    return df\n",
    "\n",
    "\n",
    "\n",
    "# Function to generate plots\n",
    "def create_plots(df, distance_threshold, xaxis_range=None, yaxis_range=None, interacting_chains=None, files_to_plot=None, chimeras=False):\n",
    "    unique_files = sorted(df['file'].unique())  # Sort the unique files alphabetically\n",
    "    plots = []\n",
    "\n",
    "    # Define a fixed color mapping for interacting chains\n",
    "    color_map = {\n",
    "        'kinesin B': '#1f77b4',  # blue\n",
    "        'alpha-tubulin': '#ff7f0e',  # orange\n",
    "        'beta-tubulin': '#2ca02c',  # green\n",
    "        'ATP': '#d62728',  # red\n",
    "    }\n",
    "\n",
    "    # Define a fixed order for the legend\n",
    "    legend_order = ['kinesin B', 'alpha-tubulin', 'beta-tubulin', 'ATP']\n",
    "\n",
    "    # Define marker shapes for amino acid classifications\n",
    "    shape_map = {\n",
    "        'nonpolar': 'circle',\n",
    "        'polar uncharged': 'square',\n",
    "        'positively charged': 'triangle-up',\n",
    "        'negatively charged': 'triangle-down'\n",
    "    }\n",
    "\n",
    "    # Filter the files to plot if specified\n",
    "    if files_to_plot:\n",
    "        unique_files = [file for file in unique_files if any(file.startswith(prefix) for prefix in files_to_plot)]\n",
    "\n",
    "    for file in unique_files:\n",
    "        df_file = df[df['file'] == file]\n",
    "\n",
    "        # Filter to get the shortest distances for each interaction\n",
    "        df_filtered = df_file.loc[df_file[df_file['chain'] == 'A'].groupby(['resi', 'interacting_chain'])['distance (angstroms)'].idxmin()]\n",
    "\n",
    "        # Filter by distance threshold\n",
    "        df_filtered = df_filtered[df_filtered['distance (angstroms)'] <= distance_threshold]\n",
    "\n",
    "\n",
    "        # Filter by interacting chains if specified\n",
    "        if interacting_chains:\n",
    "            df_filtered = df_filtered[df_filtered['interacting_chain'].isin(interacting_chains)]\n",
    "\n",
    "        # Create the interactive plot with consistent color mapping and shape mapping\n",
    "        fig = px.scatter(df_filtered, x='resi', y='distance (angstroms)', color='interacting_chain', text='residue_one_letter',\n",
    "                         symbol='aa_classification', symbol_map=shape_map,\n",
    "                         color_discrete_map=color_map,\n",
    "                         category_orders={'interacting_chain': legend_order},\n",
    "                         labels={'resi': 'Residue Index', 'distance (angstroms)': 'Distance (angstroms)', 'interacting_chain': 'Interacting Chain'},\n",
    "                         title=f\"Interactions for {file}\",\n",
    "                         hover_data=['interacting_resinumber', 'interactingresi_oneletter'])\n",
    "\n",
    "        # Update layout for better visualization\n",
    "        fig.update_traces(textposition='top center', marker=dict(size=10, opacity=0.6))\n",
    "        fig.update_layout(\n",
    "            legend_title_text='Interacting Chain',\n",
    "            yaxis_range=yaxis_range if yaxis_range else [0.1, distance_threshold + 0.5]  # Set y-axis range based on input or default\n",
    "        )\n",
    "\n",
    "        # Set x-axis range if specified\n",
    "        if xaxis_range:\n",
    "            fig.update_layout(xaxis_range=xaxis_range)\n",
    "\n",
    "        # Add more ticks to the x-axis\n",
    "        fig.update_xaxes(dtick=20)\n",
    "\n",
    "        # Add background color shapes based on the first letter of the file name if chimeras is True\n",
    "        if chimeras:\n",
    "            first_letter = file[0]\n",
    "            y_max = yaxis_range[1] if yaxis_range else distance_threshold + 0.5\n",
    "            if first_letter == 'A':\n",
    "                fig.add_shape(type=\"rect\", x0=0, x1=xaxis_range[1] if xaxis_range else df['resi'].max(), y0=0, y1=y_max,\n",
    "                              fillcolor=\"LightSkyBlue\", opacity=0.3, layer=\"below\", line_width=0)\n",
    "            elif first_letter == 'B':\n",
    "                fig.add_shape(type=\"rect\", x0=0, x1=174, y0=0, y1=y_max,\n",
    "                              fillcolor=\"LightSalmon\", opacity=0.3, layer=\"below\", line_width=0)\n",
    "                fig.add_shape(type=\"rect\", x0=174, x1=xaxis_range[1] if xaxis_range else df['resi'].max(), y0=0, y1=y_max,\n",
    "                              fillcolor=\"LightSkyBlue\", opacity=0.3, layer=\"below\", line_width=0)\n",
    "            elif first_letter == 'C':\n",
    "                fig.add_shape(type=\"rect\", x0=0, x1=178, y0=0, y1=y_max,\n",
    "                              fillcolor=\"LightSkyBlue\", opacity=0.3, layer=\"below\", line_width=0)\n",
    "                fig.add_shape(type=\"rect\", x0=178, x1=333, y0=0, y1=y_max,\n",
    "                              fillcolor=\"LightSalmon\", opacity=0.3, layer=\"below\", line_width=0)\n",
    "                fig.add_shape(type=\"rect\", x0=333, x1=xaxis_range[1] if xaxis_range else df['resi'].max(), y0=0, y1=y_max,\n",
    "                              fillcolor=\"LightSkyBlue\", opacity=0.3, layer=\"below\", line_width=0)\n",
    "            elif first_letter == 'D':\n",
    "                fig.add_shape(type=\"rect\", x0=0, x1=329, y0=0, y1=y_max,\n",
    "                              fillcolor=\"LightSalmon\", opacity=0.3, layer=\"below\", line_width=0)\n",
    "                fig.add_shape(type=\"rect\", x0=329, x1=xaxis_range[1] if xaxis_range else df['resi'].max(), y0=0, y1=y_max,\n",
    "                              fillcolor=\"LightSkyBlue\", opacity=0.3, layer=\"below\", line_width=0)\n",
    "            elif first_letter == 'E':\n",
    "                fig.add_shape(type=\"rect\", x0=0, x1=333, y0=0, y1=y_max,\n",
    "                              fillcolor=\"LightSkyBlue\", opacity=0.3, layer=\"below\", line_width=0)\n",
    "                fig.add_shape(type=\"rect\", x0=333, x1=xaxis_range[1] if xaxis_range else df['resi'].max(), y0=0, y1=y_max,\n",
    "                              fillcolor=\"LightSalmon\", opacity=0.3, layer=\"below\", line_width=0)\n",
    "            elif first_letter == 'F':\n",
    "                fig.add_shape(type=\"rect\", x0=0, x1=174, y0=0, y1=y_max,\n",
    "                              fillcolor=\"LightSalmon\", opacity=0.3, layer=\"below\", line_width=0)\n",
    "                fig.add_shape(type=\"rect\", x0=174, x1=329, y0=0, y1=y_max,\n",
    "                              fillcolor=\"LightSkyBlue\", opacity=0.3, layer=\"below\", line_width=0)\n",
    "                fig.add_shape(type=\"rect\", x0=329, x1=xaxis_range[1] if xaxis_range else df['resi'].max(), y0=0, y1=y_max,\n",
    "                              fillcolor=\"LightSalmon\", opacity=0.3, layer=\"below\", line_width=0)\n",
    "            elif first_letter == 'G':\n",
    "                fig.add_shape(type=\"rect\", x0=0, x1=178, y0=0, y1=y_max,\n",
    "                              fillcolor=\"LightSkyBlue\", opacity=0.3, layer=\"below\", line_width=0)\n",
    "                fig.add_shape(type=\"rect\", x0=178, x1=xaxis_range[1] if xaxis_range else df['resi'].max(), y0=0, y1=y_max,\n",
    "                              fillcolor=\"LightSalmon\", opacity=0.3, layer=\"below\", line_width=0)\n",
    "            elif first_letter == 'H':\n",
    "                fig.add_shape(type=\"rect\", x0=0, x1=xaxis_range[1] if xaxis_range else df['resi'].max(), y0=0, y1=y_max,\n",
    "                              fillcolor=\"LightSalmon\", opacity=0.3, layer=\"below\", line_width=0)\n",
    "\n",
    "        # Define plot size\n",
    "        fig.update_layout(autosize=False, width=1600, height=600)\n",
    "\n",
    "        # Show the plot\n",
    "        fig.show()\n",
    "\n",
    "        plots.append(fig)\n",
    "\n",
    "    return plots"
   ]
  },
  {
   "cell_type": "code",
   "execution_count": null,
   "metadata": {},
   "outputs": [],
   "source": [
    "# Define the path to the CSV file\n",
    "csv_file_path = \"../../data/3d_predictions/chimeras_5seeds/interactions_chimeras.csv\"\n",
    "\n",
    "# Process the DataFrame\n",
    "df_processed = process_dataframe(csv_file_path)\n",
    "\n",
    "# Define the threshold value for distance filtering\n",
    "distance_threshold = 4\n",
    "\n",
    "# Create and display the plots with specified x-axis range, interacting chains, and files to plot\n",
    "xaxis_range = [0, 600]  # Example x-axis range\n",
    "yaxis_range = [1.5, distance_threshold + 0.5]\n",
    "interacting_chains = ['ATP', 'beta-tubulin', 'alpha-tubulin', 'kinesin B']  # Example interacting chains to display\n",
    "\n",
    "files_to_plot =  ['A', 'H']  # Example files to plot\n",
    "\n",
    "plots = create_plots(df_processed, distance_threshold, xaxis_range=xaxis_range, yaxis_range=yaxis_range, interacting_chains=interacting_chains[:4], files_to_plot=files_to_plot, chimeras=True)\n"
   ]
  },
  {
   "cell_type": "code",
   "execution_count": 8,
   "metadata": {},
   "outputs": [
    {
     "data": {
      "text/html": [
       "<div>\n",
       "<style scoped>\n",
       "    .dataframe tbody tr th:only-of-type {\n",
       "        vertical-align: middle;\n",
       "    }\n",
       "\n",
       "    .dataframe tbody tr th {\n",
       "        vertical-align: top;\n",
       "    }\n",
       "\n",
       "    .dataframe thead th {\n",
       "        text-align: right;\n",
       "    }\n",
       "</style>\n",
       "<table border=\"1\" class=\"dataframe\">\n",
       "  <thead>\n",
       "    <tr style=\"text-align: right;\">\n",
       "      <th></th>\n",
       "      <th>file</th>\n",
       "      <th>chain</th>\n",
       "      <th>resi</th>\n",
       "      <th>resn</th>\n",
       "      <th>interacting_chain</th>\n",
       "      <th>interacting_resn</th>\n",
       "      <th>interacting_resinumber</th>\n",
       "      <th>residue_one_letter</th>\n",
       "      <th>interactingresi_oneletter</th>\n",
       "      <th>distance (angstroms)</th>\n",
       "    </tr>\n",
       "  </thead>\n",
       "  <tbody>\n",
       "    <tr>\n",
       "      <th>0</th>\n",
       "      <td>A</td>\n",
       "      <td>A</td>\n",
       "      <td>18</td>\n",
       "      <td>ARG</td>\n",
       "      <td>ATP</td>\n",
       "      <td>ATP</td>\n",
       "      <td>1</td>\n",
       "      <td>R</td>\n",
       "      <td>?</td>\n",
       "      <td>3.804740</td>\n",
       "    </tr>\n",
       "    <tr>\n",
       "      <th>1</th>\n",
       "      <td>A</td>\n",
       "      <td>A</td>\n",
       "      <td>19</td>\n",
       "      <td>PHE</td>\n",
       "      <td>ATP</td>\n",
       "      <td>ATP</td>\n",
       "      <td>1</td>\n",
       "      <td>F</td>\n",
       "      <td>?</td>\n",
       "      <td>4.696334</td>\n",
       "    </tr>\n",
       "    <tr>\n",
       "      <th>2</th>\n",
       "      <td>A</td>\n",
       "      <td>A</td>\n",
       "      <td>20</td>\n",
       "      <td>ARG</td>\n",
       "      <td>ATP</td>\n",
       "      <td>ATP</td>\n",
       "      <td>1</td>\n",
       "      <td>R</td>\n",
       "      <td>?</td>\n",
       "      <td>3.641895</td>\n",
       "    </tr>\n",
       "    <tr>\n",
       "      <th>3</th>\n",
       "      <td>A</td>\n",
       "      <td>A</td>\n",
       "      <td>21</td>\n",
       "      <td>PRO</td>\n",
       "      <td>ATP</td>\n",
       "      <td>ATP</td>\n",
       "      <td>1</td>\n",
       "      <td>P</td>\n",
       "      <td>?</td>\n",
       "      <td>3.541921</td>\n",
       "    </tr>\n",
       "    <tr>\n",
       "      <th>4</th>\n",
       "      <td>A</td>\n",
       "      <td>A</td>\n",
       "      <td>23</td>\n",
       "      <td>ASN</td>\n",
       "      <td>ATP</td>\n",
       "      <td>ATP</td>\n",
       "      <td>1</td>\n",
       "      <td>N</td>\n",
       "      <td>?</td>\n",
       "      <td>5.803859</td>\n",
       "    </tr>\n",
       "    <tr>\n",
       "      <th>...</th>\n",
       "      <td>...</td>\n",
       "      <td>...</td>\n",
       "      <td>...</td>\n",
       "      <td>...</td>\n",
       "      <td>...</td>\n",
       "      <td>...</td>\n",
       "      <td>...</td>\n",
       "      <td>...</td>\n",
       "      <td>...</td>\n",
       "      <td>...</td>\n",
       "    </tr>\n",
       "    <tr>\n",
       "      <th>4732</th>\n",
       "      <td>H</td>\n",
       "      <td>A</td>\n",
       "      <td>579</td>\n",
       "      <td>VAL</td>\n",
       "      <td>kinesin B</td>\n",
       "      <td>ARG</td>\n",
       "      <td>566</td>\n",
       "      <td>V</td>\n",
       "      <td>R</td>\n",
       "      <td>4.842717</td>\n",
       "    </tr>\n",
       "    <tr>\n",
       "      <th>4733</th>\n",
       "      <td>H</td>\n",
       "      <td>A</td>\n",
       "      <td>579</td>\n",
       "      <td>VAL</td>\n",
       "      <td>kinesin B</td>\n",
       "      <td>LEU</td>\n",
       "      <td>563</td>\n",
       "      <td>V</td>\n",
       "      <td>L</td>\n",
       "      <td>4.625987</td>\n",
       "    </tr>\n",
       "    <tr>\n",
       "      <th>4734</th>\n",
       "      <td>H</td>\n",
       "      <td>A</td>\n",
       "      <td>580</td>\n",
       "      <td>PRO</td>\n",
       "      <td>kinesin B</td>\n",
       "      <td>ARG</td>\n",
       "      <td>566</td>\n",
       "      <td>P</td>\n",
       "      <td>R</td>\n",
       "      <td>4.409354</td>\n",
       "    </tr>\n",
       "    <tr>\n",
       "      <th>4735</th>\n",
       "      <td>H</td>\n",
       "      <td>A</td>\n",
       "      <td>580</td>\n",
       "      <td>PRO</td>\n",
       "      <td>kinesin B</td>\n",
       "      <td>GLN</td>\n",
       "      <td>559</td>\n",
       "      <td>P</td>\n",
       "      <td>Q</td>\n",
       "      <td>5.759448</td>\n",
       "    </tr>\n",
       "    <tr>\n",
       "      <th>4736</th>\n",
       "      <td>H</td>\n",
       "      <td>A</td>\n",
       "      <td>580</td>\n",
       "      <td>PRO</td>\n",
       "      <td>kinesin B</td>\n",
       "      <td>LEU</td>\n",
       "      <td>563</td>\n",
       "      <td>P</td>\n",
       "      <td>L</td>\n",
       "      <td>4.247968</td>\n",
       "    </tr>\n",
       "  </tbody>\n",
       "</table>\n",
       "<p>4737 rows × 10 columns</p>\n",
       "</div>"
      ],
      "text/plain": [
       "     file chain  resi resn interacting_chain interacting_resn  \\\n",
       "0       A     A    18  ARG               ATP              ATP   \n",
       "1       A     A    19  PHE               ATP              ATP   \n",
       "2       A     A    20  ARG               ATP              ATP   \n",
       "3       A     A    21  PRO               ATP              ATP   \n",
       "4       A     A    23  ASN               ATP              ATP   \n",
       "...   ...   ...   ...  ...               ...              ...   \n",
       "4732    H     A   579  VAL         kinesin B              ARG   \n",
       "4733    H     A   579  VAL         kinesin B              LEU   \n",
       "4734    H     A   580  PRO         kinesin B              ARG   \n",
       "4735    H     A   580  PRO         kinesin B              GLN   \n",
       "4736    H     A   580  PRO         kinesin B              LEU   \n",
       "\n",
       "      interacting_resinumber residue_one_letter interactingresi_oneletter  \\\n",
       "0                          1                  R                         ?   \n",
       "1                          1                  F                         ?   \n",
       "2                          1                  R                         ?   \n",
       "3                          1                  P                         ?   \n",
       "4                          1                  N                         ?   \n",
       "...                      ...                ...                       ...   \n",
       "4732                     566                  V                         R   \n",
       "4733                     563                  V                         L   \n",
       "4734                     566                  P                         R   \n",
       "4735                     559                  P                         Q   \n",
       "4736                     563                  P                         L   \n",
       "\n",
       "      distance (angstroms)  \n",
       "0                 3.804740  \n",
       "1                 4.696334  \n",
       "2                 3.641895  \n",
       "3                 3.541921  \n",
       "4                 5.803859  \n",
       "...                    ...  \n",
       "4732              4.842717  \n",
       "4733              4.625987  \n",
       "4734              4.409354  \n",
       "4735              5.759448  \n",
       "4736              4.247968  \n",
       "\n",
       "[4737 rows x 10 columns]"
      ]
     },
     "execution_count": 8,
     "metadata": {},
     "output_type": "execute_result"
    }
   ],
   "source": [
    "def process_and_save_interactions(input_csv_path, output_csv_path):\n",
    "    df = pd.read_csv(input_csv_path)\n",
    "\n",
    "    df = df.loc[df['chain'] == 'A']\n",
    "\n",
    "    # Select the shortest distance interaction for each resi and interacting_resinumber\n",
    "    df = df.loc[df.groupby(['file', 'resi', 'interacting_resinumber'])['distance (angstroms)'].idxmin()]\n",
    "\n",
    "    df['seed'] = df['file'].str.extract(r'_seed(\\d+)')[0].str.upper()\n",
    "    df['file'] = df['file'].str.replace(r'_seed\\d+_model_0', '', regex=True).str.strip()\n",
    "\n",
    "    # Create a column with a tuple that includes resi and interacting_resinumber for each unique\n",
    "    df['resi_interacting_resinumber'] = df[['resi', 'interacting_resinumber']].apply(lambda x: (x['resi'], x['interacting_resinumber']), axis=1)\n",
    "\n",
    "    # Process each unique file separately\n",
    "    unique_files = df['file'].unique()\n",
    "    dfs = []\n",
    "\n",
    "    for file in unique_files:\n",
    "        df_file = df[df['file'] == file]\n",
    "\n",
    "        # Find the common interactions across all seeds of the current file\n",
    "        common_interactions = df_file.groupby('seed')['resi_interacting_resinumber'].apply(set).reset_index()\n",
    "        common_interactions = set.intersection(*common_interactions['resi_interacting_resinumber'])\n",
    "\n",
    "        # Filter the DataFrame to keep only the common interactions\n",
    "        df_file = df_file[df_file['resi_interacting_resinumber'].isin(common_interactions)]\n",
    "\n",
    "        # Compute the average distance for each interacting pair across the seeds\n",
    "        df_file = df_file.groupby(['file', 'chain', 'resi', 'resn', 'interacting_chain', 'interacting_resn', 'interacting_resinumber', 'residue_one_letter', 'interactingresi_oneletter'])['distance (angstroms)'].mean().reset_index()\n",
    "\n",
    "        dfs.append(df_file)\n",
    "\n",
    "    # Merge all the DataFrames\n",
    "    df_final = pd.concat(dfs, ignore_index=True)\n",
    "\n",
    "    # Save the final DataFrame\n",
    "    df_final.to_csv(output_csv_path, index=False)\n",
    "\n",
    "    chain_map = {\n",
    "        'B': 'kinesin B',\n",
    "        'C': 'alpha-tubulin',\n",
    "        'D': 'beta-tubulin',\n",
    "        'E': 'ATP',\n",
    "        'F': 'ATP'\n",
    "    }\n",
    "\n",
    "    df_final['interacting_chain'] = df_final['interacting_chain'].map(chain_map)\n",
    "    \n",
    "    return df_final\n",
    "\n",
    "  \n",
    "\n",
    "# Example usage\n",
    "csv_file_path = \"../../data/3d_predictions/chimeras_5seeds/interactions_chimeras.csv\"\n",
    "output_csv_path = \"../../data/3d_predictions/chimeras_5seeds/average_interactions_chimeras.csv\"\n",
    "df_average = process_and_save_interactions(csv_file_path, output_csv_path)\n",
    "df_average\n",
    "\n"
   ]
  },
  {
   "cell_type": "code",
   "execution_count": 9,
   "metadata": {},
   "outputs": [
    {
     "name": "stdout",
     "output_type": "stream",
     "text": [
      "File: A\n",
      "color blue, chain A\n",
      "color blue, chain B\n",
      "color gray, chain C\n",
      "color gray10, chain D\n",
      "color magenta, resn ATP+ADP+GTP+GDP\n",
      "color magenta, elem MG\n",
      "color red, chain A and resi 18+20+21+61+93+94+95+96+97+98+100+205+207+208+239+240+241\n",
      "show sticks, chain A and resi 18+20+21+61+93+94+95+96+97+98+100+205+207+208+239+240+241\n",
      "color orange, chain A and resi 242+243+244+245+250+251+255+259+262+263+266+270+318+319\n",
      "show sticks, chain A and resi 242+243+244+245+250+251+255+259+262+263+266+270+318+319\n",
      "show cartoon, chain C and resi 414+420+412+112+108+109+409+415+402\n",
      "color green, chain A and resi 148+159+162+163+164+165+166+168+281+282+286+287+329\n",
      "show sticks, chain A and resi 148+159+162+163+164+165+166+168+281+282+286+287+329\n",
      "show cartoon, chain D and resi 157+410+413+406+412+420+424+417+262+436\n",
      "color lightblue, chain A and resi 166+167+343+344+345+346+348+349+351+352+355+356+358+359+362+363+365+366+369+370+372+373+374+376+377+387+388+390+393\n",
      "show sticks, chain A and resi 166+167+343+344+345+346+348+349+351+352+355+356+358+359+362+363+365+366+369+370+372+373+374+376+377+387+388+390+393\n",
      "File: B\n",
      "color blue, chain A\n",
      "color blue, chain B\n",
      "color yelloworange, chain A and resi 1-175\n",
      "color gray, chain C\n",
      "color gray10, chain D\n",
      "color magenta, resn ATP+ADP+GTP+GDP\n",
      "color magenta, elem MG\n",
      "color red, chain A and resi 9+11+12+86+87+88+89+90+91+93+201+203+204+236+237\n",
      "show sticks, chain A and resi 9+11+12+86+87+88+89+90+91+93+201+203+204+236+237\n",
      "color orange, chain A and resi 41+238+239+240+241+246+247+251+255+258+259+262+266+314+315+317\n",
      "show sticks, chain A and resi 41+238+239+240+241+246+247+251+255+258+259+262+266+314+315+317\n",
      "show cartoon, chain C and resi 427+414+420+412+112+108+410+409+415+402+423\n",
      "color green, chain A and resi 144+155+157+158+159+160+161+167+169+276+277+278+282+283+285+288\n",
      "show sticks, chain A and resi 144+155+157+158+159+160+161+167+169+276+277+278+282+283+285+288\n",
      "show cartoon, chain D and resi 157+407+410+413+406+424+417+262+194\n",
      "color lightblue, chain A and resi 339+340+341+344+345+347+348+351+352+354+355+358+359+361+362+365+366+368+369+370+372+373+383+384+386\n",
      "show sticks, chain A and resi 339+340+341+344+345+347+348+351+352+354+355+358+359+361+362+365+366+368+369+370+372+373+383+384+386\n",
      "File: C\n",
      "color blue, chain A\n",
      "color blue, chain B\n",
      "color yelloworange, chain A and resi 180-334\n",
      "color gray, chain C\n",
      "color gray10, chain D\n",
      "color magenta, resn ATP+ADP+GTP+GDP\n",
      "color magenta, elem MG\n",
      "color lightblue, chain A and resi 5+7+166+343+344+345+348+349+351+352+355+356+358+359+362+363+365+366+369+370+372+373+374+376+377+387+388+390\n",
      "show sticks, chain A and resi 5+7+166+343+344+345+348+349+351+352+355+356+358+359+362+363+365+366+369+370+372+373+374+376+377+387+388+390\n",
      "color red, chain A and resi 18+20+21+93+94+95+96+97+98+100+205+207+208+239+240+241\n",
      "show sticks, chain A and resi 18+20+21+93+94+95+96+97+98+100+205+207+208+239+240+241\n",
      "color green, chain A and resi 148+159+162+163+164+165+166+168+279+280+281+282+286+287\n",
      "show sticks, chain A and resi 148+159+162+163+164+165+166+168+279+280+281+282+286+287\n",
      "show cartoon, chain D and resi 157+410+413+406+432+424+417+262\n",
      "color orange, chain A and resi 242+243+244+245+250+251+255+259+262+263+266+270+273+318+319+325\n",
      "show sticks, chain A and resi 242+243+244+245+250+251+255+259+262+263+266+270+273+318+319+325\n",
      "show cartoon, chain C and resi 414+420+412+112+108+109+409+415+402+423\n",
      "File: D\n",
      "color blue, chain A\n",
      "color blue, chain B\n",
      "color yelloworange, chain A and resi 1-330\n",
      "color gray, chain C\n",
      "color gray10, chain D\n",
      "color magenta, resn ATP+ADP+GTP+GDP\n",
      "color magenta, elem MG\n",
      "color red, chain A and resi 9+11+12+86+87+88+89+90+91+93+201+203+204+235+236+237\n",
      "show sticks, chain A and resi 9+11+12+86+87+88+89+90+91+93+201+203+204+235+236+237\n",
      "color orange, chain A and resi 238+239+240+241+246+247+255+258+259+262+266+269+314+315+321\n",
      "show sticks, chain A and resi 238+239+240+241+246+247+255+258+259+262+266+269+314+315+321\n",
      "show cartoon, chain C and resi 414+420+412+112+410+409+415+402+423\n",
      "color green, chain A and resi 144+157+158+159+160+161+167+169+275+276+277+278+282+283+285+288+325\n",
      "show sticks, chain A and resi 144+157+158+159+160+161+167+169+275+276+277+278+282+283+285+288+325\n",
      "show cartoon, chain D and resi 157+407+410+413+406+432+424+417+262+194+436\n",
      "color lightblue, chain A and resi 339+340+341+344+345+347+348+351+352+354+355+358+359+361+362+365+366+368+369+370+372+373+383+384+386\n",
      "show sticks, chain A and resi 339+340+341+344+345+347+348+351+352+354+355+358+359+361+362+365+366+368+369+370+372+373+383+384+386\n",
      "File: E\n",
      "color blue, chain A\n",
      "color blue, chain B\n",
      "color yelloworange, chain A and resi 335-596\n",
      "color gray, chain C\n",
      "color gray10, chain D\n",
      "color magenta, resn ATP+ADP+GTP+GDP\n",
      "color magenta, elem MG\n",
      "color lightblue, chain A and resi 5+343+345+348+349+351+352+355+358+359+362+363+365+366+368+369+370+372+373+375+376+377+448+449+452+455+456+459+460+462+463+466+467+469+470+473+474+476+477+480+481+483+484+487+488+490+491+494+495+497+498+501+502+504+505+508+511+512+514+515+518+519+521+522+525+526+528+529+532+533+535+536+539+540+543+546+547+549+550+553+554+556+557+560+561+563+564+567+570+571+574+579+582\n",
      "show sticks, chain A and resi 5+343+345+348+349+351+352+355+358+359+362+363+365+366+368+369+370+372+373+375+376+377+448+449+452+455+456+459+460+462+463+466+467+469+470+473+474+476+477+480+481+483+484+487+488+490+491+494+495+497+498+501+502+504+505+508+511+512+514+515+518+519+521+522+525+526+528+529+532+533+535+536+539+540+543+546+547+549+550+553+554+556+557+560+561+563+564+567+570+571+574+579+582\n",
      "color red, chain A and resi 18+20+21+61+93+94+95+96+97+98+100+205+207+208+239+240+241\n",
      "show sticks, chain A and resi 18+20+21+61+93+94+95+96+97+98+100+205+207+208+239+240+241\n",
      "color orange, chain A and resi 242+243+244+245+246+250+251+255+259+262+263+266+270+318+319\n",
      "show sticks, chain A and resi 242+243+244+245+246+250+251+255+259+262+263+266+270+318+319\n",
      "show cartoon, chain C and resi 414+420+412+108+112+109+409+415+402\n",
      "color green, chain A and resi 148+159+162+163+164+165+166+168+280+281+282+286+287+292\n",
      "show sticks, chain A and resi 148+159+162+163+164+165+166+168+280+281+282+286+287+292\n",
      "show cartoon, chain D and resi 157+410+413+406+412+424+417+262\n",
      "File: F\n",
      "color yelloworange, chain A\n",
      "color yelloworange, chain B\n",
      "color blue, chain A and resi 176-330\n",
      "color gray, chain C\n",
      "color gray10, chain D\n",
      "color magenta, resn ATP+ADP+GTP+GDP\n",
      "color magenta, elem MG\n",
      "color red, chain A and resi 9+11+12+86+87+88+89+90+91+93+201+203+204+235+236+237\n",
      "show sticks, chain A and resi 9+11+12+86+87+88+89+90+91+93+201+203+204+235+236+237\n",
      "color orange, chain A and resi 41+238+239+240+241+242+246+247+251+255+258+259+262+266+314+315+317\n",
      "show sticks, chain A and resi 41+238+239+240+241+242+246+247+251+255+258+259+262+266+314+315+317\n",
      "show cartoon, chain C and resi 427+414+420+412+108+112+410+409+415+402+423\n",
      "color green, chain A and resi 144+157+158+159+160+161+167+169+276+277+278+282+283+285+288+325\n",
      "show sticks, chain A and resi 144+157+158+159+160+161+167+169+276+277+278+282+283+285+288+325\n",
      "show cartoon, chain D and resi 157+407+410+413+406+424+417+262+194+436\n",
      "color lightblue, chain A and resi 339+341+344+345+347+348+351+354+355+358+359+361+362+365+366+368+369+371+372+373+376+448+451+452+455+456+458+459+462+463+465+466+469+470+472+473+476+477+479+480+483+484+486+487+490+491+493+494+497+498+500+501+504+507+508+510+511+514+515+517+518+521+522+524+525+528+529+531+532+535+536+539+542+543+545+546+549+550+552+553+556+557+559+560+563+566+567+575+578+580\n",
      "show sticks, chain A and resi 339+341+344+345+347+348+351+354+355+358+359+361+362+365+366+368+369+371+372+373+376+448+451+452+455+456+458+459+462+463+465+466+469+470+472+473+476+477+479+480+483+484+486+487+490+491+493+494+497+498+500+501+504+507+508+510+511+514+515+517+518+521+522+524+525+528+529+531+532+535+536+539+542+543+545+546+549+550+552+553+556+557+559+560+563+566+567+575+578+580\n",
      "File: G\n",
      "color blue, chain A\n",
      "color blue, chain B\n",
      "color yelloworange, chain A and resi 180-596\n",
      "color gray, chain C\n",
      "color gray10, chain D\n",
      "color magenta, resn ATP+ADP+GTP+GDP\n",
      "color magenta, elem MG\n",
      "color red, chain A and resi 18+20+21+93+94+95+96+97+98+100+205+207+208+240+241\n",
      "show sticks, chain A and resi 18+20+21+93+94+95+96+97+98+100+205+207+208+240+241\n",
      "color orange, chain A and resi 242+243+244+245+250+251+255+259+262+263+266+270+273+318+319+325\n",
      "show sticks, chain A and resi 242+243+244+245+250+251+255+259+262+263+266+270+273+318+319+325\n",
      "show cartoon, chain C and resi 414+420+412+112+108+109+409+415+402+423\n",
      "color green, chain A and resi 148+159+162+163+164+165+166+168+279+280+281+282+286+287+292\n",
      "show sticks, chain A and resi 148+159+162+163+164+165+166+168+279+280+281+282+286+287+292\n",
      "show cartoon, chain D and resi 157+410+413+406+412+432+424+417+262\n",
      "color lightblue, chain A and resi 341+343+345+348+349+351+352+355+358+359+362+363+365+366+369+370+372+373+375+377+452+455+456+459+460+462+463+466+467+469+470+473+474+476+477+480+481+483+484+487+488+490+491+494+495+497+498+501+502+504+505+508+511+512+514+515+518+519+521+522+525+526+528+529+532+533+535+536+539+540+543+546+547+549+550+553+554+556+557+560+561+563+564+567+570+571+576+579+582+584\n",
      "show sticks, chain A and resi 341+343+345+348+349+351+352+355+358+359+362+363+365+366+369+370+372+373+375+377+452+455+456+459+460+462+463+466+467+469+470+473+474+476+477+480+481+483+484+487+488+490+491+494+495+497+498+501+502+504+505+508+511+512+514+515+518+519+521+522+525+526+528+529+532+533+535+536+539+540+543+546+547+549+550+553+554+556+557+560+561+563+564+567+570+571+576+579+582+584\n",
      "File: H\n",
      "color yelloworange, chain A\n",
      "color yelloworange, chain B\n",
      "color gray, chain C\n",
      "color gray10, chain D\n",
      "color magenta, resn ATP+ADP+GTP+GDP\n",
      "color magenta, elem MG\n",
      "color red, chain A and resi 9+11+12+86+87+88+89+90+91+93+201+203+204+235+236+237\n",
      "show sticks, chain A and resi 9+11+12+86+87+88+89+90+91+93+201+203+204+235+236+237\n",
      "color orange, chain A and resi 238+239+240+241+246+247+255+258+259+262+266+269+314+315+321+325\n",
      "show sticks, chain A and resi 238+239+240+241+246+247+255+258+259+262+266+269+314+315+321+325\n",
      "show cartoon, chain C and resi 414+420+412+112+410+409+415+402+423\n",
      "color green, chain A and resi 144+157+158+159+160+167+169+275+276+277+278+282+283+285+288+325\n",
      "show sticks, chain A and resi 144+157+158+159+160+167+169+275+276+277+278+282+283+285+288+325\n",
      "show cartoon, chain D and resi 157+407+410+413+406+432+424+417+262+194+436\n",
      "color lightblue, chain A and resi 338+339+341+344+345+347+348+351+354+355+358+359+361+362+365+366+368+369+371+372+373+376+448+451+452+455+456+458+459+462+463+465+466+469+470+472+473+476+477+479+480+483+484+486+487+490+491+493+494+497+498+500+501+504+507+508+510+511+514+515+517+518+521+522+524+525+528+529+531+532+535+536+539+542+543+545+546+549+550+552+553+556+557+559+560+563+566+567+575+578+580\n",
      "show sticks, chain A and resi 338+339+341+344+345+347+348+351+354+355+358+359+361+362+365+366+368+369+371+372+373+376+448+451+452+455+456+458+459+462+463+465+466+469+470+472+473+476+477+479+480+483+484+486+487+490+491+493+494+497+498+500+501+504+507+508+510+511+514+515+517+518+521+522+524+525+528+529+531+532+535+536+539+542+543+545+546+549+550+552+553+556+557+559+560+563+566+567+575+578+580\n"
     ]
    }
   ],
   "source": [
    "unique_files = df_average['file'].unique()\n",
    "\n",
    "color_map = {\n",
    "    'ATP': 'red',\n",
    "    'alpha-tubulin': 'orange',\n",
    "    'beta-tubulin': 'green',\n",
    "    'kinesin B': 'lightblue'\n",
    "}\n",
    "\n",
    "distance_threshold = 4.5\n",
    "\n",
    "for file in unique_files:\n",
    "    print(f\"File: {file}\")\n",
    "    interacting_chains = df_average[df_average['file'] == file]['interacting_chain'].unique()\n",
    "    \n",
    "    if file == 'A':\n",
    "        print(\"color blue, chain A\")\n",
    "        print(\"color blue, chain B\")\n",
    "    elif file == 'B':\n",
    "        print(\"color blue, chain A\")\n",
    "        print(\"color blue, chain B\")\n",
    "        print(\"color yelloworange, chain A and resi 1-175\")\n",
    "    elif file == 'C':\n",
    "        print(\"color blue, chain A\")\n",
    "        print(\"color blue, chain B\")\n",
    "        print(\"color yelloworange, chain A and resi 180-334\")\n",
    "    elif file == 'D':\n",
    "        print(\"color blue, chain A\")\n",
    "        print(\"color blue, chain B\")\n",
    "        print(\"color yelloworange, chain A and resi 1-330\")\n",
    "    elif file == 'E':\n",
    "        print(\"color blue, chain A\")\n",
    "        print(\"color blue, chain B\")\n",
    "        print(\"color yelloworange, chain A and resi 335-596\")\n",
    "    elif file == 'F':\n",
    "        print(\"color yelloworange, chain A\")\n",
    "        print(\"color yelloworange, chain B\")\n",
    "        print(\"color blue, chain A and resi 176-330\")\n",
    "    elif file == 'G':\n",
    "        print(\"color blue, chain A\")\n",
    "        print(\"color blue, chain B\")\n",
    "        print(\"color yelloworange, chain A and resi 180-596\")\n",
    "    elif file == 'H':\n",
    "        print(\"color yelloworange, chain A\")\n",
    "        print(\"color yelloworange, chain B\")\n",
    "    \n",
    "    print(\"color gray, chain C\")\n",
    "    print(\"color gray10, chain D\")\n",
    "    print(\"color magenta, resn ATP+ADP+GTP+GDP\")\n",
    "    print(\"color magenta, elem MG\")\n",
    "    for chain in interacting_chains:\n",
    "        closest_interactions = df_average[(df_average['file'] == file) & (df_average['interacting_chain'] == chain) & (df_average['distance (angstroms)'] <= distance_threshold)]\n",
    "        closest_interactions = closest_interactions.loc[closest_interactions.groupby('resi')['distance (angstroms)'].idxmin()]\n",
    "        \n",
    "        resi_positions = closest_interactions['resi'].unique()\n",
    "        interacting_resi_positions = closest_interactions['interacting_resinumber'].unique()\n",
    "        \n",
    "        resi_positions_str = '+'.join(map(str, resi_positions))\n",
    "        interacting_resi_positions_str = '+'.join(map(str, interacting_resi_positions))\n",
    "        \n",
    "        color = color_map.get(chain)\n",
    "        if color and resi_positions_str:\n",
    "            print(f\"color {color}, chain A and resi {resi_positions_str}\")\n",
    "            print(f\"show sticks, chain A and resi {resi_positions_str}\")\n",
    "            # print(f\"show surface, chain A and resi {resi_positions_str}\")\n",
    "        \n",
    "        if chain == 'alpha-tubulin' and interacting_resi_positions_str:\n",
    "            print(f\"show cartoon, chain C and resi {interacting_resi_positions_str}\")\n",
    "        elif chain == 'beta-tubulin' and interacting_resi_positions_str:\n",
    "            print(f\"show cartoon, chain D and resi {interacting_resi_positions_str}\")"
   ]
  },
  {
   "cell_type": "code",
   "execution_count": 13,
   "metadata": {},
   "outputs": [
    {
     "data": {
      "application/vnd.plotly.v1+json": {
       "config": {
        "plotlyServerURL": "https://plot.ly"
       },
       "data": [
        {
         "customdata": [
          [
           346,
           "E"
          ],
          [
           167,
           "N"
          ],
          [
           352,
           "Y"
          ],
          [
           355,
           "E"
          ],
          [
           359,
           "N"
          ],
          [
           362,
           "L"
          ],
          [
           370,
           "E"
          ],
          [
           372,
           "E"
          ]
         ],
         "hovertemplate": "Interacting Chain=kinesin B<br>aa_classification=positively charged<br>Residue Index=%{x}<br>Distance (angstroms)=%{y}<br>residue_one_letter=%{text}<br>interacting_resinumber=%{customdata[0]}<br>interactingresi_oneletter=%{customdata[1]}<extra></extra>",
         "legendgroup": "kinesin B, positively charged",
         "marker": {
          "color": "#1f77b4",
          "opacity": 0.6,
          "size": 10,
          "symbol": "triangle-up"
         },
         "mode": "markers+text",
         "name": "kinesin B, positively charged",
         "orientation": "v",
         "showlegend": true,
         "text": [
          "K",
          "K",
          "R",
          "K",
          "K",
          "K",
          "K",
          "R"
         ],
         "textposition": "top center",
         "type": "scatter",
         "x": [
          166,
          349,
          351,
          356,
          358,
          363,
          365,
          377
         ],
         "xaxis": "x",
         "y": [
          2.847749042510986,
          3.5282925844192503,
          3.665060329437256,
          4.12559962272644,
          3.529978370666504,
          4.252896785736084,
          3.2601685523986816,
          2.7542265892028808
         ],
         "yaxis": "y"
        },
        {
         "customdata": [
          [
           345,
           "A"
          ],
          [
           348,
           "W"
          ],
          [
           352,
           "Y"
          ],
          [
           359,
           "N"
          ],
          [
           366,
           "V"
          ],
          [
           373,
           "L"
          ],
          [
           372,
           "E"
          ],
          [
           390,
           "M"
          ],
          [
           376,
           "W"
          ],
          [
           377,
           "R"
          ],
          [
           377,
           "R"
          ],
          [
           370,
           "E"
          ]
         ],
         "hovertemplate": "Interacting Chain=kinesin B<br>aa_classification=nonpolar<br>Residue Index=%{x}<br>Distance (angstroms)=%{y}<br>residue_one_letter=%{text}<br>interacting_resinumber=%{customdata[0]}<br>interactingresi_oneletter=%{customdata[1]}<extra></extra>",
         "legendgroup": "kinesin B, nonpolar",
         "marker": {
          "color": "#1f77b4",
          "opacity": 0.6,
          "size": 10,
          "symbol": "circle"
         },
         "mode": "markers+text",
         "name": "kinesin B, nonpolar",
         "orientation": "v",
         "showlegend": true,
         "text": [
          "L",
          "A",
          "W",
          "L",
          "V",
          "L",
          "L",
          "A",
          "W",
          "I",
          "M",
          "L"
         ],
         "textposition": "top center",
         "type": "scatter",
         "x": [
          343,
          345,
          348,
          362,
          366,
          369,
          373,
          374,
          376,
          388,
          390,
          393
         ],
         "xaxis": "x",
         "y": [
          3.620845270156861,
          3.3416271686553958,
          3.379231309890747,
          2.949804162979126,
          3.463711380958557,
          3.534302830696106,
          3.0302940368652345,
          4.105375266075134,
          3.7456518173217774,
          2.8380701780319213,
          3.4208172082901003,
          4.231154942512513
         ],
         "yaxis": "y"
        },
        {
         "customdata": [
          [
           349,
           "K"
          ],
          [
           345,
           "A"
          ],
          [
           348,
           "W"
          ],
          [
           355,
           "E"
          ],
          [
           377,
           "R"
          ]
         ],
         "hovertemplate": "Interacting Chain=kinesin B<br>aa_classification=polar uncharged<br>Residue Index=%{x}<br>Distance (angstroms)=%{y}<br>residue_one_letter=%{text}<br>interacting_resinumber=%{customdata[0]}<br>interactingresi_oneletter=%{customdata[1]}<extra></extra>",
         "legendgroup": "kinesin B, polar uncharged",
         "marker": {
          "color": "#1f77b4",
          "opacity": 0.6,
          "size": 10,
          "symbol": "square"
         },
         "mode": "markers+text",
         "name": "kinesin B, polar uncharged",
         "orientation": "v",
         "showlegend": true,
         "text": [
          "N",
          "T",
          "Y",
          "N",
          "Q"
         ],
         "textposition": "top center",
         "type": "scatter",
         "x": [
          167,
          344,
          352,
          359,
          387
         ],
         "xaxis": "x",
         "y": [
          3.284764313697815,
          4.028654956817627,
          3.500632381439209,
          2.6949233055114745,
          3.453691077232361
         ],
         "yaxis": "y"
        },
        {
         "customdata": [
          [
           166,
           "K"
          ],
          [
           359,
           "N"
          ],
          [
           365,
           "K"
          ],
          [
           377,
           "R"
          ]
         ],
         "hovertemplate": "Interacting Chain=kinesin B<br>aa_classification=negatively charged<br>Residue Index=%{x}<br>Distance (angstroms)=%{y}<br>residue_one_letter=%{text}<br>interacting_resinumber=%{customdata[0]}<br>interactingresi_oneletter=%{customdata[1]}<extra></extra>",
         "legendgroup": "kinesin B, negatively charged",
         "marker": {
          "color": "#1f77b4",
          "opacity": 0.6,
          "size": 10,
          "symbol": "triangle-down"
         },
         "mode": "markers+text",
         "name": "kinesin B, negatively charged",
         "orientation": "v",
         "showlegend": true,
         "text": [
          "E",
          "E",
          "E",
          "E"
         ],
         "textposition": "top center",
         "type": "scatter",
         "x": [
          346,
          355,
          370,
          372
         ],
         "xaxis": "x",
         "y": [
          2.753096318244934,
          2.69404685497284,
          3.434823226928711,
          2.83865818977356
         ],
         "yaxis": "y"
        },
        {
         "customdata": [
          [
           420,
           "E"
          ],
          [
           109,
           "T"
          ],
          [
           409,
           "V"
          ]
         ],
         "hovertemplate": "Interacting Chain=alpha-tubulin<br>aa_classification=positively charged<br>Residue Index=%{x}<br>Distance (angstroms)=%{y}<br>residue_one_letter=%{text}<br>interacting_resinumber=%{customdata[0]}<br>interactingresi_oneletter=%{customdata[1]}<extra></extra>",
         "legendgroup": "alpha-tubulin, positively charged",
         "marker": {
          "color": "#ff7f0e",
          "opacity": 0.6,
          "size": 10,
          "symbol": "triangle-up"
         },
         "mode": "markers+text",
         "name": "alpha-tubulin, positively charged",
         "orientation": "v",
         "showlegend": true,
         "text": [
          "K",
          "K",
          "K"
         ],
         "textposition": "top center",
         "type": "scatter",
         "x": [
          244,
          259,
          263
         ],
         "xaxis": "x",
         "y": [
          2.541381931304932,
          3.2167635679245,
          3.37275607585907
         ],
         "yaxis": "y"
        },
        {
         "customdata": [
          [
           412,
           "G"
          ],
          [
           112,
           "K"
          ],
          [
           108,
           "Y"
          ]
         ],
         "hovertemplate": "Interacting Chain=alpha-tubulin<br>aa_classification=nonpolar<br>Residue Index=%{x}<br>Distance (angstroms)=%{y}<br>residue_one_letter=%{text}<br>interacting_resinumber=%{customdata[0]}<br>interactingresi_oneletter=%{customdata[1]}<extra></extra>",
         "legendgroup": "alpha-tubulin, nonpolar",
         "marker": {
          "color": "#ff7f0e",
          "opacity": 0.6,
          "size": 10,
          "symbol": "circle"
         },
         "mode": "markers+text",
         "name": "alpha-tubulin, nonpolar",
         "orientation": "v",
         "showlegend": true,
         "text": [
          "V",
          "A",
          "L"
         ],
         "textposition": "top center",
         "type": "scatter",
         "x": [
          245,
          250,
          255
         ],
         "xaxis": "x",
         "y": [
          3.219015336036682,
          2.8221768617630003,
          4.052696633338928
         ],
         "yaxis": "y"
        },
        {
         "customdata": [
          [
           414,
           "E"
          ],
          [
           409,
           "V"
          ],
          [
           415,
           "E"
          ],
          [
           402,
           "R"
          ],
          [
           420,
           "E"
          ]
         ],
         "hovertemplate": "Interacting Chain=alpha-tubulin<br>aa_classification=polar uncharged<br>Residue Index=%{x}<br>Distance (angstroms)=%{y}<br>residue_one_letter=%{text}<br>interacting_resinumber=%{customdata[0]}<br>interactingresi_oneletter=%{customdata[1]}<extra></extra>",
         "legendgroup": "alpha-tubulin, polar uncharged",
         "marker": {
          "color": "#ff7f0e",
          "opacity": 0.6,
          "size": 10,
          "symbol": "square"
         },
         "mode": "markers+text",
         "name": "alpha-tubulin, polar uncharged",
         "orientation": "v",
         "showlegend": true,
         "text": [
          "S",
          "N",
          "S",
          "N",
          "S"
         ],
         "textposition": "top center",
         "type": "scatter",
         "x": [
          242,
          262,
          266,
          270,
          318
         ],
         "xaxis": "x",
         "y": [
          3.2278760433197022,
          3.4249806642532348,
          2.642449903488159,
          3.4451155424118043,
          3.790314388275146
         ],
         "yaxis": "y"
        },
        {
         "customdata": [
          [
           414,
           "E"
          ],
          [
           112,
           "K"
          ],
          [
           414,
           "E"
          ]
         ],
         "hovertemplate": "Interacting Chain=alpha-tubulin<br>aa_classification=negatively charged<br>Residue Index=%{x}<br>Distance (angstroms)=%{y}<br>residue_one_letter=%{text}<br>interacting_resinumber=%{customdata[0]}<br>interactingresi_oneletter=%{customdata[1]}<extra></extra>",
         "legendgroup": "alpha-tubulin, negatively charged",
         "marker": {
          "color": "#ff7f0e",
          "opacity": 0.6,
          "size": 10,
          "symbol": "triangle-down"
         },
         "mode": "markers+text",
         "name": "alpha-tubulin, negatively charged",
         "orientation": "v",
         "showlegend": true,
         "text": [
          "E",
          "E",
          "E"
         ],
         "textposition": "top center",
         "type": "scatter",
         "x": [
          243,
          251,
          319
         ],
         "xaxis": "x",
         "y": [
          4.167732620239258,
          3.727366256713867,
          3.963883757591248
         ],
         "yaxis": "y"
        },
        {
         "customdata": [
          [
           157,
           "E"
          ],
          [
           410,
           "E"
          ],
          [
           406,
           "M"
          ],
          [
           412,
           "E"
          ],
          [
           424,
           "Q"
          ],
          [
           417,
           "D"
          ],
          [
           436,
           "F"
          ]
         ],
         "hovertemplate": "Interacting Chain=beta-tubulin<br>aa_classification=positively charged<br>Residue Index=%{x}<br>Distance (angstroms)=%{y}<br>residue_one_letter=%{text}<br>interacting_resinumber=%{customdata[0]}<br>interactingresi_oneletter=%{customdata[1]}<extra></extra>",
         "legendgroup": "beta-tubulin, positively charged",
         "marker": {
          "color": "#2ca02c",
          "opacity": 0.6,
          "size": 10,
          "symbol": "triangle-up"
         },
         "mode": "markers+text",
         "name": "beta-tubulin, positively charged",
         "orientation": "v",
         "showlegend": true,
         "text": [
          "K",
          "H",
          "K",
          "R",
          "H",
          "R",
          "R"
         ],
         "textposition": "top center",
         "type": "scatter",
         "x": [
          148,
          163,
          166,
          168,
          282,
          286,
          329
         ],
         "xaxis": "x",
         "y": [
          3.262774181365967,
          2.7359596729278564,
          3.5307512283325195,
          3.9677976846694953,
          2.8208207845687867,
          2.5291112899780277,
          4.312378334999084
         ],
         "yaxis": "y"
        },
        {
         "customdata": [
          [
           410,
           "E"
          ]
         ],
         "hovertemplate": "Interacting Chain=beta-tubulin<br>aa_classification=nonpolar<br>Residue Index=%{x}<br>Distance (angstroms)=%{y}<br>residue_one_letter=%{text}<br>interacting_resinumber=%{customdata[0]}<br>interactingresi_oneletter=%{customdata[1]}<extra></extra>",
         "legendgroup": "beta-tubulin, nonpolar",
         "marker": {
          "color": "#2ca02c",
          "opacity": 0.6,
          "size": 10,
          "symbol": "circle"
         },
         "mode": "markers+text",
         "name": "beta-tubulin, nonpolar",
         "orientation": "v",
         "showlegend": true,
         "text": [
          "V"
         ],
         "textposition": "top center",
         "type": "scatter",
         "x": [
          162
         ],
         "xaxis": "x",
         "y": [
          3.2072339773178102
         ],
         "yaxis": "y"
        },
        {
         "customdata": [
          [
           157,
           "E"
          ],
          [
           420,
           "S"
          ]
         ],
         "hovertemplate": "Interacting Chain=beta-tubulin<br>aa_classification=polar uncharged<br>Residue Index=%{x}<br>Distance (angstroms)=%{y}<br>residue_one_letter=%{text}<br>interacting_resinumber=%{customdata[0]}<br>interactingresi_oneletter=%{customdata[1]}<extra></extra>",
         "legendgroup": "beta-tubulin, polar uncharged",
         "marker": {
          "color": "#2ca02c",
          "opacity": 0.6,
          "size": 10,
          "symbol": "square"
         },
         "mode": "markers+text",
         "name": "beta-tubulin, polar uncharged",
         "orientation": "v",
         "showlegend": true,
         "text": [
          "N",
          "T"
         ],
         "textposition": "top center",
         "type": "scatter",
         "x": [
          159,
          281
         ],
         "xaxis": "x",
         "y": [
          3.1379271507263184,
          3.965798187255859
         ],
         "yaxis": "y"
        },
        {
         "customdata": [
          [
           413,
           "S"
          ],
          [
           406,
           "M"
          ],
          [
           262,
           "R"
          ]
         ],
         "hovertemplate": "Interacting Chain=beta-tubulin<br>aa_classification=negatively charged<br>Residue Index=%{x}<br>Distance (angstroms)=%{y}<br>residue_one_letter=%{text}<br>interacting_resinumber=%{customdata[0]}<br>interactingresi_oneletter=%{customdata[1]}<extra></extra>",
         "legendgroup": "beta-tubulin, negatively charged",
         "marker": {
          "color": "#2ca02c",
          "opacity": 0.6,
          "size": 10,
          "symbol": "triangle-down"
         },
         "mode": "markers+text",
         "name": "beta-tubulin, negatively charged",
         "orientation": "v",
         "showlegend": true,
         "text": [
          "E",
          "D",
          "D"
         ],
         "textposition": "top center",
         "type": "scatter",
         "x": [
          164,
          165,
          287
         ],
         "xaxis": "x",
         "y": [
          3.3726722955703736,
          3.749035692214966,
          3.1653293132781983
         ],
         "yaxis": "y"
        },
        {
         "customdata": [
          [
           1,
           "?"
          ],
          [
           1,
           "?"
          ],
          [
           1,
           "?"
          ],
          [
           1,
           "?"
          ],
          [
           1,
           "?"
          ]
         ],
         "hovertemplate": "Interacting Chain=ATP<br>aa_classification=positively charged<br>Residue Index=%{x}<br>Distance (angstroms)=%{y}<br>residue_one_letter=%{text}<br>interacting_resinumber=%{customdata[0]}<br>interactingresi_oneletter=%{customdata[1]}<extra></extra>",
         "legendgroup": "ATP, positively charged",
         "marker": {
          "color": "#d62728",
          "opacity": 0.6,
          "size": 10,
          "symbol": "triangle-up"
         },
         "mode": "markers+text",
         "name": "ATP, positively charged",
         "orientation": "v",
         "showlegend": true,
         "text": [
          "R",
          "R",
          "K",
          "H",
          "H"
         ],
         "textposition": "top center",
         "type": "scatter",
         "x": [
          18,
          20,
          98,
          100,
          207
         ],
         "xaxis": "x",
         "y": [
          3.804740309715271,
          3.6418951511383058,
          2.7979667663574217,
          2.808457064628601,
          3.907215428352356
         ],
         "yaxis": "y"
        },
        {
         "customdata": [
          [
           1,
           "?"
          ],
          [
           1,
           "?"
          ],
          [
           1,
           "?"
          ],
          [
           1,
           "?"
          ],
          [
           1,
           "?"
          ],
          [
           1,
           "?"
          ]
         ],
         "hovertemplate": "Interacting Chain=ATP<br>aa_classification=nonpolar<br>Residue Index=%{x}<br>Distance (angstroms)=%{y}<br>residue_one_letter=%{text}<br>interacting_resinumber=%{customdata[0]}<br>interactingresi_oneletter=%{customdata[1]}<extra></extra>",
         "legendgroup": "ATP, nonpolar",
         "marker": {
          "color": "#d62728",
          "opacity": 0.6,
          "size": 10,
          "symbol": "circle"
         },
         "mode": "markers+text",
         "name": "ATP, nonpolar",
         "orientation": "v",
         "showlegend": true,
         "text": [
          "P",
          "P",
          "G",
          "L",
          "A",
          "G"
         ],
         "textposition": "top center",
         "type": "scatter",
         "x": [
          21,
          61,
          97,
          239,
          240,
          241
         ],
         "xaxis": "x",
         "y": [
          3.541921019554138,
          4.482241439819336,
          3.00402467250824,
          4.464330291748047,
          3.953473496437073,
          2.9616657733917235
         ],
         "yaxis": "y"
        },
        {
         "customdata": [
          [
           1,
           "?"
          ],
          [
           1,
           "?"
          ],
          [
           1,
           "?"
          ],
          [
           1,
           "?"
          ],
          [
           1,
           "?"
          ],
          [
           1,
           "?"
          ]
         ],
         "hovertemplate": "Interacting Chain=ATP<br>aa_classification=polar uncharged<br>Residue Index=%{x}<br>Distance (angstroms)=%{y}<br>residue_one_letter=%{text}<br>interacting_resinumber=%{customdata[0]}<br>interactingresi_oneletter=%{customdata[1]}<extra></extra>",
         "legendgroup": "ATP, polar uncharged",
         "marker": {
          "color": "#d62728",
          "opacity": 0.6,
          "size": 10,
          "symbol": "square"
         },
         "mode": "markers+text",
         "name": "ATP, polar uncharged",
         "orientation": "v",
         "showlegend": true,
         "text": [
          "Q",
          "T",
          "S",
          "S",
          "N",
          "S"
         ],
         "textposition": "top center",
         "type": "scatter",
         "x": [
          93,
          94,
          95,
          96,
          205,
          208
         ],
         "xaxis": "x",
         "y": [
          3.956501245498657,
          2.4928210020065307,
          2.8767160415649413,
          3.3828309059143065,
          2.988686275482178,
          2.928864097595215
         ],
         "yaxis": "y"
        }
       ],
       "layout": {
        "autosize": false,
        "height": 600,
        "legend": {
         "title": {
          "text": "Interacting Chain"
         },
         "tracegroupgap": 0
        },
        "shapes": [
         {
          "fillcolor": "LightSkyBlue",
          "layer": "below",
          "line": {
           "width": 0
          },
          "opacity": 0.3,
          "type": "rect",
          "x0": 0,
          "x1": 600,
          "y0": 0,
          "y1": 5
         }
        ],
        "template": {
         "data": {
          "bar": [
           {
            "error_x": {
             "color": "#2a3f5f"
            },
            "error_y": {
             "color": "#2a3f5f"
            },
            "marker": {
             "line": {
              "color": "#E5ECF6",
              "width": 0.5
             },
             "pattern": {
              "fillmode": "overlay",
              "size": 10,
              "solidity": 0.2
             }
            },
            "type": "bar"
           }
          ],
          "barpolar": [
           {
            "marker": {
             "line": {
              "color": "#E5ECF6",
              "width": 0.5
             },
             "pattern": {
              "fillmode": "overlay",
              "size": 10,
              "solidity": 0.2
             }
            },
            "type": "barpolar"
           }
          ],
          "carpet": [
           {
            "aaxis": {
             "endlinecolor": "#2a3f5f",
             "gridcolor": "white",
             "linecolor": "white",
             "minorgridcolor": "white",
             "startlinecolor": "#2a3f5f"
            },
            "baxis": {
             "endlinecolor": "#2a3f5f",
             "gridcolor": "white",
             "linecolor": "white",
             "minorgridcolor": "white",
             "startlinecolor": "#2a3f5f"
            },
            "type": "carpet"
           }
          ],
          "choropleth": [
           {
            "colorbar": {
             "outlinewidth": 0,
             "ticks": ""
            },
            "type": "choropleth"
           }
          ],
          "contour": [
           {
            "colorbar": {
             "outlinewidth": 0,
             "ticks": ""
            },
            "colorscale": [
             [
              0,
              "#0d0887"
             ],
             [
              0.1111111111111111,
              "#46039f"
             ],
             [
              0.2222222222222222,
              "#7201a8"
             ],
             [
              0.3333333333333333,
              "#9c179e"
             ],
             [
              0.4444444444444444,
              "#bd3786"
             ],
             [
              0.5555555555555556,
              "#d8576b"
             ],
             [
              0.6666666666666666,
              "#ed7953"
             ],
             [
              0.7777777777777778,
              "#fb9f3a"
             ],
             [
              0.8888888888888888,
              "#fdca26"
             ],
             [
              1,
              "#f0f921"
             ]
            ],
            "type": "contour"
           }
          ],
          "contourcarpet": [
           {
            "colorbar": {
             "outlinewidth": 0,
             "ticks": ""
            },
            "type": "contourcarpet"
           }
          ],
          "heatmap": [
           {
            "colorbar": {
             "outlinewidth": 0,
             "ticks": ""
            },
            "colorscale": [
             [
              0,
              "#0d0887"
             ],
             [
              0.1111111111111111,
              "#46039f"
             ],
             [
              0.2222222222222222,
              "#7201a8"
             ],
             [
              0.3333333333333333,
              "#9c179e"
             ],
             [
              0.4444444444444444,
              "#bd3786"
             ],
             [
              0.5555555555555556,
              "#d8576b"
             ],
             [
              0.6666666666666666,
              "#ed7953"
             ],
             [
              0.7777777777777778,
              "#fb9f3a"
             ],
             [
              0.8888888888888888,
              "#fdca26"
             ],
             [
              1,
              "#f0f921"
             ]
            ],
            "type": "heatmap"
           }
          ],
          "heatmapgl": [
           {
            "colorbar": {
             "outlinewidth": 0,
             "ticks": ""
            },
            "colorscale": [
             [
              0,
              "#0d0887"
             ],
             [
              0.1111111111111111,
              "#46039f"
             ],
             [
              0.2222222222222222,
              "#7201a8"
             ],
             [
              0.3333333333333333,
              "#9c179e"
             ],
             [
              0.4444444444444444,
              "#bd3786"
             ],
             [
              0.5555555555555556,
              "#d8576b"
             ],
             [
              0.6666666666666666,
              "#ed7953"
             ],
             [
              0.7777777777777778,
              "#fb9f3a"
             ],
             [
              0.8888888888888888,
              "#fdca26"
             ],
             [
              1,
              "#f0f921"
             ]
            ],
            "type": "heatmapgl"
           }
          ],
          "histogram": [
           {
            "marker": {
             "pattern": {
              "fillmode": "overlay",
              "size": 10,
              "solidity": 0.2
             }
            },
            "type": "histogram"
           }
          ],
          "histogram2d": [
           {
            "colorbar": {
             "outlinewidth": 0,
             "ticks": ""
            },
            "colorscale": [
             [
              0,
              "#0d0887"
             ],
             [
              0.1111111111111111,
              "#46039f"
             ],
             [
              0.2222222222222222,
              "#7201a8"
             ],
             [
              0.3333333333333333,
              "#9c179e"
             ],
             [
              0.4444444444444444,
              "#bd3786"
             ],
             [
              0.5555555555555556,
              "#d8576b"
             ],
             [
              0.6666666666666666,
              "#ed7953"
             ],
             [
              0.7777777777777778,
              "#fb9f3a"
             ],
             [
              0.8888888888888888,
              "#fdca26"
             ],
             [
              1,
              "#f0f921"
             ]
            ],
            "type": "histogram2d"
           }
          ],
          "histogram2dcontour": [
           {
            "colorbar": {
             "outlinewidth": 0,
             "ticks": ""
            },
            "colorscale": [
             [
              0,
              "#0d0887"
             ],
             [
              0.1111111111111111,
              "#46039f"
             ],
             [
              0.2222222222222222,
              "#7201a8"
             ],
             [
              0.3333333333333333,
              "#9c179e"
             ],
             [
              0.4444444444444444,
              "#bd3786"
             ],
             [
              0.5555555555555556,
              "#d8576b"
             ],
             [
              0.6666666666666666,
              "#ed7953"
             ],
             [
              0.7777777777777778,
              "#fb9f3a"
             ],
             [
              0.8888888888888888,
              "#fdca26"
             ],
             [
              1,
              "#f0f921"
             ]
            ],
            "type": "histogram2dcontour"
           }
          ],
          "mesh3d": [
           {
            "colorbar": {
             "outlinewidth": 0,
             "ticks": ""
            },
            "type": "mesh3d"
           }
          ],
          "parcoords": [
           {
            "line": {
             "colorbar": {
              "outlinewidth": 0,
              "ticks": ""
             }
            },
            "type": "parcoords"
           }
          ],
          "pie": [
           {
            "automargin": true,
            "type": "pie"
           }
          ],
          "scatter": [
           {
            "fillpattern": {
             "fillmode": "overlay",
             "size": 10,
             "solidity": 0.2
            },
            "type": "scatter"
           }
          ],
          "scatter3d": [
           {
            "line": {
             "colorbar": {
              "outlinewidth": 0,
              "ticks": ""
             }
            },
            "marker": {
             "colorbar": {
              "outlinewidth": 0,
              "ticks": ""
             }
            },
            "type": "scatter3d"
           }
          ],
          "scattercarpet": [
           {
            "marker": {
             "colorbar": {
              "outlinewidth": 0,
              "ticks": ""
             }
            },
            "type": "scattercarpet"
           }
          ],
          "scattergeo": [
           {
            "marker": {
             "colorbar": {
              "outlinewidth": 0,
              "ticks": ""
             }
            },
            "type": "scattergeo"
           }
          ],
          "scattergl": [
           {
            "marker": {
             "colorbar": {
              "outlinewidth": 0,
              "ticks": ""
             }
            },
            "type": "scattergl"
           }
          ],
          "scattermapbox": [
           {
            "marker": {
             "colorbar": {
              "outlinewidth": 0,
              "ticks": ""
             }
            },
            "type": "scattermapbox"
           }
          ],
          "scatterpolar": [
           {
            "marker": {
             "colorbar": {
              "outlinewidth": 0,
              "ticks": ""
             }
            },
            "type": "scatterpolar"
           }
          ],
          "scatterpolargl": [
           {
            "marker": {
             "colorbar": {
              "outlinewidth": 0,
              "ticks": ""
             }
            },
            "type": "scatterpolargl"
           }
          ],
          "scatterternary": [
           {
            "marker": {
             "colorbar": {
              "outlinewidth": 0,
              "ticks": ""
             }
            },
            "type": "scatterternary"
           }
          ],
          "surface": [
           {
            "colorbar": {
             "outlinewidth": 0,
             "ticks": ""
            },
            "colorscale": [
             [
              0,
              "#0d0887"
             ],
             [
              0.1111111111111111,
              "#46039f"
             ],
             [
              0.2222222222222222,
              "#7201a8"
             ],
             [
              0.3333333333333333,
              "#9c179e"
             ],
             [
              0.4444444444444444,
              "#bd3786"
             ],
             [
              0.5555555555555556,
              "#d8576b"
             ],
             [
              0.6666666666666666,
              "#ed7953"
             ],
             [
              0.7777777777777778,
              "#fb9f3a"
             ],
             [
              0.8888888888888888,
              "#fdca26"
             ],
             [
              1,
              "#f0f921"
             ]
            ],
            "type": "surface"
           }
          ],
          "table": [
           {
            "cells": {
             "fill": {
              "color": "#EBF0F8"
             },
             "line": {
              "color": "white"
             }
            },
            "header": {
             "fill": {
              "color": "#C8D4E3"
             },
             "line": {
              "color": "white"
             }
            },
            "type": "table"
           }
          ]
         },
         "layout": {
          "annotationdefaults": {
           "arrowcolor": "#2a3f5f",
           "arrowhead": 0,
           "arrowwidth": 1
          },
          "autotypenumbers": "strict",
          "coloraxis": {
           "colorbar": {
            "outlinewidth": 0,
            "ticks": ""
           }
          },
          "colorscale": {
           "diverging": [
            [
             0,
             "#8e0152"
            ],
            [
             0.1,
             "#c51b7d"
            ],
            [
             0.2,
             "#de77ae"
            ],
            [
             0.3,
             "#f1b6da"
            ],
            [
             0.4,
             "#fde0ef"
            ],
            [
             0.5,
             "#f7f7f7"
            ],
            [
             0.6,
             "#e6f5d0"
            ],
            [
             0.7,
             "#b8e186"
            ],
            [
             0.8,
             "#7fbc41"
            ],
            [
             0.9,
             "#4d9221"
            ],
            [
             1,
             "#276419"
            ]
           ],
           "sequential": [
            [
             0,
             "#0d0887"
            ],
            [
             0.1111111111111111,
             "#46039f"
            ],
            [
             0.2222222222222222,
             "#7201a8"
            ],
            [
             0.3333333333333333,
             "#9c179e"
            ],
            [
             0.4444444444444444,
             "#bd3786"
            ],
            [
             0.5555555555555556,
             "#d8576b"
            ],
            [
             0.6666666666666666,
             "#ed7953"
            ],
            [
             0.7777777777777778,
             "#fb9f3a"
            ],
            [
             0.8888888888888888,
             "#fdca26"
            ],
            [
             1,
             "#f0f921"
            ]
           ],
           "sequentialminus": [
            [
             0,
             "#0d0887"
            ],
            [
             0.1111111111111111,
             "#46039f"
            ],
            [
             0.2222222222222222,
             "#7201a8"
            ],
            [
             0.3333333333333333,
             "#9c179e"
            ],
            [
             0.4444444444444444,
             "#bd3786"
            ],
            [
             0.5555555555555556,
             "#d8576b"
            ],
            [
             0.6666666666666666,
             "#ed7953"
            ],
            [
             0.7777777777777778,
             "#fb9f3a"
            ],
            [
             0.8888888888888888,
             "#fdca26"
            ],
            [
             1,
             "#f0f921"
            ]
           ]
          },
          "colorway": [
           "#636efa",
           "#EF553B",
           "#00cc96",
           "#ab63fa",
           "#FFA15A",
           "#19d3f3",
           "#FF6692",
           "#B6E880",
           "#FF97FF",
           "#FECB52"
          ],
          "font": {
           "color": "#2a3f5f"
          },
          "geo": {
           "bgcolor": "white",
           "lakecolor": "white",
           "landcolor": "#E5ECF6",
           "showlakes": true,
           "showland": true,
           "subunitcolor": "white"
          },
          "hoverlabel": {
           "align": "left"
          },
          "hovermode": "closest",
          "mapbox": {
           "style": "light"
          },
          "paper_bgcolor": "white",
          "plot_bgcolor": "#E5ECF6",
          "polar": {
           "angularaxis": {
            "gridcolor": "white",
            "linecolor": "white",
            "ticks": ""
           },
           "bgcolor": "#E5ECF6",
           "radialaxis": {
            "gridcolor": "white",
            "linecolor": "white",
            "ticks": ""
           }
          },
          "scene": {
           "xaxis": {
            "backgroundcolor": "#E5ECF6",
            "gridcolor": "white",
            "gridwidth": 2,
            "linecolor": "white",
            "showbackground": true,
            "ticks": "",
            "zerolinecolor": "white"
           },
           "yaxis": {
            "backgroundcolor": "#E5ECF6",
            "gridcolor": "white",
            "gridwidth": 2,
            "linecolor": "white",
            "showbackground": true,
            "ticks": "",
            "zerolinecolor": "white"
           },
           "zaxis": {
            "backgroundcolor": "#E5ECF6",
            "gridcolor": "white",
            "gridwidth": 2,
            "linecolor": "white",
            "showbackground": true,
            "ticks": "",
            "zerolinecolor": "white"
           }
          },
          "shapedefaults": {
           "line": {
            "color": "#2a3f5f"
           }
          },
          "ternary": {
           "aaxis": {
            "gridcolor": "white",
            "linecolor": "white",
            "ticks": ""
           },
           "baxis": {
            "gridcolor": "white",
            "linecolor": "white",
            "ticks": ""
           },
           "bgcolor": "#E5ECF6",
           "caxis": {
            "gridcolor": "white",
            "linecolor": "white",
            "ticks": ""
           }
          },
          "title": {
           "x": 0.05
          },
          "xaxis": {
           "automargin": true,
           "gridcolor": "white",
           "linecolor": "white",
           "ticks": "",
           "title": {
            "standoff": 15
           },
           "zerolinecolor": "white",
           "zerolinewidth": 2
          },
          "yaxis": {
           "automargin": true,
           "gridcolor": "white",
           "linecolor": "white",
           "ticks": "",
           "title": {
            "standoff": 15
           },
           "zerolinecolor": "white",
           "zerolinewidth": 2
          }
         }
        },
        "title": {
         "text": "Interactions for A"
        },
        "width": 1600,
        "xaxis": {
         "anchor": "y",
         "domain": [
          0,
          1
         ],
         "dtick": 20,
         "range": [
          0,
          600
         ],
         "title": {
          "text": "Residue Index"
         }
        },
        "yaxis": {
         "anchor": "x",
         "domain": [
          0,
          1
         ],
         "range": [
          1.5,
          5
         ],
         "title": {
          "text": "Distance (angstroms)"
         }
        }
       }
      }
     },
     "metadata": {},
     "output_type": "display_data"
    },
    {
     "data": {
      "application/vnd.plotly.v1+json": {
       "config": {
        "plotlyServerURL": "https://plot.ly"
       },
       "data": [
        {
         "customdata": [
          [
           344,
           "W"
          ],
          [
           348,
           "Y"
          ],
          [
           351,
           "E"
          ],
          [
           355,
           "N"
          ],
          [
           358,
           "L"
          ],
          [
           366,
           "E"
          ],
          [
           368,
           "E"
          ]
         ],
         "hovertemplate": "Interacting Chain=kinesin B<br>aa_classification=positively charged<br>Residue Index=%{x}<br>Distance (angstroms)=%{y}<br>residue_one_letter=%{text}<br>interacting_resinumber=%{customdata[0]}<br>interactingresi_oneletter=%{customdata[1]}<extra></extra>",
         "legendgroup": "kinesin B, positively charged",
         "marker": {
          "color": "#1f77b4",
          "opacity": 0.6,
          "size": 10,
          "symbol": "triangle-up"
         },
         "mode": "markers+text",
         "name": "kinesin B, positively charged",
         "orientation": "v",
         "showlegend": true,
         "text": [
          "K",
          "R",
          "K",
          "K",
          "K",
          "K",
          "R"
         ],
         "textposition": "top center",
         "type": "scatter",
         "x": [
          345,
          347,
          352,
          354,
          359,
          361,
          373
         ],
         "xaxis": "x",
         "y": [
          3.684706282615662,
          3.671085619926453,
          4.126491737365723,
          3.501984453201294,
          4.371556854248047,
          2.9641838312149047,
          2.749025273323059
         ],
         "yaxis": "y"
        },
        {
         "customdata": [
          [
           341,
           "A"
          ],
          [
           344,
           "W"
          ],
          [
           348,
           "Y"
          ],
          [
           355,
           "N"
          ],
          [
           362,
           "V"
          ],
          [
           369,
           "L"
          ],
          [
           368,
           "E"
          ],
          [
           386,
           "M"
          ],
          [
           372,
           "W"
          ],
          [
           373,
           "R"
          ],
          [
           373,
           "R"
          ]
         ],
         "hovertemplate": "Interacting Chain=kinesin B<br>aa_classification=nonpolar<br>Residue Index=%{x}<br>Distance (angstroms)=%{y}<br>residue_one_letter=%{text}<br>interacting_resinumber=%{customdata[0]}<br>interactingresi_oneletter=%{customdata[1]}<extra></extra>",
         "legendgroup": "kinesin B, nonpolar",
         "marker": {
          "color": "#1f77b4",
          "opacity": 0.6,
          "size": 10,
          "symbol": "circle"
         },
         "mode": "markers+text",
         "name": "kinesin B, nonpolar",
         "orientation": "v",
         "showlegend": true,
         "text": [
          "L",
          "A",
          "W",
          "L",
          "V",
          "L",
          "L",
          "A",
          "W",
          "I",
          "M"
         ],
         "textposition": "top center",
         "type": "scatter",
         "x": [
          339,
          341,
          344,
          358,
          362,
          365,
          369,
          370,
          372,
          384,
          386
         ],
         "xaxis": "x",
         "y": [
          3.672369360923767,
          3.352912974357605,
          3.371376037597656,
          2.830569124221802,
          3.5015988111495973,
          3.5079120874404905,
          2.969009590148926,
          4.249751305580139,
          3.7323163032531737,
          2.855355429649353,
          3.476267385482788
         ],
         "yaxis": "y"
        },
        {
         "customdata": [
          [
           355,
           "N"
          ],
          [
           361,
           "K"
          ],
          [
           373,
           "R"
          ]
         ],
         "hovertemplate": "Interacting Chain=kinesin B<br>aa_classification=negatively charged<br>Residue Index=%{x}<br>Distance (angstroms)=%{y}<br>residue_one_letter=%{text}<br>interacting_resinumber=%{customdata[0]}<br>interactingresi_oneletter=%{customdata[1]}<extra></extra>",
         "legendgroup": "kinesin B, negatively charged",
         "marker": {
          "color": "#1f77b4",
          "opacity": 0.6,
          "size": 10,
          "symbol": "triangle-down"
         },
         "mode": "markers+text",
         "name": "kinesin B, negatively charged",
         "orientation": "v",
         "showlegend": true,
         "text": [
          "E",
          "E",
          "E"
         ],
         "textposition": "top center",
         "type": "scatter",
         "x": [
          351,
          366,
          368
         ],
         "xaxis": "x",
         "y": [
          2.095494246482849,
          3.0142215728759765,
          2.82890100479126
         ],
         "yaxis": "y"
        },
        {
         "customdata": [
          [
           341,
           "A"
          ],
          [
           344,
           "W"
          ],
          [
           351,
           "E"
          ],
          [
           373,
           "R"
          ]
         ],
         "hovertemplate": "Interacting Chain=kinesin B<br>aa_classification=polar uncharged<br>Residue Index=%{x}<br>Distance (angstroms)=%{y}<br>residue_one_letter=%{text}<br>interacting_resinumber=%{customdata[0]}<br>interactingresi_oneletter=%{customdata[1]}<extra></extra>",
         "legendgroup": "kinesin B, polar uncharged",
         "marker": {
          "color": "#1f77b4",
          "opacity": 0.6,
          "size": 10,
          "symbol": "square"
         },
         "mode": "markers+text",
         "name": "kinesin B, polar uncharged",
         "orientation": "v",
         "showlegend": true,
         "text": [
          "T",
          "Y",
          "N",
          "Q"
         ],
         "textposition": "top center",
         "type": "scatter",
         "x": [
          340,
          348,
          355,
          383
         ],
         "xaxis": "x",
         "y": [
          4.078936386108398,
          3.3598332166671754,
          2.384980952739716,
          3.4740668058395388
         ],
         "yaxis": "y"
        },
        {
         "customdata": [
          [
           420,
           "E"
          ],
          [
           410,
           "G"
          ],
          [
           409,
           "V"
          ],
          [
           423,
           "E"
          ]
         ],
         "hovertemplate": "Interacting Chain=alpha-tubulin<br>aa_classification=positively charged<br>Residue Index=%{x}<br>Distance (angstroms)=%{y}<br>residue_one_letter=%{text}<br>interacting_resinumber=%{customdata[0]}<br>interactingresi_oneletter=%{customdata[1]}<extra></extra>",
         "legendgroup": "alpha-tubulin, positively charged",
         "marker": {
          "color": "#ff7f0e",
          "opacity": 0.6,
          "size": 10,
          "symbol": "triangle-up"
         },
         "mode": "markers+text",
         "name": "alpha-tubulin, positively charged",
         "orientation": "v",
         "showlegend": true,
         "text": [
          "K",
          "K",
          "K",
          "K"
         ],
         "textposition": "top center",
         "type": "scatter",
         "x": [
          240,
          255,
          259,
          317
         ],
         "xaxis": "x",
         "y": [
          2.578018593788147,
          3.3175840854644774,
          3.392991065979004,
          3.95620322227478
         ],
         "yaxis": "y"
        },
        {
         "customdata": [
          [
           412,
           "G"
          ],
          [
           112,
           "K"
          ],
          [
           108,
           "Y"
          ]
         ],
         "hovertemplate": "Interacting Chain=alpha-tubulin<br>aa_classification=nonpolar<br>Residue Index=%{x}<br>Distance (angstroms)=%{y}<br>residue_one_letter=%{text}<br>interacting_resinumber=%{customdata[0]}<br>interactingresi_oneletter=%{customdata[1]}<extra></extra>",
         "legendgroup": "alpha-tubulin, nonpolar",
         "marker": {
          "color": "#ff7f0e",
          "opacity": 0.6,
          "size": 10,
          "symbol": "circle"
         },
         "mode": "markers+text",
         "name": "alpha-tubulin, nonpolar",
         "orientation": "v",
         "showlegend": true,
         "text": [
          "V",
          "A",
          "L"
         ],
         "textposition": "top center",
         "type": "scatter",
         "x": [
          241,
          246,
          251
         ],
         "xaxis": "x",
         "y": [
          3.231296110153198,
          3.2889416933059694,
          4.362195539474487
         ],
         "yaxis": "y"
        },
        {
         "customdata": [
          [
           427,
           "A"
          ],
          [
           414,
           "E"
          ],
          [
           112,
           "K"
          ],
          [
           414,
           "E"
          ]
         ],
         "hovertemplate": "Interacting Chain=alpha-tubulin<br>aa_classification=negatively charged<br>Residue Index=%{x}<br>Distance (angstroms)=%{y}<br>residue_one_letter=%{text}<br>interacting_resinumber=%{customdata[0]}<br>interactingresi_oneletter=%{customdata[1]}<extra></extra>",
         "legendgroup": "alpha-tubulin, negatively charged",
         "marker": {
          "color": "#ff7f0e",
          "opacity": 0.6,
          "size": 10,
          "symbol": "triangle-down"
         },
         "mode": "markers+text",
         "name": "alpha-tubulin, negatively charged",
         "orientation": "v",
         "showlegend": true,
         "text": [
          "E",
          "E",
          "E",
          "E"
         ],
         "textposition": "top center",
         "type": "scatter",
         "x": [
          41,
          239,
          247,
          315
         ],
         "xaxis": "x",
         "y": [
          4.203761649131775,
          4.174589967727661,
          3.139468479156494,
          4.099631834030151
         ],
         "yaxis": "y"
        },
        {
         "customdata": [
          [
           414,
           "E"
          ],
          [
           409,
           "V"
          ],
          [
           415,
           "E"
          ],
          [
           402,
           "R"
          ],
          [
           420,
           "E"
          ]
         ],
         "hovertemplate": "Interacting Chain=alpha-tubulin<br>aa_classification=polar uncharged<br>Residue Index=%{x}<br>Distance (angstroms)=%{y}<br>residue_one_letter=%{text}<br>interacting_resinumber=%{customdata[0]}<br>interactingresi_oneletter=%{customdata[1]}<extra></extra>",
         "legendgroup": "alpha-tubulin, polar uncharged",
         "marker": {
          "color": "#ff7f0e",
          "opacity": 0.6,
          "size": 10,
          "symbol": "square"
         },
         "mode": "markers+text",
         "name": "alpha-tubulin, polar uncharged",
         "orientation": "v",
         "showlegend": true,
         "text": [
          "S",
          "N",
          "S",
          "N",
          "S"
         ],
         "textposition": "top center",
         "type": "scatter",
         "x": [
          238,
          258,
          262,
          266,
          314
         ],
         "xaxis": "x",
         "y": [
          3.131717896461487,
          3.4718270301818848,
          2.4377216577529905,
          3.5812163829803465,
          3.241580295562744
         ],
         "yaxis": "y"
        },
        {
         "customdata": [
          [
           157,
           "E"
          ],
          [
           407,
           "E"
          ],
          [
           407,
           "E"
          ],
          [
           424,
           "Q"
          ],
          [
           424,
           "Q"
          ],
          [
           417,
           "D"
          ],
          [
           194,
           "E"
          ],
          [
           410,
           "E"
          ]
         ],
         "hovertemplate": "Interacting Chain=beta-tubulin<br>aa_classification=positively charged<br>Residue Index=%{x}<br>Distance (angstroms)=%{y}<br>residue_one_letter=%{text}<br>interacting_resinumber=%{customdata[0]}<br>interactingresi_oneletter=%{customdata[1]}<extra></extra>",
         "legendgroup": "beta-tubulin, positively charged",
         "marker": {
          "color": "#2ca02c",
          "opacity": 0.6,
          "size": 10,
          "symbol": "triangle-up"
         },
         "mode": "markers+text",
         "name": "beta-tubulin, positively charged",
         "orientation": "v",
         "showlegend": true,
         "text": [
          "R",
          "K",
          "R",
          "K",
          "H",
          "R",
          "K",
          "R"
         ],
         "textposition": "top center",
         "type": "scatter",
         "x": [
          144,
          157,
          159,
          276,
          278,
          282,
          285,
          288
         ],
         "xaxis": "x",
         "y": [
          2.773083090782165,
          4.145580697059631,
          3.254925560951233,
          3.845993494987488,
          2.675481939315796,
          2.745980215072632,
          3.644285249710083,
          3.3793967008590697
         ],
         "yaxis": "y"
        },
        {
         "customdata": [
          [
           410,
           "E"
          ],
          [
           406,
           "M"
          ]
         ],
         "hovertemplate": "Interacting Chain=beta-tubulin<br>aa_classification=nonpolar<br>Residue Index=%{x}<br>Distance (angstroms)=%{y}<br>residue_one_letter=%{text}<br>interacting_resinumber=%{customdata[0]}<br>interactingresi_oneletter=%{customdata[1]}<extra></extra>",
         "legendgroup": "beta-tubulin, nonpolar",
         "marker": {
          "color": "#2ca02c",
          "opacity": 0.6,
          "size": 10,
          "symbol": "circle"
         },
         "mode": "markers+text",
         "name": "beta-tubulin, nonpolar",
         "orientation": "v",
         "showlegend": true,
         "text": [
          "V",
          "W"
         ],
         "textposition": "top center",
         "type": "scatter",
         "x": [
          158,
          167
         ],
         "xaxis": "x",
         "y": [
          3.9670416593551634,
          3.604830193519592
         ],
         "yaxis": "y"
        },
        {
         "customdata": [
          [
           413,
           "S"
          ],
          [
           406,
           "M"
          ],
          [
           406,
           "M"
          ],
          [
           262,
           "R"
          ]
         ],
         "hovertemplate": "Interacting Chain=beta-tubulin<br>aa_classification=negatively charged<br>Residue Index=%{x}<br>Distance (angstroms)=%{y}<br>residue_one_letter=%{text}<br>interacting_resinumber=%{customdata[0]}<br>interactingresi_oneletter=%{customdata[1]}<extra></extra>",
         "legendgroup": "beta-tubulin, negatively charged",
         "marker": {
          "color": "#2ca02c",
          "opacity": 0.6,
          "size": 10,
          "symbol": "triangle-down"
         },
         "mode": "markers+text",
         "name": "beta-tubulin, negatively charged",
         "orientation": "v",
         "showlegend": true,
         "text": [
          "E",
          "E",
          "E",
          "D"
         ],
         "textposition": "top center",
         "type": "scatter",
         "x": [
          160,
          161,
          169,
          283
         ],
         "xaxis": "x",
         "y": [
          3.6515426635742183,
          3.974785661697388,
          4.475796365737915,
          3.275283598899841
         ],
         "yaxis": "y"
        },
        {
         "customdata": [
          [
           157,
           "E"
          ],
          [
           424,
           "Q"
          ]
         ],
         "hovertemplate": "Interacting Chain=beta-tubulin<br>aa_classification=polar uncharged<br>Residue Index=%{x}<br>Distance (angstroms)=%{y}<br>residue_one_letter=%{text}<br>interacting_resinumber=%{customdata[0]}<br>interactingresi_oneletter=%{customdata[1]}<extra></extra>",
         "legendgroup": "beta-tubulin, polar uncharged",
         "marker": {
          "color": "#2ca02c",
          "opacity": 0.6,
          "size": 10,
          "symbol": "square"
         },
         "mode": "markers+text",
         "name": "beta-tubulin, polar uncharged",
         "orientation": "v",
         "showlegend": true,
         "text": [
          "N",
          "T"
         ],
         "textposition": "top center",
         "type": "scatter",
         "x": [
          155,
          277
         ],
         "xaxis": "x",
         "y": [
          4.435711240768432,
          4.470735216140747
         ],
         "yaxis": "y"
        },
        {
         "customdata": [
          [
           1,
           "?"
          ],
          [
           1,
           "?"
          ],
          [
           1,
           "?"
          ],
          [
           1,
           "?"
          ]
         ],
         "hovertemplate": "Interacting Chain=ATP<br>aa_classification=positively charged<br>Residue Index=%{x}<br>Distance (angstroms)=%{y}<br>residue_one_letter=%{text}<br>interacting_resinumber=%{customdata[0]}<br>interactingresi_oneletter=%{customdata[1]}<extra></extra>",
         "legendgroup": "ATP, positively charged",
         "marker": {
          "color": "#d62728",
          "opacity": 0.6,
          "size": 10,
          "symbol": "triangle-up"
         },
         "mode": "markers+text",
         "name": "ATP, positively charged",
         "orientation": "v",
         "showlegend": true,
         "text": [
          "R",
          "R",
          "K",
          "H"
         ],
         "textposition": "top center",
         "type": "scatter",
         "x": [
          9,
          11,
          91,
          203
         ],
         "xaxis": "x",
         "y": [
          3.6818363904953,
          3.606285429000855,
          2.7457714557647703,
          4.027357482910157
         ],
         "yaxis": "y"
        },
        {
         "customdata": [
          [
           1,
           "?"
          ],
          [
           1,
           "?"
          ],
          [
           1,
           "?"
          ],
          [
           1,
           "?"
          ],
          [
           1,
           "?"
          ],
          [
           1,
           "?"
          ]
         ],
         "hovertemplate": "Interacting Chain=ATP<br>aa_classification=nonpolar<br>Residue Index=%{x}<br>Distance (angstroms)=%{y}<br>residue_one_letter=%{text}<br>interacting_resinumber=%{customdata[0]}<br>interactingresi_oneletter=%{customdata[1]}<extra></extra>",
         "legendgroup": "ATP, nonpolar",
         "marker": {
          "color": "#d62728",
          "opacity": 0.6,
          "size": 10,
          "symbol": "circle"
         },
         "mode": "markers+text",
         "name": "ATP, nonpolar",
         "orientation": "v",
         "showlegend": true,
         "text": [
          "P",
          "G",
          "G",
          "F",
          "A",
          "G"
         ],
         "textposition": "top center",
         "type": "scatter",
         "x": [
          12,
          88,
          90,
          93,
          236,
          237
         ],
         "xaxis": "x",
         "y": [
          3.514957809448242,
          2.7761566638946533,
          2.988733744621277,
          2.7579730272293093,
          3.968797302246094,
          2.9769861459732057
         ],
         "yaxis": "y"
        },
        {
         "customdata": [
          [
           1,
           "?"
          ],
          [
           1,
           "?"
          ],
          [
           1,
           "?"
          ],
          [
           1,
           "?"
          ],
          [
           1,
           "?"
          ]
         ],
         "hovertemplate": "Interacting Chain=ATP<br>aa_classification=polar uncharged<br>Residue Index=%{x}<br>Distance (angstroms)=%{y}<br>residue_one_letter=%{text}<br>interacting_resinumber=%{customdata[0]}<br>interactingresi_oneletter=%{customdata[1]}<extra></extra>",
         "legendgroup": "ATP, polar uncharged",
         "marker": {
          "color": "#d62728",
          "opacity": 0.6,
          "size": 10,
          "symbol": "square"
         },
         "mode": "markers+text",
         "name": "ATP, polar uncharged",
         "orientation": "v",
         "showlegend": true,
         "text": [
          "Q",
          "T",
          "S",
          "N",
          "S"
         ],
         "textposition": "top center",
         "type": "scatter",
         "x": [
          86,
          87,
          89,
          201,
          204
         ],
         "xaxis": "x",
         "y": [
          3.9447062253952025,
          2.5664165735244757,
          3.3467854022979737,
          2.9375773668289185,
          2.9518692016601564
         ],
         "yaxis": "y"
        }
       ],
       "layout": {
        "autosize": false,
        "height": 600,
        "legend": {
         "title": {
          "text": "Interacting Chain"
         },
         "tracegroupgap": 0
        },
        "shapes": [
         {
          "fillcolor": "LightSalmon",
          "layer": "below",
          "line": {
           "width": 0
          },
          "opacity": 0.3,
          "type": "rect",
          "x0": 0,
          "x1": 174,
          "y0": 0,
          "y1": 5
         },
         {
          "fillcolor": "LightSkyBlue",
          "layer": "below",
          "line": {
           "width": 0
          },
          "opacity": 0.3,
          "type": "rect",
          "x0": 174,
          "x1": 600,
          "y0": 0,
          "y1": 5
         }
        ],
        "template": {
         "data": {
          "bar": [
           {
            "error_x": {
             "color": "#2a3f5f"
            },
            "error_y": {
             "color": "#2a3f5f"
            },
            "marker": {
             "line": {
              "color": "#E5ECF6",
              "width": 0.5
             },
             "pattern": {
              "fillmode": "overlay",
              "size": 10,
              "solidity": 0.2
             }
            },
            "type": "bar"
           }
          ],
          "barpolar": [
           {
            "marker": {
             "line": {
              "color": "#E5ECF6",
              "width": 0.5
             },
             "pattern": {
              "fillmode": "overlay",
              "size": 10,
              "solidity": 0.2
             }
            },
            "type": "barpolar"
           }
          ],
          "carpet": [
           {
            "aaxis": {
             "endlinecolor": "#2a3f5f",
             "gridcolor": "white",
             "linecolor": "white",
             "minorgridcolor": "white",
             "startlinecolor": "#2a3f5f"
            },
            "baxis": {
             "endlinecolor": "#2a3f5f",
             "gridcolor": "white",
             "linecolor": "white",
             "minorgridcolor": "white",
             "startlinecolor": "#2a3f5f"
            },
            "type": "carpet"
           }
          ],
          "choropleth": [
           {
            "colorbar": {
             "outlinewidth": 0,
             "ticks": ""
            },
            "type": "choropleth"
           }
          ],
          "contour": [
           {
            "colorbar": {
             "outlinewidth": 0,
             "ticks": ""
            },
            "colorscale": [
             [
              0,
              "#0d0887"
             ],
             [
              0.1111111111111111,
              "#46039f"
             ],
             [
              0.2222222222222222,
              "#7201a8"
             ],
             [
              0.3333333333333333,
              "#9c179e"
             ],
             [
              0.4444444444444444,
              "#bd3786"
             ],
             [
              0.5555555555555556,
              "#d8576b"
             ],
             [
              0.6666666666666666,
              "#ed7953"
             ],
             [
              0.7777777777777778,
              "#fb9f3a"
             ],
             [
              0.8888888888888888,
              "#fdca26"
             ],
             [
              1,
              "#f0f921"
             ]
            ],
            "type": "contour"
           }
          ],
          "contourcarpet": [
           {
            "colorbar": {
             "outlinewidth": 0,
             "ticks": ""
            },
            "type": "contourcarpet"
           }
          ],
          "heatmap": [
           {
            "colorbar": {
             "outlinewidth": 0,
             "ticks": ""
            },
            "colorscale": [
             [
              0,
              "#0d0887"
             ],
             [
              0.1111111111111111,
              "#46039f"
             ],
             [
              0.2222222222222222,
              "#7201a8"
             ],
             [
              0.3333333333333333,
              "#9c179e"
             ],
             [
              0.4444444444444444,
              "#bd3786"
             ],
             [
              0.5555555555555556,
              "#d8576b"
             ],
             [
              0.6666666666666666,
              "#ed7953"
             ],
             [
              0.7777777777777778,
              "#fb9f3a"
             ],
             [
              0.8888888888888888,
              "#fdca26"
             ],
             [
              1,
              "#f0f921"
             ]
            ],
            "type": "heatmap"
           }
          ],
          "heatmapgl": [
           {
            "colorbar": {
             "outlinewidth": 0,
             "ticks": ""
            },
            "colorscale": [
             [
              0,
              "#0d0887"
             ],
             [
              0.1111111111111111,
              "#46039f"
             ],
             [
              0.2222222222222222,
              "#7201a8"
             ],
             [
              0.3333333333333333,
              "#9c179e"
             ],
             [
              0.4444444444444444,
              "#bd3786"
             ],
             [
              0.5555555555555556,
              "#d8576b"
             ],
             [
              0.6666666666666666,
              "#ed7953"
             ],
             [
              0.7777777777777778,
              "#fb9f3a"
             ],
             [
              0.8888888888888888,
              "#fdca26"
             ],
             [
              1,
              "#f0f921"
             ]
            ],
            "type": "heatmapgl"
           }
          ],
          "histogram": [
           {
            "marker": {
             "pattern": {
              "fillmode": "overlay",
              "size": 10,
              "solidity": 0.2
             }
            },
            "type": "histogram"
           }
          ],
          "histogram2d": [
           {
            "colorbar": {
             "outlinewidth": 0,
             "ticks": ""
            },
            "colorscale": [
             [
              0,
              "#0d0887"
             ],
             [
              0.1111111111111111,
              "#46039f"
             ],
             [
              0.2222222222222222,
              "#7201a8"
             ],
             [
              0.3333333333333333,
              "#9c179e"
             ],
             [
              0.4444444444444444,
              "#bd3786"
             ],
             [
              0.5555555555555556,
              "#d8576b"
             ],
             [
              0.6666666666666666,
              "#ed7953"
             ],
             [
              0.7777777777777778,
              "#fb9f3a"
             ],
             [
              0.8888888888888888,
              "#fdca26"
             ],
             [
              1,
              "#f0f921"
             ]
            ],
            "type": "histogram2d"
           }
          ],
          "histogram2dcontour": [
           {
            "colorbar": {
             "outlinewidth": 0,
             "ticks": ""
            },
            "colorscale": [
             [
              0,
              "#0d0887"
             ],
             [
              0.1111111111111111,
              "#46039f"
             ],
             [
              0.2222222222222222,
              "#7201a8"
             ],
             [
              0.3333333333333333,
              "#9c179e"
             ],
             [
              0.4444444444444444,
              "#bd3786"
             ],
             [
              0.5555555555555556,
              "#d8576b"
             ],
             [
              0.6666666666666666,
              "#ed7953"
             ],
             [
              0.7777777777777778,
              "#fb9f3a"
             ],
             [
              0.8888888888888888,
              "#fdca26"
             ],
             [
              1,
              "#f0f921"
             ]
            ],
            "type": "histogram2dcontour"
           }
          ],
          "mesh3d": [
           {
            "colorbar": {
             "outlinewidth": 0,
             "ticks": ""
            },
            "type": "mesh3d"
           }
          ],
          "parcoords": [
           {
            "line": {
             "colorbar": {
              "outlinewidth": 0,
              "ticks": ""
             }
            },
            "type": "parcoords"
           }
          ],
          "pie": [
           {
            "automargin": true,
            "type": "pie"
           }
          ],
          "scatter": [
           {
            "fillpattern": {
             "fillmode": "overlay",
             "size": 10,
             "solidity": 0.2
            },
            "type": "scatter"
           }
          ],
          "scatter3d": [
           {
            "line": {
             "colorbar": {
              "outlinewidth": 0,
              "ticks": ""
             }
            },
            "marker": {
             "colorbar": {
              "outlinewidth": 0,
              "ticks": ""
             }
            },
            "type": "scatter3d"
           }
          ],
          "scattercarpet": [
           {
            "marker": {
             "colorbar": {
              "outlinewidth": 0,
              "ticks": ""
             }
            },
            "type": "scattercarpet"
           }
          ],
          "scattergeo": [
           {
            "marker": {
             "colorbar": {
              "outlinewidth": 0,
              "ticks": ""
             }
            },
            "type": "scattergeo"
           }
          ],
          "scattergl": [
           {
            "marker": {
             "colorbar": {
              "outlinewidth": 0,
              "ticks": ""
             }
            },
            "type": "scattergl"
           }
          ],
          "scattermapbox": [
           {
            "marker": {
             "colorbar": {
              "outlinewidth": 0,
              "ticks": ""
             }
            },
            "type": "scattermapbox"
           }
          ],
          "scatterpolar": [
           {
            "marker": {
             "colorbar": {
              "outlinewidth": 0,
              "ticks": ""
             }
            },
            "type": "scatterpolar"
           }
          ],
          "scatterpolargl": [
           {
            "marker": {
             "colorbar": {
              "outlinewidth": 0,
              "ticks": ""
             }
            },
            "type": "scatterpolargl"
           }
          ],
          "scatterternary": [
           {
            "marker": {
             "colorbar": {
              "outlinewidth": 0,
              "ticks": ""
             }
            },
            "type": "scatterternary"
           }
          ],
          "surface": [
           {
            "colorbar": {
             "outlinewidth": 0,
             "ticks": ""
            },
            "colorscale": [
             [
              0,
              "#0d0887"
             ],
             [
              0.1111111111111111,
              "#46039f"
             ],
             [
              0.2222222222222222,
              "#7201a8"
             ],
             [
              0.3333333333333333,
              "#9c179e"
             ],
             [
              0.4444444444444444,
              "#bd3786"
             ],
             [
              0.5555555555555556,
              "#d8576b"
             ],
             [
              0.6666666666666666,
              "#ed7953"
             ],
             [
              0.7777777777777778,
              "#fb9f3a"
             ],
             [
              0.8888888888888888,
              "#fdca26"
             ],
             [
              1,
              "#f0f921"
             ]
            ],
            "type": "surface"
           }
          ],
          "table": [
           {
            "cells": {
             "fill": {
              "color": "#EBF0F8"
             },
             "line": {
              "color": "white"
             }
            },
            "header": {
             "fill": {
              "color": "#C8D4E3"
             },
             "line": {
              "color": "white"
             }
            },
            "type": "table"
           }
          ]
         },
         "layout": {
          "annotationdefaults": {
           "arrowcolor": "#2a3f5f",
           "arrowhead": 0,
           "arrowwidth": 1
          },
          "autotypenumbers": "strict",
          "coloraxis": {
           "colorbar": {
            "outlinewidth": 0,
            "ticks": ""
           }
          },
          "colorscale": {
           "diverging": [
            [
             0,
             "#8e0152"
            ],
            [
             0.1,
             "#c51b7d"
            ],
            [
             0.2,
             "#de77ae"
            ],
            [
             0.3,
             "#f1b6da"
            ],
            [
             0.4,
             "#fde0ef"
            ],
            [
             0.5,
             "#f7f7f7"
            ],
            [
             0.6,
             "#e6f5d0"
            ],
            [
             0.7,
             "#b8e186"
            ],
            [
             0.8,
             "#7fbc41"
            ],
            [
             0.9,
             "#4d9221"
            ],
            [
             1,
             "#276419"
            ]
           ],
           "sequential": [
            [
             0,
             "#0d0887"
            ],
            [
             0.1111111111111111,
             "#46039f"
            ],
            [
             0.2222222222222222,
             "#7201a8"
            ],
            [
             0.3333333333333333,
             "#9c179e"
            ],
            [
             0.4444444444444444,
             "#bd3786"
            ],
            [
             0.5555555555555556,
             "#d8576b"
            ],
            [
             0.6666666666666666,
             "#ed7953"
            ],
            [
             0.7777777777777778,
             "#fb9f3a"
            ],
            [
             0.8888888888888888,
             "#fdca26"
            ],
            [
             1,
             "#f0f921"
            ]
           ],
           "sequentialminus": [
            [
             0,
             "#0d0887"
            ],
            [
             0.1111111111111111,
             "#46039f"
            ],
            [
             0.2222222222222222,
             "#7201a8"
            ],
            [
             0.3333333333333333,
             "#9c179e"
            ],
            [
             0.4444444444444444,
             "#bd3786"
            ],
            [
             0.5555555555555556,
             "#d8576b"
            ],
            [
             0.6666666666666666,
             "#ed7953"
            ],
            [
             0.7777777777777778,
             "#fb9f3a"
            ],
            [
             0.8888888888888888,
             "#fdca26"
            ],
            [
             1,
             "#f0f921"
            ]
           ]
          },
          "colorway": [
           "#636efa",
           "#EF553B",
           "#00cc96",
           "#ab63fa",
           "#FFA15A",
           "#19d3f3",
           "#FF6692",
           "#B6E880",
           "#FF97FF",
           "#FECB52"
          ],
          "font": {
           "color": "#2a3f5f"
          },
          "geo": {
           "bgcolor": "white",
           "lakecolor": "white",
           "landcolor": "#E5ECF6",
           "showlakes": true,
           "showland": true,
           "subunitcolor": "white"
          },
          "hoverlabel": {
           "align": "left"
          },
          "hovermode": "closest",
          "mapbox": {
           "style": "light"
          },
          "paper_bgcolor": "white",
          "plot_bgcolor": "#E5ECF6",
          "polar": {
           "angularaxis": {
            "gridcolor": "white",
            "linecolor": "white",
            "ticks": ""
           },
           "bgcolor": "#E5ECF6",
           "radialaxis": {
            "gridcolor": "white",
            "linecolor": "white",
            "ticks": ""
           }
          },
          "scene": {
           "xaxis": {
            "backgroundcolor": "#E5ECF6",
            "gridcolor": "white",
            "gridwidth": 2,
            "linecolor": "white",
            "showbackground": true,
            "ticks": "",
            "zerolinecolor": "white"
           },
           "yaxis": {
            "backgroundcolor": "#E5ECF6",
            "gridcolor": "white",
            "gridwidth": 2,
            "linecolor": "white",
            "showbackground": true,
            "ticks": "",
            "zerolinecolor": "white"
           },
           "zaxis": {
            "backgroundcolor": "#E5ECF6",
            "gridcolor": "white",
            "gridwidth": 2,
            "linecolor": "white",
            "showbackground": true,
            "ticks": "",
            "zerolinecolor": "white"
           }
          },
          "shapedefaults": {
           "line": {
            "color": "#2a3f5f"
           }
          },
          "ternary": {
           "aaxis": {
            "gridcolor": "white",
            "linecolor": "white",
            "ticks": ""
           },
           "baxis": {
            "gridcolor": "white",
            "linecolor": "white",
            "ticks": ""
           },
           "bgcolor": "#E5ECF6",
           "caxis": {
            "gridcolor": "white",
            "linecolor": "white",
            "ticks": ""
           }
          },
          "title": {
           "x": 0.05
          },
          "xaxis": {
           "automargin": true,
           "gridcolor": "white",
           "linecolor": "white",
           "ticks": "",
           "title": {
            "standoff": 15
           },
           "zerolinecolor": "white",
           "zerolinewidth": 2
          },
          "yaxis": {
           "automargin": true,
           "gridcolor": "white",
           "linecolor": "white",
           "ticks": "",
           "title": {
            "standoff": 15
           },
           "zerolinecolor": "white",
           "zerolinewidth": 2
          }
         }
        },
        "title": {
         "text": "Interactions for B"
        },
        "width": 1600,
        "xaxis": {
         "anchor": "y",
         "domain": [
          0,
          1
         ],
         "dtick": 20,
         "range": [
          0,
          600
         ],
         "title": {
          "text": "Residue Index"
         }
        },
        "yaxis": {
         "anchor": "x",
         "domain": [
          0,
          1
         ],
         "range": [
          1.5,
          5
         ],
         "title": {
          "text": "Distance (angstroms)"
         }
        }
       }
      }
     },
     "metadata": {},
     "output_type": "display_data"
    },
    {
     "data": {
      "application/vnd.plotly.v1+json": {
       "config": {
        "plotlyServerURL": "https://plot.ly"
       },
       "data": [
        {
         "customdata": [
          [
           349,
           "K"
          ],
          [
           346,
           "E"
          ],
          [
           348,
           "W"
          ],
          [
           352,
           "Y"
          ],
          [
           355,
           "E"
          ],
          [
           359,
           "N"
          ],
          [
           362,
           "L"
          ],
          [
           370,
           "E"
          ],
          [
           372,
           "E"
          ]
         ],
         "hovertemplate": "Interacting Chain=kinesin B<br>aa_classification=positively charged<br>Residue Index=%{x}<br>Distance (angstroms)=%{y}<br>residue_one_letter=%{text}<br>interacting_resinumber=%{customdata[0]}<br>interactingresi_oneletter=%{customdata[1]}<extra></extra>",
         "legendgroup": "kinesin B, positively charged",
         "marker": {
          "color": "#1f77b4",
          "opacity": 0.6,
          "size": 10,
          "symbol": "triangle-up"
         },
         "mode": "markers+text",
         "name": "kinesin B, positively charged",
         "orientation": "v",
         "showlegend": true,
         "text": [
          "R",
          "K",
          "K",
          "R",
          "K",
          "K",
          "K",
          "K",
          "R"
         ],
         "textposition": "top center",
         "type": "scatter",
         "x": [
          5,
          166,
          349,
          351,
          356,
          358,
          363,
          365,
          377
         ],
         "xaxis": "x",
         "y": [
          4.233456230163574,
          4.198566341400147,
          3.503443646430969,
          3.6970508337020873,
          4.1875731468200685,
          3.5384411573410035,
          4.276010513305664,
          2.9934337615966795,
          2.751427507400513
         ],
         "yaxis": "y"
        },
        {
         "customdata": [
          [
           356,
           "K"
          ],
          [
           345,
           "A"
          ],
          [
           348,
           "W"
          ],
          [
           352,
           "Y"
          ],
          [
           359,
           "N"
          ],
          [
           366,
           "V"
          ],
          [
           373,
           "L"
          ],
          [
           372,
           "E"
          ],
          [
           390,
           "M"
          ],
          [
           376,
           "W"
          ],
          [
           377,
           "R"
          ],
          [
           377,
           "R"
          ]
         ],
         "hovertemplate": "Interacting Chain=kinesin B<br>aa_classification=nonpolar<br>Residue Index=%{x}<br>Distance (angstroms)=%{y}<br>residue_one_letter=%{text}<br>interacting_resinumber=%{customdata[0]}<br>interactingresi_oneletter=%{customdata[1]}<extra></extra>",
         "legendgroup": "kinesin B, nonpolar",
         "marker": {
          "color": "#1f77b4",
          "opacity": 0.6,
          "size": 10,
          "symbol": "circle"
         },
         "mode": "markers+text",
         "name": "kinesin B, nonpolar",
         "orientation": "v",
         "showlegend": true,
         "text": [
          "I",
          "L",
          "A",
          "W",
          "L",
          "V",
          "L",
          "L",
          "A",
          "W",
          "I",
          "M"
         ],
         "textposition": "top center",
         "type": "scatter",
         "x": [
          7,
          343,
          345,
          348,
          362,
          366,
          369,
          373,
          374,
          376,
          388,
          390
         ],
         "xaxis": "x",
         "y": [
          4.399405527114868,
          3.784635329246521,
          3.431620049476624,
          3.2987915515899657,
          2.895573091506958,
          3.460937762260437,
          3.53082218170166,
          3.002296781539917,
          4.251996374130249,
          3.727388501167298,
          2.8632412195205688,
          3.4981432914733888
         ],
         "yaxis": "y"
        },
        {
         "customdata": [
          [
           345,
           "A"
          ],
          [
           348,
           "W"
          ],
          [
           355,
           "E"
          ],
          [
           377,
           "R"
          ]
         ],
         "hovertemplate": "Interacting Chain=kinesin B<br>aa_classification=polar uncharged<br>Residue Index=%{x}<br>Distance (angstroms)=%{y}<br>residue_one_letter=%{text}<br>interacting_resinumber=%{customdata[0]}<br>interactingresi_oneletter=%{customdata[1]}<extra></extra>",
         "legendgroup": "kinesin B, polar uncharged",
         "marker": {
          "color": "#1f77b4",
          "opacity": 0.6,
          "size": 10,
          "symbol": "square"
         },
         "mode": "markers+text",
         "name": "kinesin B, polar uncharged",
         "orientation": "v",
         "showlegend": true,
         "text": [
          "T",
          "Y",
          "N",
          "Q"
         ],
         "textposition": "top center",
         "type": "scatter",
         "x": [
          344,
          352,
          359,
          387
         ],
         "xaxis": "x",
         "y": [
          4.183144807815552,
          3.411513590812683,
          2.722337317466736,
          3.4429195642471315
         ],
         "yaxis": "y"
        },
        {
         "customdata": [
          [
           359,
           "N"
          ],
          [
           365,
           "K"
          ],
          [
           377,
           "R"
          ]
         ],
         "hovertemplate": "Interacting Chain=kinesin B<br>aa_classification=negatively charged<br>Residue Index=%{x}<br>Distance (angstroms)=%{y}<br>residue_one_letter=%{text}<br>interacting_resinumber=%{customdata[0]}<br>interactingresi_oneletter=%{customdata[1]}<extra></extra>",
         "legendgroup": "kinesin B, negatively charged",
         "marker": {
          "color": "#1f77b4",
          "opacity": 0.6,
          "size": 10,
          "symbol": "triangle-down"
         },
         "mode": "markers+text",
         "name": "kinesin B, negatively charged",
         "orientation": "v",
         "showlegend": true,
         "text": [
          "E",
          "E",
          "E"
         ],
         "textposition": "top center",
         "type": "scatter",
         "x": [
          355,
          370,
          372
         ],
         "xaxis": "x",
         "y": [
          2.5891874551773078,
          3.045574760437012,
          2.8116101741790773
         ],
         "yaxis": "y"
        },
        {
         "customdata": [
          [
           420,
           "E"
          ],
          [
           109,
           "T"
          ],
          [
           409,
           "V"
          ],
          [
           423,
           "E"
          ]
         ],
         "hovertemplate": "Interacting Chain=alpha-tubulin<br>aa_classification=positively charged<br>Residue Index=%{x}<br>Distance (angstroms)=%{y}<br>residue_one_letter=%{text}<br>interacting_resinumber=%{customdata[0]}<br>interactingresi_oneletter=%{customdata[1]}<extra></extra>",
         "legendgroup": "alpha-tubulin, positively charged",
         "marker": {
          "color": "#ff7f0e",
          "opacity": 0.6,
          "size": 10,
          "symbol": "triangle-up"
         },
         "mode": "markers+text",
         "name": "alpha-tubulin, positively charged",
         "orientation": "v",
         "showlegend": true,
         "text": [
          "K",
          "K",
          "K",
          "R"
         ],
         "textposition": "top center",
         "type": "scatter",
         "x": [
          244,
          259,
          263,
          325
         ],
         "xaxis": "x",
         "y": [
          2.509580874443054,
          3.0746930837631226,
          3.4011317014694216,
          3.310084080696106
         ],
         "yaxis": "y"
        },
        {
         "customdata": [
          [
           412,
           "G"
          ],
          [
           112,
           "K"
          ],
          [
           108,
           "Y"
          ],
          [
           420,
           "E"
          ]
         ],
         "hovertemplate": "Interacting Chain=alpha-tubulin<br>aa_classification=nonpolar<br>Residue Index=%{x}<br>Distance (angstroms)=%{y}<br>residue_one_letter=%{text}<br>interacting_resinumber=%{customdata[0]}<br>interactingresi_oneletter=%{customdata[1]}<extra></extra>",
         "legendgroup": "alpha-tubulin, nonpolar",
         "marker": {
          "color": "#ff7f0e",
          "opacity": 0.6,
          "size": 10,
          "symbol": "circle"
         },
         "mode": "markers+text",
         "name": "alpha-tubulin, nonpolar",
         "orientation": "v",
         "showlegend": true,
         "text": [
          "I",
          "A",
          "L",
          "A"
         ],
         "textposition": "top center",
         "type": "scatter",
         "x": [
          245,
          250,
          255,
          318
         ],
         "xaxis": "x",
         "y": [
          3.000720000267029,
          3.0465462684631346,
          4.138017678260804,
          3.7814661979675295
         ],
         "yaxis": "y"
        },
        {
         "customdata": [
          [
           414,
           "E"
          ],
          [
           112,
           "K"
          ],
          [
           409,
           "V"
          ],
          [
           415,
           "E"
          ],
          [
           402,
           "R"
          ],
          [
           402,
           "R"
          ]
         ],
         "hovertemplate": "Interacting Chain=alpha-tubulin<br>aa_classification=polar uncharged<br>Residue Index=%{x}<br>Distance (angstroms)=%{y}<br>residue_one_letter=%{text}<br>interacting_resinumber=%{customdata[0]}<br>interactingresi_oneletter=%{customdata[1]}<extra></extra>",
         "legendgroup": "alpha-tubulin, polar uncharged",
         "marker": {
          "color": "#ff7f0e",
          "opacity": 0.6,
          "size": 10,
          "symbol": "square"
         },
         "mode": "markers+text",
         "name": "alpha-tubulin, polar uncharged",
         "orientation": "v",
         "showlegend": true,
         "text": [
          "S",
          "Q",
          "N",
          "S",
          "N",
          "N"
         ],
         "textposition": "top center",
         "type": "scatter",
         "x": [
          242,
          251,
          262,
          266,
          270,
          273
         ],
         "xaxis": "x",
         "y": [
          3.0824506759643557,
          4.4108363628387455,
          3.4786332130432127,
          2.8070631980896,
          3.330876898765564,
          3.8277572631835937
         ],
         "yaxis": "y"
        },
        {
         "customdata": [
          [
           414,
           "E"
          ],
          [
           414,
           "E"
          ]
         ],
         "hovertemplate": "Interacting Chain=alpha-tubulin<br>aa_classification=negatively charged<br>Residue Index=%{x}<br>Distance (angstroms)=%{y}<br>residue_one_letter=%{text}<br>interacting_resinumber=%{customdata[0]}<br>interactingresi_oneletter=%{customdata[1]}<extra></extra>",
         "legendgroup": "alpha-tubulin, negatively charged",
         "marker": {
          "color": "#ff7f0e",
          "opacity": 0.6,
          "size": 10,
          "symbol": "triangle-down"
         },
         "mode": "markers+text",
         "name": "alpha-tubulin, negatively charged",
         "orientation": "v",
         "showlegend": true,
         "text": [
          "E",
          "E"
         ],
         "textposition": "top center",
         "type": "scatter",
         "x": [
          243,
          319
         ],
         "xaxis": "x",
         "y": [
          4.317742538452149,
          4.094958329200745
         ],
         "yaxis": "y"
        },
        {
         "customdata": [
          [
           157,
           "E"
          ],
          [
           410,
           "E"
          ],
          [
           406,
           "M"
          ],
          [
           413,
           "S"
          ],
          [
           432,
           "E"
          ],
          [
           424,
           "Q"
          ],
          [
           417,
           "D"
          ]
         ],
         "hovertemplate": "Interacting Chain=beta-tubulin<br>aa_classification=positively charged<br>Residue Index=%{x}<br>Distance (angstroms)=%{y}<br>residue_one_letter=%{text}<br>interacting_resinumber=%{customdata[0]}<br>interactingresi_oneletter=%{customdata[1]}<extra></extra>",
         "legendgroup": "beta-tubulin, positively charged",
         "marker": {
          "color": "#2ca02c",
          "opacity": 0.6,
          "size": 10,
          "symbol": "triangle-up"
         },
         "mode": "markers+text",
         "name": "beta-tubulin, positively charged",
         "orientation": "v",
         "showlegend": true,
         "text": [
          "K",
          "H",
          "K",
          "R",
          "K",
          "H",
          "R"
         ],
         "textposition": "top center",
         "type": "scatter",
         "x": [
          148,
          163,
          166,
          168,
          279,
          282,
          286
         ],
         "xaxis": "x",
         "y": [
          3.3632540702819824,
          2.707332420349121,
          3.6932753324508663,
          3.920697736740112,
          3.544805479049683,
          2.885304021835327,
          2.546088433265686
         ],
         "yaxis": "y"
        },
        {
         "customdata": [
          [
           410,
           "E"
          ]
         ],
         "hovertemplate": "Interacting Chain=beta-tubulin<br>aa_classification=nonpolar<br>Residue Index=%{x}<br>Distance (angstroms)=%{y}<br>residue_one_letter=%{text}<br>interacting_resinumber=%{customdata[0]}<br>interactingresi_oneletter=%{customdata[1]}<extra></extra>",
         "legendgroup": "beta-tubulin, nonpolar",
         "marker": {
          "color": "#2ca02c",
          "opacity": 0.6,
          "size": 10,
          "symbol": "circle"
         },
         "mode": "markers+text",
         "name": "beta-tubulin, nonpolar",
         "orientation": "v",
         "showlegend": true,
         "text": [
          "V"
         ],
         "textposition": "top center",
         "type": "scatter",
         "x": [
          162
         ],
         "xaxis": "x",
         "y": [
          3.1620498657226563
         ],
         "yaxis": "y"
        },
        {
         "customdata": [
          [
           157,
           "E"
          ],
          [
           424,
           "Q"
          ],
          [
           424,
           "Q"
          ]
         ],
         "hovertemplate": "Interacting Chain=beta-tubulin<br>aa_classification=polar uncharged<br>Residue Index=%{x}<br>Distance (angstroms)=%{y}<br>residue_one_letter=%{text}<br>interacting_resinumber=%{customdata[0]}<br>interactingresi_oneletter=%{customdata[1]}<extra></extra>",
         "legendgroup": "beta-tubulin, polar uncharged",
         "marker": {
          "color": "#2ca02c",
          "opacity": 0.6,
          "size": 10,
          "symbol": "square"
         },
         "mode": "markers+text",
         "name": "beta-tubulin, polar uncharged",
         "orientation": "v",
         "showlegend": true,
         "text": [
          "N",
          "S",
          "T"
         ],
         "textposition": "top center",
         "type": "scatter",
         "x": [
          159,
          280,
          281
         ],
         "xaxis": "x",
         "y": [
          3.1542918205261232,
          3.612173342704773,
          3.512565541267395
         ],
         "yaxis": "y"
        },
        {
         "customdata": [
          [
           413,
           "S"
          ],
          [
           406,
           "M"
          ],
          [
           262,
           "R"
          ]
         ],
         "hovertemplate": "Interacting Chain=beta-tubulin<br>aa_classification=negatively charged<br>Residue Index=%{x}<br>Distance (angstroms)=%{y}<br>residue_one_letter=%{text}<br>interacting_resinumber=%{customdata[0]}<br>interactingresi_oneletter=%{customdata[1]}<extra></extra>",
         "legendgroup": "beta-tubulin, negatively charged",
         "marker": {
          "color": "#2ca02c",
          "opacity": 0.6,
          "size": 10,
          "symbol": "triangle-down"
         },
         "mode": "markers+text",
         "name": "beta-tubulin, negatively charged",
         "orientation": "v",
         "showlegend": true,
         "text": [
          "E",
          "D",
          "D"
         ],
         "textposition": "top center",
         "type": "scatter",
         "x": [
          164,
          165,
          287
         ],
         "xaxis": "x",
         "y": [
          3.331333351135254,
          3.896282911300659,
          3.1928826332092286
         ],
         "yaxis": "y"
        },
        {
         "customdata": [
          [
           1,
           "?"
          ],
          [
           1,
           "?"
          ],
          [
           1,
           "?"
          ],
          [
           1,
           "?"
          ]
         ],
         "hovertemplate": "Interacting Chain=ATP<br>aa_classification=positively charged<br>Residue Index=%{x}<br>Distance (angstroms)=%{y}<br>residue_one_letter=%{text}<br>interacting_resinumber=%{customdata[0]}<br>interactingresi_oneletter=%{customdata[1]}<extra></extra>",
         "legendgroup": "ATP, positively charged",
         "marker": {
          "color": "#d62728",
          "opacity": 0.6,
          "size": 10,
          "symbol": "triangle-up"
         },
         "mode": "markers+text",
         "name": "ATP, positively charged",
         "orientation": "v",
         "showlegend": true,
         "text": [
          "R",
          "R",
          "K",
          "H"
         ],
         "textposition": "top center",
         "type": "scatter",
         "x": [
          18,
          20,
          98,
          100
         ],
         "xaxis": "x",
         "y": [
          3.798428797721863,
          3.6209798574447634,
          2.831399369239807,
          2.8471944332122803
         ],
         "yaxis": "y"
        },
        {
         "customdata": [
          [
           1,
           "?"
          ],
          [
           1,
           "?"
          ],
          [
           1,
           "?"
          ],
          [
           1,
           "?"
          ],
          [
           1,
           "?"
          ]
         ],
         "hovertemplate": "Interacting Chain=ATP<br>aa_classification=nonpolar<br>Residue Index=%{x}<br>Distance (angstroms)=%{y}<br>residue_one_letter=%{text}<br>interacting_resinumber=%{customdata[0]}<br>interactingresi_oneletter=%{customdata[1]}<extra></extra>",
         "legendgroup": "ATP, nonpolar",
         "marker": {
          "color": "#d62728",
          "opacity": 0.6,
          "size": 10,
          "symbol": "circle"
         },
         "mode": "markers+text",
         "name": "ATP, nonpolar",
         "orientation": "v",
         "showlegend": true,
         "text": [
          "P",
          "G",
          "L",
          "A",
          "G"
         ],
         "textposition": "top center",
         "type": "scatter",
         "x": [
          21,
          97,
          239,
          240,
          241
         ],
         "xaxis": "x",
         "y": [
          3.5129159688949585,
          3.048373484611511,
          4.468526697158813,
          3.929113984107971,
          2.9067705869674683
         ],
         "yaxis": "y"
        },
        {
         "customdata": [
          [
           1,
           "?"
          ],
          [
           1,
           "?"
          ],
          [
           1,
           "?"
          ],
          [
           1,
           "?"
          ],
          [
           1,
           "?"
          ],
          [
           1,
           "?"
          ]
         ],
         "hovertemplate": "Interacting Chain=ATP<br>aa_classification=polar uncharged<br>Residue Index=%{x}<br>Distance (angstroms)=%{y}<br>residue_one_letter=%{text}<br>interacting_resinumber=%{customdata[0]}<br>interactingresi_oneletter=%{customdata[1]}<extra></extra>",
         "legendgroup": "ATP, polar uncharged",
         "marker": {
          "color": "#d62728",
          "opacity": 0.6,
          "size": 10,
          "symbol": "square"
         },
         "mode": "markers+text",
         "name": "ATP, polar uncharged",
         "orientation": "v",
         "showlegend": true,
         "text": [
          "Q",
          "T",
          "S",
          "S",
          "N",
          "S"
         ],
         "textposition": "top center",
         "type": "scatter",
         "x": [
          93,
          94,
          95,
          96,
          205,
          208
         ],
         "xaxis": "x",
         "y": [
          3.88090558052063,
          2.411470127105713,
          2.84566490650177,
          3.3720362424850463,
          3.0212188720703126,
          2.8567578315734865
         ],
         "yaxis": "y"
        },
        {
         "customdata": [
          [
           1,
           "?"
          ]
         ],
         "hovertemplate": "Interacting Chain=ATP<br>aa_classification=negatively charged<br>Residue Index=%{x}<br>Distance (angstroms)=%{y}<br>residue_one_letter=%{text}<br>interacting_resinumber=%{customdata[0]}<br>interactingresi_oneletter=%{customdata[1]}<extra></extra>",
         "legendgroup": "ATP, negatively charged",
         "marker": {
          "color": "#d62728",
          "opacity": 0.6,
          "size": 10,
          "symbol": "triangle-down"
         },
         "mode": "markers+text",
         "name": "ATP, negatively charged",
         "orientation": "v",
         "showlegend": true,
         "text": [
          "E"
         ],
         "textposition": "top center",
         "type": "scatter",
         "x": [
          207
         ],
         "xaxis": "x",
         "y": [
          3.996523141860962
         ],
         "yaxis": "y"
        }
       ],
       "layout": {
        "autosize": false,
        "height": 600,
        "legend": {
         "title": {
          "text": "Interacting Chain"
         },
         "tracegroupgap": 0
        },
        "shapes": [
         {
          "fillcolor": "LightSkyBlue",
          "layer": "below",
          "line": {
           "width": 0
          },
          "opacity": 0.3,
          "type": "rect",
          "x0": 0,
          "x1": 178,
          "y0": 0,
          "y1": 5
         },
         {
          "fillcolor": "LightSalmon",
          "layer": "below",
          "line": {
           "width": 0
          },
          "opacity": 0.3,
          "type": "rect",
          "x0": 178,
          "x1": 333,
          "y0": 0,
          "y1": 5
         },
         {
          "fillcolor": "LightSkyBlue",
          "layer": "below",
          "line": {
           "width": 0
          },
          "opacity": 0.3,
          "type": "rect",
          "x0": 333,
          "x1": 600,
          "y0": 0,
          "y1": 5
         }
        ],
        "template": {
         "data": {
          "bar": [
           {
            "error_x": {
             "color": "#2a3f5f"
            },
            "error_y": {
             "color": "#2a3f5f"
            },
            "marker": {
             "line": {
              "color": "#E5ECF6",
              "width": 0.5
             },
             "pattern": {
              "fillmode": "overlay",
              "size": 10,
              "solidity": 0.2
             }
            },
            "type": "bar"
           }
          ],
          "barpolar": [
           {
            "marker": {
             "line": {
              "color": "#E5ECF6",
              "width": 0.5
             },
             "pattern": {
              "fillmode": "overlay",
              "size": 10,
              "solidity": 0.2
             }
            },
            "type": "barpolar"
           }
          ],
          "carpet": [
           {
            "aaxis": {
             "endlinecolor": "#2a3f5f",
             "gridcolor": "white",
             "linecolor": "white",
             "minorgridcolor": "white",
             "startlinecolor": "#2a3f5f"
            },
            "baxis": {
             "endlinecolor": "#2a3f5f",
             "gridcolor": "white",
             "linecolor": "white",
             "minorgridcolor": "white",
             "startlinecolor": "#2a3f5f"
            },
            "type": "carpet"
           }
          ],
          "choropleth": [
           {
            "colorbar": {
             "outlinewidth": 0,
             "ticks": ""
            },
            "type": "choropleth"
           }
          ],
          "contour": [
           {
            "colorbar": {
             "outlinewidth": 0,
             "ticks": ""
            },
            "colorscale": [
             [
              0,
              "#0d0887"
             ],
             [
              0.1111111111111111,
              "#46039f"
             ],
             [
              0.2222222222222222,
              "#7201a8"
             ],
             [
              0.3333333333333333,
              "#9c179e"
             ],
             [
              0.4444444444444444,
              "#bd3786"
             ],
             [
              0.5555555555555556,
              "#d8576b"
             ],
             [
              0.6666666666666666,
              "#ed7953"
             ],
             [
              0.7777777777777778,
              "#fb9f3a"
             ],
             [
              0.8888888888888888,
              "#fdca26"
             ],
             [
              1,
              "#f0f921"
             ]
            ],
            "type": "contour"
           }
          ],
          "contourcarpet": [
           {
            "colorbar": {
             "outlinewidth": 0,
             "ticks": ""
            },
            "type": "contourcarpet"
           }
          ],
          "heatmap": [
           {
            "colorbar": {
             "outlinewidth": 0,
             "ticks": ""
            },
            "colorscale": [
             [
              0,
              "#0d0887"
             ],
             [
              0.1111111111111111,
              "#46039f"
             ],
             [
              0.2222222222222222,
              "#7201a8"
             ],
             [
              0.3333333333333333,
              "#9c179e"
             ],
             [
              0.4444444444444444,
              "#bd3786"
             ],
             [
              0.5555555555555556,
              "#d8576b"
             ],
             [
              0.6666666666666666,
              "#ed7953"
             ],
             [
              0.7777777777777778,
              "#fb9f3a"
             ],
             [
              0.8888888888888888,
              "#fdca26"
             ],
             [
              1,
              "#f0f921"
             ]
            ],
            "type": "heatmap"
           }
          ],
          "heatmapgl": [
           {
            "colorbar": {
             "outlinewidth": 0,
             "ticks": ""
            },
            "colorscale": [
             [
              0,
              "#0d0887"
             ],
             [
              0.1111111111111111,
              "#46039f"
             ],
             [
              0.2222222222222222,
              "#7201a8"
             ],
             [
              0.3333333333333333,
              "#9c179e"
             ],
             [
              0.4444444444444444,
              "#bd3786"
             ],
             [
              0.5555555555555556,
              "#d8576b"
             ],
             [
              0.6666666666666666,
              "#ed7953"
             ],
             [
              0.7777777777777778,
              "#fb9f3a"
             ],
             [
              0.8888888888888888,
              "#fdca26"
             ],
             [
              1,
              "#f0f921"
             ]
            ],
            "type": "heatmapgl"
           }
          ],
          "histogram": [
           {
            "marker": {
             "pattern": {
              "fillmode": "overlay",
              "size": 10,
              "solidity": 0.2
             }
            },
            "type": "histogram"
           }
          ],
          "histogram2d": [
           {
            "colorbar": {
             "outlinewidth": 0,
             "ticks": ""
            },
            "colorscale": [
             [
              0,
              "#0d0887"
             ],
             [
              0.1111111111111111,
              "#46039f"
             ],
             [
              0.2222222222222222,
              "#7201a8"
             ],
             [
              0.3333333333333333,
              "#9c179e"
             ],
             [
              0.4444444444444444,
              "#bd3786"
             ],
             [
              0.5555555555555556,
              "#d8576b"
             ],
             [
              0.6666666666666666,
              "#ed7953"
             ],
             [
              0.7777777777777778,
              "#fb9f3a"
             ],
             [
              0.8888888888888888,
              "#fdca26"
             ],
             [
              1,
              "#f0f921"
             ]
            ],
            "type": "histogram2d"
           }
          ],
          "histogram2dcontour": [
           {
            "colorbar": {
             "outlinewidth": 0,
             "ticks": ""
            },
            "colorscale": [
             [
              0,
              "#0d0887"
             ],
             [
              0.1111111111111111,
              "#46039f"
             ],
             [
              0.2222222222222222,
              "#7201a8"
             ],
             [
              0.3333333333333333,
              "#9c179e"
             ],
             [
              0.4444444444444444,
              "#bd3786"
             ],
             [
              0.5555555555555556,
              "#d8576b"
             ],
             [
              0.6666666666666666,
              "#ed7953"
             ],
             [
              0.7777777777777778,
              "#fb9f3a"
             ],
             [
              0.8888888888888888,
              "#fdca26"
             ],
             [
              1,
              "#f0f921"
             ]
            ],
            "type": "histogram2dcontour"
           }
          ],
          "mesh3d": [
           {
            "colorbar": {
             "outlinewidth": 0,
             "ticks": ""
            },
            "type": "mesh3d"
           }
          ],
          "parcoords": [
           {
            "line": {
             "colorbar": {
              "outlinewidth": 0,
              "ticks": ""
             }
            },
            "type": "parcoords"
           }
          ],
          "pie": [
           {
            "automargin": true,
            "type": "pie"
           }
          ],
          "scatter": [
           {
            "fillpattern": {
             "fillmode": "overlay",
             "size": 10,
             "solidity": 0.2
            },
            "type": "scatter"
           }
          ],
          "scatter3d": [
           {
            "line": {
             "colorbar": {
              "outlinewidth": 0,
              "ticks": ""
             }
            },
            "marker": {
             "colorbar": {
              "outlinewidth": 0,
              "ticks": ""
             }
            },
            "type": "scatter3d"
           }
          ],
          "scattercarpet": [
           {
            "marker": {
             "colorbar": {
              "outlinewidth": 0,
              "ticks": ""
             }
            },
            "type": "scattercarpet"
           }
          ],
          "scattergeo": [
           {
            "marker": {
             "colorbar": {
              "outlinewidth": 0,
              "ticks": ""
             }
            },
            "type": "scattergeo"
           }
          ],
          "scattergl": [
           {
            "marker": {
             "colorbar": {
              "outlinewidth": 0,
              "ticks": ""
             }
            },
            "type": "scattergl"
           }
          ],
          "scattermapbox": [
           {
            "marker": {
             "colorbar": {
              "outlinewidth": 0,
              "ticks": ""
             }
            },
            "type": "scattermapbox"
           }
          ],
          "scatterpolar": [
           {
            "marker": {
             "colorbar": {
              "outlinewidth": 0,
              "ticks": ""
             }
            },
            "type": "scatterpolar"
           }
          ],
          "scatterpolargl": [
           {
            "marker": {
             "colorbar": {
              "outlinewidth": 0,
              "ticks": ""
             }
            },
            "type": "scatterpolargl"
           }
          ],
          "scatterternary": [
           {
            "marker": {
             "colorbar": {
              "outlinewidth": 0,
              "ticks": ""
             }
            },
            "type": "scatterternary"
           }
          ],
          "surface": [
           {
            "colorbar": {
             "outlinewidth": 0,
             "ticks": ""
            },
            "colorscale": [
             [
              0,
              "#0d0887"
             ],
             [
              0.1111111111111111,
              "#46039f"
             ],
             [
              0.2222222222222222,
              "#7201a8"
             ],
             [
              0.3333333333333333,
              "#9c179e"
             ],
             [
              0.4444444444444444,
              "#bd3786"
             ],
             [
              0.5555555555555556,
              "#d8576b"
             ],
             [
              0.6666666666666666,
              "#ed7953"
             ],
             [
              0.7777777777777778,
              "#fb9f3a"
             ],
             [
              0.8888888888888888,
              "#fdca26"
             ],
             [
              1,
              "#f0f921"
             ]
            ],
            "type": "surface"
           }
          ],
          "table": [
           {
            "cells": {
             "fill": {
              "color": "#EBF0F8"
             },
             "line": {
              "color": "white"
             }
            },
            "header": {
             "fill": {
              "color": "#C8D4E3"
             },
             "line": {
              "color": "white"
             }
            },
            "type": "table"
           }
          ]
         },
         "layout": {
          "annotationdefaults": {
           "arrowcolor": "#2a3f5f",
           "arrowhead": 0,
           "arrowwidth": 1
          },
          "autotypenumbers": "strict",
          "coloraxis": {
           "colorbar": {
            "outlinewidth": 0,
            "ticks": ""
           }
          },
          "colorscale": {
           "diverging": [
            [
             0,
             "#8e0152"
            ],
            [
             0.1,
             "#c51b7d"
            ],
            [
             0.2,
             "#de77ae"
            ],
            [
             0.3,
             "#f1b6da"
            ],
            [
             0.4,
             "#fde0ef"
            ],
            [
             0.5,
             "#f7f7f7"
            ],
            [
             0.6,
             "#e6f5d0"
            ],
            [
             0.7,
             "#b8e186"
            ],
            [
             0.8,
             "#7fbc41"
            ],
            [
             0.9,
             "#4d9221"
            ],
            [
             1,
             "#276419"
            ]
           ],
           "sequential": [
            [
             0,
             "#0d0887"
            ],
            [
             0.1111111111111111,
             "#46039f"
            ],
            [
             0.2222222222222222,
             "#7201a8"
            ],
            [
             0.3333333333333333,
             "#9c179e"
            ],
            [
             0.4444444444444444,
             "#bd3786"
            ],
            [
             0.5555555555555556,
             "#d8576b"
            ],
            [
             0.6666666666666666,
             "#ed7953"
            ],
            [
             0.7777777777777778,
             "#fb9f3a"
            ],
            [
             0.8888888888888888,
             "#fdca26"
            ],
            [
             1,
             "#f0f921"
            ]
           ],
           "sequentialminus": [
            [
             0,
             "#0d0887"
            ],
            [
             0.1111111111111111,
             "#46039f"
            ],
            [
             0.2222222222222222,
             "#7201a8"
            ],
            [
             0.3333333333333333,
             "#9c179e"
            ],
            [
             0.4444444444444444,
             "#bd3786"
            ],
            [
             0.5555555555555556,
             "#d8576b"
            ],
            [
             0.6666666666666666,
             "#ed7953"
            ],
            [
             0.7777777777777778,
             "#fb9f3a"
            ],
            [
             0.8888888888888888,
             "#fdca26"
            ],
            [
             1,
             "#f0f921"
            ]
           ]
          },
          "colorway": [
           "#636efa",
           "#EF553B",
           "#00cc96",
           "#ab63fa",
           "#FFA15A",
           "#19d3f3",
           "#FF6692",
           "#B6E880",
           "#FF97FF",
           "#FECB52"
          ],
          "font": {
           "color": "#2a3f5f"
          },
          "geo": {
           "bgcolor": "white",
           "lakecolor": "white",
           "landcolor": "#E5ECF6",
           "showlakes": true,
           "showland": true,
           "subunitcolor": "white"
          },
          "hoverlabel": {
           "align": "left"
          },
          "hovermode": "closest",
          "mapbox": {
           "style": "light"
          },
          "paper_bgcolor": "white",
          "plot_bgcolor": "#E5ECF6",
          "polar": {
           "angularaxis": {
            "gridcolor": "white",
            "linecolor": "white",
            "ticks": ""
           },
           "bgcolor": "#E5ECF6",
           "radialaxis": {
            "gridcolor": "white",
            "linecolor": "white",
            "ticks": ""
           }
          },
          "scene": {
           "xaxis": {
            "backgroundcolor": "#E5ECF6",
            "gridcolor": "white",
            "gridwidth": 2,
            "linecolor": "white",
            "showbackground": true,
            "ticks": "",
            "zerolinecolor": "white"
           },
           "yaxis": {
            "backgroundcolor": "#E5ECF6",
            "gridcolor": "white",
            "gridwidth": 2,
            "linecolor": "white",
            "showbackground": true,
            "ticks": "",
            "zerolinecolor": "white"
           },
           "zaxis": {
            "backgroundcolor": "#E5ECF6",
            "gridcolor": "white",
            "gridwidth": 2,
            "linecolor": "white",
            "showbackground": true,
            "ticks": "",
            "zerolinecolor": "white"
           }
          },
          "shapedefaults": {
           "line": {
            "color": "#2a3f5f"
           }
          },
          "ternary": {
           "aaxis": {
            "gridcolor": "white",
            "linecolor": "white",
            "ticks": ""
           },
           "baxis": {
            "gridcolor": "white",
            "linecolor": "white",
            "ticks": ""
           },
           "bgcolor": "#E5ECF6",
           "caxis": {
            "gridcolor": "white",
            "linecolor": "white",
            "ticks": ""
           }
          },
          "title": {
           "x": 0.05
          },
          "xaxis": {
           "automargin": true,
           "gridcolor": "white",
           "linecolor": "white",
           "ticks": "",
           "title": {
            "standoff": 15
           },
           "zerolinecolor": "white",
           "zerolinewidth": 2
          },
          "yaxis": {
           "automargin": true,
           "gridcolor": "white",
           "linecolor": "white",
           "ticks": "",
           "title": {
            "standoff": 15
           },
           "zerolinecolor": "white",
           "zerolinewidth": 2
          }
         }
        },
        "title": {
         "text": "Interactions for C"
        },
        "width": 1600,
        "xaxis": {
         "anchor": "y",
         "domain": [
          0,
          1
         ],
         "dtick": 20,
         "range": [
          0,
          600
         ],
         "title": {
          "text": "Residue Index"
         }
        },
        "yaxis": {
         "anchor": "x",
         "domain": [
          0,
          1
         ],
         "range": [
          1.5,
          5
         ],
         "title": {
          "text": "Distance (angstroms)"
         }
        }
       }
      }
     },
     "metadata": {},
     "output_type": "display_data"
    },
    {
     "data": {
      "application/vnd.plotly.v1+json": {
       "config": {
        "plotlyServerURL": "https://plot.ly"
       },
       "data": [
        {
         "customdata": [
          [
           344,
           "W"
          ],
          [
           348,
           "Y"
          ],
          [
           351,
           "E"
          ],
          [
           355,
           "N"
          ],
          [
           358,
           "L"
          ],
          [
           366,
           "E"
          ],
          [
           368,
           "E"
          ]
         ],
         "hovertemplate": "Interacting Chain=kinesin B<br>aa_classification=positively charged<br>Residue Index=%{x}<br>Distance (angstroms)=%{y}<br>residue_one_letter=%{text}<br>interacting_resinumber=%{customdata[0]}<br>interactingresi_oneletter=%{customdata[1]}<extra></extra>",
         "legendgroup": "kinesin B, positively charged",
         "marker": {
          "color": "#1f77b4",
          "opacity": 0.6,
          "size": 10,
          "symbol": "triangle-up"
         },
         "mode": "markers+text",
         "name": "kinesin B, positively charged",
         "orientation": "v",
         "showlegend": true,
         "text": [
          "K",
          "R",
          "K",
          "K",
          "K",
          "K",
          "R"
         ],
         "textposition": "top center",
         "type": "scatter",
         "x": [
          345,
          347,
          352,
          354,
          359,
          361,
          373
         ],
         "xaxis": "x",
         "y": [
          3.65103816986084,
          3.716932031843397,
          4.214773919847277,
          3.545858356687757,
          4.344022432963054,
          3.025415632459852,
          2.756334808137682
         ],
         "yaxis": "y"
        },
        {
         "customdata": [
          [
           341,
           "A"
          ],
          [
           344,
           "W"
          ],
          [
           348,
           "Y"
          ],
          [
           355,
           "N"
          ],
          [
           362,
           "V"
          ],
          [
           369,
           "L"
          ],
          [
           368,
           "E"
          ],
          [
           386,
           "M"
          ],
          [
           372,
           "W"
          ],
          [
           373,
           "R"
          ],
          [
           373,
           "R"
          ]
         ],
         "hovertemplate": "Interacting Chain=kinesin B<br>aa_classification=nonpolar<br>Residue Index=%{x}<br>Distance (angstroms)=%{y}<br>residue_one_letter=%{text}<br>interacting_resinumber=%{customdata[0]}<br>interactingresi_oneletter=%{customdata[1]}<extra></extra>",
         "legendgroup": "kinesin B, nonpolar",
         "marker": {
          "color": "#1f77b4",
          "opacity": 0.6,
          "size": 10,
          "symbol": "circle"
         },
         "mode": "markers+text",
         "name": "kinesin B, nonpolar",
         "orientation": "v",
         "showlegend": true,
         "text": [
          "L",
          "A",
          "W",
          "L",
          "V",
          "L",
          "L",
          "A",
          "W",
          "I",
          "M"
         ],
         "textposition": "top center",
         "type": "scatter",
         "x": [
          339,
          341,
          344,
          358,
          362,
          365,
          369,
          370,
          372,
          384,
          386
         ],
         "xaxis": "x",
         "y": [
          3.5116907755533853,
          3.36161380343967,
          3.3640162150065103,
          2.9534302287631564,
          3.4771742820739746,
          3.4915511078304715,
          3.03962066438463,
          4.202978981865777,
          3.731055736541748,
          2.8299958176083035,
          3.3779753579033747
         ],
         "yaxis": "y"
        },
        {
         "customdata": [
          [
           341,
           "A"
          ],
          [
           344,
           "W"
          ],
          [
           351,
           "E"
          ],
          [
           373,
           "R"
          ]
         ],
         "hovertemplate": "Interacting Chain=kinesin B<br>aa_classification=polar uncharged<br>Residue Index=%{x}<br>Distance (angstroms)=%{y}<br>residue_one_letter=%{text}<br>interacting_resinumber=%{customdata[0]}<br>interactingresi_oneletter=%{customdata[1]}<extra></extra>",
         "legendgroup": "kinesin B, polar uncharged",
         "marker": {
          "color": "#1f77b4",
          "opacity": 0.6,
          "size": 10,
          "symbol": "square"
         },
         "mode": "markers+text",
         "name": "kinesin B, polar uncharged",
         "orientation": "v",
         "showlegend": true,
         "text": [
          "T",
          "Y",
          "N",
          "Q"
         ],
         "textposition": "top center",
         "type": "scatter",
         "x": [
          340,
          348,
          355,
          383
         ],
         "xaxis": "x",
         "y": [
          4.082252396477593,
          3.4075505203670926,
          2.3580192195044622,
          3.442661232418484
         ],
         "yaxis": "y"
        },
        {
         "customdata": [
          [
           355,
           "N"
          ],
          [
           361,
           "K"
          ],
          [
           373,
           "R"
          ]
         ],
         "hovertemplate": "Interacting Chain=kinesin B<br>aa_classification=negatively charged<br>Residue Index=%{x}<br>Distance (angstroms)=%{y}<br>residue_one_letter=%{text}<br>interacting_resinumber=%{customdata[0]}<br>interactingresi_oneletter=%{customdata[1]}<extra></extra>",
         "legendgroup": "kinesin B, negatively charged",
         "marker": {
          "color": "#1f77b4",
          "opacity": 0.6,
          "size": 10,
          "symbol": "triangle-down"
         },
         "mode": "markers+text",
         "name": "kinesin B, negatively charged",
         "orientation": "v",
         "showlegend": true,
         "text": [
          "E",
          "E",
          "E"
         ],
         "textposition": "top center",
         "type": "scatter",
         "x": [
          351,
          366,
          368
         ],
         "xaxis": "x",
         "y": [
          2.2375978893703885,
          3.24898542298211,
          2.819898128509521
         ],
         "yaxis": "y"
        },
        {
         "customdata": [
          [
           420,
           "E"
          ],
          [
           410,
           "G"
          ],
          [
           409,
           "V"
          ],
          [
           423,
           "E"
          ]
         ],
         "hovertemplate": "Interacting Chain=alpha-tubulin<br>aa_classification=positively charged<br>Residue Index=%{x}<br>Distance (angstroms)=%{y}<br>residue_one_letter=%{text}<br>interacting_resinumber=%{customdata[0]}<br>interactingresi_oneletter=%{customdata[1]}<extra></extra>",
         "legendgroup": "alpha-tubulin, positively charged",
         "marker": {
          "color": "#ff7f0e",
          "opacity": 0.6,
          "size": 10,
          "symbol": "triangle-up"
         },
         "mode": "markers+text",
         "name": "alpha-tubulin, positively charged",
         "orientation": "v",
         "showlegend": true,
         "text": [
          "K",
          "K",
          "K",
          "R"
         ],
         "textposition": "top center",
         "type": "scatter",
         "x": [
          240,
          255,
          259,
          321
         ],
         "xaxis": "x",
         "y": [
          2.548420058356391,
          3.3597150113847523,
          3.389312187830607,
          2.948287460539076
         ],
         "yaxis": "y"
        },
        {
         "customdata": [
          [
           412,
           "G"
          ],
          [
           112,
           "K"
          ],
          [
           420,
           "E"
          ]
         ],
         "hovertemplate": "Interacting Chain=alpha-tubulin<br>aa_classification=nonpolar<br>Residue Index=%{x}<br>Distance (angstroms)=%{y}<br>residue_one_letter=%{text}<br>interacting_resinumber=%{customdata[0]}<br>interactingresi_oneletter=%{customdata[1]}<extra></extra>",
         "legendgroup": "alpha-tubulin, nonpolar",
         "marker": {
          "color": "#ff7f0e",
          "opacity": 0.6,
          "size": 10,
          "symbol": "circle"
         },
         "mode": "markers+text",
         "name": "alpha-tubulin, nonpolar",
         "orientation": "v",
         "showlegend": true,
         "text": [
          "I",
          "A",
          "A"
         ],
         "textposition": "top center",
         "type": "scatter",
         "x": [
          241,
          246,
          314
         ],
         "xaxis": "x",
         "y": [
          3.0455307960510254,
          3.433784749772814,
          3.082224633958605
         ],
         "yaxis": "y"
        },
        {
         "customdata": [
          [
           414,
           "E"
          ],
          [
           112,
           "K"
          ],
          [
           409,
           "V"
          ],
          [
           415,
           "E"
          ],
          [
           402,
           "R"
          ],
          [
           402,
           "R"
          ]
         ],
         "hovertemplate": "Interacting Chain=alpha-tubulin<br>aa_classification=polar uncharged<br>Residue Index=%{x}<br>Distance (angstroms)=%{y}<br>residue_one_letter=%{text}<br>interacting_resinumber=%{customdata[0]}<br>interactingresi_oneletter=%{customdata[1]}<extra></extra>",
         "legendgroup": "alpha-tubulin, polar uncharged",
         "marker": {
          "color": "#ff7f0e",
          "opacity": 0.6,
          "size": 10,
          "symbol": "square"
         },
         "mode": "markers+text",
         "name": "alpha-tubulin, polar uncharged",
         "orientation": "v",
         "showlegend": true,
         "text": [
          "S",
          "Q",
          "N",
          "S",
          "N",
          "N"
         ],
         "textposition": "top center",
         "type": "scatter",
         "x": [
          238,
          247,
          258,
          262,
          266,
          269
         ],
         "xaxis": "x",
         "y": [
          2.981097221374512,
          4.095736477110121,
          3.4680802557203503,
          2.4610390928056507,
          3.4848101668887668,
          4.418890926573011
         ],
         "yaxis": "y"
        },
        {
         "customdata": [
          [
           414,
           "E"
          ],
          [
           414,
           "E"
          ]
         ],
         "hovertemplate": "Interacting Chain=alpha-tubulin<br>aa_classification=negatively charged<br>Residue Index=%{x}<br>Distance (angstroms)=%{y}<br>residue_one_letter=%{text}<br>interacting_resinumber=%{customdata[0]}<br>interactingresi_oneletter=%{customdata[1]}<extra></extra>",
         "legendgroup": "alpha-tubulin, negatively charged",
         "marker": {
          "color": "#ff7f0e",
          "opacity": 0.6,
          "size": 10,
          "symbol": "triangle-down"
         },
         "mode": "markers+text",
         "name": "alpha-tubulin, negatively charged",
         "orientation": "v",
         "showlegend": true,
         "text": [
          "E",
          "E"
         ],
         "textposition": "top center",
         "type": "scatter",
         "x": [
          239,
          315
         ],
         "xaxis": "x",
         "y": [
          4.31522289911906,
          4.261566374037001
         ],
         "yaxis": "y"
        },
        {
         "customdata": [
          [
           157,
           "E"
          ],
          [
           407,
           "E"
          ],
          [
           407,
           "E"
          ],
          [
           432,
           "E"
          ],
          [
           424,
           "Q"
          ],
          [
           417,
           "D"
          ],
          [
           194,
           "E"
          ],
          [
           410,
           "E"
          ],
          [
           436,
           "F"
          ]
         ],
         "hovertemplate": "Interacting Chain=beta-tubulin<br>aa_classification=positively charged<br>Residue Index=%{x}<br>Distance (angstroms)=%{y}<br>residue_one_letter=%{text}<br>interacting_resinumber=%{customdata[0]}<br>interactingresi_oneletter=%{customdata[1]}<extra></extra>",
         "legendgroup": "beta-tubulin, positively charged",
         "marker": {
          "color": "#2ca02c",
          "opacity": 0.6,
          "size": 10,
          "symbol": "triangle-up"
         },
         "mode": "markers+text",
         "name": "beta-tubulin, positively charged",
         "orientation": "v",
         "showlegend": true,
         "text": [
          "R",
          "K",
          "R",
          "K",
          "H",
          "R",
          "K",
          "R",
          "R"
         ],
         "textposition": "top center",
         "type": "scatter",
         "x": [
          144,
          157,
          159,
          275,
          278,
          282,
          285,
          288,
          325
         ],
         "xaxis": "x",
         "y": [
          2.779699669943916,
          3.4112680753072104,
          3.1180776490105524,
          3.371759229236179,
          2.949473116132948,
          2.421861939960056,
          3.6206646230485706,
          4.112206088172065,
          4.142632722854614
         ],
         "yaxis": "y"
        },
        {
         "customdata": [
          [
           410,
           "E"
          ],
          [
           406,
           "M"
          ]
         ],
         "hovertemplate": "Interacting Chain=beta-tubulin<br>aa_classification=nonpolar<br>Residue Index=%{x}<br>Distance (angstroms)=%{y}<br>residue_one_letter=%{text}<br>interacting_resinumber=%{customdata[0]}<br>interactingresi_oneletter=%{customdata[1]}<extra></extra>",
         "legendgroup": "beta-tubulin, nonpolar",
         "marker": {
          "color": "#2ca02c",
          "opacity": 0.6,
          "size": 10,
          "symbol": "circle"
         },
         "mode": "markers+text",
         "name": "beta-tubulin, nonpolar",
         "orientation": "v",
         "showlegend": true,
         "text": [
          "V",
          "W"
         ],
         "textposition": "top center",
         "type": "scatter",
         "x": [
          158,
          167
         ],
         "xaxis": "x",
         "y": [
          3.4643547270033093,
          4.006828520033094
         ],
         "yaxis": "y"
        },
        {
         "customdata": [
          [
           424,
           "Q"
          ],
          [
           424,
           "Q"
          ]
         ],
         "hovertemplate": "Interacting Chain=beta-tubulin<br>aa_classification=polar uncharged<br>Residue Index=%{x}<br>Distance (angstroms)=%{y}<br>residue_one_letter=%{text}<br>interacting_resinumber=%{customdata[0]}<br>interactingresi_oneletter=%{customdata[1]}<extra></extra>",
         "legendgroup": "beta-tubulin, polar uncharged",
         "marker": {
          "color": "#2ca02c",
          "opacity": 0.6,
          "size": 10,
          "symbol": "square"
         },
         "mode": "markers+text",
         "name": "beta-tubulin, polar uncharged",
         "orientation": "v",
         "showlegend": true,
         "text": [
          "S",
          "T"
         ],
         "textposition": "top center",
         "type": "scatter",
         "x": [
          276,
          277
         ],
         "xaxis": "x",
         "y": [
          3.594391610887316,
          3.274943192799886
         ],
         "yaxis": "y"
        },
        {
         "customdata": [
          [
           413,
           "S"
          ],
          [
           406,
           "M"
          ],
          [
           406,
           "M"
          ],
          [
           262,
           "R"
          ]
         ],
         "hovertemplate": "Interacting Chain=beta-tubulin<br>aa_classification=negatively charged<br>Residue Index=%{x}<br>Distance (angstroms)=%{y}<br>residue_one_letter=%{text}<br>interacting_resinumber=%{customdata[0]}<br>interactingresi_oneletter=%{customdata[1]}<extra></extra>",
         "legendgroup": "beta-tubulin, negatively charged",
         "marker": {
          "color": "#2ca02c",
          "opacity": 0.6,
          "size": 10,
          "symbol": "triangle-down"
         },
         "mode": "markers+text",
         "name": "beta-tubulin, negatively charged",
         "orientation": "v",
         "showlegend": true,
         "text": [
          "E",
          "E",
          "E",
          "D"
         ],
         "textposition": "top center",
         "type": "scatter",
         "x": [
          160,
          161,
          169,
          283
         ],
         "xaxis": "x",
         "y": [
          3.103173706266615,
          4.365152994791667,
          4.083887656529744,
          3.178076320224338
         ],
         "yaxis": "y"
        },
        {
         "customdata": [
          [
           1,
           "?"
          ],
          [
           1,
           "?"
          ],
          [
           1,
           "?"
          ]
         ],
         "hovertemplate": "Interacting Chain=ATP<br>aa_classification=positively charged<br>Residue Index=%{x}<br>Distance (angstroms)=%{y}<br>residue_one_letter=%{text}<br>interacting_resinumber=%{customdata[0]}<br>interactingresi_oneletter=%{customdata[1]}<extra></extra>",
         "legendgroup": "ATP, positively charged",
         "marker": {
          "color": "#d62728",
          "opacity": 0.6,
          "size": 10,
          "symbol": "triangle-up"
         },
         "mode": "markers+text",
         "name": "ATP, positively charged",
         "orientation": "v",
         "showlegend": true,
         "text": [
          "R",
          "R",
          "K"
         ],
         "textposition": "top center",
         "type": "scatter",
         "x": [
          9,
          11,
          91
         ],
         "xaxis": "x",
         "y": [
          3.747229867511325,
          3.713157521353828,
          2.7384222083621554
         ],
         "yaxis": "y"
        },
        {
         "customdata": [
          [
           1,
           "?"
          ],
          [
           1,
           "?"
          ],
          [
           1,
           "?"
          ],
          [
           1,
           "?"
          ],
          [
           1,
           "?"
          ],
          [
           1,
           "?"
          ],
          [
           1,
           "?"
          ]
         ],
         "hovertemplate": "Interacting Chain=ATP<br>aa_classification=nonpolar<br>Residue Index=%{x}<br>Distance (angstroms)=%{y}<br>residue_one_letter=%{text}<br>interacting_resinumber=%{customdata[0]}<br>interactingresi_oneletter=%{customdata[1]}<extra></extra>",
         "legendgroup": "ATP, nonpolar",
         "marker": {
          "color": "#d62728",
          "opacity": 0.6,
          "size": 10,
          "symbol": "circle"
         },
         "mode": "markers+text",
         "name": "ATP, nonpolar",
         "orientation": "v",
         "showlegend": true,
         "text": [
          "P",
          "G",
          "G",
          "F",
          "L",
          "A",
          "G"
         ],
         "textposition": "top center",
         "type": "scatter",
         "x": [
          12,
          88,
          90,
          93,
          235,
          236,
          237
         ],
         "xaxis": "x",
         "y": [
          3.672356022728814,
          2.8067136075761585,
          2.9763353135850696,
          2.759141630596585,
          4.446148739920722,
          3.957770374086168,
          2.993730465571085
         ],
         "yaxis": "y"
        },
        {
         "customdata": [
          [
           1,
           "?"
          ],
          [
           1,
           "?"
          ],
          [
           1,
           "?"
          ],
          [
           1,
           "?"
          ],
          [
           1,
           "?"
          ]
         ],
         "hovertemplate": "Interacting Chain=ATP<br>aa_classification=polar uncharged<br>Residue Index=%{x}<br>Distance (angstroms)=%{y}<br>residue_one_letter=%{text}<br>interacting_resinumber=%{customdata[0]}<br>interactingresi_oneletter=%{customdata[1]}<extra></extra>",
         "legendgroup": "ATP, polar uncharged",
         "marker": {
          "color": "#d62728",
          "opacity": 0.6,
          "size": 10,
          "symbol": "square"
         },
         "mode": "markers+text",
         "name": "ATP, polar uncharged",
         "orientation": "v",
         "showlegend": true,
         "text": [
          "Q",
          "T",
          "S",
          "N",
          "S"
         ],
         "textposition": "top center",
         "type": "scatter",
         "x": [
          86,
          87,
          89,
          201,
          204
         ],
         "xaxis": "x",
         "y": [
          3.969527827368842,
          2.537995232476129,
          3.356776581870185,
          2.9880570040808783,
          2.942700518502129
         ],
         "yaxis": "y"
        },
        {
         "customdata": [
          [
           1,
           "?"
          ]
         ],
         "hovertemplate": "Interacting Chain=ATP<br>aa_classification=negatively charged<br>Residue Index=%{x}<br>Distance (angstroms)=%{y}<br>residue_one_letter=%{text}<br>interacting_resinumber=%{customdata[0]}<br>interactingresi_oneletter=%{customdata[1]}<extra></extra>",
         "legendgroup": "ATP, negatively charged",
         "marker": {
          "color": "#d62728",
          "opacity": 0.6,
          "size": 10,
          "symbol": "triangle-down"
         },
         "mode": "markers+text",
         "name": "ATP, negatively charged",
         "orientation": "v",
         "showlegend": true,
         "text": [
          "E"
         ],
         "textposition": "top center",
         "type": "scatter",
         "x": [
          203
         ],
         "xaxis": "x",
         "y": [
          3.996997700797187
         ],
         "yaxis": "y"
        }
       ],
       "layout": {
        "autosize": false,
        "height": 600,
        "legend": {
         "title": {
          "text": "Interacting Chain"
         },
         "tracegroupgap": 0
        },
        "shapes": [
         {
          "fillcolor": "LightSalmon",
          "layer": "below",
          "line": {
           "width": 0
          },
          "opacity": 0.3,
          "type": "rect",
          "x0": 0,
          "x1": 329,
          "y0": 0,
          "y1": 5
         },
         {
          "fillcolor": "LightSkyBlue",
          "layer": "below",
          "line": {
           "width": 0
          },
          "opacity": 0.3,
          "type": "rect",
          "x0": 329,
          "x1": 600,
          "y0": 0,
          "y1": 5
         }
        ],
        "template": {
         "data": {
          "bar": [
           {
            "error_x": {
             "color": "#2a3f5f"
            },
            "error_y": {
             "color": "#2a3f5f"
            },
            "marker": {
             "line": {
              "color": "#E5ECF6",
              "width": 0.5
             },
             "pattern": {
              "fillmode": "overlay",
              "size": 10,
              "solidity": 0.2
             }
            },
            "type": "bar"
           }
          ],
          "barpolar": [
           {
            "marker": {
             "line": {
              "color": "#E5ECF6",
              "width": 0.5
             },
             "pattern": {
              "fillmode": "overlay",
              "size": 10,
              "solidity": 0.2
             }
            },
            "type": "barpolar"
           }
          ],
          "carpet": [
           {
            "aaxis": {
             "endlinecolor": "#2a3f5f",
             "gridcolor": "white",
             "linecolor": "white",
             "minorgridcolor": "white",
             "startlinecolor": "#2a3f5f"
            },
            "baxis": {
             "endlinecolor": "#2a3f5f",
             "gridcolor": "white",
             "linecolor": "white",
             "minorgridcolor": "white",
             "startlinecolor": "#2a3f5f"
            },
            "type": "carpet"
           }
          ],
          "choropleth": [
           {
            "colorbar": {
             "outlinewidth": 0,
             "ticks": ""
            },
            "type": "choropleth"
           }
          ],
          "contour": [
           {
            "colorbar": {
             "outlinewidth": 0,
             "ticks": ""
            },
            "colorscale": [
             [
              0,
              "#0d0887"
             ],
             [
              0.1111111111111111,
              "#46039f"
             ],
             [
              0.2222222222222222,
              "#7201a8"
             ],
             [
              0.3333333333333333,
              "#9c179e"
             ],
             [
              0.4444444444444444,
              "#bd3786"
             ],
             [
              0.5555555555555556,
              "#d8576b"
             ],
             [
              0.6666666666666666,
              "#ed7953"
             ],
             [
              0.7777777777777778,
              "#fb9f3a"
             ],
             [
              0.8888888888888888,
              "#fdca26"
             ],
             [
              1,
              "#f0f921"
             ]
            ],
            "type": "contour"
           }
          ],
          "contourcarpet": [
           {
            "colorbar": {
             "outlinewidth": 0,
             "ticks": ""
            },
            "type": "contourcarpet"
           }
          ],
          "heatmap": [
           {
            "colorbar": {
             "outlinewidth": 0,
             "ticks": ""
            },
            "colorscale": [
             [
              0,
              "#0d0887"
             ],
             [
              0.1111111111111111,
              "#46039f"
             ],
             [
              0.2222222222222222,
              "#7201a8"
             ],
             [
              0.3333333333333333,
              "#9c179e"
             ],
             [
              0.4444444444444444,
              "#bd3786"
             ],
             [
              0.5555555555555556,
              "#d8576b"
             ],
             [
              0.6666666666666666,
              "#ed7953"
             ],
             [
              0.7777777777777778,
              "#fb9f3a"
             ],
             [
              0.8888888888888888,
              "#fdca26"
             ],
             [
              1,
              "#f0f921"
             ]
            ],
            "type": "heatmap"
           }
          ],
          "heatmapgl": [
           {
            "colorbar": {
             "outlinewidth": 0,
             "ticks": ""
            },
            "colorscale": [
             [
              0,
              "#0d0887"
             ],
             [
              0.1111111111111111,
              "#46039f"
             ],
             [
              0.2222222222222222,
              "#7201a8"
             ],
             [
              0.3333333333333333,
              "#9c179e"
             ],
             [
              0.4444444444444444,
              "#bd3786"
             ],
             [
              0.5555555555555556,
              "#d8576b"
             ],
             [
              0.6666666666666666,
              "#ed7953"
             ],
             [
              0.7777777777777778,
              "#fb9f3a"
             ],
             [
              0.8888888888888888,
              "#fdca26"
             ],
             [
              1,
              "#f0f921"
             ]
            ],
            "type": "heatmapgl"
           }
          ],
          "histogram": [
           {
            "marker": {
             "pattern": {
              "fillmode": "overlay",
              "size": 10,
              "solidity": 0.2
             }
            },
            "type": "histogram"
           }
          ],
          "histogram2d": [
           {
            "colorbar": {
             "outlinewidth": 0,
             "ticks": ""
            },
            "colorscale": [
             [
              0,
              "#0d0887"
             ],
             [
              0.1111111111111111,
              "#46039f"
             ],
             [
              0.2222222222222222,
              "#7201a8"
             ],
             [
              0.3333333333333333,
              "#9c179e"
             ],
             [
              0.4444444444444444,
              "#bd3786"
             ],
             [
              0.5555555555555556,
              "#d8576b"
             ],
             [
              0.6666666666666666,
              "#ed7953"
             ],
             [
              0.7777777777777778,
              "#fb9f3a"
             ],
             [
              0.8888888888888888,
              "#fdca26"
             ],
             [
              1,
              "#f0f921"
             ]
            ],
            "type": "histogram2d"
           }
          ],
          "histogram2dcontour": [
           {
            "colorbar": {
             "outlinewidth": 0,
             "ticks": ""
            },
            "colorscale": [
             [
              0,
              "#0d0887"
             ],
             [
              0.1111111111111111,
              "#46039f"
             ],
             [
              0.2222222222222222,
              "#7201a8"
             ],
             [
              0.3333333333333333,
              "#9c179e"
             ],
             [
              0.4444444444444444,
              "#bd3786"
             ],
             [
              0.5555555555555556,
              "#d8576b"
             ],
             [
              0.6666666666666666,
              "#ed7953"
             ],
             [
              0.7777777777777778,
              "#fb9f3a"
             ],
             [
              0.8888888888888888,
              "#fdca26"
             ],
             [
              1,
              "#f0f921"
             ]
            ],
            "type": "histogram2dcontour"
           }
          ],
          "mesh3d": [
           {
            "colorbar": {
             "outlinewidth": 0,
             "ticks": ""
            },
            "type": "mesh3d"
           }
          ],
          "parcoords": [
           {
            "line": {
             "colorbar": {
              "outlinewidth": 0,
              "ticks": ""
             }
            },
            "type": "parcoords"
           }
          ],
          "pie": [
           {
            "automargin": true,
            "type": "pie"
           }
          ],
          "scatter": [
           {
            "fillpattern": {
             "fillmode": "overlay",
             "size": 10,
             "solidity": 0.2
            },
            "type": "scatter"
           }
          ],
          "scatter3d": [
           {
            "line": {
             "colorbar": {
              "outlinewidth": 0,
              "ticks": ""
             }
            },
            "marker": {
             "colorbar": {
              "outlinewidth": 0,
              "ticks": ""
             }
            },
            "type": "scatter3d"
           }
          ],
          "scattercarpet": [
           {
            "marker": {
             "colorbar": {
              "outlinewidth": 0,
              "ticks": ""
             }
            },
            "type": "scattercarpet"
           }
          ],
          "scattergeo": [
           {
            "marker": {
             "colorbar": {
              "outlinewidth": 0,
              "ticks": ""
             }
            },
            "type": "scattergeo"
           }
          ],
          "scattergl": [
           {
            "marker": {
             "colorbar": {
              "outlinewidth": 0,
              "ticks": ""
             }
            },
            "type": "scattergl"
           }
          ],
          "scattermapbox": [
           {
            "marker": {
             "colorbar": {
              "outlinewidth": 0,
              "ticks": ""
             }
            },
            "type": "scattermapbox"
           }
          ],
          "scatterpolar": [
           {
            "marker": {
             "colorbar": {
              "outlinewidth": 0,
              "ticks": ""
             }
            },
            "type": "scatterpolar"
           }
          ],
          "scatterpolargl": [
           {
            "marker": {
             "colorbar": {
              "outlinewidth": 0,
              "ticks": ""
             }
            },
            "type": "scatterpolargl"
           }
          ],
          "scatterternary": [
           {
            "marker": {
             "colorbar": {
              "outlinewidth": 0,
              "ticks": ""
             }
            },
            "type": "scatterternary"
           }
          ],
          "surface": [
           {
            "colorbar": {
             "outlinewidth": 0,
             "ticks": ""
            },
            "colorscale": [
             [
              0,
              "#0d0887"
             ],
             [
              0.1111111111111111,
              "#46039f"
             ],
             [
              0.2222222222222222,
              "#7201a8"
             ],
             [
              0.3333333333333333,
              "#9c179e"
             ],
             [
              0.4444444444444444,
              "#bd3786"
             ],
             [
              0.5555555555555556,
              "#d8576b"
             ],
             [
              0.6666666666666666,
              "#ed7953"
             ],
             [
              0.7777777777777778,
              "#fb9f3a"
             ],
             [
              0.8888888888888888,
              "#fdca26"
             ],
             [
              1,
              "#f0f921"
             ]
            ],
            "type": "surface"
           }
          ],
          "table": [
           {
            "cells": {
             "fill": {
              "color": "#EBF0F8"
             },
             "line": {
              "color": "white"
             }
            },
            "header": {
             "fill": {
              "color": "#C8D4E3"
             },
             "line": {
              "color": "white"
             }
            },
            "type": "table"
           }
          ]
         },
         "layout": {
          "annotationdefaults": {
           "arrowcolor": "#2a3f5f",
           "arrowhead": 0,
           "arrowwidth": 1
          },
          "autotypenumbers": "strict",
          "coloraxis": {
           "colorbar": {
            "outlinewidth": 0,
            "ticks": ""
           }
          },
          "colorscale": {
           "diverging": [
            [
             0,
             "#8e0152"
            ],
            [
             0.1,
             "#c51b7d"
            ],
            [
             0.2,
             "#de77ae"
            ],
            [
             0.3,
             "#f1b6da"
            ],
            [
             0.4,
             "#fde0ef"
            ],
            [
             0.5,
             "#f7f7f7"
            ],
            [
             0.6,
             "#e6f5d0"
            ],
            [
             0.7,
             "#b8e186"
            ],
            [
             0.8,
             "#7fbc41"
            ],
            [
             0.9,
             "#4d9221"
            ],
            [
             1,
             "#276419"
            ]
           ],
           "sequential": [
            [
             0,
             "#0d0887"
            ],
            [
             0.1111111111111111,
             "#46039f"
            ],
            [
             0.2222222222222222,
             "#7201a8"
            ],
            [
             0.3333333333333333,
             "#9c179e"
            ],
            [
             0.4444444444444444,
             "#bd3786"
            ],
            [
             0.5555555555555556,
             "#d8576b"
            ],
            [
             0.6666666666666666,
             "#ed7953"
            ],
            [
             0.7777777777777778,
             "#fb9f3a"
            ],
            [
             0.8888888888888888,
             "#fdca26"
            ],
            [
             1,
             "#f0f921"
            ]
           ],
           "sequentialminus": [
            [
             0,
             "#0d0887"
            ],
            [
             0.1111111111111111,
             "#46039f"
            ],
            [
             0.2222222222222222,
             "#7201a8"
            ],
            [
             0.3333333333333333,
             "#9c179e"
            ],
            [
             0.4444444444444444,
             "#bd3786"
            ],
            [
             0.5555555555555556,
             "#d8576b"
            ],
            [
             0.6666666666666666,
             "#ed7953"
            ],
            [
             0.7777777777777778,
             "#fb9f3a"
            ],
            [
             0.8888888888888888,
             "#fdca26"
            ],
            [
             1,
             "#f0f921"
            ]
           ]
          },
          "colorway": [
           "#636efa",
           "#EF553B",
           "#00cc96",
           "#ab63fa",
           "#FFA15A",
           "#19d3f3",
           "#FF6692",
           "#B6E880",
           "#FF97FF",
           "#FECB52"
          ],
          "font": {
           "color": "#2a3f5f"
          },
          "geo": {
           "bgcolor": "white",
           "lakecolor": "white",
           "landcolor": "#E5ECF6",
           "showlakes": true,
           "showland": true,
           "subunitcolor": "white"
          },
          "hoverlabel": {
           "align": "left"
          },
          "hovermode": "closest",
          "mapbox": {
           "style": "light"
          },
          "paper_bgcolor": "white",
          "plot_bgcolor": "#E5ECF6",
          "polar": {
           "angularaxis": {
            "gridcolor": "white",
            "linecolor": "white",
            "ticks": ""
           },
           "bgcolor": "#E5ECF6",
           "radialaxis": {
            "gridcolor": "white",
            "linecolor": "white",
            "ticks": ""
           }
          },
          "scene": {
           "xaxis": {
            "backgroundcolor": "#E5ECF6",
            "gridcolor": "white",
            "gridwidth": 2,
            "linecolor": "white",
            "showbackground": true,
            "ticks": "",
            "zerolinecolor": "white"
           },
           "yaxis": {
            "backgroundcolor": "#E5ECF6",
            "gridcolor": "white",
            "gridwidth": 2,
            "linecolor": "white",
            "showbackground": true,
            "ticks": "",
            "zerolinecolor": "white"
           },
           "zaxis": {
            "backgroundcolor": "#E5ECF6",
            "gridcolor": "white",
            "gridwidth": 2,
            "linecolor": "white",
            "showbackground": true,
            "ticks": "",
            "zerolinecolor": "white"
           }
          },
          "shapedefaults": {
           "line": {
            "color": "#2a3f5f"
           }
          },
          "ternary": {
           "aaxis": {
            "gridcolor": "white",
            "linecolor": "white",
            "ticks": ""
           },
           "baxis": {
            "gridcolor": "white",
            "linecolor": "white",
            "ticks": ""
           },
           "bgcolor": "#E5ECF6",
           "caxis": {
            "gridcolor": "white",
            "linecolor": "white",
            "ticks": ""
           }
          },
          "title": {
           "x": 0.05
          },
          "xaxis": {
           "automargin": true,
           "gridcolor": "white",
           "linecolor": "white",
           "ticks": "",
           "title": {
            "standoff": 15
           },
           "zerolinecolor": "white",
           "zerolinewidth": 2
          },
          "yaxis": {
           "automargin": true,
           "gridcolor": "white",
           "linecolor": "white",
           "ticks": "",
           "title": {
            "standoff": 15
           },
           "zerolinecolor": "white",
           "zerolinewidth": 2
          }
         }
        },
        "title": {
         "text": "Interactions for D"
        },
        "width": 1600,
        "xaxis": {
         "anchor": "y",
         "domain": [
          0,
          1
         ],
         "dtick": 20,
         "range": [
          0,
          600
         ],
         "title": {
          "text": "Residue Index"
         }
        },
        "yaxis": {
         "anchor": "x",
         "domain": [
          0,
          1
         ],
         "range": [
          1.5,
          5
         ],
         "title": {
          "text": "Distance (angstroms)"
         }
        }
       }
      }
     },
     "metadata": {},
     "output_type": "display_data"
    },
    {
     "data": {
      "application/vnd.plotly.v1+json": {
       "config": {
        "plotlyServerURL": "https://plot.ly"
       },
       "data": [
        {
         "customdata": [
          [
           356,
           "E"
          ],
          [
           345,
           "A"
          ],
          [
           348,
           "L"
          ],
          [
           358,
           "E"
          ],
          [
           467,
           "E"
          ],
          [
           474,
           "E"
          ],
          [
           476,
           "E"
          ],
          [
           495,
           "D"
          ],
          [
           532,
           "L"
          ],
          [
           539,
           "S"
          ],
          [
           556,
           "E"
          ],
          [
           582,
           "L"
          ]
         ],
         "hovertemplate": "Interacting Chain=kinesin B<br>aa_classification=positively charged<br>Residue Index=%{x}<br>Distance (angstroms)=%{y}<br>residue_one_letter=%{text}<br>interacting_resinumber=%{customdata[0]}<br>interactingresi_oneletter=%{customdata[1]}<extra></extra>",
         "legendgroup": "kinesin B, positively charged",
         "marker": {
          "color": "#1f77b4",
          "opacity": 0.6,
          "size": 10,
          "symbol": "triangle-up"
         },
         "mode": "markers+text",
         "name": "kinesin B, positively charged",
         "orientation": "v",
         "showlegend": true,
         "text": [
          "R",
          "R",
          "K",
          "K",
          "K",
          "K",
          "K",
          "K",
          "K",
          "R",
          "K",
          "R"
         ],
         "textposition": "top center",
         "type": "scatter",
         "x": [
          5,
          343,
          349,
          363,
          462,
          473,
          477,
          494,
          533,
          540,
          561,
          570
         ],
         "xaxis": "x",
         "y": [
          3.531878638267517,
          4.329164218902588,
          4.002973127365112,
          2.723021078109741,
          2.7925221920013428,
          2.6483593702316286,
          2.5791381120681764,
          2.4636243343353272,
          3.7319110155105593,
          3.368006777763367,
          2.783824110031128,
          2.3227875351905825
         ],
         "yaxis": "y"
        },
        {
         "customdata": [
          [
           348,
           "L"
          ],
          [
           345,
           "A"
          ],
          [
           352,
           "L"
          ],
          [
           351,
           "L"
          ],
          [
           359,
           "I"
          ],
          [
           359,
           "I"
          ],
          [
           366,
           "I"
          ],
          [
           366,
           "I"
          ],
          [
           375,
           "V"
          ],
          [
           375,
           "V"
          ],
          [
           369,
           "L"
          ],
          [
           365,
           "Y"
          ],
          [
           456,
           "I"
          ],
          [
           456,
           "I"
          ],
          [
           463,
           "C"
          ],
          [
           470,
           "L"
          ],
          [
           470,
           "L"
          ],
          [
           477,
           "K"
          ],
          [
           480,
           "I"
          ],
          [
           487,
           "Q"
          ],
          [
           494,
           "K"
          ],
          [
           497,
           "E"
          ],
          [
           505,
           "I"
          ],
          [
           505,
           "I"
          ],
          [
           501,
           "L"
          ],
          [
           512,
           "N"
          ],
          [
           515,
           "Y"
          ],
          [
           522,
           "N"
          ],
          [
           525,
           "L"
          ],
          [
           536,
           "L"
          ],
          [
           536,
           "L"
          ],
          [
           535,
           "A"
          ],
          [
           546,
           "Q"
          ],
          [
           550,
           "I"
          ],
          [
           554,
           "N"
          ],
          [
           560,
           "I"
          ],
          [
           560,
           "I"
          ],
          [
           571,
           "I"
          ],
          [
           567,
           "L"
          ],
          [
           574,
           "S"
          ],
          [
           570,
           "R"
          ]
         ],
         "hovertemplate": "Interacting Chain=kinesin B<br>aa_classification=nonpolar<br>Residue Index=%{x}<br>Distance (angstroms)=%{y}<br>residue_one_letter=%{text}<br>interacting_resinumber=%{customdata[0]}<br>interactingresi_oneletter=%{customdata[1]}<extra></extra>",
         "legendgroup": "kinesin B, nonpolar",
         "marker": {
          "color": "#1f77b4",
          "opacity": 0.6,
          "size": 10,
          "symbol": "circle"
         },
         "mode": "markers+text",
         "name": "kinesin B, nonpolar",
         "orientation": "v",
         "showlegend": true,
         "text": [
          "A",
          "L",
          "L",
          "L",
          "A",
          "I",
          "L",
          "I",
          "L",
          "V",
          "V",
          "V",
          "L",
          "I",
          "L",
          "L",
          "L",
          "I",
          "L",
          "L",
          "I",
          "I",
          "L",
          "M",
          "I",
          "I",
          "L",
          "L",
          "L",
          "L",
          "A",
          "L",
          "A",
          "I",
          "L",
          "I",
          "L",
          "L",
          "I",
          "I",
          "L"
         ],
         "textposition": "top center",
         "type": "scatter",
         "x": [
          345,
          348,
          351,
          352,
          355,
          359,
          362,
          366,
          369,
          372,
          375,
          377,
          455,
          456,
          459,
          466,
          470,
          480,
          481,
          484,
          491,
          498,
          501,
          504,
          505,
          511,
          514,
          525,
          529,
          532,
          535,
          536,
          543,
          550,
          553,
          560,
          564,
          567,
          571,
          579,
          582
         ],
         "xaxis": "x",
         "y": [
          3.333734083175659,
          3.294251894950867,
          3.69295072555542,
          3.680106377601624,
          3.5726788997650147,
          3.472433090209961,
          3.357787585258484,
          3.3532920837402345,
          3.099999594688416,
          4.321649169921875,
          3.2258677005767824,
          3.3672661542892457,
          3.793028616905212,
          3.50847704410553,
          3.721611642837524,
          3.647863006591797,
          3.2007425308227537,
          3.24136221408844,
          4.018199443817139,
          3.0874229669570923,
          3.1398332834243776,
          3.4730142831802366,
          2.920471811294556,
          3.81049530506134,
          2.919063854217529,
          3.456050491333008,
          3.391597104072571,
          3.035896444320678,
          3.3814367055892944,
          3.52223916053772,
          3.2790656089782715,
          3.2607849836349487,
          2.6451249361038207,
          3.360449695587158,
          3.137296199798584,
          3.183238458633423,
          3.497667837142944,
          3.107263779640198,
          3.1806048154830933,
          3.8411591053009033,
          2.3545340299606323
         ],
         "yaxis": "y"
        },
        {
         "customdata": [
          [
           370,
           "E"
          ],
          [
           373,
           "S"
          ],
          [
           365,
           "Y"
          ],
          [
           449,
           "S"
          ],
          [
           448,
           "T"
          ],
          [
           459,
           "L"
          ],
          [
           463,
           "C"
          ],
          [
           470,
           "L"
          ],
          [
           484,
           "L"
          ],
          [
           484,
           "L"
          ],
          [
           487,
           "Q"
          ],
          [
           491,
           "I"
          ],
          [
           501,
           "L"
          ],
          [
           508,
           "S"
          ],
          [
           511,
           "I"
          ],
          [
           514,
           "L"
          ],
          [
           518,
           "S"
          ],
          [
           518,
           "S"
          ],
          [
           522,
           "N"
          ],
          [
           525,
           "L"
          ],
          [
           529,
           "L"
          ],
          [
           539,
           "S"
          ],
          [
           543,
           "A"
          ],
          [
           546,
           "Q"
          ],
          [
           550,
           "I"
          ],
          [
           553,
           "L"
          ],
          [
           557,
           "N"
          ],
          [
           564,
           "L"
          ],
          [
           579,
           "I"
          ]
         ],
         "hovertemplate": "Interacting Chain=kinesin B<br>aa_classification=polar uncharged<br>Residue Index=%{x}<br>Distance (angstroms)=%{y}<br>residue_one_letter=%{text}<br>interacting_resinumber=%{customdata[0]}<br>interactingresi_oneletter=%{customdata[1]}<extra></extra>",
         "legendgroup": "kinesin B, polar uncharged",
         "marker": {
          "color": "#1f77b4",
          "opacity": 0.6,
          "size": 10,
          "symbol": "square"
         },
         "mode": "markers+text",
         "name": "kinesin B, polar uncharged",
         "orientation": "v",
         "showlegend": true,
         "text": [
          "Y",
          "S",
          "T",
          "T",
          "S",
          "Q",
          "C",
          "Q",
          "Q",
          "Q",
          "Q",
          "Q",
          "N",
          "S",
          "N",
          "Y",
          "S",
          "T",
          "N",
          "N",
          "Q",
          "S",
          "Q",
          "S",
          "T",
          "N",
          "N",
          "Q",
          "S"
         ],
         "textposition": "top center",
         "type": "scatter",
         "x": [
          365,
          373,
          376,
          448,
          449,
          460,
          463,
          469,
          483,
          487,
          488,
          490,
          502,
          508,
          512,
          515,
          518,
          519,
          522,
          526,
          528,
          539,
          546,
          547,
          549,
          554,
          557,
          563,
          574
         ],
         "xaxis": "x",
         "y": [
          2.854290151596069,
          3.4841848373413087,
          4.449738073348999,
          4.427500867843628,
          4.216460752487182,
          3.885666799545288,
          2.946331834793091,
          3.402151894569397,
          3.676540803909302,
          3.079671788215637,
          3.0462824583053587,
          3.603171873092651,
          3.2607850790023805,
          2.904142212867737,
          3.366317701339722,
          3.271326804161072,
          2.829489088058472,
          3.492994785308838,
          2.2658191204071043,
          3.2402082681655884,
          3.61376953125,
          2.803588533401489,
          2.6187576055526733,
          3.706922459602356,
          4.051122522354126,
          3.147888040542602,
          2.4334129095077515,
          3.918500065803528,
          3.818012261390686
         ],
         "yaxis": "y"
        },
        {
         "customdata": [
          [
           363,
           "K"
          ],
          [
           377,
           "V"
          ],
          [
           365,
           "Y"
          ],
          [
           448,
           "T"
          ],
          [
           462,
           "K"
          ],
          [
           473,
           "K"
          ],
          [
           477,
           "K"
          ],
          [
           494,
           "K"
          ],
          [
           498,
           "I"
          ],
          [
           522,
           "N"
          ],
          [
           561,
           "K"
          ]
         ],
         "hovertemplate": "Interacting Chain=kinesin B<br>aa_classification=negatively charged<br>Residue Index=%{x}<br>Distance (angstroms)=%{y}<br>residue_one_letter=%{text}<br>interacting_resinumber=%{customdata[0]}<br>interactingresi_oneletter=%{customdata[1]}<extra></extra>",
         "legendgroup": "kinesin B, negatively charged",
         "marker": {
          "color": "#1f77b4",
          "opacity": 0.6,
          "size": 10,
          "symbol": "triangle-down"
         },
         "mode": "markers+text",
         "name": "kinesin B, negatively charged",
         "orientation": "v",
         "showlegend": true,
         "text": [
          "E",
          "E",
          "E",
          "D",
          "E",
          "E",
          "E",
          "D",
          "E",
          "E",
          "E"
         ],
         "textposition": "top center",
         "type": "scatter",
         "x": [
          358,
          368,
          370,
          452,
          467,
          474,
          476,
          495,
          497,
          521,
          556
         ],
         "xaxis": "x",
         "y": [
          2.8782934665679933,
          3.893514084815979,
          3.040589070320129,
          3.677449321746826,
          2.7661184549331663,
          2.653424406051636,
          2.5772828578948976,
          2.471068835258484,
          3.463311505317688,
          3.505995845794678,
          2.7477582931518554
         ],
         "yaxis": "y"
        },
        {
         "customdata": [
          [
           420,
           "E"
          ],
          [
           109,
           "T"
          ],
          [
           409,
           "V"
          ]
         ],
         "hovertemplate": "Interacting Chain=alpha-tubulin<br>aa_classification=positively charged<br>Residue Index=%{x}<br>Distance (angstroms)=%{y}<br>residue_one_letter=%{text}<br>interacting_resinumber=%{customdata[0]}<br>interactingresi_oneletter=%{customdata[1]}<extra></extra>",
         "legendgroup": "alpha-tubulin, positively charged",
         "marker": {
          "color": "#ff7f0e",
          "opacity": 0.6,
          "size": 10,
          "symbol": "triangle-up"
         },
         "mode": "markers+text",
         "name": "alpha-tubulin, positively charged",
         "orientation": "v",
         "showlegend": true,
         "text": [
          "K",
          "K",
          "K"
         ],
         "textposition": "top center",
         "type": "scatter",
         "x": [
          244,
          259,
          263
         ],
         "xaxis": "x",
         "y": [
          2.517932963371277,
          3.2352123498916625,
          3.3599256753921507
         ],
         "yaxis": "y"
        },
        {
         "customdata": [
          [
           412,
           "G"
          ],
          [
           112,
           "K"
          ],
          [
           108,
           "Y"
          ]
         ],
         "hovertemplate": "Interacting Chain=alpha-tubulin<br>aa_classification=nonpolar<br>Residue Index=%{x}<br>Distance (angstroms)=%{y}<br>residue_one_letter=%{text}<br>interacting_resinumber=%{customdata[0]}<br>interactingresi_oneletter=%{customdata[1]}<extra></extra>",
         "legendgroup": "alpha-tubulin, nonpolar",
         "marker": {
          "color": "#ff7f0e",
          "opacity": 0.6,
          "size": 10,
          "symbol": "circle"
         },
         "mode": "markers+text",
         "name": "alpha-tubulin, nonpolar",
         "orientation": "v",
         "showlegend": true,
         "text": [
          "V",
          "A",
          "L"
         ],
         "textposition": "top center",
         "type": "scatter",
         "x": [
          245,
          250,
          255
         ],
         "xaxis": "x",
         "y": [
          3.202519345283508,
          2.862581729888916,
          3.942168879508972
         ],
         "yaxis": "y"
        },
        {
         "customdata": [
          [
           414,
           "E"
          ],
          [
           108,
           "Y"
          ],
          [
           409,
           "V"
          ],
          [
           415,
           "E"
          ],
          [
           402,
           "R"
          ],
          [
           420,
           "E"
          ]
         ],
         "hovertemplate": "Interacting Chain=alpha-tubulin<br>aa_classification=polar uncharged<br>Residue Index=%{x}<br>Distance (angstroms)=%{y}<br>residue_one_letter=%{text}<br>interacting_resinumber=%{customdata[0]}<br>interactingresi_oneletter=%{customdata[1]}<extra></extra>",
         "legendgroup": "alpha-tubulin, polar uncharged",
         "marker": {
          "color": "#ff7f0e",
          "opacity": 0.6,
          "size": 10,
          "symbol": "square"
         },
         "mode": "markers+text",
         "name": "alpha-tubulin, polar uncharged",
         "orientation": "v",
         "showlegend": true,
         "text": [
          "S",
          "S",
          "N",
          "S",
          "N",
          "S"
         ],
         "textposition": "top center",
         "type": "scatter",
         "x": [
          242,
          246,
          262,
          266,
          270,
          318
         ],
         "xaxis": "x",
         "y": [
          3.203297972679138,
          4.496164321899414,
          3.423445439338684,
          2.641263794898987,
          3.6033035039901735,
          3.584042763710022
         ],
         "yaxis": "y"
        },
        {
         "customdata": [
          [
           414,
           "E"
          ],
          [
           112,
           "K"
          ],
          [
           414,
           "E"
          ]
         ],
         "hovertemplate": "Interacting Chain=alpha-tubulin<br>aa_classification=negatively charged<br>Residue Index=%{x}<br>Distance (angstroms)=%{y}<br>residue_one_letter=%{text}<br>interacting_resinumber=%{customdata[0]}<br>interactingresi_oneletter=%{customdata[1]}<extra></extra>",
         "legendgroup": "alpha-tubulin, negatively charged",
         "marker": {
          "color": "#ff7f0e",
          "opacity": 0.6,
          "size": 10,
          "symbol": "triangle-down"
         },
         "mode": "markers+text",
         "name": "alpha-tubulin, negatively charged",
         "orientation": "v",
         "showlegend": true,
         "text": [
          "E",
          "E",
          "E"
         ],
         "textposition": "top center",
         "type": "scatter",
         "x": [
          243,
          251,
          319
         ],
         "xaxis": "x",
         "y": [
          4.156659889221191,
          3.6634960889816286,
          3.9973543643951417
         ],
         "yaxis": "y"
        },
        {
         "customdata": [
          [
           157,
           "E"
          ],
          [
           410,
           "E"
          ],
          [
           406,
           "M"
          ],
          [
           412,
           "E"
          ],
          [
           424,
           "Q"
          ],
          [
           424,
           "Q"
          ],
          [
           417,
           "D"
          ],
          [
           417,
           "D"
          ]
         ],
         "hovertemplate": "Interacting Chain=beta-tubulin<br>aa_classification=positively charged<br>Residue Index=%{x}<br>Distance (angstroms)=%{y}<br>residue_one_letter=%{text}<br>interacting_resinumber=%{customdata[0]}<br>interactingresi_oneletter=%{customdata[1]}<extra></extra>",
         "legendgroup": "beta-tubulin, positively charged",
         "marker": {
          "color": "#2ca02c",
          "opacity": 0.6,
          "size": 10,
          "symbol": "triangle-up"
         },
         "mode": "markers+text",
         "name": "beta-tubulin, positively charged",
         "orientation": "v",
         "showlegend": true,
         "text": [
          "K",
          "H",
          "K",
          "R",
          "K",
          "H",
          "R",
          "R"
         ],
         "textposition": "top center",
         "type": "scatter",
         "x": [
          148,
          163,
          166,
          168,
          280,
          282,
          286,
          292
         ],
         "xaxis": "x",
         "y": [
          3.2641376733779905,
          2.753365588188172,
          3.495683789253235,
          3.468114185333252,
          3.929962968826294,
          2.743866491317749,
          2.5205702781677246,
          4.4330527782440186
         ],
         "yaxis": "y"
        },
        {
         "customdata": [
          [
           410,
           "E"
          ]
         ],
         "hovertemplate": "Interacting Chain=beta-tubulin<br>aa_classification=nonpolar<br>Residue Index=%{x}<br>Distance (angstroms)=%{y}<br>residue_one_letter=%{text}<br>interacting_resinumber=%{customdata[0]}<br>interactingresi_oneletter=%{customdata[1]}<extra></extra>",
         "legendgroup": "beta-tubulin, nonpolar",
         "marker": {
          "color": "#2ca02c",
          "opacity": 0.6,
          "size": 10,
          "symbol": "circle"
         },
         "mode": "markers+text",
         "name": "beta-tubulin, nonpolar",
         "orientation": "v",
         "showlegend": true,
         "text": [
          "V"
         ],
         "textposition": "top center",
         "type": "scatter",
         "x": [
          162
         ],
         "xaxis": "x",
         "y": [
          3.106700682640076
         ],
         "yaxis": "y"
        },
        {
         "customdata": [
          [
           157,
           "E"
          ],
          [
           424,
           "Q"
          ]
         ],
         "hovertemplate": "Interacting Chain=beta-tubulin<br>aa_classification=polar uncharged<br>Residue Index=%{x}<br>Distance (angstroms)=%{y}<br>residue_one_letter=%{text}<br>interacting_resinumber=%{customdata[0]}<br>interactingresi_oneletter=%{customdata[1]}<extra></extra>",
         "legendgroup": "beta-tubulin, polar uncharged",
         "marker": {
          "color": "#2ca02c",
          "opacity": 0.6,
          "size": 10,
          "symbol": "square"
         },
         "mode": "markers+text",
         "name": "beta-tubulin, polar uncharged",
         "orientation": "v",
         "showlegend": true,
         "text": [
          "N",
          "T"
         ],
         "textposition": "top center",
         "type": "scatter",
         "x": [
          159,
          281
         ],
         "xaxis": "x",
         "y": [
          3.131305813789368,
          4.382297897338868
         ],
         "yaxis": "y"
        },
        {
         "customdata": [
          [
           413,
           "S"
          ],
          [
           406,
           "M"
          ],
          [
           262,
           "R"
          ]
         ],
         "hovertemplate": "Interacting Chain=beta-tubulin<br>aa_classification=negatively charged<br>Residue Index=%{x}<br>Distance (angstroms)=%{y}<br>residue_one_letter=%{text}<br>interacting_resinumber=%{customdata[0]}<br>interactingresi_oneletter=%{customdata[1]}<extra></extra>",
         "legendgroup": "beta-tubulin, negatively charged",
         "marker": {
          "color": "#2ca02c",
          "opacity": 0.6,
          "size": 10,
          "symbol": "triangle-down"
         },
         "mode": "markers+text",
         "name": "beta-tubulin, negatively charged",
         "orientation": "v",
         "showlegend": true,
         "text": [
          "E",
          "D",
          "D"
         ],
         "textposition": "top center",
         "type": "scatter",
         "x": [
          164,
          165,
          287
         ],
         "xaxis": "x",
         "y": [
          3.2456214427948,
          3.725411796569824,
          3.223245310783386
         ],
         "yaxis": "y"
        },
        {
         "customdata": [
          [
           1,
           "?"
          ],
          [
           1,
           "?"
          ],
          [
           1,
           "?"
          ],
          [
           1,
           "?"
          ],
          [
           1,
           "?"
          ]
         ],
         "hovertemplate": "Interacting Chain=ATP<br>aa_classification=positively charged<br>Residue Index=%{x}<br>Distance (angstroms)=%{y}<br>residue_one_letter=%{text}<br>interacting_resinumber=%{customdata[0]}<br>interactingresi_oneletter=%{customdata[1]}<extra></extra>",
         "legendgroup": "ATP, positively charged",
         "marker": {
          "color": "#d62728",
          "opacity": 0.6,
          "size": 10,
          "symbol": "triangle-up"
         },
         "mode": "markers+text",
         "name": "ATP, positively charged",
         "orientation": "v",
         "showlegend": true,
         "text": [
          "R",
          "R",
          "K",
          "H",
          "H"
         ],
         "textposition": "top center",
         "type": "scatter",
         "x": [
          18,
          20,
          98,
          100,
          207
         ],
         "xaxis": "x",
         "y": [
          3.701220226287842,
          3.549698996543884,
          2.759048843383789,
          2.805315136909485,
          3.993555784225464
         ],
         "yaxis": "y"
        },
        {
         "customdata": [
          [
           1,
           "?"
          ],
          [
           1,
           "?"
          ],
          [
           1,
           "?"
          ],
          [
           1,
           "?"
          ],
          [
           1,
           "?"
          ],
          [
           1,
           "?"
          ]
         ],
         "hovertemplate": "Interacting Chain=ATP<br>aa_classification=nonpolar<br>Residue Index=%{x}<br>Distance (angstroms)=%{y}<br>residue_one_letter=%{text}<br>interacting_resinumber=%{customdata[0]}<br>interactingresi_oneletter=%{customdata[1]}<extra></extra>",
         "legendgroup": "ATP, nonpolar",
         "marker": {
          "color": "#d62728",
          "opacity": 0.6,
          "size": 10,
          "symbol": "circle"
         },
         "mode": "markers+text",
         "name": "ATP, nonpolar",
         "orientation": "v",
         "showlegend": true,
         "text": [
          "P",
          "P",
          "G",
          "L",
          "A",
          "G"
         ],
         "textposition": "top center",
         "type": "scatter",
         "x": [
          21,
          61,
          97,
          239,
          240,
          241
         ],
         "xaxis": "x",
         "y": [
          3.429464745521545,
          4.48359260559082,
          2.994154381752014,
          4.4262047290802,
          3.9088396072387694,
          2.912532162666321
         ],
         "yaxis": "y"
        },
        {
         "customdata": [
          [
           1,
           "?"
          ],
          [
           1,
           "?"
          ],
          [
           1,
           "?"
          ],
          [
           1,
           "?"
          ],
          [
           1,
           "?"
          ],
          [
           1,
           "?"
          ]
         ],
         "hovertemplate": "Interacting Chain=ATP<br>aa_classification=polar uncharged<br>Residue Index=%{x}<br>Distance (angstroms)=%{y}<br>residue_one_letter=%{text}<br>interacting_resinumber=%{customdata[0]}<br>interactingresi_oneletter=%{customdata[1]}<extra></extra>",
         "legendgroup": "ATP, polar uncharged",
         "marker": {
          "color": "#d62728",
          "opacity": 0.6,
          "size": 10,
          "symbol": "square"
         },
         "mode": "markers+text",
         "name": "ATP, polar uncharged",
         "orientation": "v",
         "showlegend": true,
         "text": [
          "Q",
          "T",
          "S",
          "S",
          "N",
          "S"
         ],
         "textposition": "top center",
         "type": "scatter",
         "x": [
          93,
          94,
          95,
          96,
          205,
          208
         ],
         "xaxis": "x",
         "y": [
          3.926149868965149,
          2.452829575538636,
          2.849565100669861,
          3.381219911575317,
          3.0340236902236937,
          2.9652478456497198
         ],
         "yaxis": "y"
        }
       ],
       "layout": {
        "autosize": false,
        "height": 600,
        "legend": {
         "title": {
          "text": "Interacting Chain"
         },
         "tracegroupgap": 0
        },
        "shapes": [
         {
          "fillcolor": "LightSkyBlue",
          "layer": "below",
          "line": {
           "width": 0
          },
          "opacity": 0.3,
          "type": "rect",
          "x0": 0,
          "x1": 333,
          "y0": 0,
          "y1": 5
         },
         {
          "fillcolor": "LightSalmon",
          "layer": "below",
          "line": {
           "width": 0
          },
          "opacity": 0.3,
          "type": "rect",
          "x0": 333,
          "x1": 600,
          "y0": 0,
          "y1": 5
         }
        ],
        "template": {
         "data": {
          "bar": [
           {
            "error_x": {
             "color": "#2a3f5f"
            },
            "error_y": {
             "color": "#2a3f5f"
            },
            "marker": {
             "line": {
              "color": "#E5ECF6",
              "width": 0.5
             },
             "pattern": {
              "fillmode": "overlay",
              "size": 10,
              "solidity": 0.2
             }
            },
            "type": "bar"
           }
          ],
          "barpolar": [
           {
            "marker": {
             "line": {
              "color": "#E5ECF6",
              "width": 0.5
             },
             "pattern": {
              "fillmode": "overlay",
              "size": 10,
              "solidity": 0.2
             }
            },
            "type": "barpolar"
           }
          ],
          "carpet": [
           {
            "aaxis": {
             "endlinecolor": "#2a3f5f",
             "gridcolor": "white",
             "linecolor": "white",
             "minorgridcolor": "white",
             "startlinecolor": "#2a3f5f"
            },
            "baxis": {
             "endlinecolor": "#2a3f5f",
             "gridcolor": "white",
             "linecolor": "white",
             "minorgridcolor": "white",
             "startlinecolor": "#2a3f5f"
            },
            "type": "carpet"
           }
          ],
          "choropleth": [
           {
            "colorbar": {
             "outlinewidth": 0,
             "ticks": ""
            },
            "type": "choropleth"
           }
          ],
          "contour": [
           {
            "colorbar": {
             "outlinewidth": 0,
             "ticks": ""
            },
            "colorscale": [
             [
              0,
              "#0d0887"
             ],
             [
              0.1111111111111111,
              "#46039f"
             ],
             [
              0.2222222222222222,
              "#7201a8"
             ],
             [
              0.3333333333333333,
              "#9c179e"
             ],
             [
              0.4444444444444444,
              "#bd3786"
             ],
             [
              0.5555555555555556,
              "#d8576b"
             ],
             [
              0.6666666666666666,
              "#ed7953"
             ],
             [
              0.7777777777777778,
              "#fb9f3a"
             ],
             [
              0.8888888888888888,
              "#fdca26"
             ],
             [
              1,
              "#f0f921"
             ]
            ],
            "type": "contour"
           }
          ],
          "contourcarpet": [
           {
            "colorbar": {
             "outlinewidth": 0,
             "ticks": ""
            },
            "type": "contourcarpet"
           }
          ],
          "heatmap": [
           {
            "colorbar": {
             "outlinewidth": 0,
             "ticks": ""
            },
            "colorscale": [
             [
              0,
              "#0d0887"
             ],
             [
              0.1111111111111111,
              "#46039f"
             ],
             [
              0.2222222222222222,
              "#7201a8"
             ],
             [
              0.3333333333333333,
              "#9c179e"
             ],
             [
              0.4444444444444444,
              "#bd3786"
             ],
             [
              0.5555555555555556,
              "#d8576b"
             ],
             [
              0.6666666666666666,
              "#ed7953"
             ],
             [
              0.7777777777777778,
              "#fb9f3a"
             ],
             [
              0.8888888888888888,
              "#fdca26"
             ],
             [
              1,
              "#f0f921"
             ]
            ],
            "type": "heatmap"
           }
          ],
          "heatmapgl": [
           {
            "colorbar": {
             "outlinewidth": 0,
             "ticks": ""
            },
            "colorscale": [
             [
              0,
              "#0d0887"
             ],
             [
              0.1111111111111111,
              "#46039f"
             ],
             [
              0.2222222222222222,
              "#7201a8"
             ],
             [
              0.3333333333333333,
              "#9c179e"
             ],
             [
              0.4444444444444444,
              "#bd3786"
             ],
             [
              0.5555555555555556,
              "#d8576b"
             ],
             [
              0.6666666666666666,
              "#ed7953"
             ],
             [
              0.7777777777777778,
              "#fb9f3a"
             ],
             [
              0.8888888888888888,
              "#fdca26"
             ],
             [
              1,
              "#f0f921"
             ]
            ],
            "type": "heatmapgl"
           }
          ],
          "histogram": [
           {
            "marker": {
             "pattern": {
              "fillmode": "overlay",
              "size": 10,
              "solidity": 0.2
             }
            },
            "type": "histogram"
           }
          ],
          "histogram2d": [
           {
            "colorbar": {
             "outlinewidth": 0,
             "ticks": ""
            },
            "colorscale": [
             [
              0,
              "#0d0887"
             ],
             [
              0.1111111111111111,
              "#46039f"
             ],
             [
              0.2222222222222222,
              "#7201a8"
             ],
             [
              0.3333333333333333,
              "#9c179e"
             ],
             [
              0.4444444444444444,
              "#bd3786"
             ],
             [
              0.5555555555555556,
              "#d8576b"
             ],
             [
              0.6666666666666666,
              "#ed7953"
             ],
             [
              0.7777777777777778,
              "#fb9f3a"
             ],
             [
              0.8888888888888888,
              "#fdca26"
             ],
             [
              1,
              "#f0f921"
             ]
            ],
            "type": "histogram2d"
           }
          ],
          "histogram2dcontour": [
           {
            "colorbar": {
             "outlinewidth": 0,
             "ticks": ""
            },
            "colorscale": [
             [
              0,
              "#0d0887"
             ],
             [
              0.1111111111111111,
              "#46039f"
             ],
             [
              0.2222222222222222,
              "#7201a8"
             ],
             [
              0.3333333333333333,
              "#9c179e"
             ],
             [
              0.4444444444444444,
              "#bd3786"
             ],
             [
              0.5555555555555556,
              "#d8576b"
             ],
             [
              0.6666666666666666,
              "#ed7953"
             ],
             [
              0.7777777777777778,
              "#fb9f3a"
             ],
             [
              0.8888888888888888,
              "#fdca26"
             ],
             [
              1,
              "#f0f921"
             ]
            ],
            "type": "histogram2dcontour"
           }
          ],
          "mesh3d": [
           {
            "colorbar": {
             "outlinewidth": 0,
             "ticks": ""
            },
            "type": "mesh3d"
           }
          ],
          "parcoords": [
           {
            "line": {
             "colorbar": {
              "outlinewidth": 0,
              "ticks": ""
             }
            },
            "type": "parcoords"
           }
          ],
          "pie": [
           {
            "automargin": true,
            "type": "pie"
           }
          ],
          "scatter": [
           {
            "fillpattern": {
             "fillmode": "overlay",
             "size": 10,
             "solidity": 0.2
            },
            "type": "scatter"
           }
          ],
          "scatter3d": [
           {
            "line": {
             "colorbar": {
              "outlinewidth": 0,
              "ticks": ""
             }
            },
            "marker": {
             "colorbar": {
              "outlinewidth": 0,
              "ticks": ""
             }
            },
            "type": "scatter3d"
           }
          ],
          "scattercarpet": [
           {
            "marker": {
             "colorbar": {
              "outlinewidth": 0,
              "ticks": ""
             }
            },
            "type": "scattercarpet"
           }
          ],
          "scattergeo": [
           {
            "marker": {
             "colorbar": {
              "outlinewidth": 0,
              "ticks": ""
             }
            },
            "type": "scattergeo"
           }
          ],
          "scattergl": [
           {
            "marker": {
             "colorbar": {
              "outlinewidth": 0,
              "ticks": ""
             }
            },
            "type": "scattergl"
           }
          ],
          "scattermapbox": [
           {
            "marker": {
             "colorbar": {
              "outlinewidth": 0,
              "ticks": ""
             }
            },
            "type": "scattermapbox"
           }
          ],
          "scatterpolar": [
           {
            "marker": {
             "colorbar": {
              "outlinewidth": 0,
              "ticks": ""
             }
            },
            "type": "scatterpolar"
           }
          ],
          "scatterpolargl": [
           {
            "marker": {
             "colorbar": {
              "outlinewidth": 0,
              "ticks": ""
             }
            },
            "type": "scatterpolargl"
           }
          ],
          "scatterternary": [
           {
            "marker": {
             "colorbar": {
              "outlinewidth": 0,
              "ticks": ""
             }
            },
            "type": "scatterternary"
           }
          ],
          "surface": [
           {
            "colorbar": {
             "outlinewidth": 0,
             "ticks": ""
            },
            "colorscale": [
             [
              0,
              "#0d0887"
             ],
             [
              0.1111111111111111,
              "#46039f"
             ],
             [
              0.2222222222222222,
              "#7201a8"
             ],
             [
              0.3333333333333333,
              "#9c179e"
             ],
             [
              0.4444444444444444,
              "#bd3786"
             ],
             [
              0.5555555555555556,
              "#d8576b"
             ],
             [
              0.6666666666666666,
              "#ed7953"
             ],
             [
              0.7777777777777778,
              "#fb9f3a"
             ],
             [
              0.8888888888888888,
              "#fdca26"
             ],
             [
              1,
              "#f0f921"
             ]
            ],
            "type": "surface"
           }
          ],
          "table": [
           {
            "cells": {
             "fill": {
              "color": "#EBF0F8"
             },
             "line": {
              "color": "white"
             }
            },
            "header": {
             "fill": {
              "color": "#C8D4E3"
             },
             "line": {
              "color": "white"
             }
            },
            "type": "table"
           }
          ]
         },
         "layout": {
          "annotationdefaults": {
           "arrowcolor": "#2a3f5f",
           "arrowhead": 0,
           "arrowwidth": 1
          },
          "autotypenumbers": "strict",
          "coloraxis": {
           "colorbar": {
            "outlinewidth": 0,
            "ticks": ""
           }
          },
          "colorscale": {
           "diverging": [
            [
             0,
             "#8e0152"
            ],
            [
             0.1,
             "#c51b7d"
            ],
            [
             0.2,
             "#de77ae"
            ],
            [
             0.3,
             "#f1b6da"
            ],
            [
             0.4,
             "#fde0ef"
            ],
            [
             0.5,
             "#f7f7f7"
            ],
            [
             0.6,
             "#e6f5d0"
            ],
            [
             0.7,
             "#b8e186"
            ],
            [
             0.8,
             "#7fbc41"
            ],
            [
             0.9,
             "#4d9221"
            ],
            [
             1,
             "#276419"
            ]
           ],
           "sequential": [
            [
             0,
             "#0d0887"
            ],
            [
             0.1111111111111111,
             "#46039f"
            ],
            [
             0.2222222222222222,
             "#7201a8"
            ],
            [
             0.3333333333333333,
             "#9c179e"
            ],
            [
             0.4444444444444444,
             "#bd3786"
            ],
            [
             0.5555555555555556,
             "#d8576b"
            ],
            [
             0.6666666666666666,
             "#ed7953"
            ],
            [
             0.7777777777777778,
             "#fb9f3a"
            ],
            [
             0.8888888888888888,
             "#fdca26"
            ],
            [
             1,
             "#f0f921"
            ]
           ],
           "sequentialminus": [
            [
             0,
             "#0d0887"
            ],
            [
             0.1111111111111111,
             "#46039f"
            ],
            [
             0.2222222222222222,
             "#7201a8"
            ],
            [
             0.3333333333333333,
             "#9c179e"
            ],
            [
             0.4444444444444444,
             "#bd3786"
            ],
            [
             0.5555555555555556,
             "#d8576b"
            ],
            [
             0.6666666666666666,
             "#ed7953"
            ],
            [
             0.7777777777777778,
             "#fb9f3a"
            ],
            [
             0.8888888888888888,
             "#fdca26"
            ],
            [
             1,
             "#f0f921"
            ]
           ]
          },
          "colorway": [
           "#636efa",
           "#EF553B",
           "#00cc96",
           "#ab63fa",
           "#FFA15A",
           "#19d3f3",
           "#FF6692",
           "#B6E880",
           "#FF97FF",
           "#FECB52"
          ],
          "font": {
           "color": "#2a3f5f"
          },
          "geo": {
           "bgcolor": "white",
           "lakecolor": "white",
           "landcolor": "#E5ECF6",
           "showlakes": true,
           "showland": true,
           "subunitcolor": "white"
          },
          "hoverlabel": {
           "align": "left"
          },
          "hovermode": "closest",
          "mapbox": {
           "style": "light"
          },
          "paper_bgcolor": "white",
          "plot_bgcolor": "#E5ECF6",
          "polar": {
           "angularaxis": {
            "gridcolor": "white",
            "linecolor": "white",
            "ticks": ""
           },
           "bgcolor": "#E5ECF6",
           "radialaxis": {
            "gridcolor": "white",
            "linecolor": "white",
            "ticks": ""
           }
          },
          "scene": {
           "xaxis": {
            "backgroundcolor": "#E5ECF6",
            "gridcolor": "white",
            "gridwidth": 2,
            "linecolor": "white",
            "showbackground": true,
            "ticks": "",
            "zerolinecolor": "white"
           },
           "yaxis": {
            "backgroundcolor": "#E5ECF6",
            "gridcolor": "white",
            "gridwidth": 2,
            "linecolor": "white",
            "showbackground": true,
            "ticks": "",
            "zerolinecolor": "white"
           },
           "zaxis": {
            "backgroundcolor": "#E5ECF6",
            "gridcolor": "white",
            "gridwidth": 2,
            "linecolor": "white",
            "showbackground": true,
            "ticks": "",
            "zerolinecolor": "white"
           }
          },
          "shapedefaults": {
           "line": {
            "color": "#2a3f5f"
           }
          },
          "ternary": {
           "aaxis": {
            "gridcolor": "white",
            "linecolor": "white",
            "ticks": ""
           },
           "baxis": {
            "gridcolor": "white",
            "linecolor": "white",
            "ticks": ""
           },
           "bgcolor": "#E5ECF6",
           "caxis": {
            "gridcolor": "white",
            "linecolor": "white",
            "ticks": ""
           }
          },
          "title": {
           "x": 0.05
          },
          "xaxis": {
           "automargin": true,
           "gridcolor": "white",
           "linecolor": "white",
           "ticks": "",
           "title": {
            "standoff": 15
           },
           "zerolinecolor": "white",
           "zerolinewidth": 2
          },
          "yaxis": {
           "automargin": true,
           "gridcolor": "white",
           "linecolor": "white",
           "ticks": "",
           "title": {
            "standoff": 15
           },
           "zerolinecolor": "white",
           "zerolinewidth": 2
          }
         }
        },
        "title": {
         "text": "Interactions for E"
        },
        "width": 1600,
        "xaxis": {
         "anchor": "y",
         "domain": [
          0,
          1
         ],
         "dtick": 20,
         "range": [
          0,
          600
         ],
         "title": {
          "text": "Residue Index"
         }
        },
        "yaxis": {
         "anchor": "x",
         "domain": [
          0,
          1
         ],
         "range": [
          1.5,
          5
         ],
         "title": {
          "text": "Distance (angstroms)"
         }
        }
       }
      }
     },
     "metadata": {},
     "output_type": "display_data"
    },
    {
     "data": {
      "application/vnd.plotly.v1+json": {
       "config": {
        "plotlyServerURL": "https://plot.ly"
       },
       "data": [
        {
         "customdata": [
          [
           341,
           "A"
          ],
          [
           344,
           "L"
          ],
          [
           354,
           "E"
          ],
          [
           463,
           "E"
          ],
          [
           470,
           "E"
          ],
          [
           472,
           "E"
          ],
          [
           491,
           "D"
          ],
          [
           528,
           "L"
          ],
          [
           535,
           "S"
          ],
          [
           552,
           "E"
          ],
          [
           578,
           "L"
          ]
         ],
         "hovertemplate": "Interacting Chain=kinesin B<br>aa_classification=positively charged<br>Residue Index=%{x}<br>Distance (angstroms)=%{y}<br>residue_one_letter=%{text}<br>interacting_resinumber=%{customdata[0]}<br>interactingresi_oneletter=%{customdata[1]}<extra></extra>",
         "legendgroup": "kinesin B, positively charged",
         "marker": {
          "color": "#1f77b4",
          "opacity": 0.6,
          "size": 10,
          "symbol": "triangle-up"
         },
         "mode": "markers+text",
         "name": "kinesin B, positively charged",
         "orientation": "v",
         "showlegend": true,
         "text": [
          "R",
          "K",
          "K",
          "K",
          "K",
          "K",
          "K",
          "K",
          "R",
          "K",
          "R"
         ],
         "textposition": "top center",
         "type": "scatter",
         "x": [
          339,
          345,
          359,
          458,
          469,
          473,
          490,
          529,
          536,
          557,
          566
         ],
         "xaxis": "x",
         "y": [
          4.311415004730224,
          4.069542098045349,
          2.686997985839844,
          2.787076807022095,
          2.5269514322280884,
          2.583792233467102,
          2.507187294960022,
          3.8640532732009887,
          3.534432053565979,
          2.7356958389282227,
          2.826301598548889
         ],
         "yaxis": "y"
        },
        {
         "customdata": [
          [
           344,
           "L"
          ],
          [
           341,
           "A"
          ],
          [
           348,
           "L"
          ],
          [
           347,
           "L"
          ],
          [
           355,
           "I"
          ],
          [
           355,
           "I"
          ],
          [
           362,
           "I"
          ],
          [
           362,
           "I"
          ],
          [
           371,
           "V"
          ],
          [
           376,
           "L"
          ],
          [
           365,
           "L"
          ],
          [
           361,
           "Y"
          ],
          [
           368,
           "V"
          ],
          [
           452,
           "I"
          ],
          [
           452,
           "I"
          ],
          [
           459,
           "C"
          ],
          [
           466,
           "L"
          ],
          [
           466,
           "L"
          ],
          [
           473,
           "K"
          ],
          [
           476,
           "I"
          ],
          [
           483,
           "Q"
          ],
          [
           490,
           "K"
          ],
          [
           493,
           "E"
          ],
          [
           501,
           "I"
          ],
          [
           501,
           "I"
          ],
          [
           497,
           "L"
          ],
          [
           508,
           "N"
          ],
          [
           511,
           "Y"
          ],
          [
           518,
           "N"
          ],
          [
           521,
           "L"
          ],
          [
           532,
           "L"
          ],
          [
           532,
           "L"
          ],
          [
           532,
           "L"
          ],
          [
           542,
           "Q"
          ],
          [
           546,
           "I"
          ],
          [
           550,
           "N"
          ],
          [
           556,
           "I"
          ],
          [
           560,
           "L"
          ],
          [
           567,
           "I"
          ],
          [
           563,
           "L"
          ],
          [
           575,
           "I"
          ],
          [
           566,
           "R"
          ],
          [
           566,
           "R"
          ]
         ],
         "hovertemplate": "Interacting Chain=kinesin B<br>aa_classification=nonpolar<br>Residue Index=%{x}<br>Distance (angstroms)=%{y}<br>residue_one_letter=%{text}<br>interacting_resinumber=%{customdata[0]}<br>interactingresi_oneletter=%{customdata[1]}<extra></extra>",
         "legendgroup": "kinesin B, nonpolar",
         "marker": {
          "color": "#1f77b4",
          "opacity": 0.6,
          "size": 10,
          "symbol": "circle"
         },
         "mode": "markers+text",
         "name": "kinesin B, nonpolar",
         "orientation": "v",
         "showlegend": true,
         "text": [
          "A",
          "L",
          "L",
          "L",
          "A",
          "I",
          "L",
          "I",
          "L",
          "V",
          "V",
          "V",
          "L",
          "L",
          "I",
          "L",
          "L",
          "L",
          "I",
          "L",
          "L",
          "I",
          "I",
          "L",
          "M",
          "I",
          "I",
          "L",
          "L",
          "L",
          "L",
          "A",
          "L",
          "A",
          "I",
          "L",
          "I",
          "L",
          "L",
          "I",
          "I",
          "L",
          "P"
         ],
         "textposition": "top center",
         "type": "scatter",
         "x": [
          341,
          344,
          347,
          348,
          351,
          355,
          358,
          362,
          365,
          368,
          371,
          373,
          376,
          451,
          452,
          455,
          462,
          466,
          476,
          477,
          480,
          487,
          494,
          497,
          500,
          501,
          507,
          510,
          521,
          525,
          528,
          531,
          532,
          539,
          546,
          549,
          556,
          560,
          563,
          567,
          575,
          578,
          580
         ],
         "xaxis": "x",
         "y": [
          3.291390943527221,
          3.287867760658264,
          3.685367846488953,
          3.650583243370056,
          3.614072847366333,
          3.487148809432983,
          3.324125337600708,
          3.36688084602356,
          3.163348436355591,
          3.265292835235596,
          3.2014095067977903,
          3.2796377182006835,
          3.2910327196121214,
          3.864746904373169,
          3.4938664197921754,
          3.760422706604004,
          3.692964839935303,
          3.20404167175293,
          3.241728639602661,
          4.03260748386383,
          3.074919104576111,
          3.206243300437927,
          3.457464647293091,
          2.9288073539733888,
          3.836094045639038,
          2.894764280319214,
          3.522909092903137,
          3.481861877441406,
          2.805086231231689,
          3.4851327180862426,
          3.604237318038941,
          3.370438742637634,
          3.377461791038513,
          2.783088278770447,
          3.389656329154968,
          3.168227577209473,
          3.21988844871521,
          3.466320753097534,
          3.3782357454299925,
          3.455081844329834,
          2.7101889133453367,
          2.8917181491851807,
          4.121725296974182
         ],
         "yaxis": "y"
        },
        {
         "customdata": [
          [
           359,
           "K"
          ],
          [
           361,
           "Y"
          ],
          [
           452,
           "I"
          ],
          [
           458,
           "K"
          ],
          [
           469,
           "K"
          ],
          [
           473,
           "K"
          ],
          [
           490,
           "K"
          ],
          [
           494,
           "I"
          ],
          [
           518,
           "N"
          ],
          [
           557,
           "K"
          ]
         ],
         "hovertemplate": "Interacting Chain=kinesin B<br>aa_classification=negatively charged<br>Residue Index=%{x}<br>Distance (angstroms)=%{y}<br>residue_one_letter=%{text}<br>interacting_resinumber=%{customdata[0]}<br>interactingresi_oneletter=%{customdata[1]}<extra></extra>",
         "legendgroup": "kinesin B, negatively charged",
         "marker": {
          "color": "#1f77b4",
          "opacity": 0.6,
          "size": 10,
          "symbol": "triangle-down"
         },
         "mode": "markers+text",
         "name": "kinesin B, negatively charged",
         "orientation": "v",
         "showlegend": true,
         "text": [
          "E",
          "E",
          "D",
          "E",
          "E",
          "E",
          "D",
          "E",
          "E",
          "E"
         ],
         "textposition": "top center",
         "type": "scatter",
         "x": [
          354,
          366,
          448,
          463,
          470,
          472,
          491,
          493,
          517,
          552
         ],
         "xaxis": "x",
         "y": [
          2.7878448009490966,
          3.061697506904602,
          3.889682054519653,
          2.922245955467224,
          2.5810473203659057,
          2.598301768302917,
          2.519495463371277,
          3.4793880224227904,
          3.5177018642425537,
          2.7270685911178587
         ],
         "yaxis": "y"
        },
        {
         "customdata": [
          [
           366,
           "E"
          ],
          [
           369,
           "S"
          ],
          [
           361,
           "Y"
          ],
          [
           455,
           "L"
          ],
          [
           459,
           "C"
          ],
          [
           466,
           "L"
          ],
          [
           480,
           "L"
          ],
          [
           484,
           "Q"
          ],
          [
           483,
           "Q"
          ],
          [
           487,
           "I"
          ],
          [
           497,
           "L"
          ],
          [
           504,
           "S"
          ],
          [
           507,
           "I"
          ],
          [
           510,
           "L"
          ],
          [
           514,
           "S"
          ],
          [
           514,
           "S"
          ],
          [
           518,
           "N"
          ],
          [
           521,
           "L"
          ],
          [
           525,
           "L"
          ],
          [
           535,
           "S"
          ],
          [
           539,
           "A"
          ],
          [
           542,
           "Q"
          ],
          [
           546,
           "I"
          ],
          [
           549,
           "L"
          ],
          [
           553,
           "N"
          ],
          [
           560,
           "L"
          ]
         ],
         "hovertemplate": "Interacting Chain=kinesin B<br>aa_classification=polar uncharged<br>Residue Index=%{x}<br>Distance (angstroms)=%{y}<br>residue_one_letter=%{text}<br>interacting_resinumber=%{customdata[0]}<br>interactingresi_oneletter=%{customdata[1]}<extra></extra>",
         "legendgroup": "kinesin B, polar uncharged",
         "marker": {
          "color": "#1f77b4",
          "opacity": 0.6,
          "size": 10,
          "symbol": "square"
         },
         "mode": "markers+text",
         "name": "kinesin B, polar uncharged",
         "orientation": "v",
         "showlegend": true,
         "text": [
          "Y",
          "S",
          "T",
          "Q",
          "C",
          "Q",
          "Q",
          "Q",
          "Q",
          "Q",
          "N",
          "S",
          "N",
          "Y",
          "S",
          "T",
          "N",
          "N",
          "Q",
          "S",
          "Q",
          "S",
          "T",
          "N",
          "N",
          "Q"
         ],
         "textposition": "top center",
         "type": "scatter",
         "x": [
          361,
          369,
          372,
          456,
          459,
          465,
          479,
          483,
          484,
          486,
          498,
          504,
          508,
          511,
          514,
          515,
          518,
          522,
          524,
          535,
          542,
          543,
          545,
          550,
          553,
          559
         ],
         "xaxis": "x",
         "y": [
          2.939268922805786,
          3.380984401702881,
          4.217309379577637,
          3.931421422958374,
          2.9487516403198244,
          3.45249662399292,
          3.649443578720093,
          2.937744879722595,
          3.010048055648804,
          3.5783576488494875,
          3.331866335868836,
          2.989124321937561,
          3.32883460521698,
          3.370732951164245,
          2.798768186569214,
          3.6079932689666743,
          2.5035706520080567,
          3.3411465883255005,
          3.675775051116944,
          2.7610561847686768,
          2.762822961807251,
          3.756864881515503,
          4.106521940231323,
          3.1905575037002563,
          2.5034977912902834,
          4.0314558982849125
         ],
         "yaxis": "y"
        },
        {
         "customdata": [
          [
           420,
           "E"
          ],
          [
           410,
           "G"
          ],
          [
           409,
           "V"
          ],
          [
           423,
           "E"
          ]
         ],
         "hovertemplate": "Interacting Chain=alpha-tubulin<br>aa_classification=positively charged<br>Residue Index=%{x}<br>Distance (angstroms)=%{y}<br>residue_one_letter=%{text}<br>interacting_resinumber=%{customdata[0]}<br>interactingresi_oneletter=%{customdata[1]}<extra></extra>",
         "legendgroup": "alpha-tubulin, positively charged",
         "marker": {
          "color": "#ff7f0e",
          "opacity": 0.6,
          "size": 10,
          "symbol": "triangle-up"
         },
         "mode": "markers+text",
         "name": "alpha-tubulin, positively charged",
         "orientation": "v",
         "showlegend": true,
         "text": [
          "K",
          "K",
          "K",
          "K"
         ],
         "textposition": "top center",
         "type": "scatter",
         "x": [
          240,
          255,
          259,
          317
         ],
         "xaxis": "x",
         "y": [
          2.5704939126968385,
          3.335310959815979,
          3.4113494157791138,
          2.743473124504089
         ],
         "yaxis": "y"
        },
        {
         "customdata": [
          [
           412,
           "G"
          ],
          [
           112,
           "K"
          ],
          [
           108,
           "Y"
          ]
         ],
         "hovertemplate": "Interacting Chain=alpha-tubulin<br>aa_classification=nonpolar<br>Residue Index=%{x}<br>Distance (angstroms)=%{y}<br>residue_one_letter=%{text}<br>interacting_resinumber=%{customdata[0]}<br>interactingresi_oneletter=%{customdata[1]}<extra></extra>",
         "legendgroup": "alpha-tubulin, nonpolar",
         "marker": {
          "color": "#ff7f0e",
          "opacity": 0.6,
          "size": 10,
          "symbol": "circle"
         },
         "mode": "markers+text",
         "name": "alpha-tubulin, nonpolar",
         "orientation": "v",
         "showlegend": true,
         "text": [
          "V",
          "A",
          "L"
         ],
         "textposition": "top center",
         "type": "scatter",
         "x": [
          241,
          246,
          251
         ],
         "xaxis": "x",
         "y": [
          3.164076924324036,
          3.2534173488616944,
          4.466931629180908
         ],
         "yaxis": "y"
        },
        {
         "customdata": [
          [
           427,
           "A"
          ],
          [
           414,
           "E"
          ],
          [
           112,
           "K"
          ],
          [
           414,
           "E"
          ]
         ],
         "hovertemplate": "Interacting Chain=alpha-tubulin<br>aa_classification=negatively charged<br>Residue Index=%{x}<br>Distance (angstroms)=%{y}<br>residue_one_letter=%{text}<br>interacting_resinumber=%{customdata[0]}<br>interactingresi_oneletter=%{customdata[1]}<extra></extra>",
         "legendgroup": "alpha-tubulin, negatively charged",
         "marker": {
          "color": "#ff7f0e",
          "opacity": 0.6,
          "size": 10,
          "symbol": "triangle-down"
         },
         "mode": "markers+text",
         "name": "alpha-tubulin, negatively charged",
         "orientation": "v",
         "showlegend": true,
         "text": [
          "E",
          "E",
          "E",
          "E"
         ],
         "textposition": "top center",
         "type": "scatter",
         "x": [
          41,
          239,
          247,
          315
         ],
         "xaxis": "x",
         "y": [
          3.99421751499176,
          4.250346302986145,
          3.2315847873687744,
          4.014216041564941
         ],
         "yaxis": "y"
        },
        {
         "customdata": [
          [
           414,
           "E"
          ],
          [
           108,
           "Y"
          ],
          [
           409,
           "V"
          ],
          [
           415,
           "E"
          ],
          [
           402,
           "R"
          ],
          [
           420,
           "E"
          ]
         ],
         "hovertemplate": "Interacting Chain=alpha-tubulin<br>aa_classification=polar uncharged<br>Residue Index=%{x}<br>Distance (angstroms)=%{y}<br>residue_one_letter=%{text}<br>interacting_resinumber=%{customdata[0]}<br>interactingresi_oneletter=%{customdata[1]}<extra></extra>",
         "legendgroup": "alpha-tubulin, polar uncharged",
         "marker": {
          "color": "#ff7f0e",
          "opacity": 0.6,
          "size": 10,
          "symbol": "square"
         },
         "mode": "markers+text",
         "name": "alpha-tubulin, polar uncharged",
         "orientation": "v",
         "showlegend": true,
         "text": [
          "S",
          "S",
          "N",
          "S",
          "N",
          "S"
         ],
         "textposition": "top center",
         "type": "scatter",
         "x": [
          238,
          242,
          258,
          262,
          266,
          314
         ],
         "xaxis": "x",
         "y": [
          3.228451061248779,
          4.436114645004272,
          3.483073735237121,
          2.522677779197693,
          3.596494054794312,
          3.7166549444198607
         ],
         "yaxis": "y"
        },
        {
         "customdata": [
          [
           157,
           "E"
          ],
          [
           407,
           "E"
          ],
          [
           407,
           "E"
          ],
          [
           424,
           "Q"
          ],
          [
           424,
           "Q"
          ],
          [
           417,
           "D"
          ],
          [
           194,
           "E"
          ],
          [
           410,
           "E"
          ],
          [
           436,
           "F"
          ]
         ],
         "hovertemplate": "Interacting Chain=beta-tubulin<br>aa_classification=positively charged<br>Residue Index=%{x}<br>Distance (angstroms)=%{y}<br>residue_one_letter=%{text}<br>interacting_resinumber=%{customdata[0]}<br>interactingresi_oneletter=%{customdata[1]}<extra></extra>",
         "legendgroup": "beta-tubulin, positively charged",
         "marker": {
          "color": "#2ca02c",
          "opacity": 0.6,
          "size": 10,
          "symbol": "triangle-up"
         },
         "mode": "markers+text",
         "name": "beta-tubulin, positively charged",
         "orientation": "v",
         "showlegend": true,
         "text": [
          "R",
          "K",
          "R",
          "K",
          "H",
          "R",
          "K",
          "R",
          "R"
         ],
         "textposition": "top center",
         "type": "scatter",
         "x": [
          144,
          157,
          159,
          276,
          278,
          282,
          285,
          288,
          325
         ],
         "xaxis": "x",
         "y": [
          2.6825176954269407,
          3.4149497747421265,
          3.124422860145569,
          3.876865601539612,
          2.7049077272415163,
          2.4902745723724364,
          3.5965612649917604,
          3.214361310005188,
          4.389364242553711
         ],
         "yaxis": "y"
        },
        {
         "customdata": [
          [
           410,
           "E"
          ],
          [
           406,
           "M"
          ]
         ],
         "hovertemplate": "Interacting Chain=beta-tubulin<br>aa_classification=nonpolar<br>Residue Index=%{x}<br>Distance (angstroms)=%{y}<br>residue_one_letter=%{text}<br>interacting_resinumber=%{customdata[0]}<br>interactingresi_oneletter=%{customdata[1]}<extra></extra>",
         "legendgroup": "beta-tubulin, nonpolar",
         "marker": {
          "color": "#2ca02c",
          "opacity": 0.6,
          "size": 10,
          "symbol": "circle"
         },
         "mode": "markers+text",
         "name": "beta-tubulin, nonpolar",
         "orientation": "v",
         "showlegend": true,
         "text": [
          "V",
          "W"
         ],
         "textposition": "top center",
         "type": "scatter",
         "x": [
          158,
          167
         ],
         "xaxis": "x",
         "y": [
          3.948336863517761,
          3.706804943084717
         ],
         "yaxis": "y"
        },
        {
         "customdata": [
          [
           413,
           "S"
          ],
          [
           406,
           "M"
          ],
          [
           406,
           "M"
          ],
          [
           262,
           "R"
          ]
         ],
         "hovertemplate": "Interacting Chain=beta-tubulin<br>aa_classification=negatively charged<br>Residue Index=%{x}<br>Distance (angstroms)=%{y}<br>residue_one_letter=%{text}<br>interacting_resinumber=%{customdata[0]}<br>interactingresi_oneletter=%{customdata[1]}<extra></extra>",
         "legendgroup": "beta-tubulin, negatively charged",
         "marker": {
          "color": "#2ca02c",
          "opacity": 0.6,
          "size": 10,
          "symbol": "triangle-down"
         },
         "mode": "markers+text",
         "name": "beta-tubulin, negatively charged",
         "orientation": "v",
         "showlegend": true,
         "text": [
          "E",
          "E",
          "E",
          "D"
         ],
         "textposition": "top center",
         "type": "scatter",
         "x": [
          160,
          161,
          169,
          283
         ],
         "xaxis": "x",
         "y": [
          3.583462595939636,
          4.319919276237488,
          4.345140433311462,
          3.26152446269989
         ],
         "yaxis": "y"
        },
        {
         "customdata": [
          [
           424,
           "Q"
          ]
         ],
         "hovertemplate": "Interacting Chain=beta-tubulin<br>aa_classification=polar uncharged<br>Residue Index=%{x}<br>Distance (angstroms)=%{y}<br>residue_one_letter=%{text}<br>interacting_resinumber=%{customdata[0]}<br>interactingresi_oneletter=%{customdata[1]}<extra></extra>",
         "legendgroup": "beta-tubulin, polar uncharged",
         "marker": {
          "color": "#2ca02c",
          "opacity": 0.6,
          "size": 10,
          "symbol": "square"
         },
         "mode": "markers+text",
         "name": "beta-tubulin, polar uncharged",
         "orientation": "v",
         "showlegend": true,
         "text": [
          "T"
         ],
         "textposition": "top center",
         "type": "scatter",
         "x": [
          277
         ],
         "xaxis": "x",
         "y": [
          4.30261013507843
         ],
         "yaxis": "y"
        },
        {
         "customdata": [
          [
           1,
           "?"
          ],
          [
           1,
           "?"
          ],
          [
           1,
           "?"
          ],
          [
           1,
           "?"
          ]
         ],
         "hovertemplate": "Interacting Chain=ATP<br>aa_classification=positively charged<br>Residue Index=%{x}<br>Distance (angstroms)=%{y}<br>residue_one_letter=%{text}<br>interacting_resinumber=%{customdata[0]}<br>interactingresi_oneletter=%{customdata[1]}<extra></extra>",
         "legendgroup": "ATP, positively charged",
         "marker": {
          "color": "#d62728",
          "opacity": 0.6,
          "size": 10,
          "symbol": "triangle-up"
         },
         "mode": "markers+text",
         "name": "ATP, positively charged",
         "orientation": "v",
         "showlegend": true,
         "text": [
          "R",
          "R",
          "K",
          "H"
         ],
         "textposition": "top center",
         "type": "scatter",
         "x": [
          9,
          11,
          91,
          203
         ],
         "xaxis": "x",
         "y": [
          3.739903664588928,
          3.6914411306381223,
          2.74475154876709,
          3.8668034076690674
         ],
         "yaxis": "y"
        },
        {
         "customdata": [
          [
           1,
           "?"
          ],
          [
           1,
           "?"
          ],
          [
           1,
           "?"
          ],
          [
           1,
           "?"
          ],
          [
           1,
           "?"
          ],
          [
           1,
           "?"
          ],
          [
           1,
           "?"
          ]
         ],
         "hovertemplate": "Interacting Chain=ATP<br>aa_classification=nonpolar<br>Residue Index=%{x}<br>Distance (angstroms)=%{y}<br>residue_one_letter=%{text}<br>interacting_resinumber=%{customdata[0]}<br>interactingresi_oneletter=%{customdata[1]}<extra></extra>",
         "legendgroup": "ATP, nonpolar",
         "marker": {
          "color": "#d62728",
          "opacity": 0.6,
          "size": 10,
          "symbol": "circle"
         },
         "mode": "markers+text",
         "name": "ATP, nonpolar",
         "orientation": "v",
         "showlegend": true,
         "text": [
          "P",
          "G",
          "G",
          "F",
          "L",
          "A",
          "G"
         ],
         "textposition": "top center",
         "type": "scatter",
         "x": [
          12,
          88,
          90,
          93,
          235,
          236,
          237
         ],
         "xaxis": "x",
         "y": [
          3.5698248624801634,
          2.8162703275680543,
          3.0357184648513797,
          2.7901347398757936,
          4.430580282211304,
          3.876042866706848,
          2.862372756004333
         ],
         "yaxis": "y"
        },
        {
         "customdata": [
          [
           1,
           "?"
          ],
          [
           1,
           "?"
          ],
          [
           1,
           "?"
          ],
          [
           1,
           "?"
          ],
          [
           1,
           "?"
          ]
         ],
         "hovertemplate": "Interacting Chain=ATP<br>aa_classification=polar uncharged<br>Residue Index=%{x}<br>Distance (angstroms)=%{y}<br>residue_one_letter=%{text}<br>interacting_resinumber=%{customdata[0]}<br>interactingresi_oneletter=%{customdata[1]}<extra></extra>",
         "legendgroup": "ATP, polar uncharged",
         "marker": {
          "color": "#d62728",
          "opacity": 0.6,
          "size": 10,
          "symbol": "square"
         },
         "mode": "markers+text",
         "name": "ATP, polar uncharged",
         "orientation": "v",
         "showlegend": true,
         "text": [
          "Q",
          "T",
          "S",
          "N",
          "S"
         ],
         "textposition": "top center",
         "type": "scatter",
         "x": [
          86,
          87,
          89,
          201,
          204
         ],
         "xaxis": "x",
         "y": [
          3.946780467033386,
          2.461433386802673,
          3.4059699058532718,
          2.9055701732635497,
          2.880055403709412
         ],
         "yaxis": "y"
        }
       ],
       "layout": {
        "autosize": false,
        "height": 600,
        "legend": {
         "title": {
          "text": "Interacting Chain"
         },
         "tracegroupgap": 0
        },
        "shapes": [
         {
          "fillcolor": "LightSalmon",
          "layer": "below",
          "line": {
           "width": 0
          },
          "opacity": 0.3,
          "type": "rect",
          "x0": 0,
          "x1": 174,
          "y0": 0,
          "y1": 5
         },
         {
          "fillcolor": "LightSkyBlue",
          "layer": "below",
          "line": {
           "width": 0
          },
          "opacity": 0.3,
          "type": "rect",
          "x0": 174,
          "x1": 329,
          "y0": 0,
          "y1": 5
         },
         {
          "fillcolor": "LightSalmon",
          "layer": "below",
          "line": {
           "width": 0
          },
          "opacity": 0.3,
          "type": "rect",
          "x0": 329,
          "x1": 600,
          "y0": 0,
          "y1": 5
         }
        ],
        "template": {
         "data": {
          "bar": [
           {
            "error_x": {
             "color": "#2a3f5f"
            },
            "error_y": {
             "color": "#2a3f5f"
            },
            "marker": {
             "line": {
              "color": "#E5ECF6",
              "width": 0.5
             },
             "pattern": {
              "fillmode": "overlay",
              "size": 10,
              "solidity": 0.2
             }
            },
            "type": "bar"
           }
          ],
          "barpolar": [
           {
            "marker": {
             "line": {
              "color": "#E5ECF6",
              "width": 0.5
             },
             "pattern": {
              "fillmode": "overlay",
              "size": 10,
              "solidity": 0.2
             }
            },
            "type": "barpolar"
           }
          ],
          "carpet": [
           {
            "aaxis": {
             "endlinecolor": "#2a3f5f",
             "gridcolor": "white",
             "linecolor": "white",
             "minorgridcolor": "white",
             "startlinecolor": "#2a3f5f"
            },
            "baxis": {
             "endlinecolor": "#2a3f5f",
             "gridcolor": "white",
             "linecolor": "white",
             "minorgridcolor": "white",
             "startlinecolor": "#2a3f5f"
            },
            "type": "carpet"
           }
          ],
          "choropleth": [
           {
            "colorbar": {
             "outlinewidth": 0,
             "ticks": ""
            },
            "type": "choropleth"
           }
          ],
          "contour": [
           {
            "colorbar": {
             "outlinewidth": 0,
             "ticks": ""
            },
            "colorscale": [
             [
              0,
              "#0d0887"
             ],
             [
              0.1111111111111111,
              "#46039f"
             ],
             [
              0.2222222222222222,
              "#7201a8"
             ],
             [
              0.3333333333333333,
              "#9c179e"
             ],
             [
              0.4444444444444444,
              "#bd3786"
             ],
             [
              0.5555555555555556,
              "#d8576b"
             ],
             [
              0.6666666666666666,
              "#ed7953"
             ],
             [
              0.7777777777777778,
              "#fb9f3a"
             ],
             [
              0.8888888888888888,
              "#fdca26"
             ],
             [
              1,
              "#f0f921"
             ]
            ],
            "type": "contour"
           }
          ],
          "contourcarpet": [
           {
            "colorbar": {
             "outlinewidth": 0,
             "ticks": ""
            },
            "type": "contourcarpet"
           }
          ],
          "heatmap": [
           {
            "colorbar": {
             "outlinewidth": 0,
             "ticks": ""
            },
            "colorscale": [
             [
              0,
              "#0d0887"
             ],
             [
              0.1111111111111111,
              "#46039f"
             ],
             [
              0.2222222222222222,
              "#7201a8"
             ],
             [
              0.3333333333333333,
              "#9c179e"
             ],
             [
              0.4444444444444444,
              "#bd3786"
             ],
             [
              0.5555555555555556,
              "#d8576b"
             ],
             [
              0.6666666666666666,
              "#ed7953"
             ],
             [
              0.7777777777777778,
              "#fb9f3a"
             ],
             [
              0.8888888888888888,
              "#fdca26"
             ],
             [
              1,
              "#f0f921"
             ]
            ],
            "type": "heatmap"
           }
          ],
          "heatmapgl": [
           {
            "colorbar": {
             "outlinewidth": 0,
             "ticks": ""
            },
            "colorscale": [
             [
              0,
              "#0d0887"
             ],
             [
              0.1111111111111111,
              "#46039f"
             ],
             [
              0.2222222222222222,
              "#7201a8"
             ],
             [
              0.3333333333333333,
              "#9c179e"
             ],
             [
              0.4444444444444444,
              "#bd3786"
             ],
             [
              0.5555555555555556,
              "#d8576b"
             ],
             [
              0.6666666666666666,
              "#ed7953"
             ],
             [
              0.7777777777777778,
              "#fb9f3a"
             ],
             [
              0.8888888888888888,
              "#fdca26"
             ],
             [
              1,
              "#f0f921"
             ]
            ],
            "type": "heatmapgl"
           }
          ],
          "histogram": [
           {
            "marker": {
             "pattern": {
              "fillmode": "overlay",
              "size": 10,
              "solidity": 0.2
             }
            },
            "type": "histogram"
           }
          ],
          "histogram2d": [
           {
            "colorbar": {
             "outlinewidth": 0,
             "ticks": ""
            },
            "colorscale": [
             [
              0,
              "#0d0887"
             ],
             [
              0.1111111111111111,
              "#46039f"
             ],
             [
              0.2222222222222222,
              "#7201a8"
             ],
             [
              0.3333333333333333,
              "#9c179e"
             ],
             [
              0.4444444444444444,
              "#bd3786"
             ],
             [
              0.5555555555555556,
              "#d8576b"
             ],
             [
              0.6666666666666666,
              "#ed7953"
             ],
             [
              0.7777777777777778,
              "#fb9f3a"
             ],
             [
              0.8888888888888888,
              "#fdca26"
             ],
             [
              1,
              "#f0f921"
             ]
            ],
            "type": "histogram2d"
           }
          ],
          "histogram2dcontour": [
           {
            "colorbar": {
             "outlinewidth": 0,
             "ticks": ""
            },
            "colorscale": [
             [
              0,
              "#0d0887"
             ],
             [
              0.1111111111111111,
              "#46039f"
             ],
             [
              0.2222222222222222,
              "#7201a8"
             ],
             [
              0.3333333333333333,
              "#9c179e"
             ],
             [
              0.4444444444444444,
              "#bd3786"
             ],
             [
              0.5555555555555556,
              "#d8576b"
             ],
             [
              0.6666666666666666,
              "#ed7953"
             ],
             [
              0.7777777777777778,
              "#fb9f3a"
             ],
             [
              0.8888888888888888,
              "#fdca26"
             ],
             [
              1,
              "#f0f921"
             ]
            ],
            "type": "histogram2dcontour"
           }
          ],
          "mesh3d": [
           {
            "colorbar": {
             "outlinewidth": 0,
             "ticks": ""
            },
            "type": "mesh3d"
           }
          ],
          "parcoords": [
           {
            "line": {
             "colorbar": {
              "outlinewidth": 0,
              "ticks": ""
             }
            },
            "type": "parcoords"
           }
          ],
          "pie": [
           {
            "automargin": true,
            "type": "pie"
           }
          ],
          "scatter": [
           {
            "fillpattern": {
             "fillmode": "overlay",
             "size": 10,
             "solidity": 0.2
            },
            "type": "scatter"
           }
          ],
          "scatter3d": [
           {
            "line": {
             "colorbar": {
              "outlinewidth": 0,
              "ticks": ""
             }
            },
            "marker": {
             "colorbar": {
              "outlinewidth": 0,
              "ticks": ""
             }
            },
            "type": "scatter3d"
           }
          ],
          "scattercarpet": [
           {
            "marker": {
             "colorbar": {
              "outlinewidth": 0,
              "ticks": ""
             }
            },
            "type": "scattercarpet"
           }
          ],
          "scattergeo": [
           {
            "marker": {
             "colorbar": {
              "outlinewidth": 0,
              "ticks": ""
             }
            },
            "type": "scattergeo"
           }
          ],
          "scattergl": [
           {
            "marker": {
             "colorbar": {
              "outlinewidth": 0,
              "ticks": ""
             }
            },
            "type": "scattergl"
           }
          ],
          "scattermapbox": [
           {
            "marker": {
             "colorbar": {
              "outlinewidth": 0,
              "ticks": ""
             }
            },
            "type": "scattermapbox"
           }
          ],
          "scatterpolar": [
           {
            "marker": {
             "colorbar": {
              "outlinewidth": 0,
              "ticks": ""
             }
            },
            "type": "scatterpolar"
           }
          ],
          "scatterpolargl": [
           {
            "marker": {
             "colorbar": {
              "outlinewidth": 0,
              "ticks": ""
             }
            },
            "type": "scatterpolargl"
           }
          ],
          "scatterternary": [
           {
            "marker": {
             "colorbar": {
              "outlinewidth": 0,
              "ticks": ""
             }
            },
            "type": "scatterternary"
           }
          ],
          "surface": [
           {
            "colorbar": {
             "outlinewidth": 0,
             "ticks": ""
            },
            "colorscale": [
             [
              0,
              "#0d0887"
             ],
             [
              0.1111111111111111,
              "#46039f"
             ],
             [
              0.2222222222222222,
              "#7201a8"
             ],
             [
              0.3333333333333333,
              "#9c179e"
             ],
             [
              0.4444444444444444,
              "#bd3786"
             ],
             [
              0.5555555555555556,
              "#d8576b"
             ],
             [
              0.6666666666666666,
              "#ed7953"
             ],
             [
              0.7777777777777778,
              "#fb9f3a"
             ],
             [
              0.8888888888888888,
              "#fdca26"
             ],
             [
              1,
              "#f0f921"
             ]
            ],
            "type": "surface"
           }
          ],
          "table": [
           {
            "cells": {
             "fill": {
              "color": "#EBF0F8"
             },
             "line": {
              "color": "white"
             }
            },
            "header": {
             "fill": {
              "color": "#C8D4E3"
             },
             "line": {
              "color": "white"
             }
            },
            "type": "table"
           }
          ]
         },
         "layout": {
          "annotationdefaults": {
           "arrowcolor": "#2a3f5f",
           "arrowhead": 0,
           "arrowwidth": 1
          },
          "autotypenumbers": "strict",
          "coloraxis": {
           "colorbar": {
            "outlinewidth": 0,
            "ticks": ""
           }
          },
          "colorscale": {
           "diverging": [
            [
             0,
             "#8e0152"
            ],
            [
             0.1,
             "#c51b7d"
            ],
            [
             0.2,
             "#de77ae"
            ],
            [
             0.3,
             "#f1b6da"
            ],
            [
             0.4,
             "#fde0ef"
            ],
            [
             0.5,
             "#f7f7f7"
            ],
            [
             0.6,
             "#e6f5d0"
            ],
            [
             0.7,
             "#b8e186"
            ],
            [
             0.8,
             "#7fbc41"
            ],
            [
             0.9,
             "#4d9221"
            ],
            [
             1,
             "#276419"
            ]
           ],
           "sequential": [
            [
             0,
             "#0d0887"
            ],
            [
             0.1111111111111111,
             "#46039f"
            ],
            [
             0.2222222222222222,
             "#7201a8"
            ],
            [
             0.3333333333333333,
             "#9c179e"
            ],
            [
             0.4444444444444444,
             "#bd3786"
            ],
            [
             0.5555555555555556,
             "#d8576b"
            ],
            [
             0.6666666666666666,
             "#ed7953"
            ],
            [
             0.7777777777777778,
             "#fb9f3a"
            ],
            [
             0.8888888888888888,
             "#fdca26"
            ],
            [
             1,
             "#f0f921"
            ]
           ],
           "sequentialminus": [
            [
             0,
             "#0d0887"
            ],
            [
             0.1111111111111111,
             "#46039f"
            ],
            [
             0.2222222222222222,
             "#7201a8"
            ],
            [
             0.3333333333333333,
             "#9c179e"
            ],
            [
             0.4444444444444444,
             "#bd3786"
            ],
            [
             0.5555555555555556,
             "#d8576b"
            ],
            [
             0.6666666666666666,
             "#ed7953"
            ],
            [
             0.7777777777777778,
             "#fb9f3a"
            ],
            [
             0.8888888888888888,
             "#fdca26"
            ],
            [
             1,
             "#f0f921"
            ]
           ]
          },
          "colorway": [
           "#636efa",
           "#EF553B",
           "#00cc96",
           "#ab63fa",
           "#FFA15A",
           "#19d3f3",
           "#FF6692",
           "#B6E880",
           "#FF97FF",
           "#FECB52"
          ],
          "font": {
           "color": "#2a3f5f"
          },
          "geo": {
           "bgcolor": "white",
           "lakecolor": "white",
           "landcolor": "#E5ECF6",
           "showlakes": true,
           "showland": true,
           "subunitcolor": "white"
          },
          "hoverlabel": {
           "align": "left"
          },
          "hovermode": "closest",
          "mapbox": {
           "style": "light"
          },
          "paper_bgcolor": "white",
          "plot_bgcolor": "#E5ECF6",
          "polar": {
           "angularaxis": {
            "gridcolor": "white",
            "linecolor": "white",
            "ticks": ""
           },
           "bgcolor": "#E5ECF6",
           "radialaxis": {
            "gridcolor": "white",
            "linecolor": "white",
            "ticks": ""
           }
          },
          "scene": {
           "xaxis": {
            "backgroundcolor": "#E5ECF6",
            "gridcolor": "white",
            "gridwidth": 2,
            "linecolor": "white",
            "showbackground": true,
            "ticks": "",
            "zerolinecolor": "white"
           },
           "yaxis": {
            "backgroundcolor": "#E5ECF6",
            "gridcolor": "white",
            "gridwidth": 2,
            "linecolor": "white",
            "showbackground": true,
            "ticks": "",
            "zerolinecolor": "white"
           },
           "zaxis": {
            "backgroundcolor": "#E5ECF6",
            "gridcolor": "white",
            "gridwidth": 2,
            "linecolor": "white",
            "showbackground": true,
            "ticks": "",
            "zerolinecolor": "white"
           }
          },
          "shapedefaults": {
           "line": {
            "color": "#2a3f5f"
           }
          },
          "ternary": {
           "aaxis": {
            "gridcolor": "white",
            "linecolor": "white",
            "ticks": ""
           },
           "baxis": {
            "gridcolor": "white",
            "linecolor": "white",
            "ticks": ""
           },
           "bgcolor": "#E5ECF6",
           "caxis": {
            "gridcolor": "white",
            "linecolor": "white",
            "ticks": ""
           }
          },
          "title": {
           "x": 0.05
          },
          "xaxis": {
           "automargin": true,
           "gridcolor": "white",
           "linecolor": "white",
           "ticks": "",
           "title": {
            "standoff": 15
           },
           "zerolinecolor": "white",
           "zerolinewidth": 2
          },
          "yaxis": {
           "automargin": true,
           "gridcolor": "white",
           "linecolor": "white",
           "ticks": "",
           "title": {
            "standoff": 15
           },
           "zerolinecolor": "white",
           "zerolinewidth": 2
          }
         }
        },
        "title": {
         "text": "Interactions for F"
        },
        "width": 1600,
        "xaxis": {
         "anchor": "y",
         "domain": [
          0,
          1
         ],
         "dtick": 20,
         "range": [
          0,
          600
         ],
         "title": {
          "text": "Residue Index"
         }
        },
        "yaxis": {
         "anchor": "x",
         "domain": [
          0,
          1
         ],
         "range": [
          1.5,
          5
         ],
         "title": {
          "text": "Distance (angstroms)"
         }
        }
       }
      }
     },
     "metadata": {},
     "output_type": "display_data"
    },
    {
     "data": {
      "application/vnd.plotly.v1+json": {
       "config": {
        "plotlyServerURL": "https://plot.ly"
       },
       "data": [
        {
         "customdata": [
          [
           352,
           "L"
          ],
          [
           348,
           "L"
          ],
          [
           358,
           "E"
          ],
          [
           467,
           "E"
          ],
          [
           474,
           "E"
          ],
          [
           476,
           "E"
          ],
          [
           495,
           "D"
          ],
          [
           532,
           "L"
          ],
          [
           539,
           "S"
          ],
          [
           556,
           "E"
          ],
          [
           582,
           "L"
          ]
         ],
         "hovertemplate": "Interacting Chain=kinesin B<br>aa_classification=positively charged<br>Residue Index=%{x}<br>Distance (angstroms)=%{y}<br>residue_one_letter=%{text}<br>interacting_resinumber=%{customdata[0]}<br>interactingresi_oneletter=%{customdata[1]}<extra></extra>",
         "legendgroup": "kinesin B, positively charged",
         "marker": {
          "color": "#1f77b4",
          "opacity": 0.6,
          "size": 10,
          "symbol": "triangle-up"
         },
         "mode": "markers+text",
         "name": "kinesin B, positively charged",
         "orientation": "v",
         "showlegend": true,
         "text": [
          "R",
          "K",
          "K",
          "K",
          "K",
          "K",
          "K",
          "K",
          "R",
          "K",
          "R"
         ],
         "textposition": "top center",
         "type": "scatter",
         "x": [
          343,
          349,
          363,
          462,
          473,
          477,
          494,
          533,
          540,
          561,
          570
         ],
         "xaxis": "x",
         "y": [
          4.188184022903442,
          4.017686367034912,
          2.7279095888137816,
          2.8036741971969605,
          2.449685931205749,
          2.578519582748413,
          2.51695876121521,
          3.8134177207946776,
          3.500441074371338,
          2.77519896030426,
          2.582966697216034
         ],
         "yaxis": "y"
        },
        {
         "customdata": [
          [
           348,
           "L"
          ],
          [
           345,
           "A"
          ],
          [
           352,
           "L"
          ],
          [
           351,
           "L"
          ],
          [
           359,
           "I"
          ],
          [
           359,
           "I"
          ],
          [
           366,
           "I"
          ],
          [
           366,
           "I"
          ],
          [
           375,
           "V"
          ],
          [
           375,
           "V"
          ],
          [
           369,
           "L"
          ],
          [
           365,
           "Y"
          ],
          [
           456,
           "I"
          ],
          [
           456,
           "I"
          ],
          [
           463,
           "C"
          ],
          [
           470,
           "L"
          ],
          [
           470,
           "L"
          ],
          [
           484,
           "L"
          ],
          [
           480,
           "I"
          ],
          [
           487,
           "Q"
          ],
          [
           494,
           "K"
          ],
          [
           497,
           "E"
          ],
          [
           505,
           "I"
          ],
          [
           505,
           "I"
          ],
          [
           501,
           "L"
          ],
          [
           512,
           "N"
          ],
          [
           515,
           "Y"
          ],
          [
           522,
           "N"
          ],
          [
           525,
           "L"
          ],
          [
           536,
           "L"
          ],
          [
           536,
           "L"
          ],
          [
           536,
           "L"
          ],
          [
           546,
           "Q"
          ],
          [
           550,
           "I"
          ],
          [
           554,
           "N"
          ],
          [
           560,
           "I"
          ],
          [
           564,
           "L"
          ],
          [
           571,
           "I"
          ],
          [
           567,
           "L"
          ],
          [
           579,
           "I"
          ],
          [
           570,
           "R"
          ],
          [
           570,
           "R"
          ]
         ],
         "hovertemplate": "Interacting Chain=kinesin B<br>aa_classification=nonpolar<br>Residue Index=%{x}<br>Distance (angstroms)=%{y}<br>residue_one_letter=%{text}<br>interacting_resinumber=%{customdata[0]}<br>interactingresi_oneletter=%{customdata[1]}<extra></extra>",
         "legendgroup": "kinesin B, nonpolar",
         "marker": {
          "color": "#1f77b4",
          "opacity": 0.6,
          "size": 10,
          "symbol": "circle"
         },
         "mode": "markers+text",
         "name": "kinesin B, nonpolar",
         "orientation": "v",
         "showlegend": true,
         "text": [
          "A",
          "L",
          "L",
          "L",
          "A",
          "I",
          "L",
          "I",
          "L",
          "V",
          "V",
          "V",
          "L",
          "I",
          "L",
          "L",
          "L",
          "I",
          "L",
          "L",
          "I",
          "I",
          "L",
          "M",
          "I",
          "I",
          "L",
          "L",
          "L",
          "L",
          "A",
          "L",
          "A",
          "I",
          "L",
          "I",
          "L",
          "L",
          "I",
          "I",
          "L",
          "P"
         ],
         "textposition": "top center",
         "type": "scatter",
         "x": [
          345,
          348,
          351,
          352,
          355,
          359,
          362,
          366,
          369,
          372,
          375,
          377,
          455,
          456,
          459,
          466,
          470,
          480,
          481,
          484,
          491,
          498,
          501,
          504,
          505,
          511,
          514,
          525,
          529,
          532,
          535,
          536,
          543,
          550,
          553,
          560,
          564,
          567,
          571,
          579,
          582,
          584
         ],
         "xaxis": "x",
         "y": [
          3.3310200214385985,
          3.2650293588638304,
          3.696242785453797,
          3.673239517211914,
          3.6028990507125855,
          3.4744903326034544,
          3.314922332763672,
          3.3154162883758547,
          3.385925269126892,
          4.114436149597168,
          3.5024258136749267,
          3.3387319564819338,
          3.874275612831116,
          3.48494565486908,
          3.681320643424988,
          3.517020058631897,
          3.1828251123428344,
          3.215083646774292,
          3.9850082874298094,
          3.07120418548584,
          2.9600511312484743,
          3.436501693725586,
          2.959871292114258,
          3.8306902647018433,
          2.888344717025757,
          3.624740767478943,
          3.4398089408874517,
          2.9028125047683715,
          3.45360209941864,
          3.639187932014465,
          3.289267158508301,
          3.229048585891724,
          2.7498443841934206,
          3.378293824195862,
          3.1606238126754764,
          3.209471321105957,
          3.4027854204177856,
          3.30088415145874,
          3.3542405128479005,
          2.5514198303222657,
          2.688455283641815,
          4.23504102230072
         ],
         "yaxis": "y"
        },
        {
         "customdata": [
          [
           349,
           "K"
          ],
          [
           370,
           "E"
          ],
          [
           373,
           "S"
          ],
          [
           459,
           "L"
          ],
          [
           463,
           "C"
          ],
          [
           470,
           "L"
          ],
          [
           484,
           "L"
          ],
          [
           484,
           "L"
          ],
          [
           487,
           "Q"
          ],
          [
           491,
           "I"
          ],
          [
           501,
           "L"
          ],
          [
           508,
           "S"
          ],
          [
           511,
           "I"
          ],
          [
           514,
           "L"
          ],
          [
           518,
           "S"
          ],
          [
           518,
           "S"
          ],
          [
           522,
           "N"
          ],
          [
           525,
           "L"
          ],
          [
           529,
           "L"
          ],
          [
           539,
           "S"
          ],
          [
           543,
           "A"
          ],
          [
           546,
           "Q"
          ],
          [
           550,
           "I"
          ],
          [
           553,
           "L"
          ],
          [
           557,
           "N"
          ],
          [
           564,
           "L"
          ]
         ],
         "hovertemplate": "Interacting Chain=kinesin B<br>aa_classification=polar uncharged<br>Residue Index=%{x}<br>Distance (angstroms)=%{y}<br>residue_one_letter=%{text}<br>interacting_resinumber=%{customdata[0]}<br>interactingresi_oneletter=%{customdata[1]}<extra></extra>",
         "legendgroup": "kinesin B, polar uncharged",
         "marker": {
          "color": "#1f77b4",
          "opacity": 0.6,
          "size": 10,
          "symbol": "square"
         },
         "mode": "markers+text",
         "name": "kinesin B, polar uncharged",
         "orientation": "v",
         "showlegend": true,
         "text": [
          "Q",
          "Y",
          "S",
          "Q",
          "C",
          "Q",
          "Q",
          "Q",
          "Q",
          "Q",
          "N",
          "S",
          "N",
          "Y",
          "S",
          "T",
          "N",
          "N",
          "Q",
          "S",
          "Q",
          "S",
          "T",
          "N",
          "N",
          "Q"
         ],
         "textposition": "top center",
         "type": "scatter",
         "x": [
          341,
          365,
          373,
          460,
          463,
          469,
          483,
          487,
          488,
          490,
          502,
          508,
          512,
          515,
          518,
          519,
          522,
          526,
          528,
          539,
          546,
          547,
          549,
          554,
          557,
          563
         ],
         "xaxis": "x",
         "y": [
          4.417158532142639,
          2.9865968465805053,
          3.3827482223510743,
          3.879916667938232,
          2.9495235443115235,
          3.3845446586608885,
          3.6429663419723513,
          3.021463274955749,
          2.9955172777175902,
          3.563080596923828,
          3.412465143203735,
          3.137796950340271,
          3.4950589895248414,
          3.352513003349304,
          2.7752016305923464,
          3.532336640357971,
          2.398294687271118,
          3.295356678962708,
          3.6368600130081177,
          2.760967326164246,
          2.7437679529190064,
          3.658347320556641,
          4.111454105377197,
          3.1708978176116944,
          2.521105718612671,
          3.980924892425537
         ],
         "yaxis": "y"
        },
        {
         "customdata": [
          [
           363,
           "K"
          ],
          [
           365,
           "Y"
          ],
          [
           456,
           "I"
          ],
          [
           462,
           "K"
          ],
          [
           473,
           "K"
          ],
          [
           477,
           "K"
          ],
          [
           494,
           "K"
          ],
          [
           498,
           "I"
          ],
          [
           522,
           "N"
          ],
          [
           561,
           "K"
          ],
          [
           576,
           "D"
          ]
         ],
         "hovertemplate": "Interacting Chain=kinesin B<br>aa_classification=negatively charged<br>Residue Index=%{x}<br>Distance (angstroms)=%{y}<br>residue_one_letter=%{text}<br>interacting_resinumber=%{customdata[0]}<br>interactingresi_oneletter=%{customdata[1]}<extra></extra>",
         "legendgroup": "kinesin B, negatively charged",
         "marker": {
          "color": "#1f77b4",
          "opacity": 0.6,
          "size": 10,
          "symbol": "triangle-down"
         },
         "mode": "markers+text",
         "name": "kinesin B, negatively charged",
         "orientation": "v",
         "showlegend": true,
         "text": [
          "E",
          "E",
          "D",
          "E",
          "E",
          "E",
          "D",
          "E",
          "E",
          "E",
          "D"
         ],
         "textposition": "top center",
         "type": "scatter",
         "x": [
          358,
          370,
          452,
          467,
          474,
          476,
          495,
          497,
          521,
          556,
          576
         ],
         "xaxis": "x",
         "y": [
          2.8970296382904053,
          3.145521569252014,
          3.686295914649963,
          2.818626880645752,
          2.4281399846076965,
          2.5667675971984862,
          2.5456621170043947,
          3.4119380712509155,
          3.534664273262024,
          2.7460077524185182,
          4.420897030830384
         ],
         "yaxis": "y"
        },
        {
         "customdata": [
          [
           420,
           "E"
          ],
          [
           109,
           "T"
          ],
          [
           409,
           "V"
          ],
          [
           423,
           "E"
          ]
         ],
         "hovertemplate": "Interacting Chain=alpha-tubulin<br>aa_classification=positively charged<br>Residue Index=%{x}<br>Distance (angstroms)=%{y}<br>residue_one_letter=%{text}<br>interacting_resinumber=%{customdata[0]}<br>interactingresi_oneletter=%{customdata[1]}<extra></extra>",
         "legendgroup": "alpha-tubulin, positively charged",
         "marker": {
          "color": "#ff7f0e",
          "opacity": 0.6,
          "size": 10,
          "symbol": "triangle-up"
         },
         "mode": "markers+text",
         "name": "alpha-tubulin, positively charged",
         "orientation": "v",
         "showlegend": true,
         "text": [
          "K",
          "K",
          "K",
          "R"
         ],
         "textposition": "top center",
         "type": "scatter",
         "x": [
          244,
          259,
          263,
          325
         ],
         "xaxis": "x",
         "y": [
          2.5240608930587767,
          3.194501042366028,
          3.3468525886535643,
          3.281700778007507
         ],
         "yaxis": "y"
        },
        {
         "customdata": [
          [
           412,
           "G"
          ],
          [
           112,
           "K"
          ],
          [
           108,
           "Y"
          ],
          [
           420,
           "E"
          ]
         ],
         "hovertemplate": "Interacting Chain=alpha-tubulin<br>aa_classification=nonpolar<br>Residue Index=%{x}<br>Distance (angstroms)=%{y}<br>residue_one_letter=%{text}<br>interacting_resinumber=%{customdata[0]}<br>interactingresi_oneletter=%{customdata[1]}<extra></extra>",
         "legendgroup": "alpha-tubulin, nonpolar",
         "marker": {
          "color": "#ff7f0e",
          "opacity": 0.6,
          "size": 10,
          "symbol": "circle"
         },
         "mode": "markers+text",
         "name": "alpha-tubulin, nonpolar",
         "orientation": "v",
         "showlegend": true,
         "text": [
          "I",
          "A",
          "L",
          "A"
         ],
         "textposition": "top center",
         "type": "scatter",
         "x": [
          245,
          250,
          255,
          318
         ],
         "xaxis": "x",
         "y": [
          2.9821834802627563,
          2.993379282951355,
          4.019486570358277,
          3.441461992263794
         ],
         "yaxis": "y"
        },
        {
         "customdata": [
          [
           414,
           "E"
          ],
          [
           112,
           "K"
          ],
          [
           409,
           "V"
          ],
          [
           415,
           "E"
          ],
          [
           402,
           "R"
          ],
          [
           402,
           "R"
          ]
         ],
         "hovertemplate": "Interacting Chain=alpha-tubulin<br>aa_classification=polar uncharged<br>Residue Index=%{x}<br>Distance (angstroms)=%{y}<br>residue_one_letter=%{text}<br>interacting_resinumber=%{customdata[0]}<br>interactingresi_oneletter=%{customdata[1]}<extra></extra>",
         "legendgroup": "alpha-tubulin, polar uncharged",
         "marker": {
          "color": "#ff7f0e",
          "opacity": 0.6,
          "size": 10,
          "symbol": "square"
         },
         "mode": "markers+text",
         "name": "alpha-tubulin, polar uncharged",
         "orientation": "v",
         "showlegend": true,
         "text": [
          "S",
          "Q",
          "N",
          "S",
          "N",
          "N"
         ],
         "textposition": "top center",
         "type": "scatter",
         "x": [
          242,
          251,
          262,
          266,
          270,
          273
         ],
         "xaxis": "x",
         "y": [
          3.1016319036483764,
          4.324811244010926,
          3.4365184545516967,
          2.644986605644226,
          3.463376331329345,
          4.167745542526245
         ],
         "yaxis": "y"
        },
        {
         "customdata": [
          [
           414,
           "E"
          ],
          [
           414,
           "E"
          ]
         ],
         "hovertemplate": "Interacting Chain=alpha-tubulin<br>aa_classification=negatively charged<br>Residue Index=%{x}<br>Distance (angstroms)=%{y}<br>residue_one_letter=%{text}<br>interacting_resinumber=%{customdata[0]}<br>interactingresi_oneletter=%{customdata[1]}<extra></extra>",
         "legendgroup": "alpha-tubulin, negatively charged",
         "marker": {
          "color": "#ff7f0e",
          "opacity": 0.6,
          "size": 10,
          "symbol": "triangle-down"
         },
         "mode": "markers+text",
         "name": "alpha-tubulin, negatively charged",
         "orientation": "v",
         "showlegend": true,
         "text": [
          "E",
          "E"
         ],
         "textposition": "top center",
         "type": "scatter",
         "x": [
          243,
          319
         ],
         "xaxis": "x",
         "y": [
          4.262896633148193,
          4.168179178237915
         ],
         "yaxis": "y"
        },
        {
         "customdata": [
          [
           157,
           "E"
          ],
          [
           410,
           "E"
          ],
          [
           406,
           "M"
          ],
          [
           412,
           "E"
          ],
          [
           432,
           "E"
          ],
          [
           424,
           "Q"
          ],
          [
           417,
           "D"
          ],
          [
           417,
           "D"
          ]
         ],
         "hovertemplate": "Interacting Chain=beta-tubulin<br>aa_classification=positively charged<br>Residue Index=%{x}<br>Distance (angstroms)=%{y}<br>residue_one_letter=%{text}<br>interacting_resinumber=%{customdata[0]}<br>interactingresi_oneletter=%{customdata[1]}<extra></extra>",
         "legendgroup": "beta-tubulin, positively charged",
         "marker": {
          "color": "#2ca02c",
          "opacity": 0.6,
          "size": 10,
          "symbol": "triangle-up"
         },
         "mode": "markers+text",
         "name": "beta-tubulin, positively charged",
         "orientation": "v",
         "showlegend": true,
         "text": [
          "K",
          "H",
          "K",
          "R",
          "K",
          "H",
          "R",
          "R"
         ],
         "textposition": "top center",
         "type": "scatter",
         "x": [
          148,
          163,
          166,
          168,
          279,
          282,
          286,
          292
         ],
         "xaxis": "x",
         "y": [
          3.195234274864197,
          2.679276204109192,
          3.644639492034912,
          3.506588172912598,
          3.5457541704177857,
          2.869028186798096,
          2.488125467300415,
          4.454248189926148
         ],
         "yaxis": "y"
        },
        {
         "customdata": [
          [
           410,
           "E"
          ]
         ],
         "hovertemplate": "Interacting Chain=beta-tubulin<br>aa_classification=nonpolar<br>Residue Index=%{x}<br>Distance (angstroms)=%{y}<br>residue_one_letter=%{text}<br>interacting_resinumber=%{customdata[0]}<br>interactingresi_oneletter=%{customdata[1]}<extra></extra>",
         "legendgroup": "beta-tubulin, nonpolar",
         "marker": {
          "color": "#2ca02c",
          "opacity": 0.6,
          "size": 10,
          "symbol": "circle"
         },
         "mode": "markers+text",
         "name": "beta-tubulin, nonpolar",
         "orientation": "v",
         "showlegend": true,
         "text": [
          "V"
         ],
         "textposition": "top center",
         "type": "scatter",
         "x": [
          162
         ],
         "xaxis": "x",
         "y": [
          3.0483668565750124
         ],
         "yaxis": "y"
        },
        {
         "customdata": [
          [
           157,
           "E"
          ],
          [
           424,
           "Q"
          ],
          [
           424,
           "Q"
          ]
         ],
         "hovertemplate": "Interacting Chain=beta-tubulin<br>aa_classification=polar uncharged<br>Residue Index=%{x}<br>Distance (angstroms)=%{y}<br>residue_one_letter=%{text}<br>interacting_resinumber=%{customdata[0]}<br>interactingresi_oneletter=%{customdata[1]}<extra></extra>",
         "legendgroup": "beta-tubulin, polar uncharged",
         "marker": {
          "color": "#2ca02c",
          "opacity": 0.6,
          "size": 10,
          "symbol": "square"
         },
         "mode": "markers+text",
         "name": "beta-tubulin, polar uncharged",
         "orientation": "v",
         "showlegend": true,
         "text": [
          "N",
          "S",
          "T"
         ],
         "textposition": "top center",
         "type": "scatter",
         "x": [
          159,
          280,
          281
         ],
         "xaxis": "x",
         "y": [
          3.2285605669021606,
          3.6109907388687135,
          3.785573148727417
         ],
         "yaxis": "y"
        },
        {
         "customdata": [
          [
           413,
           "S"
          ],
          [
           406,
           "M"
          ],
          [
           262,
           "R"
          ]
         ],
         "hovertemplate": "Interacting Chain=beta-tubulin<br>aa_classification=negatively charged<br>Residue Index=%{x}<br>Distance (angstroms)=%{y}<br>residue_one_letter=%{text}<br>interacting_resinumber=%{customdata[0]}<br>interactingresi_oneletter=%{customdata[1]}<extra></extra>",
         "legendgroup": "beta-tubulin, negatively charged",
         "marker": {
          "color": "#2ca02c",
          "opacity": 0.6,
          "size": 10,
          "symbol": "triangle-down"
         },
         "mode": "markers+text",
         "name": "beta-tubulin, negatively charged",
         "orientation": "v",
         "showlegend": true,
         "text": [
          "E",
          "D",
          "D"
         ],
         "textposition": "top center",
         "type": "scatter",
         "x": [
          164,
          165,
          287
         ],
         "xaxis": "x",
         "y": [
          3.2237205028533937,
          3.915936279296875,
          3.2493725061416625
         ],
         "yaxis": "y"
        },
        {
         "customdata": [
          [
           1,
           "?"
          ],
          [
           1,
           "?"
          ],
          [
           1,
           "?"
          ],
          [
           1,
           "?"
          ]
         ],
         "hovertemplate": "Interacting Chain=ATP<br>aa_classification=positively charged<br>Residue Index=%{x}<br>Distance (angstroms)=%{y}<br>residue_one_letter=%{text}<br>interacting_resinumber=%{customdata[0]}<br>interactingresi_oneletter=%{customdata[1]}<extra></extra>",
         "legendgroup": "ATP, positively charged",
         "marker": {
          "color": "#d62728",
          "opacity": 0.6,
          "size": 10,
          "symbol": "triangle-up"
         },
         "mode": "markers+text",
         "name": "ATP, positively charged",
         "orientation": "v",
         "showlegend": true,
         "text": [
          "R",
          "R",
          "K",
          "H"
         ],
         "textposition": "top center",
         "type": "scatter",
         "x": [
          18,
          20,
          98,
          100
         ],
         "xaxis": "x",
         "y": [
          3.8184415817260735,
          3.556167292594909,
          2.7771350860595705,
          2.8844461917877195
         ],
         "yaxis": "y"
        },
        {
         "customdata": [
          [
           1,
           "?"
          ],
          [
           1,
           "?"
          ],
          [
           1,
           "?"
          ],
          [
           1,
           "?"
          ]
         ],
         "hovertemplate": "Interacting Chain=ATP<br>aa_classification=nonpolar<br>Residue Index=%{x}<br>Distance (angstroms)=%{y}<br>residue_one_letter=%{text}<br>interacting_resinumber=%{customdata[0]}<br>interactingresi_oneletter=%{customdata[1]}<extra></extra>",
         "legendgroup": "ATP, nonpolar",
         "marker": {
          "color": "#d62728",
          "opacity": 0.6,
          "size": 10,
          "symbol": "circle"
         },
         "mode": "markers+text",
         "name": "ATP, nonpolar",
         "orientation": "v",
         "showlegend": true,
         "text": [
          "P",
          "G",
          "A",
          "G"
         ],
         "textposition": "top center",
         "type": "scatter",
         "x": [
          21,
          97,
          240,
          241
         ],
         "xaxis": "x",
         "y": [
          3.460982394218445,
          2.9811397552490235,
          3.989383864402771,
          2.9466264963150026
         ],
         "yaxis": "y"
        },
        {
         "customdata": [
          [
           1,
           "?"
          ],
          [
           1,
           "?"
          ],
          [
           1,
           "?"
          ],
          [
           1,
           "?"
          ],
          [
           1,
           "?"
          ],
          [
           1,
           "?"
          ]
         ],
         "hovertemplate": "Interacting Chain=ATP<br>aa_classification=polar uncharged<br>Residue Index=%{x}<br>Distance (angstroms)=%{y}<br>residue_one_letter=%{text}<br>interacting_resinumber=%{customdata[0]}<br>interactingresi_oneletter=%{customdata[1]}<extra></extra>",
         "legendgroup": "ATP, polar uncharged",
         "marker": {
          "color": "#d62728",
          "opacity": 0.6,
          "size": 10,
          "symbol": "square"
         },
         "mode": "markers+text",
         "name": "ATP, polar uncharged",
         "orientation": "v",
         "showlegend": true,
         "text": [
          "Q",
          "T",
          "S",
          "S",
          "N",
          "S"
         ],
         "textposition": "top center",
         "type": "scatter",
         "x": [
          93,
          94,
          95,
          96,
          205,
          208
         ],
         "xaxis": "x",
         "y": [
          3.852722239494324,
          2.3679495811462403,
          2.7697231769561768,
          3.308909177780152,
          2.995638704299927,
          2.8946600437164305
         ],
         "yaxis": "y"
        },
        {
         "customdata": [
          [
           1,
           "?"
          ]
         ],
         "hovertemplate": "Interacting Chain=ATP<br>aa_classification=negatively charged<br>Residue Index=%{x}<br>Distance (angstroms)=%{y}<br>residue_one_letter=%{text}<br>interacting_resinumber=%{customdata[0]}<br>interactingresi_oneletter=%{customdata[1]}<extra></extra>",
         "legendgroup": "ATP, negatively charged",
         "marker": {
          "color": "#d62728",
          "opacity": 0.6,
          "size": 10,
          "symbol": "triangle-down"
         },
         "mode": "markers+text",
         "name": "ATP, negatively charged",
         "orientation": "v",
         "showlegend": true,
         "text": [
          "E"
         ],
         "textposition": "top center",
         "type": "scatter",
         "x": [
          207
         ],
         "xaxis": "x",
         "y": [
          4.019444823265076
         ],
         "yaxis": "y"
        }
       ],
       "layout": {
        "autosize": false,
        "height": 600,
        "legend": {
         "title": {
          "text": "Interacting Chain"
         },
         "tracegroupgap": 0
        },
        "shapes": [
         {
          "fillcolor": "LightSkyBlue",
          "layer": "below",
          "line": {
           "width": 0
          },
          "opacity": 0.3,
          "type": "rect",
          "x0": 0,
          "x1": 178,
          "y0": 0,
          "y1": 5
         },
         {
          "fillcolor": "LightSalmon",
          "layer": "below",
          "line": {
           "width": 0
          },
          "opacity": 0.3,
          "type": "rect",
          "x0": 178,
          "x1": 600,
          "y0": 0,
          "y1": 5
         }
        ],
        "template": {
         "data": {
          "bar": [
           {
            "error_x": {
             "color": "#2a3f5f"
            },
            "error_y": {
             "color": "#2a3f5f"
            },
            "marker": {
             "line": {
              "color": "#E5ECF6",
              "width": 0.5
             },
             "pattern": {
              "fillmode": "overlay",
              "size": 10,
              "solidity": 0.2
             }
            },
            "type": "bar"
           }
          ],
          "barpolar": [
           {
            "marker": {
             "line": {
              "color": "#E5ECF6",
              "width": 0.5
             },
             "pattern": {
              "fillmode": "overlay",
              "size": 10,
              "solidity": 0.2
             }
            },
            "type": "barpolar"
           }
          ],
          "carpet": [
           {
            "aaxis": {
             "endlinecolor": "#2a3f5f",
             "gridcolor": "white",
             "linecolor": "white",
             "minorgridcolor": "white",
             "startlinecolor": "#2a3f5f"
            },
            "baxis": {
             "endlinecolor": "#2a3f5f",
             "gridcolor": "white",
             "linecolor": "white",
             "minorgridcolor": "white",
             "startlinecolor": "#2a3f5f"
            },
            "type": "carpet"
           }
          ],
          "choropleth": [
           {
            "colorbar": {
             "outlinewidth": 0,
             "ticks": ""
            },
            "type": "choropleth"
           }
          ],
          "contour": [
           {
            "colorbar": {
             "outlinewidth": 0,
             "ticks": ""
            },
            "colorscale": [
             [
              0,
              "#0d0887"
             ],
             [
              0.1111111111111111,
              "#46039f"
             ],
             [
              0.2222222222222222,
              "#7201a8"
             ],
             [
              0.3333333333333333,
              "#9c179e"
             ],
             [
              0.4444444444444444,
              "#bd3786"
             ],
             [
              0.5555555555555556,
              "#d8576b"
             ],
             [
              0.6666666666666666,
              "#ed7953"
             ],
             [
              0.7777777777777778,
              "#fb9f3a"
             ],
             [
              0.8888888888888888,
              "#fdca26"
             ],
             [
              1,
              "#f0f921"
             ]
            ],
            "type": "contour"
           }
          ],
          "contourcarpet": [
           {
            "colorbar": {
             "outlinewidth": 0,
             "ticks": ""
            },
            "type": "contourcarpet"
           }
          ],
          "heatmap": [
           {
            "colorbar": {
             "outlinewidth": 0,
             "ticks": ""
            },
            "colorscale": [
             [
              0,
              "#0d0887"
             ],
             [
              0.1111111111111111,
              "#46039f"
             ],
             [
              0.2222222222222222,
              "#7201a8"
             ],
             [
              0.3333333333333333,
              "#9c179e"
             ],
             [
              0.4444444444444444,
              "#bd3786"
             ],
             [
              0.5555555555555556,
              "#d8576b"
             ],
             [
              0.6666666666666666,
              "#ed7953"
             ],
             [
              0.7777777777777778,
              "#fb9f3a"
             ],
             [
              0.8888888888888888,
              "#fdca26"
             ],
             [
              1,
              "#f0f921"
             ]
            ],
            "type": "heatmap"
           }
          ],
          "heatmapgl": [
           {
            "colorbar": {
             "outlinewidth": 0,
             "ticks": ""
            },
            "colorscale": [
             [
              0,
              "#0d0887"
             ],
             [
              0.1111111111111111,
              "#46039f"
             ],
             [
              0.2222222222222222,
              "#7201a8"
             ],
             [
              0.3333333333333333,
              "#9c179e"
             ],
             [
              0.4444444444444444,
              "#bd3786"
             ],
             [
              0.5555555555555556,
              "#d8576b"
             ],
             [
              0.6666666666666666,
              "#ed7953"
             ],
             [
              0.7777777777777778,
              "#fb9f3a"
             ],
             [
              0.8888888888888888,
              "#fdca26"
             ],
             [
              1,
              "#f0f921"
             ]
            ],
            "type": "heatmapgl"
           }
          ],
          "histogram": [
           {
            "marker": {
             "pattern": {
              "fillmode": "overlay",
              "size": 10,
              "solidity": 0.2
             }
            },
            "type": "histogram"
           }
          ],
          "histogram2d": [
           {
            "colorbar": {
             "outlinewidth": 0,
             "ticks": ""
            },
            "colorscale": [
             [
              0,
              "#0d0887"
             ],
             [
              0.1111111111111111,
              "#46039f"
             ],
             [
              0.2222222222222222,
              "#7201a8"
             ],
             [
              0.3333333333333333,
              "#9c179e"
             ],
             [
              0.4444444444444444,
              "#bd3786"
             ],
             [
              0.5555555555555556,
              "#d8576b"
             ],
             [
              0.6666666666666666,
              "#ed7953"
             ],
             [
              0.7777777777777778,
              "#fb9f3a"
             ],
             [
              0.8888888888888888,
              "#fdca26"
             ],
             [
              1,
              "#f0f921"
             ]
            ],
            "type": "histogram2d"
           }
          ],
          "histogram2dcontour": [
           {
            "colorbar": {
             "outlinewidth": 0,
             "ticks": ""
            },
            "colorscale": [
             [
              0,
              "#0d0887"
             ],
             [
              0.1111111111111111,
              "#46039f"
             ],
             [
              0.2222222222222222,
              "#7201a8"
             ],
             [
              0.3333333333333333,
              "#9c179e"
             ],
             [
              0.4444444444444444,
              "#bd3786"
             ],
             [
              0.5555555555555556,
              "#d8576b"
             ],
             [
              0.6666666666666666,
              "#ed7953"
             ],
             [
              0.7777777777777778,
              "#fb9f3a"
             ],
             [
              0.8888888888888888,
              "#fdca26"
             ],
             [
              1,
              "#f0f921"
             ]
            ],
            "type": "histogram2dcontour"
           }
          ],
          "mesh3d": [
           {
            "colorbar": {
             "outlinewidth": 0,
             "ticks": ""
            },
            "type": "mesh3d"
           }
          ],
          "parcoords": [
           {
            "line": {
             "colorbar": {
              "outlinewidth": 0,
              "ticks": ""
             }
            },
            "type": "parcoords"
           }
          ],
          "pie": [
           {
            "automargin": true,
            "type": "pie"
           }
          ],
          "scatter": [
           {
            "fillpattern": {
             "fillmode": "overlay",
             "size": 10,
             "solidity": 0.2
            },
            "type": "scatter"
           }
          ],
          "scatter3d": [
           {
            "line": {
             "colorbar": {
              "outlinewidth": 0,
              "ticks": ""
             }
            },
            "marker": {
             "colorbar": {
              "outlinewidth": 0,
              "ticks": ""
             }
            },
            "type": "scatter3d"
           }
          ],
          "scattercarpet": [
           {
            "marker": {
             "colorbar": {
              "outlinewidth": 0,
              "ticks": ""
             }
            },
            "type": "scattercarpet"
           }
          ],
          "scattergeo": [
           {
            "marker": {
             "colorbar": {
              "outlinewidth": 0,
              "ticks": ""
             }
            },
            "type": "scattergeo"
           }
          ],
          "scattergl": [
           {
            "marker": {
             "colorbar": {
              "outlinewidth": 0,
              "ticks": ""
             }
            },
            "type": "scattergl"
           }
          ],
          "scattermapbox": [
           {
            "marker": {
             "colorbar": {
              "outlinewidth": 0,
              "ticks": ""
             }
            },
            "type": "scattermapbox"
           }
          ],
          "scatterpolar": [
           {
            "marker": {
             "colorbar": {
              "outlinewidth": 0,
              "ticks": ""
             }
            },
            "type": "scatterpolar"
           }
          ],
          "scatterpolargl": [
           {
            "marker": {
             "colorbar": {
              "outlinewidth": 0,
              "ticks": ""
             }
            },
            "type": "scatterpolargl"
           }
          ],
          "scatterternary": [
           {
            "marker": {
             "colorbar": {
              "outlinewidth": 0,
              "ticks": ""
             }
            },
            "type": "scatterternary"
           }
          ],
          "surface": [
           {
            "colorbar": {
             "outlinewidth": 0,
             "ticks": ""
            },
            "colorscale": [
             [
              0,
              "#0d0887"
             ],
             [
              0.1111111111111111,
              "#46039f"
             ],
             [
              0.2222222222222222,
              "#7201a8"
             ],
             [
              0.3333333333333333,
              "#9c179e"
             ],
             [
              0.4444444444444444,
              "#bd3786"
             ],
             [
              0.5555555555555556,
              "#d8576b"
             ],
             [
              0.6666666666666666,
              "#ed7953"
             ],
             [
              0.7777777777777778,
              "#fb9f3a"
             ],
             [
              0.8888888888888888,
              "#fdca26"
             ],
             [
              1,
              "#f0f921"
             ]
            ],
            "type": "surface"
           }
          ],
          "table": [
           {
            "cells": {
             "fill": {
              "color": "#EBF0F8"
             },
             "line": {
              "color": "white"
             }
            },
            "header": {
             "fill": {
              "color": "#C8D4E3"
             },
             "line": {
              "color": "white"
             }
            },
            "type": "table"
           }
          ]
         },
         "layout": {
          "annotationdefaults": {
           "arrowcolor": "#2a3f5f",
           "arrowhead": 0,
           "arrowwidth": 1
          },
          "autotypenumbers": "strict",
          "coloraxis": {
           "colorbar": {
            "outlinewidth": 0,
            "ticks": ""
           }
          },
          "colorscale": {
           "diverging": [
            [
             0,
             "#8e0152"
            ],
            [
             0.1,
             "#c51b7d"
            ],
            [
             0.2,
             "#de77ae"
            ],
            [
             0.3,
             "#f1b6da"
            ],
            [
             0.4,
             "#fde0ef"
            ],
            [
             0.5,
             "#f7f7f7"
            ],
            [
             0.6,
             "#e6f5d0"
            ],
            [
             0.7,
             "#b8e186"
            ],
            [
             0.8,
             "#7fbc41"
            ],
            [
             0.9,
             "#4d9221"
            ],
            [
             1,
             "#276419"
            ]
           ],
           "sequential": [
            [
             0,
             "#0d0887"
            ],
            [
             0.1111111111111111,
             "#46039f"
            ],
            [
             0.2222222222222222,
             "#7201a8"
            ],
            [
             0.3333333333333333,
             "#9c179e"
            ],
            [
             0.4444444444444444,
             "#bd3786"
            ],
            [
             0.5555555555555556,
             "#d8576b"
            ],
            [
             0.6666666666666666,
             "#ed7953"
            ],
            [
             0.7777777777777778,
             "#fb9f3a"
            ],
            [
             0.8888888888888888,
             "#fdca26"
            ],
            [
             1,
             "#f0f921"
            ]
           ],
           "sequentialminus": [
            [
             0,
             "#0d0887"
            ],
            [
             0.1111111111111111,
             "#46039f"
            ],
            [
             0.2222222222222222,
             "#7201a8"
            ],
            [
             0.3333333333333333,
             "#9c179e"
            ],
            [
             0.4444444444444444,
             "#bd3786"
            ],
            [
             0.5555555555555556,
             "#d8576b"
            ],
            [
             0.6666666666666666,
             "#ed7953"
            ],
            [
             0.7777777777777778,
             "#fb9f3a"
            ],
            [
             0.8888888888888888,
             "#fdca26"
            ],
            [
             1,
             "#f0f921"
            ]
           ]
          },
          "colorway": [
           "#636efa",
           "#EF553B",
           "#00cc96",
           "#ab63fa",
           "#FFA15A",
           "#19d3f3",
           "#FF6692",
           "#B6E880",
           "#FF97FF",
           "#FECB52"
          ],
          "font": {
           "color": "#2a3f5f"
          },
          "geo": {
           "bgcolor": "white",
           "lakecolor": "white",
           "landcolor": "#E5ECF6",
           "showlakes": true,
           "showland": true,
           "subunitcolor": "white"
          },
          "hoverlabel": {
           "align": "left"
          },
          "hovermode": "closest",
          "mapbox": {
           "style": "light"
          },
          "paper_bgcolor": "white",
          "plot_bgcolor": "#E5ECF6",
          "polar": {
           "angularaxis": {
            "gridcolor": "white",
            "linecolor": "white",
            "ticks": ""
           },
           "bgcolor": "#E5ECF6",
           "radialaxis": {
            "gridcolor": "white",
            "linecolor": "white",
            "ticks": ""
           }
          },
          "scene": {
           "xaxis": {
            "backgroundcolor": "#E5ECF6",
            "gridcolor": "white",
            "gridwidth": 2,
            "linecolor": "white",
            "showbackground": true,
            "ticks": "",
            "zerolinecolor": "white"
           },
           "yaxis": {
            "backgroundcolor": "#E5ECF6",
            "gridcolor": "white",
            "gridwidth": 2,
            "linecolor": "white",
            "showbackground": true,
            "ticks": "",
            "zerolinecolor": "white"
           },
           "zaxis": {
            "backgroundcolor": "#E5ECF6",
            "gridcolor": "white",
            "gridwidth": 2,
            "linecolor": "white",
            "showbackground": true,
            "ticks": "",
            "zerolinecolor": "white"
           }
          },
          "shapedefaults": {
           "line": {
            "color": "#2a3f5f"
           }
          },
          "ternary": {
           "aaxis": {
            "gridcolor": "white",
            "linecolor": "white",
            "ticks": ""
           },
           "baxis": {
            "gridcolor": "white",
            "linecolor": "white",
            "ticks": ""
           },
           "bgcolor": "#E5ECF6",
           "caxis": {
            "gridcolor": "white",
            "linecolor": "white",
            "ticks": ""
           }
          },
          "title": {
           "x": 0.05
          },
          "xaxis": {
           "automargin": true,
           "gridcolor": "white",
           "linecolor": "white",
           "ticks": "",
           "title": {
            "standoff": 15
           },
           "zerolinecolor": "white",
           "zerolinewidth": 2
          },
          "yaxis": {
           "automargin": true,
           "gridcolor": "white",
           "linecolor": "white",
           "ticks": "",
           "title": {
            "standoff": 15
           },
           "zerolinecolor": "white",
           "zerolinewidth": 2
          }
         }
        },
        "title": {
         "text": "Interactions for G"
        },
        "width": 1600,
        "xaxis": {
         "anchor": "y",
         "domain": [
          0,
          1
         ],
         "dtick": 20,
         "range": [
          0,
          600
         ],
         "title": {
          "text": "Residue Index"
         }
        },
        "yaxis": {
         "anchor": "x",
         "domain": [
          0,
          1
         ],
         "range": [
          1.5,
          5
         ],
         "title": {
          "text": "Distance (angstroms)"
         }
        }
       }
      }
     },
     "metadata": {},
     "output_type": "display_data"
    },
    {
     "data": {
      "application/vnd.plotly.v1+json": {
       "config": {
        "plotlyServerURL": "https://plot.ly"
       },
       "data": [
        {
         "customdata": [
          [
           348,
           "L"
          ],
          [
           344,
           "L"
          ],
          [
           354,
           "E"
          ],
          [
           463,
           "E"
          ],
          [
           470,
           "E"
          ],
          [
           472,
           "E"
          ],
          [
           491,
           "D"
          ],
          [
           528,
           "L"
          ],
          [
           535,
           "S"
          ],
          [
           552,
           "E"
          ],
          [
           578,
           "L"
          ]
         ],
         "hovertemplate": "Interacting Chain=kinesin B<br>aa_classification=positively charged<br>Residue Index=%{x}<br>Distance (angstroms)=%{y}<br>residue_one_letter=%{text}<br>interacting_resinumber=%{customdata[0]}<br>interactingresi_oneletter=%{customdata[1]}<extra></extra>",
         "legendgroup": "kinesin B, positively charged",
         "marker": {
          "color": "#1f77b4",
          "opacity": 0.6,
          "size": 10,
          "symbol": "triangle-up"
         },
         "mode": "markers+text",
         "name": "kinesin B, positively charged",
         "orientation": "v",
         "showlegend": true,
         "text": [
          "R",
          "K",
          "K",
          "K",
          "K",
          "K",
          "K",
          "K",
          "R",
          "K",
          "R"
         ],
         "textposition": "top center",
         "type": "scatter",
         "x": [
          339,
          345,
          359,
          458,
          469,
          473,
          490,
          529,
          536,
          557,
          566
         ],
         "xaxis": "x",
         "y": [
          4.041665363311767,
          4.081403493881226,
          2.6424670934677126,
          2.86236469745636,
          2.485845947265625,
          2.5413446187973023,
          2.508242964744568,
          3.825415587425232,
          3.4713897705078125,
          2.702314639091492,
          2.8831740617752075
         ],
         "yaxis": "y"
        },
        {
         "customdata": [
          [
           344,
           "L"
          ],
          [
           341,
           "A"
          ],
          [
           348,
           "L"
          ],
          [
           347,
           "L"
          ],
          [
           355,
           "I"
          ],
          [
           355,
           "I"
          ],
          [
           362,
           "I"
          ],
          [
           362,
           "I"
          ],
          [
           371,
           "V"
          ],
          [
           376,
           "L"
          ],
          [
           365,
           "L"
          ],
          [
           361,
           "Y"
          ],
          [
           368,
           "V"
          ],
          [
           452,
           "I"
          ],
          [
           452,
           "I"
          ],
          [
           459,
           "C"
          ],
          [
           466,
           "L"
          ],
          [
           466,
           "L"
          ],
          [
           480,
           "L"
          ],
          [
           476,
           "I"
          ],
          [
           483,
           "Q"
          ],
          [
           490,
           "K"
          ],
          [
           493,
           "E"
          ],
          [
           501,
           "I"
          ],
          [
           501,
           "I"
          ],
          [
           497,
           "L"
          ],
          [
           508,
           "N"
          ],
          [
           511,
           "Y"
          ],
          [
           518,
           "N"
          ],
          [
           521,
           "L"
          ],
          [
           525,
           "L"
          ],
          [
           532,
           "L"
          ],
          [
           532,
           "L"
          ],
          [
           542,
           "Q"
          ],
          [
           546,
           "I"
          ],
          [
           550,
           "N"
          ],
          [
           556,
           "I"
          ],
          [
           560,
           "L"
          ],
          [
           567,
           "I"
          ],
          [
           563,
           "L"
          ],
          [
           575,
           "I"
          ],
          [
           566,
           "R"
          ],
          [
           563,
           "L"
          ]
         ],
         "hovertemplate": "Interacting Chain=kinesin B<br>aa_classification=nonpolar<br>Residue Index=%{x}<br>Distance (angstroms)=%{y}<br>residue_one_letter=%{text}<br>interacting_resinumber=%{customdata[0]}<br>interactingresi_oneletter=%{customdata[1]}<extra></extra>",
         "legendgroup": "kinesin B, nonpolar",
         "marker": {
          "color": "#1f77b4",
          "opacity": 0.6,
          "size": 10,
          "symbol": "circle"
         },
         "mode": "markers+text",
         "name": "kinesin B, nonpolar",
         "orientation": "v",
         "showlegend": true,
         "text": [
          "A",
          "L",
          "L",
          "L",
          "A",
          "I",
          "L",
          "I",
          "L",
          "V",
          "V",
          "V",
          "L",
          "L",
          "I",
          "L",
          "L",
          "L",
          "I",
          "L",
          "L",
          "I",
          "I",
          "L",
          "M",
          "I",
          "I",
          "L",
          "L",
          "L",
          "L",
          "A",
          "L",
          "A",
          "I",
          "L",
          "I",
          "L",
          "L",
          "I",
          "I",
          "L",
          "P"
         ],
         "textposition": "top center",
         "type": "scatter",
         "x": [
          341,
          344,
          347,
          348,
          351,
          355,
          358,
          362,
          365,
          368,
          371,
          373,
          376,
          451,
          452,
          455,
          462,
          466,
          476,
          477,
          480,
          487,
          494,
          497,
          500,
          501,
          507,
          510,
          521,
          525,
          528,
          531,
          532,
          539,
          546,
          549,
          556,
          560,
          563,
          567,
          575,
          578,
          580
         ],
         "xaxis": "x",
         "y": [
          3.311200571060181,
          3.284237265586853,
          3.680532908439636,
          3.6648807287216183,
          3.631865930557251,
          3.500070714950561,
          3.332305145263672,
          3.3432955980300902,
          3.1967314958572386,
          3.226457500457764,
          3.2446255922317504,
          3.2285767078399656,
          3.293030524253845,
          3.943799924850464,
          3.574724626541138,
          3.7901511192321777,
          3.7086848258972167,
          3.1773547649383547,
          3.2800464630126958,
          4.019861245155335,
          3.057886481285095,
          3.0878762006759644,
          3.489536452293396,
          2.9683322429656984,
          3.859188723564148,
          2.900012183189392,
          3.497017741203308,
          3.4684164762496947,
          2.9113455057144164,
          3.467368412017822,
          3.5766973733901977,
          3.3279216289520264,
          3.360805535316467,
          2.7375017404556274,
          3.380741047859192,
          3.126839804649353,
          3.2010239362716675,
          3.479959774017334,
          3.3734829664230346,
          3.414933609962463,
          2.752541303634644,
          2.955101799964905,
          4.247967863082886
         ],
         "yaxis": "y"
        },
        {
         "customdata": [
          [
           366,
           "E"
          ],
          [
           369,
           "S"
          ],
          [
           361,
           "Y"
          ],
          [
           455,
           "L"
          ],
          [
           459,
           "C"
          ],
          [
           466,
           "L"
          ],
          [
           480,
           "L"
          ],
          [
           480,
           "L"
          ],
          [
           483,
           "Q"
          ],
          [
           487,
           "I"
          ],
          [
           497,
           "L"
          ],
          [
           504,
           "S"
          ],
          [
           507,
           "I"
          ],
          [
           510,
           "L"
          ],
          [
           514,
           "S"
          ],
          [
           514,
           "S"
          ],
          [
           518,
           "N"
          ],
          [
           521,
           "L"
          ],
          [
           525,
           "L"
          ],
          [
           535,
           "S"
          ],
          [
           539,
           "A"
          ],
          [
           542,
           "Q"
          ],
          [
           546,
           "I"
          ],
          [
           549,
           "L"
          ],
          [
           553,
           "N"
          ],
          [
           560,
           "L"
          ]
         ],
         "hovertemplate": "Interacting Chain=kinesin B<br>aa_classification=polar uncharged<br>Residue Index=%{x}<br>Distance (angstroms)=%{y}<br>residue_one_letter=%{text}<br>interacting_resinumber=%{customdata[0]}<br>interactingresi_oneletter=%{customdata[1]}<extra></extra>",
         "legendgroup": "kinesin B, polar uncharged",
         "marker": {
          "color": "#1f77b4",
          "opacity": 0.6,
          "size": 10,
          "symbol": "square"
         },
         "mode": "markers+text",
         "name": "kinesin B, polar uncharged",
         "orientation": "v",
         "showlegend": true,
         "text": [
          "Y",
          "S",
          "T",
          "Q",
          "C",
          "Q",
          "Q",
          "Q",
          "Q",
          "Q",
          "N",
          "S",
          "N",
          "Y",
          "S",
          "T",
          "N",
          "N",
          "Q",
          "S",
          "Q",
          "S",
          "T",
          "N",
          "N",
          "Q"
         ],
         "textposition": "top center",
         "type": "scatter",
         "x": [
          361,
          369,
          372,
          456,
          459,
          465,
          479,
          483,
          484,
          486,
          498,
          504,
          508,
          511,
          514,
          515,
          518,
          522,
          524,
          535,
          542,
          543,
          545,
          550,
          553,
          559
         ],
         "xaxis": "x",
         "y": [
          2.928434944152832,
          3.387674570083618,
          4.167082786560059,
          3.976951146125794,
          2.9864014863967894,
          3.423482656478882,
          3.673248624801636,
          3.0829856157302857,
          3.094578075408936,
          3.556925058364868,
          3.344797468185425,
          2.963688087463379,
          3.373018479347229,
          3.391083669662476,
          2.784971308708191,
          3.534790635108948,
          2.3416834712028503,
          3.272780919075012,
          3.66424880027771,
          2.80708646774292,
          2.688737988471985,
          3.7738735675811768,
          4.065789580345154,
          3.1863406896591187,
          2.4019604682922364,
          3.980756378173828
         ],
         "yaxis": "y"
        },
        {
         "customdata": [
          [
           345,
           "K"
          ],
          [
           359,
           "K"
          ],
          [
           361,
           "Y"
          ],
          [
           452,
           "I"
          ],
          [
           458,
           "K"
          ],
          [
           469,
           "K"
          ],
          [
           473,
           "K"
          ],
          [
           490,
           "K"
          ],
          [
           494,
           "I"
          ],
          [
           518,
           "N"
          ],
          [
           557,
           "K"
          ]
         ],
         "hovertemplate": "Interacting Chain=kinesin B<br>aa_classification=negatively charged<br>Residue Index=%{x}<br>Distance (angstroms)=%{y}<br>residue_one_letter=%{text}<br>interacting_resinumber=%{customdata[0]}<br>interactingresi_oneletter=%{customdata[1]}<extra></extra>",
         "legendgroup": "kinesin B, negatively charged",
         "marker": {
          "color": "#1f77b4",
          "opacity": 0.6,
          "size": 10,
          "symbol": "triangle-down"
         },
         "mode": "markers+text",
         "name": "kinesin B, negatively charged",
         "orientation": "v",
         "showlegend": true,
         "text": [
          "E",
          "E",
          "E",
          "D",
          "E",
          "E",
          "E",
          "D",
          "E",
          "E",
          "E"
         ],
         "textposition": "top center",
         "type": "scatter",
         "x": [
          338,
          354,
          366,
          448,
          463,
          470,
          472,
          491,
          493,
          517,
          552
         ],
         "xaxis": "x",
         "y": [
          4.426921844482422,
          2.8193334102630616,
          3.098718857765198,
          3.9190962314605713,
          2.788233518600464,
          2.469082796573639,
          2.6085618019104,
          2.501247453689575,
          3.4826371669769287,
          3.507398176193237,
          2.699551677703857
         ],
         "yaxis": "y"
        },
        {
         "customdata": [
          [
           420,
           "E"
          ],
          [
           410,
           "G"
          ],
          [
           409,
           "V"
          ],
          [
           423,
           "E"
          ],
          [
           402,
           "R"
          ]
         ],
         "hovertemplate": "Interacting Chain=alpha-tubulin<br>aa_classification=positively charged<br>Residue Index=%{x}<br>Distance (angstroms)=%{y}<br>residue_one_letter=%{text}<br>interacting_resinumber=%{customdata[0]}<br>interactingresi_oneletter=%{customdata[1]}<extra></extra>",
         "legendgroup": "alpha-tubulin, positively charged",
         "marker": {
          "color": "#ff7f0e",
          "opacity": 0.6,
          "size": 10,
          "symbol": "triangle-up"
         },
         "mode": "markers+text",
         "name": "alpha-tubulin, positively charged",
         "orientation": "v",
         "showlegend": true,
         "text": [
          "K",
          "K",
          "K",
          "R",
          "R"
         ],
         "textposition": "top center",
         "type": "scatter",
         "x": [
          240,
          255,
          259,
          321,
          325
         ],
         "xaxis": "x",
         "y": [
          2.5620284557342528,
          3.389649200439453,
          3.3763010025024416,
          2.921049761772156,
          4.420161724090576
         ],
         "yaxis": "y"
        },
        {
         "customdata": [
          [
           412,
           "G"
          ],
          [
           112,
           "K"
          ],
          [
           420,
           "E"
          ]
         ],
         "hovertemplate": "Interacting Chain=alpha-tubulin<br>aa_classification=nonpolar<br>Residue Index=%{x}<br>Distance (angstroms)=%{y}<br>residue_one_letter=%{text}<br>interacting_resinumber=%{customdata[0]}<br>interactingresi_oneletter=%{customdata[1]}<extra></extra>",
         "legendgroup": "alpha-tubulin, nonpolar",
         "marker": {
          "color": "#ff7f0e",
          "opacity": 0.6,
          "size": 10,
          "symbol": "circle"
         },
         "mode": "markers+text",
         "name": "alpha-tubulin, nonpolar",
         "orientation": "v",
         "showlegend": true,
         "text": [
          "I",
          "A",
          "A"
         ],
         "textposition": "top center",
         "type": "scatter",
         "x": [
          241,
          246,
          314
         ],
         "xaxis": "x",
         "y": [
          2.9925493955612184,
          3.2953132152557374,
          3.3554245710372923
         ],
         "yaxis": "y"
        },
        {
         "customdata": [
          [
           414,
           "E"
          ],
          [
           112,
           "K"
          ],
          [
           409,
           "V"
          ],
          [
           415,
           "E"
          ],
          [
           402,
           "R"
          ],
          [
           402,
           "R"
          ]
         ],
         "hovertemplate": "Interacting Chain=alpha-tubulin<br>aa_classification=polar uncharged<br>Residue Index=%{x}<br>Distance (angstroms)=%{y}<br>residue_one_letter=%{text}<br>interacting_resinumber=%{customdata[0]}<br>interactingresi_oneletter=%{customdata[1]}<extra></extra>",
         "legendgroup": "alpha-tubulin, polar uncharged",
         "marker": {
          "color": "#ff7f0e",
          "opacity": 0.6,
          "size": 10,
          "symbol": "square"
         },
         "mode": "markers+text",
         "name": "alpha-tubulin, polar uncharged",
         "orientation": "v",
         "showlegend": true,
         "text": [
          "S",
          "Q",
          "N",
          "S",
          "N",
          "N"
         ],
         "textposition": "top center",
         "type": "scatter",
         "x": [
          238,
          247,
          258,
          262,
          266,
          269
         ],
         "xaxis": "x",
         "y": [
          2.9700947523117067,
          4.068268752098083,
          3.4492257118225096,
          2.5466698169708253,
          3.3689355134963987,
          4.248704552650452
         ],
         "yaxis": "y"
        },
        {
         "customdata": [
          [
           414,
           "E"
          ],
          [
           414,
           "E"
          ]
         ],
         "hovertemplate": "Interacting Chain=alpha-tubulin<br>aa_classification=negatively charged<br>Residue Index=%{x}<br>Distance (angstroms)=%{y}<br>residue_one_letter=%{text}<br>interacting_resinumber=%{customdata[0]}<br>interactingresi_oneletter=%{customdata[1]}<extra></extra>",
         "legendgroup": "alpha-tubulin, negatively charged",
         "marker": {
          "color": "#ff7f0e",
          "opacity": 0.6,
          "size": 10,
          "symbol": "triangle-down"
         },
         "mode": "markers+text",
         "name": "alpha-tubulin, negatively charged",
         "orientation": "v",
         "showlegend": true,
         "text": [
          "E",
          "E"
         ],
         "textposition": "top center",
         "type": "scatter",
         "x": [
          239,
          315
         ],
         "xaxis": "x",
         "y": [
          4.237135195732117,
          4.306164407730103
         ],
         "yaxis": "y"
        },
        {
         "customdata": [
          [
           157,
           "E"
          ],
          [
           407,
           "E"
          ],
          [
           407,
           "E"
          ],
          [
           432,
           "E"
          ],
          [
           424,
           "Q"
          ],
          [
           417,
           "D"
          ],
          [
           194,
           "E"
          ],
          [
           410,
           "E"
          ],
          [
           436,
           "F"
          ]
         ],
         "hovertemplate": "Interacting Chain=beta-tubulin<br>aa_classification=positively charged<br>Residue Index=%{x}<br>Distance (angstroms)=%{y}<br>residue_one_letter=%{text}<br>interacting_resinumber=%{customdata[0]}<br>interactingresi_oneletter=%{customdata[1]}<extra></extra>",
         "legendgroup": "beta-tubulin, positively charged",
         "marker": {
          "color": "#2ca02c",
          "opacity": 0.6,
          "size": 10,
          "symbol": "triangle-up"
         },
         "mode": "markers+text",
         "name": "beta-tubulin, positively charged",
         "orientation": "v",
         "showlegend": true,
         "text": [
          "R",
          "K",
          "R",
          "K",
          "H",
          "R",
          "K",
          "R",
          "R"
         ],
         "textposition": "top center",
         "type": "scatter",
         "x": [
          144,
          157,
          159,
          275,
          278,
          282,
          285,
          288,
          325
         ],
         "xaxis": "x",
         "y": [
          2.603360056877136,
          3.449798822402954,
          3.03724045753479,
          3.4231210708618165,
          2.8688048124313354,
          2.461688065528869,
          3.560118532180786,
          3.566113305091858,
          4.285026478767395
         ],
         "yaxis": "y"
        },
        {
         "customdata": [
          [
           410,
           "E"
          ],
          [
           406,
           "M"
          ]
         ],
         "hovertemplate": "Interacting Chain=beta-tubulin<br>aa_classification=nonpolar<br>Residue Index=%{x}<br>Distance (angstroms)=%{y}<br>residue_one_letter=%{text}<br>interacting_resinumber=%{customdata[0]}<br>interactingresi_oneletter=%{customdata[1]}<extra></extra>",
         "legendgroup": "beta-tubulin, nonpolar",
         "marker": {
          "color": "#2ca02c",
          "opacity": 0.6,
          "size": 10,
          "symbol": "circle"
         },
         "mode": "markers+text",
         "name": "beta-tubulin, nonpolar",
         "orientation": "v",
         "showlegend": true,
         "text": [
          "V",
          "W"
         ],
         "textposition": "top center",
         "type": "scatter",
         "x": [
          158,
          167
         ],
         "xaxis": "x",
         "y": [
          3.669753360748291,
          3.823030614852905
         ],
         "yaxis": "y"
        },
        {
         "customdata": [
          [
           424,
           "Q"
          ],
          [
           424,
           "Q"
          ]
         ],
         "hovertemplate": "Interacting Chain=beta-tubulin<br>aa_classification=polar uncharged<br>Residue Index=%{x}<br>Distance (angstroms)=%{y}<br>residue_one_letter=%{text}<br>interacting_resinumber=%{customdata[0]}<br>interactingresi_oneletter=%{customdata[1]}<extra></extra>",
         "legendgroup": "beta-tubulin, polar uncharged",
         "marker": {
          "color": "#2ca02c",
          "opacity": 0.6,
          "size": 10,
          "symbol": "square"
         },
         "mode": "markers+text",
         "name": "beta-tubulin, polar uncharged",
         "orientation": "v",
         "showlegend": true,
         "text": [
          "S",
          "T"
         ],
         "textposition": "top center",
         "type": "scatter",
         "x": [
          276,
          277
         ],
         "xaxis": "x",
         "y": [
          3.5755556344985964,
          3.5081250429153443
         ],
         "yaxis": "y"
        },
        {
         "customdata": [
          [
           413,
           "S"
          ],
          [
           406,
           "M"
          ],
          [
           262,
           "R"
          ]
         ],
         "hovertemplate": "Interacting Chain=beta-tubulin<br>aa_classification=negatively charged<br>Residue Index=%{x}<br>Distance (angstroms)=%{y}<br>residue_one_letter=%{text}<br>interacting_resinumber=%{customdata[0]}<br>interactingresi_oneletter=%{customdata[1]}<extra></extra>",
         "legendgroup": "beta-tubulin, negatively charged",
         "marker": {
          "color": "#2ca02c",
          "opacity": 0.6,
          "size": 10,
          "symbol": "triangle-down"
         },
         "mode": "markers+text",
         "name": "beta-tubulin, negatively charged",
         "orientation": "v",
         "showlegend": true,
         "text": [
          "E",
          "E",
          "D"
         ],
         "textposition": "top center",
         "type": "scatter",
         "x": [
          160,
          169,
          283
         ],
         "xaxis": "x",
         "y": [
          3.270085072517395,
          3.861469578742981,
          3.2126027822494505
         ],
         "yaxis": "y"
        },
        {
         "customdata": [
          [
           1,
           "?"
          ],
          [
           1,
           "?"
          ],
          [
           1,
           "?"
          ]
         ],
         "hovertemplate": "Interacting Chain=ATP<br>aa_classification=positively charged<br>Residue Index=%{x}<br>Distance (angstroms)=%{y}<br>residue_one_letter=%{text}<br>interacting_resinumber=%{customdata[0]}<br>interactingresi_oneletter=%{customdata[1]}<extra></extra>",
         "legendgroup": "ATP, positively charged",
         "marker": {
          "color": "#d62728",
          "opacity": 0.6,
          "size": 10,
          "symbol": "triangle-up"
         },
         "mode": "markers+text",
         "name": "ATP, positively charged",
         "orientation": "v",
         "showlegend": true,
         "text": [
          "R",
          "R",
          "K"
         ],
         "textposition": "top center",
         "type": "scatter",
         "x": [
          9,
          11,
          91
         ],
         "xaxis": "x",
         "y": [
          3.695200276374817,
          3.665112519264221,
          2.687024688720703
         ],
         "yaxis": "y"
        },
        {
         "customdata": [
          [
           1,
           "?"
          ],
          [
           1,
           "?"
          ],
          [
           1,
           "?"
          ],
          [
           1,
           "?"
          ],
          [
           1,
           "?"
          ],
          [
           1,
           "?"
          ],
          [
           1,
           "?"
          ]
         ],
         "hovertemplate": "Interacting Chain=ATP<br>aa_classification=nonpolar<br>Residue Index=%{x}<br>Distance (angstroms)=%{y}<br>residue_one_letter=%{text}<br>interacting_resinumber=%{customdata[0]}<br>interactingresi_oneletter=%{customdata[1]}<extra></extra>",
         "legendgroup": "ATP, nonpolar",
         "marker": {
          "color": "#d62728",
          "opacity": 0.6,
          "size": 10,
          "symbol": "circle"
         },
         "mode": "markers+text",
         "name": "ATP, nonpolar",
         "orientation": "v",
         "showlegend": true,
         "text": [
          "P",
          "G",
          "G",
          "F",
          "L",
          "A",
          "G"
         ],
         "textposition": "top center",
         "type": "scatter",
         "x": [
          12,
          88,
          90,
          93,
          235,
          236,
          237
         ],
         "xaxis": "x",
         "y": [
          3.6745458126068113,
          2.806225633621216,
          3.029023861885071,
          2.7144546508789062,
          4.370832538604736,
          3.835130500793457,
          2.8098355770111083
         ],
         "yaxis": "y"
        },
        {
         "customdata": [
          [
           1,
           "?"
          ],
          [
           1,
           "?"
          ],
          [
           1,
           "?"
          ],
          [
           1,
           "?"
          ],
          [
           1,
           "?"
          ]
         ],
         "hovertemplate": "Interacting Chain=ATP<br>aa_classification=polar uncharged<br>Residue Index=%{x}<br>Distance (angstroms)=%{y}<br>residue_one_letter=%{text}<br>interacting_resinumber=%{customdata[0]}<br>interactingresi_oneletter=%{customdata[1]}<extra></extra>",
         "legendgroup": "ATP, polar uncharged",
         "marker": {
          "color": "#d62728",
          "opacity": 0.6,
          "size": 10,
          "symbol": "square"
         },
         "mode": "markers+text",
         "name": "ATP, polar uncharged",
         "orientation": "v",
         "showlegend": true,
         "text": [
          "Q",
          "T",
          "S",
          "N",
          "S"
         ],
         "textposition": "top center",
         "type": "scatter",
         "x": [
          86,
          87,
          89,
          201,
          204
         ],
         "xaxis": "x",
         "y": [
          3.9097769975662233,
          2.5218859910964966,
          3.4044379711151125,
          3.023973298072815,
          2.912883758544922
         ],
         "yaxis": "y"
        },
        {
         "customdata": [
          [
           1,
           "?"
          ]
         ],
         "hovertemplate": "Interacting Chain=ATP<br>aa_classification=negatively charged<br>Residue Index=%{x}<br>Distance (angstroms)=%{y}<br>residue_one_letter=%{text}<br>interacting_resinumber=%{customdata[0]}<br>interactingresi_oneletter=%{customdata[1]}<extra></extra>",
         "legendgroup": "ATP, negatively charged",
         "marker": {
          "color": "#d62728",
          "opacity": 0.6,
          "size": 10,
          "symbol": "triangle-down"
         },
         "mode": "markers+text",
         "name": "ATP, negatively charged",
         "orientation": "v",
         "showlegend": true,
         "text": [
          "E"
         ],
         "textposition": "top center",
         "type": "scatter",
         "x": [
          203
         ],
         "xaxis": "x",
         "y": [
          3.974664378166199
         ],
         "yaxis": "y"
        }
       ],
       "layout": {
        "autosize": false,
        "height": 600,
        "legend": {
         "title": {
          "text": "Interacting Chain"
         },
         "tracegroupgap": 0
        },
        "shapes": [
         {
          "fillcolor": "LightSalmon",
          "layer": "below",
          "line": {
           "width": 0
          },
          "opacity": 0.3,
          "type": "rect",
          "x0": 0,
          "x1": 600,
          "y0": 0,
          "y1": 5
         }
        ],
        "template": {
         "data": {
          "bar": [
           {
            "error_x": {
             "color": "#2a3f5f"
            },
            "error_y": {
             "color": "#2a3f5f"
            },
            "marker": {
             "line": {
              "color": "#E5ECF6",
              "width": 0.5
             },
             "pattern": {
              "fillmode": "overlay",
              "size": 10,
              "solidity": 0.2
             }
            },
            "type": "bar"
           }
          ],
          "barpolar": [
           {
            "marker": {
             "line": {
              "color": "#E5ECF6",
              "width": 0.5
             },
             "pattern": {
              "fillmode": "overlay",
              "size": 10,
              "solidity": 0.2
             }
            },
            "type": "barpolar"
           }
          ],
          "carpet": [
           {
            "aaxis": {
             "endlinecolor": "#2a3f5f",
             "gridcolor": "white",
             "linecolor": "white",
             "minorgridcolor": "white",
             "startlinecolor": "#2a3f5f"
            },
            "baxis": {
             "endlinecolor": "#2a3f5f",
             "gridcolor": "white",
             "linecolor": "white",
             "minorgridcolor": "white",
             "startlinecolor": "#2a3f5f"
            },
            "type": "carpet"
           }
          ],
          "choropleth": [
           {
            "colorbar": {
             "outlinewidth": 0,
             "ticks": ""
            },
            "type": "choropleth"
           }
          ],
          "contour": [
           {
            "colorbar": {
             "outlinewidth": 0,
             "ticks": ""
            },
            "colorscale": [
             [
              0,
              "#0d0887"
             ],
             [
              0.1111111111111111,
              "#46039f"
             ],
             [
              0.2222222222222222,
              "#7201a8"
             ],
             [
              0.3333333333333333,
              "#9c179e"
             ],
             [
              0.4444444444444444,
              "#bd3786"
             ],
             [
              0.5555555555555556,
              "#d8576b"
             ],
             [
              0.6666666666666666,
              "#ed7953"
             ],
             [
              0.7777777777777778,
              "#fb9f3a"
             ],
             [
              0.8888888888888888,
              "#fdca26"
             ],
             [
              1,
              "#f0f921"
             ]
            ],
            "type": "contour"
           }
          ],
          "contourcarpet": [
           {
            "colorbar": {
             "outlinewidth": 0,
             "ticks": ""
            },
            "type": "contourcarpet"
           }
          ],
          "heatmap": [
           {
            "colorbar": {
             "outlinewidth": 0,
             "ticks": ""
            },
            "colorscale": [
             [
              0,
              "#0d0887"
             ],
             [
              0.1111111111111111,
              "#46039f"
             ],
             [
              0.2222222222222222,
              "#7201a8"
             ],
             [
              0.3333333333333333,
              "#9c179e"
             ],
             [
              0.4444444444444444,
              "#bd3786"
             ],
             [
              0.5555555555555556,
              "#d8576b"
             ],
             [
              0.6666666666666666,
              "#ed7953"
             ],
             [
              0.7777777777777778,
              "#fb9f3a"
             ],
             [
              0.8888888888888888,
              "#fdca26"
             ],
             [
              1,
              "#f0f921"
             ]
            ],
            "type": "heatmap"
           }
          ],
          "heatmapgl": [
           {
            "colorbar": {
             "outlinewidth": 0,
             "ticks": ""
            },
            "colorscale": [
             [
              0,
              "#0d0887"
             ],
             [
              0.1111111111111111,
              "#46039f"
             ],
             [
              0.2222222222222222,
              "#7201a8"
             ],
             [
              0.3333333333333333,
              "#9c179e"
             ],
             [
              0.4444444444444444,
              "#bd3786"
             ],
             [
              0.5555555555555556,
              "#d8576b"
             ],
             [
              0.6666666666666666,
              "#ed7953"
             ],
             [
              0.7777777777777778,
              "#fb9f3a"
             ],
             [
              0.8888888888888888,
              "#fdca26"
             ],
             [
              1,
              "#f0f921"
             ]
            ],
            "type": "heatmapgl"
           }
          ],
          "histogram": [
           {
            "marker": {
             "pattern": {
              "fillmode": "overlay",
              "size": 10,
              "solidity": 0.2
             }
            },
            "type": "histogram"
           }
          ],
          "histogram2d": [
           {
            "colorbar": {
             "outlinewidth": 0,
             "ticks": ""
            },
            "colorscale": [
             [
              0,
              "#0d0887"
             ],
             [
              0.1111111111111111,
              "#46039f"
             ],
             [
              0.2222222222222222,
              "#7201a8"
             ],
             [
              0.3333333333333333,
              "#9c179e"
             ],
             [
              0.4444444444444444,
              "#bd3786"
             ],
             [
              0.5555555555555556,
              "#d8576b"
             ],
             [
              0.6666666666666666,
              "#ed7953"
             ],
             [
              0.7777777777777778,
              "#fb9f3a"
             ],
             [
              0.8888888888888888,
              "#fdca26"
             ],
             [
              1,
              "#f0f921"
             ]
            ],
            "type": "histogram2d"
           }
          ],
          "histogram2dcontour": [
           {
            "colorbar": {
             "outlinewidth": 0,
             "ticks": ""
            },
            "colorscale": [
             [
              0,
              "#0d0887"
             ],
             [
              0.1111111111111111,
              "#46039f"
             ],
             [
              0.2222222222222222,
              "#7201a8"
             ],
             [
              0.3333333333333333,
              "#9c179e"
             ],
             [
              0.4444444444444444,
              "#bd3786"
             ],
             [
              0.5555555555555556,
              "#d8576b"
             ],
             [
              0.6666666666666666,
              "#ed7953"
             ],
             [
              0.7777777777777778,
              "#fb9f3a"
             ],
             [
              0.8888888888888888,
              "#fdca26"
             ],
             [
              1,
              "#f0f921"
             ]
            ],
            "type": "histogram2dcontour"
           }
          ],
          "mesh3d": [
           {
            "colorbar": {
             "outlinewidth": 0,
             "ticks": ""
            },
            "type": "mesh3d"
           }
          ],
          "parcoords": [
           {
            "line": {
             "colorbar": {
              "outlinewidth": 0,
              "ticks": ""
             }
            },
            "type": "parcoords"
           }
          ],
          "pie": [
           {
            "automargin": true,
            "type": "pie"
           }
          ],
          "scatter": [
           {
            "fillpattern": {
             "fillmode": "overlay",
             "size": 10,
             "solidity": 0.2
            },
            "type": "scatter"
           }
          ],
          "scatter3d": [
           {
            "line": {
             "colorbar": {
              "outlinewidth": 0,
              "ticks": ""
             }
            },
            "marker": {
             "colorbar": {
              "outlinewidth": 0,
              "ticks": ""
             }
            },
            "type": "scatter3d"
           }
          ],
          "scattercarpet": [
           {
            "marker": {
             "colorbar": {
              "outlinewidth": 0,
              "ticks": ""
             }
            },
            "type": "scattercarpet"
           }
          ],
          "scattergeo": [
           {
            "marker": {
             "colorbar": {
              "outlinewidth": 0,
              "ticks": ""
             }
            },
            "type": "scattergeo"
           }
          ],
          "scattergl": [
           {
            "marker": {
             "colorbar": {
              "outlinewidth": 0,
              "ticks": ""
             }
            },
            "type": "scattergl"
           }
          ],
          "scattermapbox": [
           {
            "marker": {
             "colorbar": {
              "outlinewidth": 0,
              "ticks": ""
             }
            },
            "type": "scattermapbox"
           }
          ],
          "scatterpolar": [
           {
            "marker": {
             "colorbar": {
              "outlinewidth": 0,
              "ticks": ""
             }
            },
            "type": "scatterpolar"
           }
          ],
          "scatterpolargl": [
           {
            "marker": {
             "colorbar": {
              "outlinewidth": 0,
              "ticks": ""
             }
            },
            "type": "scatterpolargl"
           }
          ],
          "scatterternary": [
           {
            "marker": {
             "colorbar": {
              "outlinewidth": 0,
              "ticks": ""
             }
            },
            "type": "scatterternary"
           }
          ],
          "surface": [
           {
            "colorbar": {
             "outlinewidth": 0,
             "ticks": ""
            },
            "colorscale": [
             [
              0,
              "#0d0887"
             ],
             [
              0.1111111111111111,
              "#46039f"
             ],
             [
              0.2222222222222222,
              "#7201a8"
             ],
             [
              0.3333333333333333,
              "#9c179e"
             ],
             [
              0.4444444444444444,
              "#bd3786"
             ],
             [
              0.5555555555555556,
              "#d8576b"
             ],
             [
              0.6666666666666666,
              "#ed7953"
             ],
             [
              0.7777777777777778,
              "#fb9f3a"
             ],
             [
              0.8888888888888888,
              "#fdca26"
             ],
             [
              1,
              "#f0f921"
             ]
            ],
            "type": "surface"
           }
          ],
          "table": [
           {
            "cells": {
             "fill": {
              "color": "#EBF0F8"
             },
             "line": {
              "color": "white"
             }
            },
            "header": {
             "fill": {
              "color": "#C8D4E3"
             },
             "line": {
              "color": "white"
             }
            },
            "type": "table"
           }
          ]
         },
         "layout": {
          "annotationdefaults": {
           "arrowcolor": "#2a3f5f",
           "arrowhead": 0,
           "arrowwidth": 1
          },
          "autotypenumbers": "strict",
          "coloraxis": {
           "colorbar": {
            "outlinewidth": 0,
            "ticks": ""
           }
          },
          "colorscale": {
           "diverging": [
            [
             0,
             "#8e0152"
            ],
            [
             0.1,
             "#c51b7d"
            ],
            [
             0.2,
             "#de77ae"
            ],
            [
             0.3,
             "#f1b6da"
            ],
            [
             0.4,
             "#fde0ef"
            ],
            [
             0.5,
             "#f7f7f7"
            ],
            [
             0.6,
             "#e6f5d0"
            ],
            [
             0.7,
             "#b8e186"
            ],
            [
             0.8,
             "#7fbc41"
            ],
            [
             0.9,
             "#4d9221"
            ],
            [
             1,
             "#276419"
            ]
           ],
           "sequential": [
            [
             0,
             "#0d0887"
            ],
            [
             0.1111111111111111,
             "#46039f"
            ],
            [
             0.2222222222222222,
             "#7201a8"
            ],
            [
             0.3333333333333333,
             "#9c179e"
            ],
            [
             0.4444444444444444,
             "#bd3786"
            ],
            [
             0.5555555555555556,
             "#d8576b"
            ],
            [
             0.6666666666666666,
             "#ed7953"
            ],
            [
             0.7777777777777778,
             "#fb9f3a"
            ],
            [
             0.8888888888888888,
             "#fdca26"
            ],
            [
             1,
             "#f0f921"
            ]
           ],
           "sequentialminus": [
            [
             0,
             "#0d0887"
            ],
            [
             0.1111111111111111,
             "#46039f"
            ],
            [
             0.2222222222222222,
             "#7201a8"
            ],
            [
             0.3333333333333333,
             "#9c179e"
            ],
            [
             0.4444444444444444,
             "#bd3786"
            ],
            [
             0.5555555555555556,
             "#d8576b"
            ],
            [
             0.6666666666666666,
             "#ed7953"
            ],
            [
             0.7777777777777778,
             "#fb9f3a"
            ],
            [
             0.8888888888888888,
             "#fdca26"
            ],
            [
             1,
             "#f0f921"
            ]
           ]
          },
          "colorway": [
           "#636efa",
           "#EF553B",
           "#00cc96",
           "#ab63fa",
           "#FFA15A",
           "#19d3f3",
           "#FF6692",
           "#B6E880",
           "#FF97FF",
           "#FECB52"
          ],
          "font": {
           "color": "#2a3f5f"
          },
          "geo": {
           "bgcolor": "white",
           "lakecolor": "white",
           "landcolor": "#E5ECF6",
           "showlakes": true,
           "showland": true,
           "subunitcolor": "white"
          },
          "hoverlabel": {
           "align": "left"
          },
          "hovermode": "closest",
          "mapbox": {
           "style": "light"
          },
          "paper_bgcolor": "white",
          "plot_bgcolor": "#E5ECF6",
          "polar": {
           "angularaxis": {
            "gridcolor": "white",
            "linecolor": "white",
            "ticks": ""
           },
           "bgcolor": "#E5ECF6",
           "radialaxis": {
            "gridcolor": "white",
            "linecolor": "white",
            "ticks": ""
           }
          },
          "scene": {
           "xaxis": {
            "backgroundcolor": "#E5ECF6",
            "gridcolor": "white",
            "gridwidth": 2,
            "linecolor": "white",
            "showbackground": true,
            "ticks": "",
            "zerolinecolor": "white"
           },
           "yaxis": {
            "backgroundcolor": "#E5ECF6",
            "gridcolor": "white",
            "gridwidth": 2,
            "linecolor": "white",
            "showbackground": true,
            "ticks": "",
            "zerolinecolor": "white"
           },
           "zaxis": {
            "backgroundcolor": "#E5ECF6",
            "gridcolor": "white",
            "gridwidth": 2,
            "linecolor": "white",
            "showbackground": true,
            "ticks": "",
            "zerolinecolor": "white"
           }
          },
          "shapedefaults": {
           "line": {
            "color": "#2a3f5f"
           }
          },
          "ternary": {
           "aaxis": {
            "gridcolor": "white",
            "linecolor": "white",
            "ticks": ""
           },
           "baxis": {
            "gridcolor": "white",
            "linecolor": "white",
            "ticks": ""
           },
           "bgcolor": "#E5ECF6",
           "caxis": {
            "gridcolor": "white",
            "linecolor": "white",
            "ticks": ""
           }
          },
          "title": {
           "x": 0.05
          },
          "xaxis": {
           "automargin": true,
           "gridcolor": "white",
           "linecolor": "white",
           "ticks": "",
           "title": {
            "standoff": 15
           },
           "zerolinecolor": "white",
           "zerolinewidth": 2
          },
          "yaxis": {
           "automargin": true,
           "gridcolor": "white",
           "linecolor": "white",
           "ticks": "",
           "title": {
            "standoff": 15
           },
           "zerolinecolor": "white",
           "zerolinewidth": 2
          }
         }
        },
        "title": {
         "text": "Interactions for H"
        },
        "width": 1600,
        "xaxis": {
         "anchor": "y",
         "domain": [
          0,
          1
         ],
         "dtick": 20,
         "range": [
          0,
          600
         ],
         "title": {
          "text": "Residue Index"
         }
        },
        "yaxis": {
         "anchor": "x",
         "domain": [
          0,
          1
         ],
         "range": [
          1.5,
          5
         ],
         "title": {
          "text": "Distance (angstroms)"
         }
        }
       }
      }
     },
     "metadata": {},
     "output_type": "display_data"
    }
   ],
   "source": [
    "# Define the path to the CSV file\n",
    "csv_file_path = \"../../data/3d_predictions/chimeras_5seeds/average_interactions_chimeras.csv\"\n",
    "\n",
    "# Process the DataFrame\n",
    "df_processed = process_dataframe(csv_file_path)\n",
    "\n",
    "# Define the threshold value for distance filtering\n",
    "distance_threshold = 4.5\n",
    "# Create and display the plots with specified x-axis range, interacting chains, and files to plot\n",
    "xaxis_range = [0, 600]  # Example x-axis range\n",
    "yaxis_range = [1.5, distance_threshold + 0.5]\n",
    "interacting_chains = ['ATP', 'beta-tubulin', 'alpha-tubulin', 'kinesin B']  # Example interacting chains to display\n",
    "\n",
    "files_to_plot = None#['A', 'H']  # Example files to plot\n",
    "\n",
    "plots = create_plots(df_processed, distance_threshold, xaxis_range=xaxis_range, yaxis_range=yaxis_range, interacting_chains=interacting_chains[:4], files_to_plot=files_to_plot, chimeras=True)\n"
   ]
  },
  {
   "cell_type": "code",
   "execution_count": null,
   "metadata": {},
   "outputs": [],
   "source": [
    "# def process_and_save_interactions(input_csv_path, output_csv_path):\n",
    "#     df = pd.read_csv(input_csv_path)\n",
    "\n",
    "#     df = df.loc[df['chain'] == 'A']\n",
    "\n",
    "#     # Select the shortest distance interaction for each resi and interacting_resinumber\n",
    "#     df = df.loc[df.groupby(['file', 'resi', 'interacting_resinumber'])['distance (angstroms)'].idxmin()]\n",
    "\n",
    "#     df['seed'] = df['file'].str.extract(r'_seed(\\d+)')[0].str.upper()\n",
    "#     df['file'] = df['file'].str.replace(r'_seed\\d+_model_0', '', regex=True).str.strip()\n",
    "\n",
    "#     # Create a column with a tuple that includes resi and interacting_resinumber for each unique\n",
    "#     df['resi_interacting_resinumber'] = df[['resi', 'interacting_resinumber']].apply(lambda x: (x['resi'], x['interacting_resinumber']), axis=1)\n",
    "\n",
    "#     # Process each unique file separately\n",
    "#     unique_files = df['file'].unique()\n",
    "#     dfs = []\n",
    "\n",
    "#     for file in unique_files:\n",
    "#         df_file = df[df['file'] == file]\n",
    "\n",
    "#         # Find the common interactions across all seeds of the current file\n",
    "#         common_interactions = df_file.groupby('seed')['resi_interacting_resinumber'].apply(set).reset_index()\n",
    "#         common_interactions = set.intersection(*common_interactions['resi_interacting_resinumber'])\n",
    "\n",
    "#         # Filter the DataFrame to keep only the common interactions\n",
    "#         df_file = df_file[df_file['resi_interacting_resinumber'].isin(common_interactions)]\n",
    "\n",
    "#         # Compute the average distance for each interacting pair across the seeds\n",
    "#         df_file = df_file.groupby(['file', 'chain', 'resi', 'resn', 'interacting_chain', 'interacting_resn', 'interacting_resinumber', 'residue_one_letter', 'interactingresi_oneletter'])['distance (angstroms)'].mean().reset_index()\n",
    "\n",
    "#         dfs.append(df_file)\n",
    "\n",
    "#     # Merge all the DataFrames\n",
    "#     df_final = pd.concat(dfs, ignore_index=True)\n",
    "\n",
    "#     # Now, we keep only those residues that interact with two or more unique chains\n",
    "#     chain_counts = df_final.groupby('resi')['interacting_resinumber'].nunique()\n",
    "#     dual_interactions = chain_counts[chain_counts >= 2].index\n",
    "\n",
    "#     # Filter the DataFrame to keep only residues with dual interactions\n",
    "#     df_final = df_final[df_final['resi'].isin(dual_interactions)]\n",
    "\n",
    "#     # Additionally, ensure that the final df only includes interactions with two or more chains\n",
    "#     df_final = df_final.groupby('resi').filter(lambda x: x['interacting_chain'].nunique() >= 2)\n",
    "\n",
    "#     # Save the final DataFrame\n",
    "#     df_final.to_csv(output_csv_path, index=False)\n",
    "\n",
    "#     # Optional: Mapping chain names\n",
    "#     chain_map = {\n",
    "#         'B': 'kinesin B',\n",
    "#         'C': 'alpha-tubulin',\n",
    "#         'D': 'beta-tubulin',\n",
    "#         'E': 'ATP',\n",
    "#         'F': 'ATP'\n",
    "#     }\n",
    "\n",
    "#     df_final['interacting_chain'] = df_final['interacting_chain'].map(chain_map)\n",
    "    \n",
    "#     return df_final\n",
    "\n",
    "# # Example usage\n",
    "# csv_file_path = \"../../data/3d_predictions/chimeras_5seeds/interactions_chimeras.csv\"\n",
    "# output_csv_path = \"../../data/3d_predictions/chimeras_5seeds/average_dual_interactions_chimeras.csv\"\n",
    "# df_dual_interactions = process_and_save_interactions(csv_file_path, output_csv_path)\n",
    "# df_dual_interactions\n"
   ]
  },
  {
   "cell_type": "code",
   "execution_count": null,
   "metadata": {},
   "outputs": [],
   "source": [
    "# # Define the path to the CSV file\n",
    "# csv_file_path = \"../../data/3d_predictions/chimeras_5seeds/average_dual_interactions_chimeras.csv\"\n",
    "\n",
    "# # Process the DataFrame\n",
    "# df_processed = process_dataframe(csv_file_path)\n",
    "\n",
    "# # Define the threshold value for distance filtering\n",
    "# distance_threshold = 7\n",
    "# # Create and display the plots with specified x-axis range, interacting chains, and files to plot\n",
    "# xaxis_range = [0, 600]  # Example x-axis range\n",
    "# yaxis_range = [1.5, distance_threshold + 0.5]\n",
    "# interacting_chains = ['ATP', 'beta-tubulin', 'alpha-tubulin', 'kinesin B']  # Example interacting chains to display\n",
    "\n",
    "# files_to_plot = None #['A', 'C', 'H']  # Example files to plot\n",
    "\n",
    "# plots = create_plots(df_processed, distance_threshold, xaxis_range=xaxis_range, yaxis_range=yaxis_range, interacting_chains=interacting_chains[:4], files_to_plot=files_to_plot, chimeras=True)\n"
   ]
  },
  {
   "cell_type": "code",
   "execution_count": null,
   "metadata": {},
   "outputs": [],
   "source": [
    "import plotly.express as px\n",
    "from ipywidgets import interact, FloatSlider, IntRangeSlider\n",
    "import numpy as np\n",
    "\n",
    "\n",
    "# Function to update the plot based on the distance threshold and resi range\n",
    "def update_plot(distance_threshold, resi_range):\n",
    "    \n",
    "\n",
    "    # Define marker_symbols and color_map\n",
    "    marker_symbols = {\n",
    "        'ATP': 'circle',\n",
    "        'beta-tubulin': 'square',\n",
    "        'alpha-tubulin': 'diamond',\n",
    "        'kinesin B': 'cross'\n",
    "    }\n",
    "\n",
    "    color_map = {\n",
    "        'kinesin B': '#1f77b4',  # blue\n",
    "        'alpha-tubulin': '#ff7f0e',  # orange\n",
    "        'beta-tubulin': '#2ca02c',  # green\n",
    "        'ATP': '#d62728',  # red\n",
    "    }\n",
    "\n",
    "    df_filtered = df_average[(df_average['distance (angstroms)'] <= distance_threshold) & \n",
    "                             (df_average['resi'] >= resi_range[0]) & \n",
    "                             (df_average['resi'] <= resi_range[1])]\n",
    "    df_avg_distance = df_filtered.groupby(['file', 'interacting_chain']).agg({\n",
    "        'distance (angstroms)': 'mean',\n",
    "        'resi': 'count',\n",
    "        'interactingresi_oneletter': lambda x: ', '.join(sorted(set(x)))\n",
    "    }).reset_index()\n",
    "    df_avg_distance = df_avg_distance.rename(columns={'resi': 'residues'})\n",
    "\n",
    "    # Sort the DataFrame by 'file' column to ensure alphabetical order\n",
    "    df_avg_distance = df_avg_distance.sort_values('file')\n",
    "\n",
    "    # Add jitter to x coordinates only\n",
    "    np.random.seed(42)  # Set a seed for consistency\n",
    "    jitter_x = np.random.uniform(-0.1, 0.2, size=len(df_avg_distance))\n",
    "    df_avg_distance['x_jittered'] = df_avg_distance['file'].astype('category').cat.codes + jitter_x\n",
    "\n",
    "    fig = px.scatter(df_avg_distance, x='x_jittered', y='distance (angstroms)', \n",
    "                     color='interacting_chain', symbol='interacting_chain',\n",
    "                     symbol_map=marker_symbols, color_discrete_map=color_map,\n",
    "                     category_orders={\"file\": sorted(df_avg_distance['file'].unique())},\n",
    "                     hover_data=['residues', 'file', 'distance (angstroms)', 'interactingresi_oneletter'],\n",
    "                     text='residues')  # Add 'residues' as text\n",
    "\n",
    "    fig.update_traces(marker=dict(size=10),\n",
    "                      textposition='middle right')  # Position the text to the right of the markers\n",
    "    fig.update_layout(title='Average Distance by File and Interacting Chain',\n",
    "                      xaxis_title='File',\n",
    "                      yaxis_title='Average Distance (Angstroms)',\n",
    "                      height=800,  # Increased height to make the plot taller\n",
    "                      xaxis=dict(tickmode='array', tickvals=list(range(len(df_avg_distance['file'].unique()))), ticktext=sorted(df_avg_distance['file'].unique())),\n",
    "                    #   yaxis=dict(range=[3, 4])\n",
    "                      )  \n",
    "    return fig\n",
    "\n",
    "# Create interactive sliders\n",
    "interact(update_plot, \n",
    "         distance_threshold=FloatSlider(value=4.2, min=0, max=10, step=0.01, description='Distance Threshold'),\n",
    "         resi_range=IntRangeSlider(value=[1, 600], min=1, max=600, step=1, description='Residue Range'))\n"
   ]
  },
  {
   "cell_type": "markdown",
   "metadata": {},
   "source": [
    "- from 318 to 600, B and F don't have interaction with alpha tubulin\n",
    "- from 1-141, F is the first to show interaction with alpha tubulin\n",
    "- from 329 to 401 you can see how A has the most interactions with itself, and is most flexible than B, C and D. Here E and G are farther away. HF and G are about the same as A but less interactions\n",
    "- if set to largest distance (7A), you can see how B and F have the least interactions with beta tubulin, which makes them interact closer."
   ]
  },
  {
   "cell_type": "markdown",
   "metadata": {},
   "source": [
    "## Now let's take a look at species seeds"
   ]
  },
  {
   "cell_type": "code",
   "execution_count": null,
   "metadata": {},
   "outputs": [],
   "source": [
    "# Function to generate plots without background color shapes\n",
    "def create_plots(df, distance_threshold, xaxis_range=None, yaxis_range=None, interacting_chains=None, files_to_plot=None):\n",
    "    unique_files = sorted(df['file'].unique())  # Sort the unique files alphabetically\n",
    "    plots = []\n",
    "\n",
    "    # Define a fixed color mapping for interacting chains\n",
    "    color_map = {\n",
    "        'kinesin B': '#1f77b4',  # blue\n",
    "        'alpha-tubulin': '#ff7f0e',  # orange\n",
    "        'beta-tubulin': '#2ca02c',  # green\n",
    "        'ATP': '#d62728',  # red\n",
    "    }\n",
    "\n",
    "    # Define a fixed order for the legend\n",
    "    legend_order = ['kinesin B', 'alpha-tubulin', 'beta-tubulin', 'ATP']\n",
    "\n",
    "    # Define marker shapes for amino acid classifications\n",
    "    shape_map = {\n",
    "        'nonpolar': 'circle',\n",
    "        'polar uncharged': 'square',\n",
    "        'positively charged': 'triangle-up',\n",
    "        'negatively charged': 'triangle-down'\n",
    "    }\n",
    "\n",
    "    # Filter the files to plot if specified\n",
    "    if files_to_plot:\n",
    "        unique_files = [file for file in unique_files if any(file.startswith(prefix) for prefix in files_to_plot)]\n",
    "\n",
    "    for file in unique_files:\n",
    "        df_file = df[df['file'] == file]\n",
    "\n",
    "        # Filter to get the shortest distances for each interaction\n",
    "        df_filtered = df_file.loc[df_file[df_file['chain'] == 'A'].groupby(['resi', 'interacting_chain'])['distance (angstroms)'].idxmin()]\n",
    "\n",
    "        # Filter by distance threshold\n",
    "        df_filtered = df_filtered[df_filtered['distance (angstroms)'] <= distance_threshold]\n",
    "\n",
    "        # Filter by interacting chains if specified\n",
    "        if interacting_chains:\n",
    "            df_filtered = df_filtered[df_filtered['interacting_chain'].isin(interacting_chains)]\n",
    "\n",
    "        # Create the interactive plot with consistent color mapping and shape mapping\n",
    "        fig = px.scatter(df_filtered, x='resi', y='distance (angstroms)', color='interacting_chain', text='residue_one_letter',\n",
    "                         symbol='aa_classification', symbol_map=shape_map,\n",
    "                         color_discrete_map=color_map,\n",
    "                         category_orders={'interacting_chain': legend_order},\n",
    "                         labels={'resi': 'Residue Index', 'distance (angstroms)': 'Distance (angstroms)', 'interacting_chain': 'Interacting Chain'},\n",
    "                         title=f\"Interactions for {file}\")\n",
    "\n",
    "        # Update layout for better visualization\n",
    "        fig.update_traces(textposition='top center', marker=dict(size=10, opacity=0.6))\n",
    "        fig.update_layout(\n",
    "            legend_title_text='Interacting Chain',\n",
    "            yaxis_range=yaxis_range if yaxis_range else [0.1, distance_threshold + 0.5]  # Set y-axis range based on input or default\n",
    "        )\n",
    "\n",
    "        # Set x-axis range if specified\n",
    "        if xaxis_range:\n",
    "            fig.update_layout(xaxis_range=xaxis_range)\n",
    "\n",
    "        # Add more ticks to the x-axis\n",
    "        fig.update_xaxes(dtick=20)\n",
    "\n",
    "        # Define plot size\n",
    "        fig.update_layout(autosize=False, width=1600, height=600)\n",
    "\n",
    "        # Show the plot\n",
    "        fig.show()\n",
    "\n",
    "        plots.append(fig)\n",
    "\n",
    "    return plots"
   ]
  },
  {
   "cell_type": "code",
   "execution_count": null,
   "metadata": {},
   "outputs": [],
   "source": [
    "# Define the path to the CSV file\n",
    "csv_file_path = \"../../data/3d_predictions/species_seeds/interactions_chimeras.csv\"\n",
    "\n",
    "# Process the DataFrame\n",
    "df_processed = process_dataframe(csv_file_path)\n",
    "\n",
    "# Define the threshold value for distance filtering\n",
    "distance_threshold = 4.2\n",
    "\n",
    "# Create and display the plots with specified x-axis range, interacting chains, and files to plot\n",
    "xaxis_range = [0, 600]  # Example x-axis range\n",
    "yaxis_range = [1.5, distance_threshold + 0.5]\n",
    "interacting_chains = ['ATP', 'beta-tubulin', 'alpha-tubulin', 'kinesin B']  # Example interacting chains to display\n",
    "\n",
    "files_to_plot =  None#['A', 'H']  # Example files to plot\n",
    "\n",
    "plots = create_plots(df_processed, distance_threshold, xaxis_range=xaxis_range, yaxis_range=yaxis_range, interacting_chains=interacting_chains[:4], files_to_plot=files_to_plot)\n"
   ]
  },
  {
   "cell_type": "code",
   "execution_count": 4,
   "metadata": {},
   "outputs": [
    {
     "data": {
      "text/html": [
       "<div>\n",
       "<style scoped>\n",
       "    .dataframe tbody tr th:only-of-type {\n",
       "        vertical-align: middle;\n",
       "    }\n",
       "\n",
       "    .dataframe tbody tr th {\n",
       "        vertical-align: top;\n",
       "    }\n",
       "\n",
       "    .dataframe thead th {\n",
       "        text-align: right;\n",
       "    }\n",
       "</style>\n",
       "<table border=\"1\" class=\"dataframe\">\n",
       "  <thead>\n",
       "    <tr style=\"text-align: right;\">\n",
       "      <th></th>\n",
       "      <th>file</th>\n",
       "      <th>chain</th>\n",
       "      <th>resi</th>\n",
       "      <th>resn</th>\n",
       "      <th>interacting_chain</th>\n",
       "      <th>interacting_resn</th>\n",
       "      <th>interacting_resinumber</th>\n",
       "      <th>residue_one_letter</th>\n",
       "      <th>interactingresi_oneletter</th>\n",
       "      <th>distance (angstroms)</th>\n",
       "    </tr>\n",
       "  </thead>\n",
       "  <tbody>\n",
       "    <tr>\n",
       "      <th>0</th>\n",
       "      <td>Acsu2</td>\n",
       "      <td>A</td>\n",
       "      <td>9</td>\n",
       "      <td>ARG</td>\n",
       "      <td>ATP</td>\n",
       "      <td>ATP</td>\n",
       "      <td>1</td>\n",
       "      <td>R</td>\n",
       "      <td>?</td>\n",
       "      <td>3.833171</td>\n",
       "    </tr>\n",
       "    <tr>\n",
       "      <th>1</th>\n",
       "      <td>Acsu2</td>\n",
       "      <td>A</td>\n",
       "      <td>10</td>\n",
       "      <td>PHE</td>\n",
       "      <td>ATP</td>\n",
       "      <td>ATP</td>\n",
       "      <td>1</td>\n",
       "      <td>F</td>\n",
       "      <td>?</td>\n",
       "      <td>4.914591</td>\n",
       "    </tr>\n",
       "    <tr>\n",
       "      <th>2</th>\n",
       "      <td>Acsu2</td>\n",
       "      <td>A</td>\n",
       "      <td>11</td>\n",
       "      <td>ARG</td>\n",
       "      <td>ATP</td>\n",
       "      <td>ATP</td>\n",
       "      <td>1</td>\n",
       "      <td>R</td>\n",
       "      <td>?</td>\n",
       "      <td>3.733138</td>\n",
       "    </tr>\n",
       "    <tr>\n",
       "      <th>3</th>\n",
       "      <td>Acsu2</td>\n",
       "      <td>A</td>\n",
       "      <td>12</td>\n",
       "      <td>PRO</td>\n",
       "      <td>ATP</td>\n",
       "      <td>ATP</td>\n",
       "      <td>1</td>\n",
       "      <td>P</td>\n",
       "      <td>?</td>\n",
       "      <td>3.663855</td>\n",
       "    </tr>\n",
       "    <tr>\n",
       "      <th>4</th>\n",
       "      <td>Acsu2</td>\n",
       "      <td>A</td>\n",
       "      <td>14</td>\n",
       "      <td>ASN</td>\n",
       "      <td>ATP</td>\n",
       "      <td>ATP</td>\n",
       "      <td>1</td>\n",
       "      <td>N</td>\n",
       "      <td>?</td>\n",
       "      <td>5.810327</td>\n",
       "    </tr>\n",
       "    <tr>\n",
       "      <th>...</th>\n",
       "      <td>...</td>\n",
       "      <td>...</td>\n",
       "      <td>...</td>\n",
       "      <td>...</td>\n",
       "      <td>...</td>\n",
       "      <td>...</td>\n",
       "      <td>...</td>\n",
       "      <td>...</td>\n",
       "      <td>...</td>\n",
       "      <td>...</td>\n",
       "    </tr>\n",
       "    <tr>\n",
       "      <th>6047</th>\n",
       "      <td>Tila</td>\n",
       "      <td>A</td>\n",
       "      <td>505</td>\n",
       "      <td>ILE</td>\n",
       "      <td>kinesin B</td>\n",
       "      <td>LEU</td>\n",
       "      <td>501</td>\n",
       "      <td>I</td>\n",
       "      <td>L</td>\n",
       "      <td>2.817382</td>\n",
       "    </tr>\n",
       "    <tr>\n",
       "      <th>6048</th>\n",
       "      <td>Tila</td>\n",
       "      <td>A</td>\n",
       "      <td>505</td>\n",
       "      <td>ILE</td>\n",
       "      <td>kinesin B</td>\n",
       "      <td>LYS</td>\n",
       "      <td>504</td>\n",
       "      <td>I</td>\n",
       "      <td>K</td>\n",
       "      <td>6.127687</td>\n",
       "    </tr>\n",
       "    <tr>\n",
       "      <th>6049</th>\n",
       "      <td>Tila</td>\n",
       "      <td>A</td>\n",
       "      <td>508</td>\n",
       "      <td>ASP</td>\n",
       "      <td>kinesin B</td>\n",
       "      <td>ILE</td>\n",
       "      <td>505</td>\n",
       "      <td>D</td>\n",
       "      <td>I</td>\n",
       "      <td>5.939484</td>\n",
       "    </tr>\n",
       "    <tr>\n",
       "      <th>6050</th>\n",
       "      <td>Tila</td>\n",
       "      <td>A</td>\n",
       "      <td>508</td>\n",
       "      <td>ASP</td>\n",
       "      <td>kinesin B</td>\n",
       "      <td>TYR</td>\n",
       "      <td>509</td>\n",
       "      <td>D</td>\n",
       "      <td>Y</td>\n",
       "      <td>3.978279</td>\n",
       "    </tr>\n",
       "    <tr>\n",
       "      <th>6051</th>\n",
       "      <td>Tila</td>\n",
       "      <td>A</td>\n",
       "      <td>509</td>\n",
       "      <td>TYR</td>\n",
       "      <td>kinesin B</td>\n",
       "      <td>ASP</td>\n",
       "      <td>508</td>\n",
       "      <td>Y</td>\n",
       "      <td>D</td>\n",
       "      <td>4.059799</td>\n",
       "    </tr>\n",
       "  </tbody>\n",
       "</table>\n",
       "<p>6052 rows × 10 columns</p>\n",
       "</div>"
      ],
      "text/plain": [
       "       file chain  resi resn interacting_chain interacting_resn  \\\n",
       "0     Acsu2     A     9  ARG               ATP              ATP   \n",
       "1     Acsu2     A    10  PHE               ATP              ATP   \n",
       "2     Acsu2     A    11  ARG               ATP              ATP   \n",
       "3     Acsu2     A    12  PRO               ATP              ATP   \n",
       "4     Acsu2     A    14  ASN               ATP              ATP   \n",
       "...     ...   ...   ...  ...               ...              ...   \n",
       "6047   Tila     A   505  ILE         kinesin B              LEU   \n",
       "6048   Tila     A   505  ILE         kinesin B              LYS   \n",
       "6049   Tila     A   508  ASP         kinesin B              ILE   \n",
       "6050   Tila     A   508  ASP         kinesin B              TYR   \n",
       "6051   Tila     A   509  TYR         kinesin B              ASP   \n",
       "\n",
       "      interacting_resinumber residue_one_letter interactingresi_oneletter  \\\n",
       "0                          1                  R                         ?   \n",
       "1                          1                  F                         ?   \n",
       "2                          1                  R                         ?   \n",
       "3                          1                  P                         ?   \n",
       "4                          1                  N                         ?   \n",
       "...                      ...                ...                       ...   \n",
       "6047                     501                  I                         L   \n",
       "6048                     504                  I                         K   \n",
       "6049                     505                  D                         I   \n",
       "6050                     509                  D                         Y   \n",
       "6051                     508                  Y                         D   \n",
       "\n",
       "      distance (angstroms)  \n",
       "0                 3.833171  \n",
       "1                 4.914591  \n",
       "2                 3.733138  \n",
       "3                 3.663855  \n",
       "4                 5.810327  \n",
       "...                    ...  \n",
       "6047              2.817382  \n",
       "6048              6.127687  \n",
       "6049              5.939484  \n",
       "6050              3.978279  \n",
       "6051              4.059799  \n",
       "\n",
       "[6052 rows x 10 columns]"
      ]
     },
     "execution_count": 4,
     "metadata": {},
     "output_type": "execute_result"
    }
   ],
   "source": [
    "def process_and_save_interactions(input_csv_path, output_csv_path):\n",
    "    df = pd.read_csv(input_csv_path)\n",
    "\n",
    "    df = df.loc[df['chain'] == 'A']\n",
    "\n",
    "    # Select the shortest distance interaction for each resi and interacting_resinumber\n",
    "    df = df.loc[df.groupby(['file', 'resi', 'interacting_resinumber'])['distance (angstroms)'].idxmin()]\n",
    "\n",
    "    df['seed'] = df['file'].str.extract(r'_seed(\\d+)')[0].str.upper()\n",
    "    df['file'] = df['file'].str.replace(r'_seed\\d+_model_0', '', regex=True).str.strip()\n",
    "\n",
    "    # Create a column with a tuple that includes resi and interacting_resinumber for each unique\n",
    "    df['resi_interacting_resinumber'] = df[['resi', 'interacting_resinumber']].apply(lambda x: (x['resi'], x['interacting_resinumber']), axis=1)\n",
    "\n",
    "    # Process each unique file separately\n",
    "    unique_files = df['file'].unique()\n",
    "    dfs = []\n",
    "\n",
    "    for file in unique_files:\n",
    "        df_file = df[df['file'] == file]\n",
    "\n",
    "        # Find the common interactions across all seeds of the current file\n",
    "        common_interactions = df_file.groupby('seed')['resi_interacting_resinumber'].apply(set).reset_index()\n",
    "        common_interactions = set.intersection(*common_interactions['resi_interacting_resinumber'])\n",
    "\n",
    "        # Filter the DataFrame to keep only the common interactions\n",
    "        df_file = df_file[df_file['resi_interacting_resinumber'].isin(common_interactions)]\n",
    "\n",
    "        # Compute the average distance for each interacting pair across the seeds\n",
    "        df_file = df_file.groupby(['file', 'chain', 'resi', 'resn', 'interacting_chain', 'interacting_resn', 'interacting_resinumber', 'residue_one_letter', 'interactingresi_oneletter'])['distance (angstroms)'].mean().reset_index()\n",
    "\n",
    "        dfs.append(df_file)\n",
    "\n",
    "    # Merge all the DataFrames\n",
    "    df_final = pd.concat(dfs, ignore_index=True)\n",
    "\n",
    "    # Save the final DataFrame\n",
    "    df_final.to_csv(output_csv_path, index=False)\n",
    "\n",
    "    chain_map = {\n",
    "        'B': 'kinesin B',\n",
    "        'C': 'alpha-tubulin',\n",
    "        'D': 'beta-tubulin',\n",
    "        'E': 'ATP',\n",
    "        'F': 'ATP'\n",
    "    }\n",
    "\n",
    "    df_final['interacting_chain'] = df_final['interacting_chain'].map(chain_map)\n",
    "    \n",
    "    return df_final\n",
    "\n",
    "  \n",
    "\n",
    "# Example usage\n",
    "csv_file_path = \"../../data/3d_predictions/species_seeds/interactions_chimeras.csv\"\n",
    "output_csv_path = \"../../data/3d_predictions/species_seeds/average_interactions_species.csv\"\n",
    "df_average = process_and_save_interactions(csv_file_path, output_csv_path)\n",
    "df_average"
   ]
  },
  {
   "cell_type": "code",
   "execution_count": 14,
   "metadata": {},
   "outputs": [
    {
     "data": {
      "application/vnd.plotly.v1+json": {
       "config": {
        "plotlyServerURL": "https://plot.ly"
       },
       "data": [
        {
         "customdata": [
          [
           339,
           "A"
          ],
          [
           336,
           "E"
          ],
          [
           352,
           "E"
          ],
          [
           391,
           "L"
          ],
          [
           399,
           "E"
          ],
          [
           406,
           "E"
          ],
          [
           408,
           "E"
          ],
          [
           355,
           "S"
          ],
          [
           430,
           "L"
          ],
          [
           437,
           "I"
          ],
          [
           441,
           "K"
          ],
          [
           436,
           "H"
          ],
          [
           464,
           "M"
          ],
          [
           488,
           "E"
          ]
         ],
         "hovertemplate": "Interacting Chain=kinesin B<br>aa_classification=positively charged<br>Residue Index=%{x}<br>Distance (angstroms)=%{y}<br>residue_one_letter=%{text}<br>interacting_resinumber=%{customdata[0]}<br>interactingresi_oneletter=%{customdata[1]}<extra></extra>",
         "legendgroup": "kinesin B, positively charged",
         "marker": {
          "color": "#1f77b4",
          "opacity": 0.6,
          "size": 10,
          "symbol": "triangle-up"
         },
         "mode": "markers+text",
         "name": "kinesin B, positively charged",
         "orientation": "v",
         "showlegend": true,
         "text": [
          "R",
          "K",
          "K",
          "K",
          "K",
          "K",
          "K",
          "K",
          "K",
          "H",
          "H",
          "K",
          "K",
          "K"
         ],
         "textposition": "top center",
         "type": "scatter",
         "x": [
          337,
          343,
          357,
          392,
          394,
          405,
          409,
          410,
          426,
          433,
          436,
          441,
          465,
          493
         ],
         "xaxis": "x",
         "y": [
          4.400817012786865,
          3.53658127784729,
          2.612032747268677,
          3.834843778610229,
          3.07000732421875,
          2.453341579437256,
          2.45275616645813,
          4.238768196105957,
          3.531234216690064,
          3.033205842971802,
          3.800152683258057,
          3.995278406143188,
          3.1877987384796143,
          3.0786152839660645
         ],
         "yaxis": "y"
        },
        {
         "customdata": [
          [
           342,
           "L"
          ],
          [
           339,
           "A"
          ],
          [
           346,
           "L"
          ],
          [
           345,
           "L"
          ],
          [
           353,
           "I"
          ],
          [
           353,
           "I"
          ],
          [
           360,
           "I"
          ],
          [
           356,
           "L"
          ],
          [
           363,
           "I"
          ],
          [
           388,
           "L"
          ],
          [
           395,
           "C"
          ],
          [
           402,
           "L"
          ],
          [
           402,
           "L"
          ],
          [
           359,
           "Y"
          ],
          [
           409,
           "K"
          ],
          [
           412,
           "L"
          ],
          [
           416,
           "L"
          ],
          [
           419,
           "Q"
          ],
          [
           423,
           "L"
          ],
          [
           430,
           "L"
          ],
          [
           433,
           "H"
          ],
          [
           433,
           "H"
          ],
          [
           437,
           "I"
          ],
          [
           451,
           "V"
          ],
          [
           450,
           "F"
          ],
          [
           461,
           "L"
          ],
          [
           457,
           "L"
          ],
          [
           464,
           "M"
          ],
          [
           465,
           "K"
          ],
          [
           468,
           "L"
          ],
          [
           471,
           "V"
          ],
          [
           478,
           "Q"
          ],
          [
           482,
           "I"
          ],
          [
           482,
           "I"
          ],
          [
           489,
           "N"
          ],
          [
           489,
           "N"
          ],
          [
           492,
           "L"
          ],
          [
           499,
           "A"
          ]
         ],
         "hovertemplate": "Interacting Chain=kinesin B<br>aa_classification=nonpolar<br>Residue Index=%{x}<br>Distance (angstroms)=%{y}<br>residue_one_letter=%{text}<br>interacting_resinumber=%{customdata[0]}<br>interactingresi_oneletter=%{customdata[1]}<extra></extra>",
         "legendgroup": "kinesin B, nonpolar",
         "marker": {
          "color": "#1f77b4",
          "opacity": 0.6,
          "size": 10,
          "symbol": "circle"
         },
         "mode": "markers+text",
         "name": "kinesin B, nonpolar",
         "orientation": "v",
         "showlegend": true,
         "text": [
          "A",
          "L",
          "L",
          "L",
          "A",
          "I",
          "L",
          "I",
          "I",
          "L",
          "L",
          "L",
          "L",
          "F",
          "L",
          "A",
          "L",
          "I",
          "L",
          "L",
          "I",
          "I",
          "L",
          "F",
          "V",
          "L",
          "L",
          "L",
          "M",
          "L",
          "V",
          "A",
          "L",
          "I",
          "L",
          "L",
          "L",
          "A"
         ],
         "textposition": "top center",
         "type": "scatter",
         "x": [
          339,
          342,
          345,
          346,
          349,
          353,
          356,
          360,
          363,
          388,
          391,
          398,
          402,
          403,
          412,
          413,
          416,
          420,
          423,
          430,
          434,
          437,
          440,
          450,
          451,
          457,
          458,
          461,
          464,
          468,
          471,
          475,
          481,
          482,
          485,
          492,
          496,
          499
         ],
         "xaxis": "x",
         "y": [
          3.285597085952759,
          3.321367597579956,
          3.554615974426269,
          3.460265779495239,
          3.5782864570617674,
          3.4361550331115724,
          3.3203068733215333,
          3.361368179321289,
          3.3590999603271485,
          3.196911239624024,
          3.7185721397399902,
          3.497966241836548,
          3.141463279724121,
          3.891426467895508,
          3.347971534729004,
          3.859231662750244,
          3.0978636264801027,
          3.267014169692993,
          3.028101778030396,
          3.2590426445007323,
          3.4214245319366454,
          3.1780334949493407,
          3.898724985122681,
          3.692221832275391,
          3.6381447315216064,
          3.389621448516846,
          3.686707448959351,
          3.3660656929016115,
          3.19656720161438,
          3.176721525192261,
          3.2904804706573487,
          2.9287757396698,
          3.842679834365845,
          3.305284929275513,
          3.1687982082366943,
          2.79199767112732,
          3.112030029296875,
          4.342688941955567
         ],
         "yaxis": "y"
        },
        {
         "customdata": [
          [
           364,
           "E"
          ],
          [
           395,
           "C"
          ],
          [
           402,
           "L"
          ],
          [
           416,
           "L"
          ],
          [
           423,
           "L"
          ],
          [
           423,
           "L"
          ],
          [
           447,
           "T"
          ],
          [
           457,
           "L"
          ],
          [
           461,
           "L"
          ],
          [
           468,
           "L"
          ],
          [
           471,
           "V"
          ],
          [
           475,
           "A"
          ],
          [
           478,
           "Q"
          ],
          [
           485,
           "L"
          ],
          [
           492,
           "L"
          ],
          [
           496,
           "L"
          ]
         ],
         "hovertemplate": "Interacting Chain=kinesin B<br>aa_classification=polar uncharged<br>Residue Index=%{x}<br>Distance (angstroms)=%{y}<br>residue_one_letter=%{text}<br>interacting_resinumber=%{customdata[0]}<br>interactingresi_oneletter=%{customdata[1]}<extra></extra>",
         "legendgroup": "kinesin B, polar uncharged",
         "marker": {
          "color": "#1f77b4",
          "opacity": 0.6,
          "size": 10,
          "symbol": "square"
         },
         "mode": "markers+text",
         "name": "kinesin B, polar uncharged",
         "orientation": "v",
         "showlegend": true,
         "text": [
          "Y",
          "C",
          "Q",
          "Q",
          "Q",
          "Q",
          "T",
          "S",
          "Q",
          "Q",
          "N",
          "Q",
          "S",
          "T",
          "N",
          "Q"
         ],
         "textposition": "top center",
         "type": "scatter",
         "x": [
          359,
          395,
          401,
          415,
          419,
          422,
          447,
          454,
          460,
          467,
          472,
          478,
          479,
          486,
          489,
          495
         ],
         "xaxis": "x",
         "y": [
          2.949331760406494,
          2.6744664192199705,
          3.425960683822632,
          3.218293523788452,
          3.2673974990844727,
          3.189168787002564,
          3.2599894046783446,
          3.406466197967529,
          3.9070334911346434,
          3.7836474895477297,
          3.280911684036255,
          2.966269874572754,
          3.211642122268677,
          3.5697031021118164,
          2.6308747291564942,
          3.732708883285522
         ],
         "yaxis": "y"
        },
        {
         "customdata": [
          [
           343,
           "K"
          ],
          [
           357,
           "K"
          ],
          [
           359,
           "Y"
          ],
          [
           388,
           "L"
          ],
          [
           388,
           "L"
          ],
          [
           394,
           "K"
          ],
          [
           405,
           "K"
          ],
          [
           409,
           "K"
          ],
          [
           348,
           "K"
          ],
          [
           426,
           "K"
          ],
          [
           430,
           "L"
          ],
          [
           444,
           "S"
          ],
          [
           454,
           "S"
          ],
          [
           493,
           "K"
          ]
         ],
         "hovertemplate": "Interacting Chain=kinesin B<br>aa_classification=negatively charged<br>Residue Index=%{x}<br>Distance (angstroms)=%{y}<br>residue_one_letter=%{text}<br>interacting_resinumber=%{customdata[0]}<br>interactingresi_oneletter=%{customdata[1]}<extra></extra>",
         "legendgroup": "kinesin B, negatively charged",
         "marker": {
          "color": "#1f77b4",
          "opacity": 0.6,
          "size": 10,
          "symbol": "triangle-down"
         },
         "mode": "markers+text",
         "name": "kinesin B, negatively charged",
         "orientation": "v",
         "showlegend": true,
         "text": [
          "E",
          "E",
          "E",
          "D",
          "D",
          "E",
          "E",
          "E",
          "E",
          "E",
          "E",
          "E",
          "E",
          "E"
         ],
         "textposition": "top center",
         "type": "scatter",
         "x": [
          336,
          352,
          364,
          384,
          387,
          399,
          406,
          408,
          414,
          427,
          429,
          443,
          453,
          488
         ],
         "xaxis": "x",
         "y": [
          3.290367126464844,
          2.784716320037842,
          3.3850645542144777,
          4.3641575336456295,
          4.335755157470703,
          3.422445154190064,
          2.3967586040496824,
          2.529769229888916,
          3.2904027462005616,
          3.2911544322967528,
          3.228657579421997,
          4.351446342468262,
          4.344143581390381,
          2.9251036167144777
         ],
         "yaxis": "y"
        },
        {
         "customdata": [
          [
           420,
           "E"
          ],
          [
           410,
           "G"
          ],
          [
           409,
           "V"
          ],
          [
           423,
           "E"
          ]
         ],
         "hovertemplate": "Interacting Chain=alpha-tubulin<br>aa_classification=positively charged<br>Residue Index=%{x}<br>Distance (angstroms)=%{y}<br>residue_one_letter=%{text}<br>interacting_resinumber=%{customdata[0]}<br>interactingresi_oneletter=%{customdata[1]}<extra></extra>",
         "legendgroup": "alpha-tubulin, positively charged",
         "marker": {
          "color": "#ff7f0e",
          "opacity": 0.6,
          "size": 10,
          "symbol": "triangle-up"
         },
         "mode": "markers+text",
         "name": "alpha-tubulin, positively charged",
         "orientation": "v",
         "showlegend": true,
         "text": [
          "K",
          "K",
          "K",
          "R"
         ],
         "textposition": "top center",
         "type": "scatter",
         "x": [
          238,
          253,
          257,
          319
         ],
         "xaxis": "x",
         "y": [
          2.551218795776367,
          3.2534008026123047,
          3.3567970752716065,
          3.085679721832276
         ],
         "yaxis": "y"
        },
        {
         "customdata": [
          [
           412,
           "G"
          ],
          [
           112,
           "K"
          ],
          [
           108,
           "Y"
          ],
          [
           420,
           "E"
          ]
         ],
         "hovertemplate": "Interacting Chain=alpha-tubulin<br>aa_classification=nonpolar<br>Residue Index=%{x}<br>Distance (angstroms)=%{y}<br>residue_one_letter=%{text}<br>interacting_resinumber=%{customdata[0]}<br>interactingresi_oneletter=%{customdata[1]}<extra></extra>",
         "legendgroup": "alpha-tubulin, nonpolar",
         "marker": {
          "color": "#ff7f0e",
          "opacity": 0.6,
          "size": 10,
          "symbol": "circle"
         },
         "mode": "markers+text",
         "name": "alpha-tubulin, nonpolar",
         "orientation": "v",
         "showlegend": true,
         "text": [
          "V",
          "A",
          "L",
          "V"
         ],
         "textposition": "top center",
         "type": "scatter",
         "x": [
          239,
          244,
          249,
          312
         ],
         "xaxis": "x",
         "y": [
          3.180771255493164,
          3.4290936946868897,
          4.470794868469239,
          4.045841598510743
         ],
         "yaxis": "y"
        },
        {
         "customdata": [
          [
           414,
           "E"
          ],
          [
           112,
           "K"
          ],
          [
           409,
           "V"
          ],
          [
           415,
           "E"
          ],
          [
           402,
           "R"
          ]
         ],
         "hovertemplate": "Interacting Chain=alpha-tubulin<br>aa_classification=polar uncharged<br>Residue Index=%{x}<br>Distance (angstroms)=%{y}<br>residue_one_letter=%{text}<br>interacting_resinumber=%{customdata[0]}<br>interactingresi_oneletter=%{customdata[1]}<extra></extra>",
         "legendgroup": "alpha-tubulin, polar uncharged",
         "marker": {
          "color": "#ff7f0e",
          "opacity": 0.6,
          "size": 10,
          "symbol": "square"
         },
         "mode": "markers+text",
         "name": "alpha-tubulin, polar uncharged",
         "orientation": "v",
         "showlegend": true,
         "text": [
          "S",
          "Q",
          "N",
          "S",
          "N"
         ],
         "textposition": "top center",
         "type": "scatter",
         "x": [
          236,
          245,
          256,
          260,
          264
         ],
         "xaxis": "x",
         "y": [
          3.153453254699707,
          4.260383033752442,
          3.465907430648804,
          2.4148309707641604,
          3.479779672622681
         ],
         "yaxis": "y"
        },
        {
         "customdata": [
          [
           414,
           "E"
          ],
          [
           414,
           "E"
          ]
         ],
         "hovertemplate": "Interacting Chain=alpha-tubulin<br>aa_classification=negatively charged<br>Residue Index=%{x}<br>Distance (angstroms)=%{y}<br>residue_one_letter=%{text}<br>interacting_resinumber=%{customdata[0]}<br>interactingresi_oneletter=%{customdata[1]}<extra></extra>",
         "legendgroup": "alpha-tubulin, negatively charged",
         "marker": {
          "color": "#ff7f0e",
          "opacity": 0.6,
          "size": 10,
          "symbol": "triangle-down"
         },
         "mode": "markers+text",
         "name": "alpha-tubulin, negatively charged",
         "orientation": "v",
         "showlegend": true,
         "text": [
          "E",
          "E"
         ],
         "textposition": "top center",
         "type": "scatter",
         "x": [
          237,
          313
         ],
         "xaxis": "x",
         "y": [
          4.284089851379394,
          4.460314464569092
         ],
         "yaxis": "y"
        },
        {
         "customdata": [
          [
           157,
           "E"
          ],
          [
           407,
           "E"
          ],
          [
           407,
           "E"
          ],
          [
           432,
           "E"
          ],
          [
           424,
           "Q"
          ],
          [
           417,
           "D"
          ],
          [
           194,
           "E"
          ],
          [
           410,
           "E"
          ],
          [
           436,
           "F"
          ]
         ],
         "hovertemplate": "Interacting Chain=beta-tubulin<br>aa_classification=positively charged<br>Residue Index=%{x}<br>Distance (angstroms)=%{y}<br>residue_one_letter=%{text}<br>interacting_resinumber=%{customdata[0]}<br>interactingresi_oneletter=%{customdata[1]}<extra></extra>",
         "legendgroup": "beta-tubulin, positively charged",
         "marker": {
          "color": "#2ca02c",
          "opacity": 0.6,
          "size": 10,
          "symbol": "triangle-up"
         },
         "mode": "markers+text",
         "name": "beta-tubulin, positively charged",
         "orientation": "v",
         "showlegend": true,
         "text": [
          "K",
          "K",
          "R",
          "K",
          "H",
          "R",
          "K",
          "R",
          "R"
         ],
         "textposition": "top center",
         "type": "scatter",
         "x": [
          142,
          155,
          157,
          273,
          276,
          280,
          283,
          286,
          323
         ],
         "xaxis": "x",
         "y": [
          2.6407225131988525,
          3.614161968231201,
          2.969114875793457,
          3.610182237625122,
          3.265318250656128,
          2.4992205142974853,
          3.253369235992432,
          3.793523740768433,
          4.391208839416504
         ],
         "yaxis": "y"
        },
        {
         "customdata": [
          [
           410,
           "E"
          ],
          [
           406,
           "M"
          ],
          [
           424,
           "Q"
          ]
         ],
         "hovertemplate": "Interacting Chain=beta-tubulin<br>aa_classification=nonpolar<br>Residue Index=%{x}<br>Distance (angstroms)=%{y}<br>residue_one_letter=%{text}<br>interacting_resinumber=%{customdata[0]}<br>interactingresi_oneletter=%{customdata[1]}<extra></extra>",
         "legendgroup": "beta-tubulin, nonpolar",
         "marker": {
          "color": "#2ca02c",
          "opacity": 0.6,
          "size": 10,
          "symbol": "circle"
         },
         "mode": "markers+text",
         "name": "beta-tubulin, nonpolar",
         "orientation": "v",
         "showlegend": true,
         "text": [
          "V",
          "W",
          "A"
         ],
         "textposition": "top center",
         "type": "scatter",
         "x": [
          156,
          165,
          275
         ],
         "xaxis": "x",
         "y": [
          3.4212231636047363,
          3.8638514995574953,
          3.5661684036254884
         ],
         "yaxis": "y"
        },
        {
         "customdata": [
          [
           424,
           "Q"
          ]
         ],
         "hovertemplate": "Interacting Chain=beta-tubulin<br>aa_classification=polar uncharged<br>Residue Index=%{x}<br>Distance (angstroms)=%{y}<br>residue_one_letter=%{text}<br>interacting_resinumber=%{customdata[0]}<br>interactingresi_oneletter=%{customdata[1]}<extra></extra>",
         "legendgroup": "beta-tubulin, polar uncharged",
         "marker": {
          "color": "#2ca02c",
          "opacity": 0.6,
          "size": 10,
          "symbol": "square"
         },
         "mode": "markers+text",
         "name": "beta-tubulin, polar uncharged",
         "orientation": "v",
         "showlegend": true,
         "text": [
          "S"
         ],
         "textposition": "top center",
         "type": "scatter",
         "x": [
          274
         ],
         "xaxis": "x",
         "y": [
          3.368938159942627
         ],
         "yaxis": "y"
        },
        {
         "customdata": [
          [
           413,
           "S"
          ],
          [
           406,
           "M"
          ],
          [
           262,
           "R"
          ]
         ],
         "hovertemplate": "Interacting Chain=beta-tubulin<br>aa_classification=negatively charged<br>Residue Index=%{x}<br>Distance (angstroms)=%{y}<br>residue_one_letter=%{text}<br>interacting_resinumber=%{customdata[0]}<br>interactingresi_oneletter=%{customdata[1]}<extra></extra>",
         "legendgroup": "beta-tubulin, negatively charged",
         "marker": {
          "color": "#2ca02c",
          "opacity": 0.6,
          "size": 10,
          "symbol": "triangle-down"
         },
         "mode": "markers+text",
         "name": "beta-tubulin, negatively charged",
         "orientation": "v",
         "showlegend": true,
         "text": [
          "E",
          "E",
          "D"
         ],
         "textposition": "top center",
         "type": "scatter",
         "x": [
          158,
          167,
          281
         ],
         "xaxis": "x",
         "y": [
          3.112113857269287,
          3.87903413772583,
          3.2592617988586428
         ],
         "yaxis": "y"
        },
        {
         "customdata": [
          [
           1,
           "?"
          ],
          [
           1,
           "?"
          ],
          [
           1,
           "?"
          ],
          [
           1,
           "?"
          ]
         ],
         "hovertemplate": "Interacting Chain=ATP<br>aa_classification=positively charged<br>Residue Index=%{x}<br>Distance (angstroms)=%{y}<br>residue_one_letter=%{text}<br>interacting_resinumber=%{customdata[0]}<br>interactingresi_oneletter=%{customdata[1]}<extra></extra>",
         "legendgroup": "ATP, positively charged",
         "marker": {
          "color": "#d62728",
          "opacity": 0.6,
          "size": 10,
          "symbol": "triangle-up"
         },
         "mode": "markers+text",
         "name": "ATP, positively charged",
         "orientation": "v",
         "showlegend": true,
         "text": [
          "R",
          "R",
          "K",
          "H"
         ],
         "textposition": "top center",
         "type": "scatter",
         "x": [
          9,
          11,
          91,
          93
         ],
         "xaxis": "x",
         "y": [
          3.820965051651001,
          3.58575291633606,
          2.8043418407440184,
          2.8342185497283934
         ],
         "yaxis": "y"
        },
        {
         "customdata": [
          [
           1,
           "?"
          ],
          [
           1,
           "?"
          ],
          [
           1,
           "?"
          ],
          [
           1,
           "?"
          ],
          [
           1,
           "?"
          ]
         ],
         "hovertemplate": "Interacting Chain=ATP<br>aa_classification=nonpolar<br>Residue Index=%{x}<br>Distance (angstroms)=%{y}<br>residue_one_letter=%{text}<br>interacting_resinumber=%{customdata[0]}<br>interactingresi_oneletter=%{customdata[1]}<extra></extra>",
         "legendgroup": "ATP, nonpolar",
         "marker": {
          "color": "#d62728",
          "opacity": 0.6,
          "size": 10,
          "symbol": "circle"
         },
         "mode": "markers+text",
         "name": "ATP, nonpolar",
         "orientation": "v",
         "showlegend": true,
         "text": [
          "P",
          "G",
          "L",
          "A",
          "G"
         ],
         "textposition": "top center",
         "type": "scatter",
         "x": [
          12,
          90,
          233,
          234,
          235
         ],
         "xaxis": "x",
         "y": [
          3.51891679763794,
          3.070506143569946,
          4.446093320846558,
          3.844435119628906,
          2.812947940826416
         ],
         "yaxis": "y"
        },
        {
         "customdata": [
          [
           1,
           "?"
          ],
          [
           1,
           "?"
          ],
          [
           1,
           "?"
          ],
          [
           1,
           "?"
          ],
          [
           1,
           "?"
          ],
          [
           1,
           "?"
          ]
         ],
         "hovertemplate": "Interacting Chain=ATP<br>aa_classification=polar uncharged<br>Residue Index=%{x}<br>Distance (angstroms)=%{y}<br>residue_one_letter=%{text}<br>interacting_resinumber=%{customdata[0]}<br>interactingresi_oneletter=%{customdata[1]}<extra></extra>",
         "legendgroup": "ATP, polar uncharged",
         "marker": {
          "color": "#d62728",
          "opacity": 0.6,
          "size": 10,
          "symbol": "square"
         },
         "mode": "markers+text",
         "name": "ATP, polar uncharged",
         "orientation": "v",
         "showlegend": true,
         "text": [
          "Q",
          "T",
          "S",
          "S",
          "N",
          "S"
         ],
         "textposition": "top center",
         "type": "scatter",
         "x": [
          86,
          87,
          88,
          89,
          199,
          202
         ],
         "xaxis": "x",
         "y": [
          3.797647619247437,
          2.4488903522491454,
          2.767180585861206,
          3.2980859756469725,
          3.065519618988037,
          2.8947534561157227
         ],
         "yaxis": "y"
        },
        {
         "customdata": [
          [
           1,
           "?"
          ]
         ],
         "hovertemplate": "Interacting Chain=ATP<br>aa_classification=negatively charged<br>Residue Index=%{x}<br>Distance (angstroms)=%{y}<br>residue_one_letter=%{text}<br>interacting_resinumber=%{customdata[0]}<br>interactingresi_oneletter=%{customdata[1]}<extra></extra>",
         "legendgroup": "ATP, negatively charged",
         "marker": {
          "color": "#d62728",
          "opacity": 0.6,
          "size": 10,
          "symbol": "triangle-down"
         },
         "mode": "markers+text",
         "name": "ATP, negatively charged",
         "orientation": "v",
         "showlegend": true,
         "text": [
          "E"
         ],
         "textposition": "top center",
         "type": "scatter",
         "x": [
          201
         ],
         "xaxis": "x",
         "y": [
          4.034192991256714
         ],
         "yaxis": "y"
        }
       ],
       "layout": {
        "autosize": false,
        "height": 600,
        "legend": {
         "title": {
          "text": "Interacting Chain"
         },
         "tracegroupgap": 0
        },
        "template": {
         "data": {
          "bar": [
           {
            "error_x": {
             "color": "#2a3f5f"
            },
            "error_y": {
             "color": "#2a3f5f"
            },
            "marker": {
             "line": {
              "color": "#E5ECF6",
              "width": 0.5
             },
             "pattern": {
              "fillmode": "overlay",
              "size": 10,
              "solidity": 0.2
             }
            },
            "type": "bar"
           }
          ],
          "barpolar": [
           {
            "marker": {
             "line": {
              "color": "#E5ECF6",
              "width": 0.5
             },
             "pattern": {
              "fillmode": "overlay",
              "size": 10,
              "solidity": 0.2
             }
            },
            "type": "barpolar"
           }
          ],
          "carpet": [
           {
            "aaxis": {
             "endlinecolor": "#2a3f5f",
             "gridcolor": "white",
             "linecolor": "white",
             "minorgridcolor": "white",
             "startlinecolor": "#2a3f5f"
            },
            "baxis": {
             "endlinecolor": "#2a3f5f",
             "gridcolor": "white",
             "linecolor": "white",
             "minorgridcolor": "white",
             "startlinecolor": "#2a3f5f"
            },
            "type": "carpet"
           }
          ],
          "choropleth": [
           {
            "colorbar": {
             "outlinewidth": 0,
             "ticks": ""
            },
            "type": "choropleth"
           }
          ],
          "contour": [
           {
            "colorbar": {
             "outlinewidth": 0,
             "ticks": ""
            },
            "colorscale": [
             [
              0,
              "#0d0887"
             ],
             [
              0.1111111111111111,
              "#46039f"
             ],
             [
              0.2222222222222222,
              "#7201a8"
             ],
             [
              0.3333333333333333,
              "#9c179e"
             ],
             [
              0.4444444444444444,
              "#bd3786"
             ],
             [
              0.5555555555555556,
              "#d8576b"
             ],
             [
              0.6666666666666666,
              "#ed7953"
             ],
             [
              0.7777777777777778,
              "#fb9f3a"
             ],
             [
              0.8888888888888888,
              "#fdca26"
             ],
             [
              1,
              "#f0f921"
             ]
            ],
            "type": "contour"
           }
          ],
          "contourcarpet": [
           {
            "colorbar": {
             "outlinewidth": 0,
             "ticks": ""
            },
            "type": "contourcarpet"
           }
          ],
          "heatmap": [
           {
            "colorbar": {
             "outlinewidth": 0,
             "ticks": ""
            },
            "colorscale": [
             [
              0,
              "#0d0887"
             ],
             [
              0.1111111111111111,
              "#46039f"
             ],
             [
              0.2222222222222222,
              "#7201a8"
             ],
             [
              0.3333333333333333,
              "#9c179e"
             ],
             [
              0.4444444444444444,
              "#bd3786"
             ],
             [
              0.5555555555555556,
              "#d8576b"
             ],
             [
              0.6666666666666666,
              "#ed7953"
             ],
             [
              0.7777777777777778,
              "#fb9f3a"
             ],
             [
              0.8888888888888888,
              "#fdca26"
             ],
             [
              1,
              "#f0f921"
             ]
            ],
            "type": "heatmap"
           }
          ],
          "heatmapgl": [
           {
            "colorbar": {
             "outlinewidth": 0,
             "ticks": ""
            },
            "colorscale": [
             [
              0,
              "#0d0887"
             ],
             [
              0.1111111111111111,
              "#46039f"
             ],
             [
              0.2222222222222222,
              "#7201a8"
             ],
             [
              0.3333333333333333,
              "#9c179e"
             ],
             [
              0.4444444444444444,
              "#bd3786"
             ],
             [
              0.5555555555555556,
              "#d8576b"
             ],
             [
              0.6666666666666666,
              "#ed7953"
             ],
             [
              0.7777777777777778,
              "#fb9f3a"
             ],
             [
              0.8888888888888888,
              "#fdca26"
             ],
             [
              1,
              "#f0f921"
             ]
            ],
            "type": "heatmapgl"
           }
          ],
          "histogram": [
           {
            "marker": {
             "pattern": {
              "fillmode": "overlay",
              "size": 10,
              "solidity": 0.2
             }
            },
            "type": "histogram"
           }
          ],
          "histogram2d": [
           {
            "colorbar": {
             "outlinewidth": 0,
             "ticks": ""
            },
            "colorscale": [
             [
              0,
              "#0d0887"
             ],
             [
              0.1111111111111111,
              "#46039f"
             ],
             [
              0.2222222222222222,
              "#7201a8"
             ],
             [
              0.3333333333333333,
              "#9c179e"
             ],
             [
              0.4444444444444444,
              "#bd3786"
             ],
             [
              0.5555555555555556,
              "#d8576b"
             ],
             [
              0.6666666666666666,
              "#ed7953"
             ],
             [
              0.7777777777777778,
              "#fb9f3a"
             ],
             [
              0.8888888888888888,
              "#fdca26"
             ],
             [
              1,
              "#f0f921"
             ]
            ],
            "type": "histogram2d"
           }
          ],
          "histogram2dcontour": [
           {
            "colorbar": {
             "outlinewidth": 0,
             "ticks": ""
            },
            "colorscale": [
             [
              0,
              "#0d0887"
             ],
             [
              0.1111111111111111,
              "#46039f"
             ],
             [
              0.2222222222222222,
              "#7201a8"
             ],
             [
              0.3333333333333333,
              "#9c179e"
             ],
             [
              0.4444444444444444,
              "#bd3786"
             ],
             [
              0.5555555555555556,
              "#d8576b"
             ],
             [
              0.6666666666666666,
              "#ed7953"
             ],
             [
              0.7777777777777778,
              "#fb9f3a"
             ],
             [
              0.8888888888888888,
              "#fdca26"
             ],
             [
              1,
              "#f0f921"
             ]
            ],
            "type": "histogram2dcontour"
           }
          ],
          "mesh3d": [
           {
            "colorbar": {
             "outlinewidth": 0,
             "ticks": ""
            },
            "type": "mesh3d"
           }
          ],
          "parcoords": [
           {
            "line": {
             "colorbar": {
              "outlinewidth": 0,
              "ticks": ""
             }
            },
            "type": "parcoords"
           }
          ],
          "pie": [
           {
            "automargin": true,
            "type": "pie"
           }
          ],
          "scatter": [
           {
            "fillpattern": {
             "fillmode": "overlay",
             "size": 10,
             "solidity": 0.2
            },
            "type": "scatter"
           }
          ],
          "scatter3d": [
           {
            "line": {
             "colorbar": {
              "outlinewidth": 0,
              "ticks": ""
             }
            },
            "marker": {
             "colorbar": {
              "outlinewidth": 0,
              "ticks": ""
             }
            },
            "type": "scatter3d"
           }
          ],
          "scattercarpet": [
           {
            "marker": {
             "colorbar": {
              "outlinewidth": 0,
              "ticks": ""
             }
            },
            "type": "scattercarpet"
           }
          ],
          "scattergeo": [
           {
            "marker": {
             "colorbar": {
              "outlinewidth": 0,
              "ticks": ""
             }
            },
            "type": "scattergeo"
           }
          ],
          "scattergl": [
           {
            "marker": {
             "colorbar": {
              "outlinewidth": 0,
              "ticks": ""
             }
            },
            "type": "scattergl"
           }
          ],
          "scattermapbox": [
           {
            "marker": {
             "colorbar": {
              "outlinewidth": 0,
              "ticks": ""
             }
            },
            "type": "scattermapbox"
           }
          ],
          "scatterpolar": [
           {
            "marker": {
             "colorbar": {
              "outlinewidth": 0,
              "ticks": ""
             }
            },
            "type": "scatterpolar"
           }
          ],
          "scatterpolargl": [
           {
            "marker": {
             "colorbar": {
              "outlinewidth": 0,
              "ticks": ""
             }
            },
            "type": "scatterpolargl"
           }
          ],
          "scatterternary": [
           {
            "marker": {
             "colorbar": {
              "outlinewidth": 0,
              "ticks": ""
             }
            },
            "type": "scatterternary"
           }
          ],
          "surface": [
           {
            "colorbar": {
             "outlinewidth": 0,
             "ticks": ""
            },
            "colorscale": [
             [
              0,
              "#0d0887"
             ],
             [
              0.1111111111111111,
              "#46039f"
             ],
             [
              0.2222222222222222,
              "#7201a8"
             ],
             [
              0.3333333333333333,
              "#9c179e"
             ],
             [
              0.4444444444444444,
              "#bd3786"
             ],
             [
              0.5555555555555556,
              "#d8576b"
             ],
             [
              0.6666666666666666,
              "#ed7953"
             ],
             [
              0.7777777777777778,
              "#fb9f3a"
             ],
             [
              0.8888888888888888,
              "#fdca26"
             ],
             [
              1,
              "#f0f921"
             ]
            ],
            "type": "surface"
           }
          ],
          "table": [
           {
            "cells": {
             "fill": {
              "color": "#EBF0F8"
             },
             "line": {
              "color": "white"
             }
            },
            "header": {
             "fill": {
              "color": "#C8D4E3"
             },
             "line": {
              "color": "white"
             }
            },
            "type": "table"
           }
          ]
         },
         "layout": {
          "annotationdefaults": {
           "arrowcolor": "#2a3f5f",
           "arrowhead": 0,
           "arrowwidth": 1
          },
          "autotypenumbers": "strict",
          "coloraxis": {
           "colorbar": {
            "outlinewidth": 0,
            "ticks": ""
           }
          },
          "colorscale": {
           "diverging": [
            [
             0,
             "#8e0152"
            ],
            [
             0.1,
             "#c51b7d"
            ],
            [
             0.2,
             "#de77ae"
            ],
            [
             0.3,
             "#f1b6da"
            ],
            [
             0.4,
             "#fde0ef"
            ],
            [
             0.5,
             "#f7f7f7"
            ],
            [
             0.6,
             "#e6f5d0"
            ],
            [
             0.7,
             "#b8e186"
            ],
            [
             0.8,
             "#7fbc41"
            ],
            [
             0.9,
             "#4d9221"
            ],
            [
             1,
             "#276419"
            ]
           ],
           "sequential": [
            [
             0,
             "#0d0887"
            ],
            [
             0.1111111111111111,
             "#46039f"
            ],
            [
             0.2222222222222222,
             "#7201a8"
            ],
            [
             0.3333333333333333,
             "#9c179e"
            ],
            [
             0.4444444444444444,
             "#bd3786"
            ],
            [
             0.5555555555555556,
             "#d8576b"
            ],
            [
             0.6666666666666666,
             "#ed7953"
            ],
            [
             0.7777777777777778,
             "#fb9f3a"
            ],
            [
             0.8888888888888888,
             "#fdca26"
            ],
            [
             1,
             "#f0f921"
            ]
           ],
           "sequentialminus": [
            [
             0,
             "#0d0887"
            ],
            [
             0.1111111111111111,
             "#46039f"
            ],
            [
             0.2222222222222222,
             "#7201a8"
            ],
            [
             0.3333333333333333,
             "#9c179e"
            ],
            [
             0.4444444444444444,
             "#bd3786"
            ],
            [
             0.5555555555555556,
             "#d8576b"
            ],
            [
             0.6666666666666666,
             "#ed7953"
            ],
            [
             0.7777777777777778,
             "#fb9f3a"
            ],
            [
             0.8888888888888888,
             "#fdca26"
            ],
            [
             1,
             "#f0f921"
            ]
           ]
          },
          "colorway": [
           "#636efa",
           "#EF553B",
           "#00cc96",
           "#ab63fa",
           "#FFA15A",
           "#19d3f3",
           "#FF6692",
           "#B6E880",
           "#FF97FF",
           "#FECB52"
          ],
          "font": {
           "color": "#2a3f5f"
          },
          "geo": {
           "bgcolor": "white",
           "lakecolor": "white",
           "landcolor": "#E5ECF6",
           "showlakes": true,
           "showland": true,
           "subunitcolor": "white"
          },
          "hoverlabel": {
           "align": "left"
          },
          "hovermode": "closest",
          "mapbox": {
           "style": "light"
          },
          "paper_bgcolor": "white",
          "plot_bgcolor": "#E5ECF6",
          "polar": {
           "angularaxis": {
            "gridcolor": "white",
            "linecolor": "white",
            "ticks": ""
           },
           "bgcolor": "#E5ECF6",
           "radialaxis": {
            "gridcolor": "white",
            "linecolor": "white",
            "ticks": ""
           }
          },
          "scene": {
           "xaxis": {
            "backgroundcolor": "#E5ECF6",
            "gridcolor": "white",
            "gridwidth": 2,
            "linecolor": "white",
            "showbackground": true,
            "ticks": "",
            "zerolinecolor": "white"
           },
           "yaxis": {
            "backgroundcolor": "#E5ECF6",
            "gridcolor": "white",
            "gridwidth": 2,
            "linecolor": "white",
            "showbackground": true,
            "ticks": "",
            "zerolinecolor": "white"
           },
           "zaxis": {
            "backgroundcolor": "#E5ECF6",
            "gridcolor": "white",
            "gridwidth": 2,
            "linecolor": "white",
            "showbackground": true,
            "ticks": "",
            "zerolinecolor": "white"
           }
          },
          "shapedefaults": {
           "line": {
            "color": "#2a3f5f"
           }
          },
          "ternary": {
           "aaxis": {
            "gridcolor": "white",
            "linecolor": "white",
            "ticks": ""
           },
           "baxis": {
            "gridcolor": "white",
            "linecolor": "white",
            "ticks": ""
           },
           "bgcolor": "#E5ECF6",
           "caxis": {
            "gridcolor": "white",
            "linecolor": "white",
            "ticks": ""
           }
          },
          "title": {
           "x": 0.05
          },
          "xaxis": {
           "automargin": true,
           "gridcolor": "white",
           "linecolor": "white",
           "ticks": "",
           "title": {
            "standoff": 15
           },
           "zerolinecolor": "white",
           "zerolinewidth": 2
          },
          "yaxis": {
           "automargin": true,
           "gridcolor": "white",
           "linecolor": "white",
           "ticks": "",
           "title": {
            "standoff": 15
           },
           "zerolinecolor": "white",
           "zerolinewidth": 2
          }
         }
        },
        "title": {
         "text": "Interactions for Acsu"
        },
        "width": 1600,
        "xaxis": {
         "anchor": "y",
         "domain": [
          0,
          1
         ],
         "dtick": 20,
         "range": [
          0,
          600
         ],
         "title": {
          "text": "Residue Index"
         }
        },
        "yaxis": {
         "anchor": "x",
         "domain": [
          0,
          1
         ],
         "range": [
          1.5,
          5
         ],
         "title": {
          "text": "Distance (angstroms)"
         }
        }
       }
      }
     },
     "metadata": {},
     "output_type": "display_data"
    },
    {
     "data": {
      "application/vnd.plotly.v1+json": {
       "config": {
        "plotlyServerURL": "https://plot.ly"
       },
       "data": [
        {
         "customdata": [
          [
           338,
           "A"
          ],
          [
           335,
           "E"
          ],
          [
           351,
           "E"
          ],
          [
           407,
           "L"
          ],
          [
           415,
           "E"
          ],
          [
           422,
           "E"
          ],
          [
           424,
           "E"
          ],
          [
           443,
           "E"
          ],
          [
           480,
           "L"
          ],
          [
           488,
           "K"
          ],
          [
           487,
           "K"
          ],
          [
           504,
           "E"
          ]
         ],
         "hovertemplate": "Interacting Chain=kinesin B<br>aa_classification=positively charged<br>Residue Index=%{x}<br>Distance (angstroms)=%{y}<br>residue_one_letter=%{text}<br>interacting_resinumber=%{customdata[0]}<br>interactingresi_oneletter=%{customdata[1]}<extra></extra>",
         "legendgroup": "kinesin B, positively charged",
         "marker": {
          "color": "#1f77b4",
          "opacity": 0.6,
          "size": 10,
          "symbol": "triangle-up"
         },
         "mode": "markers+text",
         "name": "kinesin B, positively charged",
         "orientation": "v",
         "showlegend": true,
         "text": [
          "R",
          "K",
          "K",
          "K",
          "K",
          "K",
          "R",
          "K",
          "K",
          "K",
          "K",
          "K"
         ],
         "textposition": "top center",
         "type": "scatter",
         "x": [
          336,
          342,
          356,
          408,
          410,
          421,
          425,
          442,
          481,
          487,
          488,
          509
         ],
         "xaxis": "x",
         "y": [
          4.3510102272033695,
          3.2114728927612304,
          2.5151860237121584,
          3.765594100952149,
          2.769555616378784,
          2.4168607711791994,
          2.769743537902832,
          3.191045618057251,
          3.851969909667969,
          4.091796398162842,
          4.054358530044556,
          2.8771481990814207
         ],
         "yaxis": "y"
        },
        {
         "customdata": [
          [
           341,
           "L"
          ],
          [
           338,
           "A"
          ],
          [
           345,
           "L"
          ],
          [
           344,
           "L"
          ],
          [
           352,
           "I"
          ],
          [
           352,
           "I"
          ],
          [
           352,
           "I"
          ],
          [
           359,
           "T"
          ],
          [
           366,
           "T"
          ],
          [
           403,
           "D"
          ],
          [
           411,
           "C"
          ],
          [
           418,
           "L"
          ],
          [
           418,
           "L"
          ],
          [
           414,
           "L"
          ],
          [
           425,
           "R"
          ],
          [
           428,
           "L"
          ],
          [
           431,
           "Q"
          ],
          [
           435,
           "S"
          ],
          [
           439,
           "L"
          ],
          [
           442,
           "K"
          ],
          [
           449,
           "Q"
          ],
          [
           453,
           "Y"
          ],
          [
           453,
           "Y"
          ],
          [
           463,
           "L"
          ],
          [
           470,
           "N"
          ],
          [
           470,
           "N"
          ],
          [
           477,
           "V"
          ],
          [
           484,
           "L"
          ],
          [
           484,
           "L"
          ],
          [
           494,
           "Q"
          ],
          [
           498,
           "I"
          ],
          [
           498,
           "I"
          ],
          [
           505,
           "I"
          ],
          [
           501,
           "L"
          ],
          [
           509,
           "K"
          ]
         ],
         "hovertemplate": "Interacting Chain=kinesin B<br>aa_classification=nonpolar<br>Residue Index=%{x}<br>Distance (angstroms)=%{y}<br>residue_one_letter=%{text}<br>interacting_resinumber=%{customdata[0]}<br>interactingresi_oneletter=%{customdata[1]}<extra></extra>",
         "legendgroup": "kinesin B, nonpolar",
         "marker": {
          "color": "#1f77b4",
          "opacity": 0.6,
          "size": 10,
          "symbol": "circle"
         },
         "mode": "markers+text",
         "name": "kinesin B, nonpolar",
         "orientation": "v",
         "showlegend": true,
         "text": [
          "A",
          "L",
          "L",
          "L",
          "A",
          "I",
          "L",
          "L",
          "L",
          "M",
          "L",
          "L",
          "L",
          "L",
          "L",
          "L",
          "M",
          "L",
          "L",
          "L",
          "A",
          "L",
          "M",
          "L",
          "I",
          "L",
          "V",
          "L",
          "L",
          "A",
          "L",
          "I",
          "L",
          "I",
          "L"
         ],
         "textposition": "top center",
         "type": "scatter",
         "x": [
          338,
          341,
          344,
          345,
          348,
          352,
          355,
          362,
          365,
          404,
          407,
          414,
          417,
          418,
          428,
          429,
          432,
          436,
          439,
          446,
          450,
          452,
          456,
          463,
          466,
          473,
          477,
          480,
          484,
          491,
          497,
          498,
          501,
          505,
          508
         ],
         "xaxis": "x",
         "y": [
          3.184465312957764,
          3.04906497001648,
          3.3793619155883787,
          3.262652063369751,
          3.454725933074952,
          3.4286099433898927,
          3.792113971710205,
          3.644128894805908,
          4.159986686706543,
          3.4148316383361816,
          3.576028490066528,
          3.165786695480347,
          3.505824565887451,
          3.146939897537232,
          3.2701718330383303,
          3.4159109592437744,
          3.0702359676361084,
          3.877113485336304,
          2.876311779022217,
          3.1587916374206544,
          3.1418121337890623,
          3.3272215843200685,
          3.1862042427062987,
          3.123607349395752,
          3.033681774139404,
          3.214134168624878,
          3.259838914871216,
          3.595854377746582,
          3.1627685546875,
          3.202101707458496,
          3.924038410186768,
          3.5411381244659426,
          3.037426233291626,
          3.112907600402832,
          4.0021138191223145
         ],
         "yaxis": "y"
        },
        {
         "customdata": [
          [
           363,
           "E"
          ],
          [
           358,
           "Y"
          ],
          [
           366,
           "T"
          ],
          [
           404,
           "M"
          ],
          [
           411,
           "C"
          ],
          [
           432,
           "M"
          ],
          [
           439,
           "L"
          ],
          [
           439,
           "L"
          ],
          [
           450,
           "A"
          ],
          [
           456,
           "M"
          ],
          [
           456,
           "M"
          ],
          [
           456,
           "M"
          ],
          [
           463,
           "L"
          ],
          [
           466,
           "I"
          ],
          [
           466,
           "I"
          ],
          [
           473,
           "L"
          ],
          [
           477,
           "V"
          ],
          [
           484,
           "L"
          ],
          [
           494,
           "Q"
          ],
          [
           494,
           "Q"
          ],
          [
           501,
           "L"
          ]
         ],
         "hovertemplate": "Interacting Chain=kinesin B<br>aa_classification=polar uncharged<br>Residue Index=%{x}<br>Distance (angstroms)=%{y}<br>residue_one_letter=%{text}<br>interacting_resinumber=%{customdata[0]}<br>interactingresi_oneletter=%{customdata[1]}<extra></extra>",
         "legendgroup": "kinesin B, polar uncharged",
         "marker": {
          "color": "#1f77b4",
          "opacity": 0.6,
          "size": 10,
          "symbol": "square"
         },
         "mode": "markers+text",
         "name": "kinesin B, polar uncharged",
         "orientation": "v",
         "showlegend": true,
         "text": [
          "Y",
          "T",
          "T",
          "T",
          "C",
          "Q",
          "S",
          "Q",
          "Q",
          "Y",
          "Q",
          "T",
          "S",
          "S",
          "N",
          "T",
          "Q",
          "S",
          "Q",
          "S",
          "N"
         ],
         "textposition": "top center",
         "type": "scatter",
         "x": [
          358,
          359,
          366,
          400,
          411,
          431,
          435,
          438,
          449,
          453,
          457,
          460,
          464,
          467,
          470,
          474,
          476,
          483,
          494,
          495,
          502
         ],
         "xaxis": "x",
         "y": [
          2.8056390285491943,
          3.3326698780059814,
          2.8002333641052246,
          4.056535768508911,
          2.645597457885742,
          3.03466215133667,
          3.203573083877564,
          2.850478553771973,
          3.26314377784729,
          3.178220510482788,
          3.2550329208374023,
          3.567182111740112,
          4.468324756622314,
          3.756054592132569,
          2.6856435775756835,
          3.366469526290893,
          3.9098138332366954,
          3.3535014629364013,
          3.162509059906006,
          3.149961376190185,
          3.282487583160401
         ],
         "yaxis": "y"
        },
        {
         "customdata": [
          [
           342,
           "K"
          ],
          [
           356,
           "K"
          ],
          [
           358,
           "Y"
          ],
          [
           404,
           "M"
          ],
          [
           410,
           "K"
          ],
          [
           421,
           "K"
          ],
          [
           425,
           "R"
          ],
          [
           442,
           "K"
          ],
          [
           446,
           "L"
          ],
          [
           460,
           "T"
          ],
          [
           470,
           "N"
          ],
          [
           509,
           "K"
          ]
         ],
         "hovertemplate": "Interacting Chain=kinesin B<br>aa_classification=negatively charged<br>Residue Index=%{x}<br>Distance (angstroms)=%{y}<br>residue_one_letter=%{text}<br>interacting_resinumber=%{customdata[0]}<br>interactingresi_oneletter=%{customdata[1]}<extra></extra>",
         "legendgroup": "kinesin B, negatively charged",
         "marker": {
          "color": "#1f77b4",
          "opacity": 0.6,
          "size": 10,
          "symbol": "triangle-down"
         },
         "mode": "markers+text",
         "name": "kinesin B, negatively charged",
         "orientation": "v",
         "showlegend": true,
         "text": [
          "E",
          "E",
          "E",
          "D",
          "E",
          "E",
          "E",
          "E",
          "E",
          "E",
          "E",
          "E"
         ],
         "textposition": "top center",
         "type": "scatter",
         "x": [
          335,
          351,
          363,
          403,
          415,
          422,
          424,
          443,
          445,
          459,
          469,
          504
         ],
         "xaxis": "x",
         "y": [
          3.297956848144531,
          2.8198452949523927,
          2.9975356101989745,
          3.4052279472351072,
          2.70099892616272,
          2.41370906829834,
          2.773046636581421,
          3.2608084201812746,
          3.50482759475708,
          3.7071100234985352,
          3.5678974628448485,
          2.8305090427398683
         ],
         "yaxis": "y"
        },
        {
         "customdata": [
          [
           420,
           "E"
          ],
          [
           410,
           "G"
          ],
          [
           409,
           "V"
          ],
          [
           423,
           "E"
          ]
         ],
         "hovertemplate": "Interacting Chain=alpha-tubulin<br>aa_classification=positively charged<br>Residue Index=%{x}<br>Distance (angstroms)=%{y}<br>residue_one_letter=%{text}<br>interacting_resinumber=%{customdata[0]}<br>interactingresi_oneletter=%{customdata[1]}<extra></extra>",
         "legendgroup": "alpha-tubulin, positively charged",
         "marker": {
          "color": "#ff7f0e",
          "opacity": 0.6,
          "size": 10,
          "symbol": "triangle-up"
         },
         "mode": "markers+text",
         "name": "alpha-tubulin, positively charged",
         "orientation": "v",
         "showlegend": true,
         "text": [
          "K",
          "K",
          "K",
          "R"
         ],
         "textposition": "top center",
         "type": "scatter",
         "x": [
          237,
          252,
          256,
          318
         ],
         "xaxis": "x",
         "y": [
          2.537716293334961,
          3.275516319274902,
          3.380956840515137,
          2.968287897109985
         ],
         "yaxis": "y"
        },
        {
         "customdata": [
          [
           412,
           "G"
          ],
          [
           112,
           "K"
          ],
          [
           420,
           "E"
          ]
         ],
         "hovertemplate": "Interacting Chain=alpha-tubulin<br>aa_classification=nonpolar<br>Residue Index=%{x}<br>Distance (angstroms)=%{y}<br>residue_one_letter=%{text}<br>interacting_resinumber=%{customdata[0]}<br>interactingresi_oneletter=%{customdata[1]}<extra></extra>",
         "legendgroup": "alpha-tubulin, nonpolar",
         "marker": {
          "color": "#ff7f0e",
          "opacity": 0.6,
          "size": 10,
          "symbol": "circle"
         },
         "mode": "markers+text",
         "name": "alpha-tubulin, nonpolar",
         "orientation": "v",
         "showlegend": true,
         "text": [
          "V",
          "A",
          "V"
         ],
         "textposition": "top center",
         "type": "scatter",
         "x": [
          238,
          243,
          311
         ],
         "xaxis": "x",
         "y": [
          3.229936695098877,
          3.405689001083374,
          3.978176498413086
         ],
         "yaxis": "y"
        },
        {
         "customdata": [
          [
           414,
           "E"
          ],
          [
           112,
           "K"
          ],
          [
           409,
           "V"
          ],
          [
           415,
           "E"
          ],
          [
           402,
           "R"
          ]
         ],
         "hovertemplate": "Interacting Chain=alpha-tubulin<br>aa_classification=polar uncharged<br>Residue Index=%{x}<br>Distance (angstroms)=%{y}<br>residue_one_letter=%{text}<br>interacting_resinumber=%{customdata[0]}<br>interactingresi_oneletter=%{customdata[1]}<extra></extra>",
         "legendgroup": "alpha-tubulin, polar uncharged",
         "marker": {
          "color": "#ff7f0e",
          "opacity": 0.6,
          "size": 10,
          "symbol": "square"
         },
         "mode": "markers+text",
         "name": "alpha-tubulin, polar uncharged",
         "orientation": "v",
         "showlegend": true,
         "text": [
          "S",
          "Q",
          "N",
          "S",
          "N"
         ],
         "textposition": "top center",
         "type": "scatter",
         "x": [
          235,
          244,
          255,
          259,
          263
         ],
         "xaxis": "x",
         "y": [
          3.0018410682678223,
          4.229459571838379,
          3.460534954071045,
          2.491699695587158,
          3.550583553314209
         ],
         "yaxis": "y"
        },
        {
         "customdata": [
          [
           414,
           "E"
          ],
          [
           414,
           "E"
          ]
         ],
         "hovertemplate": "Interacting Chain=alpha-tubulin<br>aa_classification=negatively charged<br>Residue Index=%{x}<br>Distance (angstroms)=%{y}<br>residue_one_letter=%{text}<br>interacting_resinumber=%{customdata[0]}<br>interactingresi_oneletter=%{customdata[1]}<extra></extra>",
         "legendgroup": "alpha-tubulin, negatively charged",
         "marker": {
          "color": "#ff7f0e",
          "opacity": 0.6,
          "size": 10,
          "symbol": "triangle-down"
         },
         "mode": "markers+text",
         "name": "alpha-tubulin, negatively charged",
         "orientation": "v",
         "showlegend": true,
         "text": [
          "E",
          "E"
         ],
         "textposition": "top center",
         "type": "scatter",
         "x": [
          236,
          312
         ],
         "xaxis": "x",
         "y": [
          4.274222564697266,
          4.283798885345459
         ],
         "yaxis": "y"
        },
        {
         "customdata": [
          [
           157,
           "E"
          ],
          [
           407,
           "E"
          ],
          [
           404,
           "D"
          ],
          [
           432,
           "E"
          ],
          [
           424,
           "Q"
          ],
          [
           417,
           "D"
          ],
          [
           194,
           "E"
          ],
          [
           436,
           "F"
          ]
         ],
         "hovertemplate": "Interacting Chain=beta-tubulin<br>aa_classification=positively charged<br>Residue Index=%{x}<br>Distance (angstroms)=%{y}<br>residue_one_letter=%{text}<br>interacting_resinumber=%{customdata[0]}<br>interactingresi_oneletter=%{customdata[1]}<extra></extra>",
         "legendgroup": "beta-tubulin, positively charged",
         "marker": {
          "color": "#2ca02c",
          "opacity": 0.6,
          "size": 10,
          "symbol": "triangle-up"
         },
         "mode": "markers+text",
         "name": "beta-tubulin, positively charged",
         "orientation": "v",
         "showlegend": true,
         "text": [
          "K",
          "R",
          "R",
          "K",
          "H",
          "R",
          "K",
          "R"
         ],
         "textposition": "top center",
         "type": "scatter",
         "x": [
          141,
          154,
          156,
          272,
          275,
          279,
          282,
          322
         ],
         "xaxis": "x",
         "y": [
          2.677897548675537,
          2.423377704620361,
          2.556340980529785,
          3.632584047317505,
          2.905791044235229,
          2.378419351577759,
          3.9003583908081056,
          4.309513854980469
         ],
         "yaxis": "y"
        },
        {
         "customdata": [
          [
           410,
           "E"
          ],
          [
           406,
           "M"
          ]
         ],
         "hovertemplate": "Interacting Chain=beta-tubulin<br>aa_classification=nonpolar<br>Residue Index=%{x}<br>Distance (angstroms)=%{y}<br>residue_one_letter=%{text}<br>interacting_resinumber=%{customdata[0]}<br>interactingresi_oneletter=%{customdata[1]}<extra></extra>",
         "legendgroup": "beta-tubulin, nonpolar",
         "marker": {
          "color": "#2ca02c",
          "opacity": 0.6,
          "size": 10,
          "symbol": "circle"
         },
         "mode": "markers+text",
         "name": "beta-tubulin, nonpolar",
         "orientation": "v",
         "showlegend": true,
         "text": [
          "V",
          "W"
         ],
         "textposition": "top center",
         "type": "scatter",
         "x": [
          155,
          164
         ],
         "xaxis": "x",
         "y": [
          2.9104793071746826,
          3.9150235652923584
         ],
         "yaxis": "y"
        },
        {
         "customdata": [
          [
           424,
           "Q"
          ]
         ],
         "hovertemplate": "Interacting Chain=beta-tubulin<br>aa_classification=polar uncharged<br>Residue Index=%{x}<br>Distance (angstroms)=%{y}<br>residue_one_letter=%{text}<br>interacting_resinumber=%{customdata[0]}<br>interactingresi_oneletter=%{customdata[1]}<extra></extra>",
         "legendgroup": "beta-tubulin, polar uncharged",
         "marker": {
          "color": "#2ca02c",
          "opacity": 0.6,
          "size": 10,
          "symbol": "square"
         },
         "mode": "markers+text",
         "name": "beta-tubulin, polar uncharged",
         "orientation": "v",
         "showlegend": true,
         "text": [
          "S"
         ],
         "textposition": "top center",
         "type": "scatter",
         "x": [
          273
         ],
         "xaxis": "x",
         "y": [
          3.403544855117798
         ],
         "yaxis": "y"
        },
        {
         "customdata": [
          [
           413,
           "S"
          ],
          [
           406,
           "M"
          ],
          [
           262,
           "R"
          ]
         ],
         "hovertemplate": "Interacting Chain=beta-tubulin<br>aa_classification=negatively charged<br>Residue Index=%{x}<br>Distance (angstroms)=%{y}<br>residue_one_letter=%{text}<br>interacting_resinumber=%{customdata[0]}<br>interactingresi_oneletter=%{customdata[1]}<extra></extra>",
         "legendgroup": "beta-tubulin, negatively charged",
         "marker": {
          "color": "#2ca02c",
          "opacity": 0.6,
          "size": 10,
          "symbol": "triangle-down"
         },
         "mode": "markers+text",
         "name": "beta-tubulin, negatively charged",
         "orientation": "v",
         "showlegend": true,
         "text": [
          "E",
          "E",
          "D"
         ],
         "textposition": "top center",
         "type": "scatter",
         "x": [
          157,
          158,
          280
         ],
         "xaxis": "x",
         "y": [
          3.135458517074585,
          4.088525009155274,
          3.182217693328857
         ],
         "yaxis": "y"
        },
        {
         "customdata": [
          [
           1,
           "?"
          ],
          [
           1,
           "?"
          ],
          [
           1,
           "?"
          ],
          [
           1,
           "?"
          ]
         ],
         "hovertemplate": "Interacting Chain=ATP<br>aa_classification=positively charged<br>Residue Index=%{x}<br>Distance (angstroms)=%{y}<br>residue_one_letter=%{text}<br>interacting_resinumber=%{customdata[0]}<br>interactingresi_oneletter=%{customdata[1]}<extra></extra>",
         "legendgroup": "ATP, positively charged",
         "marker": {
          "color": "#d62728",
          "opacity": 0.6,
          "size": 10,
          "symbol": "triangle-up"
         },
         "mode": "markers+text",
         "name": "ATP, positively charged",
         "orientation": "v",
         "showlegend": true,
         "text": [
          "R",
          "R",
          "K",
          "H"
         ],
         "textposition": "top center",
         "type": "scatter",
         "x": [
          9,
          11,
          90,
          92
         ],
         "xaxis": "x",
         "y": [
          3.8331708908081055,
          3.733137512207031,
          2.8473723888397218,
          2.772549676895141
         ],
         "yaxis": "y"
        },
        {
         "customdata": [
          [
           1,
           "?"
          ],
          [
           1,
           "?"
          ],
          [
           1,
           "?"
          ],
          [
           1,
           "?"
          ],
          [
           1,
           "?"
          ]
         ],
         "hovertemplate": "Interacting Chain=ATP<br>aa_classification=nonpolar<br>Residue Index=%{x}<br>Distance (angstroms)=%{y}<br>residue_one_letter=%{text}<br>interacting_resinumber=%{customdata[0]}<br>interactingresi_oneletter=%{customdata[1]}<extra></extra>",
         "legendgroup": "ATP, nonpolar",
         "marker": {
          "color": "#d62728",
          "opacity": 0.6,
          "size": 10,
          "symbol": "circle"
         },
         "mode": "markers+text",
         "name": "ATP, nonpolar",
         "orientation": "v",
         "showlegend": true,
         "text": [
          "P",
          "G",
          "P",
          "A",
          "G"
         ],
         "textposition": "top center",
         "type": "scatter",
         "x": [
          12,
          89,
          97,
          233,
          234
         ],
         "xaxis": "x",
         "y": [
          3.6638550758361816,
          3.0359880447387697,
          4.239035034179688,
          4.014462089538574,
          3.017126750946045
         ],
         "yaxis": "y"
        },
        {
         "customdata": [
          [
           1,
           "?"
          ],
          [
           1,
           "?"
          ],
          [
           1,
           "?"
          ],
          [
           1,
           "?"
          ],
          [
           1,
           "?"
          ],
          [
           1,
           "?"
          ]
         ],
         "hovertemplate": "Interacting Chain=ATP<br>aa_classification=polar uncharged<br>Residue Index=%{x}<br>Distance (angstroms)=%{y}<br>residue_one_letter=%{text}<br>interacting_resinumber=%{customdata[0]}<br>interactingresi_oneletter=%{customdata[1]}<extra></extra>",
         "legendgroup": "ATP, polar uncharged",
         "marker": {
          "color": "#d62728",
          "opacity": 0.6,
          "size": 10,
          "symbol": "square"
         },
         "mode": "markers+text",
         "name": "ATP, polar uncharged",
         "orientation": "v",
         "showlegend": true,
         "text": [
          "Q",
          "T",
          "S",
          "S",
          "N",
          "S"
         ],
         "textposition": "top center",
         "type": "scatter",
         "x": [
          85,
          86,
          87,
          88,
          198,
          201
         ],
         "xaxis": "x",
         "y": [
          4.026090860366821,
          2.586122465133667,
          2.8653160095214845,
          3.3541776657104494,
          2.944499158859253,
          2.837014961242676
         ],
         "yaxis": "y"
        },
        {
         "customdata": [
          [
           1,
           "?"
          ]
         ],
         "hovertemplate": "Interacting Chain=ATP<br>aa_classification=negatively charged<br>Residue Index=%{x}<br>Distance (angstroms)=%{y}<br>residue_one_letter=%{text}<br>interacting_resinumber=%{customdata[0]}<br>interactingresi_oneletter=%{customdata[1]}<extra></extra>",
         "legendgroup": "ATP, negatively charged",
         "marker": {
          "color": "#d62728",
          "opacity": 0.6,
          "size": 10,
          "symbol": "triangle-down"
         },
         "mode": "markers+text",
         "name": "ATP, negatively charged",
         "orientation": "v",
         "showlegend": true,
         "text": [
          "E"
         ],
         "textposition": "top center",
         "type": "scatter",
         "x": [
          200
         ],
         "xaxis": "x",
         "y": [
          3.976524019241333
         ],
         "yaxis": "y"
        }
       ],
       "layout": {
        "autosize": false,
        "height": 600,
        "legend": {
         "title": {
          "text": "Interacting Chain"
         },
         "tracegroupgap": 0
        },
        "template": {
         "data": {
          "bar": [
           {
            "error_x": {
             "color": "#2a3f5f"
            },
            "error_y": {
             "color": "#2a3f5f"
            },
            "marker": {
             "line": {
              "color": "#E5ECF6",
              "width": 0.5
             },
             "pattern": {
              "fillmode": "overlay",
              "size": 10,
              "solidity": 0.2
             }
            },
            "type": "bar"
           }
          ],
          "barpolar": [
           {
            "marker": {
             "line": {
              "color": "#E5ECF6",
              "width": 0.5
             },
             "pattern": {
              "fillmode": "overlay",
              "size": 10,
              "solidity": 0.2
             }
            },
            "type": "barpolar"
           }
          ],
          "carpet": [
           {
            "aaxis": {
             "endlinecolor": "#2a3f5f",
             "gridcolor": "white",
             "linecolor": "white",
             "minorgridcolor": "white",
             "startlinecolor": "#2a3f5f"
            },
            "baxis": {
             "endlinecolor": "#2a3f5f",
             "gridcolor": "white",
             "linecolor": "white",
             "minorgridcolor": "white",
             "startlinecolor": "#2a3f5f"
            },
            "type": "carpet"
           }
          ],
          "choropleth": [
           {
            "colorbar": {
             "outlinewidth": 0,
             "ticks": ""
            },
            "type": "choropleth"
           }
          ],
          "contour": [
           {
            "colorbar": {
             "outlinewidth": 0,
             "ticks": ""
            },
            "colorscale": [
             [
              0,
              "#0d0887"
             ],
             [
              0.1111111111111111,
              "#46039f"
             ],
             [
              0.2222222222222222,
              "#7201a8"
             ],
             [
              0.3333333333333333,
              "#9c179e"
             ],
             [
              0.4444444444444444,
              "#bd3786"
             ],
             [
              0.5555555555555556,
              "#d8576b"
             ],
             [
              0.6666666666666666,
              "#ed7953"
             ],
             [
              0.7777777777777778,
              "#fb9f3a"
             ],
             [
              0.8888888888888888,
              "#fdca26"
             ],
             [
              1,
              "#f0f921"
             ]
            ],
            "type": "contour"
           }
          ],
          "contourcarpet": [
           {
            "colorbar": {
             "outlinewidth": 0,
             "ticks": ""
            },
            "type": "contourcarpet"
           }
          ],
          "heatmap": [
           {
            "colorbar": {
             "outlinewidth": 0,
             "ticks": ""
            },
            "colorscale": [
             [
              0,
              "#0d0887"
             ],
             [
              0.1111111111111111,
              "#46039f"
             ],
             [
              0.2222222222222222,
              "#7201a8"
             ],
             [
              0.3333333333333333,
              "#9c179e"
             ],
             [
              0.4444444444444444,
              "#bd3786"
             ],
             [
              0.5555555555555556,
              "#d8576b"
             ],
             [
              0.6666666666666666,
              "#ed7953"
             ],
             [
              0.7777777777777778,
              "#fb9f3a"
             ],
             [
              0.8888888888888888,
              "#fdca26"
             ],
             [
              1,
              "#f0f921"
             ]
            ],
            "type": "heatmap"
           }
          ],
          "heatmapgl": [
           {
            "colorbar": {
             "outlinewidth": 0,
             "ticks": ""
            },
            "colorscale": [
             [
              0,
              "#0d0887"
             ],
             [
              0.1111111111111111,
              "#46039f"
             ],
             [
              0.2222222222222222,
              "#7201a8"
             ],
             [
              0.3333333333333333,
              "#9c179e"
             ],
             [
              0.4444444444444444,
              "#bd3786"
             ],
             [
              0.5555555555555556,
              "#d8576b"
             ],
             [
              0.6666666666666666,
              "#ed7953"
             ],
             [
              0.7777777777777778,
              "#fb9f3a"
             ],
             [
              0.8888888888888888,
              "#fdca26"
             ],
             [
              1,
              "#f0f921"
             ]
            ],
            "type": "heatmapgl"
           }
          ],
          "histogram": [
           {
            "marker": {
             "pattern": {
              "fillmode": "overlay",
              "size": 10,
              "solidity": 0.2
             }
            },
            "type": "histogram"
           }
          ],
          "histogram2d": [
           {
            "colorbar": {
             "outlinewidth": 0,
             "ticks": ""
            },
            "colorscale": [
             [
              0,
              "#0d0887"
             ],
             [
              0.1111111111111111,
              "#46039f"
             ],
             [
              0.2222222222222222,
              "#7201a8"
             ],
             [
              0.3333333333333333,
              "#9c179e"
             ],
             [
              0.4444444444444444,
              "#bd3786"
             ],
             [
              0.5555555555555556,
              "#d8576b"
             ],
             [
              0.6666666666666666,
              "#ed7953"
             ],
             [
              0.7777777777777778,
              "#fb9f3a"
             ],
             [
              0.8888888888888888,
              "#fdca26"
             ],
             [
              1,
              "#f0f921"
             ]
            ],
            "type": "histogram2d"
           }
          ],
          "histogram2dcontour": [
           {
            "colorbar": {
             "outlinewidth": 0,
             "ticks": ""
            },
            "colorscale": [
             [
              0,
              "#0d0887"
             ],
             [
              0.1111111111111111,
              "#46039f"
             ],
             [
              0.2222222222222222,
              "#7201a8"
             ],
             [
              0.3333333333333333,
              "#9c179e"
             ],
             [
              0.4444444444444444,
              "#bd3786"
             ],
             [
              0.5555555555555556,
              "#d8576b"
             ],
             [
              0.6666666666666666,
              "#ed7953"
             ],
             [
              0.7777777777777778,
              "#fb9f3a"
             ],
             [
              0.8888888888888888,
              "#fdca26"
             ],
             [
              1,
              "#f0f921"
             ]
            ],
            "type": "histogram2dcontour"
           }
          ],
          "mesh3d": [
           {
            "colorbar": {
             "outlinewidth": 0,
             "ticks": ""
            },
            "type": "mesh3d"
           }
          ],
          "parcoords": [
           {
            "line": {
             "colorbar": {
              "outlinewidth": 0,
              "ticks": ""
             }
            },
            "type": "parcoords"
           }
          ],
          "pie": [
           {
            "automargin": true,
            "type": "pie"
           }
          ],
          "scatter": [
           {
            "fillpattern": {
             "fillmode": "overlay",
             "size": 10,
             "solidity": 0.2
            },
            "type": "scatter"
           }
          ],
          "scatter3d": [
           {
            "line": {
             "colorbar": {
              "outlinewidth": 0,
              "ticks": ""
             }
            },
            "marker": {
             "colorbar": {
              "outlinewidth": 0,
              "ticks": ""
             }
            },
            "type": "scatter3d"
           }
          ],
          "scattercarpet": [
           {
            "marker": {
             "colorbar": {
              "outlinewidth": 0,
              "ticks": ""
             }
            },
            "type": "scattercarpet"
           }
          ],
          "scattergeo": [
           {
            "marker": {
             "colorbar": {
              "outlinewidth": 0,
              "ticks": ""
             }
            },
            "type": "scattergeo"
           }
          ],
          "scattergl": [
           {
            "marker": {
             "colorbar": {
              "outlinewidth": 0,
              "ticks": ""
             }
            },
            "type": "scattergl"
           }
          ],
          "scattermapbox": [
           {
            "marker": {
             "colorbar": {
              "outlinewidth": 0,
              "ticks": ""
             }
            },
            "type": "scattermapbox"
           }
          ],
          "scatterpolar": [
           {
            "marker": {
             "colorbar": {
              "outlinewidth": 0,
              "ticks": ""
             }
            },
            "type": "scatterpolar"
           }
          ],
          "scatterpolargl": [
           {
            "marker": {
             "colorbar": {
              "outlinewidth": 0,
              "ticks": ""
             }
            },
            "type": "scatterpolargl"
           }
          ],
          "scatterternary": [
           {
            "marker": {
             "colorbar": {
              "outlinewidth": 0,
              "ticks": ""
             }
            },
            "type": "scatterternary"
           }
          ],
          "surface": [
           {
            "colorbar": {
             "outlinewidth": 0,
             "ticks": ""
            },
            "colorscale": [
             [
              0,
              "#0d0887"
             ],
             [
              0.1111111111111111,
              "#46039f"
             ],
             [
              0.2222222222222222,
              "#7201a8"
             ],
             [
              0.3333333333333333,
              "#9c179e"
             ],
             [
              0.4444444444444444,
              "#bd3786"
             ],
             [
              0.5555555555555556,
              "#d8576b"
             ],
             [
              0.6666666666666666,
              "#ed7953"
             ],
             [
              0.7777777777777778,
              "#fb9f3a"
             ],
             [
              0.8888888888888888,
              "#fdca26"
             ],
             [
              1,
              "#f0f921"
             ]
            ],
            "type": "surface"
           }
          ],
          "table": [
           {
            "cells": {
             "fill": {
              "color": "#EBF0F8"
             },
             "line": {
              "color": "white"
             }
            },
            "header": {
             "fill": {
              "color": "#C8D4E3"
             },
             "line": {
              "color": "white"
             }
            },
            "type": "table"
           }
          ]
         },
         "layout": {
          "annotationdefaults": {
           "arrowcolor": "#2a3f5f",
           "arrowhead": 0,
           "arrowwidth": 1
          },
          "autotypenumbers": "strict",
          "coloraxis": {
           "colorbar": {
            "outlinewidth": 0,
            "ticks": ""
           }
          },
          "colorscale": {
           "diverging": [
            [
             0,
             "#8e0152"
            ],
            [
             0.1,
             "#c51b7d"
            ],
            [
             0.2,
             "#de77ae"
            ],
            [
             0.3,
             "#f1b6da"
            ],
            [
             0.4,
             "#fde0ef"
            ],
            [
             0.5,
             "#f7f7f7"
            ],
            [
             0.6,
             "#e6f5d0"
            ],
            [
             0.7,
             "#b8e186"
            ],
            [
             0.8,
             "#7fbc41"
            ],
            [
             0.9,
             "#4d9221"
            ],
            [
             1,
             "#276419"
            ]
           ],
           "sequential": [
            [
             0,
             "#0d0887"
            ],
            [
             0.1111111111111111,
             "#46039f"
            ],
            [
             0.2222222222222222,
             "#7201a8"
            ],
            [
             0.3333333333333333,
             "#9c179e"
            ],
            [
             0.4444444444444444,
             "#bd3786"
            ],
            [
             0.5555555555555556,
             "#d8576b"
            ],
            [
             0.6666666666666666,
             "#ed7953"
            ],
            [
             0.7777777777777778,
             "#fb9f3a"
            ],
            [
             0.8888888888888888,
             "#fdca26"
            ],
            [
             1,
             "#f0f921"
            ]
           ],
           "sequentialminus": [
            [
             0,
             "#0d0887"
            ],
            [
             0.1111111111111111,
             "#46039f"
            ],
            [
             0.2222222222222222,
             "#7201a8"
            ],
            [
             0.3333333333333333,
             "#9c179e"
            ],
            [
             0.4444444444444444,
             "#bd3786"
            ],
            [
             0.5555555555555556,
             "#d8576b"
            ],
            [
             0.6666666666666666,
             "#ed7953"
            ],
            [
             0.7777777777777778,
             "#fb9f3a"
            ],
            [
             0.8888888888888888,
             "#fdca26"
            ],
            [
             1,
             "#f0f921"
            ]
           ]
          },
          "colorway": [
           "#636efa",
           "#EF553B",
           "#00cc96",
           "#ab63fa",
           "#FFA15A",
           "#19d3f3",
           "#FF6692",
           "#B6E880",
           "#FF97FF",
           "#FECB52"
          ],
          "font": {
           "color": "#2a3f5f"
          },
          "geo": {
           "bgcolor": "white",
           "lakecolor": "white",
           "landcolor": "#E5ECF6",
           "showlakes": true,
           "showland": true,
           "subunitcolor": "white"
          },
          "hoverlabel": {
           "align": "left"
          },
          "hovermode": "closest",
          "mapbox": {
           "style": "light"
          },
          "paper_bgcolor": "white",
          "plot_bgcolor": "#E5ECF6",
          "polar": {
           "angularaxis": {
            "gridcolor": "white",
            "linecolor": "white",
            "ticks": ""
           },
           "bgcolor": "#E5ECF6",
           "radialaxis": {
            "gridcolor": "white",
            "linecolor": "white",
            "ticks": ""
           }
          },
          "scene": {
           "xaxis": {
            "backgroundcolor": "#E5ECF6",
            "gridcolor": "white",
            "gridwidth": 2,
            "linecolor": "white",
            "showbackground": true,
            "ticks": "",
            "zerolinecolor": "white"
           },
           "yaxis": {
            "backgroundcolor": "#E5ECF6",
            "gridcolor": "white",
            "gridwidth": 2,
            "linecolor": "white",
            "showbackground": true,
            "ticks": "",
            "zerolinecolor": "white"
           },
           "zaxis": {
            "backgroundcolor": "#E5ECF6",
            "gridcolor": "white",
            "gridwidth": 2,
            "linecolor": "white",
            "showbackground": true,
            "ticks": "",
            "zerolinecolor": "white"
           }
          },
          "shapedefaults": {
           "line": {
            "color": "#2a3f5f"
           }
          },
          "ternary": {
           "aaxis": {
            "gridcolor": "white",
            "linecolor": "white",
            "ticks": ""
           },
           "baxis": {
            "gridcolor": "white",
            "linecolor": "white",
            "ticks": ""
           },
           "bgcolor": "#E5ECF6",
           "caxis": {
            "gridcolor": "white",
            "linecolor": "white",
            "ticks": ""
           }
          },
          "title": {
           "x": 0.05
          },
          "xaxis": {
           "automargin": true,
           "gridcolor": "white",
           "linecolor": "white",
           "ticks": "",
           "title": {
            "standoff": 15
           },
           "zerolinecolor": "white",
           "zerolinewidth": 2
          },
          "yaxis": {
           "automargin": true,
           "gridcolor": "white",
           "linecolor": "white",
           "ticks": "",
           "title": {
            "standoff": 15
           },
           "zerolinecolor": "white",
           "zerolinewidth": 2
          }
         }
        },
        "title": {
         "text": "Interactions for Acsu2"
        },
        "width": 1600,
        "xaxis": {
         "anchor": "y",
         "domain": [
          0,
          1
         ],
         "dtick": 20,
         "range": [
          0,
          600
         ],
         "title": {
          "text": "Residue Index"
         }
        },
        "yaxis": {
         "anchor": "x",
         "domain": [
          0,
          1
         ],
         "range": [
          1.5,
          5
         ],
         "title": {
          "text": "Distance (angstroms)"
         }
        }
       }
      }
     },
     "metadata": {},
     "output_type": "display_data"
    },
    {
     "data": {
      "application/vnd.plotly.v1+json": {
       "config": {
        "plotlyServerURL": "https://plot.ly"
       },
       "data": [
        {
         "customdata": [
          [
           342,
           "L"
          ],
          [
           345,
           "M"
          ],
          [
           386,
           "D"
          ],
          [
           388,
           "E"
          ],
          [
           220,
           "E"
          ]
         ],
         "hovertemplate": "Interacting Chain=kinesin B<br>aa_classification=positively charged<br>Residue Index=%{x}<br>Distance (angstroms)=%{y}<br>residue_one_letter=%{text}<br>interacting_resinumber=%{customdata[0]}<br>interactingresi_oneletter=%{customdata[1]}<extra></extra>",
         "legendgroup": "kinesin B, positively charged",
         "marker": {
          "color": "#1f77b4",
          "opacity": 0.6,
          "size": 10,
          "symbol": "triangle-up"
         },
         "mode": "markers+text",
         "name": "kinesin B, positively charged",
         "orientation": "v",
         "showlegend": true,
         "text": [
          "K",
          "K",
          "K",
          "K",
          "K"
         ],
         "textposition": "top center",
         "type": "scatter",
         "x": [
          343,
          350,
          357,
          361,
          406
         ],
         "xaxis": "x",
         "y": [
          4.052345514297485,
          4.488693046569824,
          2.9403676986694336,
          2.709584951400757,
          3.3532477378845216
         ],
         "yaxis": "y"
        },
        {
         "customdata": [
          [
           339,
           "V"
          ],
          [
           339,
           "V"
          ],
          [
           339,
           "V"
          ],
          [
           346,
           "L"
          ],
          [
           345,
           "M"
          ],
          [
           353,
           "I"
          ],
          [
           352,
           "E"
          ],
          [
           360,
           "I"
          ],
          [
           359,
           "Y"
          ],
          [
           360,
           "I"
          ],
          [
           364,
           "E"
          ],
          [
           357,
           "K"
          ],
          [
           357,
           "K"
          ]
         ],
         "hovertemplate": "Interacting Chain=kinesin B<br>aa_classification=nonpolar<br>Residue Index=%{x}<br>Distance (angstroms)=%{y}<br>residue_one_letter=%{text}<br>interacting_resinumber=%{customdata[0]}<br>interactingresi_oneletter=%{customdata[1]}<extra></extra>",
         "legendgroup": "kinesin B, nonpolar",
         "marker": {
          "color": "#1f77b4",
          "opacity": 0.6,
          "size": 10,
          "symbol": "circle"
         },
         "mode": "markers+text",
         "name": "kinesin B, nonpolar",
         "orientation": "v",
         "showlegend": true,
         "text": [
          "L",
          "V",
          "L",
          "M",
          "L",
          "A",
          "I",
          "L",
          "I",
          "L",
          "P",
          "V",
          "M"
         ],
         "textposition": "top center",
         "type": "scatter",
         "x": [
          337,
          339,
          342,
          345,
          346,
          349,
          353,
          356,
          360,
          363,
          369,
          384,
          385
         ],
         "xaxis": "x",
         "y": [
          4.039043855667114,
          3.553486156463623,
          3.708072376251221,
          3.582611894607544,
          3.5032331466674806,
          3.682402038574218,
          3.486568689346313,
          3.388637828826904,
          3.3634708404541014,
          4.122429370880127,
          4.11137285232544,
          3.241332769393921,
          3.4127957820892334
         ],
         "yaxis": "y"
        },
        {
         "customdata": [
          [
           364,
           "E"
          ]
         ],
         "hovertemplate": "Interacting Chain=kinesin B<br>aa_classification=polar uncharged<br>Residue Index=%{x}<br>Distance (angstroms)=%{y}<br>residue_one_letter=%{text}<br>interacting_resinumber=%{customdata[0]}<br>interactingresi_oneletter=%{customdata[1]}<extra></extra>",
         "legendgroup": "kinesin B, polar uncharged",
         "marker": {
          "color": "#1f77b4",
          "opacity": 0.6,
          "size": 10,
          "symbol": "square"
         },
         "mode": "markers+text",
         "name": "kinesin B, polar uncharged",
         "orientation": "v",
         "showlegend": true,
         "text": [
          "Y"
         ],
         "textposition": "top center",
         "type": "scatter",
         "x": [
          359
         ],
         "xaxis": "x",
         "y": [
          2.752064275741577
         ],
         "yaxis": "y"
        },
        {
         "customdata": [
          [
           357,
           "K"
          ],
          [
           359,
           "Y"
          ],
          [
           357,
           "K"
          ],
          [
           361,
           "K"
          ],
          [
           340,
           "A"
          ]
         ],
         "hovertemplate": "Interacting Chain=kinesin B<br>aa_classification=negatively charged<br>Residue Index=%{x}<br>Distance (angstroms)=%{y}<br>residue_one_letter=%{text}<br>interacting_resinumber=%{customdata[0]}<br>interactingresi_oneletter=%{customdata[1]}<extra></extra>",
         "legendgroup": "kinesin B, negatively charged",
         "marker": {
          "color": "#1f77b4",
          "opacity": 0.6,
          "size": 10,
          "symbol": "triangle-down"
         },
         "mode": "markers+text",
         "name": "kinesin B, negatively charged",
         "orientation": "v",
         "showlegend": true,
         "text": [
          "E",
          "E",
          "D",
          "E",
          "D"
         ],
         "textposition": "top center",
         "type": "scatter",
         "x": [
          352,
          364,
          386,
          388,
          403
         ],
         "xaxis": "x",
         "y": [
          3.4210346698760987,
          2.735842180252076,
          2.8265058040618896,
          2.6297770977020263,
          4.2845869064331055
         ],
         "yaxis": "y"
        },
        {
         "customdata": [
          [
           423,
           "E"
          ],
          [
           423,
           "E"
          ],
          [
           420,
           "E"
          ],
          [
           410,
           "G"
          ],
          [
           423,
           "E"
          ]
         ],
         "hovertemplate": "Interacting Chain=alpha-tubulin<br>aa_classification=positively charged<br>Residue Index=%{x}<br>Distance (angstroms)=%{y}<br>residue_one_letter=%{text}<br>interacting_resinumber=%{customdata[0]}<br>interactingresi_oneletter=%{customdata[1]}<extra></extra>",
         "legendgroup": "alpha-tubulin, positively charged",
         "marker": {
          "color": "#ff7f0e",
          "opacity": 0.6,
          "size": 10,
          "symbol": "triangle-up"
         },
         "mode": "markers+text",
         "name": "alpha-tubulin, positively charged",
         "orientation": "v",
         "showlegend": true,
         "text": [
          "H",
          "R",
          "K",
          "K",
          "R"
         ],
         "textposition": "top center",
         "type": "scatter",
         "x": [
          42,
          45,
          238,
          253,
          319
         ],
         "xaxis": "x",
         "y": [
          3.583501052856445,
          3.163392210006714,
          2.293770599365234,
          3.208524894714356,
          3.6718214988708495
         ],
         "yaxis": "y"
        },
        {
         "customdata": [
          [
           412,
           "G"
          ],
          [
           112,
           "K"
          ],
          [
           108,
           "Y"
          ],
          [
           409,
           "V"
          ]
         ],
         "hovertemplate": "Interacting Chain=alpha-tubulin<br>aa_classification=nonpolar<br>Residue Index=%{x}<br>Distance (angstroms)=%{y}<br>residue_one_letter=%{text}<br>interacting_resinumber=%{customdata[0]}<br>interactingresi_oneletter=%{customdata[1]}<extra></extra>",
         "legendgroup": "alpha-tubulin, nonpolar",
         "marker": {
          "color": "#ff7f0e",
          "opacity": 0.6,
          "size": 10,
          "symbol": "circle"
         },
         "mode": "markers+text",
         "name": "alpha-tubulin, nonpolar",
         "orientation": "v",
         "showlegend": true,
         "text": [
          "I",
          "A",
          "L",
          "L"
         ],
         "textposition": "top center",
         "type": "scatter",
         "x": [
          239,
          244,
          249,
          257
         ],
         "xaxis": "x",
         "y": [
          3.094993734359741,
          3.822251987457276,
          4.390246963500976,
          3.3811124324798585
         ],
         "yaxis": "y"
        },
        {
         "customdata": [
          [
           414,
           "E"
          ],
          [
           409,
           "V"
          ],
          [
           415,
           "E"
          ],
          [
           402,
           "R"
          ],
          [
           402,
           "R"
          ]
         ],
         "hovertemplate": "Interacting Chain=alpha-tubulin<br>aa_classification=polar uncharged<br>Residue Index=%{x}<br>Distance (angstroms)=%{y}<br>residue_one_letter=%{text}<br>interacting_resinumber=%{customdata[0]}<br>interactingresi_oneletter=%{customdata[1]}<extra></extra>",
         "legendgroup": "alpha-tubulin, polar uncharged",
         "marker": {
          "color": "#ff7f0e",
          "opacity": 0.6,
          "size": 10,
          "symbol": "square"
         },
         "mode": "markers+text",
         "name": "alpha-tubulin, polar uncharged",
         "orientation": "v",
         "showlegend": true,
         "text": [
          "S",
          "N",
          "T",
          "Q",
          "N"
         ],
         "textposition": "top center",
         "type": "scatter",
         "x": [
          236,
          256,
          260,
          264,
          267
         ],
         "xaxis": "x",
         "y": [
          3.189071035385132,
          3.5199639797210693,
          2.922069978713989,
          3.578775405883789,
          4.429198932647705
         ],
         "yaxis": "y"
        },
        {
         "customdata": [
          [
           414,
           "E"
          ],
          [
           420,
           "E"
          ],
          [
           414,
           "E"
          ]
         ],
         "hovertemplate": "Interacting Chain=alpha-tubulin<br>aa_classification=negatively charged<br>Residue Index=%{x}<br>Distance (angstroms)=%{y}<br>residue_one_letter=%{text}<br>interacting_resinumber=%{customdata[0]}<br>interactingresi_oneletter=%{customdata[1]}<extra></extra>",
         "legendgroup": "alpha-tubulin, negatively charged",
         "marker": {
          "color": "#ff7f0e",
          "opacity": 0.6,
          "size": 10,
          "symbol": "triangle-down"
         },
         "mode": "markers+text",
         "name": "alpha-tubulin, negatively charged",
         "orientation": "v",
         "showlegend": true,
         "text": [
          "E",
          "E",
          "E"
         ],
         "textposition": "top center",
         "type": "scatter",
         "x": [
          237,
          312,
          313
         ],
         "xaxis": "x",
         "y": [
          4.228737497329712,
          2.8136717796325685,
          4.276616764068604
         ],
         "yaxis": "y"
        },
        {
         "customdata": [
          [
           157,
           "E"
          ],
          [
           407,
           "E"
          ],
          [
           432,
           "E"
          ],
          [
           424,
           "Q"
          ],
          [
           424,
           "Q"
          ],
          [
           424,
           "Q"
          ],
          [
           410,
           "E"
          ],
          [
           194,
           "E"
          ],
          [
           410,
           "E"
          ]
         ],
         "hovertemplate": "Interacting Chain=beta-tubulin<br>aa_classification=positively charged<br>Residue Index=%{x}<br>Distance (angstroms)=%{y}<br>residue_one_letter=%{text}<br>interacting_resinumber=%{customdata[0]}<br>interactingresi_oneletter=%{customdata[1]}<extra></extra>",
         "legendgroup": "beta-tubulin, positively charged",
         "marker": {
          "color": "#2ca02c",
          "opacity": 0.6,
          "size": 10,
          "symbol": "triangle-up"
         },
         "mode": "markers+text",
         "name": "beta-tubulin, positively charged",
         "orientation": "v",
         "showlegend": true,
         "text": [
          "K",
          "R",
          "K",
          "K",
          "K",
          "H",
          "R",
          "K",
          "R"
         ],
         "textposition": "top center",
         "type": "scatter",
         "x": [
          143,
          158,
          273,
          274,
          275,
          276,
          280,
          283,
          286
         ],
         "xaxis": "x",
         "y": [
          2.9622661113739013,
          3.317165470123291,
          3.7317777633666993,
          3.698796033859253,
          3.722684526443482,
          3.041466903686524,
          2.542339992523193,
          3.5890429973602296,
          3.195833206176758
         ],
         "yaxis": "y"
        },
        {
         "customdata": [
          [
           410,
           "E"
          ],
          [
           390,
           "R"
          ]
         ],
         "hovertemplate": "Interacting Chain=beta-tubulin<br>aa_classification=nonpolar<br>Residue Index=%{x}<br>Distance (angstroms)=%{y}<br>residue_one_letter=%{text}<br>interacting_resinumber=%{customdata[0]}<br>interactingresi_oneletter=%{customdata[1]}<extra></extra>",
         "legendgroup": "beta-tubulin, nonpolar",
         "marker": {
          "color": "#2ca02c",
          "opacity": 0.6,
          "size": 10,
          "symbol": "circle"
         },
         "mode": "markers+text",
         "name": "beta-tubulin, nonpolar",
         "orientation": "v",
         "showlegend": true,
         "text": [
          "V",
          "P"
         ],
         "textposition": "top center",
         "type": "scatter",
         "x": [
          157,
          408
         ],
         "xaxis": "x",
         "y": [
          4.023958444595337,
          3.655938673019409
         ],
         "yaxis": "y"
        },
        {
         "customdata": [
          [
           406,
           "M"
          ],
          [
           406,
           "M"
          ]
         ],
         "hovertemplate": "Interacting Chain=beta-tubulin<br>aa_classification=polar uncharged<br>Residue Index=%{x}<br>Distance (angstroms)=%{y}<br>residue_one_letter=%{text}<br>interacting_resinumber=%{customdata[0]}<br>interactingresi_oneletter=%{customdata[1]}<extra></extra>",
         "legendgroup": "beta-tubulin, polar uncharged",
         "marker": {
          "color": "#2ca02c",
          "opacity": 0.6,
          "size": 10,
          "symbol": "square"
         },
         "mode": "markers+text",
         "name": "beta-tubulin, polar uncharged",
         "orientation": "v",
         "showlegend": true,
         "text": [
          "S",
          "Y"
         ],
         "textposition": "top center",
         "type": "scatter",
         "x": [
          160,
          166
         ],
         "xaxis": "x",
         "y": [
          4.331623363494873,
          3.1907028675079347
         ],
         "yaxis": "y"
        },
        {
         "customdata": [
          [
           410,
           "E"
          ],
          [
           262,
           "R"
          ]
         ],
         "hovertemplate": "Interacting Chain=beta-tubulin<br>aa_classification=negatively charged<br>Residue Index=%{x}<br>Distance (angstroms)=%{y}<br>residue_one_letter=%{text}<br>interacting_resinumber=%{customdata[0]}<br>interactingresi_oneletter=%{customdata[1]}<extra></extra>",
         "legendgroup": "beta-tubulin, negatively charged",
         "marker": {
          "color": "#2ca02c",
          "opacity": 0.6,
          "size": 10,
          "symbol": "triangle-down"
         },
         "mode": "markers+text",
         "name": "beta-tubulin, negatively charged",
         "orientation": "v",
         "showlegend": true,
         "text": [
          "E",
          "D"
         ],
         "textposition": "top center",
         "type": "scatter",
         "x": [
          159,
          281
         ],
         "xaxis": "x",
         "y": [
          3.566409683227539,
          2.771565580368042
         ],
         "yaxis": "y"
        },
        {
         "customdata": [
          [
           1,
           "?"
          ],
          [
           1,
           "?"
          ],
          [
           1,
           "?"
          ],
          [
           1,
           "?"
          ]
         ],
         "hovertemplate": "Interacting Chain=ATP<br>aa_classification=positively charged<br>Residue Index=%{x}<br>Distance (angstroms)=%{y}<br>residue_one_letter=%{text}<br>interacting_resinumber=%{customdata[0]}<br>interactingresi_oneletter=%{customdata[1]}<extra></extra>",
         "legendgroup": "ATP, positively charged",
         "marker": {
          "color": "#d62728",
          "opacity": 0.6,
          "size": 10,
          "symbol": "triangle-up"
         },
         "mode": "markers+text",
         "name": "ATP, positively charged",
         "orientation": "v",
         "showlegend": true,
         "text": [
          "R",
          "R",
          "K",
          "H"
         ],
         "textposition": "top center",
         "type": "scatter",
         "x": [
          11,
          13,
          92,
          94
         ],
         "xaxis": "x",
         "y": [
          3.737887573242188,
          3.5171696662902834,
          2.673948812484741,
          2.7305556297302247
         ],
         "yaxis": "y"
        },
        {
         "customdata": [
          [
           1,
           "?"
          ],
          [
           1,
           "?"
          ],
          [
           1,
           "?"
          ],
          [
           1,
           "?"
          ],
          [
           1,
           "?"
          ],
          [
           1,
           "?"
          ],
          [
           1,
           "?"
          ],
          [
           1,
           "?"
          ]
         ],
         "hovertemplate": "Interacting Chain=ATP<br>aa_classification=nonpolar<br>Residue Index=%{x}<br>Distance (angstroms)=%{y}<br>residue_one_letter=%{text}<br>interacting_resinumber=%{customdata[0]}<br>interactingresi_oneletter=%{customdata[1]}<extra></extra>",
         "legendgroup": "ATP, nonpolar",
         "marker": {
          "color": "#d62728",
          "opacity": 0.6,
          "size": 10,
          "symbol": "circle"
         },
         "mode": "markers+text",
         "name": "ATP, nonpolar",
         "orientation": "v",
         "showlegend": true,
         "text": [
          "F",
          "P",
          "G",
          "A",
          "G",
          "A",
          "A",
          "G"
         ],
         "textposition": "top center",
         "type": "scatter",
         "x": [
          12,
          14,
          89,
          90,
          91,
          202,
          234,
          235
         ],
         "xaxis": "x",
         "y": [
          4.440478897094726,
          3.663176822662353,
          2.7398518085479737,
          3.358887815475464,
          2.9143977642059324,
          4.173721790313721,
          3.9840168952941895,
          2.998754644393921
         ],
         "yaxis": "y"
        },
        {
         "customdata": [
          [
           1,
           "?"
          ],
          [
           1,
           "?"
          ],
          [
           1,
           "?"
          ],
          [
           1,
           "?"
          ]
         ],
         "hovertemplate": "Interacting Chain=ATP<br>aa_classification=polar uncharged<br>Residue Index=%{x}<br>Distance (angstroms)=%{y}<br>residue_one_letter=%{text}<br>interacting_resinumber=%{customdata[0]}<br>interactingresi_oneletter=%{customdata[1]}<extra></extra>",
         "legendgroup": "ATP, polar uncharged",
         "marker": {
          "color": "#d62728",
          "opacity": 0.6,
          "size": 10,
          "symbol": "square"
         },
         "mode": "markers+text",
         "name": "ATP, polar uncharged",
         "orientation": "v",
         "showlegend": true,
         "text": [
          "Q",
          "T",
          "N",
          "S"
         ],
         "textposition": "top center",
         "type": "scatter",
         "x": [
          87,
          88,
          200,
          203
         ],
         "xaxis": "x",
         "y": [
          3.938125276565552,
          2.615136814117432,
          2.9684330463409423,
          2.8438197135925294
         ],
         "yaxis": "y"
        }
       ],
       "layout": {
        "autosize": false,
        "height": 600,
        "legend": {
         "title": {
          "text": "Interacting Chain"
         },
         "tracegroupgap": 0
        },
        "template": {
         "data": {
          "bar": [
           {
            "error_x": {
             "color": "#2a3f5f"
            },
            "error_y": {
             "color": "#2a3f5f"
            },
            "marker": {
             "line": {
              "color": "#E5ECF6",
              "width": 0.5
             },
             "pattern": {
              "fillmode": "overlay",
              "size": 10,
              "solidity": 0.2
             }
            },
            "type": "bar"
           }
          ],
          "barpolar": [
           {
            "marker": {
             "line": {
              "color": "#E5ECF6",
              "width": 0.5
             },
             "pattern": {
              "fillmode": "overlay",
              "size": 10,
              "solidity": 0.2
             }
            },
            "type": "barpolar"
           }
          ],
          "carpet": [
           {
            "aaxis": {
             "endlinecolor": "#2a3f5f",
             "gridcolor": "white",
             "linecolor": "white",
             "minorgridcolor": "white",
             "startlinecolor": "#2a3f5f"
            },
            "baxis": {
             "endlinecolor": "#2a3f5f",
             "gridcolor": "white",
             "linecolor": "white",
             "minorgridcolor": "white",
             "startlinecolor": "#2a3f5f"
            },
            "type": "carpet"
           }
          ],
          "choropleth": [
           {
            "colorbar": {
             "outlinewidth": 0,
             "ticks": ""
            },
            "type": "choropleth"
           }
          ],
          "contour": [
           {
            "colorbar": {
             "outlinewidth": 0,
             "ticks": ""
            },
            "colorscale": [
             [
              0,
              "#0d0887"
             ],
             [
              0.1111111111111111,
              "#46039f"
             ],
             [
              0.2222222222222222,
              "#7201a8"
             ],
             [
              0.3333333333333333,
              "#9c179e"
             ],
             [
              0.4444444444444444,
              "#bd3786"
             ],
             [
              0.5555555555555556,
              "#d8576b"
             ],
             [
              0.6666666666666666,
              "#ed7953"
             ],
             [
              0.7777777777777778,
              "#fb9f3a"
             ],
             [
              0.8888888888888888,
              "#fdca26"
             ],
             [
              1,
              "#f0f921"
             ]
            ],
            "type": "contour"
           }
          ],
          "contourcarpet": [
           {
            "colorbar": {
             "outlinewidth": 0,
             "ticks": ""
            },
            "type": "contourcarpet"
           }
          ],
          "heatmap": [
           {
            "colorbar": {
             "outlinewidth": 0,
             "ticks": ""
            },
            "colorscale": [
             [
              0,
              "#0d0887"
             ],
             [
              0.1111111111111111,
              "#46039f"
             ],
             [
              0.2222222222222222,
              "#7201a8"
             ],
             [
              0.3333333333333333,
              "#9c179e"
             ],
             [
              0.4444444444444444,
              "#bd3786"
             ],
             [
              0.5555555555555556,
              "#d8576b"
             ],
             [
              0.6666666666666666,
              "#ed7953"
             ],
             [
              0.7777777777777778,
              "#fb9f3a"
             ],
             [
              0.8888888888888888,
              "#fdca26"
             ],
             [
              1,
              "#f0f921"
             ]
            ],
            "type": "heatmap"
           }
          ],
          "heatmapgl": [
           {
            "colorbar": {
             "outlinewidth": 0,
             "ticks": ""
            },
            "colorscale": [
             [
              0,
              "#0d0887"
             ],
             [
              0.1111111111111111,
              "#46039f"
             ],
             [
              0.2222222222222222,
              "#7201a8"
             ],
             [
              0.3333333333333333,
              "#9c179e"
             ],
             [
              0.4444444444444444,
              "#bd3786"
             ],
             [
              0.5555555555555556,
              "#d8576b"
             ],
             [
              0.6666666666666666,
              "#ed7953"
             ],
             [
              0.7777777777777778,
              "#fb9f3a"
             ],
             [
              0.8888888888888888,
              "#fdca26"
             ],
             [
              1,
              "#f0f921"
             ]
            ],
            "type": "heatmapgl"
           }
          ],
          "histogram": [
           {
            "marker": {
             "pattern": {
              "fillmode": "overlay",
              "size": 10,
              "solidity": 0.2
             }
            },
            "type": "histogram"
           }
          ],
          "histogram2d": [
           {
            "colorbar": {
             "outlinewidth": 0,
             "ticks": ""
            },
            "colorscale": [
             [
              0,
              "#0d0887"
             ],
             [
              0.1111111111111111,
              "#46039f"
             ],
             [
              0.2222222222222222,
              "#7201a8"
             ],
             [
              0.3333333333333333,
              "#9c179e"
             ],
             [
              0.4444444444444444,
              "#bd3786"
             ],
             [
              0.5555555555555556,
              "#d8576b"
             ],
             [
              0.6666666666666666,
              "#ed7953"
             ],
             [
              0.7777777777777778,
              "#fb9f3a"
             ],
             [
              0.8888888888888888,
              "#fdca26"
             ],
             [
              1,
              "#f0f921"
             ]
            ],
            "type": "histogram2d"
           }
          ],
          "histogram2dcontour": [
           {
            "colorbar": {
             "outlinewidth": 0,
             "ticks": ""
            },
            "colorscale": [
             [
              0,
              "#0d0887"
             ],
             [
              0.1111111111111111,
              "#46039f"
             ],
             [
              0.2222222222222222,
              "#7201a8"
             ],
             [
              0.3333333333333333,
              "#9c179e"
             ],
             [
              0.4444444444444444,
              "#bd3786"
             ],
             [
              0.5555555555555556,
              "#d8576b"
             ],
             [
              0.6666666666666666,
              "#ed7953"
             ],
             [
              0.7777777777777778,
              "#fb9f3a"
             ],
             [
              0.8888888888888888,
              "#fdca26"
             ],
             [
              1,
              "#f0f921"
             ]
            ],
            "type": "histogram2dcontour"
           }
          ],
          "mesh3d": [
           {
            "colorbar": {
             "outlinewidth": 0,
             "ticks": ""
            },
            "type": "mesh3d"
           }
          ],
          "parcoords": [
           {
            "line": {
             "colorbar": {
              "outlinewidth": 0,
              "ticks": ""
             }
            },
            "type": "parcoords"
           }
          ],
          "pie": [
           {
            "automargin": true,
            "type": "pie"
           }
          ],
          "scatter": [
           {
            "fillpattern": {
             "fillmode": "overlay",
             "size": 10,
             "solidity": 0.2
            },
            "type": "scatter"
           }
          ],
          "scatter3d": [
           {
            "line": {
             "colorbar": {
              "outlinewidth": 0,
              "ticks": ""
             }
            },
            "marker": {
             "colorbar": {
              "outlinewidth": 0,
              "ticks": ""
             }
            },
            "type": "scatter3d"
           }
          ],
          "scattercarpet": [
           {
            "marker": {
             "colorbar": {
              "outlinewidth": 0,
              "ticks": ""
             }
            },
            "type": "scattercarpet"
           }
          ],
          "scattergeo": [
           {
            "marker": {
             "colorbar": {
              "outlinewidth": 0,
              "ticks": ""
             }
            },
            "type": "scattergeo"
           }
          ],
          "scattergl": [
           {
            "marker": {
             "colorbar": {
              "outlinewidth": 0,
              "ticks": ""
             }
            },
            "type": "scattergl"
           }
          ],
          "scattermapbox": [
           {
            "marker": {
             "colorbar": {
              "outlinewidth": 0,
              "ticks": ""
             }
            },
            "type": "scattermapbox"
           }
          ],
          "scatterpolar": [
           {
            "marker": {
             "colorbar": {
              "outlinewidth": 0,
              "ticks": ""
             }
            },
            "type": "scatterpolar"
           }
          ],
          "scatterpolargl": [
           {
            "marker": {
             "colorbar": {
              "outlinewidth": 0,
              "ticks": ""
             }
            },
            "type": "scatterpolargl"
           }
          ],
          "scatterternary": [
           {
            "marker": {
             "colorbar": {
              "outlinewidth": 0,
              "ticks": ""
             }
            },
            "type": "scatterternary"
           }
          ],
          "surface": [
           {
            "colorbar": {
             "outlinewidth": 0,
             "ticks": ""
            },
            "colorscale": [
             [
              0,
              "#0d0887"
             ],
             [
              0.1111111111111111,
              "#46039f"
             ],
             [
              0.2222222222222222,
              "#7201a8"
             ],
             [
              0.3333333333333333,
              "#9c179e"
             ],
             [
              0.4444444444444444,
              "#bd3786"
             ],
             [
              0.5555555555555556,
              "#d8576b"
             ],
             [
              0.6666666666666666,
              "#ed7953"
             ],
             [
              0.7777777777777778,
              "#fb9f3a"
             ],
             [
              0.8888888888888888,
              "#fdca26"
             ],
             [
              1,
              "#f0f921"
             ]
            ],
            "type": "surface"
           }
          ],
          "table": [
           {
            "cells": {
             "fill": {
              "color": "#EBF0F8"
             },
             "line": {
              "color": "white"
             }
            },
            "header": {
             "fill": {
              "color": "#C8D4E3"
             },
             "line": {
              "color": "white"
             }
            },
            "type": "table"
           }
          ]
         },
         "layout": {
          "annotationdefaults": {
           "arrowcolor": "#2a3f5f",
           "arrowhead": 0,
           "arrowwidth": 1
          },
          "autotypenumbers": "strict",
          "coloraxis": {
           "colorbar": {
            "outlinewidth": 0,
            "ticks": ""
           }
          },
          "colorscale": {
           "diverging": [
            [
             0,
             "#8e0152"
            ],
            [
             0.1,
             "#c51b7d"
            ],
            [
             0.2,
             "#de77ae"
            ],
            [
             0.3,
             "#f1b6da"
            ],
            [
             0.4,
             "#fde0ef"
            ],
            [
             0.5,
             "#f7f7f7"
            ],
            [
             0.6,
             "#e6f5d0"
            ],
            [
             0.7,
             "#b8e186"
            ],
            [
             0.8,
             "#7fbc41"
            ],
            [
             0.9,
             "#4d9221"
            ],
            [
             1,
             "#276419"
            ]
           ],
           "sequential": [
            [
             0,
             "#0d0887"
            ],
            [
             0.1111111111111111,
             "#46039f"
            ],
            [
             0.2222222222222222,
             "#7201a8"
            ],
            [
             0.3333333333333333,
             "#9c179e"
            ],
            [
             0.4444444444444444,
             "#bd3786"
            ],
            [
             0.5555555555555556,
             "#d8576b"
            ],
            [
             0.6666666666666666,
             "#ed7953"
            ],
            [
             0.7777777777777778,
             "#fb9f3a"
            ],
            [
             0.8888888888888888,
             "#fdca26"
            ],
            [
             1,
             "#f0f921"
            ]
           ],
           "sequentialminus": [
            [
             0,
             "#0d0887"
            ],
            [
             0.1111111111111111,
             "#46039f"
            ],
            [
             0.2222222222222222,
             "#7201a8"
            ],
            [
             0.3333333333333333,
             "#9c179e"
            ],
            [
             0.4444444444444444,
             "#bd3786"
            ],
            [
             0.5555555555555556,
             "#d8576b"
            ],
            [
             0.6666666666666666,
             "#ed7953"
            ],
            [
             0.7777777777777778,
             "#fb9f3a"
            ],
            [
             0.8888888888888888,
             "#fdca26"
            ],
            [
             1,
             "#f0f921"
            ]
           ]
          },
          "colorway": [
           "#636efa",
           "#EF553B",
           "#00cc96",
           "#ab63fa",
           "#FFA15A",
           "#19d3f3",
           "#FF6692",
           "#B6E880",
           "#FF97FF",
           "#FECB52"
          ],
          "font": {
           "color": "#2a3f5f"
          },
          "geo": {
           "bgcolor": "white",
           "lakecolor": "white",
           "landcolor": "#E5ECF6",
           "showlakes": true,
           "showland": true,
           "subunitcolor": "white"
          },
          "hoverlabel": {
           "align": "left"
          },
          "hovermode": "closest",
          "mapbox": {
           "style": "light"
          },
          "paper_bgcolor": "white",
          "plot_bgcolor": "#E5ECF6",
          "polar": {
           "angularaxis": {
            "gridcolor": "white",
            "linecolor": "white",
            "ticks": ""
           },
           "bgcolor": "#E5ECF6",
           "radialaxis": {
            "gridcolor": "white",
            "linecolor": "white",
            "ticks": ""
           }
          },
          "scene": {
           "xaxis": {
            "backgroundcolor": "#E5ECF6",
            "gridcolor": "white",
            "gridwidth": 2,
            "linecolor": "white",
            "showbackground": true,
            "ticks": "",
            "zerolinecolor": "white"
           },
           "yaxis": {
            "backgroundcolor": "#E5ECF6",
            "gridcolor": "white",
            "gridwidth": 2,
            "linecolor": "white",
            "showbackground": true,
            "ticks": "",
            "zerolinecolor": "white"
           },
           "zaxis": {
            "backgroundcolor": "#E5ECF6",
            "gridcolor": "white",
            "gridwidth": 2,
            "linecolor": "white",
            "showbackground": true,
            "ticks": "",
            "zerolinecolor": "white"
           }
          },
          "shapedefaults": {
           "line": {
            "color": "#2a3f5f"
           }
          },
          "ternary": {
           "aaxis": {
            "gridcolor": "white",
            "linecolor": "white",
            "ticks": ""
           },
           "baxis": {
            "gridcolor": "white",
            "linecolor": "white",
            "ticks": ""
           },
           "bgcolor": "#E5ECF6",
           "caxis": {
            "gridcolor": "white",
            "linecolor": "white",
            "ticks": ""
           }
          },
          "title": {
           "x": 0.05
          },
          "xaxis": {
           "automargin": true,
           "gridcolor": "white",
           "linecolor": "white",
           "ticks": "",
           "title": {
            "standoff": 15
           },
           "zerolinecolor": "white",
           "zerolinewidth": 2
          },
          "yaxis": {
           "automargin": true,
           "gridcolor": "white",
           "linecolor": "white",
           "ticks": "",
           "title": {
            "standoff": 15
           },
           "zerolinecolor": "white",
           "zerolinewidth": 2
          }
         }
        },
        "title": {
         "text": "Interactions for Adpa"
        },
        "width": 1600,
        "xaxis": {
         "anchor": "y",
         "domain": [
          0,
          1
         ],
         "dtick": 20,
         "range": [
          0,
          600
         ],
         "title": {
          "text": "Residue Index"
         }
        },
        "yaxis": {
         "anchor": "x",
         "domain": [
          0,
          1
         ],
         "range": [
          1.5,
          5
         ],
         "title": {
          "text": "Distance (angstroms)"
         }
        }
       }
      }
     },
     "metadata": {},
     "output_type": "display_data"
    },
    {
     "data": {
      "application/vnd.plotly.v1+json": {
       "config": {
        "plotlyServerURL": "https://plot.ly"
       },
       "data": [
        {
         "customdata": [
          [
           351,
           "L"
          ],
          [
           366,
           "D"
          ],
          [
           373,
           "E"
          ],
          [
           364,
           "L"
          ],
          [
           229,
           "D"
          ],
          [
           429,
           "L"
          ],
          [
           437,
           "T"
          ],
          [
           443,
           "I"
          ],
          [
           458,
           "Q"
          ],
          [
           461,
           "L"
          ],
          [
           472,
           "E"
          ],
          [
           475,
           "I"
          ],
          [
           485,
           "L"
          ],
          [
           496,
           "K"
          ],
          [
           499,
           "L"
          ],
          [
           507,
           "D"
          ],
          [
           513,
           "W"
          ],
          [
           518,
           "R"
          ]
         ],
         "hovertemplate": "Interacting Chain=kinesin B<br>aa_classification=positively charged<br>Residue Index=%{x}<br>Distance (angstroms)=%{y}<br>residue_one_letter=%{text}<br>interacting_resinumber=%{customdata[0]}<br>interactingresi_oneletter=%{customdata[1]}<extra></extra>",
         "legendgroup": "kinesin B, positively charged",
         "marker": {
          "color": "#1f77b4",
          "opacity": 0.6,
          "size": 10,
          "symbol": "triangle-up"
         },
         "mode": "markers+text",
         "name": "kinesin B, positively charged",
         "orientation": "v",
         "showlegend": true,
         "text": [
          "K",
          "K",
          "R",
          "K",
          "R",
          "R",
          "K",
          "K",
          "H",
          "K",
          "K",
          "H",
          "R",
          "K",
          "K",
          "K",
          "K",
          "R"
         ],
         "textposition": "top center",
         "type": "scatter",
         "x": [
          352,
          365,
          368,
          401,
          416,
          430,
          436,
          444,
          453,
          460,
          471,
          474,
          486,
          495,
          496,
          506,
          514,
          518
         ],
         "xaxis": "x",
         "y": [
          3.5354645252227783,
          2.494363784790039,
          2.8152727603912355,
          4.19781608581543,
          2.9200843811035155,
          4.090521240234375,
          2.834030866622925,
          4.274549674987793,
          4.036804819107056,
          3.8859411239624015,
          2.6302470207214355,
          4.181418514251709,
          4.196987628936768,
          4.238888263702393,
          3.5060903072357177,
          1.9857457399368288,
          3.0577284336090087,
          2.09740828871727
         ],
         "yaxis": "y"
        },
        {
         "customdata": [
          [
           351,
           "L"
          ],
          [
           348,
           "V"
          ],
          [
           355,
           "L"
          ],
          [
           354,
           "M"
          ],
          [
           362,
           "I"
          ],
          [
           365,
           "K"
          ],
          [
           369,
           "I"
          ],
          [
           383,
           "I"
          ],
          [
           383,
           "I"
          ],
          [
           383,
           "I"
          ],
          [
           376,
           "V"
          ],
          [
           379,
           "S"
          ],
          [
           372,
           "L"
          ],
          [
           353,
           "L"
          ],
          [
           353,
           "L"
          ],
          [
           349,
           "A"
          ],
          [
           430,
           "R"
          ],
          [
           433,
           "I"
          ],
          [
           429,
           "L"
          ],
          [
           443,
           "I"
          ],
          [
           454,
           "I"
          ],
          [
           450,
           "L"
          ],
          [
           461,
           "L"
          ],
          [
           461,
           "L"
          ],
          [
           468,
           "L"
          ],
          [
           471,
           "K"
          ],
          [
           482,
           "Q"
          ],
          [
           478,
           "L"
          ],
          [
           482,
           "Q"
          ],
          [
           489,
           "I"
          ],
          [
           485,
           "L"
          ],
          [
           493,
           "N"
          ],
          [
           503,
           "I"
          ],
          [
           499,
           "L"
          ],
          [
           510,
           "I"
          ],
          [
           514,
           "K"
          ],
          [
           518,
           "R"
          ]
         ],
         "hovertemplate": "Interacting Chain=kinesin B<br>aa_classification=nonpolar<br>Residue Index=%{x}<br>Distance (angstroms)=%{y}<br>residue_one_letter=%{text}<br>interacting_resinumber=%{customdata[0]}<br>interactingresi_oneletter=%{customdata[1]}<extra></extra>",
         "legendgroup": "kinesin B, nonpolar",
         "marker": {
          "color": "#1f77b4",
          "opacity": 0.6,
          "size": 10,
          "symbol": "circle"
         },
         "mode": "markers+text",
         "name": "kinesin B, nonpolar",
         "orientation": "v",
         "showlegend": true,
         "text": [
          "V",
          "L",
          "M",
          "L",
          "A",
          "I",
          "I",
          "V",
          "L",
          "A",
          "V",
          "I",
          "I",
          "M",
          "I",
          "L",
          "M",
          "L",
          "I",
          "I",
          "L",
          "I",
          "L",
          "L",
          "L",
          "I",
          "L",
          "I",
          "A",
          "L",
          "I",
          "L",
          "L",
          "I",
          "I",
          "W",
          "P"
         ],
         "textposition": "top center",
         "type": "scatter",
         "x": [
          348,
          351,
          354,
          355,
          358,
          362,
          369,
          371,
          372,
          375,
          376,
          381,
          383,
          408,
          409,
          412,
          425,
          429,
          433,
          443,
          450,
          454,
          457,
          461,
          468,
          475,
          478,
          479,
          481,
          485,
          489,
          492,
          499,
          503,
          510,
          513,
          517
         ],
         "xaxis": "x",
         "y": [
          3.307330703735352,
          3.3525015830993654,
          3.2655455112457275,
          3.212708044052124,
          3.550960969924927,
          2.8533169269561767,
          3.519927787780761,
          3.8615068435668944,
          3.3559696674346924,
          3.6539259433746336,
          3.6556625843048094,
          3.0861233711242675,
          3.4364246845245363,
          2.7563327312469483,
          3.899818563461304,
          2.680881452560425,
          4.176365756988526,
          2.9980212211608888,
          3.137324571609497,
          3.1986929893493654,
          2.851629686355591,
          2.8700122833251958,
          3.657328987121582,
          3.6101781845092775,
          3.5346783638000487,
          3.3181952476501464,
          3.4162638187408447,
          4.124128150939941,
          2.7998838901519774,
          3.0664217472076416,
          3.010931158065796,
          3.131152534484863,
          3.093682098388672,
          3.042553186416626,
          3.2490822792053224,
          2.8101311206817625,
          3.5294827580451966
         ],
         "yaxis": "y"
        },
        {
         "customdata": [
          [
           348,
           "V"
          ],
          [
           381,
           "I"
          ],
          [
           357,
           "K"
          ],
          [
           426,
           "N"
          ],
          [
           436,
           "K"
          ],
          [
           440,
           "N"
          ],
          [
           450,
           "L"
          ],
          [
           450,
           "L"
          ],
          [
           457,
           "L"
          ],
          [
           461,
           "L"
          ],
          [
           468,
           "L"
          ],
          [
           481,
           "A"
          ],
          [
           492,
           "L"
          ],
          [
           503,
           "I"
          ],
          [
           518,
           "R"
          ]
         ],
         "hovertemplate": "Interacting Chain=kinesin B<br>aa_classification=polar uncharged<br>Residue Index=%{x}<br>Distance (angstroms)=%{y}<br>residue_one_letter=%{text}<br>interacting_resinumber=%{customdata[0]}<br>interactingresi_oneletter=%{customdata[1]}<extra></extra>",
         "legendgroup": "kinesin B, polar uncharged",
         "marker": {
          "color": "#1f77b4",
          "opacity": 0.6,
          "size": 10,
          "symbol": "square"
         },
         "mode": "markers+text",
         "name": "kinesin B, polar uncharged",
         "orientation": "v",
         "showlegend": true,
         "text": [
          "Y",
          "S",
          "Y",
          "N",
          "T",
          "N",
          "Y",
          "N",
          "Q",
          "T",
          "T",
          "Q",
          "N",
          "T",
          "Q"
         ],
         "textposition": "top center",
         "type": "scatter",
         "x": [
          346,
          379,
          405,
          426,
          437,
          440,
          447,
          451,
          458,
          464,
          467,
          482,
          493,
          502,
          516
         ],
         "xaxis": "x",
         "y": [
          3.8636015892028808,
          3.099081563949585,
          2.427766466140747,
          2.4880189895629883,
          2.8208617687225344,
          2.11029167175293,
          2.8643635749816894,
          3.5249306201934814,
          3.926622676849365,
          3.6481270790100098,
          3.833881711959839,
          2.814913702011109,
          3.1600371837615966,
          4.13683786392212,
          4.210752010345459
         ],
         "yaxis": "y"
        },
        {
         "customdata": [
          [
           362,
           "I"
          ],
          [
           365,
           "K"
          ],
          [
           368,
           "R"
          ],
          [
           426,
           "N"
          ],
          [
           433,
           "I"
          ],
          [
           440,
           "N"
          ],
          [
           447,
           "Y"
          ],
          [
           464,
           "T"
          ],
          [
           471,
           "K"
          ],
          [
           489,
           "I"
          ],
          [
           499,
           "L"
          ],
          [
           506,
           "K"
          ],
          [
           510,
           "I"
          ]
         ],
         "hovertemplate": "Interacting Chain=kinesin B<br>aa_classification=negatively charged<br>Residue Index=%{x}<br>Distance (angstroms)=%{y}<br>residue_one_letter=%{text}<br>interacting_resinumber=%{customdata[0]}<br>interactingresi_oneletter=%{customdata[1]}<extra></extra>",
         "legendgroup": "kinesin B, negatively charged",
         "marker": {
          "color": "#1f77b4",
          "opacity": 0.6,
          "size": 10,
          "symbol": "triangle-down"
         },
         "mode": "markers+text",
         "name": "kinesin B, negatively charged",
         "orientation": "v",
         "showlegend": true,
         "text": [
          "E",
          "D",
          "E",
          "E",
          "E",
          "E",
          "D",
          "E",
          "E",
          "D",
          "E",
          "D",
          "E"
         ],
         "textposition": "top center",
         "type": "scatter",
         "x": [
          361,
          366,
          373,
          422,
          432,
          439,
          446,
          465,
          472,
          488,
          500,
          507,
          509
         ],
         "xaxis": "x",
         "y": [
          3.552247905731201,
          2.543565797805786,
          2.855873441696167,
          3.619772291183472,
          3.8842864513397215,
          3.61299729347229,
          3.48188738822937,
          3.990295934677124,
          2.680195569992065,
          4.178505420684815,
          3.785426235198975,
          1.9740141868591308,
          3.5429335594177247
         ],
         "yaxis": "y"
        },
        {
         "customdata": [
          [
           420,
           "E"
          ],
          [
           410,
           "G"
          ],
          [
           409,
           "V"
          ],
          [
           423,
           "E"
          ],
          [
           402,
           "R"
          ]
         ],
         "hovertemplate": "Interacting Chain=alpha-tubulin<br>aa_classification=positively charged<br>Residue Index=%{x}<br>Distance (angstroms)=%{y}<br>residue_one_letter=%{text}<br>interacting_resinumber=%{customdata[0]}<br>interactingresi_oneletter=%{customdata[1]}<extra></extra>",
         "legendgroup": "alpha-tubulin, positively charged",
         "marker": {
          "color": "#ff7f0e",
          "opacity": 0.6,
          "size": 10,
          "symbol": "triangle-up"
         },
         "mode": "markers+text",
         "name": "alpha-tubulin, positively charged",
         "orientation": "v",
         "showlegend": true,
         "text": [
          "K",
          "K",
          "K",
          "R",
          "R"
         ],
         "textposition": "top center",
         "type": "scatter",
         "x": [
          247,
          262,
          266,
          328,
          332
         ],
         "xaxis": "x",
         "y": [
          2.5313480377197264,
          3.1237770557403564,
          3.369867181777954,
          2.9159916400909425,
          4.435402584075928
         ],
         "yaxis": "y"
        },
        {
         "customdata": [
          [
           412,
           "G"
          ],
          [
           108,
           "Y"
          ],
          [
           112,
           "K"
          ],
          [
           108,
           "Y"
          ],
          [
           420,
           "E"
          ]
         ],
         "hovertemplate": "Interacting Chain=alpha-tubulin<br>aa_classification=nonpolar<br>Residue Index=%{x}<br>Distance (angstroms)=%{y}<br>residue_one_letter=%{text}<br>interacting_resinumber=%{customdata[0]}<br>interactingresi_oneletter=%{customdata[1]}<extra></extra>",
         "legendgroup": "alpha-tubulin, nonpolar",
         "marker": {
          "color": "#ff7f0e",
          "opacity": 0.6,
          "size": 10,
          "symbol": "circle"
         },
         "mode": "markers+text",
         "name": "alpha-tubulin, nonpolar",
         "orientation": "v",
         "showlegend": true,
         "text": [
          "V",
          "G",
          "A",
          "L",
          "A"
         ],
         "textposition": "top center",
         "type": "scatter",
         "x": [
          248,
          249,
          253,
          258,
          321
         ],
         "xaxis": "x",
         "y": [
          3.024929904937744,
          4.42534646987915,
          3.5234200954437256,
          4.350648593902588,
          3.357170963287353
         ],
         "yaxis": "y"
        },
        {
         "customdata": [
          [
           414,
           "E"
          ],
          [
           409,
           "V"
          ],
          [
           415,
           "E"
          ],
          [
           402,
           "R"
          ]
         ],
         "hovertemplate": "Interacting Chain=alpha-tubulin<br>aa_classification=polar uncharged<br>Residue Index=%{x}<br>Distance (angstroms)=%{y}<br>residue_one_letter=%{text}<br>interacting_resinumber=%{customdata[0]}<br>interactingresi_oneletter=%{customdata[1]}<extra></extra>",
         "legendgroup": "alpha-tubulin, polar uncharged",
         "marker": {
          "color": "#ff7f0e",
          "opacity": 0.6,
          "size": 10,
          "symbol": "square"
         },
         "mode": "markers+text",
         "name": "alpha-tubulin, polar uncharged",
         "orientation": "v",
         "showlegend": true,
         "text": [
          "S",
          "N",
          "T",
          "Q"
         ],
         "textposition": "top center",
         "type": "scatter",
         "x": [
          245,
          265,
          269,
          273
         ],
         "xaxis": "x",
         "y": [
          3.0901623725891114,
          3.49122805595398,
          2.975312662124634,
          3.3608334064483643
         ],
         "yaxis": "y"
        },
        {
         "customdata": [
          [
           414,
           "E"
          ],
          [
           112,
           "K"
          ],
          [
           414,
           "E"
          ]
         ],
         "hovertemplate": "Interacting Chain=alpha-tubulin<br>aa_classification=negatively charged<br>Residue Index=%{x}<br>Distance (angstroms)=%{y}<br>residue_one_letter=%{text}<br>interacting_resinumber=%{customdata[0]}<br>interactingresi_oneletter=%{customdata[1]}<extra></extra>",
         "legendgroup": "alpha-tubulin, negatively charged",
         "marker": {
          "color": "#ff7f0e",
          "opacity": 0.6,
          "size": 10,
          "symbol": "triangle-down"
         },
         "mode": "markers+text",
         "name": "alpha-tubulin, negatively charged",
         "orientation": "v",
         "showlegend": true,
         "text": [
          "E",
          "E",
          "E"
         ],
         "textposition": "top center",
         "type": "scatter",
         "x": [
          246,
          254,
          322
         ],
         "xaxis": "x",
         "y": [
          4.248160076141358,
          3.4096667766571045,
          4.158894062042236
         ],
         "yaxis": "y"
        },
        {
         "customdata": [
          [
           157,
           "E"
          ],
          [
           407,
           "E"
          ],
          [
           406,
           "M"
          ],
          [
           432,
           "E"
          ],
          [
           424,
           "Q"
          ],
          [
           410,
           "E"
          ],
          [
           194,
           "E"
          ],
          [
           410,
           "E"
          ]
         ],
         "hovertemplate": "Interacting Chain=beta-tubulin<br>aa_classification=positively charged<br>Residue Index=%{x}<br>Distance (angstroms)=%{y}<br>residue_one_letter=%{text}<br>interacting_resinumber=%{customdata[0]}<br>interactingresi_oneletter=%{customdata[1]}<extra></extra>",
         "legendgroup": "beta-tubulin, positively charged",
         "marker": {
          "color": "#2ca02c",
          "opacity": 0.6,
          "size": 10,
          "symbol": "triangle-up"
         },
         "mode": "markers+text",
         "name": "beta-tubulin, positively charged",
         "orientation": "v",
         "showlegend": true,
         "text": [
          "K",
          "K",
          "H",
          "K",
          "H",
          "R",
          "K",
          "R"
         ],
         "textposition": "top center",
         "type": "scatter",
         "x": [
          151,
          164,
          166,
          282,
          285,
          289,
          292,
          295
         ],
         "xaxis": "x",
         "y": [
          2.6687265396118165,
          3.210877227783203,
          3.888463878631592,
          3.2663041591644286,
          2.865986442565918,
          2.541264009475708,
          4.321647357940674,
          3.193539047241211
         ],
         "yaxis": "y"
        },
        {
         "customdata": [
          [
           410,
           "E"
          ]
         ],
         "hovertemplate": "Interacting Chain=beta-tubulin<br>aa_classification=nonpolar<br>Residue Index=%{x}<br>Distance (angstroms)=%{y}<br>residue_one_letter=%{text}<br>interacting_resinumber=%{customdata[0]}<br>interactingresi_oneletter=%{customdata[1]}<extra></extra>",
         "legendgroup": "beta-tubulin, nonpolar",
         "marker": {
          "color": "#2ca02c",
          "opacity": 0.6,
          "size": 10,
          "symbol": "circle"
         },
         "mode": "markers+text",
         "name": "beta-tubulin, nonpolar",
         "orientation": "v",
         "showlegend": true,
         "text": [
          "I"
         ],
         "textposition": "top center",
         "type": "scatter",
         "x": [
          165
         ],
         "xaxis": "x",
         "y": [
          4.020146656036377
         ],
         "yaxis": "y"
        },
        {
         "customdata": [
          [
           406,
           "M"
          ],
          [
           424,
           "Q"
          ],
          [
           424,
           "Q"
          ]
         ],
         "hovertemplate": "Interacting Chain=beta-tubulin<br>aa_classification=polar uncharged<br>Residue Index=%{x}<br>Distance (angstroms)=%{y}<br>residue_one_letter=%{text}<br>interacting_resinumber=%{customdata[0]}<br>interactingresi_oneletter=%{customdata[1]}<extra></extra>",
         "legendgroup": "beta-tubulin, polar uncharged",
         "marker": {
          "color": "#2ca02c",
          "opacity": 0.6,
          "size": 10,
          "symbol": "square"
         },
         "mode": "markers+text",
         "name": "beta-tubulin, polar uncharged",
         "orientation": "v",
         "showlegend": true,
         "text": [
          "Y",
          "S",
          "S"
         ],
         "textposition": "top center",
         "type": "scatter",
         "x": [
          174,
          283,
          284
         ],
         "xaxis": "x",
         "y": [
          2.8355526447296144,
          3.4606204986572267,
          3.848376178741455
         ],
         "yaxis": "y"
        },
        {
         "customdata": [
          [
           410,
           "E"
          ],
          [
           406,
           "M"
          ],
          [
           262,
           "R"
          ]
         ],
         "hovertemplate": "Interacting Chain=beta-tubulin<br>aa_classification=negatively charged<br>Residue Index=%{x}<br>Distance (angstroms)=%{y}<br>residue_one_letter=%{text}<br>interacting_resinumber=%{customdata[0]}<br>interactingresi_oneletter=%{customdata[1]}<extra></extra>",
         "legendgroup": "beta-tubulin, negatively charged",
         "marker": {
          "color": "#2ca02c",
          "opacity": 0.6,
          "size": 10,
          "symbol": "triangle-down"
         },
         "mode": "markers+text",
         "name": "beta-tubulin, negatively charged",
         "orientation": "v",
         "showlegend": true,
         "text": [
          "E",
          "D",
          "D"
         ],
         "textposition": "top center",
         "type": "scatter",
         "x": [
          167,
          168,
          290
         ],
         "xaxis": "x",
         "y": [
          3.817098522186279,
          4.169933605194092,
          3.0367177963256835
         ],
         "yaxis": "y"
        },
        {
         "customdata": [
          [
           1,
           "?"
          ],
          [
           1,
           "?"
          ],
          [
           1,
           "?"
          ]
         ],
         "hovertemplate": "Interacting Chain=ATP<br>aa_classification=positively charged<br>Residue Index=%{x}<br>Distance (angstroms)=%{y}<br>residue_one_letter=%{text}<br>interacting_resinumber=%{customdata[0]}<br>interactingresi_oneletter=%{customdata[1]}<extra></extra>",
         "legendgroup": "ATP, positively charged",
         "marker": {
          "color": "#d62728",
          "opacity": 0.6,
          "size": 10,
          "symbol": "triangle-up"
         },
         "mode": "markers+text",
         "name": "ATP, positively charged",
         "orientation": "v",
         "showlegend": true,
         "text": [
          "R",
          "R",
          "K"
         ],
         "textposition": "top center",
         "type": "scatter",
         "x": [
          16,
          18,
          101
         ],
         "xaxis": "x",
         "y": [
          3.3309743881225584,
          3.587295579910278,
          2.843432903289795
         ],
         "yaxis": "y"
        },
        {
         "customdata": [
          [
           1,
           "?"
          ],
          [
           1,
           "?"
          ],
          [
           1,
           "?"
          ],
          [
           1,
           "?"
          ],
          [
           1,
           "?"
          ],
          [
           1,
           "?"
          ]
         ],
         "hovertemplate": "Interacting Chain=ATP<br>aa_classification=nonpolar<br>Residue Index=%{x}<br>Distance (angstroms)=%{y}<br>residue_one_letter=%{text}<br>interacting_resinumber=%{customdata[0]}<br>interactingresi_oneletter=%{customdata[1]}<extra></extra>",
         "legendgroup": "ATP, nonpolar",
         "marker": {
          "color": "#d62728",
          "opacity": 0.6,
          "size": 10,
          "symbol": "circle"
         },
         "mode": "markers+text",
         "name": "ATP, nonpolar",
         "orientation": "v",
         "showlegend": true,
         "text": [
          "P",
          "G",
          "F",
          "G",
          "A",
          "G"
         ],
         "textposition": "top center",
         "type": "scatter",
         "x": [
          19,
          100,
          103,
          210,
          243,
          244
         ],
         "xaxis": "x",
         "y": [
          3.3713493824005125,
          2.91383376121521,
          2.909836006164551,
          3.992574119567871,
          4.015957355499268,
          2.9883776664733888
         ],
         "yaxis": "y"
        },
        {
         "customdata": [
          [
           1,
           "?"
          ],
          [
           1,
           "?"
          ],
          [
           1,
           "?"
          ],
          [
           1,
           "?"
          ],
          [
           1,
           "?"
          ],
          [
           1,
           "?"
          ]
         ],
         "hovertemplate": "Interacting Chain=ATP<br>aa_classification=polar uncharged<br>Residue Index=%{x}<br>Distance (angstroms)=%{y}<br>residue_one_letter=%{text}<br>interacting_resinumber=%{customdata[0]}<br>interactingresi_oneletter=%{customdata[1]}<extra></extra>",
         "legendgroup": "ATP, polar uncharged",
         "marker": {
          "color": "#d62728",
          "opacity": 0.6,
          "size": 10,
          "symbol": "square"
         },
         "mode": "markers+text",
         "name": "ATP, polar uncharged",
         "orientation": "v",
         "showlegend": true,
         "text": [
          "Q",
          "T",
          "S",
          "S",
          "N",
          "S"
         ],
         "textposition": "top center",
         "type": "scatter",
         "x": [
          96,
          97,
          98,
          99,
          208,
          211
         ],
         "xaxis": "x",
         "y": [
          3.9221823692321776,
          2.397638034820557,
          2.768696689605713,
          3.257885885238648,
          2.978098106384277,
          2.953720951080322
         ],
         "yaxis": "y"
        }
       ],
       "layout": {
        "autosize": false,
        "height": 600,
        "legend": {
         "title": {
          "text": "Interacting Chain"
         },
         "tracegroupgap": 0
        },
        "template": {
         "data": {
          "bar": [
           {
            "error_x": {
             "color": "#2a3f5f"
            },
            "error_y": {
             "color": "#2a3f5f"
            },
            "marker": {
             "line": {
              "color": "#E5ECF6",
              "width": 0.5
             },
             "pattern": {
              "fillmode": "overlay",
              "size": 10,
              "solidity": 0.2
             }
            },
            "type": "bar"
           }
          ],
          "barpolar": [
           {
            "marker": {
             "line": {
              "color": "#E5ECF6",
              "width": 0.5
             },
             "pattern": {
              "fillmode": "overlay",
              "size": 10,
              "solidity": 0.2
             }
            },
            "type": "barpolar"
           }
          ],
          "carpet": [
           {
            "aaxis": {
             "endlinecolor": "#2a3f5f",
             "gridcolor": "white",
             "linecolor": "white",
             "minorgridcolor": "white",
             "startlinecolor": "#2a3f5f"
            },
            "baxis": {
             "endlinecolor": "#2a3f5f",
             "gridcolor": "white",
             "linecolor": "white",
             "minorgridcolor": "white",
             "startlinecolor": "#2a3f5f"
            },
            "type": "carpet"
           }
          ],
          "choropleth": [
           {
            "colorbar": {
             "outlinewidth": 0,
             "ticks": ""
            },
            "type": "choropleth"
           }
          ],
          "contour": [
           {
            "colorbar": {
             "outlinewidth": 0,
             "ticks": ""
            },
            "colorscale": [
             [
              0,
              "#0d0887"
             ],
             [
              0.1111111111111111,
              "#46039f"
             ],
             [
              0.2222222222222222,
              "#7201a8"
             ],
             [
              0.3333333333333333,
              "#9c179e"
             ],
             [
              0.4444444444444444,
              "#bd3786"
             ],
             [
              0.5555555555555556,
              "#d8576b"
             ],
             [
              0.6666666666666666,
              "#ed7953"
             ],
             [
              0.7777777777777778,
              "#fb9f3a"
             ],
             [
              0.8888888888888888,
              "#fdca26"
             ],
             [
              1,
              "#f0f921"
             ]
            ],
            "type": "contour"
           }
          ],
          "contourcarpet": [
           {
            "colorbar": {
             "outlinewidth": 0,
             "ticks": ""
            },
            "type": "contourcarpet"
           }
          ],
          "heatmap": [
           {
            "colorbar": {
             "outlinewidth": 0,
             "ticks": ""
            },
            "colorscale": [
             [
              0,
              "#0d0887"
             ],
             [
              0.1111111111111111,
              "#46039f"
             ],
             [
              0.2222222222222222,
              "#7201a8"
             ],
             [
              0.3333333333333333,
              "#9c179e"
             ],
             [
              0.4444444444444444,
              "#bd3786"
             ],
             [
              0.5555555555555556,
              "#d8576b"
             ],
             [
              0.6666666666666666,
              "#ed7953"
             ],
             [
              0.7777777777777778,
              "#fb9f3a"
             ],
             [
              0.8888888888888888,
              "#fdca26"
             ],
             [
              1,
              "#f0f921"
             ]
            ],
            "type": "heatmap"
           }
          ],
          "heatmapgl": [
           {
            "colorbar": {
             "outlinewidth": 0,
             "ticks": ""
            },
            "colorscale": [
             [
              0,
              "#0d0887"
             ],
             [
              0.1111111111111111,
              "#46039f"
             ],
             [
              0.2222222222222222,
              "#7201a8"
             ],
             [
              0.3333333333333333,
              "#9c179e"
             ],
             [
              0.4444444444444444,
              "#bd3786"
             ],
             [
              0.5555555555555556,
              "#d8576b"
             ],
             [
              0.6666666666666666,
              "#ed7953"
             ],
             [
              0.7777777777777778,
              "#fb9f3a"
             ],
             [
              0.8888888888888888,
              "#fdca26"
             ],
             [
              1,
              "#f0f921"
             ]
            ],
            "type": "heatmapgl"
           }
          ],
          "histogram": [
           {
            "marker": {
             "pattern": {
              "fillmode": "overlay",
              "size": 10,
              "solidity": 0.2
             }
            },
            "type": "histogram"
           }
          ],
          "histogram2d": [
           {
            "colorbar": {
             "outlinewidth": 0,
             "ticks": ""
            },
            "colorscale": [
             [
              0,
              "#0d0887"
             ],
             [
              0.1111111111111111,
              "#46039f"
             ],
             [
              0.2222222222222222,
              "#7201a8"
             ],
             [
              0.3333333333333333,
              "#9c179e"
             ],
             [
              0.4444444444444444,
              "#bd3786"
             ],
             [
              0.5555555555555556,
              "#d8576b"
             ],
             [
              0.6666666666666666,
              "#ed7953"
             ],
             [
              0.7777777777777778,
              "#fb9f3a"
             ],
             [
              0.8888888888888888,
              "#fdca26"
             ],
             [
              1,
              "#f0f921"
             ]
            ],
            "type": "histogram2d"
           }
          ],
          "histogram2dcontour": [
           {
            "colorbar": {
             "outlinewidth": 0,
             "ticks": ""
            },
            "colorscale": [
             [
              0,
              "#0d0887"
             ],
             [
              0.1111111111111111,
              "#46039f"
             ],
             [
              0.2222222222222222,
              "#7201a8"
             ],
             [
              0.3333333333333333,
              "#9c179e"
             ],
             [
              0.4444444444444444,
              "#bd3786"
             ],
             [
              0.5555555555555556,
              "#d8576b"
             ],
             [
              0.6666666666666666,
              "#ed7953"
             ],
             [
              0.7777777777777778,
              "#fb9f3a"
             ],
             [
              0.8888888888888888,
              "#fdca26"
             ],
             [
              1,
              "#f0f921"
             ]
            ],
            "type": "histogram2dcontour"
           }
          ],
          "mesh3d": [
           {
            "colorbar": {
             "outlinewidth": 0,
             "ticks": ""
            },
            "type": "mesh3d"
           }
          ],
          "parcoords": [
           {
            "line": {
             "colorbar": {
              "outlinewidth": 0,
              "ticks": ""
             }
            },
            "type": "parcoords"
           }
          ],
          "pie": [
           {
            "automargin": true,
            "type": "pie"
           }
          ],
          "scatter": [
           {
            "fillpattern": {
             "fillmode": "overlay",
             "size": 10,
             "solidity": 0.2
            },
            "type": "scatter"
           }
          ],
          "scatter3d": [
           {
            "line": {
             "colorbar": {
              "outlinewidth": 0,
              "ticks": ""
             }
            },
            "marker": {
             "colorbar": {
              "outlinewidth": 0,
              "ticks": ""
             }
            },
            "type": "scatter3d"
           }
          ],
          "scattercarpet": [
           {
            "marker": {
             "colorbar": {
              "outlinewidth": 0,
              "ticks": ""
             }
            },
            "type": "scattercarpet"
           }
          ],
          "scattergeo": [
           {
            "marker": {
             "colorbar": {
              "outlinewidth": 0,
              "ticks": ""
             }
            },
            "type": "scattergeo"
           }
          ],
          "scattergl": [
           {
            "marker": {
             "colorbar": {
              "outlinewidth": 0,
              "ticks": ""
             }
            },
            "type": "scattergl"
           }
          ],
          "scattermapbox": [
           {
            "marker": {
             "colorbar": {
              "outlinewidth": 0,
              "ticks": ""
             }
            },
            "type": "scattermapbox"
           }
          ],
          "scatterpolar": [
           {
            "marker": {
             "colorbar": {
              "outlinewidth": 0,
              "ticks": ""
             }
            },
            "type": "scatterpolar"
           }
          ],
          "scatterpolargl": [
           {
            "marker": {
             "colorbar": {
              "outlinewidth": 0,
              "ticks": ""
             }
            },
            "type": "scatterpolargl"
           }
          ],
          "scatterternary": [
           {
            "marker": {
             "colorbar": {
              "outlinewidth": 0,
              "ticks": ""
             }
            },
            "type": "scatterternary"
           }
          ],
          "surface": [
           {
            "colorbar": {
             "outlinewidth": 0,
             "ticks": ""
            },
            "colorscale": [
             [
              0,
              "#0d0887"
             ],
             [
              0.1111111111111111,
              "#46039f"
             ],
             [
              0.2222222222222222,
              "#7201a8"
             ],
             [
              0.3333333333333333,
              "#9c179e"
             ],
             [
              0.4444444444444444,
              "#bd3786"
             ],
             [
              0.5555555555555556,
              "#d8576b"
             ],
             [
              0.6666666666666666,
              "#ed7953"
             ],
             [
              0.7777777777777778,
              "#fb9f3a"
             ],
             [
              0.8888888888888888,
              "#fdca26"
             ],
             [
              1,
              "#f0f921"
             ]
            ],
            "type": "surface"
           }
          ],
          "table": [
           {
            "cells": {
             "fill": {
              "color": "#EBF0F8"
             },
             "line": {
              "color": "white"
             }
            },
            "header": {
             "fill": {
              "color": "#C8D4E3"
             },
             "line": {
              "color": "white"
             }
            },
            "type": "table"
           }
          ]
         },
         "layout": {
          "annotationdefaults": {
           "arrowcolor": "#2a3f5f",
           "arrowhead": 0,
           "arrowwidth": 1
          },
          "autotypenumbers": "strict",
          "coloraxis": {
           "colorbar": {
            "outlinewidth": 0,
            "ticks": ""
           }
          },
          "colorscale": {
           "diverging": [
            [
             0,
             "#8e0152"
            ],
            [
             0.1,
             "#c51b7d"
            ],
            [
             0.2,
             "#de77ae"
            ],
            [
             0.3,
             "#f1b6da"
            ],
            [
             0.4,
             "#fde0ef"
            ],
            [
             0.5,
             "#f7f7f7"
            ],
            [
             0.6,
             "#e6f5d0"
            ],
            [
             0.7,
             "#b8e186"
            ],
            [
             0.8,
             "#7fbc41"
            ],
            [
             0.9,
             "#4d9221"
            ],
            [
             1,
             "#276419"
            ]
           ],
           "sequential": [
            [
             0,
             "#0d0887"
            ],
            [
             0.1111111111111111,
             "#46039f"
            ],
            [
             0.2222222222222222,
             "#7201a8"
            ],
            [
             0.3333333333333333,
             "#9c179e"
            ],
            [
             0.4444444444444444,
             "#bd3786"
            ],
            [
             0.5555555555555556,
             "#d8576b"
            ],
            [
             0.6666666666666666,
             "#ed7953"
            ],
            [
             0.7777777777777778,
             "#fb9f3a"
            ],
            [
             0.8888888888888888,
             "#fdca26"
            ],
            [
             1,
             "#f0f921"
            ]
           ],
           "sequentialminus": [
            [
             0,
             "#0d0887"
            ],
            [
             0.1111111111111111,
             "#46039f"
            ],
            [
             0.2222222222222222,
             "#7201a8"
            ],
            [
             0.3333333333333333,
             "#9c179e"
            ],
            [
             0.4444444444444444,
             "#bd3786"
            ],
            [
             0.5555555555555556,
             "#d8576b"
            ],
            [
             0.6666666666666666,
             "#ed7953"
            ],
            [
             0.7777777777777778,
             "#fb9f3a"
            ],
            [
             0.8888888888888888,
             "#fdca26"
            ],
            [
             1,
             "#f0f921"
            ]
           ]
          },
          "colorway": [
           "#636efa",
           "#EF553B",
           "#00cc96",
           "#ab63fa",
           "#FFA15A",
           "#19d3f3",
           "#FF6692",
           "#B6E880",
           "#FF97FF",
           "#FECB52"
          ],
          "font": {
           "color": "#2a3f5f"
          },
          "geo": {
           "bgcolor": "white",
           "lakecolor": "white",
           "landcolor": "#E5ECF6",
           "showlakes": true,
           "showland": true,
           "subunitcolor": "white"
          },
          "hoverlabel": {
           "align": "left"
          },
          "hovermode": "closest",
          "mapbox": {
           "style": "light"
          },
          "paper_bgcolor": "white",
          "plot_bgcolor": "#E5ECF6",
          "polar": {
           "angularaxis": {
            "gridcolor": "white",
            "linecolor": "white",
            "ticks": ""
           },
           "bgcolor": "#E5ECF6",
           "radialaxis": {
            "gridcolor": "white",
            "linecolor": "white",
            "ticks": ""
           }
          },
          "scene": {
           "xaxis": {
            "backgroundcolor": "#E5ECF6",
            "gridcolor": "white",
            "gridwidth": 2,
            "linecolor": "white",
            "showbackground": true,
            "ticks": "",
            "zerolinecolor": "white"
           },
           "yaxis": {
            "backgroundcolor": "#E5ECF6",
            "gridcolor": "white",
            "gridwidth": 2,
            "linecolor": "white",
            "showbackground": true,
            "ticks": "",
            "zerolinecolor": "white"
           },
           "zaxis": {
            "backgroundcolor": "#E5ECF6",
            "gridcolor": "white",
            "gridwidth": 2,
            "linecolor": "white",
            "showbackground": true,
            "ticks": "",
            "zerolinecolor": "white"
           }
          },
          "shapedefaults": {
           "line": {
            "color": "#2a3f5f"
           }
          },
          "ternary": {
           "aaxis": {
            "gridcolor": "white",
            "linecolor": "white",
            "ticks": ""
           },
           "baxis": {
            "gridcolor": "white",
            "linecolor": "white",
            "ticks": ""
           },
           "bgcolor": "#E5ECF6",
           "caxis": {
            "gridcolor": "white",
            "linecolor": "white",
            "ticks": ""
           }
          },
          "title": {
           "x": 0.05
          },
          "xaxis": {
           "automargin": true,
           "gridcolor": "white",
           "linecolor": "white",
           "ticks": "",
           "title": {
            "standoff": 15
           },
           "zerolinecolor": "white",
           "zerolinewidth": 2
          },
          "yaxis": {
           "automargin": true,
           "gridcolor": "white",
           "linecolor": "white",
           "ticks": "",
           "title": {
            "standoff": 15
           },
           "zerolinecolor": "white",
           "zerolinewidth": 2
          }
         }
        },
        "title": {
         "text": "Interactions for Blesto"
        },
        "width": 1600,
        "xaxis": {
         "anchor": "y",
         "domain": [
          0,
          1
         ],
         "dtick": 20,
         "range": [
          0,
          600
         ],
         "title": {
          "text": "Residue Index"
         }
        },
        "yaxis": {
         "anchor": "x",
         "domain": [
          0,
          1
         ],
         "range": [
          1.5,
          5
         ],
         "title": {
          "text": "Distance (angstroms)"
         }
        }
       }
      }
     },
     "metadata": {},
     "output_type": "display_data"
    },
    {
     "data": {
      "application/vnd.plotly.v1+json": {
       "config": {
        "plotlyServerURL": "https://plot.ly"
       },
       "data": [
        {
         "customdata": [
          [
           339,
           "A"
          ],
          [
           336,
           "E"
          ],
          [
           352,
           "E"
          ],
          [
           371,
           "R"
          ],
          [
           402,
           "E"
          ],
          [
           409,
           "E"
          ],
          [
           411,
           "E"
          ],
          [
           430,
           "D"
          ],
          [
           439,
           "L"
          ],
          [
           467,
           "M"
          ],
          [
           491,
           "E"
          ],
          [
           506,
           "F"
          ]
         ],
         "hovertemplate": "Interacting Chain=kinesin B<br>aa_classification=positively charged<br>Residue Index=%{x}<br>Distance (angstroms)=%{y}<br>residue_one_letter=%{text}<br>interacting_resinumber=%{customdata[0]}<br>interactingresi_oneletter=%{customdata[1]}<extra></extra>",
         "legendgroup": "kinesin B, positively charged",
         "marker": {
          "color": "#1f77b4",
          "opacity": 0.6,
          "size": 10,
          "symbol": "triangle-up"
         },
         "mode": "markers+text",
         "name": "kinesin B, positively charged",
         "orientation": "v",
         "showlegend": true,
         "text": [
          "R",
          "K",
          "K",
          "R",
          "K",
          "K",
          "K",
          "K",
          "R",
          "K",
          "K",
          "K"
         ],
         "textposition": "top center",
         "type": "scatter",
         "x": [
          337,
          343,
          357,
          371,
          397,
          408,
          412,
          429,
          440,
          468,
          496,
          505
         ],
         "xaxis": "x",
         "y": [
          4.312966680526733,
          3.255952739715576,
          2.4018084526062013,
          3.805566596984863,
          2.666437721252441,
          2.488913154602051,
          2.526824712753296,
          2.4003908157348635,
          3.681989622116089,
          3.373628330230713,
          2.784602165222168,
          3.31846866607666
         ],
         "yaxis": "y"
        },
        {
         "customdata": [
          [
           342,
           "L"
          ],
          [
           339,
           "A"
          ],
          [
           346,
           "L"
          ],
          [
           345,
           "L"
          ],
          [
           353,
           "I"
          ],
          [
           352,
           "E"
          ],
          [
           360,
           "I"
          ],
          [
           356,
           "L"
          ],
          [
           360,
           "I"
          ],
          [
           391,
           "L"
          ],
          [
           391,
           "L"
          ],
          [
           398,
           "C"
          ],
          [
           405,
           "L"
          ],
          [
           405,
           "L"
          ],
          [
           412,
           "K"
          ],
          [
           415,
           "L"
          ],
          [
           418,
           "Q"
          ],
          [
           426,
           "I"
          ],
          [
           429,
           "K"
          ],
          [
           436,
           "M"
          ],
          [
           437,
           "N"
          ],
          [
           443,
           "A"
          ],
          [
           443,
           "A"
          ],
          [
           450,
           "Y"
          ],
          [
           453,
           "I"
          ],
          [
           464,
           "I"
          ],
          [
           460,
           "L"
          ],
          [
           468,
           "K"
          ],
          [
           471,
           "L"
          ],
          [
           470,
           "I"
          ],
          [
           481,
           "Q"
          ],
          [
           481,
           "Q"
          ],
          [
           485,
           "I"
          ],
          [
           492,
           "N"
          ],
          [
           495,
           "I"
          ],
          [
           499,
           "F"
          ],
          [
           503,
           "Q"
          ],
          [
           509,
           "Q"
          ]
         ],
         "hovertemplate": "Interacting Chain=kinesin B<br>aa_classification=nonpolar<br>Residue Index=%{x}<br>Distance (angstroms)=%{y}<br>residue_one_letter=%{text}<br>interacting_resinumber=%{customdata[0]}<br>interactingresi_oneletter=%{customdata[1]}<extra></extra>",
         "legendgroup": "kinesin B, nonpolar",
         "marker": {
          "color": "#1f77b4",
          "opacity": 0.6,
          "size": 10,
          "symbol": "circle"
         },
         "mode": "markers+text",
         "name": "kinesin B, nonpolar",
         "orientation": "v",
         "showlegend": true,
         "text": [
          "A",
          "L",
          "L",
          "L",
          "A",
          "I",
          "L",
          "I",
          "L",
          "A",
          "L",
          "L",
          "L",
          "L",
          "L",
          "L",
          "L",
          "A",
          "I",
          "L",
          "M",
          "L",
          "A",
          "L",
          "I",
          "L",
          "I",
          "M",
          "I",
          "L",
          "I",
          "A",
          "I",
          "L",
          "I",
          "F",
          "L",
          "F"
         ],
         "textposition": "top center",
         "type": "scatter",
         "x": [
          339,
          342,
          345,
          346,
          349,
          353,
          356,
          360,
          363,
          390,
          391,
          394,
          401,
          405,
          415,
          416,
          419,
          422,
          426,
          433,
          436,
          439,
          443,
          449,
          453,
          460,
          464,
          467,
          470,
          471,
          478,
          482,
          485,
          488,
          495,
          499,
          502,
          506
         ],
         "xaxis": "x",
         "y": [
          3.263579559326172,
          3.2507726192474364,
          3.482590436935425,
          3.387475156784057,
          3.5105302810668944,
          3.438958024978638,
          3.335972309112549,
          3.311741256713867,
          4.231397438049316,
          4.122301769256592,
          3.5925776958465576,
          3.570753335952759,
          3.53344144821167,
          2.933637523651123,
          3.235149049758911,
          3.6561363697052,
          3.110843086242676,
          3.449647808074951,
          3.2362458229064943,
          3.3082526206970213,
          2.937856721878052,
          3.597331714630127,
          3.255627918243408,
          3.271126222610474,
          2.6751770973205566,
          3.0147634029388426,
          3.068287563323975,
          3.336785745620728,
          3.3918025970458983,
          3.378999137878418,
          3.0421806812286376,
          3.845000457763672,
          3.4065723419189453,
          3.340362787246704,
          3.1408653259277344,
          3.140319490432739,
          3.52370138168335,
          2.718630170822144
         ],
         "yaxis": "y"
        },
        {
         "customdata": [
          [
           364,
           "E"
          ],
          [
           384,
           "N"
          ],
          [
           391,
           "L"
          ],
          [
           394,
           "L"
          ],
          [
           398,
           "C"
          ],
          [
           405,
           "L"
          ],
          [
           419,
           "L"
          ],
          [
           426,
           "I"
          ],
          [
           436,
           "M"
          ],
          [
           450,
           "Y"
          ],
          [
           446,
           "Y"
          ],
          [
           453,
           "I"
          ],
          [
           453,
           "I"
          ],
          [
           457,
           "N"
          ],
          [
           460,
           "L"
          ],
          [
           464,
           "I"
          ],
          [
           478,
           "I"
          ],
          [
           481,
           "Q"
          ],
          [
           485,
           "I"
          ],
          [
           488,
           "L"
          ],
          [
           492,
           "N"
          ],
          [
           502,
           "L"
          ],
          [
           506,
           "F"
          ],
          [
           509,
           "Q"
          ]
         ],
         "hovertemplate": "Interacting Chain=kinesin B<br>aa_classification=polar uncharged<br>Residue Index=%{x}<br>Distance (angstroms)=%{y}<br>residue_one_letter=%{text}<br>interacting_resinumber=%{customdata[0]}<br>interactingresi_oneletter=%{customdata[1]}<extra></extra>",
         "legendgroup": "kinesin B, polar uncharged",
         "marker": {
          "color": "#1f77b4",
          "opacity": 0.6,
          "size": 10,
          "symbol": "square"
         },
         "mode": "markers+text",
         "name": "kinesin B, polar uncharged",
         "orientation": "v",
         "showlegend": true,
         "text": [
          "Y",
          "N",
          "N",
          "Q",
          "C",
          "Q",
          "Q",
          "Q",
          "N",
          "Y",
          "S",
          "Y",
          "T",
          "N",
          "N",
          "Q",
          "S",
          "Q",
          "T",
          "Q",
          "N",
          "Q",
          "Q",
          "S"
         ],
         "textposition": "top center",
         "type": "scatter",
         "x": [
          359,
          384,
          387,
          395,
          398,
          404,
          418,
          425,
          437,
          446,
          447,
          450,
          454,
          457,
          461,
          463,
          474,
          481,
          484,
          489,
          492,
          503,
          509,
          510
         ],
         "xaxis": "x",
         "y": [
          2.920966148376465,
          3.1407095909118654,
          3.665031671524048,
          3.5955044269561767,
          2.565967655181885,
          3.198957347869873,
          3.1092042922973637,
          3.394354152679443,
          2.8874585151672365,
          3.8432905673980713,
          3.776852369308472,
          3.2176904678344727,
          3.114310789108276,
          2.9066375732421874,
          3.266058921813965,
          3.777427291870117,
          3.6727139949798575,
          3.000303936004639,
          4.1353789329528805,
          3.701128673553467,
          2.469397640228272,
          3.5245058059692385,
          2.743754243850708,
          4.265879392623901
         ],
         "yaxis": "y"
        },
        {
         "customdata": [
          [
           343,
           "K"
          ],
          [
           357,
           "K"
          ],
          [
           359,
           "Y"
          ],
          [
           387,
           "N"
          ],
          [
           397,
           "K"
          ],
          [
           408,
           "K"
          ],
          [
           412,
           "K"
          ],
          [
           429,
           "K"
          ],
          [
           433,
           "L"
          ],
          [
           457,
           "N"
          ],
          [
           478,
           "I"
          ],
          [
           496,
           "K"
          ],
          [
           499,
           "F"
          ]
         ],
         "hovertemplate": "Interacting Chain=kinesin B<br>aa_classification=negatively charged<br>Residue Index=%{x}<br>Distance (angstroms)=%{y}<br>residue_one_letter=%{text}<br>interacting_resinumber=%{customdata[0]}<br>interactingresi_oneletter=%{customdata[1]}<extra></extra>",
         "legendgroup": "kinesin B, negatively charged",
         "marker": {
          "color": "#1f77b4",
          "opacity": 0.6,
          "size": 10,
          "symbol": "triangle-down"
         },
         "mode": "markers+text",
         "name": "kinesin B, negatively charged",
         "orientation": "v",
         "showlegend": true,
         "text": [
          "E",
          "E",
          "E",
          "D",
          "E",
          "E",
          "E",
          "D",
          "E",
          "E",
          "E",
          "E",
          "E"
         ],
         "textposition": "top center",
         "type": "scatter",
         "x": [
          336,
          352,
          364,
          388,
          402,
          409,
          411,
          430,
          432,
          456,
          477,
          491,
          498
         ],
         "xaxis": "x",
         "y": [
          4.11055965423584,
          2.7307245254516603,
          3.300364303588867,
          3.71080813407898,
          2.6529170513153075,
          2.391669607162476,
          2.541678857803345,
          2.4388804912567137,
          3.467065477371216,
          3.558831310272217,
          3.68696322441101,
          2.824006271362305,
          3.1680695533752443
         ],
         "yaxis": "y"
        },
        {
         "customdata": [
          [
           420,
           "E"
          ],
          [
           410,
           "G"
          ],
          [
           409,
           "V"
          ],
          [
           423,
           "E"
          ]
         ],
         "hovertemplate": "Interacting Chain=alpha-tubulin<br>aa_classification=positively charged<br>Residue Index=%{x}<br>Distance (angstroms)=%{y}<br>residue_one_letter=%{text}<br>interacting_resinumber=%{customdata[0]}<br>interactingresi_oneletter=%{customdata[1]}<extra></extra>",
         "legendgroup": "alpha-tubulin, positively charged",
         "marker": {
          "color": "#ff7f0e",
          "opacity": 0.6,
          "size": 10,
          "symbol": "triangle-up"
         },
         "mode": "markers+text",
         "name": "alpha-tubulin, positively charged",
         "orientation": "v",
         "showlegend": true,
         "text": [
          "K",
          "K",
          "K",
          "R"
         ],
         "textposition": "top center",
         "type": "scatter",
         "x": [
          238,
          253,
          257,
          319
         ],
         "xaxis": "x",
         "y": [
          2.5744694232940675,
          3.2724626064300537,
          3.400786161422729,
          2.928579330444336
         ],
         "yaxis": "y"
        },
        {
         "customdata": [
          [
           412,
           "G"
          ],
          [
           112,
           "K"
          ],
          [
           420,
           "E"
          ]
         ],
         "hovertemplate": "Interacting Chain=alpha-tubulin<br>aa_classification=nonpolar<br>Residue Index=%{x}<br>Distance (angstroms)=%{y}<br>residue_one_letter=%{text}<br>interacting_resinumber=%{customdata[0]}<br>interactingresi_oneletter=%{customdata[1]}<extra></extra>",
         "legendgroup": "alpha-tubulin, nonpolar",
         "marker": {
          "color": "#ff7f0e",
          "opacity": 0.6,
          "size": 10,
          "symbol": "circle"
         },
         "mode": "markers+text",
         "name": "alpha-tubulin, nonpolar",
         "orientation": "v",
         "showlegend": true,
         "text": [
          "I",
          "A",
          "A"
         ],
         "textposition": "top center",
         "type": "scatter",
         "x": [
          239,
          244,
          312
         ],
         "xaxis": "x",
         "y": [
          3.050818157196045,
          3.5318408489227293,
          2.727152729034424
         ],
         "yaxis": "y"
        },
        {
         "customdata": [
          [
           414,
           "E"
          ],
          [
           112,
           "K"
          ],
          [
           409,
           "V"
          ],
          [
           415,
           "E"
          ],
          [
           402,
           "R"
          ]
         ],
         "hovertemplate": "Interacting Chain=alpha-tubulin<br>aa_classification=polar uncharged<br>Residue Index=%{x}<br>Distance (angstroms)=%{y}<br>residue_one_letter=%{text}<br>interacting_resinumber=%{customdata[0]}<br>interactingresi_oneletter=%{customdata[1]}<extra></extra>",
         "legendgroup": "alpha-tubulin, polar uncharged",
         "marker": {
          "color": "#ff7f0e",
          "opacity": 0.6,
          "size": 10,
          "symbol": "square"
         },
         "mode": "markers+text",
         "name": "alpha-tubulin, polar uncharged",
         "orientation": "v",
         "showlegend": true,
         "text": [
          "S",
          "Q",
          "N",
          "S",
          "N"
         ],
         "textposition": "top center",
         "type": "scatter",
         "x": [
          236,
          245,
          256,
          260,
          264
         ],
         "xaxis": "x",
         "y": [
          3.0117444515228278,
          4.3583409786224365,
          3.4775046348571776,
          2.520856332778931,
          3.4942336082458496
         ],
         "yaxis": "y"
        },
        {
         "customdata": [
          [
           414,
           "E"
          ],
          [
           414,
           "E"
          ]
         ],
         "hovertemplate": "Interacting Chain=alpha-tubulin<br>aa_classification=negatively charged<br>Residue Index=%{x}<br>Distance (angstroms)=%{y}<br>residue_one_letter=%{text}<br>interacting_resinumber=%{customdata[0]}<br>interactingresi_oneletter=%{customdata[1]}<extra></extra>",
         "legendgroup": "alpha-tubulin, negatively charged",
         "marker": {
          "color": "#ff7f0e",
          "opacity": 0.6,
          "size": 10,
          "symbol": "triangle-down"
         },
         "mode": "markers+text",
         "name": "alpha-tubulin, negatively charged",
         "orientation": "v",
         "showlegend": true,
         "text": [
          "E",
          "E"
         ],
         "textposition": "top center",
         "type": "scatter",
         "x": [
          237,
          313
         ],
         "xaxis": "x",
         "y": [
          4.290096187591553,
          4.182229328155517
         ],
         "yaxis": "y"
        },
        {
         "customdata": [
          [
           157,
           "E"
          ],
          [
           407,
           "E"
          ],
          [
           404,
           "D"
          ],
          [
           432,
           "E"
          ],
          [
           424,
           "Q"
          ],
          [
           417,
           "D"
          ],
          [
           194,
           "E"
          ],
          [
           410,
           "E"
          ]
         ],
         "hovertemplate": "Interacting Chain=beta-tubulin<br>aa_classification=positively charged<br>Residue Index=%{x}<br>Distance (angstroms)=%{y}<br>residue_one_letter=%{text}<br>interacting_resinumber=%{customdata[0]}<br>interactingresi_oneletter=%{customdata[1]}<extra></extra>",
         "legendgroup": "beta-tubulin, positively charged",
         "marker": {
          "color": "#2ca02c",
          "opacity": 0.6,
          "size": 10,
          "symbol": "triangle-up"
         },
         "mode": "markers+text",
         "name": "beta-tubulin, positively charged",
         "orientation": "v",
         "showlegend": true,
         "text": [
          "R",
          "K",
          "R",
          "K",
          "H",
          "R",
          "K",
          "R"
         ],
         "textposition": "top center",
         "type": "scatter",
         "x": [
          142,
          155,
          157,
          273,
          276,
          280,
          283,
          286
         ],
         "xaxis": "x",
         "y": [
          2.703898429870605,
          2.717047929763794,
          2.9940618515014648,
          3.498203992843628,
          2.943233299255371,
          2.521123838424683,
          3.266933155059814,
          3.702661657333374
         ],
         "yaxis": "y"
        },
        {
         "customdata": [
          [
           410,
           "E"
          ],
          [
           406,
           "M"
          ],
          [
           424,
           "Q"
          ]
         ],
         "hovertemplate": "Interacting Chain=beta-tubulin<br>aa_classification=nonpolar<br>Residue Index=%{x}<br>Distance (angstroms)=%{y}<br>residue_one_letter=%{text}<br>interacting_resinumber=%{customdata[0]}<br>interactingresi_oneletter=%{customdata[1]}<extra></extra>",
         "legendgroup": "beta-tubulin, nonpolar",
         "marker": {
          "color": "#2ca02c",
          "opacity": 0.6,
          "size": 10,
          "symbol": "circle"
         },
         "mode": "markers+text",
         "name": "beta-tubulin, nonpolar",
         "orientation": "v",
         "showlegend": true,
         "text": [
          "V",
          "W",
          "A"
         ],
         "textposition": "top center",
         "type": "scatter",
         "x": [
          156,
          165,
          275
         ],
         "xaxis": "x",
         "y": [
          3.718526029586792,
          4.114475536346435,
          3.586660003662109
         ],
         "yaxis": "y"
        },
        {
         "customdata": [
          [
           424,
           "Q"
          ]
         ],
         "hovertemplate": "Interacting Chain=beta-tubulin<br>aa_classification=polar uncharged<br>Residue Index=%{x}<br>Distance (angstroms)=%{y}<br>residue_one_letter=%{text}<br>interacting_resinumber=%{customdata[0]}<br>interactingresi_oneletter=%{customdata[1]}<extra></extra>",
         "legendgroup": "beta-tubulin, polar uncharged",
         "marker": {
          "color": "#2ca02c",
          "opacity": 0.6,
          "size": 10,
          "symbol": "square"
         },
         "mode": "markers+text",
         "name": "beta-tubulin, polar uncharged",
         "orientation": "v",
         "showlegend": true,
         "text": [
          "S"
         ],
         "textposition": "top center",
         "type": "scatter",
         "x": [
          274
         ],
         "xaxis": "x",
         "y": [
          3.3118804931640624
         ],
         "yaxis": "y"
        },
        {
         "customdata": [
          [
           413,
           "S"
          ],
          [
           406,
           "M"
          ],
          [
           262,
           "R"
          ]
         ],
         "hovertemplate": "Interacting Chain=beta-tubulin<br>aa_classification=negatively charged<br>Residue Index=%{x}<br>Distance (angstroms)=%{y}<br>residue_one_letter=%{text}<br>interacting_resinumber=%{customdata[0]}<br>interactingresi_oneletter=%{customdata[1]}<extra></extra>",
         "legendgroup": "beta-tubulin, negatively charged",
         "marker": {
          "color": "#2ca02c",
          "opacity": 0.6,
          "size": 10,
          "symbol": "triangle-down"
         },
         "mode": "markers+text",
         "name": "beta-tubulin, negatively charged",
         "orientation": "v",
         "showlegend": true,
         "text": [
          "E",
          "E",
          "D"
         ],
         "textposition": "top center",
         "type": "scatter",
         "x": [
          158,
          159,
          281
         ],
         "xaxis": "x",
         "y": [
          3.148911523818969,
          3.931344223022461,
          3.2378052711486816
         ],
         "yaxis": "y"
        },
        {
         "customdata": [
          [
           1,
           "?"
          ],
          [
           1,
           "?"
          ],
          [
           1,
           "?"
          ],
          [
           1,
           "?"
          ]
         ],
         "hovertemplate": "Interacting Chain=ATP<br>aa_classification=positively charged<br>Residue Index=%{x}<br>Distance (angstroms)=%{y}<br>residue_one_letter=%{text}<br>interacting_resinumber=%{customdata[0]}<br>interactingresi_oneletter=%{customdata[1]}<extra></extra>",
         "legendgroup": "ATP, positively charged",
         "marker": {
          "color": "#d62728",
          "opacity": 0.6,
          "size": 10,
          "symbol": "triangle-up"
         },
         "mode": "markers+text",
         "name": "ATP, positively charged",
         "orientation": "v",
         "showlegend": true,
         "text": [
          "R",
          "R",
          "K",
          "H"
         ],
         "textposition": "top center",
         "type": "scatter",
         "x": [
          9,
          11,
          91,
          93
         ],
         "xaxis": "x",
         "y": [
          3.654052972793579,
          3.605265951156616,
          2.730697917938232,
          2.69579701423645
         ],
         "yaxis": "y"
        },
        {
         "customdata": [
          [
           1,
           "?"
          ],
          [
           1,
           "?"
          ],
          [
           1,
           "?"
          ],
          [
           1,
           "?"
          ]
         ],
         "hovertemplate": "Interacting Chain=ATP<br>aa_classification=nonpolar<br>Residue Index=%{x}<br>Distance (angstroms)=%{y}<br>residue_one_letter=%{text}<br>interacting_resinumber=%{customdata[0]}<br>interactingresi_oneletter=%{customdata[1]}<extra></extra>",
         "legendgroup": "ATP, nonpolar",
         "marker": {
          "color": "#d62728",
          "opacity": 0.6,
          "size": 10,
          "symbol": "circle"
         },
         "mode": "markers+text",
         "name": "ATP, nonpolar",
         "orientation": "v",
         "showlegend": true,
         "text": [
          "P",
          "G",
          "A",
          "G"
         ],
         "textposition": "top center",
         "type": "scatter",
         "x": [
          12,
          90,
          234,
          235
         ],
         "xaxis": "x",
         "y": [
          3.634536361694336,
          3.005111026763916,
          3.957736682891846,
          2.9579620361328125
         ],
         "yaxis": "y"
        },
        {
         "customdata": [
          [
           1,
           "?"
          ],
          [
           1,
           "?"
          ],
          [
           1,
           "?"
          ],
          [
           1,
           "?"
          ],
          [
           1,
           "?"
          ],
          [
           1,
           "?"
          ]
         ],
         "hovertemplate": "Interacting Chain=ATP<br>aa_classification=polar uncharged<br>Residue Index=%{x}<br>Distance (angstroms)=%{y}<br>residue_one_letter=%{text}<br>interacting_resinumber=%{customdata[0]}<br>interactingresi_oneletter=%{customdata[1]}<extra></extra>",
         "legendgroup": "ATP, polar uncharged",
         "marker": {
          "color": "#d62728",
          "opacity": 0.6,
          "size": 10,
          "symbol": "square"
         },
         "mode": "markers+text",
         "name": "ATP, polar uncharged",
         "orientation": "v",
         "showlegend": true,
         "text": [
          "Q",
          "T",
          "S",
          "S",
          "N",
          "S"
         ],
         "textposition": "top center",
         "type": "scatter",
         "x": [
          86,
          87,
          88,
          89,
          199,
          202
         ],
         "xaxis": "x",
         "y": [
          3.913716220855713,
          2.610676050186157,
          2.8296688079833983,
          3.313247966766357,
          3.012807893753052,
          2.9115357875823977
         ],
         "yaxis": "y"
        },
        {
         "customdata": [
          [
           1,
           "?"
          ]
         ],
         "hovertemplate": "Interacting Chain=ATP<br>aa_classification=negatively charged<br>Residue Index=%{x}<br>Distance (angstroms)=%{y}<br>residue_one_letter=%{text}<br>interacting_resinumber=%{customdata[0]}<br>interactingresi_oneletter=%{customdata[1]}<extra></extra>",
         "legendgroup": "ATP, negatively charged",
         "marker": {
          "color": "#d62728",
          "opacity": 0.6,
          "size": 10,
          "symbol": "triangle-down"
         },
         "mode": "markers+text",
         "name": "ATP, negatively charged",
         "orientation": "v",
         "showlegend": true,
         "text": [
          "E"
         ],
         "textposition": "top center",
         "type": "scatter",
         "x": [
          201
         ],
         "xaxis": "x",
         "y": [
          4.1366040229797365
         ],
         "yaxis": "y"
        }
       ],
       "layout": {
        "autosize": false,
        "height": 600,
        "legend": {
         "title": {
          "text": "Interacting Chain"
         },
         "tracegroupgap": 0
        },
        "template": {
         "data": {
          "bar": [
           {
            "error_x": {
             "color": "#2a3f5f"
            },
            "error_y": {
             "color": "#2a3f5f"
            },
            "marker": {
             "line": {
              "color": "#E5ECF6",
              "width": 0.5
             },
             "pattern": {
              "fillmode": "overlay",
              "size": 10,
              "solidity": 0.2
             }
            },
            "type": "bar"
           }
          ],
          "barpolar": [
           {
            "marker": {
             "line": {
              "color": "#E5ECF6",
              "width": 0.5
             },
             "pattern": {
              "fillmode": "overlay",
              "size": 10,
              "solidity": 0.2
             }
            },
            "type": "barpolar"
           }
          ],
          "carpet": [
           {
            "aaxis": {
             "endlinecolor": "#2a3f5f",
             "gridcolor": "white",
             "linecolor": "white",
             "minorgridcolor": "white",
             "startlinecolor": "#2a3f5f"
            },
            "baxis": {
             "endlinecolor": "#2a3f5f",
             "gridcolor": "white",
             "linecolor": "white",
             "minorgridcolor": "white",
             "startlinecolor": "#2a3f5f"
            },
            "type": "carpet"
           }
          ],
          "choropleth": [
           {
            "colorbar": {
             "outlinewidth": 0,
             "ticks": ""
            },
            "type": "choropleth"
           }
          ],
          "contour": [
           {
            "colorbar": {
             "outlinewidth": 0,
             "ticks": ""
            },
            "colorscale": [
             [
              0,
              "#0d0887"
             ],
             [
              0.1111111111111111,
              "#46039f"
             ],
             [
              0.2222222222222222,
              "#7201a8"
             ],
             [
              0.3333333333333333,
              "#9c179e"
             ],
             [
              0.4444444444444444,
              "#bd3786"
             ],
             [
              0.5555555555555556,
              "#d8576b"
             ],
             [
              0.6666666666666666,
              "#ed7953"
             ],
             [
              0.7777777777777778,
              "#fb9f3a"
             ],
             [
              0.8888888888888888,
              "#fdca26"
             ],
             [
              1,
              "#f0f921"
             ]
            ],
            "type": "contour"
           }
          ],
          "contourcarpet": [
           {
            "colorbar": {
             "outlinewidth": 0,
             "ticks": ""
            },
            "type": "contourcarpet"
           }
          ],
          "heatmap": [
           {
            "colorbar": {
             "outlinewidth": 0,
             "ticks": ""
            },
            "colorscale": [
             [
              0,
              "#0d0887"
             ],
             [
              0.1111111111111111,
              "#46039f"
             ],
             [
              0.2222222222222222,
              "#7201a8"
             ],
             [
              0.3333333333333333,
              "#9c179e"
             ],
             [
              0.4444444444444444,
              "#bd3786"
             ],
             [
              0.5555555555555556,
              "#d8576b"
             ],
             [
              0.6666666666666666,
              "#ed7953"
             ],
             [
              0.7777777777777778,
              "#fb9f3a"
             ],
             [
              0.8888888888888888,
              "#fdca26"
             ],
             [
              1,
              "#f0f921"
             ]
            ],
            "type": "heatmap"
           }
          ],
          "heatmapgl": [
           {
            "colorbar": {
             "outlinewidth": 0,
             "ticks": ""
            },
            "colorscale": [
             [
              0,
              "#0d0887"
             ],
             [
              0.1111111111111111,
              "#46039f"
             ],
             [
              0.2222222222222222,
              "#7201a8"
             ],
             [
              0.3333333333333333,
              "#9c179e"
             ],
             [
              0.4444444444444444,
              "#bd3786"
             ],
             [
              0.5555555555555556,
              "#d8576b"
             ],
             [
              0.6666666666666666,
              "#ed7953"
             ],
             [
              0.7777777777777778,
              "#fb9f3a"
             ],
             [
              0.8888888888888888,
              "#fdca26"
             ],
             [
              1,
              "#f0f921"
             ]
            ],
            "type": "heatmapgl"
           }
          ],
          "histogram": [
           {
            "marker": {
             "pattern": {
              "fillmode": "overlay",
              "size": 10,
              "solidity": 0.2
             }
            },
            "type": "histogram"
           }
          ],
          "histogram2d": [
           {
            "colorbar": {
             "outlinewidth": 0,
             "ticks": ""
            },
            "colorscale": [
             [
              0,
              "#0d0887"
             ],
             [
              0.1111111111111111,
              "#46039f"
             ],
             [
              0.2222222222222222,
              "#7201a8"
             ],
             [
              0.3333333333333333,
              "#9c179e"
             ],
             [
              0.4444444444444444,
              "#bd3786"
             ],
             [
              0.5555555555555556,
              "#d8576b"
             ],
             [
              0.6666666666666666,
              "#ed7953"
             ],
             [
              0.7777777777777778,
              "#fb9f3a"
             ],
             [
              0.8888888888888888,
              "#fdca26"
             ],
             [
              1,
              "#f0f921"
             ]
            ],
            "type": "histogram2d"
           }
          ],
          "histogram2dcontour": [
           {
            "colorbar": {
             "outlinewidth": 0,
             "ticks": ""
            },
            "colorscale": [
             [
              0,
              "#0d0887"
             ],
             [
              0.1111111111111111,
              "#46039f"
             ],
             [
              0.2222222222222222,
              "#7201a8"
             ],
             [
              0.3333333333333333,
              "#9c179e"
             ],
             [
              0.4444444444444444,
              "#bd3786"
             ],
             [
              0.5555555555555556,
              "#d8576b"
             ],
             [
              0.6666666666666666,
              "#ed7953"
             ],
             [
              0.7777777777777778,
              "#fb9f3a"
             ],
             [
              0.8888888888888888,
              "#fdca26"
             ],
             [
              1,
              "#f0f921"
             ]
            ],
            "type": "histogram2dcontour"
           }
          ],
          "mesh3d": [
           {
            "colorbar": {
             "outlinewidth": 0,
             "ticks": ""
            },
            "type": "mesh3d"
           }
          ],
          "parcoords": [
           {
            "line": {
             "colorbar": {
              "outlinewidth": 0,
              "ticks": ""
             }
            },
            "type": "parcoords"
           }
          ],
          "pie": [
           {
            "automargin": true,
            "type": "pie"
           }
          ],
          "scatter": [
           {
            "fillpattern": {
             "fillmode": "overlay",
             "size": 10,
             "solidity": 0.2
            },
            "type": "scatter"
           }
          ],
          "scatter3d": [
           {
            "line": {
             "colorbar": {
              "outlinewidth": 0,
              "ticks": ""
             }
            },
            "marker": {
             "colorbar": {
              "outlinewidth": 0,
              "ticks": ""
             }
            },
            "type": "scatter3d"
           }
          ],
          "scattercarpet": [
           {
            "marker": {
             "colorbar": {
              "outlinewidth": 0,
              "ticks": ""
             }
            },
            "type": "scattercarpet"
           }
          ],
          "scattergeo": [
           {
            "marker": {
             "colorbar": {
              "outlinewidth": 0,
              "ticks": ""
             }
            },
            "type": "scattergeo"
           }
          ],
          "scattergl": [
           {
            "marker": {
             "colorbar": {
              "outlinewidth": 0,
              "ticks": ""
             }
            },
            "type": "scattergl"
           }
          ],
          "scattermapbox": [
           {
            "marker": {
             "colorbar": {
              "outlinewidth": 0,
              "ticks": ""
             }
            },
            "type": "scattermapbox"
           }
          ],
          "scatterpolar": [
           {
            "marker": {
             "colorbar": {
              "outlinewidth": 0,
              "ticks": ""
             }
            },
            "type": "scatterpolar"
           }
          ],
          "scatterpolargl": [
           {
            "marker": {
             "colorbar": {
              "outlinewidth": 0,
              "ticks": ""
             }
            },
            "type": "scatterpolargl"
           }
          ],
          "scatterternary": [
           {
            "marker": {
             "colorbar": {
              "outlinewidth": 0,
              "ticks": ""
             }
            },
            "type": "scatterternary"
           }
          ],
          "surface": [
           {
            "colorbar": {
             "outlinewidth": 0,
             "ticks": ""
            },
            "colorscale": [
             [
              0,
              "#0d0887"
             ],
             [
              0.1111111111111111,
              "#46039f"
             ],
             [
              0.2222222222222222,
              "#7201a8"
             ],
             [
              0.3333333333333333,
              "#9c179e"
             ],
             [
              0.4444444444444444,
              "#bd3786"
             ],
             [
              0.5555555555555556,
              "#d8576b"
             ],
             [
              0.6666666666666666,
              "#ed7953"
             ],
             [
              0.7777777777777778,
              "#fb9f3a"
             ],
             [
              0.8888888888888888,
              "#fdca26"
             ],
             [
              1,
              "#f0f921"
             ]
            ],
            "type": "surface"
           }
          ],
          "table": [
           {
            "cells": {
             "fill": {
              "color": "#EBF0F8"
             },
             "line": {
              "color": "white"
             }
            },
            "header": {
             "fill": {
              "color": "#C8D4E3"
             },
             "line": {
              "color": "white"
             }
            },
            "type": "table"
           }
          ]
         },
         "layout": {
          "annotationdefaults": {
           "arrowcolor": "#2a3f5f",
           "arrowhead": 0,
           "arrowwidth": 1
          },
          "autotypenumbers": "strict",
          "coloraxis": {
           "colorbar": {
            "outlinewidth": 0,
            "ticks": ""
           }
          },
          "colorscale": {
           "diverging": [
            [
             0,
             "#8e0152"
            ],
            [
             0.1,
             "#c51b7d"
            ],
            [
             0.2,
             "#de77ae"
            ],
            [
             0.3,
             "#f1b6da"
            ],
            [
             0.4,
             "#fde0ef"
            ],
            [
             0.5,
             "#f7f7f7"
            ],
            [
             0.6,
             "#e6f5d0"
            ],
            [
             0.7,
             "#b8e186"
            ],
            [
             0.8,
             "#7fbc41"
            ],
            [
             0.9,
             "#4d9221"
            ],
            [
             1,
             "#276419"
            ]
           ],
           "sequential": [
            [
             0,
             "#0d0887"
            ],
            [
             0.1111111111111111,
             "#46039f"
            ],
            [
             0.2222222222222222,
             "#7201a8"
            ],
            [
             0.3333333333333333,
             "#9c179e"
            ],
            [
             0.4444444444444444,
             "#bd3786"
            ],
            [
             0.5555555555555556,
             "#d8576b"
            ],
            [
             0.6666666666666666,
             "#ed7953"
            ],
            [
             0.7777777777777778,
             "#fb9f3a"
            ],
            [
             0.8888888888888888,
             "#fdca26"
            ],
            [
             1,
             "#f0f921"
            ]
           ],
           "sequentialminus": [
            [
             0,
             "#0d0887"
            ],
            [
             0.1111111111111111,
             "#46039f"
            ],
            [
             0.2222222222222222,
             "#7201a8"
            ],
            [
             0.3333333333333333,
             "#9c179e"
            ],
            [
             0.4444444444444444,
             "#bd3786"
            ],
            [
             0.5555555555555556,
             "#d8576b"
            ],
            [
             0.6666666666666666,
             "#ed7953"
            ],
            [
             0.7777777777777778,
             "#fb9f3a"
            ],
            [
             0.8888888888888888,
             "#fdca26"
            ],
            [
             1,
             "#f0f921"
            ]
           ]
          },
          "colorway": [
           "#636efa",
           "#EF553B",
           "#00cc96",
           "#ab63fa",
           "#FFA15A",
           "#19d3f3",
           "#FF6692",
           "#B6E880",
           "#FF97FF",
           "#FECB52"
          ],
          "font": {
           "color": "#2a3f5f"
          },
          "geo": {
           "bgcolor": "white",
           "lakecolor": "white",
           "landcolor": "#E5ECF6",
           "showlakes": true,
           "showland": true,
           "subunitcolor": "white"
          },
          "hoverlabel": {
           "align": "left"
          },
          "hovermode": "closest",
          "mapbox": {
           "style": "light"
          },
          "paper_bgcolor": "white",
          "plot_bgcolor": "#E5ECF6",
          "polar": {
           "angularaxis": {
            "gridcolor": "white",
            "linecolor": "white",
            "ticks": ""
           },
           "bgcolor": "#E5ECF6",
           "radialaxis": {
            "gridcolor": "white",
            "linecolor": "white",
            "ticks": ""
           }
          },
          "scene": {
           "xaxis": {
            "backgroundcolor": "#E5ECF6",
            "gridcolor": "white",
            "gridwidth": 2,
            "linecolor": "white",
            "showbackground": true,
            "ticks": "",
            "zerolinecolor": "white"
           },
           "yaxis": {
            "backgroundcolor": "#E5ECF6",
            "gridcolor": "white",
            "gridwidth": 2,
            "linecolor": "white",
            "showbackground": true,
            "ticks": "",
            "zerolinecolor": "white"
           },
           "zaxis": {
            "backgroundcolor": "#E5ECF6",
            "gridcolor": "white",
            "gridwidth": 2,
            "linecolor": "white",
            "showbackground": true,
            "ticks": "",
            "zerolinecolor": "white"
           }
          },
          "shapedefaults": {
           "line": {
            "color": "#2a3f5f"
           }
          },
          "ternary": {
           "aaxis": {
            "gridcolor": "white",
            "linecolor": "white",
            "ticks": ""
           },
           "baxis": {
            "gridcolor": "white",
            "linecolor": "white",
            "ticks": ""
           },
           "bgcolor": "#E5ECF6",
           "caxis": {
            "gridcolor": "white",
            "linecolor": "white",
            "ticks": ""
           }
          },
          "title": {
           "x": 0.05
          },
          "xaxis": {
           "automargin": true,
           "gridcolor": "white",
           "linecolor": "white",
           "ticks": "",
           "title": {
            "standoff": 15
           },
           "zerolinecolor": "white",
           "zerolinewidth": 2
          },
          "yaxis": {
           "automargin": true,
           "gridcolor": "white",
           "linecolor": "white",
           "ticks": "",
           "title": {
            "standoff": 15
           },
           "zerolinecolor": "white",
           "zerolinewidth": 2
          }
         }
        },
        "title": {
         "text": "Interactions for Dipu"
        },
        "width": 1600,
        "xaxis": {
         "anchor": "y",
         "domain": [
          0,
          1
         ],
         "dtick": 20,
         "range": [
          0,
          600
         ],
         "title": {
          "text": "Residue Index"
         }
        },
        "yaxis": {
         "anchor": "x",
         "domain": [
          0,
          1
         ],
         "range": [
          1.5,
          5
         ],
         "title": {
          "text": "Distance (angstroms)"
         }
        }
       }
      }
     },
     "metadata": {},
     "output_type": "display_data"
    },
    {
     "data": {
      "application/vnd.plotly.v1+json": {
       "config": {
        "plotlyServerURL": "https://plot.ly"
       },
       "data": [
        {
         "customdata": [
          [
           345,
           "L"
          ],
          [
           335,
           "E"
          ],
          [
           351,
           "E"
          ],
          [
           388,
           "L"
          ],
          [
           396,
           "E"
          ],
          [
           403,
           "E"
          ],
          [
           405,
           "E"
          ],
          [
           427,
           "L"
          ],
          [
           437,
           "L"
          ],
          [
           444,
           "Y"
          ],
          [
           461,
           "I"
          ],
          [
           469,
           "N"
          ],
          [
           485,
           "E"
          ],
          [
           497,
           "I"
          ]
         ],
         "hovertemplate": "Interacting Chain=kinesin B<br>aa_classification=positively charged<br>Residue Index=%{x}<br>Distance (angstroms)=%{y}<br>residue_one_letter=%{text}<br>interacting_resinumber=%{customdata[0]}<br>interactingresi_oneletter=%{customdata[1]}<extra></extra>",
         "legendgroup": "kinesin B, positively charged",
         "marker": {
          "color": "#1f77b4",
          "opacity": 0.6,
          "size": 10,
          "symbol": "triangle-up"
         },
         "mode": "markers+text",
         "name": "kinesin B, positively charged",
         "orientation": "v",
         "showlegend": true,
         "text": [
          "R",
          "K",
          "K",
          "K",
          "K",
          "K",
          "K",
          "K",
          "K",
          "K",
          "K",
          "K",
          "K",
          "K"
         ],
         "textposition": "top center",
         "type": "scatter",
         "x": [
          336,
          342,
          356,
          389,
          391,
          402,
          406,
          423,
          438,
          443,
          462,
          468,
          490,
          496
         ],
         "xaxis": "x",
         "y": [
          4.116639852523804,
          3.1074978351593017,
          2.670497417449951,
          3.812800312042236,
          3.129134559631348,
          2.559340858459473,
          2.5513932704925537,
          3.3957446098327635,
          3.883878993988037,
          3.2847657680511477,
          3.45531964302063,
          2.8139635562896728,
          2.842559242248535,
          2.693860960006714
         ],
         "yaxis": "y"
        },
        {
         "customdata": [
          [
           341,
           "L"
          ],
          [
           338,
           "A"
          ],
          [
           345,
           "L"
          ],
          [
           344,
           "L"
          ],
          [
           352,
           "I"
          ],
          [
           351,
           "E"
          ],
          [
           359,
           "I"
          ],
          [
           355,
           "L"
          ],
          [
           359,
           "I"
          ],
          [
           385,
           "V"
          ],
          [
           392,
           "C"
          ],
          [
           399,
           "L"
          ],
          [
           399,
           "L"
          ],
          [
           399,
           "L"
          ],
          [
           406,
           "K"
          ],
          [
           413,
           "L"
          ],
          [
           417,
           "S"
          ],
          [
           419,
           "Q"
          ],
          [
           430,
           "Q"
          ],
          [
           434,
           "V"
          ],
          [
           437,
           "L"
          ],
          [
           440,
           "E"
          ],
          [
           451,
           "N"
          ],
          [
           451,
           "N"
          ],
          [
           458,
           "L"
          ],
          [
           461,
           "I"
          ],
          [
           465,
           "L"
          ],
          [
           465,
           "L"
          ],
          [
           479,
           "I"
          ],
          [
           479,
           "I"
          ],
          [
           486,
           "N"
          ],
          [
           486,
           "N"
          ],
          [
           493,
           "L"
          ],
          [
           496,
           "K"
          ]
         ],
         "hovertemplate": "Interacting Chain=kinesin B<br>aa_classification=nonpolar<br>Residue Index=%{x}<br>Distance (angstroms)=%{y}<br>residue_one_letter=%{text}<br>interacting_resinumber=%{customdata[0]}<br>interactingresi_oneletter=%{customdata[1]}<extra></extra>",
         "legendgroup": "kinesin B, nonpolar",
         "marker": {
          "color": "#1f77b4",
          "opacity": 0.6,
          "size": 10,
          "symbol": "circle"
         },
         "mode": "markers+text",
         "name": "kinesin B, nonpolar",
         "orientation": "v",
         "showlegend": true,
         "text": [
          "A",
          "L",
          "L",
          "L",
          "A",
          "I",
          "L",
          "I",
          "L",
          "V",
          "L",
          "L",
          "L",
          "L",
          "L",
          "L",
          "I",
          "L",
          "L",
          "V",
          "L",
          "A",
          "L",
          "L",
          "L",
          "I",
          "L",
          "L",
          "V",
          "I",
          "L",
          "I",
          "L",
          "I"
         ],
         "textposition": "top center",
         "type": "scatter",
         "x": [
          338,
          341,
          344,
          345,
          348,
          352,
          355,
          359,
          362,
          385,
          388,
          395,
          398,
          399,
          409,
          413,
          416,
          420,
          427,
          434,
          437,
          441,
          447,
          454,
          458,
          461,
          464,
          465,
          478,
          479,
          482,
          489,
          493,
          497
         ],
         "xaxis": "x",
         "y": [
          3.2253298282623293,
          3.1967122554779053,
          3.4967506885528565,
          3.351527976989746,
          3.574238109588623,
          3.4075879096984862,
          3.302608299255371,
          3.2742486953735352,
          4.146727275848389,
          3.1710811138153074,
          3.728013563156128,
          3.713502216339111,
          3.403669548034668,
          3.1226603031158446,
          3.144137096405029,
          2.853779363632202,
          3.134821081161499,
          3.2713695049285887,
          3.1226925373077394,
          3.4169804096221923,
          3.5915126323699957,
          3.45610466003418,
          3.231194257736206,
          2.86358699798584,
          3.1805842399597166,
          3.224579858779907,
          3.541857481002808,
          3.3364747524261475,
          4.068247127532959,
          3.43785343170166,
          3.355591058731079,
          2.963297843933105,
          3.183087635040283,
          2.476135516166687
         ],
         "yaxis": "y"
        },
        {
         "customdata": [
          [
           363,
           "E"
          ],
          [
           392,
           "C"
          ],
          [
           409,
           "L"
          ],
          [
           413,
           "L"
          ],
          [
           416,
           "I"
          ],
          [
           420,
           "L"
          ],
          [
           431,
           "T"
          ],
          [
           430,
           "Q"
          ],
          [
           434,
           "V"
          ],
          [
           444,
           "Y"
          ],
          [
           447,
           "L"
          ],
          [
           451,
           "N"
          ],
          [
           454,
           "L"
          ],
          [
           458,
           "L"
          ],
          [
           468,
           "K"
          ],
          [
           468,
           "K"
          ],
          [
           475,
           "Q"
          ],
          [
           475,
           "Q"
          ],
          [
           482,
           "L"
          ],
          [
           486,
           "N"
          ],
          [
           493,
           "L"
          ],
          [
           496,
           "K"
          ]
         ],
         "hovertemplate": "Interacting Chain=kinesin B<br>aa_classification=polar uncharged<br>Residue Index=%{x}<br>Distance (angstroms)=%{y}<br>residue_one_letter=%{text}<br>interacting_resinumber=%{customdata[0]}<br>interactingresi_oneletter=%{customdata[1]}<extra></extra>",
         "legendgroup": "kinesin B, polar uncharged",
         "marker": {
          "color": "#1f77b4",
          "opacity": 0.6,
          "size": 10,
          "symbol": "square"
         },
         "mode": "markers+text",
         "name": "kinesin B, polar uncharged",
         "orientation": "v",
         "showlegend": true,
         "text": [
          "Y",
          "C",
          "S",
          "Q",
          "S",
          "Q",
          "Q",
          "T",
          "Q",
          "Y",
          "S",
          "N",
          "S",
          "Q",
          "N",
          "S",
          "Q",
          "T",
          "S",
          "N",
          "Q",
          "S"
         ],
         "textposition": "top center",
         "type": "scatter",
         "x": [
          358,
          392,
          410,
          412,
          417,
          419,
          430,
          431,
          433,
          444,
          448,
          451,
          455,
          457,
          469,
          472,
          475,
          476,
          483,
          486,
          492,
          500
         ],
         "xaxis": "x",
         "y": [
          2.9245748996734617,
          2.897294330596924,
          3.920259189605713,
          3.0872594833374025,
          3.125666952133179,
          3.3505019187927245,
          2.6931528568267824,
          2.6732903957366942,
          3.851803350448608,
          3.2164788246154785,
          3.270056390762329,
          2.73317141532898,
          4.076673078536987,
          3.544293022155762,
          2.773720645904541,
          3.237904691696167,
          2.8414873123168944,
          3.040954065322876,
          3.5258968353271483,
          2.826102542877197,
          3.5830142974853514,
          4.094783687591553
         ],
         "yaxis": "y"
        },
        {
         "customdata": [
          [
           342,
           "K"
          ],
          [
           356,
           "K"
          ],
          [
           358,
           "Y"
          ],
          [
           391,
           "K"
          ],
          [
           402,
           "K"
          ],
          [
           406,
           "K"
          ],
          [
           423,
           "K"
          ],
          [
           427,
           "L"
          ],
          [
           441,
           "A"
          ],
          [
           451,
           "N"
          ],
          [
           490,
           "K"
          ]
         ],
         "hovertemplate": "Interacting Chain=kinesin B<br>aa_classification=negatively charged<br>Residue Index=%{x}<br>Distance (angstroms)=%{y}<br>residue_one_letter=%{text}<br>interacting_resinumber=%{customdata[0]}<br>interactingresi_oneletter=%{customdata[1]}<extra></extra>",
         "legendgroup": "kinesin B, negatively charged",
         "marker": {
          "color": "#1f77b4",
          "opacity": 0.6,
          "size": 10,
          "symbol": "triangle-down"
         },
         "mode": "markers+text",
         "name": "kinesin B, negatively charged",
         "orientation": "v",
         "showlegend": true,
         "text": [
          "E",
          "E",
          "E",
          "E",
          "E",
          "E",
          "E",
          "E",
          "E",
          "E",
          "E"
         ],
         "textposition": "top center",
         "type": "scatter",
         "x": [
          335,
          351,
          363,
          396,
          403,
          405,
          424,
          426,
          440,
          450,
          485
         ],
         "xaxis": "x",
         "y": [
          3.9564521312713614,
          2.818675184249878,
          3.2431161403656006,
          2.893583059310913,
          2.6000688076019287,
          2.5630874633789062,
          3.575695276260376,
          3.419912958145141,
          3.4290860176086424,
          3.5789687633514404,
          2.810152864456177
         ],
         "yaxis": "y"
        },
        {
         "customdata": [
          [
           420,
           "E"
          ],
          [
           410,
           "G"
          ],
          [
           409,
           "V"
          ],
          [
           423,
           "E"
          ]
         ],
         "hovertemplate": "Interacting Chain=alpha-tubulin<br>aa_classification=positively charged<br>Residue Index=%{x}<br>Distance (angstroms)=%{y}<br>residue_one_letter=%{text}<br>interacting_resinumber=%{customdata[0]}<br>interactingresi_oneletter=%{customdata[1]}<extra></extra>",
         "legendgroup": "alpha-tubulin, positively charged",
         "marker": {
          "color": "#ff7f0e",
          "opacity": 0.6,
          "size": 10,
          "symbol": "triangle-up"
         },
         "mode": "markers+text",
         "name": "alpha-tubulin, positively charged",
         "orientation": "v",
         "showlegend": true,
         "text": [
          "K",
          "K",
          "K",
          "R"
         ],
         "textposition": "top center",
         "type": "scatter",
         "x": [
          237,
          252,
          256,
          318
         ],
         "xaxis": "x",
         "y": [
          2.6012953758239745,
          3.312330436706543,
          3.375101613998413,
          2.8935534000396728
         ],
         "yaxis": "y"
        },
        {
         "customdata": [
          [
           412,
           "G"
          ],
          [
           112,
           "K"
          ]
         ],
         "hovertemplate": "Interacting Chain=alpha-tubulin<br>aa_classification=nonpolar<br>Residue Index=%{x}<br>Distance (angstroms)=%{y}<br>residue_one_letter=%{text}<br>interacting_resinumber=%{customdata[0]}<br>interactingresi_oneletter=%{customdata[1]}<extra></extra>",
         "legendgroup": "alpha-tubulin, nonpolar",
         "marker": {
          "color": "#ff7f0e",
          "opacity": 0.6,
          "size": 10,
          "symbol": "circle"
         },
         "mode": "markers+text",
         "name": "alpha-tubulin, nonpolar",
         "orientation": "v",
         "showlegend": true,
         "text": [
          "I",
          "A"
         ],
         "textposition": "top center",
         "type": "scatter",
         "x": [
          238,
          243
         ],
         "xaxis": "x",
         "y": [
          2.994114542007446,
          3.418069696426392
         ],
         "yaxis": "y"
        },
        {
         "customdata": [
          [
           414,
           "E"
          ],
          [
           112,
           "K"
          ],
          [
           409,
           "V"
          ],
          [
           415,
           "E"
          ],
          [
           402,
           "R"
          ],
          [
           402,
           "R"
          ],
          [
           420,
           "E"
          ]
         ],
         "hovertemplate": "Interacting Chain=alpha-tubulin<br>aa_classification=polar uncharged<br>Residue Index=%{x}<br>Distance (angstroms)=%{y}<br>residue_one_letter=%{text}<br>interacting_resinumber=%{customdata[0]}<br>interactingresi_oneletter=%{customdata[1]}<extra></extra>",
         "legendgroup": "alpha-tubulin, polar uncharged",
         "marker": {
          "color": "#ff7f0e",
          "opacity": 0.6,
          "size": 10,
          "symbol": "square"
         },
         "mode": "markers+text",
         "name": "alpha-tubulin, polar uncharged",
         "orientation": "v",
         "showlegend": true,
         "text": [
          "S",
          "Q",
          "N",
          "S",
          "N",
          "N",
          "T"
         ],
         "textposition": "top center",
         "type": "scatter",
         "x": [
          235,
          244,
          255,
          259,
          263,
          266,
          311
         ],
         "xaxis": "x",
         "y": [
          3.079392337799072,
          4.258825016021729,
          3.4666496753692626,
          2.473289394378662,
          3.471648550033569,
          4.326983165740967,
          3.535322475433349
         ],
         "yaxis": "y"
        },
        {
         "customdata": [
          [
           414,
           "E"
          ],
          [
           414,
           "E"
          ]
         ],
         "hovertemplate": "Interacting Chain=alpha-tubulin<br>aa_classification=negatively charged<br>Residue Index=%{x}<br>Distance (angstroms)=%{y}<br>residue_one_letter=%{text}<br>interacting_resinumber=%{customdata[0]}<br>interactingresi_oneletter=%{customdata[1]}<extra></extra>",
         "legendgroup": "alpha-tubulin, negatively charged",
         "marker": {
          "color": "#ff7f0e",
          "opacity": 0.6,
          "size": 10,
          "symbol": "triangle-down"
         },
         "mode": "markers+text",
         "name": "alpha-tubulin, negatively charged",
         "orientation": "v",
         "showlegend": true,
         "text": [
          "E",
          "E"
         ],
         "textposition": "top center",
         "type": "scatter",
         "x": [
          236,
          312
         ],
         "xaxis": "x",
         "y": [
          4.273387432098389,
          4.326516437530517
         ],
         "yaxis": "y"
        },
        {
         "customdata": [
          [
           157,
           "E"
          ],
          [
           407,
           "E"
          ],
          [
           406,
           "M"
          ],
          [
           432,
           "E"
          ],
          [
           424,
           "Q"
          ],
          [
           417,
           "D"
          ],
          [
           194,
           "E"
          ],
          [
           410,
           "E"
          ]
         ],
         "hovertemplate": "Interacting Chain=beta-tubulin<br>aa_classification=positively charged<br>Residue Index=%{x}<br>Distance (angstroms)=%{y}<br>residue_one_letter=%{text}<br>interacting_resinumber=%{customdata[0]}<br>interactingresi_oneletter=%{customdata[1]}<extra></extra>",
         "legendgroup": "beta-tubulin, positively charged",
         "marker": {
          "color": "#2ca02c",
          "opacity": 0.6,
          "size": 10,
          "symbol": "triangle-up"
         },
         "mode": "markers+text",
         "name": "beta-tubulin, positively charged",
         "orientation": "v",
         "showlegend": true,
         "text": [
          "R",
          "K",
          "R",
          "K",
          "H",
          "R",
          "K",
          "R"
         ],
         "textposition": "top center",
         "type": "scatter",
         "x": [
          141,
          154,
          156,
          272,
          275,
          279,
          282,
          285
         ],
         "xaxis": "x",
         "y": [
          2.595178318023682,
          2.792368268966675,
          3.0412930488586425,
          3.280688190460205,
          2.817241096496582,
          2.3795821189880373,
          3.433752489089966,
          4.084036827087402
         ],
         "yaxis": "y"
        },
        {
         "customdata": [
          [
           410,
           "E"
          ],
          [
           406,
           "M"
          ]
         ],
         "hovertemplate": "Interacting Chain=beta-tubulin<br>aa_classification=nonpolar<br>Residue Index=%{x}<br>Distance (angstroms)=%{y}<br>residue_one_letter=%{text}<br>interacting_resinumber=%{customdata[0]}<br>interactingresi_oneletter=%{customdata[1]}<extra></extra>",
         "legendgroup": "beta-tubulin, nonpolar",
         "marker": {
          "color": "#2ca02c",
          "opacity": 0.6,
          "size": 10,
          "symbol": "circle"
         },
         "mode": "markers+text",
         "name": "beta-tubulin, nonpolar",
         "orientation": "v",
         "showlegend": true,
         "text": [
          "V",
          "W"
         ],
         "textposition": "top center",
         "type": "scatter",
         "x": [
          155,
          164
         ],
         "xaxis": "x",
         "y": [
          3.427816247940064,
          4.14302806854248
         ],
         "yaxis": "y"
        },
        {
         "customdata": [
          [
           424,
           "Q"
          ],
          [
           424,
           "Q"
          ]
         ],
         "hovertemplate": "Interacting Chain=beta-tubulin<br>aa_classification=polar uncharged<br>Residue Index=%{x}<br>Distance (angstroms)=%{y}<br>residue_one_letter=%{text}<br>interacting_resinumber=%{customdata[0]}<br>interactingresi_oneletter=%{customdata[1]}<extra></extra>",
         "legendgroup": "beta-tubulin, polar uncharged",
         "marker": {
          "color": "#2ca02c",
          "opacity": 0.6,
          "size": 10,
          "symbol": "square"
         },
         "mode": "markers+text",
         "name": "beta-tubulin, polar uncharged",
         "orientation": "v",
         "showlegend": true,
         "text": [
          "S",
          "T"
         ],
         "textposition": "top center",
         "type": "scatter",
         "x": [
          273,
          274
         ],
         "xaxis": "x",
         "y": [
          3.659137058258057,
          3.589881038665772
         ],
         "yaxis": "y"
        },
        {
         "customdata": [
          [
           413,
           "S"
          ],
          [
           406,
           "M"
          ],
          [
           262,
           "R"
          ]
         ],
         "hovertemplate": "Interacting Chain=beta-tubulin<br>aa_classification=negatively charged<br>Residue Index=%{x}<br>Distance (angstroms)=%{y}<br>residue_one_letter=%{text}<br>interacting_resinumber=%{customdata[0]}<br>interactingresi_oneletter=%{customdata[1]}<extra></extra>",
         "legendgroup": "beta-tubulin, negatively charged",
         "marker": {
          "color": "#2ca02c",
          "opacity": 0.6,
          "size": 10,
          "symbol": "triangle-down"
         },
         "mode": "markers+text",
         "name": "beta-tubulin, negatively charged",
         "orientation": "v",
         "showlegend": true,
         "text": [
          "E",
          "E",
          "D"
         ],
         "textposition": "top center",
         "type": "scatter",
         "x": [
          157,
          158,
          280
         ],
         "xaxis": "x",
         "y": [
          3.315914440155029,
          4.4946136474609375,
          3.244593524932861
         ],
         "yaxis": "y"
        },
        {
         "customdata": [
          [
           1,
           "?"
          ],
          [
           1,
           "?"
          ],
          [
           1,
           "?"
          ],
          [
           1,
           "?"
          ]
         ],
         "hovertemplate": "Interacting Chain=ATP<br>aa_classification=positively charged<br>Residue Index=%{x}<br>Distance (angstroms)=%{y}<br>residue_one_letter=%{text}<br>interacting_resinumber=%{customdata[0]}<br>interactingresi_oneletter=%{customdata[1]}<extra></extra>",
         "legendgroup": "ATP, positively charged",
         "marker": {
          "color": "#d62728",
          "opacity": 0.6,
          "size": 10,
          "symbol": "triangle-up"
         },
         "mode": "markers+text",
         "name": "ATP, positively charged",
         "orientation": "v",
         "showlegend": true,
         "text": [
          "R",
          "R",
          "K",
          "H"
         ],
         "textposition": "top center",
         "type": "scatter",
         "x": [
          9,
          11,
          90,
          92
         ],
         "xaxis": "x",
         "y": [
          3.8015861034393312,
          3.618400382995605,
          2.758769941329956,
          2.753771114349365
         ],
         "yaxis": "y"
        },
        {
         "customdata": [
          [
           1,
           "?"
          ],
          [
           1,
           "?"
          ],
          [
           1,
           "?"
          ],
          [
           1,
           "?"
          ],
          [
           1,
           "?"
          ],
          [
           1,
           "?"
          ]
         ],
         "hovertemplate": "Interacting Chain=ATP<br>aa_classification=nonpolar<br>Residue Index=%{x}<br>Distance (angstroms)=%{y}<br>residue_one_letter=%{text}<br>interacting_resinumber=%{customdata[0]}<br>interactingresi_oneletter=%{customdata[1]}<extra></extra>",
         "legendgroup": "ATP, nonpolar",
         "marker": {
          "color": "#d62728",
          "opacity": 0.6,
          "size": 10,
          "symbol": "circle"
         },
         "mode": "markers+text",
         "name": "ATP, nonpolar",
         "orientation": "v",
         "showlegend": true,
         "text": [
          "P",
          "G",
          "P",
          "L",
          "A",
          "G"
         ],
         "textposition": "top center",
         "type": "scatter",
         "x": [
          12,
          89,
          97,
          232,
          233,
          234
         ],
         "xaxis": "x",
         "y": [
          3.5591336727142333,
          3.00515775680542,
          4.26653904914856,
          4.436689758300782,
          3.9681570529937744,
          2.962795448303223
         ],
         "yaxis": "y"
        },
        {
         "customdata": [
          [
           1,
           "?"
          ],
          [
           1,
           "?"
          ],
          [
           1,
           "?"
          ],
          [
           1,
           "?"
          ],
          [
           1,
           "?"
          ],
          [
           1,
           "?"
          ]
         ],
         "hovertemplate": "Interacting Chain=ATP<br>aa_classification=polar uncharged<br>Residue Index=%{x}<br>Distance (angstroms)=%{y}<br>residue_one_letter=%{text}<br>interacting_resinumber=%{customdata[0]}<br>interactingresi_oneletter=%{customdata[1]}<extra></extra>",
         "legendgroup": "ATP, polar uncharged",
         "marker": {
          "color": "#d62728",
          "opacity": 0.6,
          "size": 10,
          "symbol": "square"
         },
         "mode": "markers+text",
         "name": "ATP, polar uncharged",
         "orientation": "v",
         "showlegend": true,
         "text": [
          "Q",
          "T",
          "S",
          "S",
          "N",
          "S"
         ],
         "textposition": "top center",
         "type": "scatter",
         "x": [
          85,
          86,
          87,
          88,
          198,
          201
         ],
         "xaxis": "x",
         "y": [
          3.954312992095947,
          2.526279592514038,
          2.836342763900757,
          3.347058820724487,
          2.9862317085266112,
          2.94763126373291
         ],
         "yaxis": "y"
        },
        {
         "customdata": [
          [
           1,
           "?"
          ]
         ],
         "hovertemplate": "Interacting Chain=ATP<br>aa_classification=negatively charged<br>Residue Index=%{x}<br>Distance (angstroms)=%{y}<br>residue_one_letter=%{text}<br>interacting_resinumber=%{customdata[0]}<br>interactingresi_oneletter=%{customdata[1]}<extra></extra>",
         "legendgroup": "ATP, negatively charged",
         "marker": {
          "color": "#d62728",
          "opacity": 0.6,
          "size": 10,
          "symbol": "triangle-down"
         },
         "mode": "markers+text",
         "name": "ATP, negatively charged",
         "orientation": "v",
         "showlegend": true,
         "text": [
          "E"
         ],
         "textposition": "top center",
         "type": "scatter",
         "x": [
          200
         ],
         "xaxis": "x",
         "y": [
          4.037360143661499
         ],
         "yaxis": "y"
        }
       ],
       "layout": {
        "autosize": false,
        "height": 600,
        "legend": {
         "title": {
          "text": "Interacting Chain"
         },
         "tracegroupgap": 0
        },
        "template": {
         "data": {
          "bar": [
           {
            "error_x": {
             "color": "#2a3f5f"
            },
            "error_y": {
             "color": "#2a3f5f"
            },
            "marker": {
             "line": {
              "color": "#E5ECF6",
              "width": 0.5
             },
             "pattern": {
              "fillmode": "overlay",
              "size": 10,
              "solidity": 0.2
             }
            },
            "type": "bar"
           }
          ],
          "barpolar": [
           {
            "marker": {
             "line": {
              "color": "#E5ECF6",
              "width": 0.5
             },
             "pattern": {
              "fillmode": "overlay",
              "size": 10,
              "solidity": 0.2
             }
            },
            "type": "barpolar"
           }
          ],
          "carpet": [
           {
            "aaxis": {
             "endlinecolor": "#2a3f5f",
             "gridcolor": "white",
             "linecolor": "white",
             "minorgridcolor": "white",
             "startlinecolor": "#2a3f5f"
            },
            "baxis": {
             "endlinecolor": "#2a3f5f",
             "gridcolor": "white",
             "linecolor": "white",
             "minorgridcolor": "white",
             "startlinecolor": "#2a3f5f"
            },
            "type": "carpet"
           }
          ],
          "choropleth": [
           {
            "colorbar": {
             "outlinewidth": 0,
             "ticks": ""
            },
            "type": "choropleth"
           }
          ],
          "contour": [
           {
            "colorbar": {
             "outlinewidth": 0,
             "ticks": ""
            },
            "colorscale": [
             [
              0,
              "#0d0887"
             ],
             [
              0.1111111111111111,
              "#46039f"
             ],
             [
              0.2222222222222222,
              "#7201a8"
             ],
             [
              0.3333333333333333,
              "#9c179e"
             ],
             [
              0.4444444444444444,
              "#bd3786"
             ],
             [
              0.5555555555555556,
              "#d8576b"
             ],
             [
              0.6666666666666666,
              "#ed7953"
             ],
             [
              0.7777777777777778,
              "#fb9f3a"
             ],
             [
              0.8888888888888888,
              "#fdca26"
             ],
             [
              1,
              "#f0f921"
             ]
            ],
            "type": "contour"
           }
          ],
          "contourcarpet": [
           {
            "colorbar": {
             "outlinewidth": 0,
             "ticks": ""
            },
            "type": "contourcarpet"
           }
          ],
          "heatmap": [
           {
            "colorbar": {
             "outlinewidth": 0,
             "ticks": ""
            },
            "colorscale": [
             [
              0,
              "#0d0887"
             ],
             [
              0.1111111111111111,
              "#46039f"
             ],
             [
              0.2222222222222222,
              "#7201a8"
             ],
             [
              0.3333333333333333,
              "#9c179e"
             ],
             [
              0.4444444444444444,
              "#bd3786"
             ],
             [
              0.5555555555555556,
              "#d8576b"
             ],
             [
              0.6666666666666666,
              "#ed7953"
             ],
             [
              0.7777777777777778,
              "#fb9f3a"
             ],
             [
              0.8888888888888888,
              "#fdca26"
             ],
             [
              1,
              "#f0f921"
             ]
            ],
            "type": "heatmap"
           }
          ],
          "heatmapgl": [
           {
            "colorbar": {
             "outlinewidth": 0,
             "ticks": ""
            },
            "colorscale": [
             [
              0,
              "#0d0887"
             ],
             [
              0.1111111111111111,
              "#46039f"
             ],
             [
              0.2222222222222222,
              "#7201a8"
             ],
             [
              0.3333333333333333,
              "#9c179e"
             ],
             [
              0.4444444444444444,
              "#bd3786"
             ],
             [
              0.5555555555555556,
              "#d8576b"
             ],
             [
              0.6666666666666666,
              "#ed7953"
             ],
             [
              0.7777777777777778,
              "#fb9f3a"
             ],
             [
              0.8888888888888888,
              "#fdca26"
             ],
             [
              1,
              "#f0f921"
             ]
            ],
            "type": "heatmapgl"
           }
          ],
          "histogram": [
           {
            "marker": {
             "pattern": {
              "fillmode": "overlay",
              "size": 10,
              "solidity": 0.2
             }
            },
            "type": "histogram"
           }
          ],
          "histogram2d": [
           {
            "colorbar": {
             "outlinewidth": 0,
             "ticks": ""
            },
            "colorscale": [
             [
              0,
              "#0d0887"
             ],
             [
              0.1111111111111111,
              "#46039f"
             ],
             [
              0.2222222222222222,
              "#7201a8"
             ],
             [
              0.3333333333333333,
              "#9c179e"
             ],
             [
              0.4444444444444444,
              "#bd3786"
             ],
             [
              0.5555555555555556,
              "#d8576b"
             ],
             [
              0.6666666666666666,
              "#ed7953"
             ],
             [
              0.7777777777777778,
              "#fb9f3a"
             ],
             [
              0.8888888888888888,
              "#fdca26"
             ],
             [
              1,
              "#f0f921"
             ]
            ],
            "type": "histogram2d"
           }
          ],
          "histogram2dcontour": [
           {
            "colorbar": {
             "outlinewidth": 0,
             "ticks": ""
            },
            "colorscale": [
             [
              0,
              "#0d0887"
             ],
             [
              0.1111111111111111,
              "#46039f"
             ],
             [
              0.2222222222222222,
              "#7201a8"
             ],
             [
              0.3333333333333333,
              "#9c179e"
             ],
             [
              0.4444444444444444,
              "#bd3786"
             ],
             [
              0.5555555555555556,
              "#d8576b"
             ],
             [
              0.6666666666666666,
              "#ed7953"
             ],
             [
              0.7777777777777778,
              "#fb9f3a"
             ],
             [
              0.8888888888888888,
              "#fdca26"
             ],
             [
              1,
              "#f0f921"
             ]
            ],
            "type": "histogram2dcontour"
           }
          ],
          "mesh3d": [
           {
            "colorbar": {
             "outlinewidth": 0,
             "ticks": ""
            },
            "type": "mesh3d"
           }
          ],
          "parcoords": [
           {
            "line": {
             "colorbar": {
              "outlinewidth": 0,
              "ticks": ""
             }
            },
            "type": "parcoords"
           }
          ],
          "pie": [
           {
            "automargin": true,
            "type": "pie"
           }
          ],
          "scatter": [
           {
            "fillpattern": {
             "fillmode": "overlay",
             "size": 10,
             "solidity": 0.2
            },
            "type": "scatter"
           }
          ],
          "scatter3d": [
           {
            "line": {
             "colorbar": {
              "outlinewidth": 0,
              "ticks": ""
             }
            },
            "marker": {
             "colorbar": {
              "outlinewidth": 0,
              "ticks": ""
             }
            },
            "type": "scatter3d"
           }
          ],
          "scattercarpet": [
           {
            "marker": {
             "colorbar": {
              "outlinewidth": 0,
              "ticks": ""
             }
            },
            "type": "scattercarpet"
           }
          ],
          "scattergeo": [
           {
            "marker": {
             "colorbar": {
              "outlinewidth": 0,
              "ticks": ""
             }
            },
            "type": "scattergeo"
           }
          ],
          "scattergl": [
           {
            "marker": {
             "colorbar": {
              "outlinewidth": 0,
              "ticks": ""
             }
            },
            "type": "scattergl"
           }
          ],
          "scattermapbox": [
           {
            "marker": {
             "colorbar": {
              "outlinewidth": 0,
              "ticks": ""
             }
            },
            "type": "scattermapbox"
           }
          ],
          "scatterpolar": [
           {
            "marker": {
             "colorbar": {
              "outlinewidth": 0,
              "ticks": ""
             }
            },
            "type": "scatterpolar"
           }
          ],
          "scatterpolargl": [
           {
            "marker": {
             "colorbar": {
              "outlinewidth": 0,
              "ticks": ""
             }
            },
            "type": "scatterpolargl"
           }
          ],
          "scatterternary": [
           {
            "marker": {
             "colorbar": {
              "outlinewidth": 0,
              "ticks": ""
             }
            },
            "type": "scatterternary"
           }
          ],
          "surface": [
           {
            "colorbar": {
             "outlinewidth": 0,
             "ticks": ""
            },
            "colorscale": [
             [
              0,
              "#0d0887"
             ],
             [
              0.1111111111111111,
              "#46039f"
             ],
             [
              0.2222222222222222,
              "#7201a8"
             ],
             [
              0.3333333333333333,
              "#9c179e"
             ],
             [
              0.4444444444444444,
              "#bd3786"
             ],
             [
              0.5555555555555556,
              "#d8576b"
             ],
             [
              0.6666666666666666,
              "#ed7953"
             ],
             [
              0.7777777777777778,
              "#fb9f3a"
             ],
             [
              0.8888888888888888,
              "#fdca26"
             ],
             [
              1,
              "#f0f921"
             ]
            ],
            "type": "surface"
           }
          ],
          "table": [
           {
            "cells": {
             "fill": {
              "color": "#EBF0F8"
             },
             "line": {
              "color": "white"
             }
            },
            "header": {
             "fill": {
              "color": "#C8D4E3"
             },
             "line": {
              "color": "white"
             }
            },
            "type": "table"
           }
          ]
         },
         "layout": {
          "annotationdefaults": {
           "arrowcolor": "#2a3f5f",
           "arrowhead": 0,
           "arrowwidth": 1
          },
          "autotypenumbers": "strict",
          "coloraxis": {
           "colorbar": {
            "outlinewidth": 0,
            "ticks": ""
           }
          },
          "colorscale": {
           "diverging": [
            [
             0,
             "#8e0152"
            ],
            [
             0.1,
             "#c51b7d"
            ],
            [
             0.2,
             "#de77ae"
            ],
            [
             0.3,
             "#f1b6da"
            ],
            [
             0.4,
             "#fde0ef"
            ],
            [
             0.5,
             "#f7f7f7"
            ],
            [
             0.6,
             "#e6f5d0"
            ],
            [
             0.7,
             "#b8e186"
            ],
            [
             0.8,
             "#7fbc41"
            ],
            [
             0.9,
             "#4d9221"
            ],
            [
             1,
             "#276419"
            ]
           ],
           "sequential": [
            [
             0,
             "#0d0887"
            ],
            [
             0.1111111111111111,
             "#46039f"
            ],
            [
             0.2222222222222222,
             "#7201a8"
            ],
            [
             0.3333333333333333,
             "#9c179e"
            ],
            [
             0.4444444444444444,
             "#bd3786"
            ],
            [
             0.5555555555555556,
             "#d8576b"
            ],
            [
             0.6666666666666666,
             "#ed7953"
            ],
            [
             0.7777777777777778,
             "#fb9f3a"
            ],
            [
             0.8888888888888888,
             "#fdca26"
            ],
            [
             1,
             "#f0f921"
            ]
           ],
           "sequentialminus": [
            [
             0,
             "#0d0887"
            ],
            [
             0.1111111111111111,
             "#46039f"
            ],
            [
             0.2222222222222222,
             "#7201a8"
            ],
            [
             0.3333333333333333,
             "#9c179e"
            ],
            [
             0.4444444444444444,
             "#bd3786"
            ],
            [
             0.5555555555555556,
             "#d8576b"
            ],
            [
             0.6666666666666666,
             "#ed7953"
            ],
            [
             0.7777777777777778,
             "#fb9f3a"
            ],
            [
             0.8888888888888888,
             "#fdca26"
            ],
            [
             1,
             "#f0f921"
            ]
           ]
          },
          "colorway": [
           "#636efa",
           "#EF553B",
           "#00cc96",
           "#ab63fa",
           "#FFA15A",
           "#19d3f3",
           "#FF6692",
           "#B6E880",
           "#FF97FF",
           "#FECB52"
          ],
          "font": {
           "color": "#2a3f5f"
          },
          "geo": {
           "bgcolor": "white",
           "lakecolor": "white",
           "landcolor": "#E5ECF6",
           "showlakes": true,
           "showland": true,
           "subunitcolor": "white"
          },
          "hoverlabel": {
           "align": "left"
          },
          "hovermode": "closest",
          "mapbox": {
           "style": "light"
          },
          "paper_bgcolor": "white",
          "plot_bgcolor": "#E5ECF6",
          "polar": {
           "angularaxis": {
            "gridcolor": "white",
            "linecolor": "white",
            "ticks": ""
           },
           "bgcolor": "#E5ECF6",
           "radialaxis": {
            "gridcolor": "white",
            "linecolor": "white",
            "ticks": ""
           }
          },
          "scene": {
           "xaxis": {
            "backgroundcolor": "#E5ECF6",
            "gridcolor": "white",
            "gridwidth": 2,
            "linecolor": "white",
            "showbackground": true,
            "ticks": "",
            "zerolinecolor": "white"
           },
           "yaxis": {
            "backgroundcolor": "#E5ECF6",
            "gridcolor": "white",
            "gridwidth": 2,
            "linecolor": "white",
            "showbackground": true,
            "ticks": "",
            "zerolinecolor": "white"
           },
           "zaxis": {
            "backgroundcolor": "#E5ECF6",
            "gridcolor": "white",
            "gridwidth": 2,
            "linecolor": "white",
            "showbackground": true,
            "ticks": "",
            "zerolinecolor": "white"
           }
          },
          "shapedefaults": {
           "line": {
            "color": "#2a3f5f"
           }
          },
          "ternary": {
           "aaxis": {
            "gridcolor": "white",
            "linecolor": "white",
            "ticks": ""
           },
           "baxis": {
            "gridcolor": "white",
            "linecolor": "white",
            "ticks": ""
           },
           "bgcolor": "#E5ECF6",
           "caxis": {
            "gridcolor": "white",
            "linecolor": "white",
            "ticks": ""
           }
          },
          "title": {
           "x": 0.05
          },
          "xaxis": {
           "automargin": true,
           "gridcolor": "white",
           "linecolor": "white",
           "ticks": "",
           "title": {
            "standoff": 15
           },
           "zerolinecolor": "white",
           "zerolinewidth": 2
          },
          "yaxis": {
           "automargin": true,
           "gridcolor": "white",
           "linecolor": "white",
           "ticks": "",
           "title": {
            "standoff": 15
           },
           "zerolinecolor": "white",
           "zerolinewidth": 2
          }
         }
        },
        "title": {
         "text": "Interactions for Heal"
        },
        "width": 1600,
        "xaxis": {
         "anchor": "y",
         "domain": [
          0,
          1
         ],
         "dtick": 20,
         "range": [
          0,
          600
         ],
         "title": {
          "text": "Residue Index"
         }
        },
        "yaxis": {
         "anchor": "x",
         "domain": [
          0,
          1
         ],
         "range": [
          1.5,
          5
         ],
         "title": {
          "text": "Distance (angstroms)"
         }
        }
       }
      }
     },
     "metadata": {},
     "output_type": "display_data"
    },
    {
     "data": {
      "application/vnd.plotly.v1+json": {
       "config": {
        "plotlyServerURL": "https://plot.ly"
       },
       "data": [
        {
         "customdata": [
          [
           340,
           "E"
          ],
          [
           221,
           "E"
          ],
          [
           342,
           "W"
          ],
          [
           346,
           "Y"
          ],
          [
           349,
           "E"
          ],
          [
           353,
           "T"
          ],
          [
           356,
           "Q"
          ],
          [
           382,
           "L"
          ],
          [
           371,
           "R"
          ],
          [
           413,
           "E"
          ],
          [
           432,
           "D"
          ],
          [
           445,
           "L"
          ],
          [
           455,
           "L"
          ],
          [
           476,
           "E"
          ]
         ],
         "hovertemplate": "Interacting Chain=kinesin B<br>aa_classification=positively charged<br>Residue Index=%{x}<br>Distance (angstroms)=%{y}<br>residue_one_letter=%{text}<br>interacting_resinumber=%{customdata[0]}<br>interactingresi_oneletter=%{customdata[1]}<extra></extra>",
         "legendgroup": "kinesin B, positively charged",
         "marker": {
          "color": "#1f77b4",
          "opacity": 0.6,
          "size": 10,
          "symbol": "triangle-up"
         },
         "mode": "markers+text",
         "name": "kinesin B, positively charged",
         "orientation": "v",
         "showlegend": true,
         "text": [
          "K",
          "K",
          "K",
          "K",
          "K",
          "K",
          "K",
          "R",
          "R",
          "R",
          "K",
          "K",
          "R",
          "K"
         ],
         "textposition": "top center",
         "type": "scatter",
         "x": [
          160,
          223,
          343,
          345,
          350,
          352,
          357,
          371,
          381,
          414,
          431,
          446,
          460,
          481
         ],
         "xaxis": "x",
         "y": [
          3.838506269454956,
          3.700294494628906,
          3.6473910808563232,
          3.729134321212769,
          4.004747486114502,
          4.303272247314453,
          3.818166208267212,
          2.420434522628784,
          3.5320413589477537,
          2.787723207473755,
          2.3516345977783204,
          4.052443027496338,
          3.441470670700073,
          3.935774230957031
         ],
         "yaxis": "y"
        },
        {
         "customdata": [
          [
           339,
           "A"
          ],
          [
           342,
           "W"
          ],
          [
           342,
           "W"
          ],
          [
           360,
           "I"
          ],
          [
           367,
           "L"
          ],
          [
           366,
           "E"
          ],
          [
           370,
           "W"
          ],
          [
           371,
           "R"
          ],
          [
           364,
           "E"
          ],
          [
           417,
           "Y"
          ],
          [
           428,
           "L"
          ],
          [
           431,
           "K"
          ],
          [
           438,
           "Q"
          ],
          [
           442,
           "I"
          ],
          [
           442,
           "I"
          ],
          [
           449,
           "M"
          ],
          [
           452,
           "Q"
          ],
          [
           460,
           "R"
          ],
          [
           452,
           "Q"
          ],
          [
           470,
           "L"
          ],
          [
           470,
           "L"
          ],
          [
           477,
           "N"
          ],
          [
           484,
           "V"
          ],
          [
           484,
           "V"
          ],
          [
           491,
           "L"
          ],
          [
           487,
           "V"
          ],
          [
           491,
           "L"
          ],
          [
           494,
           "L"
          ],
          [
           491,
           "L"
          ]
         ],
         "hovertemplate": "Interacting Chain=kinesin B<br>aa_classification=nonpolar<br>Residue Index=%{x}<br>Distance (angstroms)=%{y}<br>residue_one_letter=%{text}<br>interacting_resinumber=%{customdata[0]}<br>interactingresi_oneletter=%{customdata[1]}<extra></extra>",
         "legendgroup": "kinesin B, nonpolar",
         "marker": {
          "color": "#1f77b4",
          "opacity": 0.6,
          "size": 10,
          "symbol": "circle"
         },
         "mode": "markers+text",
         "name": "kinesin B, nonpolar",
         "orientation": "v",
         "showlegend": true,
         "text": [
          "L",
          "A",
          "W",
          "I",
          "L",
          "L",
          "W",
          "L",
          "G",
          "I",
          "L",
          "L",
          "I",
          "L",
          "I",
          "L",
          "M",
          "L",
          "L",
          "V",
          "L",
          "L",
          "A",
          "V",
          "V",
          "L",
          "A",
          "L",
          "L"
         ],
         "textposition": "top center",
         "type": "scatter",
         "x": [
          337,
          339,
          342,
          360,
          363,
          367,
          370,
          382,
          384,
          421,
          424,
          428,
          435,
          441,
          442,
          445,
          449,
          455,
          456,
          466,
          470,
          473,
          480,
          484,
          487,
          488,
          490,
          491,
          494
         ],
         "xaxis": "x",
         "y": [
          3.6213034629821776,
          3.387394905090332,
          3.3937296867370605,
          3.471108245849609,
          3.3932823181152343,
          3.0893686771392823,
          3.70675277709961,
          2.636320114135742,
          3.974633264541626,
          3.356233263015747,
          3.299953651428223,
          3.008242559432984,
          3.0271809577941893,
          3.811241626739502,
          3.32232027053833,
          3.4374168872833253,
          3.2509387016296385,
          3.481022405624389,
          3.3568004608154296,
          3.1586860179901124,
          3.0528868198394776,
          3.324363422393799,
          3.597547721862793,
          2.739408826828003,
          2.941012477874756,
          4.112879085540771,
          4.187177324295044,
          3.116099739074707,
          3.342381715774536
         ],
         "yaxis": "y"
        },
        {
         "customdata": [
          [
           339,
           "A"
          ],
          [
           342,
           "W"
          ],
          [
           356,
           "Q"
          ],
          [
           356,
           "Q"
          ],
          [
           360,
           "I"
          ],
          [
           421,
           "I"
          ],
          [
           424,
           "L"
          ],
          [
           428,
           "L"
          ],
          [
           439,
           "S"
          ],
          [
           438,
           "Q"
          ],
          [
           449,
           "M"
          ],
          [
           453,
           "E"
          ],
          [
           463,
           "N"
          ],
          [
           463,
           "N"
          ],
          [
           466,
           "V"
          ],
          [
           473,
           "L"
          ],
          [
           477,
           "N"
          ],
          [
           498,
           "Y"
          ],
          [
           498,
           "Y"
          ]
         ],
         "hovertemplate": "Interacting Chain=kinesin B<br>aa_classification=polar uncharged<br>Residue Index=%{x}<br>Distance (angstroms)=%{y}<br>residue_one_letter=%{text}<br>interacting_resinumber=%{customdata[0]}<br>interactingresi_oneletter=%{customdata[1]}<extra></extra>",
         "legendgroup": "kinesin B, polar uncharged",
         "marker": {
          "color": "#1f77b4",
          "opacity": 0.6,
          "size": 10,
          "symbol": "square"
         },
         "mode": "markers+text",
         "name": "kinesin B, polar uncharged",
         "orientation": "v",
         "showlegend": true,
         "text": [
          "T",
          "Y",
          "T",
          "Q",
          "T",
          "Y",
          "Y",
          "Q",
          "Q",
          "S",
          "Q",
          "Q",
          "T",
          "N",
          "Q",
          "Q",
          "N",
          "N",
          "Y"
         ],
         "textposition": "top center",
         "type": "scatter",
         "x": [
          338,
          346,
          353,
          356,
          359,
          417,
          425,
          427,
          438,
          439,
          448,
          452,
          459,
          463,
          467,
          474,
          477,
          497,
          498
         ],
         "xaxis": "x",
         "y": [
          4.06091628074646,
          3.516196775436401,
          3.1018033027648926,
          3.2792263984680177,
          4.330867958068848,
          3.234296274185181,
          3.550054264068604,
          3.8176222801208497,
          2.741150569915772,
          2.98067626953125,
          3.657983446121216,
          3.2304663181304933,
          3.142525243759155,
          2.2409706115722656,
          3.994103097915649,
          3.231211471557617,
          3.294924831390381,
          2.299735474586486,
          2.288685512542725
         ],
         "yaxis": "y"
        },
        {
         "customdata": [
          [
           223,
           "K"
          ],
          [
           160,
           "K"
          ],
          [
           353,
           "T"
          ],
          [
           363,
           "L"
          ],
          [
           371,
           "R"
          ],
          [
           414,
           "R"
          ],
          [
           417,
           "Y"
          ],
          [
           425,
           "Y"
          ],
          [
           431,
           "K"
          ],
          [
           435,
           "I"
          ],
          [
           452,
           "Q"
          ],
          [
           463,
           "N"
          ],
          [
           470,
           "L"
          ],
          [
           477,
           "N"
          ],
          [
           484,
           "V"
          ]
         ],
         "hovertemplate": "Interacting Chain=kinesin B<br>aa_classification=negatively charged<br>Residue Index=%{x}<br>Distance (angstroms)=%{y}<br>residue_one_letter=%{text}<br>interacting_resinumber=%{customdata[0]}<br>interactingresi_oneletter=%{customdata[1]}<extra></extra>",
         "legendgroup": "kinesin B, negatively charged",
         "marker": {
          "color": "#1f77b4",
          "opacity": 0.6,
          "size": 10,
          "symbol": "triangle-down"
         },
         "mode": "markers+text",
         "name": "kinesin B, negatively charged",
         "orientation": "v",
         "showlegend": true,
         "text": [
          "E",
          "E",
          "E",
          "E",
          "E",
          "E",
          "E",
          "E",
          "D",
          "E",
          "E",
          "D",
          "E",
          "E",
          "E"
         ],
         "textposition": "top center",
         "type": "scatter",
         "x": [
          221,
          340,
          349,
          364,
          366,
          413,
          418,
          420,
          432,
          434,
          453,
          462,
          469,
          476,
          483
         ],
         "xaxis": "x",
         "y": [
          4.009199714660644,
          3.371591997146606,
          3.297004652023316,
          4.077392339706421,
          2.906201171875,
          2.810507678985596,
          3.968616676330567,
          3.468641757965088,
          2.362271404266357,
          3.6165726661682127,
          3.265384292602539,
          3.80820689201355,
          3.5537240982055662,
          3.4615164279937742,
          4.166704845428467
         ],
         "yaxis": "y"
        },
        {
         "customdata": [
          [
           420,
           "E"
          ],
          [
           410,
           "G"
          ],
          [
           409,
           "V"
          ]
         ],
         "hovertemplate": "Interacting Chain=alpha-tubulin<br>aa_classification=positively charged<br>Residue Index=%{x}<br>Distance (angstroms)=%{y}<br>residue_one_letter=%{text}<br>interacting_resinumber=%{customdata[0]}<br>interactingresi_oneletter=%{customdata[1]}<extra></extra>",
         "legendgroup": "alpha-tubulin, positively charged",
         "marker": {
          "color": "#ff7f0e",
          "opacity": 0.6,
          "size": 10,
          "symbol": "triangle-up"
         },
         "mode": "markers+text",
         "name": "alpha-tubulin, positively charged",
         "orientation": "v",
         "showlegend": true,
         "text": [
          "K",
          "K",
          "K"
         ],
         "textposition": "top center",
         "type": "scatter",
         "x": [
          238,
          253,
          257
         ],
         "xaxis": "x",
         "y": [
          2.5207952499389648,
          3.280276203155517,
          3.389344596862793
         ],
         "yaxis": "y"
        },
        {
         "customdata": [
          [
           412,
           "G"
          ],
          [
           112,
           "K"
          ],
          [
           108,
           "Y"
          ],
          [
           420,
           "E"
          ]
         ],
         "hovertemplate": "Interacting Chain=alpha-tubulin<br>aa_classification=nonpolar<br>Residue Index=%{x}<br>Distance (angstroms)=%{y}<br>residue_one_letter=%{text}<br>interacting_resinumber=%{customdata[0]}<br>interactingresi_oneletter=%{customdata[1]}<extra></extra>",
         "legendgroup": "alpha-tubulin, nonpolar",
         "marker": {
          "color": "#ff7f0e",
          "opacity": 0.6,
          "size": 10,
          "symbol": "circle"
         },
         "mode": "markers+text",
         "name": "alpha-tubulin, nonpolar",
         "orientation": "v",
         "showlegend": true,
         "text": [
          "V",
          "A",
          "L",
          "A"
         ],
         "textposition": "top center",
         "type": "scatter",
         "x": [
          239,
          244,
          249,
          312
         ],
         "xaxis": "x",
         "y": [
          3.1701811790466308,
          3.1771588802337645,
          4.439822101593018,
          3.222507858276367
         ],
         "yaxis": "y"
        },
        {
         "customdata": [
          [
           414,
           "E"
          ],
          [
           108,
           "Y"
          ],
          [
           409,
           "V"
          ],
          [
           415,
           "E"
          ],
          [
           402,
           "R"
          ]
         ],
         "hovertemplate": "Interacting Chain=alpha-tubulin<br>aa_classification=polar uncharged<br>Residue Index=%{x}<br>Distance (angstroms)=%{y}<br>residue_one_letter=%{text}<br>interacting_resinumber=%{customdata[0]}<br>interactingresi_oneletter=%{customdata[1]}<extra></extra>",
         "legendgroup": "alpha-tubulin, polar uncharged",
         "marker": {
          "color": "#ff7f0e",
          "opacity": 0.6,
          "size": 10,
          "symbol": "square"
         },
         "mode": "markers+text",
         "name": "alpha-tubulin, polar uncharged",
         "orientation": "v",
         "showlegend": true,
         "text": [
          "S",
          "S",
          "N",
          "S",
          "N"
         ],
         "textposition": "top center",
         "type": "scatter",
         "x": [
          236,
          240,
          256,
          260,
          264
         ],
         "xaxis": "x",
         "y": [
          3.2798548698425294,
          4.477113533020019,
          3.426255941390991,
          2.726187372207641,
          3.513864707946777
         ],
         "yaxis": "y"
        },
        {
         "customdata": [
          [
           414,
           "E"
          ],
          [
           112,
           "K"
          ],
          [
           414,
           "E"
          ]
         ],
         "hovertemplate": "Interacting Chain=alpha-tubulin<br>aa_classification=negatively charged<br>Residue Index=%{x}<br>Distance (angstroms)=%{y}<br>residue_one_letter=%{text}<br>interacting_resinumber=%{customdata[0]}<br>interactingresi_oneletter=%{customdata[1]}<extra></extra>",
         "legendgroup": "alpha-tubulin, negatively charged",
         "marker": {
          "color": "#ff7f0e",
          "opacity": 0.6,
          "size": 10,
          "symbol": "triangle-down"
         },
         "mode": "markers+text",
         "name": "alpha-tubulin, negatively charged",
         "orientation": "v",
         "showlegend": true,
         "text": [
          "E",
          "E",
          "E"
         ],
         "textposition": "top center",
         "type": "scatter",
         "x": [
          237,
          245,
          313
         ],
         "xaxis": "x",
         "y": [
          4.18486099243164,
          3.315972185134888,
          4.148436975479126
         ],
         "yaxis": "y"
        },
        {
         "customdata": [
          [
           157,
           "E"
          ],
          [
           410,
           "E"
          ],
          [
           404,
           "D"
          ],
          [
           424,
           "Q"
          ],
          [
           417,
           "D"
          ],
          [
           410,
           "E"
          ]
         ],
         "hovertemplate": "Interacting Chain=beta-tubulin<br>aa_classification=positively charged<br>Residue Index=%{x}<br>Distance (angstroms)=%{y}<br>residue_one_letter=%{text}<br>interacting_resinumber=%{customdata[0]}<br>interactingresi_oneletter=%{customdata[1]}<extra></extra>",
         "legendgroup": "beta-tubulin, positively charged",
         "marker": {
          "color": "#2ca02c",
          "opacity": 0.6,
          "size": 10,
          "symbol": "triangle-up"
         },
         "mode": "markers+text",
         "name": "beta-tubulin, positively charged",
         "orientation": "v",
         "showlegend": true,
         "text": [
          "K",
          "H",
          "K",
          "K",
          "R",
          "R"
         ],
         "textposition": "top center",
         "type": "scatter",
         "x": [
          142,
          157,
          167,
          274,
          280,
          286
         ],
         "xaxis": "x",
         "y": [
          2.865686798095703,
          3.593832492828369,
          3.234508752822876,
          3.770122575759888,
          2.377636384963989,
          2.9608100414276124
         ],
         "yaxis": "y"
        },
        {
         "customdata": [
          [
           410,
           "E"
          ],
          [
           406,
           "M"
          ]
         ],
         "hovertemplate": "Interacting Chain=beta-tubulin<br>aa_classification=nonpolar<br>Residue Index=%{x}<br>Distance (angstroms)=%{y}<br>residue_one_letter=%{text}<br>interacting_resinumber=%{customdata[0]}<br>interactingresi_oneletter=%{customdata[1]}<extra></extra>",
         "legendgroup": "beta-tubulin, nonpolar",
         "marker": {
          "color": "#2ca02c",
          "opacity": 0.6,
          "size": 10,
          "symbol": "circle"
         },
         "mode": "markers+text",
         "name": "beta-tubulin, nonpolar",
         "orientation": "v",
         "showlegend": true,
         "text": [
          "V",
          "F"
         ],
         "textposition": "top center",
         "type": "scatter",
         "x": [
          156,
          165
         ],
         "xaxis": "x",
         "y": [
          3.716713809967041,
          4.083529281616211
         ],
         "yaxis": "y"
        },
        {
         "customdata": [
          [
           157,
           "E"
          ],
          [
           424,
           "Q"
          ],
          [
           424,
           "Q"
          ]
         ],
         "hovertemplate": "Interacting Chain=beta-tubulin<br>aa_classification=polar uncharged<br>Residue Index=%{x}<br>Distance (angstroms)=%{y}<br>residue_one_letter=%{text}<br>interacting_resinumber=%{customdata[0]}<br>interactingresi_oneletter=%{customdata[1]}<extra></extra>",
         "legendgroup": "beta-tubulin, polar uncharged",
         "marker": {
          "color": "#2ca02c",
          "opacity": 0.6,
          "size": 10,
          "symbol": "square"
         },
         "mode": "markers+text",
         "name": "beta-tubulin, polar uncharged",
         "orientation": "v",
         "showlegend": true,
         "text": [
          "N",
          "S",
          "Y"
         ],
         "textposition": "top center",
         "type": "scatter",
         "x": [
          153,
          275,
          276
         ],
         "xaxis": "x",
         "y": [
          4.170679330825806,
          4.398103904724121,
          2.8293024063110352
         ],
         "yaxis": "y"
        },
        {
         "customdata": [
          [
           413,
           "S"
          ],
          [
           262,
           "R"
          ]
         ],
         "hovertemplate": "Interacting Chain=beta-tubulin<br>aa_classification=negatively charged<br>Residue Index=%{x}<br>Distance (angstroms)=%{y}<br>residue_one_letter=%{text}<br>interacting_resinumber=%{customdata[0]}<br>interactingresi_oneletter=%{customdata[1]}<extra></extra>",
         "legendgroup": "beta-tubulin, negatively charged",
         "marker": {
          "color": "#2ca02c",
          "opacity": 0.6,
          "size": 10,
          "symbol": "triangle-down"
         },
         "mode": "markers+text",
         "name": "beta-tubulin, negatively charged",
         "orientation": "v",
         "showlegend": true,
         "text": [
          "E",
          "D"
         ],
         "textposition": "top center",
         "type": "scatter",
         "x": [
          158,
          281
         ],
         "xaxis": "x",
         "y": [
          2.9026741981506348,
          3.2721176147460938
         ],
         "yaxis": "y"
        },
        {
         "customdata": [
          [
           1,
           "?"
          ],
          [
           1,
           "?"
          ],
          [
           1,
           "?"
          ],
          [
           1,
           "?"
          ],
          [
           1,
           "?"
          ]
         ],
         "hovertemplate": "Interacting Chain=ATP<br>aa_classification=positively charged<br>Residue Index=%{x}<br>Distance (angstroms)=%{y}<br>residue_one_letter=%{text}<br>interacting_resinumber=%{customdata[0]}<br>interactingresi_oneletter=%{customdata[1]}<extra></extra>",
         "legendgroup": "ATP, positively charged",
         "marker": {
          "color": "#d62728",
          "opacity": 0.6,
          "size": 10,
          "symbol": "triangle-up"
         },
         "mode": "markers+text",
         "name": "ATP, positively charged",
         "orientation": "v",
         "showlegend": true,
         "text": [
          "R",
          "R",
          "K",
          "H",
          "H"
         ],
         "textposition": "top center",
         "type": "scatter",
         "x": [
          15,
          17,
          92,
          94,
          201
         ],
         "xaxis": "x",
         "y": [
          3.725289392471313,
          3.421935796737671,
          2.7328794479370115,
          2.772604274749756,
          3.916193199157715
         ],
         "yaxis": "y"
        },
        {
         "customdata": [
          [
           1,
           "?"
          ],
          [
           1,
           "?"
          ],
          [
           1,
           "?"
          ],
          [
           1,
           "?"
          ],
          [
           1,
           "?"
          ],
          [
           1,
           "?"
          ]
         ],
         "hovertemplate": "Interacting Chain=ATP<br>aa_classification=nonpolar<br>Residue Index=%{x}<br>Distance (angstroms)=%{y}<br>residue_one_letter=%{text}<br>interacting_resinumber=%{customdata[0]}<br>interactingresi_oneletter=%{customdata[1]}<extra></extra>",
         "legendgroup": "ATP, nonpolar",
         "marker": {
          "color": "#d62728",
          "opacity": 0.6,
          "size": 10,
          "symbol": "circle"
         },
         "mode": "markers+text",
         "name": "ATP, nonpolar",
         "orientation": "v",
         "showlegend": true,
         "text": [
          "F",
          "P",
          "G",
          "L",
          "A",
          "G"
         ],
         "textposition": "top center",
         "type": "scatter",
         "x": [
          16,
          18,
          91,
          233,
          234,
          235
         ],
         "xaxis": "x",
         "y": [
          4.454448556900024,
          3.3871877670288084,
          2.911225938796997,
          4.360348582267761,
          3.9925753116607674,
          3.029446506500244
         ],
         "yaxis": "y"
        },
        {
         "customdata": [
          [
           1,
           "?"
          ],
          [
           1,
           "?"
          ],
          [
           1,
           "?"
          ],
          [
           1,
           "?"
          ],
          [
           1,
           "?"
          ],
          [
           1,
           "?"
          ]
         ],
         "hovertemplate": "Interacting Chain=ATP<br>aa_classification=polar uncharged<br>Residue Index=%{x}<br>Distance (angstroms)=%{y}<br>residue_one_letter=%{text}<br>interacting_resinumber=%{customdata[0]}<br>interactingresi_oneletter=%{customdata[1]}<extra></extra>",
         "legendgroup": "ATP, polar uncharged",
         "marker": {
          "color": "#d62728",
          "opacity": 0.6,
          "size": 10,
          "symbol": "square"
         },
         "mode": "markers+text",
         "name": "ATP, polar uncharged",
         "orientation": "v",
         "showlegend": true,
         "text": [
          "Q",
          "T",
          "S",
          "S",
          "N",
          "S"
         ],
         "textposition": "top center",
         "type": "scatter",
         "x": [
          87,
          88,
          89,
          90,
          199,
          202
         ],
         "xaxis": "x",
         "y": [
          3.951185369491577,
          2.443377876281738,
          2.823961973190308,
          3.333539628982544,
          3.003550815582275,
          3.1094269275665285
         ],
         "yaxis": "y"
        }
       ],
       "layout": {
        "autosize": false,
        "height": 600,
        "legend": {
         "title": {
          "text": "Interacting Chain"
         },
         "tracegroupgap": 0
        },
        "template": {
         "data": {
          "bar": [
           {
            "error_x": {
             "color": "#2a3f5f"
            },
            "error_y": {
             "color": "#2a3f5f"
            },
            "marker": {
             "line": {
              "color": "#E5ECF6",
              "width": 0.5
             },
             "pattern": {
              "fillmode": "overlay",
              "size": 10,
              "solidity": 0.2
             }
            },
            "type": "bar"
           }
          ],
          "barpolar": [
           {
            "marker": {
             "line": {
              "color": "#E5ECF6",
              "width": 0.5
             },
             "pattern": {
              "fillmode": "overlay",
              "size": 10,
              "solidity": 0.2
             }
            },
            "type": "barpolar"
           }
          ],
          "carpet": [
           {
            "aaxis": {
             "endlinecolor": "#2a3f5f",
             "gridcolor": "white",
             "linecolor": "white",
             "minorgridcolor": "white",
             "startlinecolor": "#2a3f5f"
            },
            "baxis": {
             "endlinecolor": "#2a3f5f",
             "gridcolor": "white",
             "linecolor": "white",
             "minorgridcolor": "white",
             "startlinecolor": "#2a3f5f"
            },
            "type": "carpet"
           }
          ],
          "choropleth": [
           {
            "colorbar": {
             "outlinewidth": 0,
             "ticks": ""
            },
            "type": "choropleth"
           }
          ],
          "contour": [
           {
            "colorbar": {
             "outlinewidth": 0,
             "ticks": ""
            },
            "colorscale": [
             [
              0,
              "#0d0887"
             ],
             [
              0.1111111111111111,
              "#46039f"
             ],
             [
              0.2222222222222222,
              "#7201a8"
             ],
             [
              0.3333333333333333,
              "#9c179e"
             ],
             [
              0.4444444444444444,
              "#bd3786"
             ],
             [
              0.5555555555555556,
              "#d8576b"
             ],
             [
              0.6666666666666666,
              "#ed7953"
             ],
             [
              0.7777777777777778,
              "#fb9f3a"
             ],
             [
              0.8888888888888888,
              "#fdca26"
             ],
             [
              1,
              "#f0f921"
             ]
            ],
            "type": "contour"
           }
          ],
          "contourcarpet": [
           {
            "colorbar": {
             "outlinewidth": 0,
             "ticks": ""
            },
            "type": "contourcarpet"
           }
          ],
          "heatmap": [
           {
            "colorbar": {
             "outlinewidth": 0,
             "ticks": ""
            },
            "colorscale": [
             [
              0,
              "#0d0887"
             ],
             [
              0.1111111111111111,
              "#46039f"
             ],
             [
              0.2222222222222222,
              "#7201a8"
             ],
             [
              0.3333333333333333,
              "#9c179e"
             ],
             [
              0.4444444444444444,
              "#bd3786"
             ],
             [
              0.5555555555555556,
              "#d8576b"
             ],
             [
              0.6666666666666666,
              "#ed7953"
             ],
             [
              0.7777777777777778,
              "#fb9f3a"
             ],
             [
              0.8888888888888888,
              "#fdca26"
             ],
             [
              1,
              "#f0f921"
             ]
            ],
            "type": "heatmap"
           }
          ],
          "heatmapgl": [
           {
            "colorbar": {
             "outlinewidth": 0,
             "ticks": ""
            },
            "colorscale": [
             [
              0,
              "#0d0887"
             ],
             [
              0.1111111111111111,
              "#46039f"
             ],
             [
              0.2222222222222222,
              "#7201a8"
             ],
             [
              0.3333333333333333,
              "#9c179e"
             ],
             [
              0.4444444444444444,
              "#bd3786"
             ],
             [
              0.5555555555555556,
              "#d8576b"
             ],
             [
              0.6666666666666666,
              "#ed7953"
             ],
             [
              0.7777777777777778,
              "#fb9f3a"
             ],
             [
              0.8888888888888888,
              "#fdca26"
             ],
             [
              1,
              "#f0f921"
             ]
            ],
            "type": "heatmapgl"
           }
          ],
          "histogram": [
           {
            "marker": {
             "pattern": {
              "fillmode": "overlay",
              "size": 10,
              "solidity": 0.2
             }
            },
            "type": "histogram"
           }
          ],
          "histogram2d": [
           {
            "colorbar": {
             "outlinewidth": 0,
             "ticks": ""
            },
            "colorscale": [
             [
              0,
              "#0d0887"
             ],
             [
              0.1111111111111111,
              "#46039f"
             ],
             [
              0.2222222222222222,
              "#7201a8"
             ],
             [
              0.3333333333333333,
              "#9c179e"
             ],
             [
              0.4444444444444444,
              "#bd3786"
             ],
             [
              0.5555555555555556,
              "#d8576b"
             ],
             [
              0.6666666666666666,
              "#ed7953"
             ],
             [
              0.7777777777777778,
              "#fb9f3a"
             ],
             [
              0.8888888888888888,
              "#fdca26"
             ],
             [
              1,
              "#f0f921"
             ]
            ],
            "type": "histogram2d"
           }
          ],
          "histogram2dcontour": [
           {
            "colorbar": {
             "outlinewidth": 0,
             "ticks": ""
            },
            "colorscale": [
             [
              0,
              "#0d0887"
             ],
             [
              0.1111111111111111,
              "#46039f"
             ],
             [
              0.2222222222222222,
              "#7201a8"
             ],
             [
              0.3333333333333333,
              "#9c179e"
             ],
             [
              0.4444444444444444,
              "#bd3786"
             ],
             [
              0.5555555555555556,
              "#d8576b"
             ],
             [
              0.6666666666666666,
              "#ed7953"
             ],
             [
              0.7777777777777778,
              "#fb9f3a"
             ],
             [
              0.8888888888888888,
              "#fdca26"
             ],
             [
              1,
              "#f0f921"
             ]
            ],
            "type": "histogram2dcontour"
           }
          ],
          "mesh3d": [
           {
            "colorbar": {
             "outlinewidth": 0,
             "ticks": ""
            },
            "type": "mesh3d"
           }
          ],
          "parcoords": [
           {
            "line": {
             "colorbar": {
              "outlinewidth": 0,
              "ticks": ""
             }
            },
            "type": "parcoords"
           }
          ],
          "pie": [
           {
            "automargin": true,
            "type": "pie"
           }
          ],
          "scatter": [
           {
            "fillpattern": {
             "fillmode": "overlay",
             "size": 10,
             "solidity": 0.2
            },
            "type": "scatter"
           }
          ],
          "scatter3d": [
           {
            "line": {
             "colorbar": {
              "outlinewidth": 0,
              "ticks": ""
             }
            },
            "marker": {
             "colorbar": {
              "outlinewidth": 0,
              "ticks": ""
             }
            },
            "type": "scatter3d"
           }
          ],
          "scattercarpet": [
           {
            "marker": {
             "colorbar": {
              "outlinewidth": 0,
              "ticks": ""
             }
            },
            "type": "scattercarpet"
           }
          ],
          "scattergeo": [
           {
            "marker": {
             "colorbar": {
              "outlinewidth": 0,
              "ticks": ""
             }
            },
            "type": "scattergeo"
           }
          ],
          "scattergl": [
           {
            "marker": {
             "colorbar": {
              "outlinewidth": 0,
              "ticks": ""
             }
            },
            "type": "scattergl"
           }
          ],
          "scattermapbox": [
           {
            "marker": {
             "colorbar": {
              "outlinewidth": 0,
              "ticks": ""
             }
            },
            "type": "scattermapbox"
           }
          ],
          "scatterpolar": [
           {
            "marker": {
             "colorbar": {
              "outlinewidth": 0,
              "ticks": ""
             }
            },
            "type": "scatterpolar"
           }
          ],
          "scatterpolargl": [
           {
            "marker": {
             "colorbar": {
              "outlinewidth": 0,
              "ticks": ""
             }
            },
            "type": "scatterpolargl"
           }
          ],
          "scatterternary": [
           {
            "marker": {
             "colorbar": {
              "outlinewidth": 0,
              "ticks": ""
             }
            },
            "type": "scatterternary"
           }
          ],
          "surface": [
           {
            "colorbar": {
             "outlinewidth": 0,
             "ticks": ""
            },
            "colorscale": [
             [
              0,
              "#0d0887"
             ],
             [
              0.1111111111111111,
              "#46039f"
             ],
             [
              0.2222222222222222,
              "#7201a8"
             ],
             [
              0.3333333333333333,
              "#9c179e"
             ],
             [
              0.4444444444444444,
              "#bd3786"
             ],
             [
              0.5555555555555556,
              "#d8576b"
             ],
             [
              0.6666666666666666,
              "#ed7953"
             ],
             [
              0.7777777777777778,
              "#fb9f3a"
             ],
             [
              0.8888888888888888,
              "#fdca26"
             ],
             [
              1,
              "#f0f921"
             ]
            ],
            "type": "surface"
           }
          ],
          "table": [
           {
            "cells": {
             "fill": {
              "color": "#EBF0F8"
             },
             "line": {
              "color": "white"
             }
            },
            "header": {
             "fill": {
              "color": "#C8D4E3"
             },
             "line": {
              "color": "white"
             }
            },
            "type": "table"
           }
          ]
         },
         "layout": {
          "annotationdefaults": {
           "arrowcolor": "#2a3f5f",
           "arrowhead": 0,
           "arrowwidth": 1
          },
          "autotypenumbers": "strict",
          "coloraxis": {
           "colorbar": {
            "outlinewidth": 0,
            "ticks": ""
           }
          },
          "colorscale": {
           "diverging": [
            [
             0,
             "#8e0152"
            ],
            [
             0.1,
             "#c51b7d"
            ],
            [
             0.2,
             "#de77ae"
            ],
            [
             0.3,
             "#f1b6da"
            ],
            [
             0.4,
             "#fde0ef"
            ],
            [
             0.5,
             "#f7f7f7"
            ],
            [
             0.6,
             "#e6f5d0"
            ],
            [
             0.7,
             "#b8e186"
            ],
            [
             0.8,
             "#7fbc41"
            ],
            [
             0.9,
             "#4d9221"
            ],
            [
             1,
             "#276419"
            ]
           ],
           "sequential": [
            [
             0,
             "#0d0887"
            ],
            [
             0.1111111111111111,
             "#46039f"
            ],
            [
             0.2222222222222222,
             "#7201a8"
            ],
            [
             0.3333333333333333,
             "#9c179e"
            ],
            [
             0.4444444444444444,
             "#bd3786"
            ],
            [
             0.5555555555555556,
             "#d8576b"
            ],
            [
             0.6666666666666666,
             "#ed7953"
            ],
            [
             0.7777777777777778,
             "#fb9f3a"
            ],
            [
             0.8888888888888888,
             "#fdca26"
            ],
            [
             1,
             "#f0f921"
            ]
           ],
           "sequentialminus": [
            [
             0,
             "#0d0887"
            ],
            [
             0.1111111111111111,
             "#46039f"
            ],
            [
             0.2222222222222222,
             "#7201a8"
            ],
            [
             0.3333333333333333,
             "#9c179e"
            ],
            [
             0.4444444444444444,
             "#bd3786"
            ],
            [
             0.5555555555555556,
             "#d8576b"
            ],
            [
             0.6666666666666666,
             "#ed7953"
            ],
            [
             0.7777777777777778,
             "#fb9f3a"
            ],
            [
             0.8888888888888888,
             "#fdca26"
            ],
            [
             1,
             "#f0f921"
            ]
           ]
          },
          "colorway": [
           "#636efa",
           "#EF553B",
           "#00cc96",
           "#ab63fa",
           "#FFA15A",
           "#19d3f3",
           "#FF6692",
           "#B6E880",
           "#FF97FF",
           "#FECB52"
          ],
          "font": {
           "color": "#2a3f5f"
          },
          "geo": {
           "bgcolor": "white",
           "lakecolor": "white",
           "landcolor": "#E5ECF6",
           "showlakes": true,
           "showland": true,
           "subunitcolor": "white"
          },
          "hoverlabel": {
           "align": "left"
          },
          "hovermode": "closest",
          "mapbox": {
           "style": "light"
          },
          "paper_bgcolor": "white",
          "plot_bgcolor": "#E5ECF6",
          "polar": {
           "angularaxis": {
            "gridcolor": "white",
            "linecolor": "white",
            "ticks": ""
           },
           "bgcolor": "#E5ECF6",
           "radialaxis": {
            "gridcolor": "white",
            "linecolor": "white",
            "ticks": ""
           }
          },
          "scene": {
           "xaxis": {
            "backgroundcolor": "#E5ECF6",
            "gridcolor": "white",
            "gridwidth": 2,
            "linecolor": "white",
            "showbackground": true,
            "ticks": "",
            "zerolinecolor": "white"
           },
           "yaxis": {
            "backgroundcolor": "#E5ECF6",
            "gridcolor": "white",
            "gridwidth": 2,
            "linecolor": "white",
            "showbackground": true,
            "ticks": "",
            "zerolinecolor": "white"
           },
           "zaxis": {
            "backgroundcolor": "#E5ECF6",
            "gridcolor": "white",
            "gridwidth": 2,
            "linecolor": "white",
            "showbackground": true,
            "ticks": "",
            "zerolinecolor": "white"
           }
          },
          "shapedefaults": {
           "line": {
            "color": "#2a3f5f"
           }
          },
          "ternary": {
           "aaxis": {
            "gridcolor": "white",
            "linecolor": "white",
            "ticks": ""
           },
           "baxis": {
            "gridcolor": "white",
            "linecolor": "white",
            "ticks": ""
           },
           "bgcolor": "#E5ECF6",
           "caxis": {
            "gridcolor": "white",
            "linecolor": "white",
            "ticks": ""
           }
          },
          "title": {
           "x": 0.05
          },
          "xaxis": {
           "automargin": true,
           "gridcolor": "white",
           "linecolor": "white",
           "ticks": "",
           "title": {
            "standoff": 15
           },
           "zerolinecolor": "white",
           "zerolinewidth": 2
          },
          "yaxis": {
           "automargin": true,
           "gridcolor": "white",
           "linecolor": "white",
           "ticks": "",
           "title": {
            "standoff": 15
           },
           "zerolinecolor": "white",
           "zerolinewidth": 2
          }
         }
        },
        "title": {
         "text": "Interactions for Kif5"
        },
        "width": 1600,
        "xaxis": {
         "anchor": "y",
         "domain": [
          0,
          1
         ],
         "dtick": 20,
         "range": [
          0,
          600
         ],
         "title": {
          "text": "Residue Index"
         }
        },
        "yaxis": {
         "anchor": "x",
         "domain": [
          0,
          1
         ],
         "range": [
          1.5,
          5
         ],
         "title": {
          "text": "Distance (angstroms)"
         }
        }
       }
      }
     },
     "metadata": {},
     "output_type": "display_data"
    },
    {
     "data": {
      "application/vnd.plotly.v1+json": {
       "config": {
        "plotlyServerURL": "https://plot.ly"
       },
       "data": [
        {
         "customdata": [
          [
           364,
           "E"
          ],
          [
           378,
           "E"
          ]
         ],
         "hovertemplate": "Interacting Chain=kinesin B<br>aa_classification=positively charged<br>Residue Index=%{x}<br>Distance (angstroms)=%{y}<br>residue_one_letter=%{text}<br>interacting_resinumber=%{customdata[0]}<br>interactingresi_oneletter=%{customdata[1]}<extra></extra>",
         "legendgroup": "kinesin B, positively charged",
         "marker": {
          "color": "#1f77b4",
          "opacity": 0.6,
          "size": 10,
          "symbol": "triangle-up"
         },
         "mode": "markers+text",
         "name": "kinesin B, positively charged",
         "orientation": "v",
         "showlegend": true,
         "text": [
          "K",
          "K"
         ],
         "textposition": "top center",
         "type": "scatter",
         "x": [
          369,
          383
         ],
         "xaxis": "x",
         "y": [
          2.608330821990967,
          3.024679708480835
         ],
         "yaxis": "y"
        },
        {
         "customdata": [
          [
           351,
           "A"
          ],
          [
           354,
           "L"
          ],
          [
           355,
           "Q"
          ],
          [
           358,
           "L"
          ],
          [
           357,
           "L"
          ],
          [
           365,
           "I"
          ],
          [
           365,
           "I"
          ],
          [
           365,
           "I"
          ],
          [
           375,
           "I"
          ],
          [
           378,
           "E"
          ]
         ],
         "hovertemplate": "Interacting Chain=kinesin B<br>aa_classification=nonpolar<br>Residue Index=%{x}<br>Distance (angstroms)=%{y}<br>residue_one_letter=%{text}<br>interacting_resinumber=%{customdata[0]}<br>interactingresi_oneletter=%{customdata[1]}<extra></extra>",
         "legendgroup": "kinesin B, nonpolar",
         "marker": {
          "color": "#1f77b4",
          "opacity": 0.6,
          "size": 10,
          "symbol": "circle"
         },
         "mode": "markers+text",
         "name": "kinesin B, nonpolar",
         "orientation": "v",
         "showlegend": true,
         "text": [
          "L",
          "A",
          "L",
          "L",
          "L",
          "A",
          "I",
          "L",
          "I",
          "L"
         ],
         "textposition": "top center",
         "type": "scatter",
         "x": [
          349,
          351,
          354,
          357,
          358,
          361,
          365,
          368,
          375,
          379
         ],
         "xaxis": "x",
         "y": [
          4.394947910308838,
          3.33556866645813,
          2.998583364486694,
          3.661466932296753,
          3.566471624374389,
          3.694569969177246,
          3.432204532623291,
          3.968167924880981,
          3.201457643508911,
          3.41651463508606
         ],
         "yaxis": "y"
        },
        {
         "customdata": [
          [
           354,
           "L"
          ],
          [
           376,
           "E"
          ],
          [
           372,
           "T"
          ],
          [
           383,
           "K"
          ]
         ],
         "hovertemplate": "Interacting Chain=kinesin B<br>aa_classification=polar uncharged<br>Residue Index=%{x}<br>Distance (angstroms)=%{y}<br>residue_one_letter=%{text}<br>interacting_resinumber=%{customdata[0]}<br>interactingresi_oneletter=%{customdata[1]}<extra></extra>",
         "legendgroup": "kinesin B, polar uncharged",
         "marker": {
          "color": "#1f77b4",
          "opacity": 0.6,
          "size": 10,
          "symbol": "square"
         },
         "mode": "markers+text",
         "name": "kinesin B, polar uncharged",
         "orientation": "v",
         "showlegend": true,
         "text": [
          "Q",
          "Y",
          "T",
          "Y"
         ],
         "textposition": "top center",
         "type": "scatter",
         "x": [
          355,
          371,
          372,
          382
         ],
         "xaxis": "x",
         "y": [
          3.018790292739868,
          2.608727788925171,
          2.956194448471069,
          3.564820098876953
         ],
         "yaxis": "y"
        },
        {
         "customdata": [
          [
           369,
           "K"
          ],
          [
           371,
           "Y"
          ],
          [
           383,
           "K"
          ]
         ],
         "hovertemplate": "Interacting Chain=kinesin B<br>aa_classification=negatively charged<br>Residue Index=%{x}<br>Distance (angstroms)=%{y}<br>residue_one_letter=%{text}<br>interacting_resinumber=%{customdata[0]}<br>interactingresi_oneletter=%{customdata[1]}<extra></extra>",
         "legendgroup": "kinesin B, negatively charged",
         "marker": {
          "color": "#1f77b4",
          "opacity": 0.6,
          "size": 10,
          "symbol": "triangle-down"
         },
         "mode": "markers+text",
         "name": "kinesin B, negatively charged",
         "orientation": "v",
         "showlegend": true,
         "text": [
          "E",
          "E",
          "E"
         ],
         "textposition": "top center",
         "type": "scatter",
         "x": [
          364,
          376,
          378
         ],
         "xaxis": "x",
         "y": [
          2.792991209030151,
          2.737335634231568,
          3.0165204048156737
         ],
         "yaxis": "y"
        },
        {
         "customdata": [
          [
           420,
           "E"
          ],
          [
           155,
           "E"
          ],
          [
           410,
           "G"
          ],
          [
           409,
           "V"
          ],
          [
           423,
           "E"
          ]
         ],
         "hovertemplate": "Interacting Chain=alpha-tubulin<br>aa_classification=positively charged<br>Residue Index=%{x}<br>Distance (angstroms)=%{y}<br>residue_one_letter=%{text}<br>interacting_resinumber=%{customdata[0]}<br>interactingresi_oneletter=%{customdata[1]}<extra></extra>",
         "legendgroup": "alpha-tubulin, positively charged",
         "marker": {
          "color": "#ff7f0e",
          "opacity": 0.6,
          "size": 10,
          "symbol": "triangle-up"
         },
         "mode": "markers+text",
         "name": "alpha-tubulin, positively charged",
         "orientation": "v",
         "showlegend": true,
         "text": [
          "K",
          "K",
          "K",
          "K",
          "R"
         ],
         "textposition": "top center",
         "type": "scatter",
         "x": [
          250,
          252,
          265,
          269,
          331
         ],
         "xaxis": "x",
         "y": [
          2.3727120399475097,
          2.5094840049743654,
          3.200673007965088,
          3.3602692127227782,
          2.819886302947998
         ],
         "yaxis": "y"
        },
        {
         "customdata": [
          [
           412,
           "G"
          ],
          [
           112,
           "K"
          ],
          [
           108,
           "Y"
          ],
          [
           402,
           "R"
          ],
          [
           423,
           "E"
          ]
         ],
         "hovertemplate": "Interacting Chain=alpha-tubulin<br>aa_classification=nonpolar<br>Residue Index=%{x}<br>Distance (angstroms)=%{y}<br>residue_one_letter=%{text}<br>interacting_resinumber=%{customdata[0]}<br>interactingresi_oneletter=%{customdata[1]}<extra></extra>",
         "legendgroup": "alpha-tubulin, nonpolar",
         "marker": {
          "color": "#ff7f0e",
          "opacity": 0.6,
          "size": 10,
          "symbol": "circle"
         },
         "mode": "markers+text",
         "name": "alpha-tubulin, nonpolar",
         "orientation": "v",
         "showlegend": true,
         "text": [
          "V",
          "A",
          "L",
          "M",
          "L"
         ],
         "textposition": "top center",
         "type": "scatter",
         "x": [
          251,
          256,
          261,
          276,
          327
         ],
         "xaxis": "x",
         "y": [
          3.12829327583313,
          3.313172197341919,
          4.408663654327393,
          3.656279516220093,
          4.460014247894288
         ],
         "yaxis": "y"
        },
        {
         "customdata": [
          [
           423,
           "E"
          ],
          [
           414,
           "E"
          ],
          [
           409,
           "V"
          ],
          [
           415,
           "E"
          ],
          [
           402,
           "R"
          ]
         ],
         "hovertemplate": "Interacting Chain=alpha-tubulin<br>aa_classification=polar uncharged<br>Residue Index=%{x}<br>Distance (angstroms)=%{y}<br>residue_one_letter=%{text}<br>interacting_resinumber=%{customdata[0]}<br>interactingresi_oneletter=%{customdata[1]}<extra></extra>",
         "legendgroup": "alpha-tubulin, polar uncharged",
         "marker": {
          "color": "#ff7f0e",
          "opacity": 0.6,
          "size": 10,
          "symbol": "square"
         },
         "mode": "markers+text",
         "name": "alpha-tubulin, polar uncharged",
         "orientation": "v",
         "showlegend": true,
         "text": [
          "N",
          "S",
          "N",
          "S",
          "N"
         ],
         "textposition": "top center",
         "type": "scatter",
         "x": [
          45,
          248,
          268,
          272,
          279
         ],
         "xaxis": "x",
         "y": [
          2.990495300292969,
          3.062673282623291,
          3.4226678371429444,
          2.4315425872802736,
          4.493031120300293
         ],
         "yaxis": "y"
        },
        {
         "customdata": [
          [
           414,
           "E"
          ],
          [
           420,
           "E"
          ],
          [
           414,
           "E"
          ]
         ],
         "hovertemplate": "Interacting Chain=alpha-tubulin<br>aa_classification=negatively charged<br>Residue Index=%{x}<br>Distance (angstroms)=%{y}<br>residue_one_letter=%{text}<br>interacting_resinumber=%{customdata[0]}<br>interactingresi_oneletter=%{customdata[1]}<extra></extra>",
         "legendgroup": "alpha-tubulin, negatively charged",
         "marker": {
          "color": "#ff7f0e",
          "opacity": 0.6,
          "size": 10,
          "symbol": "triangle-down"
         },
         "mode": "markers+text",
         "name": "alpha-tubulin, negatively charged",
         "orientation": "v",
         "showlegend": true,
         "text": [
          "E",
          "D",
          "E"
         ],
         "textposition": "top center",
         "type": "scatter",
         "x": [
          249,
          324,
          325
         ],
         "xaxis": "x",
         "y": [
          4.204822635650634,
          3.237287998199463,
          4.1951038360595705
         ],
         "yaxis": "y"
        },
        {
         "customdata": [
          [
           157,
           "E"
          ],
          [
           407,
           "E"
          ],
          [
           413,
           "S"
          ],
          [
           404,
           "D"
          ],
          [
           427,
           "D"
          ],
          [
           417,
           "D"
          ],
          [
           194,
           "E"
          ],
          [
           410,
           "E"
          ],
          [
           436,
           "F"
          ]
         ],
         "hovertemplate": "Interacting Chain=beta-tubulin<br>aa_classification=positively charged<br>Residue Index=%{x}<br>Distance (angstroms)=%{y}<br>residue_one_letter=%{text}<br>interacting_resinumber=%{customdata[0]}<br>interactingresi_oneletter=%{customdata[1]}<extra></extra>",
         "legendgroup": "beta-tubulin, positively charged",
         "marker": {
          "color": "#2ca02c",
          "opacity": 0.6,
          "size": 10,
          "symbol": "triangle-up"
         },
         "mode": "markers+text",
         "name": "beta-tubulin, positively charged",
         "orientation": "v",
         "showlegend": true,
         "text": [
          "K",
          "K",
          "R",
          "K",
          "K",
          "R",
          "K",
          "R",
          "R"
         ],
         "textposition": "top center",
         "type": "scatter",
         "x": [
          152,
          167,
          170,
          179,
          287,
          292,
          295,
          298,
          335
         ],
         "xaxis": "x",
         "y": [
          2.7452292442321777,
          3.326972770690918,
          4.303051424026489,
          2.894314098358154,
          3.121048021316528,
          2.474439001083374,
          3.3298256397247314,
          3.384342622756958,
          3.937143230438232
         ],
         "yaxis": "y"
        },
        {
         "customdata": [
          [
           410,
           "E"
          ],
          [
           425,
           "Y"
          ],
          [
           432,
           "E"
          ],
          [
           424,
           "Q"
          ]
         ],
         "hovertemplate": "Interacting Chain=beta-tubulin<br>aa_classification=nonpolar<br>Residue Index=%{x}<br>Distance (angstroms)=%{y}<br>residue_one_letter=%{text}<br>interacting_resinumber=%{customdata[0]}<br>interactingresi_oneletter=%{customdata[1]}<extra></extra>",
         "legendgroup": "beta-tubulin, nonpolar",
         "marker": {
          "color": "#2ca02c",
          "opacity": 0.6,
          "size": 10,
          "symbol": "circle"
         },
         "mode": "markers+text",
         "name": "beta-tubulin, nonpolar",
         "orientation": "v",
         "showlegend": true,
         "text": [
          "I",
          "M",
          "V",
          "F"
         ],
         "textposition": "top center",
         "type": "scatter",
         "x": [
          166,
          276,
          285,
          288
         ],
         "xaxis": "x",
         "y": [
          4.030101776123047,
          4.17527961730957,
          3.648743534088135,
          3.018964099884033
         ],
         "yaxis": "y"
        },
        {
         "customdata": [
          [
           406,
           "M"
          ],
          [
           436,
           "F"
          ],
          [
           424,
           "Q"
          ]
         ],
         "hovertemplate": "Interacting Chain=beta-tubulin<br>aa_classification=polar uncharged<br>Residue Index=%{x}<br>Distance (angstroms)=%{y}<br>residue_one_letter=%{text}<br>interacting_resinumber=%{customdata[0]}<br>interactingresi_oneletter=%{customdata[1]}<extra></extra>",
         "legendgroup": "beta-tubulin, polar uncharged",
         "marker": {
          "color": "#2ca02c",
          "opacity": 0.6,
          "size": 10,
          "symbol": "square"
         },
         "mode": "markers+text",
         "name": "beta-tubulin, polar uncharged",
         "orientation": "v",
         "showlegend": true,
         "text": [
          "Y",
          "T",
          "S"
         ],
         "textposition": "top center",
         "type": "scatter",
         "x": [
          177,
          282,
          286
         ],
         "xaxis": "x",
         "y": [
          2.969564342498779,
          4.181388282775879,
          3.40140814781189
         ],
         "yaxis": "y"
        },
        {
         "customdata": [
          [
           413,
           "S"
          ],
          [
           406,
           "M"
          ],
          [
           262,
           "R"
          ]
         ],
         "hovertemplate": "Interacting Chain=beta-tubulin<br>aa_classification=negatively charged<br>Residue Index=%{x}<br>Distance (angstroms)=%{y}<br>residue_one_letter=%{text}<br>interacting_resinumber=%{customdata[0]}<br>interactingresi_oneletter=%{customdata[1]}<extra></extra>",
         "legendgroup": "beta-tubulin, negatively charged",
         "marker": {
          "color": "#2ca02c",
          "opacity": 0.6,
          "size": 10,
          "symbol": "triangle-down"
         },
         "mode": "markers+text",
         "name": "beta-tubulin, negatively charged",
         "orientation": "v",
         "showlegend": true,
         "text": [
          "E",
          "D",
          "D"
         ],
         "textposition": "top center",
         "type": "scatter",
         "x": [
          168,
          169,
          293
         ],
         "xaxis": "x",
         "y": [
          3.7883387088775633,
          3.972825002670288,
          3.1688178062438963
         ],
         "yaxis": "y"
        },
        {
         "customdata": [
          [
           1,
           "?"
          ],
          [
           1,
           "?"
          ],
          [
           1,
           "?"
          ]
         ],
         "hovertemplate": "Interacting Chain=ATP<br>aa_classification=positively charged<br>Residue Index=%{x}<br>Distance (angstroms)=%{y}<br>residue_one_letter=%{text}<br>interacting_resinumber=%{customdata[0]}<br>interactingresi_oneletter=%{customdata[1]}<extra></extra>",
         "legendgroup": "ATP, positively charged",
         "marker": {
          "color": "#d62728",
          "opacity": 0.6,
          "size": 10,
          "symbol": "triangle-up"
         },
         "mode": "markers+text",
         "name": "ATP, positively charged",
         "orientation": "v",
         "showlegend": true,
         "text": [
          "R",
          "R",
          "K"
         ],
         "textposition": "top center",
         "type": "scatter",
         "x": [
          15,
          17,
          95
         ],
         "xaxis": "x",
         "y": [
          3.835475778579712,
          3.6517043113708496,
          2.6729541301727293
         ],
         "yaxis": "y"
        },
        {
         "customdata": [
          [
           1,
           "?"
          ],
          [
           1,
           "?"
          ],
          [
           1,
           "?"
          ],
          [
           1,
           "?"
          ],
          [
           1,
           "?"
          ],
          [
           1,
           "?"
          ]
         ],
         "hovertemplate": "Interacting Chain=ATP<br>aa_classification=nonpolar<br>Residue Index=%{x}<br>Distance (angstroms)=%{y}<br>residue_one_letter=%{text}<br>interacting_resinumber=%{customdata[0]}<br>interactingresi_oneletter=%{customdata[1]}<extra></extra>",
         "legendgroup": "ATP, nonpolar",
         "marker": {
          "color": "#d62728",
          "opacity": 0.6,
          "size": 10,
          "symbol": "circle"
         },
         "mode": "markers+text",
         "name": "ATP, nonpolar",
         "orientation": "v",
         "showlegend": true,
         "text": [
          "P",
          "G",
          "G",
          "P",
          "A",
          "G"
         ],
         "textposition": "top center",
         "type": "scatter",
         "x": [
          18,
          92,
          94,
          102,
          246,
          247
         ],
         "xaxis": "x",
         "y": [
          3.5515328884124755,
          2.790690279006958,
          2.9874924182891847,
          4.300886917114258,
          3.933769369125366,
          2.9193405151367187
         ],
         "yaxis": "y"
        },
        {
         "customdata": [
          [
           1,
           "?"
          ],
          [
           1,
           "?"
          ],
          [
           1,
           "?"
          ],
          [
           1,
           "?"
          ],
          [
           1,
           "?"
          ],
          [
           1,
           "?"
          ]
         ],
         "hovertemplate": "Interacting Chain=ATP<br>aa_classification=polar uncharged<br>Residue Index=%{x}<br>Distance (angstroms)=%{y}<br>residue_one_letter=%{text}<br>interacting_resinumber=%{customdata[0]}<br>interactingresi_oneletter=%{customdata[1]}<extra></extra>",
         "legendgroup": "ATP, polar uncharged",
         "marker": {
          "color": "#d62728",
          "opacity": 0.6,
          "size": 10,
          "symbol": "square"
         },
         "mode": "markers+text",
         "name": "ATP, polar uncharged",
         "orientation": "v",
         "showlegend": true,
         "text": [
          "Q",
          "T",
          "S",
          "Y",
          "N",
          "S"
         ],
         "textposition": "top center",
         "type": "scatter",
         "x": [
          90,
          91,
          93,
          97,
          211,
          214
         ],
         "xaxis": "x",
         "y": [
          3.922754287719727,
          2.558457851409912,
          3.384884595870972,
          2.7429529666900634,
          3.0357341289520265,
          2.9098785877227784
         ],
         "yaxis": "y"
        },
        {
         "customdata": [
          [
           1,
           "?"
          ]
         ],
         "hovertemplate": "Interacting Chain=ATP<br>aa_classification=negatively charged<br>Residue Index=%{x}<br>Distance (angstroms)=%{y}<br>residue_one_letter=%{text}<br>interacting_resinumber=%{customdata[0]}<br>interactingresi_oneletter=%{customdata[1]}<extra></extra>",
         "legendgroup": "ATP, negatively charged",
         "marker": {
          "color": "#d62728",
          "opacity": 0.6,
          "size": 10,
          "symbol": "triangle-down"
         },
         "mode": "markers+text",
         "name": "ATP, negatively charged",
         "orientation": "v",
         "showlegend": true,
         "text": [
          "E"
         ],
         "textposition": "top center",
         "type": "scatter",
         "x": [
          213
         ],
         "xaxis": "x",
         "y": [
          4.046447086334228
         ],
         "yaxis": "y"
        }
       ],
       "layout": {
        "autosize": false,
        "height": 600,
        "legend": {
         "title": {
          "text": "Interacting Chain"
         },
         "tracegroupgap": 0
        },
        "template": {
         "data": {
          "bar": [
           {
            "error_x": {
             "color": "#2a3f5f"
            },
            "error_y": {
             "color": "#2a3f5f"
            },
            "marker": {
             "line": {
              "color": "#E5ECF6",
              "width": 0.5
             },
             "pattern": {
              "fillmode": "overlay",
              "size": 10,
              "solidity": 0.2
             }
            },
            "type": "bar"
           }
          ],
          "barpolar": [
           {
            "marker": {
             "line": {
              "color": "#E5ECF6",
              "width": 0.5
             },
             "pattern": {
              "fillmode": "overlay",
              "size": 10,
              "solidity": 0.2
             }
            },
            "type": "barpolar"
           }
          ],
          "carpet": [
           {
            "aaxis": {
             "endlinecolor": "#2a3f5f",
             "gridcolor": "white",
             "linecolor": "white",
             "minorgridcolor": "white",
             "startlinecolor": "#2a3f5f"
            },
            "baxis": {
             "endlinecolor": "#2a3f5f",
             "gridcolor": "white",
             "linecolor": "white",
             "minorgridcolor": "white",
             "startlinecolor": "#2a3f5f"
            },
            "type": "carpet"
           }
          ],
          "choropleth": [
           {
            "colorbar": {
             "outlinewidth": 0,
             "ticks": ""
            },
            "type": "choropleth"
           }
          ],
          "contour": [
           {
            "colorbar": {
             "outlinewidth": 0,
             "ticks": ""
            },
            "colorscale": [
             [
              0,
              "#0d0887"
             ],
             [
              0.1111111111111111,
              "#46039f"
             ],
             [
              0.2222222222222222,
              "#7201a8"
             ],
             [
              0.3333333333333333,
              "#9c179e"
             ],
             [
              0.4444444444444444,
              "#bd3786"
             ],
             [
              0.5555555555555556,
              "#d8576b"
             ],
             [
              0.6666666666666666,
              "#ed7953"
             ],
             [
              0.7777777777777778,
              "#fb9f3a"
             ],
             [
              0.8888888888888888,
              "#fdca26"
             ],
             [
              1,
              "#f0f921"
             ]
            ],
            "type": "contour"
           }
          ],
          "contourcarpet": [
           {
            "colorbar": {
             "outlinewidth": 0,
             "ticks": ""
            },
            "type": "contourcarpet"
           }
          ],
          "heatmap": [
           {
            "colorbar": {
             "outlinewidth": 0,
             "ticks": ""
            },
            "colorscale": [
             [
              0,
              "#0d0887"
             ],
             [
              0.1111111111111111,
              "#46039f"
             ],
             [
              0.2222222222222222,
              "#7201a8"
             ],
             [
              0.3333333333333333,
              "#9c179e"
             ],
             [
              0.4444444444444444,
              "#bd3786"
             ],
             [
              0.5555555555555556,
              "#d8576b"
             ],
             [
              0.6666666666666666,
              "#ed7953"
             ],
             [
              0.7777777777777778,
              "#fb9f3a"
             ],
             [
              0.8888888888888888,
              "#fdca26"
             ],
             [
              1,
              "#f0f921"
             ]
            ],
            "type": "heatmap"
           }
          ],
          "heatmapgl": [
           {
            "colorbar": {
             "outlinewidth": 0,
             "ticks": ""
            },
            "colorscale": [
             [
              0,
              "#0d0887"
             ],
             [
              0.1111111111111111,
              "#46039f"
             ],
             [
              0.2222222222222222,
              "#7201a8"
             ],
             [
              0.3333333333333333,
              "#9c179e"
             ],
             [
              0.4444444444444444,
              "#bd3786"
             ],
             [
              0.5555555555555556,
              "#d8576b"
             ],
             [
              0.6666666666666666,
              "#ed7953"
             ],
             [
              0.7777777777777778,
              "#fb9f3a"
             ],
             [
              0.8888888888888888,
              "#fdca26"
             ],
             [
              1,
              "#f0f921"
             ]
            ],
            "type": "heatmapgl"
           }
          ],
          "histogram": [
           {
            "marker": {
             "pattern": {
              "fillmode": "overlay",
              "size": 10,
              "solidity": 0.2
             }
            },
            "type": "histogram"
           }
          ],
          "histogram2d": [
           {
            "colorbar": {
             "outlinewidth": 0,
             "ticks": ""
            },
            "colorscale": [
             [
              0,
              "#0d0887"
             ],
             [
              0.1111111111111111,
              "#46039f"
             ],
             [
              0.2222222222222222,
              "#7201a8"
             ],
             [
              0.3333333333333333,
              "#9c179e"
             ],
             [
              0.4444444444444444,
              "#bd3786"
             ],
             [
              0.5555555555555556,
              "#d8576b"
             ],
             [
              0.6666666666666666,
              "#ed7953"
             ],
             [
              0.7777777777777778,
              "#fb9f3a"
             ],
             [
              0.8888888888888888,
              "#fdca26"
             ],
             [
              1,
              "#f0f921"
             ]
            ],
            "type": "histogram2d"
           }
          ],
          "histogram2dcontour": [
           {
            "colorbar": {
             "outlinewidth": 0,
             "ticks": ""
            },
            "colorscale": [
             [
              0,
              "#0d0887"
             ],
             [
              0.1111111111111111,
              "#46039f"
             ],
             [
              0.2222222222222222,
              "#7201a8"
             ],
             [
              0.3333333333333333,
              "#9c179e"
             ],
             [
              0.4444444444444444,
              "#bd3786"
             ],
             [
              0.5555555555555556,
              "#d8576b"
             ],
             [
              0.6666666666666666,
              "#ed7953"
             ],
             [
              0.7777777777777778,
              "#fb9f3a"
             ],
             [
              0.8888888888888888,
              "#fdca26"
             ],
             [
              1,
              "#f0f921"
             ]
            ],
            "type": "histogram2dcontour"
           }
          ],
          "mesh3d": [
           {
            "colorbar": {
             "outlinewidth": 0,
             "ticks": ""
            },
            "type": "mesh3d"
           }
          ],
          "parcoords": [
           {
            "line": {
             "colorbar": {
              "outlinewidth": 0,
              "ticks": ""
             }
            },
            "type": "parcoords"
           }
          ],
          "pie": [
           {
            "automargin": true,
            "type": "pie"
           }
          ],
          "scatter": [
           {
            "fillpattern": {
             "fillmode": "overlay",
             "size": 10,
             "solidity": 0.2
            },
            "type": "scatter"
           }
          ],
          "scatter3d": [
           {
            "line": {
             "colorbar": {
              "outlinewidth": 0,
              "ticks": ""
             }
            },
            "marker": {
             "colorbar": {
              "outlinewidth": 0,
              "ticks": ""
             }
            },
            "type": "scatter3d"
           }
          ],
          "scattercarpet": [
           {
            "marker": {
             "colorbar": {
              "outlinewidth": 0,
              "ticks": ""
             }
            },
            "type": "scattercarpet"
           }
          ],
          "scattergeo": [
           {
            "marker": {
             "colorbar": {
              "outlinewidth": 0,
              "ticks": ""
             }
            },
            "type": "scattergeo"
           }
          ],
          "scattergl": [
           {
            "marker": {
             "colorbar": {
              "outlinewidth": 0,
              "ticks": ""
             }
            },
            "type": "scattergl"
           }
          ],
          "scattermapbox": [
           {
            "marker": {
             "colorbar": {
              "outlinewidth": 0,
              "ticks": ""
             }
            },
            "type": "scattermapbox"
           }
          ],
          "scatterpolar": [
           {
            "marker": {
             "colorbar": {
              "outlinewidth": 0,
              "ticks": ""
             }
            },
            "type": "scatterpolar"
           }
          ],
          "scatterpolargl": [
           {
            "marker": {
             "colorbar": {
              "outlinewidth": 0,
              "ticks": ""
             }
            },
            "type": "scatterpolargl"
           }
          ],
          "scatterternary": [
           {
            "marker": {
             "colorbar": {
              "outlinewidth": 0,
              "ticks": ""
             }
            },
            "type": "scatterternary"
           }
          ],
          "surface": [
           {
            "colorbar": {
             "outlinewidth": 0,
             "ticks": ""
            },
            "colorscale": [
             [
              0,
              "#0d0887"
             ],
             [
              0.1111111111111111,
              "#46039f"
             ],
             [
              0.2222222222222222,
              "#7201a8"
             ],
             [
              0.3333333333333333,
              "#9c179e"
             ],
             [
              0.4444444444444444,
              "#bd3786"
             ],
             [
              0.5555555555555556,
              "#d8576b"
             ],
             [
              0.6666666666666666,
              "#ed7953"
             ],
             [
              0.7777777777777778,
              "#fb9f3a"
             ],
             [
              0.8888888888888888,
              "#fdca26"
             ],
             [
              1,
              "#f0f921"
             ]
            ],
            "type": "surface"
           }
          ],
          "table": [
           {
            "cells": {
             "fill": {
              "color": "#EBF0F8"
             },
             "line": {
              "color": "white"
             }
            },
            "header": {
             "fill": {
              "color": "#C8D4E3"
             },
             "line": {
              "color": "white"
             }
            },
            "type": "table"
           }
          ]
         },
         "layout": {
          "annotationdefaults": {
           "arrowcolor": "#2a3f5f",
           "arrowhead": 0,
           "arrowwidth": 1
          },
          "autotypenumbers": "strict",
          "coloraxis": {
           "colorbar": {
            "outlinewidth": 0,
            "ticks": ""
           }
          },
          "colorscale": {
           "diverging": [
            [
             0,
             "#8e0152"
            ],
            [
             0.1,
             "#c51b7d"
            ],
            [
             0.2,
             "#de77ae"
            ],
            [
             0.3,
             "#f1b6da"
            ],
            [
             0.4,
             "#fde0ef"
            ],
            [
             0.5,
             "#f7f7f7"
            ],
            [
             0.6,
             "#e6f5d0"
            ],
            [
             0.7,
             "#b8e186"
            ],
            [
             0.8,
             "#7fbc41"
            ],
            [
             0.9,
             "#4d9221"
            ],
            [
             1,
             "#276419"
            ]
           ],
           "sequential": [
            [
             0,
             "#0d0887"
            ],
            [
             0.1111111111111111,
             "#46039f"
            ],
            [
             0.2222222222222222,
             "#7201a8"
            ],
            [
             0.3333333333333333,
             "#9c179e"
            ],
            [
             0.4444444444444444,
             "#bd3786"
            ],
            [
             0.5555555555555556,
             "#d8576b"
            ],
            [
             0.6666666666666666,
             "#ed7953"
            ],
            [
             0.7777777777777778,
             "#fb9f3a"
            ],
            [
             0.8888888888888888,
             "#fdca26"
            ],
            [
             1,
             "#f0f921"
            ]
           ],
           "sequentialminus": [
            [
             0,
             "#0d0887"
            ],
            [
             0.1111111111111111,
             "#46039f"
            ],
            [
             0.2222222222222222,
             "#7201a8"
            ],
            [
             0.3333333333333333,
             "#9c179e"
            ],
            [
             0.4444444444444444,
             "#bd3786"
            ],
            [
             0.5555555555555556,
             "#d8576b"
            ],
            [
             0.6666666666666666,
             "#ed7953"
            ],
            [
             0.7777777777777778,
             "#fb9f3a"
            ],
            [
             0.8888888888888888,
             "#fdca26"
            ],
            [
             1,
             "#f0f921"
            ]
           ]
          },
          "colorway": [
           "#636efa",
           "#EF553B",
           "#00cc96",
           "#ab63fa",
           "#FFA15A",
           "#19d3f3",
           "#FF6692",
           "#B6E880",
           "#FF97FF",
           "#FECB52"
          ],
          "font": {
           "color": "#2a3f5f"
          },
          "geo": {
           "bgcolor": "white",
           "lakecolor": "white",
           "landcolor": "#E5ECF6",
           "showlakes": true,
           "showland": true,
           "subunitcolor": "white"
          },
          "hoverlabel": {
           "align": "left"
          },
          "hovermode": "closest",
          "mapbox": {
           "style": "light"
          },
          "paper_bgcolor": "white",
          "plot_bgcolor": "#E5ECF6",
          "polar": {
           "angularaxis": {
            "gridcolor": "white",
            "linecolor": "white",
            "ticks": ""
           },
           "bgcolor": "#E5ECF6",
           "radialaxis": {
            "gridcolor": "white",
            "linecolor": "white",
            "ticks": ""
           }
          },
          "scene": {
           "xaxis": {
            "backgroundcolor": "#E5ECF6",
            "gridcolor": "white",
            "gridwidth": 2,
            "linecolor": "white",
            "showbackground": true,
            "ticks": "",
            "zerolinecolor": "white"
           },
           "yaxis": {
            "backgroundcolor": "#E5ECF6",
            "gridcolor": "white",
            "gridwidth": 2,
            "linecolor": "white",
            "showbackground": true,
            "ticks": "",
            "zerolinecolor": "white"
           },
           "zaxis": {
            "backgroundcolor": "#E5ECF6",
            "gridcolor": "white",
            "gridwidth": 2,
            "linecolor": "white",
            "showbackground": true,
            "ticks": "",
            "zerolinecolor": "white"
           }
          },
          "shapedefaults": {
           "line": {
            "color": "#2a3f5f"
           }
          },
          "ternary": {
           "aaxis": {
            "gridcolor": "white",
            "linecolor": "white",
            "ticks": ""
           },
           "baxis": {
            "gridcolor": "white",
            "linecolor": "white",
            "ticks": ""
           },
           "bgcolor": "#E5ECF6",
           "caxis": {
            "gridcolor": "white",
            "linecolor": "white",
            "ticks": ""
           }
          },
          "title": {
           "x": 0.05
          },
          "xaxis": {
           "automargin": true,
           "gridcolor": "white",
           "linecolor": "white",
           "ticks": "",
           "title": {
            "standoff": 15
           },
           "zerolinecolor": "white",
           "zerolinewidth": 2
          },
          "yaxis": {
           "automargin": true,
           "gridcolor": "white",
           "linecolor": "white",
           "ticks": "",
           "title": {
            "standoff": 15
           },
           "zerolinecolor": "white",
           "zerolinewidth": 2
          }
         }
        },
        "title": {
         "text": "Interactions for Nagr"
        },
        "width": 1600,
        "xaxis": {
         "anchor": "y",
         "domain": [
          0,
          1
         ],
         "dtick": 20,
         "range": [
          0,
          600
         ],
         "title": {
          "text": "Residue Index"
         }
        },
        "yaxis": {
         "anchor": "x",
         "domain": [
          0,
          1
         ],
         "range": [
          1.5,
          5
         ],
         "title": {
          "text": "Distance (angstroms)"
         }
        }
       }
      }
     },
     "metadata": {},
     "output_type": "display_data"
    },
    {
     "data": {
      "application/vnd.plotly.v1+json": {
       "config": {
        "plotlyServerURL": "https://plot.ly"
       },
       "data": [
        {
         "customdata": [
          [
           423,
           "E"
          ],
          [
           420,
           "E"
          ],
          [
           155,
           "E"
          ],
          [
           400,
           "A"
          ],
          [
           423,
           "E"
          ]
         ],
         "hovertemplate": "Interacting Chain=alpha-tubulin<br>aa_classification=positively charged<br>Residue Index=%{x}<br>Distance (angstroms)=%{y}<br>residue_one_letter=%{text}<br>interacting_resinumber=%{customdata[0]}<br>interactingresi_oneletter=%{customdata[1]}<extra></extra>",
         "legendgroup": "alpha-tubulin, positively charged",
         "marker": {
          "color": "#ff7f0e",
          "opacity": 0.6,
          "size": 10,
          "symbol": "triangle-up"
         },
         "mode": "markers+text",
         "name": "alpha-tubulin, positively charged",
         "orientation": "v",
         "showlegend": true,
         "text": [
          "R",
          "R",
          "K",
          "R",
          "R"
         ],
         "textposition": "top center",
         "type": "scatter",
         "x": [
          107,
          306,
          308,
          342,
          389
         ],
         "xaxis": "x",
         "y": [
          3.2496354579925537,
          2.382421636581421,
          2.611410999298096,
          3.651616764068604,
          3.5539517402648926
         ],
         "yaxis": "y"
        },
        {
         "customdata": [
          [
           412,
           "G"
          ],
          [
           112,
           "K"
          ],
          [
           410,
           "G"
          ],
          [
           415,
           "E"
          ],
          [
           423,
           "E"
          ]
         ],
         "hovertemplate": "Interacting Chain=alpha-tubulin<br>aa_classification=nonpolar<br>Residue Index=%{x}<br>Distance (angstroms)=%{y}<br>residue_one_letter=%{text}<br>interacting_resinumber=%{customdata[0]}<br>interactingresi_oneletter=%{customdata[1]}<extra></extra>",
         "legendgroup": "alpha-tubulin, nonpolar",
         "marker": {
          "color": "#ff7f0e",
          "opacity": 0.6,
          "size": 10,
          "symbol": "circle"
         },
         "mode": "markers+text",
         "name": "alpha-tubulin, nonpolar",
         "orientation": "v",
         "showlegend": true,
         "text": [
          "L",
          "A",
          "I",
          "L",
          "L"
         ],
         "textposition": "top center",
         "type": "scatter",
         "x": [
          307,
          312,
          321,
          328,
          385
         ],
         "xaxis": "x",
         "y": [
          3.1562954425811767,
          4.2053264617919925,
          3.2339978218078613,
          3.153272104263306,
          4.164104747772217
         ],
         "yaxis": "y"
        },
        {
         "customdata": [
          [
           414,
           "E"
          ],
          [
           409,
           "V"
          ],
          [
           409,
           "V"
          ],
          [
           402,
           "R"
          ],
          [
           416,
           "G"
          ],
          [
           415,
           "E"
          ]
         ],
         "hovertemplate": "Interacting Chain=alpha-tubulin<br>aa_classification=polar uncharged<br>Residue Index=%{x}<br>Distance (angstroms)=%{y}<br>residue_one_letter=%{text}<br>interacting_resinumber=%{customdata[0]}<br>interactingresi_oneletter=%{customdata[1]}<extra></extra>",
         "legendgroup": "alpha-tubulin, polar uncharged",
         "marker": {
          "color": "#ff7f0e",
          "opacity": 0.6,
          "size": 10,
          "symbol": "square"
         },
         "mode": "markers+text",
         "name": "alpha-tubulin, polar uncharged",
         "orientation": "v",
         "showlegend": true,
         "text": [
          "S",
          "N",
          "C",
          "N",
          "N",
          "Y"
         ],
         "textposition": "top center",
         "type": "scatter",
         "x": [
          304,
          324,
          325,
          332,
          386,
          390
         ],
         "xaxis": "x",
         "y": [
          4.09769639968872,
          3.589019012451172,
          3.618778705596924,
          3.548074388504028,
          3.187732696533203,
          2.771714687347412
         ],
         "yaxis": "y"
        },
        {
         "customdata": [
          [
           414,
           "E"
          ],
          [
           423,
           "E"
          ]
         ],
         "hovertemplate": "Interacting Chain=alpha-tubulin<br>aa_classification=negatively charged<br>Residue Index=%{x}<br>Distance (angstroms)=%{y}<br>residue_one_letter=%{text}<br>interacting_resinumber=%{customdata[0]}<br>interactingresi_oneletter=%{customdata[1]}<extra></extra>",
         "legendgroup": "alpha-tubulin, negatively charged",
         "marker": {
          "color": "#ff7f0e",
          "opacity": 0.6,
          "size": 10,
          "symbol": "triangle-down"
         },
         "mode": "markers+text",
         "name": "alpha-tubulin, negatively charged",
         "orientation": "v",
         "showlegend": true,
         "text": [
          "E",
          "E"
         ],
         "textposition": "top center",
         "type": "scatter",
         "x": [
          305,
          382
         ],
         "xaxis": "x",
         "y": [
          3.938914823532104,
          3.552821636199951
         ],
         "yaxis": "y"
        },
        {
         "customdata": [
          [
           157,
           "E"
          ],
          [
           404,
           "D"
          ],
          [
           432,
           "E"
          ],
          [
           424,
           "Q"
          ],
          [
           417,
           "D"
          ],
          [
           410,
           "E"
          ]
         ],
         "hovertemplate": "Interacting Chain=beta-tubulin<br>aa_classification=positively charged<br>Residue Index=%{x}<br>Distance (angstroms)=%{y}<br>residue_one_letter=%{text}<br>interacting_resinumber=%{customdata[0]}<br>interactingresi_oneletter=%{customdata[1]}<extra></extra>",
         "legendgroup": "beta-tubulin, positively charged",
         "marker": {
          "color": "#2ca02c",
          "opacity": 0.6,
          "size": 10,
          "symbol": "triangle-up"
         },
         "mode": "markers+text",
         "name": "beta-tubulin, positively charged",
         "orientation": "v",
         "showlegend": true,
         "text": [
          "K",
          "R",
          "R",
          "H",
          "R",
          "R"
         ],
         "textposition": "top center",
         "type": "scatter",
         "x": [
          219,
          226,
          342,
          346,
          350,
          356
         ],
         "xaxis": "x",
         "y": [
          3.662794828414917,
          3.579464292526245,
          4.253749704360962,
          2.8710161685943603,
          2.3116864204406737,
          3.471348237991333
         ],
         "yaxis": "y"
        },
        {
         "customdata": [
          [
           410,
           "E"
          ],
          [
           406,
           "M"
          ]
         ],
         "hovertemplate": "Interacting Chain=beta-tubulin<br>aa_classification=nonpolar<br>Residue Index=%{x}<br>Distance (angstroms)=%{y}<br>residue_one_letter=%{text}<br>interacting_resinumber=%{customdata[0]}<br>interactingresi_oneletter=%{customdata[1]}<extra></extra>",
         "legendgroup": "beta-tubulin, nonpolar",
         "marker": {
          "color": "#2ca02c",
          "opacity": 0.6,
          "size": 10,
          "symbol": "circle"
         },
         "mode": "markers+text",
         "name": "beta-tubulin, nonpolar",
         "orientation": "v",
         "showlegend": true,
         "text": [
          "I",
          "A"
         ],
         "textposition": "top center",
         "type": "scatter",
         "x": [
          225,
          228
         ],
         "xaxis": "x",
         "y": [
          4.088037300109863,
          4.137757349014282
         ],
         "yaxis": "y"
        },
        {
         "customdata": [
          [
           157,
           "E"
          ]
         ],
         "hovertemplate": "Interacting Chain=beta-tubulin<br>aa_classification=polar uncharged<br>Residue Index=%{x}<br>Distance (angstroms)=%{y}<br>residue_one_letter=%{text}<br>interacting_resinumber=%{customdata[0]}<br>interactingresi_oneletter=%{customdata[1]}<extra></extra>",
         "legendgroup": "beta-tubulin, polar uncharged",
         "marker": {
          "color": "#2ca02c",
          "opacity": 0.6,
          "size": 10,
          "symbol": "square"
         },
         "mode": "markers+text",
         "name": "beta-tubulin, polar uncharged",
         "orientation": "v",
         "showlegend": true,
         "text": [
          "T"
         ],
         "textposition": "top center",
         "type": "scatter",
         "x": [
          220
         ],
         "xaxis": "x",
         "y": [
          3.1189863681793213
         ],
         "yaxis": "y"
        },
        {
         "customdata": [
          [
           410,
           "E"
          ],
          [
           262,
           "R"
          ]
         ],
         "hovertemplate": "Interacting Chain=beta-tubulin<br>aa_classification=negatively charged<br>Residue Index=%{x}<br>Distance (angstroms)=%{y}<br>residue_one_letter=%{text}<br>interacting_resinumber=%{customdata[0]}<br>interactingresi_oneletter=%{customdata[1]}<extra></extra>",
         "legendgroup": "beta-tubulin, negatively charged",
         "marker": {
          "color": "#2ca02c",
          "opacity": 0.6,
          "size": 10,
          "symbol": "triangle-down"
         },
         "mode": "markers+text",
         "name": "beta-tubulin, negatively charged",
         "orientation": "v",
         "showlegend": true,
         "text": [
          "E",
          "D"
         ],
         "textposition": "top center",
         "type": "scatter",
         "x": [
          227,
          351
         ],
         "xaxis": "x",
         "y": [
          3.4046364784240724,
          3.225417375564575
         ],
         "yaxis": "y"
        },
        {
         "customdata": [
          [
           1,
           "?"
          ],
          [
           1,
           "?"
          ],
          [
           1,
           "?"
          ]
         ],
         "hovertemplate": "Interacting Chain=ATP<br>aa_classification=positively charged<br>Residue Index=%{x}<br>Distance (angstroms)=%{y}<br>residue_one_letter=%{text}<br>interacting_resinumber=%{customdata[0]}<br>interactingresi_oneletter=%{customdata[1]}<extra></extra>",
         "legendgroup": "ATP, positively charged",
         "marker": {
          "color": "#d62728",
          "opacity": 0.6,
          "size": 10,
          "symbol": "triangle-up"
         },
         "mode": "markers+text",
         "name": "ATP, positively charged",
         "orientation": "v",
         "showlegend": true,
         "text": [
          "R",
          "R",
          "K"
         ],
         "textposition": "top center",
         "type": "scatter",
         "x": [
          75,
          77,
          154
         ],
         "xaxis": "x",
         "y": [
          3.7444005012512207,
          3.74860405921936,
          2.765586185455322
         ],
         "yaxis": "y"
        },
        {
         "customdata": [
          [
           1,
           "?"
          ],
          [
           1,
           "?"
          ],
          [
           1,
           "?"
          ],
          [
           1,
           "?"
          ],
          [
           1,
           "?"
          ],
          [
           1,
           "?"
          ]
         ],
         "hovertemplate": "Interacting Chain=ATP<br>aa_classification=nonpolar<br>Residue Index=%{x}<br>Distance (angstroms)=%{y}<br>residue_one_letter=%{text}<br>interacting_resinumber=%{customdata[0]}<br>interactingresi_oneletter=%{customdata[1]}<extra></extra>",
         "legendgroup": "ATP, nonpolar",
         "marker": {
          "color": "#d62728",
          "opacity": 0.6,
          "size": 10,
          "symbol": "circle"
         },
         "mode": "markers+text",
         "name": "ATP, nonpolar",
         "orientation": "v",
         "showlegend": true,
         "text": [
          "P",
          "L",
          "G",
          "G",
          "A",
          "G"
         ],
         "textposition": "top center",
         "type": "scatter",
         "x": [
          78,
          80,
          151,
          153,
          302,
          303
         ],
         "xaxis": "x",
         "y": [
          3.662548971176148,
          3.463294744491577,
          2.8578491687774656,
          2.89408483505249,
          4.246351337432861,
          3.299688291549683
         ],
         "yaxis": "y"
        },
        {
         "customdata": [
          [
           1,
           "?"
          ],
          [
           1,
           "?"
          ],
          [
           1,
           "?"
          ],
          [
           1,
           "?"
          ],
          [
           1,
           "?"
          ],
          [
           1,
           "?"
          ]
         ],
         "hovertemplate": "Interacting Chain=ATP<br>aa_classification=polar uncharged<br>Residue Index=%{x}<br>Distance (angstroms)=%{y}<br>residue_one_letter=%{text}<br>interacting_resinumber=%{customdata[0]}<br>interactingresi_oneletter=%{customdata[1]}<extra></extra>",
         "legendgroup": "ATP, polar uncharged",
         "marker": {
          "color": "#d62728",
          "opacity": 0.6,
          "size": 10,
          "symbol": "square"
         },
         "mode": "markers+text",
         "name": "ATP, polar uncharged",
         "orientation": "v",
         "showlegend": true,
         "text": [
          "Q",
          "T",
          "S",
          "Y",
          "N",
          "S"
         ],
         "textposition": "top center",
         "type": "scatter",
         "x": [
          149,
          150,
          152,
          156,
          267,
          270
         ],
         "xaxis": "x",
         "y": [
          3.9627468585968018,
          2.5718687057495115,
          3.389842319488525,
          2.7788589000701904,
          2.895093441009521,
          2.9517632007598875
         ],
         "yaxis": "y"
        },
        {
         "customdata": [
          [
           1,
           "?"
          ]
         ],
         "hovertemplate": "Interacting Chain=ATP<br>aa_classification=negatively charged<br>Residue Index=%{x}<br>Distance (angstroms)=%{y}<br>residue_one_letter=%{text}<br>interacting_resinumber=%{customdata[0]}<br>interactingresi_oneletter=%{customdata[1]}<extra></extra>",
         "legendgroup": "ATP, negatively charged",
         "marker": {
          "color": "#d62728",
          "opacity": 0.6,
          "size": 10,
          "symbol": "triangle-down"
         },
         "mode": "markers+text",
         "name": "ATP, negatively charged",
         "orientation": "v",
         "showlegend": true,
         "text": [
          "E"
         ],
         "textposition": "top center",
         "type": "scatter",
         "x": [
          269
         ],
         "xaxis": "x",
         "y": [
          4.074491548538208
         ],
         "yaxis": "y"
        }
       ],
       "layout": {
        "autosize": false,
        "height": 600,
        "legend": {
         "title": {
          "text": "Interacting Chain"
         },
         "tracegroupgap": 0
        },
        "template": {
         "data": {
          "bar": [
           {
            "error_x": {
             "color": "#2a3f5f"
            },
            "error_y": {
             "color": "#2a3f5f"
            },
            "marker": {
             "line": {
              "color": "#E5ECF6",
              "width": 0.5
             },
             "pattern": {
              "fillmode": "overlay",
              "size": 10,
              "solidity": 0.2
             }
            },
            "type": "bar"
           }
          ],
          "barpolar": [
           {
            "marker": {
             "line": {
              "color": "#E5ECF6",
              "width": 0.5
             },
             "pattern": {
              "fillmode": "overlay",
              "size": 10,
              "solidity": 0.2
             }
            },
            "type": "barpolar"
           }
          ],
          "carpet": [
           {
            "aaxis": {
             "endlinecolor": "#2a3f5f",
             "gridcolor": "white",
             "linecolor": "white",
             "minorgridcolor": "white",
             "startlinecolor": "#2a3f5f"
            },
            "baxis": {
             "endlinecolor": "#2a3f5f",
             "gridcolor": "white",
             "linecolor": "white",
             "minorgridcolor": "white",
             "startlinecolor": "#2a3f5f"
            },
            "type": "carpet"
           }
          ],
          "choropleth": [
           {
            "colorbar": {
             "outlinewidth": 0,
             "ticks": ""
            },
            "type": "choropleth"
           }
          ],
          "contour": [
           {
            "colorbar": {
             "outlinewidth": 0,
             "ticks": ""
            },
            "colorscale": [
             [
              0,
              "#0d0887"
             ],
             [
              0.1111111111111111,
              "#46039f"
             ],
             [
              0.2222222222222222,
              "#7201a8"
             ],
             [
              0.3333333333333333,
              "#9c179e"
             ],
             [
              0.4444444444444444,
              "#bd3786"
             ],
             [
              0.5555555555555556,
              "#d8576b"
             ],
             [
              0.6666666666666666,
              "#ed7953"
             ],
             [
              0.7777777777777778,
              "#fb9f3a"
             ],
             [
              0.8888888888888888,
              "#fdca26"
             ],
             [
              1,
              "#f0f921"
             ]
            ],
            "type": "contour"
           }
          ],
          "contourcarpet": [
           {
            "colorbar": {
             "outlinewidth": 0,
             "ticks": ""
            },
            "type": "contourcarpet"
           }
          ],
          "heatmap": [
           {
            "colorbar": {
             "outlinewidth": 0,
             "ticks": ""
            },
            "colorscale": [
             [
              0,
              "#0d0887"
             ],
             [
              0.1111111111111111,
              "#46039f"
             ],
             [
              0.2222222222222222,
              "#7201a8"
             ],
             [
              0.3333333333333333,
              "#9c179e"
             ],
             [
              0.4444444444444444,
              "#bd3786"
             ],
             [
              0.5555555555555556,
              "#d8576b"
             ],
             [
              0.6666666666666666,
              "#ed7953"
             ],
             [
              0.7777777777777778,
              "#fb9f3a"
             ],
             [
              0.8888888888888888,
              "#fdca26"
             ],
             [
              1,
              "#f0f921"
             ]
            ],
            "type": "heatmap"
           }
          ],
          "heatmapgl": [
           {
            "colorbar": {
             "outlinewidth": 0,
             "ticks": ""
            },
            "colorscale": [
             [
              0,
              "#0d0887"
             ],
             [
              0.1111111111111111,
              "#46039f"
             ],
             [
              0.2222222222222222,
              "#7201a8"
             ],
             [
              0.3333333333333333,
              "#9c179e"
             ],
             [
              0.4444444444444444,
              "#bd3786"
             ],
             [
              0.5555555555555556,
              "#d8576b"
             ],
             [
              0.6666666666666666,
              "#ed7953"
             ],
             [
              0.7777777777777778,
              "#fb9f3a"
             ],
             [
              0.8888888888888888,
              "#fdca26"
             ],
             [
              1,
              "#f0f921"
             ]
            ],
            "type": "heatmapgl"
           }
          ],
          "histogram": [
           {
            "marker": {
             "pattern": {
              "fillmode": "overlay",
              "size": 10,
              "solidity": 0.2
             }
            },
            "type": "histogram"
           }
          ],
          "histogram2d": [
           {
            "colorbar": {
             "outlinewidth": 0,
             "ticks": ""
            },
            "colorscale": [
             [
              0,
              "#0d0887"
             ],
             [
              0.1111111111111111,
              "#46039f"
             ],
             [
              0.2222222222222222,
              "#7201a8"
             ],
             [
              0.3333333333333333,
              "#9c179e"
             ],
             [
              0.4444444444444444,
              "#bd3786"
             ],
             [
              0.5555555555555556,
              "#d8576b"
             ],
             [
              0.6666666666666666,
              "#ed7953"
             ],
             [
              0.7777777777777778,
              "#fb9f3a"
             ],
             [
              0.8888888888888888,
              "#fdca26"
             ],
             [
              1,
              "#f0f921"
             ]
            ],
            "type": "histogram2d"
           }
          ],
          "histogram2dcontour": [
           {
            "colorbar": {
             "outlinewidth": 0,
             "ticks": ""
            },
            "colorscale": [
             [
              0,
              "#0d0887"
             ],
             [
              0.1111111111111111,
              "#46039f"
             ],
             [
              0.2222222222222222,
              "#7201a8"
             ],
             [
              0.3333333333333333,
              "#9c179e"
             ],
             [
              0.4444444444444444,
              "#bd3786"
             ],
             [
              0.5555555555555556,
              "#d8576b"
             ],
             [
              0.6666666666666666,
              "#ed7953"
             ],
             [
              0.7777777777777778,
              "#fb9f3a"
             ],
             [
              0.8888888888888888,
              "#fdca26"
             ],
             [
              1,
              "#f0f921"
             ]
            ],
            "type": "histogram2dcontour"
           }
          ],
          "mesh3d": [
           {
            "colorbar": {
             "outlinewidth": 0,
             "ticks": ""
            },
            "type": "mesh3d"
           }
          ],
          "parcoords": [
           {
            "line": {
             "colorbar": {
              "outlinewidth": 0,
              "ticks": ""
             }
            },
            "type": "parcoords"
           }
          ],
          "pie": [
           {
            "automargin": true,
            "type": "pie"
           }
          ],
          "scatter": [
           {
            "fillpattern": {
             "fillmode": "overlay",
             "size": 10,
             "solidity": 0.2
            },
            "type": "scatter"
           }
          ],
          "scatter3d": [
           {
            "line": {
             "colorbar": {
              "outlinewidth": 0,
              "ticks": ""
             }
            },
            "marker": {
             "colorbar": {
              "outlinewidth": 0,
              "ticks": ""
             }
            },
            "type": "scatter3d"
           }
          ],
          "scattercarpet": [
           {
            "marker": {
             "colorbar": {
              "outlinewidth": 0,
              "ticks": ""
             }
            },
            "type": "scattercarpet"
           }
          ],
          "scattergeo": [
           {
            "marker": {
             "colorbar": {
              "outlinewidth": 0,
              "ticks": ""
             }
            },
            "type": "scattergeo"
           }
          ],
          "scattergl": [
           {
            "marker": {
             "colorbar": {
              "outlinewidth": 0,
              "ticks": ""
             }
            },
            "type": "scattergl"
           }
          ],
          "scattermapbox": [
           {
            "marker": {
             "colorbar": {
              "outlinewidth": 0,
              "ticks": ""
             }
            },
            "type": "scattermapbox"
           }
          ],
          "scatterpolar": [
           {
            "marker": {
             "colorbar": {
              "outlinewidth": 0,
              "ticks": ""
             }
            },
            "type": "scatterpolar"
           }
          ],
          "scatterpolargl": [
           {
            "marker": {
             "colorbar": {
              "outlinewidth": 0,
              "ticks": ""
             }
            },
            "type": "scatterpolargl"
           }
          ],
          "scatterternary": [
           {
            "marker": {
             "colorbar": {
              "outlinewidth": 0,
              "ticks": ""
             }
            },
            "type": "scatterternary"
           }
          ],
          "surface": [
           {
            "colorbar": {
             "outlinewidth": 0,
             "ticks": ""
            },
            "colorscale": [
             [
              0,
              "#0d0887"
             ],
             [
              0.1111111111111111,
              "#46039f"
             ],
             [
              0.2222222222222222,
              "#7201a8"
             ],
             [
              0.3333333333333333,
              "#9c179e"
             ],
             [
              0.4444444444444444,
              "#bd3786"
             ],
             [
              0.5555555555555556,
              "#d8576b"
             ],
             [
              0.6666666666666666,
              "#ed7953"
             ],
             [
              0.7777777777777778,
              "#fb9f3a"
             ],
             [
              0.8888888888888888,
              "#fdca26"
             ],
             [
              1,
              "#f0f921"
             ]
            ],
            "type": "surface"
           }
          ],
          "table": [
           {
            "cells": {
             "fill": {
              "color": "#EBF0F8"
             },
             "line": {
              "color": "white"
             }
            },
            "header": {
             "fill": {
              "color": "#C8D4E3"
             },
             "line": {
              "color": "white"
             }
            },
            "type": "table"
           }
          ]
         },
         "layout": {
          "annotationdefaults": {
           "arrowcolor": "#2a3f5f",
           "arrowhead": 0,
           "arrowwidth": 1
          },
          "autotypenumbers": "strict",
          "coloraxis": {
           "colorbar": {
            "outlinewidth": 0,
            "ticks": ""
           }
          },
          "colorscale": {
           "diverging": [
            [
             0,
             "#8e0152"
            ],
            [
             0.1,
             "#c51b7d"
            ],
            [
             0.2,
             "#de77ae"
            ],
            [
             0.3,
             "#f1b6da"
            ],
            [
             0.4,
             "#fde0ef"
            ],
            [
             0.5,
             "#f7f7f7"
            ],
            [
             0.6,
             "#e6f5d0"
            ],
            [
             0.7,
             "#b8e186"
            ],
            [
             0.8,
             "#7fbc41"
            ],
            [
             0.9,
             "#4d9221"
            ],
            [
             1,
             "#276419"
            ]
           ],
           "sequential": [
            [
             0,
             "#0d0887"
            ],
            [
             0.1111111111111111,
             "#46039f"
            ],
            [
             0.2222222222222222,
             "#7201a8"
            ],
            [
             0.3333333333333333,
             "#9c179e"
            ],
            [
             0.4444444444444444,
             "#bd3786"
            ],
            [
             0.5555555555555556,
             "#d8576b"
            ],
            [
             0.6666666666666666,
             "#ed7953"
            ],
            [
             0.7777777777777778,
             "#fb9f3a"
            ],
            [
             0.8888888888888888,
             "#fdca26"
            ],
            [
             1,
             "#f0f921"
            ]
           ],
           "sequentialminus": [
            [
             0,
             "#0d0887"
            ],
            [
             0.1111111111111111,
             "#46039f"
            ],
            [
             0.2222222222222222,
             "#7201a8"
            ],
            [
             0.3333333333333333,
             "#9c179e"
            ],
            [
             0.4444444444444444,
             "#bd3786"
            ],
            [
             0.5555555555555556,
             "#d8576b"
            ],
            [
             0.6666666666666666,
             "#ed7953"
            ],
            [
             0.7777777777777778,
             "#fb9f3a"
            ],
            [
             0.8888888888888888,
             "#fdca26"
            ],
            [
             1,
             "#f0f921"
            ]
           ]
          },
          "colorway": [
           "#636efa",
           "#EF553B",
           "#00cc96",
           "#ab63fa",
           "#FFA15A",
           "#19d3f3",
           "#FF6692",
           "#B6E880",
           "#FF97FF",
           "#FECB52"
          ],
          "font": {
           "color": "#2a3f5f"
          },
          "geo": {
           "bgcolor": "white",
           "lakecolor": "white",
           "landcolor": "#E5ECF6",
           "showlakes": true,
           "showland": true,
           "subunitcolor": "white"
          },
          "hoverlabel": {
           "align": "left"
          },
          "hovermode": "closest",
          "mapbox": {
           "style": "light"
          },
          "paper_bgcolor": "white",
          "plot_bgcolor": "#E5ECF6",
          "polar": {
           "angularaxis": {
            "gridcolor": "white",
            "linecolor": "white",
            "ticks": ""
           },
           "bgcolor": "#E5ECF6",
           "radialaxis": {
            "gridcolor": "white",
            "linecolor": "white",
            "ticks": ""
           }
          },
          "scene": {
           "xaxis": {
            "backgroundcolor": "#E5ECF6",
            "gridcolor": "white",
            "gridwidth": 2,
            "linecolor": "white",
            "showbackground": true,
            "ticks": "",
            "zerolinecolor": "white"
           },
           "yaxis": {
            "backgroundcolor": "#E5ECF6",
            "gridcolor": "white",
            "gridwidth": 2,
            "linecolor": "white",
            "showbackground": true,
            "ticks": "",
            "zerolinecolor": "white"
           },
           "zaxis": {
            "backgroundcolor": "#E5ECF6",
            "gridcolor": "white",
            "gridwidth": 2,
            "linecolor": "white",
            "showbackground": true,
            "ticks": "",
            "zerolinecolor": "white"
           }
          },
          "shapedefaults": {
           "line": {
            "color": "#2a3f5f"
           }
          },
          "ternary": {
           "aaxis": {
            "gridcolor": "white",
            "linecolor": "white",
            "ticks": ""
           },
           "baxis": {
            "gridcolor": "white",
            "linecolor": "white",
            "ticks": ""
           },
           "bgcolor": "#E5ECF6",
           "caxis": {
            "gridcolor": "white",
            "linecolor": "white",
            "ticks": ""
           }
          },
          "title": {
           "x": 0.05
          },
          "xaxis": {
           "automargin": true,
           "gridcolor": "white",
           "linecolor": "white",
           "ticks": "",
           "title": {
            "standoff": 15
           },
           "zerolinecolor": "white",
           "zerolinewidth": 2
          },
          "yaxis": {
           "automargin": true,
           "gridcolor": "white",
           "linecolor": "white",
           "ticks": "",
           "title": {
            "standoff": 15
           },
           "zerolinecolor": "white",
           "zerolinewidth": 2
          }
         }
        },
        "title": {
         "text": "Interactions for Thtr"
        },
        "width": 1600,
        "xaxis": {
         "anchor": "y",
         "domain": [
          0,
          1
         ],
         "dtick": 20,
         "range": [
          0,
          600
         ],
         "title": {
          "text": "Residue Index"
         }
        },
        "yaxis": {
         "anchor": "x",
         "domain": [
          0,
          1
         ],
         "range": [
          1.5,
          5
         ],
         "title": {
          "text": "Distance (angstroms)"
         }
        }
       }
      }
     },
     "metadata": {},
     "output_type": "display_data"
    },
    {
     "data": {
      "application/vnd.plotly.v1+json": {
       "config": {
        "plotlyServerURL": "https://plot.ly"
       },
       "data": [
        {
         "customdata": [
          [
           340,
           "E"
          ],
          [
           356,
           "E"
          ],
          [
           404,
           "E"
          ],
          [
           411,
           "E"
          ],
          [
           413,
           "D"
          ],
          [
           432,
           "D"
          ],
          [
           449,
           "N"
          ],
          [
           466,
           "F"
          ],
          [
           473,
           "S"
          ],
          [
           494,
           "I"
          ]
         ],
         "hovertemplate": "Interacting Chain=kinesin B<br>aa_classification=positively charged<br>Residue Index=%{x}<br>Distance (angstroms)=%{y}<br>residue_one_letter=%{text}<br>interacting_resinumber=%{customdata[0]}<br>interactingresi_oneletter=%{customdata[1]}<extra></extra>",
         "legendgroup": "kinesin B, positively charged",
         "marker": {
          "color": "#1f77b4",
          "opacity": 0.6,
          "size": 10,
          "symbol": "triangle-up"
         },
         "mode": "markers+text",
         "name": "kinesin B, positively charged",
         "orientation": "v",
         "showlegend": true,
         "text": [
          "K",
          "K",
          "K",
          "K",
          "R",
          "K",
          "H",
          "K",
          "K",
          "K"
         ],
         "textposition": "top center",
         "type": "scatter",
         "x": [
          347,
          361,
          399,
          410,
          414,
          431,
          448,
          467,
          474,
          495
         ],
         "xaxis": "x",
         "y": [
          3.1262013912200928,
          2.7104623317718506,
          2.785996913909912,
          2.512490701675415,
          2.7616663455963133,
          2.466609334945679,
          3.62019419670105,
          3.4168150424957275,
          3.623487329483032,
          3.2799389362335205
         ],
         "yaxis": "y"
        },
        {
         "customdata": [
          [
           343,
           "A"
          ],
          [
           346,
           "L"
          ],
          [
           343,
           "A"
          ],
          [
           350,
           "L"
          ],
          [
           350,
           "L"
          ],
          [
           353,
           "C"
          ],
          [
           364,
           "I"
          ],
          [
           360,
           "L"
          ],
          [
           368,
           "E"
          ],
          [
           393,
           "L"
          ],
          [
           393,
           "L"
          ],
          [
           396,
           "I"
          ],
          [
           407,
           "L"
          ],
          [
           410,
           "K"
          ],
          [
           421,
           "L"
          ],
          [
           417,
           "I"
          ],
          [
           428,
           "I"
          ],
          [
           424,
           "L"
          ],
          [
           431,
           "K"
          ],
          [
           438,
           "Q"
          ],
          [
           438,
           "Q"
          ],
          [
           442,
           "I"
          ],
          [
           449,
           "N"
          ],
          [
           449,
           "N"
          ],
          [
           456,
           "N"
          ],
          [
           463,
           "L"
          ],
          [
           467,
           "K"
          ],
          [
           469,
           "S"
          ],
          [
           477,
           "S"
          ],
          [
           484,
           "I"
          ],
          [
           484,
           "I"
          ],
          [
           488,
           "N"
          ],
          [
           494,
           "I"
          ],
          [
           494,
           "I"
          ],
          [
           505,
           "I"
          ],
          [
           501,
           "L"
          ]
         ],
         "hovertemplate": "Interacting Chain=kinesin B<br>aa_classification=nonpolar<br>Residue Index=%{x}<br>Distance (angstroms)=%{y}<br>residue_one_letter=%{text}<br>interacting_resinumber=%{customdata[0]}<br>interactingresi_oneletter=%{customdata[1]}<extra></extra>",
         "legendgroup": "kinesin B, nonpolar",
         "marker": {
          "color": "#1f77b4",
          "opacity": 0.6,
          "size": 10,
          "symbol": "circle"
         },
         "mode": "markers+text",
         "name": "kinesin B, nonpolar",
         "orientation": "v",
         "showlegend": true,
         "text": [
          "M",
          "A",
          "L",
          "M",
          "L",
          "I",
          "L",
          "I",
          "L",
          "I",
          "L",
          "I",
          "L",
          "L",
          "I",
          "L",
          "L",
          "L",
          "I",
          "I",
          "I",
          "I",
          "L",
          "L",
          "L",
          "L",
          "F",
          "L",
          "L",
          "L",
          "I",
          "L",
          "I",
          "L",
          "L",
          "I"
         ],
         "textposition": "top center",
         "type": "scatter",
         "x": [
          341,
          343,
          346,
          349,
          350,
          357,
          360,
          364,
          367,
          392,
          393,
          396,
          403,
          407,
          417,
          421,
          424,
          425,
          428,
          435,
          439,
          442,
          445,
          452,
          459,
          463,
          466,
          470,
          476,
          483,
          484,
          487,
          494,
          498,
          501,
          505
         ],
         "xaxis": "x",
         "y": [
          4.382885265350342,
          3.427051639556885,
          3.434450578689576,
          3.4327782154083253,
          3.289824533462524,
          3.268140363693237,
          3.282321643829346,
          3.336697483062744,
          4.16187105178833,
          4.256414222717285,
          3.1722297191619875,
          3.242231798171997,
          3.332135057449341,
          3.4023691177368165,
          3.14787220954895,
          3.2425220012664795,
          2.977709341049194,
          3.929819107055664,
          2.903972673416137,
          3.2489792346954345,
          3.219449615478516,
          3.5033857345581056,
          3.2089152336120605,
          3.271016883850097,
          3.145774412155151,
          3.330932283401489,
          3.314152717590332,
          3.437897157669068,
          3.414823722839356,
          3.641139888763428,
          3.474211645126343,
          3.133563756942749,
          3.278698968887329,
          3.347492790222168,
          2.862949085235596,
          2.817381572723389
         ],
         "yaxis": "y"
        },
        {
         "customdata": [
          [
           353,
           "C"
          ],
          [
           353,
           "C"
          ],
          [
           368,
           "E"
          ],
          [
           393,
           "L"
          ],
          [
           396,
           "I"
          ],
          [
           400,
           "C"
          ],
          [
           407,
           "L"
          ],
          [
           417,
           "I"
          ],
          [
           421,
           "L"
          ],
          [
           428,
           "I"
          ],
          [
           438,
           "Q"
          ],
          [
           442,
           "I"
          ],
          [
           445,
           "L"
          ],
          [
           449,
           "N"
          ],
          [
           452,
           "L"
          ],
          [
           456,
           "N"
          ],
          [
           459,
           "L"
          ],
          [
           463,
           "L"
          ],
          [
           470,
           "L"
          ],
          [
           473,
           "S"
          ],
          [
           480,
           "Q"
          ],
          [
           477,
           "S"
          ],
          [
           480,
           "Q"
          ],
          [
           487,
           "L"
          ],
          [
           491,
           "N"
          ],
          [
           501,
           "L"
          ],
          [
           508,
           "D"
          ]
         ],
         "hovertemplate": "Interacting Chain=kinesin B<br>aa_classification=polar uncharged<br>Residue Index=%{x}<br>Distance (angstroms)=%{y}<br>residue_one_letter=%{text}<br>interacting_resinumber=%{customdata[0]}<br>interactingresi_oneletter=%{customdata[1]}<extra></extra>",
         "legendgroup": "kinesin B, polar uncharged",
         "marker": {
          "color": "#1f77b4",
          "opacity": 0.6,
          "size": 10,
          "symbol": "square"
         },
         "mode": "markers+text",
         "name": "kinesin B, polar uncharged",
         "orientation": "v",
         "showlegend": true,
         "text": [
          "C",
          "N",
          "Y",
          "S",
          "Q",
          "C",
          "Q",
          "Q",
          "Q",
          "Q",
          "Q",
          "S",
          "Q",
          "N",
          "T",
          "N",
          "T",
          "Q",
          "S",
          "S",
          "S",
          "Q",
          "Q",
          "N",
          "N",
          "N",
          "Y"
         ],
         "textposition": "top center",
         "type": "scatter",
         "x": [
          353,
          354,
          363,
          389,
          397,
          400,
          406,
          418,
          420,
          427,
          438,
          441,
          446,
          449,
          453,
          456,
          460,
          462,
          469,
          473,
          477,
          480,
          481,
          488,
          491,
          502,
          509
         ],
         "xaxis": "x",
         "y": [
          2.4985348701477053,
          3.436332941055298,
          2.886723709106445,
          4.234330320358277,
          4.099462461471558,
          2.4826266288757326,
          3.5055827617645265,
          3.90317964553833,
          3.704179525375366,
          3.5923968315124517,
          2.8416667938232423,
          3.991145944595337,
          3.853286266326904,
          2.119920396804809,
          3.613179588317871,
          2.059983658790588,
          3.671299695968628,
          3.514949369430542,
          3.3461489200592043,
          2.621406459808349,
          2.6965909957885743,
          2.7010393142700195,
          3.010111856460571,
          3.1674263000488283,
          2.2739125728607177,
          3.2565146923065185,
          4.059799337387085
         ],
         "yaxis": "y"
        },
        {
         "customdata": [
          [
           347,
           "K"
          ],
          [
           361,
           "K"
          ],
          [
           363,
           "Y"
          ],
          [
           399,
           "K"
          ],
          [
           410,
           "K"
          ],
          [
           414,
           "R"
          ],
          [
           431,
           "K"
          ],
          [
           435,
           "I"
          ],
          [
           456,
           "N"
          ],
          [
           495,
           "K"
          ],
          [
           498,
           "L"
          ],
          [
           509,
           "Y"
          ]
         ],
         "hovertemplate": "Interacting Chain=kinesin B<br>aa_classification=negatively charged<br>Residue Index=%{x}<br>Distance (angstroms)=%{y}<br>residue_one_letter=%{text}<br>interacting_resinumber=%{customdata[0]}<br>interactingresi_oneletter=%{customdata[1]}<extra></extra>",
         "legendgroup": "kinesin B, negatively charged",
         "marker": {
          "color": "#1f77b4",
          "opacity": 0.6,
          "size": 10,
          "symbol": "triangle-down"
         },
         "mode": "markers+text",
         "name": "kinesin B, negatively charged",
         "orientation": "v",
         "showlegend": true,
         "text": [
          "E",
          "E",
          "E",
          "E",
          "E",
          "D",
          "D",
          "E",
          "E",
          "E",
          "E",
          "D"
         ],
         "textposition": "top center",
         "type": "scatter",
         "x": [
          340,
          356,
          368,
          404,
          411,
          413,
          432,
          434,
          455,
          490,
          497,
          508
         ],
         "xaxis": "x",
         "y": [
          2.9349999904632567,
          2.8916827201843263,
          2.9943356990814207,
          3.271587085723877,
          2.589924955368042,
          2.6578275203704838,
          2.549873113632202,
          3.5593677043914798,
          3.371239280700684,
          3.316400909423828,
          4.120351886749267,
          3.978279161453247
         ],
         "yaxis": "y"
        },
        {
         "customdata": [
          [
           420,
           "E"
          ],
          [
           410,
           "G"
          ],
          [
           409,
           "V"
          ],
          [
           423,
           "E"
          ],
          [
           402,
           "R"
          ]
         ],
         "hovertemplate": "Interacting Chain=alpha-tubulin<br>aa_classification=positively charged<br>Residue Index=%{x}<br>Distance (angstroms)=%{y}<br>residue_one_letter=%{text}<br>interacting_resinumber=%{customdata[0]}<br>interactingresi_oneletter=%{customdata[1]}<extra></extra>",
         "legendgroup": "alpha-tubulin, positively charged",
         "marker": {
          "color": "#ff7f0e",
          "opacity": 0.6,
          "size": 10,
          "symbol": "triangle-up"
         },
         "mode": "markers+text",
         "name": "alpha-tubulin, positively charged",
         "orientation": "v",
         "showlegend": true,
         "text": [
          "K",
          "K",
          "K",
          "R",
          "R"
         ],
         "textposition": "top center",
         "type": "scatter",
         "x": [
          242,
          257,
          261,
          323,
          327
         ],
         "xaxis": "x",
         "y": [
          2.5313470363616943,
          3.292348337173462,
          3.386100101470947,
          2.8967653274536134,
          4.372506141662598
         ],
         "yaxis": "y"
        },
        {
         "customdata": [
          [
           412,
           "G"
          ],
          [
           112,
           "K"
          ],
          [
           108,
           "Y"
          ]
         ],
         "hovertemplate": "Interacting Chain=alpha-tubulin<br>aa_classification=nonpolar<br>Residue Index=%{x}<br>Distance (angstroms)=%{y}<br>residue_one_letter=%{text}<br>interacting_resinumber=%{customdata[0]}<br>interactingresi_oneletter=%{customdata[1]}<extra></extra>",
         "legendgroup": "alpha-tubulin, nonpolar",
         "marker": {
          "color": "#ff7f0e",
          "opacity": 0.6,
          "size": 10,
          "symbol": "circle"
         },
         "mode": "markers+text",
         "name": "alpha-tubulin, nonpolar",
         "orientation": "v",
         "showlegend": true,
         "text": [
          "I",
          "A",
          "L"
         ],
         "textposition": "top center",
         "type": "scatter",
         "x": [
          243,
          248,
          253
         ],
         "xaxis": "x",
         "y": [
          2.9732502937316894,
          3.389521598815918,
          4.25164566040039
         ],
         "yaxis": "y"
        },
        {
         "customdata": [
          [
           423,
           "E"
          ],
          [
           414,
           "E"
          ],
          [
           409,
           "V"
          ],
          [
           415,
           "E"
          ],
          [
           402,
           "R"
          ],
          [
           402,
           "R"
          ],
          [
           420,
           "E"
          ]
         ],
         "hovertemplate": "Interacting Chain=alpha-tubulin<br>aa_classification=polar uncharged<br>Residue Index=%{x}<br>Distance (angstroms)=%{y}<br>residue_one_letter=%{text}<br>interacting_resinumber=%{customdata[0]}<br>interactingresi_oneletter=%{customdata[1]}<extra></extra>",
         "legendgroup": "alpha-tubulin, polar uncharged",
         "marker": {
          "color": "#ff7f0e",
          "opacity": 0.6,
          "size": 10,
          "symbol": "square"
         },
         "mode": "markers+text",
         "name": "alpha-tubulin, polar uncharged",
         "orientation": "v",
         "showlegend": true,
         "text": [
          "N",
          "S",
          "N",
          "S",
          "N",
          "N",
          "N"
         ],
         "textposition": "top center",
         "type": "scatter",
         "x": [
          46,
          240,
          260,
          264,
          268,
          271,
          316
         ],
         "xaxis": "x",
         "y": [
          4.44253396987915,
          3.0427759647369386,
          3.454297542572021,
          2.6239919662475586,
          3.276771593093872,
          4.082397174835205,
          2.9769453048706054
         ],
         "yaxis": "y"
        },
        {
         "customdata": [
          [
           414,
           "E"
          ],
          [
           414,
           "E"
          ]
         ],
         "hovertemplate": "Interacting Chain=alpha-tubulin<br>aa_classification=negatively charged<br>Residue Index=%{x}<br>Distance (angstroms)=%{y}<br>residue_one_letter=%{text}<br>interacting_resinumber=%{customdata[0]}<br>interactingresi_oneletter=%{customdata[1]}<extra></extra>",
         "legendgroup": "alpha-tubulin, negatively charged",
         "marker": {
          "color": "#ff7f0e",
          "opacity": 0.6,
          "size": 10,
          "symbol": "triangle-down"
         },
         "mode": "markers+text",
         "name": "alpha-tubulin, negatively charged",
         "orientation": "v",
         "showlegend": true,
         "text": [
          "E",
          "E"
         ],
         "textposition": "top center",
         "type": "scatter",
         "x": [
          241,
          317
         ],
         "xaxis": "x",
         "y": [
          4.19061918258667,
          4.211656665802002
         ],
         "yaxis": "y"
        },
        {
         "customdata": [
          [
           157,
           "E"
          ],
          [
           407,
           "E"
          ],
          [
           404,
           "D"
          ],
          [
           432,
           "E"
          ],
          [
           424,
           "Q"
          ],
          [
           417,
           "D"
          ],
          [
           194,
           "E"
          ],
          [
           410,
           "E"
          ],
          [
           436,
           "F"
          ]
         ],
         "hovertemplate": "Interacting Chain=beta-tubulin<br>aa_classification=positively charged<br>Residue Index=%{x}<br>Distance (angstroms)=%{y}<br>residue_one_letter=%{text}<br>interacting_resinumber=%{customdata[0]}<br>interactingresi_oneletter=%{customdata[1]}<extra></extra>",
         "legendgroup": "beta-tubulin, positively charged",
         "marker": {
          "color": "#2ca02c",
          "opacity": 0.6,
          "size": 10,
          "symbol": "triangle-up"
         },
         "mode": "markers+text",
         "name": "beta-tubulin, positively charged",
         "orientation": "v",
         "showlegend": true,
         "text": [
          "R",
          "K",
          "R",
          "K",
          "H",
          "R",
          "K",
          "R",
          "R"
         ],
         "textposition": "top center",
         "type": "scatter",
         "x": [
          146,
          159,
          161,
          277,
          280,
          284,
          287,
          290,
          327
         ],
         "xaxis": "x",
         "y": [
          2.7048909664154053,
          3.3710952758789063,
          2.789586877822876,
          3.3191463470458986,
          2.9337841987609865,
          2.436915636062622,
          3.8275725841522217,
          3.4125836372375487,
          4.429736328125
         ],
         "yaxis": "y"
        },
        {
         "customdata": [
          [
           410,
           "E"
          ],
          [
           406,
           "M"
          ]
         ],
         "hovertemplate": "Interacting Chain=beta-tubulin<br>aa_classification=nonpolar<br>Residue Index=%{x}<br>Distance (angstroms)=%{y}<br>residue_one_letter=%{text}<br>interacting_resinumber=%{customdata[0]}<br>interactingresi_oneletter=%{customdata[1]}<extra></extra>",
         "legendgroup": "beta-tubulin, nonpolar",
         "marker": {
          "color": "#2ca02c",
          "opacity": 0.6,
          "size": 10,
          "symbol": "circle"
         },
         "mode": "markers+text",
         "name": "beta-tubulin, nonpolar",
         "orientation": "v",
         "showlegend": true,
         "text": [
          "I",
          "W"
         ],
         "textposition": "top center",
         "type": "scatter",
         "x": [
          160,
          169
         ],
         "xaxis": "x",
         "y": [
          4.007177114486694,
          3.930198431015015
         ],
         "yaxis": "y"
        },
        {
         "customdata": [
          [
           424,
           "Q"
          ],
          [
           424,
           "Q"
          ]
         ],
         "hovertemplate": "Interacting Chain=beta-tubulin<br>aa_classification=polar uncharged<br>Residue Index=%{x}<br>Distance (angstroms)=%{y}<br>residue_one_letter=%{text}<br>interacting_resinumber=%{customdata[0]}<br>interactingresi_oneletter=%{customdata[1]}<extra></extra>",
         "legendgroup": "beta-tubulin, polar uncharged",
         "marker": {
          "color": "#2ca02c",
          "opacity": 0.6,
          "size": 10,
          "symbol": "square"
         },
         "mode": "markers+text",
         "name": "beta-tubulin, polar uncharged",
         "orientation": "v",
         "showlegend": true,
         "text": [
          "S",
          "T"
         ],
         "textposition": "top center",
         "type": "scatter",
         "x": [
          278,
          279
         ],
         "xaxis": "x",
         "y": [
          3.6265281200408936,
          3.493417310714721
         ],
         "yaxis": "y"
        },
        {
         "customdata": [
          [
           413,
           "S"
          ],
          [
           262,
           "R"
          ]
         ],
         "hovertemplate": "Interacting Chain=beta-tubulin<br>aa_classification=negatively charged<br>Residue Index=%{x}<br>Distance (angstroms)=%{y}<br>residue_one_letter=%{text}<br>interacting_resinumber=%{customdata[0]}<br>interactingresi_oneletter=%{customdata[1]}<extra></extra>",
         "legendgroup": "beta-tubulin, negatively charged",
         "marker": {
          "color": "#2ca02c",
          "opacity": 0.6,
          "size": 10,
          "symbol": "triangle-down"
         },
         "mode": "markers+text",
         "name": "beta-tubulin, negatively charged",
         "orientation": "v",
         "showlegend": true,
         "text": [
          "E",
          "D"
         ],
         "textposition": "top center",
         "type": "scatter",
         "x": [
          162,
          285
         ],
         "xaxis": "x",
         "y": [
          3.173083829879761,
          3.1414541244506835
         ],
         "yaxis": "y"
        },
        {
         "customdata": [
          [
           1,
           "?"
          ],
          [
           1,
           "?"
          ],
          [
           1,
           "?"
          ],
          [
           1,
           "?"
          ]
         ],
         "hovertemplate": "Interacting Chain=ATP<br>aa_classification=positively charged<br>Residue Index=%{x}<br>Distance (angstroms)=%{y}<br>residue_one_letter=%{text}<br>interacting_resinumber=%{customdata[0]}<br>interactingresi_oneletter=%{customdata[1]}<extra></extra>",
         "legendgroup": "ATP, positively charged",
         "marker": {
          "color": "#d62728",
          "opacity": 0.6,
          "size": 10,
          "symbol": "triangle-up"
         },
         "mode": "markers+text",
         "name": "ATP, positively charged",
         "orientation": "v",
         "showlegend": true,
         "text": [
          "R",
          "R",
          "K",
          "H"
         ],
         "textposition": "top center",
         "type": "scatter",
         "x": [
          14,
          16,
          95,
          97
         ],
         "xaxis": "x",
         "y": [
          3.792769718170166,
          3.59802360534668,
          2.770733547210693,
          2.765871286392212
         ],
         "yaxis": "y"
        },
        {
         "customdata": [
          [
           1,
           "?"
          ],
          [
           1,
           "?"
          ],
          [
           1,
           "?"
          ],
          [
           1,
           "?"
          ]
         ],
         "hovertemplate": "Interacting Chain=ATP<br>aa_classification=nonpolar<br>Residue Index=%{x}<br>Distance (angstroms)=%{y}<br>residue_one_letter=%{text}<br>interacting_resinumber=%{customdata[0]}<br>interactingresi_oneletter=%{customdata[1]}<extra></extra>",
         "legendgroup": "ATP, nonpolar",
         "marker": {
          "color": "#d62728",
          "opacity": 0.6,
          "size": 10,
          "symbol": "circle"
         },
         "mode": "markers+text",
         "name": "ATP, nonpolar",
         "orientation": "v",
         "showlegend": true,
         "text": [
          "P",
          "G",
          "A",
          "G"
         ],
         "textposition": "top center",
         "type": "scatter",
         "x": [
          17,
          94,
          238,
          239
         ],
         "xaxis": "x",
         "y": [
          3.550717496871948,
          3.017729616165161,
          3.972130060195923,
          2.943097972869873
         ],
         "yaxis": "y"
        },
        {
         "customdata": [
          [
           1,
           "?"
          ],
          [
           1,
           "?"
          ],
          [
           1,
           "?"
          ],
          [
           1,
           "?"
          ],
          [
           1,
           "?"
          ],
          [
           1,
           "?"
          ]
         ],
         "hovertemplate": "Interacting Chain=ATP<br>aa_classification=polar uncharged<br>Residue Index=%{x}<br>Distance (angstroms)=%{y}<br>residue_one_letter=%{text}<br>interacting_resinumber=%{customdata[0]}<br>interactingresi_oneletter=%{customdata[1]}<extra></extra>",
         "legendgroup": "ATP, polar uncharged",
         "marker": {
          "color": "#d62728",
          "opacity": 0.6,
          "size": 10,
          "symbol": "square"
         },
         "mode": "markers+text",
         "name": "ATP, polar uncharged",
         "orientation": "v",
         "showlegend": true,
         "text": [
          "Q",
          "T",
          "S",
          "S",
          "N",
          "S"
         ],
         "textposition": "top center",
         "type": "scatter",
         "x": [
          90,
          91,
          92,
          93,
          203,
          206
         ],
         "xaxis": "x",
         "y": [
          3.8849501609802246,
          2.57728328704834,
          2.7902222633361817,
          3.28827919960022,
          3.0540364742279054,
          2.9074838638305662
         ],
         "yaxis": "y"
        },
        {
         "customdata": [
          [
           1,
           "?"
          ]
         ],
         "hovertemplate": "Interacting Chain=ATP<br>aa_classification=negatively charged<br>Residue Index=%{x}<br>Distance (angstroms)=%{y}<br>residue_one_letter=%{text}<br>interacting_resinumber=%{customdata[0]}<br>interactingresi_oneletter=%{customdata[1]}<extra></extra>",
         "legendgroup": "ATP, negatively charged",
         "marker": {
          "color": "#d62728",
          "opacity": 0.6,
          "size": 10,
          "symbol": "triangle-down"
         },
         "mode": "markers+text",
         "name": "ATP, negatively charged",
         "orientation": "v",
         "showlegend": true,
         "text": [
          "E"
         ],
         "textposition": "top center",
         "type": "scatter",
         "x": [
          205
         ],
         "xaxis": "x",
         "y": [
          4.022772073745728
         ],
         "yaxis": "y"
        }
       ],
       "layout": {
        "autosize": false,
        "height": 600,
        "legend": {
         "title": {
          "text": "Interacting Chain"
         },
         "tracegroupgap": 0
        },
        "template": {
         "data": {
          "bar": [
           {
            "error_x": {
             "color": "#2a3f5f"
            },
            "error_y": {
             "color": "#2a3f5f"
            },
            "marker": {
             "line": {
              "color": "#E5ECF6",
              "width": 0.5
             },
             "pattern": {
              "fillmode": "overlay",
              "size": 10,
              "solidity": 0.2
             }
            },
            "type": "bar"
           }
          ],
          "barpolar": [
           {
            "marker": {
             "line": {
              "color": "#E5ECF6",
              "width": 0.5
             },
             "pattern": {
              "fillmode": "overlay",
              "size": 10,
              "solidity": 0.2
             }
            },
            "type": "barpolar"
           }
          ],
          "carpet": [
           {
            "aaxis": {
             "endlinecolor": "#2a3f5f",
             "gridcolor": "white",
             "linecolor": "white",
             "minorgridcolor": "white",
             "startlinecolor": "#2a3f5f"
            },
            "baxis": {
             "endlinecolor": "#2a3f5f",
             "gridcolor": "white",
             "linecolor": "white",
             "minorgridcolor": "white",
             "startlinecolor": "#2a3f5f"
            },
            "type": "carpet"
           }
          ],
          "choropleth": [
           {
            "colorbar": {
             "outlinewidth": 0,
             "ticks": ""
            },
            "type": "choropleth"
           }
          ],
          "contour": [
           {
            "colorbar": {
             "outlinewidth": 0,
             "ticks": ""
            },
            "colorscale": [
             [
              0,
              "#0d0887"
             ],
             [
              0.1111111111111111,
              "#46039f"
             ],
             [
              0.2222222222222222,
              "#7201a8"
             ],
             [
              0.3333333333333333,
              "#9c179e"
             ],
             [
              0.4444444444444444,
              "#bd3786"
             ],
             [
              0.5555555555555556,
              "#d8576b"
             ],
             [
              0.6666666666666666,
              "#ed7953"
             ],
             [
              0.7777777777777778,
              "#fb9f3a"
             ],
             [
              0.8888888888888888,
              "#fdca26"
             ],
             [
              1,
              "#f0f921"
             ]
            ],
            "type": "contour"
           }
          ],
          "contourcarpet": [
           {
            "colorbar": {
             "outlinewidth": 0,
             "ticks": ""
            },
            "type": "contourcarpet"
           }
          ],
          "heatmap": [
           {
            "colorbar": {
             "outlinewidth": 0,
             "ticks": ""
            },
            "colorscale": [
             [
              0,
              "#0d0887"
             ],
             [
              0.1111111111111111,
              "#46039f"
             ],
             [
              0.2222222222222222,
              "#7201a8"
             ],
             [
              0.3333333333333333,
              "#9c179e"
             ],
             [
              0.4444444444444444,
              "#bd3786"
             ],
             [
              0.5555555555555556,
              "#d8576b"
             ],
             [
              0.6666666666666666,
              "#ed7953"
             ],
             [
              0.7777777777777778,
              "#fb9f3a"
             ],
             [
              0.8888888888888888,
              "#fdca26"
             ],
             [
              1,
              "#f0f921"
             ]
            ],
            "type": "heatmap"
           }
          ],
          "heatmapgl": [
           {
            "colorbar": {
             "outlinewidth": 0,
             "ticks": ""
            },
            "colorscale": [
             [
              0,
              "#0d0887"
             ],
             [
              0.1111111111111111,
              "#46039f"
             ],
             [
              0.2222222222222222,
              "#7201a8"
             ],
             [
              0.3333333333333333,
              "#9c179e"
             ],
             [
              0.4444444444444444,
              "#bd3786"
             ],
             [
              0.5555555555555556,
              "#d8576b"
             ],
             [
              0.6666666666666666,
              "#ed7953"
             ],
             [
              0.7777777777777778,
              "#fb9f3a"
             ],
             [
              0.8888888888888888,
              "#fdca26"
             ],
             [
              1,
              "#f0f921"
             ]
            ],
            "type": "heatmapgl"
           }
          ],
          "histogram": [
           {
            "marker": {
             "pattern": {
              "fillmode": "overlay",
              "size": 10,
              "solidity": 0.2
             }
            },
            "type": "histogram"
           }
          ],
          "histogram2d": [
           {
            "colorbar": {
             "outlinewidth": 0,
             "ticks": ""
            },
            "colorscale": [
             [
              0,
              "#0d0887"
             ],
             [
              0.1111111111111111,
              "#46039f"
             ],
             [
              0.2222222222222222,
              "#7201a8"
             ],
             [
              0.3333333333333333,
              "#9c179e"
             ],
             [
              0.4444444444444444,
              "#bd3786"
             ],
             [
              0.5555555555555556,
              "#d8576b"
             ],
             [
              0.6666666666666666,
              "#ed7953"
             ],
             [
              0.7777777777777778,
              "#fb9f3a"
             ],
             [
              0.8888888888888888,
              "#fdca26"
             ],
             [
              1,
              "#f0f921"
             ]
            ],
            "type": "histogram2d"
           }
          ],
          "histogram2dcontour": [
           {
            "colorbar": {
             "outlinewidth": 0,
             "ticks": ""
            },
            "colorscale": [
             [
              0,
              "#0d0887"
             ],
             [
              0.1111111111111111,
              "#46039f"
             ],
             [
              0.2222222222222222,
              "#7201a8"
             ],
             [
              0.3333333333333333,
              "#9c179e"
             ],
             [
              0.4444444444444444,
              "#bd3786"
             ],
             [
              0.5555555555555556,
              "#d8576b"
             ],
             [
              0.6666666666666666,
              "#ed7953"
             ],
             [
              0.7777777777777778,
              "#fb9f3a"
             ],
             [
              0.8888888888888888,
              "#fdca26"
             ],
             [
              1,
              "#f0f921"
             ]
            ],
            "type": "histogram2dcontour"
           }
          ],
          "mesh3d": [
           {
            "colorbar": {
             "outlinewidth": 0,
             "ticks": ""
            },
            "type": "mesh3d"
           }
          ],
          "parcoords": [
           {
            "line": {
             "colorbar": {
              "outlinewidth": 0,
              "ticks": ""
             }
            },
            "type": "parcoords"
           }
          ],
          "pie": [
           {
            "automargin": true,
            "type": "pie"
           }
          ],
          "scatter": [
           {
            "fillpattern": {
             "fillmode": "overlay",
             "size": 10,
             "solidity": 0.2
            },
            "type": "scatter"
           }
          ],
          "scatter3d": [
           {
            "line": {
             "colorbar": {
              "outlinewidth": 0,
              "ticks": ""
             }
            },
            "marker": {
             "colorbar": {
              "outlinewidth": 0,
              "ticks": ""
             }
            },
            "type": "scatter3d"
           }
          ],
          "scattercarpet": [
           {
            "marker": {
             "colorbar": {
              "outlinewidth": 0,
              "ticks": ""
             }
            },
            "type": "scattercarpet"
           }
          ],
          "scattergeo": [
           {
            "marker": {
             "colorbar": {
              "outlinewidth": 0,
              "ticks": ""
             }
            },
            "type": "scattergeo"
           }
          ],
          "scattergl": [
           {
            "marker": {
             "colorbar": {
              "outlinewidth": 0,
              "ticks": ""
             }
            },
            "type": "scattergl"
           }
          ],
          "scattermapbox": [
           {
            "marker": {
             "colorbar": {
              "outlinewidth": 0,
              "ticks": ""
             }
            },
            "type": "scattermapbox"
           }
          ],
          "scatterpolar": [
           {
            "marker": {
             "colorbar": {
              "outlinewidth": 0,
              "ticks": ""
             }
            },
            "type": "scatterpolar"
           }
          ],
          "scatterpolargl": [
           {
            "marker": {
             "colorbar": {
              "outlinewidth": 0,
              "ticks": ""
             }
            },
            "type": "scatterpolargl"
           }
          ],
          "scatterternary": [
           {
            "marker": {
             "colorbar": {
              "outlinewidth": 0,
              "ticks": ""
             }
            },
            "type": "scatterternary"
           }
          ],
          "surface": [
           {
            "colorbar": {
             "outlinewidth": 0,
             "ticks": ""
            },
            "colorscale": [
             [
              0,
              "#0d0887"
             ],
             [
              0.1111111111111111,
              "#46039f"
             ],
             [
              0.2222222222222222,
              "#7201a8"
             ],
             [
              0.3333333333333333,
              "#9c179e"
             ],
             [
              0.4444444444444444,
              "#bd3786"
             ],
             [
              0.5555555555555556,
              "#d8576b"
             ],
             [
              0.6666666666666666,
              "#ed7953"
             ],
             [
              0.7777777777777778,
              "#fb9f3a"
             ],
             [
              0.8888888888888888,
              "#fdca26"
             ],
             [
              1,
              "#f0f921"
             ]
            ],
            "type": "surface"
           }
          ],
          "table": [
           {
            "cells": {
             "fill": {
              "color": "#EBF0F8"
             },
             "line": {
              "color": "white"
             }
            },
            "header": {
             "fill": {
              "color": "#C8D4E3"
             },
             "line": {
              "color": "white"
             }
            },
            "type": "table"
           }
          ]
         },
         "layout": {
          "annotationdefaults": {
           "arrowcolor": "#2a3f5f",
           "arrowhead": 0,
           "arrowwidth": 1
          },
          "autotypenumbers": "strict",
          "coloraxis": {
           "colorbar": {
            "outlinewidth": 0,
            "ticks": ""
           }
          },
          "colorscale": {
           "diverging": [
            [
             0,
             "#8e0152"
            ],
            [
             0.1,
             "#c51b7d"
            ],
            [
             0.2,
             "#de77ae"
            ],
            [
             0.3,
             "#f1b6da"
            ],
            [
             0.4,
             "#fde0ef"
            ],
            [
             0.5,
             "#f7f7f7"
            ],
            [
             0.6,
             "#e6f5d0"
            ],
            [
             0.7,
             "#b8e186"
            ],
            [
             0.8,
             "#7fbc41"
            ],
            [
             0.9,
             "#4d9221"
            ],
            [
             1,
             "#276419"
            ]
           ],
           "sequential": [
            [
             0,
             "#0d0887"
            ],
            [
             0.1111111111111111,
             "#46039f"
            ],
            [
             0.2222222222222222,
             "#7201a8"
            ],
            [
             0.3333333333333333,
             "#9c179e"
            ],
            [
             0.4444444444444444,
             "#bd3786"
            ],
            [
             0.5555555555555556,
             "#d8576b"
            ],
            [
             0.6666666666666666,
             "#ed7953"
            ],
            [
             0.7777777777777778,
             "#fb9f3a"
            ],
            [
             0.8888888888888888,
             "#fdca26"
            ],
            [
             1,
             "#f0f921"
            ]
           ],
           "sequentialminus": [
            [
             0,
             "#0d0887"
            ],
            [
             0.1111111111111111,
             "#46039f"
            ],
            [
             0.2222222222222222,
             "#7201a8"
            ],
            [
             0.3333333333333333,
             "#9c179e"
            ],
            [
             0.4444444444444444,
             "#bd3786"
            ],
            [
             0.5555555555555556,
             "#d8576b"
            ],
            [
             0.6666666666666666,
             "#ed7953"
            ],
            [
             0.7777777777777778,
             "#fb9f3a"
            ],
            [
             0.8888888888888888,
             "#fdca26"
            ],
            [
             1,
             "#f0f921"
            ]
           ]
          },
          "colorway": [
           "#636efa",
           "#EF553B",
           "#00cc96",
           "#ab63fa",
           "#FFA15A",
           "#19d3f3",
           "#FF6692",
           "#B6E880",
           "#FF97FF",
           "#FECB52"
          ],
          "font": {
           "color": "#2a3f5f"
          },
          "geo": {
           "bgcolor": "white",
           "lakecolor": "white",
           "landcolor": "#E5ECF6",
           "showlakes": true,
           "showland": true,
           "subunitcolor": "white"
          },
          "hoverlabel": {
           "align": "left"
          },
          "hovermode": "closest",
          "mapbox": {
           "style": "light"
          },
          "paper_bgcolor": "white",
          "plot_bgcolor": "#E5ECF6",
          "polar": {
           "angularaxis": {
            "gridcolor": "white",
            "linecolor": "white",
            "ticks": ""
           },
           "bgcolor": "#E5ECF6",
           "radialaxis": {
            "gridcolor": "white",
            "linecolor": "white",
            "ticks": ""
           }
          },
          "scene": {
           "xaxis": {
            "backgroundcolor": "#E5ECF6",
            "gridcolor": "white",
            "gridwidth": 2,
            "linecolor": "white",
            "showbackground": true,
            "ticks": "",
            "zerolinecolor": "white"
           },
           "yaxis": {
            "backgroundcolor": "#E5ECF6",
            "gridcolor": "white",
            "gridwidth": 2,
            "linecolor": "white",
            "showbackground": true,
            "ticks": "",
            "zerolinecolor": "white"
           },
           "zaxis": {
            "backgroundcolor": "#E5ECF6",
            "gridcolor": "white",
            "gridwidth": 2,
            "linecolor": "white",
            "showbackground": true,
            "ticks": "",
            "zerolinecolor": "white"
           }
          },
          "shapedefaults": {
           "line": {
            "color": "#2a3f5f"
           }
          },
          "ternary": {
           "aaxis": {
            "gridcolor": "white",
            "linecolor": "white",
            "ticks": ""
           },
           "baxis": {
            "gridcolor": "white",
            "linecolor": "white",
            "ticks": ""
           },
           "bgcolor": "#E5ECF6",
           "caxis": {
            "gridcolor": "white",
            "linecolor": "white",
            "ticks": ""
           }
          },
          "title": {
           "x": 0.05
          },
          "xaxis": {
           "automargin": true,
           "gridcolor": "white",
           "linecolor": "white",
           "ticks": "",
           "title": {
            "standoff": 15
           },
           "zerolinecolor": "white",
           "zerolinewidth": 2
          },
          "yaxis": {
           "automargin": true,
           "gridcolor": "white",
           "linecolor": "white",
           "ticks": "",
           "title": {
            "standoff": 15
           },
           "zerolinecolor": "white",
           "zerolinewidth": 2
          }
         }
        },
        "title": {
         "text": "Interactions for Tila"
        },
        "width": 1600,
        "xaxis": {
         "anchor": "y",
         "domain": [
          0,
          1
         ],
         "dtick": 20,
         "range": [
          0,
          600
         ],
         "title": {
          "text": "Residue Index"
         }
        },
        "yaxis": {
         "anchor": "x",
         "domain": [
          0,
          1
         ],
         "range": [
          1.5,
          5
         ],
         "title": {
          "text": "Distance (angstroms)"
         }
        }
       }
      }
     },
     "metadata": {},
     "output_type": "display_data"
    }
   ],
   "source": [
    "# Define the path to the CSV file\n",
    "csv_file_path = \"../../data/3d_predictions/species_seeds/average_interactions_species.csv\"\n",
    "\n",
    "# Process the DataFrame\n",
    "df_processed = process_dataframe(csv_file_path)\n",
    "\n",
    "# Define the threshold value for distance filtering\n",
    "distance_threshold = 4.5\n",
    "\n",
    "# Create and display the plots with specified x-axis range, interacting chains, and files to plot\n",
    "xaxis_range = [0, 600]  # Example x-axis range\n",
    "yaxis_range = [1.5, distance_threshold + 0.5]\n",
    "interacting_chains = ['ATP', 'beta-tubulin', 'alpha-tubulin', 'kinesin B']  # Example interacting chains to display\n",
    "\n",
    "files_to_plot = None#['Acsu2', 'Acsu', 'Heal'] # Example files to plot \n",
    "\n",
    "plots = create_plots(df_processed, distance_threshold, xaxis_range=xaxis_range, yaxis_range=yaxis_range, interacting_chains=interacting_chains[:4], files_to_plot=files_to_plot)\n"
   ]
  },
  {
   "cell_type": "code",
   "execution_count": null,
   "metadata": {},
   "outputs": [],
   "source": []
  },
  {
   "cell_type": "code",
   "execution_count": null,
   "metadata": {},
   "outputs": [],
   "source": []
  }
 ],
 "metadata": {
  "kernelspec": {
   "display_name": "base",
   "language": "python",
   "name": "python3"
  },
  "language_info": {
   "codemirror_mode": {
    "name": "ipython",
    "version": 3
   },
   "file_extension": ".py",
   "mimetype": "text/x-python",
   "name": "python",
   "nbconvert_exporter": "python",
   "pygments_lexer": "ipython3",
   "version": "3.11.5"
  }
 },
 "nbformat": 4,
 "nbformat_minor": 2
}
