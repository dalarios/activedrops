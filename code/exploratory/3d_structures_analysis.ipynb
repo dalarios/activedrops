{
 "cells": [
  {
   "cell_type": "code",
   "execution_count": 1,
   "metadata": {},
   "outputs": [],
   "source": [
    "# import pandas as pd\n",
    "# import plotly.express as px\n",
    "\n",
    "# # Define the path to the CSV file\n",
    "# csv_file_path = \"../../data/3d_predictions/motor2x_ATP_ADP_Mg2x_alphaTub_betaTub/interactions_chimeras.csv\"\n",
    "\n",
    "# # Read the CSV file into a DataFrame\n",
    "# df = pd.read_csv(csv_file_path)\n",
    "\n",
    "# # Function to create a plot for each file\n",
    "# def create_plots(df):\n",
    "#     unique_files = df['file'].unique()\n",
    "#     plots = []\n",
    "\n",
    "#     # Define a fixed color mapping for interacting chains\n",
    "#     color_map = {\n",
    "#         'kinesin B': '#1f77b4',  # blue\n",
    "#         'alpha-tubulin': '#ff7f0e',  # orange\n",
    "#         'beta-tubulin': '#2ca02c',  # green\n",
    "#         'ATP': '#d62728',  # red\n",
    "#     }\n",
    "\n",
    "#     for file in unique_files:\n",
    "#         df_file = df[df['file'] == file]\n",
    "\n",
    "#         # Filter to get the shortest distances for each interaction\n",
    "#         df_filtered = df_file.loc[df_file[df_file['chain'] == 'A'].groupby(['resi', 'interacting_chain'])['distance (angstroms)'].idxmin()]\n",
    "\n",
    "\n",
    "#         # Map interacting_resn to single-letter codes for better readability\n",
    "#         aa_dict = {\n",
    "#             'ALA': 'A', 'ARG': 'R', 'ASN': 'N', 'ASP': 'D', 'CYS': 'C', 'GLN': 'Q', 'GLU': 'E', 'GLY': 'G',\n",
    "#             'HIS': 'H', 'ILE': 'I', 'LEU': 'L', 'LYS': 'K', 'MET': 'M', 'PHE': 'F', 'PRO': 'P', 'SER': 'S',\n",
    "#             'THR': 'T', 'TRP': 'W', 'TYR': 'Y', 'VAL': 'V'\n",
    "#         }\n",
    "#         df_filtered['residue_one_letter'] = df_filtered['resn'].map(aa_dict)\n",
    "#         df_filtered['residue'] = df_filtered['resi'].astype(str) + df_filtered['residue_one_letter']\n",
    "\n",
    "#         # Replace chain letters with descriptive names\n",
    "#         chain_map = {\n",
    "#             'B': 'kinesin B',\n",
    "#             'C': 'alpha-tubulin',\n",
    "#             'D': 'beta-tubulin',\n",
    "#             'E': 'ATP',\n",
    "#             'F': 'ATP'\n",
    "#         }\n",
    "#         df_filtered['interacting_chain'] = df_filtered['interacting_chain'].map(chain_map)\n",
    "\n",
    "#         # Create the interactive plot with consistent color mapping\n",
    "#         fig = px.scatter(df_filtered, x='resi', y='distance (angstroms)', color='interacting_chain', text='residue_one_letter',\n",
    "#                          color_discrete_map=color_map,\n",
    "#                          labels={'resi': 'Residue Index', 'distance (angstroms)': 'Distance (angstroms)', 'interacting_chain': 'Interacting Chain'},\n",
    "#                          title=f\"Interactions for {file}\")\n",
    "\n",
    "#         # Update layout for better visualization\n",
    "#         fig.update_traces(textposition='top center', marker=dict(size=10, opacity=0.6))\n",
    "#         fig.update_layout(\n",
    "#             legend_title_text='Interacting Chain',\n",
    "#             xaxis_range=[0, 401],  # Set a fixed range for the x-axis\n",
    "#             yaxis_range=[0, 5.25]  # Set a fixed range for the y-axis\n",
    "#         )\n",
    "\n",
    "#         # Show the plot\n",
    "#         fig.show()\n",
    "\n",
    "#         plots.append(fig)\n",
    "\n",
    "#     return plots\n",
    "\n",
    "# # Create and display the plots\n",
    "# plots = create_plots(df)\n"
   ]
  },
  {
   "cell_type": "code",
   "execution_count": 4,
   "metadata": {},
   "outputs": [
    {
     "data": {
      "application/vnd.plotly.v1+json": {
       "config": {
        "plotlyServerURL": "https://plot.ly"
       },
       "data": [
        {
         "hovertemplate": "Interacting Chain=ATP<br>Residue Index=%{x}<br>Distance (angstroms)=%{y}<br>residue_one_letter=%{text}<extra></extra>",
         "legendgroup": "ATP",
         "marker": {
          "color": "#d62728",
          "opacity": 0.6,
          "size": 10,
          "symbol": "circle"
         },
         "mode": "markers+text",
         "name": "ATP",
         "orientation": "v",
         "showlegend": true,
         "text": [
          "R",
          "F",
          "R",
          "P",
          "P",
          "Q",
          "T",
          "S",
          "S",
          "G",
          "K",
          "T",
          "H",
          "N",
          "H",
          "S",
          "S",
          "D",
          "L",
          "A",
          "G"
         ],
         "textposition": "top center",
         "type": "scatter",
         "x": [
          18,
          19,
          20,
          21,
          61,
          93,
          94,
          95,
          96,
          97,
          98,
          99,
          100,
          205,
          207,
          208,
          209,
          238,
          239,
          240,
          241
         ],
         "xaxis": "x",
         "y": [
          3.99795126914978,
          4.472162246704102,
          3.434725284576416,
          3.147784471511841,
          4.234802722930908,
          3.783326387405396,
          2.43408203125,
          2.6955759525299072,
          3.212301731109619,
          2.954782724380493,
          2.797912359237671,
          2.937647819519043,
          3.0478720664978027,
          2.980753898620605,
          4.155267238616943,
          3.038510322570801,
          3.0103964805603027,
          4.931808471679688,
          4.730773448944092,
          4.120177268981934,
          3.06950306892395
         ],
         "yaxis": "y"
        },
        {
         "hovertemplate": "Interacting Chain=beta-tubulin<br>Residue Index=%{x}<br>Distance (angstroms)=%{y}<br>residue_one_letter=%{text}<extra></extra>",
         "legendgroup": "beta-tubulin",
         "marker": {
          "color": "#2ca02c",
          "opacity": 0.6,
          "size": 10,
          "symbol": "circle"
         },
         "mode": "markers+text",
         "name": "beta-tubulin",
         "orientation": "v",
         "showlegend": true,
         "text": [
          "K",
          "K",
          "N",
          "V",
          "H",
          "E",
          "D",
          "K",
          "R",
          "Y",
          "D",
          "N",
          "T",
          "H",
          "I",
          "R",
          "D",
          "R",
          "R",
          "R"
         ],
         "textposition": "top center",
         "type": "scatter",
         "x": [
          51,
          148,
          159,
          162,
          163,
          164,
          165,
          166,
          168,
          171,
          277,
          279,
          281,
          282,
          283,
          286,
          287,
          292,
          328,
          329
         ],
         "xaxis": "x",
         "y": [
          3.0502734184265137,
          3.507253408432007,
          2.67405366897583,
          3.26518177986145,
          2.761348247528076,
          3.434391498565674,
          3.790696859359741,
          3.4887917041778564,
          3.7230758666992183,
          4.513237953186035,
          4.709667682647705,
          3.715400457382202,
          3.6543221473693848,
          2.875741958618164,
          4.799846649169922,
          2.571375131607056,
          3.1389050483703613,
          4.000173568725586,
          4.311219692230225,
          3.6186814308166495
         ],
         "yaxis": "y"
        },
        {
         "hovertemplate": "Interacting Chain=kinesin B<br>Residue Index=%{x}<br>Distance (angstroms)=%{y}<br>residue_one_letter=%{text}<extra></extra>",
         "legendgroup": "kinesin B",
         "marker": {
          "color": "#1f77b4",
          "opacity": 0.6,
          "size": 10,
          "symbol": "circle"
         },
         "mode": "markers+text",
         "name": "kinesin B",
         "orientation": "v",
         "showlegend": true,
         "text": [
          "K",
          "N",
          "L",
          "T",
          "A",
          "E",
          "W",
          "K",
          "R",
          "Y",
          "E",
          "K",
          "K",
          "N",
          "L",
          "K",
          "K",
          "V",
          "L",
          "E",
          "E",
          "L",
          "A",
          "W",
          "R",
          "Q",
          "I",
          "M",
          "L"
         ],
         "textposition": "top center",
         "type": "scatter",
         "x": [
          166,
          167,
          343,
          344,
          345,
          346,
          348,
          349,
          351,
          352,
          355,
          356,
          358,
          359,
          362,
          363,
          365,
          366,
          369,
          370,
          372,
          373,
          374,
          376,
          377,
          387,
          388,
          390,
          393
         ],
         "xaxis": "x",
         "y": [
          2.758011817932129,
          3.1947500705718994,
          3.5614712238311768,
          4.091557025909424,
          3.2241218090057373,
          2.8588788509368896,
          3.332430362701416,
          3.486456632614136,
          3.707993984222412,
          3.489515542984009,
          3.1369144916534424,
          4.706320285797119,
          3.6094019412994394,
          2.054415225982666,
          3.115278959274292,
          4.379862785339356,
          3.3813118934631348,
          3.478288173675537,
          3.4338440895080566,
          3.189166784286499,
          2.857144355773926,
          2.870945453643799,
          4.252780914306641,
          3.71635627746582,
          2.765533447265625,
          3.379004955291748,
          2.9102673530578613,
          3.554145336151123,
          3.539406538009644
         ],
         "yaxis": "y"
        },
        {
         "hovertemplate": "Interacting Chain=alpha-tubulin<br>Residue Index=%{x}<br>Distance (angstroms)=%{y}<br>residue_one_letter=%{text}<extra></extra>",
         "legendgroup": "alpha-tubulin",
         "marker": {
          "color": "#ff7f0e",
          "opacity": 0.6,
          "size": 10,
          "symbol": "circle"
         },
         "mode": "markers+text",
         "name": "alpha-tubulin",
         "orientation": "v",
         "showlegend": true,
         "text": [
          "S",
          "E",
          "K",
          "V",
          "S",
          "G",
          "A",
          "E",
          "L",
          "K",
          "N",
          "K",
          "S",
          "N",
          "S",
          "E",
          "S"
         ],
         "textposition": "top center",
         "type": "scatter",
         "x": [
          242,
          243,
          244,
          245,
          246,
          249,
          250,
          251,
          255,
          259,
          262,
          263,
          266,
          270,
          318,
          319,
          322
         ],
         "xaxis": "x",
         "y": [
          2.9356131553649902,
          4.064718723297119,
          2.476642847061157,
          3.146156072616577,
          4.259600639343262,
          4.279638290405273,
          2.683391809463501,
          3.231006860733032,
          3.8248095512390137,
          3.241258144378662,
          3.32842230796814,
          3.2993030548095703,
          2.5945560932159424,
          3.722847223281861,
          3.982760190963745,
          3.929723024368286,
          4.895159721374512
         ],
         "yaxis": "y"
        }
       ],
       "layout": {
        "legend": {
         "title": {
          "text": "Interacting Chain"
         },
         "tracegroupgap": 0
        },
        "template": {
         "data": {
          "bar": [
           {
            "error_x": {
             "color": "#2a3f5f"
            },
            "error_y": {
             "color": "#2a3f5f"
            },
            "marker": {
             "line": {
              "color": "#E5ECF6",
              "width": 0.5
             },
             "pattern": {
              "fillmode": "overlay",
              "size": 10,
              "solidity": 0.2
             }
            },
            "type": "bar"
           }
          ],
          "barpolar": [
           {
            "marker": {
             "line": {
              "color": "#E5ECF6",
              "width": 0.5
             },
             "pattern": {
              "fillmode": "overlay",
              "size": 10,
              "solidity": 0.2
             }
            },
            "type": "barpolar"
           }
          ],
          "carpet": [
           {
            "aaxis": {
             "endlinecolor": "#2a3f5f",
             "gridcolor": "white",
             "linecolor": "white",
             "minorgridcolor": "white",
             "startlinecolor": "#2a3f5f"
            },
            "baxis": {
             "endlinecolor": "#2a3f5f",
             "gridcolor": "white",
             "linecolor": "white",
             "minorgridcolor": "white",
             "startlinecolor": "#2a3f5f"
            },
            "type": "carpet"
           }
          ],
          "choropleth": [
           {
            "colorbar": {
             "outlinewidth": 0,
             "ticks": ""
            },
            "type": "choropleth"
           }
          ],
          "contour": [
           {
            "colorbar": {
             "outlinewidth": 0,
             "ticks": ""
            },
            "colorscale": [
             [
              0,
              "#0d0887"
             ],
             [
              0.1111111111111111,
              "#46039f"
             ],
             [
              0.2222222222222222,
              "#7201a8"
             ],
             [
              0.3333333333333333,
              "#9c179e"
             ],
             [
              0.4444444444444444,
              "#bd3786"
             ],
             [
              0.5555555555555556,
              "#d8576b"
             ],
             [
              0.6666666666666666,
              "#ed7953"
             ],
             [
              0.7777777777777778,
              "#fb9f3a"
             ],
             [
              0.8888888888888888,
              "#fdca26"
             ],
             [
              1,
              "#f0f921"
             ]
            ],
            "type": "contour"
           }
          ],
          "contourcarpet": [
           {
            "colorbar": {
             "outlinewidth": 0,
             "ticks": ""
            },
            "type": "contourcarpet"
           }
          ],
          "heatmap": [
           {
            "colorbar": {
             "outlinewidth": 0,
             "ticks": ""
            },
            "colorscale": [
             [
              0,
              "#0d0887"
             ],
             [
              0.1111111111111111,
              "#46039f"
             ],
             [
              0.2222222222222222,
              "#7201a8"
             ],
             [
              0.3333333333333333,
              "#9c179e"
             ],
             [
              0.4444444444444444,
              "#bd3786"
             ],
             [
              0.5555555555555556,
              "#d8576b"
             ],
             [
              0.6666666666666666,
              "#ed7953"
             ],
             [
              0.7777777777777778,
              "#fb9f3a"
             ],
             [
              0.8888888888888888,
              "#fdca26"
             ],
             [
              1,
              "#f0f921"
             ]
            ],
            "type": "heatmap"
           }
          ],
          "heatmapgl": [
           {
            "colorbar": {
             "outlinewidth": 0,
             "ticks": ""
            },
            "colorscale": [
             [
              0,
              "#0d0887"
             ],
             [
              0.1111111111111111,
              "#46039f"
             ],
             [
              0.2222222222222222,
              "#7201a8"
             ],
             [
              0.3333333333333333,
              "#9c179e"
             ],
             [
              0.4444444444444444,
              "#bd3786"
             ],
             [
              0.5555555555555556,
              "#d8576b"
             ],
             [
              0.6666666666666666,
              "#ed7953"
             ],
             [
              0.7777777777777778,
              "#fb9f3a"
             ],
             [
              0.8888888888888888,
              "#fdca26"
             ],
             [
              1,
              "#f0f921"
             ]
            ],
            "type": "heatmapgl"
           }
          ],
          "histogram": [
           {
            "marker": {
             "pattern": {
              "fillmode": "overlay",
              "size": 10,
              "solidity": 0.2
             }
            },
            "type": "histogram"
           }
          ],
          "histogram2d": [
           {
            "colorbar": {
             "outlinewidth": 0,
             "ticks": ""
            },
            "colorscale": [
             [
              0,
              "#0d0887"
             ],
             [
              0.1111111111111111,
              "#46039f"
             ],
             [
              0.2222222222222222,
              "#7201a8"
             ],
             [
              0.3333333333333333,
              "#9c179e"
             ],
             [
              0.4444444444444444,
              "#bd3786"
             ],
             [
              0.5555555555555556,
              "#d8576b"
             ],
             [
              0.6666666666666666,
              "#ed7953"
             ],
             [
              0.7777777777777778,
              "#fb9f3a"
             ],
             [
              0.8888888888888888,
              "#fdca26"
             ],
             [
              1,
              "#f0f921"
             ]
            ],
            "type": "histogram2d"
           }
          ],
          "histogram2dcontour": [
           {
            "colorbar": {
             "outlinewidth": 0,
             "ticks": ""
            },
            "colorscale": [
             [
              0,
              "#0d0887"
             ],
             [
              0.1111111111111111,
              "#46039f"
             ],
             [
              0.2222222222222222,
              "#7201a8"
             ],
             [
              0.3333333333333333,
              "#9c179e"
             ],
             [
              0.4444444444444444,
              "#bd3786"
             ],
             [
              0.5555555555555556,
              "#d8576b"
             ],
             [
              0.6666666666666666,
              "#ed7953"
             ],
             [
              0.7777777777777778,
              "#fb9f3a"
             ],
             [
              0.8888888888888888,
              "#fdca26"
             ],
             [
              1,
              "#f0f921"
             ]
            ],
            "type": "histogram2dcontour"
           }
          ],
          "mesh3d": [
           {
            "colorbar": {
             "outlinewidth": 0,
             "ticks": ""
            },
            "type": "mesh3d"
           }
          ],
          "parcoords": [
           {
            "line": {
             "colorbar": {
              "outlinewidth": 0,
              "ticks": ""
             }
            },
            "type": "parcoords"
           }
          ],
          "pie": [
           {
            "automargin": true,
            "type": "pie"
           }
          ],
          "scatter": [
           {
            "fillpattern": {
             "fillmode": "overlay",
             "size": 10,
             "solidity": 0.2
            },
            "type": "scatter"
           }
          ],
          "scatter3d": [
           {
            "line": {
             "colorbar": {
              "outlinewidth": 0,
              "ticks": ""
             }
            },
            "marker": {
             "colorbar": {
              "outlinewidth": 0,
              "ticks": ""
             }
            },
            "type": "scatter3d"
           }
          ],
          "scattercarpet": [
           {
            "marker": {
             "colorbar": {
              "outlinewidth": 0,
              "ticks": ""
             }
            },
            "type": "scattercarpet"
           }
          ],
          "scattergeo": [
           {
            "marker": {
             "colorbar": {
              "outlinewidth": 0,
              "ticks": ""
             }
            },
            "type": "scattergeo"
           }
          ],
          "scattergl": [
           {
            "marker": {
             "colorbar": {
              "outlinewidth": 0,
              "ticks": ""
             }
            },
            "type": "scattergl"
           }
          ],
          "scattermapbox": [
           {
            "marker": {
             "colorbar": {
              "outlinewidth": 0,
              "ticks": ""
             }
            },
            "type": "scattermapbox"
           }
          ],
          "scatterpolar": [
           {
            "marker": {
             "colorbar": {
              "outlinewidth": 0,
              "ticks": ""
             }
            },
            "type": "scatterpolar"
           }
          ],
          "scatterpolargl": [
           {
            "marker": {
             "colorbar": {
              "outlinewidth": 0,
              "ticks": ""
             }
            },
            "type": "scatterpolargl"
           }
          ],
          "scatterternary": [
           {
            "marker": {
             "colorbar": {
              "outlinewidth": 0,
              "ticks": ""
             }
            },
            "type": "scatterternary"
           }
          ],
          "surface": [
           {
            "colorbar": {
             "outlinewidth": 0,
             "ticks": ""
            },
            "colorscale": [
             [
              0,
              "#0d0887"
             ],
             [
              0.1111111111111111,
              "#46039f"
             ],
             [
              0.2222222222222222,
              "#7201a8"
             ],
             [
              0.3333333333333333,
              "#9c179e"
             ],
             [
              0.4444444444444444,
              "#bd3786"
             ],
             [
              0.5555555555555556,
              "#d8576b"
             ],
             [
              0.6666666666666666,
              "#ed7953"
             ],
             [
              0.7777777777777778,
              "#fb9f3a"
             ],
             [
              0.8888888888888888,
              "#fdca26"
             ],
             [
              1,
              "#f0f921"
             ]
            ],
            "type": "surface"
           }
          ],
          "table": [
           {
            "cells": {
             "fill": {
              "color": "#EBF0F8"
             },
             "line": {
              "color": "white"
             }
            },
            "header": {
             "fill": {
              "color": "#C8D4E3"
             },
             "line": {
              "color": "white"
             }
            },
            "type": "table"
           }
          ]
         },
         "layout": {
          "annotationdefaults": {
           "arrowcolor": "#2a3f5f",
           "arrowhead": 0,
           "arrowwidth": 1
          },
          "autotypenumbers": "strict",
          "coloraxis": {
           "colorbar": {
            "outlinewidth": 0,
            "ticks": ""
           }
          },
          "colorscale": {
           "diverging": [
            [
             0,
             "#8e0152"
            ],
            [
             0.1,
             "#c51b7d"
            ],
            [
             0.2,
             "#de77ae"
            ],
            [
             0.3,
             "#f1b6da"
            ],
            [
             0.4,
             "#fde0ef"
            ],
            [
             0.5,
             "#f7f7f7"
            ],
            [
             0.6,
             "#e6f5d0"
            ],
            [
             0.7,
             "#b8e186"
            ],
            [
             0.8,
             "#7fbc41"
            ],
            [
             0.9,
             "#4d9221"
            ],
            [
             1,
             "#276419"
            ]
           ],
           "sequential": [
            [
             0,
             "#0d0887"
            ],
            [
             0.1111111111111111,
             "#46039f"
            ],
            [
             0.2222222222222222,
             "#7201a8"
            ],
            [
             0.3333333333333333,
             "#9c179e"
            ],
            [
             0.4444444444444444,
             "#bd3786"
            ],
            [
             0.5555555555555556,
             "#d8576b"
            ],
            [
             0.6666666666666666,
             "#ed7953"
            ],
            [
             0.7777777777777778,
             "#fb9f3a"
            ],
            [
             0.8888888888888888,
             "#fdca26"
            ],
            [
             1,
             "#f0f921"
            ]
           ],
           "sequentialminus": [
            [
             0,
             "#0d0887"
            ],
            [
             0.1111111111111111,
             "#46039f"
            ],
            [
             0.2222222222222222,
             "#7201a8"
            ],
            [
             0.3333333333333333,
             "#9c179e"
            ],
            [
             0.4444444444444444,
             "#bd3786"
            ],
            [
             0.5555555555555556,
             "#d8576b"
            ],
            [
             0.6666666666666666,
             "#ed7953"
            ],
            [
             0.7777777777777778,
             "#fb9f3a"
            ],
            [
             0.8888888888888888,
             "#fdca26"
            ],
            [
             1,
             "#f0f921"
            ]
           ]
          },
          "colorway": [
           "#636efa",
           "#EF553B",
           "#00cc96",
           "#ab63fa",
           "#FFA15A",
           "#19d3f3",
           "#FF6692",
           "#B6E880",
           "#FF97FF",
           "#FECB52"
          ],
          "font": {
           "color": "#2a3f5f"
          },
          "geo": {
           "bgcolor": "white",
           "lakecolor": "white",
           "landcolor": "#E5ECF6",
           "showlakes": true,
           "showland": true,
           "subunitcolor": "white"
          },
          "hoverlabel": {
           "align": "left"
          },
          "hovermode": "closest",
          "mapbox": {
           "style": "light"
          },
          "paper_bgcolor": "white",
          "plot_bgcolor": "#E5ECF6",
          "polar": {
           "angularaxis": {
            "gridcolor": "white",
            "linecolor": "white",
            "ticks": ""
           },
           "bgcolor": "#E5ECF6",
           "radialaxis": {
            "gridcolor": "white",
            "linecolor": "white",
            "ticks": ""
           }
          },
          "scene": {
           "xaxis": {
            "backgroundcolor": "#E5ECF6",
            "gridcolor": "white",
            "gridwidth": 2,
            "linecolor": "white",
            "showbackground": true,
            "ticks": "",
            "zerolinecolor": "white"
           },
           "yaxis": {
            "backgroundcolor": "#E5ECF6",
            "gridcolor": "white",
            "gridwidth": 2,
            "linecolor": "white",
            "showbackground": true,
            "ticks": "",
            "zerolinecolor": "white"
           },
           "zaxis": {
            "backgroundcolor": "#E5ECF6",
            "gridcolor": "white",
            "gridwidth": 2,
            "linecolor": "white",
            "showbackground": true,
            "ticks": "",
            "zerolinecolor": "white"
           }
          },
          "shapedefaults": {
           "line": {
            "color": "#2a3f5f"
           }
          },
          "ternary": {
           "aaxis": {
            "gridcolor": "white",
            "linecolor": "white",
            "ticks": ""
           },
           "baxis": {
            "gridcolor": "white",
            "linecolor": "white",
            "ticks": ""
           },
           "bgcolor": "#E5ECF6",
           "caxis": {
            "gridcolor": "white",
            "linecolor": "white",
            "ticks": ""
           }
          },
          "title": {
           "x": 0.05
          },
          "xaxis": {
           "automargin": true,
           "gridcolor": "white",
           "linecolor": "white",
           "ticks": "",
           "title": {
            "standoff": 15
           },
           "zerolinecolor": "white",
           "zerolinewidth": 2
          },
          "yaxis": {
           "automargin": true,
           "gridcolor": "white",
           "linecolor": "white",
           "ticks": "",
           "title": {
            "standoff": 15
           },
           "zerolinecolor": "white",
           "zerolinewidth": 2
          }
         }
        },
        "title": {
         "text": "Interactions for A"
        },
        "xaxis": {
         "anchor": "y",
         "domain": [
          0,
          1
         ],
         "title": {
          "text": "Residue Index"
         }
        },
        "yaxis": {
         "anchor": "x",
         "domain": [
          0,
          1
         ],
         "range": [
          1.5,
          5.5
         ],
         "title": {
          "text": "Distance (angstroms)"
         }
        }
       }
      }
     },
     "metadata": {},
     "output_type": "display_data"
    },
    {
     "data": {
      "application/vnd.plotly.v1+json": {
       "config": {
        "plotlyServerURL": "https://plot.ly"
       },
       "data": [
        {
         "hovertemplate": "Interacting Chain=kinesin B<br>Residue Index=%{x}<br>Distance (angstroms)=%{y}<br>residue_one_letter=%{text}<extra></extra>",
         "legendgroup": "kinesin B",
         "marker": {
          "color": "#1f77b4",
          "opacity": 0.6,
          "size": 10,
          "symbol": "circle"
         },
         "mode": "markers+text",
         "name": "kinesin B",
         "orientation": "v",
         "showlegend": true,
         "text": [
          "R",
          "E",
          "I",
          "K",
          "L",
          "T",
          "A",
          "E",
          "W",
          "K",
          "R",
          "Y",
          "E",
          "K",
          "K",
          "N",
          "L",
          "K",
          "K",
          "V",
          "L",
          "E",
          "E",
          "L",
          "A",
          "W",
          "R",
          "Q",
          "I",
          "N",
          "M",
          "L"
         ],
         "textposition": "top center",
         "type": "scatter",
         "x": [
          5,
          6,
          7,
          166,
          343,
          344,
          345,
          346,
          348,
          349,
          351,
          352,
          355,
          356,
          358,
          359,
          362,
          363,
          365,
          366,
          369,
          370,
          372,
          373,
          374,
          376,
          377,
          387,
          388,
          389,
          390,
          393
         ],
         "xaxis": "x",
         "y": [
          3.2595181465148926,
          4.647461891174316,
          3.1870851516723637,
          2.732813835144043,
          3.440403699874878,
          4.13944673538208,
          3.2919020652771,
          4.0024919509887695,
          3.2245564460754395,
          3.585505723953247,
          3.70831298828125,
          3.3853559494018555,
          2.087067127227783,
          3.54483413696289,
          3.61041259765625,
          2.181346893310547,
          2.8901329040527344,
          4.312766075134277,
          2.987513780593872,
          3.243751287460327,
          3.3852994441986084,
          3.3923003673553467,
          2.7590510845184326,
          2.7946407794952397,
          4.168344974517822,
          3.566957950592041,
          2.7263762950897217,
          3.3934450149536133,
          2.872932910919189,
          4.978118896484375,
          3.5308189392089844,
          3.264544725418091
         ],
         "yaxis": "y"
        },
        {
         "hovertemplate": "Interacting Chain=ATP<br>Residue Index=%{x}<br>Distance (angstroms)=%{y}<br>residue_one_letter=%{text}<extra></extra>",
         "legendgroup": "ATP",
         "marker": {
          "color": "#d62728",
          "opacity": 0.6,
          "size": 10,
          "symbol": "circle"
         },
         "mode": "markers+text",
         "name": "ATP",
         "orientation": "v",
         "showlegend": true,
         "text": [
          "R",
          "F",
          "R",
          "P",
          "P",
          "Q",
          "T",
          "S",
          "S",
          "G",
          "K",
          "T",
          "H",
          "N",
          "E",
          "S",
          "S",
          "D",
          "L",
          "A",
          "G"
         ],
         "textposition": "top center",
         "type": "scatter",
         "x": [
          18,
          19,
          20,
          21,
          61,
          93,
          94,
          95,
          96,
          97,
          98,
          99,
          100,
          205,
          207,
          208,
          209,
          238,
          239,
          240,
          241
         ],
         "xaxis": "x",
         "y": [
          3.677704095840454,
          4.693010330200195,
          3.728794813156128,
          3.6346898078918457,
          4.692310333251953,
          3.849929571151733,
          2.471453905105591,
          2.9235379695892334,
          3.431260585784912,
          3.118330955505371,
          2.8820974826812744,
          2.656883955001831,
          2.7273435592651367,
          3.0729501247406006,
          3.958608865737915,
          2.8766520023345947,
          2.7936689853668213,
          4.492564678192139,
          4.391115665435791,
          3.861274957656861,
          2.8299522399902344
         ],
         "yaxis": "y"
        },
        {
         "hovertemplate": "Interacting Chain=beta-tubulin<br>Residue Index=%{x}<br>Distance (angstroms)=%{y}<br>residue_one_letter=%{text}<extra></extra>",
         "legendgroup": "beta-tubulin",
         "marker": {
          "color": "#2ca02c",
          "opacity": 0.6,
          "size": 10,
          "symbol": "circle"
         },
         "mode": "markers+text",
         "name": "beta-tubulin",
         "orientation": "v",
         "showlegend": true,
         "text": [
          "K",
          "K",
          "N",
          "V",
          "H",
          "E",
          "D",
          "K",
          "R",
          "K",
          "K",
          "S",
          "T",
          "H",
          "I",
          "P",
          "R",
          "D",
          "K",
          "R"
         ],
         "textposition": "top center",
         "type": "scatter",
         "x": [
          51,
          148,
          159,
          162,
          163,
          164,
          165,
          166,
          168,
          173,
          279,
          280,
          281,
          282,
          283,
          284,
          286,
          287,
          289,
          292
         ],
         "xaxis": "x",
         "y": [
          3.866686105728149,
          3.03865122795105,
          3.1169161796569824,
          3.0660789012908936,
          2.811490058898926,
          3.249111652374268,
          3.1298668384552,
          3.3819501399993896,
          4.365902900695801,
          4.237834453582764,
          3.240765333175659,
          3.51281213760376,
          3.212193489074707,
          2.7998008728027344,
          4.858129024505615,
          4.97609281539917,
          2.564934015274048,
          3.00663685798645,
          4.576494216918945,
          4.585450649261475
         ],
         "yaxis": "y"
        },
        {
         "hovertemplate": "Interacting Chain=alpha-tubulin<br>Residue Index=%{x}<br>Distance (angstroms)=%{y}<br>residue_one_letter=%{text}<extra></extra>",
         "legendgroup": "alpha-tubulin",
         "marker": {
          "color": "#ff7f0e",
          "opacity": 0.6,
          "size": 10,
          "symbol": "circle"
         },
         "mode": "markers+text",
         "name": "alpha-tubulin",
         "orientation": "v",
         "showlegend": true,
         "text": [
          "S",
          "E",
          "K",
          "I",
          "S",
          "A",
          "Q",
          "L",
          "K",
          "N",
          "K",
          "S",
          "N",
          "N",
          "A",
          "E",
          "S",
          "R",
          "R"
         ],
         "textposition": "top center",
         "type": "scatter",
         "x": [
          242,
          243,
          244,
          245,
          246,
          250,
          251,
          255,
          259,
          262,
          263,
          266,
          270,
          273,
          318,
          319,
          322,
          325,
          329
         ],
         "xaxis": "x",
         "y": [
          3.140307664871216,
          4.207160949707031,
          2.536552906036377,
          2.9564311504364014,
          4.528866291046143,
          3.499594211578369,
          4.187777996063232,
          3.7673747539520255,
          3.240985631942749,
          3.400494337081909,
          3.363567590713501,
          2.598006010055542,
          3.5596137046813965,
          4.555092811584473,
          2.9456822872161865,
          4.114929676055908,
          4.651490688323975,
          2.939748287200928,
          4.626242160797119
         ],
         "yaxis": "y"
        }
       ],
       "layout": {
        "legend": {
         "title": {
          "text": "Interacting Chain"
         },
         "tracegroupgap": 0
        },
        "template": {
         "data": {
          "bar": [
           {
            "error_x": {
             "color": "#2a3f5f"
            },
            "error_y": {
             "color": "#2a3f5f"
            },
            "marker": {
             "line": {
              "color": "#E5ECF6",
              "width": 0.5
             },
             "pattern": {
              "fillmode": "overlay",
              "size": 10,
              "solidity": 0.2
             }
            },
            "type": "bar"
           }
          ],
          "barpolar": [
           {
            "marker": {
             "line": {
              "color": "#E5ECF6",
              "width": 0.5
             },
             "pattern": {
              "fillmode": "overlay",
              "size": 10,
              "solidity": 0.2
             }
            },
            "type": "barpolar"
           }
          ],
          "carpet": [
           {
            "aaxis": {
             "endlinecolor": "#2a3f5f",
             "gridcolor": "white",
             "linecolor": "white",
             "minorgridcolor": "white",
             "startlinecolor": "#2a3f5f"
            },
            "baxis": {
             "endlinecolor": "#2a3f5f",
             "gridcolor": "white",
             "linecolor": "white",
             "minorgridcolor": "white",
             "startlinecolor": "#2a3f5f"
            },
            "type": "carpet"
           }
          ],
          "choropleth": [
           {
            "colorbar": {
             "outlinewidth": 0,
             "ticks": ""
            },
            "type": "choropleth"
           }
          ],
          "contour": [
           {
            "colorbar": {
             "outlinewidth": 0,
             "ticks": ""
            },
            "colorscale": [
             [
              0,
              "#0d0887"
             ],
             [
              0.1111111111111111,
              "#46039f"
             ],
             [
              0.2222222222222222,
              "#7201a8"
             ],
             [
              0.3333333333333333,
              "#9c179e"
             ],
             [
              0.4444444444444444,
              "#bd3786"
             ],
             [
              0.5555555555555556,
              "#d8576b"
             ],
             [
              0.6666666666666666,
              "#ed7953"
             ],
             [
              0.7777777777777778,
              "#fb9f3a"
             ],
             [
              0.8888888888888888,
              "#fdca26"
             ],
             [
              1,
              "#f0f921"
             ]
            ],
            "type": "contour"
           }
          ],
          "contourcarpet": [
           {
            "colorbar": {
             "outlinewidth": 0,
             "ticks": ""
            },
            "type": "contourcarpet"
           }
          ],
          "heatmap": [
           {
            "colorbar": {
             "outlinewidth": 0,
             "ticks": ""
            },
            "colorscale": [
             [
              0,
              "#0d0887"
             ],
             [
              0.1111111111111111,
              "#46039f"
             ],
             [
              0.2222222222222222,
              "#7201a8"
             ],
             [
              0.3333333333333333,
              "#9c179e"
             ],
             [
              0.4444444444444444,
              "#bd3786"
             ],
             [
              0.5555555555555556,
              "#d8576b"
             ],
             [
              0.6666666666666666,
              "#ed7953"
             ],
             [
              0.7777777777777778,
              "#fb9f3a"
             ],
             [
              0.8888888888888888,
              "#fdca26"
             ],
             [
              1,
              "#f0f921"
             ]
            ],
            "type": "heatmap"
           }
          ],
          "heatmapgl": [
           {
            "colorbar": {
             "outlinewidth": 0,
             "ticks": ""
            },
            "colorscale": [
             [
              0,
              "#0d0887"
             ],
             [
              0.1111111111111111,
              "#46039f"
             ],
             [
              0.2222222222222222,
              "#7201a8"
             ],
             [
              0.3333333333333333,
              "#9c179e"
             ],
             [
              0.4444444444444444,
              "#bd3786"
             ],
             [
              0.5555555555555556,
              "#d8576b"
             ],
             [
              0.6666666666666666,
              "#ed7953"
             ],
             [
              0.7777777777777778,
              "#fb9f3a"
             ],
             [
              0.8888888888888888,
              "#fdca26"
             ],
             [
              1,
              "#f0f921"
             ]
            ],
            "type": "heatmapgl"
           }
          ],
          "histogram": [
           {
            "marker": {
             "pattern": {
              "fillmode": "overlay",
              "size": 10,
              "solidity": 0.2
             }
            },
            "type": "histogram"
           }
          ],
          "histogram2d": [
           {
            "colorbar": {
             "outlinewidth": 0,
             "ticks": ""
            },
            "colorscale": [
             [
              0,
              "#0d0887"
             ],
             [
              0.1111111111111111,
              "#46039f"
             ],
             [
              0.2222222222222222,
              "#7201a8"
             ],
             [
              0.3333333333333333,
              "#9c179e"
             ],
             [
              0.4444444444444444,
              "#bd3786"
             ],
             [
              0.5555555555555556,
              "#d8576b"
             ],
             [
              0.6666666666666666,
              "#ed7953"
             ],
             [
              0.7777777777777778,
              "#fb9f3a"
             ],
             [
              0.8888888888888888,
              "#fdca26"
             ],
             [
              1,
              "#f0f921"
             ]
            ],
            "type": "histogram2d"
           }
          ],
          "histogram2dcontour": [
           {
            "colorbar": {
             "outlinewidth": 0,
             "ticks": ""
            },
            "colorscale": [
             [
              0,
              "#0d0887"
             ],
             [
              0.1111111111111111,
              "#46039f"
             ],
             [
              0.2222222222222222,
              "#7201a8"
             ],
             [
              0.3333333333333333,
              "#9c179e"
             ],
             [
              0.4444444444444444,
              "#bd3786"
             ],
             [
              0.5555555555555556,
              "#d8576b"
             ],
             [
              0.6666666666666666,
              "#ed7953"
             ],
             [
              0.7777777777777778,
              "#fb9f3a"
             ],
             [
              0.8888888888888888,
              "#fdca26"
             ],
             [
              1,
              "#f0f921"
             ]
            ],
            "type": "histogram2dcontour"
           }
          ],
          "mesh3d": [
           {
            "colorbar": {
             "outlinewidth": 0,
             "ticks": ""
            },
            "type": "mesh3d"
           }
          ],
          "parcoords": [
           {
            "line": {
             "colorbar": {
              "outlinewidth": 0,
              "ticks": ""
             }
            },
            "type": "parcoords"
           }
          ],
          "pie": [
           {
            "automargin": true,
            "type": "pie"
           }
          ],
          "scatter": [
           {
            "fillpattern": {
             "fillmode": "overlay",
             "size": 10,
             "solidity": 0.2
            },
            "type": "scatter"
           }
          ],
          "scatter3d": [
           {
            "line": {
             "colorbar": {
              "outlinewidth": 0,
              "ticks": ""
             }
            },
            "marker": {
             "colorbar": {
              "outlinewidth": 0,
              "ticks": ""
             }
            },
            "type": "scatter3d"
           }
          ],
          "scattercarpet": [
           {
            "marker": {
             "colorbar": {
              "outlinewidth": 0,
              "ticks": ""
             }
            },
            "type": "scattercarpet"
           }
          ],
          "scattergeo": [
           {
            "marker": {
             "colorbar": {
              "outlinewidth": 0,
              "ticks": ""
             }
            },
            "type": "scattergeo"
           }
          ],
          "scattergl": [
           {
            "marker": {
             "colorbar": {
              "outlinewidth": 0,
              "ticks": ""
             }
            },
            "type": "scattergl"
           }
          ],
          "scattermapbox": [
           {
            "marker": {
             "colorbar": {
              "outlinewidth": 0,
              "ticks": ""
             }
            },
            "type": "scattermapbox"
           }
          ],
          "scatterpolar": [
           {
            "marker": {
             "colorbar": {
              "outlinewidth": 0,
              "ticks": ""
             }
            },
            "type": "scatterpolar"
           }
          ],
          "scatterpolargl": [
           {
            "marker": {
             "colorbar": {
              "outlinewidth": 0,
              "ticks": ""
             }
            },
            "type": "scatterpolargl"
           }
          ],
          "scatterternary": [
           {
            "marker": {
             "colorbar": {
              "outlinewidth": 0,
              "ticks": ""
             }
            },
            "type": "scatterternary"
           }
          ],
          "surface": [
           {
            "colorbar": {
             "outlinewidth": 0,
             "ticks": ""
            },
            "colorscale": [
             [
              0,
              "#0d0887"
             ],
             [
              0.1111111111111111,
              "#46039f"
             ],
             [
              0.2222222222222222,
              "#7201a8"
             ],
             [
              0.3333333333333333,
              "#9c179e"
             ],
             [
              0.4444444444444444,
              "#bd3786"
             ],
             [
              0.5555555555555556,
              "#d8576b"
             ],
             [
              0.6666666666666666,
              "#ed7953"
             ],
             [
              0.7777777777777778,
              "#fb9f3a"
             ],
             [
              0.8888888888888888,
              "#fdca26"
             ],
             [
              1,
              "#f0f921"
             ]
            ],
            "type": "surface"
           }
          ],
          "table": [
           {
            "cells": {
             "fill": {
              "color": "#EBF0F8"
             },
             "line": {
              "color": "white"
             }
            },
            "header": {
             "fill": {
              "color": "#C8D4E3"
             },
             "line": {
              "color": "white"
             }
            },
            "type": "table"
           }
          ]
         },
         "layout": {
          "annotationdefaults": {
           "arrowcolor": "#2a3f5f",
           "arrowhead": 0,
           "arrowwidth": 1
          },
          "autotypenumbers": "strict",
          "coloraxis": {
           "colorbar": {
            "outlinewidth": 0,
            "ticks": ""
           }
          },
          "colorscale": {
           "diverging": [
            [
             0,
             "#8e0152"
            ],
            [
             0.1,
             "#c51b7d"
            ],
            [
             0.2,
             "#de77ae"
            ],
            [
             0.3,
             "#f1b6da"
            ],
            [
             0.4,
             "#fde0ef"
            ],
            [
             0.5,
             "#f7f7f7"
            ],
            [
             0.6,
             "#e6f5d0"
            ],
            [
             0.7,
             "#b8e186"
            ],
            [
             0.8,
             "#7fbc41"
            ],
            [
             0.9,
             "#4d9221"
            ],
            [
             1,
             "#276419"
            ]
           ],
           "sequential": [
            [
             0,
             "#0d0887"
            ],
            [
             0.1111111111111111,
             "#46039f"
            ],
            [
             0.2222222222222222,
             "#7201a8"
            ],
            [
             0.3333333333333333,
             "#9c179e"
            ],
            [
             0.4444444444444444,
             "#bd3786"
            ],
            [
             0.5555555555555556,
             "#d8576b"
            ],
            [
             0.6666666666666666,
             "#ed7953"
            ],
            [
             0.7777777777777778,
             "#fb9f3a"
            ],
            [
             0.8888888888888888,
             "#fdca26"
            ],
            [
             1,
             "#f0f921"
            ]
           ],
           "sequentialminus": [
            [
             0,
             "#0d0887"
            ],
            [
             0.1111111111111111,
             "#46039f"
            ],
            [
             0.2222222222222222,
             "#7201a8"
            ],
            [
             0.3333333333333333,
             "#9c179e"
            ],
            [
             0.4444444444444444,
             "#bd3786"
            ],
            [
             0.5555555555555556,
             "#d8576b"
            ],
            [
             0.6666666666666666,
             "#ed7953"
            ],
            [
             0.7777777777777778,
             "#fb9f3a"
            ],
            [
             0.8888888888888888,
             "#fdca26"
            ],
            [
             1,
             "#f0f921"
            ]
           ]
          },
          "colorway": [
           "#636efa",
           "#EF553B",
           "#00cc96",
           "#ab63fa",
           "#FFA15A",
           "#19d3f3",
           "#FF6692",
           "#B6E880",
           "#FF97FF",
           "#FECB52"
          ],
          "font": {
           "color": "#2a3f5f"
          },
          "geo": {
           "bgcolor": "white",
           "lakecolor": "white",
           "landcolor": "#E5ECF6",
           "showlakes": true,
           "showland": true,
           "subunitcolor": "white"
          },
          "hoverlabel": {
           "align": "left"
          },
          "hovermode": "closest",
          "mapbox": {
           "style": "light"
          },
          "paper_bgcolor": "white",
          "plot_bgcolor": "#E5ECF6",
          "polar": {
           "angularaxis": {
            "gridcolor": "white",
            "linecolor": "white",
            "ticks": ""
           },
           "bgcolor": "#E5ECF6",
           "radialaxis": {
            "gridcolor": "white",
            "linecolor": "white",
            "ticks": ""
           }
          },
          "scene": {
           "xaxis": {
            "backgroundcolor": "#E5ECF6",
            "gridcolor": "white",
            "gridwidth": 2,
            "linecolor": "white",
            "showbackground": true,
            "ticks": "",
            "zerolinecolor": "white"
           },
           "yaxis": {
            "backgroundcolor": "#E5ECF6",
            "gridcolor": "white",
            "gridwidth": 2,
            "linecolor": "white",
            "showbackground": true,
            "ticks": "",
            "zerolinecolor": "white"
           },
           "zaxis": {
            "backgroundcolor": "#E5ECF6",
            "gridcolor": "white",
            "gridwidth": 2,
            "linecolor": "white",
            "showbackground": true,
            "ticks": "",
            "zerolinecolor": "white"
           }
          },
          "shapedefaults": {
           "line": {
            "color": "#2a3f5f"
           }
          },
          "ternary": {
           "aaxis": {
            "gridcolor": "white",
            "linecolor": "white",
            "ticks": ""
           },
           "baxis": {
            "gridcolor": "white",
            "linecolor": "white",
            "ticks": ""
           },
           "bgcolor": "#E5ECF6",
           "caxis": {
            "gridcolor": "white",
            "linecolor": "white",
            "ticks": ""
           }
          },
          "title": {
           "x": 0.05
          },
          "xaxis": {
           "automargin": true,
           "gridcolor": "white",
           "linecolor": "white",
           "ticks": "",
           "title": {
            "standoff": 15
           },
           "zerolinecolor": "white",
           "zerolinewidth": 2
          },
          "yaxis": {
           "automargin": true,
           "gridcolor": "white",
           "linecolor": "white",
           "ticks": "",
           "title": {
            "standoff": 15
           },
           "zerolinecolor": "white",
           "zerolinewidth": 2
          }
         }
        },
        "title": {
         "text": "Interactions for C"
        },
        "xaxis": {
         "anchor": "y",
         "domain": [
          0,
          1
         ],
         "title": {
          "text": "Residue Index"
         }
        },
        "yaxis": {
         "anchor": "x",
         "domain": [
          0,
          1
         ],
         "range": [
          1.5,
          5.5
         ],
         "title": {
          "text": "Distance (angstroms)"
         }
        }
       }
      }
     },
     "metadata": {},
     "output_type": "display_data"
    },
    {
     "data": {
      "application/vnd.plotly.v1+json": {
       "config": {
        "plotlyServerURL": "https://plot.ly"
       },
       "data": [
        {
         "hovertemplate": "Interacting Chain=ATP<br>Residue Index=%{x}<br>Distance (angstroms)=%{y}<br>residue_one_letter=%{text}<extra></extra>",
         "legendgroup": "ATP",
         "marker": {
          "color": "#d62728",
          "opacity": 0.6,
          "size": 10,
          "symbol": "circle"
         },
         "mode": "markers+text",
         "name": "ATP",
         "orientation": "v",
         "showlegend": true,
         "text": [
          "R",
          "R",
          "P",
          "S",
          "Q",
          "T",
          "G",
          "S",
          "G",
          "K",
          "T",
          "F",
          "S",
          "I",
          "N",
          "H",
          "S",
          "S",
          "D",
          "L",
          "A",
          "G"
         ],
         "textposition": "top center",
         "type": "scatter",
         "x": [
          9,
          11,
          12,
          54,
          86,
          87,
          88,
          89,
          90,
          91,
          92,
          93,
          94,
          98,
          201,
          203,
          204,
          205,
          234,
          235,
          236,
          237
         ],
         "xaxis": "x",
         "y": [
          3.569246768951416,
          3.982978820800781,
          3.732435941696167,
          4.836855411529541,
          4.094184398651123,
          2.651935338973999,
          2.886627674102783,
          3.43104887008667,
          3.0233256816864014,
          2.6939353942871094,
          2.5583138465881348,
          2.6399593353271484,
          4.937469959259033,
          4.3536763191223145,
          2.921260356903076,
          3.9249112606048575,
          2.9984405040740967,
          2.8174519538879395,
          4.700725078582764,
          4.426280975341797,
          4.00129508972168,
          3.006458282470703
         ],
         "yaxis": "y"
        },
        {
         "hovertemplate": "Interacting Chain=alpha-tubulin<br>Residue Index=%{x}<br>Distance (angstroms)=%{y}<br>residue_one_letter=%{text}<extra></extra>",
         "legendgroup": "alpha-tubulin",
         "marker": {
          "color": "#ff7f0e",
          "opacity": 0.6,
          "size": 10,
          "symbol": "circle"
         },
         "mode": "markers+text",
         "name": "alpha-tubulin",
         "orientation": "v",
         "showlegend": true,
         "text": [
          "E",
          "H",
          "S",
          "E",
          "K",
          "V",
          "S",
          "G",
          "A",
          "E",
          "L",
          "K",
          "N",
          "K",
          "S",
          "N",
          "S",
          "E",
          "K",
          "S",
          "R"
         ],
         "textposition": "top center",
         "type": "scatter",
         "x": [
          41,
          44,
          238,
          239,
          240,
          241,
          242,
          245,
          246,
          247,
          251,
          255,
          258,
          259,
          262,
          266,
          314,
          315,
          317,
          318,
          325
         ],
         "xaxis": "x",
         "y": [
          4.005749702453613,
          4.880711078643799,
          2.9375667572021484,
          4.070370674133301,
          2.570711851119995,
          2.935570240020752,
          4.284393787384033,
          4.722970485687256,
          3.6809048652648926,
          3.192683696746826,
          3.905248880386353,
          3.192960500717163,
          3.364166021347046,
          3.338640689849853,
          2.4410901069641118,
          3.356903553009033,
          3.612919569015503,
          4.0840325355529785,
          2.8988373279571533,
          4.425952434539795,
          4.17686939239502
         ],
         "yaxis": "y"
        },
        {
         "hovertemplate": "Interacting Chain=beta-tubulin<br>Residue Index=%{x}<br>Distance (angstroms)=%{y}<br>residue_one_letter=%{text}<extra></extra>",
         "legendgroup": "beta-tubulin",
         "marker": {
          "color": "#2ca02c",
          "opacity": 0.6,
          "size": 10,
          "symbol": "circle"
         },
         "mode": "markers+text",
         "name": "beta-tubulin",
         "orientation": "v",
         "showlegend": true,
         "text": [
          "R",
          "N",
          "K",
          "V",
          "R",
          "E",
          "E",
          "W",
          "E",
          "K",
          "T",
          "H",
          "I",
          "R",
          "D",
          "K",
          "R",
          "R",
          "R"
         ],
         "textposition": "top center",
         "type": "scatter",
         "x": [
          144,
          155,
          157,
          158,
          159,
          160,
          161,
          167,
          169,
          276,
          277,
          278,
          279,
          282,
          283,
          285,
          288,
          324,
          325
         ],
         "xaxis": "x",
         "y": [
          2.402882575988769,
          4.058243751525879,
          3.96750283241272,
          4.342740535736084,
          2.956601142883301,
          3.5802996158599854,
          4.754728317260742,
          3.767197608947754,
          3.4774861335754395,
          3.6612300872802734,
          4.142528057098389,
          2.549652576446533,
          4.618180274963379,
          2.5869598388671875,
          3.117472887039185,
          4.5286054611206055,
          2.9557993412017822,
          3.5333759784698486,
          4.848813533782959
         ],
         "yaxis": "y"
        },
        {
         "hovertemplate": "Interacting Chain=kinesin B<br>Residue Index=%{x}<br>Distance (angstroms)=%{y}<br>residue_one_letter=%{text}<extra></extra>",
         "legendgroup": "kinesin B",
         "marker": {
          "color": "#1f77b4",
          "opacity": 0.6,
          "size": 10,
          "symbol": "circle"
         },
         "mode": "markers+text",
         "name": "kinesin B",
         "orientation": "v",
         "showlegend": true,
         "text": [
          "L",
          "T",
          "A",
          "W",
          "K",
          "R",
          "Y",
          "E",
          "K",
          "K",
          "N",
          "L",
          "K",
          "K",
          "V",
          "L",
          "E",
          "E",
          "L",
          "A",
          "W",
          "R",
          "Q",
          "I",
          "M",
          "L",
          "S"
         ],
         "textposition": "top center",
         "type": "scatter",
         "x": [
          339,
          340,
          341,
          344,
          345,
          347,
          348,
          351,
          352,
          354,
          355,
          358,
          359,
          361,
          362,
          365,
          366,
          368,
          369,
          370,
          372,
          373,
          383,
          384,
          386,
          389,
          393
         ],
         "xaxis": "x",
         "y": [
          3.575457572937012,
          4.0460591316223145,
          3.441230297088623,
          3.355485439300537,
          3.62996768951416,
          3.613661289215088,
          3.297722578048706,
          2.019548177719116,
          4.159988880157471,
          3.6150224208831783,
          2.112589120864868,
          3.0865161418914795,
          3.895521402359009,
          2.5981016159057617,
          2.945112705230713,
          3.5228161811828613,
          3.031104564666748,
          2.8193700313568115,
          2.888695478439331,
          4.039727687835693,
          3.740774631500244,
          2.7218620777130127,
          3.43691635131836,
          2.932560920715332,
          3.032432079315185,
          3.9406580924987793,
          4.594066143035889
         ],
         "yaxis": "y"
        }
       ],
       "layout": {
        "legend": {
         "title": {
          "text": "Interacting Chain"
         },
         "tracegroupgap": 0
        },
        "template": {
         "data": {
          "bar": [
           {
            "error_x": {
             "color": "#2a3f5f"
            },
            "error_y": {
             "color": "#2a3f5f"
            },
            "marker": {
             "line": {
              "color": "#E5ECF6",
              "width": 0.5
             },
             "pattern": {
              "fillmode": "overlay",
              "size": 10,
              "solidity": 0.2
             }
            },
            "type": "bar"
           }
          ],
          "barpolar": [
           {
            "marker": {
             "line": {
              "color": "#E5ECF6",
              "width": 0.5
             },
             "pattern": {
              "fillmode": "overlay",
              "size": 10,
              "solidity": 0.2
             }
            },
            "type": "barpolar"
           }
          ],
          "carpet": [
           {
            "aaxis": {
             "endlinecolor": "#2a3f5f",
             "gridcolor": "white",
             "linecolor": "white",
             "minorgridcolor": "white",
             "startlinecolor": "#2a3f5f"
            },
            "baxis": {
             "endlinecolor": "#2a3f5f",
             "gridcolor": "white",
             "linecolor": "white",
             "minorgridcolor": "white",
             "startlinecolor": "#2a3f5f"
            },
            "type": "carpet"
           }
          ],
          "choropleth": [
           {
            "colorbar": {
             "outlinewidth": 0,
             "ticks": ""
            },
            "type": "choropleth"
           }
          ],
          "contour": [
           {
            "colorbar": {
             "outlinewidth": 0,
             "ticks": ""
            },
            "colorscale": [
             [
              0,
              "#0d0887"
             ],
             [
              0.1111111111111111,
              "#46039f"
             ],
             [
              0.2222222222222222,
              "#7201a8"
             ],
             [
              0.3333333333333333,
              "#9c179e"
             ],
             [
              0.4444444444444444,
              "#bd3786"
             ],
             [
              0.5555555555555556,
              "#d8576b"
             ],
             [
              0.6666666666666666,
              "#ed7953"
             ],
             [
              0.7777777777777778,
              "#fb9f3a"
             ],
             [
              0.8888888888888888,
              "#fdca26"
             ],
             [
              1,
              "#f0f921"
             ]
            ],
            "type": "contour"
           }
          ],
          "contourcarpet": [
           {
            "colorbar": {
             "outlinewidth": 0,
             "ticks": ""
            },
            "type": "contourcarpet"
           }
          ],
          "heatmap": [
           {
            "colorbar": {
             "outlinewidth": 0,
             "ticks": ""
            },
            "colorscale": [
             [
              0,
              "#0d0887"
             ],
             [
              0.1111111111111111,
              "#46039f"
             ],
             [
              0.2222222222222222,
              "#7201a8"
             ],
             [
              0.3333333333333333,
              "#9c179e"
             ],
             [
              0.4444444444444444,
              "#bd3786"
             ],
             [
              0.5555555555555556,
              "#d8576b"
             ],
             [
              0.6666666666666666,
              "#ed7953"
             ],
             [
              0.7777777777777778,
              "#fb9f3a"
             ],
             [
              0.8888888888888888,
              "#fdca26"
             ],
             [
              1,
              "#f0f921"
             ]
            ],
            "type": "heatmap"
           }
          ],
          "heatmapgl": [
           {
            "colorbar": {
             "outlinewidth": 0,
             "ticks": ""
            },
            "colorscale": [
             [
              0,
              "#0d0887"
             ],
             [
              0.1111111111111111,
              "#46039f"
             ],
             [
              0.2222222222222222,
              "#7201a8"
             ],
             [
              0.3333333333333333,
              "#9c179e"
             ],
             [
              0.4444444444444444,
              "#bd3786"
             ],
             [
              0.5555555555555556,
              "#d8576b"
             ],
             [
              0.6666666666666666,
              "#ed7953"
             ],
             [
              0.7777777777777778,
              "#fb9f3a"
             ],
             [
              0.8888888888888888,
              "#fdca26"
             ],
             [
              1,
              "#f0f921"
             ]
            ],
            "type": "heatmapgl"
           }
          ],
          "histogram": [
           {
            "marker": {
             "pattern": {
              "fillmode": "overlay",
              "size": 10,
              "solidity": 0.2
             }
            },
            "type": "histogram"
           }
          ],
          "histogram2d": [
           {
            "colorbar": {
             "outlinewidth": 0,
             "ticks": ""
            },
            "colorscale": [
             [
              0,
              "#0d0887"
             ],
             [
              0.1111111111111111,
              "#46039f"
             ],
             [
              0.2222222222222222,
              "#7201a8"
             ],
             [
              0.3333333333333333,
              "#9c179e"
             ],
             [
              0.4444444444444444,
              "#bd3786"
             ],
             [
              0.5555555555555556,
              "#d8576b"
             ],
             [
              0.6666666666666666,
              "#ed7953"
             ],
             [
              0.7777777777777778,
              "#fb9f3a"
             ],
             [
              0.8888888888888888,
              "#fdca26"
             ],
             [
              1,
              "#f0f921"
             ]
            ],
            "type": "histogram2d"
           }
          ],
          "histogram2dcontour": [
           {
            "colorbar": {
             "outlinewidth": 0,
             "ticks": ""
            },
            "colorscale": [
             [
              0,
              "#0d0887"
             ],
             [
              0.1111111111111111,
              "#46039f"
             ],
             [
              0.2222222222222222,
              "#7201a8"
             ],
             [
              0.3333333333333333,
              "#9c179e"
             ],
             [
              0.4444444444444444,
              "#bd3786"
             ],
             [
              0.5555555555555556,
              "#d8576b"
             ],
             [
              0.6666666666666666,
              "#ed7953"
             ],
             [
              0.7777777777777778,
              "#fb9f3a"
             ],
             [
              0.8888888888888888,
              "#fdca26"
             ],
             [
              1,
              "#f0f921"
             ]
            ],
            "type": "histogram2dcontour"
           }
          ],
          "mesh3d": [
           {
            "colorbar": {
             "outlinewidth": 0,
             "ticks": ""
            },
            "type": "mesh3d"
           }
          ],
          "parcoords": [
           {
            "line": {
             "colorbar": {
              "outlinewidth": 0,
              "ticks": ""
             }
            },
            "type": "parcoords"
           }
          ],
          "pie": [
           {
            "automargin": true,
            "type": "pie"
           }
          ],
          "scatter": [
           {
            "fillpattern": {
             "fillmode": "overlay",
             "size": 10,
             "solidity": 0.2
            },
            "type": "scatter"
           }
          ],
          "scatter3d": [
           {
            "line": {
             "colorbar": {
              "outlinewidth": 0,
              "ticks": ""
             }
            },
            "marker": {
             "colorbar": {
              "outlinewidth": 0,
              "ticks": ""
             }
            },
            "type": "scatter3d"
           }
          ],
          "scattercarpet": [
           {
            "marker": {
             "colorbar": {
              "outlinewidth": 0,
              "ticks": ""
             }
            },
            "type": "scattercarpet"
           }
          ],
          "scattergeo": [
           {
            "marker": {
             "colorbar": {
              "outlinewidth": 0,
              "ticks": ""
             }
            },
            "type": "scattergeo"
           }
          ],
          "scattergl": [
           {
            "marker": {
             "colorbar": {
              "outlinewidth": 0,
              "ticks": ""
             }
            },
            "type": "scattergl"
           }
          ],
          "scattermapbox": [
           {
            "marker": {
             "colorbar": {
              "outlinewidth": 0,
              "ticks": ""
             }
            },
            "type": "scattermapbox"
           }
          ],
          "scatterpolar": [
           {
            "marker": {
             "colorbar": {
              "outlinewidth": 0,
              "ticks": ""
             }
            },
            "type": "scatterpolar"
           }
          ],
          "scatterpolargl": [
           {
            "marker": {
             "colorbar": {
              "outlinewidth": 0,
              "ticks": ""
             }
            },
            "type": "scatterpolargl"
           }
          ],
          "scatterternary": [
           {
            "marker": {
             "colorbar": {
              "outlinewidth": 0,
              "ticks": ""
             }
            },
            "type": "scatterternary"
           }
          ],
          "surface": [
           {
            "colorbar": {
             "outlinewidth": 0,
             "ticks": ""
            },
            "colorscale": [
             [
              0,
              "#0d0887"
             ],
             [
              0.1111111111111111,
              "#46039f"
             ],
             [
              0.2222222222222222,
              "#7201a8"
             ],
             [
              0.3333333333333333,
              "#9c179e"
             ],
             [
              0.4444444444444444,
              "#bd3786"
             ],
             [
              0.5555555555555556,
              "#d8576b"
             ],
             [
              0.6666666666666666,
              "#ed7953"
             ],
             [
              0.7777777777777778,
              "#fb9f3a"
             ],
             [
              0.8888888888888888,
              "#fdca26"
             ],
             [
              1,
              "#f0f921"
             ]
            ],
            "type": "surface"
           }
          ],
          "table": [
           {
            "cells": {
             "fill": {
              "color": "#EBF0F8"
             },
             "line": {
              "color": "white"
             }
            },
            "header": {
             "fill": {
              "color": "#C8D4E3"
             },
             "line": {
              "color": "white"
             }
            },
            "type": "table"
           }
          ]
         },
         "layout": {
          "annotationdefaults": {
           "arrowcolor": "#2a3f5f",
           "arrowhead": 0,
           "arrowwidth": 1
          },
          "autotypenumbers": "strict",
          "coloraxis": {
           "colorbar": {
            "outlinewidth": 0,
            "ticks": ""
           }
          },
          "colorscale": {
           "diverging": [
            [
             0,
             "#8e0152"
            ],
            [
             0.1,
             "#c51b7d"
            ],
            [
             0.2,
             "#de77ae"
            ],
            [
             0.3,
             "#f1b6da"
            ],
            [
             0.4,
             "#fde0ef"
            ],
            [
             0.5,
             "#f7f7f7"
            ],
            [
             0.6,
             "#e6f5d0"
            ],
            [
             0.7,
             "#b8e186"
            ],
            [
             0.8,
             "#7fbc41"
            ],
            [
             0.9,
             "#4d9221"
            ],
            [
             1,
             "#276419"
            ]
           ],
           "sequential": [
            [
             0,
             "#0d0887"
            ],
            [
             0.1111111111111111,
             "#46039f"
            ],
            [
             0.2222222222222222,
             "#7201a8"
            ],
            [
             0.3333333333333333,
             "#9c179e"
            ],
            [
             0.4444444444444444,
             "#bd3786"
            ],
            [
             0.5555555555555556,
             "#d8576b"
            ],
            [
             0.6666666666666666,
             "#ed7953"
            ],
            [
             0.7777777777777778,
             "#fb9f3a"
            ],
            [
             0.8888888888888888,
             "#fdca26"
            ],
            [
             1,
             "#f0f921"
            ]
           ],
           "sequentialminus": [
            [
             0,
             "#0d0887"
            ],
            [
             0.1111111111111111,
             "#46039f"
            ],
            [
             0.2222222222222222,
             "#7201a8"
            ],
            [
             0.3333333333333333,
             "#9c179e"
            ],
            [
             0.4444444444444444,
             "#bd3786"
            ],
            [
             0.5555555555555556,
             "#d8576b"
            ],
            [
             0.6666666666666666,
             "#ed7953"
            ],
            [
             0.7777777777777778,
             "#fb9f3a"
            ],
            [
             0.8888888888888888,
             "#fdca26"
            ],
            [
             1,
             "#f0f921"
            ]
           ]
          },
          "colorway": [
           "#636efa",
           "#EF553B",
           "#00cc96",
           "#ab63fa",
           "#FFA15A",
           "#19d3f3",
           "#FF6692",
           "#B6E880",
           "#FF97FF",
           "#FECB52"
          ],
          "font": {
           "color": "#2a3f5f"
          },
          "geo": {
           "bgcolor": "white",
           "lakecolor": "white",
           "landcolor": "#E5ECF6",
           "showlakes": true,
           "showland": true,
           "subunitcolor": "white"
          },
          "hoverlabel": {
           "align": "left"
          },
          "hovermode": "closest",
          "mapbox": {
           "style": "light"
          },
          "paper_bgcolor": "white",
          "plot_bgcolor": "#E5ECF6",
          "polar": {
           "angularaxis": {
            "gridcolor": "white",
            "linecolor": "white",
            "ticks": ""
           },
           "bgcolor": "#E5ECF6",
           "radialaxis": {
            "gridcolor": "white",
            "linecolor": "white",
            "ticks": ""
           }
          },
          "scene": {
           "xaxis": {
            "backgroundcolor": "#E5ECF6",
            "gridcolor": "white",
            "gridwidth": 2,
            "linecolor": "white",
            "showbackground": true,
            "ticks": "",
            "zerolinecolor": "white"
           },
           "yaxis": {
            "backgroundcolor": "#E5ECF6",
            "gridcolor": "white",
            "gridwidth": 2,
            "linecolor": "white",
            "showbackground": true,
            "ticks": "",
            "zerolinecolor": "white"
           },
           "zaxis": {
            "backgroundcolor": "#E5ECF6",
            "gridcolor": "white",
            "gridwidth": 2,
            "linecolor": "white",
            "showbackground": true,
            "ticks": "",
            "zerolinecolor": "white"
           }
          },
          "shapedefaults": {
           "line": {
            "color": "#2a3f5f"
           }
          },
          "ternary": {
           "aaxis": {
            "gridcolor": "white",
            "linecolor": "white",
            "ticks": ""
           },
           "baxis": {
            "gridcolor": "white",
            "linecolor": "white",
            "ticks": ""
           },
           "bgcolor": "#E5ECF6",
           "caxis": {
            "gridcolor": "white",
            "linecolor": "white",
            "ticks": ""
           }
          },
          "title": {
           "x": 0.05
          },
          "xaxis": {
           "automargin": true,
           "gridcolor": "white",
           "linecolor": "white",
           "ticks": "",
           "title": {
            "standoff": 15
           },
           "zerolinecolor": "white",
           "zerolinewidth": 2
          },
          "yaxis": {
           "automargin": true,
           "gridcolor": "white",
           "linecolor": "white",
           "ticks": "",
           "title": {
            "standoff": 15
           },
           "zerolinecolor": "white",
           "zerolinewidth": 2
          }
         }
        },
        "title": {
         "text": "Interactions for B"
        },
        "xaxis": {
         "anchor": "y",
         "domain": [
          0,
          1
         ],
         "title": {
          "text": "Residue Index"
         }
        },
        "yaxis": {
         "anchor": "x",
         "domain": [
          0,
          1
         ],
         "range": [
          1.5,
          5.5
         ],
         "title": {
          "text": "Distance (angstroms)"
         }
        }
       }
      }
     },
     "metadata": {},
     "output_type": "display_data"
    },
    {
     "data": {
      "application/vnd.plotly.v1+json": {
       "config": {
        "plotlyServerURL": "https://plot.ly"
       },
       "data": [
        {
         "hovertemplate": "Interacting Chain=ATP<br>Residue Index=%{x}<br>Distance (angstroms)=%{y}<br>residue_one_letter=%{text}<extra></extra>",
         "legendgroup": "ATP",
         "marker": {
          "color": "#d62728",
          "opacity": 0.6,
          "size": 10,
          "symbol": "circle"
         },
         "mode": "markers+text",
         "name": "ATP",
         "orientation": "v",
         "showlegend": true,
         "text": [
          "R",
          "R",
          "P",
          "Q",
          "T",
          "G",
          "S",
          "G",
          "K",
          "T",
          "F",
          "I",
          "N",
          "H",
          "S",
          "S",
          "D",
          "L",
          "A",
          "G"
         ],
         "textposition": "top center",
         "type": "scatter",
         "x": [
          9,
          11,
          12,
          86,
          87,
          88,
          89,
          90,
          91,
          92,
          93,
          98,
          201,
          203,
          204,
          205,
          234,
          235,
          236,
          237
         ],
         "xaxis": "x",
         "y": [
          3.804674863815308,
          3.757208585739136,
          3.786924839019776,
          3.8944618701934814,
          2.445828676223755,
          2.870721340179444,
          3.4932973384857178,
          3.3216519355773926,
          2.797406911849976,
          2.594947576522827,
          2.866671562194824,
          4.585196971893311,
          2.9289026260375977,
          3.665812730789185,
          2.7430121898651123,
          2.610603094100952,
          4.689159870147705,
          4.381750106811523,
          3.754117250442505,
          2.72890305519104
         ],
         "yaxis": "y"
        },
        {
         "hovertemplate": "Interacting Chain=alpha-tubulin<br>Residue Index=%{x}<br>Distance (angstroms)=%{y}<br>residue_one_letter=%{text}<extra></extra>",
         "legendgroup": "alpha-tubulin",
         "marker": {
          "color": "#ff7f0e",
          "opacity": 0.6,
          "size": 10,
          "symbol": "circle"
         },
         "mode": "markers+text",
         "name": "alpha-tubulin",
         "orientation": "v",
         "showlegend": true,
         "text": [
          "E",
          "S",
          "E",
          "K",
          "V",
          "S",
          "A",
          "E",
          "L",
          "K",
          "N",
          "K",
          "S",
          "N",
          "K",
          "S",
          "E",
          "K",
          "S",
          "R"
         ],
         "textposition": "top center",
         "type": "scatter",
         "x": [
          41,
          238,
          239,
          240,
          241,
          242,
          246,
          247,
          251,
          255,
          258,
          259,
          262,
          266,
          276,
          314,
          315,
          317,
          318,
          325
         ],
         "xaxis": "x",
         "y": [
          3.623266220092773,
          3.137235164642334,
          4.157551288604736,
          2.532334089279175,
          3.0461292266845703,
          4.281761646270752,
          4.01958703994751,
          3.20214319229126,
          4.094995021820068,
          3.2621634006500244,
          3.473139524459839,
          3.4311411380767822,
          2.4469268321990967,
          3.4346401691436768,
          4.328668594360352,
          3.428264141082764,
          4.213943958282471,
          4.453117370605469,
          4.492513179779053,
          4.245122909545898
         ],
         "yaxis": "y"
        },
        {
         "hovertemplate": "Interacting Chain=beta-tubulin<br>Residue Index=%{x}<br>Distance (angstroms)=%{y}<br>residue_one_letter=%{text}<extra></extra>",
         "legendgroup": "beta-tubulin",
         "marker": {
          "color": "#2ca02c",
          "opacity": 0.6,
          "size": 10,
          "symbol": "circle"
         },
         "mode": "markers+text",
         "name": "beta-tubulin",
         "orientation": "v",
         "showlegend": true,
         "text": [
          "R",
          "N",
          "K",
          "V",
          "R",
          "E",
          "E",
          "W",
          "E",
          "K",
          "T",
          "H",
          "I",
          "R",
          "D",
          "K",
          "R"
         ],
         "textposition": "top center",
         "type": "scatter",
         "x": [
          144,
          155,
          157,
          158,
          159,
          160,
          161,
          167,
          169,
          276,
          277,
          278,
          279,
          282,
          283,
          285,
          288
         ],
         "xaxis": "x",
         "y": [
          2.6694107055664062,
          4.306077003479004,
          3.791224956512451,
          2.847678899765014,
          3.1591155529022217,
          3.432307720184326,
          3.688623189926148,
          3.1071937084198,
          4.76814079284668,
          3.404198169708252,
          3.7841885089874263,
          2.743042469024658,
          4.822246551513672,
          2.9641356468200684,
          3.3226451873779297,
          4.691884517669678,
          4.6488237380981445
         ],
         "yaxis": "y"
        },
        {
         "hovertemplate": "Interacting Chain=kinesin B<br>Residue Index=%{x}<br>Distance (angstroms)=%{y}<br>residue_one_letter=%{text}<extra></extra>",
         "legendgroup": "kinesin B",
         "marker": {
          "color": "#1f77b4",
          "opacity": 0.6,
          "size": 10,
          "symbol": "circle"
         },
         "mode": "markers+text",
         "name": "kinesin B",
         "orientation": "v",
         "showlegend": true,
         "text": [
          "Q",
          "E",
          "R",
          "S",
          "A",
          "L",
          "K",
          "L",
          "L",
          "A",
          "E",
          "E",
          "I",
          "L",
          "K",
          "Y",
          "I",
          "E",
          "L",
          "E",
          "T",
          "V",
          "S",
          "G",
          "V",
          "T",
          "V",
          "S",
          "N",
          "L",
          "K",
          "S",
          "T",
          "D",
          "L",
          "I",
          "L",
          "Q",
          "K",
          "C",
          "L",
          "E",
          "Q",
          "L",
          "K",
          "E",
          "E",
          "K",
          "K",
          "I",
          "L",
          "E",
          "Q",
          "L",
          "E",
          "Q",
          "Q",
          "Q",
          "E",
          "Q",
          "I",
          "Q",
          "D",
          "K",
          "D",
          "Q",
          "E",
          "I",
          "L",
          "N",
          "M",
          "I",
          "S",
          "I",
          "N",
          "L",
          "Y",
          "S",
          "T",
          "E",
          "N",
          "L",
          "N",
          "Q",
          "L",
          "L",
          "K",
          "A",
          "L",
          "S",
          "R",
          "E",
          "A",
          "T",
          "Q",
          "S",
          "T",
          "I",
          "L",
          "N",
          "E",
          "N",
          "I",
          "K",
          "Q",
          "L",
          "L",
          "K",
          "R",
          "I",
          "S",
          "D",
          "I",
          "S",
          "L",
          "V",
          "P"
         ],
         "textposition": "top center",
         "type": "scatter",
         "x": [
          337,
          338,
          339,
          340,
          341,
          344,
          345,
          347,
          348,
          351,
          352,
          354,
          355,
          358,
          359,
          361,
          362,
          364,
          365,
          366,
          367,
          368,
          369,
          370,
          371,
          372,
          373,
          374,
          375,
          376,
          377,
          378,
          444,
          448,
          451,
          452,
          455,
          456,
          458,
          459,
          462,
          463,
          465,
          466,
          469,
          470,
          472,
          473,
          474,
          476,
          477,
          478,
          479,
          480,
          481,
          482,
          483,
          484,
          485,
          486,
          487,
          488,
          489,
          490,
          491,
          492,
          493,
          494,
          497,
          498,
          500,
          501,
          504,
          507,
          508,
          510,
          511,
          514,
          515,
          517,
          518,
          521,
          522,
          524,
          525,
          528,
          529,
          531,
          532,
          535,
          536,
          538,
          539,
          540,
          542,
          543,
          545,
          546,
          549,
          550,
          552,
          553,
          556,
          557,
          559,
          560,
          563,
          564,
          566,
          567,
          570,
          572,
          575,
          577,
          578,
          579,
          580
         ],
         "xaxis": "x",
         "y": [
          4.798990249633789,
          4.012758255004883,
          3.901320695877075,
          4.835926532745361,
          3.257399797439575,
          3.251372575759888,
          3.143322467803955,
          3.6595265865325928,
          3.5464296340942383,
          3.5779178142547607,
          4.839441299438477,
          2.680506467819214,
          3.565831422805786,
          3.195423126220703,
          2.8551688194274902,
          2.626908779144287,
          3.353412628173828,
          4.00211238861084,
          3.349748373031616,
          2.058220148086548,
          4.972639560699463,
          3.8411672115325928,
          2.540183782577514,
          2.2036492824554443,
          1.944669365882873,
          3.2914397716522217,
          2.150291681289673,
          3.500068426132202,
          2.3285107612609863,
          2.0620365142822266,
          2.130859613418579,
          4.666618824005127,
          3.201058387756348,
          3.55526065826416,
          3.865737438201904,
          3.8437905311584473,
          3.8798108100891113,
          4.509583473205566,
          4.533743858337402,
          3.298398733139038,
          3.336403608322144,
          4.7703375816345215,
          3.90165376663208,
          3.275743246078491,
          2.2516140937805176,
          2.332693099975586,
          2.5725858211517334,
          2.5785982608795166,
          4.643187522888184,
          3.145998954772949,
          2.93733811378479,
          3.651583433151245,
          3.668178081512451,
          2.976824998855591,
          2.2621865272521973,
          4.782148361206055,
          2.819179058074951,
          2.875329732894897,
          3.431901693344116,
          3.5163111686706543,
          3.507715940475464,
          4.56335973739624,
          2.7148749828338623,
          2.4207026958465576,
          2.2742743492126465,
          3.734074831008911,
          3.297994375228882,
          3.477424144744873,
          2.969481468200684,
          3.3680031299591064,
          3.780231714248657,
          2.8860204219818115,
          3.212937831878662,
          3.76723051071167,
          3.6749846935272217,
          3.5281031131744385,
          3.467005491256714,
          2.8904824256896973,
          3.6981360912323,
          3.6673460006713863,
          2.388681173324585,
          2.9509685039520264,
          3.3735640048980717,
          3.7314822673797607,
          3.442083835601806,
          3.442258358001709,
          3.873342990875244,
          3.366805076599121,
          3.3349082469940186,
          2.8525116443634038,
          3.573026418685913,
          4.61549186706543,
          2.832860946655273,
          4.714763641357422,
          2.8061490058898926,
          3.795267820358277,
          4.153234004974365,
          3.3164660930633545,
          3.222097635269165,
          3.1974427700042725,
          2.805506944656372,
          2.624117136001587,
          3.1129398345947266,
          2.8484110832214355,
          4.126492500305176,
          3.111635446548462,
          3.314563035964966,
          4.732616901397705,
          3.2671501636505127,
          3.626165628433228,
          4.83938455581665,
          4.602424621582031,
          1.838672518730164,
          4.29019021987915,
          3.2218291759490967,
          4.063513278961182,
          3.82698130607605
         ],
         "yaxis": "y"
        }
       ],
       "layout": {
        "legend": {
         "title": {
          "text": "Interacting Chain"
         },
         "tracegroupgap": 0
        },
        "template": {
         "data": {
          "bar": [
           {
            "error_x": {
             "color": "#2a3f5f"
            },
            "error_y": {
             "color": "#2a3f5f"
            },
            "marker": {
             "line": {
              "color": "#E5ECF6",
              "width": 0.5
             },
             "pattern": {
              "fillmode": "overlay",
              "size": 10,
              "solidity": 0.2
             }
            },
            "type": "bar"
           }
          ],
          "barpolar": [
           {
            "marker": {
             "line": {
              "color": "#E5ECF6",
              "width": 0.5
             },
             "pattern": {
              "fillmode": "overlay",
              "size": 10,
              "solidity": 0.2
             }
            },
            "type": "barpolar"
           }
          ],
          "carpet": [
           {
            "aaxis": {
             "endlinecolor": "#2a3f5f",
             "gridcolor": "white",
             "linecolor": "white",
             "minorgridcolor": "white",
             "startlinecolor": "#2a3f5f"
            },
            "baxis": {
             "endlinecolor": "#2a3f5f",
             "gridcolor": "white",
             "linecolor": "white",
             "minorgridcolor": "white",
             "startlinecolor": "#2a3f5f"
            },
            "type": "carpet"
           }
          ],
          "choropleth": [
           {
            "colorbar": {
             "outlinewidth": 0,
             "ticks": ""
            },
            "type": "choropleth"
           }
          ],
          "contour": [
           {
            "colorbar": {
             "outlinewidth": 0,
             "ticks": ""
            },
            "colorscale": [
             [
              0,
              "#0d0887"
             ],
             [
              0.1111111111111111,
              "#46039f"
             ],
             [
              0.2222222222222222,
              "#7201a8"
             ],
             [
              0.3333333333333333,
              "#9c179e"
             ],
             [
              0.4444444444444444,
              "#bd3786"
             ],
             [
              0.5555555555555556,
              "#d8576b"
             ],
             [
              0.6666666666666666,
              "#ed7953"
             ],
             [
              0.7777777777777778,
              "#fb9f3a"
             ],
             [
              0.8888888888888888,
              "#fdca26"
             ],
             [
              1,
              "#f0f921"
             ]
            ],
            "type": "contour"
           }
          ],
          "contourcarpet": [
           {
            "colorbar": {
             "outlinewidth": 0,
             "ticks": ""
            },
            "type": "contourcarpet"
           }
          ],
          "heatmap": [
           {
            "colorbar": {
             "outlinewidth": 0,
             "ticks": ""
            },
            "colorscale": [
             [
              0,
              "#0d0887"
             ],
             [
              0.1111111111111111,
              "#46039f"
             ],
             [
              0.2222222222222222,
              "#7201a8"
             ],
             [
              0.3333333333333333,
              "#9c179e"
             ],
             [
              0.4444444444444444,
              "#bd3786"
             ],
             [
              0.5555555555555556,
              "#d8576b"
             ],
             [
              0.6666666666666666,
              "#ed7953"
             ],
             [
              0.7777777777777778,
              "#fb9f3a"
             ],
             [
              0.8888888888888888,
              "#fdca26"
             ],
             [
              1,
              "#f0f921"
             ]
            ],
            "type": "heatmap"
           }
          ],
          "heatmapgl": [
           {
            "colorbar": {
             "outlinewidth": 0,
             "ticks": ""
            },
            "colorscale": [
             [
              0,
              "#0d0887"
             ],
             [
              0.1111111111111111,
              "#46039f"
             ],
             [
              0.2222222222222222,
              "#7201a8"
             ],
             [
              0.3333333333333333,
              "#9c179e"
             ],
             [
              0.4444444444444444,
              "#bd3786"
             ],
             [
              0.5555555555555556,
              "#d8576b"
             ],
             [
              0.6666666666666666,
              "#ed7953"
             ],
             [
              0.7777777777777778,
              "#fb9f3a"
             ],
             [
              0.8888888888888888,
              "#fdca26"
             ],
             [
              1,
              "#f0f921"
             ]
            ],
            "type": "heatmapgl"
           }
          ],
          "histogram": [
           {
            "marker": {
             "pattern": {
              "fillmode": "overlay",
              "size": 10,
              "solidity": 0.2
             }
            },
            "type": "histogram"
           }
          ],
          "histogram2d": [
           {
            "colorbar": {
             "outlinewidth": 0,
             "ticks": ""
            },
            "colorscale": [
             [
              0,
              "#0d0887"
             ],
             [
              0.1111111111111111,
              "#46039f"
             ],
             [
              0.2222222222222222,
              "#7201a8"
             ],
             [
              0.3333333333333333,
              "#9c179e"
             ],
             [
              0.4444444444444444,
              "#bd3786"
             ],
             [
              0.5555555555555556,
              "#d8576b"
             ],
             [
              0.6666666666666666,
              "#ed7953"
             ],
             [
              0.7777777777777778,
              "#fb9f3a"
             ],
             [
              0.8888888888888888,
              "#fdca26"
             ],
             [
              1,
              "#f0f921"
             ]
            ],
            "type": "histogram2d"
           }
          ],
          "histogram2dcontour": [
           {
            "colorbar": {
             "outlinewidth": 0,
             "ticks": ""
            },
            "colorscale": [
             [
              0,
              "#0d0887"
             ],
             [
              0.1111111111111111,
              "#46039f"
             ],
             [
              0.2222222222222222,
              "#7201a8"
             ],
             [
              0.3333333333333333,
              "#9c179e"
             ],
             [
              0.4444444444444444,
              "#bd3786"
             ],
             [
              0.5555555555555556,
              "#d8576b"
             ],
             [
              0.6666666666666666,
              "#ed7953"
             ],
             [
              0.7777777777777778,
              "#fb9f3a"
             ],
             [
              0.8888888888888888,
              "#fdca26"
             ],
             [
              1,
              "#f0f921"
             ]
            ],
            "type": "histogram2dcontour"
           }
          ],
          "mesh3d": [
           {
            "colorbar": {
             "outlinewidth": 0,
             "ticks": ""
            },
            "type": "mesh3d"
           }
          ],
          "parcoords": [
           {
            "line": {
             "colorbar": {
              "outlinewidth": 0,
              "ticks": ""
             }
            },
            "type": "parcoords"
           }
          ],
          "pie": [
           {
            "automargin": true,
            "type": "pie"
           }
          ],
          "scatter": [
           {
            "fillpattern": {
             "fillmode": "overlay",
             "size": 10,
             "solidity": 0.2
            },
            "type": "scatter"
           }
          ],
          "scatter3d": [
           {
            "line": {
             "colorbar": {
              "outlinewidth": 0,
              "ticks": ""
             }
            },
            "marker": {
             "colorbar": {
              "outlinewidth": 0,
              "ticks": ""
             }
            },
            "type": "scatter3d"
           }
          ],
          "scattercarpet": [
           {
            "marker": {
             "colorbar": {
              "outlinewidth": 0,
              "ticks": ""
             }
            },
            "type": "scattercarpet"
           }
          ],
          "scattergeo": [
           {
            "marker": {
             "colorbar": {
              "outlinewidth": 0,
              "ticks": ""
             }
            },
            "type": "scattergeo"
           }
          ],
          "scattergl": [
           {
            "marker": {
             "colorbar": {
              "outlinewidth": 0,
              "ticks": ""
             }
            },
            "type": "scattergl"
           }
          ],
          "scattermapbox": [
           {
            "marker": {
             "colorbar": {
              "outlinewidth": 0,
              "ticks": ""
             }
            },
            "type": "scattermapbox"
           }
          ],
          "scatterpolar": [
           {
            "marker": {
             "colorbar": {
              "outlinewidth": 0,
              "ticks": ""
             }
            },
            "type": "scatterpolar"
           }
          ],
          "scatterpolargl": [
           {
            "marker": {
             "colorbar": {
              "outlinewidth": 0,
              "ticks": ""
             }
            },
            "type": "scatterpolargl"
           }
          ],
          "scatterternary": [
           {
            "marker": {
             "colorbar": {
              "outlinewidth": 0,
              "ticks": ""
             }
            },
            "type": "scatterternary"
           }
          ],
          "surface": [
           {
            "colorbar": {
             "outlinewidth": 0,
             "ticks": ""
            },
            "colorscale": [
             [
              0,
              "#0d0887"
             ],
             [
              0.1111111111111111,
              "#46039f"
             ],
             [
              0.2222222222222222,
              "#7201a8"
             ],
             [
              0.3333333333333333,
              "#9c179e"
             ],
             [
              0.4444444444444444,
              "#bd3786"
             ],
             [
              0.5555555555555556,
              "#d8576b"
             ],
             [
              0.6666666666666666,
              "#ed7953"
             ],
             [
              0.7777777777777778,
              "#fb9f3a"
             ],
             [
              0.8888888888888888,
              "#fdca26"
             ],
             [
              1,
              "#f0f921"
             ]
            ],
            "type": "surface"
           }
          ],
          "table": [
           {
            "cells": {
             "fill": {
              "color": "#EBF0F8"
             },
             "line": {
              "color": "white"
             }
            },
            "header": {
             "fill": {
              "color": "#C8D4E3"
             },
             "line": {
              "color": "white"
             }
            },
            "type": "table"
           }
          ]
         },
         "layout": {
          "annotationdefaults": {
           "arrowcolor": "#2a3f5f",
           "arrowhead": 0,
           "arrowwidth": 1
          },
          "autotypenumbers": "strict",
          "coloraxis": {
           "colorbar": {
            "outlinewidth": 0,
            "ticks": ""
           }
          },
          "colorscale": {
           "diverging": [
            [
             0,
             "#8e0152"
            ],
            [
             0.1,
             "#c51b7d"
            ],
            [
             0.2,
             "#de77ae"
            ],
            [
             0.3,
             "#f1b6da"
            ],
            [
             0.4,
             "#fde0ef"
            ],
            [
             0.5,
             "#f7f7f7"
            ],
            [
             0.6,
             "#e6f5d0"
            ],
            [
             0.7,
             "#b8e186"
            ],
            [
             0.8,
             "#7fbc41"
            ],
            [
             0.9,
             "#4d9221"
            ],
            [
             1,
             "#276419"
            ]
           ],
           "sequential": [
            [
             0,
             "#0d0887"
            ],
            [
             0.1111111111111111,
             "#46039f"
            ],
            [
             0.2222222222222222,
             "#7201a8"
            ],
            [
             0.3333333333333333,
             "#9c179e"
            ],
            [
             0.4444444444444444,
             "#bd3786"
            ],
            [
             0.5555555555555556,
             "#d8576b"
            ],
            [
             0.6666666666666666,
             "#ed7953"
            ],
            [
             0.7777777777777778,
             "#fb9f3a"
            ],
            [
             0.8888888888888888,
             "#fdca26"
            ],
            [
             1,
             "#f0f921"
            ]
           ],
           "sequentialminus": [
            [
             0,
             "#0d0887"
            ],
            [
             0.1111111111111111,
             "#46039f"
            ],
            [
             0.2222222222222222,
             "#7201a8"
            ],
            [
             0.3333333333333333,
             "#9c179e"
            ],
            [
             0.4444444444444444,
             "#bd3786"
            ],
            [
             0.5555555555555556,
             "#d8576b"
            ],
            [
             0.6666666666666666,
             "#ed7953"
            ],
            [
             0.7777777777777778,
             "#fb9f3a"
            ],
            [
             0.8888888888888888,
             "#fdca26"
            ],
            [
             1,
             "#f0f921"
            ]
           ]
          },
          "colorway": [
           "#636efa",
           "#EF553B",
           "#00cc96",
           "#ab63fa",
           "#FFA15A",
           "#19d3f3",
           "#FF6692",
           "#B6E880",
           "#FF97FF",
           "#FECB52"
          ],
          "font": {
           "color": "#2a3f5f"
          },
          "geo": {
           "bgcolor": "white",
           "lakecolor": "white",
           "landcolor": "#E5ECF6",
           "showlakes": true,
           "showland": true,
           "subunitcolor": "white"
          },
          "hoverlabel": {
           "align": "left"
          },
          "hovermode": "closest",
          "mapbox": {
           "style": "light"
          },
          "paper_bgcolor": "white",
          "plot_bgcolor": "#E5ECF6",
          "polar": {
           "angularaxis": {
            "gridcolor": "white",
            "linecolor": "white",
            "ticks": ""
           },
           "bgcolor": "#E5ECF6",
           "radialaxis": {
            "gridcolor": "white",
            "linecolor": "white",
            "ticks": ""
           }
          },
          "scene": {
           "xaxis": {
            "backgroundcolor": "#E5ECF6",
            "gridcolor": "white",
            "gridwidth": 2,
            "linecolor": "white",
            "showbackground": true,
            "ticks": "",
            "zerolinecolor": "white"
           },
           "yaxis": {
            "backgroundcolor": "#E5ECF6",
            "gridcolor": "white",
            "gridwidth": 2,
            "linecolor": "white",
            "showbackground": true,
            "ticks": "",
            "zerolinecolor": "white"
           },
           "zaxis": {
            "backgroundcolor": "#E5ECF6",
            "gridcolor": "white",
            "gridwidth": 2,
            "linecolor": "white",
            "showbackground": true,
            "ticks": "",
            "zerolinecolor": "white"
           }
          },
          "shapedefaults": {
           "line": {
            "color": "#2a3f5f"
           }
          },
          "ternary": {
           "aaxis": {
            "gridcolor": "white",
            "linecolor": "white",
            "ticks": ""
           },
           "baxis": {
            "gridcolor": "white",
            "linecolor": "white",
            "ticks": ""
           },
           "bgcolor": "#E5ECF6",
           "caxis": {
            "gridcolor": "white",
            "linecolor": "white",
            "ticks": ""
           }
          },
          "title": {
           "x": 0.05
          },
          "xaxis": {
           "automargin": true,
           "gridcolor": "white",
           "linecolor": "white",
           "ticks": "",
           "title": {
            "standoff": 15
           },
           "zerolinecolor": "white",
           "zerolinewidth": 2
          },
          "yaxis": {
           "automargin": true,
           "gridcolor": "white",
           "linecolor": "white",
           "ticks": "",
           "title": {
            "standoff": 15
           },
           "zerolinecolor": "white",
           "zerolinewidth": 2
          }
         }
        },
        "title": {
         "text": "Interactions for F"
        },
        "xaxis": {
         "anchor": "y",
         "domain": [
          0,
          1
         ],
         "title": {
          "text": "Residue Index"
         }
        },
        "yaxis": {
         "anchor": "x",
         "domain": [
          0,
          1
         ],
         "range": [
          1.5,
          5.5
         ],
         "title": {
          "text": "Distance (angstroms)"
         }
        }
       }
      }
     },
     "metadata": {},
     "output_type": "display_data"
    },
    {
     "data": {
      "application/vnd.plotly.v1+json": {
       "config": {
        "plotlyServerURL": "https://plot.ly"
       },
       "data": [
        {
         "hovertemplate": "Interacting Chain=kinesin B<br>Residue Index=%{x}<br>Distance (angstroms)=%{y}<br>residue_one_letter=%{text}<extra></extra>",
         "legendgroup": "kinesin B",
         "marker": {
          "color": "#1f77b4",
          "opacity": 0.6,
          "size": 10,
          "symbol": "circle"
         },
         "mode": "markers+text",
         "name": "kinesin B",
         "orientation": "v",
         "showlegend": true,
         "text": [
          "A",
          "R",
          "I",
          "Q",
          "R",
          "S",
          "A",
          "L",
          "K",
          "L",
          "L",
          "A",
          "E",
          "N",
          "E",
          "I",
          "E",
          "L",
          "K",
          "Y",
          "I",
          "E",
          "L",
          "E",
          "T",
          "V",
          "S",
          "G",
          "V",
          "T",
          "V",
          "S",
          "N",
          "L",
          "K",
          "T",
          "S",
          "D",
          "L",
          "I",
          "L",
          "Q",
          "K",
          "C",
          "L",
          "E",
          "Q",
          "L",
          "K",
          "E",
          "E",
          "K",
          "I",
          "L",
          "Q",
          "L",
          "Q",
          "Q",
          "Q",
          "I",
          "K",
          "D",
          "E",
          "I",
          "E",
          "L",
          "N",
          "M",
          "I",
          "E",
          "S",
          "I",
          "N",
          "L",
          "Y",
          "S",
          "T",
          "E",
          "N",
          "L",
          "N",
          "Q",
          "L",
          "L",
          "K",
          "A",
          "L",
          "S",
          "R",
          "E",
          "A",
          "T",
          "Q",
          "S",
          "T",
          "I",
          "L",
          "N",
          "E",
          "N",
          "I",
          "K",
          "Q",
          "L",
          "L",
          "K",
          "R",
          "I",
          "S",
          "D",
          "I",
          "L",
          "V",
          "P"
         ],
         "textposition": "top center",
         "type": "scatter",
         "x": [
          3,
          5,
          7,
          341,
          343,
          344,
          345,
          348,
          349,
          351,
          352,
          355,
          356,
          357,
          358,
          359,
          360,
          362,
          363,
          365,
          366,
          368,
          369,
          370,
          371,
          372,
          373,
          374,
          375,
          376,
          377,
          378,
          379,
          380,
          381,
          448,
          449,
          452,
          455,
          456,
          459,
          460,
          462,
          463,
          466,
          467,
          469,
          470,
          473,
          474,
          476,
          477,
          480,
          481,
          483,
          484,
          487,
          488,
          490,
          491,
          494,
          495,
          497,
          498,
          499,
          501,
          502,
          504,
          505,
          506,
          508,
          511,
          512,
          514,
          515,
          518,
          519,
          521,
          522,
          525,
          526,
          528,
          529,
          532,
          533,
          535,
          536,
          539,
          540,
          542,
          543,
          544,
          546,
          547,
          549,
          550,
          553,
          554,
          556,
          557,
          560,
          561,
          563,
          564,
          567,
          568,
          570,
          571,
          574,
          576,
          579,
          582,
          583,
          584
         ],
         "xaxis": "x",
         "y": [
          4.28240442276001,
          2.288177728652954,
          3.2568471431732178,
          4.014516353607178,
          3.6205999851226807,
          4.576573848724365,
          3.203857421875,
          3.119464159011841,
          4.133494377136231,
          3.650285005569458,
          3.651595115661621,
          3.58591890335083,
          4.014038562774658,
          3.9841344356536874,
          2.804966688156128,
          3.471765518188477,
          3.4545106887817383,
          3.292938232421875,
          2.597656011581421,
          2.7324297428131104,
          3.309483528137207,
          4.088531494140625,
          3.346857786178589,
          2.971897840499878,
          4.951761722564697,
          2.864408493041992,
          3.167729377746582,
          3.03800892829895,
          3.3071467876434326,
          3.5582003593444824,
          2.64219069480896,
          2.237579584121704,
          4.495859146118164,
          2.6307175159454346,
          4.369974613189697,
          2.4010727405548096,
          4.41029691696167,
          2.55458402633667,
          3.8569915294647217,
          3.587455987930298,
          3.789386034011841,
          3.925520181655884,
          2.725965738296509,
          3.074404239654541,
          3.202876567840576,
          2.698395252227783,
          3.370429992675781,
          3.220744132995605,
          2.637542963027954,
          2.675004720687866,
          2.682976722717285,
          2.5781707763671875,
          3.2757787704467773,
          4.011948108673096,
          3.732830286026001,
          3.1511013507843018,
          3.112752676010132,
          3.526607036590576,
          3.69913649559021,
          2.9505810737609863,
          2.6145834922790527,
          2.5600502490997314,
          3.5178678035736084,
          3.473781108856201,
          3.436213731765747,
          2.9091176986694336,
          3.751731395721436,
          3.9300243854522714,
          2.7152349948883057,
          4.823134422302246,
          2.5077805519104004,
          3.383642673492432,
          3.453747272491455,
          3.3691346645355225,
          3.320207118988037,
          2.7951393127441406,
          3.483128309249878,
          3.4083967208862305,
          2.843515157699585,
          2.6847949028015137,
          3.2622361183166504,
          3.5237390995025635,
          3.4392147064208984,
          3.566391706466675,
          3.8601696491241455,
          3.381823301315308,
          3.4097769260406494,
          2.7760608196258545,
          3.4718329906463623,
          4.544374465942383,
          2.7141902446746826,
          4.663387298583984,
          2.7301933765411377,
          3.8103315830230713,
          4.150829315185547,
          3.38287353515625,
          3.1132497787475586,
          3.163304328918457,
          2.736316680908203,
          2.7303507328033447,
          3.281879186630249,
          2.712357997894287,
          4.140130043029785,
          3.139003038406372,
          3.4994213581085205,
          4.823665618896484,
          3.321276426315308,
          3.483062982559204,
          4.40178918838501,
          4.2202229499816895,
          2.7638721466064453,
          3.4955027103424072,
          4.860862255096436,
          4.437824249267578
         ],
         "yaxis": "y"
        },
        {
         "hovertemplate": "Interacting Chain=ATP<br>Residue Index=%{x}<br>Distance (angstroms)=%{y}<br>residue_one_letter=%{text}<extra></extra>",
         "legendgroup": "ATP",
         "marker": {
          "color": "#d62728",
          "opacity": 0.6,
          "size": 10,
          "symbol": "circle"
         },
         "mode": "markers+text",
         "name": "ATP",
         "orientation": "v",
         "showlegend": true,
         "text": [
          "R",
          "R",
          "P",
          "P",
          "Q",
          "T",
          "S",
          "S",
          "G",
          "K",
          "T",
          "H",
          "N",
          "E",
          "S",
          "S",
          "D"
         ],
         "textposition": "top center",
         "type": "scatter",
         "x": [
          18,
          20,
          21,
          61,
          93,
          94,
          95,
          96,
          97,
          98,
          99,
          100,
          205,
          207,
          208,
          209,
          238
         ],
         "xaxis": "x",
         "y": [
          4.010494709014893,
          3.936801671981812,
          3.849641799926758,
          4.964402198791504,
          3.909315586090088,
          3.833344221115112,
          2.845066547393799,
          3.353775978088379,
          3.051965475082397,
          2.852047920227051,
          2.679889917373657,
          2.8435370922088623,
          3.020593404769897,
          3.715853452682495,
          4.979607105255127,
          4.207287788391113,
          4.655192852020264
         ],
         "yaxis": "y"
        },
        {
         "hovertemplate": "Interacting Chain=beta-tubulin<br>Residue Index=%{x}<br>Distance (angstroms)=%{y}<br>residue_one_letter=%{text}<extra></extra>",
         "legendgroup": "beta-tubulin",
         "marker": {
          "color": "#2ca02c",
          "opacity": 0.6,
          "size": 10,
          "symbol": "circle"
         },
         "mode": "markers+text",
         "name": "beta-tubulin",
         "orientation": "v",
         "showlegend": true,
         "text": [
          "K",
          "K",
          "N",
          "V",
          "H",
          "E",
          "D",
          "K",
          "R",
          "K",
          "K",
          "S",
          "T",
          "H",
          "I",
          "R",
          "D",
          "R",
          "R",
          "I",
          "N",
          "I",
          "S",
          "N",
          "N",
          "S",
          "Q",
          "N",
          "S",
          "V"
         ],
         "textposition": "top center",
         "type": "scatter",
         "x": [
          51,
          148,
          159,
          162,
          163,
          164,
          165,
          166,
          168,
          173,
          279,
          280,
          281,
          282,
          283,
          286,
          287,
          292,
          329,
          498,
          502,
          505,
          508,
          509,
          512,
          513,
          516,
          520,
          523,
          527
         ],
         "xaxis": "x",
         "y": [
          4.610074043273926,
          2.9083352088928223,
          3.351318597793579,
          2.89745569229126,
          3.010080099105835,
          3.000507354736328,
          3.167180061340332,
          3.530160903930664,
          3.5138494968414307,
          2.809009790420532,
          3.492910146713257,
          3.799872875213623,
          3.455217838287353,
          2.8003993034362797,
          4.741998672485352,
          2.383284330368042,
          3.2506580352783203,
          4.595119476318359,
          3.689832925796509,
          2.844846248626709,
          2.4105093479156494,
          4.172808170318604,
          4.809151649475098,
          2.51025128364563,
          3.1129674911499023,
          2.892826557159424,
          2.757539987564087,
          4.087538242340088,
          3.2398552894592285,
          4.603064060211182
         ],
         "yaxis": "y"
        },
        {
         "hovertemplate": "Interacting Chain=alpha-tubulin<br>Residue Index=%{x}<br>Distance (angstroms)=%{y}<br>residue_one_letter=%{text}<extra></extra>",
         "legendgroup": "alpha-tubulin",
         "marker": {
          "color": "#ff7f0e",
          "opacity": 0.6,
          "size": 10,
          "symbol": "circle"
         },
         "mode": "markers+text",
         "name": "alpha-tubulin",
         "orientation": "v",
         "showlegend": true,
         "text": [
          "S",
          "E",
          "K",
          "I",
          "S",
          "A",
          "Q",
          "L",
          "K",
          "N",
          "K",
          "S",
          "N",
          "N",
          "A",
          "E",
          "S",
          "R",
          "R"
         ],
         "textposition": "top center",
         "type": "scatter",
         "x": [
          242,
          243,
          244,
          245,
          246,
          250,
          251,
          255,
          259,
          262,
          263,
          266,
          270,
          273,
          318,
          319,
          322,
          325,
          329
         ],
         "xaxis": "x",
         "y": [
          3.304316759109497,
          4.460018634796143,
          2.541215419769287,
          2.9666144847869877,
          4.663649559020996,
          3.5587093830108643,
          3.9523887634277344,
          4.121294975280762,
          3.332392692565918,
          3.5178682804107666,
          3.414691209793091,
          2.565122365951538,
          3.366017818450928,
          4.258118629455566,
          3.345468521118164,
          4.334173679351807,
          4.753044605255127,
          2.820930957794189,
          4.628058433532715
         ],
         "yaxis": "y"
        }
       ],
       "layout": {
        "legend": {
         "title": {
          "text": "Interacting Chain"
         },
         "tracegroupgap": 0
        },
        "template": {
         "data": {
          "bar": [
           {
            "error_x": {
             "color": "#2a3f5f"
            },
            "error_y": {
             "color": "#2a3f5f"
            },
            "marker": {
             "line": {
              "color": "#E5ECF6",
              "width": 0.5
             },
             "pattern": {
              "fillmode": "overlay",
              "size": 10,
              "solidity": 0.2
             }
            },
            "type": "bar"
           }
          ],
          "barpolar": [
           {
            "marker": {
             "line": {
              "color": "#E5ECF6",
              "width": 0.5
             },
             "pattern": {
              "fillmode": "overlay",
              "size": 10,
              "solidity": 0.2
             }
            },
            "type": "barpolar"
           }
          ],
          "carpet": [
           {
            "aaxis": {
             "endlinecolor": "#2a3f5f",
             "gridcolor": "white",
             "linecolor": "white",
             "minorgridcolor": "white",
             "startlinecolor": "#2a3f5f"
            },
            "baxis": {
             "endlinecolor": "#2a3f5f",
             "gridcolor": "white",
             "linecolor": "white",
             "minorgridcolor": "white",
             "startlinecolor": "#2a3f5f"
            },
            "type": "carpet"
           }
          ],
          "choropleth": [
           {
            "colorbar": {
             "outlinewidth": 0,
             "ticks": ""
            },
            "type": "choropleth"
           }
          ],
          "contour": [
           {
            "colorbar": {
             "outlinewidth": 0,
             "ticks": ""
            },
            "colorscale": [
             [
              0,
              "#0d0887"
             ],
             [
              0.1111111111111111,
              "#46039f"
             ],
             [
              0.2222222222222222,
              "#7201a8"
             ],
             [
              0.3333333333333333,
              "#9c179e"
             ],
             [
              0.4444444444444444,
              "#bd3786"
             ],
             [
              0.5555555555555556,
              "#d8576b"
             ],
             [
              0.6666666666666666,
              "#ed7953"
             ],
             [
              0.7777777777777778,
              "#fb9f3a"
             ],
             [
              0.8888888888888888,
              "#fdca26"
             ],
             [
              1,
              "#f0f921"
             ]
            ],
            "type": "contour"
           }
          ],
          "contourcarpet": [
           {
            "colorbar": {
             "outlinewidth": 0,
             "ticks": ""
            },
            "type": "contourcarpet"
           }
          ],
          "heatmap": [
           {
            "colorbar": {
             "outlinewidth": 0,
             "ticks": ""
            },
            "colorscale": [
             [
              0,
              "#0d0887"
             ],
             [
              0.1111111111111111,
              "#46039f"
             ],
             [
              0.2222222222222222,
              "#7201a8"
             ],
             [
              0.3333333333333333,
              "#9c179e"
             ],
             [
              0.4444444444444444,
              "#bd3786"
             ],
             [
              0.5555555555555556,
              "#d8576b"
             ],
             [
              0.6666666666666666,
              "#ed7953"
             ],
             [
              0.7777777777777778,
              "#fb9f3a"
             ],
             [
              0.8888888888888888,
              "#fdca26"
             ],
             [
              1,
              "#f0f921"
             ]
            ],
            "type": "heatmap"
           }
          ],
          "heatmapgl": [
           {
            "colorbar": {
             "outlinewidth": 0,
             "ticks": ""
            },
            "colorscale": [
             [
              0,
              "#0d0887"
             ],
             [
              0.1111111111111111,
              "#46039f"
             ],
             [
              0.2222222222222222,
              "#7201a8"
             ],
             [
              0.3333333333333333,
              "#9c179e"
             ],
             [
              0.4444444444444444,
              "#bd3786"
             ],
             [
              0.5555555555555556,
              "#d8576b"
             ],
             [
              0.6666666666666666,
              "#ed7953"
             ],
             [
              0.7777777777777778,
              "#fb9f3a"
             ],
             [
              0.8888888888888888,
              "#fdca26"
             ],
             [
              1,
              "#f0f921"
             ]
            ],
            "type": "heatmapgl"
           }
          ],
          "histogram": [
           {
            "marker": {
             "pattern": {
              "fillmode": "overlay",
              "size": 10,
              "solidity": 0.2
             }
            },
            "type": "histogram"
           }
          ],
          "histogram2d": [
           {
            "colorbar": {
             "outlinewidth": 0,
             "ticks": ""
            },
            "colorscale": [
             [
              0,
              "#0d0887"
             ],
             [
              0.1111111111111111,
              "#46039f"
             ],
             [
              0.2222222222222222,
              "#7201a8"
             ],
             [
              0.3333333333333333,
              "#9c179e"
             ],
             [
              0.4444444444444444,
              "#bd3786"
             ],
             [
              0.5555555555555556,
              "#d8576b"
             ],
             [
              0.6666666666666666,
              "#ed7953"
             ],
             [
              0.7777777777777778,
              "#fb9f3a"
             ],
             [
              0.8888888888888888,
              "#fdca26"
             ],
             [
              1,
              "#f0f921"
             ]
            ],
            "type": "histogram2d"
           }
          ],
          "histogram2dcontour": [
           {
            "colorbar": {
             "outlinewidth": 0,
             "ticks": ""
            },
            "colorscale": [
             [
              0,
              "#0d0887"
             ],
             [
              0.1111111111111111,
              "#46039f"
             ],
             [
              0.2222222222222222,
              "#7201a8"
             ],
             [
              0.3333333333333333,
              "#9c179e"
             ],
             [
              0.4444444444444444,
              "#bd3786"
             ],
             [
              0.5555555555555556,
              "#d8576b"
             ],
             [
              0.6666666666666666,
              "#ed7953"
             ],
             [
              0.7777777777777778,
              "#fb9f3a"
             ],
             [
              0.8888888888888888,
              "#fdca26"
             ],
             [
              1,
              "#f0f921"
             ]
            ],
            "type": "histogram2dcontour"
           }
          ],
          "mesh3d": [
           {
            "colorbar": {
             "outlinewidth": 0,
             "ticks": ""
            },
            "type": "mesh3d"
           }
          ],
          "parcoords": [
           {
            "line": {
             "colorbar": {
              "outlinewidth": 0,
              "ticks": ""
             }
            },
            "type": "parcoords"
           }
          ],
          "pie": [
           {
            "automargin": true,
            "type": "pie"
           }
          ],
          "scatter": [
           {
            "fillpattern": {
             "fillmode": "overlay",
             "size": 10,
             "solidity": 0.2
            },
            "type": "scatter"
           }
          ],
          "scatter3d": [
           {
            "line": {
             "colorbar": {
              "outlinewidth": 0,
              "ticks": ""
             }
            },
            "marker": {
             "colorbar": {
              "outlinewidth": 0,
              "ticks": ""
             }
            },
            "type": "scatter3d"
           }
          ],
          "scattercarpet": [
           {
            "marker": {
             "colorbar": {
              "outlinewidth": 0,
              "ticks": ""
             }
            },
            "type": "scattercarpet"
           }
          ],
          "scattergeo": [
           {
            "marker": {
             "colorbar": {
              "outlinewidth": 0,
              "ticks": ""
             }
            },
            "type": "scattergeo"
           }
          ],
          "scattergl": [
           {
            "marker": {
             "colorbar": {
              "outlinewidth": 0,
              "ticks": ""
             }
            },
            "type": "scattergl"
           }
          ],
          "scattermapbox": [
           {
            "marker": {
             "colorbar": {
              "outlinewidth": 0,
              "ticks": ""
             }
            },
            "type": "scattermapbox"
           }
          ],
          "scatterpolar": [
           {
            "marker": {
             "colorbar": {
              "outlinewidth": 0,
              "ticks": ""
             }
            },
            "type": "scatterpolar"
           }
          ],
          "scatterpolargl": [
           {
            "marker": {
             "colorbar": {
              "outlinewidth": 0,
              "ticks": ""
             }
            },
            "type": "scatterpolargl"
           }
          ],
          "scatterternary": [
           {
            "marker": {
             "colorbar": {
              "outlinewidth": 0,
              "ticks": ""
             }
            },
            "type": "scatterternary"
           }
          ],
          "surface": [
           {
            "colorbar": {
             "outlinewidth": 0,
             "ticks": ""
            },
            "colorscale": [
             [
              0,
              "#0d0887"
             ],
             [
              0.1111111111111111,
              "#46039f"
             ],
             [
              0.2222222222222222,
              "#7201a8"
             ],
             [
              0.3333333333333333,
              "#9c179e"
             ],
             [
              0.4444444444444444,
              "#bd3786"
             ],
             [
              0.5555555555555556,
              "#d8576b"
             ],
             [
              0.6666666666666666,
              "#ed7953"
             ],
             [
              0.7777777777777778,
              "#fb9f3a"
             ],
             [
              0.8888888888888888,
              "#fdca26"
             ],
             [
              1,
              "#f0f921"
             ]
            ],
            "type": "surface"
           }
          ],
          "table": [
           {
            "cells": {
             "fill": {
              "color": "#EBF0F8"
             },
             "line": {
              "color": "white"
             }
            },
            "header": {
             "fill": {
              "color": "#C8D4E3"
             },
             "line": {
              "color": "white"
             }
            },
            "type": "table"
           }
          ]
         },
         "layout": {
          "annotationdefaults": {
           "arrowcolor": "#2a3f5f",
           "arrowhead": 0,
           "arrowwidth": 1
          },
          "autotypenumbers": "strict",
          "coloraxis": {
           "colorbar": {
            "outlinewidth": 0,
            "ticks": ""
           }
          },
          "colorscale": {
           "diverging": [
            [
             0,
             "#8e0152"
            ],
            [
             0.1,
             "#c51b7d"
            ],
            [
             0.2,
             "#de77ae"
            ],
            [
             0.3,
             "#f1b6da"
            ],
            [
             0.4,
             "#fde0ef"
            ],
            [
             0.5,
             "#f7f7f7"
            ],
            [
             0.6,
             "#e6f5d0"
            ],
            [
             0.7,
             "#b8e186"
            ],
            [
             0.8,
             "#7fbc41"
            ],
            [
             0.9,
             "#4d9221"
            ],
            [
             1,
             "#276419"
            ]
           ],
           "sequential": [
            [
             0,
             "#0d0887"
            ],
            [
             0.1111111111111111,
             "#46039f"
            ],
            [
             0.2222222222222222,
             "#7201a8"
            ],
            [
             0.3333333333333333,
             "#9c179e"
            ],
            [
             0.4444444444444444,
             "#bd3786"
            ],
            [
             0.5555555555555556,
             "#d8576b"
            ],
            [
             0.6666666666666666,
             "#ed7953"
            ],
            [
             0.7777777777777778,
             "#fb9f3a"
            ],
            [
             0.8888888888888888,
             "#fdca26"
            ],
            [
             1,
             "#f0f921"
            ]
           ],
           "sequentialminus": [
            [
             0,
             "#0d0887"
            ],
            [
             0.1111111111111111,
             "#46039f"
            ],
            [
             0.2222222222222222,
             "#7201a8"
            ],
            [
             0.3333333333333333,
             "#9c179e"
            ],
            [
             0.4444444444444444,
             "#bd3786"
            ],
            [
             0.5555555555555556,
             "#d8576b"
            ],
            [
             0.6666666666666666,
             "#ed7953"
            ],
            [
             0.7777777777777778,
             "#fb9f3a"
            ],
            [
             0.8888888888888888,
             "#fdca26"
            ],
            [
             1,
             "#f0f921"
            ]
           ]
          },
          "colorway": [
           "#636efa",
           "#EF553B",
           "#00cc96",
           "#ab63fa",
           "#FFA15A",
           "#19d3f3",
           "#FF6692",
           "#B6E880",
           "#FF97FF",
           "#FECB52"
          ],
          "font": {
           "color": "#2a3f5f"
          },
          "geo": {
           "bgcolor": "white",
           "lakecolor": "white",
           "landcolor": "#E5ECF6",
           "showlakes": true,
           "showland": true,
           "subunitcolor": "white"
          },
          "hoverlabel": {
           "align": "left"
          },
          "hovermode": "closest",
          "mapbox": {
           "style": "light"
          },
          "paper_bgcolor": "white",
          "plot_bgcolor": "#E5ECF6",
          "polar": {
           "angularaxis": {
            "gridcolor": "white",
            "linecolor": "white",
            "ticks": ""
           },
           "bgcolor": "#E5ECF6",
           "radialaxis": {
            "gridcolor": "white",
            "linecolor": "white",
            "ticks": ""
           }
          },
          "scene": {
           "xaxis": {
            "backgroundcolor": "#E5ECF6",
            "gridcolor": "white",
            "gridwidth": 2,
            "linecolor": "white",
            "showbackground": true,
            "ticks": "",
            "zerolinecolor": "white"
           },
           "yaxis": {
            "backgroundcolor": "#E5ECF6",
            "gridcolor": "white",
            "gridwidth": 2,
            "linecolor": "white",
            "showbackground": true,
            "ticks": "",
            "zerolinecolor": "white"
           },
           "zaxis": {
            "backgroundcolor": "#E5ECF6",
            "gridcolor": "white",
            "gridwidth": 2,
            "linecolor": "white",
            "showbackground": true,
            "ticks": "",
            "zerolinecolor": "white"
           }
          },
          "shapedefaults": {
           "line": {
            "color": "#2a3f5f"
           }
          },
          "ternary": {
           "aaxis": {
            "gridcolor": "white",
            "linecolor": "white",
            "ticks": ""
           },
           "baxis": {
            "gridcolor": "white",
            "linecolor": "white",
            "ticks": ""
           },
           "bgcolor": "#E5ECF6",
           "caxis": {
            "gridcolor": "white",
            "linecolor": "white",
            "ticks": ""
           }
          },
          "title": {
           "x": 0.05
          },
          "xaxis": {
           "automargin": true,
           "gridcolor": "white",
           "linecolor": "white",
           "ticks": "",
           "title": {
            "standoff": 15
           },
           "zerolinecolor": "white",
           "zerolinewidth": 2
          },
          "yaxis": {
           "automargin": true,
           "gridcolor": "white",
           "linecolor": "white",
           "ticks": "",
           "title": {
            "standoff": 15
           },
           "zerolinecolor": "white",
           "zerolinewidth": 2
          }
         }
        },
        "title": {
         "text": "Interactions for G"
        },
        "xaxis": {
         "anchor": "y",
         "domain": [
          0,
          1
         ],
         "title": {
          "text": "Residue Index"
         }
        },
        "yaxis": {
         "anchor": "x",
         "domain": [
          0,
          1
         ],
         "range": [
          1.5,
          5.5
         ],
         "title": {
          "text": "Distance (angstroms)"
         }
        }
       }
      }
     },
     "metadata": {},
     "output_type": "display_data"
    },
    {
     "data": {
      "application/vnd.plotly.v1+json": {
       "config": {
        "plotlyServerURL": "https://plot.ly"
       },
       "data": [
        {
         "hovertemplate": "Interacting Chain=kinesin B<br>Residue Index=%{x}<br>Distance (angstroms)=%{y}<br>residue_one_letter=%{text}<extra></extra>",
         "legendgroup": "kinesin B",
         "marker": {
          "color": "#1f77b4",
          "opacity": 0.6,
          "size": 10,
          "symbol": "circle"
         },
         "mode": "markers+text",
         "name": "kinesin B",
         "orientation": "v",
         "showlegend": true,
         "text": [
          "A",
          "E",
          "R",
          "K",
          "E",
          "R",
          "S",
          "A",
          "L",
          "K",
          "L",
          "L",
          "S",
          "A",
          "E",
          "N",
          "E",
          "I",
          "E",
          "L",
          "K",
          "Y",
          "I",
          "L",
          "E",
          "V",
          "S",
          "V",
          "V",
          "S",
          "N",
          "L",
          "K",
          "S",
          "T",
          "S",
          "D",
          "L",
          "I",
          "L",
          "Q",
          "K",
          "C",
          "L",
          "E",
          "Q",
          "L",
          "K",
          "E",
          "E",
          "K",
          "I",
          "L",
          "Q",
          "L",
          "E",
          "Q",
          "Q",
          "Q",
          "I",
          "K",
          "D",
          "E",
          "I",
          "L",
          "N",
          "M",
          "I",
          "S",
          "I",
          "N",
          "L",
          "Y",
          "S",
          "T",
          "E",
          "N",
          "L",
          "N",
          "Q",
          "L",
          "L",
          "K",
          "A",
          "L",
          "S",
          "R",
          "E",
          "A",
          "T",
          "Q",
          "S",
          "T",
          "I",
          "L",
          "N",
          "E",
          "N",
          "I",
          "K",
          "Q",
          "L",
          "L",
          "K",
          "R",
          "I",
          "S",
          "D",
          "I",
          "S",
          "L",
          "V",
          "P"
         ],
         "textposition": "top center",
         "type": "scatter",
         "x": [
          3,
          4,
          5,
          166,
          342,
          343,
          344,
          345,
          348,
          349,
          351,
          352,
          353,
          355,
          356,
          357,
          358,
          359,
          360,
          362,
          363,
          365,
          366,
          369,
          370,
          372,
          373,
          375,
          377,
          378,
          379,
          380,
          381,
          383,
          448,
          449,
          452,
          455,
          456,
          459,
          460,
          462,
          463,
          466,
          467,
          469,
          470,
          473,
          474,
          476,
          477,
          480,
          481,
          483,
          484,
          485,
          487,
          488,
          490,
          491,
          494,
          495,
          497,
          498,
          501,
          502,
          504,
          505,
          508,
          511,
          512,
          514,
          515,
          518,
          519,
          521,
          522,
          525,
          526,
          528,
          529,
          532,
          533,
          535,
          536,
          539,
          540,
          542,
          543,
          544,
          546,
          547,
          549,
          550,
          553,
          554,
          556,
          557,
          560,
          561,
          563,
          564,
          567,
          568,
          570,
          571,
          574,
          576,
          579,
          581,
          582,
          583,
          584
         ],
         "xaxis": "x",
         "y": [
          2.748785257339477,
          4.937895774841309,
          4.091125011444092,
          3.8444607257843018,
          4.666224479675293,
          4.017586708068848,
          4.920672416687012,
          3.1792023181915283,
          3.1424038410186768,
          3.7588491439819336,
          3.4571962356567383,
          3.1772470474243164,
          3.6516408920288086,
          3.4798262119293213,
          2.3829362392425537,
          4.428535461425781,
          2.8395862579345703,
          3.3773715496063232,
          4.97613525390625,
          3.364372730255127,
          2.6816132068634038,
          2.3029026985168457,
          3.3160924911499023,
          3.3058338165283203,
          3.875241994857788,
          4.754575252532959,
          3.421046018600464,
          4.750622272491455,
          2.407887935638428,
          2.137770175933838,
          2.997764587402344,
          3.671647071838379,
          4.983185768127441,
          3.157076835632324,
          2.389788150787353,
          4.73021411895752,
          2.186520576477051,
          4.012162208557129,
          3.605044841766357,
          3.7288973331451416,
          4.021711826324463,
          2.4136407375335693,
          3.031338214874268,
          3.332981586456299,
          2.9396777153015137,
          3.327683925628662,
          3.039749383926392,
          2.2144811153411865,
          2.7227916717529297,
          2.693979501724243,
          2.624505043029785,
          2.8339881896972656,
          3.530636072158813,
          3.162449359893799,
          2.831509590148926,
          4.901422023773193,
          2.35292387008667,
          2.800657033920288,
          3.251373291015625,
          2.917839527130127,
          2.5589516162872314,
          2.544947624206543,
          3.373098850250244,
          3.407287836074829,
          2.869253158569336,
          3.273953676223755,
          3.715046405792236,
          2.750368356704712,
          2.9410128593444824,
          3.684718370437622,
          3.677414894104004,
          3.515596628189087,
          3.4354615211486816,
          2.7172532081604004,
          3.625805377960205,
          3.6605875492095943,
          2.121070384979248,
          3.0477054119110107,
          3.248509168624878,
          3.730508089065552,
          3.382533073425293,
          3.563460111618042,
          3.812603235244751,
          3.3329050540924072,
          3.3318681716918945,
          2.867844820022583,
          3.4743640422821045,
          4.5939812660217285,
          2.766847848892212,
          4.647620677947998,
          2.72625470161438,
          3.80644154548645,
          4.105191707611084,
          3.3783881664276123,
          3.1035399436950684,
          3.0699691772460938,
          2.712177276611328,
          2.2233762741088867,
          3.2337708473205566,
          2.7086589336395264,
          4.164637565612793,
          3.019679546356201,
          3.3421075344085693,
          4.7329607009887695,
          2.4725992679595947,
          3.46216344833374,
          4.5100812911987305,
          4.511399745941162,
          2.4158425331115723,
          4.469507217407227,
          3.1063153743743896,
          4.7164225578308105,
          3.839683532714844
         ],
         "yaxis": "y"
        },
        {
         "hovertemplate": "Interacting Chain=ATP<br>Residue Index=%{x}<br>Distance (angstroms)=%{y}<br>residue_one_letter=%{text}<extra></extra>",
         "legendgroup": "ATP",
         "marker": {
          "color": "#d62728",
          "opacity": 0.6,
          "size": 10,
          "symbol": "circle"
         },
         "mode": "markers+text",
         "name": "ATP",
         "orientation": "v",
         "showlegend": true,
         "text": [
          "R",
          "F",
          "R",
          "P",
          "P",
          "Q",
          "T",
          "S",
          "S",
          "G",
          "K",
          "T",
          "H",
          "T",
          "N",
          "H",
          "S",
          "D"
         ],
         "textposition": "top center",
         "type": "scatter",
         "x": [
          18,
          19,
          20,
          21,
          61,
          93,
          94,
          95,
          96,
          97,
          98,
          99,
          100,
          101,
          205,
          207,
          209,
          238
         ],
         "xaxis": "x",
         "y": [
          3.807420253753662,
          4.582544326782227,
          3.6509101390838623,
          3.475386381149292,
          4.467565536499023,
          3.760574102401733,
          3.934258937835693,
          2.90639877319336,
          3.145571708679199,
          2.8983917236328125,
          2.822678565979004,
          2.7689318656921387,
          2.67582368850708,
          4.940742015838623,
          3.152284860610962,
          4.067163467407227,
          4.630607128143311,
          4.545160293579102
         ],
         "yaxis": "y"
        },
        {
         "hovertemplate": "Interacting Chain=beta-tubulin<br>Residue Index=%{x}<br>Distance (angstroms)=%{y}<br>residue_one_letter=%{text}<extra></extra>",
         "legendgroup": "beta-tubulin",
         "marker": {
          "color": "#2ca02c",
          "opacity": 0.6,
          "size": 10,
          "symbol": "circle"
         },
         "mode": "markers+text",
         "name": "beta-tubulin",
         "orientation": "v",
         "showlegend": true,
         "text": [
          "K",
          "N",
          "V",
          "H",
          "E",
          "D",
          "K",
          "R",
          "K",
          "K",
          "T",
          "H",
          "I",
          "P",
          "R",
          "D",
          "K",
          "R",
          "E",
          "E",
          "Q",
          "E",
          "Q",
          "E",
          "Q"
         ],
         "textposition": "top center",
         "type": "scatter",
         "x": [
          148,
          159,
          162,
          163,
          164,
          165,
          166,
          168,
          173,
          280,
          281,
          282,
          283,
          284,
          286,
          287,
          289,
          292,
          479,
          482,
          483,
          485,
          486,
          489,
          490
         ],
         "xaxis": "x",
         "y": [
          3.1670684814453125,
          2.7622170448303223,
          2.9836437702178955,
          2.805917739868164,
          3.1282050609588623,
          3.675169706344605,
          3.408399820327759,
          3.705113887786865,
          3.8284506797790527,
          3.5917954444885254,
          4.001972675323486,
          2.646552801132202,
          4.7241530418396,
          4.981123447418213,
          2.5501484870910645,
          3.2095651626586914,
          4.121291160583496,
          4.125176906585693,
          2.492997169494629,
          2.805192232131958,
          4.3998332023620605,
          3.458264112472534,
          1.923822045326233,
          2.1772608757019043,
          2.0039947032928467
         ],
         "yaxis": "y"
        },
        {
         "hovertemplate": "Interacting Chain=alpha-tubulin<br>Residue Index=%{x}<br>Distance (angstroms)=%{y}<br>residue_one_letter=%{text}<extra></extra>",
         "legendgroup": "alpha-tubulin",
         "marker": {
          "color": "#ff7f0e",
          "opacity": 0.6,
          "size": 10,
          "symbol": "circle"
         },
         "mode": "markers+text",
         "name": "alpha-tubulin",
         "orientation": "v",
         "showlegend": true,
         "text": [
          "S",
          "E",
          "K",
          "V",
          "S",
          "G",
          "A",
          "E",
          "L",
          "K",
          "N",
          "K",
          "S",
          "N",
          "K",
          "S",
          "E",
          "K",
          "S",
          "R"
         ],
         "textposition": "top center",
         "type": "scatter",
         "x": [
          242,
          243,
          244,
          245,
          246,
          249,
          250,
          251,
          255,
          259,
          262,
          263,
          266,
          270,
          280,
          318,
          319,
          321,
          322,
          329
         ],
         "xaxis": "x",
         "y": [
          3.519015312194824,
          3.941955804824829,
          2.463590621948242,
          3.1359198093414307,
          4.294732093811035,
          4.609795570373535,
          3.3504960536956787,
          3.0607306957244877,
          3.6405029296875,
          3.236969232559204,
          3.3594343662261963,
          3.351314783096313,
          2.4962053298950195,
          3.546053886413574,
          4.951858043670654,
          3.471600294113159,
          4.122167587280273,
          4.404058456420898,
          4.3885674476623535,
          4.626420021057129
         ],
         "yaxis": "y"
        }
       ],
       "layout": {
        "legend": {
         "title": {
          "text": "Interacting Chain"
         },
         "tracegroupgap": 0
        },
        "template": {
         "data": {
          "bar": [
           {
            "error_x": {
             "color": "#2a3f5f"
            },
            "error_y": {
             "color": "#2a3f5f"
            },
            "marker": {
             "line": {
              "color": "#E5ECF6",
              "width": 0.5
             },
             "pattern": {
              "fillmode": "overlay",
              "size": 10,
              "solidity": 0.2
             }
            },
            "type": "bar"
           }
          ],
          "barpolar": [
           {
            "marker": {
             "line": {
              "color": "#E5ECF6",
              "width": 0.5
             },
             "pattern": {
              "fillmode": "overlay",
              "size": 10,
              "solidity": 0.2
             }
            },
            "type": "barpolar"
           }
          ],
          "carpet": [
           {
            "aaxis": {
             "endlinecolor": "#2a3f5f",
             "gridcolor": "white",
             "linecolor": "white",
             "minorgridcolor": "white",
             "startlinecolor": "#2a3f5f"
            },
            "baxis": {
             "endlinecolor": "#2a3f5f",
             "gridcolor": "white",
             "linecolor": "white",
             "minorgridcolor": "white",
             "startlinecolor": "#2a3f5f"
            },
            "type": "carpet"
           }
          ],
          "choropleth": [
           {
            "colorbar": {
             "outlinewidth": 0,
             "ticks": ""
            },
            "type": "choropleth"
           }
          ],
          "contour": [
           {
            "colorbar": {
             "outlinewidth": 0,
             "ticks": ""
            },
            "colorscale": [
             [
              0,
              "#0d0887"
             ],
             [
              0.1111111111111111,
              "#46039f"
             ],
             [
              0.2222222222222222,
              "#7201a8"
             ],
             [
              0.3333333333333333,
              "#9c179e"
             ],
             [
              0.4444444444444444,
              "#bd3786"
             ],
             [
              0.5555555555555556,
              "#d8576b"
             ],
             [
              0.6666666666666666,
              "#ed7953"
             ],
             [
              0.7777777777777778,
              "#fb9f3a"
             ],
             [
              0.8888888888888888,
              "#fdca26"
             ],
             [
              1,
              "#f0f921"
             ]
            ],
            "type": "contour"
           }
          ],
          "contourcarpet": [
           {
            "colorbar": {
             "outlinewidth": 0,
             "ticks": ""
            },
            "type": "contourcarpet"
           }
          ],
          "heatmap": [
           {
            "colorbar": {
             "outlinewidth": 0,
             "ticks": ""
            },
            "colorscale": [
             [
              0,
              "#0d0887"
             ],
             [
              0.1111111111111111,
              "#46039f"
             ],
             [
              0.2222222222222222,
              "#7201a8"
             ],
             [
              0.3333333333333333,
              "#9c179e"
             ],
             [
              0.4444444444444444,
              "#bd3786"
             ],
             [
              0.5555555555555556,
              "#d8576b"
             ],
             [
              0.6666666666666666,
              "#ed7953"
             ],
             [
              0.7777777777777778,
              "#fb9f3a"
             ],
             [
              0.8888888888888888,
              "#fdca26"
             ],
             [
              1,
              "#f0f921"
             ]
            ],
            "type": "heatmap"
           }
          ],
          "heatmapgl": [
           {
            "colorbar": {
             "outlinewidth": 0,
             "ticks": ""
            },
            "colorscale": [
             [
              0,
              "#0d0887"
             ],
             [
              0.1111111111111111,
              "#46039f"
             ],
             [
              0.2222222222222222,
              "#7201a8"
             ],
             [
              0.3333333333333333,
              "#9c179e"
             ],
             [
              0.4444444444444444,
              "#bd3786"
             ],
             [
              0.5555555555555556,
              "#d8576b"
             ],
             [
              0.6666666666666666,
              "#ed7953"
             ],
             [
              0.7777777777777778,
              "#fb9f3a"
             ],
             [
              0.8888888888888888,
              "#fdca26"
             ],
             [
              1,
              "#f0f921"
             ]
            ],
            "type": "heatmapgl"
           }
          ],
          "histogram": [
           {
            "marker": {
             "pattern": {
              "fillmode": "overlay",
              "size": 10,
              "solidity": 0.2
             }
            },
            "type": "histogram"
           }
          ],
          "histogram2d": [
           {
            "colorbar": {
             "outlinewidth": 0,
             "ticks": ""
            },
            "colorscale": [
             [
              0,
              "#0d0887"
             ],
             [
              0.1111111111111111,
              "#46039f"
             ],
             [
              0.2222222222222222,
              "#7201a8"
             ],
             [
              0.3333333333333333,
              "#9c179e"
             ],
             [
              0.4444444444444444,
              "#bd3786"
             ],
             [
              0.5555555555555556,
              "#d8576b"
             ],
             [
              0.6666666666666666,
              "#ed7953"
             ],
             [
              0.7777777777777778,
              "#fb9f3a"
             ],
             [
              0.8888888888888888,
              "#fdca26"
             ],
             [
              1,
              "#f0f921"
             ]
            ],
            "type": "histogram2d"
           }
          ],
          "histogram2dcontour": [
           {
            "colorbar": {
             "outlinewidth": 0,
             "ticks": ""
            },
            "colorscale": [
             [
              0,
              "#0d0887"
             ],
             [
              0.1111111111111111,
              "#46039f"
             ],
             [
              0.2222222222222222,
              "#7201a8"
             ],
             [
              0.3333333333333333,
              "#9c179e"
             ],
             [
              0.4444444444444444,
              "#bd3786"
             ],
             [
              0.5555555555555556,
              "#d8576b"
             ],
             [
              0.6666666666666666,
              "#ed7953"
             ],
             [
              0.7777777777777778,
              "#fb9f3a"
             ],
             [
              0.8888888888888888,
              "#fdca26"
             ],
             [
              1,
              "#f0f921"
             ]
            ],
            "type": "histogram2dcontour"
           }
          ],
          "mesh3d": [
           {
            "colorbar": {
             "outlinewidth": 0,
             "ticks": ""
            },
            "type": "mesh3d"
           }
          ],
          "parcoords": [
           {
            "line": {
             "colorbar": {
              "outlinewidth": 0,
              "ticks": ""
             }
            },
            "type": "parcoords"
           }
          ],
          "pie": [
           {
            "automargin": true,
            "type": "pie"
           }
          ],
          "scatter": [
           {
            "fillpattern": {
             "fillmode": "overlay",
             "size": 10,
             "solidity": 0.2
            },
            "type": "scatter"
           }
          ],
          "scatter3d": [
           {
            "line": {
             "colorbar": {
              "outlinewidth": 0,
              "ticks": ""
             }
            },
            "marker": {
             "colorbar": {
              "outlinewidth": 0,
              "ticks": ""
             }
            },
            "type": "scatter3d"
           }
          ],
          "scattercarpet": [
           {
            "marker": {
             "colorbar": {
              "outlinewidth": 0,
              "ticks": ""
             }
            },
            "type": "scattercarpet"
           }
          ],
          "scattergeo": [
           {
            "marker": {
             "colorbar": {
              "outlinewidth": 0,
              "ticks": ""
             }
            },
            "type": "scattergeo"
           }
          ],
          "scattergl": [
           {
            "marker": {
             "colorbar": {
              "outlinewidth": 0,
              "ticks": ""
             }
            },
            "type": "scattergl"
           }
          ],
          "scattermapbox": [
           {
            "marker": {
             "colorbar": {
              "outlinewidth": 0,
              "ticks": ""
             }
            },
            "type": "scattermapbox"
           }
          ],
          "scatterpolar": [
           {
            "marker": {
             "colorbar": {
              "outlinewidth": 0,
              "ticks": ""
             }
            },
            "type": "scatterpolar"
           }
          ],
          "scatterpolargl": [
           {
            "marker": {
             "colorbar": {
              "outlinewidth": 0,
              "ticks": ""
             }
            },
            "type": "scatterpolargl"
           }
          ],
          "scatterternary": [
           {
            "marker": {
             "colorbar": {
              "outlinewidth": 0,
              "ticks": ""
             }
            },
            "type": "scatterternary"
           }
          ],
          "surface": [
           {
            "colorbar": {
             "outlinewidth": 0,
             "ticks": ""
            },
            "colorscale": [
             [
              0,
              "#0d0887"
             ],
             [
              0.1111111111111111,
              "#46039f"
             ],
             [
              0.2222222222222222,
              "#7201a8"
             ],
             [
              0.3333333333333333,
              "#9c179e"
             ],
             [
              0.4444444444444444,
              "#bd3786"
             ],
             [
              0.5555555555555556,
              "#d8576b"
             ],
             [
              0.6666666666666666,
              "#ed7953"
             ],
             [
              0.7777777777777778,
              "#fb9f3a"
             ],
             [
              0.8888888888888888,
              "#fdca26"
             ],
             [
              1,
              "#f0f921"
             ]
            ],
            "type": "surface"
           }
          ],
          "table": [
           {
            "cells": {
             "fill": {
              "color": "#EBF0F8"
             },
             "line": {
              "color": "white"
             }
            },
            "header": {
             "fill": {
              "color": "#C8D4E3"
             },
             "line": {
              "color": "white"
             }
            },
            "type": "table"
           }
          ]
         },
         "layout": {
          "annotationdefaults": {
           "arrowcolor": "#2a3f5f",
           "arrowhead": 0,
           "arrowwidth": 1
          },
          "autotypenumbers": "strict",
          "coloraxis": {
           "colorbar": {
            "outlinewidth": 0,
            "ticks": ""
           }
          },
          "colorscale": {
           "diverging": [
            [
             0,
             "#8e0152"
            ],
            [
             0.1,
             "#c51b7d"
            ],
            [
             0.2,
             "#de77ae"
            ],
            [
             0.3,
             "#f1b6da"
            ],
            [
             0.4,
             "#fde0ef"
            ],
            [
             0.5,
             "#f7f7f7"
            ],
            [
             0.6,
             "#e6f5d0"
            ],
            [
             0.7,
             "#b8e186"
            ],
            [
             0.8,
             "#7fbc41"
            ],
            [
             0.9,
             "#4d9221"
            ],
            [
             1,
             "#276419"
            ]
           ],
           "sequential": [
            [
             0,
             "#0d0887"
            ],
            [
             0.1111111111111111,
             "#46039f"
            ],
            [
             0.2222222222222222,
             "#7201a8"
            ],
            [
             0.3333333333333333,
             "#9c179e"
            ],
            [
             0.4444444444444444,
             "#bd3786"
            ],
            [
             0.5555555555555556,
             "#d8576b"
            ],
            [
             0.6666666666666666,
             "#ed7953"
            ],
            [
             0.7777777777777778,
             "#fb9f3a"
            ],
            [
             0.8888888888888888,
             "#fdca26"
            ],
            [
             1,
             "#f0f921"
            ]
           ],
           "sequentialminus": [
            [
             0,
             "#0d0887"
            ],
            [
             0.1111111111111111,
             "#46039f"
            ],
            [
             0.2222222222222222,
             "#7201a8"
            ],
            [
             0.3333333333333333,
             "#9c179e"
            ],
            [
             0.4444444444444444,
             "#bd3786"
            ],
            [
             0.5555555555555556,
             "#d8576b"
            ],
            [
             0.6666666666666666,
             "#ed7953"
            ],
            [
             0.7777777777777778,
             "#fb9f3a"
            ],
            [
             0.8888888888888888,
             "#fdca26"
            ],
            [
             1,
             "#f0f921"
            ]
           ]
          },
          "colorway": [
           "#636efa",
           "#EF553B",
           "#00cc96",
           "#ab63fa",
           "#FFA15A",
           "#19d3f3",
           "#FF6692",
           "#B6E880",
           "#FF97FF",
           "#FECB52"
          ],
          "font": {
           "color": "#2a3f5f"
          },
          "geo": {
           "bgcolor": "white",
           "lakecolor": "white",
           "landcolor": "#E5ECF6",
           "showlakes": true,
           "showland": true,
           "subunitcolor": "white"
          },
          "hoverlabel": {
           "align": "left"
          },
          "hovermode": "closest",
          "mapbox": {
           "style": "light"
          },
          "paper_bgcolor": "white",
          "plot_bgcolor": "#E5ECF6",
          "polar": {
           "angularaxis": {
            "gridcolor": "white",
            "linecolor": "white",
            "ticks": ""
           },
           "bgcolor": "#E5ECF6",
           "radialaxis": {
            "gridcolor": "white",
            "linecolor": "white",
            "ticks": ""
           }
          },
          "scene": {
           "xaxis": {
            "backgroundcolor": "#E5ECF6",
            "gridcolor": "white",
            "gridwidth": 2,
            "linecolor": "white",
            "showbackground": true,
            "ticks": "",
            "zerolinecolor": "white"
           },
           "yaxis": {
            "backgroundcolor": "#E5ECF6",
            "gridcolor": "white",
            "gridwidth": 2,
            "linecolor": "white",
            "showbackground": true,
            "ticks": "",
            "zerolinecolor": "white"
           },
           "zaxis": {
            "backgroundcolor": "#E5ECF6",
            "gridcolor": "white",
            "gridwidth": 2,
            "linecolor": "white",
            "showbackground": true,
            "ticks": "",
            "zerolinecolor": "white"
           }
          },
          "shapedefaults": {
           "line": {
            "color": "#2a3f5f"
           }
          },
          "ternary": {
           "aaxis": {
            "gridcolor": "white",
            "linecolor": "white",
            "ticks": ""
           },
           "baxis": {
            "gridcolor": "white",
            "linecolor": "white",
            "ticks": ""
           },
           "bgcolor": "#E5ECF6",
           "caxis": {
            "gridcolor": "white",
            "linecolor": "white",
            "ticks": ""
           }
          },
          "title": {
           "x": 0.05
          },
          "xaxis": {
           "automargin": true,
           "gridcolor": "white",
           "linecolor": "white",
           "ticks": "",
           "title": {
            "standoff": 15
           },
           "zerolinecolor": "white",
           "zerolinewidth": 2
          },
          "yaxis": {
           "automargin": true,
           "gridcolor": "white",
           "linecolor": "white",
           "ticks": "",
           "title": {
            "standoff": 15
           },
           "zerolinecolor": "white",
           "zerolinewidth": 2
          }
         }
        },
        "title": {
         "text": "Interactions for E"
        },
        "xaxis": {
         "anchor": "y",
         "domain": [
          0,
          1
         ],
         "title": {
          "text": "Residue Index"
         }
        },
        "yaxis": {
         "anchor": "x",
         "domain": [
          0,
          1
         ],
         "range": [
          1.5,
          5.5
         ],
         "title": {
          "text": "Distance (angstroms)"
         }
        }
       }
      }
     },
     "metadata": {},
     "output_type": "display_data"
    },
    {
     "data": {
      "application/vnd.plotly.v1+json": {
       "config": {
        "plotlyServerURL": "https://plot.ly"
       },
       "data": [
        {
         "hovertemplate": "Interacting Chain=ATP<br>Residue Index=%{x}<br>Distance (angstroms)=%{y}<br>residue_one_letter=%{text}<extra></extra>",
         "legendgroup": "ATP",
         "marker": {
          "color": "#d62728",
          "opacity": 0.6,
          "size": 10,
          "symbol": "circle"
         },
         "mode": "markers+text",
         "name": "ATP",
         "orientation": "v",
         "showlegend": true,
         "text": [
          "R",
          "F",
          "R",
          "P",
          "S",
          "G",
          "Q",
          "T",
          "G",
          "S",
          "G",
          "K",
          "T",
          "F",
          "S",
          "N",
          "E",
          "S",
          "S",
          "D",
          "L",
          "A",
          "G"
         ],
         "textposition": "top center",
         "type": "scatter",
         "x": [
          9,
          10,
          11,
          12,
          54,
          85,
          86,
          87,
          88,
          89,
          90,
          91,
          92,
          93,
          94,
          201,
          203,
          204,
          205,
          234,
          235,
          236,
          237
         ],
         "xaxis": "x",
         "y": [
          3.635404348373413,
          4.261568069458008,
          3.431479454040528,
          3.3108503818511963,
          4.5934906005859375,
          4.793933868408203,
          3.742708206176758,
          2.475683212280273,
          2.775485038757324,
          3.3809194564819336,
          3.0480880737304688,
          2.581880807876587,
          2.830132246017456,
          2.7538321018218994,
          4.928520679473877,
          3.157599449157715,
          4.046154975891113,
          3.05144476890564,
          3.006498336791992,
          4.4463210105896,
          4.268943786621094,
          3.633265495300293,
          2.5881617069244385
         ],
         "yaxis": "y"
        },
        {
         "hovertemplate": "Interacting Chain=alpha-tubulin<br>Residue Index=%{x}<br>Distance (angstroms)=%{y}<br>residue_one_letter=%{text}<extra></extra>",
         "legendgroup": "alpha-tubulin",
         "marker": {
          "color": "#ff7f0e",
          "opacity": 0.6,
          "size": 10,
          "symbol": "circle"
         },
         "mode": "markers+text",
         "name": "alpha-tubulin",
         "orientation": "v",
         "showlegend": true,
         "text": [
          "E",
          "S",
          "E",
          "K",
          "I",
          "S",
          "G",
          "A",
          "Q",
          "L",
          "K",
          "N",
          "K",
          "S",
          "N",
          "N",
          "A",
          "E",
          "S",
          "R",
          "R"
         ],
         "textposition": "top center",
         "type": "scatter",
         "x": [
          41,
          238,
          239,
          240,
          241,
          242,
          245,
          246,
          247,
          251,
          255,
          258,
          259,
          262,
          266,
          269,
          314,
          315,
          318,
          321,
          325
         ],
         "xaxis": "x",
         "y": [
          3.75507116317749,
          3.203718662261963,
          4.2318267822265625,
          2.441561698913574,
          2.998284101486206,
          4.332919120788574,
          4.917237758636475,
          3.583241701126098,
          4.481150627136231,
          4.036821365356445,
          3.385148525238037,
          3.360128402709961,
          3.315401554107666,
          2.427691698074341,
          3.3300211429595947,
          4.29269552230835,
          3.810746431350708,
          4.270676612854004,
          4.3149943351745605,
          2.660627603530884,
          4.069633960723877
         ],
         "yaxis": "y"
        },
        {
         "hovertemplate": "Interacting Chain=kinesin B<br>Residue Index=%{x}<br>Distance (angstroms)=%{y}<br>residue_one_letter=%{text}<extra></extra>",
         "legendgroup": "kinesin B",
         "marker": {
          "color": "#1f77b4",
          "opacity": 0.6,
          "size": 10,
          "symbol": "circle"
         },
         "mode": "markers+text",
         "name": "kinesin B",
         "orientation": "v",
         "showlegend": true,
         "text": [
          "E",
          "K",
          "D",
          "R",
          "K",
          "G",
          "T",
          "E",
          "Y",
          "Y",
          "R",
          "E",
          "D",
          "D",
          "L",
          "T",
          "A",
          "W",
          "K",
          "R",
          "Y",
          "E",
          "K",
          "K",
          "N",
          "L",
          "K",
          "K",
          "V",
          "L",
          "E",
          "E",
          "L",
          "A",
          "W",
          "R",
          "Q",
          "I",
          "M",
          "L"
         ],
         "textposition": "top center",
         "type": "scatter",
         "x": [
          130,
          134,
          150,
          152,
          153,
          170,
          171,
          173,
          175,
          177,
          178,
          180,
          181,
          184,
          339,
          340,
          341,
          344,
          345,
          347,
          348,
          351,
          352,
          354,
          355,
          358,
          359,
          361,
          362,
          365,
          366,
          368,
          369,
          370,
          372,
          373,
          383,
          384,
          386,
          389
         ],
         "xaxis": "x",
         "y": [
          4.936233043670654,
          3.529736280441284,
          3.981811285018921,
          2.602668285369873,
          3.0819091796875,
          4.253053188323975,
          3.460879325866699,
          3.972049236297608,
          2.9138309955596924,
          3.0666394233703613,
          3.325299024581909,
          3.2316324710845947,
          2.9658124446868896,
          2.492016077041626,
          3.792778015136719,
          4.288702011108398,
          3.356184959411621,
          3.299360752105713,
          3.5817482471466064,
          3.651127338409424,
          3.3930773735046387,
          2.161593437194824,
          4.266521453857422,
          3.5247280597686768,
          2.2048661708831787,
          2.796924829483032,
          4.062742233276367,
          3.148777961730957,
          3.101140022277832,
          3.400538206100464,
          3.3259379863739014,
          2.6755614280700684,
          2.8054628372192383,
          4.251646518707275,
          3.5732579231262207,
          2.7190842628479004,
          3.2648255825042725,
          2.9706411361694336,
          3.4331583976745605,
          3.32706356048584
         ],
         "yaxis": "y"
        },
        {
         "hovertemplate": "Interacting Chain=beta-tubulin<br>Residue Index=%{x}<br>Distance (angstroms)=%{y}<br>residue_one_letter=%{text}<extra></extra>",
         "legendgroup": "beta-tubulin",
         "marker": {
          "color": "#2ca02c",
          "opacity": 0.6,
          "size": 10,
          "symbol": "circle"
         },
         "mode": "markers+text",
         "name": "beta-tubulin",
         "orientation": "v",
         "showlegend": true,
         "text": [
          "R",
          "K",
          "V",
          "R",
          "E",
          "E",
          "W",
          "E",
          "K",
          "S",
          "T",
          "H",
          "I",
          "R",
          "D",
          "K",
          "R"
         ],
         "textposition": "top center",
         "type": "scatter",
         "x": [
          144,
          157,
          158,
          159,
          160,
          161,
          167,
          169,
          275,
          276,
          277,
          278,
          279,
          282,
          283,
          285,
          288
         ],
         "xaxis": "x",
         "y": [
          2.644158124923706,
          3.038441896438598,
          4.677470207214356,
          2.8463521003723145,
          3.4739649295806885,
          3.829615354537964,
          3.91483998298645,
          4.6861186027526855,
          3.3274173736572266,
          3.5329012870788574,
          3.170761823654175,
          2.7424495220184326,
          4.793431758880615,
          2.4814136028289795,
          3.164247989654541,
          4.516706466674805,
          2.970597743988037
         ],
         "yaxis": "y"
        }
       ],
       "layout": {
        "legend": {
         "title": {
          "text": "Interacting Chain"
         },
         "tracegroupgap": 0
        },
        "template": {
         "data": {
          "bar": [
           {
            "error_x": {
             "color": "#2a3f5f"
            },
            "error_y": {
             "color": "#2a3f5f"
            },
            "marker": {
             "line": {
              "color": "#E5ECF6",
              "width": 0.5
             },
             "pattern": {
              "fillmode": "overlay",
              "size": 10,
              "solidity": 0.2
             }
            },
            "type": "bar"
           }
          ],
          "barpolar": [
           {
            "marker": {
             "line": {
              "color": "#E5ECF6",
              "width": 0.5
             },
             "pattern": {
              "fillmode": "overlay",
              "size": 10,
              "solidity": 0.2
             }
            },
            "type": "barpolar"
           }
          ],
          "carpet": [
           {
            "aaxis": {
             "endlinecolor": "#2a3f5f",
             "gridcolor": "white",
             "linecolor": "white",
             "minorgridcolor": "white",
             "startlinecolor": "#2a3f5f"
            },
            "baxis": {
             "endlinecolor": "#2a3f5f",
             "gridcolor": "white",
             "linecolor": "white",
             "minorgridcolor": "white",
             "startlinecolor": "#2a3f5f"
            },
            "type": "carpet"
           }
          ],
          "choropleth": [
           {
            "colorbar": {
             "outlinewidth": 0,
             "ticks": ""
            },
            "type": "choropleth"
           }
          ],
          "contour": [
           {
            "colorbar": {
             "outlinewidth": 0,
             "ticks": ""
            },
            "colorscale": [
             [
              0,
              "#0d0887"
             ],
             [
              0.1111111111111111,
              "#46039f"
             ],
             [
              0.2222222222222222,
              "#7201a8"
             ],
             [
              0.3333333333333333,
              "#9c179e"
             ],
             [
              0.4444444444444444,
              "#bd3786"
             ],
             [
              0.5555555555555556,
              "#d8576b"
             ],
             [
              0.6666666666666666,
              "#ed7953"
             ],
             [
              0.7777777777777778,
              "#fb9f3a"
             ],
             [
              0.8888888888888888,
              "#fdca26"
             ],
             [
              1,
              "#f0f921"
             ]
            ],
            "type": "contour"
           }
          ],
          "contourcarpet": [
           {
            "colorbar": {
             "outlinewidth": 0,
             "ticks": ""
            },
            "type": "contourcarpet"
           }
          ],
          "heatmap": [
           {
            "colorbar": {
             "outlinewidth": 0,
             "ticks": ""
            },
            "colorscale": [
             [
              0,
              "#0d0887"
             ],
             [
              0.1111111111111111,
              "#46039f"
             ],
             [
              0.2222222222222222,
              "#7201a8"
             ],
             [
              0.3333333333333333,
              "#9c179e"
             ],
             [
              0.4444444444444444,
              "#bd3786"
             ],
             [
              0.5555555555555556,
              "#d8576b"
             ],
             [
              0.6666666666666666,
              "#ed7953"
             ],
             [
              0.7777777777777778,
              "#fb9f3a"
             ],
             [
              0.8888888888888888,
              "#fdca26"
             ],
             [
              1,
              "#f0f921"
             ]
            ],
            "type": "heatmap"
           }
          ],
          "heatmapgl": [
           {
            "colorbar": {
             "outlinewidth": 0,
             "ticks": ""
            },
            "colorscale": [
             [
              0,
              "#0d0887"
             ],
             [
              0.1111111111111111,
              "#46039f"
             ],
             [
              0.2222222222222222,
              "#7201a8"
             ],
             [
              0.3333333333333333,
              "#9c179e"
             ],
             [
              0.4444444444444444,
              "#bd3786"
             ],
             [
              0.5555555555555556,
              "#d8576b"
             ],
             [
              0.6666666666666666,
              "#ed7953"
             ],
             [
              0.7777777777777778,
              "#fb9f3a"
             ],
             [
              0.8888888888888888,
              "#fdca26"
             ],
             [
              1,
              "#f0f921"
             ]
            ],
            "type": "heatmapgl"
           }
          ],
          "histogram": [
           {
            "marker": {
             "pattern": {
              "fillmode": "overlay",
              "size": 10,
              "solidity": 0.2
             }
            },
            "type": "histogram"
           }
          ],
          "histogram2d": [
           {
            "colorbar": {
             "outlinewidth": 0,
             "ticks": ""
            },
            "colorscale": [
             [
              0,
              "#0d0887"
             ],
             [
              0.1111111111111111,
              "#46039f"
             ],
             [
              0.2222222222222222,
              "#7201a8"
             ],
             [
              0.3333333333333333,
              "#9c179e"
             ],
             [
              0.4444444444444444,
              "#bd3786"
             ],
             [
              0.5555555555555556,
              "#d8576b"
             ],
             [
              0.6666666666666666,
              "#ed7953"
             ],
             [
              0.7777777777777778,
              "#fb9f3a"
             ],
             [
              0.8888888888888888,
              "#fdca26"
             ],
             [
              1,
              "#f0f921"
             ]
            ],
            "type": "histogram2d"
           }
          ],
          "histogram2dcontour": [
           {
            "colorbar": {
             "outlinewidth": 0,
             "ticks": ""
            },
            "colorscale": [
             [
              0,
              "#0d0887"
             ],
             [
              0.1111111111111111,
              "#46039f"
             ],
             [
              0.2222222222222222,
              "#7201a8"
             ],
             [
              0.3333333333333333,
              "#9c179e"
             ],
             [
              0.4444444444444444,
              "#bd3786"
             ],
             [
              0.5555555555555556,
              "#d8576b"
             ],
             [
              0.6666666666666666,
              "#ed7953"
             ],
             [
              0.7777777777777778,
              "#fb9f3a"
             ],
             [
              0.8888888888888888,
              "#fdca26"
             ],
             [
              1,
              "#f0f921"
             ]
            ],
            "type": "histogram2dcontour"
           }
          ],
          "mesh3d": [
           {
            "colorbar": {
             "outlinewidth": 0,
             "ticks": ""
            },
            "type": "mesh3d"
           }
          ],
          "parcoords": [
           {
            "line": {
             "colorbar": {
              "outlinewidth": 0,
              "ticks": ""
             }
            },
            "type": "parcoords"
           }
          ],
          "pie": [
           {
            "automargin": true,
            "type": "pie"
           }
          ],
          "scatter": [
           {
            "fillpattern": {
             "fillmode": "overlay",
             "size": 10,
             "solidity": 0.2
            },
            "type": "scatter"
           }
          ],
          "scatter3d": [
           {
            "line": {
             "colorbar": {
              "outlinewidth": 0,
              "ticks": ""
             }
            },
            "marker": {
             "colorbar": {
              "outlinewidth": 0,
              "ticks": ""
             }
            },
            "type": "scatter3d"
           }
          ],
          "scattercarpet": [
           {
            "marker": {
             "colorbar": {
              "outlinewidth": 0,
              "ticks": ""
             }
            },
            "type": "scattercarpet"
           }
          ],
          "scattergeo": [
           {
            "marker": {
             "colorbar": {
              "outlinewidth": 0,
              "ticks": ""
             }
            },
            "type": "scattergeo"
           }
          ],
          "scattergl": [
           {
            "marker": {
             "colorbar": {
              "outlinewidth": 0,
              "ticks": ""
             }
            },
            "type": "scattergl"
           }
          ],
          "scattermapbox": [
           {
            "marker": {
             "colorbar": {
              "outlinewidth": 0,
              "ticks": ""
             }
            },
            "type": "scattermapbox"
           }
          ],
          "scatterpolar": [
           {
            "marker": {
             "colorbar": {
              "outlinewidth": 0,
              "ticks": ""
             }
            },
            "type": "scatterpolar"
           }
          ],
          "scatterpolargl": [
           {
            "marker": {
             "colorbar": {
              "outlinewidth": 0,
              "ticks": ""
             }
            },
            "type": "scatterpolargl"
           }
          ],
          "scatterternary": [
           {
            "marker": {
             "colorbar": {
              "outlinewidth": 0,
              "ticks": ""
             }
            },
            "type": "scatterternary"
           }
          ],
          "surface": [
           {
            "colorbar": {
             "outlinewidth": 0,
             "ticks": ""
            },
            "colorscale": [
             [
              0,
              "#0d0887"
             ],
             [
              0.1111111111111111,
              "#46039f"
             ],
             [
              0.2222222222222222,
              "#7201a8"
             ],
             [
              0.3333333333333333,
              "#9c179e"
             ],
             [
              0.4444444444444444,
              "#bd3786"
             ],
             [
              0.5555555555555556,
              "#d8576b"
             ],
             [
              0.6666666666666666,
              "#ed7953"
             ],
             [
              0.7777777777777778,
              "#fb9f3a"
             ],
             [
              0.8888888888888888,
              "#fdca26"
             ],
             [
              1,
              "#f0f921"
             ]
            ],
            "type": "surface"
           }
          ],
          "table": [
           {
            "cells": {
             "fill": {
              "color": "#EBF0F8"
             },
             "line": {
              "color": "white"
             }
            },
            "header": {
             "fill": {
              "color": "#C8D4E3"
             },
             "line": {
              "color": "white"
             }
            },
            "type": "table"
           }
          ]
         },
         "layout": {
          "annotationdefaults": {
           "arrowcolor": "#2a3f5f",
           "arrowhead": 0,
           "arrowwidth": 1
          },
          "autotypenumbers": "strict",
          "coloraxis": {
           "colorbar": {
            "outlinewidth": 0,
            "ticks": ""
           }
          },
          "colorscale": {
           "diverging": [
            [
             0,
             "#8e0152"
            ],
            [
             0.1,
             "#c51b7d"
            ],
            [
             0.2,
             "#de77ae"
            ],
            [
             0.3,
             "#f1b6da"
            ],
            [
             0.4,
             "#fde0ef"
            ],
            [
             0.5,
             "#f7f7f7"
            ],
            [
             0.6,
             "#e6f5d0"
            ],
            [
             0.7,
             "#b8e186"
            ],
            [
             0.8,
             "#7fbc41"
            ],
            [
             0.9,
             "#4d9221"
            ],
            [
             1,
             "#276419"
            ]
           ],
           "sequential": [
            [
             0,
             "#0d0887"
            ],
            [
             0.1111111111111111,
             "#46039f"
            ],
            [
             0.2222222222222222,
             "#7201a8"
            ],
            [
             0.3333333333333333,
             "#9c179e"
            ],
            [
             0.4444444444444444,
             "#bd3786"
            ],
            [
             0.5555555555555556,
             "#d8576b"
            ],
            [
             0.6666666666666666,
             "#ed7953"
            ],
            [
             0.7777777777777778,
             "#fb9f3a"
            ],
            [
             0.8888888888888888,
             "#fdca26"
            ],
            [
             1,
             "#f0f921"
            ]
           ],
           "sequentialminus": [
            [
             0,
             "#0d0887"
            ],
            [
             0.1111111111111111,
             "#46039f"
            ],
            [
             0.2222222222222222,
             "#7201a8"
            ],
            [
             0.3333333333333333,
             "#9c179e"
            ],
            [
             0.4444444444444444,
             "#bd3786"
            ],
            [
             0.5555555555555556,
             "#d8576b"
            ],
            [
             0.6666666666666666,
             "#ed7953"
            ],
            [
             0.7777777777777778,
             "#fb9f3a"
            ],
            [
             0.8888888888888888,
             "#fdca26"
            ],
            [
             1,
             "#f0f921"
            ]
           ]
          },
          "colorway": [
           "#636efa",
           "#EF553B",
           "#00cc96",
           "#ab63fa",
           "#FFA15A",
           "#19d3f3",
           "#FF6692",
           "#B6E880",
           "#FF97FF",
           "#FECB52"
          ],
          "font": {
           "color": "#2a3f5f"
          },
          "geo": {
           "bgcolor": "white",
           "lakecolor": "white",
           "landcolor": "#E5ECF6",
           "showlakes": true,
           "showland": true,
           "subunitcolor": "white"
          },
          "hoverlabel": {
           "align": "left"
          },
          "hovermode": "closest",
          "mapbox": {
           "style": "light"
          },
          "paper_bgcolor": "white",
          "plot_bgcolor": "#E5ECF6",
          "polar": {
           "angularaxis": {
            "gridcolor": "white",
            "linecolor": "white",
            "ticks": ""
           },
           "bgcolor": "#E5ECF6",
           "radialaxis": {
            "gridcolor": "white",
            "linecolor": "white",
            "ticks": ""
           }
          },
          "scene": {
           "xaxis": {
            "backgroundcolor": "#E5ECF6",
            "gridcolor": "white",
            "gridwidth": 2,
            "linecolor": "white",
            "showbackground": true,
            "ticks": "",
            "zerolinecolor": "white"
           },
           "yaxis": {
            "backgroundcolor": "#E5ECF6",
            "gridcolor": "white",
            "gridwidth": 2,
            "linecolor": "white",
            "showbackground": true,
            "ticks": "",
            "zerolinecolor": "white"
           },
           "zaxis": {
            "backgroundcolor": "#E5ECF6",
            "gridcolor": "white",
            "gridwidth": 2,
            "linecolor": "white",
            "showbackground": true,
            "ticks": "",
            "zerolinecolor": "white"
           }
          },
          "shapedefaults": {
           "line": {
            "color": "#2a3f5f"
           }
          },
          "ternary": {
           "aaxis": {
            "gridcolor": "white",
            "linecolor": "white",
            "ticks": ""
           },
           "baxis": {
            "gridcolor": "white",
            "linecolor": "white",
            "ticks": ""
           },
           "bgcolor": "#E5ECF6",
           "caxis": {
            "gridcolor": "white",
            "linecolor": "white",
            "ticks": ""
           }
          },
          "title": {
           "x": 0.05
          },
          "xaxis": {
           "automargin": true,
           "gridcolor": "white",
           "linecolor": "white",
           "ticks": "",
           "title": {
            "standoff": 15
           },
           "zerolinecolor": "white",
           "zerolinewidth": 2
          },
          "yaxis": {
           "automargin": true,
           "gridcolor": "white",
           "linecolor": "white",
           "ticks": "",
           "title": {
            "standoff": 15
           },
           "zerolinecolor": "white",
           "zerolinewidth": 2
          }
         }
        },
        "title": {
         "text": "Interactions for D"
        },
        "xaxis": {
         "anchor": "y",
         "domain": [
          0,
          1
         ],
         "title": {
          "text": "Residue Index"
         }
        },
        "yaxis": {
         "anchor": "x",
         "domain": [
          0,
          1
         ],
         "range": [
          1.5,
          5.5
         ],
         "title": {
          "text": "Distance (angstroms)"
         }
        }
       }
      }
     },
     "metadata": {},
     "output_type": "display_data"
    },
    {
     "data": {
      "application/vnd.plotly.v1+json": {
       "config": {
        "plotlyServerURL": "https://plot.ly"
       },
       "data": [
        {
         "hovertemplate": "Interacting Chain=ATP<br>Residue Index=%{x}<br>Distance (angstroms)=%{y}<br>residue_one_letter=%{text}<extra></extra>",
         "legendgroup": "ATP",
         "marker": {
          "color": "#d62728",
          "opacity": 0.6,
          "size": 10,
          "symbol": "circle"
         },
         "mode": "markers+text",
         "name": "ATP",
         "orientation": "v",
         "showlegend": true,
         "text": [
          "R",
          "F",
          "R",
          "P",
          "S",
          "G",
          "Q",
          "T",
          "G",
          "S",
          "G",
          "K",
          "T",
          "F",
          "N",
          "E",
          "S",
          "S",
          "D",
          "L",
          "A",
          "G"
         ],
         "textposition": "top center",
         "type": "scatter",
         "x": [
          9,
          10,
          11,
          12,
          54,
          85,
          86,
          87,
          88,
          89,
          90,
          91,
          92,
          93,
          201,
          203,
          204,
          205,
          234,
          235,
          236,
          237
         ],
         "xaxis": "x",
         "y": [
          3.83607816696167,
          4.675936698913574,
          3.6263887882232666,
          3.5649406909942627,
          4.522384166717529,
          4.931008338928223,
          3.740403413772583,
          2.341273307800293,
          2.6802728176116943,
          3.2530550956726074,
          3.0261905193328857,
          2.6894025802612305,
          2.834191083908081,
          2.869316339492798,
          2.88203239440918,
          4.013168811798096,
          2.967872381210327,
          2.885136365890503,
          4.722129821777344,
          4.557435989379883,
          3.983654975891113,
          2.9070348739624023
         ],
         "yaxis": "y"
        },
        {
         "hovertemplate": "Interacting Chain=alpha-tubulin<br>Residue Index=%{x}<br>Distance (angstroms)=%{y}<br>residue_one_letter=%{text}<extra></extra>",
         "legendgroup": "alpha-tubulin",
         "marker": {
          "color": "#ff7f0e",
          "opacity": 0.6,
          "size": 10,
          "symbol": "circle"
         },
         "mode": "markers+text",
         "name": "alpha-tubulin",
         "orientation": "v",
         "showlegend": true,
         "text": [
          "E",
          "S",
          "E",
          "K",
          "I",
          "S",
          "G",
          "A",
          "Q",
          "L",
          "K",
          "N",
          "K",
          "S",
          "G",
          "N",
          "N",
          "A",
          "E",
          "S",
          "R",
          "R"
         ],
         "textposition": "top center",
         "type": "scatter",
         "x": [
          41,
          238,
          239,
          240,
          241,
          242,
          245,
          246,
          247,
          251,
          255,
          258,
          259,
          262,
          265,
          266,
          269,
          314,
          315,
          318,
          321,
          325
         ],
         "xaxis": "x",
         "y": [
          4.5723958015441895,
          3.096032857894897,
          4.120483875274658,
          2.686553478240967,
          3.0317671298980717,
          4.426440715789795,
          4.680891990661621,
          3.375532865524292,
          4.3539228439331055,
          4.292744159698486,
          3.2346060276031494,
          3.425578355789185,
          3.3761866092681885,
          2.757495641708374,
          3.340561866760254,
          2.060502290725708,
          3.0223629474639893,
          3.762889623641968,
          4.179724216461182,
          4.737387180328369,
          2.9530489444732666,
          4.090575695037842
         ],
         "yaxis": "y"
        },
        {
         "hovertemplate": "Interacting Chain=beta-tubulin<br>Residue Index=%{x}<br>Distance (angstroms)=%{y}<br>residue_one_letter=%{text}<extra></extra>",
         "legendgroup": "beta-tubulin",
         "marker": {
          "color": "#2ca02c",
          "opacity": 0.6,
          "size": 10,
          "symbol": "circle"
         },
         "mode": "markers+text",
         "name": "beta-tubulin",
         "orientation": "v",
         "showlegend": true,
         "text": [
          "N",
          "H",
          "S",
          "R",
          "K",
          "V",
          "R",
          "E",
          "E",
          "W",
          "E",
          "T",
          "D",
          "K",
          "S",
          "T",
          "H",
          "I",
          "R",
          "D",
          "K",
          "R",
          "R",
          "R",
          "Q",
          "E",
          "L",
          "S",
          "M",
          "S",
          "S"
         ],
         "textposition": "top center",
         "type": "scatter",
         "x": [
          43,
          44,
          45,
          144,
          157,
          158,
          159,
          160,
          161,
          167,
          169,
          272,
          273,
          275,
          276,
          277,
          278,
          279,
          282,
          283,
          285,
          288,
          321,
          325,
          492,
          493,
          497,
          499,
          500,
          503,
          504
         ],
         "xaxis": "x",
         "y": [
          4.814171314239502,
          4.379560470581055,
          4.694357872009277,
          2.703000545501709,
          2.6188809871673584,
          4.050807476043701,
          2.6133246421813965,
          3.1627979278564453,
          4.577356338500977,
          3.853604793548584,
          4.109172344207764,
          4.55389928817749,
          4.952469825744629,
          3.651661157608032,
          3.733230352401733,
          3.512031078338623,
          2.8841986656188965,
          4.837772846221924,
          2.375728130340576,
          3.0538246631622314,
          3.2360222339630127,
          2.8069629669189453,
          3.5060477256774902,
          4.084367275238037,
          3.6231613159179688,
          2.803230762481689,
          3.536648988723755,
          3.793916702270508,
          3.1594064235687256,
          3.2995991706848145,
          4.464604377746582
         ],
         "yaxis": "y"
        },
        {
         "hovertemplate": "Interacting Chain=kinesin B<br>Residue Index=%{x}<br>Distance (angstroms)=%{y}<br>residue_one_letter=%{text}<extra></extra>",
         "legendgroup": "kinesin B",
         "marker": {
          "color": "#1f77b4",
          "opacity": 0.6,
          "size": 10,
          "symbol": "circle"
         },
         "mode": "markers+text",
         "name": "kinesin B",
         "orientation": "v",
         "showlegend": true,
         "text": [
          "Q",
          "E",
          "R",
          "A",
          "L",
          "K",
          "L",
          "L",
          "A",
          "E",
          "E",
          "I",
          "L",
          "K",
          "Y",
          "I",
          "E",
          "L",
          "E",
          "V",
          "S",
          "V",
          "T",
          "V",
          "L",
          "D",
          "L",
          "I",
          "L",
          "Q",
          "K",
          "C",
          "L",
          "E",
          "Q",
          "L",
          "K",
          "E",
          "E",
          "K",
          "I",
          "L",
          "Q",
          "L",
          "Q",
          "Q",
          "Q",
          "I",
          "K",
          "D",
          "E",
          "I",
          "L",
          "N",
          "M",
          "I",
          "S",
          "I",
          "N",
          "L",
          "Y",
          "S",
          "T",
          "E",
          "N",
          "L",
          "N",
          "Q",
          "L",
          "L",
          "K",
          "A",
          "L",
          "S",
          "R",
          "E",
          "A",
          "T",
          "Q",
          "S",
          "T",
          "I",
          "L",
          "N",
          "E",
          "N",
          "I",
          "K",
          "Q",
          "L",
          "L",
          "K",
          "R",
          "I",
          "S",
          "D",
          "I",
          "S",
          "L",
          "V",
          "P"
         ],
         "textposition": "top center",
         "type": "scatter",
         "x": [
          337,
          338,
          339,
          341,
          344,
          345,
          347,
          348,
          351,
          352,
          354,
          355,
          358,
          359,
          361,
          362,
          364,
          365,
          366,
          368,
          369,
          371,
          372,
          373,
          376,
          448,
          451,
          452,
          455,
          456,
          458,
          459,
          462,
          463,
          465,
          466,
          469,
          470,
          472,
          473,
          476,
          477,
          479,
          480,
          483,
          484,
          486,
          487,
          490,
          491,
          493,
          494,
          497,
          498,
          500,
          501,
          504,
          507,
          508,
          510,
          511,
          514,
          515,
          517,
          518,
          521,
          522,
          524,
          525,
          528,
          529,
          531,
          532,
          535,
          536,
          538,
          539,
          540,
          542,
          543,
          545,
          546,
          549,
          550,
          552,
          553,
          556,
          557,
          559,
          560,
          563,
          564,
          566,
          567,
          570,
          572,
          575,
          577,
          578,
          579,
          580
         ],
         "xaxis": "x",
         "y": [
          4.286809921264648,
          4.322460651397705,
          4.637702465057373,
          3.4761531352996826,
          3.412821054458618,
          4.3237128257751465,
          3.71352219581604,
          3.6804258823394775,
          3.644589424133301,
          4.963091850280762,
          2.8009493350982666,
          3.500339269638061,
          3.377369165420532,
          2.672811269760132,
          2.914701223373413,
          3.319055795669556,
          4.172946453094482,
          3.102780342102051,
          3.036543607711792,
          2.853024482727051,
          3.848050117492676,
          3.03987979888916,
          4.477049827575684,
          3.4926950931549072,
          2.640737771987915,
          3.697057247161865,
          3.871860504150391,
          3.51381778717041,
          3.8720200061798096,
          3.931455373764038,
          2.8217499256134038,
          3.218827486038208,
          3.762529850006104,
          2.871489763259888,
          3.3510007858276367,
          3.151888370513916,
          2.6618213653564453,
          2.6710121631622314,
          2.5886847972869877,
          2.6213412284851074,
          3.2216992378234863,
          4.0476813316345215,
          3.7194318771362314,
          3.122962474822998,
          3.0752594470977783,
          2.9746170043945312,
          3.662586212158203,
          3.022545337677002,
          2.5523548126220703,
          2.511021375656128,
          3.5453481674194336,
          3.530487060546875,
          2.9944772720336914,
          3.2954063415527344,
          3.913156747817993,
          3.0788354873657227,
          3.211822509765625,
          3.3107025623321533,
          3.309837102890014,
          3.550379753112793,
          3.421236991882324,
          2.661750078201294,
          3.547663927078247,
          3.522784948348999,
          2.2426023483276367,
          3.1584179401397705,
          3.379814624786377,
          3.609726667404175,
          3.4686946868896484,
          3.736125707626343,
          3.9135448932647705,
          3.351126909255981,
          3.27258825302124,
          2.8076791763305664,
          3.61622953414917,
          4.690423011779785,
          2.8206899166107178,
          4.772144317626953,
          2.756781578063965,
          3.7898547649383545,
          4.143387794494629,
          3.360520362854004,
          3.1755566596984863,
          3.157832622528076,
          2.636523723602295,
          2.216707944869995,
          3.2089550495147705,
          2.644615650177002,
          4.024677276611328,
          3.539026260375977,
          3.1203718185424805,
          4.848318576812744,
          2.788285970687866,
          3.4252657890319824,
          4.95296049118042,
          4.048823833465576,
          2.162559986114502,
          4.469528198242188,
          2.736605644226074,
          4.370167255401611,
          3.8491599559783936
         ],
         "yaxis": "y"
        }
       ],
       "layout": {
        "legend": {
         "title": {
          "text": "Interacting Chain"
         },
         "tracegroupgap": 0
        },
        "template": {
         "data": {
          "bar": [
           {
            "error_x": {
             "color": "#2a3f5f"
            },
            "error_y": {
             "color": "#2a3f5f"
            },
            "marker": {
             "line": {
              "color": "#E5ECF6",
              "width": 0.5
             },
             "pattern": {
              "fillmode": "overlay",
              "size": 10,
              "solidity": 0.2
             }
            },
            "type": "bar"
           }
          ],
          "barpolar": [
           {
            "marker": {
             "line": {
              "color": "#E5ECF6",
              "width": 0.5
             },
             "pattern": {
              "fillmode": "overlay",
              "size": 10,
              "solidity": 0.2
             }
            },
            "type": "barpolar"
           }
          ],
          "carpet": [
           {
            "aaxis": {
             "endlinecolor": "#2a3f5f",
             "gridcolor": "white",
             "linecolor": "white",
             "minorgridcolor": "white",
             "startlinecolor": "#2a3f5f"
            },
            "baxis": {
             "endlinecolor": "#2a3f5f",
             "gridcolor": "white",
             "linecolor": "white",
             "minorgridcolor": "white",
             "startlinecolor": "#2a3f5f"
            },
            "type": "carpet"
           }
          ],
          "choropleth": [
           {
            "colorbar": {
             "outlinewidth": 0,
             "ticks": ""
            },
            "type": "choropleth"
           }
          ],
          "contour": [
           {
            "colorbar": {
             "outlinewidth": 0,
             "ticks": ""
            },
            "colorscale": [
             [
              0,
              "#0d0887"
             ],
             [
              0.1111111111111111,
              "#46039f"
             ],
             [
              0.2222222222222222,
              "#7201a8"
             ],
             [
              0.3333333333333333,
              "#9c179e"
             ],
             [
              0.4444444444444444,
              "#bd3786"
             ],
             [
              0.5555555555555556,
              "#d8576b"
             ],
             [
              0.6666666666666666,
              "#ed7953"
             ],
             [
              0.7777777777777778,
              "#fb9f3a"
             ],
             [
              0.8888888888888888,
              "#fdca26"
             ],
             [
              1,
              "#f0f921"
             ]
            ],
            "type": "contour"
           }
          ],
          "contourcarpet": [
           {
            "colorbar": {
             "outlinewidth": 0,
             "ticks": ""
            },
            "type": "contourcarpet"
           }
          ],
          "heatmap": [
           {
            "colorbar": {
             "outlinewidth": 0,
             "ticks": ""
            },
            "colorscale": [
             [
              0,
              "#0d0887"
             ],
             [
              0.1111111111111111,
              "#46039f"
             ],
             [
              0.2222222222222222,
              "#7201a8"
             ],
             [
              0.3333333333333333,
              "#9c179e"
             ],
             [
              0.4444444444444444,
              "#bd3786"
             ],
             [
              0.5555555555555556,
              "#d8576b"
             ],
             [
              0.6666666666666666,
              "#ed7953"
             ],
             [
              0.7777777777777778,
              "#fb9f3a"
             ],
             [
              0.8888888888888888,
              "#fdca26"
             ],
             [
              1,
              "#f0f921"
             ]
            ],
            "type": "heatmap"
           }
          ],
          "heatmapgl": [
           {
            "colorbar": {
             "outlinewidth": 0,
             "ticks": ""
            },
            "colorscale": [
             [
              0,
              "#0d0887"
             ],
             [
              0.1111111111111111,
              "#46039f"
             ],
             [
              0.2222222222222222,
              "#7201a8"
             ],
             [
              0.3333333333333333,
              "#9c179e"
             ],
             [
              0.4444444444444444,
              "#bd3786"
             ],
             [
              0.5555555555555556,
              "#d8576b"
             ],
             [
              0.6666666666666666,
              "#ed7953"
             ],
             [
              0.7777777777777778,
              "#fb9f3a"
             ],
             [
              0.8888888888888888,
              "#fdca26"
             ],
             [
              1,
              "#f0f921"
             ]
            ],
            "type": "heatmapgl"
           }
          ],
          "histogram": [
           {
            "marker": {
             "pattern": {
              "fillmode": "overlay",
              "size": 10,
              "solidity": 0.2
             }
            },
            "type": "histogram"
           }
          ],
          "histogram2d": [
           {
            "colorbar": {
             "outlinewidth": 0,
             "ticks": ""
            },
            "colorscale": [
             [
              0,
              "#0d0887"
             ],
             [
              0.1111111111111111,
              "#46039f"
             ],
             [
              0.2222222222222222,
              "#7201a8"
             ],
             [
              0.3333333333333333,
              "#9c179e"
             ],
             [
              0.4444444444444444,
              "#bd3786"
             ],
             [
              0.5555555555555556,
              "#d8576b"
             ],
             [
              0.6666666666666666,
              "#ed7953"
             ],
             [
              0.7777777777777778,
              "#fb9f3a"
             ],
             [
              0.8888888888888888,
              "#fdca26"
             ],
             [
              1,
              "#f0f921"
             ]
            ],
            "type": "histogram2d"
           }
          ],
          "histogram2dcontour": [
           {
            "colorbar": {
             "outlinewidth": 0,
             "ticks": ""
            },
            "colorscale": [
             [
              0,
              "#0d0887"
             ],
             [
              0.1111111111111111,
              "#46039f"
             ],
             [
              0.2222222222222222,
              "#7201a8"
             ],
             [
              0.3333333333333333,
              "#9c179e"
             ],
             [
              0.4444444444444444,
              "#bd3786"
             ],
             [
              0.5555555555555556,
              "#d8576b"
             ],
             [
              0.6666666666666666,
              "#ed7953"
             ],
             [
              0.7777777777777778,
              "#fb9f3a"
             ],
             [
              0.8888888888888888,
              "#fdca26"
             ],
             [
              1,
              "#f0f921"
             ]
            ],
            "type": "histogram2dcontour"
           }
          ],
          "mesh3d": [
           {
            "colorbar": {
             "outlinewidth": 0,
             "ticks": ""
            },
            "type": "mesh3d"
           }
          ],
          "parcoords": [
           {
            "line": {
             "colorbar": {
              "outlinewidth": 0,
              "ticks": ""
             }
            },
            "type": "parcoords"
           }
          ],
          "pie": [
           {
            "automargin": true,
            "type": "pie"
           }
          ],
          "scatter": [
           {
            "fillpattern": {
             "fillmode": "overlay",
             "size": 10,
             "solidity": 0.2
            },
            "type": "scatter"
           }
          ],
          "scatter3d": [
           {
            "line": {
             "colorbar": {
              "outlinewidth": 0,
              "ticks": ""
             }
            },
            "marker": {
             "colorbar": {
              "outlinewidth": 0,
              "ticks": ""
             }
            },
            "type": "scatter3d"
           }
          ],
          "scattercarpet": [
           {
            "marker": {
             "colorbar": {
              "outlinewidth": 0,
              "ticks": ""
             }
            },
            "type": "scattercarpet"
           }
          ],
          "scattergeo": [
           {
            "marker": {
             "colorbar": {
              "outlinewidth": 0,
              "ticks": ""
             }
            },
            "type": "scattergeo"
           }
          ],
          "scattergl": [
           {
            "marker": {
             "colorbar": {
              "outlinewidth": 0,
              "ticks": ""
             }
            },
            "type": "scattergl"
           }
          ],
          "scattermapbox": [
           {
            "marker": {
             "colorbar": {
              "outlinewidth": 0,
              "ticks": ""
             }
            },
            "type": "scattermapbox"
           }
          ],
          "scatterpolar": [
           {
            "marker": {
             "colorbar": {
              "outlinewidth": 0,
              "ticks": ""
             }
            },
            "type": "scatterpolar"
           }
          ],
          "scatterpolargl": [
           {
            "marker": {
             "colorbar": {
              "outlinewidth": 0,
              "ticks": ""
             }
            },
            "type": "scatterpolargl"
           }
          ],
          "scatterternary": [
           {
            "marker": {
             "colorbar": {
              "outlinewidth": 0,
              "ticks": ""
             }
            },
            "type": "scatterternary"
           }
          ],
          "surface": [
           {
            "colorbar": {
             "outlinewidth": 0,
             "ticks": ""
            },
            "colorscale": [
             [
              0,
              "#0d0887"
             ],
             [
              0.1111111111111111,
              "#46039f"
             ],
             [
              0.2222222222222222,
              "#7201a8"
             ],
             [
              0.3333333333333333,
              "#9c179e"
             ],
             [
              0.4444444444444444,
              "#bd3786"
             ],
             [
              0.5555555555555556,
              "#d8576b"
             ],
             [
              0.6666666666666666,
              "#ed7953"
             ],
             [
              0.7777777777777778,
              "#fb9f3a"
             ],
             [
              0.8888888888888888,
              "#fdca26"
             ],
             [
              1,
              "#f0f921"
             ]
            ],
            "type": "surface"
           }
          ],
          "table": [
           {
            "cells": {
             "fill": {
              "color": "#EBF0F8"
             },
             "line": {
              "color": "white"
             }
            },
            "header": {
             "fill": {
              "color": "#C8D4E3"
             },
             "line": {
              "color": "white"
             }
            },
            "type": "table"
           }
          ]
         },
         "layout": {
          "annotationdefaults": {
           "arrowcolor": "#2a3f5f",
           "arrowhead": 0,
           "arrowwidth": 1
          },
          "autotypenumbers": "strict",
          "coloraxis": {
           "colorbar": {
            "outlinewidth": 0,
            "ticks": ""
           }
          },
          "colorscale": {
           "diverging": [
            [
             0,
             "#8e0152"
            ],
            [
             0.1,
             "#c51b7d"
            ],
            [
             0.2,
             "#de77ae"
            ],
            [
             0.3,
             "#f1b6da"
            ],
            [
             0.4,
             "#fde0ef"
            ],
            [
             0.5,
             "#f7f7f7"
            ],
            [
             0.6,
             "#e6f5d0"
            ],
            [
             0.7,
             "#b8e186"
            ],
            [
             0.8,
             "#7fbc41"
            ],
            [
             0.9,
             "#4d9221"
            ],
            [
             1,
             "#276419"
            ]
           ],
           "sequential": [
            [
             0,
             "#0d0887"
            ],
            [
             0.1111111111111111,
             "#46039f"
            ],
            [
             0.2222222222222222,
             "#7201a8"
            ],
            [
             0.3333333333333333,
             "#9c179e"
            ],
            [
             0.4444444444444444,
             "#bd3786"
            ],
            [
             0.5555555555555556,
             "#d8576b"
            ],
            [
             0.6666666666666666,
             "#ed7953"
            ],
            [
             0.7777777777777778,
             "#fb9f3a"
            ],
            [
             0.8888888888888888,
             "#fdca26"
            ],
            [
             1,
             "#f0f921"
            ]
           ],
           "sequentialminus": [
            [
             0,
             "#0d0887"
            ],
            [
             0.1111111111111111,
             "#46039f"
            ],
            [
             0.2222222222222222,
             "#7201a8"
            ],
            [
             0.3333333333333333,
             "#9c179e"
            ],
            [
             0.4444444444444444,
             "#bd3786"
            ],
            [
             0.5555555555555556,
             "#d8576b"
            ],
            [
             0.6666666666666666,
             "#ed7953"
            ],
            [
             0.7777777777777778,
             "#fb9f3a"
            ],
            [
             0.8888888888888888,
             "#fdca26"
            ],
            [
             1,
             "#f0f921"
            ]
           ]
          },
          "colorway": [
           "#636efa",
           "#EF553B",
           "#00cc96",
           "#ab63fa",
           "#FFA15A",
           "#19d3f3",
           "#FF6692",
           "#B6E880",
           "#FF97FF",
           "#FECB52"
          ],
          "font": {
           "color": "#2a3f5f"
          },
          "geo": {
           "bgcolor": "white",
           "lakecolor": "white",
           "landcolor": "#E5ECF6",
           "showlakes": true,
           "showland": true,
           "subunitcolor": "white"
          },
          "hoverlabel": {
           "align": "left"
          },
          "hovermode": "closest",
          "mapbox": {
           "style": "light"
          },
          "paper_bgcolor": "white",
          "plot_bgcolor": "#E5ECF6",
          "polar": {
           "angularaxis": {
            "gridcolor": "white",
            "linecolor": "white",
            "ticks": ""
           },
           "bgcolor": "#E5ECF6",
           "radialaxis": {
            "gridcolor": "white",
            "linecolor": "white",
            "ticks": ""
           }
          },
          "scene": {
           "xaxis": {
            "backgroundcolor": "#E5ECF6",
            "gridcolor": "white",
            "gridwidth": 2,
            "linecolor": "white",
            "showbackground": true,
            "ticks": "",
            "zerolinecolor": "white"
           },
           "yaxis": {
            "backgroundcolor": "#E5ECF6",
            "gridcolor": "white",
            "gridwidth": 2,
            "linecolor": "white",
            "showbackground": true,
            "ticks": "",
            "zerolinecolor": "white"
           },
           "zaxis": {
            "backgroundcolor": "#E5ECF6",
            "gridcolor": "white",
            "gridwidth": 2,
            "linecolor": "white",
            "showbackground": true,
            "ticks": "",
            "zerolinecolor": "white"
           }
          },
          "shapedefaults": {
           "line": {
            "color": "#2a3f5f"
           }
          },
          "ternary": {
           "aaxis": {
            "gridcolor": "white",
            "linecolor": "white",
            "ticks": ""
           },
           "baxis": {
            "gridcolor": "white",
            "linecolor": "white",
            "ticks": ""
           },
           "bgcolor": "#E5ECF6",
           "caxis": {
            "gridcolor": "white",
            "linecolor": "white",
            "ticks": ""
           }
          },
          "title": {
           "x": 0.05
          },
          "xaxis": {
           "automargin": true,
           "gridcolor": "white",
           "linecolor": "white",
           "ticks": "",
           "title": {
            "standoff": 15
           },
           "zerolinecolor": "white",
           "zerolinewidth": 2
          },
          "yaxis": {
           "automargin": true,
           "gridcolor": "white",
           "linecolor": "white",
           "ticks": "",
           "title": {
            "standoff": 15
           },
           "zerolinecolor": "white",
           "zerolinewidth": 2
          }
         }
        },
        "title": {
         "text": "Interactions for H"
        },
        "xaxis": {
         "anchor": "y",
         "domain": [
          0,
          1
         ],
         "title": {
          "text": "Residue Index"
         }
        },
        "yaxis": {
         "anchor": "x",
         "domain": [
          0,
          1
         ],
         "range": [
          1.5,
          5.5
         ],
         "title": {
          "text": "Distance (angstroms)"
         }
        }
       }
      }
     },
     "metadata": {},
     "output_type": "display_data"
    }
   ],
   "source": [
    "import pandas as pd\n",
    "import plotly.express as px\n",
    "\n",
    "# Define the path to the CSV file\n",
    "csv_file_path = \"../../data/3d_predictions/motor2x_ATP_ADP_Mg2x_alphaTub_betaTub/interactions_chimeras.csv\"\n",
    "\n",
    "\n",
    "# Function to read and process the DataFrame with a distance threshold\n",
    "def process_dataframe(csv_file_path, distance_threshold):\n",
    "    df = pd.read_csv(csv_file_path)\n",
    "\n",
    "    # Filter out rows where the distance is greater than the threshold\n",
    "    df = df[df['distance (angstroms)'] <= distance_threshold]\n",
    "\n",
    "    # Map interacting_resn to single-letter codes for better readability\n",
    "    aa_dict = {\n",
    "        'ALA': 'A', 'ARG': 'R', 'ASN': 'N', 'ASP': 'D', 'CYS': 'C', 'GLN': 'Q', 'GLU': 'E', 'GLY': 'G',\n",
    "        'HIS': 'H', 'ILE': 'I', 'LEU': 'L', 'LYS': 'K', 'MET': 'M', 'PHE': 'F', 'PRO': 'P', 'SER': 'S',\n",
    "        'THR': 'T', 'TRP': 'W', 'TYR': 'Y', 'VAL': 'V'\n",
    "    }\n",
    "\n",
    "    # Replace chain letters with descriptive names\n",
    "    chain_map = {\n",
    "        'B': 'kinesin B',\n",
    "        'C': 'alpha-tubulin',\n",
    "        'D': 'beta-tubulin',\n",
    "        'E': 'ATP',\n",
    "        'F': 'ATP'\n",
    "    }\n",
    "\n",
    "    df['residue_one_letter'] = df['resn'].map(aa_dict)\n",
    "    df['residue'] = df['resi'].astype(str) + df['residue_one_letter']\n",
    "    df['interacting_chain'] = df['interacting_chain'].map(chain_map)\n",
    "    \n",
    "    return df\n",
    "\n",
    "# Function to generate plots\n",
    "def create_plots(df):\n",
    "    unique_files = df['file'].unique()\n",
    "    plots = []\n",
    "\n",
    "    # Define a fixed color mapping for interacting chains\n",
    "    color_map = {\n",
    "        'kinesin B': '#1f77b4',  # blue\n",
    "        'alpha-tubulin': '#ff7f0e',  # orange\n",
    "        'beta-tubulin': '#2ca02c',  # green\n",
    "        'ATP': '#d62728',  # red\n",
    "    }\n",
    "\n",
    "    for file in unique_files:\n",
    "        df_file = df[df['file'] == file]\n",
    "\n",
    "        # Filter to get the shortest distances for each interaction\n",
    "        df_filtered = df_file.loc[df_file[df_file['chain'] == 'A'].groupby(['resi', 'interacting_chain'])['distance (angstroms)'].idxmin()]\n",
    "\n",
    "        # Create the interactive plot with consistent color mapping\n",
    "        fig = px.scatter(df_filtered, x='resi', y='distance (angstroms)', color='interacting_chain', text='residue_one_letter',\n",
    "                         color_discrete_map=color_map,\n",
    "                         labels={'resi': 'Residue Index', 'distance (angstroms)': 'Distance (angstroms)', 'interacting_chain': 'Interacting Chain'},\n",
    "                         title=f\"Interactions for {file}\")\n",
    "\n",
    "        # Update layout for better visualization\n",
    "        fig.update_traces(textposition='top center', marker=dict(size=10, opacity=0.6))\n",
    "        fig.update_layout(\n",
    "            legend_title_text='Interacting Chain',\n",
    "            # xaxis_range=[0, 401],  # Set a fixed range for the x-axis\n",
    "            yaxis_range=[1.5, 5.5]  # Set a fixed range for the y-axis\n",
    "        )\n",
    "\n",
    "        # Show the plot\n",
    "        fig.show()\n",
    "\n",
    "        plots.append(fig)\n",
    "\n",
    "    return plots\n",
    "\n",
    "# Define the threshold value for distance filtering\n",
    "distance_threshold = 5\n",
    "\n",
    "# Process the DataFrame with a distance threshold\n",
    "df_processed = process_dataframe(csv_file_path, distance_threshold)\n",
    "\n",
    "# Create and display the plots\n",
    "plots = create_plots(df_processed)\n",
    "\n"
   ]
  },
  {
   "cell_type": "code",
   "execution_count": 2,
   "metadata": {},
   "outputs": [
    {
     "data": {
      "text/html": [
       "<div>\n",
       "<style scoped>\n",
       "    .dataframe tbody tr th:only-of-type {\n",
       "        vertical-align: middle;\n",
       "    }\n",
       "\n",
       "    .dataframe tbody tr th {\n",
       "        vertical-align: top;\n",
       "    }\n",
       "\n",
       "    .dataframe thead th {\n",
       "        text-align: right;\n",
       "    }\n",
       "</style>\n",
       "<table border=\"1\" class=\"dataframe\">\n",
       "  <thead>\n",
       "    <tr style=\"text-align: right;\">\n",
       "      <th></th>\n",
       "      <th>file</th>\n",
       "      <th>chain</th>\n",
       "      <th>resi</th>\n",
       "      <th>resn</th>\n",
       "      <th>atom_name</th>\n",
       "      <th>interacting_atom</th>\n",
       "      <th>interacting_resn</th>\n",
       "      <th>interacting_chain</th>\n",
       "      <th>interacting_resinumber</th>\n",
       "      <th>distance (angstroms)</th>\n",
       "      <th>residue_one_letter</th>\n",
       "      <th>full_atom_name</th>\n",
       "      <th>interacting_full_atom_name</th>\n",
       "      <th>interactingresi_oneletter</th>\n",
       "      <th>residue</th>\n",
       "    </tr>\n",
       "  </thead>\n",
       "  <tbody>\n",
       "    <tr>\n",
       "      <th>0</th>\n",
       "      <td>A</td>\n",
       "      <td>A</td>\n",
       "      <td>20</td>\n",
       "      <td>ARG</td>\n",
       "      <td>CB</td>\n",
       "      <td>N6</td>\n",
       "      <td>ATP</td>\n",
       "      <td>ATP</td>\n",
       "      <td>1</td>\n",
       "      <td>3.812164</td>\n",
       "      <td>R</td>\n",
       "      <td>Carbon beta</td>\n",
       "      <td>Nitrogen 6</td>\n",
       "      <td>?</td>\n",
       "      <td>20R</td>\n",
       "    </tr>\n",
       "    <tr>\n",
       "      <th>1</th>\n",
       "      <td>A</td>\n",
       "      <td>A</td>\n",
       "      <td>390</td>\n",
       "      <td>MET</td>\n",
       "      <td>CE</td>\n",
       "      <td>CB</td>\n",
       "      <td>ALA</td>\n",
       "      <td>kinesin B</td>\n",
       "      <td>374</td>\n",
       "      <td>4.839472</td>\n",
       "      <td>M</td>\n",
       "      <td>Carbon epsilon</td>\n",
       "      <td>Carbon beta</td>\n",
       "      <td>A</td>\n",
       "      <td>390M</td>\n",
       "    </tr>\n",
       "    <tr>\n",
       "      <th>2</th>\n",
       "      <td>A</td>\n",
       "      <td>A</td>\n",
       "      <td>281</td>\n",
       "      <td>THR</td>\n",
       "      <td>O</td>\n",
       "      <td>O</td>\n",
       "      <td>SER</td>\n",
       "      <td>beta-tubulin</td>\n",
       "      <td>420</td>\n",
       "      <td>4.738062</td>\n",
       "      <td>T</td>\n",
       "      <td>Oxygen</td>\n",
       "      <td>Oxygen</td>\n",
       "      <td>S</td>\n",
       "      <td>281T</td>\n",
       "    </tr>\n",
       "    <tr>\n",
       "      <th>3</th>\n",
       "      <td>A</td>\n",
       "      <td>E</td>\n",
       "      <td>1</td>\n",
       "      <td>ATP</td>\n",
       "      <td>O1B</td>\n",
       "      <td>N</td>\n",
       "      <td>THR</td>\n",
       "      <td>NaN</td>\n",
       "      <td>99</td>\n",
       "      <td>3.176111</td>\n",
       "      <td>NaN</td>\n",
       "      <td>Oxygen 1 beta</td>\n",
       "      <td>Nitrogen</td>\n",
       "      <td>T</td>\n",
       "      <td>NaN</td>\n",
       "    </tr>\n",
       "    <tr>\n",
       "      <th>4</th>\n",
       "      <td>A</td>\n",
       "      <td>A</td>\n",
       "      <td>100</td>\n",
       "      <td>HIS</td>\n",
       "      <td>NE2</td>\n",
       "      <td>C6</td>\n",
       "      <td>ATP</td>\n",
       "      <td>ATP</td>\n",
       "      <td>1</td>\n",
       "      <td>3.924167</td>\n",
       "      <td>H</td>\n",
       "      <td>Nitrogen epsilon 2</td>\n",
       "      <td>Carbon 6</td>\n",
       "      <td>?</td>\n",
       "      <td>100H</td>\n",
       "    </tr>\n",
       "    <tr>\n",
       "      <th>...</th>\n",
       "      <td>...</td>\n",
       "      <td>...</td>\n",
       "      <td>...</td>\n",
       "      <td>...</td>\n",
       "      <td>...</td>\n",
       "      <td>...</td>\n",
       "      <td>...</td>\n",
       "      <td>...</td>\n",
       "      <td>...</td>\n",
       "      <td>...</td>\n",
       "      <td>...</td>\n",
       "      <td>...</td>\n",
       "      <td>...</td>\n",
       "      <td>...</td>\n",
       "      <td>...</td>\n",
       "    </tr>\n",
       "    <tr>\n",
       "      <th>29938</th>\n",
       "      <td>H</td>\n",
       "      <td>A</td>\n",
       "      <td>529</td>\n",
       "      <td>LYS</td>\n",
       "      <td>CE</td>\n",
       "      <td>CD1</td>\n",
       "      <td>LEU</td>\n",
       "      <td>kinesin B</td>\n",
       "      <td>528</td>\n",
       "      <td>4.207914</td>\n",
       "      <td>K</td>\n",
       "      <td>Carbon epsilon</td>\n",
       "      <td>Carbon delta 1</td>\n",
       "      <td>L</td>\n",
       "      <td>529K</td>\n",
       "    </tr>\n",
       "    <tr>\n",
       "      <th>29939</th>\n",
       "      <td>H</td>\n",
       "      <td>F</td>\n",
       "      <td>1</td>\n",
       "      <td>ADP</td>\n",
       "      <td>PA</td>\n",
       "      <td>C4'</td>\n",
       "      <td>ADP</td>\n",
       "      <td>ATP</td>\n",
       "      <td>1</td>\n",
       "      <td>3.791272</td>\n",
       "      <td>NaN</td>\n",
       "      <td>Phosphorus alpha</td>\n",
       "      <td>Carbon 4 prime</td>\n",
       "      <td>?</td>\n",
       "      <td>NaN</td>\n",
       "    </tr>\n",
       "    <tr>\n",
       "      <th>29940</th>\n",
       "      <td>H</td>\n",
       "      <td>E</td>\n",
       "      <td>1</td>\n",
       "      <td>ATP</td>\n",
       "      <td>O1A</td>\n",
       "      <td>N</td>\n",
       "      <td>PHE</td>\n",
       "      <td>NaN</td>\n",
       "      <td>93</td>\n",
       "      <td>2.869316</td>\n",
       "      <td>NaN</td>\n",
       "      <td>Oxygen 1 alpha</td>\n",
       "      <td>Nitrogen</td>\n",
       "      <td>F</td>\n",
       "      <td>NaN</td>\n",
       "    </tr>\n",
       "    <tr>\n",
       "      <th>29941</th>\n",
       "      <td>H</td>\n",
       "      <td>B</td>\n",
       "      <td>508</td>\n",
       "      <td>ASN</td>\n",
       "      <td>CB</td>\n",
       "      <td>NE1</td>\n",
       "      <td>TRP</td>\n",
       "      <td>beta-tubulin</td>\n",
       "      <td>397</td>\n",
       "      <td>4.689272</td>\n",
       "      <td>N</td>\n",
       "      <td>Carbon beta</td>\n",
       "      <td>Unknown</td>\n",
       "      <td>W</td>\n",
       "      <td>508N</td>\n",
       "    </tr>\n",
       "    <tr>\n",
       "      <th>29942</th>\n",
       "      <td>H</td>\n",
       "      <td>A</td>\n",
       "      <td>567</td>\n",
       "      <td>ILE</td>\n",
       "      <td>CD1</td>\n",
       "      <td>CD1</td>\n",
       "      <td>ILE</td>\n",
       "      <td>kinesin B</td>\n",
       "      <td>567</td>\n",
       "      <td>3.959790</td>\n",
       "      <td>I</td>\n",
       "      <td>Carbon delta 1</td>\n",
       "      <td>Carbon delta 1</td>\n",
       "      <td>I</td>\n",
       "      <td>567I</td>\n",
       "    </tr>\n",
       "  </tbody>\n",
       "</table>\n",
       "<p>29943 rows × 15 columns</p>\n",
       "</div>"
      ],
      "text/plain": [
       "      file chain  resi resn atom_name interacting_atom interacting_resn  \\\n",
       "0        A     A    20  ARG        CB               N6              ATP   \n",
       "1        A     A   390  MET        CE               CB              ALA   \n",
       "2        A     A   281  THR         O                O              SER   \n",
       "3        A     E     1  ATP       O1B                N              THR   \n",
       "4        A     A   100  HIS       NE2               C6              ATP   \n",
       "...    ...   ...   ...  ...       ...              ...              ...   \n",
       "29938    H     A   529  LYS        CE              CD1              LEU   \n",
       "29939    H     F     1  ADP        PA              C4'              ADP   \n",
       "29940    H     E     1  ATP       O1A                N              PHE   \n",
       "29941    H     B   508  ASN        CB              NE1              TRP   \n",
       "29942    H     A   567  ILE       CD1              CD1              ILE   \n",
       "\n",
       "      interacting_chain  interacting_resinumber  distance (angstroms)  \\\n",
       "0                   ATP                       1              3.812164   \n",
       "1             kinesin B                     374              4.839472   \n",
       "2          beta-tubulin                     420              4.738062   \n",
       "3                   NaN                      99              3.176111   \n",
       "4                   ATP                       1              3.924167   \n",
       "...                 ...                     ...                   ...   \n",
       "29938         kinesin B                     528              4.207914   \n",
       "29939               ATP                       1              3.791272   \n",
       "29940               NaN                      93              2.869316   \n",
       "29941      beta-tubulin                     397              4.689272   \n",
       "29942         kinesin B                     567              3.959790   \n",
       "\n",
       "      residue_one_letter      full_atom_name interacting_full_atom_name  \\\n",
       "0                      R         Carbon beta                 Nitrogen 6   \n",
       "1                      M      Carbon epsilon                Carbon beta   \n",
       "2                      T              Oxygen                     Oxygen   \n",
       "3                    NaN       Oxygen 1 beta                   Nitrogen   \n",
       "4                      H  Nitrogen epsilon 2                   Carbon 6   \n",
       "...                  ...                 ...                        ...   \n",
       "29938                  K      Carbon epsilon             Carbon delta 1   \n",
       "29939                NaN    Phosphorus alpha             Carbon 4 prime   \n",
       "29940                NaN      Oxygen 1 alpha                   Nitrogen   \n",
       "29941                  N         Carbon beta                    Unknown   \n",
       "29942                  I      Carbon delta 1             Carbon delta 1   \n",
       "\n",
       "      interactingresi_oneletter residue  \n",
       "0                             ?     20R  \n",
       "1                             A    390M  \n",
       "2                             S    281T  \n",
       "3                             T     NaN  \n",
       "4                             ?    100H  \n",
       "...                         ...     ...  \n",
       "29938                         L    529K  \n",
       "29939                         ?     NaN  \n",
       "29940                         F     NaN  \n",
       "29941                         W    508N  \n",
       "29942                         I    567I  \n",
       "\n",
       "[29943 rows x 15 columns]"
      ]
     },
     "execution_count": 2,
     "metadata": {},
     "output_type": "execute_result"
    }
   ],
   "source": [
    "df_processed"
   ]
  },
  {
   "cell_type": "code",
   "execution_count": 5,
   "metadata": {},
   "outputs": [
    {
     "data": {
      "text/html": [
       "<div>\n",
       "<style scoped>\n",
       "    .dataframe tbody tr th:only-of-type {\n",
       "        vertical-align: middle;\n",
       "    }\n",
       "\n",
       "    .dataframe tbody tr th {\n",
       "        vertical-align: top;\n",
       "    }\n",
       "\n",
       "    .dataframe thead th {\n",
       "        text-align: right;\n",
       "    }\n",
       "</style>\n",
       "<table border=\"1\" class=\"dataframe\">\n",
       "  <thead>\n",
       "    <tr style=\"text-align: right;\">\n",
       "      <th></th>\n",
       "      <th>file</th>\n",
       "      <th>resi</th>\n",
       "      <th>aminoacid</th>\n",
       "      <th>interacting_partner</th>\n",
       "    </tr>\n",
       "  </thead>\n",
       "  <tbody>\n",
       "    <tr>\n",
       "      <th>0</th>\n",
       "      <td>A</td>\n",
       "      <td>18</td>\n",
       "      <td>R</td>\n",
       "      <td>ATP</td>\n",
       "    </tr>\n",
       "    <tr>\n",
       "      <th>1</th>\n",
       "      <td>A</td>\n",
       "      <td>19</td>\n",
       "      <td>F</td>\n",
       "      <td>ATP</td>\n",
       "    </tr>\n",
       "    <tr>\n",
       "      <th>2</th>\n",
       "      <td>A</td>\n",
       "      <td>20</td>\n",
       "      <td>R</td>\n",
       "      <td>ATP</td>\n",
       "    </tr>\n",
       "    <tr>\n",
       "      <th>3</th>\n",
       "      <td>A</td>\n",
       "      <td>21</td>\n",
       "      <td>P</td>\n",
       "      <td>ATP</td>\n",
       "    </tr>\n",
       "    <tr>\n",
       "      <th>4</th>\n",
       "      <td>A</td>\n",
       "      <td>51</td>\n",
       "      <td>K</td>\n",
       "      <td>beta-tubulin</td>\n",
       "    </tr>\n",
       "    <tr>\n",
       "      <th>...</th>\n",
       "      <td>...</td>\n",
       "      <td>...</td>\n",
       "      <td>...</td>\n",
       "      <td>...</td>\n",
       "    </tr>\n",
       "    <tr>\n",
       "      <th>1126</th>\n",
       "      <td>H</td>\n",
       "      <td>575</td>\n",
       "      <td>I</td>\n",
       "      <td>kinesin B</td>\n",
       "    </tr>\n",
       "    <tr>\n",
       "      <th>1127</th>\n",
       "      <td>H</td>\n",
       "      <td>577</td>\n",
       "      <td>S</td>\n",
       "      <td>kinesin B</td>\n",
       "    </tr>\n",
       "    <tr>\n",
       "      <th>1128</th>\n",
       "      <td>H</td>\n",
       "      <td>578</td>\n",
       "      <td>L</td>\n",
       "      <td>kinesin B</td>\n",
       "    </tr>\n",
       "    <tr>\n",
       "      <th>1129</th>\n",
       "      <td>H</td>\n",
       "      <td>579</td>\n",
       "      <td>V</td>\n",
       "      <td>kinesin B</td>\n",
       "    </tr>\n",
       "    <tr>\n",
       "      <th>1130</th>\n",
       "      <td>H</td>\n",
       "      <td>580</td>\n",
       "      <td>P</td>\n",
       "      <td>kinesin B</td>\n",
       "    </tr>\n",
       "  </tbody>\n",
       "</table>\n",
       "<p>1131 rows × 4 columns</p>\n",
       "</div>"
      ],
      "text/plain": [
       "     file  resi aminoacid interacting_partner\n",
       "0       A    18         R                 ATP\n",
       "1       A    19         F                 ATP\n",
       "2       A    20         R                 ATP\n",
       "3       A    21         P                 ATP\n",
       "4       A    51         K        beta-tubulin\n",
       "...   ...   ...       ...                 ...\n",
       "1126    H   575         I           kinesin B\n",
       "1127    H   577         S           kinesin B\n",
       "1128    H   578         L           kinesin B\n",
       "1129    H   579         V           kinesin B\n",
       "1130    H   580         P           kinesin B\n",
       "\n",
       "[1131 rows x 4 columns]"
      ]
     },
     "execution_count": 5,
     "metadata": {},
     "output_type": "execute_result"
    }
   ],
   "source": [
    "# New function to extract interacting amino acids and positions with 'file', 'resi', 'aminoacid', and 'interacting_partner'\n",
    "def extract_interacting_amino_acids(df):\n",
    "    # Filter for rows where chain 'A' is interacting with other chains\n",
    "    df_chain_A = df[df['chain'] == 'A'].copy()  # Use .copy() to avoid modifying a view\n",
    "\n",
    "    # Select relevant columns: file, residue index, one-letter amino acid code, interacting chain\n",
    "    interactions = df_chain_A[['file', 'resi', 'residue_one_letter', 'interacting_chain']]\n",
    "\n",
    "    # Remove duplicates (in case there are multiple interactions at the same residue)\n",
    "    interactions = interactions.drop_duplicates()\n",
    "\n",
    "    # Rename columns to match your requirements\n",
    "    interactions.rename(columns={'file': 'file', 'residue_one_letter': 'aminoacid', 'interacting_chain': 'interacting_partner'}, inplace=True)\n",
    "\n",
    "    # Sort by 'file' and 'resi' to ensure correct ranking\n",
    "    interactions = interactions.sort_values(by=['file', 'resi'])\n",
    "\n",
    "    # reset the index and delete the old index column\n",
    "    interactions.reset_index(drop=True, inplace=True)\n",
    "\n",
    "    # Return the final DataFrame with 'file', 'resi', 'aminoacid', and 'interacting_partner'\n",
    "    return interactions\n",
    "\n",
    "# Extract interacting amino acids and their partners with 'file', 'resi', 'aminoacid', and 'interacting_partner'\n",
    "interacting_amino_acids = extract_interacting_amino_acids(df_processed)\n",
    "interacting_amino_acids"
   ]
  },
  {
   "cell_type": "code",
   "execution_count": 11,
   "metadata": {},
   "outputs": [
    {
     "data": {
      "text/html": [
       "<div>\n",
       "<style scoped>\n",
       "    .dataframe tbody tr th:only-of-type {\n",
       "        vertical-align: middle;\n",
       "    }\n",
       "\n",
       "    .dataframe tbody tr th {\n",
       "        vertical-align: top;\n",
       "    }\n",
       "\n",
       "    .dataframe thead th {\n",
       "        text-align: right;\n",
       "    }\n",
       "</style>\n",
       "<table border=\"1\" class=\"dataframe\">\n",
       "  <thead>\n",
       "    <tr style=\"text-align: right;\">\n",
       "      <th></th>\n",
       "      <th>file</th>\n",
       "      <th>resi</th>\n",
       "      <th>aminoacid</th>\n",
       "      <th>interacting_partner</th>\n",
       "    </tr>\n",
       "  </thead>\n",
       "  <tbody>\n",
       "    <tr>\n",
       "      <th>4</th>\n",
       "      <td>A</td>\n",
       "      <td>51</td>\n",
       "      <td>K</td>\n",
       "      <td>beta-tubulin</td>\n",
       "    </tr>\n",
       "    <tr>\n",
       "      <th>15</th>\n",
       "      <td>A</td>\n",
       "      <td>148</td>\n",
       "      <td>K</td>\n",
       "      <td>beta-tubulin</td>\n",
       "    </tr>\n",
       "    <tr>\n",
       "      <th>16</th>\n",
       "      <td>A</td>\n",
       "      <td>159</td>\n",
       "      <td>N</td>\n",
       "      <td>beta-tubulin</td>\n",
       "    </tr>\n",
       "    <tr>\n",
       "      <th>17</th>\n",
       "      <td>A</td>\n",
       "      <td>162</td>\n",
       "      <td>V</td>\n",
       "      <td>beta-tubulin</td>\n",
       "    </tr>\n",
       "    <tr>\n",
       "      <th>18</th>\n",
       "      <td>A</td>\n",
       "      <td>163</td>\n",
       "      <td>H</td>\n",
       "      <td>beta-tubulin</td>\n",
       "    </tr>\n",
       "    <tr>\n",
       "      <th>19</th>\n",
       "      <td>A</td>\n",
       "      <td>164</td>\n",
       "      <td>E</td>\n",
       "      <td>beta-tubulin</td>\n",
       "    </tr>\n",
       "    <tr>\n",
       "      <th>20</th>\n",
       "      <td>A</td>\n",
       "      <td>165</td>\n",
       "      <td>D</td>\n",
       "      <td>beta-tubulin</td>\n",
       "    </tr>\n",
       "    <tr>\n",
       "      <th>22</th>\n",
       "      <td>A</td>\n",
       "      <td>166</td>\n",
       "      <td>K</td>\n",
       "      <td>beta-tubulin</td>\n",
       "    </tr>\n",
       "    <tr>\n",
       "      <th>24</th>\n",
       "      <td>A</td>\n",
       "      <td>168</td>\n",
       "      <td>R</td>\n",
       "      <td>beta-tubulin</td>\n",
       "    </tr>\n",
       "    <tr>\n",
       "      <th>25</th>\n",
       "      <td>A</td>\n",
       "      <td>171</td>\n",
       "      <td>Y</td>\n",
       "      <td>beta-tubulin</td>\n",
       "    </tr>\n",
       "    <tr>\n",
       "      <th>54</th>\n",
       "      <td>A</td>\n",
       "      <td>277</td>\n",
       "      <td>D</td>\n",
       "      <td>beta-tubulin</td>\n",
       "    </tr>\n",
       "    <tr>\n",
       "      <th>55</th>\n",
       "      <td>A</td>\n",
       "      <td>279</td>\n",
       "      <td>N</td>\n",
       "      <td>beta-tubulin</td>\n",
       "    </tr>\n",
       "    <tr>\n",
       "      <th>56</th>\n",
       "      <td>A</td>\n",
       "      <td>281</td>\n",
       "      <td>T</td>\n",
       "      <td>beta-tubulin</td>\n",
       "    </tr>\n",
       "    <tr>\n",
       "      <th>57</th>\n",
       "      <td>A</td>\n",
       "      <td>282</td>\n",
       "      <td>H</td>\n",
       "      <td>beta-tubulin</td>\n",
       "    </tr>\n",
       "    <tr>\n",
       "      <th>58</th>\n",
       "      <td>A</td>\n",
       "      <td>283</td>\n",
       "      <td>I</td>\n",
       "      <td>beta-tubulin</td>\n",
       "    </tr>\n",
       "    <tr>\n",
       "      <th>59</th>\n",
       "      <td>A</td>\n",
       "      <td>286</td>\n",
       "      <td>R</td>\n",
       "      <td>beta-tubulin</td>\n",
       "    </tr>\n",
       "    <tr>\n",
       "      <th>60</th>\n",
       "      <td>A</td>\n",
       "      <td>287</td>\n",
       "      <td>D</td>\n",
       "      <td>beta-tubulin</td>\n",
       "    </tr>\n",
       "    <tr>\n",
       "      <th>61</th>\n",
       "      <td>A</td>\n",
       "      <td>292</td>\n",
       "      <td>R</td>\n",
       "      <td>beta-tubulin</td>\n",
       "    </tr>\n",
       "    <tr>\n",
       "      <th>65</th>\n",
       "      <td>A</td>\n",
       "      <td>328</td>\n",
       "      <td>R</td>\n",
       "      <td>beta-tubulin</td>\n",
       "    </tr>\n",
       "    <tr>\n",
       "      <th>66</th>\n",
       "      <td>A</td>\n",
       "      <td>329</td>\n",
       "      <td>R</td>\n",
       "      <td>beta-tubulin</td>\n",
       "    </tr>\n",
       "  </tbody>\n",
       "</table>\n",
       "</div>"
      ],
      "text/plain": [
       "   file  resi aminoacid interacting_partner\n",
       "4     A    51         K        beta-tubulin\n",
       "15    A   148         K        beta-tubulin\n",
       "16    A   159         N        beta-tubulin\n",
       "17    A   162         V        beta-tubulin\n",
       "18    A   163         H        beta-tubulin\n",
       "19    A   164         E        beta-tubulin\n",
       "20    A   165         D        beta-tubulin\n",
       "22    A   166         K        beta-tubulin\n",
       "24    A   168         R        beta-tubulin\n",
       "25    A   171         Y        beta-tubulin\n",
       "54    A   277         D        beta-tubulin\n",
       "55    A   279         N        beta-tubulin\n",
       "56    A   281         T        beta-tubulin\n",
       "57    A   282         H        beta-tubulin\n",
       "58    A   283         I        beta-tubulin\n",
       "59    A   286         R        beta-tubulin\n",
       "60    A   287         D        beta-tubulin\n",
       "61    A   292         R        beta-tubulin\n",
       "65    A   328         R        beta-tubulin\n",
       "66    A   329         R        beta-tubulin"
      ]
     },
     "execution_count": 11,
     "metadata": {},
     "output_type": "execute_result"
    }
   ],
   "source": [
    "# lets expand interacting_amino_acids.loc[interacting_amino_acids['file'] == 'A'] to also include only the ones with 'ATP as interacting_partner\n",
    "A_ATP = interacting_amino_acids.loc[(interacting_amino_acids['file'] == 'A') & (interacting_amino_acids['interacting_partner'] == 'beta-tubulin') ]\n",
    "\n",
    "A_ATP"
   ]
  },
  {
   "cell_type": "code",
   "execution_count": 6,
   "metadata": {},
   "outputs": [],
   "source": [
    "# # New function to extract interacting amino acids and positions for each chain automatically\n",
    "# def extract_interacting_amino_acids_per_chain(df):\n",
    "#     # Create an empty dictionary to store DataFrames for each chain\n",
    "#     chain_dataframes = {}\n",
    "\n",
    "#     # Get all unique chains from the DataFrame (e.g., A, B, C, D, etc.)\n",
    "#     unique_chains = df['chain'].unique()\n",
    "\n",
    "#     # Loop through each chain and process interactions\n",
    "#     for chain in unique_chains:\n",
    "#         # Filter for rows where the current chain is interacting with other chains\n",
    "#         df_chain = df[df['chain'] == chain].copy()  # Use .copy() to avoid modifying a view\n",
    "\n",
    "#         # Select relevant columns: file, residue index, one-letter amino acid code, interacting chain\n",
    "#         interactions = df_chain[['file', 'resi', 'residue_one_letter', 'interacting_chain']]\n",
    "\n",
    "#         # Remove duplicates (in case there are multiple interactions at the same residue)\n",
    "#         interactions = interactions.drop_duplicates()\n",
    "\n",
    "#         # Rename columns to match your requirements\n",
    "#         interactions.rename(columns={'file': 'file', 'residue_one_letter': 'aminoacid', 'interacting_chain': 'interacting_partner'}, inplace=True)\n",
    "\n",
    "#         # Corrected line to sort by 'file' and 'resi'\n",
    "#         interactions = interactions.sort_values(['file', 'resi'])\n",
    "\n",
    "#         # Reset the index and delete the old index column\n",
    "#         interactions.reset_index(drop=True, inplace=True)\n",
    "\n",
    "#         # Store the DataFrame in the dictionary with the chain as the key\n",
    "#         chain_dataframes[chain] = interactions\n",
    "\n",
    "#     # Return the dictionary containing DataFrames for each chain\n",
    "#     return chain_dataframes\n",
    "\n",
    "# # Usage of the function\n",
    "# interacting_amino_acids_per_chain = extract_interacting_amino_acids_per_chain(df_processed)\n",
    "\n",
    "# # Dynamically access all DataFrames for all chains\n",
    "# for chain, df_chain in interacting_amino_acids_per_chain.items():\n",
    "#     print(f\"Chain {chain}:\")\n",
    "#     print(df_chain.head())  # Display the first few rows of each chain's DataFrame\n"
   ]
  },
  {
   "cell_type": "code",
   "execution_count": 68,
   "metadata": {},
   "outputs": [],
   "source": [
    "# Function to extract amino acid sequences and export them to a .fasta file\n",
    "def extract_aminoacid_sequence_to_fasta(df, fasta_filename):\n",
    "    # Filter for rows where chain 'A' is interacting with other chains\n",
    "    df_chain_A = df[df['chain'] == 'A'].copy()  # Use .copy() to avoid modifying a view\n",
    "\n",
    "    # Select relevant columns: file, residue index, one-letter amino acid code\n",
    "    interactions = df_chain_A[['file', 'resi', 'residue_one_letter']]\n",
    "\n",
    "    # Remove duplicates (in case there are multiple interactions at the same residue)\n",
    "    interactions = interactions.drop_duplicates()\n",
    "\n",
    "    # Sort by 'file' and 'resi' to ensure correct ranking\n",
    "    interactions = interactions.sort_values(by=['file', 'resi'])\n",
    "\n",
    "    # Group by 'file' and concatenate the amino acids in order of 'resi'\n",
    "    aminoacid_sequences = interactions.groupby('file')['residue_one_letter'].agg(lambda x: ''.join(x)).reset_index()\n",
    "\n",
    "    # Create the FASTA file\n",
    "    with open(fasta_filename, 'w') as fasta_file:\n",
    "        for _, row in aminoacid_sequences.iterrows():\n",
    "            fasta_file.write(f\">{row['file']}\\n\")\n",
    "            fasta_file.write(f\"{row['residue_one_letter']}\\n\")\n",
    "\n",
    "# Define the filename for the output .fasta file\n",
    "fasta_filename = '../../data/interacting_aminoacid_sequences.fasta'\n",
    "\n",
    "# Extract amino acid sequences and write to .fasta file\n",
    "extract_aminoacid_sequence_to_fasta(df_processed, fasta_filename)\n"
   ]
  },
  {
   "cell_type": "code",
   "execution_count": null,
   "metadata": {},
   "outputs": [],
   "source": []
  }
 ],
 "metadata": {
  "kernelspec": {
   "display_name": "base",
   "language": "python",
   "name": "python3"
  },
  "language_info": {
   "codemirror_mode": {
    "name": "ipython",
    "version": 3
   },
   "file_extension": ".py",
   "mimetype": "text/x-python",
   "name": "python",
   "nbconvert_exporter": "python",
   "pygments_lexer": "ipython3",
   "version": "3.11.5"
  }
 },
 "nbformat": 4,
 "nbformat_minor": 2
}
