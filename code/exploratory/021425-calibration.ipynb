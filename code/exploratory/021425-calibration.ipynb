{
 "cells": [
  {
   "cell_type": "code",
   "execution_count": 2,
   "metadata": {},
   "outputs": [],
   "source": [
    "## Import relevant libraries\n",
    "import sys\n",
    "import glob\n",
    "\n",
    "sys.path.append('../../py_files/')\n",
    "import quadrop as qd\n",
    "\n",
    "qd.set_plotting_style()"
   ]
  },
  {
   "cell_type": "markdown",
   "metadata": {},
   "source": [
    "### Data pre-procesing"
   ]
  },
  {
   "cell_type": "code",
   "execution_count": 3,
   "metadata": {},
   "outputs": [],
   "source": [
    "# # Example usage\n",
    "# base_dir = \"../../../../Thomson Lab Dropbox/David Larios/activedrops/ubuntu/111624-C-E-G-RT/\"\n",
    "# qd.consolidate_images(base_dir)"
   ]
  },
  {
   "cell_type": "code",
   "execution_count": 4,
   "metadata": {},
   "outputs": [
    {
     "name": "stdout",
     "output_type": "stream",
     "text": [
      "Warning: ../../../../Thomson Lab Dropbox/David Larios/activedrops/main/021425-calibration-yfp/2p5ulTMB-1ulYFP_2/Pos0 does not exist. Skipping.\n",
      "Warning: ../../../../Thomson Lab Dropbox/David Larios/activedrops/main/021425-calibration-yfp/2p5ulTMB-1ulYFP_2/Pos1 does not exist. Skipping.\n",
      "Warning: ../../../../Thomson Lab Dropbox/David Larios/activedrops/main/021425-calibration-yfp/2p5ulTMB-1ulYFP_2/Pos2 does not exist. Skipping.\n",
      "Warning: ../../../../Thomson Lab Dropbox/David Larios/activedrops/main/021425-calibration-yfp/2p5ulTMB-1ulYFP_2/Pos3 does not exist. Skipping.\n",
      "Warning: ../../../../Thomson Lab Dropbox/David Larios/activedrops/main/021425-calibration-yfp/2p5ulTMB-1ulYFP_2/Pos4 does not exist. Skipping.\n",
      "Warning: ../../../../Thomson Lab Dropbox/David Larios/activedrops/main/021425-calibration-yfp/2p5ulTMB-1ulYFP_2/Pos5 does not exist. Skipping.\n",
      "Warning: ../../../../Thomson Lab Dropbox/David Larios/activedrops/main/021425-calibration-yfp/2p5ulTMB-1ulYFP_2/Pos6 does not exist. Skipping.\n",
      "Warning: ../../../../Thomson Lab Dropbox/David Larios/activedrops/main/021425-calibration-yfp/2p5ulTMB-1ulYFP_2/Pos7 does not exist. Skipping.\n",
      "Conditions: ['1', '2', '3', '4', '5', '6', '7', '8']\n",
      "Subconditions: ['Rep1']\n"
     ]
    }
   ],
   "source": [
    "# Example usage\n",
    "data_path = \"../../../../Thomson Lab Dropbox/David Larios/activedrops/main/021425-calibration-yfp/2p5ulTMB-1ulYFP_2/\"\n",
    "\n",
    "calibration_curve_paths = sorted(glob.glob(\"../../../../Thomson Lab Dropbox/David Larios/activedrops/calibration_curve/***ugml.tif\"))\n",
    "\n",
    "\n",
    "conditions_dict = {\n",
    "    \"1\": \"Pos0\", \n",
    "    \"2\": \"Pos1\",\n",
    "    \"3\": \"Pos2\",\n",
    "    \"4\": \"Pos3\",\n",
    "    \"5\": \"Pos4\",\n",
    "    \"6\": \"Pos5\",\n",
    "    \"7\": \"Pos6\",\n",
    "    \"8\": \"Pos7\",\n",
    "}\n",
    "\n",
    "# Organize PosX folders into condition folders\n",
    "qd.organize_conditions(data_path, conditions_dict)\n",
    "\n",
    "# Now run the existing functions to reorganize the tiffs and rename the folders\n",
    "conditions, subconditions = qd.prepare_conditions(data_path)\n",
    "time_interval_list = [30] * len(conditions)  # time intervals in seconds between frames for each condition\n",
    "subconditions = ['Rep1']\n",
    "print(\"Conditions:\", conditions)\n",
    "print(\"Subconditions:\", subconditions)\n",
    "\n"
   ]
  },
  {
   "cell_type": "code",
   "execution_count": null,
   "metadata": {},
   "outputs": [],
   "source": [
    "qd.reorgTiffsToOriginal(data_path, conditions, subconditions)\n"
   ]
  },
  {
   "cell_type": "markdown",
   "metadata": {},
   "source": [
    "### Generate movies"
   ]
  },
  {
   "cell_type": "code",
   "execution_count": null,
   "metadata": {},
   "outputs": [],
   "source": [
    "# Call the function\n",
    "qd.fluorescence_heatmap(\n",
    "    data_path, \n",
    "    conditions, \n",
    "    subconditions, \n",
    "    channel='cy5', \n",
    "    time_interval_list=time_interval_list, \n",
    "    vmax=15, \n",
    "    skip_frames=2, \n",
    "    calibration_curve_paths=calibration_curve_paths, \n",
    "    show_scalebar=False,\n",
    "    )"
   ]
  },
  {
   "cell_type": "code",
   "execution_count": null,
   "metadata": {},
   "outputs": [],
   "source": [
    "# Example usage\n",
    "qd.create_movies(\n",
    "    data_path, \n",
    "    conditions, \n",
    "    subconditions, \n",
    "    channel='cy5', \n",
    "    frame_rate=60,\n",
    "    skip_frames=1\n",
    "    )\n"
   ]
  },
  {
   "cell_type": "code",
   "execution_count": null,
   "metadata": {},
   "outputs": [],
   "source": [
    "conditions = [\n",
    "    'G_1p25nM',\n",
    "    'G_2p5nM',\n",
    "    'G_5nM',\n",
    "    'G_10nM',\n",
    "    'G_20nM',\n",
    "    'G_40nM',\n",
    "    'G_80nM',\n",
    "    'G_160nM',\n",
    "    'C_1p25nM',\n",
    "    'C_2p5nM',\n",
    "    'C_5nM',\n",
    "    'C_10nM',\n",
    "    'C_20nM',\n",
    "    'C_40nM',\n",
    "    'C_80nM',\n",
    "    'C_160nM',\n",
    "][::-1]\n",
    "\n",
    "\n",
    "conditions"
   ]
  },
  {
   "cell_type": "code",
   "execution_count": null,
   "metadata": {},
   "outputs": [],
   "source": [
    "qd.create_combined_heatmap_movie_custom_grid(\n",
    "    data_path, \n",
    "    conditions, \n",
    "    subconditions, \n",
    "    channel='cy5', \n",
    "    grid_rows=4, \n",
    "    grid_cols=4, \n",
    "    frame_rate=60,\n",
    "    batch_size=50\n",
    "    )\n"
   ]
  },
  {
   "cell_type": "markdown",
   "metadata": {},
   "source": []
  },
  {
   "cell_type": "code",
   "execution_count": null,
   "metadata": {},
   "outputs": [],
   "source": [
    "# Call the function\n",
    "qd.fluorescence_heatmap(\n",
    "    data_path, \n",
    "    conditions, \n",
    "    subconditions, \n",
    "    channel='GFP', \n",
    "    time_interval_list=time_interval_list, \n",
    "    vmax=500, \n",
    "    skip_frames=4, \n",
    "    calibration_curve_paths=calibration_curve_paths, \n",
    "    show_scalebar=True,\n",
    "    )"
   ]
  },
  {
   "cell_type": "code",
   "execution_count": null,
   "metadata": {},
   "outputs": [],
   "source": [
    "# Example usage\n",
    "qd.create_movies(\n",
    "    data_path, \n",
    "    conditions, \n",
    "    subconditions, \n",
    "    channel='GFP', \n",
    "    frame_rate=12,\n",
    "    skip_frames=1\n",
    "    )\n"
   ]
  },
  {
   "cell_type": "code",
   "execution_count": null,
   "metadata": {},
   "outputs": [],
   "source": [
    "qd.create_combined_heatmap_movie_custom_grid(\n",
    "    data_path, \n",
    "    conditions, \n",
    "    subconditions, \n",
    "    channel='GFP', \n",
    "    grid_rows=4, \n",
    "    grid_cols=2, \n",
    "    frame_rate=6,\n",
    "    batch_size=50\n",
    "    )\n"
   ]
  },
  {
   "cell_type": "code",
   "execution_count": null,
   "metadata": {},
   "outputs": [],
   "source": [
    "qd.delete_temporary_image_directories(data_path, conditions, subconditions)"
   ]
  },
  {
   "cell_type": "markdown",
   "metadata": {},
   "source": [
    "### Fluorescence Quantification"
   ]
  },
  {
   "cell_type": "code",
   "execution_count": 5,
   "metadata": {},
   "outputs": [],
   "source": [
    "conditions = conditions[:-3]"
   ]
  },
  {
   "cell_type": "code",
   "execution_count": null,
   "metadata": {},
   "outputs": [],
   "source": [
    "# Example usage\n",
    "mw_kda_list = [27] * len(conditions)\n",
    "droplet_volume_list = [2] * len(conditions)\n",
    "protein_lengths_list = [238] * len(conditions)\n",
    "\n",
    "qd.quantify_tiffiles(\n",
    "    data_path, \n",
    "    conditions, \n",
    "    subconditions, \n",
    "    calibration_curve_paths, \n",
    "    mw_kda_list, \n",
    "    droplet_volume_list, \n",
    "    time_interval_list, \n",
    "    protein_lengths_list,\n",
    "    ribosome_count=10**9,\n",
    "    skip_frames=1,\n",
    "    subtract_negative=False\n",
    ")"
   ]
  },
  {
   "cell_type": "markdown",
   "metadata": {},
   "source": [
    "### PIV pre-processing"
   ]
  },
  {
   "cell_type": "code",
   "execution_count": null,
   "metadata": {},
   "outputs": [],
   "source": [
    "conditions"
   ]
  },
  {
   "cell_type": "code",
   "execution_count": null,
   "metadata": {},
   "outputs": [],
   "source": [
    "qd.split_tiffs(data_path, conditions, subconditions, channel='cy5', file_interval=1)\n"
   ]
  },
  {
   "cell_type": "markdown",
   "metadata": {},
   "source": [
    "### PIV"
   ]
  },
  {
   "cell_type": "code",
   "execution_count": 4,
   "metadata": {},
   "outputs": [],
   "source": [
    "# Define feature limits and other parameters\n",
    "v = 2E-7\n",
    "velocity_limits = (0, v)\n",
    "other_limits = (-0.0005, 0.0005)\n",
    "skip_frames = 1 ### CHANGE THIS TO SKIP FRAMES\n",
    "\n",
    "\n",
    "velocity_limits = (None, None)\n",
    "other_limits = (None, None)\n",
    "\n",
    "\n",
    "feature_limits = {\n",
    "    # 'u [m/s]': (-v, v), \n",
    "    # 'v [m/s]': (-v, v), \n",
    "    # 'data type [-]': (None, None),\n",
    "    'velocity magnitude [m/s]': velocity_limits,\n",
    "    'vorticity [1/s]': other_limits,\n",
    "    'divergence [1/s]': other_limits,\n",
    "    # 'dcev [1]': (0, 250),\n",
    "    'shear [1/s]': other_limits,\n",
    "    'strain [1/s]': other_limits,\n",
    "    'vector direction [degrees]': (-180, 180),\n",
    "}\n",
    "\n",
    "\n",
    "# Features for PCA and plotting\n",
    "features_pca = [\n",
    "    \"vorticity [1/s]_mean\",\n",
    "    \"velocity magnitude [um/s]\",\n",
    "    \"distance [m]_mean\",\n",
    "    \"divergence [1/s]_mean\",\n",
    "    \"shear [1/s]_mean\",\n",
    "    \"strain [1/s]_mean\",\n",
    "    \"correlation length [um]\", \n",
    "    \"power [W]_mean\",\n",
    "    \"work [J]\",\n",
    "]\n"
   ]
  },
  {
   "cell_type": "code",
   "execution_count": 5,
   "metadata": {},
   "outputs": [],
   "source": [
    "conditions = [\n",
    "    'C_1p25nM',\n",
    "    'C_2p5nM',\n",
    "    'C_5nM',\n",
    "    'C_10nM',\n",
    "    'C_20nM',\n",
    "    'C_40nM',\n",
    "    'C_80nM',\n",
    "    'C_160nM',\n",
    "    'G_1p25nM',\n",
    "    'G_2p5nM',\n",
    "    'G_5nM',\n",
    "    'G_10nM',\n",
    "    'G_20nM',\n",
    "    'G_40nM',\n",
    "    'G_80nM',\n",
    "    'G_160nM',\n",
    "    ]"
   ]
  },
  {
   "cell_type": "code",
   "execution_count": null,
   "metadata": {},
   "outputs": [],
   "source": [
    "time_interval_list = [75] * len(conditions)  # time intervals in seconds between frames for each condition\n",
    "\n",
    "\n",
    "# Process PIV data\n",
    "qd.process_piv_data(\n",
    "    data_path, \n",
    "    conditions,\n",
    "    subconditions, \n",
    "    feature_limits, \n",
    "    time_interval_list, \n",
    "    min_frame=0, \n",
    "    max_frame=None, \n",
    "    skip_frames=1, \n",
    "    plot_autocorrelation=False, \n",
    "    frame_rate=1, \n",
    "    heatmaps=False\n",
    "    )\n"
   ]
  },
  {
   "cell_type": "code",
   "execution_count": null,
   "metadata": {},
   "outputs": [],
   "source": [
    "# Plot features and PCA\n",
    "qd.plot_PIV_all(\n",
    "    data_path, \n",
    "    conditions,\n",
    "    subconditions, \n",
    "    features_pca, \n",
    "    min_frame=0, \n",
    "    max_frame=None\n",
    "    )\n"
   ]
  },
  {
   "cell_type": "markdown",
   "metadata": {},
   "source": [
    "### Expression + PIV"
   ]
  },
  {
   "cell_type": "code",
   "execution_count": null,
   "metadata": {},
   "outputs": [],
   "source": [
    "# Combine the data and save it to the \"output_data\" directory\n",
    "qd.combine_averaged_dataframes(data_path, conditions, subconditions)\n"
   ]
  },
  {
   "cell_type": "code",
   "execution_count": null,
   "metadata": {},
   "outputs": [],
   "source": [
    "qd.merge_expression_piv_data(data_path)\n"
   ]
  },
  {
   "cell_type": "code",
   "execution_count": null,
   "metadata": {},
   "outputs": [],
   "source": [
    "# x_column = \"time (h)\"  # Example x-axis column\n",
    "# y_column = \"Protein Concentration_nM\"  # Example y-axis column\n",
    "\n",
    "\n",
    "# x_column = \"Protein Concentration_nM\"  # Example y-axis column\n",
    "# y_column = \"velocity magnitude [m/s]_mean\"  # Example y-axis column\n",
    "\n",
    "# x_column = \"time (h)\"  # Example x-axis column\n",
    "# y_column = \"velocity magnitude [m/s]_mean\"  # Example y-axis column\n",
    "\n",
    "# x_column = \"time (h)\"  # Example x-axis column\n",
    "# y_column = \"power [W]_mean\"  # Example y-axis column\n",
    "\n",
    "# x_column = \"time (h)\"  # Example x-axis column\n",
    "# y_column = \"work [J]_mean\"  # Example y-axis column\n",
    "\n",
    "x_column = \"time (h)\"  # Example x-axis column\n",
    "y_column = \"distance [m]_mean\"  # Example y-axis column\n",
    "\n",
    "\n",
    "qd.plot_expression_piv(\n",
    "    data_path,\n",
    "    conditions,\n",
    "    x_column, \n",
    "    y_column, \n",
    "    sigma_x=0.1, \n",
    "    sigma_y=10, \n",
    "    x_log=False, \n",
    "    y_log=True, \n",
    "    min_frame=0, \n",
    "    max_frame=None, \n",
    "    individual_plots=False\n",
    "    )"
   ]
  },
  {
   "cell_type": "code",
   "execution_count": null,
   "metadata": {},
   "outputs": [],
   "source": [
    "\n",
    "# List of features for PCA\n",
    "features_pca = [\n",
    "    \"vorticity [1/s]_mean\",\n",
    "    \"velocity magnitude [m/s]_mean\",\n",
    "    \"distance [m]_mean\",\n",
    "    \"divergence [1/s]_mean\",\n",
    "    \"shear [1/s]_mean\",\n",
    "    \"strain [1/s]_mean\",\n",
    "    \"correlation length [m]_mean\", \n",
    "    \"power [W]_mean\",\n",
    "    \"work [J]_mean\",\n",
    "    'vector direction [degrees]_mean',\n",
    "    \"Protein Concentration_nM\", \n",
    "    'time (min)'\n",
    "]\n",
    "\n",
    "# Run PCA and save plot (with all conditions and subconditions in the same plot)\n",
    "qd.plot_pca_expression_piv(data_path, conditions=conditions, subconditions=subconditions, features=features_pca, sigma=1)\n"
   ]
  },
  {
   "cell_type": "code",
   "execution_count": null,
   "metadata": {},
   "outputs": [],
   "source": [
    "\n",
    "# Example usage\n",
    "qd.delete_outputs(data_path, conditions, subconditions, output_dirs=None)\n"
   ]
  },
  {
   "cell_type": "code",
   "execution_count": 161,
   "metadata": {},
   "outputs": [
    {
     "data": {
      "text/plain": [
       "[285.0, 142.5, 71.25, 35.625, 17.8125, 8.90625, 4.453125, 2.2265625]"
      ]
     },
     "execution_count": 161,
     "metadata": {},
     "output_type": "execute_result"
    }
   ],
   "source": [
    "[285 / (2 ** i) for i in range(0,8)]"
   ]
  },
  {
   "cell_type": "code",
   "execution_count": 178,
   "metadata": {},
   "outputs": [
    {
     "data": {
      "image/png": "[encoded data removed]",
      "text/plain": [
       "<Figure size 1000x600 with 1 Axes>"
      ]
     },
     "metadata": {},
     "output_type": "display_data"
    },
    {
     "name": "stdout",
     "output_type": "stream",
     "text": [
      "Slope: 11.60\n",
      "Intercept: 263.88\n",
      "R² = 1.00\n",
      "ss_residual: 44466.01441456071\n",
      "ss_total: 9200826.40863617\n",
      "Predicted Values: [3570.94839905 1917.41175953 1090.64343978  677.2592799   470.56719996\n",
      "  367.22115999  315.54814     289.71163001]\n"
     ]
    }
   ],
   "source": [
    "import glob\n",
    "import numpy as np\n",
    "import matplotlib.pyplot as plt\n",
    "from PIL import Image\n",
    "from sklearn.linear_model import LinearRegression\n",
    "\n",
    "# Base path to the conditions\n",
    "base_path = \"../../../../Thomson Lab Dropbox/David Larios/activedrops/main/021425-calibration-yfp/2p5ulTMB-1ulYFP_\"\n",
    "\n",
    "# List of condition folders\n",
    "conditions = ['1', '2', '3', '4', '5', '6', '7', '8']\n",
    "\n",
    "# Initialize lists to store concentrations and mean intensities\n",
    "concentrations = []\n",
    "mean_intensities = []\n",
    "\n",
    "# Known concentrations in ng/ul (serial 1:1 dilutions starting from 285 ng/ul)\n",
    "known_concentrations = [285 / (2 ** i) for i in range(len(conditions))]\n",
    "\n",
    "# Iterate over each condition\n",
    "for condition, concentration in zip(conditions, known_concentrations):\n",
    "    # Define the path to the images for the current condition\n",
    "    image_path = f\"{base_path}/{condition}/Rep1/original/*[Gg][Ff][Pp]*.tif\"\n",
    "    \n",
    "    # Get a list of all image files and select the last one\n",
    "    image_files = sorted(glob.glob(image_path))\n",
    "    if image_files:\n",
    "        last_image_file = image_files[-1]\n",
    "        \n",
    "        # Open the last image\n",
    "        with Image.open(last_image_file) as img:\n",
    "            # Convert image to numpy array\n",
    "            img_array = np.array(img)\n",
    "            # Calculate the mean intensity\n",
    "            mean_intensity = img_array.mean()\n",
    "            # Append the mean intensity and concentration to the lists\n",
    "            mean_intensities.append(mean_intensity)\n",
    "            concentrations.append(concentration)\n",
    "\n",
    "# Convert lists to numpy arrays for linear regression\n",
    "X = np.array(concentrations).reshape(-1, 1)\n",
    "y = np.array(mean_intensities)\n",
    "\n",
    "# Fit a linear regression model\n",
    "model = LinearRegression()\n",
    "model.fit(X, y)\n",
    "\n",
    "# Predict y values\n",
    "y_pred = model.predict(X)\n",
    "\n",
    "# Manually calculate R²\n",
    "ss_total = np.sum((y - np.mean(y)) ** 2)\n",
    "ss_residual = np.sum((y - y_pred) ** 2)\n",
    "r_squared = 1 - (ss_residual / ss_total)\n",
    "\n",
    "# Extract slope and intercept\n",
    "slope = model.coef_[0]\n",
    "intercept = model.intercept_\n",
    "\n",
    "# Plot the data and the fitted line\n",
    "plt.figure(figsize=(10, 6))\n",
    "plt.scatter(concentrations, mean_intensities, color='blue', label='Data')\n",
    "plt.plot(concentrations, y_pred, color='red', label=f'Fit: y = {slope:.2f}x + {intercept:.2f}\\n$R^2$ = {r_squared:.2f}')\n",
    "plt.xlabel('Protein Concentration (ng/ul)')\n",
    "plt.ylabel('Mean Intensity')\n",
    "plt.title('Mean Intensity vs Protein Concentration')\n",
    "plt.legend()\n",
    "# plt.xscale('log')\n",
    "# plt.yscale('log')\n",
    "plt.grid(True)\n",
    "plt.show()\n",
    "\n",
    "# Print the slope, intercept, and R²\n",
    "print(f\"Slope: {slope:.2f}\")\n",
    "print(f\"Intercept: {intercept:.2f}\")\n",
    "print(f\"R² = {r_squared:.2f}\")\n",
    "\n",
    "print(\"ss_residual:\", ss_residual)\n",
    "print(\"ss_total:\", ss_total)\n",
    "print(\"Predicted Values:\", y_pred)"
   ]
  },
  {
   "cell_type": "code",
   "execution_count": 195,
   "metadata": {},
   "outputs": [
    {
     "data": {
      "text/html": [
       "<div>\n",
       "<style scoped>\n",
       "    .dataframe tbody tr th:only-of-type {\n",
       "        vertical-align: middle;\n",
       "    }\n",
       "\n",
       "    .dataframe tbody tr th {\n",
       "        vertical-align: top;\n",
       "    }\n",
       "\n",
       "    .dataframe thead th {\n",
       "        text-align: right;\n",
       "    }\n",
       "</style>\n",
       "<table border=\"1\" class=\"dataframe\">\n",
       "  <thead>\n",
       "    <tr style=\"text-align: right;\">\n",
       "      <th></th>\n",
       "      <th>Condition</th>\n",
       "      <th>Image</th>\n",
       "      <th>Time (s)</th>\n",
       "      <th>Time (min)</th>\n",
       "      <th>Time (h)</th>\n",
       "      <th>Mean Intensity</th>\n",
       "      <th>Protein Concentration (ng/ul)</th>\n",
       "    </tr>\n",
       "  </thead>\n",
       "  <tbody>\n",
       "    <tr>\n",
       "      <th>0</th>\n",
       "      <td>1</td>\n",
       "      <td>img_000000000_4x_GFP.tif</td>\n",
       "      <td>0</td>\n",
       "      <td>0.0</td>\n",
       "      <td>0.000000</td>\n",
       "      <td>171.346102</td>\n",
       "      <td>-7.974051</td>\n",
       "    </tr>\n",
       "    <tr>\n",
       "      <th>1</th>\n",
       "      <td>1</td>\n",
       "      <td>img_000000050_4x_GFP.tif</td>\n",
       "      <td>300</td>\n",
       "      <td>5.0</td>\n",
       "      <td>0.083333</td>\n",
       "      <td>178.488749</td>\n",
       "      <td>-7.358505</td>\n",
       "    </tr>\n",
       "    <tr>\n",
       "      <th>2</th>\n",
       "      <td>1</td>\n",
       "      <td>img_000000100_4x_GFP.tif</td>\n",
       "      <td>600</td>\n",
       "      <td>10.0</td>\n",
       "      <td>0.166667</td>\n",
       "      <td>185.046045</td>\n",
       "      <td>-6.793404</td>\n",
       "    </tr>\n",
       "    <tr>\n",
       "      <th>3</th>\n",
       "      <td>1</td>\n",
       "      <td>img_000000150_4x_GFP.tif</td>\n",
       "      <td>900</td>\n",
       "      <td>15.0</td>\n",
       "      <td>0.250000</td>\n",
       "      <td>190.863133</td>\n",
       "      <td>-6.292094</td>\n",
       "    </tr>\n",
       "    <tr>\n",
       "      <th>4</th>\n",
       "      <td>1</td>\n",
       "      <td>img_000000200_4x_GFP.tif</td>\n",
       "      <td>1200</td>\n",
       "      <td>20.0</td>\n",
       "      <td>0.333333</td>\n",
       "      <td>196.396381</td>\n",
       "      <td>-5.815245</td>\n",
       "    </tr>\n",
       "    <tr>\n",
       "      <th>...</th>\n",
       "      <td>...</td>\n",
       "      <td>...</td>\n",
       "      <td>...</td>\n",
       "      <td>...</td>\n",
       "      <td>...</td>\n",
       "      <td>...</td>\n",
       "      <td>...</td>\n",
       "    </tr>\n",
       "    <tr>\n",
       "      <th>419</th>\n",
       "      <td>8</td>\n",
       "      <td>img_000002400_4x_GFP.tif</td>\n",
       "      <td>14400</td>\n",
       "      <td>240.0</td>\n",
       "      <td>4.000000</td>\n",
       "      <td>518.563756</td>\n",
       "      <td>21.948791</td>\n",
       "    </tr>\n",
       "    <tr>\n",
       "      <th>420</th>\n",
       "      <td>8</td>\n",
       "      <td>img_000002450_4x_GFP.tif</td>\n",
       "      <td>14700</td>\n",
       "      <td>245.0</td>\n",
       "      <td>4.083333</td>\n",
       "      <td>513.883967</td>\n",
       "      <td>21.545492</td>\n",
       "    </tr>\n",
       "    <tr>\n",
       "      <th>421</th>\n",
       "      <td>8</td>\n",
       "      <td>img_000002500_4x_GFP.tif</td>\n",
       "      <td>15000</td>\n",
       "      <td>250.0</td>\n",
       "      <td>4.166667</td>\n",
       "      <td>509.063352</td>\n",
       "      <td>21.130057</td>\n",
       "    </tr>\n",
       "    <tr>\n",
       "      <th>422</th>\n",
       "      <td>8</td>\n",
       "      <td>img_000002550_4x_GFP.tif</td>\n",
       "      <td>15300</td>\n",
       "      <td>255.0</td>\n",
       "      <td>4.250000</td>\n",
       "      <td>504.272579</td>\n",
       "      <td>20.717193</td>\n",
       "    </tr>\n",
       "    <tr>\n",
       "      <th>423</th>\n",
       "      <td>8</td>\n",
       "      <td>img_000002600_4x_GFP.tif</td>\n",
       "      <td>15600</td>\n",
       "      <td>260.0</td>\n",
       "      <td>4.333333</td>\n",
       "      <td>499.571597</td>\n",
       "      <td>20.312068</td>\n",
       "    </tr>\n",
       "  </tbody>\n",
       "</table>\n",
       "<p>424 rows × 7 columns</p>\n",
       "</div>"
      ],
      "text/plain": [
       "    Condition                     Image  Time (s)  Time (min)  Time (h)  \\\n",
       "0           1  img_000000000_4x_GFP.tif         0         0.0  0.000000   \n",
       "1           1  img_000000050_4x_GFP.tif       300         5.0  0.083333   \n",
       "2           1  img_000000100_4x_GFP.tif       600        10.0  0.166667   \n",
       "3           1  img_000000150_4x_GFP.tif       900        15.0  0.250000   \n",
       "4           1  img_000000200_4x_GFP.tif      1200        20.0  0.333333   \n",
       "..        ...                       ...       ...         ...       ...   \n",
       "419         8  img_000002400_4x_GFP.tif     14400       240.0  4.000000   \n",
       "420         8  img_000002450_4x_GFP.tif     14700       245.0  4.083333   \n",
       "421         8  img_000002500_4x_GFP.tif     15000       250.0  4.166667   \n",
       "422         8  img_000002550_4x_GFP.tif     15300       255.0  4.250000   \n",
       "423         8  img_000002600_4x_GFP.tif     15600       260.0  4.333333   \n",
       "\n",
       "     Mean Intensity  Protein Concentration (ng/ul)  \n",
       "0        171.346102                      -7.974051  \n",
       "1        178.488749                      -7.358505  \n",
       "2        185.046045                      -6.793404  \n",
       "3        190.863133                      -6.292094  \n",
       "4        196.396381                      -5.815245  \n",
       "..              ...                            ...  \n",
       "419      518.563756                      21.948791  \n",
       "420      513.883967                      21.545492  \n",
       "421      509.063352                      21.130057  \n",
       "422      504.272579                      20.717193  \n",
       "423      499.571597                      20.312068  \n",
       "\n",
       "[424 rows x 7 columns]"
      ]
     },
     "execution_count": 195,
     "metadata": {},
     "output_type": "execute_result"
    }
   ],
   "source": [
    "import os\n",
    "import glob\n",
    "import numpy as np\n",
    "import pandas as pd\n",
    "from PIL import Image\n",
    "\n",
    "# Initialize a list to store all data\n",
    "all_data = []\n",
    "\n",
    "# Define the interval between images in seconds\n",
    "interval_seconds = 6\n",
    "\n",
    "skip_frames = 50\n",
    "\n",
    "# Loop through each condition directory\n",
    "for condition in conditions:\n",
    "    # Define the path to the images for the current condition\n",
    "    image_path = f\"../../../../Thomson Lab Dropbox/David Larios/activedrops/main/021425-calibration-yfp-24hAfter/2p5ulTMB-1ulYFP_/{condition}/Rep1/original/*[Gg][Ff][Pp]*.tif\"\n",
    "    image_path = f\"../../../../Thomson Lab Dropbox/David Larios/activedrops/main/101324-k401-titration-rt/2p5TMB-1ulDNA_/K401_160nM-RT/Rep1/original/*[Gg][Ff][Pp]*.tif\"\n",
    "    # image_path = f\"../../../../Thomson Lab Dropbox/David Larios/activedrops/main/100624-kif3-titration-RT/2p5ulTMB-1ulDNAXnM_/Kif3_160nM_1-RT/Rep1/original/*[Gg][Ff][Pp]*.tif\"\n",
    "\n",
    "    # Get a list of all image files\n",
    "    image_files = sorted(glob.glob(image_path))[::skip_frames]\n",
    "    \n",
    "    # Initialize lists to store mean intensity values and protein concentrations for the current condition\n",
    "    mean_intensities = []\n",
    "    protein_concentrations = []\n",
    "    \n",
    "    # Loop through each image file\n",
    "    for image_file in image_files:\n",
    "        # Open the image\n",
    "        with Image.open(image_file) as img:\n",
    "            # Convert image to numpy array\n",
    "            img_array = np.array(img)\n",
    "            # Calculate the mean intensity\n",
    "            mean_intensity = img_array.mean()\n",
    "            # Append the mean intensity to the list\n",
    "            mean_intensities.append(mean_intensity)\n",
    "            # Calculate protein concentration using the provided slope and intercept\n",
    "            protein_concentration = (mean_intensity - intercept) / slope\n",
    "            # Append the protein concentration to the list\n",
    "            protein_concentrations.append(protein_concentration)\n",
    "    \n",
    "    # Calculate time in seconds, minutes, and hours, including skip_frames\n",
    "    time_seconds = [i * interval_seconds * skip_frames for i in range(len(image_files))]\n",
    "    time_minutes = [t / 60 for t in time_seconds]\n",
    "    time_hours = [t / 3600 for t in time_seconds]\n",
    "    \n",
    "    # Create a DataFrame for the current condition\n",
    "    df = pd.DataFrame({\n",
    "        'Condition': [condition] * len(image_files),\n",
    "        'Image': [os.path.basename(f) for f in image_files],\n",
    "        'Time (s)': time_seconds,\n",
    "        'Time (min)': time_minutes,\n",
    "        'Time (h)': time_hours,\n",
    "        'Mean Intensity': mean_intensities,\n",
    "        'Protein Concentration (ng/ul)': protein_concentrations\n",
    "    })\n",
    "    \n",
    "    # Append the DataFrame to the list\n",
    "    all_data.append(df)\n",
    "\n",
    "# Concatenate all DataFrames into a single DataFrame\n",
    "final_df = pd.concat(all_data, ignore_index=True)\n",
    "\n",
    "final_df"
   ]
  },
  {
   "cell_type": "code",
   "execution_count": 196,
   "metadata": {},
   "outputs": [
    {
     "data": {
      "text/plain": [
       "array(['1', '2', '3', '4', '5', '6', '7', '8'], dtype=object)"
      ]
     },
     "execution_count": 196,
     "metadata": {},
     "output_type": "execute_result"
    }
   ],
   "source": [
    "final_df['Condition'].unique()"
   ]
  },
  {
   "cell_type": "code",
   "execution_count": 197,
   "metadata": {},
   "outputs": [
    {
     "data": {
      "image/png": "[encoded data removed]",
      "text/plain": [
       "<Figure size 1000x600 with 1 Axes>"
      ]
     },
     "metadata": {},
     "output_type": "display_data"
    }
   ],
   "source": [
    "import matplotlib.pyplot as plt\n",
    "\n",
    "# Filter the DataFrame for condition 1\n",
    "condition_1_df = final_df[final_df['Condition'] == '5']\n",
    "\n",
    "# Plot mean intensity vs time in minutes for condition 1\n",
    "plt.figure(figsize=(10, 6))\n",
    "plt.plot(condition_1_df['Time (min)'], condition_1_df['Mean Intensity'], marker='o', linestyle='-', label='Condition 1')\n",
    "plt.xlabel('Time (min)')\n",
    "plt.ylabel('Mean Intensity')\n",
    "plt.title('Mean Intensity vs Time (min) for Condition 1')\n",
    "plt.legend()\n",
    "plt.grid(True)\n",
    "plt.show()\n"
   ]
  },
  {
   "cell_type": "code",
   "execution_count": null,
   "metadata": {},
   "outputs": [],
   "source": []
  },
  {
   "cell_type": "code",
   "execution_count": 147,
   "metadata": {},
   "outputs": [
    {
     "data": {
      "image/png": "[encoded data removed]",
      "text/plain": [
       "<Figure size 1000x600 with 1 Axes>"
      ]
     },
     "metadata": {},
     "output_type": "display_data"
    },
    {
     "data": {
      "image/png": "[encoded data removed]",
      "text/plain": [
       "<Figure size 1000x600 with 1 Axes>"
      ]
     },
     "metadata": {},
     "output_type": "display_data"
    }
   ],
   "source": [
    "import matplotlib.pyplot as plt\n",
    "\n",
    "# Plot protein concentration vs time in minutes for each condition\n",
    "plt.figure(figsize=(10, 6))\n",
    "for condition in final_df['Condition'].unique():\n",
    "    condition_df = final_df[final_df['Condition'] == condition]\n",
    "    plt.plot(condition_df['Time (min)'], condition_df['Protein Concentration (ng/ul)'], marker='o', linestyle='-', label=f'Condition {condition}')\n",
    "plt.xlabel('Time (min)')\n",
    "plt.ylabel('Protein Concentration (ng/ul)')\n",
    "plt.title('Protein Concentration vs Time (min)')\n",
    "plt.legend()\n",
    "plt.grid(True)\n",
    "plt.show()\n",
    "\n",
    "# Plot mean intensity vs time in minutes for each condition\n",
    "plt.figure(figsize=(10, 6))\n",
    "for condition in final_df['Condition'].unique():\n",
    "    condition_df = final_df[final_df['Condition'] == condition]\n",
    "    plt.plot(condition_df['Time (min)'], condition_df['Mean Intensity'], marker='o', linestyle='-', label=f'Condition {condition}')\n",
    "plt.xlabel('Time (min)')\n",
    "plt.ylabel('Mean Intensity')\n",
    "plt.title('Mean Intensity vs Time (min)')\n",
    "plt.legend()\n",
    "plt.grid(True)\n",
    "plt.show()\n"
   ]
  },
  {
   "cell_type": "code",
   "execution_count": null,
   "metadata": {},
   "outputs": [],
   "source": []
  },
  {
   "cell_type": "code",
   "execution_count": null,
   "metadata": {},
   "outputs": [],
   "source": []
  }
 ],
 "metadata": {
  "kernelspec": {
   "display_name": "my_venv_3_11_5",
   "language": "python",
   "name": "python3"
  },
  "language_info": {
   "codemirror_mode": {
    "name": "ipython",
    "version": 3
   },
   "file_extension": ".py",
   "mimetype": "text/x-python",
   "name": "python",
   "nbconvert_exporter": "python",
   "pygments_lexer": "ipython3",
   "version": "3.11.5"
  }
 },
 "nbformat": 4,
 "nbformat_minor": 2
}
