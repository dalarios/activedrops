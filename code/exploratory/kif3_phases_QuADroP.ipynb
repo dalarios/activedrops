{
 "cells": [
  {
   "cell_type": "code",
   "execution_count": null,
   "metadata": {},
   "outputs": [],
   "source": [
    "## Import relevant libraries\n",
    "import sys\n",
    "sys.path.append('../../activedrops')\n",
    "\n",
    "## Including ourselves\n",
    "import quadrop as qd\n",
    "qd.set_plotting_style()"
   ]
  },
  {
   "cell_type": "code",
   "execution_count": null,
   "metadata": {},
   "outputs": [],
   "source": [
    "# data info\n",
    "data_path = \"../../data/kif3_phases/\"\n",
    "conditions = [\"10MT\", \"20MT\", \"40MT\"]\n",
    "subconditions = [\"40DNA\", \"60DNA\", \"80DNA\"]\n",
    "\n",
    "# frame info\n",
    "min_frame = 0\n",
    "max_frame = None\n",
    "skip_frames=4\n",
    "frame_rate=30\n",
    "time_intervals = [30, 30, 30]\n",
    "\n",
    "\n"
   ]
  },
  {
   "cell_type": "code",
   "execution_count": null,
   "metadata": {},
   "outputs": [],
   "source": [
    "# channel info\n",
    "channel = \"cy5\"\n",
    "vmax = None\n",
    "\n",
    "# Call the function with the updated parameters\n",
    "qd.plot_fluorescence_vs_time(\n",
    "    data_path=data_path,\n",
    "    conditions=conditions,\n",
    "    subconditions=subconditions,\n",
    "    channel=channel,\n",
    "    time_intervals=time_intervals,  \n",
    "    min_frame=min_frame,\n",
    "    max_frame=max_frame,\n",
    "    skip_frames=skip_frames,\n",
    "    log_scale=False,  # Set log_scale to True\n",
    "    timescale=\"min\"\n",
    ")\n"
   ]
  },
  {
   "cell_type": "code",
   "execution_count": null,
   "metadata": {},
   "outputs": [],
   "source": [
    "# channel info\n",
    "channel = \"cy5\"\n",
    "vmax = 0.2\n",
    "\n",
    "qd.single_fluorescence_movies(data_path, conditions, subconditions, channel, time_intervals, min_frame, max_frame, vmax, skip_frames, frame_rate)"
   ]
  },
  {
   "cell_type": "code",
   "execution_count": null,
   "metadata": {},
   "outputs": [],
   "source": [
    "qd.grid_heatmaps(data_path, conditions, subconditions, channel, frame_rate=frame_rate)\n"
   ]
  },
  {
   "cell_type": "code",
   "execution_count": null,
   "metadata": {},
   "outputs": [],
   "source": [
    "# channel info\n",
    "channel = \"gfp\"\n",
    "\n",
    "# Call the function with the updated parameters\n",
    "qd.plot_fluorescence_vs_time(\n",
    "    data_path=data_path,\n",
    "    conditions=conditions,\n",
    "    subconditions=subconditions,\n",
    "    channel=channel,\n",
    "    time_intervals=time_intervals,  \n",
    "    min_frame=min_frame,\n",
    "    max_frame=max_frame,\n",
    "    skip_frames=skip_frames,\n",
    "    log_scale=False,  # Set log_scale to True\n",
    "    timescale=\"min\"\n",
    ")\n"
   ]
  },
  {
   "cell_type": "code",
   "execution_count": null,
   "metadata": {},
   "outputs": [],
   "source": [
    "# cmap range info\n",
    "vmax = 0.025\n",
    "\n",
    "qd.single_fluorescence_movies(data_path, conditions, subconditions, channel, time_intervals, min_frame, max_frame, vmax, skip_frames, frame_rate)"
   ]
  },
  {
   "cell_type": "code",
   "execution_count": null,
   "metadata": {},
   "outputs": [],
   "source": [
    "qd.grid_heatmaps(data_path, conditions, subconditions, \"gfp\", frame_rate=frame_rate)\n"
   ]
  },
  {
   "cell_type": "code",
   "execution_count": null,
   "metadata": {},
   "outputs": [],
   "source": []
  }
 ],
 "metadata": {
  "kernelspec": {
   "display_name": "Python 3",
   "language": "python",
   "name": "python3"
  },
  "language_info": {
   "codemirror_mode": {
    "name": "ipython",
    "version": 3
   },
   "file_extension": ".py",
   "mimetype": "text/x-python",
   "name": "python",
   "nbconvert_exporter": "python",
   "pygments_lexer": "ipython3",
   "version": "3.11.5"
  }
 },
 "nbformat": 4,
 "nbformat_minor": 2
}
