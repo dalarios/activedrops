{
 "cells": [
  {
   "cell_type": "code",
   "execution_count": 6,
   "metadata": {},
   "outputs": [],
   "source": [
    "## Import relevant libraries\n",
    "import sys\n",
    "import glob\n",
    "\n",
    "sys.path.append('../../py_files/')\n",
    "import quadrop2 as qd\n",
    "\n",
    "qd.set_plotting_style()"
   ]
  },
  {
   "cell_type": "markdown",
   "metadata": {},
   "source": [
    "### Data pre-procesing"
   ]
  },
  {
   "cell_type": "code",
   "execution_count": 7,
   "metadata": {},
   "outputs": [],
   "source": [
    "# # Example usage\n",
    "# base_dir = \"../../../../Thomson Lab Dropbox/David Larios/activedrops/ubuntu/110324-D_titration-160nM_80nM-RT/\"\n",
    "# qd.consolidate_images(base_dir)"
   ]
  },
  {
   "cell_type": "code",
   "execution_count": 8,
   "metadata": {},
   "outputs": [
    {
     "name": "stdout",
     "output_type": "stream",
     "text": [
      "Warning: ../../../../Thomson Lab Dropbox/David Larios/activedrops/main/110324-D_titration-RT/2p5TMB-1ulDNA_1/Pos0 does not exist. Skipping.\n",
      "Warning: ../../../../Thomson Lab Dropbox/David Larios/activedrops/main/110324-D_titration-RT/2p5TMB-1ulDNA_1/Pos1 does not exist. Skipping.\n",
      "Warning: ../../../../Thomson Lab Dropbox/David Larios/activedrops/main/110324-D_titration-RT/2p5TMB-1ulDNA_1/Pos2 does not exist. Skipping.\n",
      "Warning: ../../../../Thomson Lab Dropbox/David Larios/activedrops/main/110324-D_titration-RT/2p5TMB-1ulDNA_1/Pos3 does not exist. Skipping.\n",
      "Warning: ../../../../Thomson Lab Dropbox/David Larios/activedrops/main/110324-D_titration-RT/2p5TMB-1ulDNA_1/Pos4 does not exist. Skipping.\n",
      "Warning: ../../../../Thomson Lab Dropbox/David Larios/activedrops/main/110324-D_titration-RT/2p5TMB-1ulDNA_1/Pos5 does not exist. Skipping.\n",
      "Warning: ../../../../Thomson Lab Dropbox/David Larios/activedrops/main/110324-D_titration-RT/2p5TMB-1ulDNA_1/Pos6 does not exist. Skipping.\n",
      "Warning: ../../../../Thomson Lab Dropbox/David Larios/activedrops/main/110324-D_titration-RT/2p5TMB-1ulDNA_1/Pos7 does not exist. Skipping.\n",
      "Warning: ../../../../Thomson Lab Dropbox/David Larios/activedrops/main/110324-D_titration-RT/2p5TMB-1ulDNA_1/Pos8 does not exist. Skipping.\n",
      "Warning: ../../../../Thomson Lab Dropbox/David Larios/activedrops/main/110324-D_titration-RT/2p5TMB-1ulDNA_1/Pos9 does not exist. Skipping.\n",
      "Warning: ../../../../Thomson Lab Dropbox/David Larios/activedrops/main/110324-D_titration-RT/2p5TMB-1ulDNA_1/Pos10 does not exist. Skipping.\n",
      "Warning: ../../../../Thomson Lab Dropbox/David Larios/activedrops/main/110324-D_titration-RT/2p5TMB-1ulDNA_1/Pos11 does not exist. Skipping.\n",
      "Conditions: ['D_1p25nM', 'D_2p5nM', 'D_5nM', 'D_10nM', 'D_20nM', 'D_40nM', 'D_80nM', 'D_160nM']\n",
      "Subconditions: ['Rep1']\n"
     ]
    }
   ],
   "source": [
    "# Example usage\n",
    "data_path = \"../../../../Thomson Lab Dropbox/David Larios/activedrops/main/110324-D_titration-RT/2p5TMB-1ulDNA_1/\"\n",
    "\n",
    "calibration_curve_paths = sorted(glob.glob(\"../../../../Thomson Lab Dropbox/David Larios/activedrops/calibration_curve/***ugml.tif\"))\n",
    "\n",
    "\n",
    "conditions_dict = {\n",
    "    \"D_160nM\": \"Pos0\", \n",
    "    \"D_80nM\": \"Pos1\",\n",
    "    \"D_40nM\": \"Pos2\",\n",
    "    \"D_20nM\": \"Pos3\",\n",
    "    \"D_10nM\": \"Pos4\",\n",
    "    \"D_5nM\": \"Pos5\",\n",
    "    \"D_2p5nM\": \"Pos6\",\n",
    "    \"D_1p25nM\": \"Pos7\",\n",
    "    \"D_0p625nM\": \"Pos8\",\n",
    "    \"D_0p312nM\": \"Pos9\",\n",
    "    \"D_0p156nM\": \"Pos10\",\n",
    "    \"negative\": \"Pos11\",\n",
    "}\n",
    "\n",
    "# Organize PosX folders into condition folders\n",
    "qd.organize_conditions(data_path, conditions_dict)\n",
    "\n",
    "# Now run the existing functions to reorganize the tiffs and rename the folders\n",
    "conditions, subconditions = qd.prepare_conditions(data_path)\n",
    "time_interval_list = [8] * len(conditions)  # time intervals in seconds between frames for each condition\n",
    "\n",
    "subconditions = ['Rep1']\n",
    "conditions = conditions[3:-2]\n",
    "\n",
    "print(\"Conditions:\", conditions)\n",
    "print(\"Subconditions:\", subconditions)\n",
    "\n"
   ]
  },
  {
   "cell_type": "code",
   "execution_count": 4,
   "metadata": {},
   "outputs": [
    {
     "ename": "IndexError",
     "evalue": "list index out of range",
     "output_type": "error",
     "traceback": [
      "\u001b[0;31m---------------------------------------------------------------------------\u001b[0m",
      "\u001b[0;31mIndexError\u001b[0m                                Traceback (most recent call last)",
      "Cell \u001b[0;32mIn[4], line 1\u001b[0m\n\u001b[0;32m----> 1\u001b[0m qd\u001b[38;5;241m.\u001b[39mreorgTiffsToOriginal(data_path, conditions, subconditions)\n",
      "File \u001b[0;32m~/git/activedrops/code/exploratory/../../py_files/quadrop2.py:306\u001b[0m, in \u001b[0;36mreorgTiffsToOriginal\u001b[0;34m(data_path, conditions, subconditions)\u001b[0m\n\u001b[1;32m    304\u001b[0m \u001b[38;5;66;03m# Rename the actual subconditions to match the subconditions in your list\u001b[39;00m\n\u001b[1;32m    305\u001b[0m \u001b[38;5;28;01mfor\u001b[39;00m i, actual_subcondition \u001b[38;5;129;01min\u001b[39;00m \u001b[38;5;28menumerate\u001b[39m(actual_subconditions):\n\u001b[0;32m--> 306\u001b[0m     os\u001b[38;5;241m.\u001b[39mrename(os\u001b[38;5;241m.\u001b[39mpath\u001b[38;5;241m.\u001b[39mjoin(data_path, condition, actual_subcondition), os\u001b[38;5;241m.\u001b[39mpath\u001b[38;5;241m.\u001b[39mjoin(data_path, condition, matched_subconditions[i]))\n\u001b[1;32m    308\u001b[0m \u001b[38;5;28;01mfor\u001b[39;00m subcondition \u001b[38;5;129;01min\u001b[39;00m matched_subconditions:\n\u001b[1;32m    309\u001b[0m     \u001b[38;5;66;03m# Construct the path to the subcondition directory\u001b[39;00m\n\u001b[1;32m    310\u001b[0m     subcondition_path \u001b[38;5;241m=\u001b[39m os\u001b[38;5;241m.\u001b[39mpath\u001b[38;5;241m.\u001b[39mjoin(data_path, condition, subcondition)\n",
      "\u001b[0;31mIndexError\u001b[0m: list index out of range"
     ]
    }
   ],
   "source": [
    "qd.reorgTiffsToOriginal(data_path, conditions, subconditions)\n"
   ]
  },
  {
   "cell_type": "markdown",
   "metadata": {},
   "source": [
    "### Generate movies"
   ]
  },
  {
   "cell_type": "code",
   "execution_count": 8,
   "metadata": {},
   "outputs": [],
   "source": [
    "conditions = conditions[::-1]"
   ]
  },
  {
   "cell_type": "code",
   "execution_count": null,
   "metadata": {},
   "outputs": [],
   "source": [
    "# Call the function\n",
    "qd.fluorescence_heatmap(\n",
    "    data_path, \n",
    "    conditions, \n",
    "    subconditions, \n",
    "    channel='cy5', \n",
    "    time_interval_list=time_interval_list, \n",
    "    vmax=12, \n",
    "    skip_frames=8, \n",
    "    calibration_curve_paths=calibration_curve_paths, \n",
    "    show_scalebar=False,\n",
    "    )"
   ]
  },
  {
   "cell_type": "code",
   "execution_count": null,
   "metadata": {},
   "outputs": [],
   "source": [
    "# Example usage\n",
    "qd.create_movies(\n",
    "    data_path, \n",
    "    conditions, \n",
    "    subconditions, \n",
    "    channel='cy5', \n",
    "    frame_rate=24,\n",
    "    skip_frames=1\n",
    "    )\n"
   ]
  },
  {
   "cell_type": "code",
   "execution_count": null,
   "metadata": {},
   "outputs": [],
   "source": [
    "conditions = [\n",
    "    \"D_160nM\",\n",
    "    \"D_80nM\",\n",
    "    \"D_40nM\",\n",
    "    \"D_20nM\",\n",
    "    \"D_10nM\",\n",
    "    \"D_5nM\",\n",
    "    \"D_2p5nM\",\n",
    "    \"D_1p25nM\",\n",
    "    \"D_0p625nM\",\n",
    "    \"D_0p312nM\",\n",
    "    \"D_0p156nM\",\n",
    "    \"negative\",\n",
    "]\n",
    "\n",
    "conditions"
   ]
  },
  {
   "cell_type": "code",
   "execution_count": null,
   "metadata": {},
   "outputs": [],
   "source": [
    "qd.create_combined_heatmap_movie_custom_grid(\n",
    "    data_path, \n",
    "    conditions, \n",
    "    subconditions, \n",
    "    channel='cy5', \n",
    "    grid_rows=3, \n",
    "    grid_cols=4, \n",
    "    frame_rate=24,\n",
    "    batch_size=50\n",
    "    )\n"
   ]
  },
  {
   "cell_type": "markdown",
   "metadata": {},
   "source": []
  },
  {
   "cell_type": "code",
   "execution_count": null,
   "metadata": {},
   "outputs": [],
   "source": [
    "# Call the function\n",
    "qd.fluorescence_heatmap(\n",
    "    data_path, \n",
    "    conditions, \n",
    "    subconditions, \n",
    "    channel='GFP', \n",
    "    time_interval_list=time_interval_list, \n",
    "    vmax=500, \n",
    "    skip_frames=8, \n",
    "    calibration_curve_paths=calibration_curve_paths, \n",
    "    show_scalebar=True,\n",
    "    )"
   ]
  },
  {
   "cell_type": "code",
   "execution_count": null,
   "metadata": {},
   "outputs": [],
   "source": [
    "# Example usage\n",
    "qd.create_movies(\n",
    "    data_path, \n",
    "    conditions, \n",
    "    subconditions, \n",
    "    channel='GFP', \n",
    "    frame_rate=24,\n",
    "    skip_frames=1\n",
    "    )\n"
   ]
  },
  {
   "cell_type": "code",
   "execution_count": null,
   "metadata": {},
   "outputs": [],
   "source": [
    "qd.create_combined_heatmap_movie_custom_grid(\n",
    "    data_path, \n",
    "    conditions, \n",
    "    subconditions, \n",
    "    channel='GFP', \n",
    "    grid_rows=3, \n",
    "    grid_cols=4, \n",
    "    frame_rate=24,\n",
    "    batch_size=50\n",
    "    )\n"
   ]
  },
  {
   "cell_type": "code",
   "execution_count": null,
   "metadata": {},
   "outputs": [],
   "source": [
    "qd.delete_temporary_image_directories(data_path, conditions, subconditions)"
   ]
  },
  {
   "cell_type": "markdown",
   "metadata": {},
   "source": [
    "### Fluorescence Quantification"
   ]
  },
  {
   "cell_type": "code",
   "execution_count": 9,
   "metadata": {},
   "outputs": [
    {
     "name": "stderr",
     "output_type": "stream",
     "text": [
      "Calculating intensities for D_1p25nM - Rep1: 100%|██████████| 270/270 [00:00<00:00, 415.51it/s]\n",
      "Calculating intensities for D_2p5nM - Rep1: 100%|██████████| 270/270 [00:00<00:00, 358.75it/s]\n",
      "Calculating intensities for D_5nM - Rep1: 100%|██████████| 270/270 [00:00<00:00, 364.03it/s]\n",
      "Calculating intensities for D_10nM - Rep1: 100%|██████████| 270/270 [00:00<00:00, 388.10it/s]\n",
      "Calculating intensities for D_20nM - Rep1: 100%|██████████| 270/270 [00:00<00:00, 294.09it/s]\n",
      "Calculating intensities for D_40nM - Rep1: 100%|██████████| 270/270 [00:00<00:00, 421.79it/s]\n",
      "Calculating intensities for D_80nM - Rep1: 100%|██████████| 270/270 [00:00<00:00, 381.96it/s]\n",
      "Calculating intensities for D_160nM - Rep1: 100%|██████████| 270/270 [00:00<00:00, 388.95it/s]\n"
     ]
    },
    {
     "data": {
      "text/plain": [
       "('../../../../Thomson Lab Dropbox/David Larios/activedrops/main/110324-D_titration-RT/2p5TMB-1ulDNA_1/output_data/combined_expression.csv',\n",
       " '../../../../Thomson Lab Dropbox/David Larios/activedrops/main/110324-D_titration-RT/2p5TMB-1ulDNA_1/output_data/mean_expression.csv')"
      ]
     },
     "execution_count": 9,
     "metadata": {},
     "output_type": "execute_result"
    }
   ],
   "source": [
    "# Example usage\n",
    "# mw_kda_list = [44.95] * len(conditions)\n",
    "droplet_volume_list = [2] * len(conditions)\n",
    "# protein_lengths_list = [401] * len(conditions) # last one is negative\n",
    "\n",
    "qd.quantify_tiffiles(\n",
    "    data_path, \n",
    "    conditions, \n",
    "    subconditions, \n",
    "    calibration_curve_paths, \n",
    "    droplet_volume_list, \n",
    "    time_interval_list, \n",
    "    skip_frames=10,\n",
    "\n",
    ")"
   ]
  },
  {
   "cell_type": "markdown",
   "metadata": {},
   "source": [
    "### PIV pre-processing"
   ]
  },
  {
   "cell_type": "code",
   "execution_count": null,
   "metadata": {},
   "outputs": [],
   "source": [
    "conditions"
   ]
  },
  {
   "cell_type": "code",
   "execution_count": null,
   "metadata": {},
   "outputs": [],
   "source": [
    "qd.split_tiffs(data_path, conditions, subconditions, channel='cy5', file_interval=2)\n"
   ]
  },
  {
   "cell_type": "markdown",
   "metadata": {},
   "source": [
    "### PIV"
   ]
  },
  {
   "cell_type": "code",
   "execution_count": 27,
   "metadata": {},
   "outputs": [],
   "source": [
    "# Define feature limits and other parameters\n",
    "v = 2E-7\n",
    "velocity_limits = (0, v)\n",
    "other_limits = (-0.0005, 0.0005)\n",
    "skip_frames = 1 ### CHANGE THIS TO SKIP FRAMES\n",
    "\n",
    "\n",
    "velocity_limits = (None, None)\n",
    "other_limits = (None, None)\n",
    "\n",
    "\n",
    "feature_limits = {\n",
    "    # 'u [m/s]': (-v, v), \n",
    "    # 'v [m/s]': (-v, v), \n",
    "    # 'data type [-]': (None, None),\n",
    "    'velocity magnitude [m/s]': velocity_limits,\n",
    "    'vorticity [1/s]': other_limits,\n",
    "    'divergence [1/s]': other_limits,\n",
    "    # 'dcev [1]': (0, 250),\n",
    "    'shear [1/s]': other_limits,\n",
    "    'strain [1/s]': other_limits,\n",
    "    'vector direction [degrees]': (-180, 180),\n",
    "}\n",
    "\n",
    "\n",
    "# Features for PCA and plotting\n",
    "features_pca = [\n",
    "    \"vorticity [1/s]_mean\",\n",
    "    \"velocity magnitude [um/s]\",\n",
    "    \"distance [m]_mean\",\n",
    "    \"divergence [1/s]_mean\",\n",
    "    \"shear [1/s]_mean\",\n",
    "    \"strain [1/s]_mean\",\n",
    "    \"correlation length [um]\", \n",
    "    \"power [W]_mean\",\n",
    "    \"work [J]\",\n",
    "]\n"
   ]
  },
  {
   "cell_type": "code",
   "execution_count": 33,
   "metadata": {},
   "outputs": [],
   "source": [
    "conditions =[\n",
    "    'D_160nM',\n",
    "    'D_80nM',\n",
    "    'D_40nM',\n",
    "    'D_20nM',\n",
    "    'D_10nM',\n",
    "    'D_5nM',\n",
    "    'D_2p5nM',\n",
    "    'D_1p25nM',\n",
    "    'D_0p625nM',\n",
    "    # 'D_0p312nM',\n",
    "    # 'D_0p156nM'\n",
    " ]"
   ]
  },
  {
   "cell_type": "code",
   "execution_count": null,
   "metadata": {},
   "outputs": [],
   "source": [
    "time_interval_list = [8] * len(conditions)  # time intervals in seconds between frames for each condition\n",
    "\n",
    "\n",
    "# Process PIV data\n",
    "qd.process_piv_data(\n",
    "    data_path, \n",
    "    conditions,\n",
    "    subconditions, \n",
    "    feature_limits, \n",
    "    time_interval_list, \n",
    "    min_frame=0, \n",
    "    max_frame=None, \n",
    "    skip_frames=1, \n",
    "    plot_autocorrelation=False, \n",
    "    frame_rate=1, \n",
    "    heatmaps=False\n",
    "    )\n"
   ]
  },
  {
   "cell_type": "code",
   "execution_count": null,
   "metadata": {},
   "outputs": [],
   "source": [
    "conditions[:-1]\n"
   ]
  },
  {
   "cell_type": "code",
   "execution_count": null,
   "metadata": {},
   "outputs": [],
   "source": [
    "# Plot features and PCA\n",
    "qd.plot_PIV_all(\n",
    "    data_path, \n",
    "    conditions[:-1],\n",
    "    subconditions, \n",
    "    features_pca, \n",
    "    min_frame=0, \n",
    "    max_frame=None\n",
    "    )\n"
   ]
  },
  {
   "cell_type": "markdown",
   "metadata": {},
   "source": [
    "### Expression + PIV"
   ]
  },
  {
   "cell_type": "code",
   "execution_count": 10,
   "metadata": {},
   "outputs": [
    {
     "name": "stderr",
     "output_type": "stream",
     "text": [
      "Conditions: 100%|██████████| 8/8 [00:00<00:00, 114.09it/s]\n"
     ]
    },
    {
     "name": "stdout",
     "output_type": "stream",
     "text": [
      "Combined DataFrame saved to: ../../../../Thomson Lab Dropbox/David Larios/activedrops/main/110324-D_titration-RT/2p5TMB-1ulDNA_1/output_data/combined_PIV.csv\n"
     ]
    }
   ],
   "source": [
    "# Combine the data and save it to the \"output_data\" directory\n",
    "qd.combine_averaged_dataframes(data_path, conditions, subconditions)\n"
   ]
  },
  {
   "cell_type": "code",
   "execution_count": 11,
   "metadata": {},
   "outputs": [
    {
     "name": "stdout",
     "output_type": "stream",
     "text": [
      "Merged DataFrame saved to: ../../../../Thomson Lab Dropbox/David Larios/activedrops/main/110324-D_titration-RT/2p5TMB-1ulDNA_1/output_data/merged_expression_PIV.csv\n"
     ]
    }
   ],
   "source": [
    "qd.merge_expression_piv_data(data_path)\n"
   ]
  },
  {
   "cell_type": "code",
   "execution_count": null,
   "metadata": {},
   "outputs": [],
   "source": [
    "# x_column = \"time (h)\"  # Example x-axis column\n",
    "# y_column = \"Protein Concentration_nM\"  # Example y-axis column\n",
    "\n",
    "\n",
    "# x_column = \"Protein Concentration_nM\"  # Example y-axis column\n",
    "# y_column = \"velocity magnitude [m/s]_mean\"  # Example y-axis column\n",
    "\n",
    "# x_column = \"time (h)\"  # Example x-axis column\n",
    "# y_column = \"velocity magnitude [m/s]_mean\"  # Example y-axis column\n",
    "\n",
    "# x_column = \"time (h)\"  # Example x-axis column\n",
    "# y_column = \"power [W]_mean\"  # Example y-axis column\n",
    "\n",
    "# x_column = \"time (h)\"  # Example x-axis column\n",
    "# y_column = \"work [J]_mean\"  # Example y-axis column\n",
    "\n",
    "x_column = \"time (h)\"  # Example x-axis column\n",
    "y_column = \"distance [m]_mean\"  # Example y-axis column\n",
    "\n",
    "\n",
    "qd.plot_expression_piv(\n",
    "    data_path,\n",
    "    conditions,\n",
    "    x_column, \n",
    "    y_column, \n",
    "    sigma_x=0.1, \n",
    "    sigma_y=10, \n",
    "    x_log=False, \n",
    "    y_log=True, \n",
    "    min_frame=0, \n",
    "    max_frame=None, \n",
    "    individual_plots=False\n",
    "    )"
   ]
  },
  {
   "cell_type": "code",
   "execution_count": null,
   "metadata": {},
   "outputs": [],
   "source": [
    "\n",
    "# List of features for PCA\n",
    "features_pca = [\n",
    "    \"vorticity [1/s]_mean\",\n",
    "    \"velocity magnitude [m/s]_mean\",\n",
    "    \"distance [m]_mean\",\n",
    "    \"divergence [1/s]_mean\",\n",
    "    \"shear [1/s]_mean\",\n",
    "    \"strain [1/s]_mean\",\n",
    "    \"correlation length [m]_mean\", \n",
    "    \"power [W]_mean\",\n",
    "    \"work [J]_mean\",\n",
    "    'vector direction [degrees]_mean',\n",
    "    \"Protein Concentration_nM\", \n",
    "    'time (min)'\n",
    "]\n",
    "\n",
    "# Run PCA and save plot (with all conditions and subconditions in the same plot)\n",
    "qd.plot_pca_expression_piv(data_path, conditions=conditions, subconditions=subconditions, features=features_pca, sigma=1)\n"
   ]
  },
  {
   "cell_type": "code",
   "execution_count": null,
   "metadata": {},
   "outputs": [],
   "source": [
    "\n",
    "# Example usage\n",
    "qd.delete_outputs(data_path, conditions, subconditions, output_dirs=None)\n"
   ]
  },
  {
   "cell_type": "code",
   "execution_count": null,
   "metadata": {},
   "outputs": [],
   "source": []
  }
 ],
 "metadata": {
  "kernelspec": {
   "display_name": "my_venv_3_11_5",
   "language": "python",
   "name": "python3"
  },
  "language_info": {
   "codemirror_mode": {
    "name": "ipython",
    "version": 3
   },
   "file_extension": ".py",
   "mimetype": "text/x-python",
   "name": "python",
   "nbconvert_exporter": "python",
   "pygments_lexer": "ipython3",
   "version": "3.11.5"
  }
 },
 "nbformat": 4,
 "nbformat_minor": 2
}
