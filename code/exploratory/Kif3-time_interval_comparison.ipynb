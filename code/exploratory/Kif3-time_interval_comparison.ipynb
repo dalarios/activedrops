{
 "cells": [
  {
   "cell_type": "code",
   "execution_count": null,
   "metadata": {},
   "outputs": [],
   "source": [
    "## Import relevant libraries\n",
    "import sys\n",
    "sys.path.append('../../activedrops')\n",
    "\n",
    "## Including ourselves\n",
    "import pivdrops\n",
    "pivdrops.set_plotting_style()"
   ]
  },
  {
   "cell_type": "code",
   "execution_count": null,
   "metadata": {},
   "outputs": [],
   "source": [
    "min_frame = 0\n",
    "max_frame = 120\n",
    "frame_rate=120\n",
    "\n",
    "velocity_limits = (0, 3)\n",
    "other_limits = (-0.05, 0.05)\n",
    "\n",
    "# velocity_limits = (None, None)\n",
    "# other_limits = (None, None)\n",
    "\n",
    "feature_limits = {\n",
    "    'magnitude [um/s]': velocity_limits,\n",
    "    'vorticity [1/s]': other_limits,\n",
    "    'divergence [1/s]': other_limits,\n",
    "    'dcev [1]': (0, 250),\n",
    "    'simple shear [1/s]': other_limits,\n",
    "    'simple strain [1/s]': other_limits,\n",
    "    'vector direction [degrees]': (-180, 180),\n",
    "}\n",
    "\n",
    "# pivdrops.process_piv_data(\"../../data/ActiveDROPS_Kif3-time_interval-calibration/\", \"kif3-3sint\", \"rep1\", max_frame, feature_limits, frame_rate=frame_rate, volume=2, save_csv=True, heatmaps=True)\n",
    "pivdrops.process_piv_data(\"../../data/ActiveDROPS_Kif3-time_interval-calibration/\", \"kif3-6sint\", \"rep1\", max_frame, feature_limits, frame_rate=frame_rate, volume=2, save_csv=True, heatmaps=True)\n",
    "# pivdrops.process_piv_data(\"../../data/ActiveDROPS_Kif3-time_interval-calibration/\", \"kif3-12sint\", \"rep1\", max_frame, feature_limits, frame_rate=frame_rate, volume=2, save_csv=True, heatmaps=True)\n"
   ]
  },
  {
   "cell_type": "code",
   "execution_count": null,
   "metadata": {},
   "outputs": [],
   "source": [
    "pivdrops.plot_piv_features(\n",
    "    [\"../../data/ActiveDROPS_Kif3-time_interval-calibration/\", \"../../data/ActiveDROPS_Kif3-time_interval-calibration/\", \"../../data/ActiveDROPS_Kif3-time_interval-calibration/\"], \n",
    "    [\"kif3-3sint\", \"kif3-6sint\", \"kif3-12sint\"], \n",
    "    [\"rep1\", \"rep1\", \"rep1\"], \n",
    "    seconds_intervals=[3, 6, 12],\n",
    "    sigma=1, \n",
    "    min_frame=min_frame, \n",
    "    max_frame=max_frame)"
   ]
  },
  {
   "cell_type": "code",
   "execution_count": null,
   "metadata": {},
   "outputs": [],
   "source": [
    "pivdrops.plot_piv_features(\n",
    "    [\"../../data/ActiveDROPS_Kif3-time_interval-calibration/\"], \n",
    "    [\"kif3-3sint\"], \n",
    "    [\"rep1\"], \n",
    "    seconds_intervals=[3],\n",
    "    sigma=1, \n",
    "    min_frame=min_frame, \n",
    "    max_frame=max_frame)"
   ]
  },
  {
   "cell_type": "code",
   "execution_count": null,
   "metadata": {},
   "outputs": [],
   "source": []
  }
 ],
 "metadata": {
  "kernelspec": {
   "display_name": "base",
   "language": "python",
   "name": "python3"
  },
  "language_info": {
   "codemirror_mode": {
    "name": "ipython",
    "version": 3
   },
   "file_extension": ".py",
   "mimetype": "text/x-python",
   "name": "python",
   "nbconvert_exporter": "python",
   "pygments_lexer": "ipython3",
   "version": "3.11.5"
  }
 },
 "nbformat": 4,
 "nbformat_minor": 2
}
