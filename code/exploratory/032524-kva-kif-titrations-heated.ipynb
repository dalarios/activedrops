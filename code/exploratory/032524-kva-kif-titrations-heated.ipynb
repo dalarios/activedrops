{
 "cells": [
  {
   "cell_type": "code",
   "execution_count": 1,
   "metadata": {},
   "outputs": [],
   "source": [
    "## Import relevant libraries\n",
    "import sys\n",
    "import os\n",
    "import shutil\n",
    "from natsort import natsorted  # For natural sorting\n",
    "sys.path.append('../../activedrops')\n",
    "\n",
    "## Including ourselves\n",
    "import quadrop as qd\n",
    "qd.set_plotting_style()\n"
   ]
  },
  {
   "cell_type": "code",
   "execution_count": 2,
   "metadata": {},
   "outputs": [
    {
     "data": {
      "text/plain": [
       "['Pos6', 'Pos7']"
      ]
     },
     "execution_count": 2,
     "metadata": {},
     "output_type": "execute_result"
    }
   ],
   "source": [
    "data_path = \"../../data/032524-kva-kif-titrations-heated/4ultxtl-1ulDNA-1MT-1ulbuffer_1/\"\n",
    "\n",
    "# let's declare the variable \"conditions\" to the sorted list of subdirectories from data_path\n",
    "conditions = natsorted([f for f in os.listdir(data_path) if os.path.isdir(os.path.join(data_path, f))])\n",
    "\n",
    "# let's declare the variable \"subconditions\" to the sorted list of subdirectories from the first condition\n",
    "subconditions = natsorted([f for f in os.listdir(os.path.join(data_path, conditions[0])) if os.path.isdir(os.path.join(data_path, conditions[0], f))])\n",
    "\n",
    "subconditions"
   ]
  },
  {
   "cell_type": "code",
   "execution_count": 3,
   "metadata": {},
   "outputs": [
    {
     "name": "stdout",
     "output_type": "stream",
     "text": [
      "Moved .tif files from ../../data/032524-kva-kif-titrations-heated/4ultxtl-1ulDNA-1MT-1ulbuffer_1/k401_10nM/Pos6 to ../../data/032524-kva-kif-titrations-heated/4ultxtl-1ulDNA-1MT-1ulbuffer_1/k401_10nM/Pos6/original\n",
      "Moved .tif files from ../../data/032524-kva-kif-titrations-heated/4ultxtl-1ulDNA-1MT-1ulbuffer_1/k401_10nM/Pos7 to ../../data/032524-kva-kif-titrations-heated/4ultxtl-1ulDNA-1MT-1ulbuffer_1/k401_10nM/Pos7/original\n",
      "Moved .tif files from ../../data/032524-kva-kif-titrations-heated/4ultxtl-1ulDNA-1MT-1ulbuffer_1/k401_20nM/Pos6 to ../../data/032524-kva-kif-titrations-heated/4ultxtl-1ulDNA-1MT-1ulbuffer_1/k401_20nM/Pos6/original\n",
      "Moved .tif files from ../../data/032524-kva-kif-titrations-heated/4ultxtl-1ulDNA-1MT-1ulbuffer_1/k401_20nM/Pos7 to ../../data/032524-kva-kif-titrations-heated/4ultxtl-1ulDNA-1MT-1ulbuffer_1/k401_20nM/Pos7/original\n",
      "Moved .tif files from ../../data/032524-kva-kif-titrations-heated/4ultxtl-1ulDNA-1MT-1ulbuffer_1/k401_40nM/Pos6 to ../../data/032524-kva-kif-titrations-heated/4ultxtl-1ulDNA-1MT-1ulbuffer_1/k401_40nM/Pos6/original\n",
      "Moved .tif files from ../../data/032524-kva-kif-titrations-heated/4ultxtl-1ulDNA-1MT-1ulbuffer_1/k401_40nM/Pos7 to ../../data/032524-kva-kif-titrations-heated/4ultxtl-1ulDNA-1MT-1ulbuffer_1/k401_40nM/Pos7/original\n",
      "Moved .tif files from ../../data/032524-kva-kif-titrations-heated/4ultxtl-1ulDNA-1MT-1ulbuffer_1/k401_80nM/Pos6 to ../../data/032524-kva-kif-titrations-heated/4ultxtl-1ulDNA-1MT-1ulbuffer_1/k401_80nM/Pos6/original\n",
      "Moved .tif files from ../../data/032524-kva-kif-titrations-heated/4ultxtl-1ulDNA-1MT-1ulbuffer_1/k401_80nM/Pos7 to ../../data/032524-kva-kif-titrations-heated/4ultxtl-1ulDNA-1MT-1ulbuffer_1/k401_80nM/Pos7/original\n",
      "Moved .tif files from ../../data/032524-kva-kif-titrations-heated/4ultxtl-1ulDNA-1MT-1ulbuffer_1/kif3_20nM/Pos6 to ../../data/032524-kva-kif-titrations-heated/4ultxtl-1ulDNA-1MT-1ulbuffer_1/kif3_20nM/Pos6/original\n",
      "Moved .tif files from ../../data/032524-kva-kif-titrations-heated/4ultxtl-1ulDNA-1MT-1ulbuffer_1/kif3_20nM/Pos7 to ../../data/032524-kva-kif-titrations-heated/4ultxtl-1ulDNA-1MT-1ulbuffer_1/kif3_20nM/Pos7/original\n",
      "Moved .tif files from ../../data/032524-kva-kif-titrations-heated/4ultxtl-1ulDNA-1MT-1ulbuffer_1/kif3_40nM/Pos6 to ../../data/032524-kva-kif-titrations-heated/4ultxtl-1ulDNA-1MT-1ulbuffer_1/kif3_40nM/Pos6/original\n",
      "Moved .tif files from ../../data/032524-kva-kif-titrations-heated/4ultxtl-1ulDNA-1MT-1ulbuffer_1/kif3_40nM/Pos7 to ../../data/032524-kva-kif-titrations-heated/4ultxtl-1ulDNA-1MT-1ulbuffer_1/kif3_40nM/Pos7/original\n",
      "Moved .tif files from ../../data/032524-kva-kif-titrations-heated/4ultxtl-1ulDNA-1MT-1ulbuffer_1/kif3_70nM/Pos6 to ../../data/032524-kva-kif-titrations-heated/4ultxtl-1ulDNA-1MT-1ulbuffer_1/kif3_70nM/Pos6/original\n",
      "Moved .tif files from ../../data/032524-kva-kif-titrations-heated/4ultxtl-1ulDNA-1MT-1ulbuffer_1/kif3_70nM/Pos7 to ../../data/032524-kva-kif-titrations-heated/4ultxtl-1ulDNA-1MT-1ulbuffer_1/kif3_70nM/Pos7/original\n",
      "Moved .tif files from ../../data/032524-kva-kif-titrations-heated/4ultxtl-1ulDNA-1MT-1ulbuffer_1/kif3_80nM/Pos6 to ../../data/032524-kva-kif-titrations-heated/4ultxtl-1ulDNA-1MT-1ulbuffer_1/kif3_80nM/Pos6/original\n",
      "Moved .tif files from ../../data/032524-kva-kif-titrations-heated/4ultxtl-1ulDNA-1MT-1ulbuffer_1/kif3_80nM/Pos7 to ../../data/032524-kva-kif-titrations-heated/4ultxtl-1ulDNA-1MT-1ulbuffer_1/kif3_80nM/Pos7/original\n",
      "Moved .tif files from ../../data/032524-kva-kif-titrations-heated/4ultxtl-1ulDNA-1MT-1ulbuffer_1/single_movies_cy5/Pos6 to ../../data/032524-kva-kif-titrations-heated/4ultxtl-1ulDNA-1MT-1ulbuffer_1/single_movies_cy5/Pos6/original\n",
      "Moved .tif files from ../../data/032524-kva-kif-titrations-heated/4ultxtl-1ulDNA-1MT-1ulbuffer_1/single_movies_cy5/Pos7 to ../../data/032524-kva-kif-titrations-heated/4ultxtl-1ulDNA-1MT-1ulbuffer_1/single_movies_cy5/Pos7/original\n",
      "Moved .tif files from ../../data/032524-kva-kif-titrations-heated/4ultxtl-1ulDNA-1MT-1ulbuffer_1/single_movies_gfp/Pos6 to ../../data/032524-kva-kif-titrations-heated/4ultxtl-1ulDNA-1MT-1ulbuffer_1/single_movies_gfp/Pos6/original\n",
      "Moved .tif files from ../../data/032524-kva-kif-titrations-heated/4ultxtl-1ulDNA-1MT-1ulbuffer_1/single_movies_gfp/Pos7 to ../../data/032524-kva-kif-titrations-heated/4ultxtl-1ulDNA-1MT-1ulbuffer_1/single_movies_gfp/Pos7/original\n"
     ]
    }
   ],
   "source": [
    "def reorgTiffsToOriginal(data_path, conditions, subconditions):\n",
    "    \"\"\"\n",
    "    Args:\n",
    "        data_path (_type_): _description_\n",
    "        conditions (_type_): _description_\n",
    "        subconditions (_type_): _description_\n",
    "        \n",
    "        \n",
    "    Activate when you have your subconditions inside the conditions folder. \n",
    "    This function renames the subconditions as PosX and moves the raw data do \"original\" folder.\n",
    "    \"\"\"\n",
    "    \n",
    "    \n",
    "    for condition in conditions:\n",
    "        # Get the actual subconditions in the directory\n",
    "        actual_subconditions = [name for name in os.listdir(os.path.join(data_path, condition)) if os.path.isdir(os.path.join(data_path, condition, name))]\n",
    "        \n",
    "        # Rename the actual subconditions to match the subconditions in your list\n",
    "        for i, actual_subcondition in enumerate(sorted(actual_subconditions)):\n",
    "            os.rename(os.path.join(data_path, condition, actual_subcondition), os.path.join(data_path, condition, subconditions[i]))\n",
    "        \n",
    "        for subcondition in subconditions:\n",
    "            # Construct the path to the subcondition directory\n",
    "            subcondition_path = os.path.join(data_path, condition, subcondition)\n",
    "            \n",
    "            # Create the path for the \"original\" directory within the subcondition directory\n",
    "            original_dir_path = os.path.join(subcondition_path, \"original\")\n",
    "            \n",
    "            # Always create the \"original\" directory\n",
    "            os.makedirs(original_dir_path, exist_ok=True)\n",
    "            \n",
    "            # Iterate over all files in the subcondition directory\n",
    "            for filename in os.listdir(subcondition_path):\n",
    "                # Check if the file is a .tif file\n",
    "                if filename.endswith(\".tif\"):\n",
    "                    # Construct the full path to the file\n",
    "                    file_path = os.path.join(subcondition_path, filename)\n",
    "                    \n",
    "                    # Construct the path to move the file to\n",
    "                    destination_path = os.path.join(original_dir_path, filename)\n",
    "                    \n",
    "                    # Move the file to the \"original\" directory\n",
    "                    shutil.move(file_path, destination_path)\n",
    "            print(f\"Moved .tif files from {subcondition_path} to {original_dir_path}\")\n",
    "\n",
    "\n",
    "reorgTiffsToOriginal(data_path, conditions, subconditions)"
   ]
  },
  {
   "cell_type": "code",
   "execution_count": null,
   "metadata": {},
   "outputs": [],
   "source": [
    "# frame info\n",
    "min_frame = 0\n",
    "max_frame = None\n",
    "skip_frames=32\n",
    "frame_rate=30\n",
    "time_intervals = [60] * len(conditions) \n"
   ]
  },
  {
   "cell_type": "code",
   "execution_count": null,
   "metadata": {},
   "outputs": [],
   "source": [
    "# channel info\n",
    "channel = \"gfp\"\n",
    "\n",
    "# Call the function with the updated parameters\n",
    "qd.plot_fluorescence_vs_time(\n",
    "    data_path=data_path,\n",
    "    conditions=conditions[:4],\n",
    "    subconditions=subconditions,\n",
    "    channel=channel,\n",
    "    time_intervals=time_intervals,  \n",
    "    min_frame=min_frame,\n",
    "    max_frame=max_frame,\n",
    "    skip_frames=skip_frames,\n",
    "    log_scale=False,  # Set log_scale to True\n",
    "    timescale=\"h\"\n",
    ")\n",
    "\n",
    "\n",
    "# Call the function with the updated parameters\n",
    "qd.plot_average_fluorescence_vs_time(\n",
    "    data_path=data_path,\n",
    "    conditions=conditions[:4],\n",
    "    subconditions=subconditions[:1],\n",
    "    channel=channel,\n",
    "    time_intervals=time_intervals,  \n",
    "    min_frame=min_frame,\n",
    "    max_frame=max_frame,\n",
    "    skip_frames=skip_frames,\n",
    "    log_scale=False,  # Set log_scale to True\n",
    "    timescale=\"h\"\n",
    ")\n"
   ]
  },
  {
   "cell_type": "code",
   "execution_count": 8,
   "metadata": {},
   "outputs": [
    {
     "name": "stdout",
     "output_type": "stream",
     "text": [
      "Video saved to ../../data/032524-kva-kif-titrations-heated/4ultxtl-1ulDNA-1MT-1ulbuffer_1/single_movies_cy5/k401_10nM_Pos6-cy5.avi\n",
      "Video saved to ../../data/032524-kva-kif-titrations-heated/4ultxtl-1ulDNA-1MT-1ulbuffer_1/single_movies_cy5/k401_10nM_Pos7-cy5.avi\n",
      "Video saved to ../../data/032524-kva-kif-titrations-heated/4ultxtl-1ulDNA-1MT-1ulbuffer_1/single_movies_cy5/k401_20nM_Pos6-cy5.avi\n",
      "Video saved to ../../data/032524-kva-kif-titrations-heated/4ultxtl-1ulDNA-1MT-1ulbuffer_1/single_movies_cy5/k401_20nM_Pos7-cy5.avi\n",
      "Video saved to ../../data/032524-kva-kif-titrations-heated/4ultxtl-1ulDNA-1MT-1ulbuffer_1/single_movies_cy5/k401_40nM_Pos6-cy5.avi\n",
      "Video saved to ../../data/032524-kva-kif-titrations-heated/4ultxtl-1ulDNA-1MT-1ulbuffer_1/single_movies_cy5/k401_40nM_Pos7-cy5.avi\n",
      "Video saved to ../../data/032524-kva-kif-titrations-heated/4ultxtl-1ulDNA-1MT-1ulbuffer_1/single_movies_cy5/k401_80nM_Pos6-cy5.avi\n",
      "Video saved to ../../data/032524-kva-kif-titrations-heated/4ultxtl-1ulDNA-1MT-1ulbuffer_1/single_movies_cy5/k401_80nM_Pos7-cy5.avi\n",
      "Video saved to ../../data/032524-kva-kif-titrations-heated/4ultxtl-1ulDNA-1MT-1ulbuffer_1/single_movies_cy5/kif3_20nM_Pos6-cy5.avi\n",
      "Video saved to ../../data/032524-kva-kif-titrations-heated/4ultxtl-1ulDNA-1MT-1ulbuffer_1/single_movies_cy5/kif3_20nM_Pos7-cy5.avi\n",
      "Video saved to ../../data/032524-kva-kif-titrations-heated/4ultxtl-1ulDNA-1MT-1ulbuffer_1/single_movies_cy5/kif3_40nM_Pos6-cy5.avi\n",
      "Video saved to ../../data/032524-kva-kif-titrations-heated/4ultxtl-1ulDNA-1MT-1ulbuffer_1/single_movies_cy5/kif3_40nM_Pos7-cy5.avi\n",
      "Video saved to ../../data/032524-kva-kif-titrations-heated/4ultxtl-1ulDNA-1MT-1ulbuffer_1/single_movies_cy5/kif3_70nM_Pos6-cy5.avi\n",
      "Video saved to ../../data/032524-kva-kif-titrations-heated/4ultxtl-1ulDNA-1MT-1ulbuffer_1/single_movies_cy5/kif3_70nM_Pos7-cy5.avi\n",
      "Video saved to ../../data/032524-kva-kif-titrations-heated/4ultxtl-1ulDNA-1MT-1ulbuffer_1/single_movies_cy5/kif3_80nM_Pos6-cy5.avi\n",
      "Video saved to ../../data/032524-kva-kif-titrations-heated/4ultxtl-1ulDNA-1MT-1ulbuffer_1/single_movies_cy5/kif3_80nM_Pos7-cy5.avi\n",
      "No images found for video creation.\n",
      "No images found for video creation.\n",
      "No images found for video creation.\n",
      "No images found for video creation.\n"
     ]
    }
   ],
   "source": [
    "# frame info\n",
    "min_frame = 0\n",
    "max_frame = 579\n",
    "skip_frames=4\n",
    "frame_rate=30\n",
    "time_intervals = [60] * len(conditions) \n",
    "\n",
    "# channel info\n",
    "channel = \"cy5\"\n",
    "vmax = 0.4\n",
    "\n",
    "\n",
    "qd.single_fluorescence_movies(data_path, conditions, subconditions, channel, time_intervals, min_frame, max_frame, vmax, skip_frames, frame_rate)"
   ]
  },
  {
   "cell_type": "code",
   "execution_count": 11,
   "metadata": {},
   "outputs": [
    {
     "data": {
      "text/plain": [
       "['k401_10nM', 'k401_20nM', 'k401_40nM', 'k401_80nM']"
      ]
     },
     "execution_count": 11,
     "metadata": {},
     "output_type": "execute_result"
    }
   ],
   "source": [
    "conditions[:4]"
   ]
  },
  {
   "cell_type": "code",
   "execution_count": 15,
   "metadata": {},
   "outputs": [
    {
     "data": {
      "text/plain": [
       "['k401_10nM',\n",
       " 'k401_20nM',\n",
       " 'k401_40nM',\n",
       " 'k401_80nM',\n",
       " 'kif3_20nM',\n",
       " 'kif3_40nM',\n",
       " 'kif3_70nM',\n",
       " 'kif3_80nM']"
      ]
     },
     "execution_count": 15,
     "metadata": {},
     "output_type": "execute_result"
    }
   ],
   "source": [
    "conditions[:8]"
   ]
  },
  {
   "cell_type": "code",
   "execution_count": 23,
   "metadata": {},
   "outputs": [
    {
     "name": "stdout",
     "output_type": "stream",
     "text": [
      "Video saved to ../../data/032524-kva-kif-titrations-heated/4ultxtl-1ulDNA-1MT-1ulbuffer_1/grid-cy5.avi\n"
     ]
    }
   ],
   "source": [
    "qd.grid_heatmaps(data_path, conditions[:8], subconditions, channel, frame_rate=frame_rate, figsize=(48,12))\n"
   ]
  },
  {
   "cell_type": "code",
   "execution_count": null,
   "metadata": {},
   "outputs": [],
   "source": [
    "qd.grid_heatmaps(data_path, conditions[4:8], subconditions, channel, frame_rate=frame_rate, figsize=(20,24))\n"
   ]
  },
  {
   "cell_type": "code",
   "execution_count": null,
   "metadata": {},
   "outputs": [],
   "source": [
    "# frame info\n",
    "min_frame = 0\n",
    "max_frame = None\n",
    "skip_frames=32\n",
    "frame_rate=30\n",
    "time_intervals = [60] * len(conditions) \n",
    "\n",
    "# channel info\n",
    "channel = \"gfp\"\n",
    "vmax = 0.01\n",
    "\n",
    "\n",
    "qd.single_fluorescence_movies(data_path, conditions, subconditions, channel, time_intervals, min_frame, max_frame, vmax, skip_frames, frame_rate)"
   ]
  },
  {
   "cell_type": "code",
   "execution_count": null,
   "metadata": {},
   "outputs": [],
   "source": []
  }
 ],
 "metadata": {
  "kernelspec": {
   "display_name": "base",
   "language": "python",
   "name": "python3"
  },
  "language_info": {
   "codemirror_mode": {
    "name": "ipython",
    "version": 3
   },
   "file_extension": ".py",
   "mimetype": "text/x-python",
   "name": "python",
   "nbconvert_exporter": "python",
   "pygments_lexer": "ipython3",
   "version": "3.11.5"
  }
 },
 "nbformat": 4,
 "nbformat_minor": 2
}
