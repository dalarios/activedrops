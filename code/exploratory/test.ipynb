{
 "cells": [
  {
   "cell_type": "code",
   "execution_count": null,
   "metadata": {},
   "outputs": [],
   "source": [
    "import os\n",
    "import glob\n",
    "import sys\n",
    "sys.path.append('../../activedrops')\n",
    "import pivdrops\n",
    "pivdrops.set_plotting_style()"
   ]
  },
  {
   "cell_type": "code",
   "execution_count": null,
   "metadata": {},
   "outputs": [],
   "source": [
    "data_path = \"../../data/01-k401-biotin_strep/500nM/2ul/piv_data/PIVlab_0001.txt\"\n",
    "pivdrops.df_piv(data_path, 2)\n"
   ]
  },
  {
   "cell_type": "code",
   "execution_count": null,
   "metadata": {},
   "outputs": [],
   "source": [
    "max_frame = 20\n",
    "data_path = \"../../data/01-k401-biotin_strep/500nM/2ul/piv_data/PIVlab_****.txt\"\n",
    "dfs = pivdrops.process_piv_files(data_path, 2, max_frame=max_frame) \n",
    "dfs"
   ]
  },
  {
   "cell_type": "code",
   "execution_count": null,
   "metadata": {},
   "outputs": [],
   "source": [
    "input_dir = \"../../data/01-k401-biotin_strep/500nM/2ul/piv_movie/\"\n",
    "output_dir = \"../../data/01-k401-biotin_strep/500nM/2ul/converted/\"\n",
    "pivdrops.convert_images(input_dir, output_dir, max_frame=max_frame)\n"
   ]
  },
  {
   "cell_type": "code",
   "execution_count": null,
   "metadata": {},
   "outputs": [],
   "source": [
    "image_files = '../../data/01-k401-biotin_strep/500nM/2ul/converted/converted_image_***.tif'\n",
    "image_files = sorted(glob.glob(image_files))"
   ]
  },
  {
   "cell_type": "code",
   "execution_count": null,
   "metadata": {},
   "outputs": [],
   "source": [
    "for i in range(len(dfs)):\n",
    "    pivdrops.piv_heatmap(dfs[i], 'magnitude [um/s]', vmin=0, vmax=10, time_in_minutes=i, image_file=image_files[i], output_dir=f\"../../data/01-k401-biotin_strep/500nM/2ul/plots/magnitude{i}.jpg\")\n"
   ]
  },
  {
   "cell_type": "markdown",
   "metadata": {},
   "source": [
    "let's put it all together"
   ]
  },
  {
   "cell_type": "code",
   "execution_count": null,
   "metadata": {},
   "outputs": [],
   "source": [
    "max_frame = 20\n",
    "data_path = \"../../data/01-k401-biotin_strep/500nM/2ul/piv_data/PIVlab_****.txt\"\n",
    "dfs = pivdrops.process_piv_files(data_path, 2, max_frame=max_frame) \n",
    "\n",
    "input_dir = \"../../data/01-k401-biotin_strep/500nM/2ul/piv_movie/\"\n",
    "output_dir = \"../../data/01-k401-biotin_strep/500nM/2ul/converted/\"\n",
    "pivdrops.convert_images(input_dir, output_dir, max_frame=max_frame)\n",
    "\n",
    "image_files = sorted(glob.glob('../../data/01-k401-biotin_strep/500nM/2ul/converted/converted_image_***.tif'))\n",
    "\n",
    "for i in range(len(dfs)):\n",
    "    pivdrops.piv_heatmap(dfs[i], 'magnitude [um/s]', vmin=0, vmax=10, time_in_minutes=i, image_file=image_files[i], output_dir=f\"../../data/01-k401-biotin_strep/500nM/2ul/plots/magnitude/heatmap_{i}.jpg\")\n",
    "    pivdrops.piv_heatmap(dfs[i], 'divergence [1/s]', vmin=-0.03, vmax=0.03, time_in_minutes=i, image_file=image_files[i], output_dir=f\"../../data/01-k401-biotin_strep/500nM/2ul/plots/divergence/heatmap_{i}.jpg\")\n",
    "\n"
   ]
  },
  {
   "cell_type": "code",
   "execution_count": null,
   "metadata": {},
   "outputs": [],
   "source": [
    "import cv2\n",
    "import os\n",
    "import glob\n",
    "import sys\n",
    "import re\n",
    "sys.path.append('../../activedrops')\n",
    "import pivdrops\n",
    "pivdrops.set_plotting_style()\n",
    "from natsort import natsorted  # Import for natural sorting\n",
    "\n",
    "def create_heatmap_movies(data_path, condition, subcondition, feature_limits, frame_rate=120):\n",
    "    plots_dir = f\"{data_path}{condition}/{subcondition}/plots/\"\n",
    "    for feature in feature_limits.keys():\n",
    "        feature_name_for_file = re.sub(r\"\\s*\\[.*?\\]\\s*\", \"\", feature).replace(\" \", \"_\").lower()\n",
    "        heatmap_dir = f\"{data_path}{condition}/{subcondition}/plots/{feature_name_for_file}/\"\n",
    "        heatmap_files = natsorted(glob.glob(f\"{heatmap_dir}heatmap_*.jpg\"))\n",
    "\n",
    "        if not heatmap_files:\n",
    "            continue\n",
    "\n",
    "        # Get the resolution of the first image (assuming all images are the same size)\n",
    "        first_image = cv2.imread(heatmap_files[0])\n",
    "        video_resolution = (first_image.shape[1], first_image.shape[0])  # Width x Height\n",
    "\n",
    "        # Define the codec and create VideoWriter object\n",
    "        fourcc = cv2.VideoWriter_fourcc(*'MJPG')\n",
    "        out = cv2.VideoWriter(f'{plots_dir}{feature_name_for_file}.avi', fourcc, frame_rate, video_resolution)\n",
    "\n",
    "        for file in heatmap_files:\n",
    "            img = cv2.imread(file)\n",
    "            out.write(img)  # Write the image as is, without resizing\n",
    "\n",
    "        out.release()\n",
    "\n",
    "\n",
    "\n",
    "def process_data(data_path, max_frame, conditions, subconditions, time_interval_seconds=3, feature_limits=None, frame_rate=120):\n",
    "    for condition in conditions:\n",
    "        for subcondition in subconditions:\n",
    "            # Construct the file path pattern for PIV files\n",
    "            piv_files_pattern = f\"{data_path}{condition}/{subcondition}/piv_data/PIVlab_****.txt\"\n",
    "            dfs = pivdrops.process_piv_files(piv_files_pattern, 2, max_frame=max_frame)\n",
    "\n",
    "            # Construct directories for image conversion\n",
    "            input_dir = f\"{data_path}{condition}/{subcondition}/piv_movie/\"\n",
    "            output_dir = f\"{data_path}{condition}/{subcondition}/piv_movie_converted/\"\n",
    "            pivdrops.convert_images(input_dir, output_dir, max_frame=max_frame)\n",
    "\n",
    "            # Process heatmaps for each feature\n",
    "            image_files_pattern = f\"{data_path}{condition}/{subcondition}/piv_movie_converted/converted_image_***.tif\"\n",
    "            image_files = sorted(glob.glob(image_files_pattern))\n",
    "\n",
    "            for i, df in enumerate(dfs):\n",
    "                for feature, limits in feature_limits.items():\n",
    "                    vmin, vmax = limits\n",
    "                    # Remove text in brackets from feature names for file naming\n",
    "                    feature_name_for_file = re.sub(r\"\\s*\\[.*?\\]\\s*\", \"\", feature).replace(\" \", \"_\").lower()\n",
    "                    heatmap_output = f\"{data_path}{condition}/{subcondition}/plots/{feature_name_for_file}/heatmap_{i}.jpg\"\n",
    "                    pivdrops.piv_heatmap(df, feature, vmin=vmin, vmax=vmax, time_in_minutes=i * time_interval_seconds/60, image_file=image_files[i], output_dir=heatmap_output)\n",
    "\n",
    "            # Process time series\n",
    "            time_series_output = f\"{data_path}{condition}/{subcondition}/plots/\"\n",
    "            pivdrops.piv_time_series(dfs, time_interval_seconds=time_interval_seconds, output_dir=time_series_output)\n",
    "\n",
    "            # Create heatmap movies\n",
    "            create_heatmap_movies(data_path, condition, subcondition, feature_limits, frame_rate=frame_rate)\n",
    "\n",
    "\n",
    "def plot_combined_timeseries(conditions, subconditions, data_path):\n",
    "    df = pivdrops.combine_timeseries_dataframes(data_path, conditions, subconditions)\n",
    "\n",
    "    for feature in ['velocity', 'power', 'distance', 'work']:\n",
    "        pivdrops.plot_combined_time_series(df, feature, sigma=1, output_dir=data_path)\n",
    "\n",
    "\n",
    "\n",
    "velocity_limits = (0, 10)\n",
    "other_limits = (-0.2, 0.2)\n",
    "\n",
    "# velocity_limits = (0, None)\n",
    "# other_limits = (None, None)\n",
    "\n",
    "feature_limits = {\n",
    "    'magnitude [um/s]': velocity_limits,\n",
    "    'vorticity [1/s]': other_limits,\n",
    "    'divergence [1/s]': other_limits,\n",
    "    'dcev [1]': (0, 250),\n",
    "    'simple shear [1/s]': other_limits,\n",
    "    'simple strain [1/s]': other_limits,\n",
    "    'vector direction [degrees]': (-180, 180),\n",
    "}\n",
    "\n",
    "# Example usage\n",
    "conditions = ['500nM', '250nM', '125nM']\n",
    "subconditions = ['2ul']\n",
    "data_path = \"../../data/01-k401-biotin_strep/\"\n",
    "process_data(data_path, max_frame=20, conditions=conditions, subconditions=subconditions, time_interval_seconds=3, feature_limits=feature_limits, frame_rate=120)\n",
    "plot_combined_timeseries(conditions, subconditions, data_path)\n"
   ]
  },
  {
   "cell_type": "code",
   "execution_count": null,
   "metadata": {},
   "outputs": [],
   "source": [
    "\n",
    "\n"
   ]
  },
  {
   "cell_type": "code",
   "execution_count": null,
   "metadata": {},
   "outputs": [],
   "source": []
  },
  {
   "cell_type": "code",
   "execution_count": 1,
   "metadata": {},
   "outputs": [],
   "source": [
    "import sys\n",
    "sys.path.append('../../activedrops')\n",
    "import pivdrops\n",
    "pivdrops.set_plotting_style()"
   ]
  },
  {
   "cell_type": "code",
   "execution_count": 2,
   "metadata": {},
   "outputs": [
    {
     "ename": "NameError",
     "evalue": "name 'pivdrops' is not defined",
     "output_type": "error",
     "traceback": [
      "\u001b[0;31m---------------------------------------------------------------------------\u001b[0m",
      "\u001b[0;31mNameError\u001b[0m                                 Traceback (most recent call last)",
      "\u001b[1;32m/Users/dalarios/git/activedrops/code/exploratory/test.ipynb Cell 13\u001b[0m line \u001b[0;36m2\n\u001b[1;32m     <a href='vscode-notebook-cell:/Users/dalarios/git/activedrops/code/exploratory/test.ipynb#X45sZmlsZQ%3D%3D?line=18'>19</a>\u001b[0m subconditions \u001b[39m=\u001b[39m [\u001b[39m'\u001b[39m\u001b[39m2ul\u001b[39m\u001b[39m'\u001b[39m]\n\u001b[1;32m     <a href='vscode-notebook-cell:/Users/dalarios/git/activedrops/code/exploratory/test.ipynb#X45sZmlsZQ%3D%3D?line=19'>20</a>\u001b[0m data_path \u001b[39m=\u001b[39m \u001b[39m\"\u001b[39m\u001b[39m../../data/01-k401-biotin_strep/\u001b[39m\u001b[39m\"\u001b[39m\n\u001b[0;32m---> <a href='vscode-notebook-cell:/Users/dalarios/git/activedrops/code/exploratory/test.ipynb#X45sZmlsZQ%3D%3D?line=20'>21</a>\u001b[0m pivdrops\u001b[39m.\u001b[39mprocess_piv_data(data_path, max_frame\u001b[39m=\u001b[39m\u001b[39m20\u001b[39m, conditions\u001b[39m=\u001b[39mconditions, subconditions\u001b[39m=\u001b[39msubconditions, time_interval_seconds\u001b[39m=\u001b[39m\u001b[39m3\u001b[39m, feature_limits\u001b[39m=\u001b[39mfeature_limits, frame_rate\u001b[39m=\u001b[39m\u001b[39m120\u001b[39m)\n\u001b[1;32m     <a href='vscode-notebook-cell:/Users/dalarios/git/activedrops/code/exploratory/test.ipynb#X45sZmlsZQ%3D%3D?line=21'>22</a>\u001b[0m pivdrops\u001b[39m.\u001b[39mplot_combined_timeseries(conditions, subconditions, data_path)\n",
      "File \u001b[0;32m~/git/activedrops/code/exploratory/../../activedrops/pivdrops.py:512\u001b[0m, in \u001b[0;36mprocess_piv_data\u001b[0;34m(data_path, max_frame, conditions, subconditions, time_interval_seconds, feature_limits, frame_rate)\u001b[0m\n\u001b[1;32m    509\u001b[0m \u001b[39mfor\u001b[39;00m subcondition \u001b[39min\u001b[39;00m subconditions:\n\u001b[1;32m    510\u001b[0m     \u001b[39m# Construct the file path pattern for PIV files\u001b[39;00m\n\u001b[1;32m    511\u001b[0m     piv_files_pattern \u001b[39m=\u001b[39m \u001b[39mf\u001b[39m\u001b[39m\"\u001b[39m\u001b[39m{\u001b[39;00mdata_path\u001b[39m}\u001b[39;00m\u001b[39m{\u001b[39;00mcondition\u001b[39m}\u001b[39;00m\u001b[39m/\u001b[39m\u001b[39m{\u001b[39;00msubcondition\u001b[39m}\u001b[39;00m\u001b[39m/piv_data/PIVlab_****.txt\u001b[39m\u001b[39m\"\u001b[39m\n\u001b[0;32m--> 512\u001b[0m     dfs \u001b[39m=\u001b[39m pivdrops\u001b[39m.\u001b[39mprocess_piv_files(piv_files_pattern, \u001b[39m2\u001b[39m, max_frame\u001b[39m=\u001b[39mmax_frame)\n\u001b[1;32m    514\u001b[0m     \u001b[39m# Construct directories for image conversion\u001b[39;00m\n\u001b[1;32m    515\u001b[0m     input_dir \u001b[39m=\u001b[39m \u001b[39mf\u001b[39m\u001b[39m\"\u001b[39m\u001b[39m{\u001b[39;00mdata_path\u001b[39m}\u001b[39;00m\u001b[39m{\u001b[39;00mcondition\u001b[39m}\u001b[39;00m\u001b[39m/\u001b[39m\u001b[39m{\u001b[39;00msubcondition\u001b[39m}\u001b[39;00m\u001b[39m/piv_movie/\u001b[39m\u001b[39m\"\u001b[39m\n",
      "\u001b[0;31mNameError\u001b[0m: name 'pivdrops' is not defined"
     ]
    }
   ],
   "source": [
    "\n",
    "\n",
    "\n",
    "velocity_limits = (0, 10)\n",
    "other_limits = (-0.2, 0.2)\n",
    "\n",
    "# velocity_limits = (0, None)\n",
    "# other_limits = (None, None)\n",
    "\n",
    "feature_limits = {\n",
    "    'magnitude [um/s]': velocity_limits,\n",
    "    'vorticity [1/s]': other_limits,\n",
    "    'divergence [1/s]': other_limits,\n",
    "    'dcev [1]': (0, 250),\n",
    "    'simple shear [1/s]': other_limits,\n",
    "    'simple strain [1/s]': other_limits,\n",
    "    'vector direction [degrees]': (-180, 180),\n",
    "}\n",
    "\n",
    "# Example usage\n",
    "conditions = ['500nM']#, '250nM', '125nM']\n",
    "subconditions = ['2ul']\n",
    "data_path = \"../../data/01-k401-biotin_strep/\"\n",
    "pivdrops.process_piv_data(data_path, max_frame=20, conditions=conditions, subconditions=subconditions, time_interval_seconds=3, feature_limits=feature_limits, frame_rate=120)\n",
    "pivdrops.plot_combined_timeseries(conditions, subconditions, data_path)\n"
   ]
  },
  {
   "cell_type": "code",
   "execution_count": null,
   "metadata": {},
   "outputs": [],
   "source": []
  },
  {
   "cell_type": "code",
   "execution_count": null,
   "metadata": {},
   "outputs": [],
   "source": []
  }
 ],
 "metadata": {
  "kernelspec": {
   "display_name": "base",
   "language": "python",
   "name": "python3"
  },
  "language_info": {
   "codemirror_mode": {
    "name": "ipython",
    "version": 3
   },
   "file_extension": ".py",
   "mimetype": "text/x-python",
   "name": "python",
   "nbconvert_exporter": "python",
   "pygments_lexer": "ipython3",
   "version": "3.11.5"
  }
 },
 "nbformat": 4,
 "nbformat_minor": 2
}
