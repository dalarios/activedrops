{
 "cells": [
  {
   "cell_type": "code",
   "execution_count": 1,
   "metadata": {},
   "outputs": [
    {
     "name": "stdout",
     "output_type": "stream",
     "text": [
      "Loaded data from: ../../../../../../mnt/c/Users/Admin/Thomson Lab Dropbox/David Larios/activedrops/main/090124-chimeras100nM-RT/2p5ul_TMBmix-1ulDNA100nM_/output_data/merged_expression_PIV.csv\n",
      "Loaded data from: ../../../../../../mnt/c/Users/Admin/Thomson Lab Dropbox/David Larios/activedrops/main/090124-chimeras100nM-29C/2p5ul_TMBmix-1ulDNA100nM_/output_data/merged_expression_PIV.csv\n",
      "Concatenated DataFrame saved to: ../../../../../../mnt/c/Users/Admin/Thomson Lab Dropbox/David Larios/activedrops/main/090124-chimeras100nM-RT_29C/output_data/concatenated_merged_expression_PIV.csv\n"
     ]
    }
   ],
   "source": [
    "import os\n",
    "import pandas as pd\n",
    "## Import relevant libraries\n",
    "import sys\n",
    "import glob\n",
    "\n",
    "sys.path.append('../../py_files/')\n",
    "import quadrop as qd\n",
    "\n",
    "qd.set_plotting_style()\n",
    "\n",
    "\n",
    "def concatenate_merged_expression_piv(data_paths, output_save_folder=None):\n",
    "    \"\"\"\n",
    "    Concatenate the merged_expression_PIV.csv files from multiple data paths into one file.\n",
    "\n",
    "    Parameters:\n",
    "    - data_paths: List of paths where the merged_expression_PIV.csv files are located.\n",
    "    - output_folder: Folder where the merged_expression_PIV.csv files are stored.\n",
    "    - merged_file_name: Name of the merged expression PIV file to read.\n",
    "    - output_file_name: Name of the output concatenated file to save.\n",
    "    - output_save_folder: Folder where the concatenated file will be saved. If None, save in the first data path's output folder.\n",
    "    \n",
    "    The concatenated file will be saved in the specified `output_save_folder`, or the first path in `data_paths` if not provided.\n",
    "    \"\"\"\n",
    "    \n",
    "    output_folder=\"output_data\"\n",
    "    merged_file_name=\"merged_expression_PIV.csv\"\n",
    "    output_file_name=\"merged_expression_PIV.csv\"\n",
    "    \n",
    "    # List to store DataFrames from each path\n",
    "    dataframes = []\n",
    "\n",
    "    # Loop over each data path\n",
    "    for path in data_paths:\n",
    "        merged_file_path = os.path.join(path, output_folder, merged_file_name)\n",
    "        \n",
    "        # Check if the merged file exists\n",
    "        if os.path.exists(merged_file_path):\n",
    "            # Read the merged_expression_PIV.csv file\n",
    "            df = pd.read_csv(merged_file_path)\n",
    "            dataframes.append(df)\n",
    "            print(f\"Loaded data from: {merged_file_path}\")\n",
    "        else:\n",
    "            print(f\"File not found: {merged_file_path}\")\n",
    "\n",
    "    if not dataframes:\n",
    "        print(\"No valid files found to concatenate.\")\n",
    "        return\n",
    "\n",
    "    # Concatenate all DataFrames\n",
    "    concatenated_df = pd.concat(dataframes, ignore_index=True)\n",
    "\n",
    "    # Determine the output directory\n",
    "    if output_save_folder is None:\n",
    "        output_save_folder = os.path.join(data_paths[0], output_folder)\n",
    "    \n",
    "    os.makedirs(output_save_folder, exist_ok=True)  # Ensure the output directory exists\n",
    "    \n",
    "    # Save the concatenated DataFrame to the output directory\n",
    "    output_file_path = os.path.join(output_save_folder, output_file_name)\n",
    "    concatenated_df.to_csv(output_file_path, index=False)\n",
    "\n",
    "    print(f\"Concatenated DataFrame saved to: {output_file_path}\")\n",
    "\n",
    "chimeras_RT = \"../../../../../../mnt/c/Users/Admin/Thomson Lab Dropbox/David Larios/activedrops/main/090124-chimeras100nM-RT/2p5ul_TMBmix-1ulDNA100nM_\"\n",
    "chimeras_29C = \"../../../../../../mnt/c/Users/Admin/Thomson Lab Dropbox/David Larios/activedrops/main/090124-chimeras100nM-29C/2p5ul_TMBmix-1ulDNA100nM_\"\n",
    "\n",
    "output_save_folder = \"../../../../../../mnt/c/Users/Admin/Thomson Lab Dropbox/David Larios/activedrops/main/090124-chimeras100nM-RT_29C/output_data/\"\n",
    "\n",
    "# Example usage of the function:\n",
    "concatenate_merged_expression_piv(\n",
    "    data_paths=[chimeras_RT, chimeras_29C],\n",
    "    output_save_folder = output_save_folder\n",
    ")\n"
   ]
  },
  {
   "cell_type": "code",
<<<<<<< HEAD
=======
   "execution_count": 2,
   "metadata": {},
   "outputs": [
    {
     "name": "stdout",
     "output_type": "stream",
     "text": [
      "Consolidation appears to be already done. Directory '../../../../Thomson Lab Dropbox/David Larios/activedrops/main/090124-chimeras100nM-29C/2p5ul_TMBmix-1ulDNA100nM_' already exists with subfolders.\n"
     ]
    }
   ],
   "source": [
    "# Example usage\n",
    "base_dir = \"../../../../Thomson Lab Dropbox/David Larios/activedrops/main/090124-chimeras100nM-29C/\"\n",
    "qd.consolidate_images(base_dir)"
   ]
  },
  {
   "cell_type": "code",
>>>>>>> 888f686d0c8e0c4856423b854084e45881ff02a2
   "execution_count": 3,
   "metadata": {},
   "outputs": [
    {
     "name": "stdout",
     "output_type": "stream",
     "text": [
<<<<<<< HEAD
      "Plot saved for condition H-RT at ../../../../../../mnt/c/Users/Admin/Thomson Lab Dropbox/David Larios/activedrops/main/090124-chimeras100nM-RT_29C/output_data/expression_piv_plots/time_(h)_vs_Protein_Concentration_nM_H-RT.png\n",
      "Plot saved for condition H-29C at ../../../../../../mnt/c/Users/Admin/Thomson Lab Dropbox/David Larios/activedrops/main/090124-chimeras100nM-RT_29C/output_data/expression_piv_plots/time_(h)_vs_Protein_Concentration_nM_H-29C.png\n",
      "Combined plot saved at ../../../../../../mnt/c/Users/Admin/Thomson Lab Dropbox/David Larios/activedrops/main/090124-chimeras100nM-RT_29C/output_data/expression_piv_plots/time_(h)_vs_Protein_Concentration_nM_All_Conditions.png\n"
     ]
    }
   ],
=======
      "Conditions: ['A-29C', 'A-RT', 'B-29C', 'B-RT', 'C-29C', 'C-RT', 'D-29C', 'D-RT', 'E-29C', 'E-RT', 'F-29C', 'F-RT', 'G-29C', 'G-RT', 'H-29C', 'H-RT', 'negative']\n",
      "Subconditions: ['Rep1']\n"
     ]
    }
   ],
   "source": [
    "# Example usage\n",
    "data_path = \"../../../../Thomson Lab Dropbox/David Larios/activedrops/main/090124-chimeras100nM-RT_29C/\"\n",
    "\n",
    "calibration_curve_paths = sorted(glob.glob(\"../../../../Thomson Lab Dropbox/David Larios/activedrops/main/calibration_curve/***ugml.tif\"))\n",
    "\n",
    "\n",
    "# conditions_dict = {\n",
    "#     \"A-29C\": \"Pos0\", \n",
    "#     \"B-29C\": \"Pos1\",\n",
    "#     \"C-29C\": \"Pos2\",\n",
    "#     \"D-29C\": \"Pos3\",\n",
    "#     \"E-29C\": \"Pos4\", \n",
    "#     \"F-29C\": \"Pos5\",\n",
    "#     \"G-29C\": \"Pos6\",\n",
    "#     \"H-29C\": \"Pos7\",\n",
    "#     \"negative\": \"Pos8\"\n",
    "# }\n",
    "\n",
    "# # Organize PosX folders into condition folders\n",
    "# qd.organize_conditions(data_path, conditions_dict)\n",
    "\n",
    "# Now run the existing functions to reorganize the tiffs and rename the folders\n",
    "conditions, subconditions = qd.prepare_conditions(data_path)\n",
    "time_interval_list = [40] * len(conditions)   # time intervals in seconds between frames for each condition\n",
    "\n",
    "subconditions = [\"Rep1\"]\n",
    "print(\"Conditions:\", conditions)\n",
    "print(\"Subconditions:\", subconditions)"
   ]
  },
  {
   "cell_type": "code",
   "execution_count": null,
   "metadata": {},
   "outputs": [],
   "source": [
    "qd.reorgTiffsToOriginal(data_path, conditions, subconditions)\n"
   ]
  },
  {
   "cell_type": "markdown",
   "metadata": {},
   "source": [
    "### Generate movies"
   ]
  },
  {
   "cell_type": "code",
   "execution_count": null,
   "metadata": {},
   "outputs": [],
   "source": [
    "# Call the function\n",
    "qd.fluorescence_heatmap(\n",
    "    data_path, \n",
    "    conditions, \n",
    "    subconditions, \n",
    "    channel='cy5', \n",
    "    time_interval_list=time_interval_list, \n",
    "    vmax=20, \n",
    "    skip_frames=1, \n",
    "    calibration_curve_paths=calibration_curve_paths, \n",
    "    show_scalebar=False,\n",
    "    )"
   ]
  },
  {
   "cell_type": "code",
   "execution_count": null,
   "metadata": {},
   "outputs": [],
   "source": [
    "# Example usage\n",
    "qd.create_movies(\n",
    "    data_path, \n",
    "    conditions, \n",
    "    subconditions, \n",
    "    channel='cy5', \n",
    "    frame_rate=120,\n",
    "    skip_frames=1\n",
    "    )\n"
   ]
  },
  {
   "cell_type": "code",
   "execution_count": null,
   "metadata": {},
   "outputs": [],
   "source": [
    "qd.create_combined_heatmap_movie_custom_grid(\n",
    "    data_path, \n",
    "    conditions[:-1], \n",
    "    subconditions, \n",
    "    channel='cy5', \n",
    "    grid_rows=2, \n",
    "    grid_cols=4, \n",
    "    frame_rate=120,\n",
    "    batch_size=50\n",
    "    )\n"
   ]
  },
  {
   "cell_type": "code",
   "execution_count": null,
   "metadata": {},
   "outputs": [],
   "source": [
    "# Call the function\n",
    "qd.fluorescence_heatmap(\n",
    "    data_path, \n",
    "    conditions[:3], \n",
    "    subconditions, \n",
    "    channel='GFP', \n",
    "    time_interval_list=time_interval_list, \n",
    "    vmax=500, \n",
    "    skip_frames=1, \n",
    "    calibration_curve_paths=calibration_curve_paths, \n",
    "    show_scalebar=True,\n",
    "    )"
   ]
  },
  {
   "cell_type": "code",
   "execution_count": null,
   "metadata": {},
   "outputs": [],
   "source": [
    "# Example usage\n",
    "qd.create_movies(\n",
    "    data_path, \n",
    "    conditions, \n",
    "    subconditions, \n",
    "    channel='GFP', \n",
    "    frame_rate=120,\n",
    "    skip_frames=1\n",
    "    )\n"
   ]
  },
  {
   "cell_type": "code",
   "execution_count": null,
   "metadata": {},
   "outputs": [],
   "source": [
    "qd.create_combined_heatmap_movie_custom_grid(\n",
    "    data_path, \n",
    "    conditions[:-1], \n",
    "    subconditions, \n",
    "    channel='GFP', \n",
    "    grid_rows=2, \n",
    "    grid_cols=4, \n",
    "    frame_rate=120,\n",
    "    batch_size=50\n",
    "    )\n"
   ]
  },
  {
   "cell_type": "code",
   "execution_count": null,
   "metadata": {},
   "outputs": [],
   "source": [
    "# qd.delete_temporary_image_directories(data_path, conditions, subconditions)"
   ]
  },
  {
   "cell_type": "markdown",
   "metadata": {},
   "source": [
    "### Fluorescence Quantification"
   ]
  },
  {
   "cell_type": "code",
   "execution_count": null,
   "metadata": {},
   "outputs": [],
   "source": [
    "# Example usage\n",
    "mw_kda_list = [44.5, 44.4, 44.9, 44.4, 64.9, 64.4, 65, 64.4, 50] \n",
    "droplet_volume_list = [2] * len(conditions)\n",
    "protein_lengths_list = [401, 397, 401, 397, 596, 592, 596, 592, 500] \n",
    "\n",
    "qd.quantify_tiffiles(\n",
    "    data_path, \n",
    "    conditions, \n",
    "    subconditions, \n",
    "    calibration_curve_paths, \n",
    "    mw_kda_list, \n",
    "    droplet_volume_list, \n",
    "    time_interval_list, \n",
    "    protein_lengths_list,\n",
    "    ribosome_count=10**9,\n",
    "    skip_frames=1,\n",
    "    subtract_negative=True\n",
    ")"
   ]
  },
  {
   "cell_type": "markdown",
   "metadata": {},
   "source": [
    "### PIV pre-processing"
   ]
  },
  {
   "cell_type": "code",
   "execution_count": null,
   "metadata": {},
   "outputs": [],
   "source": [
    "qd.split_tiffs(data_path, conditions[:-1], subconditions, channel='cy5', file_interval=1)"
   ]
  },
  {
   "cell_type": "markdown",
   "metadata": {},
   "source": [
    "### PIV"
   ]
  },
  {
   "cell_type": "code",
   "execution_count": 8,
   "metadata": {},
   "outputs": [],
   "source": [
    "# Define feature limits and other parameters\n",
    "v = 2E-7\n",
    "velocity_limits = (0, v)\n",
    "other_limits = (-0.0005, 0.0005)\n",
    "skip_frames = 1 ### CHANGE THIS TO SKIP FRAMES\n",
    "\n",
    "\n",
    "velocity_limits = (None, None)\n",
    "other_limits = (None, None)\n",
    "\n",
    "\n",
    "feature_limits = {\n",
    "    # 'u [m/s]': (-v, v), \n",
    "    # 'v [m/s]': (-v, v), \n",
    "    # 'data type [-]': (None, None),\n",
    "    'velocity magnitude [m/s]': velocity_limits,\n",
    "    'vorticity [1/s]': other_limits,\n",
    "    'divergence [1/s]': other_limits,\n",
    "    # 'dcev [1]': (0, 250),\n",
    "    'shear [1/s]': other_limits,\n",
    "    'strain [1/s]': other_limits,\n",
    "    'vector direction [degrees]': (-180, 180),\n",
    "}\n",
    "\n",
    "\n",
    "# Features for PCA and plotting\n",
    "features_pca = [\n",
    "    \"vorticity [1/s]_mean\",\n",
    "    \"velocity magnitude [um/s]\",\n",
    "    \"distance [m]_mean\",\n",
    "    \"divergence [1/s]_mean\",\n",
    "    \"shear [1/s]_mean\",\n",
    "    \"strain [1/s]_mean\",\n",
    "    \"correlation length [um]\", \n",
    "    \"power [W]_mean\",\n",
    "    \"work [J]\",\n",
    "]\n"
   ]
  },
  {
   "cell_type": "code",
   "execution_count": null,
   "metadata": {},
   "outputs": [],
   "source": [
    "# time_interval_list = [40] * len(conditions)  # time intervals in seconds between frames for each condition\n",
    "\n",
    "\n",
    "# Process PIV data\n",
    "qd.process_piv_data(\n",
    "    data_path, \n",
    "    ['A-29C', 'C-29C', 'D-29C', 'E-29C', 'H-29C'],\n",
    "    subconditions, \n",
    "    feature_limits, \n",
    "    time_interval_list, \n",
    "    min_frame=0, \n",
    "    max_frame=None, \n",
    "    skip_frames=1, \n",
    "    plot_autocorrelation=False, \n",
    "    frame_rate=1, \n",
    "    heatmaps=False\n",
    "    )\n"
   ]
  },
  {
   "cell_type": "code",
   "execution_count": null,
   "metadata": {},
   "outputs": [],
   "source": [
    "# Plot features and PCA\n",
    "qd.plot_PIV_all(\n",
    "    data_path, \n",
    "    ['A-29C', 'C-29C', 'D-29C', 'E-29C', 'H-29C'],\n",
    "    subconditions, \n",
    "    features_pca, \n",
    "    min_frame=0, \n",
    "    max_frame=None\n",
    "    )\n"
   ]
  },
  {
   "cell_type": "markdown",
   "metadata": {},
   "source": [
    "### Expression + PIV"
   ]
  },
  {
   "cell_type": "code",
   "execution_count": null,
   "metadata": {},
   "outputs": [],
   "source": [
    "# Combine the data and save it to the \"output_data\" directory\n",
    "qd.combine_averaged_dataframes(data_path, conditions, subconditions)\n"
   ]
  },
  {
   "cell_type": "code",
   "execution_count": null,
   "metadata": {},
   "outputs": [],
   "source": [
    "qd.merge_expression_piv_data(data_path)\n"
   ]
  },
  {
   "cell_type": "code",
   "execution_count": null,
   "metadata": {},
   "outputs": [],
   "source": [
    "import pandas as pd\n",
    "df = pd.read_csv(data_path + \"output_data/merged_expression_PIV.csv\")\n",
    "print(df['condition'].unique())\n",
    "print((df.columns))"
   ]
  },
  {
   "cell_type": "code",
   "execution_count": null,
   "metadata": {},
   "outputs": [],
>>>>>>> 888f686d0c8e0c4856423b854084e45881ff02a2
   "source": [
    "x_column = \"time (h)\"  # Example x-axis column\n",
    "y_column = \"Protein Concentration_nM\"  # Example y-axis column\n",
    "\n",
    "\n",
    "# x_column = \"Protein Concentration_nM\"  # Example y-axis column\n",
    "# y_column = \"velocity magnitude [m/s]_mean\"  # Example y-axis column\n",
    "\n",
    "# x_column = \"time (h)\"  # Example x-axis column\n",
    "# y_column = \"work [J]_mean\"  # Example y-axis column\n",
    "\n",
    "# Apply Gaussian smoothing with sigma_x=2 and sigma_y=1\n",
    "\n",
    "data_path = \"../../../../../../mnt/c/Users/Admin/Thomson Lab Dropbox/David Larios/activedrops/main/090124-chimeras100nM-RT_29C/\"\n",
    "\n",
    "\n",
    "qd.plot_expression_piv(\n",
<<<<<<< HEAD
    "    data_path,\n",
    "    [\"H-RT\", \"H-29C\"],\n",
=======
    "    data_path, \n",
    "    [\"H-RT\", ],\n",
>>>>>>> 888f686d0c8e0c4856423b854084e45881ff02a2
    "    x_column, \n",
    "    y_column, \n",
    "    sigma_x=0.1, \n",
    "    sigma_y=0.1, \n",
    "    x_log=False, \n",
    "    y_log=False, \n",
    "    min_frame=0, \n",
    "    max_frame=None, \n",
    "    individual_plots=True\n",
    "    )"
   ]
  },
  {
   "cell_type": "code",
   "execution_count": null,
   "metadata": {},
   "outputs": [],
   "source": []
  }
 ],
 "metadata": {
  "kernelspec": {
   "display_name": "base",
   "language": "python",
   "name": "python3"
  },
  "language_info": {
   "codemirror_mode": {
    "name": "ipython",
    "version": 3
   },
   "file_extension": ".py",
   "mimetype": "text/x-python",
   "name": "python",
   "nbconvert_exporter": "python",
   "pygments_lexer": "ipython3",
   "version": "3.11.9"
  }
 },
 "nbformat": 4,
 "nbformat_minor": 2
}
