{
 "cells": [
  {
   "cell_type": "code",
   "execution_count": 1,
   "metadata": {},
   "outputs": [
    {
     "name": "stdout",
     "output_type": "stream",
     "text": [
      "Loaded data from: ../../../../../../mnt/c/Users/Admin/Thomson Lab Dropbox/David Larios/activedrops/main/090124-chimeras100nM-RT/2p5ul_TMBmix-1ulDNA100nM_/output_data/merged_expression_PIV.csv\n",
      "Loaded data from: ../../../../../../mnt/c/Users/Admin/Thomson Lab Dropbox/David Larios/activedrops/main/090124-chimeras100nM-29C/2p5ul_TMBmix-1ulDNA100nM_/output_data/merged_expression_PIV.csv\n",
      "Concatenated DataFrame saved to: ../../../../../../mnt/c/Users/Admin/Thomson Lab Dropbox/David Larios/activedrops/main/090124-chimeras100nM-RT_29C/output_data/concatenated_merged_expression_PIV.csv\n"
     ]
    }
   ],
   "source": [
    "import os\n",
    "import pandas as pd\n",
    "## Import relevant libraries\n",
    "import sys\n",
    "import glob\n",
    "\n",
    "sys.path.append('../../py_files/')\n",
    "import quadrop as qd\n",
    "\n",
    "qd.set_plotting_style()\n",
    "\n",
    "\n",
    "def concatenate_merged_expression_piv(data_paths, output_save_folder=None):\n",
    "    \"\"\"\n",
    "    Concatenate the merged_expression_PIV.csv files from multiple data paths into one file.\n",
    "\n",
    "    Parameters:\n",
    "    - data_paths: List of paths where the merged_expression_PIV.csv files are located.\n",
    "    - output_folder: Folder where the merged_expression_PIV.csv files are stored.\n",
    "    - merged_file_name: Name of the merged expression PIV file to read.\n",
    "    - output_file_name: Name of the output concatenated file to save.\n",
    "    - output_save_folder: Folder where the concatenated file will be saved. If None, save in the first data path's output folder.\n",
    "    \n",
    "    The concatenated file will be saved in the specified `output_save_folder`, or the first path in `data_paths` if not provided.\n",
    "    \"\"\"\n",
    "    \n",
    "    output_folder=\"output_data\"\n",
    "    merged_file_name=\"merged_expression_PIV.csv\"\n",
    "    output_file_name=\"merged_expression_PIV.csv\"\n",
    "    \n",
    "    # List to store DataFrames from each path\n",
    "    dataframes = []\n",
    "\n",
    "    # Loop over each data path\n",
    "    for path in data_paths:\n",
    "        merged_file_path = os.path.join(path, output_folder, merged_file_name)\n",
    "        \n",
    "        # Check if the merged file exists\n",
    "        if os.path.exists(merged_file_path):\n",
    "            # Read the merged_expression_PIV.csv file\n",
    "            df = pd.read_csv(merged_file_path)\n",
    "            dataframes.append(df)\n",
    "            print(f\"Loaded data from: {merged_file_path}\")\n",
    "        else:\n",
    "            print(f\"File not found: {merged_file_path}\")\n",
    "\n",
    "    if not dataframes:\n",
    "        print(\"No valid files found to concatenate.\")\n",
    "        return\n",
    "\n",
    "    # Concatenate all DataFrames\n",
    "    concatenated_df = pd.concat(dataframes, ignore_index=True)\n",
    "\n",
    "    # Determine the output directory\n",
    "    if output_save_folder is None:\n",
    "        output_save_folder = os.path.join(data_paths[0], output_folder)\n",
    "    \n",
    "    os.makedirs(output_save_folder, exist_ok=True)  # Ensure the output directory exists\n",
    "    \n",
    "    # Save the concatenated DataFrame to the output directory\n",
    "    output_file_path = os.path.join(output_save_folder, output_file_name)\n",
    "    concatenated_df.to_csv(output_file_path, index=False)\n",
    "\n",
    "    print(f\"Concatenated DataFrame saved to: {output_file_path}\")\n",
    "\n",
    "chimeras_RT = \"../../../../../../mnt/c/Users/Admin/Thomson Lab Dropbox/David Larios/activedrops/main/090124-chimeras100nM-RT/2p5ul_TMBmix-1ulDNA100nM_\"\n",
    "chimeras_29C = \"../../../../../../mnt/c/Users/Admin/Thomson Lab Dropbox/David Larios/activedrops/main/090124-chimeras100nM-29C/2p5ul_TMBmix-1ulDNA100nM_\"\n",
    "\n",
    "output_save_folder = \"../../../../../../mnt/c/Users/Admin/Thomson Lab Dropbox/David Larios/activedrops/main/090124-chimeras100nM-RT_29C/output_data/\"\n",
    "\n",
    "# Example usage of the function:\n",
    "concatenate_merged_expression_piv(\n",
    "    data_paths=[chimeras_RT, chimeras_29C],\n",
    "    output_save_folder = output_save_folder\n",
    ")\n"
   ]
  },
  {
   "cell_type": "code",
   "execution_count": 3,
   "metadata": {},
   "outputs": [
    {
     "name": "stdout",
     "output_type": "stream",
     "text": [
      "Plot saved for condition H-RT at ../../../../../../mnt/c/Users/Admin/Thomson Lab Dropbox/David Larios/activedrops/main/090124-chimeras100nM-RT_29C/output_data/expression_piv_plots/time_(h)_vs_Protein_Concentration_nM_H-RT.png\n",
      "Plot saved for condition H-29C at ../../../../../../mnt/c/Users/Admin/Thomson Lab Dropbox/David Larios/activedrops/main/090124-chimeras100nM-RT_29C/output_data/expression_piv_plots/time_(h)_vs_Protein_Concentration_nM_H-29C.png\n",
      "Combined plot saved at ../../../../../../mnt/c/Users/Admin/Thomson Lab Dropbox/David Larios/activedrops/main/090124-chimeras100nM-RT_29C/output_data/expression_piv_plots/time_(h)_vs_Protein_Concentration_nM_All_Conditions.png\n"
     ]
    }
   ],
   "source": [
    "x_column = \"time (h)\"  # Example x-axis column\n",
    "y_column = \"Protein Concentration_nM\"  # Example y-axis column\n",
    "\n",
    "\n",
    "# x_column = \"Protein Concentration_nM\"  # Example y-axis column\n",
    "# y_column = \"velocity magnitude [m/s]_mean\"  # Example y-axis column\n",
    "\n",
    "# x_column = \"time (h)\"  # Example x-axis column\n",
    "# y_column = \"work [J]_mean\"  # Example y-axis column\n",
    "\n",
    "# Apply Gaussian smoothing with sigma_x=2 and sigma_y=1\n",
    "\n",
    "data_path = \"../../../../../../mnt/c/Users/Admin/Thomson Lab Dropbox/David Larios/activedrops/main/090124-chimeras100nM-RT_29C/\"\n",
    "\n",
    "\n",
    "qd.plot_expression_piv(\n",
    "    data_path,\n",
    "    [\"H-RT\", \"H-29C\"],\n",
    "    x_column, \n",
    "    y_column, \n",
    "    sigma_x=0.1, \n",
    "    sigma_y=0.1, \n",
    "    x_log=False, \n",
    "    y_log=True, \n",
    "    min_frame=0, \n",
    "    max_frame=None, \n",
    "    individual_plots=True\n",
    "    )"
   ]
  },
  {
   "cell_type": "code",
   "execution_count": null,
   "metadata": {},
   "outputs": [],
   "source": []
  }
 ],
 "metadata": {
  "kernelspec": {
   "display_name": "base",
   "language": "python",
   "name": "python3"
  },
  "language_info": {
   "codemirror_mode": {
    "name": "ipython",
    "version": 3
   },
   "file_extension": ".py",
   "mimetype": "text/x-python",
   "name": "python",
   "nbconvert_exporter": "python",
   "pygments_lexer": "ipython3",
   "version": "3.11.9"
  }
 },
 "nbformat": 4,
 "nbformat_minor": 2
}
