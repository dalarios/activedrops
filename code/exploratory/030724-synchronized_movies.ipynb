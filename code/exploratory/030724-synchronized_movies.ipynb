{
 "cells": [
  {
   "cell_type": "code",
   "execution_count": 76,
   "metadata": {},
   "outputs": [
    {
     "name": "stdout",
     "output_type": "stream",
     "text": [
      "Movie will be 11.27 seconds long.\n"
     ]
    },
    {
     "name": "stderr",
     "output_type": "stream",
     "text": [
      "Processing frames:   0%|          | 0/338 [00:00<?, ?frame/s]"
     ]
    },
    {
     "name": "stderr",
     "output_type": "stream",
     "text": [
      "Processing frames: 100%|██████████| 338/338 [01:00<00:00,  5.59frame/s]"
     ]
    },
    {
     "name": "stdout",
     "output_type": "stream",
     "text": [
      "Output saved as: ../../../../Thomson Lab Dropbox/David Larios/activedrops/main/all/movies/combined_heatmap-combined_heatmap_cy5_synced.avi\n"
     ]
    },
    {
     "name": "stderr",
     "output_type": "stream",
     "text": [
      "\n"
     ]
    }
   ],
   "source": [
    "import cv2\n",
    "import numpy as np\n",
    "import os\n",
    "from tqdm import tqdm\n",
    "\n",
    "def extract_protein_name(file_path):\n",
    "    \"\"\"\n",
    "    Extracts the protein name from the file name.\n",
    "    Assumes the protein name is in the first two underscore-separated tokens,\n",
    "    where the second token may have additional info (e.g. \"-RT\") which is removed.\n",
    "    \"\"\"\n",
    "    filename = os.path.basename(file_path)\n",
    "    tokens = filename.split('_')\n",
    "    if len(tokens) < 2:\n",
    "        raise ValueError(f\"Filename {filename} does not have enough tokens to extract protein name.\")\n",
    "    token1 = tokens[0]\n",
    "    token2 = tokens[1].split('-')[0]\n",
    "    return f\"{token1}_{token2}\"\n",
    "\n",
    "def synchronize_videos(videos_dict, time_multiplier, grid_shape, channel, fps_output=30.0, output_file_path=\"combined_video.avi\"):\n",
    "    \"\"\"\n",
    "    Synchronizes multiple video files based on a common time axis.\n",
    "    \n",
    "    Instead of specifying an absolute time_step, the function computes the base time step \n",
    "    (i.e. the minimum effective frame duration among the videos) and then multiplies it \n",
    "    by the provided time_multiplier.\n",
    "    \n",
    "    IMPORTANT: To ensure the movies are never cut short, the function uses the maximum total\n",
    "    effective time among the videos. That way the output covers the entire duration of all movies;\n",
    "    for any video that ends before the others, its last frame is repeated.\n",
    "    \n",
    "    Parameters:\n",
    "        videos_dict (dict): Keys are video file paths, values are effective frame durations (in seconds)\n",
    "                            for each video.\n",
    "        time_multiplier (float): Multiplier to the base time step (min of frame durations). \n",
    "                                 For maximum resolution, use 1.\n",
    "        grid_shape (tuple): (rows, columns) specifying the grid layout for the output video.\n",
    "        fps_output (float, optional): Output video playback frames per second. Defaults to 30.0.\n",
    "        output_file_path (str, optional): A file path whose directory is used for saving the output video.\n",
    "                                          The final file name will include the protein names.\n",
    "        \n",
    "    Returns:\n",
    "        None. The output video is saved to a file in the specified directory.\n",
    "        Also prints the total playback duration (in seconds) of the output grid video.\n",
    "    \"\"\"\n",
    "    # Convert videos_dict keys and values to lists\n",
    "    file_paths = list(videos_dict.keys())\n",
    "    frame_durations = list(videos_dict.values())\n",
    "    \n",
    "    n_videos = len(file_paths)\n",
    "    grid_cells = grid_shape[0] * grid_shape[1]\n",
    "    if grid_cells < n_videos:\n",
    "        raise ValueError(\"Grid shape is too small for the number of videos provided.\")\n",
    "    \n",
    "    # Extract protein names for output naming.\n",
    "    protein_names = [extract_protein_name(fp) for fp in file_paths]\n",
    "    proteins_combined = \"-\".join(protein_names)\n",
    "    \n",
    "    # Build the final output file name using the output file path's directory.\n",
    "    out_dir = os.path.dirname(output_file_path)\n",
    "    final_output_file = os.path.join(out_dir, f\"{proteins_combined}_{channel}_synced.avi\")\n",
    "    \n",
    "    # Open all videos to get info.\n",
    "    caps = [cv2.VideoCapture(fp) for fp in file_paths]\n",
    "    \n",
    "    # Calculate each video's total time.\n",
    "    # --- NEVER CUT SHORT: Use the maximum total time so that the output covers the full duration of all movies.\n",
    "    total_times = []\n",
    "    num_frames_list = []  # store total frames for each video\n",
    "    for cap, fd in zip(caps, frame_durations):\n",
    "        num_frames = int(cap.get(cv2.CAP_PROP_FRAME_COUNT))\n",
    "        num_frames_list.append(num_frames)\n",
    "        total_times.append(num_frames * fd)\n",
    "    total_time_sync = max(total_times)\n",
    "    \n",
    "    # Compute base time step as the minimum effective frame duration among videos.\n",
    "    base_time_step = min(frame_durations)\n",
    "    # Final time step is base multiplied by the given multiplier.\n",
    "    time_step = base_time_step * time_multiplier\n",
    "    \n",
    "    # Determine the number of output frames.\n",
    "    num_output_frames = int(total_time_sync / time_step)\n",
    "    \n",
    "    # Calculate playback duration of the output video.\n",
    "    playback_duration_sec = num_output_frames / fps_output\n",
    "    print(f\"Movie will be {playback_duration_sec:.2f} seconds long.\")\n",
    "    \n",
    "    # Read the first frame from each video to get dimensions.\n",
    "    dimensions = []\n",
    "    for cap in caps:\n",
    "        cap.set(cv2.CAP_PROP_POS_FRAMES, 0)\n",
    "        ret, frame = cap.read()\n",
    "        if not ret:\n",
    "            raise ValueError(\"Failed to read the first frame from one or more videos.\")\n",
    "        h, w = frame.shape[:2]\n",
    "        dimensions.append((h, w))\n",
    "    \n",
    "    # Define a common cell size using the maximum height and width among all videos.\n",
    "    cell_height = max(h for h, w in dimensions)\n",
    "    cell_width  = max(w for h, w in dimensions)\n",
    "    \n",
    "    # Calculate output video dimensions based on grid shape.\n",
    "    output_frame_height = grid_shape[0] * cell_height\n",
    "    output_frame_width  = grid_shape[1] * cell_width\n",
    "    \n",
    "    # Define the codec and create the VideoWriter object for the output video.\n",
    "    fourcc = cv2.VideoWriter_fourcc(*'MJPG')\n",
    "    out = cv2.VideoWriter(final_output_file, fourcc, fps_output, (output_frame_width, output_frame_height))\n",
    "    \n",
    "    # Process frames: for each time step, compute the corresponding frame from each video.\n",
    "    for i in tqdm(range(num_output_frames), desc=\"Processing frames\", unit=\"frame\"):\n",
    "        current_time = i * time_step\n",
    "        frames = []\n",
    "        for idx, (cap, fd) in enumerate(zip(caps, frame_durations)):\n",
    "            frame_idx = int(current_time / fd)\n",
    "            if frame_idx >= num_frames_list[idx]:\n",
    "                frame_idx = num_frames_list[idx] - 1\n",
    "            cap.set(cv2.CAP_PROP_POS_FRAMES, frame_idx)\n",
    "            ret, frame = cap.read()\n",
    "            if not ret:\n",
    "                frame = np.zeros((dimensions[idx][0], dimensions[idx][1], 3), dtype=np.uint8)\n",
    "            frame = cv2.resize(frame, (cell_width, cell_height))\n",
    "            frames.append(frame)\n",
    "        \n",
    "        while len(frames) < grid_cells:\n",
    "            black = np.zeros((cell_height, cell_width, 3), dtype=np.uint8)\n",
    "            frames.append(black)\n",
    "        \n",
    "        grid_rows = []\n",
    "        for r in range(grid_shape[0]):\n",
    "            row_frames = frames[r * grid_shape[1] : (r + 1) * grid_shape[1]]\n",
    "            row_combined = np.hstack(row_frames)\n",
    "            grid_rows.append(row_combined)\n",
    "        combined_frame = np.vstack(grid_rows)\n",
    "        \n",
    "        out.write(combined_frame)\n",
    "    \n",
    "    for cap in caps:\n",
    "        cap.release()\n",
    "    out.release()\n",
    "    \n",
    "    print(f\"Output saved as: {final_output_file}\")\n",
    "\n",
    "# Example usage:\n",
    "output_file_path = \"../../../../Thomson Lab Dropbox/David Larios/activedrops/main/all/movies/\"\n",
    "\n",
    "videos = {\n",
    "    # \"../../../../Thomson Lab Dropbox/David Larios/activedrops/main/101324-k401-titration-rt/2p5TMB-1ulDNA_/output_data_/movies/K401_160nM-RT_Rep1_cy5_120fps_2616frames.avi\": 60,\n",
    "    # \"../../../../Thomson Lab Dropbox/David Larios/activedrops/main/101324-k401-titration-rt/2p5TMB-1ulDNA_/output_data_/movies/K401_80nM-RT_Rep1_cy5_120fps_2616frames.avi\": 60,\n",
    "    # \"../../../../Thomson Lab Dropbox/David Larios/activedrops/main/101324-k401-titration-rt/2p5TMB-1ulDNA_/output_data_/movies/K401_40nM-RT_Rep1_cy5_120fps_2616frames.avi\": 60,\n",
    "    # \"../../../../Thomson Lab Dropbox/David Larios/activedrops/main/101324-k401-titration-rt/2p5TMB-1ulDNA_/output_data_/movies/K401_20nM-RT_Rep1_cy5_120fps_2616frames.avi\": 60,\n",
    "    # \"../../../../Thomson Lab Dropbox/David Larios/activedrops/main/101324-k401-titration-rt/2p5TMB-1ulDNA_/output_data_/movies/K401_10nM-RT_Rep1_cy5_120fps_2616frames.avi\": 60,\n",
    "    # \"../../../../Thomson Lab Dropbox/David Larios/activedrops/main/101324-k401-titration-rt/2p5TMB-1ulDNA_/output_data_/movies/K401_5nM-RT_Rep1_cy5_120fps_2616frames.avi\": 60,\n",
    "    # \"../../../../Thomson Lab Dropbox/David Larios/activedrops/main/101324-k401-titration-rt/2p5TMB-1ulDNA_/output_data_/movies/K401_2p5nM-RT_Rep1_cy5_120fps_2616frames.avi\": 60,\n",
    "    # \"../../../../Thomson Lab Dropbox/David Larios/activedrops/main/101324-k401-titration-rt/2p5TMB-1ulDNA_/output_data_/movies/K401_1p25nM-RT_Rep1_cy5_120fps_2616frames.avi\": 60,\n",
    "}\n",
    "\n",
    "\n",
    "# videos = {\n",
    "#     \"../../../../Thomson Lab Dropbox/David Larios/activedrops/main/101324-k401-titration-rt/2p5TMB-1ulDNA_/output_data_/movies/K401_1p25nM-RT_Rep1_cy5_120fps_2616frames.avi\": 60,\n",
    "#     \"../../../../Thomson Lab Dropbox/David Larios/activedrops/main/111624-C-E-G-RT/2p5ulTMB-0p5MT-1ulDNA_/output_data_/movies/C_1p25nM_Rep1_cy5_60fps_743frames.avi\": 150,\n",
    "#     \"../../../../Thomson Lab Dropbox/David Larios/activedrops/main/111624-C-E-G-RT/2p5ulTMB-0p5MT-1ulDNA_/output_data_/movies/G_1p25nM_Rep1_cy5_60fps_743frames.avi\": 150,\n",
    "\n",
    "# }\n",
    "\n",
    "\n",
    "videos = {\n",
    "    \"../../../../Thomson Lab Dropbox/David Larios/activedrops/main/100624-kif3-titration-RT/2p5ulTMB-1ulDNAXnM_/output_data/movies/combined_heatmap_movie_cy5_120fps_1800frames.avi\": 8,\n",
    "    \"../../../../Thomson Lab Dropbox/David Larios/activedrops/main/110324-D_titration-RT/2p5TMB-1ulDNA_1/output_data_/movies/combined_heatmap_movie_cy5_24fps_338frames.avi\": 64,\n",
    "}\n",
    "\n",
    "# For maximum temporal resolution, use a multiplier of 1.\n",
    "# Increase the multiplier to reduce the number of output frames.\n",
    "time_multiplier = 8\n",
    "grid_shape = (2, 1)\n",
    "\n",
    "synchronize_videos(videos, time_multiplier, grid_shape, channel=\"cy5\", fps_output=30, output_file_path=output_file_path)"
   ]
  },
  {
   "cell_type": "code",
   "execution_count": 70,
   "metadata": {},
   "outputs": [
    {
     "name": "stdout",
     "output_type": "stream",
     "text": [
      "Movie will be 11.27 seconds long.\n"
     ]
    },
    {
     "name": "stderr",
     "output_type": "stream",
     "text": [
      "Processing frames: 100%|██████████| 338/338 [01:47<00:00,  3.15frame/s]\n"
     ]
    },
    {
     "name": "stdout",
     "output_type": "stream",
     "text": [
      "Output saved as: ../../../../Thomson Lab Dropbox/David Larios/activedrops/main/all/movies/Kif3_80nM-D_80nM_cy5_synced.avi\n",
      "Movie will be 11.27 seconds long.\n"
     ]
    },
    {
     "name": "stderr",
     "output_type": "stream",
     "text": [
      "Processing frames: 100%|██████████| 338/338 [01:46<00:00,  3.18frame/s]\n"
     ]
    },
    {
     "name": "stdout",
     "output_type": "stream",
     "text": [
      "Output saved as: ../../../../Thomson Lab Dropbox/David Larios/activedrops/main/all/movies/Kif3_40nM-D_40nM_cy5_synced.avi\n",
      "Movie will be 11.27 seconds long.\n"
     ]
    },
    {
     "name": "stderr",
     "output_type": "stream",
     "text": [
      "Processing frames: 100%|██████████| 338/338 [01:47<00:00,  3.14frame/s]\n"
     ]
    },
    {
     "name": "stdout",
     "output_type": "stream",
     "text": [
      "Output saved as: ../../../../Thomson Lab Dropbox/David Larios/activedrops/main/all/movies/Kif3_20nM-D_20nM_cy5_synced.avi\n",
      "Movie will be 11.27 seconds long.\n"
     ]
    },
    {
     "name": "stderr",
     "output_type": "stream",
     "text": [
      "Processing frames: 100%|██████████| 338/338 [01:51<00:00,  3.02frame/s]\n"
     ]
    },
    {
     "name": "stdout",
     "output_type": "stream",
     "text": [
      "Output saved as: ../../../../Thomson Lab Dropbox/David Larios/activedrops/main/all/movies/Kif3_10nM-D_10nM_cy5_synced.avi\n",
      "Movie will be 11.27 seconds long.\n"
     ]
    },
    {
     "name": "stderr",
     "output_type": "stream",
     "text": [
      "Processing frames: 100%|██████████| 338/338 [01:51<00:00,  3.02frame/s]\n"
     ]
    },
    {
     "name": "stdout",
     "output_type": "stream",
     "text": [
      "Output saved as: ../../../../Thomson Lab Dropbox/David Larios/activedrops/main/all/movies/Kif3_5nM-D_5nM_cy5_synced.avi\n",
      "Movie will be 11.27 seconds long.\n"
     ]
    },
    {
     "name": "stderr",
     "output_type": "stream",
     "text": [
      "Processing frames: 100%|██████████| 338/338 [01:54<00:00,  2.96frame/s]\n"
     ]
    },
    {
     "name": "stdout",
     "output_type": "stream",
     "text": [
      "Output saved as: ../../../../Thomson Lab Dropbox/David Larios/activedrops/main/all/movies/Kif3_2p5nM-D_2p5nM_cy5_synced.avi\n",
      "Movie will be 11.27 seconds long.\n"
     ]
    },
    {
     "name": "stderr",
     "output_type": "stream",
     "text": [
      "Processing frames: 100%|██████████| 338/338 [01:55<00:00,  2.92frame/s]"
     ]
    },
    {
     "name": "stdout",
     "output_type": "stream",
     "text": [
      "Output saved as: ../../../../Thomson Lab Dropbox/David Larios/activedrops/main/all/movies/Kif3_1p25nM-D_1p25nM_cy5_synced.avi\n"
     ]
    },
    {
     "name": "stderr",
     "output_type": "stream",
     "text": [
      "\n"
     ]
    }
   ],
   "source": []
  },
  {
   "cell_type": "code",
   "execution_count": 73,
   "metadata": {},
   "outputs": [
    {
     "name": "stdout",
     "output_type": "stream",
     "text": [
      "Movie will be 11.27 seconds long.\n"
     ]
    },
    {
     "name": "stderr",
     "output_type": "stream",
     "text": [
      "Processing frames: 100%|██████████| 338/338 [01:22<00:00,  4.12frame/s]"
     ]
    },
    {
     "name": "stdout",
     "output_type": "stream",
     "text": [
      "Output saved as: ../../../../Thomson Lab Dropbox/David Larios/activedrops/main/all/movies/Kif3_160nM-D_160nM_GFP_synced.avi\n"
     ]
    },
    {
     "name": "stderr",
     "output_type": "stream",
     "text": [
      "\n"
     ]
    }
   ],
   "source": [
    "concentrations = [\"160\"]\n",
    "\n",
    "for conc in concentrations:\n",
    "    videos = {\n",
    "        f\"../../../../Thomson Lab Dropbox/David Larios/activedrops/main/100624-kif3-titration-RT/2p5ulTMB-1ulDNAXnM_/output_data_/movies/Kif3_{conc}nM_1-RT_Rep1_GFP_120fps_1800frames.avi\": 8,\n",
    "        f\"../../../../Thomson Lab Dropbox/David Larios/activedrops/main/110324-D_titration-RT/2p5TMB-1ulDNA_1/output_data_/movies/D_{conc}nM_Rep1_GFP_24fps_338frames.avi\": 64,\n",
    "    }\n",
    "\n",
    "    # For maximum temporal resolution, use a multiplier of 1.\n",
    "    # Increase the multiplier to reduce the number of output frames.\n",
    "    time_multiplier = 8\n",
    "    grid_shape = (1, 2)\n",
    "\n",
    "    synchronize_videos(videos, time_multiplier, grid_shape, channel=\"GFP\", fps_output=30, output_file_path=output_file_path)"
   ]
  },
  {
   "cell_type": "code",
   "execution_count": null,
   "metadata": {},
   "outputs": [],
   "source": [
    "dna_concs = []"
   ]
  },
  {
   "cell_type": "code",
   "execution_count": null,
   "metadata": {},
   "outputs": [],
   "source": []
  }
 ],
 "metadata": {
  "kernelspec": {
   "display_name": "base",
   "language": "python",
   "name": "python3"
  },
  "language_info": {
   "codemirror_mode": {
    "name": "ipython",
    "version": 3
   },
   "file_extension": ".py",
   "mimetype": "text/x-python",
   "name": "python",
   "nbconvert_exporter": "python",
   "pygments_lexer": "ipython3",
   "version": "3.11.5"
  }
 },
 "nbformat": 4,
 "nbformat_minor": 2
}
