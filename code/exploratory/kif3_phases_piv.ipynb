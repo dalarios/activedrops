{
 "cells": [
  {
   "cell_type": "code",
   "execution_count": 1,
   "metadata": {},
   "outputs": [],
   "source": [
    "## Import relevant libraries\n",
    "import sys\n",
    "sys.path.append('../../activedrops')\n",
    "\n",
    "## Including ourselves\n",
    "import pivdrops\n",
    "pivdrops.set_plotting_style()"
   ]
  },
  {
   "cell_type": "code",
   "execution_count": 2,
   "metadata": {},
   "outputs": [],
   "source": [
    "data_path = \"../../data/kif3_phases_piv/\"\n",
    "\n",
    "condition1 = \"MT10uM_DNA40nM\"\n",
    "condition2 = \"MT10uM_DNA60nM\"\n",
    "condition3 = \"MT10uM_DNA80nM\"\n",
    "\n",
    "condition4 = \"MT20uM_DNA40nM\" #\n",
    "condition5 = \"MT20uM_DNA60nM\" #\n",
    "condition6 = \"MT20uM_DNA80nM\" #\n",
    "\n",
    "condition7 = \"MT40uM_DNA40nM\"\n",
    "condition8 = \"MT40uM_DNA60nM\"\n",
    "condition9 = \"MT40uM_DNA80nM\"\n",
    "\n",
    "\n",
    "subcondition1 = \"Pos0\"\n",
    "subcondition2 = \"Pos1\"\n",
    "subcondition3 = \"Pos2\"\n",
    "\n"
   ]
  },
  {
   "cell_type": "code",
   "execution_count": 4,
   "metadata": {},
   "outputs": [],
   "source": [
    "min_frame = 0\n",
    "max_frame = None\n",
    "\n",
    "\n",
    "m4r1, p4r1 = pivdrops.process_piv_data(data_path, condition4, subcondition1, min_frame=min_frame, max_frame=max_frame, plot_autocorrelation=False)\n",
    "m4r2, p4r2 = pivdrops.process_piv_data(data_path, condition4, subcondition2, min_frame=min_frame, max_frame=max_frame, plot_autocorrelation=False)\n",
    "m4r3, p4r3 = pivdrops.process_piv_data(data_path, condition4, subcondition3, min_frame=min_frame, max_frame=max_frame, plot_autocorrelation=False)\n",
    "\n",
    "m5r1, p5r1 = pivdrops.process_piv_data(data_path, condition5, subcondition1, min_frame=min_frame, max_frame=max_frame, plot_autocorrelation=False)\n",
    "m5r2, p5r2 = pivdrops.process_piv_data(data_path, condition5, subcondition2, min_frame=min_frame, max_frame=max_frame, plot_autocorrelation=False)\n",
    "m5r3, p5r3 = pivdrops.process_piv_data(data_path, condition5, subcondition3, min_frame=min_frame, max_frame=max_frame, plot_autocorrelation=False)\n",
    "\n",
    "m6r1, p6r1 = pivdrops.process_piv_data(data_path, condition6, subcondition1, min_frame=min_frame, max_frame=max_frame, plot_autocorrelation=False)\n",
    "m6r2, p6r2 = pivdrops.process_piv_data(data_path, condition6, subcondition2, min_frame=min_frame, max_frame=max_frame, plot_autocorrelation=False)\n",
    "m6r3, p6r3 = pivdrops.process_piv_data(data_path, condition6, subcondition3, min_frame=min_frame, max_frame=max_frame, plot_autocorrelation=False)\n",
    "\n"
   ]
  },
  {
   "cell_type": "code",
   "execution_count": 16,
   "metadata": {},
   "outputs": [],
   "source": [
    "# make mean dataframe between m4r1, m4r2, m4r3 (pivdrops does not have a function for this)\n",
    "m4 = ((m4r1 + m4r2 + m4r3) / 3).to_csv(\"../../data/kif3_phases_piv/MT20uM_DNA40nM/Pos2/dataframes_PIV/mean_values.csv\")\n",
    "\n",
    "# make mean dataframe between m4r1, m4r2, m4r3 (pivdrops does not have a function for this)\n",
    "m5 = ((m5r1 + m5r2 + m5r3) / 3).to_csv(\"../../data/kif3_phases_piv/MT20uM_DNA60nM/Pos2/dataframes_PIV/mean_values.csv\")\n",
    "\n",
    "# save the mean dataframe in os.path.join(data_path, condition, subcondition, \"dataframes_PIV\")\n",
    "m6 = ((m6r1 + m6r2 + m6r3) / 3).to_csv(\"../../data/kif3_phases_piv/MT20uM_DNA80nM/Pos2/dataframes_PIV/mean_values.csv\")\n",
    "\n"
   ]
  },
  {
   "cell_type": "code",
   "execution_count": 17,
   "metadata": {},
   "outputs": [],
   "source": [
    "features_pca = [\n",
    "    # \"data type [-]_mean\", \n",
    "    \"vorticity [1/s]_mean\",\t\n",
    "    \"velocity magnitude [um/s]\", \n",
    "    \"divergence [1/s]_mean\", \n",
    "    # \"dcev [1]_mean\", \n",
    "    \"shear [1/s]_mean\", \n",
    "    \"strain [1/s]_mean\", \n",
    "    # \"vector direction [degrees]_mean\", \n",
    "    \"correlation length [um]\", \n",
    "    \"power [W]_mean\",\n",
    "    \"work [J]\", \n",
    "    ]\n",
    "\n",
    "pivdrops.plot_features(\n",
    "    [data_path, data_path, data_path, ], \n",
    "    [condition4, condition5, condition6, ], \n",
    "    [subcondition3, subcondition3, subcondition3, ], \n",
    "    features_pca, time_intervals=[3, 3, 3, ], \n",
    "    sigma=10,  \n",
    "    min_frame=0, \n",
    "    max_frame=None,\n",
    "    )\n"
   ]
  },
  {
   "cell_type": "code",
   "execution_count": null,
   "metadata": {},
   "outputs": [],
   "source": [
    "features_pca = [\n",
    "    # \"data type [-]_mean\", \n",
    "    \"vorticity [1/s]_mean\",\t\n",
    "    \"velocity magnitude [um/s]\", \n",
    "    \"divergence [1/s]_mean\", \n",
    "    # \"dcev [1]_mean\", \n",
    "    \"shear [1/s]_mean\", \n",
    "    \"strain [1/s]_mean\", \n",
    "    # \"vector direction [degrees]_mean\", \n",
    "    \"correlation length [um]\", \n",
    "    \"power [W]_mean\",\n",
    "    \"work [J]\", \n",
    "    ]\n",
    "\n",
    "pivdrops.plot_features(\n",
    "    [data_path, data_path, data_path,], \n",
    "    [condition4, condition4, condition4], \n",
    "    [subcondition1, subcondition2, subcondition3], \n",
    "    features_pca, time_intervals=[3, 3, 3], \n",
    "    sigma=0,  \n",
    "    min_frame=0, \n",
    "    max_frame=None,\n",
    "    )\n"
   ]
  },
  {
   "cell_type": "code",
   "execution_count": null,
   "metadata": {},
   "outputs": [],
   "source": [
    "features_pca = [\n",
    "    # \"data type [-]_mean\", \n",
    "    \"vorticity [1/s]_mean\",\t\n",
    "    \"velocity magnitude [um/s]\", \n",
    "    \"divergence [1/s]_mean\", \n",
    "    # \"dcev [1]_mean\", \n",
    "    \"shear [1/s]_mean\", \n",
    "    \"strain [1/s]_mean\", \n",
    "    # \"vector direction [degrees]_mean\", \n",
    "    \"correlation length [um]\", \n",
    "    \"power [W]_mean\",\n",
    "    \"work [J]\", \n",
    "    ]\n",
    "\n",
    "pivdrops.plot_features(\n",
    "    [data_path, data_path, data_path], \n",
    "    [condition5, condition5, condition5], \n",
    "    [subcondition1, subcondition2, subcondition3], \n",
    "    features_pca, time_intervals=[3, 3, 3], \n",
    "    sigma=5,  \n",
    "    min_frame=0, \n",
    "    max_frame=None,\n",
    "    )\n"
   ]
  },
  {
   "cell_type": "code",
   "execution_count": null,
   "metadata": {},
   "outputs": [],
   "source": [
    "features_pca = [\n",
    "    # \"data type [-]_mean\", \n",
    "    \"vorticity [1/s]_mean\",\t\n",
    "    \"velocity magnitude [um/s]\", \n",
    "    \"divergence [1/s]_mean\", \n",
    "    # \"dcev [1]_mean\", \n",
    "    \"shear [1/s]_mean\", \n",
    "    \"strain [1/s]_mean\", \n",
    "    # \"vector direction [degrees]_mean\", \n",
    "    \"correlation length [um]\", \n",
    "    \"power [W]_mean\",\n",
    "    \"work [J]\", \n",
    "    ]\n",
    "\n",
    "pivdrops.plot_features(\n",
    "    [data_path, data_path, data_path,], \n",
    "    [condition6, condition6, condition6], \n",
    "    [subcondition1, subcondition2, subcondition3], \n",
    "    features_pca, time_intervals=[3, 3, 3], \n",
    "    sigma=0,  \n",
    "    min_frame=0, \n",
    "    max_frame=None,\n",
    "    )\n"
   ]
  },
  {
   "cell_type": "code",
   "execution_count": null,
   "metadata": {},
   "outputs": [],
   "source": [
    "features_pca = [\n",
    "    # \"data type [-]_mean\", \n",
    "    \"vorticity [1/s]_mean\",\t\n",
    "    \"velocity magnitude [um/s]\", \n",
    "    \"divergence [1/s]_mean\", \n",
    "    # \"dcev [1]_mean\", \n",
    "    \"shear [1/s]_mean\", \n",
    "    \"strain [1/s]_mean\", \n",
    "    # \"vector direction [degrees]_mean\", \n",
    "    \"correlation length [um]\", \n",
    "    \"power [W]_mean\",\n",
    "    \"work [J]\", \n",
    "    ]\n",
    "\n",
    "pivdrops.plot_features(\n",
    "    [data_path, data_path, data_path, data_path, data_path, data_path], \n",
    "    [condition6, condition6, condition6, condition4, condition4, condition4], \n",
    "    [subcondition1, subcondition2, subcondition3, subcondition1, subcondition2, subcondition3], \n",
    "    features_pca, time_intervals=[3, 3, 3, 3, 3, 3], \n",
    "    sigma=50,  \n",
    "    min_frame=0, \n",
    "    max_frame=None,\n",
    "    )\n"
   ]
  },
  {
   "cell_type": "code",
   "execution_count": 10,
   "metadata": {},
   "outputs": [],
   "source": [
    "min_frame = 0\n",
    "max_frame = None\n",
    "\n",
    "pivdrops.convert_images(data_path, condition4, subcondition1, max_frame=max_frame, brightness_factor=1, contrast_factor=1)\n",
    "pivdrops.convert_images(data_path, condition4, subcondition2, max_frame=max_frame, brightness_factor=1, contrast_factor=1)\n",
    "pivdrops.convert_images(data_path, condition4, subcondition3, max_frame=max_frame, brightness_factor=1, contrast_factor=1)\n"
   ]
  },
  {
   "cell_type": "code",
   "execution_count": 12,
   "metadata": {},
   "outputs": [],
   "source": [
    "v = 2E-6\n",
    "velocity_limits = (0, v)\n",
    "other_limits = (-0.0005, 0.0005)\n",
    "\n",
    "\n",
    "# velocity_limits = (None, None)\n",
    "# other_limits = (None, None)\n",
    "\n",
    "feature_limits = {\n",
    "    'u [m/s]': (-v, v), \n",
    "    'v [m/s]': (-v, v), \n",
    "    'data type [-]': (None, None),\n",
    "    'velocity magnitude [m/s]': velocity_limits,\n",
    "    'vorticity [1/s]': other_limits,\n",
    "    'divergence [1/s]': other_limits,\n",
    "    'dcev [1]': (0, 250),\n",
    "    'shear [1/s]': other_limits,\n",
    "    'strain [1/s]': other_limits,\n",
    "    'vector direction [degrees]': (-180, 180),\n",
    "}\n",
    "\n",
    "   \n",
    "pivdrops.piv_heatmap(p4r1.iloc[:max_frame,:], data_path, condition4, subcondition1, feature_limits, time_interval=3)\n",
    "pivdrops.piv_heatmap(p4r2.iloc[:max_frame,:], data_path, condition4, subcondition2, feature_limits, time_interval=3)\n",
    "pivdrops.piv_heatmap(p4r3.iloc[:max_frame,:], data_path, condition4, subcondition3, feature_limits, time_interval=3)"
   ]
  },
  {
   "cell_type": "code",
   "execution_count": 13,
   "metadata": {},
   "outputs": [],
   "source": [
    "# pivdrops.create_heatmap_movies(data_path, condition4, subcondition1, feature_limits)\n",
    "pivdrops.create_heatmap_movies(data_path, condition4, subcondition2, feature_limits)\n",
    "pivdrops.create_heatmap_movies(data_path, condition4, subcondition3, feature_limits)"
   ]
  },
  {
   "cell_type": "code",
   "execution_count": null,
   "metadata": {},
   "outputs": [],
   "source": [
    "min_frame = 0\n",
    "max_frame = None\n",
    "\n",
    "pivdrops.convert_images(data_path, condition5, subcondition1, max_frame=max_frame, brightness_factor=1, contrast_factor=1)\n",
    "pivdrops.convert_images(data_path, condition5, subcondition2, max_frame=max_frame, brightness_factor=1, contrast_factor=1)\n",
    "pivdrops.convert_images(data_path, condition5, subcondition3, max_frame=max_frame, brightness_factor=1, contrast_factor=1)"
   ]
  },
  {
   "cell_type": "code",
   "execution_count": null,
   "metadata": {},
   "outputs": [],
   "source": []
  },
  {
   "cell_type": "code",
   "execution_count": null,
   "metadata": {},
   "outputs": [],
   "source": [
    "pivdrops.convert_images(data_path, condition5, subcondition1, max_frame=max_frame, brightness_factor=1, contrast_factor=1)\n",
    "pivdrops.convert_images(data_path, condition5, subcondition2, max_frame=max_frame, brightness_factor=1, contrast_factor=1)\n",
    "pivdrops.convert_images(data_path, condition5, subcondition3, max_frame=max_frame, brightness_factor=1, contrast_factor=1)"
   ]
  },
  {
   "cell_type": "code",
   "execution_count": null,
   "metadata": {},
   "outputs": [],
   "source": [
    "pivdrops.convert_images(data_path, condition6, subcondition1, max_frame=max_frame, brightness_factor=1, contrast_factor=1)\n",
    "pivdrops.convert_images(data_path, condition6, subcondition2, max_frame=max_frame, brightness_factor=1, contrast_factor=1)\n",
    "pivdrops.convert_images(data_path, condition6, subcondition3, max_frame=max_frame, brightness_factor=1, contrast_factor=1)"
   ]
  },
  {
   "cell_type": "code",
   "execution_count": 15,
   "metadata": {},
   "outputs": [
    {
     "ename": "IndexError",
     "evalue": "list index out of range",
     "output_type": "error",
     "traceback": [
      "\u001b[1;31m---------------------------------------------------------------------------\u001b[0m",
      "\u001b[1;31mIndexError\u001b[0m                                Traceback (most recent call last)",
      "Cell \u001b[1;32mIn[15], line 29\u001b[0m\n\u001b[0;32m     23\u001b[0m max_frame \u001b[38;5;241m=\u001b[39m \u001b[38;5;28;01mNone\u001b[39;00m\n\u001b[0;32m     25\u001b[0m \u001b[38;5;66;03m# pivdrops.piv_heatmap(p4r1.iloc[:,:300], data_path, condition4, subcondition1, feature_limits, time_interval=3)\u001b[39;00m\n\u001b[0;32m     26\u001b[0m \u001b[38;5;66;03m# pivdrops.piv_heatmap(p4r2, data_path, condition4, subcondition1, feature_limits, time_interval=3)\u001b[39;00m\n\u001b[0;32m     27\u001b[0m \u001b[38;5;66;03m# pivdrops.piv_heatmap(p4r3, data_path, condition4, subcondition1, feature_limits, time_interval=3)\u001b[39;00m\n\u001b[1;32m---> 29\u001b[0m \u001b[43mpivdrops\u001b[49m\u001b[38;5;241;43m.\u001b[39;49m\u001b[43mpiv_heatmap\u001b[49m\u001b[43m(\u001b[49m\u001b[43mp5r1\u001b[49m\u001b[43m,\u001b[49m\u001b[43m \u001b[49m\u001b[43mdata_path\u001b[49m\u001b[43m,\u001b[49m\u001b[43m \u001b[49m\u001b[43mcondition4\u001b[49m\u001b[43m,\u001b[49m\u001b[43m \u001b[49m\u001b[43msubcondition1\u001b[49m\u001b[43m,\u001b[49m\u001b[43m \u001b[49m\u001b[43mfeature_limits\u001b[49m\u001b[43m,\u001b[49m\u001b[43m \u001b[49m\u001b[43mtime_interval\u001b[49m\u001b[38;5;241;43m=\u001b[39;49m\u001b[38;5;241;43m3\u001b[39;49m\u001b[43m)\u001b[49m\n\u001b[0;32m     30\u001b[0m \u001b[38;5;66;03m# pivdrops.piv_heatmap(p5r2, data_path, condition4, subcondition2, feature_limits, time_interval=3)\u001b[39;00m\n\u001b[0;32m     31\u001b[0m \u001b[38;5;66;03m# pivdrops.piv_heatmap(p5r3, data_path, condition4, subcondition3, feature_limits, time_interval=3)\u001b[39;00m\n\u001b[0;32m     32\u001b[0m \n\u001b[0;32m     33\u001b[0m \u001b[38;5;66;03m# pivdrops.piv_heatmap(p6r1, data_path, condition4, subcondition1, feature_limits, time_interval=3)\u001b[39;00m\n\u001b[0;32m     34\u001b[0m \u001b[38;5;66;03m# pivdrops.piv_heatmap(p6r2, data_path, condition4, subcondition1, feature_limits, time_interval=3)\u001b[39;00m\n\u001b[0;32m     35\u001b[0m \u001b[38;5;66;03m# pivdrops.piv_heatmap(p6r3, data_path, condition4, subcondition1, feature_limits, time_interval=3)\u001b[39;00m\n",
      "File \u001b[1;32mc:\\Users\\dalar\\git\\activedrops\\code\\exploratory\\../../activedrops\\pivdrops.py:349\u001b[0m, in \u001b[0;36mpiv_heatmap\u001b[1;34m(df, data_path, condition, subcondition, feature_limits, time_interval)\u001b[0m\n\u001b[0;32m    347\u001b[0m output_directory_heatmaps \u001b[38;5;241m=\u001b[39m os\u001b[38;5;241m.\u001b[39mpath\u001b[38;5;241m.\u001b[39mjoin(data_path, condition, subcondition, \u001b[38;5;124m\"\u001b[39m\u001b[38;5;124mheatmaps_PIV\u001b[39m\u001b[38;5;124m\"\u001b[39m, \u001b[38;5;124mf\u001b[39m\u001b[38;5;124m\"\u001b[39m\u001b[38;5;132;01m{\u001b[39;00mfeature\u001b[38;5;241m.\u001b[39msplit()[\u001b[38;5;241m0\u001b[39m]\u001b[38;5;132;01m}\u001b[39;00m\u001b[38;5;124m\"\u001b[39m, \u001b[38;5;124mf\u001b[39m\u001b[38;5;124m\"\u001b[39m\u001b[38;5;132;01m{\u001b[39;00mfeature\u001b[38;5;241m.\u001b[39msplit()[\u001b[38;5;241m0\u001b[39m]\u001b[38;5;132;01m}\u001b[39;00m\u001b[38;5;124m_heatmap_\u001b[39m\u001b[38;5;132;01m{\u001b[39;00mj\u001b[38;5;132;01m}\u001b[39;00m\u001b[38;5;124m.jpg\u001b[39m\u001b[38;5;124m\"\u001b[39m)\n\u001b[0;32m    348\u001b[0m image_files_pattern \u001b[38;5;241m=\u001b[39m \u001b[38;5;124mf\u001b[39m\u001b[38;5;124m\"\u001b[39m\u001b[38;5;132;01m{\u001b[39;00mdata_path\u001b[38;5;132;01m}\u001b[39;00m\u001b[38;5;124m/\u001b[39m\u001b[38;5;132;01m{\u001b[39;00mcondition\u001b[38;5;132;01m}\u001b[39;00m\u001b[38;5;124m/\u001b[39m\u001b[38;5;132;01m{\u001b[39;00msubcondition\u001b[38;5;132;01m}\u001b[39;00m\u001b[38;5;124m/piv_movie_converted/converted_image_****.tif\u001b[39m\u001b[38;5;124m\"\u001b[39m\n\u001b[1;32m--> 349\u001b[0m image_files \u001b[38;5;241m=\u001b[39m \u001b[38;5;28;43msorted\u001b[39;49m\u001b[43m(\u001b[49m\u001b[43mglob\u001b[49m\u001b[38;5;241;43m.\u001b[39;49m\u001b[43mglob\u001b[49m\u001b[43m(\u001b[49m\u001b[43mimage_files_pattern\u001b[49m\u001b[43m)\u001b[49m\u001b[43m)\u001b[49m\u001b[43m[\u001b[49m\u001b[43mj\u001b[49m\u001b[43m]\u001b[49m\n\u001b[0;32m    350\u001b[0m image \u001b[38;5;241m=\u001b[39m Image\u001b[38;5;241m.\u001b[39mopen(image_files)\n\u001b[0;32m    352\u001b[0m plt\u001b[38;5;241m.\u001b[39mfigure(figsize\u001b[38;5;241m=\u001b[39m(\u001b[38;5;241m10\u001b[39m, \u001b[38;5;241m6\u001b[39m))\n",
      "\u001b[1;31mIndexError\u001b[0m: list index out of range"
     ]
    }
   ],
   "source": [
    "v = 2E-6\n",
    "velocity_limits = (0, v)\n",
    "other_limits = (-0.0005, 0.0005)\n",
    "\n",
    "\n",
    "# velocity_limits = (None, None)\n",
    "# other_limits = (None, None)\n",
    "\n",
    "feature_limits = {\n",
    "    'u [m/s]': (-v, v), \n",
    "    'v [m/s]': (-v, v), \n",
    "    'data type [-]': (None, None),\n",
    "    'velocity magnitude [m/s]': velocity_limits,\n",
    "    'vorticity [1/s]': other_limits,\n",
    "    'divergence [1/s]': other_limits,\n",
    "    'dcev [1]': (0, 250),\n",
    "    'shear [1/s]': other_limits,\n",
    "    'strain [1/s]': other_limits,\n",
    "    'vector direction [degrees]': (-180, 180),\n",
    "}\n",
    "\n",
    "min_frame = 0\n",
    "max_frame = None\n",
    "   \n",
    "# pivdrops.piv_heatmap(p4r1.iloc[:,:300], data_path, condition4, subcondition1, feature_limits, time_interval=3)\n",
    "# pivdrops.piv_heatmap(p4r2, data_path, condition4, subcondition1, feature_limits, time_interval=3)\n",
    "# pivdrops.piv_heatmap(p4r3, data_path, condition4, subcondition1, feature_limits, time_interval=3)\n",
    "\n",
    "pivdrops.piv_heatmap(p5r1, data_path, condition4, subcondition1, feature_limits, time_interval=3)\n",
    "# pivdrops.piv_heatmap(p5r2, data_path, condition4, subcondition2, feature_limits, time_interval=3)\n",
    "# pivdrops.piv_heatmap(p5r3, data_path, condition4, subcondition3, feature_limits, time_interval=3)\n",
    "\n",
    "# pivdrops.piv_heatmap(p6r1, data_path, condition4, subcondition1, feature_limits, time_interval=3)\n",
    "# pivdrops.piv_heatmap(p6r2, data_path, condition4, subcondition1, feature_limits, time_interval=3)\n",
    "# pivdrops.piv_heatmap(p6r3, data_path, condition4, subcondition1, feature_limits, time_interval=3)\n"
   ]
  },
  {
   "cell_type": "code",
   "execution_count": null,
   "metadata": {},
   "outputs": [],
   "source": [
    "\n",
    "\n",
    "pivdrops.create_heatmap_movies(data_path, condition5, subcondition1, feature_limits)\n",
    "pivdrops.create_heatmap_movies(data_path, condition5, subcondition2, feature_limits)\n",
    "pivdrops.create_heatmap_movies(data_path, condition5, subcondition3, feature_limits)\n",
    "\n",
    "pivdrops.create_heatmap_movies(data_path, condition6, subcondition1, feature_limits)\n",
    "pivdrops.create_heatmap_movies(data_path, condition6, subcondition2, feature_limits)\n",
    "pivdrops.create_heatmap_movies(data_path, condition6, subcondition3, feature_limits)\n"
   ]
  }
 ],
 "metadata": {
  "kernelspec": {
   "display_name": "Python 3",
   "language": "python",
   "name": "python3"
  },
  "language_info": {
   "codemirror_mode": {
    "name": "ipython",
    "version": 3
   },
   "file_extension": ".py",
   "mimetype": "text/x-python",
   "name": "python",
   "nbconvert_exporter": "python",
   "pygments_lexer": "ipython3",
   "version": "3.11.5"
  }
 },
 "nbformat": 4,
 "nbformat_minor": 2
}
