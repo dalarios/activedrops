{
 "cells": [
  {
   "cell_type": "code",
   "execution_count": 1,
   "metadata": {},
   "outputs": [],
   "source": [
    "## Import relevant libraries\n",
    "import sys\n",
    "import glob\n",
    "\n",
    "sys.path.append('../../py_files/')\n",
    "import quadrop as qd\n",
    "\n",
    "qd.set_plotting_style()"
   ]
  },
  {
   "cell_type": "markdown",
   "metadata": {},
   "source": [
    "### Data pre-procesing"
   ]
  },
  {
   "cell_type": "code",
   "execution_count": 2,
   "metadata": {},
   "outputs": [
    {
     "name": "stdout",
     "output_type": "stream",
     "text": [
      "Consolidation appears to be already done. Directory '../../../../Thomson Lab Dropbox/David Larios/activedrops/ubuntu/111024-A20nM_peg-B-C-E-F-G-titrations-RT/2p5TMB-1ulDNA_' already exists with subfolders.\n"
     ]
    }
   ],
   "source": [
    "# Example usage\n",
    "base_dir = \"../../../../Thomson Lab Dropbox/David Larios/activedrops/ubuntu/111024-A20nM_peg-B-C-E-F-G-titrations-RT/\"\n",
    "qd.consolidate_images(base_dir)"
   ]
  },
  {
   "cell_type": "code",
   "execution_count": 3,
   "metadata": {},
   "outputs": [
    {
     "name": "stdout",
     "output_type": "stream",
     "text": [
      "Warning: ../../../../Thomson Lab Dropbox/David Larios/activedrops/ubuntu/111024-A20nM_peg-B-C-E-F-G-titrations-RT/2p5TMB-1ulDNA_/Pos0 does not exist. Skipping.\n",
      "Warning: ../../../../Thomson Lab Dropbox/David Larios/activedrops/ubuntu/111024-A20nM_peg-B-C-E-F-G-titrations-RT/2p5TMB-1ulDNA_/Pos1 does not exist. Skipping.\n",
      "Warning: ../../../../Thomson Lab Dropbox/David Larios/activedrops/ubuntu/111024-A20nM_peg-B-C-E-F-G-titrations-RT/2p5TMB-1ulDNA_/Pos2 does not exist. Skipping.\n",
      "Warning: ../../../../Thomson Lab Dropbox/David Larios/activedrops/ubuntu/111024-A20nM_peg-B-C-E-F-G-titrations-RT/2p5TMB-1ulDNA_/Pos3 does not exist. Skipping.\n",
      "Warning: ../../../../Thomson Lab Dropbox/David Larios/activedrops/ubuntu/111024-A20nM_peg-B-C-E-F-G-titrations-RT/2p5TMB-1ulDNA_/Pos4 does not exist. Skipping.\n",
      "Warning: ../../../../Thomson Lab Dropbox/David Larios/activedrops/ubuntu/111024-A20nM_peg-B-C-E-F-G-titrations-RT/2p5TMB-1ulDNA_/Pos5 does not exist. Skipping.\n",
      "Warning: ../../../../Thomson Lab Dropbox/David Larios/activedrops/ubuntu/111024-A20nM_peg-B-C-E-F-G-titrations-RT/2p5TMB-1ulDNA_/Pos6 does not exist. Skipping.\n",
      "Warning: ../../../../Thomson Lab Dropbox/David Larios/activedrops/ubuntu/111024-A20nM_peg-B-C-E-F-G-titrations-RT/2p5TMB-1ulDNA_/Pos7 does not exist. Skipping.\n",
      "Warning: ../../../../Thomson Lab Dropbox/David Larios/activedrops/ubuntu/111024-A20nM_peg-B-C-E-F-G-titrations-RT/2p5TMB-1ulDNA_/Pos8 does not exist. Skipping.\n",
      "Warning: ../../../../Thomson Lab Dropbox/David Larios/activedrops/ubuntu/111024-A20nM_peg-B-C-E-F-G-titrations-RT/2p5TMB-1ulDNA_/Pos9 does not exist. Skipping.\n",
      "Warning: ../../../../Thomson Lab Dropbox/David Larios/activedrops/ubuntu/111024-A20nM_peg-B-C-E-F-G-titrations-RT/2p5TMB-1ulDNA_/Pos10 does not exist. Skipping.\n",
      "Warning: ../../../../Thomson Lab Dropbox/David Larios/activedrops/ubuntu/111024-A20nM_peg-B-C-E-F-G-titrations-RT/2p5TMB-1ulDNA_/Pos11 does not exist. Skipping.\n",
      "Warning: ../../../../Thomson Lab Dropbox/David Larios/activedrops/ubuntu/111024-A20nM_peg-B-C-E-F-G-titrations-RT/2p5TMB-1ulDNA_/Pos12 does not exist. Skipping.\n",
      "Warning: ../../../../Thomson Lab Dropbox/David Larios/activedrops/ubuntu/111024-A20nM_peg-B-C-E-F-G-titrations-RT/2p5TMB-1ulDNA_/Pos13 does not exist. Skipping.\n",
      "Warning: ../../../../Thomson Lab Dropbox/David Larios/activedrops/ubuntu/111024-A20nM_peg-B-C-E-F-G-titrations-RT/2p5TMB-1ulDNA_/Pos14 does not exist. Skipping.\n",
      "Warning: ../../../../Thomson Lab Dropbox/David Larios/activedrops/ubuntu/111024-A20nM_peg-B-C-E-F-G-titrations-RT/2p5TMB-1ulDNA_/Pos15 does not exist. Skipping.\n",
      "Warning: ../../../../Thomson Lab Dropbox/David Larios/activedrops/ubuntu/111024-A20nM_peg-B-C-E-F-G-titrations-RT/2p5TMB-1ulDNA_/Pos16 does not exist. Skipping.\n",
      "Warning: ../../../../Thomson Lab Dropbox/David Larios/activedrops/ubuntu/111024-A20nM_peg-B-C-E-F-G-titrations-RT/2p5TMB-1ulDNA_/Pos17 does not exist. Skipping.\n",
      "Warning: ../../../../Thomson Lab Dropbox/David Larios/activedrops/ubuntu/111024-A20nM_peg-B-C-E-F-G-titrations-RT/2p5TMB-1ulDNA_/Pos18 does not exist. Skipping.\n",
      "Warning: ../../../../Thomson Lab Dropbox/David Larios/activedrops/ubuntu/111024-A20nM_peg-B-C-E-F-G-titrations-RT/2p5TMB-1ulDNA_/Pos19 does not exist. Skipping.\n",
      "Warning: ../../../../Thomson Lab Dropbox/David Larios/activedrops/ubuntu/111024-A20nM_peg-B-C-E-F-G-titrations-RT/2p5TMB-1ulDNA_/Pos20 does not exist. Skipping.\n",
      "Warning: ../../../../Thomson Lab Dropbox/David Larios/activedrops/ubuntu/111024-A20nM_peg-B-C-E-F-G-titrations-RT/2p5TMB-1ulDNA_/Pos21 does not exist. Skipping.\n",
      "Warning: ../../../../Thomson Lab Dropbox/David Larios/activedrops/ubuntu/111024-A20nM_peg-B-C-E-F-G-titrations-RT/2p5TMB-1ulDNA_/Pos22 does not exist. Skipping.\n",
      "Warning: ../../../../Thomson Lab Dropbox/David Larios/activedrops/ubuntu/111024-A20nM_peg-B-C-E-F-G-titrations-RT/2p5TMB-1ulDNA_/Pos23 does not exist. Skipping.\n",
      "Warning: ../../../../Thomson Lab Dropbox/David Larios/activedrops/ubuntu/111024-A20nM_peg-B-C-E-F-G-titrations-RT/2p5TMB-1ulDNA_/Pos24 does not exist. Skipping.\n",
      "Warning: ../../../../Thomson Lab Dropbox/David Larios/activedrops/ubuntu/111024-A20nM_peg-B-C-E-F-G-titrations-RT/2p5TMB-1ulDNA_/Pos25 does not exist. Skipping.\n",
      "Warning: ../../../../Thomson Lab Dropbox/David Larios/activedrops/ubuntu/111024-A20nM_peg-B-C-E-F-G-titrations-RT/2p5TMB-1ulDNA_/Pos26 does not exist. Skipping.\n",
      "Warning: ../../../../Thomson Lab Dropbox/David Larios/activedrops/ubuntu/111024-A20nM_peg-B-C-E-F-G-titrations-RT/2p5TMB-1ulDNA_/Pos27 does not exist. Skipping.\n",
      "Warning: ../../../../Thomson Lab Dropbox/David Larios/activedrops/ubuntu/111024-A20nM_peg-B-C-E-F-G-titrations-RT/2p5TMB-1ulDNA_/Pos28 does not exist. Skipping.\n",
      "Warning: ../../../../Thomson Lab Dropbox/David Larios/activedrops/ubuntu/111024-A20nM_peg-B-C-E-F-G-titrations-RT/2p5TMB-1ulDNA_/Pos29 does not exist. Skipping.\n",
      "Warning: ../../../../Thomson Lab Dropbox/David Larios/activedrops/ubuntu/111024-A20nM_peg-B-C-E-F-G-titrations-RT/2p5TMB-1ulDNA_/Pos30 does not exist. Skipping.\n",
      "Warning: ../../../../Thomson Lab Dropbox/David Larios/activedrops/ubuntu/111024-A20nM_peg-B-C-E-F-G-titrations-RT/2p5TMB-1ulDNA_/Pos31 does not exist. Skipping.\n",
      "Warning: ../../../../Thomson Lab Dropbox/David Larios/activedrops/ubuntu/111024-A20nM_peg-B-C-E-F-G-titrations-RT/2p5TMB-1ulDNA_/Pos32 does not exist. Skipping.\n",
      "Warning: ../../../../Thomson Lab Dropbox/David Larios/activedrops/ubuntu/111024-A20nM_peg-B-C-E-F-G-titrations-RT/2p5TMB-1ulDNA_/Pos33 does not exist. Skipping.\n",
      "Warning: ../../../../Thomson Lab Dropbox/David Larios/activedrops/ubuntu/111024-A20nM_peg-B-C-E-F-G-titrations-RT/2p5TMB-1ulDNA_/Pos34 does not exist. Skipping.\n",
      "Warning: ../../../../Thomson Lab Dropbox/David Larios/activedrops/ubuntu/111024-A20nM_peg-B-C-E-F-G-titrations-RT/2p5TMB-1ulDNA_/Pos35 does not exist. Skipping.\n",
      "Warning: ../../../../Thomson Lab Dropbox/David Larios/activedrops/ubuntu/111024-A20nM_peg-B-C-E-F-G-titrations-RT/2p5TMB-1ulDNA_/Pos36 does not exist. Skipping.\n",
      "Warning: ../../../../Thomson Lab Dropbox/David Larios/activedrops/ubuntu/111024-A20nM_peg-B-C-E-F-G-titrations-RT/2p5TMB-1ulDNA_/Pos37 does not exist. Skipping.\n",
      "Warning: ../../../../Thomson Lab Dropbox/David Larios/activedrops/ubuntu/111024-A20nM_peg-B-C-E-F-G-titrations-RT/2p5TMB-1ulDNA_/Pos38 does not exist. Skipping.\n",
      "Warning: ../../../../Thomson Lab Dropbox/David Larios/activedrops/ubuntu/111024-A20nM_peg-B-C-E-F-G-titrations-RT/2p5TMB-1ulDNA_/Pos39 does not exist. Skipping.\n",
      "Warning: ../../../../Thomson Lab Dropbox/David Larios/activedrops/ubuntu/111024-A20nM_peg-B-C-E-F-G-titrations-RT/2p5TMB-1ulDNA_/Pos40 does not exist. Skipping.\n",
      "Warning: ../../../../Thomson Lab Dropbox/David Larios/activedrops/ubuntu/111024-A20nM_peg-B-C-E-F-G-titrations-RT/2p5TMB-1ulDNA_/Pos41 does not exist. Skipping.\n",
      "Warning: ../../../../Thomson Lab Dropbox/David Larios/activedrops/ubuntu/111024-A20nM_peg-B-C-E-F-G-titrations-RT/2p5TMB-1ulDNA_/Pos42 does not exist. Skipping.\n",
      "Warning: ../../../../Thomson Lab Dropbox/David Larios/activedrops/ubuntu/111024-A20nM_peg-B-C-E-F-G-titrations-RT/2p5TMB-1ulDNA_/Pos43 does not exist. Skipping.\n",
      "Warning: ../../../../Thomson Lab Dropbox/David Larios/activedrops/ubuntu/111024-A20nM_peg-B-C-E-F-G-titrations-RT/2p5TMB-1ulDNA_/Pos44 does not exist. Skipping.\n",
      "Warning: ../../../../Thomson Lab Dropbox/David Larios/activedrops/ubuntu/111024-A20nM_peg-B-C-E-F-G-titrations-RT/2p5TMB-1ulDNA_/Pos45 does not exist. Skipping.\n",
      "Conditions: ['A_40nM_PEG1', 'A_40nM_PEG2', 'A_40nM_PEG3', 'A_40nM_PEG4', 'A_40nM_PEG5', 'B_1p25nM', 'B_2p5nM', 'B_5nM', 'B_10nM', 'B_20nM', 'B_40nM', 'B_80nM', 'B_160nM', 'C_1p25nM', 'C_2p5nM', 'C_5nM', 'C_10nM', 'C_20nM', 'C_40nM', 'C_80nM', 'C_160nM', 'E_1p25nM', 'E_2p5nM', 'E_5nM', 'E_10nM', 'E_20nM', 'E_40nM', 'E_80nM', 'E_160nM', 'F_1p25nM', 'F_2p5nM', 'F_5nM', 'F_10nM', 'F_20nM', 'F_40nM', 'F_80nM', 'F_160nM', 'G_1p25nM', 'G_2p5nM', 'G_5nM', 'G_10nM', 'G_20nM', 'G_40nM', 'G_80nM', 'G_160nM', 'negative']\n",
      "Subconditions: ['Rep1']\n"
     ]
    }
   ],
   "source": [
    "# Example usage\n",
    "data_path = \"../../../../Thomson Lab Dropbox/David Larios/activedrops/ubuntu/111024-A20nM_peg-B-C-E-F-G-titrations-RT/2p5TMB-1ulDNA_/\"\n",
    "\n",
    "calibration_curve_paths = sorted(glob.glob(\"../../../../Thomson Lab Dropbox/David Larios/activedrops/calibration-50ms/***ugml.tif\"))\n",
    "\n",
    "\n",
    "conditions_dict = {\n",
    "    \"A_40nM_PEG1\": \"Pos0\", \n",
    "    \"A_40nM_PEG2\": \"Pos1\",\n",
    "    \"A_40nM_PEG3\": \"Pos2\",\n",
    "    \"A_40nM_PEG4\": \"Pos3\",\n",
    "    \"A_40nM_PEG5\": \"Pos4\",\n",
    "    \"B_160nM\": \"Pos5\",\n",
    "    \"B_80nM\": \"Pos6\",\n",
    "    \"B_40nM\": \"Pos7\",\n",
    "    \"B_20nM\": \"Pos8\",\n",
    "    \"B_10nM\": \"Pos9\",\n",
    "    \"B_5nM\": \"Pos10\",\n",
    "    \"B_2p5nM\": \"Pos11\",\n",
    "    \"B_1p25nM\": \"Pos12\",\n",
    "    \"C_160nM\": \"Pos13\",\n",
    "    \"C_80nM\": \"Pos14\",\n",
    "    \"C_40nM\": \"Pos15\",\n",
    "    \"C_20nM\": \"Pos16\",\n",
    "    \"C_10nM\": \"Pos17\",\n",
    "    \"C_5nM\": \"Pos18\",\n",
    "    \"C_2p5nM\": \"Pos19\",\n",
    "    \"C_1p25nM\": \"Pos20\",\n",
    "    \"E_160nM\": \"Pos21\",\n",
    "    \"E_80nM\": \"Pos22\",\n",
    "    \"E_40nM\": \"Pos23\",\n",
    "    \"E_20nM\": \"Pos24\",\n",
    "    \"E_10nM\": \"Pos25\",\n",
    "    \"E_5nM\": \"Pos26\",\n",
    "    \"E_2p5nM\": \"Pos27\",\n",
    "    \"E_1p25nM\": \"Pos28\", \n",
    "    \"F_160nM\": \"Pos29\",\n",
    "    \"F_80nM\": \"Pos30\",\n",
    "    \"F_40nM\": \"Pos31\",\n",
    "    \"F_20nM\": \"Pos32\",\n",
    "    \"F_10nM\": \"Pos33\",\n",
    "    \"F_5nM\": \"Pos34\",\n",
    "    \"F_2p5nM\": \"Pos35\",\n",
    "    \"F_1p25nM\": \"Pos36\",\n",
    "    \"G_160nM\": \"Pos37\",\n",
    "    \"G_80nM\": \"Pos38\",\n",
    "    \"G_40nM\": \"Pos39\",\n",
    "    \"G_20nM\": \"Pos40\",\n",
    "    \"G_10nM\": \"Pos41\",\n",
    "    \"G_5nM\": \"Pos42\",\n",
    "    \"G_2p5nM\": \"Pos43\",\n",
    "    \"G_1p25nM\": \"Pos44\",\n",
    "    \"negative\": \"Pos45\",\n",
    "}\n",
    "\n",
    "# Organize PosX folders into condition folders\n",
    "qd.organize_conditions(data_path, conditions_dict)\n",
    "\n",
    "# Now run the existing functions to reorganize the tiffs and rename the folders\n",
    "conditions, subconditions = qd.prepare_conditions(data_path)\n",
    "time_interval_list = [150] * len(conditions)  # time intervals in seconds between frames for each condition\n",
    "\n",
    "print(\"Conditions:\", conditions)\n",
    "print(\"Subconditions:\", subconditions)\n",
    "\n"
   ]
  },
  {
   "cell_type": "code",
   "execution_count": 5,
   "metadata": {},
   "outputs": [
    {
     "name": "stdout",
     "output_type": "stream",
     "text": [
      "Moved .tif files from ../../../../Thomson Lab Dropbox/David Larios/activedrops/ubuntu/111024-A20nM_peg-B-C-E-F-G-titrations-RT/2p5TMB-1ulDNA_/A_40nM_PEG1/Rep1 to ../../../../Thomson Lab Dropbox/David Larios/activedrops/ubuntu/111024-A20nM_peg-B-C-E-F-G-titrations-RT/2p5TMB-1ulDNA_/A_40nM_PEG1/Rep1/original\n",
      "Moved .tif files from ../../../../Thomson Lab Dropbox/David Larios/activedrops/ubuntu/111024-A20nM_peg-B-C-E-F-G-titrations-RT/2p5TMB-1ulDNA_/A_40nM_PEG2/Rep1 to ../../../../Thomson Lab Dropbox/David Larios/activedrops/ubuntu/111024-A20nM_peg-B-C-E-F-G-titrations-RT/2p5TMB-1ulDNA_/A_40nM_PEG2/Rep1/original\n",
      "Moved .tif files from ../../../../Thomson Lab Dropbox/David Larios/activedrops/ubuntu/111024-A20nM_peg-B-C-E-F-G-titrations-RT/2p5TMB-1ulDNA_/A_40nM_PEG3/Rep1 to ../../../../Thomson Lab Dropbox/David Larios/activedrops/ubuntu/111024-A20nM_peg-B-C-E-F-G-titrations-RT/2p5TMB-1ulDNA_/A_40nM_PEG3/Rep1/original\n",
      "Moved .tif files from ../../../../Thomson Lab Dropbox/David Larios/activedrops/ubuntu/111024-A20nM_peg-B-C-E-F-G-titrations-RT/2p5TMB-1ulDNA_/A_40nM_PEG4/Rep1 to ../../../../Thomson Lab Dropbox/David Larios/activedrops/ubuntu/111024-A20nM_peg-B-C-E-F-G-titrations-RT/2p5TMB-1ulDNA_/A_40nM_PEG4/Rep1/original\n",
      "Moved .tif files from ../../../../Thomson Lab Dropbox/David Larios/activedrops/ubuntu/111024-A20nM_peg-B-C-E-F-G-titrations-RT/2p5TMB-1ulDNA_/A_40nM_PEG5/Rep1 to ../../../../Thomson Lab Dropbox/David Larios/activedrops/ubuntu/111024-A20nM_peg-B-C-E-F-G-titrations-RT/2p5TMB-1ulDNA_/A_40nM_PEG5/Rep1/original\n",
      "Moved .tif files from ../../../../Thomson Lab Dropbox/David Larios/activedrops/ubuntu/111024-A20nM_peg-B-C-E-F-G-titrations-RT/2p5TMB-1ulDNA_/B_1p25nM/Rep1 to ../../../../Thomson Lab Dropbox/David Larios/activedrops/ubuntu/111024-A20nM_peg-B-C-E-F-G-titrations-RT/2p5TMB-1ulDNA_/B_1p25nM/Rep1/original\n",
      "Moved .tif files from ../../../../Thomson Lab Dropbox/David Larios/activedrops/ubuntu/111024-A20nM_peg-B-C-E-F-G-titrations-RT/2p5TMB-1ulDNA_/B_2p5nM/Rep1 to ../../../../Thomson Lab Dropbox/David Larios/activedrops/ubuntu/111024-A20nM_peg-B-C-E-F-G-titrations-RT/2p5TMB-1ulDNA_/B_2p5nM/Rep1/original\n",
      "Moved .tif files from ../../../../Thomson Lab Dropbox/David Larios/activedrops/ubuntu/111024-A20nM_peg-B-C-E-F-G-titrations-RT/2p5TMB-1ulDNA_/B_5nM/Rep1 to ../../../../Thomson Lab Dropbox/David Larios/activedrops/ubuntu/111024-A20nM_peg-B-C-E-F-G-titrations-RT/2p5TMB-1ulDNA_/B_5nM/Rep1/original\n",
      "Moved .tif files from ../../../../Thomson Lab Dropbox/David Larios/activedrops/ubuntu/111024-A20nM_peg-B-C-E-F-G-titrations-RT/2p5TMB-1ulDNA_/B_10nM/Rep1 to ../../../../Thomson Lab Dropbox/David Larios/activedrops/ubuntu/111024-A20nM_peg-B-C-E-F-G-titrations-RT/2p5TMB-1ulDNA_/B_10nM/Rep1/original\n",
      "Moved .tif files from ../../../../Thomson Lab Dropbox/David Larios/activedrops/ubuntu/111024-A20nM_peg-B-C-E-F-G-titrations-RT/2p5TMB-1ulDNA_/B_20nM/Rep1 to ../../../../Thomson Lab Dropbox/David Larios/activedrops/ubuntu/111024-A20nM_peg-B-C-E-F-G-titrations-RT/2p5TMB-1ulDNA_/B_20nM/Rep1/original\n",
      "Moved .tif files from ../../../../Thomson Lab Dropbox/David Larios/activedrops/ubuntu/111024-A20nM_peg-B-C-E-F-G-titrations-RT/2p5TMB-1ulDNA_/B_40nM/Rep1 to ../../../../Thomson Lab Dropbox/David Larios/activedrops/ubuntu/111024-A20nM_peg-B-C-E-F-G-titrations-RT/2p5TMB-1ulDNA_/B_40nM/Rep1/original\n",
      "Moved .tif files from ../../../../Thomson Lab Dropbox/David Larios/activedrops/ubuntu/111024-A20nM_peg-B-C-E-F-G-titrations-RT/2p5TMB-1ulDNA_/B_80nM/Rep1 to ../../../../Thomson Lab Dropbox/David Larios/activedrops/ubuntu/111024-A20nM_peg-B-C-E-F-G-titrations-RT/2p5TMB-1ulDNA_/B_80nM/Rep1/original\n",
      "Moved .tif files from ../../../../Thomson Lab Dropbox/David Larios/activedrops/ubuntu/111024-A20nM_peg-B-C-E-F-G-titrations-RT/2p5TMB-1ulDNA_/B_160nM/Rep1 to ../../../../Thomson Lab Dropbox/David Larios/activedrops/ubuntu/111024-A20nM_peg-B-C-E-F-G-titrations-RT/2p5TMB-1ulDNA_/B_160nM/Rep1/original\n",
      "Moved .tif files from ../../../../Thomson Lab Dropbox/David Larios/activedrops/ubuntu/111024-A20nM_peg-B-C-E-F-G-titrations-RT/2p5TMB-1ulDNA_/C_1p25nM/Rep1 to ../../../../Thomson Lab Dropbox/David Larios/activedrops/ubuntu/111024-A20nM_peg-B-C-E-F-G-titrations-RT/2p5TMB-1ulDNA_/C_1p25nM/Rep1/original\n",
      "Moved .tif files from ../../../../Thomson Lab Dropbox/David Larios/activedrops/ubuntu/111024-A20nM_peg-B-C-E-F-G-titrations-RT/2p5TMB-1ulDNA_/C_2p5nM/Rep1 to ../../../../Thomson Lab Dropbox/David Larios/activedrops/ubuntu/111024-A20nM_peg-B-C-E-F-G-titrations-RT/2p5TMB-1ulDNA_/C_2p5nM/Rep1/original\n",
      "Moved .tif files from ../../../../Thomson Lab Dropbox/David Larios/activedrops/ubuntu/111024-A20nM_peg-B-C-E-F-G-titrations-RT/2p5TMB-1ulDNA_/C_5nM/Rep1 to ../../../../Thomson Lab Dropbox/David Larios/activedrops/ubuntu/111024-A20nM_peg-B-C-E-F-G-titrations-RT/2p5TMB-1ulDNA_/C_5nM/Rep1/original\n",
      "Moved .tif files from ../../../../Thomson Lab Dropbox/David Larios/activedrops/ubuntu/111024-A20nM_peg-B-C-E-F-G-titrations-RT/2p5TMB-1ulDNA_/C_10nM/Rep1 to ../../../../Thomson Lab Dropbox/David Larios/activedrops/ubuntu/111024-A20nM_peg-B-C-E-F-G-titrations-RT/2p5TMB-1ulDNA_/C_10nM/Rep1/original\n",
      "Moved .tif files from ../../../../Thomson Lab Dropbox/David Larios/activedrops/ubuntu/111024-A20nM_peg-B-C-E-F-G-titrations-RT/2p5TMB-1ulDNA_/C_20nM/Rep1 to ../../../../Thomson Lab Dropbox/David Larios/activedrops/ubuntu/111024-A20nM_peg-B-C-E-F-G-titrations-RT/2p5TMB-1ulDNA_/C_20nM/Rep1/original\n",
      "Moved .tif files from ../../../../Thomson Lab Dropbox/David Larios/activedrops/ubuntu/111024-A20nM_peg-B-C-E-F-G-titrations-RT/2p5TMB-1ulDNA_/C_40nM/Rep1 to ../../../../Thomson Lab Dropbox/David Larios/activedrops/ubuntu/111024-A20nM_peg-B-C-E-F-G-titrations-RT/2p5TMB-1ulDNA_/C_40nM/Rep1/original\n",
      "Moved .tif files from ../../../../Thomson Lab Dropbox/David Larios/activedrops/ubuntu/111024-A20nM_peg-B-C-E-F-G-titrations-RT/2p5TMB-1ulDNA_/C_80nM/Rep1 to ../../../../Thomson Lab Dropbox/David Larios/activedrops/ubuntu/111024-A20nM_peg-B-C-E-F-G-titrations-RT/2p5TMB-1ulDNA_/C_80nM/Rep1/original\n",
      "Moved .tif files from ../../../../Thomson Lab Dropbox/David Larios/activedrops/ubuntu/111024-A20nM_peg-B-C-E-F-G-titrations-RT/2p5TMB-1ulDNA_/C_160nM/Rep1 to ../../../../Thomson Lab Dropbox/David Larios/activedrops/ubuntu/111024-A20nM_peg-B-C-E-F-G-titrations-RT/2p5TMB-1ulDNA_/C_160nM/Rep1/original\n",
      "Moved .tif files from ../../../../Thomson Lab Dropbox/David Larios/activedrops/ubuntu/111024-A20nM_peg-B-C-E-F-G-titrations-RT/2p5TMB-1ulDNA_/E_1p25nM/Rep1 to ../../../../Thomson Lab Dropbox/David Larios/activedrops/ubuntu/111024-A20nM_peg-B-C-E-F-G-titrations-RT/2p5TMB-1ulDNA_/E_1p25nM/Rep1/original\n",
      "Moved .tif files from ../../../../Thomson Lab Dropbox/David Larios/activedrops/ubuntu/111024-A20nM_peg-B-C-E-F-G-titrations-RT/2p5TMB-1ulDNA_/E_2p5nM/Rep1 to ../../../../Thomson Lab Dropbox/David Larios/activedrops/ubuntu/111024-A20nM_peg-B-C-E-F-G-titrations-RT/2p5TMB-1ulDNA_/E_2p5nM/Rep1/original\n",
      "Moved .tif files from ../../../../Thomson Lab Dropbox/David Larios/activedrops/ubuntu/111024-A20nM_peg-B-C-E-F-G-titrations-RT/2p5TMB-1ulDNA_/E_5nM/Rep1 to ../../../../Thomson Lab Dropbox/David Larios/activedrops/ubuntu/111024-A20nM_peg-B-C-E-F-G-titrations-RT/2p5TMB-1ulDNA_/E_5nM/Rep1/original\n",
      "Moved .tif files from ../../../../Thomson Lab Dropbox/David Larios/activedrops/ubuntu/111024-A20nM_peg-B-C-E-F-G-titrations-RT/2p5TMB-1ulDNA_/E_10nM/Rep1 to ../../../../Thomson Lab Dropbox/David Larios/activedrops/ubuntu/111024-A20nM_peg-B-C-E-F-G-titrations-RT/2p5TMB-1ulDNA_/E_10nM/Rep1/original\n",
      "Moved .tif files from ../../../../Thomson Lab Dropbox/David Larios/activedrops/ubuntu/111024-A20nM_peg-B-C-E-F-G-titrations-RT/2p5TMB-1ulDNA_/E_20nM/Rep1 to ../../../../Thomson Lab Dropbox/David Larios/activedrops/ubuntu/111024-A20nM_peg-B-C-E-F-G-titrations-RT/2p5TMB-1ulDNA_/E_20nM/Rep1/original\n",
      "Moved .tif files from ../../../../Thomson Lab Dropbox/David Larios/activedrops/ubuntu/111024-A20nM_peg-B-C-E-F-G-titrations-RT/2p5TMB-1ulDNA_/E_40nM/Rep1 to ../../../../Thomson Lab Dropbox/David Larios/activedrops/ubuntu/111024-A20nM_peg-B-C-E-F-G-titrations-RT/2p5TMB-1ulDNA_/E_40nM/Rep1/original\n",
      "Moved .tif files from ../../../../Thomson Lab Dropbox/David Larios/activedrops/ubuntu/111024-A20nM_peg-B-C-E-F-G-titrations-RT/2p5TMB-1ulDNA_/E_80nM/Rep1 to ../../../../Thomson Lab Dropbox/David Larios/activedrops/ubuntu/111024-A20nM_peg-B-C-E-F-G-titrations-RT/2p5TMB-1ulDNA_/E_80nM/Rep1/original\n",
      "Moved .tif files from ../../../../Thomson Lab Dropbox/David Larios/activedrops/ubuntu/111024-A20nM_peg-B-C-E-F-G-titrations-RT/2p5TMB-1ulDNA_/E_160nM/Rep1 to ../../../../Thomson Lab Dropbox/David Larios/activedrops/ubuntu/111024-A20nM_peg-B-C-E-F-G-titrations-RT/2p5TMB-1ulDNA_/E_160nM/Rep1/original\n",
      "Moved .tif files from ../../../../Thomson Lab Dropbox/David Larios/activedrops/ubuntu/111024-A20nM_peg-B-C-E-F-G-titrations-RT/2p5TMB-1ulDNA_/F_1p25nM/Rep1 to ../../../../Thomson Lab Dropbox/David Larios/activedrops/ubuntu/111024-A20nM_peg-B-C-E-F-G-titrations-RT/2p5TMB-1ulDNA_/F_1p25nM/Rep1/original\n",
      "Moved .tif files from ../../../../Thomson Lab Dropbox/David Larios/activedrops/ubuntu/111024-A20nM_peg-B-C-E-F-G-titrations-RT/2p5TMB-1ulDNA_/F_2p5nM/Rep1 to ../../../../Thomson Lab Dropbox/David Larios/activedrops/ubuntu/111024-A20nM_peg-B-C-E-F-G-titrations-RT/2p5TMB-1ulDNA_/F_2p5nM/Rep1/original\n",
      "Moved .tif files from ../../../../Thomson Lab Dropbox/David Larios/activedrops/ubuntu/111024-A20nM_peg-B-C-E-F-G-titrations-RT/2p5TMB-1ulDNA_/F_5nM/Rep1 to ../../../../Thomson Lab Dropbox/David Larios/activedrops/ubuntu/111024-A20nM_peg-B-C-E-F-G-titrations-RT/2p5TMB-1ulDNA_/F_5nM/Rep1/original\n",
      "Moved .tif files from ../../../../Thomson Lab Dropbox/David Larios/activedrops/ubuntu/111024-A20nM_peg-B-C-E-F-G-titrations-RT/2p5TMB-1ulDNA_/F_10nM/Rep1 to ../../../../Thomson Lab Dropbox/David Larios/activedrops/ubuntu/111024-A20nM_peg-B-C-E-F-G-titrations-RT/2p5TMB-1ulDNA_/F_10nM/Rep1/original\n",
      "Moved .tif files from ../../../../Thomson Lab Dropbox/David Larios/activedrops/ubuntu/111024-A20nM_peg-B-C-E-F-G-titrations-RT/2p5TMB-1ulDNA_/F_20nM/Rep1 to ../../../../Thomson Lab Dropbox/David Larios/activedrops/ubuntu/111024-A20nM_peg-B-C-E-F-G-titrations-RT/2p5TMB-1ulDNA_/F_20nM/Rep1/original\n",
      "Moved .tif files from ../../../../Thomson Lab Dropbox/David Larios/activedrops/ubuntu/111024-A20nM_peg-B-C-E-F-G-titrations-RT/2p5TMB-1ulDNA_/F_40nM/Rep1 to ../../../../Thomson Lab Dropbox/David Larios/activedrops/ubuntu/111024-A20nM_peg-B-C-E-F-G-titrations-RT/2p5TMB-1ulDNA_/F_40nM/Rep1/original\n",
      "Moved .tif files from ../../../../Thomson Lab Dropbox/David Larios/activedrops/ubuntu/111024-A20nM_peg-B-C-E-F-G-titrations-RT/2p5TMB-1ulDNA_/F_80nM/Rep1 to ../../../../Thomson Lab Dropbox/David Larios/activedrops/ubuntu/111024-A20nM_peg-B-C-E-F-G-titrations-RT/2p5TMB-1ulDNA_/F_80nM/Rep1/original\n",
      "Moved .tif files from ../../../../Thomson Lab Dropbox/David Larios/activedrops/ubuntu/111024-A20nM_peg-B-C-E-F-G-titrations-RT/2p5TMB-1ulDNA_/F_160nM/Rep1 to ../../../../Thomson Lab Dropbox/David Larios/activedrops/ubuntu/111024-A20nM_peg-B-C-E-F-G-titrations-RT/2p5TMB-1ulDNA_/F_160nM/Rep1/original\n",
      "Moved .tif files from ../../../../Thomson Lab Dropbox/David Larios/activedrops/ubuntu/111024-A20nM_peg-B-C-E-F-G-titrations-RT/2p5TMB-1ulDNA_/G_1p25nM/Rep1 to ../../../../Thomson Lab Dropbox/David Larios/activedrops/ubuntu/111024-A20nM_peg-B-C-E-F-G-titrations-RT/2p5TMB-1ulDNA_/G_1p25nM/Rep1/original\n",
      "Moved .tif files from ../../../../Thomson Lab Dropbox/David Larios/activedrops/ubuntu/111024-A20nM_peg-B-C-E-F-G-titrations-RT/2p5TMB-1ulDNA_/G_2p5nM/Rep1 to ../../../../Thomson Lab Dropbox/David Larios/activedrops/ubuntu/111024-A20nM_peg-B-C-E-F-G-titrations-RT/2p5TMB-1ulDNA_/G_2p5nM/Rep1/original\n",
      "Moved .tif files from ../../../../Thomson Lab Dropbox/David Larios/activedrops/ubuntu/111024-A20nM_peg-B-C-E-F-G-titrations-RT/2p5TMB-1ulDNA_/G_5nM/Rep1 to ../../../../Thomson Lab Dropbox/David Larios/activedrops/ubuntu/111024-A20nM_peg-B-C-E-F-G-titrations-RT/2p5TMB-1ulDNA_/G_5nM/Rep1/original\n",
      "Moved .tif files from ../../../../Thomson Lab Dropbox/David Larios/activedrops/ubuntu/111024-A20nM_peg-B-C-E-F-G-titrations-RT/2p5TMB-1ulDNA_/G_10nM/Rep1 to ../../../../Thomson Lab Dropbox/David Larios/activedrops/ubuntu/111024-A20nM_peg-B-C-E-F-G-titrations-RT/2p5TMB-1ulDNA_/G_10nM/Rep1/original\n",
      "Moved .tif files from ../../../../Thomson Lab Dropbox/David Larios/activedrops/ubuntu/111024-A20nM_peg-B-C-E-F-G-titrations-RT/2p5TMB-1ulDNA_/G_20nM/Rep1 to ../../../../Thomson Lab Dropbox/David Larios/activedrops/ubuntu/111024-A20nM_peg-B-C-E-F-G-titrations-RT/2p5TMB-1ulDNA_/G_20nM/Rep1/original\n",
      "Moved .tif files from ../../../../Thomson Lab Dropbox/David Larios/activedrops/ubuntu/111024-A20nM_peg-B-C-E-F-G-titrations-RT/2p5TMB-1ulDNA_/G_40nM/Rep1 to ../../../../Thomson Lab Dropbox/David Larios/activedrops/ubuntu/111024-A20nM_peg-B-C-E-F-G-titrations-RT/2p5TMB-1ulDNA_/G_40nM/Rep1/original\n",
      "Moved .tif files from ../../../../Thomson Lab Dropbox/David Larios/activedrops/ubuntu/111024-A20nM_peg-B-C-E-F-G-titrations-RT/2p5TMB-1ulDNA_/G_80nM/Rep1 to ../../../../Thomson Lab Dropbox/David Larios/activedrops/ubuntu/111024-A20nM_peg-B-C-E-F-G-titrations-RT/2p5TMB-1ulDNA_/G_80nM/Rep1/original\n",
      "Moved .tif files from ../../../../Thomson Lab Dropbox/David Larios/activedrops/ubuntu/111024-A20nM_peg-B-C-E-F-G-titrations-RT/2p5TMB-1ulDNA_/G_160nM/Rep1 to ../../../../Thomson Lab Dropbox/David Larios/activedrops/ubuntu/111024-A20nM_peg-B-C-E-F-G-titrations-RT/2p5TMB-1ulDNA_/G_160nM/Rep1/original\n",
      "Moved .tif files from ../../../../Thomson Lab Dropbox/David Larios/activedrops/ubuntu/111024-A20nM_peg-B-C-E-F-G-titrations-RT/2p5TMB-1ulDNA_/negative/Rep1 to ../../../../Thomson Lab Dropbox/David Larios/activedrops/ubuntu/111024-A20nM_peg-B-C-E-F-G-titrations-RT/2p5TMB-1ulDNA_/negative/Rep1/original\n"
     ]
    }
   ],
   "source": [
    "qd.reorgTiffsToOriginal(data_path, conditions, subconditions)\n"
   ]
  },
  {
   "cell_type": "markdown",
   "metadata": {},
   "source": [
    "### Generate movies"
   ]
  },
  {
   "cell_type": "code",
   "execution_count": null,
   "metadata": {},
   "outputs": [],
   "source": [
    "# Call the function\n",
    "qd.fluorescence_heatmap(\n",
    "    data_path, \n",
    "    conditions, \n",
    "    subconditions, \n",
    "    channel='cy5', \n",
    "    time_interval_list=time_interval_list, \n",
    "    vmax=12, \n",
    "    skip_frames=2, \n",
    "    calibration_curve_paths=calibration_curve_paths, \n",
    "    show_scalebar=False,\n",
    "    )"
   ]
  },
  {
   "cell_type": "code",
   "execution_count": null,
   "metadata": {},
   "outputs": [],
   "source": [
    "# Example usage\n",
    "qd.create_movies(\n",
    "    data_path, \n",
    "    conditions, \n",
    "    subconditions, \n",
    "    channel='cy5', \n",
    "    frame_rate=30,\n",
    "    skip_frames=1\n",
    "    )\n"
   ]
  },
  {
   "cell_type": "code",
   "execution_count": 16,
   "metadata": {},
   "outputs": [
    {
     "data": {
      "text/plain": [
       "['G_160nM',\n",
       " 'G_80nM',\n",
       " 'G_40nM',\n",
       " 'G_20nM',\n",
       " 'G_10nM',\n",
       " 'G_5nM',\n",
       " 'G_2p5nM',\n",
       " 'G_1p25nM']"
      ]
     },
     "execution_count": 16,
     "metadata": {},
     "output_type": "execute_result"
    }
   ],
   "source": [
    "conditions = [\n",
    "    'G_1p25nM',\n",
    "    'G_2p5nM',\n",
    "    'G_5nM',\n",
    "    'G_10nM',\n",
    "    'G_20nM',\n",
    "    'G_40nM',\n",
    "    'G_80nM',\n",
    "    'G_160nM',\n",
    "][::-1]\n",
    "\n",
    "conditions"
   ]
  },
  {
   "cell_type": "code",
   "execution_count": 17,
   "metadata": {},
   "outputs": [
    {
     "name": "stdout",
     "output_type": "stream",
     "text": [
      "Creating video with duration: 20.04 seconds.\n"
     ]
    },
    {
     "name": "stderr",
     "output_type": "stream",
     "text": [
      "Creating combined frames: 100%|██████████| 481/481 [02:39<00:00,  3.02it/s]\n"
     ]
    },
    {
     "name": "stdout",
     "output_type": "stream",
     "text": [
      "Combined video saved to ../../../../Thomson Lab Dropbox/David Larios/activedrops/ubuntu/111024-A20nM_peg-B-C-E-F-G-titrations-RT/2p5TMB-1ulDNA_/output_data/movies/combined_heatmap_movie_cy5_24fps_481frames.avi\n"
     ]
    }
   ],
   "source": [
    "qd.create_combined_heatmap_movie_custom_grid(\n",
    "    data_path, \n",
    "    conditions, \n",
    "    subconditions, \n",
    "    channel='cy5', \n",
    "    grid_rows=2, \n",
    "    grid_cols=4, \n",
    "    frame_rate=24,\n",
    "    batch_size=50\n",
    "    )\n"
   ]
  },
  {
   "cell_type": "markdown",
   "metadata": {},
   "source": []
  },
  {
   "cell_type": "code",
   "execution_count": 6,
   "metadata": {},
   "outputs": [
    {
     "name": "stderr",
     "output_type": "stream",
     "text": [
      "Processing A_40nM_PEG1 - Rep1: 100%|██████████| 121/121 [00:14<00:00,  8.15it/s]\n",
      "Processing A_40nM_PEG2 - Rep1: 100%|██████████| 121/121 [00:14<00:00,  8.44it/s]\n",
      "Processing A_40nM_PEG3 - Rep1: 100%|██████████| 121/121 [00:14<00:00,  8.27it/s]\n",
      "Processing A_40nM_PEG4 - Rep1: 100%|██████████| 121/121 [00:14<00:00,  8.40it/s]\n",
      "Processing A_40nM_PEG5 - Rep1: 100%|██████████| 121/121 [00:14<00:00,  8.44it/s]\n",
      "Processing B_1p25nM - Rep1: 100%|██████████| 121/121 [00:14<00:00,  8.35it/s]\n",
      "Processing B_2p5nM - Rep1: 100%|██████████| 121/121 [00:15<00:00,  7.78it/s]\n",
      "Processing B_5nM - Rep1: 100%|██████████| 121/121 [00:14<00:00,  8.26it/s]\n",
      "Processing B_10nM - Rep1: 100%|██████████| 121/121 [00:14<00:00,  8.23it/s]\n",
      "Processing B_20nM - Rep1: 100%|██████████| 121/121 [00:14<00:00,  8.30it/s]\n",
      "Processing B_40nM - Rep1: 100%|██████████| 121/121 [00:14<00:00,  8.24it/s]\n",
      "Processing B_80nM - Rep1: 100%|██████████| 121/121 [00:14<00:00,  8.38it/s]\n",
      "Processing B_160nM - Rep1: 100%|██████████| 121/121 [00:14<00:00,  8.28it/s]\n",
      "Processing C_1p25nM - Rep1: 100%|██████████| 121/121 [00:14<00:00,  8.28it/s]\n",
      "Processing C_2p5nM - Rep1: 100%|██████████| 121/121 [00:14<00:00,  8.42it/s]\n",
      "Processing C_5nM - Rep1: 100%|██████████| 121/121 [00:14<00:00,  8.49it/s]\n",
      "Processing C_10nM - Rep1: 100%|██████████| 121/121 [00:14<00:00,  8.46it/s]\n",
      "Processing C_20nM - Rep1: 100%|██████████| 121/121 [00:14<00:00,  8.54it/s]\n",
      "Processing C_40nM - Rep1: 100%|██████████| 121/121 [00:14<00:00,  8.40it/s]\n",
      "Processing C_80nM - Rep1: 100%|██████████| 121/121 [00:14<00:00,  8.35it/s]\n",
      "Processing C_160nM - Rep1: 100%|██████████| 121/121 [00:14<00:00,  8.59it/s]\n",
      "Processing E_1p25nM - Rep1: 100%|██████████| 121/121 [00:14<00:00,  8.58it/s]\n",
      "Processing E_2p5nM - Rep1: 100%|██████████| 121/121 [00:14<00:00,  8.63it/s]\n",
      "Processing E_5nM - Rep1: 100%|██████████| 121/121 [00:14<00:00,  8.57it/s]\n",
      "Processing E_10nM - Rep1: 100%|██████████| 121/121 [00:14<00:00,  8.40it/s]\n",
      "Processing E_20nM - Rep1: 100%|██████████| 121/121 [00:14<00:00,  8.30it/s]\n",
      "Processing E_40nM - Rep1: 100%|██████████| 121/121 [00:14<00:00,  8.43it/s]\n",
      "Processing E_80nM - Rep1: 100%|██████████| 121/121 [00:14<00:00,  8.33it/s]\n",
      "Processing E_160nM - Rep1: 100%|██████████| 121/121 [00:13<00:00,  8.78it/s]\n",
      "Processing F_1p25nM - Rep1: 100%|██████████| 121/121 [00:13<00:00,  8.69it/s]\n",
      "Processing F_2p5nM - Rep1: 100%|██████████| 121/121 [00:14<00:00,  8.44it/s]\n",
      "Processing F_5nM - Rep1: 100%|██████████| 121/121 [00:14<00:00,  8.43it/s]\n",
      "Processing F_10nM - Rep1: 100%|██████████| 121/121 [00:13<00:00,  9.03it/s]\n",
      "Processing F_20nM - Rep1: 100%|██████████| 121/121 [00:14<00:00,  8.50it/s]\n",
      "Processing F_40nM - Rep1: 100%|██████████| 121/121 [00:13<00:00,  9.10it/s]\n",
      "Processing F_80nM - Rep1: 100%|██████████| 121/121 [00:13<00:00,  8.84it/s]\n",
      "Processing F_160nM - Rep1: 100%|██████████| 121/121 [00:13<00:00,  8.97it/s]\n",
      "Processing G_1p25nM - Rep1: 100%|██████████| 121/121 [00:14<00:00,  8.45it/s]\n",
      "Processing G_2p5nM - Rep1: 100%|██████████| 121/121 [00:14<00:00,  8.52it/s]\n",
      "Processing G_5nM - Rep1: 100%|██████████| 121/121 [00:14<00:00,  8.64it/s]\n",
      "Processing G_10nM - Rep1: 100%|██████████| 121/121 [00:14<00:00,  8.51it/s]\n",
      "Processing G_20nM - Rep1: 100%|██████████| 121/121 [00:14<00:00,  8.43it/s]\n",
      "Processing G_40nM - Rep1: 100%|██████████| 121/121 [00:14<00:00,  8.26it/s]\n",
      "Processing G_80nM - Rep1: 100%|██████████| 121/121 [00:14<00:00,  8.63it/s]\n",
      "Processing G_160nM - Rep1: 100%|██████████| 121/121 [00:14<00:00,  8.54it/s]\n",
      "Processing negative - Rep1: 100%|██████████| 121/121 [00:14<00:00,  8.62it/s]\n"
     ]
    }
   ],
   "source": [
    "# Call the function\n",
    "qd.fluorescence_heatmap(\n",
    "    data_path, \n",
    "    conditions, \n",
    "    subconditions, \n",
    "    channel='GFP', \n",
    "    time_interval_list=time_interval_list, \n",
    "    vmax=500, \n",
    "    skip_frames=8, \n",
    "    calibration_curve_paths=calibration_curve_paths, \n",
    "    show_scalebar=True,\n",
    "    )"
   ]
  },
  {
   "cell_type": "code",
   "execution_count": 8,
   "metadata": {},
   "outputs": [
    {
     "name": "stdout",
     "output_type": "stream",
     "text": [
      "Creating video for A_40nM_PEG1 - Rep1 with duration: 10.08 seconds.\n"
     ]
    },
    {
     "name": "stderr",
     "output_type": "stream",
     "text": [
      "Creating video for A_40nM_PEG1 - Rep1: 100%|██████████| 121/121 [00:07<00:00, 15.57it/s]\n"
     ]
    },
    {
     "name": "stdout",
     "output_type": "stream",
     "text": [
      "Creating video for A_40nM_PEG2 - Rep1 with duration: 10.08 seconds.\n"
     ]
    },
    {
     "name": "stderr",
     "output_type": "stream",
     "text": [
      "Creating video for A_40nM_PEG2 - Rep1: 100%|██████████| 121/121 [00:07<00:00, 15.51it/s]\n"
     ]
    },
    {
     "name": "stdout",
     "output_type": "stream",
     "text": [
      "Creating video for A_40nM_PEG3 - Rep1 with duration: 10.08 seconds.\n"
     ]
    },
    {
     "name": "stderr",
     "output_type": "stream",
     "text": [
      "Creating video for A_40nM_PEG3 - Rep1: 100%|██████████| 121/121 [00:07<00:00, 15.57it/s]\n"
     ]
    },
    {
     "name": "stdout",
     "output_type": "stream",
     "text": [
      "Creating video for A_40nM_PEG4 - Rep1 with duration: 10.08 seconds.\n"
     ]
    },
    {
     "name": "stderr",
     "output_type": "stream",
     "text": [
      "Creating video for A_40nM_PEG4 - Rep1: 100%|██████████| 121/121 [00:07<00:00, 15.46it/s]\n"
     ]
    },
    {
     "name": "stdout",
     "output_type": "stream",
     "text": [
      "Creating video for A_40nM_PEG5 - Rep1 with duration: 10.08 seconds.\n"
     ]
    },
    {
     "name": "stderr",
     "output_type": "stream",
     "text": [
      "Creating video for A_40nM_PEG5 - Rep1: 100%|██████████| 121/121 [00:07<00:00, 15.47it/s]\n"
     ]
    },
    {
     "name": "stdout",
     "output_type": "stream",
     "text": [
      "Creating video for B_1p25nM - Rep1 with duration: 10.08 seconds.\n"
     ]
    },
    {
     "name": "stderr",
     "output_type": "stream",
     "text": [
      "Creating video for B_1p25nM - Rep1: 100%|██████████| 121/121 [00:07<00:00, 15.32it/s]\n"
     ]
    },
    {
     "name": "stdout",
     "output_type": "stream",
     "text": [
      "Creating video for B_2p5nM - Rep1 with duration: 10.08 seconds.\n"
     ]
    },
    {
     "name": "stderr",
     "output_type": "stream",
     "text": [
      "Creating video for B_2p5nM - Rep1: 100%|██████████| 121/121 [00:08<00:00, 15.12it/s]\n"
     ]
    },
    {
     "name": "stdout",
     "output_type": "stream",
     "text": [
      "Creating video for B_5nM - Rep1 with duration: 10.08 seconds.\n"
     ]
    },
    {
     "name": "stderr",
     "output_type": "stream",
     "text": [
      "Creating video for B_5nM - Rep1: 100%|██████████| 121/121 [00:08<00:00, 14.79it/s]\n"
     ]
    },
    {
     "name": "stdout",
     "output_type": "stream",
     "text": [
      "Creating video for B_10nM - Rep1 with duration: 10.08 seconds.\n"
     ]
    },
    {
     "name": "stderr",
     "output_type": "stream",
     "text": [
      "Creating video for B_10nM - Rep1: 100%|██████████| 121/121 [00:08<00:00, 14.73it/s]\n"
     ]
    },
    {
     "name": "stdout",
     "output_type": "stream",
     "text": [
      "Creating video for B_20nM - Rep1 with duration: 10.08 seconds.\n"
     ]
    },
    {
     "name": "stderr",
     "output_type": "stream",
     "text": [
      "Creating video for B_20nM - Rep1: 100%|██████████| 121/121 [00:07<00:00, 15.15it/s]\n"
     ]
    },
    {
     "name": "stdout",
     "output_type": "stream",
     "text": [
      "Creating video for B_40nM - Rep1 with duration: 10.08 seconds.\n"
     ]
    },
    {
     "name": "stderr",
     "output_type": "stream",
     "text": [
      "Creating video for B_40nM - Rep1: 100%|██████████| 121/121 [00:08<00:00, 15.03it/s]\n"
     ]
    },
    {
     "name": "stdout",
     "output_type": "stream",
     "text": [
      "Creating video for B_80nM - Rep1 with duration: 10.08 seconds.\n"
     ]
    },
    {
     "name": "stderr",
     "output_type": "stream",
     "text": [
      "Creating video for B_80nM - Rep1: 100%|██████████| 121/121 [00:08<00:00, 15.01it/s]\n"
     ]
    },
    {
     "name": "stdout",
     "output_type": "stream",
     "text": [
      "Creating video for B_160nM - Rep1 with duration: 10.08 seconds.\n"
     ]
    },
    {
     "name": "stderr",
     "output_type": "stream",
     "text": [
      "Creating video for B_160nM - Rep1: 100%|██████████| 121/121 [00:08<00:00, 14.96it/s]\n"
     ]
    },
    {
     "name": "stdout",
     "output_type": "stream",
     "text": [
      "Creating video for C_1p25nM - Rep1 with duration: 10.08 seconds.\n"
     ]
    },
    {
     "name": "stderr",
     "output_type": "stream",
     "text": [
      "Creating video for C_1p25nM - Rep1: 100%|██████████| 121/121 [00:07<00:00, 15.49it/s]\n"
     ]
    },
    {
     "name": "stdout",
     "output_type": "stream",
     "text": [
      "Creating video for C_2p5nM - Rep1 with duration: 10.08 seconds.\n"
     ]
    },
    {
     "name": "stderr",
     "output_type": "stream",
     "text": [
      "Creating video for C_2p5nM - Rep1: 100%|██████████| 121/121 [00:07<00:00, 15.42it/s]\n"
     ]
    },
    {
     "name": "stdout",
     "output_type": "stream",
     "text": [
      "Creating video for C_5nM - Rep1 with duration: 10.08 seconds.\n"
     ]
    },
    {
     "name": "stderr",
     "output_type": "stream",
     "text": [
      "Creating video for C_5nM - Rep1: 100%|██████████| 121/121 [00:07<00:00, 15.15it/s]\n"
     ]
    },
    {
     "name": "stdout",
     "output_type": "stream",
     "text": [
      "Creating video for C_10nM - Rep1 with duration: 10.08 seconds.\n"
     ]
    },
    {
     "name": "stderr",
     "output_type": "stream",
     "text": [
      "Creating video for C_10nM - Rep1: 100%|██████████| 121/121 [00:07<00:00, 15.27it/s]\n"
     ]
    },
    {
     "name": "stdout",
     "output_type": "stream",
     "text": [
      "Creating video for C_20nM - Rep1 with duration: 10.08 seconds.\n"
     ]
    },
    {
     "name": "stderr",
     "output_type": "stream",
     "text": [
      "Creating video for C_20nM - Rep1: 100%|██████████| 121/121 [00:07<00:00, 15.34it/s]\n"
     ]
    },
    {
     "name": "stdout",
     "output_type": "stream",
     "text": [
      "Creating video for C_40nM - Rep1 with duration: 10.08 seconds.\n"
     ]
    },
    {
     "name": "stderr",
     "output_type": "stream",
     "text": [
      "Creating video for C_40nM - Rep1: 100%|██████████| 121/121 [00:07<00:00, 15.38it/s]\n"
     ]
    },
    {
     "name": "stdout",
     "output_type": "stream",
     "text": [
      "Creating video for C_80nM - Rep1 with duration: 10.08 seconds.\n"
     ]
    },
    {
     "name": "stderr",
     "output_type": "stream",
     "text": [
      "Creating video for C_80nM - Rep1: 100%|██████████| 121/121 [00:07<00:00, 15.22it/s]\n"
     ]
    },
    {
     "name": "stdout",
     "output_type": "stream",
     "text": [
      "Creating video for C_160nM - Rep1 with duration: 10.08 seconds.\n"
     ]
    },
    {
     "name": "stderr",
     "output_type": "stream",
     "text": [
      "Creating video for C_160nM - Rep1: 100%|██████████| 121/121 [00:07<00:00, 15.65it/s]\n"
     ]
    },
    {
     "name": "stdout",
     "output_type": "stream",
     "text": [
      "Creating video for E_1p25nM - Rep1 with duration: 10.08 seconds.\n"
     ]
    },
    {
     "name": "stderr",
     "output_type": "stream",
     "text": [
      "Creating video for E_1p25nM - Rep1: 100%|██████████| 121/121 [00:07<00:00, 16.15it/s]\n"
     ]
    },
    {
     "name": "stdout",
     "output_type": "stream",
     "text": [
      "Creating video for E_2p5nM - Rep1 with duration: 10.08 seconds.\n"
     ]
    },
    {
     "name": "stderr",
     "output_type": "stream",
     "text": [
      "Creating video for E_2p5nM - Rep1: 100%|██████████| 121/121 [00:07<00:00, 16.02it/s]\n"
     ]
    },
    {
     "name": "stdout",
     "output_type": "stream",
     "text": [
      "Creating video for E_5nM - Rep1 with duration: 10.08 seconds.\n"
     ]
    },
    {
     "name": "stderr",
     "output_type": "stream",
     "text": [
      "Creating video for E_5nM - Rep1: 100%|██████████| 121/121 [00:07<00:00, 15.81it/s]\n"
     ]
    },
    {
     "name": "stdout",
     "output_type": "stream",
     "text": [
      "Creating video for E_10nM - Rep1 with duration: 10.08 seconds.\n"
     ]
    },
    {
     "name": "stderr",
     "output_type": "stream",
     "text": [
      "Creating video for E_10nM - Rep1: 100%|██████████| 121/121 [00:07<00:00, 15.32it/s]\n"
     ]
    },
    {
     "name": "stdout",
     "output_type": "stream",
     "text": [
      "Creating video for E_20nM - Rep1 with duration: 10.08 seconds.\n"
     ]
    },
    {
     "name": "stderr",
     "output_type": "stream",
     "text": [
      "Creating video for E_20nM - Rep1: 100%|██████████| 121/121 [00:08<00:00, 14.92it/s]\n"
     ]
    },
    {
     "name": "stdout",
     "output_type": "stream",
     "text": [
      "Creating video for E_40nM - Rep1 with duration: 10.08 seconds.\n"
     ]
    },
    {
     "name": "stderr",
     "output_type": "stream",
     "text": [
      "Creating video for E_40nM - Rep1: 100%|██████████| 121/121 [00:08<00:00, 14.85it/s]\n"
     ]
    },
    {
     "name": "stdout",
     "output_type": "stream",
     "text": [
      "Creating video for E_80nM - Rep1 with duration: 10.08 seconds.\n"
     ]
    },
    {
     "name": "stderr",
     "output_type": "stream",
     "text": [
      "Creating video for E_80nM - Rep1: 100%|██████████| 121/121 [00:08<00:00, 14.71it/s]\n"
     ]
    },
    {
     "name": "stdout",
     "output_type": "stream",
     "text": [
      "Creating video for E_160nM - Rep1 with duration: 10.08 seconds.\n"
     ]
    },
    {
     "name": "stderr",
     "output_type": "stream",
     "text": [
      "Creating video for E_160nM - Rep1: 100%|██████████| 121/121 [00:07<00:00, 15.65it/s]\n"
     ]
    },
    {
     "name": "stdout",
     "output_type": "stream",
     "text": [
      "Creating video for F_1p25nM - Rep1 with duration: 10.08 seconds.\n"
     ]
    },
    {
     "name": "stderr",
     "output_type": "stream",
     "text": [
      "Creating video for F_1p25nM - Rep1: 100%|██████████| 121/121 [00:07<00:00, 15.44it/s]\n"
     ]
    },
    {
     "name": "stdout",
     "output_type": "stream",
     "text": [
      "Creating video for F_2p5nM - Rep1 with duration: 10.08 seconds.\n"
     ]
    },
    {
     "name": "stderr",
     "output_type": "stream",
     "text": [
      "Creating video for F_2p5nM - Rep1: 100%|██████████| 121/121 [00:07<00:00, 15.33it/s]\n"
     ]
    },
    {
     "name": "stdout",
     "output_type": "stream",
     "text": [
      "Creating video for F_5nM - Rep1 with duration: 10.08 seconds.\n"
     ]
    },
    {
     "name": "stderr",
     "output_type": "stream",
     "text": [
      "Creating video for F_5nM - Rep1: 100%|██████████| 121/121 [00:08<00:00, 14.77it/s]\n"
     ]
    },
    {
     "name": "stdout",
     "output_type": "stream",
     "text": [
      "Creating video for F_10nM - Rep1 with duration: 10.08 seconds.\n"
     ]
    },
    {
     "name": "stderr",
     "output_type": "stream",
     "text": [
      "Creating video for F_10nM - Rep1: 100%|██████████| 121/121 [00:07<00:00, 15.20it/s]\n"
     ]
    },
    {
     "name": "stdout",
     "output_type": "stream",
     "text": [
      "Creating video for F_20nM - Rep1 with duration: 10.08 seconds.\n"
     ]
    },
    {
     "name": "stderr",
     "output_type": "stream",
     "text": [
      "Creating video for F_20nM - Rep1: 100%|██████████| 121/121 [00:08<00:00, 14.50it/s]\n"
     ]
    },
    {
     "name": "stdout",
     "output_type": "stream",
     "text": [
      "Creating video for F_40nM - Rep1 with duration: 10.08 seconds.\n"
     ]
    },
    {
     "name": "stderr",
     "output_type": "stream",
     "text": [
      "Creating video for F_40nM - Rep1: 100%|██████████| 121/121 [00:07<00:00, 15.92it/s]\n"
     ]
    },
    {
     "name": "stdout",
     "output_type": "stream",
     "text": [
      "Creating video for F_80nM - Rep1 with duration: 10.08 seconds.\n"
     ]
    },
    {
     "name": "stderr",
     "output_type": "stream",
     "text": [
      "Creating video for F_80nM - Rep1: 100%|██████████| 121/121 [00:07<00:00, 15.71it/s]\n"
     ]
    },
    {
     "name": "stdout",
     "output_type": "stream",
     "text": [
      "Creating video for F_160nM - Rep1 with duration: 10.08 seconds.\n"
     ]
    },
    {
     "name": "stderr",
     "output_type": "stream",
     "text": [
      "Creating video for F_160nM - Rep1: 100%|██████████| 121/121 [00:07<00:00, 15.70it/s]\n"
     ]
    },
    {
     "name": "stdout",
     "output_type": "stream",
     "text": [
      "Creating video for G_1p25nM - Rep1 with duration: 10.08 seconds.\n"
     ]
    },
    {
     "name": "stderr",
     "output_type": "stream",
     "text": [
      "Creating video for G_1p25nM - Rep1: 100%|██████████| 121/121 [00:07<00:00, 15.84it/s]\n"
     ]
    },
    {
     "name": "stdout",
     "output_type": "stream",
     "text": [
      "Creating video for G_2p5nM - Rep1 with duration: 10.08 seconds.\n"
     ]
    },
    {
     "name": "stderr",
     "output_type": "stream",
     "text": [
      "Creating video for G_2p5nM - Rep1: 100%|██████████| 121/121 [00:07<00:00, 16.00it/s]\n"
     ]
    },
    {
     "name": "stdout",
     "output_type": "stream",
     "text": [
      "Creating video for G_5nM - Rep1 with duration: 10.08 seconds.\n"
     ]
    },
    {
     "name": "stderr",
     "output_type": "stream",
     "text": [
      "Creating video for G_5nM - Rep1: 100%|██████████| 121/121 [00:07<00:00, 16.02it/s]\n"
     ]
    },
    {
     "name": "stdout",
     "output_type": "stream",
     "text": [
      "Creating video for G_10nM - Rep1 with duration: 10.08 seconds.\n"
     ]
    },
    {
     "name": "stderr",
     "output_type": "stream",
     "text": [
      "Creating video for G_10nM - Rep1: 100%|██████████| 121/121 [00:07<00:00, 15.67it/s]\n"
     ]
    },
    {
     "name": "stdout",
     "output_type": "stream",
     "text": [
      "Creating video for G_20nM - Rep1 with duration: 10.08 seconds.\n"
     ]
    },
    {
     "name": "stderr",
     "output_type": "stream",
     "text": [
      "Creating video for G_20nM - Rep1: 100%|██████████| 121/121 [00:07<00:00, 15.44it/s]\n"
     ]
    },
    {
     "name": "stdout",
     "output_type": "stream",
     "text": [
      "Creating video for G_40nM - Rep1 with duration: 10.08 seconds.\n"
     ]
    },
    {
     "name": "stderr",
     "output_type": "stream",
     "text": [
      "Creating video for G_40nM - Rep1: 100%|██████████| 121/121 [00:07<00:00, 15.50it/s]\n"
     ]
    },
    {
     "name": "stdout",
     "output_type": "stream",
     "text": [
      "Creating video for G_80nM - Rep1 with duration: 10.08 seconds.\n"
     ]
    },
    {
     "name": "stderr",
     "output_type": "stream",
     "text": [
      "Creating video for G_80nM - Rep1: 100%|██████████| 121/121 [00:07<00:00, 15.94it/s]\n"
     ]
    },
    {
     "name": "stdout",
     "output_type": "stream",
     "text": [
      "Creating video for G_160nM - Rep1 with duration: 10.08 seconds.\n"
     ]
    },
    {
     "name": "stderr",
     "output_type": "stream",
     "text": [
      "Creating video for G_160nM - Rep1: 100%|██████████| 121/121 [00:07<00:00, 16.22it/s]\n"
     ]
    },
    {
     "name": "stdout",
     "output_type": "stream",
     "text": [
      "Creating video for negative - Rep1 with duration: 10.08 seconds.\n"
     ]
    },
    {
     "name": "stderr",
     "output_type": "stream",
     "text": [
      "Creating video for negative - Rep1: 100%|██████████| 121/121 [00:07<00:00, 16.28it/s]\n"
     ]
    }
   ],
   "source": [
    "# Example usage\n",
    "qd.create_movies(\n",
    "    data_path, \n",
    "    conditions, \n",
    "    subconditions, \n",
    "    channel='GFP', \n",
    "    frame_rate=12,\n",
    "    skip_frames=1\n",
    "    )\n"
   ]
  },
  {
   "cell_type": "code",
   "execution_count": 18,
   "metadata": {},
   "outputs": [
    {
     "name": "stdout",
     "output_type": "stream",
     "text": [
      "Creating video with duration: 10.08 seconds.\n"
     ]
    },
    {
     "name": "stderr",
     "output_type": "stream",
     "text": [
      "Creating combined frames: 100%|██████████| 121/121 [00:35<00:00,  3.36it/s]\n"
     ]
    },
    {
     "name": "stdout",
     "output_type": "stream",
     "text": [
      "Combined video saved to ../../../../Thomson Lab Dropbox/David Larios/activedrops/ubuntu/111024-A20nM_peg-B-C-E-F-G-titrations-RT/2p5TMB-1ulDNA_/output_data/movies/combined_heatmap_movie_GFP_12fps_121frames.avi\n"
     ]
    }
   ],
   "source": [
    "qd.create_combined_heatmap_movie_custom_grid(\n",
    "    data_path, \n",
    "    conditions, \n",
    "    subconditions, \n",
    "    channel='GFP', \n",
    "    grid_rows=2, \n",
    "    grid_cols=4, \n",
    "    frame_rate=12,\n",
    "    batch_size=50\n",
    "    )\n"
   ]
  },
  {
   "cell_type": "code",
   "execution_count": null,
   "metadata": {},
   "outputs": [],
   "source": [
    "qd.delete_temporary_image_directories(data_path, conditions, subconditions)"
   ]
  },
  {
   "cell_type": "markdown",
   "metadata": {},
   "source": [
    "### Fluorescence Quantification"
   ]
  },
  {
   "cell_type": "code",
   "execution_count": null,
   "metadata": {},
   "outputs": [],
   "source": [
    "# Example usage\n",
    "mw_kda_list = [44.5] * len(conditions)\n",
    "droplet_volume_list = [2] * len(conditions)\n",
    "protein_lengths_list = [397] * len(conditions)\n",
    "\n",
    "qd.quantify_tiffiles(\n",
    "    data_path, \n",
    "    conditions, \n",
    "    subconditions, \n",
    "    calibration_curve_paths, \n",
    "    mw_kda_list, \n",
    "    droplet_volume_list, \n",
    "    time_interval_list, \n",
    "    protein_lengths_list,\n",
    "    ribosome_count=10**9,\n",
    "    skip_frames=1,\n",
    "    subtract_negative=True\n",
    ")"
   ]
  },
  {
   "cell_type": "markdown",
   "metadata": {},
   "source": [
    "### PIV pre-processing"
   ]
  },
  {
   "cell_type": "code",
   "execution_count": null,
   "metadata": {},
   "outputs": [],
   "source": [
    "conditions"
   ]
  },
  {
   "cell_type": "code",
   "execution_count": null,
   "metadata": {},
   "outputs": [],
   "source": [
    "qd.split_tiffs(data_path, conditions, subconditions, channel='cy5', file_interval=1)\n"
   ]
  },
  {
   "cell_type": "markdown",
   "metadata": {},
   "source": [
    "### PIV"
   ]
  },
  {
   "cell_type": "code",
   "execution_count": 14,
   "metadata": {},
   "outputs": [],
   "source": [
    "# Define feature limits and other parameters\n",
    "v = 2E-7\n",
    "velocity_limits = (0, v)\n",
    "other_limits = (-0.0005, 0.0005)\n",
    "skip_frames = 1 ### CHANGE THIS TO SKIP FRAMES\n",
    "\n",
    "\n",
    "velocity_limits = (None, None)\n",
    "other_limits = (None, None)\n",
    "\n",
    "\n",
    "feature_limits = {\n",
    "    # 'u [m/s]': (-v, v), \n",
    "    # 'v [m/s]': (-v, v), \n",
    "    # 'data type [-]': (None, None),\n",
    "    'velocity magnitude [m/s]': velocity_limits,\n",
    "    'vorticity [1/s]': other_limits,\n",
    "    'divergence [1/s]': other_limits,\n",
    "    # 'dcev [1]': (0, 250),\n",
    "    'shear [1/s]': other_limits,\n",
    "    'strain [1/s]': other_limits,\n",
    "    'vector direction [degrees]': (-180, 180),\n",
    "}\n",
    "\n",
    "\n",
    "# Features for PCA and plotting\n",
    "features_pca = [\n",
    "    \"vorticity [1/s]_mean\",\n",
    "    \"velocity magnitude [um/s]\",\n",
    "    \"distance [m]_mean\",\n",
    "    \"divergence [1/s]_mean\",\n",
    "    \"shear [1/s]_mean\",\n",
    "    \"strain [1/s]_mean\",\n",
    "    \"correlation length [um]\", \n",
    "    \"power [W]_mean\",\n",
    "    \"work [J]\",\n",
    "]\n"
   ]
  },
  {
   "cell_type": "code",
   "execution_count": null,
   "metadata": {},
   "outputs": [],
   "source": [
    "conditions = conditions[::-1]\n",
    "conditions"
   ]
  },
  {
   "cell_type": "code",
   "execution_count": null,
   "metadata": {},
   "outputs": [],
   "source": [
    "time_interval_list = [8] * len(conditions)  # time intervals in seconds between frames for each condition\n",
    "\n",
    "\n",
    "# Process PIV data\n",
    "qd.process_piv_data(\n",
    "    data_path, \n",
    "    conditions,\n",
    "    subconditions, \n",
    "    feature_limits, \n",
    "    time_interval_list, \n",
    "    min_frame=0, \n",
    "    max_frame=None, \n",
    "    skip_frames=1, \n",
    "    plot_autocorrelation=False, \n",
    "    frame_rate=1, \n",
    "    heatmaps=False\n",
    "    )\n"
   ]
  },
  {
   "cell_type": "code",
   "execution_count": null,
   "metadata": {},
   "outputs": [],
   "source": [
    "conditions[:-1]\n"
   ]
  },
  {
   "cell_type": "code",
   "execution_count": null,
   "metadata": {},
   "outputs": [],
   "source": [
    "# Plot features and PCA\n",
    "qd.plot_PIV_all(\n",
    "    data_path, \n",
    "    conditions[:-1],\n",
    "    subconditions, \n",
    "    features_pca, \n",
    "    min_frame=0, \n",
    "    max_frame=None\n",
    "    )\n"
   ]
  },
  {
   "cell_type": "markdown",
   "metadata": {},
   "source": [
    "### Expression + PIV"
   ]
  },
  {
   "cell_type": "code",
   "execution_count": null,
   "metadata": {},
   "outputs": [],
   "source": [
    "# Combine the data and save it to the \"output_data\" directory\n",
    "qd.combine_averaged_dataframes(data_path, conditions, subconditions)\n"
   ]
  },
  {
   "cell_type": "code",
   "execution_count": null,
   "metadata": {},
   "outputs": [],
   "source": [
    "qd.merge_expression_piv_data(data_path)\n"
   ]
  },
  {
   "cell_type": "code",
   "execution_count": null,
   "metadata": {},
   "outputs": [],
   "source": [
    "# x_column = \"time (h)\"  # Example x-axis column\n",
    "# y_column = \"Protein Concentration_nM\"  # Example y-axis column\n",
    "\n",
    "\n",
    "# x_column = \"Protein Concentration_nM\"  # Example y-axis column\n",
    "# y_column = \"velocity magnitude [m/s]_mean\"  # Example y-axis column\n",
    "\n",
    "# x_column = \"time (h)\"  # Example x-axis column\n",
    "# y_column = \"velocity magnitude [m/s]_mean\"  # Example y-axis column\n",
    "\n",
    "# x_column = \"time (h)\"  # Example x-axis column\n",
    "# y_column = \"power [W]_mean\"  # Example y-axis column\n",
    "\n",
    "# x_column = \"time (h)\"  # Example x-axis column\n",
    "# y_column = \"work [J]_mean\"  # Example y-axis column\n",
    "\n",
    "x_column = \"time (h)\"  # Example x-axis column\n",
    "y_column = \"distance [m]_mean\"  # Example y-axis column\n",
    "\n",
    "\n",
    "qd.plot_expression_piv(\n",
    "    data_path,\n",
    "    conditions,\n",
    "    x_column, \n",
    "    y_column, \n",
    "    sigma_x=0.1, \n",
    "    sigma_y=10, \n",
    "    x_log=False, \n",
    "    y_log=True, \n",
    "    min_frame=0, \n",
    "    max_frame=None, \n",
    "    individual_plots=False\n",
    "    )"
   ]
  },
  {
   "cell_type": "code",
   "execution_count": null,
   "metadata": {},
   "outputs": [],
   "source": [
    "\n",
    "# List of features for PCA\n",
    "features_pca = [\n",
    "    \"vorticity [1/s]_mean\",\n",
    "    \"velocity magnitude [m/s]_mean\",\n",
    "    \"distance [m]_mean\",\n",
    "    \"divergence [1/s]_mean\",\n",
    "    \"shear [1/s]_mean\",\n",
    "    \"strain [1/s]_mean\",\n",
    "    \"correlation length [m]_mean\", \n",
    "    \"power [W]_mean\",\n",
    "    \"work [J]_mean\",\n",
    "    'vector direction [degrees]_mean',\n",
    "    \"Protein Concentration_nM\", \n",
    "    'time (min)'\n",
    "]\n",
    "\n",
    "# Run PCA and save plot (with all conditions and subconditions in the same plot)\n",
    "qd.plot_pca_expression_piv(data_path, conditions=conditions, subconditions=subconditions, features=features_pca, sigma=1)\n"
   ]
  },
  {
   "cell_type": "code",
   "execution_count": null,
   "metadata": {},
   "outputs": [],
   "source": [
    "\n",
    "# Example usage\n",
    "qd.delete_outputs(data_path, conditions, subconditions, output_dirs=None)\n"
   ]
  },
  {
   "cell_type": "code",
   "execution_count": null,
   "metadata": {},
   "outputs": [],
   "source": []
  }
 ],
 "metadata": {
  "kernelspec": {
   "display_name": "my_venv_3_11_5",
   "language": "python",
   "name": "python3"
  },
  "language_info": {
   "codemirror_mode": {
    "name": "ipython",
    "version": 3
   },
   "file_extension": ".py",
   "mimetype": "text/x-python",
   "name": "python",
   "nbconvert_exporter": "python",
   "pygments_lexer": "ipython3",
   "version": "3.11.5"
  }
 },
 "nbformat": 4,
 "nbformat_minor": 2
}
