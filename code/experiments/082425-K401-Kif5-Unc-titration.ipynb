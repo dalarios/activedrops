{
 "cells": [
  {
   "cell_type": "code",
   "execution_count": 1,
   "metadata": {},
   "outputs": [],
   "source": [
    "## Import relevant libraries\n",
    "import sys\n",
    "import glob\n",
    "\n",
    "sys.path.append('../../py_files/')\n",
    "import quadrop2 as qd\n",
    "\n",
    "qd.set_plotting_style()"
   ]
  },
  {
   "cell_type": "markdown",
   "metadata": {},
   "source": [
    "### Data pre-procesing"
   ]
  },
  {
   "cell_type": "code",
   "execution_count": 2,
   "metadata": {},
   "outputs": [
    {
     "name": "stdout",
     "output_type": "stream",
     "text": [
      "Consolidation appears to be already done. Directory '../../../../Thomson Lab Dropbox/David Larios/activedrops/ubuntu/082425-K401-Kif5-Unc-titration/2ulTM-0p8ulDNA_1' already exists with subfolders.\n"
     ]
    }
   ],
   "source": [
    "# Example usage\n",
    "base_dir = \"../../../../Thomson Lab Dropbox/David Larios/activedrops/ubuntu/082425-K401-Kif5-Unc-titration/\"\n",
    "qd.consolidate_images(base_dir)"
   ]
  },
  {
   "cell_type": "code",
   "execution_count": 3,
   "metadata": {},
   "outputs": [
    {
     "name": "stdout",
     "output_type": "stream",
     "text": [
      "Warning: ../../../../Thomson Lab Dropbox/David Larios/activedrops/ubuntu/082425-K401-Kif5-Unc-titration/2ulTM-0p8ulDNA_1/Pos0 does not exist. Skipping.\n",
      "Warning: ../../../../Thomson Lab Dropbox/David Larios/activedrops/ubuntu/082425-K401-Kif5-Unc-titration/2ulTM-0p8ulDNA_1/Pos1 does not exist. Skipping.\n",
      "Warning: ../../../../Thomson Lab Dropbox/David Larios/activedrops/ubuntu/082425-K401-Kif5-Unc-titration/2ulTM-0p8ulDNA_1/Pos2 does not exist. Skipping.\n",
      "Warning: ../../../../Thomson Lab Dropbox/David Larios/activedrops/ubuntu/082425-K401-Kif5-Unc-titration/2ulTM-0p8ulDNA_1/Pos3 does not exist. Skipping.\n",
      "Warning: ../../../../Thomson Lab Dropbox/David Larios/activedrops/ubuntu/082425-K401-Kif5-Unc-titration/2ulTM-0p8ulDNA_1/Pos4 does not exist. Skipping.\n",
      "Warning: ../../../../Thomson Lab Dropbox/David Larios/activedrops/ubuntu/082425-K401-Kif5-Unc-titration/2ulTM-0p8ulDNA_1/Pos5 does not exist. Skipping.\n",
      "Warning: ../../../../Thomson Lab Dropbox/David Larios/activedrops/ubuntu/082425-K401-Kif5-Unc-titration/2ulTM-0p8ulDNA_1/Pos6 does not exist. Skipping.\n",
      "Warning: ../../../../Thomson Lab Dropbox/David Larios/activedrops/ubuntu/082425-K401-Kif5-Unc-titration/2ulTM-0p8ulDNA_1/Pos7 does not exist. Skipping.\n",
      "Warning: ../../../../Thomson Lab Dropbox/David Larios/activedrops/ubuntu/082425-K401-Kif5-Unc-titration/2ulTM-0p8ulDNA_1/Pos8 does not exist. Skipping.\n",
      "Warning: ../../../../Thomson Lab Dropbox/David Larios/activedrops/ubuntu/082425-K401-Kif5-Unc-titration/2ulTM-0p8ulDNA_1/Pos9 does not exist. Skipping.\n",
      "Warning: ../../../../Thomson Lab Dropbox/David Larios/activedrops/ubuntu/082425-K401-Kif5-Unc-titration/2ulTM-0p8ulDNA_1/Pos10 does not exist. Skipping.\n",
      "Warning: ../../../../Thomson Lab Dropbox/David Larios/activedrops/ubuntu/082425-K401-Kif5-Unc-titration/2ulTM-0p8ulDNA_1/Pos11 does not exist. Skipping.\n",
      "Warning: ../../../../Thomson Lab Dropbox/David Larios/activedrops/ubuntu/082425-K401-Kif5-Unc-titration/2ulTM-0p8ulDNA_1/Pos12 does not exist. Skipping.\n",
      "Warning: ../../../../Thomson Lab Dropbox/David Larios/activedrops/ubuntu/082425-K401-Kif5-Unc-titration/2ulTM-0p8ulDNA_1/Pos13 does not exist. Skipping.\n",
      "Warning: ../../../../Thomson Lab Dropbox/David Larios/activedrops/ubuntu/082425-K401-Kif5-Unc-titration/2ulTM-0p8ulDNA_1/Pos14 does not exist. Skipping.\n",
      "Warning: ../../../../Thomson Lab Dropbox/David Larios/activedrops/ubuntu/082425-K401-Kif5-Unc-titration/2ulTM-0p8ulDNA_1/Pos15 does not exist. Skipping.\n",
      "Warning: ../../../../Thomson Lab Dropbox/David Larios/activedrops/ubuntu/082425-K401-Kif5-Unc-titration/2ulTM-0p8ulDNA_1/Pos16 does not exist. Skipping.\n",
      "Warning: ../../../../Thomson Lab Dropbox/David Larios/activedrops/ubuntu/082425-K401-Kif5-Unc-titration/2ulTM-0p8ulDNA_1/Pos17 does not exist. Skipping.\n",
      "Conditions: ['Unc_5nM', 'Unc_10nM', 'Unc_20nM', 'Unc_40nM', 'Unc_80nM', 'Unc_160nM', 'k401_5nM', 'k401_10nM', 'k401_20nM', 'k401_40nM', 'k401_80nM', 'k401_160nM', 'kif5_5nM', 'kif5_10nM', 'kif5_20nM', 'kif5_40nM', 'kif5_80nM', 'kif5_160nM']\n",
      "Subconditions: ['Rep1']\n"
     ]
    }
   ],
   "source": [
    "# Example usage\n",
    "data_path = \"../../../../Thomson Lab Dropbox/David Larios/activedrops/ubuntu/082425-K401-Kif5-Unc-titration/2ulTM-0p8ulDNA_1/\"\n",
    "\n",
    "calibration_curve_paths = sorted(glob.glob(\"../../../../Thomson Lab Dropbox/David Larios/activedrops/calibration_curve/***ugml.tif\"))\n",
    "\n",
    "\n",
    "conditions_dict = {\n",
    "    \"k401_160nM\": \"Pos0\",\n",
    "    \"k401_80nM\": \"Pos1\",\n",
    "    \"k401_40nM\": \"Pos2\",\n",
    "    \"k401_20nM\": \"Pos3\",\n",
    "    \"k401_10nM\": \"Pos4\",\n",
    "    \"k401_5nM\": \"Pos5\",\n",
    "    \"kif5_160nM\": \"Pos6\",\n",
    "    \"kif5_80nM\": \"Pos7\",\n",
    "    \"kif5_40nM\": \"Pos8\",\n",
    "    \"kif5_20nM\": \"Pos9\",\n",
    "    \"kif5_10nM\": \"Pos10\",\n",
    "    \"kif5_5nM\": \"Pos11\",\n",
    "    \"Unc_160nM\": \"Pos12\",\n",
    "    \"Unc_80nM\": \"Pos13\",\n",
    "    \"Unc_40nM\": \"Pos14\",\n",
    "    \"Unc_20nM\": \"Pos15\",\n",
    "    \"Unc_10nM\": \"Pos16\",\n",
    "    \"Unc_5nM\": \"Pos17\"\n",
    "}\n",
    "\n",
    "\n",
    "\n",
    "# Organize PosX folders into condition folders\n",
    "qd.organize_conditions(data_path, conditions_dict)\n",
    "\n",
    "# Now run the existing functions to reorganize the tiffs and rename the folders\n",
    "conditions, subconditions = qd.prepare_conditions(data_path)\n",
    "time_interval_list = [90] * len(conditions)  # time intervals in seconds between frames for each condition\n",
    "\n",
    "# subconditions = ['Rep1']\n",
    "print(\"Conditions:\", conditions)\n",
    "print(\"Subconditions:\", subconditions)\n",
    "\n"
   ]
  },
  {
   "cell_type": "code",
   "execution_count": 5,
   "metadata": {},
   "outputs": [
    {
     "name": "stdout",
     "output_type": "stream",
     "text": [
      "Moved .tif files from ../../../../Thomson Lab Dropbox/David Larios/activedrops/ubuntu/082425-K401-Kif5-Unc-titration/2ulTM-0p8ulDNA_1/Unc_5nM/Rep1 to ../../../../Thomson Lab Dropbox/David Larios/activedrops/ubuntu/082425-K401-Kif5-Unc-titration/2ulTM-0p8ulDNA_1/Unc_5nM/Rep1/original\n",
      "Moved .tif files from ../../../../Thomson Lab Dropbox/David Larios/activedrops/ubuntu/082425-K401-Kif5-Unc-titration/2ulTM-0p8ulDNA_1/Unc_10nM/Rep1 to ../../../../Thomson Lab Dropbox/David Larios/activedrops/ubuntu/082425-K401-Kif5-Unc-titration/2ulTM-0p8ulDNA_1/Unc_10nM/Rep1/original\n",
      "Moved .tif files from ../../../../Thomson Lab Dropbox/David Larios/activedrops/ubuntu/082425-K401-Kif5-Unc-titration/2ulTM-0p8ulDNA_1/Unc_20nM/Rep1 to ../../../../Thomson Lab Dropbox/David Larios/activedrops/ubuntu/082425-K401-Kif5-Unc-titration/2ulTM-0p8ulDNA_1/Unc_20nM/Rep1/original\n",
      "Moved .tif files from ../../../../Thomson Lab Dropbox/David Larios/activedrops/ubuntu/082425-K401-Kif5-Unc-titration/2ulTM-0p8ulDNA_1/Unc_40nM/Rep1 to ../../../../Thomson Lab Dropbox/David Larios/activedrops/ubuntu/082425-K401-Kif5-Unc-titration/2ulTM-0p8ulDNA_1/Unc_40nM/Rep1/original\n",
      "Moved .tif files from ../../../../Thomson Lab Dropbox/David Larios/activedrops/ubuntu/082425-K401-Kif5-Unc-titration/2ulTM-0p8ulDNA_1/Unc_80nM/Rep1 to ../../../../Thomson Lab Dropbox/David Larios/activedrops/ubuntu/082425-K401-Kif5-Unc-titration/2ulTM-0p8ulDNA_1/Unc_80nM/Rep1/original\n",
      "Moved .tif files from ../../../../Thomson Lab Dropbox/David Larios/activedrops/ubuntu/082425-K401-Kif5-Unc-titration/2ulTM-0p8ulDNA_1/Unc_160nM/Rep1 to ../../../../Thomson Lab Dropbox/David Larios/activedrops/ubuntu/082425-K401-Kif5-Unc-titration/2ulTM-0p8ulDNA_1/Unc_160nM/Rep1/original\n",
      "Moved .tif files from ../../../../Thomson Lab Dropbox/David Larios/activedrops/ubuntu/082425-K401-Kif5-Unc-titration/2ulTM-0p8ulDNA_1/k401_5nM/Rep1 to ../../../../Thomson Lab Dropbox/David Larios/activedrops/ubuntu/082425-K401-Kif5-Unc-titration/2ulTM-0p8ulDNA_1/k401_5nM/Rep1/original\n",
      "Moved .tif files from ../../../../Thomson Lab Dropbox/David Larios/activedrops/ubuntu/082425-K401-Kif5-Unc-titration/2ulTM-0p8ulDNA_1/k401_10nM/Rep1 to ../../../../Thomson Lab Dropbox/David Larios/activedrops/ubuntu/082425-K401-Kif5-Unc-titration/2ulTM-0p8ulDNA_1/k401_10nM/Rep1/original\n",
      "Moved .tif files from ../../../../Thomson Lab Dropbox/David Larios/activedrops/ubuntu/082425-K401-Kif5-Unc-titration/2ulTM-0p8ulDNA_1/k401_20nM/Rep1 to ../../../../Thomson Lab Dropbox/David Larios/activedrops/ubuntu/082425-K401-Kif5-Unc-titration/2ulTM-0p8ulDNA_1/k401_20nM/Rep1/original\n",
      "Moved .tif files from ../../../../Thomson Lab Dropbox/David Larios/activedrops/ubuntu/082425-K401-Kif5-Unc-titration/2ulTM-0p8ulDNA_1/k401_40nM/Rep1 to ../../../../Thomson Lab Dropbox/David Larios/activedrops/ubuntu/082425-K401-Kif5-Unc-titration/2ulTM-0p8ulDNA_1/k401_40nM/Rep1/original\n",
      "Moved .tif files from ../../../../Thomson Lab Dropbox/David Larios/activedrops/ubuntu/082425-K401-Kif5-Unc-titration/2ulTM-0p8ulDNA_1/k401_80nM/Rep1 to ../../../../Thomson Lab Dropbox/David Larios/activedrops/ubuntu/082425-K401-Kif5-Unc-titration/2ulTM-0p8ulDNA_1/k401_80nM/Rep1/original\n",
      "Moved .tif files from ../../../../Thomson Lab Dropbox/David Larios/activedrops/ubuntu/082425-K401-Kif5-Unc-titration/2ulTM-0p8ulDNA_1/k401_160nM/Rep1 to ../../../../Thomson Lab Dropbox/David Larios/activedrops/ubuntu/082425-K401-Kif5-Unc-titration/2ulTM-0p8ulDNA_1/k401_160nM/Rep1/original\n",
      "Moved .tif files from ../../../../Thomson Lab Dropbox/David Larios/activedrops/ubuntu/082425-K401-Kif5-Unc-titration/2ulTM-0p8ulDNA_1/kif5_5nM/Rep1 to ../../../../Thomson Lab Dropbox/David Larios/activedrops/ubuntu/082425-K401-Kif5-Unc-titration/2ulTM-0p8ulDNA_1/kif5_5nM/Rep1/original\n",
      "Moved .tif files from ../../../../Thomson Lab Dropbox/David Larios/activedrops/ubuntu/082425-K401-Kif5-Unc-titration/2ulTM-0p8ulDNA_1/kif5_10nM/Rep1 to ../../../../Thomson Lab Dropbox/David Larios/activedrops/ubuntu/082425-K401-Kif5-Unc-titration/2ulTM-0p8ulDNA_1/kif5_10nM/Rep1/original\n",
      "Moved .tif files from ../../../../Thomson Lab Dropbox/David Larios/activedrops/ubuntu/082425-K401-Kif5-Unc-titration/2ulTM-0p8ulDNA_1/kif5_20nM/Rep1 to ../../../../Thomson Lab Dropbox/David Larios/activedrops/ubuntu/082425-K401-Kif5-Unc-titration/2ulTM-0p8ulDNA_1/kif5_20nM/Rep1/original\n",
      "Moved .tif files from ../../../../Thomson Lab Dropbox/David Larios/activedrops/ubuntu/082425-K401-Kif5-Unc-titration/2ulTM-0p8ulDNA_1/kif5_40nM/Rep1 to ../../../../Thomson Lab Dropbox/David Larios/activedrops/ubuntu/082425-K401-Kif5-Unc-titration/2ulTM-0p8ulDNA_1/kif5_40nM/Rep1/original\n",
      "Moved .tif files from ../../../../Thomson Lab Dropbox/David Larios/activedrops/ubuntu/082425-K401-Kif5-Unc-titration/2ulTM-0p8ulDNA_1/kif5_80nM/Rep1 to ../../../../Thomson Lab Dropbox/David Larios/activedrops/ubuntu/082425-K401-Kif5-Unc-titration/2ulTM-0p8ulDNA_1/kif5_80nM/Rep1/original\n",
      "Moved .tif files from ../../../../Thomson Lab Dropbox/David Larios/activedrops/ubuntu/082425-K401-Kif5-Unc-titration/2ulTM-0p8ulDNA_1/kif5_160nM/Rep1 to ../../../../Thomson Lab Dropbox/David Larios/activedrops/ubuntu/082425-K401-Kif5-Unc-titration/2ulTM-0p8ulDNA_1/kif5_160nM/Rep1/original\n"
     ]
    }
   ],
   "source": [
    "qd.reorgTiffsToOriginal(data_path, conditions, subconditions)\n"
   ]
  },
  {
   "cell_type": "markdown",
   "metadata": {},
   "source": [
    "### Generate movies"
   ]
  },
  {
   "cell_type": "code",
   "execution_count": null,
   "metadata": {},
   "outputs": [
    {
     "data": {
      "text/plain": [
       "['Unc_5nM',\n",
       " 'Unc_10nM',\n",
       " 'Unc_20nM',\n",
       " 'Unc_40nM',\n",
       " 'Unc_80nM',\n",
       " 'Unc_160nM',\n",
       " 'k401_5nM',\n",
       " 'k401_10nM',\n",
       " 'k401_20nM',\n",
       " 'k401_40nM',\n",
       " 'k401_80nM',\n",
       " 'k401_160nM',\n",
       " 'kif5_5nM',\n",
       " 'kif5_10nM',\n",
       " 'kif5_20nM',\n",
       " 'kif5_40nM',\n",
       " 'kif5_80nM',\n",
       " 'kif5_160nM']"
      ]
     },
     "execution_count": 7,
     "metadata": {},
     "output_type": "execute_result"
    }
   ],
   "source": [
    "conditions"
   ]
  },
  {
   "cell_type": "code",
   "execution_count": 18,
   "metadata": {},
   "outputs": [
    {
     "name": "stderr",
     "output_type": "stream",
     "text": [
      "Processing Unc_5nM - Rep1: 100%|██████████| 700/700 [02:01<00:00,  5.77it/s]\n",
      "Processing Unc_10nM - Rep1: 100%|██████████| 700/700 [02:01<00:00,  5.75it/s]\n",
      "Processing Unc_20nM - Rep1: 100%|██████████| 700/700 [02:02<00:00,  5.71it/s]\n",
      "Processing Unc_40nM - Rep1: 100%|██████████| 700/700 [02:02<00:00,  5.70it/s]\n",
      "Processing Unc_80nM - Rep1: 100%|██████████| 700/700 [01:59<00:00,  5.83it/s]\n",
      "Processing Unc_160nM - Rep1: 100%|██████████| 700/700 [01:59<00:00,  5.84it/s]\n",
      "Processing k401_5nM - Rep1: 100%|██████████| 700/700 [01:59<00:00,  5.84it/s]\n",
      "Processing k401_10nM - Rep1: 100%|██████████| 700/700 [01:58<00:00,  5.89it/s]\n",
      "Processing k401_20nM - Rep1: 100%|██████████| 700/700 [01:58<00:00,  5.92it/s]\n",
      "Processing k401_40nM - Rep1: 100%|██████████| 700/700 [02:01<00:00,  5.78it/s]\n",
      "Processing k401_80nM - Rep1: 100%|██████████| 700/700 [01:57<00:00,  5.95it/s]\n",
      "Processing k401_160nM - Rep1: 100%|██████████| 700/700 [01:45<00:00,  6.61it/s]\n",
      "Processing kif5_5nM - Rep1: 100%|██████████| 700/700 [01:47<00:00,  6.53it/s]\n",
      "Processing kif5_10nM - Rep1: 100%|██████████| 700/700 [01:52<00:00,  6.20it/s]\n",
      "Processing kif5_20nM - Rep1: 100%|██████████| 700/700 [02:02<00:00,  5.70it/s]\n",
      "Processing kif5_40nM - Rep1: 100%|██████████| 700/700 [02:01<00:00,  5.77it/s]\n",
      "Processing kif5_80nM - Rep1: 100%|██████████| 700/700 [02:01<00:00,  5.78it/s]\n",
      "Processing kif5_160nM - Rep1: 100%|██████████| 700/700 [01:58<00:00,  5.89it/s]\n"
     ]
    }
   ],
   "source": [
    "# Call the function\n",
    "qd.fluorescence_heatmap(\n",
    "    data_path, \n",
    "    conditions, \n",
    "    subconditions, \n",
    "    channel='cy5', \n",
    "    time_interval_list=time_interval_list, \n",
    "    vmax=22, \n",
    "    skip_frames=2, \n",
    "    calibration_curve_paths=calibration_curve_paths, \n",
    "    show_scalebar=False,        \n",
    "    )"
   ]
  },
  {
   "cell_type": "code",
   "execution_count": 19,
   "metadata": {},
   "outputs": [
    {
     "name": "stdout",
     "output_type": "stream",
     "text": [
      "Creating video for Unc_5nM - Rep1 with duration: 11.67 seconds.\n"
     ]
    },
    {
     "name": "stderr",
     "output_type": "stream",
     "text": [
      "Creating video for Unc_5nM - Rep1: 100%|██████████| 700/700 [01:08<00:00, 10.19it/s]\n"
     ]
    },
    {
     "name": "stdout",
     "output_type": "stream",
     "text": [
      "Creating video for Unc_10nM - Rep1 with duration: 11.67 seconds.\n"
     ]
    },
    {
     "name": "stderr",
     "output_type": "stream",
     "text": [
      "Creating video for Unc_10nM - Rep1: 100%|██████████| 700/700 [01:15<00:00,  9.25it/s]\n"
     ]
    },
    {
     "name": "stdout",
     "output_type": "stream",
     "text": [
      "Creating video for Unc_20nM - Rep1 with duration: 11.67 seconds.\n"
     ]
    },
    {
     "name": "stderr",
     "output_type": "stream",
     "text": [
      "Creating video for Unc_20nM - Rep1: 100%|██████████| 700/700 [01:16<00:00,  9.19it/s]\n"
     ]
    },
    {
     "name": "stdout",
     "output_type": "stream",
     "text": [
      "Creating video for Unc_40nM - Rep1 with duration: 11.67 seconds.\n"
     ]
    },
    {
     "name": "stderr",
     "output_type": "stream",
     "text": [
      "Creating video for Unc_40nM - Rep1: 100%|██████████| 700/700 [01:11<00:00,  9.72it/s]\n"
     ]
    },
    {
     "name": "stdout",
     "output_type": "stream",
     "text": [
      "Creating video for Unc_80nM - Rep1 with duration: 11.67 seconds.\n"
     ]
    },
    {
     "name": "stderr",
     "output_type": "stream",
     "text": [
      "Creating video for Unc_80nM - Rep1: 100%|██████████| 700/700 [01:13<00:00,  9.57it/s]\n"
     ]
    },
    {
     "name": "stdout",
     "output_type": "stream",
     "text": [
      "Creating video for Unc_160nM - Rep1 with duration: 11.67 seconds.\n"
     ]
    },
    {
     "name": "stderr",
     "output_type": "stream",
     "text": [
      "Creating video for Unc_160nM - Rep1: 100%|██████████| 700/700 [01:19<00:00,  8.81it/s]\n"
     ]
    },
    {
     "name": "stdout",
     "output_type": "stream",
     "text": [
      "Creating video for k401_5nM - Rep1 with duration: 11.67 seconds.\n"
     ]
    },
    {
     "name": "stderr",
     "output_type": "stream",
     "text": [
      "Creating video for k401_5nM - Rep1: 100%|██████████| 700/700 [01:12<00:00,  9.69it/s]\n"
     ]
    },
    {
     "name": "stdout",
     "output_type": "stream",
     "text": [
      "Creating video for k401_10nM - Rep1 with duration: 11.67 seconds.\n"
     ]
    },
    {
     "name": "stderr",
     "output_type": "stream",
     "text": [
      "Creating video for k401_10nM - Rep1: 100%|██████████| 700/700 [01:10<00:00,  9.96it/s]\n"
     ]
    },
    {
     "name": "stdout",
     "output_type": "stream",
     "text": [
      "Creating video for k401_20nM - Rep1 with duration: 11.67 seconds.\n"
     ]
    },
    {
     "name": "stderr",
     "output_type": "stream",
     "text": [
      "Creating video for k401_20nM - Rep1: 100%|██████████| 700/700 [01:14<00:00,  9.45it/s]\n"
     ]
    },
    {
     "name": "stdout",
     "output_type": "stream",
     "text": [
      "Creating video for k401_40nM - Rep1 with duration: 11.67 seconds.\n"
     ]
    },
    {
     "name": "stderr",
     "output_type": "stream",
     "text": [
      "Creating video for k401_40nM - Rep1: 100%|██████████| 700/700 [01:18<00:00,  8.89it/s]\n"
     ]
    },
    {
     "name": "stdout",
     "output_type": "stream",
     "text": [
      "Creating video for k401_80nM - Rep1 with duration: 11.67 seconds.\n"
     ]
    },
    {
     "name": "stderr",
     "output_type": "stream",
     "text": [
      "Creating video for k401_80nM - Rep1: 100%|██████████| 700/700 [01:04<00:00, 10.78it/s]\n"
     ]
    },
    {
     "name": "stdout",
     "output_type": "stream",
     "text": [
      "Creating video for k401_160nM - Rep1 with duration: 11.67 seconds.\n"
     ]
    },
    {
     "name": "stderr",
     "output_type": "stream",
     "text": [
      "Creating video for k401_160nM - Rep1: 100%|██████████| 700/700 [01:19<00:00,  8.81it/s]\n"
     ]
    },
    {
     "name": "stdout",
     "output_type": "stream",
     "text": [
      "Creating video for kif5_5nM - Rep1 with duration: 11.67 seconds.\n"
     ]
    },
    {
     "name": "stderr",
     "output_type": "stream",
     "text": [
      "Creating video for kif5_5nM - Rep1: 100%|██████████| 700/700 [01:13<00:00,  9.49it/s]\n"
     ]
    },
    {
     "name": "stdout",
     "output_type": "stream",
     "text": [
      "Creating video for kif5_10nM - Rep1 with duration: 11.67 seconds.\n"
     ]
    },
    {
     "name": "stderr",
     "output_type": "stream",
     "text": [
      "Creating video for kif5_10nM - Rep1: 100%|██████████| 700/700 [01:08<00:00, 10.23it/s]\n"
     ]
    },
    {
     "name": "stdout",
     "output_type": "stream",
     "text": [
      "Creating video for kif5_20nM - Rep1 with duration: 11.67 seconds.\n"
     ]
    },
    {
     "name": "stderr",
     "output_type": "stream",
     "text": [
      "Creating video for kif5_20nM - Rep1: 100%|██████████| 700/700 [01:19<00:00,  8.83it/s]\n"
     ]
    },
    {
     "name": "stdout",
     "output_type": "stream",
     "text": [
      "Creating video for kif5_40nM - Rep1 with duration: 11.67 seconds.\n"
     ]
    },
    {
     "name": "stderr",
     "output_type": "stream",
     "text": [
      "Creating video for kif5_40nM - Rep1: 100%|██████████| 700/700 [01:10<00:00,  9.89it/s]\n"
     ]
    },
    {
     "name": "stdout",
     "output_type": "stream",
     "text": [
      "Creating video for kif5_80nM - Rep1 with duration: 11.67 seconds.\n"
     ]
    },
    {
     "name": "stderr",
     "output_type": "stream",
     "text": [
      "Creating video for kif5_80nM - Rep1: 100%|██████████| 700/700 [01:10<00:00,  9.99it/s]\n"
     ]
    },
    {
     "name": "stdout",
     "output_type": "stream",
     "text": [
      "Creating video for kif5_160nM - Rep1 with duration: 11.67 seconds.\n"
     ]
    },
    {
     "name": "stderr",
     "output_type": "stream",
     "text": [
      "Creating video for kif5_160nM - Rep1: 100%|██████████| 700/700 [01:12<00:00,  9.62it/s]\n"
     ]
    }
   ],
   "source": [
    "# Example usage\n",
    "qd.create_movies(\n",
    "    data_path, \n",
    "    conditions, \n",
    "    subconditions, \n",
    "    channel='cy5', \n",
    "    frame_rate=60,\n",
    "    skip_frames=1\n",
    "    )\n"
   ]
  },
  {
   "cell_type": "code",
   "execution_count": null,
   "metadata": {},
   "outputs": [
    {
     "data": {
      "text/plain": [
       "['k401_160nM',\n",
       " 'k401_80nM',\n",
       " 'k401_40nM',\n",
       " 'k401_20nM',\n",
       " 'k401_10nM',\n",
       " 'k401_5nM',\n",
       " 'Unc_160nM',\n",
       " 'Unc_80nM',\n",
       " 'Unc_40nM',\n",
       " 'Unc_20nM',\n",
       " 'Unc_10nM',\n",
       " 'Unc_5nM']"
      ]
     },
     "execution_count": 23,
     "metadata": {},
     "output_type": "execute_result"
    }
   ],
   "source": [
    "conditions[:12:][::-1]"
   ]
  },
  {
   "cell_type": "code",
   "execution_count": 24,
   "metadata": {},
   "outputs": [
    {
     "name": "stdout",
     "output_type": "stream",
     "text": [
      "Creating video with duration: 11.67 seconds.\n"
     ]
    },
    {
     "name": "stderr",
     "output_type": "stream",
     "text": [
      "Creating combined frames: 100%|██████████| 700/700 [08:23<00:00,  1.39it/s]\n"
     ]
    },
    {
     "name": "stdout",
     "output_type": "stream",
     "text": [
      "Combined video saved to ../../../../Thomson Lab Dropbox/David Larios/activedrops/ubuntu/082425-K401-Kif5-Unc-titration/2ulTM-0p8ulDNA_1/output_data/movies/combined_heatmap_movie_cy5_60fps_700frames.avi\n"
     ]
    }
   ],
   "source": [
    "qd.create_combined_heatmap_movie_custom_grid(\n",
    "    data_path, \n",
    "    conditions[:12:][::-1], \n",
    "    subconditions, \n",
    "    channel='cy5', \n",
    "    grid_rows=2, \n",
    "    grid_cols=6, \n",
    "    frame_rate=60,\n",
    "    batch_size=50\n",
    "    )\n"
   ]
  },
  {
   "cell_type": "markdown",
   "metadata": {},
   "source": []
  },
  {
   "cell_type": "code",
   "execution_count": null,
   "metadata": {},
   "outputs": [],
   "source": [
    "# Call the function\n",
    "qd.fluorescence_heatmap(\n",
    "    data_path, \n",
    "    conditions[:], \n",
    "    subconditions, \n",
    "    channel='DAPI', \n",
    "    time_interval_list=time_interval_list, \n",
    "    vmax=200, \n",
    "    skip_frames=4, \n",
    "    calibration_curve_paths=calibration_curve_paths, \n",
    "    show_scalebar=True,\n",
    "    )"
   ]
  },
  {
   "cell_type": "code",
   "execution_count": null,
   "metadata": {},
   "outputs": [],
   "source": [
    "# Example usage\n",
    "qd.create_movies(\n",
    "    data_path, \n",
    "    conditions, \n",
    "    subconditions, \n",
    "    channel='DAPI', \n",
    "    frame_rate=15,\n",
    "    skip_frames=1\n",
    "    )\n"
   ]
  },
  {
   "cell_type": "code",
   "execution_count": null,
   "metadata": {},
   "outputs": [],
   "source": [
    "qd.create_combined_heatmap_movie_custom_grid(\n",
    "    data_path, \n",
    "    conditions, \n",
    "    subconditions, \n",
    "    channel='DAPI', \n",
    "    grid_rows=3, \n",
    "    grid_cols=3,       \n",
    "    frame_rate=15,\n",
    "    batch_size=50\n",
    "    )\n"
   ]
  },
  {
   "cell_type": "code",
   "execution_count": null,
   "metadata": {},
   "outputs": [],
   "source": [
    "# qd.delete_temporary_image_directories(data_path, conditions, subconditions)"
   ]
  },
  {
   "cell_type": "markdown",
   "metadata": {},
   "source": [
    "### Fluorescence Quantification"
   ]
  },
  {
   "cell_type": "code",
   "execution_count": null,
   "metadata": {},
   "outputs": [],
   "source": [
    "conditions"
   ]
  },
  {
   "cell_type": "code",
   "execution_count": null,
   "metadata": {},
   "outputs": [],
   "source": [
    "# Example usage\n",
    "# mw_kda_list = [44.95] * len(conditions)\n",
    "droplet_volume_list = [2] * len(conditions)\n",
    "# protein_lengths_list = [401] * len(conditions) # last one is negative\n",
    "\n",
    "qd.quantify_tiffiles(\n",
    "    data_path, \n",
    "    conditions, \n",
    "    subconditions, \n",
    "    calibration_curve_paths, \n",
    "    droplet_volume_list, \n",
    "    time_interval_list, \n",
    "    skip_frames=1,\n",
    "\n",
    ")"
   ]
  },
  {
   "cell_type": "markdown",
   "metadata": {},
   "source": [
    "### PIV pre-processing"
   ]
  },
  {
   "cell_type": "code",
   "execution_count": 4,
   "metadata": {},
   "outputs": [
    {
     "data": {
      "text/plain": [
       "['Unc_5nM',\n",
       " 'Unc_10nM',\n",
       " 'Unc_20nM',\n",
       " 'Unc_40nM',\n",
       " 'Unc_80nM',\n",
       " 'Unc_160nM',\n",
       " 'k401_5nM',\n",
       " 'k401_10nM',\n",
       " 'k401_20nM',\n",
       " 'k401_40nM',\n",
       " 'k401_80nM',\n",
       " 'k401_160nM']"
      ]
     },
     "execution_count": 4,
     "metadata": {},
     "output_type": "execute_result"
    }
   ],
   "source": [
    "conditions[:12:]"
   ]
  },
  {
   "cell_type": "code",
   "execution_count": null,
   "metadata": {},
   "outputs": [],
   "source": [
    "qd.split_tiffs(data_path, conditions[:12:], subconditions, channel='cy5', file_interval=1)\n",
    "\n"
   ]
  },
  {
   "cell_type": "markdown",
   "metadata": {},
   "source": [
    "### PIV"
   ]
  },
  {
   "cell_type": "code",
   "execution_count": null,
   "metadata": {},
   "outputs": [],
   "source": [
    "# Define feature limits and other parameters\n",
    "v = 2E-7\n",
    "velocity_limits = (0, v)\n",
    "other_limits = (-0.0005, 0.0005)\n",
    "skip_frames = 1 ### CHANGE THIS TO SKIP FRAMES\n",
    "\n",
    "\n",
    "velocity_limits = (None, None)\n",
    "other_limits = (None, None)\n",
    "\n",
    "\n",
    "feature_limits = {\n",
    "    # 'u [m/s]': (-v, v), \n",
    "    # 'v [m/s]': (-v, v), \n",
    "    # 'data type [-]': (None, None),\n",
    "    'velocity magnitude [m/s]': velocity_limits,\n",
    "    'vorticity [1/s]': other_limits,\n",
    "    'divergence [1/s]': other_limits,\n",
    "    # 'dcev [1]': (0, 250),\n",
    "    'shear [1/s]': other_limits,\n",
    "    'strain [1/s]': other_limits,\n",
    "    'vector direction [degrees]': (-180, 180),\n",
    "}\n",
    "\n",
    "\n",
    "# Features for PCA and plotting\n",
    "features_pca = [\n",
    "    \"vorticity [1/s]_mean\",\n",
    "    \"velocity magnitude [um/s]\",\n",
    "    \"distance [m]_mean\",\n",
    "    \"divergence [1/s]_mean\",\n",
    "    \"shear [1/s]_mean\",\n",
    "    \"strain [1/s]_mean\",\n",
    "    \"correlation length [um]\", \n",
    "    \"power [W]_mean\",\n",
    "    \"work [J]\",\n",
    "]\n"
   ]
  },
  {
   "cell_type": "code",
   "execution_count": null,
   "metadata": {},
   "outputs": [],
   "source": [
    "conditions[::]"
   ]
  },
  {
   "cell_type": "code",
   "execution_count": null,
   "metadata": {},
   "outputs": [],
   "source": [
    "time_interval_list = [30*12, 30*18, 30*18, 30*18, 30*18, 30*18, 30*18, 30*18,  ]  # time intervals in seconds between frames for each condition\n",
    "\n",
    "\n",
    "# Process PIV data\n",
    "qd.process_piv_data(\n",
    "    data_path, \n",
    "    conditions,    \n",
    "    subconditions, \n",
    "    feature_limits, \n",
    "    time_interval_list, \n",
    "    min_frame=0, \n",
    "    max_frame=None, \n",
    "    skip_frames=1, \n",
    "    plot_autocorrelation=False, \n",
    "    frame_rate=1, \n",
    "    heatmaps=False\n",
    "    )\n"
   ]
  },
  {
   "cell_type": "code",
   "execution_count": null,
   "metadata": {},
   "outputs": [],
   "source": [
    "# Plot features and PCA\n",
    "qd.plot_PIV_all(\n",
    "    data_path, \n",
    "    conditions[:5:-1],\n",
    "    subconditions, \n",
    "    features_pca, \n",
    "    min_frame=0, \n",
    "    max_frame=None\n",
    "    )\n"
   ]
  },
  {
   "cell_type": "markdown",
   "metadata": {},
   "source": [
    "### Expression + PIV"
   ]
  },
  {
   "cell_type": "code",
   "execution_count": null,
   "metadata": {},
   "outputs": [],
   "source": [
    "# Combine the data and save it to the \"output_data\" directory\n",
    "qd.combine_averaged_dataframes(data_path, conditions, subconditions)\n"
   ]
  },
  {
   "cell_type": "code",
   "execution_count": null,
   "metadata": {},
   "outputs": [],
   "source": [
    "qd.merge_expression_piv_data(data_path)\n"
   ]
  },
  {
   "cell_type": "code",
   "execution_count": null,
   "metadata": {},
   "outputs": [],
   "source": [
    "# x_column = \"time (h)\"  # Example x-axis column\n",
    "# y_column = \"Protein Concentration_nM\"  # Example y-axis column\n",
    "\n",
    "\n",
    "# x_column = \"Protein Concentration_nM\"  # Example y-axis column\n",
    "# y_column = \"velocity magnitude [m/s]_mean\"  # Example y-axis column\n",
    "\n",
    "# x_column = \"time (h)\"  # Example x-axis column\n",
    "# y_column = \"velocity magnitude [m/s]_mean\"  # Example y-axis column\n",
    "\n",
    "# x_column = \"time (h)\"  # Example x-axis column\n",
    "# y_column = \"power [W]_mean\"  # Example y-axis column\n",
    "\n",
    "# x_column = \"time (h)\"  # Example x-axis column\n",
    "# y_column = \"work [J]_mean\"  # Example y-axis column\n",
    "\n",
    "x_column = \"time (h)\"  # Example x-axis column\n",
    "y_column = \"distance [m]_mean\"  # Example y-axis column\n",
    "\n",
    "\n",
    "qd.plot_expression_piv(\n",
    "    data_path,\n",
    "    conditions,\n",
    "    x_column, \n",
    "    y_column, \n",
    "    sigma_x=0.1, \n",
    "    sigma_y=10, \n",
    "    x_log=False, \n",
    "    y_log=True, \n",
    "    min_frame=0, \n",
    "    max_frame=None, \n",
    "    individual_plots=False\n",
    "    )"
   ]
  },
  {
   "cell_type": "code",
   "execution_count": null,
   "metadata": {},
   "outputs": [],
   "source": [
    "\n",
    "# List of features for PCA\n",
    "features_pca = [\n",
    "    \"vorticity [1/s]_mean\",\n",
    "    \"velocity magnitude [m/s]_mean\",\n",
    "    \"distance [m]_mean\",\n",
    "    \"divergence [1/s]_mean\",\n",
    "    \"shear [1/s]_mean\",\n",
    "    \"strain [1/s]_mean\",\n",
    "    \"correlation length [m]_mean\", \n",
    "    \"power [W]_mean\",\n",
    "    \"work [J]_mean\",\n",
    "    'vector direction [degrees]_mean',\n",
    "    \"Protein Concentration_nM\", \n",
    "    'time (min)'\n",
    "]\n",
    "\n",
    "# Run PCA and save plot (with all conditions and subconditions in the same plot)\n",
    "qd.plot_pca_expression_piv(data_path, conditions=conditions, subconditions=subconditions, features=features_pca, sigma=1)\n"
   ]
  },
  {
   "cell_type": "code",
   "execution_count": null,
   "metadata": {},
   "outputs": [],
   "source": [
    "\n",
    "# Example usage\n",
    "qd.delete_outputs(data_path, conditions, subconditions, output_dirs=None)\n"
   ]
  },
  {
   "cell_type": "code",
   "execution_count": null,
   "metadata": {},
   "outputs": [],
   "source": []
  }
 ],
 "metadata": {
  "kernelspec": {
   "display_name": "my_venv_3_11_5",
   "language": "python",
   "name": "python3"
  },
  "language_info": {
   "codemirror_mode": {
    "name": "ipython",
    "version": 3
   },
   "file_extension": ".py",
   "mimetype": "text/x-python",
   "name": "python",
   "nbconvert_exporter": "python",
   "pygments_lexer": "ipython3",
   "version": "3.11.5"
  }
 },
 "nbformat": 4,
 "nbformat_minor": 2
}
