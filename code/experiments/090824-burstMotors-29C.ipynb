{
 "cells": [
  {
   "cell_type": "code",
   "execution_count": null,
   "metadata": {},
   "outputs": [],
   "source": [
    "## Import relevant libraries\n",
    "import sys\n",
    "import glob\n",
    "\n",
    "sys.path.append('../../py_files/')\n",
    "import quadrop as qd\n",
    "\n",
    "# qd.set_plotting_style()"
   ]
  },
  {
   "cell_type": "markdown",
   "metadata": {},
   "source": [
    "### Data pre-procesing"
   ]
  },
  {
   "cell_type": "code",
   "execution_count": null,
   "metadata": {},
   "outputs": [],
   "source": [
    "# # Example usage\n",
    "# base_dir = \"../../../../Thomson Lab Dropbox/David Larios/activedrops/main/090124-chimeras100nM_29C/\"\n",
    "# qd.consolidate_images(base_dir)"
   ]
  },
  {
   "cell_type": "code",
   "execution_count": null,
   "metadata": {},
   "outputs": [],
   "source": [
    "# Example usage\n",
    "data_path = \"../../../../Thomson Lab Dropbox/David Larios/activedrops/main/090824-burstMotors-29C/2p5TMB-1ulDNA100nM9kif3-heal-neg-nagr_1/\"\n",
    "\n",
    "calibration_curve_paths = sorted(glob.glob(\"../../../../Thomson Lab Dropbox/David Larios/activedrops/main/calibration_curve/***ugml.tif\"))\n",
    "\n",
    "\n",
    "conditions_dict = {\n",
    "    \"Kif3-29C\": \"Pos0\", \n",
    "    \"HeAl-29C\": \"Pos1\",\n",
    "    \"negative\": \"Pos2\",\n",
    "    \"NaGr-29C\": \"Pos3\",\n",
    "}\n",
    "\n",
    "# Organize PosX folders into condition folders\n",
    "qd.organize_conditions(data_path, conditions_dict)\n",
    "\n",
    "# Now run the existing functions to reorganize the tiffs and rename the folders\n",
    "conditions, subconditions = qd.prepare_conditions(data_path)\n",
    "time_interval_list = [18] * len(conditions)  # time intervals in seconds between frames for each condition\n",
    "\n",
    "print(\"Conditions:\", conditions)\n",
    "print(\"Subconditions:\", subconditions)"
   ]
  },
  {
   "cell_type": "code",
   "execution_count": null,
   "metadata": {},
   "outputs": [],
   "source": [
    "qd.reorgTiffsToOriginal(data_path, conditions, subconditions)\n"
   ]
  },
  {
   "cell_type": "markdown",
   "metadata": {},
   "source": [
    "### Generate movies"
   ]
  },
  {
   "cell_type": "code",
   "execution_count": null,
   "metadata": {},
   "outputs": [],
   "source": [
    "# Call the function\n",
    "qd.fluorescence_heatmap(\n",
    "    data_path, \n",
    "    conditions, \n",
    "    subconditions, \n",
    "    channel='cy5', \n",
    "    time_interval_list=time_interval_list, \n",
    "    vmax=20, \n",
    "    skip_frames=1, \n",
    "    calibration_curve_paths=calibration_curve_paths, \n",
    "    show_scalebar=False,\n",
    "    )"
   ]
  },
  {
   "cell_type": "code",
   "execution_count": null,
   "metadata": {},
   "outputs": [],
   "source": [
    "# Example usage\n",
    "qd.create_movies(\n",
    "    data_path, \n",
    "    conditions, \n",
    "    subconditions, \n",
    "    channel='cy5', \n",
    "    frame_rate=120,\n",
    "    skip_frames=1\n",
    "    )\n"
   ]
  },
  {
   "cell_type": "code",
   "execution_count": null,
   "metadata": {},
   "outputs": [],
   "source": [
    "qd.create_combined_heatmap_movie_custom_grid(\n",
    "    data_path, \n",
    "    conditions, \n",
    "    subconditions, \n",
    "    channel='cy5', \n",
    "    grid_rows=2, \n",
    "    grid_cols=2, \n",
    "    frame_rate=120,\n",
    "    batch_size=50\n",
    "    )\n"
   ]
  },
  {
   "cell_type": "code",
   "execution_count": null,
   "metadata": {},
   "outputs": [],
   "source": [
    "# Call the function\n",
    "qd.fluorescence_heatmap(\n",
    "    data_path, \n",
    "    conditions, \n",
    "    subconditions, \n",
    "    channel='GFP', \n",
    "    time_interval_list=time_interval_list, \n",
    "    vmax=500, \n",
    "    skip_frames=1, \n",
    "    calibration_curve_paths=calibration_curve_paths, \n",
    "    show_scalebar=True,\n",
    "    )"
   ]
  },
  {
   "cell_type": "code",
   "execution_count": null,
   "metadata": {},
   "outputs": [],
   "source": [
    "# Example usage\n",
    "qd.create_movies(\n",
    "    data_path, \n",
    "    conditions, \n",
    "    subconditions, \n",
    "    channel='GFP', \n",
    "    frame_rate=120,\n",
    "    skip_frames=1\n",
    "    )\n"
   ]
  },
  {
   "cell_type": "code",
   "execution_count": null,
   "metadata": {},
   "outputs": [],
   "source": [
    "qd.create_combined_heatmap_movie_custom_grid(\n",
    "    data_path, \n",
    "    conditions, \n",
    "    subconditions, \n",
    "    channel='GFP', \n",
    "    grid_rows=2, \n",
    "    grid_cols=2, \n",
    "    frame_rate=240,\n",
    "    batch_size=50\n",
    "    )\n"
   ]
  },
  {
   "cell_type": "code",
   "execution_count": null,
   "metadata": {},
   "outputs": [],
   "source": [
    "# qd.delete_temporary_image_directories(data_path, conditions, subconditions)"
   ]
  },
  {
   "cell_type": "markdown",
   "metadata": {},
   "source": [
    "### Fluorescence Quantification"
   ]
  },
  {
   "cell_type": "code",
   "execution_count": null,
   "metadata": {},
   "outputs": [],
   "source": [
    "# Example usage\n",
    "mw_kda_list = [57.2, 64.4, 43.9, 50]\n",
    "droplet_volume_list = [2] * len(conditions)\n",
    "protein_lengths_list = [513, 592, 392, 400]   # Assuming 500 amino acids per protein\n",
    "\n",
    "qd.quantify_tiffiles(\n",
    "    data_path, \n",
    "    conditions, \n",
    "    subconditions, \n",
    "    calibration_curve_paths, \n",
    "    mw_kda_list, \n",
    "    droplet_volume_list, \n",
    "    time_interval_list, \n",
    "    protein_lengths_list,\n",
    "    ribosome_count=10**10,\n",
    "    skip_frames=1,\n",
    "    subtract_negative=True\n",
    ")"
   ]
  },
  {
   "cell_type": "markdown",
   "metadata": {},
   "source": [
    "### PIV pre-processing"
   ]
  },
  {
   "cell_type": "code",
   "execution_count": null,
   "metadata": {},
   "outputs": [],
   "source": [
    "qd.split_tiffs(data_path, conditions[:-1], subconditions, channel='dapi', file_interval=1)"
   ]
  },
  {
   "cell_type": "markdown",
   "metadata": {},
   "source": [
    "### PIV"
   ]
  },
  {
   "cell_type": "code",
   "execution_count": null,
   "metadata": {},
   "outputs": [],
   "source": [
    "# Define feature limits and other parameters\n",
    "v = 2E-7\n",
    "velocity_limits = (0, v)\n",
    "other_limits = (-0.0005, 0.0005)\n",
    "skip_frames = 1 ### CHANGE THIS TO SKIP FRAMES\n",
    "\n",
    "\n",
    "velocity_limits = (None, None)\n",
    "other_limits = (None, None)\n",
    "\n",
    "\n",
    "feature_limits = {\n",
    "    # 'u [m/s]': (-v, v), \n",
    "    # 'v [m/s]': (-v, v), \n",
    "    # 'data type [-]': (None, None),\n",
    "    'velocity magnitude [m/s]': velocity_limits,\n",
    "    'vorticity [1/s]': other_limits,\n",
    "    'divergence [1/s]': other_limits,\n",
    "    # 'dcev [1]': (0, 250),\n",
    "    'shear [1/s]': other_limits,\n",
    "    'strain [1/s]': other_limits,\n",
    "    'vector direction [degrees]': (-180, 180),\n",
    "}\n",
    "\n",
    "\n",
    "# Features for PCA and plotting\n",
    "features_pca = [\n",
    "    \"vorticity [1/s]_mean\",\n",
    "    \"velocity magnitude [um/s]\",\n",
    "    \"distance [m]_mean\",\n",
    "    \"divergence [1/s]_mean\",\n",
    "    \"shear [1/s]_mean\",\n",
    "    \"strain [1/s]_mean\",\n",
    "    \"correlation length [um]\", \n",
    "    \"power [W]_mean\",\n",
    "    \"work [J]\",\n",
    "]\n"
   ]
  },
  {
   "cell_type": "code",
   "execution_count": null,
   "metadata": {},
   "outputs": [],
   "source": [
    "time_interval_list = [18, 18, 18, ]  # time intervals in seconds between frames for each condition\n",
    "\n",
    "\n",
    "# Process PIV data\n",
    "qd.process_piv_data(\n",
    "    data_path, \n",
    "    conditions,\n",
    "    subconditions, \n",
    "    feature_limits, \n",
    "    time_interval_list, \n",
    "    min_frame=0, \n",
    "    max_frame=None, \n",
    "    skip_frames=1, \n",
    "    plot_autocorrelation=False, \n",
    "    frame_rate=1, \n",
    "    heatmaps=False\n",
    "    )\n"
   ]
  },
  {
   "cell_type": "code",
   "execution_count": null,
   "metadata": {},
   "outputs": [],
   "source": [
    "# Plot features and PCA\n",
    "qd.plot_PIV_all(\n",
    "    data_path, \n",
    "    conditions,\n",
    "    subconditions, \n",
    "    features_pca, \n",
    "    min_frame=0, \n",
    "    max_frame=None\n",
    "    )\n"
   ]
  },
  {
   "cell_type": "markdown",
   "metadata": {},
   "source": [
    "### Expression + PIV"
   ]
  },
  {
   "cell_type": "code",
   "execution_count": null,
   "metadata": {},
   "outputs": [],
   "source": [
    "# Combine the data and save it to the \"output_data\" directory\n",
    "qd.combine_averaged_dataframes(data_path, conditions, subconditions)\n"
   ]
  },
  {
   "cell_type": "code",
   "execution_count": null,
   "metadata": {},
   "outputs": [],
   "source": [
    "qd.merge_expression_piv_data(data_path)\n"
   ]
  },
  {
   "cell_type": "code",
   "execution_count": null,
   "metadata": {},
   "outputs": [],
   "source": [
    "# Specify the columns you want to plot\n",
    "x_column = \"Protein Concentration_nM\"  # Example x-axis column\n",
    "y_column = \"velocity magnitude [m/s]_mean\"  # Example y-axis column\n",
    "\n",
    "# Apply Gaussian smoothing with sigma_x=2 and sigma_y=1\n",
    "qd.plot_columns(data_path, x_column, y_column, sigma_x=1, sigma_y=1)\n"
   ]
  },
  {
   "cell_type": "code",
   "execution_count": null,
   "metadata": {},
   "outputs": [],
   "source": [
    "# Specify the columns you want to plot\n",
    "x_column = \"Protein Concentration_nM\"  # Example x-axis column\n",
    "y_column = \"power [W]_mean\"  # Example y-axis column\n",
    "\n",
    "# Apply Gaussian smoothing with sigma_x=2 and sigma_y=1\n",
    "qd.plot_columns(data_path, x_column, y_column, sigma_x=1, sigma_y=1)\n"
   ]
  },
  {
   "cell_type": "code",
   "execution_count": null,
   "metadata": {},
   "outputs": [],
   "source": []
  },
  {
   "cell_type": "code",
   "execution_count": null,
   "metadata": {},
   "outputs": [],
   "source": [
    "\n",
    "# List of features for PCA\n",
    "features_pca = [\n",
    "    # \"vorticity [1/s]_mean\",\n",
    "    \"velocity magnitude [m/s]_mean\",\n",
    "    # \"distance [m]_mean\",\n",
    "    # \"divergence [1/s]_mean\",\n",
    "    # \"shear [1/s]_mean\",\n",
    "    # \"strain [1/s]_mean\",\n",
    "    # \"correlation length [m]_mean\", \n",
    "    # \"power [W]_mean\",\n",
    "    \"Protein Concentration_nM\"  # Example of adding protein concentration to the PCA\n",
    "]\n",
    "\n",
    "# Run PCA and save plot (with all conditions and subconditions in the same plot)\n",
    "qd.plot_pca_expression_piv(data_path, conditions=conditions, subconditions=subconditions, features=features_pca, sigma=1)\n"
   ]
  },
  {
   "cell_type": "code",
   "execution_count": null,
   "metadata": {},
   "outputs": [],
   "source": [
    "\n",
    "# Example usage\n",
    "qd.delete_outputs(data_path, conditions, subconditions, output_dirs=None)\n"
   ]
  },
  {
   "cell_type": "code",
   "execution_count": null,
   "metadata": {},
   "outputs": [],
   "source": []
  }
 ],
 "metadata": {
  "kernelspec": {
   "display_name": "base",
   "language": "python",
   "name": "python3"
  },
  "language_info": {
   "codemirror_mode": {
    "name": "ipython",
    "version": 3
   },
   "file_extension": ".py",
   "mimetype": "text/x-python",
   "name": "python",
   "nbconvert_exporter": "python",
   "pygments_lexer": "ipython3",
   "version": "3.11.5"
  }
 },
 "nbformat": 4,
 "nbformat_minor": 2
}
