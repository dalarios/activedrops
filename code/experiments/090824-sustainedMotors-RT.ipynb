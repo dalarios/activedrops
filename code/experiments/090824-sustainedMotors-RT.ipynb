{
 "cells": [
  {
   "cell_type": "code",
   "execution_count": 1,
   "metadata": {},
   "outputs": [],
   "source": [
    "## Import relevant libraries\n",
    "import sys\n",
    "import glob\n",
    "\n",
    "sys.path.append('../../py_files/')\n",
    "import quadrop as qd\n",
    "\n",
    "qd.set_plotting_style()"
   ]
  },
  {
   "cell_type": "markdown",
   "metadata": {},
   "source": [
    "### Data pre-procesing"
   ]
  },
  {
   "cell_type": "code",
   "execution_count": 2,
   "metadata": {},
   "outputs": [
    {
     "name": "stdout",
     "output_type": "stream",
     "text": [
      "Consolidation appears to be already done. Directory '../../../../Thomson Lab Dropbox/David Larios/activedrops/ubuntu/091024-sustainedMotors-RT/2p5TMB-1ulDNA100nM_' already exists with subfolders.\n"
     ]
    }
   ],
   "source": [
    "# Example usage\n",
    "base_dir = \"../../../../Thomson Lab Dropbox/David Larios/activedrops/ubuntu/091024-sustainedMotors-RT/\"\n",
    "qd.consolidate_images(base_dir)"
   ]
  },
  {
   "cell_type": "code",
   "execution_count": 3,
   "metadata": {},
   "outputs": [
    {
     "name": "stdout",
     "output_type": "stream",
     "text": [
      "Warning: ../../../../Thomson Lab Dropbox/David Larios/activedrops/ubuntu/091024-sustainedMotors-RT/2p5TMB-1ulDNA100nM_/Pos0 does not exist. Skipping.\n",
      "Warning: ../../../../Thomson Lab Dropbox/David Larios/activedrops/ubuntu/091024-sustainedMotors-RT/2p5TMB-1ulDNA100nM_/Pos1 does not exist. Skipping.\n",
      "Warning: ../../../../Thomson Lab Dropbox/David Larios/activedrops/ubuntu/091024-sustainedMotors-RT/2p5TMB-1ulDNA100nM_/Pos2 does not exist. Skipping.\n",
      "Warning: ../../../../Thomson Lab Dropbox/David Larios/activedrops/ubuntu/091024-sustainedMotors-RT/2p5TMB-1ulDNA100nM_/Pos3 does not exist. Skipping.\n",
      "Warning: ../../../../Thomson Lab Dropbox/David Larios/activedrops/ubuntu/091024-sustainedMotors-RT/2p5TMB-1ulDNA100nM_/Pos4 does not exist. Skipping.\n",
      "Warning: ../../../../Thomson Lab Dropbox/David Larios/activedrops/ubuntu/091024-sustainedMotors-RT/2p5TMB-1ulDNA100nM_/Pos5 does not exist. Skipping.\n",
      "Warning: ../../../../Thomson Lab Dropbox/David Larios/activedrops/ubuntu/091024-sustainedMotors-RT/2p5TMB-1ulDNA100nM_/Pos6 does not exist. Skipping.\n",
      "Warning: ../../../../Thomson Lab Dropbox/David Larios/activedrops/ubuntu/091024-sustainedMotors-RT/2p5TMB-1ulDNA100nM_/Pos7 does not exist. Skipping.\n",
      "Warning: ../../../../Thomson Lab Dropbox/David Larios/activedrops/ubuntu/091024-sustainedMotors-RT/2p5TMB-1ulDNA100nM_/Pos8 does not exist. Skipping.\n",
      "Warning: ../../../../Thomson Lab Dropbox/David Larios/activedrops/ubuntu/091024-sustainedMotors-RT/2p5TMB-1ulDNA100nM_/Pos9 does not exist. Skipping.\n",
      "Conditions: ['AcSu2-RT', 'AcSu-RT', 'AdPa-RT', 'BleSto-RT', 'DiPu-RT', 'Kif5-RT', 'NaFo-RT', 'ThTr-RT', 'TiLa-RT', 'negative']\n",
      "Subconditions: ['Rep1']\n"
     ]
    }
   ],
   "source": [
    "# Example usage\n",
    "data_path = \"../../../../Thomson Lab Dropbox/David Larios/activedrops/ubuntu/091024-sustainedMotors-RT/2p5TMB-1ulDNA100nM_/\"\n",
    "\n",
    "calibration_curve_paths = sorted(glob.glob(\"../../../../Thomson Lab Dropbox/David Larios/activedrops/calibration_curve/***ugml.tif\"))\n",
    "\n",
    "\n",
    "conditions_dict = {\n",
    "    \"TiLa-RT\": \"Pos0\", \n",
    "    \"DiPu-RT\": \"Pos1\",\n",
    "    \"AcSu-RT\": \"Pos2\",\n",
    "    \"AcSu2-RT\": \"Pos3\",\n",
    "    \"AdPa-RT\": \"Pos4\",\n",
    "    \"Kif5-RT\": \"Pos5\",\n",
    "    \"BleSto-RT\": \"Pos6\",\n",
    "    \"ThTr-RT\": \"Pos7\",\n",
    "    \"NaFo-RT\": \"Pos8\",\n",
    "    \"negative\": \"Pos9\",\n",
    "}\n",
    "\n",
    "# Organize PosX folders into condition folders\n",
    "qd.organize_conditions(data_path, conditions_dict)\n",
    "\n",
    "# Now run the existing functions to reorganize the tiffs and rename the folders\n",
    "conditions, subconditions = qd.prepare_conditions(data_path)\n",
    "time_interval_list = [45] * len(conditions)  # time intervals in seconds between frames for each condition\n",
    "\n",
    "\n",
    "print(\"Conditions:\", conditions)\n",
    "print(\"Subconditions:\", subconditions)\n",
    "\n"
   ]
  },
  {
   "cell_type": "code",
   "execution_count": 4,
   "metadata": {},
   "outputs": [
    {
     "name": "stdout",
     "output_type": "stream",
     "text": [
      "Moved .tif files from ../../../../Thomson Lab Dropbox/David Larios/activedrops/ubuntu/091024-sustainedMotors-RT/2p5TMB-1ulDNA100nM_/AcSu2-RT/Rep1 to ../../../../Thomson Lab Dropbox/David Larios/activedrops/ubuntu/091024-sustainedMotors-RT/2p5TMB-1ulDNA100nM_/AcSu2-RT/Rep1/original\n",
      "Moved .tif files from ../../../../Thomson Lab Dropbox/David Larios/activedrops/ubuntu/091024-sustainedMotors-RT/2p5TMB-1ulDNA100nM_/AcSu-RT/Rep1 to ../../../../Thomson Lab Dropbox/David Larios/activedrops/ubuntu/091024-sustainedMotors-RT/2p5TMB-1ulDNA100nM_/AcSu-RT/Rep1/original\n",
      "Moved .tif files from ../../../../Thomson Lab Dropbox/David Larios/activedrops/ubuntu/091024-sustainedMotors-RT/2p5TMB-1ulDNA100nM_/AdPa-RT/Rep1 to ../../../../Thomson Lab Dropbox/David Larios/activedrops/ubuntu/091024-sustainedMotors-RT/2p5TMB-1ulDNA100nM_/AdPa-RT/Rep1/original\n",
      "Moved .tif files from ../../../../Thomson Lab Dropbox/David Larios/activedrops/ubuntu/091024-sustainedMotors-RT/2p5TMB-1ulDNA100nM_/BleSto-RT/Rep1 to ../../../../Thomson Lab Dropbox/David Larios/activedrops/ubuntu/091024-sustainedMotors-RT/2p5TMB-1ulDNA100nM_/BleSto-RT/Rep1/original\n",
      "Moved .tif files from ../../../../Thomson Lab Dropbox/David Larios/activedrops/ubuntu/091024-sustainedMotors-RT/2p5TMB-1ulDNA100nM_/DiPu-RT/Rep1 to ../../../../Thomson Lab Dropbox/David Larios/activedrops/ubuntu/091024-sustainedMotors-RT/2p5TMB-1ulDNA100nM_/DiPu-RT/Rep1/original\n",
      "Moved .tif files from ../../../../Thomson Lab Dropbox/David Larios/activedrops/ubuntu/091024-sustainedMotors-RT/2p5TMB-1ulDNA100nM_/Kif5-RT/Rep1 to ../../../../Thomson Lab Dropbox/David Larios/activedrops/ubuntu/091024-sustainedMotors-RT/2p5TMB-1ulDNA100nM_/Kif5-RT/Rep1/original\n",
      "Moved .tif files from ../../../../Thomson Lab Dropbox/David Larios/activedrops/ubuntu/091024-sustainedMotors-RT/2p5TMB-1ulDNA100nM_/NaFo-RT/Rep1 to ../../../../Thomson Lab Dropbox/David Larios/activedrops/ubuntu/091024-sustainedMotors-RT/2p5TMB-1ulDNA100nM_/NaFo-RT/Rep1/original\n",
      "Moved .tif files from ../../../../Thomson Lab Dropbox/David Larios/activedrops/ubuntu/091024-sustainedMotors-RT/2p5TMB-1ulDNA100nM_/ThTr-RT/Rep1 to ../../../../Thomson Lab Dropbox/David Larios/activedrops/ubuntu/091024-sustainedMotors-RT/2p5TMB-1ulDNA100nM_/ThTr-RT/Rep1/original\n",
      "Moved .tif files from ../../../../Thomson Lab Dropbox/David Larios/activedrops/ubuntu/091024-sustainedMotors-RT/2p5TMB-1ulDNA100nM_/TiLa-RT/Rep1 to ../../../../Thomson Lab Dropbox/David Larios/activedrops/ubuntu/091024-sustainedMotors-RT/2p5TMB-1ulDNA100nM_/TiLa-RT/Rep1/original\n",
      "Moved .tif files from ../../../../Thomson Lab Dropbox/David Larios/activedrops/ubuntu/091024-sustainedMotors-RT/2p5TMB-1ulDNA100nM_/negative/Rep1 to ../../../../Thomson Lab Dropbox/David Larios/activedrops/ubuntu/091024-sustainedMotors-RT/2p5TMB-1ulDNA100nM_/negative/Rep1/original\n"
     ]
    }
   ],
   "source": [
    "qd.reorgTiffsToOriginal(data_path, conditions, subconditions)\n"
   ]
  },
  {
   "cell_type": "markdown",
   "metadata": {},
   "source": [
    "### Generate movies"
   ]
  },
  {
   "cell_type": "code",
   "execution_count": 7,
   "metadata": {},
   "outputs": [
    {
     "name": "stderr",
     "output_type": "stream",
     "text": [
      "Processing AcSu2-RT - Rep1: 100%|██████████| 1751/1751 [03:23<00:00,  8.59it/s]\n",
      "Processing AcSu-RT - Rep1: 100%|██████████| 1751/1751 [03:24<00:00,  8.57it/s]\n",
      "Processing AdPa-RT - Rep1: 100%|██████████| 1751/1751 [03:21<00:00,  8.70it/s]\n",
      "Processing BleSto-RT - Rep1: 100%|██████████| 2921/2921 [05:35<00:00,  8.71it/s]\n",
      "Processing DiPu-RT - Rep1: 100%|██████████| 1751/1751 [03:17<00:00,  8.86it/s]\n",
      "Processing Kif5-RT - Rep1: 100%|██████████| 2922/2922 [05:34<00:00,  8.75it/s]\n",
      "Processing NaFo-RT - Rep1: 100%|██████████| 1751/1751 [03:21<00:00,  8.71it/s]\n",
      "Processing ThTr-RT - Rep1: 100%|██████████| 2921/2921 [05:31<00:00,  8.81it/s]\n",
      "Processing TiLa-RT - Rep1: 100%|██████████| 1751/1751 [03:23<00:00,  8.60it/s]\n",
      "Processing negative - Rep1: 100%|██████████| 2921/2921 [05:47<00:00,  8.40it/s]\n"
     ]
    }
   ],
   "source": [
    "# Call the function\n",
    "qd.fluorescence_heatmap(\n",
    "    data_path, \n",
    "    conditions, \n",
    "    subconditions, \n",
    "    channel='cy5', \n",
    "    time_interval_list=time_interval_list, \n",
    "    vmax=15, \n",
    "    skip_frames=1, \n",
    "    calibration_curve_paths=calibration_curve_paths, \n",
    "    show_scalebar=False,\n",
    "    )"
   ]
  },
  {
   "cell_type": "code",
   "execution_count": 8,
   "metadata": {},
   "outputs": [
    {
     "name": "stdout",
     "output_type": "stream",
     "text": [
      "Creating video for AcSu2-RT - Rep1 with duration: 14.59 seconds.\n"
     ]
    },
    {
     "name": "stderr",
     "output_type": "stream",
     "text": [
      "Creating video for AcSu2-RT - Rep1: 100%|██████████| 1751/1751 [02:18<00:00, 12.61it/s]\n"
     ]
    },
    {
     "name": "stdout",
     "output_type": "stream",
     "text": [
      "Creating video for AcSu-RT - Rep1 with duration: 14.59 seconds.\n"
     ]
    },
    {
     "name": "stderr",
     "output_type": "stream",
     "text": [
      "Creating video for AcSu-RT - Rep1: 100%|██████████| 1751/1751 [02:26<00:00, 11.97it/s]\n"
     ]
    },
    {
     "name": "stdout",
     "output_type": "stream",
     "text": [
      "Creating video for AdPa-RT - Rep1 with duration: 14.59 seconds.\n"
     ]
    },
    {
     "name": "stderr",
     "output_type": "stream",
     "text": [
      "Creating video for AdPa-RT - Rep1: 100%|██████████| 1751/1751 [02:25<00:00, 12.00it/s]\n"
     ]
    },
    {
     "name": "stdout",
     "output_type": "stream",
     "text": [
      "Creating video for BleSto-RT - Rep1 with duration: 24.34 seconds.\n"
     ]
    },
    {
     "name": "stderr",
     "output_type": "stream",
     "text": [
      "Creating video for BleSto-RT - Rep1: 100%|██████████| 2921/2921 [04:02<00:00, 12.03it/s]\n"
     ]
    },
    {
     "name": "stdout",
     "output_type": "stream",
     "text": [
      "Creating video for DiPu-RT - Rep1 with duration: 14.59 seconds.\n"
     ]
    },
    {
     "name": "stderr",
     "output_type": "stream",
     "text": [
      "Creating video for DiPu-RT - Rep1: 100%|██████████| 1751/1751 [02:25<00:00, 12.05it/s]\n"
     ]
    },
    {
     "name": "stdout",
     "output_type": "stream",
     "text": [
      "Creating video for Kif5-RT - Rep1 with duration: 24.35 seconds.\n"
     ]
    },
    {
     "name": "stderr",
     "output_type": "stream",
     "text": [
      "Creating video for Kif5-RT - Rep1: 100%|██████████| 2922/2922 [03:52<00:00, 12.55it/s]\n"
     ]
    },
    {
     "name": "stdout",
     "output_type": "stream",
     "text": [
      "Creating video for NaFo-RT - Rep1 with duration: 14.59 seconds.\n"
     ]
    },
    {
     "name": "stderr",
     "output_type": "stream",
     "text": [
      "Creating video for NaFo-RT - Rep1: 100%|██████████| 1751/1751 [02:13<00:00, 13.12it/s]\n"
     ]
    },
    {
     "name": "stdout",
     "output_type": "stream",
     "text": [
      "Creating video for ThTr-RT - Rep1 with duration: 24.34 seconds.\n"
     ]
    },
    {
     "name": "stderr",
     "output_type": "stream",
     "text": [
      "Creating video for ThTr-RT - Rep1: 100%|██████████| 2921/2921 [03:30<00:00, 13.88it/s]\n"
     ]
    },
    {
     "name": "stdout",
     "output_type": "stream",
     "text": [
      "Creating video for TiLa-RT - Rep1 with duration: 14.59 seconds.\n"
     ]
    },
    {
     "name": "stderr",
     "output_type": "stream",
     "text": [
      "Creating video for TiLa-RT - Rep1: 100%|██████████| 1751/1751 [02:22<00:00, 12.31it/s]\n"
     ]
    },
    {
     "name": "stdout",
     "output_type": "stream",
     "text": [
      "Creating video for negative - Rep1 with duration: 24.34 seconds.\n"
     ]
    },
    {
     "name": "stderr",
     "output_type": "stream",
     "text": [
      "Creating video for negative - Rep1: 100%|██████████| 2921/2921 [03:26<00:00, 14.13it/s]\n"
     ]
    }
   ],
   "source": [
    "# Example usage\n",
    "qd.create_movies(\n",
    "    data_path, \n",
    "    conditions, \n",
    "    subconditions, \n",
    "    channel='cy5', \n",
    "    frame_rate=120,\n",
    "    skip_frames=1\n",
    "    )\n"
   ]
  },
  {
   "cell_type": "code",
   "execution_count": 9,
   "metadata": {},
   "outputs": [
    {
     "name": "stdout",
     "output_type": "stream",
     "text": [
      "Creating video with duration: 24.35 seconds.\n"
     ]
    },
    {
     "name": "stderr",
     "output_type": "stream",
     "text": [
      "Creating combined frames: 100%|██████████| 2922/2922 [21:49<00:00,  2.23it/s]\n"
     ]
    },
    {
     "name": "stdout",
     "output_type": "stream",
     "text": [
      "Combined video saved to ../../../../Thomson Lab Dropbox/David Larios/activedrops/ubuntu/091024-sustainedMotors-RT/2p5TMB-1ulDNA100nM_/output_data/movies/combined_heatmap_movie_cy5_120fps_2922frames.avi\n"
     ]
    }
   ],
   "source": [
    "qd.create_combined_heatmap_movie_custom_grid(\n",
    "    data_path, \n",
    "    conditions, \n",
    "    subconditions, \n",
    "    channel='cy5', \n",
    "    grid_rows=2, \n",
    "    grid_cols=5, \n",
    "    frame_rate=120,\n",
    "    batch_size=50\n",
    "    )\n"
   ]
  },
  {
   "cell_type": "markdown",
   "metadata": {},
   "source": []
  },
  {
   "cell_type": "code",
   "execution_count": 10,
   "metadata": {},
   "outputs": [
    {
     "name": "stderr",
     "output_type": "stream",
     "text": [
      "Processing AcSu2-RT - Rep1: 100%|██████████| 1751/1751 [02:43<00:00, 10.68it/s]\n",
      "Processing AcSu-RT - Rep1: 100%|██████████| 1751/1751 [02:59<00:00,  9.75it/s]\n",
      "Processing AdPa-RT - Rep1: 100%|██████████| 1751/1751 [02:59<00:00,  9.74it/s]\n",
      "Processing BleSto-RT - Rep1: 100%|██████████| 2921/2921 [04:33<00:00, 10.68it/s]\n",
      "Processing DiPu-RT - Rep1: 100%|██████████| 1751/1751 [02:58<00:00,  9.81it/s]\n",
      "Processing Kif5-RT - Rep1: 100%|██████████| 2922/2922 [05:01<00:00,  9.70it/s]\n",
      "Processing NaFo-RT - Rep1: 100%|██████████| 1751/1751 [03:08<00:00,  9.29it/s]\n",
      "Processing ThTr-RT - Rep1: 100%|██████████| 2921/2921 [05:24<00:00,  9.00it/s]\n",
      "Processing TiLa-RT - Rep1: 100%|██████████| 1751/1751 [03:01<00:00,  9.64it/s]\n",
      "Processing negative - Rep1: 100%|██████████| 2921/2921 [04:43<00:00, 10.32it/s]\n"
     ]
    }
   ],
   "source": [
    "# Call the function\n",
    "qd.fluorescence_heatmap(\n",
    "    data_path, \n",
    "    conditions, \n",
    "    subconditions, \n",
    "    channel='GFP', \n",
    "    time_interval_list=time_interval_list, \n",
    "    vmax=500, \n",
    "    skip_frames=1, \n",
    "    calibration_curve_paths=calibration_curve_paths, \n",
    "    show_scalebar=True,\n",
    "    )"
   ]
  },
  {
   "cell_type": "code",
   "execution_count": 11,
   "metadata": {},
   "outputs": [
    {
     "name": "stdout",
     "output_type": "stream",
     "text": [
      "Creating video for AcSu2-RT - Rep1 with duration: 14.59 seconds.\n"
     ]
    },
    {
     "name": "stderr",
     "output_type": "stream",
     "text": [
      "Creating video for AcSu2-RT - Rep1: 100%|██████████| 1751/1751 [01:46<00:00, 16.50it/s]\n"
     ]
    },
    {
     "name": "stdout",
     "output_type": "stream",
     "text": [
      "Creating video for AcSu-RT - Rep1 with duration: 14.59 seconds.\n"
     ]
    },
    {
     "name": "stderr",
     "output_type": "stream",
     "text": [
      "Creating video for AcSu-RT - Rep1: 100%|██████████| 1751/1751 [01:51<00:00, 15.77it/s]\n"
     ]
    },
    {
     "name": "stdout",
     "output_type": "stream",
     "text": [
      "Creating video for AdPa-RT - Rep1 with duration: 14.59 seconds.\n"
     ]
    },
    {
     "name": "stderr",
     "output_type": "stream",
     "text": [
      "Creating video for AdPa-RT - Rep1: 100%|██████████| 1751/1751 [01:52<00:00, 15.57it/s]\n"
     ]
    },
    {
     "name": "stdout",
     "output_type": "stream",
     "text": [
      "Creating video for BleSto-RT - Rep1 with duration: 24.34 seconds.\n"
     ]
    },
    {
     "name": "stderr",
     "output_type": "stream",
     "text": [
      "Creating video for BleSto-RT - Rep1: 100%|██████████| 2921/2921 [02:52<00:00, 16.95it/s]\n"
     ]
    },
    {
     "name": "stdout",
     "output_type": "stream",
     "text": [
      "Creating video for DiPu-RT - Rep1 with duration: 14.59 seconds.\n"
     ]
    },
    {
     "name": "stderr",
     "output_type": "stream",
     "text": [
      "Creating video for DiPu-RT - Rep1: 100%|██████████| 1751/1751 [01:51<00:00, 15.77it/s]\n"
     ]
    },
    {
     "name": "stdout",
     "output_type": "stream",
     "text": [
      "Creating video for Kif5-RT - Rep1 with duration: 24.35 seconds.\n"
     ]
    },
    {
     "name": "stderr",
     "output_type": "stream",
     "text": [
      "Creating video for Kif5-RT - Rep1: 100%|██████████| 2922/2922 [03:06<00:00, 15.63it/s]\n"
     ]
    },
    {
     "name": "stdout",
     "output_type": "stream",
     "text": [
      "Creating video for NaFo-RT - Rep1 with duration: 14.59 seconds.\n"
     ]
    },
    {
     "name": "stderr",
     "output_type": "stream",
     "text": [
      "Creating video for NaFo-RT - Rep1: 100%|██████████| 1751/1751 [01:54<00:00, 15.32it/s]\n"
     ]
    },
    {
     "name": "stdout",
     "output_type": "stream",
     "text": [
      "Creating video for ThTr-RT - Rep1 with duration: 24.34 seconds.\n"
     ]
    },
    {
     "name": "stderr",
     "output_type": "stream",
     "text": [
      "Creating video for ThTr-RT - Rep1: 100%|██████████| 2921/2921 [03:11<00:00, 15.27it/s]\n"
     ]
    },
    {
     "name": "stdout",
     "output_type": "stream",
     "text": [
      "Creating video for TiLa-RT - Rep1 with duration: 14.59 seconds.\n"
     ]
    },
    {
     "name": "stderr",
     "output_type": "stream",
     "text": [
      "Creating video for TiLa-RT - Rep1: 100%|██████████| 1751/1751 [01:53<00:00, 15.46it/s]\n"
     ]
    },
    {
     "name": "stdout",
     "output_type": "stream",
     "text": [
      "Creating video for negative - Rep1 with duration: 24.34 seconds.\n"
     ]
    },
    {
     "name": "stderr",
     "output_type": "stream",
     "text": [
      "Creating video for negative - Rep1: 100%|██████████| 2921/2921 [02:55<00:00, 16.64it/s]\n"
     ]
    }
   ],
   "source": [
    "# Example usage\n",
    "qd.create_movies(\n",
    "    data_path, \n",
    "    conditions, \n",
    "    subconditions, \n",
    "    channel='GFP', \n",
    "    frame_rate=120,\n",
    "    skip_frames=1\n",
    "    )\n"
   ]
  },
  {
   "cell_type": "code",
   "execution_count": 12,
   "metadata": {},
   "outputs": [
    {
     "name": "stdout",
     "output_type": "stream",
     "text": [
      "Creating video with duration: 24.35 seconds.\n"
     ]
    },
    {
     "name": "stderr",
     "output_type": "stream",
     "text": [
      "Creating combined frames: 100%|██████████| 2922/2922 [19:09<00:00,  2.54it/s]\n"
     ]
    },
    {
     "name": "stdout",
     "output_type": "stream",
     "text": [
      "Combined video saved to ../../../../Thomson Lab Dropbox/David Larios/activedrops/ubuntu/091024-sustainedMotors-RT/2p5TMB-1ulDNA100nM_/output_data/movies/combined_heatmap_movie_GFP_120fps_2922frames.avi\n"
     ]
    }
   ],
   "source": [
    "qd.create_combined_heatmap_movie_custom_grid(\n",
    "    data_path, \n",
    "    conditions, \n",
    "    subconditions, \n",
    "    channel='GFP', \n",
    "    grid_rows=2, \n",
    "    grid_cols=5, \n",
    "    frame_rate=120,\n",
    "    batch_size=50\n",
    "    )\n"
   ]
  },
  {
   "cell_type": "code",
   "execution_count": null,
   "metadata": {},
   "outputs": [],
   "source": [
    "# qd.delete_temporary_image_directories(data_path, conditions, subconditions)"
   ]
  },
  {
   "cell_type": "markdown",
   "metadata": {},
   "source": [
    "### Fluorescence Quantification"
   ]
  },
  {
   "cell_type": "code",
   "execution_count": 5,
   "metadata": {},
   "outputs": [
    {
     "name": "stderr",
     "output_type": "stream",
     "text": [
      "Calculating sample intensities: 100%|██████████| 1751/1751 [00:03<00:00, 569.94it/s]\n",
      "Calculating sample intensities: 100%|██████████| 1751/1751 [00:02<00:00, 592.90it/s]\n",
      "Calculating sample intensities: 100%|██████████| 1751/1751 [00:03<00:00, 578.82it/s]\n",
      "Calculating sample intensities: 100%|██████████| 2921/2921 [00:04<00:00, 593.58it/s]\n",
      "Calculating sample intensities: 100%|██████████| 1751/1751 [00:03<00:00, 578.47it/s]\n",
      "Calculating sample intensities: 100%|██████████| 2922/2922 [00:05<00:00, 583.53it/s]\n",
      "Calculating sample intensities: 100%|██████████| 1751/1751 [00:02<00:00, 592.10it/s]\n",
      "Calculating sample intensities: 100%|██████████| 2921/2921 [00:05<00:00, 582.87it/s]\n",
      "Calculating sample intensities: 100%|██████████| 1751/1751 [00:03<00:00, 566.09it/s]\n",
      "Calculating sample intensities: 100%|██████████| 2921/2921 [00:02<00:00, 1211.65it/s]\n"
     ]
    },
    {
     "data": {
      "text/plain": [
       "('../../../../Thomson Lab Dropbox/David Larios/activedrops/ubuntu/091024-sustainedMotors-RT/2p5TMB-1ulDNA100nM_/output_data/combined_expression.csv',\n",
       " '../../../../Thomson Lab Dropbox/David Larios/activedrops/ubuntu/091024-sustainedMotors-RT/2p5TMB-1ulDNA100nM_/output_data/mean_expression.csv')"
      ]
     },
     "execution_count": 5,
     "metadata": {},
     "output_type": "execute_result"
    }
   ],
   "source": [
    "# Example usage\n",
    "mw_kda_list = [59.2, 63.6, 45.2, 64.8, 56.9, 56.6, 62.1, 68.8, 57.4, 50]\n",
    "droplet_volume_list = [2] * len(conditions)\n",
    "protein_lengths_list = [530, 575, 408, 572, 513, 500, 547, 655, 514, 500] # last one is negative\n",
    "\n",
    "qd.quantify_tiffiles(\n",
    "    data_path, \n",
    "    conditions, \n",
    "    subconditions, \n",
    "    calibration_curve_paths, \n",
    "    mw_kda_list, \n",
    "    droplet_volume_list, \n",
    "    time_interval_list, \n",
    "    protein_lengths_list,\n",
    "    ribosome_count=10**9,\n",
    "    skip_frames=1,\n",
    "    subtract_negative=True\n",
    ")"
   ]
  },
  {
   "cell_type": "markdown",
   "metadata": {},
   "source": [
    "### PIV pre-processing"
   ]
  },
  {
   "cell_type": "code",
   "execution_count": 14,
   "metadata": {},
   "outputs": [
    {
     "name": "stdout",
     "output_type": "stream",
     "text": [
      "Copied every 3th f'cy5' file from ../../../../Thomson Lab Dropbox/David Larios/activedrops/ubuntu/091024-sustainedMotors-RT/2p5TMB-1ulDNA100nM_/DiPu-RT/Rep1/original into ../../../../Thomson Lab Dropbox/David Larios/activedrops/ubuntu/091024-sustainedMotors-RT/2p5TMB-1ulDNA100nM_/DiPu-RT/Rep1/cy5-3x.\n"
     ]
    }
   ],
   "source": [
    "qd.split_tiffs(data_path, ['DiPu-RT'], subconditions, channel='cy5', file_interval=3)\n",
    "\n"
   ]
  },
  {
   "cell_type": "markdown",
   "metadata": {},
   "source": [
    "### PIV"
   ]
  },
  {
   "cell_type": "code",
   "execution_count": 6,
   "metadata": {},
   "outputs": [],
   "source": [
    "# Define feature limits and other parameters\n",
    "v = 2E-7\n",
    "velocity_limits = (0, v)\n",
    "other_limits = (-0.0005, 0.0005)\n",
    "skip_frames = 1 ### CHANGE THIS TO SKIP FRAMES\n",
    "\n",
    "\n",
    "velocity_limits = (None, None)\n",
    "other_limits = (None, None)\n",
    "\n",
    "\n",
    "feature_limits = {\n",
    "    # 'u [m/s]': (-v, v), \n",
    "    # 'v [m/s]': (-v, v), \n",
    "    # 'data type [-]': (None, None),\n",
    "    'velocity magnitude [m/s]': velocity_limits,\n",
    "    'vorticity [1/s]': other_limits,\n",
    "    'divergence [1/s]': other_limits,\n",
    "    # 'dcev [1]': (0, 250),\n",
    "    'shear [1/s]': other_limits,\n",
    "    'strain [1/s]': other_limits,\n",
    "    'vector direction [degrees]': (-180, 180),\n",
    "}\n",
    "\n",
    "\n",
    "# Features for PCA and plotting\n",
    "features_pca = [\n",
    "    \"vorticity [1/s]_mean\",\n",
    "    \"velocity magnitude [um/s]\",\n",
    "    \"distance [m]_mean\",\n",
    "    \"divergence [1/s]_mean\",\n",
    "    \"shear [1/s]_mean\",\n",
    "    \"strain [1/s]_mean\",\n",
    "    \"correlation length [um]\", \n",
    "    \"power [W]_mean\",\n",
    "    \"work [J]\",\n",
    "]\n"
   ]
  },
  {
   "cell_type": "code",
   "execution_count": 10,
   "metadata": {},
   "outputs": [],
   "source": [
    "conditions = [\n",
    "    'AcSu2-RT',\n",
    "    'AcSu-RT',\n",
    "    'AdPa-RT',\n",
    "    # 'BleSto-RT',\n",
    "    'DiPu-RT',\n",
    "    'Kif5-RT',\n",
    "    # 'NaFo-RT',\n",
    "    'ThTr-RT',\n",
    "    'TiLa-RT',\n",
    "    # 'negative'\n",
    "    ]"
   ]
  },
  {
   "cell_type": "code",
   "execution_count": 11,
   "metadata": {},
   "outputs": [
    {
     "name": "stderr",
     "output_type": "stream",
     "text": [
      "Processing PIV data:   0%|          | 0/7 [00:00<?, ?it/s]\n",
      "\u001b[A\n",
      "\u001b[A\n",
      "\u001b[A\n",
      "\u001b[A\n",
      "\u001b[A\n",
      "\u001b[A\n",
      "\u001b[A\n",
      "\u001b[A\n",
      "\u001b[A\n",
      "\u001b[A\n",
      "\u001b[A\n",
      "\u001b[A\n",
      "\u001b[A\n",
      "\u001b[A\n",
      "\u001b[A\n",
      "\u001b[A\n",
      "\u001b[A\n",
      "\u001b[A\n",
      "\u001b[A\n",
      "\u001b[A\n",
      "\u001b[A\n",
      "\u001b[A\n",
      "\u001b[A\n",
      "\u001b[A\n",
      "\u001b[A\n",
      "\u001b[A\n",
      "\u001b[A\n",
      "\u001b[A\n",
      "\u001b[A\n",
      "\u001b[A\n",
      "\u001b[A\n",
      "\u001b[A\n",
      "\u001b[A\n",
      "\u001b[A\n",
      "\u001b[A\n",
      "\u001b[A\n",
      "\u001b[A\n",
      "\u001b[A\n",
      "\u001b[A\n",
      "\u001b[A\n",
      "\u001b[A\n",
      "\u001b[A\n",
      "\u001b[A\n",
      "\u001b[A\n",
      "\u001b[A\n",
      "\u001b[A\n",
      "\u001b[A\n",
      "\u001b[A\n",
      "\u001b[A\n",
      "\u001b[A\n",
      "\u001b[A\n",
      "\u001b[A\n",
      "\u001b[A\n",
      "\u001b[A\n",
      "\u001b[A\n",
      "\u001b[A\n",
      "\u001b[A\n",
      "\u001b[A\n",
      "\u001b[A\n",
      "\u001b[A\n",
      "\u001b[A\n",
      "\u001b[A\n",
      "\u001b[A\n",
      "\u001b[A\n",
      "\u001b[A\n",
      "\u001b[A\n",
      "\u001b[A\n",
      "\u001b[A\n",
      "\u001b[A\n",
      "\u001b[A\n",
      "\u001b[A\n",
      "\u001b[A\n",
      "\u001b[A\n",
      "\u001b[A\n",
      "\u001b[A\n",
      "\u001b[A\n",
      "\u001b[A\n",
      "\u001b[A\n",
      "\u001b[A\n",
      "\u001b[A\n",
      "\u001b[A\n",
      "\u001b[A\n",
      "\u001b[A\n",
      "\u001b[A\n",
      "\u001b[A\n",
      "\u001b[A\n",
      "\u001b[A\n",
      "\u001b[A\n",
      "\u001b[A\n",
      "\u001b[A\n",
      "\u001b[A\n",
      "\u001b[A\n",
      "\u001b[A\n",
      "\u001b[A\n",
      "\u001b[A\n",
      "\u001b[A\n",
      "\u001b[A\n",
      "\u001b[A\n",
      "\u001b[A\n",
      "\u001b[A\n",
      "\u001b[A\n",
      "\u001b[A\n",
      "\u001b[A\n",
      "\u001b[A\n",
      "\u001b[A\n",
      "\u001b[A\n",
      "\u001b[A\n",
      "\u001b[A\n",
      "\u001b[A\n",
      "\u001b[A\n",
      "\u001b[A\n",
      "\u001b[A\n",
      "\u001b[A\n",
      "\u001b[A\n",
      "\u001b[A\n",
      "\u001b[A\n",
      "\u001b[A\n",
      "\u001b[A\n",
      "\u001b[A\n",
      "\u001b[A\n",
      "Processing PIV data:  14%|█▍        | 1/7 [00:31<03:09, 31.59s/it]\n",
      "\u001b[A\n",
      "\u001b[A\n",
      "\u001b[A\n",
      "\u001b[A\n",
      "\u001b[A\n",
      "\u001b[A\n",
      "\u001b[A\n",
      "\u001b[A\n",
      "\u001b[A\n",
      "\u001b[A\n",
      "\u001b[A\n",
      "\u001b[A\n",
      "\u001b[A\n",
      "\u001b[A\n",
      "\u001b[A\n",
      "\u001b[A\n",
      "\u001b[A\n",
      "\u001b[A\n",
      "\u001b[A\n",
      "\u001b[A\n",
      "\u001b[A\n",
      "\u001b[A\n",
      "\u001b[A\n",
      "\u001b[A\n",
      "\u001b[A\n",
      "\u001b[A\n",
      "\u001b[A\n",
      "\u001b[A\n",
      "\u001b[A\n",
      "\u001b[A\n",
      "\u001b[A\n",
      "\u001b[A\n",
      "\u001b[A\n",
      "\u001b[A\n",
      "\u001b[A\n",
      "\u001b[A\n",
      "\u001b[A\n",
      "\u001b[A\n",
      "\u001b[A\n",
      "\u001b[A\n",
      "\u001b[A\n",
      "\u001b[A\n",
      "\u001b[A\n",
      "\u001b[A\n",
      "\u001b[A\n",
      "\u001b[A\n",
      "\u001b[A\n",
      "\u001b[A\n",
      "\u001b[A\n",
      "\u001b[A\n",
      "\u001b[A\n",
      "\u001b[A\n",
      "\u001b[A\n",
      "\u001b[A\n",
      "\u001b[A\n",
      "\u001b[A\n",
      "\u001b[A\n",
      "\u001b[A\n",
      "\u001b[A\n",
      "\u001b[A\n",
      "\u001b[A\n",
      "\u001b[A\n",
      "\u001b[A\n",
      "\u001b[A\n",
      "\u001b[A\n",
      "\u001b[A\n",
      "\u001b[A\n",
      "\u001b[A\n",
      "\u001b[A\n",
      "\u001b[A\n",
      "\u001b[A\n",
      "\u001b[A\n",
      "\u001b[A\n",
      "\u001b[A\n",
      "\u001b[A\n",
      "\u001b[A\n",
      "\u001b[A\n",
      "\u001b[A\n",
      "\u001b[A\n",
      "\u001b[A\n",
      "\u001b[A\n",
      "\u001b[A\n",
      "\u001b[A\n",
      "\u001b[A\n",
      "\u001b[A\n",
      "\u001b[A\n",
      "\u001b[A\n",
      "\u001b[A\n",
      "\u001b[A\n",
      "\u001b[A\n",
      "\u001b[A\n",
      "\u001b[A\n",
      "\u001b[A\n",
      "\u001b[A\n",
      "\u001b[A\n",
      "\u001b[A\n",
      "\u001b[A\n",
      "\u001b[A\n",
      "\u001b[A\n",
      "\u001b[A\n",
      "\u001b[A\n",
      "\u001b[A\n",
      "\u001b[A\n",
      "\u001b[A\n",
      "\u001b[A\n",
      "\u001b[A\n",
      "\u001b[A\n",
      "\u001b[A\n",
      "\u001b[A\n",
      "\u001b[A\n",
      "\u001b[A\n",
      "\u001b[A\n",
      "\u001b[A\n",
      "\u001b[A\n",
      "\u001b[A\n",
      "\u001b[A\n",
      "\u001b[A\n",
      "\u001b[A\n",
      "\u001b[A\n",
      "\u001b[A\n",
      "Processing PIV data:  29%|██▊       | 2/7 [01:03<02:39, 31.83s/it]\n",
      "\u001b[A\n",
      "\u001b[A\n",
      "\u001b[A\n",
      "\u001b[A\n",
      "\u001b[A\n",
      "\u001b[A\n",
      "\u001b[A\n",
      "\u001b[A\n",
      "\u001b[A\n",
      "\u001b[A\n",
      "\u001b[A\n",
      "\u001b[A\n",
      "\u001b[A\n",
      "\u001b[A\n",
      "\u001b[A\n",
      "\u001b[A\n",
      "\u001b[A\n",
      "\u001b[A\n",
      "\u001b[A\n",
      "\u001b[A\n",
      "\u001b[A\n",
      "\u001b[A\n",
      "\u001b[A\n",
      "\u001b[A\n",
      "\u001b[A\n",
      "\u001b[A\n",
      "\u001b[A\n",
      "\u001b[A\n",
      "\u001b[A\n",
      "\u001b[A\n",
      "\u001b[A\n",
      "\u001b[A\n",
      "\u001b[A\n",
      "\u001b[A\n",
      "\u001b[A\n",
      "\u001b[A\n",
      "\u001b[A\n",
      "\u001b[A\n",
      "\u001b[A\n",
      "\u001b[A\n",
      "\u001b[A\n",
      "\u001b[A\n",
      "\u001b[A\n",
      "\u001b[A\n",
      "\u001b[A\n",
      "\u001b[A\n",
      "\u001b[A\n",
      "\u001b[A\n",
      "\u001b[A\n",
      "\u001b[A\n",
      "\u001b[A\n",
      "\u001b[A\n",
      "\u001b[A\n",
      "\u001b[A\n",
      "\u001b[A\n",
      "\u001b[A\n",
      "\u001b[A\n",
      "\u001b[A\n",
      "\u001b[A\n",
      "\u001b[A\n",
      "\u001b[A\n",
      "\u001b[A\n",
      "\u001b[A\n",
      "\u001b[A\n",
      "\u001b[A\n",
      "\u001b[A\n",
      "\u001b[A\n",
      "\u001b[A\n",
      "\u001b[A\n",
      "\u001b[A\n",
      "\u001b[A\n",
      "\u001b[A\n",
      "\u001b[A\n",
      "\u001b[A\n",
      "\u001b[A\n",
      "\u001b[A\n",
      "\u001b[A\n",
      "\u001b[A\n",
      "\u001b[A\n",
      "\u001b[A\n",
      "\u001b[A\n",
      "\u001b[A\n",
      "\u001b[A\n",
      "\u001b[A\n",
      "\u001b[A\n",
      "\u001b[A\n",
      "\u001b[A\n",
      "\u001b[A\n",
      "\u001b[A\n",
      "\u001b[A\n",
      "\u001b[A\n",
      "\u001b[A\n",
      "\u001b[A\n",
      "\u001b[A\n",
      "\u001b[A\n",
      "\u001b[A\n",
      "\u001b[A\n",
      "\u001b[A\n",
      "\u001b[A\n",
      "\u001b[A\n",
      "\u001b[A\n",
      "\u001b[A\n",
      "\u001b[A\n",
      "\u001b[A\n",
      "\u001b[A\n",
      "\u001b[A\n",
      "\u001b[A\n",
      "\u001b[A\n",
      "\u001b[A\n",
      "\u001b[A\n",
      "\u001b[A\n",
      "\u001b[A\n",
      "\u001b[A\n",
      "\u001b[A\n",
      "\u001b[A\n",
      "\u001b[A\n",
      "\u001b[A\n",
      "\u001b[A\n",
      "Processing PIV data:  43%|████▎     | 3/7 [01:35<02:06, 31.67s/it]\n",
      "\u001b[A\n",
      "\u001b[A\n",
      "\u001b[A\n",
      "\u001b[A\n",
      "\u001b[A\n",
      "\u001b[A\n",
      "\u001b[A\n",
      "\u001b[A\n",
      "\u001b[A\n",
      "\u001b[A\n",
      "\u001b[A\n",
      "\u001b[A\n",
      "\u001b[A\n",
      "\u001b[A\n",
      "\u001b[A\n",
      "\u001b[A\n",
      "\u001b[A\n",
      "\u001b[A\n",
      "\u001b[A\n",
      "\u001b[A\n",
      "\u001b[A\n",
      "\u001b[A\n",
      "\u001b[A\n",
      "\u001b[A\n",
      "\u001b[A\n",
      "\u001b[A\n",
      "\u001b[A\n",
      "\u001b[A\n",
      "\u001b[A\n",
      "\u001b[A\n",
      "\u001b[A\n",
      "\u001b[A\n",
      "\u001b[A\n",
      "\u001b[A\n",
      "\u001b[A\n",
      "\u001b[A\n",
      "\u001b[A\n",
      "\u001b[A\n",
      "\u001b[A\n",
      "\u001b[A\n",
      "\u001b[A\n",
      "\u001b[A\n",
      "\u001b[A\n",
      "\u001b[A\n",
      "Processing PIV data:  57%|█████▋    | 4/7 [01:45<01:10, 23.46s/it]\n",
      "\u001b[A\n",
      "\u001b[A\n",
      "\u001b[A\n",
      "\u001b[A\n",
      "\u001b[A\n",
      "\u001b[A\n",
      "\u001b[A\n",
      "\u001b[A\n",
      "\u001b[A\n",
      "\u001b[A\n",
      "\u001b[A\n",
      "\u001b[A\n",
      "\u001b[A\n",
      "\u001b[A\n",
      "\u001b[A\n",
      "\u001b[A\n",
      "\u001b[A\n",
      "\u001b[A\n",
      "\u001b[A\n",
      "\u001b[A\n",
      "\u001b[A\n",
      "\u001b[A\n",
      "\u001b[A\n",
      "\u001b[A\n",
      "\u001b[A\n",
      "\u001b[A\n",
      "\u001b[A\n",
      "\u001b[A\n",
      "\u001b[A\n",
      "\u001b[A\n",
      "\u001b[A\n",
      "\u001b[A\n",
      "\u001b[A\n",
      "\u001b[A\n",
      "\u001b[A\n",
      "\u001b[A\n",
      "\u001b[A\n",
      "\u001b[A\n",
      "\u001b[A\n",
      "\u001b[A\n",
      "\u001b[A\n",
      "\u001b[A\n",
      "\u001b[A\n",
      "\u001b[A\n",
      "\u001b[A\n",
      "\u001b[A\n",
      "\u001b[A\n",
      "\u001b[A\n",
      "\u001b[A\n",
      "\u001b[A\n",
      "\u001b[A\n",
      "\u001b[A\n",
      "\u001b[A\n",
      "\u001b[A\n",
      "\u001b[A\n",
      "\u001b[A\n",
      "\u001b[A\n",
      "\u001b[A\n",
      "\u001b[A\n",
      "\u001b[A\n",
      "\u001b[A\n",
      "\u001b[A\n",
      "\u001b[A\n",
      "\u001b[A\n",
      "\u001b[A\n",
      "\u001b[A\n",
      "\u001b[A\n",
      "\u001b[A\n",
      "\u001b[A\n",
      "\u001b[A\n",
      "\u001b[A\n",
      "\u001b[A\n",
      "\u001b[A\n",
      "Processing PIV data:  71%|███████▏  | 5/7 [02:04<00:43, 21.65s/it]\n",
      "\u001b[A\n",
      "\u001b[A\n",
      "\u001b[A\n",
      "\u001b[A\n",
      "\u001b[A\n",
      "\u001b[A\n",
      "\u001b[A\n",
      "\u001b[A\n",
      "\u001b[A\n",
      "\u001b[A\n",
      "\u001b[A\n",
      "\u001b[A\n",
      "\u001b[A\n",
      "\u001b[A\n",
      "\u001b[A\n",
      "\u001b[A\n",
      "\u001b[A\n",
      "\u001b[A\n",
      "\u001b[A\n",
      "\u001b[A\n",
      "\u001b[A\n",
      "\u001b[A\n",
      "\u001b[A\n",
      "\u001b[A\n",
      "\u001b[A\n",
      "\u001b[A\n",
      "\u001b[A\n",
      "\u001b[A\n",
      "\u001b[A\n",
      "\u001b[A\n",
      "\u001b[A\n",
      "\u001b[A\n",
      "\u001b[A\n",
      "\u001b[A\n",
      "\u001b[A\n",
      "\u001b[A\n",
      "\u001b[A\n",
      "\u001b[A\n",
      "\u001b[A\n",
      "\u001b[A\n",
      "\u001b[A\n",
      "\u001b[A\n",
      "\u001b[A\n",
      "\u001b[A\n",
      "\u001b[A\n",
      "\u001b[A\n",
      "\u001b[A\n",
      "\u001b[A\n",
      "\u001b[A\n",
      "\u001b[A\n",
      "\u001b[A\n",
      "\u001b[A\n",
      "\u001b[A\n",
      "\u001b[A\n",
      "\u001b[A\n",
      "\u001b[A\n",
      "\u001b[A\n",
      "\u001b[A\n",
      "\u001b[A\n",
      "\u001b[A\n",
      "\u001b[A\n",
      "\u001b[A\n",
      "\u001b[A\n",
      "\u001b[A\n",
      "\u001b[A\n",
      "\u001b[A\n",
      "\u001b[A\n",
      "\u001b[A\n",
      "\u001b[A\n",
      "\u001b[A\n",
      "\u001b[A\n",
      "\u001b[A\n",
      "\u001b[A\n",
      "\u001b[A\n",
      "\u001b[A\n",
      "\u001b[A\n",
      "\u001b[A\n",
      "\u001b[A\n",
      "\u001b[A\n",
      "\u001b[A\n",
      "\u001b[A\n",
      "\u001b[A\n",
      "\u001b[A\n",
      "\u001b[A\n",
      "\u001b[A\n",
      "\u001b[A\n",
      "\u001b[A\n",
      "\u001b[A\n",
      "\u001b[A\n",
      "\u001b[A\n",
      "\u001b[A\n",
      "\u001b[A\n",
      "\u001b[A\n",
      "\u001b[A\n",
      "\u001b[A\n",
      "\u001b[A\n",
      "\u001b[A\n",
      "\u001b[A\n",
      "\u001b[A\n",
      "\u001b[A\n",
      "\u001b[A\n",
      "\u001b[A\n",
      "\u001b[A\n",
      "\u001b[A\n",
      "\u001b[A\n",
      "\u001b[A\n",
      "\u001b[A\n",
      "\u001b[A\n",
      "\u001b[A\n",
      "\u001b[A\n",
      "\u001b[A\n",
      "\u001b[A\n",
      "\u001b[A\n",
      "\u001b[A\n",
      "\u001b[A\n",
      "\u001b[A\n",
      "\u001b[A\n",
      "\u001b[A\n",
      "\u001b[A\n",
      "\u001b[A\n",
      "\u001b[A\n",
      "\u001b[A\n",
      "\u001b[A\n",
      "\u001b[A\n",
      "\u001b[A\n",
      "\u001b[A\n",
      "\u001b[A\n",
      "\u001b[A\n",
      "\u001b[A\n",
      "\u001b[A\n",
      "\u001b[A\n",
      "\u001b[A\n",
      "\u001b[A\n",
      "\u001b[A\n",
      "\u001b[A\n",
      "\u001b[A\n",
      "\u001b[A\n",
      "\u001b[A\n",
      "\u001b[A\n",
      "\u001b[A\n",
      "\u001b[A\n",
      "\u001b[A\n",
      "\u001b[A\n",
      "\u001b[A\n",
      "\u001b[A\n",
      "\u001b[A\n",
      "\u001b[A\n",
      "\u001b[A\n",
      "\u001b[A\n",
      "\u001b[A\n",
      "\u001b[A\n",
      "\u001b[A\n",
      "\u001b[A\n",
      "\u001b[A\n",
      "\u001b[A\n",
      "\u001b[A\n",
      "\u001b[A\n",
      "\u001b[A\n",
      "\u001b[A\n",
      "\u001b[A\n",
      "\u001b[A\n",
      "\u001b[A\n",
      "\u001b[A\n",
      "\u001b[A\n",
      "\u001b[A\n",
      "\u001b[A\n",
      "\u001b[A\n",
      "\u001b[A\n",
      "\u001b[A\n",
      "\u001b[A\n",
      "\u001b[A\n",
      "\u001b[A\n",
      "\u001b[A\n",
      "\u001b[A\n",
      "\u001b[A\n",
      "\u001b[A\n",
      "\u001b[A\n",
      "\u001b[A\n",
      "\u001b[A\n",
      "\u001b[A\n",
      "\u001b[A\n",
      "\u001b[A\n",
      "\u001b[A\n",
      "\u001b[A\n",
      "\u001b[A\n",
      "\u001b[A\n",
      "\u001b[A\n",
      "\u001b[A\n",
      "\u001b[A\n",
      "\u001b[A\n",
      "\u001b[A\n",
      "\u001b[A\n",
      "\u001b[A\n",
      "\u001b[A\n",
      "\u001b[A\n",
      "\u001b[A\n",
      "\u001b[A\n",
      "\u001b[A\n",
      "\u001b[A\n",
      "\u001b[A\n",
      "\u001b[A\n",
      "Processing PIV data:  86%|████████▌ | 6/7 [02:58<00:32, 32.59s/it]\n",
      "\u001b[A\n",
      "\u001b[A\n",
      "\u001b[A\n",
      "\u001b[A\n",
      "\u001b[A\n",
      "\u001b[A\n",
      "\u001b[A\n",
      "\u001b[A\n",
      "\u001b[A\n",
      "\u001b[A\n",
      "\u001b[A\n",
      "\u001b[A\n",
      "\u001b[A\n",
      "\u001b[A\n",
      "\u001b[A\n",
      "\u001b[A\n",
      "\u001b[A\n",
      "\u001b[A\n",
      "\u001b[A\n",
      "\u001b[A\n",
      "\u001b[A\n",
      "\u001b[A\n",
      "\u001b[A\n",
      "\u001b[A\n",
      "\u001b[A\n",
      "\u001b[A\n",
      "\u001b[A\n",
      "\u001b[A\n",
      "\u001b[A\n",
      "\u001b[A\n",
      "\u001b[A\n",
      "\u001b[A\n",
      "\u001b[A\n",
      "\u001b[A\n",
      "\u001b[A\n",
      "\u001b[A\n",
      "\u001b[A\n",
      "\u001b[A\n",
      "\u001b[A\n",
      "\u001b[A\n",
      "\u001b[A\n",
      "\u001b[A\n",
      "\u001b[A\n",
      "\u001b[A\n",
      "\u001b[A\n",
      "\u001b[A\n",
      "\u001b[A\n",
      "\u001b[A\n",
      "\u001b[A\n",
      "\u001b[A\n",
      "\u001b[A\n",
      "\u001b[A\n",
      "\u001b[A\n",
      "\u001b[A\n",
      "\u001b[A\n",
      "\u001b[A\n",
      "\u001b[A\n",
      "\u001b[A\n",
      "\u001b[A\n",
      "\u001b[A\n",
      "\u001b[A\n",
      "\u001b[A\n",
      "\u001b[A\n",
      "\u001b[A\n",
      "\u001b[A\n",
      "\u001b[A\n",
      "\u001b[A\n",
      "\u001b[A\n",
      "\u001b[A\n",
      "\u001b[A\n",
      "\u001b[A\n",
      "\u001b[A\n",
      "\u001b[A\n",
      "\u001b[A\n",
      "\u001b[A\n",
      "\u001b[A\n",
      "\u001b[A\n",
      "\u001b[A\n",
      "\u001b[A\n",
      "\u001b[A\n",
      "\u001b[A\n",
      "\u001b[A\n",
      "\u001b[A\n",
      "\u001b[A\n",
      "\u001b[A\n",
      "\u001b[A\n",
      "\u001b[A\n",
      "\u001b[A\n",
      "\u001b[A\n",
      "\u001b[A\n",
      "\u001b[A\n",
      "\u001b[A\n",
      "\u001b[A\n",
      "\u001b[A\n",
      "\u001b[A\n",
      "\u001b[A\n",
      "\u001b[A\n",
      "\u001b[A\n",
      "\u001b[A\n",
      "\u001b[A\n",
      "\u001b[A\n",
      "\u001b[A\n",
      "\u001b[A\n",
      "\u001b[A\n",
      "\u001b[A\n",
      "\u001b[A\n",
      "\u001b[A\n",
      "\u001b[A\n",
      "\u001b[A\n",
      "\u001b[A\n",
      "\u001b[A\n",
      "\u001b[A\n",
      "\u001b[A\n",
      "\u001b[A\n",
      "\u001b[A\n",
      "\u001b[A\n",
      "\u001b[A\n",
      "\u001b[A\n",
      "\u001b[A\n",
      "\u001b[A\n",
      "\u001b[A\n",
      "\u001b[A\n",
      "\u001b[A\n",
      "\u001b[A\n",
      "\u001b[A\n",
      "\u001b[A\n",
      "\u001b[A\n",
      "\u001b[A\n",
      "\u001b[A\n",
      "\u001b[A\n",
      "\u001b[A\n",
      "\u001b[A\n",
      "\u001b[A\n",
      "\u001b[A\n",
      "\u001b[A\n",
      "\u001b[A\n",
      "Processing PIV data: 100%|██████████| 7/7 [03:31<00:00, 30.27s/it]\n"
     ]
    }
   ],
   "source": [
    "time_interval_list = [45, 45, 45, 45*3, 45*3, 45, 45]  # time intervals in seconds between frames for each condition\n",
    "\n",
    "\n",
    "# Process PIV data\n",
    "qd.process_piv_data(\n",
    "    data_path, \n",
    "    conditions,\n",
    "    subconditions, \n",
    "    feature_limits, \n",
    "    time_interval_list, \n",
    "    min_frame=0, \n",
    "    max_frame=None, \n",
    "    skip_frames=1, \n",
    "    plot_autocorrelation=False, \n",
    "    frame_rate=1, \n",
    "    heatmaps=False\n",
    "    )\n"
   ]
  },
  {
   "cell_type": "code",
   "execution_count": 10,
   "metadata": {},
   "outputs": [
    {
     "name": "stderr",
     "output_type": "stream",
     "text": [
      "Plotting PIV features: 100%|██████████| 6/6 [00:11<00:00,  1.97s/it]\n",
      "Plotting averaged PIV features: 100%|██████████| 6/6 [00:08<00:00,  1.48s/it]\n",
      "Collecting PIV data: 100%|██████████| 6/6 [00:00<00:00, 285.77it/s]\n"
     ]
    }
   ],
   "source": [
    "# Plot features and PCA\n",
    "qd.plot_PIV_all(\n",
    "    data_path, \n",
    "    conditions,\n",
    "    subconditions, \n",
    "    features_pca, \n",
    "    min_frame=0, \n",
    "    max_frame=500\n",
    "    )\n"
   ]
  },
  {
   "cell_type": "markdown",
   "metadata": {},
   "source": [
    "### Expression + PIV"
   ]
  },
  {
   "cell_type": "code",
   "execution_count": 12,
   "metadata": {},
   "outputs": [
    {
     "name": "stderr",
     "output_type": "stream",
     "text": [
      "Conditions: 100%|██████████| 7/7 [00:00<00:00, 117.71it/s]\n"
     ]
    },
    {
     "name": "stdout",
     "output_type": "stream",
     "text": [
      "Combined DataFrame saved to: ../../../../Thomson Lab Dropbox/David Larios/activedrops/ubuntu/091024-sustainedMotors-RT/2p5TMB-1ulDNA100nM_/output_data/combined_PIV.csv\n"
     ]
    }
   ],
   "source": [
    "# Combine the data and save it to the \"output_data\" directory\n",
    "qd.combine_averaged_dataframes(data_path, conditions, subconditions)\n"
   ]
  },
  {
   "cell_type": "code",
   "execution_count": 13,
   "metadata": {},
   "outputs": [
    {
     "name": "stdout",
     "output_type": "stream",
     "text": [
      "Merged DataFrame saved to: ../../../../Thomson Lab Dropbox/David Larios/activedrops/ubuntu/091024-sustainedMotors-RT/2p5TMB-1ulDNA100nM_/output_data/merged_expression_PIV.csv\n"
     ]
    }
   ],
   "source": [
    "qd.merge_expression_piv_data(data_path)\n"
   ]
  },
  {
   "cell_type": "code",
   "execution_count": 21,
   "metadata": {},
   "outputs": [
    {
     "name": "stdout",
     "output_type": "stream",
     "text": [
      "Combined plot saved at ../../../../Thomson Lab Dropbox/David Larios/activedrops/ubuntu/091024-sustainedMotors-RT/2p5TMB-1ulDNA100nM_/output_data/expression_piv_plots/time_(h)_vs_distance_m_mean_All_Conditions.png\n"
     ]
    }
   ],
   "source": [
    "# x_column = \"time (h)\"  # Example x-axis column\n",
    "# y_column = \"Protein Concentration_nM\"  # Example y-axis column\n",
    "\n",
    "\n",
    "# x_column = \"Protein Concentration_nM\"  # Example y-axis column\n",
    "# y_column = \"velocity magnitude [m/s]_mean\"  # Example y-axis column\n",
    "\n",
    "# x_column = \"time (h)\"  # Example x-axis column\n",
    "# y_column = \"velocity magnitude [m/s]_mean\"  # Example y-axis column\n",
    "\n",
    "# x_column = \"time (h)\"  # Example x-axis column\n",
    "# y_column = \"power [W]_mean\"  # Example y-axis column\n",
    "\n",
    "# x_column = \"time (h)\"  # Example x-axis column\n",
    "# y_column = \"work [J]_mean\"  # Example y-axis column\n",
    "\n",
    "x_column = \"time (h)\"  # Example x-axis column\n",
    "y_column = \"distance [m]_mean\"  # Example y-axis column\n",
    "\n",
    "\n",
    "qd.plot_expression_piv(\n",
    "    data_path,\n",
    "    conditions,\n",
    "    x_column, \n",
    "    y_column, \n",
    "    sigma_x=0.1, \n",
    "    sigma_y=10, \n",
    "    x_log=False, \n",
    "    y_log=True, \n",
    "    min_frame=0, \n",
    "    max_frame=None, \n",
    "    individual_plots=False\n",
    "    )"
   ]
  },
  {
   "cell_type": "code",
   "execution_count": 16,
   "metadata": {},
   "outputs": [
    {
     "name": "stdout",
     "output_type": "stream",
     "text": [
      "Available columns in the DataFrame: Index(['condition', 'subcondition', 'time (s)', 'Time_min', 'Time_h',\n",
      "       'Mean Intensity', 'Protein Concentration_ng_ul',\n",
      "       'Protein Concentration_nM', 'Number of Protein Molecules',\n",
      "       'Rate of Change of Protein Molecules per Second',\n",
      "       'Translation Rate aa_s', 'Unnamed: 0', 'frame', 'x [m]_mean',\n",
      "       'y [m]_mean', 'u [m/s]_mean', 'v [m/s]_mean', 'data type [-]_mean',\n",
      "       'vorticity [1/s]_mean', 'velocity magnitude [m/s]_mean',\n",
      "       'divergence [1/s]_mean', 'dcev [1]_mean', 'shear [1/s]_mean',\n",
      "       'strain [1/s]_mean', 'vector direction [degrees]_mean',\n",
      "       'correlation length [m]_mean', 'distance [m]_mean', 'power [W]_mean',\n",
      "       'work [J]_mean', 'time (min)', 'time (h)'],\n",
      "      dtype='object')\n",
      "PCA plot with gradient lines saved at ../../../../Thomson Lab Dropbox/David Larios/activedrops/main/090824-sustainedMotors-29C/2p5TMB-1ulDNA100nM_2/output_data/expression_piv_plots/PCA_plot_all_conditions_gradient.jpg\n",
      "Individual PCA plot for AcSu-29C_Rep1 saved at ../../../../Thomson Lab Dropbox/David Larios/activedrops/main/090824-sustainedMotors-29C/2p5TMB-1ulDNA100nM_2/output_data/expression_piv_plots/PCA_plot_AcSu-29C_Rep1_gradient.jpg\n",
      "Individual PCA plot for AdPa-29C_Rep1 saved at ../../../../Thomson Lab Dropbox/David Larios/activedrops/main/090824-sustainedMotors-29C/2p5TMB-1ulDNA100nM_2/output_data/expression_piv_plots/PCA_plot_AdPa-29C_Rep1_gradient.jpg\n",
      "Individual PCA plot for DiPu-29C_Rep1 saved at ../../../../Thomson Lab Dropbox/David Larios/activedrops/main/090824-sustainedMotors-29C/2p5TMB-1ulDNA100nM_2/output_data/expression_piv_plots/PCA_plot_DiPu-29C_Rep1_gradient.jpg\n",
      "Individual PCA plot for Kif5-29C_Rep1 saved at ../../../../Thomson Lab Dropbox/David Larios/activedrops/main/090824-sustainedMotors-29C/2p5TMB-1ulDNA100nM_2/output_data/expression_piv_plots/PCA_plot_Kif5-29C_Rep1_gradient.jpg\n",
      "Individual PCA plot for ThTr-29C_Rep1 saved at ../../../../Thomson Lab Dropbox/David Larios/activedrops/main/090824-sustainedMotors-29C/2p5TMB-1ulDNA100nM_2/output_data/expression_piv_plots/PCA_plot_ThTr-29C_Rep1_gradient.jpg\n",
      "Individual PCA plot for TiLa-29C_Rep1 saved at ../../../../Thomson Lab Dropbox/David Larios/activedrops/main/090824-sustainedMotors-29C/2p5TMB-1ulDNA100nM_2/output_data/expression_piv_plots/PCA_plot_TiLa-29C_Rep1_gradient.jpg\n"
     ]
    }
   ],
   "source": [
    "\n",
    "# List of features for PCA\n",
    "features_pca = [\n",
    "    \"vorticity [1/s]_mean\",\n",
    "    \"velocity magnitude [m/s]_mean\",\n",
    "    \"distance [m]_mean\",\n",
    "    \"divergence [1/s]_mean\",\n",
    "    \"shear [1/s]_mean\",\n",
    "    \"strain [1/s]_mean\",\n",
    "    \"correlation length [m]_mean\", \n",
    "    \"power [W]_mean\",\n",
    "    \"work [J]_mean\",\n",
    "    'vector direction [degrees]_mean',\n",
    "    \"Protein Concentration_nM\", \n",
    "    'time (min)'\n",
    "]\n",
    "\n",
    "# Run PCA and save plot (with all conditions and subconditions in the same plot)\n",
    "qd.plot_pca_expression_piv(data_path, conditions=conditions, subconditions=subconditions, features=features_pca, sigma=1)\n"
   ]
  },
  {
   "cell_type": "code",
   "execution_count": null,
   "metadata": {},
   "outputs": [],
   "source": [
    "\n",
    "# Example usage\n",
    "qd.delete_outputs(data_path, conditions, subconditions, output_dirs=None)\n"
   ]
  },
  {
   "cell_type": "code",
   "execution_count": null,
   "metadata": {},
   "outputs": [],
   "source": []
  }
 ],
 "metadata": {
  "kernelspec": {
   "display_name": "base",
   "language": "python",
   "name": "python3"
  },
  "language_info": {
   "codemirror_mode": {
    "name": "ipython",
    "version": 3
   },
   "file_extension": ".py",
   "mimetype": "text/x-python",
   "name": "python",
   "nbconvert_exporter": "python",
   "pygments_lexer": "ipython3",
   "version": "3.11.5"
  }
 },
 "nbformat": 4,
 "nbformat_minor": 2
}
